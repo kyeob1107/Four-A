{
 "cells": [
  {
   "cell_type": "markdown",
   "metadata": {},
   "source": [
    "# 초반 세팅 부분(데이터 타입 최적화)"
   ]
  },
  {
   "cell_type": "markdown",
   "metadata": {},
   "source": [
    "## 데이터 불러와서 미리 살펴본 데이터의 형태에 맞게 데이터 타입 변환\n",
    "그리고 parquet파일로 저장"
   ]
  },
  {
   "cell_type": "code",
   "execution_count": null,
   "metadata": {},
   "outputs": [],
   "source": [
    "import os\n",
    "from glob import glob\n",
    "\n",
    "import pandas as pd\n",
    "from tqdm.auto import tqdm\n",
    "\n",
    "# directory = \"../dataset/Looker Ecommerce BigQuery Dataset/*.csv\"\n",
    "def data_set_open_dictionary(directory):\n",
    "    # 파일 데이터를 저장할 빈 사전 초기화\n",
    "    file_dict = {}\n",
    "\n",
    "    for file_path in tqdm(glob(directory)):\n",
    "        standardized_path = os.path.normpath(file_path)\n",
    "        file_name = standardized_path.split(os.sep)[-1].replace(\".csv\", \"\")\n",
    "        # 파일명을 키로 하여 데이터프레임을 사전에 저장\n",
    "        file_dict[file_name] = pd.read_csv(file_path)\n",
    "\n",
    "    return file_dict\n",
    "\n",
    "def data_set_display(file_dict):\n",
    "    for df in tqdm(file_dict):\n",
    "        print(df)\n",
    "        file_dict[df].info()\n",
    "        display(file_dict[df].head(3))"
   ]
  },
  {
   "cell_type": "code",
   "execution_count": null,
   "metadata": {},
   "outputs": [],
   "source": [
    "typechange_dict ={\n",
    "    \"distribution_centers\": \n",
    "        {\n",
    "        \"int32_cols\": [],\n",
    "        \"int16_cols\": [],\n",
    "        \"int8_cols\": [\"id\"],\n",
    "        \"float32_cols\": [\"latitude\", \"longitude\"],\n",
    "        \"cate_cols\": [\"name\"]\n",
    "        }, \n",
    "    \"events\": \n",
    "        {\n",
    "        \"int32_cols\": [\"id\",\"user_id\"],\n",
    "        \"int16_cols\": [],\n",
    "        \"int8_cols\": [\"sequence_number\"],\n",
    "        \"float32_cols\": [],\n",
    "        \"cate_cols\": [\"city\", \"state\", \"browser\", \"traffic_source\", \"event_type\"]\n",
    "        },\n",
    "    \"inventory_items\": \n",
    "        {\n",
    "        \"int32_cols\": [\"id\"],\n",
    "        \"int16_cols\": [\"product_id\"],\n",
    "        \"int8_cols\": [\"product_distribution_center_id\"],\n",
    "        \"float32_cols\": [],\n",
    "        \"cate_cols\": [\"product_category\", \"product_brand\", \"product_department\"]\n",
    "        },\n",
    "    \"orders\": \n",
    "        {\n",
    "        \"int32_cols\": [\"order_id\", \"user_id\"],\n",
    "        \"int16_cols\": [],\n",
    "        \"int8_cols\": [\"num_of_item\"],\n",
    "        \"float32_cols\": [],\n",
    "        \"cate_cols\": [\"status\", \"gender\"]\n",
    "        },\n",
    "    \"order_items\": \n",
    "        {\n",
    "        \"int32_cols\": [\"id\", \"order_id\", \"user_id\", \"inventory_item_id\"],\n",
    "        \"int16_cols\": [\"product_id\"],\n",
    "        \"int8_cols\": [],\n",
    "        \"float32_cols\": [\"sale_price\"],\n",
    "        \"cate_cols\": [\"status\"]\n",
    "        },\n",
    "    \"products\": \n",
    "        {\n",
    "        \"int32_cols\": [],\n",
    "        \"int16_cols\": [\"id\"],\n",
    "        \"int8_cols\": [\"distribution_center_id\"],\n",
    "        \"float32_cols\": [\"cost\", \"retail_price\"],\n",
    "        \"cate_cols\": [\"category\", \"brand\", \"department\"]\n",
    "        },\n",
    "    \"users\": \n",
    "        {\n",
    "        \"int32_cols\": [\"id\"],\n",
    "        \"int16_cols\": [],\n",
    "        \"int8_cols\": [\"age\"],\n",
    "        \"float32_cols\": [\"latitude\", \"longitude\"],\n",
    "        \"cate_cols\": [\"first_name\", \"last_name\", \"gender\", \"state\", \"city\", \"country\", \"traffic_source\"]\n",
    "        },\n",
    "    }\n",
    "type_value = {\"int32_cols\": 2_147_483_647, \"int16\": 32_727, \"int8_cols\": 127, \"float16_cols\": 65_504, \"cate_cols\": 10_000}"
   ]
  },
  {
   "cell_type": "code",
   "execution_count": null,
   "metadata": {},
   "outputs": [],
   "source": [
    "directory = \"../dataset/Looker Ecommerce BigQuery Dataset/*.csv\"\n",
    "\n",
    "file_dict = data_set_open_dictionary(directory)"
   ]
  },
  {
   "cell_type": "code",
   "execution_count": null,
   "metadata": {},
   "outputs": [],
   "source": [
    "for df_name, df in tqdm(file_dict.items()):\n",
    "    memory_usage_before = df.memory_usage().sum()\n",
    "    df. info()\n",
    "    # datetime 바꾸기\n",
    "    for col_datetime in df.columns[df.columns.str.endswith('_at')]:\n",
    "        df[col_datetime] = pd.to_datetime(df[col_datetime], yearfirst=True, format=\"mixed\", utc=True)\n",
    "        \n",
    "    df.info()\n",
    "    for type_name, cols in typechange_dict[df_name].items():\n",
    "        if type_name == \"int32_cols\":\n",
    "            for col in cols:\n",
    "                assert abs(df[col].max()) < 2_147_483_647 \n",
    "                df[col] = df[col].astype(pd.Int32Dtype())\n",
    "                # df.info()\n",
    "        elif type_name == \"int16_cols\":\n",
    "            for col in cols:\n",
    "                assert abs(df[col].max()) < 2_147_483_647 \n",
    "                df[col] = df[col].astype(pd.Int16Dtype())\n",
    "                # df.info()\n",
    "        elif type_name == \"int8_cols\":\n",
    "            for col in cols:\n",
    "                assert abs(df[col].max()) < 127\n",
    "                df[col] = df[col].astype(pd.Int8Dtype())\n",
    "                # df.info()\n",
    "        elif type_name == \"float16_cols\":\n",
    "            for col in cols:\n",
    "                assert abs(df[col].max()) < 3.4e38\n",
    "                df[col] = df[col].astype(pd.Float32Dtype())\n",
    "                # df.info()\n",
    "        elif type_name == \"cate_cols\":\n",
    "            for col in cols:\n",
    "                assert df[col].nunique() < 10_000\n",
    "                df[col] = df[col].astype(\"category\")\n",
    "                # df.info()\n",
    "    df.info()\n",
    "    memory_usage_after = df.memory_usage().sum()\n",
    "    reduction_ratio = 1 - (memory_usage_after / memory_usage_before)\n",
    "\n",
    "    print(f\"Memory Usage: {memory_usage_before:,} -> {memory_usage_after:,} ({reduction_ratio*100:.2f}% reduced)\")\n",
    "    \n",
    "    df.to_parquet(f\"../dataset/Looker Ecommerce BigQuery Dataset/Optimization/{df_name}_optimized.parquet\")\n",
    "    # df.to_csv(f\"../dataset/Looker Ecommerce BigQuery Dataset/Optimization/{df_name}_optimized.csv\")"
   ]
  },
  {
   "cell_type": "markdown",
   "metadata": {},
   "source": [
    "## 데이터 정보 확인해보기\n",
    "데이터 종류 몇가지 있는지, 크기 몇부터 몇까지인지, 날짜 몇부터 몇까지 있는지"
   ]
  },
  {
   "cell_type": "code",
   "execution_count": null,
   "metadata": {},
   "outputs": [],
   "source": [
    "def type_check(df):\n",
    "    for col, data_type in df.dtypes.items():\n",
    "        if data_type in (\"object\", \"category\"):\n",
    "            ser_target = df[col].value_counts()\n",
    "            print(f\"{col}({data_type}): {len(ser_target):,}가지\")\n",
    "        elif data_type in (\"float\", \"int\", \"int64\",\"Int8\", \"Int16\", \"Int32\"):\n",
    "            max_value = df[col].max()\n",
    "            min_value = df[col].min()\n",
    "            if (((df[col].dropna() % 1) != 0).sum() == 0) or (data_type == \"int\"):\n",
    "                target_data_type = \"int\"\n",
    "            else:\n",
    "                target_data_type = \"float\"\n",
    "            print(f\"{col}({target_data_type}): {min_value:,.2f} ~ {max_value:,.2f}\")\n",
    "        elif data_type in (\"datetime64[ns]\", \"datetime64[ns, UTC]\"):\n",
    "            max_date = df[col].max()\n",
    "            min_date = df[col].min()\n",
    "            print(f\"{col}({data_type}): {min_date} ~ {max_date}\")\n",
    "        else:\n",
    "            raise Exception(\"New data type:\", data_type)"
   ]
  },
  {
   "cell_type": "code",
   "execution_count": null,
   "metadata": {},
   "outputs": [],
   "source": [
    "for i, df in file_dict.items():\n",
    "    print(i)\n",
    "    type_check(df)\n",
    "    df.info()\n",
    "    print(\"---------------------------\")"
   ]
  },
  {
   "cell_type": "markdown",
   "metadata": {},
   "source": [
    "# 컬럼명 변경"
   ]
  },
  {
   "cell_type": "code",
   "execution_count": null,
   "metadata": {},
   "outputs": [],
   "source": [
    "# df.to_parquet(f\"../dataset/Looker Ecommerce BigQuery Dataset/Optimization/{df_name}_optimized.parquet\")"
   ]
  }
 ],
 "metadata": {
  "kernelspec": {
   "display_name": "Python 3",
   "language": "python",
   "name": "python3"
  },
  "language_info": {
   "name": "python",
   "version": "3.8.6"
  }
 },
 "nbformat": 4,
 "nbformat_minor": 2
}
