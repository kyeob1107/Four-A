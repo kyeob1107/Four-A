{
 "cells": [
  {
   "cell_type": "code",
   "execution_count": 120,
   "metadata": {},
   "outputs": [],
   "source": [
    "import datetime as dt\n",
    "import numpy as np\n",
    "import pandas as pd\n",
    "import matplotlib.pyplot as plt\n",
    "import seaborn as sns\n",
    "from sklearn.cluster import KMeans\n",
    "from sklearn.preprocessing import MinMaxScaler\n",
    "from sklearn.preprocessing import StandardScaler\n",
    "import plotly.express as px\n",
    "from matplotlib import rc\n",
    "rc('font', family='AppleGothic')\n",
    "plt.rcParams['axes.unicode_minus'] = False"
   ]
  },
  {
   "cell_type": "code",
   "execution_count": 121,
   "metadata": {},
   "outputs": [
    {
     "data": {
      "text/html": [
       "<div>\n",
       "<style scoped>\n",
       "    .dataframe tbody tr th:only-of-type {\n",
       "        vertical-align: middle;\n",
       "    }\n",
       "\n",
       "    .dataframe tbody tr th {\n",
       "        vertical-align: top;\n",
       "    }\n",
       "\n",
       "    .dataframe thead th {\n",
       "        text-align: right;\n",
       "    }\n",
       "</style>\n",
       "<table border=\"1\" class=\"dataframe\">\n",
       "  <thead>\n",
       "    <tr style=\"text-align: right;\">\n",
       "      <th></th>\n",
       "      <th>GoodsCode</th>\n",
       "      <th>Category</th>\n",
       "      <th>OriginalPrice</th>\n",
       "      <th>Inventory</th>\n",
       "    </tr>\n",
       "  </thead>\n",
       "  <tbody>\n",
       "    <tr>\n",
       "      <th>0</th>\n",
       "      <td>1000</td>\n",
       "      <td>Books</td>\n",
       "      <td>12580</td>\n",
       "      <td>4452</td>\n",
       "    </tr>\n",
       "    <tr>\n",
       "      <th>1</th>\n",
       "      <td>1001</td>\n",
       "      <td>Health &amp; Beauty</td>\n",
       "      <td>21530</td>\n",
       "      <td>2308</td>\n",
       "    </tr>\n",
       "    <tr>\n",
       "      <th>2</th>\n",
       "      <td>1002</td>\n",
       "      <td>Home &amp; Garden</td>\n",
       "      <td>22800</td>\n",
       "      <td>5177</td>\n",
       "    </tr>\n",
       "    <tr>\n",
       "      <th>3</th>\n",
       "      <td>1003</td>\n",
       "      <td>Health &amp; Beauty</td>\n",
       "      <td>22910</td>\n",
       "      <td>9705</td>\n",
       "    </tr>\n",
       "    <tr>\n",
       "      <th>4</th>\n",
       "      <td>1004</td>\n",
       "      <td>Health &amp; Beauty</td>\n",
       "      <td>12780</td>\n",
       "      <td>7852</td>\n",
       "    </tr>\n",
       "    <tr>\n",
       "      <th>...</th>\n",
       "      <td>...</td>\n",
       "      <td>...</td>\n",
       "      <td>...</td>\n",
       "      <td>...</td>\n",
       "    </tr>\n",
       "    <tr>\n",
       "      <th>495</th>\n",
       "      <td>1495</td>\n",
       "      <td>Electronics</td>\n",
       "      <td>137560</td>\n",
       "      <td>4714</td>\n",
       "    </tr>\n",
       "    <tr>\n",
       "      <th>496</th>\n",
       "      <td>1496</td>\n",
       "      <td>Home &amp; Garden</td>\n",
       "      <td>10520</td>\n",
       "      <td>1529</td>\n",
       "    </tr>\n",
       "    <tr>\n",
       "      <th>497</th>\n",
       "      <td>1497</td>\n",
       "      <td>Electronics</td>\n",
       "      <td>40260</td>\n",
       "      <td>3958</td>\n",
       "    </tr>\n",
       "    <tr>\n",
       "      <th>498</th>\n",
       "      <td>1498</td>\n",
       "      <td>Electronics</td>\n",
       "      <td>54950</td>\n",
       "      <td>8904</td>\n",
       "    </tr>\n",
       "    <tr>\n",
       "      <th>499</th>\n",
       "      <td>1499</td>\n",
       "      <td>Electronics</td>\n",
       "      <td>33180</td>\n",
       "      <td>4591</td>\n",
       "    </tr>\n",
       "  </tbody>\n",
       "</table>\n",
       "<p>500 rows × 4 columns</p>\n",
       "</div>"
      ],
      "text/plain": [
       "     GoodsCode         Category  OriginalPrice  Inventory\n",
       "0         1000            Books          12580       4452\n",
       "1         1001  Health & Beauty          21530       2308\n",
       "2         1002    Home & Garden          22800       5177\n",
       "3         1003  Health & Beauty          22910       9705\n",
       "4         1004  Health & Beauty          12780       7852\n",
       "..         ...              ...            ...        ...\n",
       "495       1495      Electronics         137560       4714\n",
       "496       1496    Home & Garden          10520       1529\n",
       "497       1497      Electronics          40260       3958\n",
       "498       1498      Electronics          54950       8904\n",
       "499       1499      Electronics          33180       4591\n",
       "\n",
       "[500 rows x 4 columns]"
      ]
     },
     "execution_count": 121,
     "metadata": {},
     "output_type": "execute_result"
    }
   ],
   "source": [
    "inventory = pd.read_parquet('/Users/hj/Documents/Four-A/2nd dataset/khj/data/inventory_optimized.parquet')\n",
    "inventory"
   ]
  },
  {
   "cell_type": "code",
   "execution_count": 122,
   "metadata": {},
   "outputs": [
    {
     "data": {
      "text/html": [
       "<div>\n",
       "<style scoped>\n",
       "    .dataframe tbody tr th:only-of-type {\n",
       "        vertical-align: middle;\n",
       "    }\n",
       "\n",
       "    .dataframe tbody tr th {\n",
       "        vertical-align: top;\n",
       "    }\n",
       "\n",
       "    .dataframe thead th {\n",
       "        text-align: right;\n",
       "    }\n",
       "</style>\n",
       "<table border=\"1\" class=\"dataframe\">\n",
       "  <thead>\n",
       "    <tr style=\"text-align: right;\">\n",
       "      <th></th>\n",
       "      <th>CustomerID</th>\n",
       "      <th>ActionType</th>\n",
       "      <th>GoodsCode</th>\n",
       "      <th>Price</th>\n",
       "      <th>AdID</th>\n",
       "      <th>CPC</th>\n",
       "      <th>Timestamp</th>\n",
       "      <th>GoodsCode_ad</th>\n",
       "      <th>eval_type</th>\n",
       "    </tr>\n",
       "  </thead>\n",
       "  <tbody>\n",
       "    <tr>\n",
       "      <th>0</th>\n",
       "      <td>4</td>\n",
       "      <td>view</td>\n",
       "      <td>1492</td>\n",
       "      <td>15020</td>\n",
       "      <td>NaN</td>\n",
       "      <td>NaN</td>\n",
       "      <td>2022-07-04 15:11:42.511967</td>\n",
       "      <td>-1</td>\n",
       "      <td>not_ad_view</td>\n",
       "    </tr>\n",
       "    <tr>\n",
       "      <th>1</th>\n",
       "      <td>4</td>\n",
       "      <td>view</td>\n",
       "      <td>1492</td>\n",
       "      <td>15020</td>\n",
       "      <td>NaN</td>\n",
       "      <td>NaN</td>\n",
       "      <td>2022-07-24 14:44:40.511967</td>\n",
       "      <td>-1</td>\n",
       "      <td>not_ad_view</td>\n",
       "    </tr>\n",
       "    <tr>\n",
       "      <th>0</th>\n",
       "      <td>6</td>\n",
       "      <td>view</td>\n",
       "      <td>1415</td>\n",
       "      <td>12980</td>\n",
       "      <td>NaN</td>\n",
       "      <td>NaN</td>\n",
       "      <td>2022-04-22 15:49:44.166991</td>\n",
       "      <td>-1</td>\n",
       "      <td>not_ad_view</td>\n",
       "    </tr>\n",
       "    <tr>\n",
       "      <th>1</th>\n",
       "      <td>6</td>\n",
       "      <td>purchase</td>\n",
       "      <td>1437</td>\n",
       "      <td>35290</td>\n",
       "      <td>NaN</td>\n",
       "      <td>NaN</td>\n",
       "      <td>2022-04-26 21:46:00.166991</td>\n",
       "      <td>-1</td>\n",
       "      <td>not_ad_purchase</td>\n",
       "    </tr>\n",
       "    <tr>\n",
       "      <th>2</th>\n",
       "      <td>6</td>\n",
       "      <td>view</td>\n",
       "      <td>1217</td>\n",
       "      <td>16220</td>\n",
       "      <td>NaN</td>\n",
       "      <td>NaN</td>\n",
       "      <td>2022-05-03 14:26:12.811783</td>\n",
       "      <td>-1</td>\n",
       "      <td>not_ad_view</td>\n",
       "    </tr>\n",
       "    <tr>\n",
       "      <th>...</th>\n",
       "      <td>...</td>\n",
       "      <td>...</td>\n",
       "      <td>...</td>\n",
       "      <td>...</td>\n",
       "      <td>...</td>\n",
       "      <td>...</td>\n",
       "      <td>...</td>\n",
       "      <td>...</td>\n",
       "      <td>...</td>\n",
       "    </tr>\n",
       "    <tr>\n",
       "      <th>28</th>\n",
       "      <td>899999</td>\n",
       "      <td>view</td>\n",
       "      <td>1059</td>\n",
       "      <td>21230</td>\n",
       "      <td>NaN</td>\n",
       "      <td>NaN</td>\n",
       "      <td>2022-05-22 12:51:15.722389</td>\n",
       "      <td>-1</td>\n",
       "      <td>not_ad_view</td>\n",
       "    </tr>\n",
       "    <tr>\n",
       "      <th>29</th>\n",
       "      <td>899999</td>\n",
       "      <td>basket</td>\n",
       "      <td>1059</td>\n",
       "      <td>21230</td>\n",
       "      <td>NaN</td>\n",
       "      <td>NaN</td>\n",
       "      <td>2022-05-23 01:28:11.722389</td>\n",
       "      <td>-1</td>\n",
       "      <td>not_ad_basket</td>\n",
       "    </tr>\n",
       "    <tr>\n",
       "      <th>30</th>\n",
       "      <td>899999</td>\n",
       "      <td>view</td>\n",
       "      <td>1059</td>\n",
       "      <td>21230</td>\n",
       "      <td>NaN</td>\n",
       "      <td>NaN</td>\n",
       "      <td>2022-05-24 04:40:26.722389</td>\n",
       "      <td>-1</td>\n",
       "      <td>not_ad_view</td>\n",
       "    </tr>\n",
       "    <tr>\n",
       "      <th>31</th>\n",
       "      <td>899999</td>\n",
       "      <td>purchase</td>\n",
       "      <td>1034</td>\n",
       "      <td>12910</td>\n",
       "      <td>NaN</td>\n",
       "      <td>NaN</td>\n",
       "      <td>2022-06-20 03:40:43.722389</td>\n",
       "      <td>-1</td>\n",
       "      <td>not_ad_purchase</td>\n",
       "    </tr>\n",
       "    <tr>\n",
       "      <th>32</th>\n",
       "      <td>899999</td>\n",
       "      <td>view</td>\n",
       "      <td>1168</td>\n",
       "      <td>91680</td>\n",
       "      <td>NaN</td>\n",
       "      <td>NaN</td>\n",
       "      <td>2022-06-23 08:16:44.304854</td>\n",
       "      <td>-1</td>\n",
       "      <td>not_ad_view</td>\n",
       "    </tr>\n",
       "  </tbody>\n",
       "</table>\n",
       "<p>3096931 rows × 9 columns</p>\n",
       "</div>"
      ],
      "text/plain": [
       "    CustomerID ActionType  GoodsCode  Price AdID  CPC  \\\n",
       "0            4       view       1492  15020  NaN  NaN   \n",
       "1            4       view       1492  15020  NaN  NaN   \n",
       "0            6       view       1415  12980  NaN  NaN   \n",
       "1            6   purchase       1437  35290  NaN  NaN   \n",
       "2            6       view       1217  16220  NaN  NaN   \n",
       "..         ...        ...        ...    ...  ...  ...   \n",
       "28      899999       view       1059  21230  NaN  NaN   \n",
       "29      899999     basket       1059  21230  NaN  NaN   \n",
       "30      899999       view       1059  21230  NaN  NaN   \n",
       "31      899999   purchase       1034  12910  NaN  NaN   \n",
       "32      899999       view       1168  91680  NaN  NaN   \n",
       "\n",
       "                    Timestamp  GoodsCode_ad        eval_type  \n",
       "0  2022-07-04 15:11:42.511967            -1      not_ad_view  \n",
       "1  2022-07-24 14:44:40.511967            -1      not_ad_view  \n",
       "0  2022-04-22 15:49:44.166991            -1      not_ad_view  \n",
       "1  2022-04-26 21:46:00.166991            -1  not_ad_purchase  \n",
       "2  2022-05-03 14:26:12.811783            -1      not_ad_view  \n",
       "..                        ...           ...              ...  \n",
       "28 2022-05-22 12:51:15.722389            -1      not_ad_view  \n",
       "29 2022-05-23 01:28:11.722389            -1    not_ad_basket  \n",
       "30 2022-05-24 04:40:26.722389            -1      not_ad_view  \n",
       "31 2022-06-20 03:40:43.722389            -1  not_ad_purchase  \n",
       "32 2022-06-23 08:16:44.304854            -1      not_ad_view  \n",
       "\n",
       "[3096931 rows x 9 columns]"
      ]
     },
     "execution_count": 122,
     "metadata": {},
     "output_type": "execute_result"
    }
   ],
   "source": [
    "log = pd.read_parquet('/Users/hj/Documents/Four-A/2nd dataset/khj/data/log_eval_df.parquet')  ## 승엽님이 뽑아준\n",
    "log\n"
   ]
  },
  {
   "cell_type": "code",
   "execution_count": 231,
   "metadata": {},
   "outputs": [],
   "source": [
    "log.to_csv(\"log.csv\", index=False)"
   ]
  },
  {
   "cell_type": "code",
   "execution_count": 123,
   "metadata": {},
   "outputs": [
    {
     "data": {
      "text/html": [
       "<div>\n",
       "<style scoped>\n",
       "    .dataframe tbody tr th:only-of-type {\n",
       "        vertical-align: middle;\n",
       "    }\n",
       "\n",
       "    .dataframe tbody tr th {\n",
       "        vertical-align: top;\n",
       "    }\n",
       "\n",
       "    .dataframe thead th {\n",
       "        text-align: right;\n",
       "    }\n",
       "</style>\n",
       "<table border=\"1\" class=\"dataframe\">\n",
       "  <thead>\n",
       "    <tr style=\"text-align: right;\">\n",
       "      <th></th>\n",
       "      <th>CustomerID</th>\n",
       "      <th>cluster_plus</th>\n",
       "    </tr>\n",
       "  </thead>\n",
       "  <tbody>\n",
       "    <tr>\n",
       "      <th>0</th>\n",
       "      <td>6</td>\n",
       "      <td>4</td>\n",
       "    </tr>\n",
       "    <tr>\n",
       "      <th>3</th>\n",
       "      <td>8</td>\n",
       "      <td>2</td>\n",
       "    </tr>\n",
       "    <tr>\n",
       "      <th>6</th>\n",
       "      <td>13</td>\n",
       "      <td>4</td>\n",
       "    </tr>\n",
       "    <tr>\n",
       "      <th>9</th>\n",
       "      <td>14</td>\n",
       "      <td>4</td>\n",
       "    </tr>\n",
       "    <tr>\n",
       "      <th>14</th>\n",
       "      <td>17</td>\n",
       "      <td>1</td>\n",
       "    </tr>\n",
       "    <tr>\n",
       "      <th>...</th>\n",
       "      <td>...</td>\n",
       "      <td>...</td>\n",
       "    </tr>\n",
       "    <tr>\n",
       "      <th>458758</th>\n",
       "      <td>899973</td>\n",
       "      <td>0</td>\n",
       "    </tr>\n",
       "    <tr>\n",
       "      <th>458759</th>\n",
       "      <td>899987</td>\n",
       "      <td>0</td>\n",
       "    </tr>\n",
       "    <tr>\n",
       "      <th>458761</th>\n",
       "      <td>899992</td>\n",
       "      <td>4</td>\n",
       "    </tr>\n",
       "    <tr>\n",
       "      <th>458764</th>\n",
       "      <td>899993</td>\n",
       "      <td>2</td>\n",
       "    </tr>\n",
       "    <tr>\n",
       "      <th>458767</th>\n",
       "      <td>899999</td>\n",
       "      <td>4</td>\n",
       "    </tr>\n",
       "  </tbody>\n",
       "</table>\n",
       "<p>176448 rows × 2 columns</p>\n",
       "</div>"
      ],
      "text/plain": [
       "        CustomerID cluster_plus\n",
       "0                6            4\n",
       "3                8            2\n",
       "6               13            4\n",
       "9               14            4\n",
       "14              17            1\n",
       "...            ...          ...\n",
       "458758      899973            0\n",
       "458759      899987            0\n",
       "458761      899992            4\n",
       "458764      899993            2\n",
       "458767      899999            4\n",
       "\n",
       "[176448 rows x 2 columns]"
      ]
     },
     "execution_count": 123,
     "metadata": {},
     "output_type": "execute_result"
    }
   ],
   "source": [
    "customer_cluster = pd.read_parquet('/Users/hj/Documents/Four-A/2nd dataset/khj/data/customer_cluster_info (1).parquet')\n",
    "customer_cluster"
   ]
  },
  {
   "cell_type": "code",
   "execution_count": 124,
   "metadata": {},
   "outputs": [
    {
     "data": {
      "text/html": [
       "<div>\n",
       "<style scoped>\n",
       "    .dataframe tbody tr th:only-of-type {\n",
       "        vertical-align: middle;\n",
       "    }\n",
       "\n",
       "    .dataframe tbody tr th {\n",
       "        vertical-align: top;\n",
       "    }\n",
       "\n",
       "    .dataframe thead th {\n",
       "        text-align: right;\n",
       "    }\n",
       "</style>\n",
       "<table border=\"1\" class=\"dataframe\">\n",
       "  <thead>\n",
       "    <tr style=\"text-align: right;\">\n",
       "      <th></th>\n",
       "      <th>CustomerID</th>\n",
       "      <th>ActionType</th>\n",
       "      <th>GoodsCode</th>\n",
       "      <th>Price</th>\n",
       "      <th>AdID</th>\n",
       "      <th>CPC</th>\n",
       "      <th>Timestamp</th>\n",
       "      <th>GoodsCode_ad</th>\n",
       "      <th>eval_type</th>\n",
       "      <th>cluster_plus</th>\n",
       "      <th>Category</th>\n",
       "      <th>OriginalPrice</th>\n",
       "      <th>Inventory</th>\n",
       "    </tr>\n",
       "  </thead>\n",
       "  <tbody>\n",
       "    <tr>\n",
       "      <th>0</th>\n",
       "      <td>4</td>\n",
       "      <td>view</td>\n",
       "      <td>1492</td>\n",
       "      <td>15020</td>\n",
       "      <td>NaN</td>\n",
       "      <td>NaN</td>\n",
       "      <td>2022-07-04 15:11:42.511967</td>\n",
       "      <td>-1</td>\n",
       "      <td>not_ad_view</td>\n",
       "      <td>NaN</td>\n",
       "      <td>Books</td>\n",
       "      <td>15020</td>\n",
       "      <td>6631</td>\n",
       "    </tr>\n",
       "    <tr>\n",
       "      <th>1</th>\n",
       "      <td>4</td>\n",
       "      <td>view</td>\n",
       "      <td>1492</td>\n",
       "      <td>15020</td>\n",
       "      <td>NaN</td>\n",
       "      <td>NaN</td>\n",
       "      <td>2022-07-24 14:44:40.511967</td>\n",
       "      <td>-1</td>\n",
       "      <td>not_ad_view</td>\n",
       "      <td>NaN</td>\n",
       "      <td>Books</td>\n",
       "      <td>15020</td>\n",
       "      <td>6631</td>\n",
       "    </tr>\n",
       "    <tr>\n",
       "      <th>2</th>\n",
       "      <td>6</td>\n",
       "      <td>view</td>\n",
       "      <td>1415</td>\n",
       "      <td>12980</td>\n",
       "      <td>NaN</td>\n",
       "      <td>NaN</td>\n",
       "      <td>2022-04-22 15:49:44.166991</td>\n",
       "      <td>-1</td>\n",
       "      <td>not_ad_view</td>\n",
       "      <td>4</td>\n",
       "      <td>Health &amp; Beauty</td>\n",
       "      <td>12980</td>\n",
       "      <td>9905</td>\n",
       "    </tr>\n",
       "    <tr>\n",
       "      <th>3</th>\n",
       "      <td>6</td>\n",
       "      <td>purchase</td>\n",
       "      <td>1437</td>\n",
       "      <td>35290</td>\n",
       "      <td>NaN</td>\n",
       "      <td>NaN</td>\n",
       "      <td>2022-04-26 21:46:00.166991</td>\n",
       "      <td>-1</td>\n",
       "      <td>not_ad_purchase</td>\n",
       "      <td>4</td>\n",
       "      <td>Home &amp; Garden</td>\n",
       "      <td>35290</td>\n",
       "      <td>3056</td>\n",
       "    </tr>\n",
       "    <tr>\n",
       "      <th>4</th>\n",
       "      <td>6</td>\n",
       "      <td>view</td>\n",
       "      <td>1217</td>\n",
       "      <td>16220</td>\n",
       "      <td>NaN</td>\n",
       "      <td>NaN</td>\n",
       "      <td>2022-05-03 14:26:12.811783</td>\n",
       "      <td>-1</td>\n",
       "      <td>not_ad_view</td>\n",
       "      <td>4</td>\n",
       "      <td>Books</td>\n",
       "      <td>16220</td>\n",
       "      <td>6429</td>\n",
       "    </tr>\n",
       "    <tr>\n",
       "      <th>...</th>\n",
       "      <td>...</td>\n",
       "      <td>...</td>\n",
       "      <td>...</td>\n",
       "      <td>...</td>\n",
       "      <td>...</td>\n",
       "      <td>...</td>\n",
       "      <td>...</td>\n",
       "      <td>...</td>\n",
       "      <td>...</td>\n",
       "      <td>...</td>\n",
       "      <td>...</td>\n",
       "      <td>...</td>\n",
       "      <td>...</td>\n",
       "    </tr>\n",
       "    <tr>\n",
       "      <th>3096926</th>\n",
       "      <td>899999</td>\n",
       "      <td>view</td>\n",
       "      <td>1059</td>\n",
       "      <td>21230</td>\n",
       "      <td>NaN</td>\n",
       "      <td>NaN</td>\n",
       "      <td>2022-05-22 12:51:15.722389</td>\n",
       "      <td>-1</td>\n",
       "      <td>not_ad_view</td>\n",
       "      <td>4</td>\n",
       "      <td>Clothing</td>\n",
       "      <td>21230</td>\n",
       "      <td>4629</td>\n",
       "    </tr>\n",
       "    <tr>\n",
       "      <th>3096927</th>\n",
       "      <td>899999</td>\n",
       "      <td>basket</td>\n",
       "      <td>1059</td>\n",
       "      <td>21230</td>\n",
       "      <td>NaN</td>\n",
       "      <td>NaN</td>\n",
       "      <td>2022-05-23 01:28:11.722389</td>\n",
       "      <td>-1</td>\n",
       "      <td>not_ad_basket</td>\n",
       "      <td>4</td>\n",
       "      <td>Clothing</td>\n",
       "      <td>21230</td>\n",
       "      <td>4629</td>\n",
       "    </tr>\n",
       "    <tr>\n",
       "      <th>3096928</th>\n",
       "      <td>899999</td>\n",
       "      <td>view</td>\n",
       "      <td>1059</td>\n",
       "      <td>21230</td>\n",
       "      <td>NaN</td>\n",
       "      <td>NaN</td>\n",
       "      <td>2022-05-24 04:40:26.722389</td>\n",
       "      <td>-1</td>\n",
       "      <td>not_ad_view</td>\n",
       "      <td>4</td>\n",
       "      <td>Clothing</td>\n",
       "      <td>21230</td>\n",
       "      <td>4629</td>\n",
       "    </tr>\n",
       "    <tr>\n",
       "      <th>3096929</th>\n",
       "      <td>899999</td>\n",
       "      <td>purchase</td>\n",
       "      <td>1034</td>\n",
       "      <td>12910</td>\n",
       "      <td>NaN</td>\n",
       "      <td>NaN</td>\n",
       "      <td>2022-06-20 03:40:43.722389</td>\n",
       "      <td>-1</td>\n",
       "      <td>not_ad_purchase</td>\n",
       "      <td>4</td>\n",
       "      <td>Home &amp; Garden</td>\n",
       "      <td>12910</td>\n",
       "      <td>3051</td>\n",
       "    </tr>\n",
       "    <tr>\n",
       "      <th>3096930</th>\n",
       "      <td>899999</td>\n",
       "      <td>view</td>\n",
       "      <td>1168</td>\n",
       "      <td>91680</td>\n",
       "      <td>NaN</td>\n",
       "      <td>NaN</td>\n",
       "      <td>2022-06-23 08:16:44.304854</td>\n",
       "      <td>-1</td>\n",
       "      <td>not_ad_view</td>\n",
       "      <td>4</td>\n",
       "      <td>Electronics</td>\n",
       "      <td>91680</td>\n",
       "      <td>8694</td>\n",
       "    </tr>\n",
       "  </tbody>\n",
       "</table>\n",
       "<p>3096931 rows × 13 columns</p>\n",
       "</div>"
      ],
      "text/plain": [
       "         CustomerID ActionType  GoodsCode  Price AdID  CPC  \\\n",
       "0                 4       view       1492  15020  NaN  NaN   \n",
       "1                 4       view       1492  15020  NaN  NaN   \n",
       "2                 6       view       1415  12980  NaN  NaN   \n",
       "3                 6   purchase       1437  35290  NaN  NaN   \n",
       "4                 6       view       1217  16220  NaN  NaN   \n",
       "...             ...        ...        ...    ...  ...  ...   \n",
       "3096926      899999       view       1059  21230  NaN  NaN   \n",
       "3096927      899999     basket       1059  21230  NaN  NaN   \n",
       "3096928      899999       view       1059  21230  NaN  NaN   \n",
       "3096929      899999   purchase       1034  12910  NaN  NaN   \n",
       "3096930      899999       view       1168  91680  NaN  NaN   \n",
       "\n",
       "                         Timestamp  GoodsCode_ad        eval_type  \\\n",
       "0       2022-07-04 15:11:42.511967            -1      not_ad_view   \n",
       "1       2022-07-24 14:44:40.511967            -1      not_ad_view   \n",
       "2       2022-04-22 15:49:44.166991            -1      not_ad_view   \n",
       "3       2022-04-26 21:46:00.166991            -1  not_ad_purchase   \n",
       "4       2022-05-03 14:26:12.811783            -1      not_ad_view   \n",
       "...                            ...           ...              ...   \n",
       "3096926 2022-05-22 12:51:15.722389            -1      not_ad_view   \n",
       "3096927 2022-05-23 01:28:11.722389            -1    not_ad_basket   \n",
       "3096928 2022-05-24 04:40:26.722389            -1      not_ad_view   \n",
       "3096929 2022-06-20 03:40:43.722389            -1  not_ad_purchase   \n",
       "3096930 2022-06-23 08:16:44.304854            -1      not_ad_view   \n",
       "\n",
       "        cluster_plus         Category  OriginalPrice  Inventory  \n",
       "0                NaN            Books          15020       6631  \n",
       "1                NaN            Books          15020       6631  \n",
       "2                  4  Health & Beauty          12980       9905  \n",
       "3                  4    Home & Garden          35290       3056  \n",
       "4                  4            Books          16220       6429  \n",
       "...              ...              ...            ...        ...  \n",
       "3096926            4         Clothing          21230       4629  \n",
       "3096927            4         Clothing          21230       4629  \n",
       "3096928            4         Clothing          21230       4629  \n",
       "3096929            4    Home & Garden          12910       3051  \n",
       "3096930            4      Electronics          91680       8694  \n",
       "\n",
       "[3096931 rows x 13 columns]"
      ]
     },
     "execution_count": 124,
     "metadata": {},
     "output_type": "execute_result"
    }
   ],
   "source": [
    "df = log.merge(customer_cluster, on='CustomerID', how='left').merge(inventory, on='GoodsCode', how='inner')\n",
    "df"
   ]
  },
  {
   "cell_type": "code",
   "execution_count": 236,
   "metadata": {},
   "outputs": [],
   "source": [
    "df['cluster_plus'] = df['cluster_plus'].astype(str)\n"
   ]
  },
  {
   "cell_type": "code",
   "execution_count": 238,
   "metadata": {},
   "outputs": [],
   "source": [
    "df.to_csv(\"df.csv\", index=False)"
   ]
  },
  {
   "cell_type": "code",
   "execution_count": 125,
   "metadata": {},
   "outputs": [
    {
     "name": "stderr",
     "output_type": "stream",
     "text": [
      "/var/folders/qv/tqmmyp0s5dj996k_tcvqmtqm0000gn/T/ipykernel_3012/4277241146.py:1: FutureWarning:\n",
      "\n",
      "The default of observed=False is deprecated and will be changed to True in a future version of pandas. Pass observed=False to retain current behavior or observed=True to adopt the future default and silence this warning.\n",
      "\n"
     ]
    },
    {
     "data": {
      "text/html": [
       "<div>\n",
       "<style scoped>\n",
       "    .dataframe tbody tr th:only-of-type {\n",
       "        vertical-align: middle;\n",
       "    }\n",
       "\n",
       "    .dataframe tbody tr th {\n",
       "        vertical-align: top;\n",
       "    }\n",
       "\n",
       "    .dataframe thead th {\n",
       "        text-align: right;\n",
       "    }\n",
       "</style>\n",
       "<table border=\"1\" class=\"dataframe\">\n",
       "  <thead>\n",
       "    <tr style=\"text-align: right;\">\n",
       "      <th></th>\n",
       "      <th>Category</th>\n",
       "      <th>GoodsCode</th>\n",
       "      <th>Count</th>\n",
       "    </tr>\n",
       "  </thead>\n",
       "  <tbody>\n",
       "    <tr>\n",
       "      <th>1912</th>\n",
       "      <td>Health &amp; Beauty</td>\n",
       "      <td>1412</td>\n",
       "      <td>6675</td>\n",
       "    </tr>\n",
       "    <tr>\n",
       "      <th>353</th>\n",
       "      <td>Books</td>\n",
       "      <td>1353</td>\n",
       "      <td>6660</td>\n",
       "    </tr>\n",
       "    <tr>\n",
       "      <th>1282</th>\n",
       "      <td>Electronics</td>\n",
       "      <td>1282</td>\n",
       "      <td>6658</td>\n",
       "    </tr>\n",
       "    <tr>\n",
       "      <th>1501</th>\n",
       "      <td>Health &amp; Beauty</td>\n",
       "      <td>1001</td>\n",
       "      <td>6605</td>\n",
       "    </tr>\n",
       "    <tr>\n",
       "      <th>398</th>\n",
       "      <td>Books</td>\n",
       "      <td>1398</td>\n",
       "      <td>6602</td>\n",
       "    </tr>\n",
       "    <tr>\n",
       "      <th>...</th>\n",
       "      <td>...</td>\n",
       "      <td>...</td>\n",
       "      <td>...</td>\n",
       "    </tr>\n",
       "    <tr>\n",
       "      <th>1495</th>\n",
       "      <td>Electronics</td>\n",
       "      <td>1495</td>\n",
       "      <td>5827</td>\n",
       "    </tr>\n",
       "    <tr>\n",
       "      <th>1352</th>\n",
       "      <td>Electronics</td>\n",
       "      <td>1352</td>\n",
       "      <td>5800</td>\n",
       "    </tr>\n",
       "    <tr>\n",
       "      <th>817</th>\n",
       "      <td>Clothing</td>\n",
       "      <td>1317</td>\n",
       "      <td>5792</td>\n",
       "    </tr>\n",
       "    <tr>\n",
       "      <th>2304</th>\n",
       "      <td>Home &amp; Garden</td>\n",
       "      <td>1304</td>\n",
       "      <td>5779</td>\n",
       "    </tr>\n",
       "    <tr>\n",
       "      <th>366</th>\n",
       "      <td>Books</td>\n",
       "      <td>1366</td>\n",
       "      <td>5730</td>\n",
       "    </tr>\n",
       "  </tbody>\n",
       "</table>\n",
       "<p>500 rows × 3 columns</p>\n",
       "</div>"
      ],
      "text/plain": [
       "             Category  GoodsCode  Count\n",
       "1912  Health & Beauty       1412   6675\n",
       "353             Books       1353   6660\n",
       "1282      Electronics       1282   6658\n",
       "1501  Health & Beauty       1001   6605\n",
       "398             Books       1398   6602\n",
       "...               ...        ...    ...\n",
       "1495      Electronics       1495   5827\n",
       "1352      Electronics       1352   5800\n",
       "817          Clothing       1317   5792\n",
       "2304    Home & Garden       1304   5779\n",
       "366             Books       1366   5730\n",
       "\n",
       "[500 rows x 3 columns]"
      ]
     },
     "execution_count": 125,
     "metadata": {},
     "output_type": "execute_result"
    }
   ],
   "source": [
    "category_code_size = df.groupby(['Category', 'GoodsCode']).size()\n",
    "category_code_df = category_code_size.reset_index(name='Count')\n",
    "filtered_df = category_code_df[category_code_df['Count']>0]\n",
    "filtered_df.sort_values('Count', ascending=False)"
   ]
  },
  {
   "cell_type": "code",
   "execution_count": 126,
   "metadata": {},
   "outputs": [
    {
     "data": {
      "text/plain": [
       "eval_type\n",
       "not_ad_view          1952574\n",
       "not_ad_purchase       430267\n",
       "not_ad_basket         356434\n",
       "ad_click              172028\n",
       "ad_view_other          92698\n",
       "ad_view                31670\n",
       "ad_purchase_other      20746\n",
       "ad_basket_other        17546\n",
       "ad_basket              15209\n",
       "ad_purchase             7759\n",
       "Name: count, dtype: int64"
      ]
     },
     "execution_count": 126,
     "metadata": {},
     "output_type": "execute_result"
    }
   ],
   "source": [
    "df['eval_type'].value_counts()"
   ]
  },
  {
   "cell_type": "code",
   "execution_count": 127,
   "metadata": {},
   "outputs": [
    {
     "data": {
      "text/html": [
       "<div>\n",
       "<style scoped>\n",
       "    .dataframe tbody tr th:only-of-type {\n",
       "        vertical-align: middle;\n",
       "    }\n",
       "\n",
       "    .dataframe tbody tr th {\n",
       "        vertical-align: top;\n",
       "    }\n",
       "\n",
       "    .dataframe thead th {\n",
       "        text-align: right;\n",
       "    }\n",
       "</style>\n",
       "<table border=\"1\" class=\"dataframe\">\n",
       "  <thead>\n",
       "    <tr style=\"text-align: right;\">\n",
       "      <th></th>\n",
       "      <th>CustomerID</th>\n",
       "      <th>ActionType</th>\n",
       "      <th>GoodsCode</th>\n",
       "      <th>Price</th>\n",
       "      <th>AdID</th>\n",
       "      <th>CPC</th>\n",
       "      <th>Timestamp</th>\n",
       "      <th>GoodsCode_ad</th>\n",
       "      <th>eval_type</th>\n",
       "      <th>cluster_plus</th>\n",
       "      <th>Category</th>\n",
       "      <th>OriginalPrice</th>\n",
       "      <th>Inventory</th>\n",
       "    </tr>\n",
       "  </thead>\n",
       "  <tbody>\n",
       "    <tr>\n",
       "      <th>7</th>\n",
       "      <td>6</td>\n",
       "      <td>ad_click</td>\n",
       "      <td>1437</td>\n",
       "      <td>35290</td>\n",
       "      <td>ad_google</td>\n",
       "      <td>182.31</td>\n",
       "      <td>2022-05-07 21:00:59.166991</td>\n",
       "      <td>1437</td>\n",
       "      <td>ad_click</td>\n",
       "      <td>4</td>\n",
       "      <td>Home &amp; Garden</td>\n",
       "      <td>35290</td>\n",
       "      <td>3056</td>\n",
       "    </tr>\n",
       "    <tr>\n",
       "      <th>8</th>\n",
       "      <td>6</td>\n",
       "      <td>view</td>\n",
       "      <td>1437</td>\n",
       "      <td>35290</td>\n",
       "      <td>NaN</td>\n",
       "      <td>NaN</td>\n",
       "      <td>2022-05-12 10:25:41.166991</td>\n",
       "      <td>1437</td>\n",
       "      <td>ad_view</td>\n",
       "      <td>4</td>\n",
       "      <td>Home &amp; Garden</td>\n",
       "      <td>35290</td>\n",
       "      <td>3056</td>\n",
       "    </tr>\n",
       "    <tr>\n",
       "      <th>37</th>\n",
       "      <td>13</td>\n",
       "      <td>ad_click</td>\n",
       "      <td>1090</td>\n",
       "      <td>21100</td>\n",
       "      <td>ad_google</td>\n",
       "      <td>158.68</td>\n",
       "      <td>2022-03-11 18:14:48.855443</td>\n",
       "      <td>1090</td>\n",
       "      <td>ad_click</td>\n",
       "      <td>4</td>\n",
       "      <td>Home &amp; Garden</td>\n",
       "      <td>21100</td>\n",
       "      <td>8617</td>\n",
       "    </tr>\n",
       "    <tr>\n",
       "      <th>38</th>\n",
       "      <td>13</td>\n",
       "      <td>view</td>\n",
       "      <td>1203</td>\n",
       "      <td>85290</td>\n",
       "      <td>NaN</td>\n",
       "      <td>NaN</td>\n",
       "      <td>2022-03-17 14:31:19.855443</td>\n",
       "      <td>1090</td>\n",
       "      <td>ad_view_other</td>\n",
       "      <td>4</td>\n",
       "      <td>Electronics</td>\n",
       "      <td>85290</td>\n",
       "      <td>9173</td>\n",
       "    </tr>\n",
       "    <tr>\n",
       "      <th>56</th>\n",
       "      <td>14</td>\n",
       "      <td>ad_click</td>\n",
       "      <td>1000</td>\n",
       "      <td>12580</td>\n",
       "      <td>ad_google</td>\n",
       "      <td>104.04</td>\n",
       "      <td>2022-03-07 10:33:24.548570</td>\n",
       "      <td>1000</td>\n",
       "      <td>ad_click</td>\n",
       "      <td>4</td>\n",
       "      <td>Books</td>\n",
       "      <td>12580</td>\n",
       "      <td>4452</td>\n",
       "    </tr>\n",
       "    <tr>\n",
       "      <th>...</th>\n",
       "      <td>...</td>\n",
       "      <td>...</td>\n",
       "      <td>...</td>\n",
       "      <td>...</td>\n",
       "      <td>...</td>\n",
       "      <td>...</td>\n",
       "      <td>...</td>\n",
       "      <td>...</td>\n",
       "      <td>...</td>\n",
       "      <td>...</td>\n",
       "      <td>...</td>\n",
       "      <td>...</td>\n",
       "      <td>...</td>\n",
       "    </tr>\n",
       "    <tr>\n",
       "      <th>3096892</th>\n",
       "      <td>899993</td>\n",
       "      <td>view</td>\n",
       "      <td>1045</td>\n",
       "      <td>120410</td>\n",
       "      <td>NaN</td>\n",
       "      <td>NaN</td>\n",
       "      <td>2022-05-11 03:04:39.372529</td>\n",
       "      <td>1019</td>\n",
       "      <td>ad_view_other</td>\n",
       "      <td>2</td>\n",
       "      <td>Electronics</td>\n",
       "      <td>120410</td>\n",
       "      <td>2622</td>\n",
       "    </tr>\n",
       "    <tr>\n",
       "      <th>3096916</th>\n",
       "      <td>899999</td>\n",
       "      <td>ad_click</td>\n",
       "      <td>1059</td>\n",
       "      <td>21230</td>\n",
       "      <td>ad_meta</td>\n",
       "      <td>71.35</td>\n",
       "      <td>2022-04-06 21:09:47.722389</td>\n",
       "      <td>1059</td>\n",
       "      <td>ad_click</td>\n",
       "      <td>4</td>\n",
       "      <td>Clothing</td>\n",
       "      <td>21230</td>\n",
       "      <td>4629</td>\n",
       "    </tr>\n",
       "    <tr>\n",
       "      <th>3096917</th>\n",
       "      <td>899999</td>\n",
       "      <td>view</td>\n",
       "      <td>1271</td>\n",
       "      <td>92940</td>\n",
       "      <td>NaN</td>\n",
       "      <td>NaN</td>\n",
       "      <td>2022-04-10 18:07:56.722389</td>\n",
       "      <td>1059</td>\n",
       "      <td>ad_view_other</td>\n",
       "      <td>4</td>\n",
       "      <td>Electronics</td>\n",
       "      <td>92940</td>\n",
       "      <td>8314</td>\n",
       "    </tr>\n",
       "    <tr>\n",
       "      <th>3096923</th>\n",
       "      <td>899999</td>\n",
       "      <td>ad_click</td>\n",
       "      <td>1059</td>\n",
       "      <td>21230</td>\n",
       "      <td>ad_google</td>\n",
       "      <td>94.14</td>\n",
       "      <td>2022-05-06 00:08:17.722389</td>\n",
       "      <td>1059</td>\n",
       "      <td>ad_click</td>\n",
       "      <td>4</td>\n",
       "      <td>Clothing</td>\n",
       "      <td>21230</td>\n",
       "      <td>4629</td>\n",
       "    </tr>\n",
       "    <tr>\n",
       "      <th>3096924</th>\n",
       "      <td>899999</td>\n",
       "      <td>basket</td>\n",
       "      <td>1059</td>\n",
       "      <td>21230</td>\n",
       "      <td>NaN</td>\n",
       "      <td>NaN</td>\n",
       "      <td>2022-05-11 10:09:46.722389</td>\n",
       "      <td>1059</td>\n",
       "      <td>ad_basket</td>\n",
       "      <td>4</td>\n",
       "      <td>Clothing</td>\n",
       "      <td>21230</td>\n",
       "      <td>4629</td>\n",
       "    </tr>\n",
       "  </tbody>\n",
       "</table>\n",
       "<p>357656 rows × 13 columns</p>\n",
       "</div>"
      ],
      "text/plain": [
       "         CustomerID ActionType  GoodsCode   Price       AdID     CPC  \\\n",
       "7                 6   ad_click       1437   35290  ad_google  182.31   \n",
       "8                 6       view       1437   35290        NaN     NaN   \n",
       "37               13   ad_click       1090   21100  ad_google  158.68   \n",
       "38               13       view       1203   85290        NaN     NaN   \n",
       "56               14   ad_click       1000   12580  ad_google  104.04   \n",
       "...             ...        ...        ...     ...        ...     ...   \n",
       "3096892      899993       view       1045  120410        NaN     NaN   \n",
       "3096916      899999   ad_click       1059   21230    ad_meta   71.35   \n",
       "3096917      899999       view       1271   92940        NaN     NaN   \n",
       "3096923      899999   ad_click       1059   21230  ad_google   94.14   \n",
       "3096924      899999     basket       1059   21230        NaN     NaN   \n",
       "\n",
       "                         Timestamp  GoodsCode_ad      eval_type cluster_plus  \\\n",
       "7       2022-05-07 21:00:59.166991          1437       ad_click            4   \n",
       "8       2022-05-12 10:25:41.166991          1437        ad_view            4   \n",
       "37      2022-03-11 18:14:48.855443          1090       ad_click            4   \n",
       "38      2022-03-17 14:31:19.855443          1090  ad_view_other            4   \n",
       "56      2022-03-07 10:33:24.548570          1000       ad_click            4   \n",
       "...                            ...           ...            ...          ...   \n",
       "3096892 2022-05-11 03:04:39.372529          1019  ad_view_other            2   \n",
       "3096916 2022-04-06 21:09:47.722389          1059       ad_click            4   \n",
       "3096917 2022-04-10 18:07:56.722389          1059  ad_view_other            4   \n",
       "3096923 2022-05-06 00:08:17.722389          1059       ad_click            4   \n",
       "3096924 2022-05-11 10:09:46.722389          1059      ad_basket            4   \n",
       "\n",
       "              Category  OriginalPrice  Inventory  \n",
       "7        Home & Garden          35290       3056  \n",
       "8        Home & Garden          35290       3056  \n",
       "37       Home & Garden          21100       8617  \n",
       "38         Electronics          85290       9173  \n",
       "56               Books          12580       4452  \n",
       "...                ...            ...        ...  \n",
       "3096892    Electronics         120410       2622  \n",
       "3096916       Clothing          21230       4629  \n",
       "3096917    Electronics          92940       8314  \n",
       "3096923       Clothing          21230       4629  \n",
       "3096924       Clothing          21230       4629  \n",
       "\n",
       "[357656 rows x 13 columns]"
      ]
     },
     "execution_count": 127,
     "metadata": {},
     "output_type": "execute_result"
    }
   ],
   "source": [
    "ad_funnel = df[df['GoodsCode_ad']!= -1]\n",
    "ad_funnel"
   ]
  },
  {
   "cell_type": "code",
   "execution_count": 128,
   "metadata": {},
   "outputs": [
    {
     "data": {
      "text/plain": [
       "cluster_plus\n",
       "0      104560\n",
       "4      100065\n",
       "1       59650\n",
       "2       57569\n",
       "vip      7369\n",
       "3         448\n",
       "Name: count, dtype: int64"
      ]
     },
     "execution_count": 128,
     "metadata": {},
     "output_type": "execute_result"
    }
   ],
   "source": [
    "ad_funnel['cluster_plus'].value_counts()"
   ]
  },
  {
   "cell_type": "markdown",
   "metadata": {},
   "source": [
    "## 고객 정보 요약\n",
    "### 클러스터별 요약\n",
    "- 평균치 : R 372.14, F 2.6 , M 83617.15\n",
    "- 중앙값 : R 370, F 2, M 60175\n",
    "- *R은 신규 고객인 3번을 제외하고는 평균이 모두 비슷. 덧붙여 신규 고객 제외하곤 최근 200일 이내 구매한 고객 없음\n",
    "------------------\n",
    "- VIP : 우수고객 중 상위 10%\n",
    "- 1번(15870명) : 우수고객 => R은 평균이나 M 두드러지게 높으며 F도 6회에 육박 => 상위 10%의 니즈를\n",
    "- 2번(30916명) : 중요고객 => R과 F 는 평균보다 약간 좋은 편. 돈을 평균보다 많이 씀.\n",
    "- 3번(653명) : 신규 고객 => F도 M도 낮지만, 비교적 최근에 구매함(전체 5개월 차이)\n",
    "- 4번(42885명) : 일반고객 => R과 F 는 평균보다 높으나 돈을 평균보다 적게 씀\n",
    "- 0번(86124명) :이탈고객 => R, F, M 모두 낮음 => R(381), F(1.59), M(37325)\n"
   ]
  },
  {
   "cell_type": "code",
   "execution_count": 129,
   "metadata": {},
   "outputs": [
    {
     "name": "stdout",
     "output_type": "stream",
     "text": [
      "<class 'pandas.core.frame.DataFrame'>\n",
      "Index: 357656 entries, 7 to 3096924\n",
      "Data columns (total 13 columns):\n",
      " #   Column         Non-Null Count   Dtype         \n",
      "---  ------         --------------   -----         \n",
      " 0   CustomerID     357656 non-null  int32         \n",
      " 1   ActionType     357656 non-null  category      \n",
      " 2   GoodsCode      357656 non-null  int16         \n",
      " 3   Price          357656 non-null  int32         \n",
      " 4   AdID           172028 non-null  category      \n",
      " 5   CPC            172028 non-null  float64       \n",
      " 6   Timestamp      357656 non-null  datetime64[ns]\n",
      " 7   GoodsCode_ad   357656 non-null  int16         \n",
      " 8   eval_type      357656 non-null  object        \n",
      " 9   cluster_plus   329661 non-null  object        \n",
      " 10  Category       357656 non-null  category      \n",
      " 11  OriginalPrice  357656 non-null  int32         \n",
      " 12  Inventory      357656 non-null  int32         \n",
      "dtypes: category(3), datetime64[ns](1), float64(1), int16(2), int32(4), object(2)\n",
      "memory usage: 21.5+ MB\n"
     ]
    }
   ],
   "source": [
    "ad_funnel.info()"
   ]
  },
  {
   "cell_type": "code",
   "execution_count": 130,
   "metadata": {},
   "outputs": [
    {
     "name": "stderr",
     "output_type": "stream",
     "text": [
      "/var/folders/qv/tqmmyp0s5dj996k_tcvqmtqm0000gn/T/ipykernel_3012/2480644312.py:2: SettingWithCopyWarning:\n",
      "\n",
      "\n",
      "A value is trying to be set on a copy of a slice from a DataFrame.\n",
      "Try using .loc[row_indexer,col_indexer] = value instead\n",
      "\n",
      "See the caveats in the documentation: https://pandas.pydata.org/pandas-docs/stable/user_guide/indexing.html#returning-a-view-versus-a-copy\n",
      "\n",
      "/var/folders/qv/tqmmyp0s5dj996k_tcvqmtqm0000gn/T/ipykernel_3012/2480644312.py:5: FutureWarning:\n",
      "\n",
      "A value is trying to be set on a copy of a DataFrame or Series through chained assignment using an inplace method.\n",
      "The behavior will change in pandas 3.0. This inplace method will never work because the intermediate object on which we are setting values always behaves as a copy.\n",
      "\n",
      "For example, when doing 'df[col].method(value, inplace=True)', try using 'df.method({col: value}, inplace=True)' or df[col] = df[col].method(value) instead, to perform the operation inplace on the original object.\n",
      "\n",
      "\n",
      "\n",
      "/var/folders/qv/tqmmyp0s5dj996k_tcvqmtqm0000gn/T/ipykernel_3012/2480644312.py:5: SettingWithCopyWarning:\n",
      "\n",
      "\n",
      "A value is trying to be set on a copy of a slice from a DataFrame\n",
      "\n",
      "See the caveats in the documentation: https://pandas.pydata.org/pandas-docs/stable/user_guide/indexing.html#returning-a-view-versus-a-copy\n",
      "\n"
     ]
    },
    {
     "data": {
      "text/html": [
       "<div>\n",
       "<style scoped>\n",
       "    .dataframe tbody tr th:only-of-type {\n",
       "        vertical-align: middle;\n",
       "    }\n",
       "\n",
       "    .dataframe tbody tr th {\n",
       "        vertical-align: top;\n",
       "    }\n",
       "\n",
       "    .dataframe thead th {\n",
       "        text-align: right;\n",
       "    }\n",
       "</style>\n",
       "<table border=\"1\" class=\"dataframe\">\n",
       "  <thead>\n",
       "    <tr style=\"text-align: right;\">\n",
       "      <th></th>\n",
       "      <th>CustomerID</th>\n",
       "      <th>ActionType</th>\n",
       "      <th>GoodsCode</th>\n",
       "      <th>Price</th>\n",
       "      <th>AdID</th>\n",
       "      <th>CPC</th>\n",
       "      <th>Timestamp</th>\n",
       "      <th>GoodsCode_ad</th>\n",
       "      <th>eval_type</th>\n",
       "      <th>cluster_plus</th>\n",
       "      <th>Category</th>\n",
       "      <th>OriginalPrice</th>\n",
       "      <th>Inventory</th>\n",
       "    </tr>\n",
       "  </thead>\n",
       "  <tbody>\n",
       "    <tr>\n",
       "      <th>7</th>\n",
       "      <td>6</td>\n",
       "      <td>ad_click</td>\n",
       "      <td>1437</td>\n",
       "      <td>35290</td>\n",
       "      <td>ad_google</td>\n",
       "      <td>182.31</td>\n",
       "      <td>2022-05-07 21:00:59.166991</td>\n",
       "      <td>1437</td>\n",
       "      <td>ad_click</td>\n",
       "      <td>일반고객</td>\n",
       "      <td>Home &amp; Garden</td>\n",
       "      <td>35290</td>\n",
       "      <td>3056</td>\n",
       "    </tr>\n",
       "    <tr>\n",
       "      <th>8</th>\n",
       "      <td>6</td>\n",
       "      <td>view</td>\n",
       "      <td>1437</td>\n",
       "      <td>35290</td>\n",
       "      <td>NaN</td>\n",
       "      <td>NaN</td>\n",
       "      <td>2022-05-12 10:25:41.166991</td>\n",
       "      <td>1437</td>\n",
       "      <td>ad_view</td>\n",
       "      <td>일반고객</td>\n",
       "      <td>Home &amp; Garden</td>\n",
       "      <td>35290</td>\n",
       "      <td>3056</td>\n",
       "    </tr>\n",
       "    <tr>\n",
       "      <th>37</th>\n",
       "      <td>13</td>\n",
       "      <td>ad_click</td>\n",
       "      <td>1090</td>\n",
       "      <td>21100</td>\n",
       "      <td>ad_google</td>\n",
       "      <td>158.68</td>\n",
       "      <td>2022-03-11 18:14:48.855443</td>\n",
       "      <td>1090</td>\n",
       "      <td>ad_click</td>\n",
       "      <td>일반고객</td>\n",
       "      <td>Home &amp; Garden</td>\n",
       "      <td>21100</td>\n",
       "      <td>8617</td>\n",
       "    </tr>\n",
       "    <tr>\n",
       "      <th>38</th>\n",
       "      <td>13</td>\n",
       "      <td>view</td>\n",
       "      <td>1203</td>\n",
       "      <td>85290</td>\n",
       "      <td>NaN</td>\n",
       "      <td>NaN</td>\n",
       "      <td>2022-03-17 14:31:19.855443</td>\n",
       "      <td>1090</td>\n",
       "      <td>ad_view_other</td>\n",
       "      <td>일반고객</td>\n",
       "      <td>Electronics</td>\n",
       "      <td>85290</td>\n",
       "      <td>9173</td>\n",
       "    </tr>\n",
       "    <tr>\n",
       "      <th>56</th>\n",
       "      <td>14</td>\n",
       "      <td>ad_click</td>\n",
       "      <td>1000</td>\n",
       "      <td>12580</td>\n",
       "      <td>ad_google</td>\n",
       "      <td>104.04</td>\n",
       "      <td>2022-03-07 10:33:24.548570</td>\n",
       "      <td>1000</td>\n",
       "      <td>ad_click</td>\n",
       "      <td>일반고객</td>\n",
       "      <td>Books</td>\n",
       "      <td>12580</td>\n",
       "      <td>4452</td>\n",
       "    </tr>\n",
       "    <tr>\n",
       "      <th>...</th>\n",
       "      <td>...</td>\n",
       "      <td>...</td>\n",
       "      <td>...</td>\n",
       "      <td>...</td>\n",
       "      <td>...</td>\n",
       "      <td>...</td>\n",
       "      <td>...</td>\n",
       "      <td>...</td>\n",
       "      <td>...</td>\n",
       "      <td>...</td>\n",
       "      <td>...</td>\n",
       "      <td>...</td>\n",
       "      <td>...</td>\n",
       "    </tr>\n",
       "    <tr>\n",
       "      <th>3096892</th>\n",
       "      <td>899993</td>\n",
       "      <td>view</td>\n",
       "      <td>1045</td>\n",
       "      <td>120410</td>\n",
       "      <td>NaN</td>\n",
       "      <td>NaN</td>\n",
       "      <td>2022-05-11 03:04:39.372529</td>\n",
       "      <td>1019</td>\n",
       "      <td>ad_view_other</td>\n",
       "      <td>중요고객</td>\n",
       "      <td>Electronics</td>\n",
       "      <td>120410</td>\n",
       "      <td>2622</td>\n",
       "    </tr>\n",
       "    <tr>\n",
       "      <th>3096916</th>\n",
       "      <td>899999</td>\n",
       "      <td>ad_click</td>\n",
       "      <td>1059</td>\n",
       "      <td>21230</td>\n",
       "      <td>ad_meta</td>\n",
       "      <td>71.35</td>\n",
       "      <td>2022-04-06 21:09:47.722389</td>\n",
       "      <td>1059</td>\n",
       "      <td>ad_click</td>\n",
       "      <td>일반고객</td>\n",
       "      <td>Clothing</td>\n",
       "      <td>21230</td>\n",
       "      <td>4629</td>\n",
       "    </tr>\n",
       "    <tr>\n",
       "      <th>3096917</th>\n",
       "      <td>899999</td>\n",
       "      <td>view</td>\n",
       "      <td>1271</td>\n",
       "      <td>92940</td>\n",
       "      <td>NaN</td>\n",
       "      <td>NaN</td>\n",
       "      <td>2022-04-10 18:07:56.722389</td>\n",
       "      <td>1059</td>\n",
       "      <td>ad_view_other</td>\n",
       "      <td>일반고객</td>\n",
       "      <td>Electronics</td>\n",
       "      <td>92940</td>\n",
       "      <td>8314</td>\n",
       "    </tr>\n",
       "    <tr>\n",
       "      <th>3096923</th>\n",
       "      <td>899999</td>\n",
       "      <td>ad_click</td>\n",
       "      <td>1059</td>\n",
       "      <td>21230</td>\n",
       "      <td>ad_google</td>\n",
       "      <td>94.14</td>\n",
       "      <td>2022-05-06 00:08:17.722389</td>\n",
       "      <td>1059</td>\n",
       "      <td>ad_click</td>\n",
       "      <td>일반고객</td>\n",
       "      <td>Clothing</td>\n",
       "      <td>21230</td>\n",
       "      <td>4629</td>\n",
       "    </tr>\n",
       "    <tr>\n",
       "      <th>3096924</th>\n",
       "      <td>899999</td>\n",
       "      <td>basket</td>\n",
       "      <td>1059</td>\n",
       "      <td>21230</td>\n",
       "      <td>NaN</td>\n",
       "      <td>NaN</td>\n",
       "      <td>2022-05-11 10:09:46.722389</td>\n",
       "      <td>1059</td>\n",
       "      <td>ad_basket</td>\n",
       "      <td>일반고객</td>\n",
       "      <td>Clothing</td>\n",
       "      <td>21230</td>\n",
       "      <td>4629</td>\n",
       "    </tr>\n",
       "  </tbody>\n",
       "</table>\n",
       "<p>357656 rows × 13 columns</p>\n",
       "</div>"
      ],
      "text/plain": [
       "         CustomerID ActionType  GoodsCode   Price       AdID     CPC  \\\n",
       "7                 6   ad_click       1437   35290  ad_google  182.31   \n",
       "8                 6       view       1437   35290        NaN     NaN   \n",
       "37               13   ad_click       1090   21100  ad_google  158.68   \n",
       "38               13       view       1203   85290        NaN     NaN   \n",
       "56               14   ad_click       1000   12580  ad_google  104.04   \n",
       "...             ...        ...        ...     ...        ...     ...   \n",
       "3096892      899993       view       1045  120410        NaN     NaN   \n",
       "3096916      899999   ad_click       1059   21230    ad_meta   71.35   \n",
       "3096917      899999       view       1271   92940        NaN     NaN   \n",
       "3096923      899999   ad_click       1059   21230  ad_google   94.14   \n",
       "3096924      899999     basket       1059   21230        NaN     NaN   \n",
       "\n",
       "                         Timestamp  GoodsCode_ad      eval_type cluster_plus  \\\n",
       "7       2022-05-07 21:00:59.166991          1437       ad_click         일반고객   \n",
       "8       2022-05-12 10:25:41.166991          1437        ad_view         일반고객   \n",
       "37      2022-03-11 18:14:48.855443          1090       ad_click         일반고객   \n",
       "38      2022-03-17 14:31:19.855443          1090  ad_view_other         일반고객   \n",
       "56      2022-03-07 10:33:24.548570          1000       ad_click         일반고객   \n",
       "...                            ...           ...            ...          ...   \n",
       "3096892 2022-05-11 03:04:39.372529          1019  ad_view_other         중요고객   \n",
       "3096916 2022-04-06 21:09:47.722389          1059       ad_click         일반고객   \n",
       "3096917 2022-04-10 18:07:56.722389          1059  ad_view_other         일반고객   \n",
       "3096923 2022-05-06 00:08:17.722389          1059       ad_click         일반고객   \n",
       "3096924 2022-05-11 10:09:46.722389          1059      ad_basket         일반고객   \n",
       "\n",
       "              Category  OriginalPrice  Inventory  \n",
       "7        Home & Garden          35290       3056  \n",
       "8        Home & Garden          35290       3056  \n",
       "37       Home & Garden          21100       8617  \n",
       "38         Electronics          85290       9173  \n",
       "56               Books          12580       4452  \n",
       "...                ...            ...        ...  \n",
       "3096892    Electronics         120410       2622  \n",
       "3096916       Clothing          21230       4629  \n",
       "3096917    Electronics          92940       8314  \n",
       "3096923       Clothing          21230       4629  \n",
       "3096924       Clothing          21230       4629  \n",
       "\n",
       "[357656 rows x 13 columns]"
      ]
     },
     "execution_count": 130,
     "metadata": {},
     "output_type": "execute_result"
    }
   ],
   "source": [
    "# 'cluster_plus' 열의 값을 문자열로 변경\n",
    "ad_funnel['cluster_plus'] = ad_funnel['cluster_plus'].astype(str)\n",
    "\n",
    "# 치환할 값들을 지정하여 치환\n",
    "ad_funnel['cluster_plus'].replace({'1': '우수고객', '2': '중요고객', 'vip': 'vip', '3':'신규고객','4':'일반고객','0':'이탈고객'}, inplace=True)\n",
    "ad_funnel\n"
   ]
  },
  {
   "cell_type": "code",
   "execution_count": 131,
   "metadata": {},
   "outputs": [
    {
     "data": {
      "text/plain": [
       "cluster_plus\n",
       "이탈고객    104560\n",
       "일반고객    100065\n",
       "우수고객     59650\n",
       "중요고객     57569\n",
       "nan      27995\n",
       "vip       7369\n",
       "신규고객       448\n",
       "Name: count, dtype: int64"
      ]
     },
     "execution_count": 131,
     "metadata": {},
     "output_type": "execute_result"
    }
   ],
   "source": [
    "ad_funnel['cluster_plus'].value_counts()"
   ]
  },
  {
   "cell_type": "code",
   "execution_count": 132,
   "metadata": {},
   "outputs": [
    {
     "data": {
      "text/plain": [
       "0"
      ]
     },
     "execution_count": 132,
     "metadata": {},
     "output_type": "execute_result"
    }
   ],
   "source": [
    "df['eval_type'].isnull().sum()"
   ]
  },
  {
   "cell_type": "code",
   "execution_count": 133,
   "metadata": {},
   "outputs": [
    {
     "data": {
      "text/html": [
       "<div>\n",
       "<style scoped>\n",
       "    .dataframe tbody tr th:only-of-type {\n",
       "        vertical-align: middle;\n",
       "    }\n",
       "\n",
       "    .dataframe tbody tr th {\n",
       "        vertical-align: top;\n",
       "    }\n",
       "\n",
       "    .dataframe thead th {\n",
       "        text-align: right;\n",
       "    }\n",
       "</style>\n",
       "<table border=\"1\" class=\"dataframe\">\n",
       "  <thead>\n",
       "    <tr style=\"text-align: right;\">\n",
       "      <th></th>\n",
       "      <th>ClusterPlus</th>\n",
       "      <th>Final</th>\n",
       "      <th>Net_Count</th>\n",
       "      <th>Adjusted_Count</th>\n",
       "      <th>Adjusted_Ratio</th>\n",
       "    </tr>\n",
       "  </thead>\n",
       "  <tbody>\n",
       "    <tr>\n",
       "      <th>0</th>\n",
       "      <td>0</td>\n",
       "      <td>ad_click</td>\n",
       "      <td>9616</td>\n",
       "      <td>11014</td>\n",
       "      <td>1.00</td>\n",
       "    </tr>\n",
       "    <tr>\n",
       "      <th>1</th>\n",
       "      <td>0</td>\n",
       "      <td>basket</td>\n",
       "      <td>1027</td>\n",
       "      <td>1398</td>\n",
       "      <td>0.13</td>\n",
       "    </tr>\n",
       "    <tr>\n",
       "      <th>2</th>\n",
       "      <td>0</td>\n",
       "      <td>purchase</td>\n",
       "      <td>371</td>\n",
       "      <td>371</td>\n",
       "      <td>0.03</td>\n",
       "    </tr>\n",
       "    <tr>\n",
       "      <th>3</th>\n",
       "      <td>1</td>\n",
       "      <td>ad_click</td>\n",
       "      <td>3993</td>\n",
       "      <td>5330</td>\n",
       "      <td>1.00</td>\n",
       "    </tr>\n",
       "    <tr>\n",
       "      <th>4</th>\n",
       "      <td>1</td>\n",
       "      <td>basket</td>\n",
       "      <td>617</td>\n",
       "      <td>1337</td>\n",
       "      <td>0.25</td>\n",
       "    </tr>\n",
       "    <tr>\n",
       "      <th>5</th>\n",
       "      <td>1</td>\n",
       "      <td>purchase</td>\n",
       "      <td>720</td>\n",
       "      <td>720</td>\n",
       "      <td>0.14</td>\n",
       "    </tr>\n",
       "    <tr>\n",
       "      <th>6</th>\n",
       "      <td>2</td>\n",
       "      <td>ad_click</td>\n",
       "      <td>7273</td>\n",
       "      <td>9288</td>\n",
       "      <td>1.00</td>\n",
       "    </tr>\n",
       "    <tr>\n",
       "      <th>7</th>\n",
       "      <td>2</td>\n",
       "      <td>basket</td>\n",
       "      <td>963</td>\n",
       "      <td>2015</td>\n",
       "      <td>0.22</td>\n",
       "    </tr>\n",
       "    <tr>\n",
       "      <th>8</th>\n",
       "      <td>2</td>\n",
       "      <td>purchase</td>\n",
       "      <td>1052</td>\n",
       "      <td>1052</td>\n",
       "      <td>0.11</td>\n",
       "    </tr>\n",
       "    <tr>\n",
       "      <th>9</th>\n",
       "      <td>3</td>\n",
       "      <td>ad_click</td>\n",
       "      <td>67</td>\n",
       "      <td>77</td>\n",
       "      <td>1.00</td>\n",
       "    </tr>\n",
       "    <tr>\n",
       "      <th>10</th>\n",
       "      <td>3</td>\n",
       "      <td>basket</td>\n",
       "      <td>6</td>\n",
       "      <td>10</td>\n",
       "      <td>0.13</td>\n",
       "    </tr>\n",
       "    <tr>\n",
       "      <th>11</th>\n",
       "      <td>3</td>\n",
       "      <td>purchase</td>\n",
       "      <td>4</td>\n",
       "      <td>4</td>\n",
       "      <td>0.05</td>\n",
       "    </tr>\n",
       "    <tr>\n",
       "      <th>12</th>\n",
       "      <td>4</td>\n",
       "      <td>ad_click</td>\n",
       "      <td>5394</td>\n",
       "      <td>6445</td>\n",
       "      <td>1.00</td>\n",
       "    </tr>\n",
       "    <tr>\n",
       "      <th>13</th>\n",
       "      <td>4</td>\n",
       "      <td>basket</td>\n",
       "      <td>726</td>\n",
       "      <td>1051</td>\n",
       "      <td>0.16</td>\n",
       "    </tr>\n",
       "    <tr>\n",
       "      <th>14</th>\n",
       "      <td>4</td>\n",
       "      <td>purchase</td>\n",
       "      <td>325</td>\n",
       "      <td>325</td>\n",
       "      <td>0.05</td>\n",
       "    </tr>\n",
       "    <tr>\n",
       "      <th>15</th>\n",
       "      <td>vip</td>\n",
       "      <td>ad_click</td>\n",
       "      <td>553</td>\n",
       "      <td>860</td>\n",
       "      <td>1.00</td>\n",
       "    </tr>\n",
       "    <tr>\n",
       "      <th>16</th>\n",
       "      <td>vip</td>\n",
       "      <td>basket</td>\n",
       "      <td>118</td>\n",
       "      <td>307</td>\n",
       "      <td>0.36</td>\n",
       "    </tr>\n",
       "    <tr>\n",
       "      <th>17</th>\n",
       "      <td>vip</td>\n",
       "      <td>purchase</td>\n",
       "      <td>189</td>\n",
       "      <td>189</td>\n",
       "      <td>0.22</td>\n",
       "    </tr>\n",
       "  </tbody>\n",
       "</table>\n",
       "</div>"
      ],
      "text/plain": [
       "   ClusterPlus     Final  Net_Count  Adjusted_Count  Adjusted_Ratio\n",
       "0            0  ad_click       9616           11014            1.00\n",
       "1            0    basket       1027            1398            0.13\n",
       "2            0  purchase        371             371            0.03\n",
       "3            1  ad_click       3993            5330            1.00\n",
       "4            1    basket        617            1337            0.25\n",
       "5            1  purchase        720             720            0.14\n",
       "6            2  ad_click       7273            9288            1.00\n",
       "7            2    basket        963            2015            0.22\n",
       "8            2  purchase       1052            1052            0.11\n",
       "9            3  ad_click         67              77            1.00\n",
       "10           3    basket          6              10            0.13\n",
       "11           3  purchase          4               4            0.05\n",
       "12           4  ad_click       5394            6445            1.00\n",
       "13           4    basket        726            1051            0.16\n",
       "14           4  purchase        325             325            0.05\n",
       "15         vip  ad_click        553             860            1.00\n",
       "16         vip    basket        118             307            0.36\n",
       "17         vip  purchase        189             189            0.22"
      ]
     },
     "execution_count": 133,
     "metadata": {},
     "output_type": "execute_result"
    }
   ],
   "source": [
    "sh = pd.read_parquet('/Users/hj/Documents/Four-A/2nd dataset/khj/data/클러스터별퍼널세그먼트동일노상관.parquet')\n",
    "sh"
   ]
  },
  {
   "cell_type": "code",
   "execution_count": 134,
   "metadata": {},
   "outputs": [
    {
     "data": {
      "text/html": [
       "<div>\n",
       "<style scoped>\n",
       "    .dataframe tbody tr th:only-of-type {\n",
       "        vertical-align: middle;\n",
       "    }\n",
       "\n",
       "    .dataframe tbody tr th {\n",
       "        vertical-align: top;\n",
       "    }\n",
       "\n",
       "    .dataframe thead th {\n",
       "        text-align: right;\n",
       "    }\n",
       "</style>\n",
       "<table border=\"1\" class=\"dataframe\">\n",
       "  <thead>\n",
       "    <tr style=\"text-align: right;\">\n",
       "      <th></th>\n",
       "      <th>index</th>\n",
       "      <th>ClusterPlus</th>\n",
       "      <th>SameSegment</th>\n",
       "      <th>Final</th>\n",
       "      <th>Net_Count</th>\n",
       "      <th>Adjusted_Count</th>\n",
       "      <th>Adjusted_Ratio</th>\n",
       "    </tr>\n",
       "  </thead>\n",
       "  <tbody>\n",
       "    <tr>\n",
       "      <th>0</th>\n",
       "      <td>0</td>\n",
       "      <td>0</td>\n",
       "      <td>O</td>\n",
       "      <td>ad_click</td>\n",
       "      <td>9616</td>\n",
       "      <td>10854</td>\n",
       "      <td>1.00</td>\n",
       "    </tr>\n",
       "    <tr>\n",
       "      <th>1</th>\n",
       "      <td>1</td>\n",
       "      <td>0</td>\n",
       "      <td>O</td>\n",
       "      <td>basket</td>\n",
       "      <td>937</td>\n",
       "      <td>1238</td>\n",
       "      <td>0.11</td>\n",
       "    </tr>\n",
       "    <tr>\n",
       "      <th>2</th>\n",
       "      <td>2</td>\n",
       "      <td>0</td>\n",
       "      <td>O</td>\n",
       "      <td>purchase</td>\n",
       "      <td>301</td>\n",
       "      <td>301</td>\n",
       "      <td>0.03</td>\n",
       "    </tr>\n",
       "    <tr>\n",
       "      <th>3</th>\n",
       "      <td>5</td>\n",
       "      <td>1</td>\n",
       "      <td>O</td>\n",
       "      <td>ad_click</td>\n",
       "      <td>3993</td>\n",
       "      <td>5006</td>\n",
       "      <td>1.00</td>\n",
       "    </tr>\n",
       "    <tr>\n",
       "      <th>4</th>\n",
       "      <td>6</td>\n",
       "      <td>1</td>\n",
       "      <td>O</td>\n",
       "      <td>basket</td>\n",
       "      <td>512</td>\n",
       "      <td>1013</td>\n",
       "      <td>0.20</td>\n",
       "    </tr>\n",
       "    <tr>\n",
       "      <th>5</th>\n",
       "      <td>7</td>\n",
       "      <td>1</td>\n",
       "      <td>O</td>\n",
       "      <td>purchase</td>\n",
       "      <td>501</td>\n",
       "      <td>501</td>\n",
       "      <td>0.10</td>\n",
       "    </tr>\n",
       "    <tr>\n",
       "      <th>6</th>\n",
       "      <td>10</td>\n",
       "      <td>2</td>\n",
       "      <td>O</td>\n",
       "      <td>ad_click</td>\n",
       "      <td>7273</td>\n",
       "      <td>8935</td>\n",
       "      <td>1.00</td>\n",
       "    </tr>\n",
       "    <tr>\n",
       "      <th>7</th>\n",
       "      <td>11</td>\n",
       "      <td>2</td>\n",
       "      <td>O</td>\n",
       "      <td>basket</td>\n",
       "      <td>831</td>\n",
       "      <td>1662</td>\n",
       "      <td>0.19</td>\n",
       "    </tr>\n",
       "    <tr>\n",
       "      <th>8</th>\n",
       "      <td>12</td>\n",
       "      <td>2</td>\n",
       "      <td>O</td>\n",
       "      <td>purchase</td>\n",
       "      <td>831</td>\n",
       "      <td>831</td>\n",
       "      <td>0.09</td>\n",
       "    </tr>\n",
       "    <tr>\n",
       "      <th>9</th>\n",
       "      <td>15</td>\n",
       "      <td>3</td>\n",
       "      <td>O</td>\n",
       "      <td>ad_click</td>\n",
       "      <td>67</td>\n",
       "      <td>77</td>\n",
       "      <td>1.00</td>\n",
       "    </tr>\n",
       "    <tr>\n",
       "      <th>10</th>\n",
       "      <td>16</td>\n",
       "      <td>3</td>\n",
       "      <td>O</td>\n",
       "      <td>basket</td>\n",
       "      <td>6</td>\n",
       "      <td>10</td>\n",
       "      <td>0.13</td>\n",
       "    </tr>\n",
       "    <tr>\n",
       "      <th>11</th>\n",
       "      <td>17</td>\n",
       "      <td>3</td>\n",
       "      <td>O</td>\n",
       "      <td>purchase</td>\n",
       "      <td>4</td>\n",
       "      <td>4</td>\n",
       "      <td>0.05</td>\n",
       "    </tr>\n",
       "    <tr>\n",
       "      <th>12</th>\n",
       "      <td>18</td>\n",
       "      <td>4</td>\n",
       "      <td>O</td>\n",
       "      <td>ad_click</td>\n",
       "      <td>5394</td>\n",
       "      <td>6321</td>\n",
       "      <td>1.00</td>\n",
       "    </tr>\n",
       "    <tr>\n",
       "      <th>13</th>\n",
       "      <td>19</td>\n",
       "      <td>4</td>\n",
       "      <td>O</td>\n",
       "      <td>basket</td>\n",
       "      <td>648</td>\n",
       "      <td>927</td>\n",
       "      <td>0.15</td>\n",
       "    </tr>\n",
       "    <tr>\n",
       "      <th>14</th>\n",
       "      <td>20</td>\n",
       "      <td>4</td>\n",
       "      <td>O</td>\n",
       "      <td>purchase</td>\n",
       "      <td>279</td>\n",
       "      <td>279</td>\n",
       "      <td>0.04</td>\n",
       "    </tr>\n",
       "    <tr>\n",
       "      <th>15</th>\n",
       "      <td>23</td>\n",
       "      <td>vip</td>\n",
       "      <td>O</td>\n",
       "      <td>ad_click</td>\n",
       "      <td>553</td>\n",
       "      <td>760</td>\n",
       "      <td>1.00</td>\n",
       "    </tr>\n",
       "    <tr>\n",
       "      <th>16</th>\n",
       "      <td>24</td>\n",
       "      <td>vip</td>\n",
       "      <td>O</td>\n",
       "      <td>basket</td>\n",
       "      <td>90</td>\n",
       "      <td>207</td>\n",
       "      <td>0.27</td>\n",
       "    </tr>\n",
       "    <tr>\n",
       "      <th>17</th>\n",
       "      <td>25</td>\n",
       "      <td>vip</td>\n",
       "      <td>O</td>\n",
       "      <td>purchase</td>\n",
       "      <td>117</td>\n",
       "      <td>117</td>\n",
       "      <td>0.15</td>\n",
       "    </tr>\n",
       "  </tbody>\n",
       "</table>\n",
       "</div>"
      ],
      "text/plain": [
       "    index ClusterPlus SameSegment     Final  Net_Count  Adjusted_Count  \\\n",
       "0       0           0           O  ad_click       9616           10854   \n",
       "1       1           0           O    basket        937            1238   \n",
       "2       2           0           O  purchase        301             301   \n",
       "3       5           1           O  ad_click       3993            5006   \n",
       "4       6           1           O    basket        512            1013   \n",
       "5       7           1           O  purchase        501             501   \n",
       "6      10           2           O  ad_click       7273            8935   \n",
       "7      11           2           O    basket        831            1662   \n",
       "8      12           2           O  purchase        831             831   \n",
       "9      15           3           O  ad_click         67              77   \n",
       "10     16           3           O    basket          6              10   \n",
       "11     17           3           O  purchase          4               4   \n",
       "12     18           4           O  ad_click       5394            6321   \n",
       "13     19           4           O    basket        648             927   \n",
       "14     20           4           O  purchase        279             279   \n",
       "15     23         vip           O  ad_click        553             760   \n",
       "16     24         vip           O    basket         90             207   \n",
       "17     25         vip           O  purchase        117             117   \n",
       "\n",
       "    Adjusted_Ratio  \n",
       "0             1.00  \n",
       "1             0.11  \n",
       "2             0.03  \n",
       "3             1.00  \n",
       "4             0.20  \n",
       "5             0.10  \n",
       "6             1.00  \n",
       "7             0.19  \n",
       "8             0.09  \n",
       "9             1.00  \n",
       "10            0.13  \n",
       "11            0.05  \n",
       "12            1.00  \n",
       "13            0.15  \n",
       "14            0.04  \n",
       "15            1.00  \n",
       "16            0.27  \n",
       "17            0.15  "
      ]
     },
     "execution_count": 134,
     "metadata": {},
     "output_type": "execute_result"
    }
   ],
   "source": [
    "sh1 = pd.read_parquet('/Users/hj/Documents/Four-A/2nd dataset/khj/data/클러스터별퍼널세그먼트동일.parquet')\n",
    "sh1"
   ]
  },
  {
   "cell_type": "markdown",
   "metadata": {},
   "source": [
    "## 전체 클러스터 대상"
   ]
  },
  {
   "cell_type": "code",
   "execution_count": 135,
   "metadata": {},
   "outputs": [
    {
     "data": {
      "text/html": [
       "<div>\n",
       "<style scoped>\n",
       "    .dataframe tbody tr th:only-of-type {\n",
       "        vertical-align: middle;\n",
       "    }\n",
       "\n",
       "    .dataframe tbody tr th {\n",
       "        vertical-align: top;\n",
       "    }\n",
       "\n",
       "    .dataframe thead th {\n",
       "        text-align: right;\n",
       "    }\n",
       "</style>\n",
       "<table border=\"1\" class=\"dataframe\">\n",
       "  <thead>\n",
       "    <tr style=\"text-align: right;\">\n",
       "      <th></th>\n",
       "      <th>CustomerID</th>\n",
       "      <th>ActionType</th>\n",
       "      <th>GoodsCode</th>\n",
       "      <th>Price</th>\n",
       "      <th>AdID</th>\n",
       "      <th>CPC</th>\n",
       "      <th>Timestamp</th>\n",
       "      <th>GoodsCode_ad</th>\n",
       "      <th>eval_type</th>\n",
       "      <th>cluster_plus</th>\n",
       "      <th>Category</th>\n",
       "      <th>OriginalPrice</th>\n",
       "      <th>Inventory</th>\n",
       "    </tr>\n",
       "  </thead>\n",
       "  <tbody>\n",
       "    <tr>\n",
       "      <th>38</th>\n",
       "      <td>13</td>\n",
       "      <td>view</td>\n",
       "      <td>1203</td>\n",
       "      <td>85290</td>\n",
       "      <td>NaN</td>\n",
       "      <td>NaN</td>\n",
       "      <td>2022-03-17 14:31:19.855443</td>\n",
       "      <td>1090</td>\n",
       "      <td>ad_view_other</td>\n",
       "      <td>일반고객</td>\n",
       "      <td>Electronics</td>\n",
       "      <td>85290</td>\n",
       "      <td>9173</td>\n",
       "    </tr>\n",
       "    <tr>\n",
       "      <th>150</th>\n",
       "      <td>32</td>\n",
       "      <td>view</td>\n",
       "      <td>1336</td>\n",
       "      <td>82700</td>\n",
       "      <td>NaN</td>\n",
       "      <td>NaN</td>\n",
       "      <td>2022-03-10 20:36:37.376860</td>\n",
       "      <td>1036</td>\n",
       "      <td>ad_view_other</td>\n",
       "      <td>중요고객</td>\n",
       "      <td>Electronics</td>\n",
       "      <td>82700</td>\n",
       "      <td>4342</td>\n",
       "    </tr>\n",
       "    <tr>\n",
       "      <th>151</th>\n",
       "      <td>32</td>\n",
       "      <td>view</td>\n",
       "      <td>1336</td>\n",
       "      <td>82700</td>\n",
       "      <td>NaN</td>\n",
       "      <td>NaN</td>\n",
       "      <td>2022-03-11 08:25:32.376860</td>\n",
       "      <td>1036</td>\n",
       "      <td>ad_view_other</td>\n",
       "      <td>중요고객</td>\n",
       "      <td>Electronics</td>\n",
       "      <td>82700</td>\n",
       "      <td>4342</td>\n",
       "    </tr>\n",
       "    <tr>\n",
       "      <th>157</th>\n",
       "      <td>32</td>\n",
       "      <td>ad_click</td>\n",
       "      <td>1499</td>\n",
       "      <td>33180</td>\n",
       "      <td>ad_google</td>\n",
       "      <td>76.56</td>\n",
       "      <td>2022-03-30 16:18:05.376860</td>\n",
       "      <td>1499</td>\n",
       "      <td>ad_click</td>\n",
       "      <td>중요고객</td>\n",
       "      <td>Electronics</td>\n",
       "      <td>33180</td>\n",
       "      <td>4591</td>\n",
       "    </tr>\n",
       "    <tr>\n",
       "      <th>158</th>\n",
       "      <td>32</td>\n",
       "      <td>purchase</td>\n",
       "      <td>1499</td>\n",
       "      <td>33180</td>\n",
       "      <td>NaN</td>\n",
       "      <td>NaN</td>\n",
       "      <td>2022-03-31 10:56:52.376860</td>\n",
       "      <td>1499</td>\n",
       "      <td>ad_purchase</td>\n",
       "      <td>중요고객</td>\n",
       "      <td>Electronics</td>\n",
       "      <td>33180</td>\n",
       "      <td>4591</td>\n",
       "    </tr>\n",
       "    <tr>\n",
       "      <th>...</th>\n",
       "      <td>...</td>\n",
       "      <td>...</td>\n",
       "      <td>...</td>\n",
       "      <td>...</td>\n",
       "      <td>...</td>\n",
       "      <td>...</td>\n",
       "      <td>...</td>\n",
       "      <td>...</td>\n",
       "      <td>...</td>\n",
       "      <td>...</td>\n",
       "      <td>...</td>\n",
       "      <td>...</td>\n",
       "      <td>...</td>\n",
       "    </tr>\n",
       "    <tr>\n",
       "      <th>3096786</th>\n",
       "      <td>899952</td>\n",
       "      <td>ad_click</td>\n",
       "      <td>1484</td>\n",
       "      <td>108330</td>\n",
       "      <td>ad_line</td>\n",
       "      <td>783.63</td>\n",
       "      <td>2022-03-28 11:20:18.440542</td>\n",
       "      <td>1484</td>\n",
       "      <td>ad_click</td>\n",
       "      <td>이탈고객</td>\n",
       "      <td>Electronics</td>\n",
       "      <td>108330</td>\n",
       "      <td>9595</td>\n",
       "    </tr>\n",
       "    <tr>\n",
       "      <th>3096788</th>\n",
       "      <td>899952</td>\n",
       "      <td>ad_click</td>\n",
       "      <td>1484</td>\n",
       "      <td>108330</td>\n",
       "      <td>ad_google</td>\n",
       "      <td>927.11</td>\n",
       "      <td>2022-03-30 04:19:09.440542</td>\n",
       "      <td>1484</td>\n",
       "      <td>ad_click</td>\n",
       "      <td>이탈고객</td>\n",
       "      <td>Electronics</td>\n",
       "      <td>108330</td>\n",
       "      <td>9595</td>\n",
       "    </tr>\n",
       "    <tr>\n",
       "      <th>3096789</th>\n",
       "      <td>899952</td>\n",
       "      <td>basket</td>\n",
       "      <td>1484</td>\n",
       "      <td>108330</td>\n",
       "      <td>NaN</td>\n",
       "      <td>NaN</td>\n",
       "      <td>2022-04-02 19:08:41.440542</td>\n",
       "      <td>1484</td>\n",
       "      <td>ad_basket</td>\n",
       "      <td>이탈고객</td>\n",
       "      <td>Electronics</td>\n",
       "      <td>108330</td>\n",
       "      <td>9595</td>\n",
       "    </tr>\n",
       "    <tr>\n",
       "      <th>3096892</th>\n",
       "      <td>899993</td>\n",
       "      <td>view</td>\n",
       "      <td>1045</td>\n",
       "      <td>120410</td>\n",
       "      <td>NaN</td>\n",
       "      <td>NaN</td>\n",
       "      <td>2022-05-11 03:04:39.372529</td>\n",
       "      <td>1019</td>\n",
       "      <td>ad_view_other</td>\n",
       "      <td>중요고객</td>\n",
       "      <td>Electronics</td>\n",
       "      <td>120410</td>\n",
       "      <td>2622</td>\n",
       "    </tr>\n",
       "    <tr>\n",
       "      <th>3096917</th>\n",
       "      <td>899999</td>\n",
       "      <td>view</td>\n",
       "      <td>1271</td>\n",
       "      <td>92940</td>\n",
       "      <td>NaN</td>\n",
       "      <td>NaN</td>\n",
       "      <td>2022-04-10 18:07:56.722389</td>\n",
       "      <td>1059</td>\n",
       "      <td>ad_view_other</td>\n",
       "      <td>일반고객</td>\n",
       "      <td>Electronics</td>\n",
       "      <td>92940</td>\n",
       "      <td>8314</td>\n",
       "    </tr>\n",
       "  </tbody>\n",
       "</table>\n",
       "<p>77773 rows × 13 columns</p>\n",
       "</div>"
      ],
      "text/plain": [
       "         CustomerID ActionType  GoodsCode   Price       AdID     CPC  \\\n",
       "38               13       view       1203   85290        NaN     NaN   \n",
       "150              32       view       1336   82700        NaN     NaN   \n",
       "151              32       view       1336   82700        NaN     NaN   \n",
       "157              32   ad_click       1499   33180  ad_google   76.56   \n",
       "158              32   purchase       1499   33180        NaN     NaN   \n",
       "...             ...        ...        ...     ...        ...     ...   \n",
       "3096786      899952   ad_click       1484  108330    ad_line  783.63   \n",
       "3096788      899952   ad_click       1484  108330  ad_google  927.11   \n",
       "3096789      899952     basket       1484  108330        NaN     NaN   \n",
       "3096892      899993       view       1045  120410        NaN     NaN   \n",
       "3096917      899999       view       1271   92940        NaN     NaN   \n",
       "\n",
       "                         Timestamp  GoodsCode_ad      eval_type cluster_plus  \\\n",
       "38      2022-03-17 14:31:19.855443          1090  ad_view_other         일반고객   \n",
       "150     2022-03-10 20:36:37.376860          1036  ad_view_other         중요고객   \n",
       "151     2022-03-11 08:25:32.376860          1036  ad_view_other         중요고객   \n",
       "157     2022-03-30 16:18:05.376860          1499       ad_click         중요고객   \n",
       "158     2022-03-31 10:56:52.376860          1499    ad_purchase         중요고객   \n",
       "...                            ...           ...            ...          ...   \n",
       "3096786 2022-03-28 11:20:18.440542          1484       ad_click         이탈고객   \n",
       "3096788 2022-03-30 04:19:09.440542          1484       ad_click         이탈고객   \n",
       "3096789 2022-04-02 19:08:41.440542          1484      ad_basket         이탈고객   \n",
       "3096892 2022-05-11 03:04:39.372529          1019  ad_view_other         중요고객   \n",
       "3096917 2022-04-10 18:07:56.722389          1059  ad_view_other         일반고객   \n",
       "\n",
       "            Category  OriginalPrice  Inventory  \n",
       "38       Electronics          85290       9173  \n",
       "150      Electronics          82700       4342  \n",
       "151      Electronics          82700       4342  \n",
       "157      Electronics          33180       4591  \n",
       "158      Electronics          33180       4591  \n",
       "...              ...            ...        ...  \n",
       "3096786  Electronics         108330       9595  \n",
       "3096788  Electronics         108330       9595  \n",
       "3096789  Electronics         108330       9595  \n",
       "3096892  Electronics         120410       2622  \n",
       "3096917  Electronics          92940       8314  \n",
       "\n",
       "[77773 rows x 13 columns]"
      ]
     },
     "execution_count": 135,
     "metadata": {},
     "output_type": "execute_result"
    }
   ],
   "source": [
    "elec = ad_funnel[ad_funnel['Category'] == 'Electronics']\n",
    "elec"
   ]
  },
  {
   "cell_type": "code",
   "execution_count": 136,
   "metadata": {},
   "outputs": [
    {
     "name": "stdout",
     "output_type": "stream",
     "text": [
      "퍼널 카운트: {'view': 49300, 'basket': 5018, 'purchase': 1699}\n"
     ]
    }
   ],
   "source": [
    "total_ad_funnel_adpurchase_counts1 = {'view': 0, 'basket': 0, 'purchase': 0}\n",
    "\n",
    "# 퍼널을 계산\n",
    "for idx, row in elec.iterrows():\n",
    "    if row['ActionType'] == 'ad_click':\n",
    "        total_ad_funnel_adpurchase_counts1['view'] += 1\n",
    "    elif row['eval_type'] == 'ad_view':\n",
    "        total_ad_funnel_adpurchase_counts1['view'] += 1\n",
    "    elif row['eval_type'] == 'ad_basket':\n",
    "        total_ad_funnel_adpurchase_counts1['basket'] += 1\n",
    "        total_ad_funnel_adpurchase_counts1['view'] += 1  \n",
    "    elif row['eval_type'] == 'ad_purchase':\n",
    "        total_ad_funnel_adpurchase_counts1['purchase'] += 1\n",
    "        total_ad_funnel_adpurchase_counts1['view'] += 1\n",
    "        total_ad_funnel_adpurchase_counts1['basket'] += 1\n",
    "\n",
    "print(\"퍼널 카운트:\", total_ad_funnel_adpurchase_counts1)\n"
   ]
  },
  {
   "cell_type": "code",
   "execution_count": 137,
   "metadata": {},
   "outputs": [
    {
     "name": "stdout",
     "output_type": "stream",
     "text": [
      "View Count: 49300\n",
      "Basket Count: 5018\n",
      "Purchase Count: 1699\n",
      "View to Basket Conversion Rate: 0.10178498985801217\n",
      "Basket to Purchase Conversion Rate: 0.3385811080111598\n",
      "View to Purchase Conversion Rate: 0.034462474645030425\n"
     ]
    }
   ],
   "source": [
    "view_count_total_elec = 49300\n",
    "basket_count_total_elec = 5018\n",
    "purchase_count_total_elec = 1699\n",
    "\n",
    "\n",
    "# 각 단계에서 다음 단계로의 전환율을 계산합니다.\n",
    "basket_to_purchase_rate_total_elec = purchase_count_total_elec / basket_count_total_elec\n",
    "view_to_basket_rate_ad_total_elec = basket_count_total_elec / view_count_total_elec\n",
    "view_to_purchase_rate_total_elec = purchase_count_total_elec / view_count_total_elec\n",
    "\n",
    "# 결과를 출력합니다.\n",
    "print(\"View Count:\", view_count_total_elec)\n",
    "print(\"Basket Count:\", basket_count_total_elec)\n",
    "print(\"Purchase Count:\", purchase_count_total_elec)\n",
    "print(\"View to Basket Conversion Rate:\", view_to_basket_rate_ad_total_elec)\n",
    "print(\"Basket to Purchase Conversion Rate:\", basket_to_purchase_rate_total_elec)\n",
    "print(\"View to Purchase Conversion Rate:\",view_to_purchase_rate_total_elec)\n"
   ]
  },
  {
   "cell_type": "code",
   "execution_count": 138,
   "metadata": {},
   "outputs": [
    {
     "data": {
      "application/vnd.plotly.v1+json": {
       "config": {
        "plotlyServerURL": "https://plot.ly"
       },
       "data": [
        {
         "hovertemplate": "rate=%{x}<br>stage=%{y}<extra></extra>",
         "legendgroup": "",
         "marker": {
          "color": "#636efa"
         },
         "name": "",
         "orientation": "h",
         "showlegend": false,
         "texttemplate": "%{value:,.2%}",
         "type": "funnel",
         "x": [
          1,
          0.10178498985801217,
          0.034462474645030425
         ],
         "xaxis": "x",
         "y": [
          "view",
          "basket",
          "purchase"
         ],
         "yaxis": "y"
        }
       ],
       "layout": {
        "legend": {
         "tracegroupgap": 0
        },
        "template": {
         "data": {
          "bar": [
           {
            "error_x": {
             "color": "#2a3f5f"
            },
            "error_y": {
             "color": "#2a3f5f"
            },
            "marker": {
             "line": {
              "color": "#E5ECF6",
              "width": 0.5
             },
             "pattern": {
              "fillmode": "overlay",
              "size": 10,
              "solidity": 0.2
             }
            },
            "type": "bar"
           }
          ],
          "barpolar": [
           {
            "marker": {
             "line": {
              "color": "#E5ECF6",
              "width": 0.5
             },
             "pattern": {
              "fillmode": "overlay",
              "size": 10,
              "solidity": 0.2
             }
            },
            "type": "barpolar"
           }
          ],
          "carpet": [
           {
            "aaxis": {
             "endlinecolor": "#2a3f5f",
             "gridcolor": "white",
             "linecolor": "white",
             "minorgridcolor": "white",
             "startlinecolor": "#2a3f5f"
            },
            "baxis": {
             "endlinecolor": "#2a3f5f",
             "gridcolor": "white",
             "linecolor": "white",
             "minorgridcolor": "white",
             "startlinecolor": "#2a3f5f"
            },
            "type": "carpet"
           }
          ],
          "choropleth": [
           {
            "colorbar": {
             "outlinewidth": 0,
             "ticks": ""
            },
            "type": "choropleth"
           }
          ],
          "contour": [
           {
            "colorbar": {
             "outlinewidth": 0,
             "ticks": ""
            },
            "colorscale": [
             [
              0,
              "#0d0887"
             ],
             [
              0.1111111111111111,
              "#46039f"
             ],
             [
              0.2222222222222222,
              "#7201a8"
             ],
             [
              0.3333333333333333,
              "#9c179e"
             ],
             [
              0.4444444444444444,
              "#bd3786"
             ],
             [
              0.5555555555555556,
              "#d8576b"
             ],
             [
              0.6666666666666666,
              "#ed7953"
             ],
             [
              0.7777777777777778,
              "#fb9f3a"
             ],
             [
              0.8888888888888888,
              "#fdca26"
             ],
             [
              1,
              "#f0f921"
             ]
            ],
            "type": "contour"
           }
          ],
          "contourcarpet": [
           {
            "colorbar": {
             "outlinewidth": 0,
             "ticks": ""
            },
            "type": "contourcarpet"
           }
          ],
          "heatmap": [
           {
            "colorbar": {
             "outlinewidth": 0,
             "ticks": ""
            },
            "colorscale": [
             [
              0,
              "#0d0887"
             ],
             [
              0.1111111111111111,
              "#46039f"
             ],
             [
              0.2222222222222222,
              "#7201a8"
             ],
             [
              0.3333333333333333,
              "#9c179e"
             ],
             [
              0.4444444444444444,
              "#bd3786"
             ],
             [
              0.5555555555555556,
              "#d8576b"
             ],
             [
              0.6666666666666666,
              "#ed7953"
             ],
             [
              0.7777777777777778,
              "#fb9f3a"
             ],
             [
              0.8888888888888888,
              "#fdca26"
             ],
             [
              1,
              "#f0f921"
             ]
            ],
            "type": "heatmap"
           }
          ],
          "heatmapgl": [
           {
            "colorbar": {
             "outlinewidth": 0,
             "ticks": ""
            },
            "colorscale": [
             [
              0,
              "#0d0887"
             ],
             [
              0.1111111111111111,
              "#46039f"
             ],
             [
              0.2222222222222222,
              "#7201a8"
             ],
             [
              0.3333333333333333,
              "#9c179e"
             ],
             [
              0.4444444444444444,
              "#bd3786"
             ],
             [
              0.5555555555555556,
              "#d8576b"
             ],
             [
              0.6666666666666666,
              "#ed7953"
             ],
             [
              0.7777777777777778,
              "#fb9f3a"
             ],
             [
              0.8888888888888888,
              "#fdca26"
             ],
             [
              1,
              "#f0f921"
             ]
            ],
            "type": "heatmapgl"
           }
          ],
          "histogram": [
           {
            "marker": {
             "pattern": {
              "fillmode": "overlay",
              "size": 10,
              "solidity": 0.2
             }
            },
            "type": "histogram"
           }
          ],
          "histogram2d": [
           {
            "colorbar": {
             "outlinewidth": 0,
             "ticks": ""
            },
            "colorscale": [
             [
              0,
              "#0d0887"
             ],
             [
              0.1111111111111111,
              "#46039f"
             ],
             [
              0.2222222222222222,
              "#7201a8"
             ],
             [
              0.3333333333333333,
              "#9c179e"
             ],
             [
              0.4444444444444444,
              "#bd3786"
             ],
             [
              0.5555555555555556,
              "#d8576b"
             ],
             [
              0.6666666666666666,
              "#ed7953"
             ],
             [
              0.7777777777777778,
              "#fb9f3a"
             ],
             [
              0.8888888888888888,
              "#fdca26"
             ],
             [
              1,
              "#f0f921"
             ]
            ],
            "type": "histogram2d"
           }
          ],
          "histogram2dcontour": [
           {
            "colorbar": {
             "outlinewidth": 0,
             "ticks": ""
            },
            "colorscale": [
             [
              0,
              "#0d0887"
             ],
             [
              0.1111111111111111,
              "#46039f"
             ],
             [
              0.2222222222222222,
              "#7201a8"
             ],
             [
              0.3333333333333333,
              "#9c179e"
             ],
             [
              0.4444444444444444,
              "#bd3786"
             ],
             [
              0.5555555555555556,
              "#d8576b"
             ],
             [
              0.6666666666666666,
              "#ed7953"
             ],
             [
              0.7777777777777778,
              "#fb9f3a"
             ],
             [
              0.8888888888888888,
              "#fdca26"
             ],
             [
              1,
              "#f0f921"
             ]
            ],
            "type": "histogram2dcontour"
           }
          ],
          "mesh3d": [
           {
            "colorbar": {
             "outlinewidth": 0,
             "ticks": ""
            },
            "type": "mesh3d"
           }
          ],
          "parcoords": [
           {
            "line": {
             "colorbar": {
              "outlinewidth": 0,
              "ticks": ""
             }
            },
            "type": "parcoords"
           }
          ],
          "pie": [
           {
            "automargin": true,
            "type": "pie"
           }
          ],
          "scatter": [
           {
            "fillpattern": {
             "fillmode": "overlay",
             "size": 10,
             "solidity": 0.2
            },
            "type": "scatter"
           }
          ],
          "scatter3d": [
           {
            "line": {
             "colorbar": {
              "outlinewidth": 0,
              "ticks": ""
             }
            },
            "marker": {
             "colorbar": {
              "outlinewidth": 0,
              "ticks": ""
             }
            },
            "type": "scatter3d"
           }
          ],
          "scattercarpet": [
           {
            "marker": {
             "colorbar": {
              "outlinewidth": 0,
              "ticks": ""
             }
            },
            "type": "scattercarpet"
           }
          ],
          "scattergeo": [
           {
            "marker": {
             "colorbar": {
              "outlinewidth": 0,
              "ticks": ""
             }
            },
            "type": "scattergeo"
           }
          ],
          "scattergl": [
           {
            "marker": {
             "colorbar": {
              "outlinewidth": 0,
              "ticks": ""
             }
            },
            "type": "scattergl"
           }
          ],
          "scattermapbox": [
           {
            "marker": {
             "colorbar": {
              "outlinewidth": 0,
              "ticks": ""
             }
            },
            "type": "scattermapbox"
           }
          ],
          "scatterpolar": [
           {
            "marker": {
             "colorbar": {
              "outlinewidth": 0,
              "ticks": ""
             }
            },
            "type": "scatterpolar"
           }
          ],
          "scatterpolargl": [
           {
            "marker": {
             "colorbar": {
              "outlinewidth": 0,
              "ticks": ""
             }
            },
            "type": "scatterpolargl"
           }
          ],
          "scatterternary": [
           {
            "marker": {
             "colorbar": {
              "outlinewidth": 0,
              "ticks": ""
             }
            },
            "type": "scatterternary"
           }
          ],
          "surface": [
           {
            "colorbar": {
             "outlinewidth": 0,
             "ticks": ""
            },
            "colorscale": [
             [
              0,
              "#0d0887"
             ],
             [
              0.1111111111111111,
              "#46039f"
             ],
             [
              0.2222222222222222,
              "#7201a8"
             ],
             [
              0.3333333333333333,
              "#9c179e"
             ],
             [
              0.4444444444444444,
              "#bd3786"
             ],
             [
              0.5555555555555556,
              "#d8576b"
             ],
             [
              0.6666666666666666,
              "#ed7953"
             ],
             [
              0.7777777777777778,
              "#fb9f3a"
             ],
             [
              0.8888888888888888,
              "#fdca26"
             ],
             [
              1,
              "#f0f921"
             ]
            ],
            "type": "surface"
           }
          ],
          "table": [
           {
            "cells": {
             "fill": {
              "color": "#EBF0F8"
             },
             "line": {
              "color": "white"
             }
            },
            "header": {
             "fill": {
              "color": "#C8D4E3"
             },
             "line": {
              "color": "white"
             }
            },
            "type": "table"
           }
          ]
         },
         "layout": {
          "annotationdefaults": {
           "arrowcolor": "#2a3f5f",
           "arrowhead": 0,
           "arrowwidth": 1
          },
          "autotypenumbers": "strict",
          "coloraxis": {
           "colorbar": {
            "outlinewidth": 0,
            "ticks": ""
           }
          },
          "colorscale": {
           "diverging": [
            [
             0,
             "#8e0152"
            ],
            [
             0.1,
             "#c51b7d"
            ],
            [
             0.2,
             "#de77ae"
            ],
            [
             0.3,
             "#f1b6da"
            ],
            [
             0.4,
             "#fde0ef"
            ],
            [
             0.5,
             "#f7f7f7"
            ],
            [
             0.6,
             "#e6f5d0"
            ],
            [
             0.7,
             "#b8e186"
            ],
            [
             0.8,
             "#7fbc41"
            ],
            [
             0.9,
             "#4d9221"
            ],
            [
             1,
             "#276419"
            ]
           ],
           "sequential": [
            [
             0,
             "#0d0887"
            ],
            [
             0.1111111111111111,
             "#46039f"
            ],
            [
             0.2222222222222222,
             "#7201a8"
            ],
            [
             0.3333333333333333,
             "#9c179e"
            ],
            [
             0.4444444444444444,
             "#bd3786"
            ],
            [
             0.5555555555555556,
             "#d8576b"
            ],
            [
             0.6666666666666666,
             "#ed7953"
            ],
            [
             0.7777777777777778,
             "#fb9f3a"
            ],
            [
             0.8888888888888888,
             "#fdca26"
            ],
            [
             1,
             "#f0f921"
            ]
           ],
           "sequentialminus": [
            [
             0,
             "#0d0887"
            ],
            [
             0.1111111111111111,
             "#46039f"
            ],
            [
             0.2222222222222222,
             "#7201a8"
            ],
            [
             0.3333333333333333,
             "#9c179e"
            ],
            [
             0.4444444444444444,
             "#bd3786"
            ],
            [
             0.5555555555555556,
             "#d8576b"
            ],
            [
             0.6666666666666666,
             "#ed7953"
            ],
            [
             0.7777777777777778,
             "#fb9f3a"
            ],
            [
             0.8888888888888888,
             "#fdca26"
            ],
            [
             1,
             "#f0f921"
            ]
           ]
          },
          "colorway": [
           "#636efa",
           "#EF553B",
           "#00cc96",
           "#ab63fa",
           "#FFA15A",
           "#19d3f3",
           "#FF6692",
           "#B6E880",
           "#FF97FF",
           "#FECB52"
          ],
          "font": {
           "color": "#2a3f5f"
          },
          "geo": {
           "bgcolor": "white",
           "lakecolor": "white",
           "landcolor": "#E5ECF6",
           "showlakes": true,
           "showland": true,
           "subunitcolor": "white"
          },
          "hoverlabel": {
           "align": "left"
          },
          "hovermode": "closest",
          "mapbox": {
           "style": "light"
          },
          "paper_bgcolor": "white",
          "plot_bgcolor": "#E5ECF6",
          "polar": {
           "angularaxis": {
            "gridcolor": "white",
            "linecolor": "white",
            "ticks": ""
           },
           "bgcolor": "#E5ECF6",
           "radialaxis": {
            "gridcolor": "white",
            "linecolor": "white",
            "ticks": ""
           }
          },
          "scene": {
           "xaxis": {
            "backgroundcolor": "#E5ECF6",
            "gridcolor": "white",
            "gridwidth": 2,
            "linecolor": "white",
            "showbackground": true,
            "ticks": "",
            "zerolinecolor": "white"
           },
           "yaxis": {
            "backgroundcolor": "#E5ECF6",
            "gridcolor": "white",
            "gridwidth": 2,
            "linecolor": "white",
            "showbackground": true,
            "ticks": "",
            "zerolinecolor": "white"
           },
           "zaxis": {
            "backgroundcolor": "#E5ECF6",
            "gridcolor": "white",
            "gridwidth": 2,
            "linecolor": "white",
            "showbackground": true,
            "ticks": "",
            "zerolinecolor": "white"
           }
          },
          "shapedefaults": {
           "line": {
            "color": "#2a3f5f"
           }
          },
          "ternary": {
           "aaxis": {
            "gridcolor": "white",
            "linecolor": "white",
            "ticks": ""
           },
           "baxis": {
            "gridcolor": "white",
            "linecolor": "white",
            "ticks": ""
           },
           "bgcolor": "#E5ECF6",
           "caxis": {
            "gridcolor": "white",
            "linecolor": "white",
            "ticks": ""
           }
          },
          "title": {
           "x": 0.05
          },
          "xaxis": {
           "automargin": true,
           "gridcolor": "white",
           "linecolor": "white",
           "ticks": "",
           "title": {
            "standoff": 15
           },
           "zerolinecolor": "white",
           "zerolinewidth": 2
          },
          "yaxis": {
           "automargin": true,
           "gridcolor": "white",
           "linecolor": "white",
           "ticks": "",
           "title": {
            "standoff": 15
           },
           "zerolinecolor": "white",
           "zerolinewidth": 2
          }
         }
        },
        "title": {
         "text": "전체고객 Funnel (Electronics)"
        },
        "xaxis": {
         "anchor": "y",
         "domain": [
          0,
          1
         ],
         "title": {
          "text": "rate"
         }
        },
        "yaxis": {
         "anchor": "x",
         "domain": [
          0,
          1
         ],
         "title": {
          "text": "stage"
         }
        }
       }
      }
     },
     "metadata": {},
     "output_type": "display_data"
    }
   ],
   "source": [
    "data = dict(\n",
    "    number=[49300,5018,1699],\n",
    "    stage=['view','basket','purchase'],\n",
    "    rate=[1,0.10178498985801217,0.034462474645030425]\n",
    ")\n",
    "fig = px.funnel(data, x='rate', y='stage', title='전체고객 Funnel (Electronics)')\n",
    "fig.update_traces(texttemplate=\"%{value:,.2%}\")\n",
    "fig.show()"
   ]
  },
  {
   "cell_type": "markdown",
   "metadata": {},
   "source": [
    "## 이탈고객 (0)"
   ]
  },
  {
   "cell_type": "code",
   "execution_count": 139,
   "metadata": {},
   "outputs": [
    {
     "data": {
      "text/html": [
       "<div>\n",
       "<style scoped>\n",
       "    .dataframe tbody tr th:only-of-type {\n",
       "        vertical-align: middle;\n",
       "    }\n",
       "\n",
       "    .dataframe tbody tr th {\n",
       "        vertical-align: top;\n",
       "    }\n",
       "\n",
       "    .dataframe thead th {\n",
       "        text-align: right;\n",
       "    }\n",
       "</style>\n",
       "<table border=\"1\" class=\"dataframe\">\n",
       "  <thead>\n",
       "    <tr style=\"text-align: right;\">\n",
       "      <th></th>\n",
       "      <th>CustomerID</th>\n",
       "      <th>ActionType</th>\n",
       "      <th>GoodsCode</th>\n",
       "      <th>Price</th>\n",
       "      <th>AdID</th>\n",
       "      <th>CPC</th>\n",
       "      <th>Timestamp</th>\n",
       "      <th>GoodsCode_ad</th>\n",
       "      <th>eval_type</th>\n",
       "      <th>cluster_plus</th>\n",
       "      <th>Category</th>\n",
       "      <th>OriginalPrice</th>\n",
       "      <th>Inventory</th>\n",
       "    </tr>\n",
       "  </thead>\n",
       "  <tbody>\n",
       "    <tr>\n",
       "      <th>183</th>\n",
       "      <td>33</td>\n",
       "      <td>ad_click</td>\n",
       "      <td>1149</td>\n",
       "      <td>17780</td>\n",
       "      <td>ad_line</td>\n",
       "      <td>131.84</td>\n",
       "      <td>2022-04-10 18:14:48.486139</td>\n",
       "      <td>1149</td>\n",
       "      <td>ad_click</td>\n",
       "      <td>이탈고객</td>\n",
       "      <td>Books</td>\n",
       "      <td>17780</td>\n",
       "      <td>4294</td>\n",
       "    </tr>\n",
       "    <tr>\n",
       "      <th>304</th>\n",
       "      <td>84</td>\n",
       "      <td>ad_click</td>\n",
       "      <td>1348</td>\n",
       "      <td>7920</td>\n",
       "      <td>ad_line</td>\n",
       "      <td>66.44</td>\n",
       "      <td>2022-04-24 13:06:24.760000</td>\n",
       "      <td>1348</td>\n",
       "      <td>ad_click</td>\n",
       "      <td>이탈고객</td>\n",
       "      <td>Clothing</td>\n",
       "      <td>7920</td>\n",
       "      <td>7446</td>\n",
       "    </tr>\n",
       "    <tr>\n",
       "      <th>305</th>\n",
       "      <td>84</td>\n",
       "      <td>view</td>\n",
       "      <td>1392</td>\n",
       "      <td>5360</td>\n",
       "      <td>NaN</td>\n",
       "      <td>NaN</td>\n",
       "      <td>2022-04-25 07:08:36.961569</td>\n",
       "      <td>1348</td>\n",
       "      <td>ad_view_other</td>\n",
       "      <td>이탈고객</td>\n",
       "      <td>Health &amp; Beauty</td>\n",
       "      <td>5360</td>\n",
       "      <td>3433</td>\n",
       "    </tr>\n",
       "    <tr>\n",
       "      <th>306</th>\n",
       "      <td>84</td>\n",
       "      <td>view</td>\n",
       "      <td>1076</td>\n",
       "      <td>146320</td>\n",
       "      <td>NaN</td>\n",
       "      <td>NaN</td>\n",
       "      <td>2022-04-26 01:59:16.961569</td>\n",
       "      <td>1348</td>\n",
       "      <td>ad_view_other</td>\n",
       "      <td>이탈고객</td>\n",
       "      <td>Electronics</td>\n",
       "      <td>146320</td>\n",
       "      <td>7766</td>\n",
       "    </tr>\n",
       "    <tr>\n",
       "      <th>307</th>\n",
       "      <td>84</td>\n",
       "      <td>view</td>\n",
       "      <td>1076</td>\n",
       "      <td>146320</td>\n",
       "      <td>NaN</td>\n",
       "      <td>NaN</td>\n",
       "      <td>2022-04-28 10:21:21.961569</td>\n",
       "      <td>1348</td>\n",
       "      <td>ad_view_other</td>\n",
       "      <td>이탈고객</td>\n",
       "      <td>Electronics</td>\n",
       "      <td>146320</td>\n",
       "      <td>7766</td>\n",
       "    </tr>\n",
       "    <tr>\n",
       "      <th>...</th>\n",
       "      <td>...</td>\n",
       "      <td>...</td>\n",
       "      <td>...</td>\n",
       "      <td>...</td>\n",
       "      <td>...</td>\n",
       "      <td>...</td>\n",
       "      <td>...</td>\n",
       "      <td>...</td>\n",
       "      <td>...</td>\n",
       "      <td>...</td>\n",
       "      <td>...</td>\n",
       "      <td>...</td>\n",
       "      <td>...</td>\n",
       "    </tr>\n",
       "    <tr>\n",
       "      <th>3096788</th>\n",
       "      <td>899952</td>\n",
       "      <td>ad_click</td>\n",
       "      <td>1484</td>\n",
       "      <td>108330</td>\n",
       "      <td>ad_google</td>\n",
       "      <td>927.11</td>\n",
       "      <td>2022-03-30 04:19:09.440542</td>\n",
       "      <td>1484</td>\n",
       "      <td>ad_click</td>\n",
       "      <td>이탈고객</td>\n",
       "      <td>Electronics</td>\n",
       "      <td>108330</td>\n",
       "      <td>9595</td>\n",
       "    </tr>\n",
       "    <tr>\n",
       "      <th>3096789</th>\n",
       "      <td>899952</td>\n",
       "      <td>basket</td>\n",
       "      <td>1484</td>\n",
       "      <td>108330</td>\n",
       "      <td>NaN</td>\n",
       "      <td>NaN</td>\n",
       "      <td>2022-04-02 19:08:41.440542</td>\n",
       "      <td>1484</td>\n",
       "      <td>ad_basket</td>\n",
       "      <td>이탈고객</td>\n",
       "      <td>Electronics</td>\n",
       "      <td>108330</td>\n",
       "      <td>9595</td>\n",
       "    </tr>\n",
       "    <tr>\n",
       "      <th>3096790</th>\n",
       "      <td>899952</td>\n",
       "      <td>view</td>\n",
       "      <td>1418</td>\n",
       "      <td>21060</td>\n",
       "      <td>NaN</td>\n",
       "      <td>NaN</td>\n",
       "      <td>2022-04-02 20:12:36.440542</td>\n",
       "      <td>1484</td>\n",
       "      <td>ad_view_other</td>\n",
       "      <td>이탈고객</td>\n",
       "      <td>Health &amp; Beauty</td>\n",
       "      <td>21060</td>\n",
       "      <td>1001</td>\n",
       "    </tr>\n",
       "    <tr>\n",
       "      <th>3096825</th>\n",
       "      <td>899965</td>\n",
       "      <td>ad_click</td>\n",
       "      <td>1196</td>\n",
       "      <td>17690</td>\n",
       "      <td>ad_line</td>\n",
       "      <td>45.31</td>\n",
       "      <td>2022-03-16 09:19:26.486139</td>\n",
       "      <td>1196</td>\n",
       "      <td>ad_click</td>\n",
       "      <td>이탈고객</td>\n",
       "      <td>Home &amp; Garden</td>\n",
       "      <td>17690</td>\n",
       "      <td>3033</td>\n",
       "    </tr>\n",
       "    <tr>\n",
       "      <th>3096826</th>\n",
       "      <td>899965</td>\n",
       "      <td>ad_click</td>\n",
       "      <td>1377</td>\n",
       "      <td>21030</td>\n",
       "      <td>ad_meta</td>\n",
       "      <td>131.82</td>\n",
       "      <td>2022-03-25 20:38:45.486139</td>\n",
       "      <td>1377</td>\n",
       "      <td>ad_click</td>\n",
       "      <td>이탈고객</td>\n",
       "      <td>Clothing</td>\n",
       "      <td>21030</td>\n",
       "      <td>9884</td>\n",
       "    </tr>\n",
       "  </tbody>\n",
       "</table>\n",
       "<p>104560 rows × 13 columns</p>\n",
       "</div>"
      ],
      "text/plain": [
       "         CustomerID ActionType  GoodsCode   Price       AdID     CPC  \\\n",
       "183              33   ad_click       1149   17780    ad_line  131.84   \n",
       "304              84   ad_click       1348    7920    ad_line   66.44   \n",
       "305              84       view       1392    5360        NaN     NaN   \n",
       "306              84       view       1076  146320        NaN     NaN   \n",
       "307              84       view       1076  146320        NaN     NaN   \n",
       "...             ...        ...        ...     ...        ...     ...   \n",
       "3096788      899952   ad_click       1484  108330  ad_google  927.11   \n",
       "3096789      899952     basket       1484  108330        NaN     NaN   \n",
       "3096790      899952       view       1418   21060        NaN     NaN   \n",
       "3096825      899965   ad_click       1196   17690    ad_line   45.31   \n",
       "3096826      899965   ad_click       1377   21030    ad_meta  131.82   \n",
       "\n",
       "                         Timestamp  GoodsCode_ad      eval_type cluster_plus  \\\n",
       "183     2022-04-10 18:14:48.486139          1149       ad_click         이탈고객   \n",
       "304     2022-04-24 13:06:24.760000          1348       ad_click         이탈고객   \n",
       "305     2022-04-25 07:08:36.961569          1348  ad_view_other         이탈고객   \n",
       "306     2022-04-26 01:59:16.961569          1348  ad_view_other         이탈고객   \n",
       "307     2022-04-28 10:21:21.961569          1348  ad_view_other         이탈고객   \n",
       "...                            ...           ...            ...          ...   \n",
       "3096788 2022-03-30 04:19:09.440542          1484       ad_click         이탈고객   \n",
       "3096789 2022-04-02 19:08:41.440542          1484      ad_basket         이탈고객   \n",
       "3096790 2022-04-02 20:12:36.440542          1484  ad_view_other         이탈고객   \n",
       "3096825 2022-03-16 09:19:26.486139          1196       ad_click         이탈고객   \n",
       "3096826 2022-03-25 20:38:45.486139          1377       ad_click         이탈고객   \n",
       "\n",
       "                Category  OriginalPrice  Inventory  \n",
       "183                Books          17780       4294  \n",
       "304             Clothing           7920       7446  \n",
       "305      Health & Beauty           5360       3433  \n",
       "306          Electronics         146320       7766  \n",
       "307          Electronics         146320       7766  \n",
       "...                  ...            ...        ...  \n",
       "3096788      Electronics         108330       9595  \n",
       "3096789      Electronics         108330       9595  \n",
       "3096790  Health & Beauty          21060       1001  \n",
       "3096825    Home & Garden          17690       3033  \n",
       "3096826         Clothing          21030       9884  \n",
       "\n",
       "[104560 rows x 13 columns]"
      ]
     },
     "execution_count": 139,
     "metadata": {},
     "output_type": "execute_result"
    }
   ],
   "source": [
    "etal = ad_funnel[ad_funnel['cluster_plus']=='이탈고객']\n",
    "etal"
   ]
  },
  {
   "cell_type": "code",
   "execution_count": 140,
   "metadata": {},
   "outputs": [
    {
     "data": {
      "text/html": [
       "<div>\n",
       "<style scoped>\n",
       "    .dataframe tbody tr th:only-of-type {\n",
       "        vertical-align: middle;\n",
       "    }\n",
       "\n",
       "    .dataframe tbody tr th {\n",
       "        vertical-align: top;\n",
       "    }\n",
       "\n",
       "    .dataframe thead th {\n",
       "        text-align: right;\n",
       "    }\n",
       "</style>\n",
       "<table border=\"1\" class=\"dataframe\">\n",
       "  <thead>\n",
       "    <tr style=\"text-align: right;\">\n",
       "      <th></th>\n",
       "      <th>CustomerID</th>\n",
       "      <th>ActionType</th>\n",
       "      <th>GoodsCode</th>\n",
       "      <th>Price</th>\n",
       "      <th>AdID</th>\n",
       "      <th>CPC</th>\n",
       "      <th>Timestamp</th>\n",
       "      <th>GoodsCode_ad</th>\n",
       "      <th>eval_type</th>\n",
       "      <th>cluster_plus</th>\n",
       "      <th>Category</th>\n",
       "      <th>OriginalPrice</th>\n",
       "      <th>Inventory</th>\n",
       "    </tr>\n",
       "  </thead>\n",
       "  <tbody>\n",
       "    <tr>\n",
       "      <th>306</th>\n",
       "      <td>84</td>\n",
       "      <td>view</td>\n",
       "      <td>1076</td>\n",
       "      <td>146320</td>\n",
       "      <td>NaN</td>\n",
       "      <td>NaN</td>\n",
       "      <td>2022-04-26 01:59:16.961569</td>\n",
       "      <td>1348</td>\n",
       "      <td>ad_view_other</td>\n",
       "      <td>이탈고객</td>\n",
       "      <td>Electronics</td>\n",
       "      <td>146320</td>\n",
       "      <td>7766</td>\n",
       "    </tr>\n",
       "    <tr>\n",
       "      <th>307</th>\n",
       "      <td>84</td>\n",
       "      <td>view</td>\n",
       "      <td>1076</td>\n",
       "      <td>146320</td>\n",
       "      <td>NaN</td>\n",
       "      <td>NaN</td>\n",
       "      <td>2022-04-28 10:21:21.961569</td>\n",
       "      <td>1348</td>\n",
       "      <td>ad_view_other</td>\n",
       "      <td>이탈고객</td>\n",
       "      <td>Electronics</td>\n",
       "      <td>146320</td>\n",
       "      <td>7766</td>\n",
       "    </tr>\n",
       "    <tr>\n",
       "      <th>375</th>\n",
       "      <td>102</td>\n",
       "      <td>view</td>\n",
       "      <td>1081</td>\n",
       "      <td>105310</td>\n",
       "      <td>NaN</td>\n",
       "      <td>NaN</td>\n",
       "      <td>2022-04-03 04:18:43.530419</td>\n",
       "      <td>1459</td>\n",
       "      <td>ad_view_other</td>\n",
       "      <td>이탈고객</td>\n",
       "      <td>Electronics</td>\n",
       "      <td>105310</td>\n",
       "      <td>6408</td>\n",
       "    </tr>\n",
       "    <tr>\n",
       "      <th>1093</th>\n",
       "      <td>256</td>\n",
       "      <td>ad_click</td>\n",
       "      <td>1265</td>\n",
       "      <td>49280</td>\n",
       "      <td>ad_line</td>\n",
       "      <td>132.12</td>\n",
       "      <td>2022-04-14 11:12:17.511967</td>\n",
       "      <td>1265</td>\n",
       "      <td>ad_click</td>\n",
       "      <td>이탈고객</td>\n",
       "      <td>Electronics</td>\n",
       "      <td>49280</td>\n",
       "      <td>3745</td>\n",
       "    </tr>\n",
       "    <tr>\n",
       "      <th>1658</th>\n",
       "      <td>432</td>\n",
       "      <td>ad_click</td>\n",
       "      <td>1385</td>\n",
       "      <td>78100</td>\n",
       "      <td>ad_google</td>\n",
       "      <td>486.17</td>\n",
       "      <td>2022-04-06 12:38:26.855443</td>\n",
       "      <td>1385</td>\n",
       "      <td>ad_click</td>\n",
       "      <td>이탈고객</td>\n",
       "      <td>Electronics</td>\n",
       "      <td>78100</td>\n",
       "      <td>2763</td>\n",
       "    </tr>\n",
       "    <tr>\n",
       "      <th>...</th>\n",
       "      <td>...</td>\n",
       "      <td>...</td>\n",
       "      <td>...</td>\n",
       "      <td>...</td>\n",
       "      <td>...</td>\n",
       "      <td>...</td>\n",
       "      <td>...</td>\n",
       "      <td>...</td>\n",
       "      <td>...</td>\n",
       "      <td>...</td>\n",
       "      <td>...</td>\n",
       "      <td>...</td>\n",
       "      <td>...</td>\n",
       "    </tr>\n",
       "    <tr>\n",
       "      <th>3096634</th>\n",
       "      <td>899919</td>\n",
       "      <td>ad_click</td>\n",
       "      <td>1486</td>\n",
       "      <td>41930</td>\n",
       "      <td>ad_meta</td>\n",
       "      <td>168.45</td>\n",
       "      <td>2022-05-12 22:46:13.794648</td>\n",
       "      <td>1486</td>\n",
       "      <td>ad_click</td>\n",
       "      <td>이탈고객</td>\n",
       "      <td>Electronics</td>\n",
       "      <td>41930</td>\n",
       "      <td>7675</td>\n",
       "    </tr>\n",
       "    <tr>\n",
       "      <th>3096635</th>\n",
       "      <td>899919</td>\n",
       "      <td>view</td>\n",
       "      <td>1486</td>\n",
       "      <td>41930</td>\n",
       "      <td>NaN</td>\n",
       "      <td>NaN</td>\n",
       "      <td>2022-05-18 13:06:55.794648</td>\n",
       "      <td>1486</td>\n",
       "      <td>ad_view</td>\n",
       "      <td>이탈고객</td>\n",
       "      <td>Electronics</td>\n",
       "      <td>41930</td>\n",
       "      <td>7675</td>\n",
       "    </tr>\n",
       "    <tr>\n",
       "      <th>3096786</th>\n",
       "      <td>899952</td>\n",
       "      <td>ad_click</td>\n",
       "      <td>1484</td>\n",
       "      <td>108330</td>\n",
       "      <td>ad_line</td>\n",
       "      <td>783.63</td>\n",
       "      <td>2022-03-28 11:20:18.440542</td>\n",
       "      <td>1484</td>\n",
       "      <td>ad_click</td>\n",
       "      <td>이탈고객</td>\n",
       "      <td>Electronics</td>\n",
       "      <td>108330</td>\n",
       "      <td>9595</td>\n",
       "    </tr>\n",
       "    <tr>\n",
       "      <th>3096788</th>\n",
       "      <td>899952</td>\n",
       "      <td>ad_click</td>\n",
       "      <td>1484</td>\n",
       "      <td>108330</td>\n",
       "      <td>ad_google</td>\n",
       "      <td>927.11</td>\n",
       "      <td>2022-03-30 04:19:09.440542</td>\n",
       "      <td>1484</td>\n",
       "      <td>ad_click</td>\n",
       "      <td>이탈고객</td>\n",
       "      <td>Electronics</td>\n",
       "      <td>108330</td>\n",
       "      <td>9595</td>\n",
       "    </tr>\n",
       "    <tr>\n",
       "      <th>3096789</th>\n",
       "      <td>899952</td>\n",
       "      <td>basket</td>\n",
       "      <td>1484</td>\n",
       "      <td>108330</td>\n",
       "      <td>NaN</td>\n",
       "      <td>NaN</td>\n",
       "      <td>2022-04-02 19:08:41.440542</td>\n",
       "      <td>1484</td>\n",
       "      <td>ad_basket</td>\n",
       "      <td>이탈고객</td>\n",
       "      <td>Electronics</td>\n",
       "      <td>108330</td>\n",
       "      <td>9595</td>\n",
       "    </tr>\n",
       "  </tbody>\n",
       "</table>\n",
       "<p>19828 rows × 13 columns</p>\n",
       "</div>"
      ],
      "text/plain": [
       "         CustomerID ActionType  GoodsCode   Price       AdID     CPC  \\\n",
       "306              84       view       1076  146320        NaN     NaN   \n",
       "307              84       view       1076  146320        NaN     NaN   \n",
       "375             102       view       1081  105310        NaN     NaN   \n",
       "1093            256   ad_click       1265   49280    ad_line  132.12   \n",
       "1658            432   ad_click       1385   78100  ad_google  486.17   \n",
       "...             ...        ...        ...     ...        ...     ...   \n",
       "3096634      899919   ad_click       1486   41930    ad_meta  168.45   \n",
       "3096635      899919       view       1486   41930        NaN     NaN   \n",
       "3096786      899952   ad_click       1484  108330    ad_line  783.63   \n",
       "3096788      899952   ad_click       1484  108330  ad_google  927.11   \n",
       "3096789      899952     basket       1484  108330        NaN     NaN   \n",
       "\n",
       "                         Timestamp  GoodsCode_ad      eval_type cluster_plus  \\\n",
       "306     2022-04-26 01:59:16.961569          1348  ad_view_other         이탈고객   \n",
       "307     2022-04-28 10:21:21.961569          1348  ad_view_other         이탈고객   \n",
       "375     2022-04-03 04:18:43.530419          1459  ad_view_other         이탈고객   \n",
       "1093    2022-04-14 11:12:17.511967          1265       ad_click         이탈고객   \n",
       "1658    2022-04-06 12:38:26.855443          1385       ad_click         이탈고객   \n",
       "...                            ...           ...            ...          ...   \n",
       "3096634 2022-05-12 22:46:13.794648          1486       ad_click         이탈고객   \n",
       "3096635 2022-05-18 13:06:55.794648          1486        ad_view         이탈고객   \n",
       "3096786 2022-03-28 11:20:18.440542          1484       ad_click         이탈고객   \n",
       "3096788 2022-03-30 04:19:09.440542          1484       ad_click         이탈고객   \n",
       "3096789 2022-04-02 19:08:41.440542          1484      ad_basket         이탈고객   \n",
       "\n",
       "            Category  OriginalPrice  Inventory  \n",
       "306      Electronics         146320       7766  \n",
       "307      Electronics         146320       7766  \n",
       "375      Electronics         105310       6408  \n",
       "1093     Electronics          49280       3745  \n",
       "1658     Electronics          78100       2763  \n",
       "...              ...            ...        ...  \n",
       "3096634  Electronics          41930       7675  \n",
       "3096635  Electronics          41930       7675  \n",
       "3096786  Electronics         108330       9595  \n",
       "3096788  Electronics         108330       9595  \n",
       "3096789  Electronics         108330       9595  \n",
       "\n",
       "[19828 rows x 13 columns]"
      ]
     },
     "execution_count": 140,
     "metadata": {},
     "output_type": "execute_result"
    }
   ],
   "source": [
    "etal = etal[etal['Category'] == 'Electronics']\n",
    "etal"
   ]
  },
  {
   "cell_type": "code",
   "execution_count": 141,
   "metadata": {},
   "outputs": [
    {
     "name": "stdout",
     "output_type": "stream",
     "text": [
      "퍼널 카운트: {'view': 14104, 'basket': 1208, 'purchase': 264}\n"
     ]
    }
   ],
   "source": [
    "etal_ad_funnel_adpurchase_counts = {'view': 0, 'basket': 0, 'purchase': 0}\n",
    "\n",
    "# 퍼널을 계산\n",
    "for idx, row in etal.iterrows():\n",
    "    if row['ActionType'] == 'ad_click':\n",
    "        etal_ad_funnel_adpurchase_counts['view'] += 1\n",
    "    elif row['ActionType'] == 'view' and row['GoodsCode'] == row['GoodsCode_ad']:\n",
    "        etal_ad_funnel_adpurchase_counts['view'] += 1\n",
    "    elif row['ActionType'] == 'basket' and row['GoodsCode'] == row['GoodsCode_ad']:\n",
    "        etal_ad_funnel_adpurchase_counts['basket'] += 1\n",
    "        etal_ad_funnel_adpurchase_counts['view'] += 1  \n",
    "    elif row['ActionType'] == 'purchase' and row['GoodsCode'] == row['GoodsCode_ad']:\n",
    "        etal_ad_funnel_adpurchase_counts['purchase'] += 1\n",
    "        etal_ad_funnel_adpurchase_counts['view'] += 1\n",
    "        etal_ad_funnel_adpurchase_counts['basket'] += 1\n",
    "\n",
    "print(\"퍼널 카운트:\", etal_ad_funnel_adpurchase_counts)\n"
   ]
  },
  {
   "cell_type": "code",
   "execution_count": 142,
   "metadata": {},
   "outputs": [
    {
     "name": "stdout",
     "output_type": "stream",
     "text": [
      "퍼널 카운트: {'view': 14104, 'basket': 1208, 'purchase': 264}\n"
     ]
    }
   ],
   "source": [
    "etal_ad_funnel_adpurchase_counts2 = {'view': 0, 'basket': 0, 'purchase': 0}\n",
    "\n",
    "# 퍼널을 계산\n",
    "for idx, row in etal.iterrows():\n",
    "    if row['ActionType'] == 'ad_click':\n",
    "        etal_ad_funnel_adpurchase_counts2['view'] += 1\n",
    "    if row['eval_type'] == 'ad_view':\n",
    "        etal_ad_funnel_adpurchase_counts2['view'] += 1\n",
    "    elif row['eval_type'] == 'ad_basket':\n",
    "        etal_ad_funnel_adpurchase_counts2['basket'] += 1\n",
    "        etal_ad_funnel_adpurchase_counts2['view'] += 1  \n",
    "    elif row['eval_type'] == 'ad_purchase':\n",
    "        etal_ad_funnel_adpurchase_counts2['purchase'] += 1\n",
    "        etal_ad_funnel_adpurchase_counts2['view'] += 1\n",
    "        etal_ad_funnel_adpurchase_counts2['basket'] += 1\n",
    "\n",
    "print(\"퍼널 카운트:\", etal_ad_funnel_adpurchase_counts2)\n",
    "\n",
    "# 퍼널 카운트: {'view': 11014, 'basket': 944, 'purchase': 264}\n"
   ]
  },
  {
   "cell_type": "code",
   "execution_count": 143,
   "metadata": {},
   "outputs": [
    {
     "name": "stdout",
     "output_type": "stream",
     "text": [
      "View Count: 14104\n",
      "Basket Count: 1208\n",
      "Purchase Count: 264\n",
      "View to Basket Conversion Rate: 0.08564946114577425\n",
      "Basket to Purchase Conversion Rate: 0.2185430463576159\n",
      "View to Purchase Conversion Rate: 0.01871809415768576\n"
     ]
    }
   ],
   "source": [
    "view_count_etal_elec = 14104\n",
    "basket_count_etal_elec = 1208\n",
    "purchase_count_etal_elec = 264\n",
    "\n",
    "\n",
    "# 각 단계에서 다음 단계로의 전환율을 계산합니다.\n",
    "basket_to_purchase_rate_etal_elec = purchase_count_etal_elec / basket_count_etal_elec\n",
    "view_to_basket_rate_ad_etal_elec = basket_count_etal_elec / view_count_etal_elec\n",
    "view_to_purchase_rate_etal_elec = purchase_count_etal_elec / view_count_etal_elec\n",
    "\n",
    "# 결과를 출력합니다.\n",
    "print(\"View Count:\", view_count_etal_elec)\n",
    "print(\"Basket Count:\", basket_count_etal_elec)\n",
    "print(\"Purchase Count:\", purchase_count_etal_elec)\n",
    "print(\"View to Basket Conversion Rate:\", view_to_basket_rate_ad_etal_elec)\n",
    "print(\"Basket to Purchase Conversion Rate:\", basket_to_purchase_rate_etal_elec)\n",
    "print(\"View to Purchase Conversion Rate:\",view_to_purchase_rate_etal_elec)\n"
   ]
  },
  {
   "cell_type": "code",
   "execution_count": 144,
   "metadata": {},
   "outputs": [
    {
     "data": {
      "application/vnd.plotly.v1+json": {
       "config": {
        "plotlyServerURL": "https://plot.ly"
       },
       "data": [
        {
         "hovertemplate": "rate=%{x}<br>stage=%{y}<extra></extra>",
         "legendgroup": "",
         "marker": {
          "color": "#636efa"
         },
         "name": "",
         "orientation": "h",
         "showlegend": false,
         "texttemplate": "%{value:,.2%}",
         "type": "funnel",
         "x": [
          1,
          0.08564946114577425,
          0.01871809415768576
         ],
         "xaxis": "x",
         "y": [
          "view",
          "basket",
          "purchase"
         ],
         "yaxis": "y"
        }
       ],
       "layout": {
        "legend": {
         "tracegroupgap": 0
        },
        "template": {
         "data": {
          "bar": [
           {
            "error_x": {
             "color": "#2a3f5f"
            },
            "error_y": {
             "color": "#2a3f5f"
            },
            "marker": {
             "line": {
              "color": "#E5ECF6",
              "width": 0.5
             },
             "pattern": {
              "fillmode": "overlay",
              "size": 10,
              "solidity": 0.2
             }
            },
            "type": "bar"
           }
          ],
          "barpolar": [
           {
            "marker": {
             "line": {
              "color": "#E5ECF6",
              "width": 0.5
             },
             "pattern": {
              "fillmode": "overlay",
              "size": 10,
              "solidity": 0.2
             }
            },
            "type": "barpolar"
           }
          ],
          "carpet": [
           {
            "aaxis": {
             "endlinecolor": "#2a3f5f",
             "gridcolor": "white",
             "linecolor": "white",
             "minorgridcolor": "white",
             "startlinecolor": "#2a3f5f"
            },
            "baxis": {
             "endlinecolor": "#2a3f5f",
             "gridcolor": "white",
             "linecolor": "white",
             "minorgridcolor": "white",
             "startlinecolor": "#2a3f5f"
            },
            "type": "carpet"
           }
          ],
          "choropleth": [
           {
            "colorbar": {
             "outlinewidth": 0,
             "ticks": ""
            },
            "type": "choropleth"
           }
          ],
          "contour": [
           {
            "colorbar": {
             "outlinewidth": 0,
             "ticks": ""
            },
            "colorscale": [
             [
              0,
              "#0d0887"
             ],
             [
              0.1111111111111111,
              "#46039f"
             ],
             [
              0.2222222222222222,
              "#7201a8"
             ],
             [
              0.3333333333333333,
              "#9c179e"
             ],
             [
              0.4444444444444444,
              "#bd3786"
             ],
             [
              0.5555555555555556,
              "#d8576b"
             ],
             [
              0.6666666666666666,
              "#ed7953"
             ],
             [
              0.7777777777777778,
              "#fb9f3a"
             ],
             [
              0.8888888888888888,
              "#fdca26"
             ],
             [
              1,
              "#f0f921"
             ]
            ],
            "type": "contour"
           }
          ],
          "contourcarpet": [
           {
            "colorbar": {
             "outlinewidth": 0,
             "ticks": ""
            },
            "type": "contourcarpet"
           }
          ],
          "heatmap": [
           {
            "colorbar": {
             "outlinewidth": 0,
             "ticks": ""
            },
            "colorscale": [
             [
              0,
              "#0d0887"
             ],
             [
              0.1111111111111111,
              "#46039f"
             ],
             [
              0.2222222222222222,
              "#7201a8"
             ],
             [
              0.3333333333333333,
              "#9c179e"
             ],
             [
              0.4444444444444444,
              "#bd3786"
             ],
             [
              0.5555555555555556,
              "#d8576b"
             ],
             [
              0.6666666666666666,
              "#ed7953"
             ],
             [
              0.7777777777777778,
              "#fb9f3a"
             ],
             [
              0.8888888888888888,
              "#fdca26"
             ],
             [
              1,
              "#f0f921"
             ]
            ],
            "type": "heatmap"
           }
          ],
          "heatmapgl": [
           {
            "colorbar": {
             "outlinewidth": 0,
             "ticks": ""
            },
            "colorscale": [
             [
              0,
              "#0d0887"
             ],
             [
              0.1111111111111111,
              "#46039f"
             ],
             [
              0.2222222222222222,
              "#7201a8"
             ],
             [
              0.3333333333333333,
              "#9c179e"
             ],
             [
              0.4444444444444444,
              "#bd3786"
             ],
             [
              0.5555555555555556,
              "#d8576b"
             ],
             [
              0.6666666666666666,
              "#ed7953"
             ],
             [
              0.7777777777777778,
              "#fb9f3a"
             ],
             [
              0.8888888888888888,
              "#fdca26"
             ],
             [
              1,
              "#f0f921"
             ]
            ],
            "type": "heatmapgl"
           }
          ],
          "histogram": [
           {
            "marker": {
             "pattern": {
              "fillmode": "overlay",
              "size": 10,
              "solidity": 0.2
             }
            },
            "type": "histogram"
           }
          ],
          "histogram2d": [
           {
            "colorbar": {
             "outlinewidth": 0,
             "ticks": ""
            },
            "colorscale": [
             [
              0,
              "#0d0887"
             ],
             [
              0.1111111111111111,
              "#46039f"
             ],
             [
              0.2222222222222222,
              "#7201a8"
             ],
             [
              0.3333333333333333,
              "#9c179e"
             ],
             [
              0.4444444444444444,
              "#bd3786"
             ],
             [
              0.5555555555555556,
              "#d8576b"
             ],
             [
              0.6666666666666666,
              "#ed7953"
             ],
             [
              0.7777777777777778,
              "#fb9f3a"
             ],
             [
              0.8888888888888888,
              "#fdca26"
             ],
             [
              1,
              "#f0f921"
             ]
            ],
            "type": "histogram2d"
           }
          ],
          "histogram2dcontour": [
           {
            "colorbar": {
             "outlinewidth": 0,
             "ticks": ""
            },
            "colorscale": [
             [
              0,
              "#0d0887"
             ],
             [
              0.1111111111111111,
              "#46039f"
             ],
             [
              0.2222222222222222,
              "#7201a8"
             ],
             [
              0.3333333333333333,
              "#9c179e"
             ],
             [
              0.4444444444444444,
              "#bd3786"
             ],
             [
              0.5555555555555556,
              "#d8576b"
             ],
             [
              0.6666666666666666,
              "#ed7953"
             ],
             [
              0.7777777777777778,
              "#fb9f3a"
             ],
             [
              0.8888888888888888,
              "#fdca26"
             ],
             [
              1,
              "#f0f921"
             ]
            ],
            "type": "histogram2dcontour"
           }
          ],
          "mesh3d": [
           {
            "colorbar": {
             "outlinewidth": 0,
             "ticks": ""
            },
            "type": "mesh3d"
           }
          ],
          "parcoords": [
           {
            "line": {
             "colorbar": {
              "outlinewidth": 0,
              "ticks": ""
             }
            },
            "type": "parcoords"
           }
          ],
          "pie": [
           {
            "automargin": true,
            "type": "pie"
           }
          ],
          "scatter": [
           {
            "fillpattern": {
             "fillmode": "overlay",
             "size": 10,
             "solidity": 0.2
            },
            "type": "scatter"
           }
          ],
          "scatter3d": [
           {
            "line": {
             "colorbar": {
              "outlinewidth": 0,
              "ticks": ""
             }
            },
            "marker": {
             "colorbar": {
              "outlinewidth": 0,
              "ticks": ""
             }
            },
            "type": "scatter3d"
           }
          ],
          "scattercarpet": [
           {
            "marker": {
             "colorbar": {
              "outlinewidth": 0,
              "ticks": ""
             }
            },
            "type": "scattercarpet"
           }
          ],
          "scattergeo": [
           {
            "marker": {
             "colorbar": {
              "outlinewidth": 0,
              "ticks": ""
             }
            },
            "type": "scattergeo"
           }
          ],
          "scattergl": [
           {
            "marker": {
             "colorbar": {
              "outlinewidth": 0,
              "ticks": ""
             }
            },
            "type": "scattergl"
           }
          ],
          "scattermapbox": [
           {
            "marker": {
             "colorbar": {
              "outlinewidth": 0,
              "ticks": ""
             }
            },
            "type": "scattermapbox"
           }
          ],
          "scatterpolar": [
           {
            "marker": {
             "colorbar": {
              "outlinewidth": 0,
              "ticks": ""
             }
            },
            "type": "scatterpolar"
           }
          ],
          "scatterpolargl": [
           {
            "marker": {
             "colorbar": {
              "outlinewidth": 0,
              "ticks": ""
             }
            },
            "type": "scatterpolargl"
           }
          ],
          "scatterternary": [
           {
            "marker": {
             "colorbar": {
              "outlinewidth": 0,
              "ticks": ""
             }
            },
            "type": "scatterternary"
           }
          ],
          "surface": [
           {
            "colorbar": {
             "outlinewidth": 0,
             "ticks": ""
            },
            "colorscale": [
             [
              0,
              "#0d0887"
             ],
             [
              0.1111111111111111,
              "#46039f"
             ],
             [
              0.2222222222222222,
              "#7201a8"
             ],
             [
              0.3333333333333333,
              "#9c179e"
             ],
             [
              0.4444444444444444,
              "#bd3786"
             ],
             [
              0.5555555555555556,
              "#d8576b"
             ],
             [
              0.6666666666666666,
              "#ed7953"
             ],
             [
              0.7777777777777778,
              "#fb9f3a"
             ],
             [
              0.8888888888888888,
              "#fdca26"
             ],
             [
              1,
              "#f0f921"
             ]
            ],
            "type": "surface"
           }
          ],
          "table": [
           {
            "cells": {
             "fill": {
              "color": "#EBF0F8"
             },
             "line": {
              "color": "white"
             }
            },
            "header": {
             "fill": {
              "color": "#C8D4E3"
             },
             "line": {
              "color": "white"
             }
            },
            "type": "table"
           }
          ]
         },
         "layout": {
          "annotationdefaults": {
           "arrowcolor": "#2a3f5f",
           "arrowhead": 0,
           "arrowwidth": 1
          },
          "autotypenumbers": "strict",
          "coloraxis": {
           "colorbar": {
            "outlinewidth": 0,
            "ticks": ""
           }
          },
          "colorscale": {
           "diverging": [
            [
             0,
             "#8e0152"
            ],
            [
             0.1,
             "#c51b7d"
            ],
            [
             0.2,
             "#de77ae"
            ],
            [
             0.3,
             "#f1b6da"
            ],
            [
             0.4,
             "#fde0ef"
            ],
            [
             0.5,
             "#f7f7f7"
            ],
            [
             0.6,
             "#e6f5d0"
            ],
            [
             0.7,
             "#b8e186"
            ],
            [
             0.8,
             "#7fbc41"
            ],
            [
             0.9,
             "#4d9221"
            ],
            [
             1,
             "#276419"
            ]
           ],
           "sequential": [
            [
             0,
             "#0d0887"
            ],
            [
             0.1111111111111111,
             "#46039f"
            ],
            [
             0.2222222222222222,
             "#7201a8"
            ],
            [
             0.3333333333333333,
             "#9c179e"
            ],
            [
             0.4444444444444444,
             "#bd3786"
            ],
            [
             0.5555555555555556,
             "#d8576b"
            ],
            [
             0.6666666666666666,
             "#ed7953"
            ],
            [
             0.7777777777777778,
             "#fb9f3a"
            ],
            [
             0.8888888888888888,
             "#fdca26"
            ],
            [
             1,
             "#f0f921"
            ]
           ],
           "sequentialminus": [
            [
             0,
             "#0d0887"
            ],
            [
             0.1111111111111111,
             "#46039f"
            ],
            [
             0.2222222222222222,
             "#7201a8"
            ],
            [
             0.3333333333333333,
             "#9c179e"
            ],
            [
             0.4444444444444444,
             "#bd3786"
            ],
            [
             0.5555555555555556,
             "#d8576b"
            ],
            [
             0.6666666666666666,
             "#ed7953"
            ],
            [
             0.7777777777777778,
             "#fb9f3a"
            ],
            [
             0.8888888888888888,
             "#fdca26"
            ],
            [
             1,
             "#f0f921"
            ]
           ]
          },
          "colorway": [
           "#636efa",
           "#EF553B",
           "#00cc96",
           "#ab63fa",
           "#FFA15A",
           "#19d3f3",
           "#FF6692",
           "#B6E880",
           "#FF97FF",
           "#FECB52"
          ],
          "font": {
           "color": "#2a3f5f"
          },
          "geo": {
           "bgcolor": "white",
           "lakecolor": "white",
           "landcolor": "#E5ECF6",
           "showlakes": true,
           "showland": true,
           "subunitcolor": "white"
          },
          "hoverlabel": {
           "align": "left"
          },
          "hovermode": "closest",
          "mapbox": {
           "style": "light"
          },
          "paper_bgcolor": "white",
          "plot_bgcolor": "#E5ECF6",
          "polar": {
           "angularaxis": {
            "gridcolor": "white",
            "linecolor": "white",
            "ticks": ""
           },
           "bgcolor": "#E5ECF6",
           "radialaxis": {
            "gridcolor": "white",
            "linecolor": "white",
            "ticks": ""
           }
          },
          "scene": {
           "xaxis": {
            "backgroundcolor": "#E5ECF6",
            "gridcolor": "white",
            "gridwidth": 2,
            "linecolor": "white",
            "showbackground": true,
            "ticks": "",
            "zerolinecolor": "white"
           },
           "yaxis": {
            "backgroundcolor": "#E5ECF6",
            "gridcolor": "white",
            "gridwidth": 2,
            "linecolor": "white",
            "showbackground": true,
            "ticks": "",
            "zerolinecolor": "white"
           },
           "zaxis": {
            "backgroundcolor": "#E5ECF6",
            "gridcolor": "white",
            "gridwidth": 2,
            "linecolor": "white",
            "showbackground": true,
            "ticks": "",
            "zerolinecolor": "white"
           }
          },
          "shapedefaults": {
           "line": {
            "color": "#2a3f5f"
           }
          },
          "ternary": {
           "aaxis": {
            "gridcolor": "white",
            "linecolor": "white",
            "ticks": ""
           },
           "baxis": {
            "gridcolor": "white",
            "linecolor": "white",
            "ticks": ""
           },
           "bgcolor": "#E5ECF6",
           "caxis": {
            "gridcolor": "white",
            "linecolor": "white",
            "ticks": ""
           }
          },
          "title": {
           "x": 0.05
          },
          "xaxis": {
           "automargin": true,
           "gridcolor": "white",
           "linecolor": "white",
           "ticks": "",
           "title": {
            "standoff": 15
           },
           "zerolinecolor": "white",
           "zerolinewidth": 2
          },
          "yaxis": {
           "automargin": true,
           "gridcolor": "white",
           "linecolor": "white",
           "ticks": "",
           "title": {
            "standoff": 15
           },
           "zerolinecolor": "white",
           "zerolinewidth": 2
          }
         }
        },
        "title": {
         "text": "이탈고객 Funnel (Electronics)"
        },
        "xaxis": {
         "anchor": "y",
         "domain": [
          0,
          1
         ],
         "title": {
          "text": "rate"
         }
        },
        "yaxis": {
         "anchor": "x",
         "domain": [
          0,
          1
         ],
         "title": {
          "text": "stage"
         }
        }
       }
      }
     },
     "metadata": {},
     "output_type": "display_data"
    }
   ],
   "source": [
    "data = dict(\n",
    "    number=[14104,1208,264],\n",
    "    stage=['view','basket','purchase'],\n",
    "    rate=[1,0.08564946114577425,0.01871809415768576]\n",
    ")\n",
    "fig = px.funnel(data, x='rate', y='stage', title='이탈고객 Funnel (Electronics)')\n",
    "fig.update_traces(texttemplate=\"%{value:,.2%}\")\n",
    "fig.show()"
   ]
  },
  {
   "cell_type": "markdown",
   "metadata": {},
   "source": [
    "## 우수고객 (1)"
   ]
  },
  {
   "cell_type": "code",
   "execution_count": 145,
   "metadata": {},
   "outputs": [
    {
     "data": {
      "text/html": [
       "<div>\n",
       "<style scoped>\n",
       "    .dataframe tbody tr th:only-of-type {\n",
       "        vertical-align: middle;\n",
       "    }\n",
       "\n",
       "    .dataframe tbody tr th {\n",
       "        vertical-align: top;\n",
       "    }\n",
       "\n",
       "    .dataframe thead th {\n",
       "        text-align: right;\n",
       "    }\n",
       "</style>\n",
       "<table border=\"1\" class=\"dataframe\">\n",
       "  <thead>\n",
       "    <tr style=\"text-align: right;\">\n",
       "      <th></th>\n",
       "      <th>CustomerID</th>\n",
       "      <th>ActionType</th>\n",
       "      <th>GoodsCode</th>\n",
       "      <th>Price</th>\n",
       "      <th>AdID</th>\n",
       "      <th>CPC</th>\n",
       "      <th>Timestamp</th>\n",
       "      <th>GoodsCode_ad</th>\n",
       "      <th>eval_type</th>\n",
       "      <th>cluster_plus</th>\n",
       "      <th>Category</th>\n",
       "      <th>OriginalPrice</th>\n",
       "      <th>Inventory</th>\n",
       "    </tr>\n",
       "  </thead>\n",
       "  <tbody>\n",
       "    <tr>\n",
       "      <th>443</th>\n",
       "      <td>119</td>\n",
       "      <td>ad_click</td>\n",
       "      <td>1484</td>\n",
       "      <td>108330</td>\n",
       "      <td>ad_meta</td>\n",
       "      <td>1049.62</td>\n",
       "      <td>2022-04-06 02:56:08.855443</td>\n",
       "      <td>1484</td>\n",
       "      <td>ad_click</td>\n",
       "      <td>우수고객</td>\n",
       "      <td>Electronics</td>\n",
       "      <td>108330</td>\n",
       "      <td>9595</td>\n",
       "    </tr>\n",
       "    <tr>\n",
       "      <th>444</th>\n",
       "      <td>119</td>\n",
       "      <td>view</td>\n",
       "      <td>1129</td>\n",
       "      <td>24990</td>\n",
       "      <td>NaN</td>\n",
       "      <td>NaN</td>\n",
       "      <td>2022-04-06 07:51:29.961569</td>\n",
       "      <td>1484</td>\n",
       "      <td>ad_view_other</td>\n",
       "      <td>우수고객</td>\n",
       "      <td>Health &amp; Beauty</td>\n",
       "      <td>24990</td>\n",
       "      <td>6387</td>\n",
       "    </tr>\n",
       "    <tr>\n",
       "      <th>445</th>\n",
       "      <td>119</td>\n",
       "      <td>view</td>\n",
       "      <td>1129</td>\n",
       "      <td>24990</td>\n",
       "      <td>NaN</td>\n",
       "      <td>NaN</td>\n",
       "      <td>2022-04-10 20:56:20.961569</td>\n",
       "      <td>1484</td>\n",
       "      <td>ad_view_other</td>\n",
       "      <td>우수고객</td>\n",
       "      <td>Health &amp; Beauty</td>\n",
       "      <td>24990</td>\n",
       "      <td>6387</td>\n",
       "    </tr>\n",
       "    <tr>\n",
       "      <th>446</th>\n",
       "      <td>119</td>\n",
       "      <td>view</td>\n",
       "      <td>1337</td>\n",
       "      <td>10650</td>\n",
       "      <td>NaN</td>\n",
       "      <td>NaN</td>\n",
       "      <td>2022-04-11 21:09:57.961569</td>\n",
       "      <td>1484</td>\n",
       "      <td>ad_view_other</td>\n",
       "      <td>우수고객</td>\n",
       "      <td>Books</td>\n",
       "      <td>10650</td>\n",
       "      <td>3844</td>\n",
       "    </tr>\n",
       "    <tr>\n",
       "      <th>447</th>\n",
       "      <td>119</td>\n",
       "      <td>view</td>\n",
       "      <td>1129</td>\n",
       "      <td>24990</td>\n",
       "      <td>NaN</td>\n",
       "      <td>NaN</td>\n",
       "      <td>2022-04-13 00:44:28.961569</td>\n",
       "      <td>1484</td>\n",
       "      <td>ad_view_other</td>\n",
       "      <td>우수고객</td>\n",
       "      <td>Health &amp; Beauty</td>\n",
       "      <td>24990</td>\n",
       "      <td>6387</td>\n",
       "    </tr>\n",
       "    <tr>\n",
       "      <th>...</th>\n",
       "      <td>...</td>\n",
       "      <td>...</td>\n",
       "      <td>...</td>\n",
       "      <td>...</td>\n",
       "      <td>...</td>\n",
       "      <td>...</td>\n",
       "      <td>...</td>\n",
       "      <td>...</td>\n",
       "      <td>...</td>\n",
       "      <td>...</td>\n",
       "      <td>...</td>\n",
       "      <td>...</td>\n",
       "      <td>...</td>\n",
       "    </tr>\n",
       "    <tr>\n",
       "      <th>3096711</th>\n",
       "      <td>899940</td>\n",
       "      <td>purchase</td>\n",
       "      <td>1459</td>\n",
       "      <td>28130</td>\n",
       "      <td>NaN</td>\n",
       "      <td>NaN</td>\n",
       "      <td>2022-04-24 11:21:31.160778</td>\n",
       "      <td>1439</td>\n",
       "      <td>ad_purchase_other</td>\n",
       "      <td>우수고객</td>\n",
       "      <td>Home &amp; Garden</td>\n",
       "      <td>28130</td>\n",
       "      <td>2560</td>\n",
       "    </tr>\n",
       "    <tr>\n",
       "      <th>3096712</th>\n",
       "      <td>899940</td>\n",
       "      <td>view</td>\n",
       "      <td>1347</td>\n",
       "      <td>104910</td>\n",
       "      <td>NaN</td>\n",
       "      <td>NaN</td>\n",
       "      <td>2022-04-24 20:30:26.160778</td>\n",
       "      <td>1439</td>\n",
       "      <td>ad_view_other</td>\n",
       "      <td>우수고객</td>\n",
       "      <td>Electronics</td>\n",
       "      <td>104910</td>\n",
       "      <td>5116</td>\n",
       "    </tr>\n",
       "    <tr>\n",
       "      <th>3096713</th>\n",
       "      <td>899940</td>\n",
       "      <td>purchase</td>\n",
       "      <td>1439</td>\n",
       "      <td>109620</td>\n",
       "      <td>NaN</td>\n",
       "      <td>NaN</td>\n",
       "      <td>2022-04-25 14:51:30.160778</td>\n",
       "      <td>1439</td>\n",
       "      <td>ad_purchase</td>\n",
       "      <td>우수고객</td>\n",
       "      <td>Electronics</td>\n",
       "      <td>109620</td>\n",
       "      <td>4144</td>\n",
       "    </tr>\n",
       "    <tr>\n",
       "      <th>3096714</th>\n",
       "      <td>899940</td>\n",
       "      <td>view</td>\n",
       "      <td>1459</td>\n",
       "      <td>28130</td>\n",
       "      <td>NaN</td>\n",
       "      <td>NaN</td>\n",
       "      <td>2022-04-28 13:47:29.160778</td>\n",
       "      <td>1439</td>\n",
       "      <td>ad_view_other</td>\n",
       "      <td>우수고객</td>\n",
       "      <td>Home &amp; Garden</td>\n",
       "      <td>28130</td>\n",
       "      <td>2560</td>\n",
       "    </tr>\n",
       "    <tr>\n",
       "      <th>3096715</th>\n",
       "      <td>899940</td>\n",
       "      <td>view</td>\n",
       "      <td>1439</td>\n",
       "      <td>109620</td>\n",
       "      <td>NaN</td>\n",
       "      <td>NaN</td>\n",
       "      <td>2022-04-28 19:39:05.160778</td>\n",
       "      <td>1439</td>\n",
       "      <td>ad_view</td>\n",
       "      <td>우수고객</td>\n",
       "      <td>Electronics</td>\n",
       "      <td>109620</td>\n",
       "      <td>4144</td>\n",
       "    </tr>\n",
       "  </tbody>\n",
       "</table>\n",
       "<p>59650 rows × 13 columns</p>\n",
       "</div>"
      ],
      "text/plain": [
       "         CustomerID ActionType  GoodsCode   Price     AdID      CPC  \\\n",
       "443             119   ad_click       1484  108330  ad_meta  1049.62   \n",
       "444             119       view       1129   24990      NaN      NaN   \n",
       "445             119       view       1129   24990      NaN      NaN   \n",
       "446             119       view       1337   10650      NaN      NaN   \n",
       "447             119       view       1129   24990      NaN      NaN   \n",
       "...             ...        ...        ...     ...      ...      ...   \n",
       "3096711      899940   purchase       1459   28130      NaN      NaN   \n",
       "3096712      899940       view       1347  104910      NaN      NaN   \n",
       "3096713      899940   purchase       1439  109620      NaN      NaN   \n",
       "3096714      899940       view       1459   28130      NaN      NaN   \n",
       "3096715      899940       view       1439  109620      NaN      NaN   \n",
       "\n",
       "                         Timestamp  GoodsCode_ad          eval_type  \\\n",
       "443     2022-04-06 02:56:08.855443          1484           ad_click   \n",
       "444     2022-04-06 07:51:29.961569          1484      ad_view_other   \n",
       "445     2022-04-10 20:56:20.961569          1484      ad_view_other   \n",
       "446     2022-04-11 21:09:57.961569          1484      ad_view_other   \n",
       "447     2022-04-13 00:44:28.961569          1484      ad_view_other   \n",
       "...                            ...           ...                ...   \n",
       "3096711 2022-04-24 11:21:31.160778          1439  ad_purchase_other   \n",
       "3096712 2022-04-24 20:30:26.160778          1439      ad_view_other   \n",
       "3096713 2022-04-25 14:51:30.160778          1439        ad_purchase   \n",
       "3096714 2022-04-28 13:47:29.160778          1439      ad_view_other   \n",
       "3096715 2022-04-28 19:39:05.160778          1439            ad_view   \n",
       "\n",
       "        cluster_plus         Category  OriginalPrice  Inventory  \n",
       "443             우수고객      Electronics         108330       9595  \n",
       "444             우수고객  Health & Beauty          24990       6387  \n",
       "445             우수고객  Health & Beauty          24990       6387  \n",
       "446             우수고객            Books          10650       3844  \n",
       "447             우수고객  Health & Beauty          24990       6387  \n",
       "...              ...              ...            ...        ...  \n",
       "3096711         우수고객    Home & Garden          28130       2560  \n",
       "3096712         우수고객      Electronics         104910       5116  \n",
       "3096713         우수고객      Electronics         109620       4144  \n",
       "3096714         우수고객    Home & Garden          28130       2560  \n",
       "3096715         우수고객      Electronics         109620       4144  \n",
       "\n",
       "[59650 rows x 13 columns]"
      ]
     },
     "execution_count": 145,
     "metadata": {},
     "output_type": "execute_result"
    }
   ],
   "source": [
    "usu = ad_funnel[ad_funnel['cluster_plus']=='우수고객']\n",
    "usu"
   ]
  },
  {
   "cell_type": "code",
   "execution_count": 146,
   "metadata": {},
   "outputs": [
    {
     "data": {
      "text/html": [
       "<div>\n",
       "<style scoped>\n",
       "    .dataframe tbody tr th:only-of-type {\n",
       "        vertical-align: middle;\n",
       "    }\n",
       "\n",
       "    .dataframe tbody tr th {\n",
       "        vertical-align: top;\n",
       "    }\n",
       "\n",
       "    .dataframe thead th {\n",
       "        text-align: right;\n",
       "    }\n",
       "</style>\n",
       "<table border=\"1\" class=\"dataframe\">\n",
       "  <thead>\n",
       "    <tr style=\"text-align: right;\">\n",
       "      <th></th>\n",
       "      <th>CustomerID</th>\n",
       "      <th>ActionType</th>\n",
       "      <th>GoodsCode</th>\n",
       "      <th>Price</th>\n",
       "      <th>AdID</th>\n",
       "      <th>CPC</th>\n",
       "      <th>Timestamp</th>\n",
       "      <th>GoodsCode_ad</th>\n",
       "      <th>eval_type</th>\n",
       "      <th>cluster_plus</th>\n",
       "      <th>Category</th>\n",
       "      <th>OriginalPrice</th>\n",
       "      <th>Inventory</th>\n",
       "    </tr>\n",
       "  </thead>\n",
       "  <tbody>\n",
       "    <tr>\n",
       "      <th>443</th>\n",
       "      <td>119</td>\n",
       "      <td>ad_click</td>\n",
       "      <td>1484</td>\n",
       "      <td>108330</td>\n",
       "      <td>ad_meta</td>\n",
       "      <td>1049.62</td>\n",
       "      <td>2022-04-06 02:56:08.855443</td>\n",
       "      <td>1484</td>\n",
       "      <td>ad_click</td>\n",
       "      <td>우수고객</td>\n",
       "      <td>Electronics</td>\n",
       "      <td>108330</td>\n",
       "      <td>9595</td>\n",
       "    </tr>\n",
       "    <tr>\n",
       "      <th>452</th>\n",
       "      <td>119</td>\n",
       "      <td>ad_click</td>\n",
       "      <td>1484</td>\n",
       "      <td>108330</td>\n",
       "      <td>ad_line</td>\n",
       "      <td>783.63</td>\n",
       "      <td>2022-05-05 04:46:46.855443</td>\n",
       "      <td>1484</td>\n",
       "      <td>ad_click</td>\n",
       "      <td>우수고객</td>\n",
       "      <td>Electronics</td>\n",
       "      <td>108330</td>\n",
       "      <td>9595</td>\n",
       "    </tr>\n",
       "    <tr>\n",
       "      <th>466</th>\n",
       "      <td>122</td>\n",
       "      <td>view</td>\n",
       "      <td>1197</td>\n",
       "      <td>34900</td>\n",
       "      <td>NaN</td>\n",
       "      <td>NaN</td>\n",
       "      <td>2022-03-25 00:03:40.961569</td>\n",
       "      <td>1191</td>\n",
       "      <td>ad_view_other</td>\n",
       "      <td>우수고객</td>\n",
       "      <td>Electronics</td>\n",
       "      <td>34900</td>\n",
       "      <td>7467</td>\n",
       "    </tr>\n",
       "    <tr>\n",
       "      <th>470</th>\n",
       "      <td>122</td>\n",
       "      <td>view</td>\n",
       "      <td>1197</td>\n",
       "      <td>34900</td>\n",
       "      <td>NaN</td>\n",
       "      <td>NaN</td>\n",
       "      <td>2022-04-10 07:40:19.961569</td>\n",
       "      <td>1095</td>\n",
       "      <td>ad_view_other</td>\n",
       "      <td>우수고객</td>\n",
       "      <td>Electronics</td>\n",
       "      <td>34900</td>\n",
       "      <td>7467</td>\n",
       "    </tr>\n",
       "    <tr>\n",
       "      <th>724</th>\n",
       "      <td>163</td>\n",
       "      <td>ad_click</td>\n",
       "      <td>1347</td>\n",
       "      <td>104910</td>\n",
       "      <td>ad_line</td>\n",
       "      <td>682.59</td>\n",
       "      <td>2022-03-08 15:00:52.322370</td>\n",
       "      <td>1347</td>\n",
       "      <td>ad_click</td>\n",
       "      <td>우수고객</td>\n",
       "      <td>Electronics</td>\n",
       "      <td>104910</td>\n",
       "      <td>5116</td>\n",
       "    </tr>\n",
       "    <tr>\n",
       "      <th>...</th>\n",
       "      <td>...</td>\n",
       "      <td>...</td>\n",
       "      <td>...</td>\n",
       "      <td>...</td>\n",
       "      <td>...</td>\n",
       "      <td>...</td>\n",
       "      <td>...</td>\n",
       "      <td>...</td>\n",
       "      <td>...</td>\n",
       "      <td>...</td>\n",
       "      <td>...</td>\n",
       "      <td>...</td>\n",
       "      <td>...</td>\n",
       "    </tr>\n",
       "    <tr>\n",
       "      <th>3096686</th>\n",
       "      <td>899928</td>\n",
       "      <td>view</td>\n",
       "      <td>1085</td>\n",
       "      <td>63720</td>\n",
       "      <td>NaN</td>\n",
       "      <td>NaN</td>\n",
       "      <td>2022-05-22 17:49:42.127184</td>\n",
       "      <td>1465</td>\n",
       "      <td>ad_view_other</td>\n",
       "      <td>우수고객</td>\n",
       "      <td>Electronics</td>\n",
       "      <td>63720</td>\n",
       "      <td>8101</td>\n",
       "    </tr>\n",
       "    <tr>\n",
       "      <th>3096710</th>\n",
       "      <td>899940</td>\n",
       "      <td>ad_click</td>\n",
       "      <td>1439</td>\n",
       "      <td>109620</td>\n",
       "      <td>ad_meta</td>\n",
       "      <td>534.15</td>\n",
       "      <td>2022-04-22 20:50:37.160778</td>\n",
       "      <td>1439</td>\n",
       "      <td>ad_click</td>\n",
       "      <td>우수고객</td>\n",
       "      <td>Electronics</td>\n",
       "      <td>109620</td>\n",
       "      <td>4144</td>\n",
       "    </tr>\n",
       "    <tr>\n",
       "      <th>3096712</th>\n",
       "      <td>899940</td>\n",
       "      <td>view</td>\n",
       "      <td>1347</td>\n",
       "      <td>104910</td>\n",
       "      <td>NaN</td>\n",
       "      <td>NaN</td>\n",
       "      <td>2022-04-24 20:30:26.160778</td>\n",
       "      <td>1439</td>\n",
       "      <td>ad_view_other</td>\n",
       "      <td>우수고객</td>\n",
       "      <td>Electronics</td>\n",
       "      <td>104910</td>\n",
       "      <td>5116</td>\n",
       "    </tr>\n",
       "    <tr>\n",
       "      <th>3096713</th>\n",
       "      <td>899940</td>\n",
       "      <td>purchase</td>\n",
       "      <td>1439</td>\n",
       "      <td>109620</td>\n",
       "      <td>NaN</td>\n",
       "      <td>NaN</td>\n",
       "      <td>2022-04-25 14:51:30.160778</td>\n",
       "      <td>1439</td>\n",
       "      <td>ad_purchase</td>\n",
       "      <td>우수고객</td>\n",
       "      <td>Electronics</td>\n",
       "      <td>109620</td>\n",
       "      <td>4144</td>\n",
       "    </tr>\n",
       "    <tr>\n",
       "      <th>3096715</th>\n",
       "      <td>899940</td>\n",
       "      <td>view</td>\n",
       "      <td>1439</td>\n",
       "      <td>109620</td>\n",
       "      <td>NaN</td>\n",
       "      <td>NaN</td>\n",
       "      <td>2022-04-28 19:39:05.160778</td>\n",
       "      <td>1439</td>\n",
       "      <td>ad_view</td>\n",
       "      <td>우수고객</td>\n",
       "      <td>Electronics</td>\n",
       "      <td>109620</td>\n",
       "      <td>4144</td>\n",
       "    </tr>\n",
       "  </tbody>\n",
       "</table>\n",
       "<p>14996 rows × 13 columns</p>\n",
       "</div>"
      ],
      "text/plain": [
       "         CustomerID ActionType  GoodsCode   Price     AdID      CPC  \\\n",
       "443             119   ad_click       1484  108330  ad_meta  1049.62   \n",
       "452             119   ad_click       1484  108330  ad_line   783.63   \n",
       "466             122       view       1197   34900      NaN      NaN   \n",
       "470             122       view       1197   34900      NaN      NaN   \n",
       "724             163   ad_click       1347  104910  ad_line   682.59   \n",
       "...             ...        ...        ...     ...      ...      ...   \n",
       "3096686      899928       view       1085   63720      NaN      NaN   \n",
       "3096710      899940   ad_click       1439  109620  ad_meta   534.15   \n",
       "3096712      899940       view       1347  104910      NaN      NaN   \n",
       "3096713      899940   purchase       1439  109620      NaN      NaN   \n",
       "3096715      899940       view       1439  109620      NaN      NaN   \n",
       "\n",
       "                         Timestamp  GoodsCode_ad      eval_type cluster_plus  \\\n",
       "443     2022-04-06 02:56:08.855443          1484       ad_click         우수고객   \n",
       "452     2022-05-05 04:46:46.855443          1484       ad_click         우수고객   \n",
       "466     2022-03-25 00:03:40.961569          1191  ad_view_other         우수고객   \n",
       "470     2022-04-10 07:40:19.961569          1095  ad_view_other         우수고객   \n",
       "724     2022-03-08 15:00:52.322370          1347       ad_click         우수고객   \n",
       "...                            ...           ...            ...          ...   \n",
       "3096686 2022-05-22 17:49:42.127184          1465  ad_view_other         우수고객   \n",
       "3096710 2022-04-22 20:50:37.160778          1439       ad_click         우수고객   \n",
       "3096712 2022-04-24 20:30:26.160778          1439  ad_view_other         우수고객   \n",
       "3096713 2022-04-25 14:51:30.160778          1439    ad_purchase         우수고객   \n",
       "3096715 2022-04-28 19:39:05.160778          1439        ad_view         우수고객   \n",
       "\n",
       "            Category  OriginalPrice  Inventory  \n",
       "443      Electronics         108330       9595  \n",
       "452      Electronics         108330       9595  \n",
       "466      Electronics          34900       7467  \n",
       "470      Electronics          34900       7467  \n",
       "724      Electronics         104910       5116  \n",
       "...              ...            ...        ...  \n",
       "3096686  Electronics          63720       8101  \n",
       "3096710  Electronics         109620       4144  \n",
       "3096712  Electronics         104910       5116  \n",
       "3096713  Electronics         109620       4144  \n",
       "3096715  Electronics         109620       4144  \n",
       "\n",
       "[14996 rows x 13 columns]"
      ]
     },
     "execution_count": 146,
     "metadata": {},
     "output_type": "execute_result"
    }
   ],
   "source": [
    "usu = usu[usu['Category']=='Electronics']\n",
    "usu"
   ]
  },
  {
   "cell_type": "code",
   "execution_count": 147,
   "metadata": {},
   "outputs": [
    {
     "name": "stdout",
     "output_type": "stream",
     "text": [
      "퍼널 카운트: {'view': 7447, 'basket': 943, 'purchase': 407}\n"
     ]
    }
   ],
   "source": [
    "usu_ad_funnel_adpurchase_counts1 = {'view': 0, 'basket': 0, 'purchase': 0}\n",
    "\n",
    "# 퍼널을 계산\n",
    "for idx, row in usu.iterrows():\n",
    "    if row['ActionType'] == 'ad_click':\n",
    "        usu_ad_funnel_adpurchase_counts1['view'] += 1\n",
    "    elif row['eval_type'] == 'ad_view':\n",
    "        usu_ad_funnel_adpurchase_counts1['view'] += 1\n",
    "    elif row['eval_type'] == 'ad_basket':\n",
    "        usu_ad_funnel_adpurchase_counts1['basket'] += 1\n",
    "        usu_ad_funnel_adpurchase_counts1['view'] += 1  \n",
    "    elif row['eval_type'] == 'ad_purchase':\n",
    "        usu_ad_funnel_adpurchase_counts1['purchase'] += 1\n",
    "        usu_ad_funnel_adpurchase_counts1['view'] += 1\n",
    "        usu_ad_funnel_adpurchase_counts1['basket'] += 1\n",
    "\n",
    "print(\"퍼널 카운트:\", usu_ad_funnel_adpurchase_counts1)\n"
   ]
  },
  {
   "cell_type": "code",
   "execution_count": 148,
   "metadata": {},
   "outputs": [
    {
     "name": "stdout",
     "output_type": "stream",
     "text": [
      "View Count: 7447\n",
      "Basket Count: 943\n",
      "Purchase Count: 407\n",
      "View to Basket Conversion Rate: 0.12662817241842353\n",
      "Basket to Purchase Conversion Rate: 0.43160127253446445\n",
      "View to Purchase Conversion Rate: 0.05465288035450517\n"
     ]
    }
   ],
   "source": [
    "view_count_usu_elec = 7447\n",
    "basket_count_usu_elec = 943\n",
    "purchase_count_usu_elec = 407\n",
    "\n",
    "\n",
    "# 각 단계에서 다음 단계로의 전환율을 계산합니다.\n",
    "basket_to_purchase_rate_usu_elec = purchase_count_usu_elec / basket_count_usu_elec\n",
    "view_to_basket_rate_ad_usu_elec = basket_count_usu_elec / view_count_usu_elec\n",
    "view_to_purchase_rate_usu_elec = purchase_count_usu_elec / view_count_usu_elec\n",
    "\n",
    "# 결과를 출력합니다.\n",
    "print(\"View Count:\", view_count_usu_elec)\n",
    "print(\"Basket Count:\", basket_count_usu_elec)\n",
    "print(\"Purchase Count:\", purchase_count_usu_elec)\n",
    "print(\"View to Basket Conversion Rate:\", view_to_basket_rate_ad_usu_elec)\n",
    "print(\"Basket to Purchase Conversion Rate:\", basket_to_purchase_rate_usu_elec)\n",
    "print(\"View to Purchase Conversion Rate:\",view_to_purchase_rate_usu_elec)\n"
   ]
  },
  {
   "cell_type": "code",
   "execution_count": 149,
   "metadata": {},
   "outputs": [
    {
     "data": {
      "application/vnd.plotly.v1+json": {
       "config": {
        "plotlyServerURL": "https://plot.ly"
       },
       "data": [
        {
         "hovertemplate": "rate=%{x}<br>stage=%{y}<extra></extra>",
         "legendgroup": "",
         "marker": {
          "color": "#636efa"
         },
         "name": "",
         "orientation": "h",
         "showlegend": false,
         "texttemplate": "%{value:,.2%}",
         "type": "funnel",
         "x": [
          1,
          0.12662817241842353,
          0.05465288035450517
         ],
         "xaxis": "x",
         "y": [
          "view",
          "basket",
          "purchase"
         ],
         "yaxis": "y"
        }
       ],
       "layout": {
        "legend": {
         "tracegroupgap": 0
        },
        "template": {
         "data": {
          "bar": [
           {
            "error_x": {
             "color": "#2a3f5f"
            },
            "error_y": {
             "color": "#2a3f5f"
            },
            "marker": {
             "line": {
              "color": "#E5ECF6",
              "width": 0.5
             },
             "pattern": {
              "fillmode": "overlay",
              "size": 10,
              "solidity": 0.2
             }
            },
            "type": "bar"
           }
          ],
          "barpolar": [
           {
            "marker": {
             "line": {
              "color": "#E5ECF6",
              "width": 0.5
             },
             "pattern": {
              "fillmode": "overlay",
              "size": 10,
              "solidity": 0.2
             }
            },
            "type": "barpolar"
           }
          ],
          "carpet": [
           {
            "aaxis": {
             "endlinecolor": "#2a3f5f",
             "gridcolor": "white",
             "linecolor": "white",
             "minorgridcolor": "white",
             "startlinecolor": "#2a3f5f"
            },
            "baxis": {
             "endlinecolor": "#2a3f5f",
             "gridcolor": "white",
             "linecolor": "white",
             "minorgridcolor": "white",
             "startlinecolor": "#2a3f5f"
            },
            "type": "carpet"
           }
          ],
          "choropleth": [
           {
            "colorbar": {
             "outlinewidth": 0,
             "ticks": ""
            },
            "type": "choropleth"
           }
          ],
          "contour": [
           {
            "colorbar": {
             "outlinewidth": 0,
             "ticks": ""
            },
            "colorscale": [
             [
              0,
              "#0d0887"
             ],
             [
              0.1111111111111111,
              "#46039f"
             ],
             [
              0.2222222222222222,
              "#7201a8"
             ],
             [
              0.3333333333333333,
              "#9c179e"
             ],
             [
              0.4444444444444444,
              "#bd3786"
             ],
             [
              0.5555555555555556,
              "#d8576b"
             ],
             [
              0.6666666666666666,
              "#ed7953"
             ],
             [
              0.7777777777777778,
              "#fb9f3a"
             ],
             [
              0.8888888888888888,
              "#fdca26"
             ],
             [
              1,
              "#f0f921"
             ]
            ],
            "type": "contour"
           }
          ],
          "contourcarpet": [
           {
            "colorbar": {
             "outlinewidth": 0,
             "ticks": ""
            },
            "type": "contourcarpet"
           }
          ],
          "heatmap": [
           {
            "colorbar": {
             "outlinewidth": 0,
             "ticks": ""
            },
            "colorscale": [
             [
              0,
              "#0d0887"
             ],
             [
              0.1111111111111111,
              "#46039f"
             ],
             [
              0.2222222222222222,
              "#7201a8"
             ],
             [
              0.3333333333333333,
              "#9c179e"
             ],
             [
              0.4444444444444444,
              "#bd3786"
             ],
             [
              0.5555555555555556,
              "#d8576b"
             ],
             [
              0.6666666666666666,
              "#ed7953"
             ],
             [
              0.7777777777777778,
              "#fb9f3a"
             ],
             [
              0.8888888888888888,
              "#fdca26"
             ],
             [
              1,
              "#f0f921"
             ]
            ],
            "type": "heatmap"
           }
          ],
          "heatmapgl": [
           {
            "colorbar": {
             "outlinewidth": 0,
             "ticks": ""
            },
            "colorscale": [
             [
              0,
              "#0d0887"
             ],
             [
              0.1111111111111111,
              "#46039f"
             ],
             [
              0.2222222222222222,
              "#7201a8"
             ],
             [
              0.3333333333333333,
              "#9c179e"
             ],
             [
              0.4444444444444444,
              "#bd3786"
             ],
             [
              0.5555555555555556,
              "#d8576b"
             ],
             [
              0.6666666666666666,
              "#ed7953"
             ],
             [
              0.7777777777777778,
              "#fb9f3a"
             ],
             [
              0.8888888888888888,
              "#fdca26"
             ],
             [
              1,
              "#f0f921"
             ]
            ],
            "type": "heatmapgl"
           }
          ],
          "histogram": [
           {
            "marker": {
             "pattern": {
              "fillmode": "overlay",
              "size": 10,
              "solidity": 0.2
             }
            },
            "type": "histogram"
           }
          ],
          "histogram2d": [
           {
            "colorbar": {
             "outlinewidth": 0,
             "ticks": ""
            },
            "colorscale": [
             [
              0,
              "#0d0887"
             ],
             [
              0.1111111111111111,
              "#46039f"
             ],
             [
              0.2222222222222222,
              "#7201a8"
             ],
             [
              0.3333333333333333,
              "#9c179e"
             ],
             [
              0.4444444444444444,
              "#bd3786"
             ],
             [
              0.5555555555555556,
              "#d8576b"
             ],
             [
              0.6666666666666666,
              "#ed7953"
             ],
             [
              0.7777777777777778,
              "#fb9f3a"
             ],
             [
              0.8888888888888888,
              "#fdca26"
             ],
             [
              1,
              "#f0f921"
             ]
            ],
            "type": "histogram2d"
           }
          ],
          "histogram2dcontour": [
           {
            "colorbar": {
             "outlinewidth": 0,
             "ticks": ""
            },
            "colorscale": [
             [
              0,
              "#0d0887"
             ],
             [
              0.1111111111111111,
              "#46039f"
             ],
             [
              0.2222222222222222,
              "#7201a8"
             ],
             [
              0.3333333333333333,
              "#9c179e"
             ],
             [
              0.4444444444444444,
              "#bd3786"
             ],
             [
              0.5555555555555556,
              "#d8576b"
             ],
             [
              0.6666666666666666,
              "#ed7953"
             ],
             [
              0.7777777777777778,
              "#fb9f3a"
             ],
             [
              0.8888888888888888,
              "#fdca26"
             ],
             [
              1,
              "#f0f921"
             ]
            ],
            "type": "histogram2dcontour"
           }
          ],
          "mesh3d": [
           {
            "colorbar": {
             "outlinewidth": 0,
             "ticks": ""
            },
            "type": "mesh3d"
           }
          ],
          "parcoords": [
           {
            "line": {
             "colorbar": {
              "outlinewidth": 0,
              "ticks": ""
             }
            },
            "type": "parcoords"
           }
          ],
          "pie": [
           {
            "automargin": true,
            "type": "pie"
           }
          ],
          "scatter": [
           {
            "fillpattern": {
             "fillmode": "overlay",
             "size": 10,
             "solidity": 0.2
            },
            "type": "scatter"
           }
          ],
          "scatter3d": [
           {
            "line": {
             "colorbar": {
              "outlinewidth": 0,
              "ticks": ""
             }
            },
            "marker": {
             "colorbar": {
              "outlinewidth": 0,
              "ticks": ""
             }
            },
            "type": "scatter3d"
           }
          ],
          "scattercarpet": [
           {
            "marker": {
             "colorbar": {
              "outlinewidth": 0,
              "ticks": ""
             }
            },
            "type": "scattercarpet"
           }
          ],
          "scattergeo": [
           {
            "marker": {
             "colorbar": {
              "outlinewidth": 0,
              "ticks": ""
             }
            },
            "type": "scattergeo"
           }
          ],
          "scattergl": [
           {
            "marker": {
             "colorbar": {
              "outlinewidth": 0,
              "ticks": ""
             }
            },
            "type": "scattergl"
           }
          ],
          "scattermapbox": [
           {
            "marker": {
             "colorbar": {
              "outlinewidth": 0,
              "ticks": ""
             }
            },
            "type": "scattermapbox"
           }
          ],
          "scatterpolar": [
           {
            "marker": {
             "colorbar": {
              "outlinewidth": 0,
              "ticks": ""
             }
            },
            "type": "scatterpolar"
           }
          ],
          "scatterpolargl": [
           {
            "marker": {
             "colorbar": {
              "outlinewidth": 0,
              "ticks": ""
             }
            },
            "type": "scatterpolargl"
           }
          ],
          "scatterternary": [
           {
            "marker": {
             "colorbar": {
              "outlinewidth": 0,
              "ticks": ""
             }
            },
            "type": "scatterternary"
           }
          ],
          "surface": [
           {
            "colorbar": {
             "outlinewidth": 0,
             "ticks": ""
            },
            "colorscale": [
             [
              0,
              "#0d0887"
             ],
             [
              0.1111111111111111,
              "#46039f"
             ],
             [
              0.2222222222222222,
              "#7201a8"
             ],
             [
              0.3333333333333333,
              "#9c179e"
             ],
             [
              0.4444444444444444,
              "#bd3786"
             ],
             [
              0.5555555555555556,
              "#d8576b"
             ],
             [
              0.6666666666666666,
              "#ed7953"
             ],
             [
              0.7777777777777778,
              "#fb9f3a"
             ],
             [
              0.8888888888888888,
              "#fdca26"
             ],
             [
              1,
              "#f0f921"
             ]
            ],
            "type": "surface"
           }
          ],
          "table": [
           {
            "cells": {
             "fill": {
              "color": "#EBF0F8"
             },
             "line": {
              "color": "white"
             }
            },
            "header": {
             "fill": {
              "color": "#C8D4E3"
             },
             "line": {
              "color": "white"
             }
            },
            "type": "table"
           }
          ]
         },
         "layout": {
          "annotationdefaults": {
           "arrowcolor": "#2a3f5f",
           "arrowhead": 0,
           "arrowwidth": 1
          },
          "autotypenumbers": "strict",
          "coloraxis": {
           "colorbar": {
            "outlinewidth": 0,
            "ticks": ""
           }
          },
          "colorscale": {
           "diverging": [
            [
             0,
             "#8e0152"
            ],
            [
             0.1,
             "#c51b7d"
            ],
            [
             0.2,
             "#de77ae"
            ],
            [
             0.3,
             "#f1b6da"
            ],
            [
             0.4,
             "#fde0ef"
            ],
            [
             0.5,
             "#f7f7f7"
            ],
            [
             0.6,
             "#e6f5d0"
            ],
            [
             0.7,
             "#b8e186"
            ],
            [
             0.8,
             "#7fbc41"
            ],
            [
             0.9,
             "#4d9221"
            ],
            [
             1,
             "#276419"
            ]
           ],
           "sequential": [
            [
             0,
             "#0d0887"
            ],
            [
             0.1111111111111111,
             "#46039f"
            ],
            [
             0.2222222222222222,
             "#7201a8"
            ],
            [
             0.3333333333333333,
             "#9c179e"
            ],
            [
             0.4444444444444444,
             "#bd3786"
            ],
            [
             0.5555555555555556,
             "#d8576b"
            ],
            [
             0.6666666666666666,
             "#ed7953"
            ],
            [
             0.7777777777777778,
             "#fb9f3a"
            ],
            [
             0.8888888888888888,
             "#fdca26"
            ],
            [
             1,
             "#f0f921"
            ]
           ],
           "sequentialminus": [
            [
             0,
             "#0d0887"
            ],
            [
             0.1111111111111111,
             "#46039f"
            ],
            [
             0.2222222222222222,
             "#7201a8"
            ],
            [
             0.3333333333333333,
             "#9c179e"
            ],
            [
             0.4444444444444444,
             "#bd3786"
            ],
            [
             0.5555555555555556,
             "#d8576b"
            ],
            [
             0.6666666666666666,
             "#ed7953"
            ],
            [
             0.7777777777777778,
             "#fb9f3a"
            ],
            [
             0.8888888888888888,
             "#fdca26"
            ],
            [
             1,
             "#f0f921"
            ]
           ]
          },
          "colorway": [
           "#636efa",
           "#EF553B",
           "#00cc96",
           "#ab63fa",
           "#FFA15A",
           "#19d3f3",
           "#FF6692",
           "#B6E880",
           "#FF97FF",
           "#FECB52"
          ],
          "font": {
           "color": "#2a3f5f"
          },
          "geo": {
           "bgcolor": "white",
           "lakecolor": "white",
           "landcolor": "#E5ECF6",
           "showlakes": true,
           "showland": true,
           "subunitcolor": "white"
          },
          "hoverlabel": {
           "align": "left"
          },
          "hovermode": "closest",
          "mapbox": {
           "style": "light"
          },
          "paper_bgcolor": "white",
          "plot_bgcolor": "#E5ECF6",
          "polar": {
           "angularaxis": {
            "gridcolor": "white",
            "linecolor": "white",
            "ticks": ""
           },
           "bgcolor": "#E5ECF6",
           "radialaxis": {
            "gridcolor": "white",
            "linecolor": "white",
            "ticks": ""
           }
          },
          "scene": {
           "xaxis": {
            "backgroundcolor": "#E5ECF6",
            "gridcolor": "white",
            "gridwidth": 2,
            "linecolor": "white",
            "showbackground": true,
            "ticks": "",
            "zerolinecolor": "white"
           },
           "yaxis": {
            "backgroundcolor": "#E5ECF6",
            "gridcolor": "white",
            "gridwidth": 2,
            "linecolor": "white",
            "showbackground": true,
            "ticks": "",
            "zerolinecolor": "white"
           },
           "zaxis": {
            "backgroundcolor": "#E5ECF6",
            "gridcolor": "white",
            "gridwidth": 2,
            "linecolor": "white",
            "showbackground": true,
            "ticks": "",
            "zerolinecolor": "white"
           }
          },
          "shapedefaults": {
           "line": {
            "color": "#2a3f5f"
           }
          },
          "ternary": {
           "aaxis": {
            "gridcolor": "white",
            "linecolor": "white",
            "ticks": ""
           },
           "baxis": {
            "gridcolor": "white",
            "linecolor": "white",
            "ticks": ""
           },
           "bgcolor": "#E5ECF6",
           "caxis": {
            "gridcolor": "white",
            "linecolor": "white",
            "ticks": ""
           }
          },
          "title": {
           "x": 0.05
          },
          "xaxis": {
           "automargin": true,
           "gridcolor": "white",
           "linecolor": "white",
           "ticks": "",
           "title": {
            "standoff": 15
           },
           "zerolinecolor": "white",
           "zerolinewidth": 2
          },
          "yaxis": {
           "automargin": true,
           "gridcolor": "white",
           "linecolor": "white",
           "ticks": "",
           "title": {
            "standoff": 15
           },
           "zerolinecolor": "white",
           "zerolinewidth": 2
          }
         }
        },
        "title": {
         "text": "우수고객 Funnel (Electronics)"
        },
        "xaxis": {
         "anchor": "y",
         "domain": [
          0,
          1
         ],
         "title": {
          "text": "rate"
         }
        },
        "yaxis": {
         "anchor": "x",
         "domain": [
          0,
          1
         ],
         "title": {
          "text": "stage"
         }
        }
       }
      }
     },
     "metadata": {},
     "output_type": "display_data"
    }
   ],
   "source": [
    "data = dict(\n",
    "    number=[7447,943,407],\n",
    "    stage=['view','basket','purchase'],\n",
    "    rate=[1,0.12662817241842353,0.05465288035450517]\n",
    ")\n",
    "fig = px.funnel(data, x='rate', y='stage', title='우수고객 Funnel (Electronics)')\n",
    "fig.update_traces(texttemplate=\"%{value:,.2%}\")\n",
    "fig.show()"
   ]
  },
  {
   "cell_type": "markdown",
   "metadata": {},
   "source": [
    "## VIP"
   ]
  },
  {
   "cell_type": "code",
   "execution_count": 150,
   "metadata": {},
   "outputs": [
    {
     "data": {
      "text/html": [
       "<div>\n",
       "<style scoped>\n",
       "    .dataframe tbody tr th:only-of-type {\n",
       "        vertical-align: middle;\n",
       "    }\n",
       "\n",
       "    .dataframe tbody tr th {\n",
       "        vertical-align: top;\n",
       "    }\n",
       "\n",
       "    .dataframe thead th {\n",
       "        text-align: right;\n",
       "    }\n",
       "</style>\n",
       "<table border=\"1\" class=\"dataframe\">\n",
       "  <thead>\n",
       "    <tr style=\"text-align: right;\">\n",
       "      <th></th>\n",
       "      <th>CustomerID</th>\n",
       "      <th>ActionType</th>\n",
       "      <th>GoodsCode</th>\n",
       "      <th>Price</th>\n",
       "      <th>AdID</th>\n",
       "      <th>CPC</th>\n",
       "      <th>Timestamp</th>\n",
       "      <th>GoodsCode_ad</th>\n",
       "      <th>eval_type</th>\n",
       "      <th>cluster_plus</th>\n",
       "      <th>Category</th>\n",
       "      <th>OriginalPrice</th>\n",
       "      <th>Inventory</th>\n",
       "    </tr>\n",
       "  </thead>\n",
       "  <tbody>\n",
       "    <tr>\n",
       "      <th>1687</th>\n",
       "      <td>444</td>\n",
       "      <td>ad_click</td>\n",
       "      <td>1241</td>\n",
       "      <td>69300</td>\n",
       "      <td>ad_line</td>\n",
       "      <td>290.20</td>\n",
       "      <td>2022-04-27 16:17:49.794648</td>\n",
       "      <td>1241</td>\n",
       "      <td>ad_click</td>\n",
       "      <td>vip</td>\n",
       "      <td>Electronics</td>\n",
       "      <td>69300</td>\n",
       "      <td>2933</td>\n",
       "    </tr>\n",
       "    <tr>\n",
       "      <th>1688</th>\n",
       "      <td>444</td>\n",
       "      <td>view</td>\n",
       "      <td>1170</td>\n",
       "      <td>77590</td>\n",
       "      <td>NaN</td>\n",
       "      <td>NaN</td>\n",
       "      <td>2022-04-28 12:41:14.486139</td>\n",
       "      <td>1241</td>\n",
       "      <td>ad_view_other</td>\n",
       "      <td>vip</td>\n",
       "      <td>Electronics</td>\n",
       "      <td>77590</td>\n",
       "      <td>6468</td>\n",
       "    </tr>\n",
       "    <tr>\n",
       "      <th>1689</th>\n",
       "      <td>444</td>\n",
       "      <td>view</td>\n",
       "      <td>1210</td>\n",
       "      <td>35120</td>\n",
       "      <td>NaN</td>\n",
       "      <td>NaN</td>\n",
       "      <td>2022-04-30 14:51:28.794648</td>\n",
       "      <td>1241</td>\n",
       "      <td>ad_view_other</td>\n",
       "      <td>vip</td>\n",
       "      <td>Home &amp; Garden</td>\n",
       "      <td>35120</td>\n",
       "      <td>1806</td>\n",
       "    </tr>\n",
       "    <tr>\n",
       "      <th>1690</th>\n",
       "      <td>444</td>\n",
       "      <td>view</td>\n",
       "      <td>1487</td>\n",
       "      <td>19730</td>\n",
       "      <td>NaN</td>\n",
       "      <td>NaN</td>\n",
       "      <td>2022-05-01 01:28:21.486139</td>\n",
       "      <td>1241</td>\n",
       "      <td>ad_view_other</td>\n",
       "      <td>vip</td>\n",
       "      <td>Home &amp; Garden</td>\n",
       "      <td>19730</td>\n",
       "      <td>1955</td>\n",
       "    </tr>\n",
       "    <tr>\n",
       "      <th>2001</th>\n",
       "      <td>520</td>\n",
       "      <td>ad_click</td>\n",
       "      <td>1270</td>\n",
       "      <td>13210</td>\n",
       "      <td>ad_meta</td>\n",
       "      <td>86.00</td>\n",
       "      <td>2022-04-01 15:23:29.637583</td>\n",
       "      <td>1270</td>\n",
       "      <td>ad_click</td>\n",
       "      <td>vip</td>\n",
       "      <td>Home &amp; Garden</td>\n",
       "      <td>13210</td>\n",
       "      <td>5311</td>\n",
       "    </tr>\n",
       "    <tr>\n",
       "      <th>...</th>\n",
       "      <td>...</td>\n",
       "      <td>...</td>\n",
       "      <td>...</td>\n",
       "      <td>...</td>\n",
       "      <td>...</td>\n",
       "      <td>...</td>\n",
       "      <td>...</td>\n",
       "      <td>...</td>\n",
       "      <td>...</td>\n",
       "      <td>...</td>\n",
       "      <td>...</td>\n",
       "      <td>...</td>\n",
       "      <td>...</td>\n",
       "    </tr>\n",
       "    <tr>\n",
       "      <th>3095491</th>\n",
       "      <td>899378</td>\n",
       "      <td>view</td>\n",
       "      <td>1024</td>\n",
       "      <td>82980</td>\n",
       "      <td>NaN</td>\n",
       "      <td>NaN</td>\n",
       "      <td>2022-05-04 06:30:44.039013</td>\n",
       "      <td>1092</td>\n",
       "      <td>ad_view_other</td>\n",
       "      <td>vip</td>\n",
       "      <td>Electronics</td>\n",
       "      <td>82980</td>\n",
       "      <td>4186</td>\n",
       "    </tr>\n",
       "    <tr>\n",
       "      <th>3095492</th>\n",
       "      <td>899378</td>\n",
       "      <td>ad_click</td>\n",
       "      <td>1474</td>\n",
       "      <td>38640</td>\n",
       "      <td>ad_meta</td>\n",
       "      <td>210.22</td>\n",
       "      <td>2022-05-06 08:31:26.039013</td>\n",
       "      <td>1474</td>\n",
       "      <td>ad_click</td>\n",
       "      <td>vip</td>\n",
       "      <td>Home &amp; Garden</td>\n",
       "      <td>38640</td>\n",
       "      <td>9503</td>\n",
       "    </tr>\n",
       "    <tr>\n",
       "      <th>3095493</th>\n",
       "      <td>899378</td>\n",
       "      <td>view</td>\n",
       "      <td>1474</td>\n",
       "      <td>38640</td>\n",
       "      <td>NaN</td>\n",
       "      <td>NaN</td>\n",
       "      <td>2022-05-08 19:54:24.039013</td>\n",
       "      <td>1474</td>\n",
       "      <td>ad_view</td>\n",
       "      <td>vip</td>\n",
       "      <td>Home &amp; Garden</td>\n",
       "      <td>38640</td>\n",
       "      <td>9503</td>\n",
       "    </tr>\n",
       "    <tr>\n",
       "      <th>3095494</th>\n",
       "      <td>899378</td>\n",
       "      <td>view</td>\n",
       "      <td>1462</td>\n",
       "      <td>13020</td>\n",
       "      <td>NaN</td>\n",
       "      <td>NaN</td>\n",
       "      <td>2022-05-09 23:00:47.039013</td>\n",
       "      <td>1474</td>\n",
       "      <td>ad_view_other</td>\n",
       "      <td>vip</td>\n",
       "      <td>Health &amp; Beauty</td>\n",
       "      <td>13020</td>\n",
       "      <td>9941</td>\n",
       "    </tr>\n",
       "    <tr>\n",
       "      <th>3095495</th>\n",
       "      <td>899378</td>\n",
       "      <td>view</td>\n",
       "      <td>1474</td>\n",
       "      <td>38640</td>\n",
       "      <td>NaN</td>\n",
       "      <td>NaN</td>\n",
       "      <td>2022-05-11 10:03:14.039013</td>\n",
       "      <td>1474</td>\n",
       "      <td>ad_view</td>\n",
       "      <td>vip</td>\n",
       "      <td>Home &amp; Garden</td>\n",
       "      <td>38640</td>\n",
       "      <td>9503</td>\n",
       "    </tr>\n",
       "  </tbody>\n",
       "</table>\n",
       "<p>7369 rows × 13 columns</p>\n",
       "</div>"
      ],
      "text/plain": [
       "         CustomerID ActionType  GoodsCode  Price     AdID     CPC  \\\n",
       "1687            444   ad_click       1241  69300  ad_line  290.20   \n",
       "1688            444       view       1170  77590      NaN     NaN   \n",
       "1689            444       view       1210  35120      NaN     NaN   \n",
       "1690            444       view       1487  19730      NaN     NaN   \n",
       "2001            520   ad_click       1270  13210  ad_meta   86.00   \n",
       "...             ...        ...        ...    ...      ...     ...   \n",
       "3095491      899378       view       1024  82980      NaN     NaN   \n",
       "3095492      899378   ad_click       1474  38640  ad_meta  210.22   \n",
       "3095493      899378       view       1474  38640      NaN     NaN   \n",
       "3095494      899378       view       1462  13020      NaN     NaN   \n",
       "3095495      899378       view       1474  38640      NaN     NaN   \n",
       "\n",
       "                         Timestamp  GoodsCode_ad      eval_type cluster_plus  \\\n",
       "1687    2022-04-27 16:17:49.794648          1241       ad_click          vip   \n",
       "1688    2022-04-28 12:41:14.486139          1241  ad_view_other          vip   \n",
       "1689    2022-04-30 14:51:28.794648          1241  ad_view_other          vip   \n",
       "1690    2022-05-01 01:28:21.486139          1241  ad_view_other          vip   \n",
       "2001    2022-04-01 15:23:29.637583          1270       ad_click          vip   \n",
       "...                            ...           ...            ...          ...   \n",
       "3095491 2022-05-04 06:30:44.039013          1092  ad_view_other          vip   \n",
       "3095492 2022-05-06 08:31:26.039013          1474       ad_click          vip   \n",
       "3095493 2022-05-08 19:54:24.039013          1474        ad_view          vip   \n",
       "3095494 2022-05-09 23:00:47.039013          1474  ad_view_other          vip   \n",
       "3095495 2022-05-11 10:03:14.039013          1474        ad_view          vip   \n",
       "\n",
       "                Category  OriginalPrice  Inventory  \n",
       "1687         Electronics          69300       2933  \n",
       "1688         Electronics          77590       6468  \n",
       "1689       Home & Garden          35120       1806  \n",
       "1690       Home & Garden          19730       1955  \n",
       "2001       Home & Garden          13210       5311  \n",
       "...                  ...            ...        ...  \n",
       "3095491      Electronics          82980       4186  \n",
       "3095492    Home & Garden          38640       9503  \n",
       "3095493    Home & Garden          38640       9503  \n",
       "3095494  Health & Beauty          13020       9941  \n",
       "3095495    Home & Garden          38640       9503  \n",
       "\n",
       "[7369 rows x 13 columns]"
      ]
     },
     "execution_count": 150,
     "metadata": {},
     "output_type": "execute_result"
    }
   ],
   "source": [
    "vip = ad_funnel[ad_funnel['cluster_plus']=='vip']\n",
    "vip"
   ]
  },
  {
   "cell_type": "code",
   "execution_count": 151,
   "metadata": {},
   "outputs": [
    {
     "data": {
      "text/html": [
       "<div>\n",
       "<style scoped>\n",
       "    .dataframe tbody tr th:only-of-type {\n",
       "        vertical-align: middle;\n",
       "    }\n",
       "\n",
       "    .dataframe tbody tr th {\n",
       "        vertical-align: top;\n",
       "    }\n",
       "\n",
       "    .dataframe thead th {\n",
       "        text-align: right;\n",
       "    }\n",
       "</style>\n",
       "<table border=\"1\" class=\"dataframe\">\n",
       "  <thead>\n",
       "    <tr style=\"text-align: right;\">\n",
       "      <th></th>\n",
       "      <th>CustomerID</th>\n",
       "      <th>ActionType</th>\n",
       "      <th>GoodsCode</th>\n",
       "      <th>Price</th>\n",
       "      <th>AdID</th>\n",
       "      <th>CPC</th>\n",
       "      <th>Timestamp</th>\n",
       "      <th>GoodsCode_ad</th>\n",
       "      <th>eval_type</th>\n",
       "      <th>cluster_plus</th>\n",
       "      <th>Category</th>\n",
       "      <th>OriginalPrice</th>\n",
       "      <th>Inventory</th>\n",
       "    </tr>\n",
       "  </thead>\n",
       "  <tbody>\n",
       "    <tr>\n",
       "      <th>1687</th>\n",
       "      <td>444</td>\n",
       "      <td>ad_click</td>\n",
       "      <td>1241</td>\n",
       "      <td>69300</td>\n",
       "      <td>ad_line</td>\n",
       "      <td>290.20</td>\n",
       "      <td>2022-04-27 16:17:49.794648</td>\n",
       "      <td>1241</td>\n",
       "      <td>ad_click</td>\n",
       "      <td>vip</td>\n",
       "      <td>Electronics</td>\n",
       "      <td>69300</td>\n",
       "      <td>2933</td>\n",
       "    </tr>\n",
       "    <tr>\n",
       "      <th>1688</th>\n",
       "      <td>444</td>\n",
       "      <td>view</td>\n",
       "      <td>1170</td>\n",
       "      <td>77590</td>\n",
       "      <td>NaN</td>\n",
       "      <td>NaN</td>\n",
       "      <td>2022-04-28 12:41:14.486139</td>\n",
       "      <td>1241</td>\n",
       "      <td>ad_view_other</td>\n",
       "      <td>vip</td>\n",
       "      <td>Electronics</td>\n",
       "      <td>77590</td>\n",
       "      <td>6468</td>\n",
       "    </tr>\n",
       "    <tr>\n",
       "      <th>2007</th>\n",
       "      <td>520</td>\n",
       "      <td>purchase</td>\n",
       "      <td>1267</td>\n",
       "      <td>64210</td>\n",
       "      <td>NaN</td>\n",
       "      <td>NaN</td>\n",
       "      <td>2022-04-11 17:58:16.008345</td>\n",
       "      <td>1248</td>\n",
       "      <td>ad_purchase_other</td>\n",
       "      <td>vip</td>\n",
       "      <td>Electronics</td>\n",
       "      <td>64210</td>\n",
       "      <td>7183</td>\n",
       "    </tr>\n",
       "    <tr>\n",
       "      <th>2008</th>\n",
       "      <td>520</td>\n",
       "      <td>view</td>\n",
       "      <td>1267</td>\n",
       "      <td>64210</td>\n",
       "      <td>NaN</td>\n",
       "      <td>NaN</td>\n",
       "      <td>2022-04-17 10:53:00.008345</td>\n",
       "      <td>1248</td>\n",
       "      <td>ad_view_other</td>\n",
       "      <td>vip</td>\n",
       "      <td>Electronics</td>\n",
       "      <td>64210</td>\n",
       "      <td>7183</td>\n",
       "    </tr>\n",
       "    <tr>\n",
       "      <th>2860</th>\n",
       "      <td>741</td>\n",
       "      <td>view</td>\n",
       "      <td>1202</td>\n",
       "      <td>44480</td>\n",
       "      <td>NaN</td>\n",
       "      <td>NaN</td>\n",
       "      <td>2022-03-25 00:24:58.008345</td>\n",
       "      <td>1288</td>\n",
       "      <td>ad_view_other</td>\n",
       "      <td>vip</td>\n",
       "      <td>Electronics</td>\n",
       "      <td>44480</td>\n",
       "      <td>9896</td>\n",
       "    </tr>\n",
       "    <tr>\n",
       "      <th>...</th>\n",
       "      <td>...</td>\n",
       "      <td>...</td>\n",
       "      <td>...</td>\n",
       "      <td>...</td>\n",
       "      <td>...</td>\n",
       "      <td>...</td>\n",
       "      <td>...</td>\n",
       "      <td>...</td>\n",
       "      <td>...</td>\n",
       "      <td>...</td>\n",
       "      <td>...</td>\n",
       "      <td>...</td>\n",
       "      <td>...</td>\n",
       "    </tr>\n",
       "    <tr>\n",
       "      <th>3095483</th>\n",
       "      <td>899378</td>\n",
       "      <td>ad_click</td>\n",
       "      <td>1247</td>\n",
       "      <td>89810</td>\n",
       "      <td>ad_line</td>\n",
       "      <td>203.04</td>\n",
       "      <td>2022-04-24 10:40:27.039013</td>\n",
       "      <td>1247</td>\n",
       "      <td>ad_click</td>\n",
       "      <td>vip</td>\n",
       "      <td>Electronics</td>\n",
       "      <td>89810</td>\n",
       "      <td>6016</td>\n",
       "    </tr>\n",
       "    <tr>\n",
       "      <th>3095484</th>\n",
       "      <td>899378</td>\n",
       "      <td>view</td>\n",
       "      <td>1024</td>\n",
       "      <td>82980</td>\n",
       "      <td>NaN</td>\n",
       "      <td>NaN</td>\n",
       "      <td>2022-04-26 07:36:43.039013</td>\n",
       "      <td>1247</td>\n",
       "      <td>ad_view_other</td>\n",
       "      <td>vip</td>\n",
       "      <td>Electronics</td>\n",
       "      <td>82980</td>\n",
       "      <td>4186</td>\n",
       "    </tr>\n",
       "    <tr>\n",
       "      <th>3095485</th>\n",
       "      <td>899378</td>\n",
       "      <td>purchase</td>\n",
       "      <td>1247</td>\n",
       "      <td>89810</td>\n",
       "      <td>NaN</td>\n",
       "      <td>NaN</td>\n",
       "      <td>2022-04-27 01:37:23.039013</td>\n",
       "      <td>1247</td>\n",
       "      <td>ad_purchase</td>\n",
       "      <td>vip</td>\n",
       "      <td>Electronics</td>\n",
       "      <td>89810</td>\n",
       "      <td>6016</td>\n",
       "    </tr>\n",
       "    <tr>\n",
       "      <th>3095490</th>\n",
       "      <td>899378</td>\n",
       "      <td>basket</td>\n",
       "      <td>1024</td>\n",
       "      <td>82980</td>\n",
       "      <td>NaN</td>\n",
       "      <td>NaN</td>\n",
       "      <td>2022-04-30 09:17:36.039013</td>\n",
       "      <td>1092</td>\n",
       "      <td>ad_basket_other</td>\n",
       "      <td>vip</td>\n",
       "      <td>Electronics</td>\n",
       "      <td>82980</td>\n",
       "      <td>4186</td>\n",
       "    </tr>\n",
       "    <tr>\n",
       "      <th>3095491</th>\n",
       "      <td>899378</td>\n",
       "      <td>view</td>\n",
       "      <td>1024</td>\n",
       "      <td>82980</td>\n",
       "      <td>NaN</td>\n",
       "      <td>NaN</td>\n",
       "      <td>2022-05-04 06:30:44.039013</td>\n",
       "      <td>1092</td>\n",
       "      <td>ad_view_other</td>\n",
       "      <td>vip</td>\n",
       "      <td>Electronics</td>\n",
       "      <td>82980</td>\n",
       "      <td>4186</td>\n",
       "    </tr>\n",
       "  </tbody>\n",
       "</table>\n",
       "<p>2715 rows × 13 columns</p>\n",
       "</div>"
      ],
      "text/plain": [
       "         CustomerID ActionType  GoodsCode  Price     AdID     CPC  \\\n",
       "1687            444   ad_click       1241  69300  ad_line  290.20   \n",
       "1688            444       view       1170  77590      NaN     NaN   \n",
       "2007            520   purchase       1267  64210      NaN     NaN   \n",
       "2008            520       view       1267  64210      NaN     NaN   \n",
       "2860            741       view       1202  44480      NaN     NaN   \n",
       "...             ...        ...        ...    ...      ...     ...   \n",
       "3095483      899378   ad_click       1247  89810  ad_line  203.04   \n",
       "3095484      899378       view       1024  82980      NaN     NaN   \n",
       "3095485      899378   purchase       1247  89810      NaN     NaN   \n",
       "3095490      899378     basket       1024  82980      NaN     NaN   \n",
       "3095491      899378       view       1024  82980      NaN     NaN   \n",
       "\n",
       "                         Timestamp  GoodsCode_ad          eval_type  \\\n",
       "1687    2022-04-27 16:17:49.794648          1241           ad_click   \n",
       "1688    2022-04-28 12:41:14.486139          1241      ad_view_other   \n",
       "2007    2022-04-11 17:58:16.008345          1248  ad_purchase_other   \n",
       "2008    2022-04-17 10:53:00.008345          1248      ad_view_other   \n",
       "2860    2022-03-25 00:24:58.008345          1288      ad_view_other   \n",
       "...                            ...           ...                ...   \n",
       "3095483 2022-04-24 10:40:27.039013          1247           ad_click   \n",
       "3095484 2022-04-26 07:36:43.039013          1247      ad_view_other   \n",
       "3095485 2022-04-27 01:37:23.039013          1247        ad_purchase   \n",
       "3095490 2022-04-30 09:17:36.039013          1092    ad_basket_other   \n",
       "3095491 2022-05-04 06:30:44.039013          1092      ad_view_other   \n",
       "\n",
       "        cluster_plus     Category  OriginalPrice  Inventory  \n",
       "1687             vip  Electronics          69300       2933  \n",
       "1688             vip  Electronics          77590       6468  \n",
       "2007             vip  Electronics          64210       7183  \n",
       "2008             vip  Electronics          64210       7183  \n",
       "2860             vip  Electronics          44480       9896  \n",
       "...              ...          ...            ...        ...  \n",
       "3095483          vip  Electronics          89810       6016  \n",
       "3095484          vip  Electronics          82980       4186  \n",
       "3095485          vip  Electronics          89810       6016  \n",
       "3095490          vip  Electronics          82980       4186  \n",
       "3095491          vip  Electronics          82980       4186  \n",
       "\n",
       "[2715 rows x 13 columns]"
      ]
     },
     "execution_count": 151,
     "metadata": {},
     "output_type": "execute_result"
    }
   ],
   "source": [
    "vip = vip[vip['Category']=='Electronics']\n",
    "vip"
   ]
  },
  {
   "cell_type": "code",
   "execution_count": 152,
   "metadata": {},
   "outputs": [
    {
     "name": "stdout",
     "output_type": "stream",
     "text": [
      "퍼널 카운트: {'view': 1222, 'basket': 178, 'purchase': 80}\n"
     ]
    }
   ],
   "source": [
    "vip_ad_funnel_adpurchase_counts1 = {'view': 0, 'basket': 0, 'purchase': 0}\n",
    "\n",
    "# 퍼널을 계산\n",
    "for idx, row in vip.iterrows():\n",
    "    if row['ActionType'] == 'ad_click':\n",
    "        vip_ad_funnel_adpurchase_counts1['view'] += 1\n",
    "    elif row['eval_type'] == 'ad_view':\n",
    "        vip_ad_funnel_adpurchase_counts1['view'] += 1\n",
    "    elif row['eval_type'] == 'ad_basket':\n",
    "        vip_ad_funnel_adpurchase_counts1['basket'] += 1\n",
    "        vip_ad_funnel_adpurchase_counts1['view'] += 1  \n",
    "    elif row['eval_type'] == 'ad_purchase':\n",
    "        vip_ad_funnel_adpurchase_counts1['purchase'] += 1\n",
    "        vip_ad_funnel_adpurchase_counts1['view'] += 1\n",
    "        vip_ad_funnel_adpurchase_counts1['basket'] += 1\n",
    "\n",
    "print(\"퍼널 카운트:\", vip_ad_funnel_adpurchase_counts1)\n"
   ]
  },
  {
   "cell_type": "code",
   "execution_count": 153,
   "metadata": {},
   "outputs": [
    {
     "name": "stdout",
     "output_type": "stream",
     "text": [
      "View Count: 1222\n",
      "Basket Count: 178\n",
      "Purchase Count: 80\n",
      "View to Basket Conversion Rate: 0.14566284779050737\n",
      "Basket to Purchase Conversion Rate: 0.449438202247191\n",
      "View to Purchase Conversion Rate: 0.06546644844517185\n"
     ]
    }
   ],
   "source": [
    "view_count_vip_elec = 1222\n",
    "basket_count_vip_elec = 178\n",
    "purchase_count_vip_elec = 80\n",
    "\n",
    "\n",
    "# 각 단계에서 다음 단계로의 전환율을 계산합니다.\n",
    "basket_to_purchase_rate_vip_elec = purchase_count_vip_elec / basket_count_vip_elec\n",
    "view_to_basket_rate_ad_vip_elec = basket_count_vip_elec / view_count_vip_elec\n",
    "view_to_purchase_rate_vip_elec = purchase_count_vip_elec / view_count_vip_elec\n",
    "\n",
    "# 결과를 출력합니다.\n",
    "print(\"View Count:\", view_count_vip_elec)\n",
    "print(\"Basket Count:\", basket_count_vip_elec)\n",
    "print(\"Purchase Count:\", purchase_count_vip_elec)\n",
    "print(\"View to Basket Conversion Rate:\", view_to_basket_rate_ad_vip_elec)\n",
    "print(\"Basket to Purchase Conversion Rate:\", basket_to_purchase_rate_vip_elec)\n",
    "print(\"View to Purchase Conversion Rate:\",view_to_purchase_rate_vip_elec)\n"
   ]
  },
  {
   "cell_type": "code",
   "execution_count": 154,
   "metadata": {},
   "outputs": [
    {
     "data": {
      "application/vnd.plotly.v1+json": {
       "config": {
        "plotlyServerURL": "https://plot.ly"
       },
       "data": [
        {
         "hovertemplate": "rate=%{x}<br>stage=%{y}<extra></extra>",
         "legendgroup": "",
         "marker": {
          "color": "#636efa"
         },
         "name": "",
         "orientation": "h",
         "showlegend": false,
         "texttemplate": "%{value:,.2%}",
         "type": "funnel",
         "x": [
          1,
          0.14566284779050737,
          0.06546644844517185
         ],
         "xaxis": "x",
         "y": [
          "view",
          "basket",
          "purchase"
         ],
         "yaxis": "y"
        }
       ],
       "layout": {
        "legend": {
         "tracegroupgap": 0
        },
        "template": {
         "data": {
          "bar": [
           {
            "error_x": {
             "color": "#2a3f5f"
            },
            "error_y": {
             "color": "#2a3f5f"
            },
            "marker": {
             "line": {
              "color": "#E5ECF6",
              "width": 0.5
             },
             "pattern": {
              "fillmode": "overlay",
              "size": 10,
              "solidity": 0.2
             }
            },
            "type": "bar"
           }
          ],
          "barpolar": [
           {
            "marker": {
             "line": {
              "color": "#E5ECF6",
              "width": 0.5
             },
             "pattern": {
              "fillmode": "overlay",
              "size": 10,
              "solidity": 0.2
             }
            },
            "type": "barpolar"
           }
          ],
          "carpet": [
           {
            "aaxis": {
             "endlinecolor": "#2a3f5f",
             "gridcolor": "white",
             "linecolor": "white",
             "minorgridcolor": "white",
             "startlinecolor": "#2a3f5f"
            },
            "baxis": {
             "endlinecolor": "#2a3f5f",
             "gridcolor": "white",
             "linecolor": "white",
             "minorgridcolor": "white",
             "startlinecolor": "#2a3f5f"
            },
            "type": "carpet"
           }
          ],
          "choropleth": [
           {
            "colorbar": {
             "outlinewidth": 0,
             "ticks": ""
            },
            "type": "choropleth"
           }
          ],
          "contour": [
           {
            "colorbar": {
             "outlinewidth": 0,
             "ticks": ""
            },
            "colorscale": [
             [
              0,
              "#0d0887"
             ],
             [
              0.1111111111111111,
              "#46039f"
             ],
             [
              0.2222222222222222,
              "#7201a8"
             ],
             [
              0.3333333333333333,
              "#9c179e"
             ],
             [
              0.4444444444444444,
              "#bd3786"
             ],
             [
              0.5555555555555556,
              "#d8576b"
             ],
             [
              0.6666666666666666,
              "#ed7953"
             ],
             [
              0.7777777777777778,
              "#fb9f3a"
             ],
             [
              0.8888888888888888,
              "#fdca26"
             ],
             [
              1,
              "#f0f921"
             ]
            ],
            "type": "contour"
           }
          ],
          "contourcarpet": [
           {
            "colorbar": {
             "outlinewidth": 0,
             "ticks": ""
            },
            "type": "contourcarpet"
           }
          ],
          "heatmap": [
           {
            "colorbar": {
             "outlinewidth": 0,
             "ticks": ""
            },
            "colorscale": [
             [
              0,
              "#0d0887"
             ],
             [
              0.1111111111111111,
              "#46039f"
             ],
             [
              0.2222222222222222,
              "#7201a8"
             ],
             [
              0.3333333333333333,
              "#9c179e"
             ],
             [
              0.4444444444444444,
              "#bd3786"
             ],
             [
              0.5555555555555556,
              "#d8576b"
             ],
             [
              0.6666666666666666,
              "#ed7953"
             ],
             [
              0.7777777777777778,
              "#fb9f3a"
             ],
             [
              0.8888888888888888,
              "#fdca26"
             ],
             [
              1,
              "#f0f921"
             ]
            ],
            "type": "heatmap"
           }
          ],
          "heatmapgl": [
           {
            "colorbar": {
             "outlinewidth": 0,
             "ticks": ""
            },
            "colorscale": [
             [
              0,
              "#0d0887"
             ],
             [
              0.1111111111111111,
              "#46039f"
             ],
             [
              0.2222222222222222,
              "#7201a8"
             ],
             [
              0.3333333333333333,
              "#9c179e"
             ],
             [
              0.4444444444444444,
              "#bd3786"
             ],
             [
              0.5555555555555556,
              "#d8576b"
             ],
             [
              0.6666666666666666,
              "#ed7953"
             ],
             [
              0.7777777777777778,
              "#fb9f3a"
             ],
             [
              0.8888888888888888,
              "#fdca26"
             ],
             [
              1,
              "#f0f921"
             ]
            ],
            "type": "heatmapgl"
           }
          ],
          "histogram": [
           {
            "marker": {
             "pattern": {
              "fillmode": "overlay",
              "size": 10,
              "solidity": 0.2
             }
            },
            "type": "histogram"
           }
          ],
          "histogram2d": [
           {
            "colorbar": {
             "outlinewidth": 0,
             "ticks": ""
            },
            "colorscale": [
             [
              0,
              "#0d0887"
             ],
             [
              0.1111111111111111,
              "#46039f"
             ],
             [
              0.2222222222222222,
              "#7201a8"
             ],
             [
              0.3333333333333333,
              "#9c179e"
             ],
             [
              0.4444444444444444,
              "#bd3786"
             ],
             [
              0.5555555555555556,
              "#d8576b"
             ],
             [
              0.6666666666666666,
              "#ed7953"
             ],
             [
              0.7777777777777778,
              "#fb9f3a"
             ],
             [
              0.8888888888888888,
              "#fdca26"
             ],
             [
              1,
              "#f0f921"
             ]
            ],
            "type": "histogram2d"
           }
          ],
          "histogram2dcontour": [
           {
            "colorbar": {
             "outlinewidth": 0,
             "ticks": ""
            },
            "colorscale": [
             [
              0,
              "#0d0887"
             ],
             [
              0.1111111111111111,
              "#46039f"
             ],
             [
              0.2222222222222222,
              "#7201a8"
             ],
             [
              0.3333333333333333,
              "#9c179e"
             ],
             [
              0.4444444444444444,
              "#bd3786"
             ],
             [
              0.5555555555555556,
              "#d8576b"
             ],
             [
              0.6666666666666666,
              "#ed7953"
             ],
             [
              0.7777777777777778,
              "#fb9f3a"
             ],
             [
              0.8888888888888888,
              "#fdca26"
             ],
             [
              1,
              "#f0f921"
             ]
            ],
            "type": "histogram2dcontour"
           }
          ],
          "mesh3d": [
           {
            "colorbar": {
             "outlinewidth": 0,
             "ticks": ""
            },
            "type": "mesh3d"
           }
          ],
          "parcoords": [
           {
            "line": {
             "colorbar": {
              "outlinewidth": 0,
              "ticks": ""
             }
            },
            "type": "parcoords"
           }
          ],
          "pie": [
           {
            "automargin": true,
            "type": "pie"
           }
          ],
          "scatter": [
           {
            "fillpattern": {
             "fillmode": "overlay",
             "size": 10,
             "solidity": 0.2
            },
            "type": "scatter"
           }
          ],
          "scatter3d": [
           {
            "line": {
             "colorbar": {
              "outlinewidth": 0,
              "ticks": ""
             }
            },
            "marker": {
             "colorbar": {
              "outlinewidth": 0,
              "ticks": ""
             }
            },
            "type": "scatter3d"
           }
          ],
          "scattercarpet": [
           {
            "marker": {
             "colorbar": {
              "outlinewidth": 0,
              "ticks": ""
             }
            },
            "type": "scattercarpet"
           }
          ],
          "scattergeo": [
           {
            "marker": {
             "colorbar": {
              "outlinewidth": 0,
              "ticks": ""
             }
            },
            "type": "scattergeo"
           }
          ],
          "scattergl": [
           {
            "marker": {
             "colorbar": {
              "outlinewidth": 0,
              "ticks": ""
             }
            },
            "type": "scattergl"
           }
          ],
          "scattermapbox": [
           {
            "marker": {
             "colorbar": {
              "outlinewidth": 0,
              "ticks": ""
             }
            },
            "type": "scattermapbox"
           }
          ],
          "scatterpolar": [
           {
            "marker": {
             "colorbar": {
              "outlinewidth": 0,
              "ticks": ""
             }
            },
            "type": "scatterpolar"
           }
          ],
          "scatterpolargl": [
           {
            "marker": {
             "colorbar": {
              "outlinewidth": 0,
              "ticks": ""
             }
            },
            "type": "scatterpolargl"
           }
          ],
          "scatterternary": [
           {
            "marker": {
             "colorbar": {
              "outlinewidth": 0,
              "ticks": ""
             }
            },
            "type": "scatterternary"
           }
          ],
          "surface": [
           {
            "colorbar": {
             "outlinewidth": 0,
             "ticks": ""
            },
            "colorscale": [
             [
              0,
              "#0d0887"
             ],
             [
              0.1111111111111111,
              "#46039f"
             ],
             [
              0.2222222222222222,
              "#7201a8"
             ],
             [
              0.3333333333333333,
              "#9c179e"
             ],
             [
              0.4444444444444444,
              "#bd3786"
             ],
             [
              0.5555555555555556,
              "#d8576b"
             ],
             [
              0.6666666666666666,
              "#ed7953"
             ],
             [
              0.7777777777777778,
              "#fb9f3a"
             ],
             [
              0.8888888888888888,
              "#fdca26"
             ],
             [
              1,
              "#f0f921"
             ]
            ],
            "type": "surface"
           }
          ],
          "table": [
           {
            "cells": {
             "fill": {
              "color": "#EBF0F8"
             },
             "line": {
              "color": "white"
             }
            },
            "header": {
             "fill": {
              "color": "#C8D4E3"
             },
             "line": {
              "color": "white"
             }
            },
            "type": "table"
           }
          ]
         },
         "layout": {
          "annotationdefaults": {
           "arrowcolor": "#2a3f5f",
           "arrowhead": 0,
           "arrowwidth": 1
          },
          "autotypenumbers": "strict",
          "coloraxis": {
           "colorbar": {
            "outlinewidth": 0,
            "ticks": ""
           }
          },
          "colorscale": {
           "diverging": [
            [
             0,
             "#8e0152"
            ],
            [
             0.1,
             "#c51b7d"
            ],
            [
             0.2,
             "#de77ae"
            ],
            [
             0.3,
             "#f1b6da"
            ],
            [
             0.4,
             "#fde0ef"
            ],
            [
             0.5,
             "#f7f7f7"
            ],
            [
             0.6,
             "#e6f5d0"
            ],
            [
             0.7,
             "#b8e186"
            ],
            [
             0.8,
             "#7fbc41"
            ],
            [
             0.9,
             "#4d9221"
            ],
            [
             1,
             "#276419"
            ]
           ],
           "sequential": [
            [
             0,
             "#0d0887"
            ],
            [
             0.1111111111111111,
             "#46039f"
            ],
            [
             0.2222222222222222,
             "#7201a8"
            ],
            [
             0.3333333333333333,
             "#9c179e"
            ],
            [
             0.4444444444444444,
             "#bd3786"
            ],
            [
             0.5555555555555556,
             "#d8576b"
            ],
            [
             0.6666666666666666,
             "#ed7953"
            ],
            [
             0.7777777777777778,
             "#fb9f3a"
            ],
            [
             0.8888888888888888,
             "#fdca26"
            ],
            [
             1,
             "#f0f921"
            ]
           ],
           "sequentialminus": [
            [
             0,
             "#0d0887"
            ],
            [
             0.1111111111111111,
             "#46039f"
            ],
            [
             0.2222222222222222,
             "#7201a8"
            ],
            [
             0.3333333333333333,
             "#9c179e"
            ],
            [
             0.4444444444444444,
             "#bd3786"
            ],
            [
             0.5555555555555556,
             "#d8576b"
            ],
            [
             0.6666666666666666,
             "#ed7953"
            ],
            [
             0.7777777777777778,
             "#fb9f3a"
            ],
            [
             0.8888888888888888,
             "#fdca26"
            ],
            [
             1,
             "#f0f921"
            ]
           ]
          },
          "colorway": [
           "#636efa",
           "#EF553B",
           "#00cc96",
           "#ab63fa",
           "#FFA15A",
           "#19d3f3",
           "#FF6692",
           "#B6E880",
           "#FF97FF",
           "#FECB52"
          ],
          "font": {
           "color": "#2a3f5f"
          },
          "geo": {
           "bgcolor": "white",
           "lakecolor": "white",
           "landcolor": "#E5ECF6",
           "showlakes": true,
           "showland": true,
           "subunitcolor": "white"
          },
          "hoverlabel": {
           "align": "left"
          },
          "hovermode": "closest",
          "mapbox": {
           "style": "light"
          },
          "paper_bgcolor": "white",
          "plot_bgcolor": "#E5ECF6",
          "polar": {
           "angularaxis": {
            "gridcolor": "white",
            "linecolor": "white",
            "ticks": ""
           },
           "bgcolor": "#E5ECF6",
           "radialaxis": {
            "gridcolor": "white",
            "linecolor": "white",
            "ticks": ""
           }
          },
          "scene": {
           "xaxis": {
            "backgroundcolor": "#E5ECF6",
            "gridcolor": "white",
            "gridwidth": 2,
            "linecolor": "white",
            "showbackground": true,
            "ticks": "",
            "zerolinecolor": "white"
           },
           "yaxis": {
            "backgroundcolor": "#E5ECF6",
            "gridcolor": "white",
            "gridwidth": 2,
            "linecolor": "white",
            "showbackground": true,
            "ticks": "",
            "zerolinecolor": "white"
           },
           "zaxis": {
            "backgroundcolor": "#E5ECF6",
            "gridcolor": "white",
            "gridwidth": 2,
            "linecolor": "white",
            "showbackground": true,
            "ticks": "",
            "zerolinecolor": "white"
           }
          },
          "shapedefaults": {
           "line": {
            "color": "#2a3f5f"
           }
          },
          "ternary": {
           "aaxis": {
            "gridcolor": "white",
            "linecolor": "white",
            "ticks": ""
           },
           "baxis": {
            "gridcolor": "white",
            "linecolor": "white",
            "ticks": ""
           },
           "bgcolor": "#E5ECF6",
           "caxis": {
            "gridcolor": "white",
            "linecolor": "white",
            "ticks": ""
           }
          },
          "title": {
           "x": 0.05
          },
          "xaxis": {
           "automargin": true,
           "gridcolor": "white",
           "linecolor": "white",
           "ticks": "",
           "title": {
            "standoff": 15
           },
           "zerolinecolor": "white",
           "zerolinewidth": 2
          },
          "yaxis": {
           "automargin": true,
           "gridcolor": "white",
           "linecolor": "white",
           "ticks": "",
           "title": {
            "standoff": 15
           },
           "zerolinecolor": "white",
           "zerolinewidth": 2
          }
         }
        },
        "title": {
         "text": "VIP Funnel (Electronics)"
        },
        "xaxis": {
         "anchor": "y",
         "domain": [
          0,
          1
         ],
         "title": {
          "text": "rate"
         }
        },
        "yaxis": {
         "anchor": "x",
         "domain": [
          0,
          1
         ],
         "title": {
          "text": "stage"
         }
        }
       }
      }
     },
     "metadata": {},
     "output_type": "display_data"
    }
   ],
   "source": [
    "data = dict(\n",
    "    number=[1222,178,80],\n",
    "    stage=['view','basket','purchase'],\n",
    "    rate=[1,0.14566284779050737,0.06546644844517185]\n",
    ")\n",
    "fig = px.funnel(data, x='rate', y='stage', title='VIP Funnel (Electronics)')\n",
    "fig.update_traces(texttemplate=\"%{value:,.2%}\")\n",
    "fig.show()"
   ]
  },
  {
   "cell_type": "markdown",
   "metadata": {},
   "source": [
    "## 중요고객 (2)"
   ]
  },
  {
   "cell_type": "code",
   "execution_count": 155,
   "metadata": {},
   "outputs": [
    {
     "data": {
      "text/html": [
       "<div>\n",
       "<style scoped>\n",
       "    .dataframe tbody tr th:only-of-type {\n",
       "        vertical-align: middle;\n",
       "    }\n",
       "\n",
       "    .dataframe tbody tr th {\n",
       "        vertical-align: top;\n",
       "    }\n",
       "\n",
       "    .dataframe thead th {\n",
       "        text-align: right;\n",
       "    }\n",
       "</style>\n",
       "<table border=\"1\" class=\"dataframe\">\n",
       "  <thead>\n",
       "    <tr style=\"text-align: right;\">\n",
       "      <th></th>\n",
       "      <th>CustomerID</th>\n",
       "      <th>ActionType</th>\n",
       "      <th>GoodsCode</th>\n",
       "      <th>Price</th>\n",
       "      <th>AdID</th>\n",
       "      <th>CPC</th>\n",
       "      <th>Timestamp</th>\n",
       "      <th>GoodsCode_ad</th>\n",
       "      <th>eval_type</th>\n",
       "      <th>cluster_plus</th>\n",
       "      <th>Category</th>\n",
       "      <th>OriginalPrice</th>\n",
       "      <th>Inventory</th>\n",
       "    </tr>\n",
       "  </thead>\n",
       "  <tbody>\n",
       "    <tr>\n",
       "      <th>148</th>\n",
       "      <td>32</td>\n",
       "      <td>ad_click</td>\n",
       "      <td>1036</td>\n",
       "      <td>38250</td>\n",
       "      <td>ad_line</td>\n",
       "      <td>195.52</td>\n",
       "      <td>2022-03-06 19:05:33.376860</td>\n",
       "      <td>1036</td>\n",
       "      <td>ad_click</td>\n",
       "      <td>중요고객</td>\n",
       "      <td>Home &amp; Garden</td>\n",
       "      <td>38250</td>\n",
       "      <td>9633</td>\n",
       "    </tr>\n",
       "    <tr>\n",
       "      <th>149</th>\n",
       "      <td>32</td>\n",
       "      <td>view</td>\n",
       "      <td>1434</td>\n",
       "      <td>18720</td>\n",
       "      <td>NaN</td>\n",
       "      <td>NaN</td>\n",
       "      <td>2022-03-10 09:08:40.376860</td>\n",
       "      <td>1036</td>\n",
       "      <td>ad_view_other</td>\n",
       "      <td>중요고객</td>\n",
       "      <td>Books</td>\n",
       "      <td>18720</td>\n",
       "      <td>7082</td>\n",
       "    </tr>\n",
       "    <tr>\n",
       "      <th>150</th>\n",
       "      <td>32</td>\n",
       "      <td>view</td>\n",
       "      <td>1336</td>\n",
       "      <td>82700</td>\n",
       "      <td>NaN</td>\n",
       "      <td>NaN</td>\n",
       "      <td>2022-03-10 20:36:37.376860</td>\n",
       "      <td>1036</td>\n",
       "      <td>ad_view_other</td>\n",
       "      <td>중요고객</td>\n",
       "      <td>Electronics</td>\n",
       "      <td>82700</td>\n",
       "      <td>4342</td>\n",
       "    </tr>\n",
       "    <tr>\n",
       "      <th>151</th>\n",
       "      <td>32</td>\n",
       "      <td>view</td>\n",
       "      <td>1336</td>\n",
       "      <td>82700</td>\n",
       "      <td>NaN</td>\n",
       "      <td>NaN</td>\n",
       "      <td>2022-03-11 08:25:32.376860</td>\n",
       "      <td>1036</td>\n",
       "      <td>ad_view_other</td>\n",
       "      <td>중요고객</td>\n",
       "      <td>Electronics</td>\n",
       "      <td>82700</td>\n",
       "      <td>4342</td>\n",
       "    </tr>\n",
       "    <tr>\n",
       "      <th>157</th>\n",
       "      <td>32</td>\n",
       "      <td>ad_click</td>\n",
       "      <td>1499</td>\n",
       "      <td>33180</td>\n",
       "      <td>ad_google</td>\n",
       "      <td>76.56</td>\n",
       "      <td>2022-03-30 16:18:05.376860</td>\n",
       "      <td>1499</td>\n",
       "      <td>ad_click</td>\n",
       "      <td>중요고객</td>\n",
       "      <td>Electronics</td>\n",
       "      <td>33180</td>\n",
       "      <td>4591</td>\n",
       "    </tr>\n",
       "    <tr>\n",
       "      <th>...</th>\n",
       "      <td>...</td>\n",
       "      <td>...</td>\n",
       "      <td>...</td>\n",
       "      <td>...</td>\n",
       "      <td>...</td>\n",
       "      <td>...</td>\n",
       "      <td>...</td>\n",
       "      <td>...</td>\n",
       "      <td>...</td>\n",
       "      <td>...</td>\n",
       "      <td>...</td>\n",
       "      <td>...</td>\n",
       "      <td>...</td>\n",
       "    </tr>\n",
       "    <tr>\n",
       "      <th>3096877</th>\n",
       "      <td>899993</td>\n",
       "      <td>ad_click</td>\n",
       "      <td>1174</td>\n",
       "      <td>7210</td>\n",
       "      <td>ad_line</td>\n",
       "      <td>19.07</td>\n",
       "      <td>2022-02-28 05:16:16.372529</td>\n",
       "      <td>1174</td>\n",
       "      <td>ad_click</td>\n",
       "      <td>중요고객</td>\n",
       "      <td>Books</td>\n",
       "      <td>7210</td>\n",
       "      <td>9502</td>\n",
       "    </tr>\n",
       "    <tr>\n",
       "      <th>3096878</th>\n",
       "      <td>899993</td>\n",
       "      <td>basket</td>\n",
       "      <td>1019</td>\n",
       "      <td>16840</td>\n",
       "      <td>NaN</td>\n",
       "      <td>NaN</td>\n",
       "      <td>2022-02-28 23:16:48.372529</td>\n",
       "      <td>1174</td>\n",
       "      <td>ad_basket_other</td>\n",
       "      <td>중요고객</td>\n",
       "      <td>Books</td>\n",
       "      <td>16840</td>\n",
       "      <td>3106</td>\n",
       "    </tr>\n",
       "    <tr>\n",
       "      <th>3096879</th>\n",
       "      <td>899993</td>\n",
       "      <td>view</td>\n",
       "      <td>1019</td>\n",
       "      <td>16840</td>\n",
       "      <td>NaN</td>\n",
       "      <td>NaN</td>\n",
       "      <td>2022-03-04 08:11:43.372529</td>\n",
       "      <td>1174</td>\n",
       "      <td>ad_view_other</td>\n",
       "      <td>중요고객</td>\n",
       "      <td>Books</td>\n",
       "      <td>16840</td>\n",
       "      <td>3106</td>\n",
       "    </tr>\n",
       "    <tr>\n",
       "      <th>3096891</th>\n",
       "      <td>899993</td>\n",
       "      <td>ad_click</td>\n",
       "      <td>1019</td>\n",
       "      <td>16840</td>\n",
       "      <td>ad_meta</td>\n",
       "      <td>88.20</td>\n",
       "      <td>2022-05-09 09:32:29.372529</td>\n",
       "      <td>1019</td>\n",
       "      <td>ad_click</td>\n",
       "      <td>중요고객</td>\n",
       "      <td>Books</td>\n",
       "      <td>16840</td>\n",
       "      <td>3106</td>\n",
       "    </tr>\n",
       "    <tr>\n",
       "      <th>3096892</th>\n",
       "      <td>899993</td>\n",
       "      <td>view</td>\n",
       "      <td>1045</td>\n",
       "      <td>120410</td>\n",
       "      <td>NaN</td>\n",
       "      <td>NaN</td>\n",
       "      <td>2022-05-11 03:04:39.372529</td>\n",
       "      <td>1019</td>\n",
       "      <td>ad_view_other</td>\n",
       "      <td>중요고객</td>\n",
       "      <td>Electronics</td>\n",
       "      <td>120410</td>\n",
       "      <td>2622</td>\n",
       "    </tr>\n",
       "  </tbody>\n",
       "</table>\n",
       "<p>57569 rows × 13 columns</p>\n",
       "</div>"
      ],
      "text/plain": [
       "         CustomerID ActionType  GoodsCode   Price       AdID     CPC  \\\n",
       "148              32   ad_click       1036   38250    ad_line  195.52   \n",
       "149              32       view       1434   18720        NaN     NaN   \n",
       "150              32       view       1336   82700        NaN     NaN   \n",
       "151              32       view       1336   82700        NaN     NaN   \n",
       "157              32   ad_click       1499   33180  ad_google   76.56   \n",
       "...             ...        ...        ...     ...        ...     ...   \n",
       "3096877      899993   ad_click       1174    7210    ad_line   19.07   \n",
       "3096878      899993     basket       1019   16840        NaN     NaN   \n",
       "3096879      899993       view       1019   16840        NaN     NaN   \n",
       "3096891      899993   ad_click       1019   16840    ad_meta   88.20   \n",
       "3096892      899993       view       1045  120410        NaN     NaN   \n",
       "\n",
       "                         Timestamp  GoodsCode_ad        eval_type  \\\n",
       "148     2022-03-06 19:05:33.376860          1036         ad_click   \n",
       "149     2022-03-10 09:08:40.376860          1036    ad_view_other   \n",
       "150     2022-03-10 20:36:37.376860          1036    ad_view_other   \n",
       "151     2022-03-11 08:25:32.376860          1036    ad_view_other   \n",
       "157     2022-03-30 16:18:05.376860          1499         ad_click   \n",
       "...                            ...           ...              ...   \n",
       "3096877 2022-02-28 05:16:16.372529          1174         ad_click   \n",
       "3096878 2022-02-28 23:16:48.372529          1174  ad_basket_other   \n",
       "3096879 2022-03-04 08:11:43.372529          1174    ad_view_other   \n",
       "3096891 2022-05-09 09:32:29.372529          1019         ad_click   \n",
       "3096892 2022-05-11 03:04:39.372529          1019    ad_view_other   \n",
       "\n",
       "        cluster_plus       Category  OriginalPrice  Inventory  \n",
       "148             중요고객  Home & Garden          38250       9633  \n",
       "149             중요고객          Books          18720       7082  \n",
       "150             중요고객    Electronics          82700       4342  \n",
       "151             중요고객    Electronics          82700       4342  \n",
       "157             중요고객    Electronics          33180       4591  \n",
       "...              ...            ...            ...        ...  \n",
       "3096877         중요고객          Books           7210       9502  \n",
       "3096878         중요고객          Books          16840       3106  \n",
       "3096879         중요고객          Books          16840       3106  \n",
       "3096891         중요고객          Books          16840       3106  \n",
       "3096892         중요고객    Electronics         120410       2622  \n",
       "\n",
       "[57569 rows x 13 columns]"
      ]
     },
     "execution_count": 155,
     "metadata": {},
     "output_type": "execute_result"
    }
   ],
   "source": [
    "jyungyo = ad_funnel[ad_funnel['cluster_plus']=='중요고객']\n",
    "jyungyo"
   ]
  },
  {
   "cell_type": "code",
   "execution_count": 156,
   "metadata": {},
   "outputs": [
    {
     "data": {
      "text/html": [
       "<div>\n",
       "<style scoped>\n",
       "    .dataframe tbody tr th:only-of-type {\n",
       "        vertical-align: middle;\n",
       "    }\n",
       "\n",
       "    .dataframe tbody tr th {\n",
       "        vertical-align: top;\n",
       "    }\n",
       "\n",
       "    .dataframe thead th {\n",
       "        text-align: right;\n",
       "    }\n",
       "</style>\n",
       "<table border=\"1\" class=\"dataframe\">\n",
       "  <thead>\n",
       "    <tr style=\"text-align: right;\">\n",
       "      <th></th>\n",
       "      <th>CustomerID</th>\n",
       "      <th>ActionType</th>\n",
       "      <th>GoodsCode</th>\n",
       "      <th>Price</th>\n",
       "      <th>AdID</th>\n",
       "      <th>CPC</th>\n",
       "      <th>Timestamp</th>\n",
       "      <th>GoodsCode_ad</th>\n",
       "      <th>eval_type</th>\n",
       "      <th>cluster_plus</th>\n",
       "      <th>Category</th>\n",
       "      <th>OriginalPrice</th>\n",
       "      <th>Inventory</th>\n",
       "    </tr>\n",
       "  </thead>\n",
       "  <tbody>\n",
       "    <tr>\n",
       "      <th>150</th>\n",
       "      <td>32</td>\n",
       "      <td>view</td>\n",
       "      <td>1336</td>\n",
       "      <td>82700</td>\n",
       "      <td>NaN</td>\n",
       "      <td>NaN</td>\n",
       "      <td>2022-03-10 20:36:37.376860</td>\n",
       "      <td>1036</td>\n",
       "      <td>ad_view_other</td>\n",
       "      <td>중요고객</td>\n",
       "      <td>Electronics</td>\n",
       "      <td>82700</td>\n",
       "      <td>4342</td>\n",
       "    </tr>\n",
       "    <tr>\n",
       "      <th>151</th>\n",
       "      <td>32</td>\n",
       "      <td>view</td>\n",
       "      <td>1336</td>\n",
       "      <td>82700</td>\n",
       "      <td>NaN</td>\n",
       "      <td>NaN</td>\n",
       "      <td>2022-03-11 08:25:32.376860</td>\n",
       "      <td>1036</td>\n",
       "      <td>ad_view_other</td>\n",
       "      <td>중요고객</td>\n",
       "      <td>Electronics</td>\n",
       "      <td>82700</td>\n",
       "      <td>4342</td>\n",
       "    </tr>\n",
       "    <tr>\n",
       "      <th>157</th>\n",
       "      <td>32</td>\n",
       "      <td>ad_click</td>\n",
       "      <td>1499</td>\n",
       "      <td>33180</td>\n",
       "      <td>ad_google</td>\n",
       "      <td>76.56</td>\n",
       "      <td>2022-03-30 16:18:05.376860</td>\n",
       "      <td>1499</td>\n",
       "      <td>ad_click</td>\n",
       "      <td>중요고객</td>\n",
       "      <td>Electronics</td>\n",
       "      <td>33180</td>\n",
       "      <td>4591</td>\n",
       "    </tr>\n",
       "    <tr>\n",
       "      <th>158</th>\n",
       "      <td>32</td>\n",
       "      <td>purchase</td>\n",
       "      <td>1499</td>\n",
       "      <td>33180</td>\n",
       "      <td>NaN</td>\n",
       "      <td>NaN</td>\n",
       "      <td>2022-03-31 10:56:52.376860</td>\n",
       "      <td>1499</td>\n",
       "      <td>ad_purchase</td>\n",
       "      <td>중요고객</td>\n",
       "      <td>Electronics</td>\n",
       "      <td>33180</td>\n",
       "      <td>4591</td>\n",
       "    </tr>\n",
       "    <tr>\n",
       "      <th>160</th>\n",
       "      <td>32</td>\n",
       "      <td>purchase</td>\n",
       "      <td>1336</td>\n",
       "      <td>82700</td>\n",
       "      <td>NaN</td>\n",
       "      <td>NaN</td>\n",
       "      <td>2022-04-04 20:49:21.376860</td>\n",
       "      <td>1499</td>\n",
       "      <td>ad_purchase_other</td>\n",
       "      <td>중요고객</td>\n",
       "      <td>Electronics</td>\n",
       "      <td>82700</td>\n",
       "      <td>4342</td>\n",
       "    </tr>\n",
       "    <tr>\n",
       "      <th>...</th>\n",
       "      <td>...</td>\n",
       "      <td>...</td>\n",
       "      <td>...</td>\n",
       "      <td>...</td>\n",
       "      <td>...</td>\n",
       "      <td>...</td>\n",
       "      <td>...</td>\n",
       "      <td>...</td>\n",
       "      <td>...</td>\n",
       "      <td>...</td>\n",
       "      <td>...</td>\n",
       "      <td>...</td>\n",
       "      <td>...</td>\n",
       "    </tr>\n",
       "    <tr>\n",
       "      <th>3095604</th>\n",
       "      <td>899446</td>\n",
       "      <td>view</td>\n",
       "      <td>1313</td>\n",
       "      <td>141540</td>\n",
       "      <td>NaN</td>\n",
       "      <td>NaN</td>\n",
       "      <td>2022-04-23 15:46:07.340987</td>\n",
       "      <td>1313</td>\n",
       "      <td>ad_view</td>\n",
       "      <td>중요고객</td>\n",
       "      <td>Electronics</td>\n",
       "      <td>141540</td>\n",
       "      <td>9073</td>\n",
       "    </tr>\n",
       "    <tr>\n",
       "      <th>3096329</th>\n",
       "      <td>899759</td>\n",
       "      <td>ad_click</td>\n",
       "      <td>1224</td>\n",
       "      <td>85500</td>\n",
       "      <td>ad_line</td>\n",
       "      <td>803.11</td>\n",
       "      <td>2022-02-22 18:26:59.961569</td>\n",
       "      <td>1224</td>\n",
       "      <td>ad_click</td>\n",
       "      <td>중요고객</td>\n",
       "      <td>Electronics</td>\n",
       "      <td>85500</td>\n",
       "      <td>7402</td>\n",
       "    </tr>\n",
       "    <tr>\n",
       "      <th>3096545</th>\n",
       "      <td>899842</td>\n",
       "      <td>ad_click</td>\n",
       "      <td>1388</td>\n",
       "      <td>48400</td>\n",
       "      <td>ad_google</td>\n",
       "      <td>193.26</td>\n",
       "      <td>2022-05-25 23:14:27.187373</td>\n",
       "      <td>1388</td>\n",
       "      <td>ad_click</td>\n",
       "      <td>중요고객</td>\n",
       "      <td>Electronics</td>\n",
       "      <td>48400</td>\n",
       "      <td>8099</td>\n",
       "    </tr>\n",
       "    <tr>\n",
       "      <th>3096546</th>\n",
       "      <td>899842</td>\n",
       "      <td>purchase</td>\n",
       "      <td>1388</td>\n",
       "      <td>48400</td>\n",
       "      <td>NaN</td>\n",
       "      <td>NaN</td>\n",
       "      <td>2022-05-30 06:20:44.187373</td>\n",
       "      <td>1388</td>\n",
       "      <td>ad_purchase</td>\n",
       "      <td>중요고객</td>\n",
       "      <td>Electronics</td>\n",
       "      <td>48400</td>\n",
       "      <td>8099</td>\n",
       "    </tr>\n",
       "    <tr>\n",
       "      <th>3096892</th>\n",
       "      <td>899993</td>\n",
       "      <td>view</td>\n",
       "      <td>1045</td>\n",
       "      <td>120410</td>\n",
       "      <td>NaN</td>\n",
       "      <td>NaN</td>\n",
       "      <td>2022-05-11 03:04:39.372529</td>\n",
       "      <td>1019</td>\n",
       "      <td>ad_view_other</td>\n",
       "      <td>중요고객</td>\n",
       "      <td>Electronics</td>\n",
       "      <td>120410</td>\n",
       "      <td>2622</td>\n",
       "    </tr>\n",
       "  </tbody>\n",
       "</table>\n",
       "<p>19726 rows × 13 columns</p>\n",
       "</div>"
      ],
      "text/plain": [
       "         CustomerID ActionType  GoodsCode   Price       AdID     CPC  \\\n",
       "150              32       view       1336   82700        NaN     NaN   \n",
       "151              32       view       1336   82700        NaN     NaN   \n",
       "157              32   ad_click       1499   33180  ad_google   76.56   \n",
       "158              32   purchase       1499   33180        NaN     NaN   \n",
       "160              32   purchase       1336   82700        NaN     NaN   \n",
       "...             ...        ...        ...     ...        ...     ...   \n",
       "3095604      899446       view       1313  141540        NaN     NaN   \n",
       "3096329      899759   ad_click       1224   85500    ad_line  803.11   \n",
       "3096545      899842   ad_click       1388   48400  ad_google  193.26   \n",
       "3096546      899842   purchase       1388   48400        NaN     NaN   \n",
       "3096892      899993       view       1045  120410        NaN     NaN   \n",
       "\n",
       "                         Timestamp  GoodsCode_ad          eval_type  \\\n",
       "150     2022-03-10 20:36:37.376860          1036      ad_view_other   \n",
       "151     2022-03-11 08:25:32.376860          1036      ad_view_other   \n",
       "157     2022-03-30 16:18:05.376860          1499           ad_click   \n",
       "158     2022-03-31 10:56:52.376860          1499        ad_purchase   \n",
       "160     2022-04-04 20:49:21.376860          1499  ad_purchase_other   \n",
       "...                            ...           ...                ...   \n",
       "3095604 2022-04-23 15:46:07.340987          1313            ad_view   \n",
       "3096329 2022-02-22 18:26:59.961569          1224           ad_click   \n",
       "3096545 2022-05-25 23:14:27.187373          1388           ad_click   \n",
       "3096546 2022-05-30 06:20:44.187373          1388        ad_purchase   \n",
       "3096892 2022-05-11 03:04:39.372529          1019      ad_view_other   \n",
       "\n",
       "        cluster_plus     Category  OriginalPrice  Inventory  \n",
       "150             중요고객  Electronics          82700       4342  \n",
       "151             중요고객  Electronics          82700       4342  \n",
       "157             중요고객  Electronics          33180       4591  \n",
       "158             중요고객  Electronics          33180       4591  \n",
       "160             중요고객  Electronics          82700       4342  \n",
       "...              ...          ...            ...        ...  \n",
       "3095604         중요고객  Electronics         141540       9073  \n",
       "3096329         중요고객  Electronics          85500       7402  \n",
       "3096545         중요고객  Electronics          48400       8099  \n",
       "3096546         중요고객  Electronics          48400       8099  \n",
       "3096892         중요고객  Electronics         120410       2622  \n",
       "\n",
       "[19726 rows x 13 columns]"
      ]
     },
     "execution_count": 156,
     "metadata": {},
     "output_type": "execute_result"
    }
   ],
   "source": [
    "jyungyo = jyungyo[jyungyo['Category']=='Electronics']\n",
    "jyungyo"
   ]
  },
  {
   "cell_type": "code",
   "execution_count": 157,
   "metadata": {},
   "outputs": [
    {
     "name": "stdout",
     "output_type": "stream",
     "text": [
      "퍼널 카운트: {'view': 12688, 'basket': 1597, 'purchase': 710}\n"
     ]
    }
   ],
   "source": [
    "jyungyo_ad_funnel_adpurchase_counts1 = {'view': 0, 'basket': 0, 'purchase': 0}\n",
    "\n",
    "# 퍼널을 계산\n",
    "for idx, row in jyungyo.iterrows():\n",
    "    if row['ActionType'] == 'ad_click':\n",
    "        jyungyo_ad_funnel_adpurchase_counts1['view'] += 1\n",
    "    elif row['eval_type'] == 'ad_view':\n",
    "        jyungyo_ad_funnel_adpurchase_counts1['view'] += 1\n",
    "    elif row['eval_type'] == 'ad_basket':\n",
    "        jyungyo_ad_funnel_adpurchase_counts1['basket'] += 1\n",
    "        jyungyo_ad_funnel_adpurchase_counts1['view'] += 1  \n",
    "    elif row['eval_type'] == 'ad_purchase':\n",
    "        jyungyo_ad_funnel_adpurchase_counts1['purchase'] += 1\n",
    "        jyungyo_ad_funnel_adpurchase_counts1['view'] += 1\n",
    "        jyungyo_ad_funnel_adpurchase_counts1['basket'] += 1\n",
    "\n",
    "print(\"퍼널 카운트:\", jyungyo_ad_funnel_adpurchase_counts1)\n"
   ]
  },
  {
   "cell_type": "code",
   "execution_count": 158,
   "metadata": {},
   "outputs": [
    {
     "name": "stdout",
     "output_type": "stream",
     "text": [
      "View Count: 12688\n",
      "Basket Count: 1597\n",
      "Purchase Count: 710\n",
      "View to Basket Conversion Rate: 0.12586696090794453\n",
      "Basket to Purchase Conversion Rate: 0.4445835942391985\n",
      "View to Purchase Conversion Rate: 0.055958385876418666\n"
     ]
    }
   ],
   "source": [
    "view_count_jyungyo_elec = 12688\n",
    "basket_count_jyungyo_elec = 1597\n",
    "purchase_count_jyungyo_elec = 710\n",
    "\n",
    "\n",
    "# 각 단계에서 다음 단계로의 전환율을 계산합니다.\n",
    "basket_to_purchase_rate_jyungyo_elec = purchase_count_jyungyo_elec / basket_count_jyungyo_elec\n",
    "view_to_basket_rate_ad_jyungyo_elec = basket_count_jyungyo_elec / view_count_jyungyo_elec\n",
    "view_to_purchase_rate_jyungyo_elec = purchase_count_jyungyo_elec / view_count_jyungyo_elec\n",
    "\n",
    "# 결과를 출력합니다.\n",
    "print(\"View Count:\", view_count_jyungyo_elec)\n",
    "print(\"Basket Count:\", basket_count_jyungyo_elec)\n",
    "print(\"Purchase Count:\", purchase_count_jyungyo_elec)\n",
    "print(\"View to Basket Conversion Rate:\", view_to_basket_rate_ad_jyungyo_elec)\n",
    "print(\"Basket to Purchase Conversion Rate:\", basket_to_purchase_rate_jyungyo_elec)\n",
    "print(\"View to Purchase Conversion Rate:\",view_to_purchase_rate_jyungyo_elec)\n"
   ]
  },
  {
   "cell_type": "code",
   "execution_count": 159,
   "metadata": {},
   "outputs": [
    {
     "data": {
      "application/vnd.plotly.v1+json": {
       "config": {
        "plotlyServerURL": "https://plot.ly"
       },
       "data": [
        {
         "hovertemplate": "rate=%{x}<br>stage=%{y}<extra></extra>",
         "legendgroup": "",
         "marker": {
          "color": "#636efa"
         },
         "name": "",
         "orientation": "h",
         "showlegend": false,
         "texttemplate": "%{value:,.2%}",
         "type": "funnel",
         "x": [
          1,
          0.12586696090794453,
          0.055958385876418666
         ],
         "xaxis": "x",
         "y": [
          "view",
          "basket",
          "purchase"
         ],
         "yaxis": "y"
        }
       ],
       "layout": {
        "legend": {
         "tracegroupgap": 0
        },
        "template": {
         "data": {
          "bar": [
           {
            "error_x": {
             "color": "#2a3f5f"
            },
            "error_y": {
             "color": "#2a3f5f"
            },
            "marker": {
             "line": {
              "color": "#E5ECF6",
              "width": 0.5
             },
             "pattern": {
              "fillmode": "overlay",
              "size": 10,
              "solidity": 0.2
             }
            },
            "type": "bar"
           }
          ],
          "barpolar": [
           {
            "marker": {
             "line": {
              "color": "#E5ECF6",
              "width": 0.5
             },
             "pattern": {
              "fillmode": "overlay",
              "size": 10,
              "solidity": 0.2
             }
            },
            "type": "barpolar"
           }
          ],
          "carpet": [
           {
            "aaxis": {
             "endlinecolor": "#2a3f5f",
             "gridcolor": "white",
             "linecolor": "white",
             "minorgridcolor": "white",
             "startlinecolor": "#2a3f5f"
            },
            "baxis": {
             "endlinecolor": "#2a3f5f",
             "gridcolor": "white",
             "linecolor": "white",
             "minorgridcolor": "white",
             "startlinecolor": "#2a3f5f"
            },
            "type": "carpet"
           }
          ],
          "choropleth": [
           {
            "colorbar": {
             "outlinewidth": 0,
             "ticks": ""
            },
            "type": "choropleth"
           }
          ],
          "contour": [
           {
            "colorbar": {
             "outlinewidth": 0,
             "ticks": ""
            },
            "colorscale": [
             [
              0,
              "#0d0887"
             ],
             [
              0.1111111111111111,
              "#46039f"
             ],
             [
              0.2222222222222222,
              "#7201a8"
             ],
             [
              0.3333333333333333,
              "#9c179e"
             ],
             [
              0.4444444444444444,
              "#bd3786"
             ],
             [
              0.5555555555555556,
              "#d8576b"
             ],
             [
              0.6666666666666666,
              "#ed7953"
             ],
             [
              0.7777777777777778,
              "#fb9f3a"
             ],
             [
              0.8888888888888888,
              "#fdca26"
             ],
             [
              1,
              "#f0f921"
             ]
            ],
            "type": "contour"
           }
          ],
          "contourcarpet": [
           {
            "colorbar": {
             "outlinewidth": 0,
             "ticks": ""
            },
            "type": "contourcarpet"
           }
          ],
          "heatmap": [
           {
            "colorbar": {
             "outlinewidth": 0,
             "ticks": ""
            },
            "colorscale": [
             [
              0,
              "#0d0887"
             ],
             [
              0.1111111111111111,
              "#46039f"
             ],
             [
              0.2222222222222222,
              "#7201a8"
             ],
             [
              0.3333333333333333,
              "#9c179e"
             ],
             [
              0.4444444444444444,
              "#bd3786"
             ],
             [
              0.5555555555555556,
              "#d8576b"
             ],
             [
              0.6666666666666666,
              "#ed7953"
             ],
             [
              0.7777777777777778,
              "#fb9f3a"
             ],
             [
              0.8888888888888888,
              "#fdca26"
             ],
             [
              1,
              "#f0f921"
             ]
            ],
            "type": "heatmap"
           }
          ],
          "heatmapgl": [
           {
            "colorbar": {
             "outlinewidth": 0,
             "ticks": ""
            },
            "colorscale": [
             [
              0,
              "#0d0887"
             ],
             [
              0.1111111111111111,
              "#46039f"
             ],
             [
              0.2222222222222222,
              "#7201a8"
             ],
             [
              0.3333333333333333,
              "#9c179e"
             ],
             [
              0.4444444444444444,
              "#bd3786"
             ],
             [
              0.5555555555555556,
              "#d8576b"
             ],
             [
              0.6666666666666666,
              "#ed7953"
             ],
             [
              0.7777777777777778,
              "#fb9f3a"
             ],
             [
              0.8888888888888888,
              "#fdca26"
             ],
             [
              1,
              "#f0f921"
             ]
            ],
            "type": "heatmapgl"
           }
          ],
          "histogram": [
           {
            "marker": {
             "pattern": {
              "fillmode": "overlay",
              "size": 10,
              "solidity": 0.2
             }
            },
            "type": "histogram"
           }
          ],
          "histogram2d": [
           {
            "colorbar": {
             "outlinewidth": 0,
             "ticks": ""
            },
            "colorscale": [
             [
              0,
              "#0d0887"
             ],
             [
              0.1111111111111111,
              "#46039f"
             ],
             [
              0.2222222222222222,
              "#7201a8"
             ],
             [
              0.3333333333333333,
              "#9c179e"
             ],
             [
              0.4444444444444444,
              "#bd3786"
             ],
             [
              0.5555555555555556,
              "#d8576b"
             ],
             [
              0.6666666666666666,
              "#ed7953"
             ],
             [
              0.7777777777777778,
              "#fb9f3a"
             ],
             [
              0.8888888888888888,
              "#fdca26"
             ],
             [
              1,
              "#f0f921"
             ]
            ],
            "type": "histogram2d"
           }
          ],
          "histogram2dcontour": [
           {
            "colorbar": {
             "outlinewidth": 0,
             "ticks": ""
            },
            "colorscale": [
             [
              0,
              "#0d0887"
             ],
             [
              0.1111111111111111,
              "#46039f"
             ],
             [
              0.2222222222222222,
              "#7201a8"
             ],
             [
              0.3333333333333333,
              "#9c179e"
             ],
             [
              0.4444444444444444,
              "#bd3786"
             ],
             [
              0.5555555555555556,
              "#d8576b"
             ],
             [
              0.6666666666666666,
              "#ed7953"
             ],
             [
              0.7777777777777778,
              "#fb9f3a"
             ],
             [
              0.8888888888888888,
              "#fdca26"
             ],
             [
              1,
              "#f0f921"
             ]
            ],
            "type": "histogram2dcontour"
           }
          ],
          "mesh3d": [
           {
            "colorbar": {
             "outlinewidth": 0,
             "ticks": ""
            },
            "type": "mesh3d"
           }
          ],
          "parcoords": [
           {
            "line": {
             "colorbar": {
              "outlinewidth": 0,
              "ticks": ""
             }
            },
            "type": "parcoords"
           }
          ],
          "pie": [
           {
            "automargin": true,
            "type": "pie"
           }
          ],
          "scatter": [
           {
            "fillpattern": {
             "fillmode": "overlay",
             "size": 10,
             "solidity": 0.2
            },
            "type": "scatter"
           }
          ],
          "scatter3d": [
           {
            "line": {
             "colorbar": {
              "outlinewidth": 0,
              "ticks": ""
             }
            },
            "marker": {
             "colorbar": {
              "outlinewidth": 0,
              "ticks": ""
             }
            },
            "type": "scatter3d"
           }
          ],
          "scattercarpet": [
           {
            "marker": {
             "colorbar": {
              "outlinewidth": 0,
              "ticks": ""
             }
            },
            "type": "scattercarpet"
           }
          ],
          "scattergeo": [
           {
            "marker": {
             "colorbar": {
              "outlinewidth": 0,
              "ticks": ""
             }
            },
            "type": "scattergeo"
           }
          ],
          "scattergl": [
           {
            "marker": {
             "colorbar": {
              "outlinewidth": 0,
              "ticks": ""
             }
            },
            "type": "scattergl"
           }
          ],
          "scattermapbox": [
           {
            "marker": {
             "colorbar": {
              "outlinewidth": 0,
              "ticks": ""
             }
            },
            "type": "scattermapbox"
           }
          ],
          "scatterpolar": [
           {
            "marker": {
             "colorbar": {
              "outlinewidth": 0,
              "ticks": ""
             }
            },
            "type": "scatterpolar"
           }
          ],
          "scatterpolargl": [
           {
            "marker": {
             "colorbar": {
              "outlinewidth": 0,
              "ticks": ""
             }
            },
            "type": "scatterpolargl"
           }
          ],
          "scatterternary": [
           {
            "marker": {
             "colorbar": {
              "outlinewidth": 0,
              "ticks": ""
             }
            },
            "type": "scatterternary"
           }
          ],
          "surface": [
           {
            "colorbar": {
             "outlinewidth": 0,
             "ticks": ""
            },
            "colorscale": [
             [
              0,
              "#0d0887"
             ],
             [
              0.1111111111111111,
              "#46039f"
             ],
             [
              0.2222222222222222,
              "#7201a8"
             ],
             [
              0.3333333333333333,
              "#9c179e"
             ],
             [
              0.4444444444444444,
              "#bd3786"
             ],
             [
              0.5555555555555556,
              "#d8576b"
             ],
             [
              0.6666666666666666,
              "#ed7953"
             ],
             [
              0.7777777777777778,
              "#fb9f3a"
             ],
             [
              0.8888888888888888,
              "#fdca26"
             ],
             [
              1,
              "#f0f921"
             ]
            ],
            "type": "surface"
           }
          ],
          "table": [
           {
            "cells": {
             "fill": {
              "color": "#EBF0F8"
             },
             "line": {
              "color": "white"
             }
            },
            "header": {
             "fill": {
              "color": "#C8D4E3"
             },
             "line": {
              "color": "white"
             }
            },
            "type": "table"
           }
          ]
         },
         "layout": {
          "annotationdefaults": {
           "arrowcolor": "#2a3f5f",
           "arrowhead": 0,
           "arrowwidth": 1
          },
          "autotypenumbers": "strict",
          "coloraxis": {
           "colorbar": {
            "outlinewidth": 0,
            "ticks": ""
           }
          },
          "colorscale": {
           "diverging": [
            [
             0,
             "#8e0152"
            ],
            [
             0.1,
             "#c51b7d"
            ],
            [
             0.2,
             "#de77ae"
            ],
            [
             0.3,
             "#f1b6da"
            ],
            [
             0.4,
             "#fde0ef"
            ],
            [
             0.5,
             "#f7f7f7"
            ],
            [
             0.6,
             "#e6f5d0"
            ],
            [
             0.7,
             "#b8e186"
            ],
            [
             0.8,
             "#7fbc41"
            ],
            [
             0.9,
             "#4d9221"
            ],
            [
             1,
             "#276419"
            ]
           ],
           "sequential": [
            [
             0,
             "#0d0887"
            ],
            [
             0.1111111111111111,
             "#46039f"
            ],
            [
             0.2222222222222222,
             "#7201a8"
            ],
            [
             0.3333333333333333,
             "#9c179e"
            ],
            [
             0.4444444444444444,
             "#bd3786"
            ],
            [
             0.5555555555555556,
             "#d8576b"
            ],
            [
             0.6666666666666666,
             "#ed7953"
            ],
            [
             0.7777777777777778,
             "#fb9f3a"
            ],
            [
             0.8888888888888888,
             "#fdca26"
            ],
            [
             1,
             "#f0f921"
            ]
           ],
           "sequentialminus": [
            [
             0,
             "#0d0887"
            ],
            [
             0.1111111111111111,
             "#46039f"
            ],
            [
             0.2222222222222222,
             "#7201a8"
            ],
            [
             0.3333333333333333,
             "#9c179e"
            ],
            [
             0.4444444444444444,
             "#bd3786"
            ],
            [
             0.5555555555555556,
             "#d8576b"
            ],
            [
             0.6666666666666666,
             "#ed7953"
            ],
            [
             0.7777777777777778,
             "#fb9f3a"
            ],
            [
             0.8888888888888888,
             "#fdca26"
            ],
            [
             1,
             "#f0f921"
            ]
           ]
          },
          "colorway": [
           "#636efa",
           "#EF553B",
           "#00cc96",
           "#ab63fa",
           "#FFA15A",
           "#19d3f3",
           "#FF6692",
           "#B6E880",
           "#FF97FF",
           "#FECB52"
          ],
          "font": {
           "color": "#2a3f5f"
          },
          "geo": {
           "bgcolor": "white",
           "lakecolor": "white",
           "landcolor": "#E5ECF6",
           "showlakes": true,
           "showland": true,
           "subunitcolor": "white"
          },
          "hoverlabel": {
           "align": "left"
          },
          "hovermode": "closest",
          "mapbox": {
           "style": "light"
          },
          "paper_bgcolor": "white",
          "plot_bgcolor": "#E5ECF6",
          "polar": {
           "angularaxis": {
            "gridcolor": "white",
            "linecolor": "white",
            "ticks": ""
           },
           "bgcolor": "#E5ECF6",
           "radialaxis": {
            "gridcolor": "white",
            "linecolor": "white",
            "ticks": ""
           }
          },
          "scene": {
           "xaxis": {
            "backgroundcolor": "#E5ECF6",
            "gridcolor": "white",
            "gridwidth": 2,
            "linecolor": "white",
            "showbackground": true,
            "ticks": "",
            "zerolinecolor": "white"
           },
           "yaxis": {
            "backgroundcolor": "#E5ECF6",
            "gridcolor": "white",
            "gridwidth": 2,
            "linecolor": "white",
            "showbackground": true,
            "ticks": "",
            "zerolinecolor": "white"
           },
           "zaxis": {
            "backgroundcolor": "#E5ECF6",
            "gridcolor": "white",
            "gridwidth": 2,
            "linecolor": "white",
            "showbackground": true,
            "ticks": "",
            "zerolinecolor": "white"
           }
          },
          "shapedefaults": {
           "line": {
            "color": "#2a3f5f"
           }
          },
          "ternary": {
           "aaxis": {
            "gridcolor": "white",
            "linecolor": "white",
            "ticks": ""
           },
           "baxis": {
            "gridcolor": "white",
            "linecolor": "white",
            "ticks": ""
           },
           "bgcolor": "#E5ECF6",
           "caxis": {
            "gridcolor": "white",
            "linecolor": "white",
            "ticks": ""
           }
          },
          "title": {
           "x": 0.05
          },
          "xaxis": {
           "automargin": true,
           "gridcolor": "white",
           "linecolor": "white",
           "ticks": "",
           "title": {
            "standoff": 15
           },
           "zerolinecolor": "white",
           "zerolinewidth": 2
          },
          "yaxis": {
           "automargin": true,
           "gridcolor": "white",
           "linecolor": "white",
           "ticks": "",
           "title": {
            "standoff": 15
           },
           "zerolinecolor": "white",
           "zerolinewidth": 2
          }
         }
        },
        "title": {
         "text": "중요고객 Funnel (Electronics)"
        },
        "xaxis": {
         "anchor": "y",
         "domain": [
          0,
          1
         ],
         "title": {
          "text": "rate"
         }
        },
        "yaxis": {
         "anchor": "x",
         "domain": [
          0,
          1
         ],
         "title": {
          "text": "stage"
         }
        }
       }
      }
     },
     "metadata": {},
     "output_type": "display_data"
    }
   ],
   "source": [
    "data = dict(\n",
    "    number=[12688,1597,710],\n",
    "    stage=['view','basket','purchase'],\n",
    "    rate=[1,0.12586696090794453,0.055958385876418666]\n",
    ")\n",
    "fig = px.funnel(data, x='rate', y='stage', title='중요고객 Funnel (Electronics)')\n",
    "fig.update_traces(texttemplate=\"%{value:,.2%}\")\n",
    "fig.show()"
   ]
  },
  {
   "cell_type": "markdown",
   "metadata": {},
   "source": [
    "## 신규고객 (3)"
   ]
  },
  {
   "cell_type": "code",
   "execution_count": 160,
   "metadata": {},
   "outputs": [
    {
     "data": {
      "text/html": [
       "<div>\n",
       "<style scoped>\n",
       "    .dataframe tbody tr th:only-of-type {\n",
       "        vertical-align: middle;\n",
       "    }\n",
       "\n",
       "    .dataframe tbody tr th {\n",
       "        vertical-align: top;\n",
       "    }\n",
       "\n",
       "    .dataframe thead th {\n",
       "        text-align: right;\n",
       "    }\n",
       "</style>\n",
       "<table border=\"1\" class=\"dataframe\">\n",
       "  <thead>\n",
       "    <tr style=\"text-align: right;\">\n",
       "      <th></th>\n",
       "      <th>CustomerID</th>\n",
       "      <th>ActionType</th>\n",
       "      <th>GoodsCode</th>\n",
       "      <th>Price</th>\n",
       "      <th>AdID</th>\n",
       "      <th>CPC</th>\n",
       "      <th>Timestamp</th>\n",
       "      <th>GoodsCode_ad</th>\n",
       "      <th>eval_type</th>\n",
       "      <th>cluster_plus</th>\n",
       "      <th>Category</th>\n",
       "      <th>OriginalPrice</th>\n",
       "      <th>Inventory</th>\n",
       "    </tr>\n",
       "  </thead>\n",
       "  <tbody>\n",
       "    <tr>\n",
       "      <th>1419</th>\n",
       "      <td>340</td>\n",
       "      <td>ad_click</td>\n",
       "      <td>1451</td>\n",
       "      <td>18470</td>\n",
       "      <td>ad_google</td>\n",
       "      <td>75.42</td>\n",
       "      <td>2022-06-13 23:20:07.502999</td>\n",
       "      <td>1451</td>\n",
       "      <td>ad_click</td>\n",
       "      <td>신규고객</td>\n",
       "      <td>Books</td>\n",
       "      <td>18470</td>\n",
       "      <td>9601</td>\n",
       "    </tr>\n",
       "    <tr>\n",
       "      <th>2081</th>\n",
       "      <td>539</td>\n",
       "      <td>ad_click</td>\n",
       "      <td>1010</td>\n",
       "      <td>19260</td>\n",
       "      <td>ad_meta</td>\n",
       "      <td>117.33</td>\n",
       "      <td>2022-05-19 09:04:11.008345</td>\n",
       "      <td>1010</td>\n",
       "      <td>ad_click</td>\n",
       "      <td>신규고객</td>\n",
       "      <td>Books</td>\n",
       "      <td>19260</td>\n",
       "      <td>5491</td>\n",
       "    </tr>\n",
       "    <tr>\n",
       "      <th>2082</th>\n",
       "      <td>539</td>\n",
       "      <td>view</td>\n",
       "      <td>1081</td>\n",
       "      <td>105310</td>\n",
       "      <td>NaN</td>\n",
       "      <td>NaN</td>\n",
       "      <td>2022-05-21 05:54:05.008345</td>\n",
       "      <td>1010</td>\n",
       "      <td>ad_view_other</td>\n",
       "      <td>신규고객</td>\n",
       "      <td>Electronics</td>\n",
       "      <td>105310</td>\n",
       "      <td>6408</td>\n",
       "    </tr>\n",
       "    <tr>\n",
       "      <th>2087</th>\n",
       "      <td>539</td>\n",
       "      <td>ad_click</td>\n",
       "      <td>1108</td>\n",
       "      <td>34540</td>\n",
       "      <td>ad_meta</td>\n",
       "      <td>280.72</td>\n",
       "      <td>2022-12-24 20:04:37.127184</td>\n",
       "      <td>1108</td>\n",
       "      <td>ad_click</td>\n",
       "      <td>신규고객</td>\n",
       "      <td>Home &amp; Garden</td>\n",
       "      <td>34540</td>\n",
       "      <td>3322</td>\n",
       "    </tr>\n",
       "    <tr>\n",
       "      <th>2088</th>\n",
       "      <td>539</td>\n",
       "      <td>ad_click</td>\n",
       "      <td>1108</td>\n",
       "      <td>34540</td>\n",
       "      <td>ad_google</td>\n",
       "      <td>201.92</td>\n",
       "      <td>2023-01-10 21:35:42.127184</td>\n",
       "      <td>1108</td>\n",
       "      <td>ad_click</td>\n",
       "      <td>신규고객</td>\n",
       "      <td>Home &amp; Garden</td>\n",
       "      <td>34540</td>\n",
       "      <td>3322</td>\n",
       "    </tr>\n",
       "    <tr>\n",
       "      <th>...</th>\n",
       "      <td>...</td>\n",
       "      <td>...</td>\n",
       "      <td>...</td>\n",
       "      <td>...</td>\n",
       "      <td>...</td>\n",
       "      <td>...</td>\n",
       "      <td>...</td>\n",
       "      <td>...</td>\n",
       "      <td>...</td>\n",
       "      <td>...</td>\n",
       "      <td>...</td>\n",
       "      <td>...</td>\n",
       "      <td>...</td>\n",
       "    </tr>\n",
       "    <tr>\n",
       "      <th>3047661</th>\n",
       "      <td>882211</td>\n",
       "      <td>view</td>\n",
       "      <td>1246</td>\n",
       "      <td>16840</td>\n",
       "      <td>NaN</td>\n",
       "      <td>NaN</td>\n",
       "      <td>2022-05-12 00:37:32.047280</td>\n",
       "      <td>1407</td>\n",
       "      <td>ad_view_other</td>\n",
       "      <td>신규고객</td>\n",
       "      <td>Books</td>\n",
       "      <td>16840</td>\n",
       "      <td>2218</td>\n",
       "    </tr>\n",
       "    <tr>\n",
       "      <th>3054439</th>\n",
       "      <td>884714</td>\n",
       "      <td>ad_click</td>\n",
       "      <td>1454</td>\n",
       "      <td>5550</td>\n",
       "      <td>ad_meta</td>\n",
       "      <td>21.28</td>\n",
       "      <td>2022-09-15 17:10:20.127184</td>\n",
       "      <td>1454</td>\n",
       "      <td>ad_click</td>\n",
       "      <td>신규고객</td>\n",
       "      <td>Books</td>\n",
       "      <td>5550</td>\n",
       "      <td>8294</td>\n",
       "    </tr>\n",
       "    <tr>\n",
       "      <th>3054440</th>\n",
       "      <td>884714</td>\n",
       "      <td>purchase</td>\n",
       "      <td>1454</td>\n",
       "      <td>5550</td>\n",
       "      <td>NaN</td>\n",
       "      <td>NaN</td>\n",
       "      <td>2022-09-19 14:23:58.127184</td>\n",
       "      <td>1454</td>\n",
       "      <td>ad_purchase</td>\n",
       "      <td>신규고객</td>\n",
       "      <td>Books</td>\n",
       "      <td>5550</td>\n",
       "      <td>8294</td>\n",
       "    </tr>\n",
       "    <tr>\n",
       "      <th>3082715</th>\n",
       "      <td>894731</td>\n",
       "      <td>ad_click</td>\n",
       "      <td>1114</td>\n",
       "      <td>75180</td>\n",
       "      <td>ad_google</td>\n",
       "      <td>160.99</td>\n",
       "      <td>2023-01-05 17:49:11.127184</td>\n",
       "      <td>1114</td>\n",
       "      <td>ad_click</td>\n",
       "      <td>신규고객</td>\n",
       "      <td>Electronics</td>\n",
       "      <td>75180</td>\n",
       "      <td>4640</td>\n",
       "    </tr>\n",
       "    <tr>\n",
       "      <th>3095089</th>\n",
       "      <td>899258</td>\n",
       "      <td>ad_click</td>\n",
       "      <td>1043</td>\n",
       "      <td>28680</td>\n",
       "      <td>ad_google</td>\n",
       "      <td>137.86</td>\n",
       "      <td>2022-05-23 04:52:54.181620</td>\n",
       "      <td>1043</td>\n",
       "      <td>ad_click</td>\n",
       "      <td>신규고객</td>\n",
       "      <td>Clothing</td>\n",
       "      <td>28680</td>\n",
       "      <td>6796</td>\n",
       "    </tr>\n",
       "  </tbody>\n",
       "</table>\n",
       "<p>448 rows × 13 columns</p>\n",
       "</div>"
      ],
      "text/plain": [
       "         CustomerID ActionType  GoodsCode   Price       AdID     CPC  \\\n",
       "1419            340   ad_click       1451   18470  ad_google   75.42   \n",
       "2081            539   ad_click       1010   19260    ad_meta  117.33   \n",
       "2082            539       view       1081  105310        NaN     NaN   \n",
       "2087            539   ad_click       1108   34540    ad_meta  280.72   \n",
       "2088            539   ad_click       1108   34540  ad_google  201.92   \n",
       "...             ...        ...        ...     ...        ...     ...   \n",
       "3047661      882211       view       1246   16840        NaN     NaN   \n",
       "3054439      884714   ad_click       1454    5550    ad_meta   21.28   \n",
       "3054440      884714   purchase       1454    5550        NaN     NaN   \n",
       "3082715      894731   ad_click       1114   75180  ad_google  160.99   \n",
       "3095089      899258   ad_click       1043   28680  ad_google  137.86   \n",
       "\n",
       "                         Timestamp  GoodsCode_ad      eval_type cluster_plus  \\\n",
       "1419    2022-06-13 23:20:07.502999          1451       ad_click         신규고객   \n",
       "2081    2022-05-19 09:04:11.008345          1010       ad_click         신규고객   \n",
       "2082    2022-05-21 05:54:05.008345          1010  ad_view_other         신규고객   \n",
       "2087    2022-12-24 20:04:37.127184          1108       ad_click         신규고객   \n",
       "2088    2023-01-10 21:35:42.127184          1108       ad_click         신규고객   \n",
       "...                            ...           ...            ...          ...   \n",
       "3047661 2022-05-12 00:37:32.047280          1407  ad_view_other         신규고객   \n",
       "3054439 2022-09-15 17:10:20.127184          1454       ad_click         신규고객   \n",
       "3054440 2022-09-19 14:23:58.127184          1454    ad_purchase         신규고객   \n",
       "3082715 2023-01-05 17:49:11.127184          1114       ad_click         신규고객   \n",
       "3095089 2022-05-23 04:52:54.181620          1043       ad_click         신규고객   \n",
       "\n",
       "              Category  OriginalPrice  Inventory  \n",
       "1419             Books          18470       9601  \n",
       "2081             Books          19260       5491  \n",
       "2082       Electronics         105310       6408  \n",
       "2087     Home & Garden          34540       3322  \n",
       "2088     Home & Garden          34540       3322  \n",
       "...                ...            ...        ...  \n",
       "3047661          Books          16840       2218  \n",
       "3054439          Books           5550       8294  \n",
       "3054440          Books           5550       8294  \n",
       "3082715    Electronics          75180       4640  \n",
       "3095089       Clothing          28680       6796  \n",
       "\n",
       "[448 rows x 13 columns]"
      ]
     },
     "execution_count": 160,
     "metadata": {},
     "output_type": "execute_result"
    }
   ],
   "source": [
    "new = ad_funnel[ad_funnel['cluster_plus']=='신규고객']\n",
    "new"
   ]
  },
  {
   "cell_type": "code",
   "execution_count": 161,
   "metadata": {},
   "outputs": [
    {
     "data": {
      "text/html": [
       "<div>\n",
       "<style scoped>\n",
       "    .dataframe tbody tr th:only-of-type {\n",
       "        vertical-align: middle;\n",
       "    }\n",
       "\n",
       "    .dataframe tbody tr th {\n",
       "        vertical-align: top;\n",
       "    }\n",
       "\n",
       "    .dataframe thead th {\n",
       "        text-align: right;\n",
       "    }\n",
       "</style>\n",
       "<table border=\"1\" class=\"dataframe\">\n",
       "  <thead>\n",
       "    <tr style=\"text-align: right;\">\n",
       "      <th></th>\n",
       "      <th>CustomerID</th>\n",
       "      <th>ActionType</th>\n",
       "      <th>GoodsCode</th>\n",
       "      <th>Price</th>\n",
       "      <th>AdID</th>\n",
       "      <th>CPC</th>\n",
       "      <th>Timestamp</th>\n",
       "      <th>GoodsCode_ad</th>\n",
       "      <th>eval_type</th>\n",
       "      <th>cluster_plus</th>\n",
       "      <th>Category</th>\n",
       "      <th>OriginalPrice</th>\n",
       "      <th>Inventory</th>\n",
       "    </tr>\n",
       "  </thead>\n",
       "  <tbody>\n",
       "    <tr>\n",
       "      <th>2082</th>\n",
       "      <td>539</td>\n",
       "      <td>view</td>\n",
       "      <td>1081</td>\n",
       "      <td>105310</td>\n",
       "      <td>NaN</td>\n",
       "      <td>NaN</td>\n",
       "      <td>2022-05-21 05:54:05.008345</td>\n",
       "      <td>1010</td>\n",
       "      <td>ad_view_other</td>\n",
       "      <td>신규고객</td>\n",
       "      <td>Electronics</td>\n",
       "      <td>105310</td>\n",
       "      <td>6408</td>\n",
       "    </tr>\n",
       "    <tr>\n",
       "      <th>5551</th>\n",
       "      <td>1456</td>\n",
       "      <td>ad_click</td>\n",
       "      <td>1256</td>\n",
       "      <td>107510</td>\n",
       "      <td>ad_google</td>\n",
       "      <td>882.44</td>\n",
       "      <td>2022-03-06 21:57:09.555126</td>\n",
       "      <td>1256</td>\n",
       "      <td>ad_click</td>\n",
       "      <td>신규고객</td>\n",
       "      <td>Electronics</td>\n",
       "      <td>107510</td>\n",
       "      <td>9228</td>\n",
       "    </tr>\n",
       "    <tr>\n",
       "      <th>5552</th>\n",
       "      <td>1456</td>\n",
       "      <td>view</td>\n",
       "      <td>1197</td>\n",
       "      <td>34900</td>\n",
       "      <td>NaN</td>\n",
       "      <td>NaN</td>\n",
       "      <td>2022-03-09 02:57:29.555126</td>\n",
       "      <td>1256</td>\n",
       "      <td>ad_view_other</td>\n",
       "      <td>신규고객</td>\n",
       "      <td>Electronics</td>\n",
       "      <td>34900</td>\n",
       "      <td>7467</td>\n",
       "    </tr>\n",
       "    <tr>\n",
       "      <th>83708</th>\n",
       "      <td>21679</td>\n",
       "      <td>ad_click</td>\n",
       "      <td>1182</td>\n",
       "      <td>106010</td>\n",
       "      <td>ad_line</td>\n",
       "      <td>514.20</td>\n",
       "      <td>2022-05-13 23:06:15.052427</td>\n",
       "      <td>1182</td>\n",
       "      <td>ad_click</td>\n",
       "      <td>신규고객</td>\n",
       "      <td>Electronics</td>\n",
       "      <td>106010</td>\n",
       "      <td>9436</td>\n",
       "    </tr>\n",
       "    <tr>\n",
       "      <th>91484</th>\n",
       "      <td>23554</td>\n",
       "      <td>ad_click</td>\n",
       "      <td>1171</td>\n",
       "      <td>104650</td>\n",
       "      <td>ad_meta</td>\n",
       "      <td>379.62</td>\n",
       "      <td>2022-10-10 02:29:09.511967</td>\n",
       "      <td>1171</td>\n",
       "      <td>ad_click</td>\n",
       "      <td>신규고객</td>\n",
       "      <td>Electronics</td>\n",
       "      <td>104650</td>\n",
       "      <td>1920</td>\n",
       "    </tr>\n",
       "    <tr>\n",
       "      <th>...</th>\n",
       "      <td>...</td>\n",
       "      <td>...</td>\n",
       "      <td>...</td>\n",
       "      <td>...</td>\n",
       "      <td>...</td>\n",
       "      <td>...</td>\n",
       "      <td>...</td>\n",
       "      <td>...</td>\n",
       "      <td>...</td>\n",
       "      <td>...</td>\n",
       "      <td>...</td>\n",
       "      <td>...</td>\n",
       "      <td>...</td>\n",
       "    </tr>\n",
       "    <tr>\n",
       "      <th>2968048</th>\n",
       "      <td>852930</td>\n",
       "      <td>ad_click</td>\n",
       "      <td>1018</td>\n",
       "      <td>124990</td>\n",
       "      <td>ad_google</td>\n",
       "      <td>973.96</td>\n",
       "      <td>2022-03-24 03:44:59.127184</td>\n",
       "      <td>1018</td>\n",
       "      <td>ad_click</td>\n",
       "      <td>신규고객</td>\n",
       "      <td>Electronics</td>\n",
       "      <td>124990</td>\n",
       "      <td>3679</td>\n",
       "    </tr>\n",
       "    <tr>\n",
       "      <th>2988403</th>\n",
       "      <td>860743</td>\n",
       "      <td>ad_click</td>\n",
       "      <td>1358</td>\n",
       "      <td>48200</td>\n",
       "      <td>ad_google</td>\n",
       "      <td>147.38</td>\n",
       "      <td>2022-12-20 16:22:19.127184</td>\n",
       "      <td>1358</td>\n",
       "      <td>ad_click</td>\n",
       "      <td>신규고객</td>\n",
       "      <td>Electronics</td>\n",
       "      <td>48200</td>\n",
       "      <td>1791</td>\n",
       "    </tr>\n",
       "    <tr>\n",
       "      <th>3009455</th>\n",
       "      <td>868283</td>\n",
       "      <td>ad_click</td>\n",
       "      <td>1221</td>\n",
       "      <td>88140</td>\n",
       "      <td>ad_google</td>\n",
       "      <td>453.33</td>\n",
       "      <td>2022-12-08 06:52:53.127184</td>\n",
       "      <td>1221</td>\n",
       "      <td>ad_click</td>\n",
       "      <td>신규고객</td>\n",
       "      <td>Electronics</td>\n",
       "      <td>88140</td>\n",
       "      <td>1824</td>\n",
       "    </tr>\n",
       "    <tr>\n",
       "      <th>3047640</th>\n",
       "      <td>882211</td>\n",
       "      <td>ad_click</td>\n",
       "      <td>1234</td>\n",
       "      <td>93910</td>\n",
       "      <td>ad_meta</td>\n",
       "      <td>855.93</td>\n",
       "      <td>2022-03-13 19:31:42.047280</td>\n",
       "      <td>1234</td>\n",
       "      <td>ad_click</td>\n",
       "      <td>신규고객</td>\n",
       "      <td>Electronics</td>\n",
       "      <td>93910</td>\n",
       "      <td>8312</td>\n",
       "    </tr>\n",
       "    <tr>\n",
       "      <th>3082715</th>\n",
       "      <td>894731</td>\n",
       "      <td>ad_click</td>\n",
       "      <td>1114</td>\n",
       "      <td>75180</td>\n",
       "      <td>ad_google</td>\n",
       "      <td>160.99</td>\n",
       "      <td>2023-01-05 17:49:11.127184</td>\n",
       "      <td>1114</td>\n",
       "      <td>ad_click</td>\n",
       "      <td>신규고객</td>\n",
       "      <td>Electronics</td>\n",
       "      <td>75180</td>\n",
       "      <td>4640</td>\n",
       "    </tr>\n",
       "  </tbody>\n",
       "</table>\n",
       "<p>116 rows × 13 columns</p>\n",
       "</div>"
      ],
      "text/plain": [
       "         CustomerID ActionType  GoodsCode   Price       AdID     CPC  \\\n",
       "2082            539       view       1081  105310        NaN     NaN   \n",
       "5551           1456   ad_click       1256  107510  ad_google  882.44   \n",
       "5552           1456       view       1197   34900        NaN     NaN   \n",
       "83708         21679   ad_click       1182  106010    ad_line  514.20   \n",
       "91484         23554   ad_click       1171  104650    ad_meta  379.62   \n",
       "...             ...        ...        ...     ...        ...     ...   \n",
       "2968048      852930   ad_click       1018  124990  ad_google  973.96   \n",
       "2988403      860743   ad_click       1358   48200  ad_google  147.38   \n",
       "3009455      868283   ad_click       1221   88140  ad_google  453.33   \n",
       "3047640      882211   ad_click       1234   93910    ad_meta  855.93   \n",
       "3082715      894731   ad_click       1114   75180  ad_google  160.99   \n",
       "\n",
       "                         Timestamp  GoodsCode_ad      eval_type cluster_plus  \\\n",
       "2082    2022-05-21 05:54:05.008345          1010  ad_view_other         신규고객   \n",
       "5551    2022-03-06 21:57:09.555126          1256       ad_click         신규고객   \n",
       "5552    2022-03-09 02:57:29.555126          1256  ad_view_other         신규고객   \n",
       "83708   2022-05-13 23:06:15.052427          1182       ad_click         신규고객   \n",
       "91484   2022-10-10 02:29:09.511967          1171       ad_click         신규고객   \n",
       "...                            ...           ...            ...          ...   \n",
       "2968048 2022-03-24 03:44:59.127184          1018       ad_click         신규고객   \n",
       "2988403 2022-12-20 16:22:19.127184          1358       ad_click         신규고객   \n",
       "3009455 2022-12-08 06:52:53.127184          1221       ad_click         신규고객   \n",
       "3047640 2022-03-13 19:31:42.047280          1234       ad_click         신규고객   \n",
       "3082715 2023-01-05 17:49:11.127184          1114       ad_click         신규고객   \n",
       "\n",
       "            Category  OriginalPrice  Inventory  \n",
       "2082     Electronics         105310       6408  \n",
       "5551     Electronics         107510       9228  \n",
       "5552     Electronics          34900       7467  \n",
       "83708    Electronics         106010       9436  \n",
       "91484    Electronics         104650       1920  \n",
       "...              ...            ...        ...  \n",
       "2968048  Electronics         124990       3679  \n",
       "2988403  Electronics          48200       1791  \n",
       "3009455  Electronics          88140       1824  \n",
       "3047640  Electronics          93910       8312  \n",
       "3082715  Electronics          75180       4640  \n",
       "\n",
       "[116 rows x 13 columns]"
      ]
     },
     "execution_count": 161,
     "metadata": {},
     "output_type": "execute_result"
    }
   ],
   "source": [
    "new = new[new['Category']=='Electronics']\n",
    "new"
   ]
  },
  {
   "cell_type": "code",
   "execution_count": 162,
   "metadata": {},
   "outputs": [
    {
     "name": "stdout",
     "output_type": "stream",
     "text": [
      "퍼널 카운트: {'view': 99, 'basket': 11, 'purchase': 4}\n"
     ]
    }
   ],
   "source": [
    "new_ad_funnel_adpurchase_counts1 = {'view': 0, 'basket': 0, 'purchase': 0}\n",
    "\n",
    "# 퍼널을 계산\n",
    "for idx, row in new.iterrows():\n",
    "    if row['ActionType'] == 'ad_click':\n",
    "        new_ad_funnel_adpurchase_counts1['view'] += 1\n",
    "    elif row['eval_type'] == 'ad_view':\n",
    "        new_ad_funnel_adpurchase_counts1['view'] += 1\n",
    "    elif row['eval_type'] == 'ad_basket':\n",
    "        new_ad_funnel_adpurchase_counts1['basket'] += 1\n",
    "        new_ad_funnel_adpurchase_counts1['view'] += 1  \n",
    "    elif row['eval_type'] == 'ad_purchase':\n",
    "        new_ad_funnel_adpurchase_counts1['purchase'] += 1\n",
    "        new_ad_funnel_adpurchase_counts1['view'] += 1\n",
    "        new_ad_funnel_adpurchase_counts1['basket'] += 1\n",
    "\n",
    "print(\"퍼널 카운트:\", new_ad_funnel_adpurchase_counts1)\n"
   ]
  },
  {
   "cell_type": "code",
   "execution_count": 163,
   "metadata": {},
   "outputs": [
    {
     "name": "stdout",
     "output_type": "stream",
     "text": [
      "View Count: 99\n",
      "Basket Count: 11\n",
      "Purchase Count: 4\n",
      "View to Basket Conversion Rate: 0.1111111111111111\n",
      "Basket to Purchase Conversion Rate: 0.36363636363636365\n",
      "View to Purchase Conversion Rate: 0.04040404040404041\n"
     ]
    }
   ],
   "source": [
    "view_count_new_elec = 99\n",
    "basket_count_new_elec = 11\n",
    "purchase_count_new_elec = 4\n",
    "\n",
    "\n",
    "# 각 단계에서 다음 단계로의 전환율을 계산합니다.\n",
    "basket_to_purchase_rate_new_elec = purchase_count_new_elec / basket_count_new_elec\n",
    "view_to_basket_rate_ad_new_elec = basket_count_new_elec / view_count_new_elec\n",
    "view_to_purchase_rate_new_elec = purchase_count_new_elec / view_count_new_elec\n",
    "\n",
    "# 결과를 출력합니다.\n",
    "print(\"View Count:\", view_count_new_elec)\n",
    "print(\"Basket Count:\", basket_count_new_elec)\n",
    "print(\"Purchase Count:\", purchase_count_new_elec)\n",
    "print(\"View to Basket Conversion Rate:\", view_to_basket_rate_ad_new_elec)\n",
    "print(\"Basket to Purchase Conversion Rate:\", basket_to_purchase_rate_new_elec)\n",
    "print(\"View to Purchase Conversion Rate:\",view_to_purchase_rate_new_elec)\n"
   ]
  },
  {
   "cell_type": "code",
   "execution_count": 164,
   "metadata": {},
   "outputs": [
    {
     "data": {
      "application/vnd.plotly.v1+json": {
       "config": {
        "plotlyServerURL": "https://plot.ly"
       },
       "data": [
        {
         "hovertemplate": "rate=%{x}<br>stage=%{y}<extra></extra>",
         "legendgroup": "",
         "marker": {
          "color": "#636efa"
         },
         "name": "",
         "orientation": "h",
         "showlegend": false,
         "texttemplate": "%{value:,.2%}",
         "type": "funnel",
         "x": [
          1,
          0.1111111111111111,
          0.04040404040404041
         ],
         "xaxis": "x",
         "y": [
          "view",
          "basket",
          "purchase"
         ],
         "yaxis": "y"
        }
       ],
       "layout": {
        "legend": {
         "tracegroupgap": 0
        },
        "template": {
         "data": {
          "bar": [
           {
            "error_x": {
             "color": "#2a3f5f"
            },
            "error_y": {
             "color": "#2a3f5f"
            },
            "marker": {
             "line": {
              "color": "#E5ECF6",
              "width": 0.5
             },
             "pattern": {
              "fillmode": "overlay",
              "size": 10,
              "solidity": 0.2
             }
            },
            "type": "bar"
           }
          ],
          "barpolar": [
           {
            "marker": {
             "line": {
              "color": "#E5ECF6",
              "width": 0.5
             },
             "pattern": {
              "fillmode": "overlay",
              "size": 10,
              "solidity": 0.2
             }
            },
            "type": "barpolar"
           }
          ],
          "carpet": [
           {
            "aaxis": {
             "endlinecolor": "#2a3f5f",
             "gridcolor": "white",
             "linecolor": "white",
             "minorgridcolor": "white",
             "startlinecolor": "#2a3f5f"
            },
            "baxis": {
             "endlinecolor": "#2a3f5f",
             "gridcolor": "white",
             "linecolor": "white",
             "minorgridcolor": "white",
             "startlinecolor": "#2a3f5f"
            },
            "type": "carpet"
           }
          ],
          "choropleth": [
           {
            "colorbar": {
             "outlinewidth": 0,
             "ticks": ""
            },
            "type": "choropleth"
           }
          ],
          "contour": [
           {
            "colorbar": {
             "outlinewidth": 0,
             "ticks": ""
            },
            "colorscale": [
             [
              0,
              "#0d0887"
             ],
             [
              0.1111111111111111,
              "#46039f"
             ],
             [
              0.2222222222222222,
              "#7201a8"
             ],
             [
              0.3333333333333333,
              "#9c179e"
             ],
             [
              0.4444444444444444,
              "#bd3786"
             ],
             [
              0.5555555555555556,
              "#d8576b"
             ],
             [
              0.6666666666666666,
              "#ed7953"
             ],
             [
              0.7777777777777778,
              "#fb9f3a"
             ],
             [
              0.8888888888888888,
              "#fdca26"
             ],
             [
              1,
              "#f0f921"
             ]
            ],
            "type": "contour"
           }
          ],
          "contourcarpet": [
           {
            "colorbar": {
             "outlinewidth": 0,
             "ticks": ""
            },
            "type": "contourcarpet"
           }
          ],
          "heatmap": [
           {
            "colorbar": {
             "outlinewidth": 0,
             "ticks": ""
            },
            "colorscale": [
             [
              0,
              "#0d0887"
             ],
             [
              0.1111111111111111,
              "#46039f"
             ],
             [
              0.2222222222222222,
              "#7201a8"
             ],
             [
              0.3333333333333333,
              "#9c179e"
             ],
             [
              0.4444444444444444,
              "#bd3786"
             ],
             [
              0.5555555555555556,
              "#d8576b"
             ],
             [
              0.6666666666666666,
              "#ed7953"
             ],
             [
              0.7777777777777778,
              "#fb9f3a"
             ],
             [
              0.8888888888888888,
              "#fdca26"
             ],
             [
              1,
              "#f0f921"
             ]
            ],
            "type": "heatmap"
           }
          ],
          "heatmapgl": [
           {
            "colorbar": {
             "outlinewidth": 0,
             "ticks": ""
            },
            "colorscale": [
             [
              0,
              "#0d0887"
             ],
             [
              0.1111111111111111,
              "#46039f"
             ],
             [
              0.2222222222222222,
              "#7201a8"
             ],
             [
              0.3333333333333333,
              "#9c179e"
             ],
             [
              0.4444444444444444,
              "#bd3786"
             ],
             [
              0.5555555555555556,
              "#d8576b"
             ],
             [
              0.6666666666666666,
              "#ed7953"
             ],
             [
              0.7777777777777778,
              "#fb9f3a"
             ],
             [
              0.8888888888888888,
              "#fdca26"
             ],
             [
              1,
              "#f0f921"
             ]
            ],
            "type": "heatmapgl"
           }
          ],
          "histogram": [
           {
            "marker": {
             "pattern": {
              "fillmode": "overlay",
              "size": 10,
              "solidity": 0.2
             }
            },
            "type": "histogram"
           }
          ],
          "histogram2d": [
           {
            "colorbar": {
             "outlinewidth": 0,
             "ticks": ""
            },
            "colorscale": [
             [
              0,
              "#0d0887"
             ],
             [
              0.1111111111111111,
              "#46039f"
             ],
             [
              0.2222222222222222,
              "#7201a8"
             ],
             [
              0.3333333333333333,
              "#9c179e"
             ],
             [
              0.4444444444444444,
              "#bd3786"
             ],
             [
              0.5555555555555556,
              "#d8576b"
             ],
             [
              0.6666666666666666,
              "#ed7953"
             ],
             [
              0.7777777777777778,
              "#fb9f3a"
             ],
             [
              0.8888888888888888,
              "#fdca26"
             ],
             [
              1,
              "#f0f921"
             ]
            ],
            "type": "histogram2d"
           }
          ],
          "histogram2dcontour": [
           {
            "colorbar": {
             "outlinewidth": 0,
             "ticks": ""
            },
            "colorscale": [
             [
              0,
              "#0d0887"
             ],
             [
              0.1111111111111111,
              "#46039f"
             ],
             [
              0.2222222222222222,
              "#7201a8"
             ],
             [
              0.3333333333333333,
              "#9c179e"
             ],
             [
              0.4444444444444444,
              "#bd3786"
             ],
             [
              0.5555555555555556,
              "#d8576b"
             ],
             [
              0.6666666666666666,
              "#ed7953"
             ],
             [
              0.7777777777777778,
              "#fb9f3a"
             ],
             [
              0.8888888888888888,
              "#fdca26"
             ],
             [
              1,
              "#f0f921"
             ]
            ],
            "type": "histogram2dcontour"
           }
          ],
          "mesh3d": [
           {
            "colorbar": {
             "outlinewidth": 0,
             "ticks": ""
            },
            "type": "mesh3d"
           }
          ],
          "parcoords": [
           {
            "line": {
             "colorbar": {
              "outlinewidth": 0,
              "ticks": ""
             }
            },
            "type": "parcoords"
           }
          ],
          "pie": [
           {
            "automargin": true,
            "type": "pie"
           }
          ],
          "scatter": [
           {
            "fillpattern": {
             "fillmode": "overlay",
             "size": 10,
             "solidity": 0.2
            },
            "type": "scatter"
           }
          ],
          "scatter3d": [
           {
            "line": {
             "colorbar": {
              "outlinewidth": 0,
              "ticks": ""
             }
            },
            "marker": {
             "colorbar": {
              "outlinewidth": 0,
              "ticks": ""
             }
            },
            "type": "scatter3d"
           }
          ],
          "scattercarpet": [
           {
            "marker": {
             "colorbar": {
              "outlinewidth": 0,
              "ticks": ""
             }
            },
            "type": "scattercarpet"
           }
          ],
          "scattergeo": [
           {
            "marker": {
             "colorbar": {
              "outlinewidth": 0,
              "ticks": ""
             }
            },
            "type": "scattergeo"
           }
          ],
          "scattergl": [
           {
            "marker": {
             "colorbar": {
              "outlinewidth": 0,
              "ticks": ""
             }
            },
            "type": "scattergl"
           }
          ],
          "scattermapbox": [
           {
            "marker": {
             "colorbar": {
              "outlinewidth": 0,
              "ticks": ""
             }
            },
            "type": "scattermapbox"
           }
          ],
          "scatterpolar": [
           {
            "marker": {
             "colorbar": {
              "outlinewidth": 0,
              "ticks": ""
             }
            },
            "type": "scatterpolar"
           }
          ],
          "scatterpolargl": [
           {
            "marker": {
             "colorbar": {
              "outlinewidth": 0,
              "ticks": ""
             }
            },
            "type": "scatterpolargl"
           }
          ],
          "scatterternary": [
           {
            "marker": {
             "colorbar": {
              "outlinewidth": 0,
              "ticks": ""
             }
            },
            "type": "scatterternary"
           }
          ],
          "surface": [
           {
            "colorbar": {
             "outlinewidth": 0,
             "ticks": ""
            },
            "colorscale": [
             [
              0,
              "#0d0887"
             ],
             [
              0.1111111111111111,
              "#46039f"
             ],
             [
              0.2222222222222222,
              "#7201a8"
             ],
             [
              0.3333333333333333,
              "#9c179e"
             ],
             [
              0.4444444444444444,
              "#bd3786"
             ],
             [
              0.5555555555555556,
              "#d8576b"
             ],
             [
              0.6666666666666666,
              "#ed7953"
             ],
             [
              0.7777777777777778,
              "#fb9f3a"
             ],
             [
              0.8888888888888888,
              "#fdca26"
             ],
             [
              1,
              "#f0f921"
             ]
            ],
            "type": "surface"
           }
          ],
          "table": [
           {
            "cells": {
             "fill": {
              "color": "#EBF0F8"
             },
             "line": {
              "color": "white"
             }
            },
            "header": {
             "fill": {
              "color": "#C8D4E3"
             },
             "line": {
              "color": "white"
             }
            },
            "type": "table"
           }
          ]
         },
         "layout": {
          "annotationdefaults": {
           "arrowcolor": "#2a3f5f",
           "arrowhead": 0,
           "arrowwidth": 1
          },
          "autotypenumbers": "strict",
          "coloraxis": {
           "colorbar": {
            "outlinewidth": 0,
            "ticks": ""
           }
          },
          "colorscale": {
           "diverging": [
            [
             0,
             "#8e0152"
            ],
            [
             0.1,
             "#c51b7d"
            ],
            [
             0.2,
             "#de77ae"
            ],
            [
             0.3,
             "#f1b6da"
            ],
            [
             0.4,
             "#fde0ef"
            ],
            [
             0.5,
             "#f7f7f7"
            ],
            [
             0.6,
             "#e6f5d0"
            ],
            [
             0.7,
             "#b8e186"
            ],
            [
             0.8,
             "#7fbc41"
            ],
            [
             0.9,
             "#4d9221"
            ],
            [
             1,
             "#276419"
            ]
           ],
           "sequential": [
            [
             0,
             "#0d0887"
            ],
            [
             0.1111111111111111,
             "#46039f"
            ],
            [
             0.2222222222222222,
             "#7201a8"
            ],
            [
             0.3333333333333333,
             "#9c179e"
            ],
            [
             0.4444444444444444,
             "#bd3786"
            ],
            [
             0.5555555555555556,
             "#d8576b"
            ],
            [
             0.6666666666666666,
             "#ed7953"
            ],
            [
             0.7777777777777778,
             "#fb9f3a"
            ],
            [
             0.8888888888888888,
             "#fdca26"
            ],
            [
             1,
             "#f0f921"
            ]
           ],
           "sequentialminus": [
            [
             0,
             "#0d0887"
            ],
            [
             0.1111111111111111,
             "#46039f"
            ],
            [
             0.2222222222222222,
             "#7201a8"
            ],
            [
             0.3333333333333333,
             "#9c179e"
            ],
            [
             0.4444444444444444,
             "#bd3786"
            ],
            [
             0.5555555555555556,
             "#d8576b"
            ],
            [
             0.6666666666666666,
             "#ed7953"
            ],
            [
             0.7777777777777778,
             "#fb9f3a"
            ],
            [
             0.8888888888888888,
             "#fdca26"
            ],
            [
             1,
             "#f0f921"
            ]
           ]
          },
          "colorway": [
           "#636efa",
           "#EF553B",
           "#00cc96",
           "#ab63fa",
           "#FFA15A",
           "#19d3f3",
           "#FF6692",
           "#B6E880",
           "#FF97FF",
           "#FECB52"
          ],
          "font": {
           "color": "#2a3f5f"
          },
          "geo": {
           "bgcolor": "white",
           "lakecolor": "white",
           "landcolor": "#E5ECF6",
           "showlakes": true,
           "showland": true,
           "subunitcolor": "white"
          },
          "hoverlabel": {
           "align": "left"
          },
          "hovermode": "closest",
          "mapbox": {
           "style": "light"
          },
          "paper_bgcolor": "white",
          "plot_bgcolor": "#E5ECF6",
          "polar": {
           "angularaxis": {
            "gridcolor": "white",
            "linecolor": "white",
            "ticks": ""
           },
           "bgcolor": "#E5ECF6",
           "radialaxis": {
            "gridcolor": "white",
            "linecolor": "white",
            "ticks": ""
           }
          },
          "scene": {
           "xaxis": {
            "backgroundcolor": "#E5ECF6",
            "gridcolor": "white",
            "gridwidth": 2,
            "linecolor": "white",
            "showbackground": true,
            "ticks": "",
            "zerolinecolor": "white"
           },
           "yaxis": {
            "backgroundcolor": "#E5ECF6",
            "gridcolor": "white",
            "gridwidth": 2,
            "linecolor": "white",
            "showbackground": true,
            "ticks": "",
            "zerolinecolor": "white"
           },
           "zaxis": {
            "backgroundcolor": "#E5ECF6",
            "gridcolor": "white",
            "gridwidth": 2,
            "linecolor": "white",
            "showbackground": true,
            "ticks": "",
            "zerolinecolor": "white"
           }
          },
          "shapedefaults": {
           "line": {
            "color": "#2a3f5f"
           }
          },
          "ternary": {
           "aaxis": {
            "gridcolor": "white",
            "linecolor": "white",
            "ticks": ""
           },
           "baxis": {
            "gridcolor": "white",
            "linecolor": "white",
            "ticks": ""
           },
           "bgcolor": "#E5ECF6",
           "caxis": {
            "gridcolor": "white",
            "linecolor": "white",
            "ticks": ""
           }
          },
          "title": {
           "x": 0.05
          },
          "xaxis": {
           "automargin": true,
           "gridcolor": "white",
           "linecolor": "white",
           "ticks": "",
           "title": {
            "standoff": 15
           },
           "zerolinecolor": "white",
           "zerolinewidth": 2
          },
          "yaxis": {
           "automargin": true,
           "gridcolor": "white",
           "linecolor": "white",
           "ticks": "",
           "title": {
            "standoff": 15
           },
           "zerolinecolor": "white",
           "zerolinewidth": 2
          }
         }
        },
        "title": {
         "text": "신규고객 Funnel (Electronics)"
        },
        "xaxis": {
         "anchor": "y",
         "domain": [
          0,
          1
         ],
         "title": {
          "text": "rate"
         }
        },
        "yaxis": {
         "anchor": "x",
         "domain": [
          0,
          1
         ],
         "title": {
          "text": "stage"
         }
        }
       }
      }
     },
     "metadata": {},
     "output_type": "display_data"
    }
   ],
   "source": [
    "data = dict(\n",
    "    number=[99,11,4],\n",
    "    stage=['view','basket','purchase'],\n",
    "    rate=[1,0.1111111111111111,0.04040404040404041]\n",
    ")\n",
    "fig = px.funnel(data, x='rate', y='stage', title='신규고객 Funnel (Electronics)')\n",
    "fig.update_traces(texttemplate=\"%{value:,.2%}\")\n",
    "fig.show()"
   ]
  },
  {
   "cell_type": "markdown",
   "metadata": {},
   "source": [
    "## 일반고객 (4)"
   ]
  },
  {
   "cell_type": "code",
   "execution_count": 165,
   "metadata": {},
   "outputs": [
    {
     "data": {
      "text/html": [
       "<div>\n",
       "<style scoped>\n",
       "    .dataframe tbody tr th:only-of-type {\n",
       "        vertical-align: middle;\n",
       "    }\n",
       "\n",
       "    .dataframe tbody tr th {\n",
       "        vertical-align: top;\n",
       "    }\n",
       "\n",
       "    .dataframe thead th {\n",
       "        text-align: right;\n",
       "    }\n",
       "</style>\n",
       "<table border=\"1\" class=\"dataframe\">\n",
       "  <thead>\n",
       "    <tr style=\"text-align: right;\">\n",
       "      <th></th>\n",
       "      <th>CustomerID</th>\n",
       "      <th>ActionType</th>\n",
       "      <th>GoodsCode</th>\n",
       "      <th>Price</th>\n",
       "      <th>AdID</th>\n",
       "      <th>CPC</th>\n",
       "      <th>Timestamp</th>\n",
       "      <th>GoodsCode_ad</th>\n",
       "      <th>eval_type</th>\n",
       "      <th>cluster_plus</th>\n",
       "      <th>Category</th>\n",
       "      <th>OriginalPrice</th>\n",
       "      <th>Inventory</th>\n",
       "    </tr>\n",
       "  </thead>\n",
       "  <tbody>\n",
       "    <tr>\n",
       "      <th>7</th>\n",
       "      <td>6</td>\n",
       "      <td>ad_click</td>\n",
       "      <td>1437</td>\n",
       "      <td>35290</td>\n",
       "      <td>ad_google</td>\n",
       "      <td>182.31</td>\n",
       "      <td>2022-05-07 21:00:59.166991</td>\n",
       "      <td>1437</td>\n",
       "      <td>ad_click</td>\n",
       "      <td>일반고객</td>\n",
       "      <td>Home &amp; Garden</td>\n",
       "      <td>35290</td>\n",
       "      <td>3056</td>\n",
       "    </tr>\n",
       "    <tr>\n",
       "      <th>8</th>\n",
       "      <td>6</td>\n",
       "      <td>view</td>\n",
       "      <td>1437</td>\n",
       "      <td>35290</td>\n",
       "      <td>NaN</td>\n",
       "      <td>NaN</td>\n",
       "      <td>2022-05-12 10:25:41.166991</td>\n",
       "      <td>1437</td>\n",
       "      <td>ad_view</td>\n",
       "      <td>일반고객</td>\n",
       "      <td>Home &amp; Garden</td>\n",
       "      <td>35290</td>\n",
       "      <td>3056</td>\n",
       "    </tr>\n",
       "    <tr>\n",
       "      <th>37</th>\n",
       "      <td>13</td>\n",
       "      <td>ad_click</td>\n",
       "      <td>1090</td>\n",
       "      <td>21100</td>\n",
       "      <td>ad_google</td>\n",
       "      <td>158.68</td>\n",
       "      <td>2022-03-11 18:14:48.855443</td>\n",
       "      <td>1090</td>\n",
       "      <td>ad_click</td>\n",
       "      <td>일반고객</td>\n",
       "      <td>Home &amp; Garden</td>\n",
       "      <td>21100</td>\n",
       "      <td>8617</td>\n",
       "    </tr>\n",
       "    <tr>\n",
       "      <th>38</th>\n",
       "      <td>13</td>\n",
       "      <td>view</td>\n",
       "      <td>1203</td>\n",
       "      <td>85290</td>\n",
       "      <td>NaN</td>\n",
       "      <td>NaN</td>\n",
       "      <td>2022-03-17 14:31:19.855443</td>\n",
       "      <td>1090</td>\n",
       "      <td>ad_view_other</td>\n",
       "      <td>일반고객</td>\n",
       "      <td>Electronics</td>\n",
       "      <td>85290</td>\n",
       "      <td>9173</td>\n",
       "    </tr>\n",
       "    <tr>\n",
       "      <th>56</th>\n",
       "      <td>14</td>\n",
       "      <td>ad_click</td>\n",
       "      <td>1000</td>\n",
       "      <td>12580</td>\n",
       "      <td>ad_google</td>\n",
       "      <td>104.04</td>\n",
       "      <td>2022-03-07 10:33:24.548570</td>\n",
       "      <td>1000</td>\n",
       "      <td>ad_click</td>\n",
       "      <td>일반고객</td>\n",
       "      <td>Books</td>\n",
       "      <td>12580</td>\n",
       "      <td>4452</td>\n",
       "    </tr>\n",
       "    <tr>\n",
       "      <th>...</th>\n",
       "      <td>...</td>\n",
       "      <td>...</td>\n",
       "      <td>...</td>\n",
       "      <td>...</td>\n",
       "      <td>...</td>\n",
       "      <td>...</td>\n",
       "      <td>...</td>\n",
       "      <td>...</td>\n",
       "      <td>...</td>\n",
       "      <td>...</td>\n",
       "      <td>...</td>\n",
       "      <td>...</td>\n",
       "      <td>...</td>\n",
       "    </tr>\n",
       "    <tr>\n",
       "      <th>3096780</th>\n",
       "      <td>899950</td>\n",
       "      <td>view</td>\n",
       "      <td>1278</td>\n",
       "      <td>42680</td>\n",
       "      <td>NaN</td>\n",
       "      <td>NaN</td>\n",
       "      <td>2022-06-14 06:06:39.122857</td>\n",
       "      <td>1467</td>\n",
       "      <td>ad_view_other</td>\n",
       "      <td>일반고객</td>\n",
       "      <td>Home &amp; Garden</td>\n",
       "      <td>42680</td>\n",
       "      <td>3604</td>\n",
       "    </tr>\n",
       "    <tr>\n",
       "      <th>3096916</th>\n",
       "      <td>899999</td>\n",
       "      <td>ad_click</td>\n",
       "      <td>1059</td>\n",
       "      <td>21230</td>\n",
       "      <td>ad_meta</td>\n",
       "      <td>71.35</td>\n",
       "      <td>2022-04-06 21:09:47.722389</td>\n",
       "      <td>1059</td>\n",
       "      <td>ad_click</td>\n",
       "      <td>일반고객</td>\n",
       "      <td>Clothing</td>\n",
       "      <td>21230</td>\n",
       "      <td>4629</td>\n",
       "    </tr>\n",
       "    <tr>\n",
       "      <th>3096917</th>\n",
       "      <td>899999</td>\n",
       "      <td>view</td>\n",
       "      <td>1271</td>\n",
       "      <td>92940</td>\n",
       "      <td>NaN</td>\n",
       "      <td>NaN</td>\n",
       "      <td>2022-04-10 18:07:56.722389</td>\n",
       "      <td>1059</td>\n",
       "      <td>ad_view_other</td>\n",
       "      <td>일반고객</td>\n",
       "      <td>Electronics</td>\n",
       "      <td>92940</td>\n",
       "      <td>8314</td>\n",
       "    </tr>\n",
       "    <tr>\n",
       "      <th>3096923</th>\n",
       "      <td>899999</td>\n",
       "      <td>ad_click</td>\n",
       "      <td>1059</td>\n",
       "      <td>21230</td>\n",
       "      <td>ad_google</td>\n",
       "      <td>94.14</td>\n",
       "      <td>2022-05-06 00:08:17.722389</td>\n",
       "      <td>1059</td>\n",
       "      <td>ad_click</td>\n",
       "      <td>일반고객</td>\n",
       "      <td>Clothing</td>\n",
       "      <td>21230</td>\n",
       "      <td>4629</td>\n",
       "    </tr>\n",
       "    <tr>\n",
       "      <th>3096924</th>\n",
       "      <td>899999</td>\n",
       "      <td>basket</td>\n",
       "      <td>1059</td>\n",
       "      <td>21230</td>\n",
       "      <td>NaN</td>\n",
       "      <td>NaN</td>\n",
       "      <td>2022-05-11 10:09:46.722389</td>\n",
       "      <td>1059</td>\n",
       "      <td>ad_basket</td>\n",
       "      <td>일반고객</td>\n",
       "      <td>Clothing</td>\n",
       "      <td>21230</td>\n",
       "      <td>4629</td>\n",
       "    </tr>\n",
       "  </tbody>\n",
       "</table>\n",
       "<p>100065 rows × 13 columns</p>\n",
       "</div>"
      ],
      "text/plain": [
       "         CustomerID ActionType  GoodsCode  Price       AdID     CPC  \\\n",
       "7                 6   ad_click       1437  35290  ad_google  182.31   \n",
       "8                 6       view       1437  35290        NaN     NaN   \n",
       "37               13   ad_click       1090  21100  ad_google  158.68   \n",
       "38               13       view       1203  85290        NaN     NaN   \n",
       "56               14   ad_click       1000  12580  ad_google  104.04   \n",
       "...             ...        ...        ...    ...        ...     ...   \n",
       "3096780      899950       view       1278  42680        NaN     NaN   \n",
       "3096916      899999   ad_click       1059  21230    ad_meta   71.35   \n",
       "3096917      899999       view       1271  92940        NaN     NaN   \n",
       "3096923      899999   ad_click       1059  21230  ad_google   94.14   \n",
       "3096924      899999     basket       1059  21230        NaN     NaN   \n",
       "\n",
       "                         Timestamp  GoodsCode_ad      eval_type cluster_plus  \\\n",
       "7       2022-05-07 21:00:59.166991          1437       ad_click         일반고객   \n",
       "8       2022-05-12 10:25:41.166991          1437        ad_view         일반고객   \n",
       "37      2022-03-11 18:14:48.855443          1090       ad_click         일반고객   \n",
       "38      2022-03-17 14:31:19.855443          1090  ad_view_other         일반고객   \n",
       "56      2022-03-07 10:33:24.548570          1000       ad_click         일반고객   \n",
       "...                            ...           ...            ...          ...   \n",
       "3096780 2022-06-14 06:06:39.122857          1467  ad_view_other         일반고객   \n",
       "3096916 2022-04-06 21:09:47.722389          1059       ad_click         일반고객   \n",
       "3096917 2022-04-10 18:07:56.722389          1059  ad_view_other         일반고객   \n",
       "3096923 2022-05-06 00:08:17.722389          1059       ad_click         일반고객   \n",
       "3096924 2022-05-11 10:09:46.722389          1059      ad_basket         일반고객   \n",
       "\n",
       "              Category  OriginalPrice  Inventory  \n",
       "7        Home & Garden          35290       3056  \n",
       "8        Home & Garden          35290       3056  \n",
       "37       Home & Garden          21100       8617  \n",
       "38         Electronics          85290       9173  \n",
       "56               Books          12580       4452  \n",
       "...                ...            ...        ...  \n",
       "3096780  Home & Garden          42680       3604  \n",
       "3096916       Clothing          21230       4629  \n",
       "3096917    Electronics          92940       8314  \n",
       "3096923       Clothing          21230       4629  \n",
       "3096924       Clothing          21230       4629  \n",
       "\n",
       "[100065 rows x 13 columns]"
      ]
     },
     "execution_count": 165,
     "metadata": {},
     "output_type": "execute_result"
    }
   ],
   "source": [
    "normal = ad_funnel[ad_funnel['cluster_plus']=='일반고객']\n",
    "normal"
   ]
  },
  {
   "cell_type": "code",
   "execution_count": 166,
   "metadata": {},
   "outputs": [
    {
     "data": {
      "text/html": [
       "<div>\n",
       "<style scoped>\n",
       "    .dataframe tbody tr th:only-of-type {\n",
       "        vertical-align: middle;\n",
       "    }\n",
       "\n",
       "    .dataframe tbody tr th {\n",
       "        vertical-align: top;\n",
       "    }\n",
       "\n",
       "    .dataframe thead th {\n",
       "        text-align: right;\n",
       "    }\n",
       "</style>\n",
       "<table border=\"1\" class=\"dataframe\">\n",
       "  <thead>\n",
       "    <tr style=\"text-align: right;\">\n",
       "      <th></th>\n",
       "      <th>CustomerID</th>\n",
       "      <th>ActionType</th>\n",
       "      <th>GoodsCode</th>\n",
       "      <th>Price</th>\n",
       "      <th>AdID</th>\n",
       "      <th>CPC</th>\n",
       "      <th>Timestamp</th>\n",
       "      <th>GoodsCode_ad</th>\n",
       "      <th>eval_type</th>\n",
       "      <th>cluster_plus</th>\n",
       "      <th>Category</th>\n",
       "      <th>OriginalPrice</th>\n",
       "      <th>Inventory</th>\n",
       "    </tr>\n",
       "  </thead>\n",
       "  <tbody>\n",
       "    <tr>\n",
       "      <th>38</th>\n",
       "      <td>13</td>\n",
       "      <td>view</td>\n",
       "      <td>1203</td>\n",
       "      <td>85290</td>\n",
       "      <td>NaN</td>\n",
       "      <td>NaN</td>\n",
       "      <td>2022-03-17 14:31:19.855443</td>\n",
       "      <td>1090</td>\n",
       "      <td>ad_view_other</td>\n",
       "      <td>일반고객</td>\n",
       "      <td>Electronics</td>\n",
       "      <td>85290</td>\n",
       "      <td>9173</td>\n",
       "    </tr>\n",
       "    <tr>\n",
       "      <th>340</th>\n",
       "      <td>88</td>\n",
       "      <td>view</td>\n",
       "      <td>1161</td>\n",
       "      <td>31750</td>\n",
       "      <td>NaN</td>\n",
       "      <td>NaN</td>\n",
       "      <td>2022-05-14 19:47:05.336522</td>\n",
       "      <td>1144</td>\n",
       "      <td>ad_view_other</td>\n",
       "      <td>일반고객</td>\n",
       "      <td>Electronics</td>\n",
       "      <td>31750</td>\n",
       "      <td>3667</td>\n",
       "    </tr>\n",
       "    <tr>\n",
       "      <th>1029</th>\n",
       "      <td>241</td>\n",
       "      <td>view</td>\n",
       "      <td>1272</td>\n",
       "      <td>79250</td>\n",
       "      <td>NaN</td>\n",
       "      <td>NaN</td>\n",
       "      <td>2022-05-18 14:33:12.478779</td>\n",
       "      <td>1162</td>\n",
       "      <td>ad_view_other</td>\n",
       "      <td>일반고객</td>\n",
       "      <td>Electronics</td>\n",
       "      <td>79250</td>\n",
       "      <td>3383</td>\n",
       "    </tr>\n",
       "    <tr>\n",
       "      <th>1030</th>\n",
       "      <td>241</td>\n",
       "      <td>ad_click</td>\n",
       "      <td>1272</td>\n",
       "      <td>79250</td>\n",
       "      <td>ad_google</td>\n",
       "      <td>652.70</td>\n",
       "      <td>2022-05-20 15:31:35.478779</td>\n",
       "      <td>1272</td>\n",
       "      <td>ad_click</td>\n",
       "      <td>일반고객</td>\n",
       "      <td>Electronics</td>\n",
       "      <td>79250</td>\n",
       "      <td>3383</td>\n",
       "    </tr>\n",
       "    <tr>\n",
       "      <th>1031</th>\n",
       "      <td>241</td>\n",
       "      <td>view</td>\n",
       "      <td>1272</td>\n",
       "      <td>79250</td>\n",
       "      <td>NaN</td>\n",
       "      <td>NaN</td>\n",
       "      <td>2022-05-20 19:40:01.478779</td>\n",
       "      <td>1272</td>\n",
       "      <td>ad_view</td>\n",
       "      <td>일반고객</td>\n",
       "      <td>Electronics</td>\n",
       "      <td>79250</td>\n",
       "      <td>3383</td>\n",
       "    </tr>\n",
       "    <tr>\n",
       "      <th>...</th>\n",
       "      <td>...</td>\n",
       "      <td>...</td>\n",
       "      <td>...</td>\n",
       "      <td>...</td>\n",
       "      <td>...</td>\n",
       "      <td>...</td>\n",
       "      <td>...</td>\n",
       "      <td>...</td>\n",
       "      <td>...</td>\n",
       "      <td>...</td>\n",
       "      <td>...</td>\n",
       "      <td>...</td>\n",
       "      <td>...</td>\n",
       "    </tr>\n",
       "    <tr>\n",
       "      <th>3096189</th>\n",
       "      <td>899704</td>\n",
       "      <td>purchase</td>\n",
       "      <td>1038</td>\n",
       "      <td>40180</td>\n",
       "      <td>NaN</td>\n",
       "      <td>NaN</td>\n",
       "      <td>2022-05-08 11:08:22.794648</td>\n",
       "      <td>1188</td>\n",
       "      <td>ad_purchase_other</td>\n",
       "      <td>일반고객</td>\n",
       "      <td>Electronics</td>\n",
       "      <td>40180</td>\n",
       "      <td>1074</td>\n",
       "    </tr>\n",
       "    <tr>\n",
       "      <th>3096190</th>\n",
       "      <td>899704</td>\n",
       "      <td>purchase</td>\n",
       "      <td>1188</td>\n",
       "      <td>46660</td>\n",
       "      <td>NaN</td>\n",
       "      <td>NaN</td>\n",
       "      <td>2022-05-11 07:37:56.794648</td>\n",
       "      <td>1188</td>\n",
       "      <td>ad_purchase</td>\n",
       "      <td>일반고객</td>\n",
       "      <td>Electronics</td>\n",
       "      <td>46660</td>\n",
       "      <td>1920</td>\n",
       "    </tr>\n",
       "    <tr>\n",
       "      <th>3096191</th>\n",
       "      <td>899704</td>\n",
       "      <td>basket</td>\n",
       "      <td>1038</td>\n",
       "      <td>40180</td>\n",
       "      <td>NaN</td>\n",
       "      <td>NaN</td>\n",
       "      <td>2022-05-11 14:04:53.794648</td>\n",
       "      <td>1188</td>\n",
       "      <td>ad_basket_other</td>\n",
       "      <td>일반고객</td>\n",
       "      <td>Electronics</td>\n",
       "      <td>40180</td>\n",
       "      <td>1074</td>\n",
       "    </tr>\n",
       "    <tr>\n",
       "      <th>3096253</th>\n",
       "      <td>899729</td>\n",
       "      <td>ad_click</td>\n",
       "      <td>1110</td>\n",
       "      <td>141930</td>\n",
       "      <td>ad_google</td>\n",
       "      <td>761.34</td>\n",
       "      <td>2022-04-24 16:47:48.020726</td>\n",
       "      <td>1110</td>\n",
       "      <td>ad_click</td>\n",
       "      <td>일반고객</td>\n",
       "      <td>Electronics</td>\n",
       "      <td>141930</td>\n",
       "      <td>7960</td>\n",
       "    </tr>\n",
       "    <tr>\n",
       "      <th>3096917</th>\n",
       "      <td>899999</td>\n",
       "      <td>view</td>\n",
       "      <td>1271</td>\n",
       "      <td>92940</td>\n",
       "      <td>NaN</td>\n",
       "      <td>NaN</td>\n",
       "      <td>2022-04-10 18:07:56.722389</td>\n",
       "      <td>1059</td>\n",
       "      <td>ad_view_other</td>\n",
       "      <td>일반고객</td>\n",
       "      <td>Electronics</td>\n",
       "      <td>92940</td>\n",
       "      <td>8314</td>\n",
       "    </tr>\n",
       "  </tbody>\n",
       "</table>\n",
       "<p>14363 rows × 13 columns</p>\n",
       "</div>"
      ],
      "text/plain": [
       "         CustomerID ActionType  GoodsCode   Price       AdID     CPC  \\\n",
       "38               13       view       1203   85290        NaN     NaN   \n",
       "340              88       view       1161   31750        NaN     NaN   \n",
       "1029            241       view       1272   79250        NaN     NaN   \n",
       "1030            241   ad_click       1272   79250  ad_google  652.70   \n",
       "1031            241       view       1272   79250        NaN     NaN   \n",
       "...             ...        ...        ...     ...        ...     ...   \n",
       "3096189      899704   purchase       1038   40180        NaN     NaN   \n",
       "3096190      899704   purchase       1188   46660        NaN     NaN   \n",
       "3096191      899704     basket       1038   40180        NaN     NaN   \n",
       "3096253      899729   ad_click       1110  141930  ad_google  761.34   \n",
       "3096917      899999       view       1271   92940        NaN     NaN   \n",
       "\n",
       "                         Timestamp  GoodsCode_ad          eval_type  \\\n",
       "38      2022-03-17 14:31:19.855443          1090      ad_view_other   \n",
       "340     2022-05-14 19:47:05.336522          1144      ad_view_other   \n",
       "1029    2022-05-18 14:33:12.478779          1162      ad_view_other   \n",
       "1030    2022-05-20 15:31:35.478779          1272           ad_click   \n",
       "1031    2022-05-20 19:40:01.478779          1272            ad_view   \n",
       "...                            ...           ...                ...   \n",
       "3096189 2022-05-08 11:08:22.794648          1188  ad_purchase_other   \n",
       "3096190 2022-05-11 07:37:56.794648          1188        ad_purchase   \n",
       "3096191 2022-05-11 14:04:53.794648          1188    ad_basket_other   \n",
       "3096253 2022-04-24 16:47:48.020726          1110           ad_click   \n",
       "3096917 2022-04-10 18:07:56.722389          1059      ad_view_other   \n",
       "\n",
       "        cluster_plus     Category  OriginalPrice  Inventory  \n",
       "38              일반고객  Electronics          85290       9173  \n",
       "340             일반고객  Electronics          31750       3667  \n",
       "1029            일반고객  Electronics          79250       3383  \n",
       "1030            일반고객  Electronics          79250       3383  \n",
       "1031            일반고객  Electronics          79250       3383  \n",
       "...              ...          ...            ...        ...  \n",
       "3096189         일반고객  Electronics          40180       1074  \n",
       "3096190         일반고객  Electronics          46660       1920  \n",
       "3096191         일반고객  Electronics          40180       1074  \n",
       "3096253         일반고객  Electronics         141930       7960  \n",
       "3096917         일반고객  Electronics          92940       8314  \n",
       "\n",
       "[14363 rows x 13 columns]"
      ]
     },
     "execution_count": 166,
     "metadata": {},
     "output_type": "execute_result"
    }
   ],
   "source": [
    "normal = normal[normal['Category']=='Electronics']\n",
    "normal"
   ]
  },
  {
   "cell_type": "code",
   "execution_count": 167,
   "metadata": {},
   "outputs": [
    {
     "name": "stdout",
     "output_type": "stream",
     "text": [
      "퍼널 카운트: {'view': 8680, 'basket': 878, 'purchase': 234}\n"
     ]
    }
   ],
   "source": [
    "normal_ad_funnel_adpurchase_counts1 = {'view': 0, 'basket': 0, 'purchase': 0}\n",
    "\n",
    "# 퍼널을 계산\n",
    "for idx, row in normal.iterrows():\n",
    "    if row['ActionType'] == 'ad_click':\n",
    "        normal_ad_funnel_adpurchase_counts1['view'] += 1\n",
    "    elif row['eval_type'] == 'ad_view':\n",
    "        normal_ad_funnel_adpurchase_counts1['view'] += 1\n",
    "    elif row['eval_type'] == 'ad_basket':\n",
    "        normal_ad_funnel_adpurchase_counts1['basket'] += 1\n",
    "        normal_ad_funnel_adpurchase_counts1['view'] += 1  \n",
    "    elif row['eval_type'] == 'ad_purchase':\n",
    "        normal_ad_funnel_adpurchase_counts1['purchase'] += 1\n",
    "        normal_ad_funnel_adpurchase_counts1['view'] += 1\n",
    "        normal_ad_funnel_adpurchase_counts1['basket'] += 1\n",
    "\n",
    "print(\"퍼널 카운트:\", normal_ad_funnel_adpurchase_counts1)\n"
   ]
  },
  {
   "cell_type": "code",
   "execution_count": 168,
   "metadata": {},
   "outputs": [
    {
     "name": "stdout",
     "output_type": "stream",
     "text": [
      "View Count: 8680\n",
      "Basket Count: 878\n",
      "Purchase Count: 234\n",
      "View to Basket Conversion Rate: 0.1011520737327189\n",
      "Basket to Purchase Conversion Rate: 0.26651480637813213\n",
      "View to Purchase Conversion Rate: 0.02695852534562212\n"
     ]
    }
   ],
   "source": [
    "view_count_normal_elec = 8680\n",
    "basket_count_normal_elec = 878\n",
    "purchase_count_normal_elec = 234\n",
    "\n",
    "\n",
    "# 각 단계에서 다음 단계로의 전환율을 계산합니다.\n",
    "basket_to_purchase_rate_normal_elec = purchase_count_normal_elec / basket_count_normal_elec\n",
    "view_to_basket_rate_ad_normal_elec = basket_count_normal_elec / view_count_normal_elec\n",
    "view_to_purchase_rate_normal_elec = purchase_count_normal_elec / view_count_normal_elec\n",
    "\n",
    "# 결과를 출력합니다.\n",
    "print(\"View Count:\", view_count_normal_elec)\n",
    "print(\"Basket Count:\", basket_count_normal_elec)\n",
    "print(\"Purchase Count:\", purchase_count_normal_elec)\n",
    "print(\"View to Basket Conversion Rate:\", view_to_basket_rate_ad_normal_elec)\n",
    "print(\"Basket to Purchase Conversion Rate:\", basket_to_purchase_rate_normal_elec)\n",
    "print(\"View to Purchase Conversion Rate:\",view_to_purchase_rate_normal_elec)\n"
   ]
  },
  {
   "cell_type": "code",
   "execution_count": 169,
   "metadata": {},
   "outputs": [
    {
     "data": {
      "application/vnd.plotly.v1+json": {
       "config": {
        "plotlyServerURL": "https://plot.ly"
       },
       "data": [
        {
         "hovertemplate": "rate=%{x}<br>stage=%{y}<extra></extra>",
         "legendgroup": "",
         "marker": {
          "color": "#636efa"
         },
         "name": "",
         "orientation": "h",
         "showlegend": false,
         "texttemplate": "%{value:,.2%}",
         "type": "funnel",
         "x": [
          1,
          0.1011520737327189,
          0.02695852534562212
         ],
         "xaxis": "x",
         "y": [
          "view",
          "basket",
          "purchase"
         ],
         "yaxis": "y"
        }
       ],
       "layout": {
        "legend": {
         "tracegroupgap": 0
        },
        "template": {
         "data": {
          "bar": [
           {
            "error_x": {
             "color": "#2a3f5f"
            },
            "error_y": {
             "color": "#2a3f5f"
            },
            "marker": {
             "line": {
              "color": "#E5ECF6",
              "width": 0.5
             },
             "pattern": {
              "fillmode": "overlay",
              "size": 10,
              "solidity": 0.2
             }
            },
            "type": "bar"
           }
          ],
          "barpolar": [
           {
            "marker": {
             "line": {
              "color": "#E5ECF6",
              "width": 0.5
             },
             "pattern": {
              "fillmode": "overlay",
              "size": 10,
              "solidity": 0.2
             }
            },
            "type": "barpolar"
           }
          ],
          "carpet": [
           {
            "aaxis": {
             "endlinecolor": "#2a3f5f",
             "gridcolor": "white",
             "linecolor": "white",
             "minorgridcolor": "white",
             "startlinecolor": "#2a3f5f"
            },
            "baxis": {
             "endlinecolor": "#2a3f5f",
             "gridcolor": "white",
             "linecolor": "white",
             "minorgridcolor": "white",
             "startlinecolor": "#2a3f5f"
            },
            "type": "carpet"
           }
          ],
          "choropleth": [
           {
            "colorbar": {
             "outlinewidth": 0,
             "ticks": ""
            },
            "type": "choropleth"
           }
          ],
          "contour": [
           {
            "colorbar": {
             "outlinewidth": 0,
             "ticks": ""
            },
            "colorscale": [
             [
              0,
              "#0d0887"
             ],
             [
              0.1111111111111111,
              "#46039f"
             ],
             [
              0.2222222222222222,
              "#7201a8"
             ],
             [
              0.3333333333333333,
              "#9c179e"
             ],
             [
              0.4444444444444444,
              "#bd3786"
             ],
             [
              0.5555555555555556,
              "#d8576b"
             ],
             [
              0.6666666666666666,
              "#ed7953"
             ],
             [
              0.7777777777777778,
              "#fb9f3a"
             ],
             [
              0.8888888888888888,
              "#fdca26"
             ],
             [
              1,
              "#f0f921"
             ]
            ],
            "type": "contour"
           }
          ],
          "contourcarpet": [
           {
            "colorbar": {
             "outlinewidth": 0,
             "ticks": ""
            },
            "type": "contourcarpet"
           }
          ],
          "heatmap": [
           {
            "colorbar": {
             "outlinewidth": 0,
             "ticks": ""
            },
            "colorscale": [
             [
              0,
              "#0d0887"
             ],
             [
              0.1111111111111111,
              "#46039f"
             ],
             [
              0.2222222222222222,
              "#7201a8"
             ],
             [
              0.3333333333333333,
              "#9c179e"
             ],
             [
              0.4444444444444444,
              "#bd3786"
             ],
             [
              0.5555555555555556,
              "#d8576b"
             ],
             [
              0.6666666666666666,
              "#ed7953"
             ],
             [
              0.7777777777777778,
              "#fb9f3a"
             ],
             [
              0.8888888888888888,
              "#fdca26"
             ],
             [
              1,
              "#f0f921"
             ]
            ],
            "type": "heatmap"
           }
          ],
          "heatmapgl": [
           {
            "colorbar": {
             "outlinewidth": 0,
             "ticks": ""
            },
            "colorscale": [
             [
              0,
              "#0d0887"
             ],
             [
              0.1111111111111111,
              "#46039f"
             ],
             [
              0.2222222222222222,
              "#7201a8"
             ],
             [
              0.3333333333333333,
              "#9c179e"
             ],
             [
              0.4444444444444444,
              "#bd3786"
             ],
             [
              0.5555555555555556,
              "#d8576b"
             ],
             [
              0.6666666666666666,
              "#ed7953"
             ],
             [
              0.7777777777777778,
              "#fb9f3a"
             ],
             [
              0.8888888888888888,
              "#fdca26"
             ],
             [
              1,
              "#f0f921"
             ]
            ],
            "type": "heatmapgl"
           }
          ],
          "histogram": [
           {
            "marker": {
             "pattern": {
              "fillmode": "overlay",
              "size": 10,
              "solidity": 0.2
             }
            },
            "type": "histogram"
           }
          ],
          "histogram2d": [
           {
            "colorbar": {
             "outlinewidth": 0,
             "ticks": ""
            },
            "colorscale": [
             [
              0,
              "#0d0887"
             ],
             [
              0.1111111111111111,
              "#46039f"
             ],
             [
              0.2222222222222222,
              "#7201a8"
             ],
             [
              0.3333333333333333,
              "#9c179e"
             ],
             [
              0.4444444444444444,
              "#bd3786"
             ],
             [
              0.5555555555555556,
              "#d8576b"
             ],
             [
              0.6666666666666666,
              "#ed7953"
             ],
             [
              0.7777777777777778,
              "#fb9f3a"
             ],
             [
              0.8888888888888888,
              "#fdca26"
             ],
             [
              1,
              "#f0f921"
             ]
            ],
            "type": "histogram2d"
           }
          ],
          "histogram2dcontour": [
           {
            "colorbar": {
             "outlinewidth": 0,
             "ticks": ""
            },
            "colorscale": [
             [
              0,
              "#0d0887"
             ],
             [
              0.1111111111111111,
              "#46039f"
             ],
             [
              0.2222222222222222,
              "#7201a8"
             ],
             [
              0.3333333333333333,
              "#9c179e"
             ],
             [
              0.4444444444444444,
              "#bd3786"
             ],
             [
              0.5555555555555556,
              "#d8576b"
             ],
             [
              0.6666666666666666,
              "#ed7953"
             ],
             [
              0.7777777777777778,
              "#fb9f3a"
             ],
             [
              0.8888888888888888,
              "#fdca26"
             ],
             [
              1,
              "#f0f921"
             ]
            ],
            "type": "histogram2dcontour"
           }
          ],
          "mesh3d": [
           {
            "colorbar": {
             "outlinewidth": 0,
             "ticks": ""
            },
            "type": "mesh3d"
           }
          ],
          "parcoords": [
           {
            "line": {
             "colorbar": {
              "outlinewidth": 0,
              "ticks": ""
             }
            },
            "type": "parcoords"
           }
          ],
          "pie": [
           {
            "automargin": true,
            "type": "pie"
           }
          ],
          "scatter": [
           {
            "fillpattern": {
             "fillmode": "overlay",
             "size": 10,
             "solidity": 0.2
            },
            "type": "scatter"
           }
          ],
          "scatter3d": [
           {
            "line": {
             "colorbar": {
              "outlinewidth": 0,
              "ticks": ""
             }
            },
            "marker": {
             "colorbar": {
              "outlinewidth": 0,
              "ticks": ""
             }
            },
            "type": "scatter3d"
           }
          ],
          "scattercarpet": [
           {
            "marker": {
             "colorbar": {
              "outlinewidth": 0,
              "ticks": ""
             }
            },
            "type": "scattercarpet"
           }
          ],
          "scattergeo": [
           {
            "marker": {
             "colorbar": {
              "outlinewidth": 0,
              "ticks": ""
             }
            },
            "type": "scattergeo"
           }
          ],
          "scattergl": [
           {
            "marker": {
             "colorbar": {
              "outlinewidth": 0,
              "ticks": ""
             }
            },
            "type": "scattergl"
           }
          ],
          "scattermapbox": [
           {
            "marker": {
             "colorbar": {
              "outlinewidth": 0,
              "ticks": ""
             }
            },
            "type": "scattermapbox"
           }
          ],
          "scatterpolar": [
           {
            "marker": {
             "colorbar": {
              "outlinewidth": 0,
              "ticks": ""
             }
            },
            "type": "scatterpolar"
           }
          ],
          "scatterpolargl": [
           {
            "marker": {
             "colorbar": {
              "outlinewidth": 0,
              "ticks": ""
             }
            },
            "type": "scatterpolargl"
           }
          ],
          "scatterternary": [
           {
            "marker": {
             "colorbar": {
              "outlinewidth": 0,
              "ticks": ""
             }
            },
            "type": "scatterternary"
           }
          ],
          "surface": [
           {
            "colorbar": {
             "outlinewidth": 0,
             "ticks": ""
            },
            "colorscale": [
             [
              0,
              "#0d0887"
             ],
             [
              0.1111111111111111,
              "#46039f"
             ],
             [
              0.2222222222222222,
              "#7201a8"
             ],
             [
              0.3333333333333333,
              "#9c179e"
             ],
             [
              0.4444444444444444,
              "#bd3786"
             ],
             [
              0.5555555555555556,
              "#d8576b"
             ],
             [
              0.6666666666666666,
              "#ed7953"
             ],
             [
              0.7777777777777778,
              "#fb9f3a"
             ],
             [
              0.8888888888888888,
              "#fdca26"
             ],
             [
              1,
              "#f0f921"
             ]
            ],
            "type": "surface"
           }
          ],
          "table": [
           {
            "cells": {
             "fill": {
              "color": "#EBF0F8"
             },
             "line": {
              "color": "white"
             }
            },
            "header": {
             "fill": {
              "color": "#C8D4E3"
             },
             "line": {
              "color": "white"
             }
            },
            "type": "table"
           }
          ]
         },
         "layout": {
          "annotationdefaults": {
           "arrowcolor": "#2a3f5f",
           "arrowhead": 0,
           "arrowwidth": 1
          },
          "autotypenumbers": "strict",
          "coloraxis": {
           "colorbar": {
            "outlinewidth": 0,
            "ticks": ""
           }
          },
          "colorscale": {
           "diverging": [
            [
             0,
             "#8e0152"
            ],
            [
             0.1,
             "#c51b7d"
            ],
            [
             0.2,
             "#de77ae"
            ],
            [
             0.3,
             "#f1b6da"
            ],
            [
             0.4,
             "#fde0ef"
            ],
            [
             0.5,
             "#f7f7f7"
            ],
            [
             0.6,
             "#e6f5d0"
            ],
            [
             0.7,
             "#b8e186"
            ],
            [
             0.8,
             "#7fbc41"
            ],
            [
             0.9,
             "#4d9221"
            ],
            [
             1,
             "#276419"
            ]
           ],
           "sequential": [
            [
             0,
             "#0d0887"
            ],
            [
             0.1111111111111111,
             "#46039f"
            ],
            [
             0.2222222222222222,
             "#7201a8"
            ],
            [
             0.3333333333333333,
             "#9c179e"
            ],
            [
             0.4444444444444444,
             "#bd3786"
            ],
            [
             0.5555555555555556,
             "#d8576b"
            ],
            [
             0.6666666666666666,
             "#ed7953"
            ],
            [
             0.7777777777777778,
             "#fb9f3a"
            ],
            [
             0.8888888888888888,
             "#fdca26"
            ],
            [
             1,
             "#f0f921"
            ]
           ],
           "sequentialminus": [
            [
             0,
             "#0d0887"
            ],
            [
             0.1111111111111111,
             "#46039f"
            ],
            [
             0.2222222222222222,
             "#7201a8"
            ],
            [
             0.3333333333333333,
             "#9c179e"
            ],
            [
             0.4444444444444444,
             "#bd3786"
            ],
            [
             0.5555555555555556,
             "#d8576b"
            ],
            [
             0.6666666666666666,
             "#ed7953"
            ],
            [
             0.7777777777777778,
             "#fb9f3a"
            ],
            [
             0.8888888888888888,
             "#fdca26"
            ],
            [
             1,
             "#f0f921"
            ]
           ]
          },
          "colorway": [
           "#636efa",
           "#EF553B",
           "#00cc96",
           "#ab63fa",
           "#FFA15A",
           "#19d3f3",
           "#FF6692",
           "#B6E880",
           "#FF97FF",
           "#FECB52"
          ],
          "font": {
           "color": "#2a3f5f"
          },
          "geo": {
           "bgcolor": "white",
           "lakecolor": "white",
           "landcolor": "#E5ECF6",
           "showlakes": true,
           "showland": true,
           "subunitcolor": "white"
          },
          "hoverlabel": {
           "align": "left"
          },
          "hovermode": "closest",
          "mapbox": {
           "style": "light"
          },
          "paper_bgcolor": "white",
          "plot_bgcolor": "#E5ECF6",
          "polar": {
           "angularaxis": {
            "gridcolor": "white",
            "linecolor": "white",
            "ticks": ""
           },
           "bgcolor": "#E5ECF6",
           "radialaxis": {
            "gridcolor": "white",
            "linecolor": "white",
            "ticks": ""
           }
          },
          "scene": {
           "xaxis": {
            "backgroundcolor": "#E5ECF6",
            "gridcolor": "white",
            "gridwidth": 2,
            "linecolor": "white",
            "showbackground": true,
            "ticks": "",
            "zerolinecolor": "white"
           },
           "yaxis": {
            "backgroundcolor": "#E5ECF6",
            "gridcolor": "white",
            "gridwidth": 2,
            "linecolor": "white",
            "showbackground": true,
            "ticks": "",
            "zerolinecolor": "white"
           },
           "zaxis": {
            "backgroundcolor": "#E5ECF6",
            "gridcolor": "white",
            "gridwidth": 2,
            "linecolor": "white",
            "showbackground": true,
            "ticks": "",
            "zerolinecolor": "white"
           }
          },
          "shapedefaults": {
           "line": {
            "color": "#2a3f5f"
           }
          },
          "ternary": {
           "aaxis": {
            "gridcolor": "white",
            "linecolor": "white",
            "ticks": ""
           },
           "baxis": {
            "gridcolor": "white",
            "linecolor": "white",
            "ticks": ""
           },
           "bgcolor": "#E5ECF6",
           "caxis": {
            "gridcolor": "white",
            "linecolor": "white",
            "ticks": ""
           }
          },
          "title": {
           "x": 0.05
          },
          "xaxis": {
           "automargin": true,
           "gridcolor": "white",
           "linecolor": "white",
           "ticks": "",
           "title": {
            "standoff": 15
           },
           "zerolinecolor": "white",
           "zerolinewidth": 2
          },
          "yaxis": {
           "automargin": true,
           "gridcolor": "white",
           "linecolor": "white",
           "ticks": "",
           "title": {
            "standoff": 15
           },
           "zerolinecolor": "white",
           "zerolinewidth": 2
          }
         }
        },
        "title": {
         "text": "일반고객 Funnel (Electronics)"
        },
        "xaxis": {
         "anchor": "y",
         "domain": [
          0,
          1
         ],
         "title": {
          "text": "rate"
         }
        },
        "yaxis": {
         "anchor": "x",
         "domain": [
          0,
          1
         ],
         "title": {
          "text": "stage"
         }
        }
       }
      }
     },
     "metadata": {},
     "output_type": "display_data"
    }
   ],
   "source": [
    "data = dict(\n",
    "    number=[8680,878,234],\n",
    "    stage=['view','basket','purchase'],\n",
    "    rate=[1,0.1011520737327189,0.02695852534562212]\n",
    ")\n",
    "fig = px.funnel(data, x='rate', y='stage', title='일반고객 Funnel (Electronics)')\n",
    "fig.update_traces(texttemplate=\"%{value:,.2%}\")\n",
    "fig.show()"
   ]
  },
  {
   "cell_type": "markdown",
   "metadata": {},
   "source": [
    "### df"
   ]
  },
  {
   "cell_type": "code",
   "execution_count": 170,
   "metadata": {},
   "outputs": [
    {
     "data": {
      "text/html": [
       "<div>\n",
       "<style scoped>\n",
       "    .dataframe tbody tr th:only-of-type {\n",
       "        vertical-align: middle;\n",
       "    }\n",
       "\n",
       "    .dataframe tbody tr th {\n",
       "        vertical-align: top;\n",
       "    }\n",
       "\n",
       "    .dataframe thead th {\n",
       "        text-align: right;\n",
       "    }\n",
       "</style>\n",
       "<table border=\"1\" class=\"dataframe\">\n",
       "  <thead>\n",
       "    <tr style=\"text-align: right;\">\n",
       "      <th></th>\n",
       "      <th>CustomerID</th>\n",
       "      <th>ActionType</th>\n",
       "      <th>GoodsCode</th>\n",
       "      <th>Price</th>\n",
       "      <th>AdID</th>\n",
       "      <th>CPC</th>\n",
       "      <th>Timestamp</th>\n",
       "      <th>GoodsCode_ad</th>\n",
       "      <th>eval_type</th>\n",
       "      <th>cluster_plus</th>\n",
       "      <th>Category</th>\n",
       "      <th>OriginalPrice</th>\n",
       "      <th>Inventory</th>\n",
       "    </tr>\n",
       "  </thead>\n",
       "  <tbody>\n",
       "    <tr>\n",
       "      <th>1511520</th>\n",
       "      <td>395775</td>\n",
       "      <td>ad_click</td>\n",
       "      <td>1428</td>\n",
       "      <td>9490</td>\n",
       "      <td>ad_google</td>\n",
       "      <td>89.01</td>\n",
       "      <td>2022-03-25 11:37:11.525882</td>\n",
       "      <td>1428</td>\n",
       "      <td>ad_click</td>\n",
       "      <td>우수고객</td>\n",
       "      <td>Health &amp; Beauty</td>\n",
       "      <td>9490</td>\n",
       "      <td>4041</td>\n",
       "    </tr>\n",
       "    <tr>\n",
       "      <th>1511521</th>\n",
       "      <td>395775</td>\n",
       "      <td>view</td>\n",
       "      <td>1351</td>\n",
       "      <td>13370</td>\n",
       "      <td>NaN</td>\n",
       "      <td>NaN</td>\n",
       "      <td>2022-03-25 11:39:05.525882</td>\n",
       "      <td>1428</td>\n",
       "      <td>ad_view_other</td>\n",
       "      <td>우수고객</td>\n",
       "      <td>Clothing</td>\n",
       "      <td>13370</td>\n",
       "      <td>6626</td>\n",
       "    </tr>\n",
       "    <tr>\n",
       "      <th>1511522</th>\n",
       "      <td>395775</td>\n",
       "      <td>view</td>\n",
       "      <td>1171</td>\n",
       "      <td>104650</td>\n",
       "      <td>NaN</td>\n",
       "      <td>NaN</td>\n",
       "      <td>2022-03-26 08:26:24.811184</td>\n",
       "      <td>1428</td>\n",
       "      <td>ad_view_other</td>\n",
       "      <td>우수고객</td>\n",
       "      <td>Electronics</td>\n",
       "      <td>104650</td>\n",
       "      <td>1920</td>\n",
       "    </tr>\n",
       "    <tr>\n",
       "      <th>1511523</th>\n",
       "      <td>395775</td>\n",
       "      <td>view</td>\n",
       "      <td>1343</td>\n",
       "      <td>18490</td>\n",
       "      <td>NaN</td>\n",
       "      <td>NaN</td>\n",
       "      <td>2022-03-26 14:16:39.525882</td>\n",
       "      <td>1428</td>\n",
       "      <td>ad_view_other</td>\n",
       "      <td>우수고객</td>\n",
       "      <td>Books</td>\n",
       "      <td>18490</td>\n",
       "      <td>6658</td>\n",
       "    </tr>\n",
       "    <tr>\n",
       "      <th>1511524</th>\n",
       "      <td>395775</td>\n",
       "      <td>view</td>\n",
       "      <td>1021</td>\n",
       "      <td>14890</td>\n",
       "      <td>NaN</td>\n",
       "      <td>NaN</td>\n",
       "      <td>2022-03-27 20:51:22.811184</td>\n",
       "      <td>1428</td>\n",
       "      <td>ad_view_other</td>\n",
       "      <td>우수고객</td>\n",
       "      <td>Health &amp; Beauty</td>\n",
       "      <td>14890</td>\n",
       "      <td>5223</td>\n",
       "    </tr>\n",
       "    <tr>\n",
       "      <th>1511525</th>\n",
       "      <td>395775</td>\n",
       "      <td>ad_click</td>\n",
       "      <td>1068</td>\n",
       "      <td>5180</td>\n",
       "      <td>ad_line</td>\n",
       "      <td>37.30</td>\n",
       "      <td>2022-03-28 09:11:26.486139</td>\n",
       "      <td>1068</td>\n",
       "      <td>ad_click</td>\n",
       "      <td>우수고객</td>\n",
       "      <td>Books</td>\n",
       "      <td>5180</td>\n",
       "      <td>9340</td>\n",
       "    </tr>\n",
       "    <tr>\n",
       "      <th>1511526</th>\n",
       "      <td>395775</td>\n",
       "      <td>purchase</td>\n",
       "      <td>1021</td>\n",
       "      <td>14890</td>\n",
       "      <td>NaN</td>\n",
       "      <td>NaN</td>\n",
       "      <td>2022-03-30 22:48:51.811184</td>\n",
       "      <td>1068</td>\n",
       "      <td>ad_purchase_other</td>\n",
       "      <td>우수고객</td>\n",
       "      <td>Health &amp; Beauty</td>\n",
       "      <td>14890</td>\n",
       "      <td>5223</td>\n",
       "    </tr>\n",
       "    <tr>\n",
       "      <th>1511527</th>\n",
       "      <td>395775</td>\n",
       "      <td>view</td>\n",
       "      <td>1349</td>\n",
       "      <td>23800</td>\n",
       "      <td>NaN</td>\n",
       "      <td>NaN</td>\n",
       "      <td>2022-03-31 07:18:16.008345</td>\n",
       "      <td>1068</td>\n",
       "      <td>ad_view_other</td>\n",
       "      <td>우수고객</td>\n",
       "      <td>Health &amp; Beauty</td>\n",
       "      <td>23800</td>\n",
       "      <td>5179</td>\n",
       "    </tr>\n",
       "    <tr>\n",
       "      <th>1511528</th>\n",
       "      <td>395775</td>\n",
       "      <td>view</td>\n",
       "      <td>1038</td>\n",
       "      <td>40180</td>\n",
       "      <td>NaN</td>\n",
       "      <td>NaN</td>\n",
       "      <td>2022-04-01 19:50:20.008345</td>\n",
       "      <td>1068</td>\n",
       "      <td>ad_view_other</td>\n",
       "      <td>우수고객</td>\n",
       "      <td>Electronics</td>\n",
       "      <td>40180</td>\n",
       "      <td>1074</td>\n",
       "    </tr>\n",
       "    <tr>\n",
       "      <th>1511529</th>\n",
       "      <td>395775</td>\n",
       "      <td>view</td>\n",
       "      <td>1349</td>\n",
       "      <td>23800</td>\n",
       "      <td>NaN</td>\n",
       "      <td>NaN</td>\n",
       "      <td>2022-04-03 00:18:05.008345</td>\n",
       "      <td>1068</td>\n",
       "      <td>ad_view_other</td>\n",
       "      <td>우수고객</td>\n",
       "      <td>Health &amp; Beauty</td>\n",
       "      <td>23800</td>\n",
       "      <td>5179</td>\n",
       "    </tr>\n",
       "    <tr>\n",
       "      <th>1511530</th>\n",
       "      <td>395775</td>\n",
       "      <td>view</td>\n",
       "      <td>1262</td>\n",
       "      <td>7040</td>\n",
       "      <td>NaN</td>\n",
       "      <td>NaN</td>\n",
       "      <td>2022-04-03 10:38:55.867982</td>\n",
       "      <td>1068</td>\n",
       "      <td>ad_view_other</td>\n",
       "      <td>우수고객</td>\n",
       "      <td>Health &amp; Beauty</td>\n",
       "      <td>7040</td>\n",
       "      <td>1317</td>\n",
       "    </tr>\n",
       "    <tr>\n",
       "      <th>1511531</th>\n",
       "      <td>395775</td>\n",
       "      <td>view</td>\n",
       "      <td>1230</td>\n",
       "      <td>17790</td>\n",
       "      <td>NaN</td>\n",
       "      <td>NaN</td>\n",
       "      <td>2022-04-03 13:39:06.867982</td>\n",
       "      <td>1068</td>\n",
       "      <td>ad_view_other</td>\n",
       "      <td>우수고객</td>\n",
       "      <td>Clothing</td>\n",
       "      <td>17790</td>\n",
       "      <td>3736</td>\n",
       "    </tr>\n",
       "    <tr>\n",
       "      <th>1511532</th>\n",
       "      <td>395775</td>\n",
       "      <td>view</td>\n",
       "      <td>1349</td>\n",
       "      <td>23800</td>\n",
       "      <td>NaN</td>\n",
       "      <td>NaN</td>\n",
       "      <td>2022-04-04 05:59:39.008345</td>\n",
       "      <td>1068</td>\n",
       "      <td>ad_view_other</td>\n",
       "      <td>우수고객</td>\n",
       "      <td>Health &amp; Beauty</td>\n",
       "      <td>23800</td>\n",
       "      <td>5179</td>\n",
       "    </tr>\n",
       "    <tr>\n",
       "      <th>1511540</th>\n",
       "      <td>395775</td>\n",
       "      <td>ad_click</td>\n",
       "      <td>1301</td>\n",
       "      <td>7690</td>\n",
       "      <td>ad_line</td>\n",
       "      <td>56.94</td>\n",
       "      <td>2022-04-09 23:59:44.038511</td>\n",
       "      <td>1301</td>\n",
       "      <td>ad_click</td>\n",
       "      <td>우수고객</td>\n",
       "      <td>Health &amp; Beauty</td>\n",
       "      <td>7690</td>\n",
       "      <td>6445</td>\n",
       "    </tr>\n",
       "    <tr>\n",
       "      <th>1511541</th>\n",
       "      <td>395775</td>\n",
       "      <td>purchase</td>\n",
       "      <td>1217</td>\n",
       "      <td>16220</td>\n",
       "      <td>NaN</td>\n",
       "      <td>NaN</td>\n",
       "      <td>2022-04-10 01:00:52.008345</td>\n",
       "      <td>1301</td>\n",
       "      <td>ad_purchase_other</td>\n",
       "      <td>우수고객</td>\n",
       "      <td>Books</td>\n",
       "      <td>16220</td>\n",
       "      <td>6429</td>\n",
       "    </tr>\n",
       "    <tr>\n",
       "      <th>1511542</th>\n",
       "      <td>395775</td>\n",
       "      <td>view</td>\n",
       "      <td>1192</td>\n",
       "      <td>18450</td>\n",
       "      <td>NaN</td>\n",
       "      <td>NaN</td>\n",
       "      <td>2022-04-12 16:59:18.811184</td>\n",
       "      <td>1301</td>\n",
       "      <td>ad_view_other</td>\n",
       "      <td>우수고객</td>\n",
       "      <td>Books</td>\n",
       "      <td>18450</td>\n",
       "      <td>4760</td>\n",
       "    </tr>\n",
       "    <tr>\n",
       "      <th>1511543</th>\n",
       "      <td>395775</td>\n",
       "      <td>view</td>\n",
       "      <td>1280</td>\n",
       "      <td>9270</td>\n",
       "      <td>NaN</td>\n",
       "      <td>NaN</td>\n",
       "      <td>2022-04-13 05:23:45.525882</td>\n",
       "      <td>1301</td>\n",
       "      <td>ad_view_other</td>\n",
       "      <td>우수고객</td>\n",
       "      <td>Clothing</td>\n",
       "      <td>9270</td>\n",
       "      <td>4738</td>\n",
       "    </tr>\n",
       "    <tr>\n",
       "      <th>1511544</th>\n",
       "      <td>395775</td>\n",
       "      <td>basket</td>\n",
       "      <td>1349</td>\n",
       "      <td>23800</td>\n",
       "      <td>NaN</td>\n",
       "      <td>NaN</td>\n",
       "      <td>2022-04-13 10:49:54.008345</td>\n",
       "      <td>1301</td>\n",
       "      <td>ad_basket_other</td>\n",
       "      <td>우수고객</td>\n",
       "      <td>Health &amp; Beauty</td>\n",
       "      <td>23800</td>\n",
       "      <td>5179</td>\n",
       "    </tr>\n",
       "    <tr>\n",
       "      <th>1511545</th>\n",
       "      <td>395775</td>\n",
       "      <td>view</td>\n",
       "      <td>1005</td>\n",
       "      <td>5270</td>\n",
       "      <td>NaN</td>\n",
       "      <td>NaN</td>\n",
       "      <td>2022-04-13 16:05:08.486139</td>\n",
       "      <td>1301</td>\n",
       "      <td>ad_view_other</td>\n",
       "      <td>우수고객</td>\n",
       "      <td>Clothing</td>\n",
       "      <td>5270</td>\n",
       "      <td>7035</td>\n",
       "    </tr>\n",
       "    <tr>\n",
       "      <th>1511557</th>\n",
       "      <td>395775</td>\n",
       "      <td>ad_click</td>\n",
       "      <td>1473</td>\n",
       "      <td>8120</td>\n",
       "      <td>ad_line</td>\n",
       "      <td>34.85</td>\n",
       "      <td>2022-04-27 05:19:28.811184</td>\n",
       "      <td>1473</td>\n",
       "      <td>ad_click</td>\n",
       "      <td>우수고객</td>\n",
       "      <td>Health &amp; Beauty</td>\n",
       "      <td>8120</td>\n",
       "      <td>5644</td>\n",
       "    </tr>\n",
       "    <tr>\n",
       "      <th>1511558</th>\n",
       "      <td>395775</td>\n",
       "      <td>view</td>\n",
       "      <td>1383</td>\n",
       "      <td>18630</td>\n",
       "      <td>NaN</td>\n",
       "      <td>NaN</td>\n",
       "      <td>2022-04-27 06:04:40.525882</td>\n",
       "      <td>1473</td>\n",
       "      <td>ad_view_other</td>\n",
       "      <td>우수고객</td>\n",
       "      <td>Books</td>\n",
       "      <td>18630</td>\n",
       "      <td>4224</td>\n",
       "    </tr>\n",
       "    <tr>\n",
       "      <th>1511559</th>\n",
       "      <td>395775</td>\n",
       "      <td>view</td>\n",
       "      <td>1383</td>\n",
       "      <td>18630</td>\n",
       "      <td>NaN</td>\n",
       "      <td>NaN</td>\n",
       "      <td>2022-04-27 08:57:06.525882</td>\n",
       "      <td>1473</td>\n",
       "      <td>ad_view_other</td>\n",
       "      <td>우수고객</td>\n",
       "      <td>Books</td>\n",
       "      <td>18630</td>\n",
       "      <td>4224</td>\n",
       "    </tr>\n",
       "    <tr>\n",
       "      <th>1511560</th>\n",
       "      <td>395775</td>\n",
       "      <td>view</td>\n",
       "      <td>1338</td>\n",
       "      <td>14250</td>\n",
       "      <td>NaN</td>\n",
       "      <td>NaN</td>\n",
       "      <td>2022-04-28 00:58:11.867982</td>\n",
       "      <td>1473</td>\n",
       "      <td>ad_view_other</td>\n",
       "      <td>우수고객</td>\n",
       "      <td>Health &amp; Beauty</td>\n",
       "      <td>14250</td>\n",
       "      <td>2098</td>\n",
       "    </tr>\n",
       "    <tr>\n",
       "      <th>1511561</th>\n",
       "      <td>395775</td>\n",
       "      <td>view</td>\n",
       "      <td>1097</td>\n",
       "      <td>29660</td>\n",
       "      <td>NaN</td>\n",
       "      <td>NaN</td>\n",
       "      <td>2022-04-28 13:43:14.811184</td>\n",
       "      <td>1473</td>\n",
       "      <td>ad_view_other</td>\n",
       "      <td>우수고객</td>\n",
       "      <td>Clothing</td>\n",
       "      <td>29660</td>\n",
       "      <td>1060</td>\n",
       "    </tr>\n",
       "    <tr>\n",
       "      <th>1511562</th>\n",
       "      <td>395775</td>\n",
       "      <td>basket</td>\n",
       "      <td>1230</td>\n",
       "      <td>17790</td>\n",
       "      <td>NaN</td>\n",
       "      <td>NaN</td>\n",
       "      <td>2022-04-28 16:23:08.867982</td>\n",
       "      <td>1473</td>\n",
       "      <td>ad_basket_other</td>\n",
       "      <td>우수고객</td>\n",
       "      <td>Clothing</td>\n",
       "      <td>17790</td>\n",
       "      <td>3736</td>\n",
       "    </tr>\n",
       "    <tr>\n",
       "      <th>1511563</th>\n",
       "      <td>395775</td>\n",
       "      <td>view</td>\n",
       "      <td>1021</td>\n",
       "      <td>14890</td>\n",
       "      <td>NaN</td>\n",
       "      <td>NaN</td>\n",
       "      <td>2022-04-28 20:22:23.811184</td>\n",
       "      <td>1473</td>\n",
       "      <td>ad_view_other</td>\n",
       "      <td>우수고객</td>\n",
       "      <td>Health &amp; Beauty</td>\n",
       "      <td>14890</td>\n",
       "      <td>5223</td>\n",
       "    </tr>\n",
       "    <tr>\n",
       "      <th>1511564</th>\n",
       "      <td>395775</td>\n",
       "      <td>basket</td>\n",
       "      <td>1230</td>\n",
       "      <td>17790</td>\n",
       "      <td>NaN</td>\n",
       "      <td>NaN</td>\n",
       "      <td>2022-04-28 23:10:49.867982</td>\n",
       "      <td>1473</td>\n",
       "      <td>ad_basket_other</td>\n",
       "      <td>우수고객</td>\n",
       "      <td>Clothing</td>\n",
       "      <td>17790</td>\n",
       "      <td>3736</td>\n",
       "    </tr>\n",
       "    <tr>\n",
       "      <th>1511565</th>\n",
       "      <td>395775</td>\n",
       "      <td>view</td>\n",
       "      <td>1192</td>\n",
       "      <td>18450</td>\n",
       "      <td>NaN</td>\n",
       "      <td>NaN</td>\n",
       "      <td>2022-04-29 03:45:07.811184</td>\n",
       "      <td>1473</td>\n",
       "      <td>ad_view_other</td>\n",
       "      <td>우수고객</td>\n",
       "      <td>Books</td>\n",
       "      <td>18450</td>\n",
       "      <td>4760</td>\n",
       "    </tr>\n",
       "    <tr>\n",
       "      <th>1511566</th>\n",
       "      <td>395775</td>\n",
       "      <td>basket</td>\n",
       "      <td>1005</td>\n",
       "      <td>5270</td>\n",
       "      <td>NaN</td>\n",
       "      <td>NaN</td>\n",
       "      <td>2022-04-29 04:52:25.486139</td>\n",
       "      <td>1473</td>\n",
       "      <td>ad_basket_other</td>\n",
       "      <td>우수고객</td>\n",
       "      <td>Clothing</td>\n",
       "      <td>5270</td>\n",
       "      <td>7035</td>\n",
       "    </tr>\n",
       "    <tr>\n",
       "      <th>1511567</th>\n",
       "      <td>395775</td>\n",
       "      <td>basket</td>\n",
       "      <td>1021</td>\n",
       "      <td>14890</td>\n",
       "      <td>NaN</td>\n",
       "      <td>NaN</td>\n",
       "      <td>2022-05-01 02:07:31.811184</td>\n",
       "      <td>1473</td>\n",
       "      <td>ad_basket_other</td>\n",
       "      <td>우수고객</td>\n",
       "      <td>Health &amp; Beauty</td>\n",
       "      <td>14890</td>\n",
       "      <td>5223</td>\n",
       "    </tr>\n",
       "    <tr>\n",
       "      <th>1511568</th>\n",
       "      <td>395775</td>\n",
       "      <td>view</td>\n",
       "      <td>1473</td>\n",
       "      <td>8120</td>\n",
       "      <td>NaN</td>\n",
       "      <td>NaN</td>\n",
       "      <td>2022-05-02 16:47:42.811184</td>\n",
       "      <td>1473</td>\n",
       "      <td>ad_view</td>\n",
       "      <td>우수고객</td>\n",
       "      <td>Health &amp; Beauty</td>\n",
       "      <td>8120</td>\n",
       "      <td>5644</td>\n",
       "    </tr>\n",
       "    <tr>\n",
       "      <th>1511569</th>\n",
       "      <td>395775</td>\n",
       "      <td>view</td>\n",
       "      <td>1005</td>\n",
       "      <td>5270</td>\n",
       "      <td>NaN</td>\n",
       "      <td>NaN</td>\n",
       "      <td>2022-05-03 20:08:04.486139</td>\n",
       "      <td>1473</td>\n",
       "      <td>ad_view_other</td>\n",
       "      <td>우수고객</td>\n",
       "      <td>Clothing</td>\n",
       "      <td>5270</td>\n",
       "      <td>7035</td>\n",
       "    </tr>\n",
       "    <tr>\n",
       "      <th>1511587</th>\n",
       "      <td>395775</td>\n",
       "      <td>ad_click</td>\n",
       "      <td>1338</td>\n",
       "      <td>14250</td>\n",
       "      <td>ad_google</td>\n",
       "      <td>118.03</td>\n",
       "      <td>2022-05-16 12:49:50.867982</td>\n",
       "      <td>1338</td>\n",
       "      <td>ad_click</td>\n",
       "      <td>우수고객</td>\n",
       "      <td>Health &amp; Beauty</td>\n",
       "      <td>14250</td>\n",
       "      <td>2098</td>\n",
       "    </tr>\n",
       "    <tr>\n",
       "      <th>1511588</th>\n",
       "      <td>395775</td>\n",
       "      <td>ad_click</td>\n",
       "      <td>1383</td>\n",
       "      <td>18630</td>\n",
       "      <td>ad_meta</td>\n",
       "      <td>179.67</td>\n",
       "      <td>2022-05-16 22:58:07.525882</td>\n",
       "      <td>1383</td>\n",
       "      <td>ad_click</td>\n",
       "      <td>우수고객</td>\n",
       "      <td>Books</td>\n",
       "      <td>18630</td>\n",
       "      <td>4224</td>\n",
       "    </tr>\n",
       "    <tr>\n",
       "      <th>1511589</th>\n",
       "      <td>395775</td>\n",
       "      <td>view</td>\n",
       "      <td>1149</td>\n",
       "      <td>17780</td>\n",
       "      <td>NaN</td>\n",
       "      <td>NaN</td>\n",
       "      <td>2022-05-19 09:15:09.867982</td>\n",
       "      <td>1383</td>\n",
       "      <td>ad_view_other</td>\n",
       "      <td>우수고객</td>\n",
       "      <td>Books</td>\n",
       "      <td>17780</td>\n",
       "      <td>4294</td>\n",
       "    </tr>\n",
       "    <tr>\n",
       "      <th>1511590</th>\n",
       "      <td>395775</td>\n",
       "      <td>view</td>\n",
       "      <td>1005</td>\n",
       "      <td>5270</td>\n",
       "      <td>NaN</td>\n",
       "      <td>NaN</td>\n",
       "      <td>2022-05-20 06:29:44.486139</td>\n",
       "      <td>1383</td>\n",
       "      <td>ad_view_other</td>\n",
       "      <td>우수고객</td>\n",
       "      <td>Clothing</td>\n",
       "      <td>5270</td>\n",
       "      <td>7035</td>\n",
       "    </tr>\n",
       "    <tr>\n",
       "      <th>1511591</th>\n",
       "      <td>395775</td>\n",
       "      <td>view</td>\n",
       "      <td>1005</td>\n",
       "      <td>5270</td>\n",
       "      <td>NaN</td>\n",
       "      <td>NaN</td>\n",
       "      <td>2022-05-21 22:59:32.486139</td>\n",
       "      <td>1383</td>\n",
       "      <td>ad_view_other</td>\n",
       "      <td>우수고객</td>\n",
       "      <td>Clothing</td>\n",
       "      <td>5270</td>\n",
       "      <td>7035</td>\n",
       "    </tr>\n",
       "    <tr>\n",
       "      <th>1511592</th>\n",
       "      <td>395775</td>\n",
       "      <td>view</td>\n",
       "      <td>1371</td>\n",
       "      <td>10960</td>\n",
       "      <td>NaN</td>\n",
       "      <td>NaN</td>\n",
       "      <td>2022-05-22 16:14:44.867982</td>\n",
       "      <td>1383</td>\n",
       "      <td>ad_view_other</td>\n",
       "      <td>우수고객</td>\n",
       "      <td>Books</td>\n",
       "      <td>10960</td>\n",
       "      <td>9782</td>\n",
       "    </tr>\n",
       "    <tr>\n",
       "      <th>1511593</th>\n",
       "      <td>395775</td>\n",
       "      <td>ad_click</td>\n",
       "      <td>1005</td>\n",
       "      <td>5270</td>\n",
       "      <td>ad_meta</td>\n",
       "      <td>18.29</td>\n",
       "      <td>2022-05-22 23:02:09.486139</td>\n",
       "      <td>1005</td>\n",
       "      <td>ad_click</td>\n",
       "      <td>우수고객</td>\n",
       "      <td>Clothing</td>\n",
       "      <td>5270</td>\n",
       "      <td>7035</td>\n",
       "    </tr>\n",
       "    <tr>\n",
       "      <th>1511594</th>\n",
       "      <td>395775</td>\n",
       "      <td>ad_click</td>\n",
       "      <td>1005</td>\n",
       "      <td>5270</td>\n",
       "      <td>ad_line</td>\n",
       "      <td>49.56</td>\n",
       "      <td>2022-05-23 20:36:33.486139</td>\n",
       "      <td>1005</td>\n",
       "      <td>ad_click</td>\n",
       "      <td>우수고객</td>\n",
       "      <td>Clothing</td>\n",
       "      <td>5270</td>\n",
       "      <td>7035</td>\n",
       "    </tr>\n",
       "    <tr>\n",
       "      <th>1511595</th>\n",
       "      <td>395775</td>\n",
       "      <td>basket</td>\n",
       "      <td>1349</td>\n",
       "      <td>23800</td>\n",
       "      <td>NaN</td>\n",
       "      <td>NaN</td>\n",
       "      <td>2022-05-23 23:43:50.008345</td>\n",
       "      <td>1005</td>\n",
       "      <td>ad_basket_other</td>\n",
       "      <td>우수고객</td>\n",
       "      <td>Health &amp; Beauty</td>\n",
       "      <td>23800</td>\n",
       "      <td>5179</td>\n",
       "    </tr>\n",
       "    <tr>\n",
       "      <th>1511596</th>\n",
       "      <td>395775</td>\n",
       "      <td>view</td>\n",
       "      <td>1349</td>\n",
       "      <td>23800</td>\n",
       "      <td>NaN</td>\n",
       "      <td>NaN</td>\n",
       "      <td>2022-05-24 01:42:10.008345</td>\n",
       "      <td>1005</td>\n",
       "      <td>ad_view_other</td>\n",
       "      <td>우수고객</td>\n",
       "      <td>Health &amp; Beauty</td>\n",
       "      <td>23800</td>\n",
       "      <td>5179</td>\n",
       "    </tr>\n",
       "    <tr>\n",
       "      <th>1511597</th>\n",
       "      <td>395775</td>\n",
       "      <td>basket</td>\n",
       "      <td>1383</td>\n",
       "      <td>18630</td>\n",
       "      <td>NaN</td>\n",
       "      <td>NaN</td>\n",
       "      <td>2022-05-25 18:00:36.525882</td>\n",
       "      <td>1005</td>\n",
       "      <td>ad_basket_other</td>\n",
       "      <td>우수고객</td>\n",
       "      <td>Books</td>\n",
       "      <td>18630</td>\n",
       "      <td>4224</td>\n",
       "    </tr>\n",
       "    <tr>\n",
       "      <th>1511598</th>\n",
       "      <td>395775</td>\n",
       "      <td>basket</td>\n",
       "      <td>1383</td>\n",
       "      <td>18630</td>\n",
       "      <td>NaN</td>\n",
       "      <td>NaN</td>\n",
       "      <td>2022-05-27 14:16:34.525882</td>\n",
       "      <td>1005</td>\n",
       "      <td>ad_basket_other</td>\n",
       "      <td>우수고객</td>\n",
       "      <td>Books</td>\n",
       "      <td>18630</td>\n",
       "      <td>4224</td>\n",
       "    </tr>\n",
       "    <tr>\n",
       "      <th>1511599</th>\n",
       "      <td>395775</td>\n",
       "      <td>view</td>\n",
       "      <td>1338</td>\n",
       "      <td>14250</td>\n",
       "      <td>NaN</td>\n",
       "      <td>NaN</td>\n",
       "      <td>2022-05-27 23:09:35.867982</td>\n",
       "      <td>1005</td>\n",
       "      <td>ad_view_other</td>\n",
       "      <td>우수고객</td>\n",
       "      <td>Health &amp; Beauty</td>\n",
       "      <td>14250</td>\n",
       "      <td>2098</td>\n",
       "    </tr>\n",
       "    <tr>\n",
       "      <th>1511600</th>\n",
       "      <td>395775</td>\n",
       "      <td>view</td>\n",
       "      <td>1383</td>\n",
       "      <td>18630</td>\n",
       "      <td>NaN</td>\n",
       "      <td>NaN</td>\n",
       "      <td>2022-05-28 21:26:24.525882</td>\n",
       "      <td>1005</td>\n",
       "      <td>ad_view_other</td>\n",
       "      <td>우수고객</td>\n",
       "      <td>Books</td>\n",
       "      <td>18630</td>\n",
       "      <td>4224</td>\n",
       "    </tr>\n",
       "    <tr>\n",
       "      <th>1511601</th>\n",
       "      <td>395775</td>\n",
       "      <td>view</td>\n",
       "      <td>1371</td>\n",
       "      <td>10960</td>\n",
       "      <td>NaN</td>\n",
       "      <td>NaN</td>\n",
       "      <td>2022-05-29 11:44:56.867982</td>\n",
       "      <td>1005</td>\n",
       "      <td>ad_view_other</td>\n",
       "      <td>우수고객</td>\n",
       "      <td>Books</td>\n",
       "      <td>10960</td>\n",
       "      <td>9782</td>\n",
       "    </tr>\n",
       "    <tr>\n",
       "      <th>1511602</th>\n",
       "      <td>395775</td>\n",
       "      <td>view</td>\n",
       "      <td>1383</td>\n",
       "      <td>18630</td>\n",
       "      <td>NaN</td>\n",
       "      <td>NaN</td>\n",
       "      <td>2022-05-30 18:59:33.525882</td>\n",
       "      <td>1005</td>\n",
       "      <td>ad_view_other</td>\n",
       "      <td>우수고객</td>\n",
       "      <td>Books</td>\n",
       "      <td>18630</td>\n",
       "      <td>4224</td>\n",
       "    </tr>\n",
       "    <tr>\n",
       "      <th>1511605</th>\n",
       "      <td>395775</td>\n",
       "      <td>ad_click</td>\n",
       "      <td>1383</td>\n",
       "      <td>18630</td>\n",
       "      <td>ad_google</td>\n",
       "      <td>67.33</td>\n",
       "      <td>2022-06-01 15:07:38.525882</td>\n",
       "      <td>1383</td>\n",
       "      <td>ad_click</td>\n",
       "      <td>우수고객</td>\n",
       "      <td>Books</td>\n",
       "      <td>18630</td>\n",
       "      <td>4224</td>\n",
       "    </tr>\n",
       "    <tr>\n",
       "      <th>1511606</th>\n",
       "      <td>395775</td>\n",
       "      <td>view</td>\n",
       "      <td>1170</td>\n",
       "      <td>77590</td>\n",
       "      <td>NaN</td>\n",
       "      <td>NaN</td>\n",
       "      <td>2022-06-02 17:00:24.205779</td>\n",
       "      <td>1383</td>\n",
       "      <td>ad_view_other</td>\n",
       "      <td>우수고객</td>\n",
       "      <td>Electronics</td>\n",
       "      <td>77590</td>\n",
       "      <td>6468</td>\n",
       "    </tr>\n",
       "    <tr>\n",
       "      <th>1511607</th>\n",
       "      <td>395775</td>\n",
       "      <td>view</td>\n",
       "      <td>1371</td>\n",
       "      <td>10960</td>\n",
       "      <td>NaN</td>\n",
       "      <td>NaN</td>\n",
       "      <td>2022-06-06 22:12:42.867982</td>\n",
       "      <td>1383</td>\n",
       "      <td>ad_view_other</td>\n",
       "      <td>우수고객</td>\n",
       "      <td>Books</td>\n",
       "      <td>10960</td>\n",
       "      <td>9782</td>\n",
       "    </tr>\n",
       "    <tr>\n",
       "      <th>1511608</th>\n",
       "      <td>395775</td>\n",
       "      <td>view</td>\n",
       "      <td>1383</td>\n",
       "      <td>18630</td>\n",
       "      <td>NaN</td>\n",
       "      <td>NaN</td>\n",
       "      <td>2022-06-07 21:39:38.525882</td>\n",
       "      <td>1383</td>\n",
       "      <td>ad_view</td>\n",
       "      <td>우수고객</td>\n",
       "      <td>Books</td>\n",
       "      <td>18630</td>\n",
       "      <td>4224</td>\n",
       "    </tr>\n",
       "  </tbody>\n",
       "</table>\n",
       "</div>"
      ],
      "text/plain": [
       "         CustomerID ActionType  GoodsCode   Price       AdID     CPC  \\\n",
       "1511520      395775   ad_click       1428    9490  ad_google   89.01   \n",
       "1511521      395775       view       1351   13370        NaN     NaN   \n",
       "1511522      395775       view       1171  104650        NaN     NaN   \n",
       "1511523      395775       view       1343   18490        NaN     NaN   \n",
       "1511524      395775       view       1021   14890        NaN     NaN   \n",
       "1511525      395775   ad_click       1068    5180    ad_line   37.30   \n",
       "1511526      395775   purchase       1021   14890        NaN     NaN   \n",
       "1511527      395775       view       1349   23800        NaN     NaN   \n",
       "1511528      395775       view       1038   40180        NaN     NaN   \n",
       "1511529      395775       view       1349   23800        NaN     NaN   \n",
       "1511530      395775       view       1262    7040        NaN     NaN   \n",
       "1511531      395775       view       1230   17790        NaN     NaN   \n",
       "1511532      395775       view       1349   23800        NaN     NaN   \n",
       "1511540      395775   ad_click       1301    7690    ad_line   56.94   \n",
       "1511541      395775   purchase       1217   16220        NaN     NaN   \n",
       "1511542      395775       view       1192   18450        NaN     NaN   \n",
       "1511543      395775       view       1280    9270        NaN     NaN   \n",
       "1511544      395775     basket       1349   23800        NaN     NaN   \n",
       "1511545      395775       view       1005    5270        NaN     NaN   \n",
       "1511557      395775   ad_click       1473    8120    ad_line   34.85   \n",
       "1511558      395775       view       1383   18630        NaN     NaN   \n",
       "1511559      395775       view       1383   18630        NaN     NaN   \n",
       "1511560      395775       view       1338   14250        NaN     NaN   \n",
       "1511561      395775       view       1097   29660        NaN     NaN   \n",
       "1511562      395775     basket       1230   17790        NaN     NaN   \n",
       "1511563      395775       view       1021   14890        NaN     NaN   \n",
       "1511564      395775     basket       1230   17790        NaN     NaN   \n",
       "1511565      395775       view       1192   18450        NaN     NaN   \n",
       "1511566      395775     basket       1005    5270        NaN     NaN   \n",
       "1511567      395775     basket       1021   14890        NaN     NaN   \n",
       "1511568      395775       view       1473    8120        NaN     NaN   \n",
       "1511569      395775       view       1005    5270        NaN     NaN   \n",
       "1511587      395775   ad_click       1338   14250  ad_google  118.03   \n",
       "1511588      395775   ad_click       1383   18630    ad_meta  179.67   \n",
       "1511589      395775       view       1149   17780        NaN     NaN   \n",
       "1511590      395775       view       1005    5270        NaN     NaN   \n",
       "1511591      395775       view       1005    5270        NaN     NaN   \n",
       "1511592      395775       view       1371   10960        NaN     NaN   \n",
       "1511593      395775   ad_click       1005    5270    ad_meta   18.29   \n",
       "1511594      395775   ad_click       1005    5270    ad_line   49.56   \n",
       "1511595      395775     basket       1349   23800        NaN     NaN   \n",
       "1511596      395775       view       1349   23800        NaN     NaN   \n",
       "1511597      395775     basket       1383   18630        NaN     NaN   \n",
       "1511598      395775     basket       1383   18630        NaN     NaN   \n",
       "1511599      395775       view       1338   14250        NaN     NaN   \n",
       "1511600      395775       view       1383   18630        NaN     NaN   \n",
       "1511601      395775       view       1371   10960        NaN     NaN   \n",
       "1511602      395775       view       1383   18630        NaN     NaN   \n",
       "1511605      395775   ad_click       1383   18630  ad_google   67.33   \n",
       "1511606      395775       view       1170   77590        NaN     NaN   \n",
       "1511607      395775       view       1371   10960        NaN     NaN   \n",
       "1511608      395775       view       1383   18630        NaN     NaN   \n",
       "\n",
       "                         Timestamp  GoodsCode_ad          eval_type  \\\n",
       "1511520 2022-03-25 11:37:11.525882          1428           ad_click   \n",
       "1511521 2022-03-25 11:39:05.525882          1428      ad_view_other   \n",
       "1511522 2022-03-26 08:26:24.811184          1428      ad_view_other   \n",
       "1511523 2022-03-26 14:16:39.525882          1428      ad_view_other   \n",
       "1511524 2022-03-27 20:51:22.811184          1428      ad_view_other   \n",
       "1511525 2022-03-28 09:11:26.486139          1068           ad_click   \n",
       "1511526 2022-03-30 22:48:51.811184          1068  ad_purchase_other   \n",
       "1511527 2022-03-31 07:18:16.008345          1068      ad_view_other   \n",
       "1511528 2022-04-01 19:50:20.008345          1068      ad_view_other   \n",
       "1511529 2022-04-03 00:18:05.008345          1068      ad_view_other   \n",
       "1511530 2022-04-03 10:38:55.867982          1068      ad_view_other   \n",
       "1511531 2022-04-03 13:39:06.867982          1068      ad_view_other   \n",
       "1511532 2022-04-04 05:59:39.008345          1068      ad_view_other   \n",
       "1511540 2022-04-09 23:59:44.038511          1301           ad_click   \n",
       "1511541 2022-04-10 01:00:52.008345          1301  ad_purchase_other   \n",
       "1511542 2022-04-12 16:59:18.811184          1301      ad_view_other   \n",
       "1511543 2022-04-13 05:23:45.525882          1301      ad_view_other   \n",
       "1511544 2022-04-13 10:49:54.008345          1301    ad_basket_other   \n",
       "1511545 2022-04-13 16:05:08.486139          1301      ad_view_other   \n",
       "1511557 2022-04-27 05:19:28.811184          1473           ad_click   \n",
       "1511558 2022-04-27 06:04:40.525882          1473      ad_view_other   \n",
       "1511559 2022-04-27 08:57:06.525882          1473      ad_view_other   \n",
       "1511560 2022-04-28 00:58:11.867982          1473      ad_view_other   \n",
       "1511561 2022-04-28 13:43:14.811184          1473      ad_view_other   \n",
       "1511562 2022-04-28 16:23:08.867982          1473    ad_basket_other   \n",
       "1511563 2022-04-28 20:22:23.811184          1473      ad_view_other   \n",
       "1511564 2022-04-28 23:10:49.867982          1473    ad_basket_other   \n",
       "1511565 2022-04-29 03:45:07.811184          1473      ad_view_other   \n",
       "1511566 2022-04-29 04:52:25.486139          1473    ad_basket_other   \n",
       "1511567 2022-05-01 02:07:31.811184          1473    ad_basket_other   \n",
       "1511568 2022-05-02 16:47:42.811184          1473            ad_view   \n",
       "1511569 2022-05-03 20:08:04.486139          1473      ad_view_other   \n",
       "1511587 2022-05-16 12:49:50.867982          1338           ad_click   \n",
       "1511588 2022-05-16 22:58:07.525882          1383           ad_click   \n",
       "1511589 2022-05-19 09:15:09.867982          1383      ad_view_other   \n",
       "1511590 2022-05-20 06:29:44.486139          1383      ad_view_other   \n",
       "1511591 2022-05-21 22:59:32.486139          1383      ad_view_other   \n",
       "1511592 2022-05-22 16:14:44.867982          1383      ad_view_other   \n",
       "1511593 2022-05-22 23:02:09.486139          1005           ad_click   \n",
       "1511594 2022-05-23 20:36:33.486139          1005           ad_click   \n",
       "1511595 2022-05-23 23:43:50.008345          1005    ad_basket_other   \n",
       "1511596 2022-05-24 01:42:10.008345          1005      ad_view_other   \n",
       "1511597 2022-05-25 18:00:36.525882          1005    ad_basket_other   \n",
       "1511598 2022-05-27 14:16:34.525882          1005    ad_basket_other   \n",
       "1511599 2022-05-27 23:09:35.867982          1005      ad_view_other   \n",
       "1511600 2022-05-28 21:26:24.525882          1005      ad_view_other   \n",
       "1511601 2022-05-29 11:44:56.867982          1005      ad_view_other   \n",
       "1511602 2022-05-30 18:59:33.525882          1005      ad_view_other   \n",
       "1511605 2022-06-01 15:07:38.525882          1383           ad_click   \n",
       "1511606 2022-06-02 17:00:24.205779          1383      ad_view_other   \n",
       "1511607 2022-06-06 22:12:42.867982          1383      ad_view_other   \n",
       "1511608 2022-06-07 21:39:38.525882          1383            ad_view   \n",
       "\n",
       "        cluster_plus         Category  OriginalPrice  Inventory  \n",
       "1511520         우수고객  Health & Beauty           9490       4041  \n",
       "1511521         우수고객         Clothing          13370       6626  \n",
       "1511522         우수고객      Electronics         104650       1920  \n",
       "1511523         우수고객            Books          18490       6658  \n",
       "1511524         우수고객  Health & Beauty          14890       5223  \n",
       "1511525         우수고객            Books           5180       9340  \n",
       "1511526         우수고객  Health & Beauty          14890       5223  \n",
       "1511527         우수고객  Health & Beauty          23800       5179  \n",
       "1511528         우수고객      Electronics          40180       1074  \n",
       "1511529         우수고객  Health & Beauty          23800       5179  \n",
       "1511530         우수고객  Health & Beauty           7040       1317  \n",
       "1511531         우수고객         Clothing          17790       3736  \n",
       "1511532         우수고객  Health & Beauty          23800       5179  \n",
       "1511540         우수고객  Health & Beauty           7690       6445  \n",
       "1511541         우수고객            Books          16220       6429  \n",
       "1511542         우수고객            Books          18450       4760  \n",
       "1511543         우수고객         Clothing           9270       4738  \n",
       "1511544         우수고객  Health & Beauty          23800       5179  \n",
       "1511545         우수고객         Clothing           5270       7035  \n",
       "1511557         우수고객  Health & Beauty           8120       5644  \n",
       "1511558         우수고객            Books          18630       4224  \n",
       "1511559         우수고객            Books          18630       4224  \n",
       "1511560         우수고객  Health & Beauty          14250       2098  \n",
       "1511561         우수고객         Clothing          29660       1060  \n",
       "1511562         우수고객         Clothing          17790       3736  \n",
       "1511563         우수고객  Health & Beauty          14890       5223  \n",
       "1511564         우수고객         Clothing          17790       3736  \n",
       "1511565         우수고객            Books          18450       4760  \n",
       "1511566         우수고객         Clothing           5270       7035  \n",
       "1511567         우수고객  Health & Beauty          14890       5223  \n",
       "1511568         우수고객  Health & Beauty           8120       5644  \n",
       "1511569         우수고객         Clothing           5270       7035  \n",
       "1511587         우수고객  Health & Beauty          14250       2098  \n",
       "1511588         우수고객            Books          18630       4224  \n",
       "1511589         우수고객            Books          17780       4294  \n",
       "1511590         우수고객         Clothing           5270       7035  \n",
       "1511591         우수고객         Clothing           5270       7035  \n",
       "1511592         우수고객            Books          10960       9782  \n",
       "1511593         우수고객         Clothing           5270       7035  \n",
       "1511594         우수고객         Clothing           5270       7035  \n",
       "1511595         우수고객  Health & Beauty          23800       5179  \n",
       "1511596         우수고객  Health & Beauty          23800       5179  \n",
       "1511597         우수고객            Books          18630       4224  \n",
       "1511598         우수고객            Books          18630       4224  \n",
       "1511599         우수고객  Health & Beauty          14250       2098  \n",
       "1511600         우수고객            Books          18630       4224  \n",
       "1511601         우수고객            Books          10960       9782  \n",
       "1511602         우수고객            Books          18630       4224  \n",
       "1511605         우수고객            Books          18630       4224  \n",
       "1511606         우수고객      Electronics          77590       6468  \n",
       "1511607         우수고객            Books          10960       9782  \n",
       "1511608         우수고객            Books          18630       4224  "
      ]
     },
     "execution_count": 170,
     "metadata": {},
     "output_type": "execute_result"
    }
   ],
   "source": [
    "ad_funnel[ad_funnel['CustomerID']==395775].sort_values('Timestamp')"
   ]
  },
  {
   "cell_type": "code",
   "execution_count": 171,
   "metadata": {},
   "outputs": [
    {
     "data": {
      "text/plain": [
       "CustomerID\n",
       "395775    52\n",
       "254441    52\n",
       "860371    43\n",
       "422404    42\n",
       "248521    40\n",
       "536537    37\n",
       "266402    37\n",
       "40335     36\n",
       "206472    36\n",
       "804650    35\n",
       "Name: ActionType, dtype: int64"
      ]
     },
     "execution_count": 171,
     "metadata": {},
     "output_type": "execute_result"
    }
   ],
   "source": [
    "ad_funnel.groupby('CustomerID')['ActionType'].count().sort_values(ascending=False).head(10)"
   ]
  },
  {
   "cell_type": "code",
   "execution_count": 172,
   "metadata": {},
   "outputs": [
    {
     "data": {
      "text/plain": [
       "Timestamp('2023-05-20 01:40:03.127184')"
      ]
     },
     "execution_count": 172,
     "metadata": {},
     "output_type": "execute_result"
    }
   ],
   "source": [
    "ad_funnel[ad_funnel['ActionType']=='ad_click']['Timestamp'].max()"
   ]
  },
  {
   "cell_type": "code",
   "execution_count": null,
   "metadata": {},
   "outputs": [],
   "source": []
  },
  {
   "cell_type": "code",
   "execution_count": null,
   "metadata": {},
   "outputs": [],
   "source": []
  },
  {
   "cell_type": "markdown",
   "metadata": {},
   "source": [
    "## 2023년에 들어온 고객"
   ]
  },
  {
   "cell_type": "code",
   "execution_count": 173,
   "metadata": {},
   "outputs": [
    {
     "data": {
      "text/html": [
       "<div>\n",
       "<style scoped>\n",
       "    .dataframe tbody tr th:only-of-type {\n",
       "        vertical-align: middle;\n",
       "    }\n",
       "\n",
       "    .dataframe tbody tr th {\n",
       "        vertical-align: top;\n",
       "    }\n",
       "\n",
       "    .dataframe thead th {\n",
       "        text-align: right;\n",
       "    }\n",
       "</style>\n",
       "<table border=\"1\" class=\"dataframe\">\n",
       "  <thead>\n",
       "    <tr style=\"text-align: right;\">\n",
       "      <th></th>\n",
       "      <th>CustomerID</th>\n",
       "      <th>ActionType</th>\n",
       "      <th>GoodsCode</th>\n",
       "      <th>Price</th>\n",
       "      <th>AdID</th>\n",
       "      <th>CPC</th>\n",
       "      <th>Timestamp</th>\n",
       "      <th>GoodsCode_ad</th>\n",
       "      <th>eval_type</th>\n",
       "      <th>cluster_plus</th>\n",
       "      <th>Category</th>\n",
       "      <th>OriginalPrice</th>\n",
       "      <th>Inventory</th>\n",
       "    </tr>\n",
       "  </thead>\n",
       "  <tbody>\n",
       "    <tr>\n",
       "      <th>0</th>\n",
       "      <td>4</td>\n",
       "      <td>view</td>\n",
       "      <td>1492</td>\n",
       "      <td>15020</td>\n",
       "      <td>NaN</td>\n",
       "      <td>NaN</td>\n",
       "      <td>2022-07-04 15:11:42.511967</td>\n",
       "      <td>-1</td>\n",
       "      <td>not_ad_view</td>\n",
       "      <td>NaN</td>\n",
       "      <td>Books</td>\n",
       "      <td>15020</td>\n",
       "      <td>6631</td>\n",
       "    </tr>\n",
       "    <tr>\n",
       "      <th>1</th>\n",
       "      <td>4</td>\n",
       "      <td>view</td>\n",
       "      <td>1492</td>\n",
       "      <td>15020</td>\n",
       "      <td>NaN</td>\n",
       "      <td>NaN</td>\n",
       "      <td>2022-07-24 14:44:40.511967</td>\n",
       "      <td>-1</td>\n",
       "      <td>not_ad_view</td>\n",
       "      <td>NaN</td>\n",
       "      <td>Books</td>\n",
       "      <td>15020</td>\n",
       "      <td>6631</td>\n",
       "    </tr>\n",
       "    <tr>\n",
       "      <th>2</th>\n",
       "      <td>6</td>\n",
       "      <td>view</td>\n",
       "      <td>1415</td>\n",
       "      <td>12980</td>\n",
       "      <td>NaN</td>\n",
       "      <td>NaN</td>\n",
       "      <td>2022-04-22 15:49:44.166991</td>\n",
       "      <td>-1</td>\n",
       "      <td>not_ad_view</td>\n",
       "      <td>4</td>\n",
       "      <td>Health &amp; Beauty</td>\n",
       "      <td>12980</td>\n",
       "      <td>9905</td>\n",
       "    </tr>\n",
       "    <tr>\n",
       "      <th>3</th>\n",
       "      <td>6</td>\n",
       "      <td>purchase</td>\n",
       "      <td>1437</td>\n",
       "      <td>35290</td>\n",
       "      <td>NaN</td>\n",
       "      <td>NaN</td>\n",
       "      <td>2022-04-26 21:46:00.166991</td>\n",
       "      <td>-1</td>\n",
       "      <td>not_ad_purchase</td>\n",
       "      <td>4</td>\n",
       "      <td>Home &amp; Garden</td>\n",
       "      <td>35290</td>\n",
       "      <td>3056</td>\n",
       "    </tr>\n",
       "    <tr>\n",
       "      <th>4</th>\n",
       "      <td>6</td>\n",
       "      <td>view</td>\n",
       "      <td>1217</td>\n",
       "      <td>16220</td>\n",
       "      <td>NaN</td>\n",
       "      <td>NaN</td>\n",
       "      <td>2022-05-03 14:26:12.811783</td>\n",
       "      <td>-1</td>\n",
       "      <td>not_ad_view</td>\n",
       "      <td>4</td>\n",
       "      <td>Books</td>\n",
       "      <td>16220</td>\n",
       "      <td>6429</td>\n",
       "    </tr>\n",
       "    <tr>\n",
       "      <th>...</th>\n",
       "      <td>...</td>\n",
       "      <td>...</td>\n",
       "      <td>...</td>\n",
       "      <td>...</td>\n",
       "      <td>...</td>\n",
       "      <td>...</td>\n",
       "      <td>...</td>\n",
       "      <td>...</td>\n",
       "      <td>...</td>\n",
       "      <td>...</td>\n",
       "      <td>...</td>\n",
       "      <td>...</td>\n",
       "      <td>...</td>\n",
       "    </tr>\n",
       "    <tr>\n",
       "      <th>3096926</th>\n",
       "      <td>899999</td>\n",
       "      <td>view</td>\n",
       "      <td>1059</td>\n",
       "      <td>21230</td>\n",
       "      <td>NaN</td>\n",
       "      <td>NaN</td>\n",
       "      <td>2022-05-22 12:51:15.722389</td>\n",
       "      <td>-1</td>\n",
       "      <td>not_ad_view</td>\n",
       "      <td>4</td>\n",
       "      <td>Clothing</td>\n",
       "      <td>21230</td>\n",
       "      <td>4629</td>\n",
       "    </tr>\n",
       "    <tr>\n",
       "      <th>3096927</th>\n",
       "      <td>899999</td>\n",
       "      <td>basket</td>\n",
       "      <td>1059</td>\n",
       "      <td>21230</td>\n",
       "      <td>NaN</td>\n",
       "      <td>NaN</td>\n",
       "      <td>2022-05-23 01:28:11.722389</td>\n",
       "      <td>-1</td>\n",
       "      <td>not_ad_basket</td>\n",
       "      <td>4</td>\n",
       "      <td>Clothing</td>\n",
       "      <td>21230</td>\n",
       "      <td>4629</td>\n",
       "    </tr>\n",
       "    <tr>\n",
       "      <th>3096928</th>\n",
       "      <td>899999</td>\n",
       "      <td>view</td>\n",
       "      <td>1059</td>\n",
       "      <td>21230</td>\n",
       "      <td>NaN</td>\n",
       "      <td>NaN</td>\n",
       "      <td>2022-05-24 04:40:26.722389</td>\n",
       "      <td>-1</td>\n",
       "      <td>not_ad_view</td>\n",
       "      <td>4</td>\n",
       "      <td>Clothing</td>\n",
       "      <td>21230</td>\n",
       "      <td>4629</td>\n",
       "    </tr>\n",
       "    <tr>\n",
       "      <th>3096929</th>\n",
       "      <td>899999</td>\n",
       "      <td>purchase</td>\n",
       "      <td>1034</td>\n",
       "      <td>12910</td>\n",
       "      <td>NaN</td>\n",
       "      <td>NaN</td>\n",
       "      <td>2022-06-20 03:40:43.722389</td>\n",
       "      <td>-1</td>\n",
       "      <td>not_ad_purchase</td>\n",
       "      <td>4</td>\n",
       "      <td>Home &amp; Garden</td>\n",
       "      <td>12910</td>\n",
       "      <td>3051</td>\n",
       "    </tr>\n",
       "    <tr>\n",
       "      <th>3096930</th>\n",
       "      <td>899999</td>\n",
       "      <td>view</td>\n",
       "      <td>1168</td>\n",
       "      <td>91680</td>\n",
       "      <td>NaN</td>\n",
       "      <td>NaN</td>\n",
       "      <td>2022-06-23 08:16:44.304854</td>\n",
       "      <td>-1</td>\n",
       "      <td>not_ad_view</td>\n",
       "      <td>4</td>\n",
       "      <td>Electronics</td>\n",
       "      <td>91680</td>\n",
       "      <td>8694</td>\n",
       "    </tr>\n",
       "  </tbody>\n",
       "</table>\n",
       "<p>3096931 rows × 13 columns</p>\n",
       "</div>"
      ],
      "text/plain": [
       "         CustomerID ActionType  GoodsCode  Price AdID  CPC  \\\n",
       "0                 4       view       1492  15020  NaN  NaN   \n",
       "1                 4       view       1492  15020  NaN  NaN   \n",
       "2                 6       view       1415  12980  NaN  NaN   \n",
       "3                 6   purchase       1437  35290  NaN  NaN   \n",
       "4                 6       view       1217  16220  NaN  NaN   \n",
       "...             ...        ...        ...    ...  ...  ...   \n",
       "3096926      899999       view       1059  21230  NaN  NaN   \n",
       "3096927      899999     basket       1059  21230  NaN  NaN   \n",
       "3096928      899999       view       1059  21230  NaN  NaN   \n",
       "3096929      899999   purchase       1034  12910  NaN  NaN   \n",
       "3096930      899999       view       1168  91680  NaN  NaN   \n",
       "\n",
       "                         Timestamp  GoodsCode_ad        eval_type  \\\n",
       "0       2022-07-04 15:11:42.511967            -1      not_ad_view   \n",
       "1       2022-07-24 14:44:40.511967            -1      not_ad_view   \n",
       "2       2022-04-22 15:49:44.166991            -1      not_ad_view   \n",
       "3       2022-04-26 21:46:00.166991            -1  not_ad_purchase   \n",
       "4       2022-05-03 14:26:12.811783            -1      not_ad_view   \n",
       "...                            ...           ...              ...   \n",
       "3096926 2022-05-22 12:51:15.722389            -1      not_ad_view   \n",
       "3096927 2022-05-23 01:28:11.722389            -1    not_ad_basket   \n",
       "3096928 2022-05-24 04:40:26.722389            -1      not_ad_view   \n",
       "3096929 2022-06-20 03:40:43.722389            -1  not_ad_purchase   \n",
       "3096930 2022-06-23 08:16:44.304854            -1      not_ad_view   \n",
       "\n",
       "        cluster_plus         Category  OriginalPrice  Inventory  \n",
       "0                NaN            Books          15020       6631  \n",
       "1                NaN            Books          15020       6631  \n",
       "2                  4  Health & Beauty          12980       9905  \n",
       "3                  4    Home & Garden          35290       3056  \n",
       "4                  4            Books          16220       6429  \n",
       "...              ...              ...            ...        ...  \n",
       "3096926            4         Clothing          21230       4629  \n",
       "3096927            4         Clothing          21230       4629  \n",
       "3096928            4         Clothing          21230       4629  \n",
       "3096929            4    Home & Garden          12910       3051  \n",
       "3096930            4      Electronics          91680       8694  \n",
       "\n",
       "[3096931 rows x 13 columns]"
      ]
     },
     "execution_count": 173,
     "metadata": {},
     "output_type": "execute_result"
    }
   ],
   "source": [
    "df"
   ]
  },
  {
   "cell_type": "code",
   "execution_count": 174,
   "metadata": {},
   "outputs": [
    {
     "data": {
      "text/html": [
       "<div>\n",
       "<style scoped>\n",
       "    .dataframe tbody tr th:only-of-type {\n",
       "        vertical-align: middle;\n",
       "    }\n",
       "\n",
       "    .dataframe tbody tr th {\n",
       "        vertical-align: top;\n",
       "    }\n",
       "\n",
       "    .dataframe thead th {\n",
       "        text-align: right;\n",
       "    }\n",
       "</style>\n",
       "<table border=\"1\" class=\"dataframe\">\n",
       "  <thead>\n",
       "    <tr style=\"text-align: right;\">\n",
       "      <th></th>\n",
       "      <th>CustomerID</th>\n",
       "      <th>ActionType</th>\n",
       "      <th>GoodsCode</th>\n",
       "      <th>Price</th>\n",
       "      <th>AdID</th>\n",
       "      <th>CPC</th>\n",
       "      <th>Timestamp</th>\n",
       "      <th>GoodsCode_ad</th>\n",
       "      <th>eval_type</th>\n",
       "      <th>cluster_plus</th>\n",
       "      <th>Category</th>\n",
       "      <th>OriginalPrice</th>\n",
       "      <th>Inventory</th>\n",
       "      <th>year</th>\n",
       "      <th>month</th>\n",
       "      <th>day</th>\n",
       "      <th>date</th>\n",
       "      <th>YearMonth</th>\n",
       "    </tr>\n",
       "  </thead>\n",
       "  <tbody>\n",
       "    <tr>\n",
       "      <th>0</th>\n",
       "      <td>4</td>\n",
       "      <td>view</td>\n",
       "      <td>1492</td>\n",
       "      <td>15020</td>\n",
       "      <td>NaN</td>\n",
       "      <td>NaN</td>\n",
       "      <td>2022-07-04 15:11:42.511967</td>\n",
       "      <td>-1</td>\n",
       "      <td>not_ad_view</td>\n",
       "      <td>NaN</td>\n",
       "      <td>Books</td>\n",
       "      <td>15020</td>\n",
       "      <td>6631</td>\n",
       "      <td>2022</td>\n",
       "      <td>7</td>\n",
       "      <td>4</td>\n",
       "      <td>2022-07-04</td>\n",
       "      <td>202207</td>\n",
       "    </tr>\n",
       "    <tr>\n",
       "      <th>1</th>\n",
       "      <td>4</td>\n",
       "      <td>view</td>\n",
       "      <td>1492</td>\n",
       "      <td>15020</td>\n",
       "      <td>NaN</td>\n",
       "      <td>NaN</td>\n",
       "      <td>2022-07-24 14:44:40.511967</td>\n",
       "      <td>-1</td>\n",
       "      <td>not_ad_view</td>\n",
       "      <td>NaN</td>\n",
       "      <td>Books</td>\n",
       "      <td>15020</td>\n",
       "      <td>6631</td>\n",
       "      <td>2022</td>\n",
       "      <td>7</td>\n",
       "      <td>24</td>\n",
       "      <td>2022-07-24</td>\n",
       "      <td>202207</td>\n",
       "    </tr>\n",
       "    <tr>\n",
       "      <th>2</th>\n",
       "      <td>6</td>\n",
       "      <td>view</td>\n",
       "      <td>1415</td>\n",
       "      <td>12980</td>\n",
       "      <td>NaN</td>\n",
       "      <td>NaN</td>\n",
       "      <td>2022-04-22 15:49:44.166991</td>\n",
       "      <td>-1</td>\n",
       "      <td>not_ad_view</td>\n",
       "      <td>4</td>\n",
       "      <td>Health &amp; Beauty</td>\n",
       "      <td>12980</td>\n",
       "      <td>9905</td>\n",
       "      <td>2022</td>\n",
       "      <td>4</td>\n",
       "      <td>22</td>\n",
       "      <td>2022-04-22</td>\n",
       "      <td>202204</td>\n",
       "    </tr>\n",
       "    <tr>\n",
       "      <th>3</th>\n",
       "      <td>6</td>\n",
       "      <td>purchase</td>\n",
       "      <td>1437</td>\n",
       "      <td>35290</td>\n",
       "      <td>NaN</td>\n",
       "      <td>NaN</td>\n",
       "      <td>2022-04-26 21:46:00.166991</td>\n",
       "      <td>-1</td>\n",
       "      <td>not_ad_purchase</td>\n",
       "      <td>4</td>\n",
       "      <td>Home &amp; Garden</td>\n",
       "      <td>35290</td>\n",
       "      <td>3056</td>\n",
       "      <td>2022</td>\n",
       "      <td>4</td>\n",
       "      <td>26</td>\n",
       "      <td>2022-04-26</td>\n",
       "      <td>202204</td>\n",
       "    </tr>\n",
       "    <tr>\n",
       "      <th>4</th>\n",
       "      <td>6</td>\n",
       "      <td>view</td>\n",
       "      <td>1217</td>\n",
       "      <td>16220</td>\n",
       "      <td>NaN</td>\n",
       "      <td>NaN</td>\n",
       "      <td>2022-05-03 14:26:12.811783</td>\n",
       "      <td>-1</td>\n",
       "      <td>not_ad_view</td>\n",
       "      <td>4</td>\n",
       "      <td>Books</td>\n",
       "      <td>16220</td>\n",
       "      <td>6429</td>\n",
       "      <td>2022</td>\n",
       "      <td>5</td>\n",
       "      <td>3</td>\n",
       "      <td>2022-05-03</td>\n",
       "      <td>202205</td>\n",
       "    </tr>\n",
       "  </tbody>\n",
       "</table>\n",
       "</div>"
      ],
      "text/plain": [
       "   CustomerID ActionType  GoodsCode  Price AdID  CPC  \\\n",
       "0           4       view       1492  15020  NaN  NaN   \n",
       "1           4       view       1492  15020  NaN  NaN   \n",
       "2           6       view       1415  12980  NaN  NaN   \n",
       "3           6   purchase       1437  35290  NaN  NaN   \n",
       "4           6       view       1217  16220  NaN  NaN   \n",
       "\n",
       "                   Timestamp  GoodsCode_ad        eval_type cluster_plus  \\\n",
       "0 2022-07-04 15:11:42.511967            -1      not_ad_view          NaN   \n",
       "1 2022-07-24 14:44:40.511967            -1      not_ad_view          NaN   \n",
       "2 2022-04-22 15:49:44.166991            -1      not_ad_view            4   \n",
       "3 2022-04-26 21:46:00.166991            -1  not_ad_purchase            4   \n",
       "4 2022-05-03 14:26:12.811783            -1      not_ad_view            4   \n",
       "\n",
       "          Category  OriginalPrice  Inventory  year  month  day        date  \\\n",
       "0            Books          15020       6631  2022      7    4  2022-07-04   \n",
       "1            Books          15020       6631  2022      7   24  2022-07-24   \n",
       "2  Health & Beauty          12980       9905  2022      4   22  2022-04-22   \n",
       "3    Home & Garden          35290       3056  2022      4   26  2022-04-26   \n",
       "4            Books          16220       6429  2022      5    3  2022-05-03   \n",
       "\n",
       "   YearMonth  \n",
       "0     202207  \n",
       "1     202207  \n",
       "2     202204  \n",
       "3     202204  \n",
       "4     202205  "
      ]
     },
     "execution_count": 174,
     "metadata": {},
     "output_type": "execute_result"
    }
   ],
   "source": [
    "df['Timestamp'] = pd.to_datetime(df['Timestamp'])\n",
    "\n",
    "df['year'] = df['Timestamp'].dt.year\n",
    "df['month'] = df['Timestamp'].dt.month\n",
    "df['day'] = df['Timestamp'].dt.day\n",
    "df['date'] = pd.to_datetime(df['Timestamp']).dt.date\n",
    "df['YearMonth'] = df['Timestamp'].map(lambda date: 100*date.year + date.month)\n",
    "df.head()"
   ]
  },
  {
   "cell_type": "code",
   "execution_count": 175,
   "metadata": {},
   "outputs": [
    {
     "data": {
      "text/html": [
       "<div>\n",
       "<style scoped>\n",
       "    .dataframe tbody tr th:only-of-type {\n",
       "        vertical-align: middle;\n",
       "    }\n",
       "\n",
       "    .dataframe tbody tr th {\n",
       "        vertical-align: top;\n",
       "    }\n",
       "\n",
       "    .dataframe thead th {\n",
       "        text-align: right;\n",
       "    }\n",
       "</style>\n",
       "<table border=\"1\" class=\"dataframe\">\n",
       "  <thead>\n",
       "    <tr style=\"text-align: right;\">\n",
       "      <th></th>\n",
       "      <th>CustomerID</th>\n",
       "      <th>ActionType</th>\n",
       "      <th>GoodsCode</th>\n",
       "      <th>Price</th>\n",
       "      <th>AdID</th>\n",
       "      <th>CPC</th>\n",
       "      <th>Timestamp</th>\n",
       "      <th>GoodsCode_ad</th>\n",
       "      <th>eval_type</th>\n",
       "      <th>cluster_plus</th>\n",
       "      <th>Category</th>\n",
       "      <th>OriginalPrice</th>\n",
       "      <th>Inventory</th>\n",
       "      <th>year</th>\n",
       "      <th>month</th>\n",
       "      <th>day</th>\n",
       "      <th>date</th>\n",
       "      <th>YearMonth</th>\n",
       "    </tr>\n",
       "  </thead>\n",
       "  <tbody>\n",
       "    <tr>\n",
       "      <th>697</th>\n",
       "      <td>152</td>\n",
       "      <td>view</td>\n",
       "      <td>1033</td>\n",
       "      <td>114120</td>\n",
       "      <td>NaN</td>\n",
       "      <td>NaN</td>\n",
       "      <td>2023-01-19 06:33:34.511967</td>\n",
       "      <td>-1</td>\n",
       "      <td>not_ad_view</td>\n",
       "      <td>1</td>\n",
       "      <td>Electronics</td>\n",
       "      <td>114120</td>\n",
       "      <td>3541</td>\n",
       "      <td>2023</td>\n",
       "      <td>1</td>\n",
       "      <td>19</td>\n",
       "      <td>2023-01-19</td>\n",
       "      <td>202301</td>\n",
       "    </tr>\n",
       "    <tr>\n",
       "      <th>1423</th>\n",
       "      <td>340</td>\n",
       "      <td>view</td>\n",
       "      <td>1328</td>\n",
       "      <td>9110</td>\n",
       "      <td>NaN</td>\n",
       "      <td>NaN</td>\n",
       "      <td>2023-02-03 19:22:37.511967</td>\n",
       "      <td>-1</td>\n",
       "      <td>not_ad_view</td>\n",
       "      <td>3</td>\n",
       "      <td>Clothing</td>\n",
       "      <td>9110</td>\n",
       "      <td>6126</td>\n",
       "      <td>2023</td>\n",
       "      <td>2</td>\n",
       "      <td>3</td>\n",
       "      <td>2023-02-03</td>\n",
       "      <td>202302</td>\n",
       "    </tr>\n",
       "    <tr>\n",
       "      <th>2088</th>\n",
       "      <td>539</td>\n",
       "      <td>ad_click</td>\n",
       "      <td>1108</td>\n",
       "      <td>34540</td>\n",
       "      <td>ad_google</td>\n",
       "      <td>201.92</td>\n",
       "      <td>2023-01-10 21:35:42.127184</td>\n",
       "      <td>1108</td>\n",
       "      <td>ad_click</td>\n",
       "      <td>3</td>\n",
       "      <td>Home &amp; Garden</td>\n",
       "      <td>34540</td>\n",
       "      <td>3322</td>\n",
       "      <td>2023</td>\n",
       "      <td>1</td>\n",
       "      <td>10</td>\n",
       "      <td>2023-01-10</td>\n",
       "      <td>202301</td>\n",
       "    </tr>\n",
       "    <tr>\n",
       "      <th>2089</th>\n",
       "      <td>539</td>\n",
       "      <td>view</td>\n",
       "      <td>1108</td>\n",
       "      <td>34540</td>\n",
       "      <td>NaN</td>\n",
       "      <td>NaN</td>\n",
       "      <td>2023-01-10 23:38:34.127184</td>\n",
       "      <td>1108</td>\n",
       "      <td>ad_view</td>\n",
       "      <td>3</td>\n",
       "      <td>Home &amp; Garden</td>\n",
       "      <td>34540</td>\n",
       "      <td>3322</td>\n",
       "      <td>2023</td>\n",
       "      <td>1</td>\n",
       "      <td>10</td>\n",
       "      <td>2023-01-10</td>\n",
       "      <td>202301</td>\n",
       "    </tr>\n",
       "    <tr>\n",
       "      <th>2090</th>\n",
       "      <td>539</td>\n",
       "      <td>basket</td>\n",
       "      <td>1108</td>\n",
       "      <td>34540</td>\n",
       "      <td>NaN</td>\n",
       "      <td>NaN</td>\n",
       "      <td>2023-01-11 20:39:14.127184</td>\n",
       "      <td>1108</td>\n",
       "      <td>ad_basket</td>\n",
       "      <td>3</td>\n",
       "      <td>Home &amp; Garden</td>\n",
       "      <td>34540</td>\n",
       "      <td>3322</td>\n",
       "      <td>2023</td>\n",
       "      <td>1</td>\n",
       "      <td>11</td>\n",
       "      <td>2023-01-11</td>\n",
       "      <td>202301</td>\n",
       "    </tr>\n",
       "    <tr>\n",
       "      <th>...</th>\n",
       "      <td>...</td>\n",
       "      <td>...</td>\n",
       "      <td>...</td>\n",
       "      <td>...</td>\n",
       "      <td>...</td>\n",
       "      <td>...</td>\n",
       "      <td>...</td>\n",
       "      <td>...</td>\n",
       "      <td>...</td>\n",
       "      <td>...</td>\n",
       "      <td>...</td>\n",
       "      <td>...</td>\n",
       "      <td>...</td>\n",
       "      <td>...</td>\n",
       "      <td>...</td>\n",
       "      <td>...</td>\n",
       "      <td>...</td>\n",
       "      <td>...</td>\n",
       "    </tr>\n",
       "    <tr>\n",
       "      <th>3086344</th>\n",
       "      <td>896087</td>\n",
       "      <td>view</td>\n",
       "      <td>1032</td>\n",
       "      <td>6260</td>\n",
       "      <td>NaN</td>\n",
       "      <td>NaN</td>\n",
       "      <td>2023-02-08 18:41:17.127184</td>\n",
       "      <td>-1</td>\n",
       "      <td>not_ad_view</td>\n",
       "      <td>NaN</td>\n",
       "      <td>Books</td>\n",
       "      <td>6260</td>\n",
       "      <td>2301</td>\n",
       "      <td>2023</td>\n",
       "      <td>2</td>\n",
       "      <td>8</td>\n",
       "      <td>2023-02-08</td>\n",
       "      <td>202302</td>\n",
       "    </tr>\n",
       "    <tr>\n",
       "      <th>3089107</th>\n",
       "      <td>897119</td>\n",
       "      <td>view</td>\n",
       "      <td>1366</td>\n",
       "      <td>10130</td>\n",
       "      <td>NaN</td>\n",
       "      <td>NaN</td>\n",
       "      <td>2023-02-13 13:01:24.127184</td>\n",
       "      <td>-1</td>\n",
       "      <td>not_ad_view</td>\n",
       "      <td>NaN</td>\n",
       "      <td>Books</td>\n",
       "      <td>10130</td>\n",
       "      <td>1984</td>\n",
       "      <td>2023</td>\n",
       "      <td>2</td>\n",
       "      <td>13</td>\n",
       "      <td>2023-02-13</td>\n",
       "      <td>202302</td>\n",
       "    </tr>\n",
       "    <tr>\n",
       "      <th>3093989</th>\n",
       "      <td>898801</td>\n",
       "      <td>view</td>\n",
       "      <td>1468</td>\n",
       "      <td>74800</td>\n",
       "      <td>NaN</td>\n",
       "      <td>NaN</td>\n",
       "      <td>2023-01-07 16:46:36.127184</td>\n",
       "      <td>-1</td>\n",
       "      <td>not_ad_view</td>\n",
       "      <td>3</td>\n",
       "      <td>Electronics</td>\n",
       "      <td>74800</td>\n",
       "      <td>1306</td>\n",
       "      <td>2023</td>\n",
       "      <td>1</td>\n",
       "      <td>7</td>\n",
       "      <td>2023-01-07</td>\n",
       "      <td>202301</td>\n",
       "    </tr>\n",
       "    <tr>\n",
       "      <th>3093990</th>\n",
       "      <td>898801</td>\n",
       "      <td>view</td>\n",
       "      <td>1468</td>\n",
       "      <td>74800</td>\n",
       "      <td>NaN</td>\n",
       "      <td>NaN</td>\n",
       "      <td>2023-02-02 01:31:20.127184</td>\n",
       "      <td>-1</td>\n",
       "      <td>not_ad_view</td>\n",
       "      <td>3</td>\n",
       "      <td>Electronics</td>\n",
       "      <td>74800</td>\n",
       "      <td>1306</td>\n",
       "      <td>2023</td>\n",
       "      <td>2</td>\n",
       "      <td>2</td>\n",
       "      <td>2023-02-02</td>\n",
       "      <td>202302</td>\n",
       "    </tr>\n",
       "    <tr>\n",
       "      <th>3093991</th>\n",
       "      <td>898801</td>\n",
       "      <td>basket</td>\n",
       "      <td>1468</td>\n",
       "      <td>74800</td>\n",
       "      <td>NaN</td>\n",
       "      <td>NaN</td>\n",
       "      <td>2023-02-11 09:03:40.127184</td>\n",
       "      <td>-1</td>\n",
       "      <td>not_ad_basket</td>\n",
       "      <td>3</td>\n",
       "      <td>Electronics</td>\n",
       "      <td>74800</td>\n",
       "      <td>1306</td>\n",
       "      <td>2023</td>\n",
       "      <td>2</td>\n",
       "      <td>11</td>\n",
       "      <td>2023-02-11</td>\n",
       "      <td>202302</td>\n",
       "    </tr>\n",
       "  </tbody>\n",
       "</table>\n",
       "<p>1443 rows × 18 columns</p>\n",
       "</div>"
      ],
      "text/plain": [
       "         CustomerID ActionType  GoodsCode   Price       AdID     CPC  \\\n",
       "697             152       view       1033  114120        NaN     NaN   \n",
       "1423            340       view       1328    9110        NaN     NaN   \n",
       "2088            539   ad_click       1108   34540  ad_google  201.92   \n",
       "2089            539       view       1108   34540        NaN     NaN   \n",
       "2090            539     basket       1108   34540        NaN     NaN   \n",
       "...             ...        ...        ...     ...        ...     ...   \n",
       "3086344      896087       view       1032    6260        NaN     NaN   \n",
       "3089107      897119       view       1366   10130        NaN     NaN   \n",
       "3093989      898801       view       1468   74800        NaN     NaN   \n",
       "3093990      898801       view       1468   74800        NaN     NaN   \n",
       "3093991      898801     basket       1468   74800        NaN     NaN   \n",
       "\n",
       "                         Timestamp  GoodsCode_ad      eval_type cluster_plus  \\\n",
       "697     2023-01-19 06:33:34.511967            -1    not_ad_view            1   \n",
       "1423    2023-02-03 19:22:37.511967            -1    not_ad_view            3   \n",
       "2088    2023-01-10 21:35:42.127184          1108       ad_click            3   \n",
       "2089    2023-01-10 23:38:34.127184          1108        ad_view            3   \n",
       "2090    2023-01-11 20:39:14.127184          1108      ad_basket            3   \n",
       "...                            ...           ...            ...          ...   \n",
       "3086344 2023-02-08 18:41:17.127184            -1    not_ad_view          NaN   \n",
       "3089107 2023-02-13 13:01:24.127184            -1    not_ad_view          NaN   \n",
       "3093989 2023-01-07 16:46:36.127184            -1    not_ad_view            3   \n",
       "3093990 2023-02-02 01:31:20.127184            -1    not_ad_view            3   \n",
       "3093991 2023-02-11 09:03:40.127184            -1  not_ad_basket            3   \n",
       "\n",
       "              Category  OriginalPrice  Inventory  year  month  day  \\\n",
       "697        Electronics         114120       3541  2023      1   19   \n",
       "1423          Clothing           9110       6126  2023      2    3   \n",
       "2088     Home & Garden          34540       3322  2023      1   10   \n",
       "2089     Home & Garden          34540       3322  2023      1   10   \n",
       "2090     Home & Garden          34540       3322  2023      1   11   \n",
       "...                ...            ...        ...   ...    ...  ...   \n",
       "3086344          Books           6260       2301  2023      2    8   \n",
       "3089107          Books          10130       1984  2023      2   13   \n",
       "3093989    Electronics          74800       1306  2023      1    7   \n",
       "3093990    Electronics          74800       1306  2023      2    2   \n",
       "3093991    Electronics          74800       1306  2023      2   11   \n",
       "\n",
       "               date  YearMonth  \n",
       "697      2023-01-19     202301  \n",
       "1423     2023-02-03     202302  \n",
       "2088     2023-01-10     202301  \n",
       "2089     2023-01-10     202301  \n",
       "2090     2023-01-11     202301  \n",
       "...             ...        ...  \n",
       "3086344  2023-02-08     202302  \n",
       "3089107  2023-02-13     202302  \n",
       "3093989  2023-01-07     202301  \n",
       "3093990  2023-02-02     202302  \n",
       "3093991  2023-02-11     202302  \n",
       "\n",
       "[1443 rows x 18 columns]"
      ]
     },
     "execution_count": 175,
     "metadata": {},
     "output_type": "execute_result"
    }
   ],
   "source": [
    "recent_customer = df[df['Timestamp'] >= '2023-01-01']\n",
    "recent_customer"
   ]
  },
  {
   "cell_type": "code",
   "execution_count": 176,
   "metadata": {},
   "outputs": [
    {
     "data": {
      "text/html": [
       "<div>\n",
       "<style scoped>\n",
       "    .dataframe tbody tr th:only-of-type {\n",
       "        vertical-align: middle;\n",
       "    }\n",
       "\n",
       "    .dataframe tbody tr th {\n",
       "        vertical-align: top;\n",
       "    }\n",
       "\n",
       "    .dataframe thead th {\n",
       "        text-align: right;\n",
       "    }\n",
       "</style>\n",
       "<table border=\"1\" class=\"dataframe\">\n",
       "  <thead>\n",
       "    <tr style=\"text-align: right;\">\n",
       "      <th></th>\n",
       "      <th>CustomerID</th>\n",
       "      <th>ActionType</th>\n",
       "      <th>GoodsCode</th>\n",
       "      <th>Price</th>\n",
       "      <th>AdID</th>\n",
       "      <th>CPC</th>\n",
       "      <th>Timestamp</th>\n",
       "      <th>GoodsCode_ad</th>\n",
       "      <th>eval_type</th>\n",
       "      <th>cluster_plus</th>\n",
       "      <th>Category</th>\n",
       "      <th>OriginalPrice</th>\n",
       "      <th>Inventory</th>\n",
       "      <th>year</th>\n",
       "      <th>month</th>\n",
       "      <th>day</th>\n",
       "      <th>date</th>\n",
       "      <th>YearMonth</th>\n",
       "    </tr>\n",
       "  </thead>\n",
       "  <tbody>\n",
       "    <tr>\n",
       "      <th>37676</th>\n",
       "      <td>9715</td>\n",
       "      <td>view</td>\n",
       "      <td>1245</td>\n",
       "      <td>37160</td>\n",
       "      <td>NaN</td>\n",
       "      <td>NaN</td>\n",
       "      <td>2023-06-11 10:58:15.127184</td>\n",
       "      <td>-1</td>\n",
       "      <td>not_ad_view</td>\n",
       "      <td>4</td>\n",
       "      <td>Home &amp; Garden</td>\n",
       "      <td>37160</td>\n",
       "      <td>8490</td>\n",
       "      <td>2023</td>\n",
       "      <td>6</td>\n",
       "      <td>11</td>\n",
       "      <td>2023-06-11</td>\n",
       "      <td>202306</td>\n",
       "    </tr>\n",
       "  </tbody>\n",
       "</table>\n",
       "</div>"
      ],
      "text/plain": [
       "       CustomerID ActionType  GoodsCode  Price AdID  CPC  \\\n",
       "37676        9715       view       1245  37160  NaN  NaN   \n",
       "\n",
       "                       Timestamp  GoodsCode_ad    eval_type cluster_plus  \\\n",
       "37676 2023-06-11 10:58:15.127184            -1  not_ad_view            4   \n",
       "\n",
       "            Category  OriginalPrice  Inventory  year  month  day        date  \\\n",
       "37676  Home & Garden          37160       8490  2023      6   11  2023-06-11   \n",
       "\n",
       "       YearMonth  \n",
       "37676     202306  "
      ]
     },
     "execution_count": 176,
     "metadata": {},
     "output_type": "execute_result"
    }
   ],
   "source": [
    "recent_customer[recent_customer['CustomerID']==9715]"
   ]
  },
  {
   "cell_type": "code",
   "execution_count": 177,
   "metadata": {},
   "outputs": [
    {
     "name": "stderr",
     "output_type": "stream",
     "text": [
      "/var/folders/qv/tqmmyp0s5dj996k_tcvqmtqm0000gn/T/ipykernel_3012/632230528.py:3: FutureWarning:\n",
      "\n",
      "The provided callable <built-in function max> is currently using SeriesGroupBy.max. In a future version of pandas, the provided callable will be used directly. To keep current behavior pass the string \"max\" instead.\n",
      "\n"
     ]
    },
    {
     "data": {
      "text/html": [
       "<div>\n",
       "<style scoped>\n",
       "    .dataframe tbody tr th:only-of-type {\n",
       "        vertical-align: middle;\n",
       "    }\n",
       "\n",
       "    .dataframe tbody tr th {\n",
       "        vertical-align: top;\n",
       "    }\n",
       "\n",
       "    .dataframe thead th {\n",
       "        text-align: right;\n",
       "    }\n",
       "</style>\n",
       "<table border=\"1\" class=\"dataframe\">\n",
       "  <thead>\n",
       "    <tr style=\"text-align: right;\">\n",
       "      <th></th>\n",
       "      <th>YearMonth</th>\n",
       "      <th>CustomerID</th>\n",
       "      <th>Counts</th>\n",
       "    </tr>\n",
       "  </thead>\n",
       "  <tbody>\n",
       "    <tr>\n",
       "      <th>192</th>\n",
       "      <td>202301</td>\n",
       "      <td>153088</td>\n",
       "      <td>5</td>\n",
       "    </tr>\n",
       "    <tr>\n",
       "      <th>269</th>\n",
       "      <td>202301</td>\n",
       "      <td>215012</td>\n",
       "      <td>5</td>\n",
       "    </tr>\n",
       "    <tr>\n",
       "      <th>371</th>\n",
       "      <td>202301</td>\n",
       "      <td>324355</td>\n",
       "      <td>5</td>\n",
       "    </tr>\n",
       "    <tr>\n",
       "      <th>372</th>\n",
       "      <td>202301</td>\n",
       "      <td>328665</td>\n",
       "      <td>5</td>\n",
       "    </tr>\n",
       "    <tr>\n",
       "      <th>698</th>\n",
       "      <td>202302</td>\n",
       "      <td>216184</td>\n",
       "      <td>5</td>\n",
       "    </tr>\n",
       "    <tr>\n",
       "      <th>794</th>\n",
       "      <td>202302</td>\n",
       "      <td>719538</td>\n",
       "      <td>5</td>\n",
       "    </tr>\n",
       "    <tr>\n",
       "      <th>842</th>\n",
       "      <td>202303</td>\n",
       "      <td>64517</td>\n",
       "      <td>4</td>\n",
       "    </tr>\n",
       "    <tr>\n",
       "      <th>931</th>\n",
       "      <td>202304</td>\n",
       "      <td>120692</td>\n",
       "      <td>4</td>\n",
       "    </tr>\n",
       "    <tr>\n",
       "      <th>967</th>\n",
       "      <td>202305</td>\n",
       "      <td>346504</td>\n",
       "      <td>3</td>\n",
       "    </tr>\n",
       "    <tr>\n",
       "      <th>972</th>\n",
       "      <td>202306</td>\n",
       "      <td>9715</td>\n",
       "      <td>1</td>\n",
       "    </tr>\n",
       "  </tbody>\n",
       "</table>\n",
       "</div>"
      ],
      "text/plain": [
       "     YearMonth  CustomerID  Counts\n",
       "192     202301      153088       5\n",
       "269     202301      215012       5\n",
       "371     202301      324355       5\n",
       "372     202301      328665       5\n",
       "698     202302      216184       5\n",
       "794     202302      719538       5\n",
       "842     202303       64517       4\n",
       "931     202304      120692       4\n",
       "967     202305      346504       3\n",
       "972     202306        9715       1"
      ]
     },
     "execution_count": 177,
     "metadata": {},
     "output_type": "execute_result"
    }
   ],
   "source": [
    "# 월별 가장 많이 접속한 CustomerID 찾기\n",
    "monthly_most_active_customer = recent_customer.groupby(['YearMonth', 'CustomerID']).size().reset_index(name='Counts')\n",
    "idx = monthly_most_active_customer.groupby(['YearMonth'])['Counts'].transform(max) == monthly_most_active_customer['Counts']\n",
    "monthly_most_active_customer[idx]\n"
   ]
  },
  {
   "cell_type": "code",
   "execution_count": 178,
   "metadata": {},
   "outputs": [
    {
     "name": "stdout",
     "output_type": "stream",
     "text": [
      "퍼널 카운트: {'view': 1443, 'basket': 356, 'purchase': 186}\n",
      "월별 가장 많이 view한 카테고리: Books\n",
      "월별 가장 많이 basket한 카테고리: Electronics\n",
      "월별 가장 많이 purchase한 카테고리: Electronics\n"
     ]
    }
   ],
   "source": [
    "from collections import defaultdict\n",
    "\n",
    "# 각 카테고리별 퍼널 카운트 딕셔너리 초기화\n",
    "df_ad_funnel_adpurchase_counts1 = {'view': 0, 'basket': 0, 'purchase': 0}\n",
    "\n",
    "# 월별로 가장 많이 view한 카테고리, 가장 많이 basket한 카테고리, 가장 많이 purchase한 카테고리를 저장할 딕셔너리 초기화\n",
    "most_viewed_category = defaultdict(int)\n",
    "most_basket_category = defaultdict(int)\n",
    "most_purchase_category = defaultdict(int)\n",
    "\n",
    "# 퍼널을 계산\n",
    "for idx, row in recent_customer.iterrows():\n",
    "    if row['ActionType'] == 'ad_click':\n",
    "        df_ad_funnel_adpurchase_counts1['view'] += 1\n",
    "    elif row['ActionType'] == 'view':\n",
    "        df_ad_funnel_adpurchase_counts1['view'] += 1\n",
    "        most_viewed_category[row['Category']] += 1\n",
    "    elif row['ActionType'] == 'basket':\n",
    "        df_ad_funnel_adpurchase_counts1['basket'] += 1\n",
    "        df_ad_funnel_adpurchase_counts1['view'] += 1\n",
    "        most_basket_category[row['Category']] += 1\n",
    "    elif row['ActionType'] == 'purchase':\n",
    "        df_ad_funnel_adpurchase_counts1['purchase'] += 1\n",
    "        df_ad_funnel_adpurchase_counts1['view'] += 1\n",
    "        df_ad_funnel_adpurchase_counts1['basket'] += 1\n",
    "        most_purchase_category[row['Category']] += 1\n",
    "\n",
    "print(\"퍼널 카운트:\", df_ad_funnel_adpurchase_counts1)\n",
    "print(\"월별 가장 많이 view한 카테고리:\", max(most_viewed_category, key=most_viewed_category.get))\n",
    "print(\"월별 가장 많이 basket한 카테고리:\", max(most_basket_category, key=most_basket_category.get))\n",
    "print(\"월별 가장 많이 purchase한 카테고리:\", max(most_purchase_category, key=most_purchase_category.get))\n"
   ]
  },
  {
   "cell_type": "code",
   "execution_count": 179,
   "metadata": {},
   "outputs": [
    {
     "data": {
      "text/plain": [
       "defaultdict(int,\n",
       "            {'Electronics': 207,\n",
       "             'Clothing': 165,\n",
       "             'Home & Garden': 152,\n",
       "             'Books': 223,\n",
       "             'Health & Beauty': 182})"
      ]
     },
     "execution_count": 179,
     "metadata": {},
     "output_type": "execute_result"
    }
   ],
   "source": [
    "most_viewed_category"
   ]
  },
  {
   "cell_type": "code",
   "execution_count": 180,
   "metadata": {},
   "outputs": [
    {
     "data": {
      "text/plain": [
       "defaultdict(int,\n",
       "            {'Home & Garden': 19,\n",
       "             'Books': 36,\n",
       "             'Electronics': 49,\n",
       "             'Health & Beauty': 36,\n",
       "             'Clothing': 30})"
      ]
     },
     "execution_count": 180,
     "metadata": {},
     "output_type": "execute_result"
    }
   ],
   "source": [
    "most_basket_category"
   ]
  },
  {
   "cell_type": "code",
   "execution_count": null,
   "metadata": {},
   "outputs": [],
   "source": []
  },
  {
   "cell_type": "markdown",
   "metadata": {},
   "source": [
    "## 클러스터별 organic과 광고 기반 구매 비율 확인 (광고 효율 파악)\n",
    "\n",
    "### 이탈고객 "
   ]
  },
  {
   "cell_type": "code",
   "execution_count": 181,
   "metadata": {},
   "outputs": [
    {
     "data": {
      "text/html": [
       "<div>\n",
       "<style scoped>\n",
       "    .dataframe tbody tr th:only-of-type {\n",
       "        vertical-align: middle;\n",
       "    }\n",
       "\n",
       "    .dataframe tbody tr th {\n",
       "        vertical-align: top;\n",
       "    }\n",
       "\n",
       "    .dataframe thead th {\n",
       "        text-align: right;\n",
       "    }\n",
       "</style>\n",
       "<table border=\"1\" class=\"dataframe\">\n",
       "  <thead>\n",
       "    <tr style=\"text-align: right;\">\n",
       "      <th></th>\n",
       "      <th>CustomerID</th>\n",
       "      <th>ActionType</th>\n",
       "      <th>GoodsCode</th>\n",
       "      <th>Price</th>\n",
       "      <th>AdID</th>\n",
       "      <th>CPC</th>\n",
       "      <th>Timestamp</th>\n",
       "      <th>GoodsCode_ad</th>\n",
       "      <th>eval_type</th>\n",
       "      <th>cluster_plus</th>\n",
       "      <th>Category</th>\n",
       "      <th>OriginalPrice</th>\n",
       "      <th>Inventory</th>\n",
       "      <th>year</th>\n",
       "      <th>month</th>\n",
       "      <th>day</th>\n",
       "      <th>date</th>\n",
       "      <th>YearMonth</th>\n",
       "    </tr>\n",
       "  </thead>\n",
       "  <tbody>\n",
       "    <tr>\n",
       "      <th>0</th>\n",
       "      <td>4</td>\n",
       "      <td>view</td>\n",
       "      <td>1492</td>\n",
       "      <td>15020</td>\n",
       "      <td>NaN</td>\n",
       "      <td>NaN</td>\n",
       "      <td>2022-07-04 15:11:42.511967</td>\n",
       "      <td>-1</td>\n",
       "      <td>not_ad_view</td>\n",
       "      <td>NaN</td>\n",
       "      <td>Books</td>\n",
       "      <td>15020</td>\n",
       "      <td>6631</td>\n",
       "      <td>2022</td>\n",
       "      <td>7</td>\n",
       "      <td>4</td>\n",
       "      <td>2022-07-04</td>\n",
       "      <td>202207</td>\n",
       "    </tr>\n",
       "    <tr>\n",
       "      <th>1</th>\n",
       "      <td>4</td>\n",
       "      <td>view</td>\n",
       "      <td>1492</td>\n",
       "      <td>15020</td>\n",
       "      <td>NaN</td>\n",
       "      <td>NaN</td>\n",
       "      <td>2022-07-24 14:44:40.511967</td>\n",
       "      <td>-1</td>\n",
       "      <td>not_ad_view</td>\n",
       "      <td>NaN</td>\n",
       "      <td>Books</td>\n",
       "      <td>15020</td>\n",
       "      <td>6631</td>\n",
       "      <td>2022</td>\n",
       "      <td>7</td>\n",
       "      <td>24</td>\n",
       "      <td>2022-07-24</td>\n",
       "      <td>202207</td>\n",
       "    </tr>\n",
       "    <tr>\n",
       "      <th>2</th>\n",
       "      <td>6</td>\n",
       "      <td>view</td>\n",
       "      <td>1415</td>\n",
       "      <td>12980</td>\n",
       "      <td>NaN</td>\n",
       "      <td>NaN</td>\n",
       "      <td>2022-04-22 15:49:44.166991</td>\n",
       "      <td>-1</td>\n",
       "      <td>not_ad_view</td>\n",
       "      <td>4</td>\n",
       "      <td>Health &amp; Beauty</td>\n",
       "      <td>12980</td>\n",
       "      <td>9905</td>\n",
       "      <td>2022</td>\n",
       "      <td>4</td>\n",
       "      <td>22</td>\n",
       "      <td>2022-04-22</td>\n",
       "      <td>202204</td>\n",
       "    </tr>\n",
       "    <tr>\n",
       "      <th>3</th>\n",
       "      <td>6</td>\n",
       "      <td>purchase</td>\n",
       "      <td>1437</td>\n",
       "      <td>35290</td>\n",
       "      <td>NaN</td>\n",
       "      <td>NaN</td>\n",
       "      <td>2022-04-26 21:46:00.166991</td>\n",
       "      <td>-1</td>\n",
       "      <td>not_ad_purchase</td>\n",
       "      <td>4</td>\n",
       "      <td>Home &amp; Garden</td>\n",
       "      <td>35290</td>\n",
       "      <td>3056</td>\n",
       "      <td>2022</td>\n",
       "      <td>4</td>\n",
       "      <td>26</td>\n",
       "      <td>2022-04-26</td>\n",
       "      <td>202204</td>\n",
       "    </tr>\n",
       "    <tr>\n",
       "      <th>4</th>\n",
       "      <td>6</td>\n",
       "      <td>view</td>\n",
       "      <td>1217</td>\n",
       "      <td>16220</td>\n",
       "      <td>NaN</td>\n",
       "      <td>NaN</td>\n",
       "      <td>2022-05-03 14:26:12.811783</td>\n",
       "      <td>-1</td>\n",
       "      <td>not_ad_view</td>\n",
       "      <td>4</td>\n",
       "      <td>Books</td>\n",
       "      <td>16220</td>\n",
       "      <td>6429</td>\n",
       "      <td>2022</td>\n",
       "      <td>5</td>\n",
       "      <td>3</td>\n",
       "      <td>2022-05-03</td>\n",
       "      <td>202205</td>\n",
       "    </tr>\n",
       "    <tr>\n",
       "      <th>...</th>\n",
       "      <td>...</td>\n",
       "      <td>...</td>\n",
       "      <td>...</td>\n",
       "      <td>...</td>\n",
       "      <td>...</td>\n",
       "      <td>...</td>\n",
       "      <td>...</td>\n",
       "      <td>...</td>\n",
       "      <td>...</td>\n",
       "      <td>...</td>\n",
       "      <td>...</td>\n",
       "      <td>...</td>\n",
       "      <td>...</td>\n",
       "      <td>...</td>\n",
       "      <td>...</td>\n",
       "      <td>...</td>\n",
       "      <td>...</td>\n",
       "      <td>...</td>\n",
       "    </tr>\n",
       "    <tr>\n",
       "      <th>3096926</th>\n",
       "      <td>899999</td>\n",
       "      <td>view</td>\n",
       "      <td>1059</td>\n",
       "      <td>21230</td>\n",
       "      <td>NaN</td>\n",
       "      <td>NaN</td>\n",
       "      <td>2022-05-22 12:51:15.722389</td>\n",
       "      <td>-1</td>\n",
       "      <td>not_ad_view</td>\n",
       "      <td>4</td>\n",
       "      <td>Clothing</td>\n",
       "      <td>21230</td>\n",
       "      <td>4629</td>\n",
       "      <td>2022</td>\n",
       "      <td>5</td>\n",
       "      <td>22</td>\n",
       "      <td>2022-05-22</td>\n",
       "      <td>202205</td>\n",
       "    </tr>\n",
       "    <tr>\n",
       "      <th>3096927</th>\n",
       "      <td>899999</td>\n",
       "      <td>basket</td>\n",
       "      <td>1059</td>\n",
       "      <td>21230</td>\n",
       "      <td>NaN</td>\n",
       "      <td>NaN</td>\n",
       "      <td>2022-05-23 01:28:11.722389</td>\n",
       "      <td>-1</td>\n",
       "      <td>not_ad_basket</td>\n",
       "      <td>4</td>\n",
       "      <td>Clothing</td>\n",
       "      <td>21230</td>\n",
       "      <td>4629</td>\n",
       "      <td>2022</td>\n",
       "      <td>5</td>\n",
       "      <td>23</td>\n",
       "      <td>2022-05-23</td>\n",
       "      <td>202205</td>\n",
       "    </tr>\n",
       "    <tr>\n",
       "      <th>3096928</th>\n",
       "      <td>899999</td>\n",
       "      <td>view</td>\n",
       "      <td>1059</td>\n",
       "      <td>21230</td>\n",
       "      <td>NaN</td>\n",
       "      <td>NaN</td>\n",
       "      <td>2022-05-24 04:40:26.722389</td>\n",
       "      <td>-1</td>\n",
       "      <td>not_ad_view</td>\n",
       "      <td>4</td>\n",
       "      <td>Clothing</td>\n",
       "      <td>21230</td>\n",
       "      <td>4629</td>\n",
       "      <td>2022</td>\n",
       "      <td>5</td>\n",
       "      <td>24</td>\n",
       "      <td>2022-05-24</td>\n",
       "      <td>202205</td>\n",
       "    </tr>\n",
       "    <tr>\n",
       "      <th>3096929</th>\n",
       "      <td>899999</td>\n",
       "      <td>purchase</td>\n",
       "      <td>1034</td>\n",
       "      <td>12910</td>\n",
       "      <td>NaN</td>\n",
       "      <td>NaN</td>\n",
       "      <td>2022-06-20 03:40:43.722389</td>\n",
       "      <td>-1</td>\n",
       "      <td>not_ad_purchase</td>\n",
       "      <td>4</td>\n",
       "      <td>Home &amp; Garden</td>\n",
       "      <td>12910</td>\n",
       "      <td>3051</td>\n",
       "      <td>2022</td>\n",
       "      <td>6</td>\n",
       "      <td>20</td>\n",
       "      <td>2022-06-20</td>\n",
       "      <td>202206</td>\n",
       "    </tr>\n",
       "    <tr>\n",
       "      <th>3096930</th>\n",
       "      <td>899999</td>\n",
       "      <td>view</td>\n",
       "      <td>1168</td>\n",
       "      <td>91680</td>\n",
       "      <td>NaN</td>\n",
       "      <td>NaN</td>\n",
       "      <td>2022-06-23 08:16:44.304854</td>\n",
       "      <td>-1</td>\n",
       "      <td>not_ad_view</td>\n",
       "      <td>4</td>\n",
       "      <td>Electronics</td>\n",
       "      <td>91680</td>\n",
       "      <td>8694</td>\n",
       "      <td>2022</td>\n",
       "      <td>6</td>\n",
       "      <td>23</td>\n",
       "      <td>2022-06-23</td>\n",
       "      <td>202206</td>\n",
       "    </tr>\n",
       "  </tbody>\n",
       "</table>\n",
       "<p>3096931 rows × 18 columns</p>\n",
       "</div>"
      ],
      "text/plain": [
       "         CustomerID ActionType  GoodsCode  Price AdID  CPC  \\\n",
       "0                 4       view       1492  15020  NaN  NaN   \n",
       "1                 4       view       1492  15020  NaN  NaN   \n",
       "2                 6       view       1415  12980  NaN  NaN   \n",
       "3                 6   purchase       1437  35290  NaN  NaN   \n",
       "4                 6       view       1217  16220  NaN  NaN   \n",
       "...             ...        ...        ...    ...  ...  ...   \n",
       "3096926      899999       view       1059  21230  NaN  NaN   \n",
       "3096927      899999     basket       1059  21230  NaN  NaN   \n",
       "3096928      899999       view       1059  21230  NaN  NaN   \n",
       "3096929      899999   purchase       1034  12910  NaN  NaN   \n",
       "3096930      899999       view       1168  91680  NaN  NaN   \n",
       "\n",
       "                         Timestamp  GoodsCode_ad        eval_type  \\\n",
       "0       2022-07-04 15:11:42.511967            -1      not_ad_view   \n",
       "1       2022-07-24 14:44:40.511967            -1      not_ad_view   \n",
       "2       2022-04-22 15:49:44.166991            -1      not_ad_view   \n",
       "3       2022-04-26 21:46:00.166991            -1  not_ad_purchase   \n",
       "4       2022-05-03 14:26:12.811783            -1      not_ad_view   \n",
       "...                            ...           ...              ...   \n",
       "3096926 2022-05-22 12:51:15.722389            -1      not_ad_view   \n",
       "3096927 2022-05-23 01:28:11.722389            -1    not_ad_basket   \n",
       "3096928 2022-05-24 04:40:26.722389            -1      not_ad_view   \n",
       "3096929 2022-06-20 03:40:43.722389            -1  not_ad_purchase   \n",
       "3096930 2022-06-23 08:16:44.304854            -1      not_ad_view   \n",
       "\n",
       "        cluster_plus         Category  OriginalPrice  Inventory  year  month  \\\n",
       "0                NaN            Books          15020       6631  2022      7   \n",
       "1                NaN            Books          15020       6631  2022      7   \n",
       "2                  4  Health & Beauty          12980       9905  2022      4   \n",
       "3                  4    Home & Garden          35290       3056  2022      4   \n",
       "4                  4            Books          16220       6429  2022      5   \n",
       "...              ...              ...            ...        ...   ...    ...   \n",
       "3096926            4         Clothing          21230       4629  2022      5   \n",
       "3096927            4         Clothing          21230       4629  2022      5   \n",
       "3096928            4         Clothing          21230       4629  2022      5   \n",
       "3096929            4    Home & Garden          12910       3051  2022      6   \n",
       "3096930            4      Electronics          91680       8694  2022      6   \n",
       "\n",
       "         day        date  YearMonth  \n",
       "0          4  2022-07-04     202207  \n",
       "1         24  2022-07-24     202207  \n",
       "2         22  2022-04-22     202204  \n",
       "3         26  2022-04-26     202204  \n",
       "4          3  2022-05-03     202205  \n",
       "...      ...         ...        ...  \n",
       "3096926   22  2022-05-22     202205  \n",
       "3096927   23  2022-05-23     202205  \n",
       "3096928   24  2022-05-24     202205  \n",
       "3096929   20  2022-06-20     202206  \n",
       "3096930   23  2022-06-23     202206  \n",
       "\n",
       "[3096931 rows x 18 columns]"
      ]
     },
     "execution_count": 181,
     "metadata": {},
     "output_type": "execute_result"
    }
   ],
   "source": [
    "df"
   ]
  },
  {
   "cell_type": "code",
   "execution_count": 182,
   "metadata": {},
   "outputs": [
    {
     "data": {
      "text/html": [
       "<div>\n",
       "<style scoped>\n",
       "    .dataframe tbody tr th:only-of-type {\n",
       "        vertical-align: middle;\n",
       "    }\n",
       "\n",
       "    .dataframe tbody tr th {\n",
       "        vertical-align: top;\n",
       "    }\n",
       "\n",
       "    .dataframe thead th {\n",
       "        text-align: right;\n",
       "    }\n",
       "</style>\n",
       "<table border=\"1\" class=\"dataframe\">\n",
       "  <thead>\n",
       "    <tr style=\"text-align: right;\">\n",
       "      <th></th>\n",
       "      <th>CustomerID</th>\n",
       "      <th>ActionType</th>\n",
       "      <th>GoodsCode</th>\n",
       "      <th>Price</th>\n",
       "      <th>AdID</th>\n",
       "      <th>CPC</th>\n",
       "      <th>Timestamp</th>\n",
       "      <th>GoodsCode_ad</th>\n",
       "      <th>eval_type</th>\n",
       "      <th>cluster_plus</th>\n",
       "      <th>Category</th>\n",
       "      <th>OriginalPrice</th>\n",
       "      <th>Inventory</th>\n",
       "      <th>year</th>\n",
       "      <th>month</th>\n",
       "      <th>day</th>\n",
       "      <th>date</th>\n",
       "      <th>YearMonth</th>\n",
       "    </tr>\n",
       "  </thead>\n",
       "  <tbody>\n",
       "    <tr>\n",
       "      <th>112</th>\n",
       "      <td>28</td>\n",
       "      <td>purchase</td>\n",
       "      <td>1154</td>\n",
       "      <td>15360</td>\n",
       "      <td>NaN</td>\n",
       "      <td>NaN</td>\n",
       "      <td>2022-03-02 01:31:50.038511</td>\n",
       "      <td>-1</td>\n",
       "      <td>not_ad_purchase</td>\n",
       "      <td>0</td>\n",
       "      <td>Home &amp; Garden</td>\n",
       "      <td>15360</td>\n",
       "      <td>2466</td>\n",
       "      <td>2022</td>\n",
       "      <td>3</td>\n",
       "      <td>2</td>\n",
       "      <td>2022-03-02</td>\n",
       "      <td>202203</td>\n",
       "    </tr>\n",
       "    <tr>\n",
       "      <th>182</th>\n",
       "      <td>33</td>\n",
       "      <td>purchase</td>\n",
       "      <td>1149</td>\n",
       "      <td>17780</td>\n",
       "      <td>NaN</td>\n",
       "      <td>NaN</td>\n",
       "      <td>2022-04-09 16:39:01.486139</td>\n",
       "      <td>-1</td>\n",
       "      <td>not_ad_purchase</td>\n",
       "      <td>0</td>\n",
       "      <td>Books</td>\n",
       "      <td>17780</td>\n",
       "      <td>4294</td>\n",
       "      <td>2022</td>\n",
       "      <td>4</td>\n",
       "      <td>9</td>\n",
       "      <td>2022-04-09</td>\n",
       "      <td>202204</td>\n",
       "    </tr>\n",
       "    <tr>\n",
       "      <th>188</th>\n",
       "      <td>33</td>\n",
       "      <td>purchase</td>\n",
       "      <td>1022</td>\n",
       "      <td>5860</td>\n",
       "      <td>NaN</td>\n",
       "      <td>NaN</td>\n",
       "      <td>2022-06-12 03:45:17.486139</td>\n",
       "      <td>-1</td>\n",
       "      <td>not_ad_purchase</td>\n",
       "      <td>0</td>\n",
       "      <td>Books</td>\n",
       "      <td>5860</td>\n",
       "      <td>5831</td>\n",
       "      <td>2022</td>\n",
       "      <td>6</td>\n",
       "      <td>12</td>\n",
       "      <td>2022-06-12</td>\n",
       "      <td>202206</td>\n",
       "    </tr>\n",
       "    <tr>\n",
       "      <th>231</th>\n",
       "      <td>57</td>\n",
       "      <td>purchase</td>\n",
       "      <td>1266</td>\n",
       "      <td>7800</td>\n",
       "      <td>NaN</td>\n",
       "      <td>NaN</td>\n",
       "      <td>2022-04-24 12:37:44.511967</td>\n",
       "      <td>-1</td>\n",
       "      <td>not_ad_purchase</td>\n",
       "      <td>0</td>\n",
       "      <td>Books</td>\n",
       "      <td>7800</td>\n",
       "      <td>2591</td>\n",
       "      <td>2022</td>\n",
       "      <td>4</td>\n",
       "      <td>24</td>\n",
       "      <td>2022-04-24</td>\n",
       "      <td>202204</td>\n",
       "    </tr>\n",
       "    <tr>\n",
       "      <th>299</th>\n",
       "      <td>81</td>\n",
       "      <td>purchase</td>\n",
       "      <td>1334</td>\n",
       "      <td>10890</td>\n",
       "      <td>NaN</td>\n",
       "      <td>NaN</td>\n",
       "      <td>2022-06-06 17:14:05.297618</td>\n",
       "      <td>-1</td>\n",
       "      <td>not_ad_purchase</td>\n",
       "      <td>0</td>\n",
       "      <td>Books</td>\n",
       "      <td>10890</td>\n",
       "      <td>7540</td>\n",
       "      <td>2022</td>\n",
       "      <td>6</td>\n",
       "      <td>6</td>\n",
       "      <td>2022-06-06</td>\n",
       "      <td>202206</td>\n",
       "    </tr>\n",
       "    <tr>\n",
       "      <th>...</th>\n",
       "      <td>...</td>\n",
       "      <td>...</td>\n",
       "      <td>...</td>\n",
       "      <td>...</td>\n",
       "      <td>...</td>\n",
       "      <td>...</td>\n",
       "      <td>...</td>\n",
       "      <td>...</td>\n",
       "      <td>...</td>\n",
       "      <td>...</td>\n",
       "      <td>...</td>\n",
       "      <td>...</td>\n",
       "      <td>...</td>\n",
       "      <td>...</td>\n",
       "      <td>...</td>\n",
       "      <td>...</td>\n",
       "      <td>...</td>\n",
       "      <td>...</td>\n",
       "    </tr>\n",
       "    <tr>\n",
       "      <th>3096797</th>\n",
       "      <td>899952</td>\n",
       "      <td>purchase</td>\n",
       "      <td>1498</td>\n",
       "      <td>54950</td>\n",
       "      <td>NaN</td>\n",
       "      <td>NaN</td>\n",
       "      <td>2022-06-03 09:59:50.440542</td>\n",
       "      <td>-1</td>\n",
       "      <td>not_ad_purchase</td>\n",
       "      <td>0</td>\n",
       "      <td>Electronics</td>\n",
       "      <td>54950</td>\n",
       "      <td>8904</td>\n",
       "      <td>2022</td>\n",
       "      <td>6</td>\n",
       "      <td>3</td>\n",
       "      <td>2022-06-03</td>\n",
       "      <td>202206</td>\n",
       "    </tr>\n",
       "    <tr>\n",
       "      <th>3096827</th>\n",
       "      <td>899965</td>\n",
       "      <td>purchase</td>\n",
       "      <td>1377</td>\n",
       "      <td>21030</td>\n",
       "      <td>NaN</td>\n",
       "      <td>NaN</td>\n",
       "      <td>2022-04-05 14:39:03.486139</td>\n",
       "      <td>-1</td>\n",
       "      <td>not_ad_purchase</td>\n",
       "      <td>0</td>\n",
       "      <td>Clothing</td>\n",
       "      <td>21030</td>\n",
       "      <td>9884</td>\n",
       "      <td>2022</td>\n",
       "      <td>4</td>\n",
       "      <td>5</td>\n",
       "      <td>2022-04-05</td>\n",
       "      <td>202204</td>\n",
       "    </tr>\n",
       "    <tr>\n",
       "      <th>3096839</th>\n",
       "      <td>899973</td>\n",
       "      <td>purchase</td>\n",
       "      <td>1396</td>\n",
       "      <td>18930</td>\n",
       "      <td>NaN</td>\n",
       "      <td>NaN</td>\n",
       "      <td>2022-06-16 13:05:53.038511</td>\n",
       "      <td>-1</td>\n",
       "      <td>not_ad_purchase</td>\n",
       "      <td>0</td>\n",
       "      <td>Health &amp; Beauty</td>\n",
       "      <td>18930</td>\n",
       "      <td>4788</td>\n",
       "      <td>2022</td>\n",
       "      <td>6</td>\n",
       "      <td>16</td>\n",
       "      <td>2022-06-16</td>\n",
       "      <td>202206</td>\n",
       "    </tr>\n",
       "    <tr>\n",
       "      <th>3096852</th>\n",
       "      <td>899987</td>\n",
       "      <td>purchase</td>\n",
       "      <td>1165</td>\n",
       "      <td>15940</td>\n",
       "      <td>NaN</td>\n",
       "      <td>NaN</td>\n",
       "      <td>2022-05-04 13:26:33.794648</td>\n",
       "      <td>-1</td>\n",
       "      <td>not_ad_purchase</td>\n",
       "      <td>0</td>\n",
       "      <td>Clothing</td>\n",
       "      <td>15940</td>\n",
       "      <td>5278</td>\n",
       "      <td>2022</td>\n",
       "      <td>5</td>\n",
       "      <td>4</td>\n",
       "      <td>2022-05-04</td>\n",
       "      <td>202205</td>\n",
       "    </tr>\n",
       "    <tr>\n",
       "      <th>3096856</th>\n",
       "      <td>899987</td>\n",
       "      <td>purchase</td>\n",
       "      <td>1289</td>\n",
       "      <td>11380</td>\n",
       "      <td>NaN</td>\n",
       "      <td>NaN</td>\n",
       "      <td>2022-06-02 08:28:29.794648</td>\n",
       "      <td>-1</td>\n",
       "      <td>not_ad_purchase</td>\n",
       "      <td>0</td>\n",
       "      <td>Books</td>\n",
       "      <td>11380</td>\n",
       "      <td>7506</td>\n",
       "      <td>2022</td>\n",
       "      <td>6</td>\n",
       "      <td>2</td>\n",
       "      <td>2022-06-02</td>\n",
       "      <td>202206</td>\n",
       "    </tr>\n",
       "  </tbody>\n",
       "</table>\n",
       "<p>122494 rows × 18 columns</p>\n",
       "</div>"
      ],
      "text/plain": [
       "         CustomerID ActionType  GoodsCode  Price AdID  CPC  \\\n",
       "112              28   purchase       1154  15360  NaN  NaN   \n",
       "182              33   purchase       1149  17780  NaN  NaN   \n",
       "188              33   purchase       1022   5860  NaN  NaN   \n",
       "231              57   purchase       1266   7800  NaN  NaN   \n",
       "299              81   purchase       1334  10890  NaN  NaN   \n",
       "...             ...        ...        ...    ...  ...  ...   \n",
       "3096797      899952   purchase       1498  54950  NaN  NaN   \n",
       "3096827      899965   purchase       1377  21030  NaN  NaN   \n",
       "3096839      899973   purchase       1396  18930  NaN  NaN   \n",
       "3096852      899987   purchase       1165  15940  NaN  NaN   \n",
       "3096856      899987   purchase       1289  11380  NaN  NaN   \n",
       "\n",
       "                         Timestamp  GoodsCode_ad        eval_type  \\\n",
       "112     2022-03-02 01:31:50.038511            -1  not_ad_purchase   \n",
       "182     2022-04-09 16:39:01.486139            -1  not_ad_purchase   \n",
       "188     2022-06-12 03:45:17.486139            -1  not_ad_purchase   \n",
       "231     2022-04-24 12:37:44.511967            -1  not_ad_purchase   \n",
       "299     2022-06-06 17:14:05.297618            -1  not_ad_purchase   \n",
       "...                            ...           ...              ...   \n",
       "3096797 2022-06-03 09:59:50.440542            -1  not_ad_purchase   \n",
       "3096827 2022-04-05 14:39:03.486139            -1  not_ad_purchase   \n",
       "3096839 2022-06-16 13:05:53.038511            -1  not_ad_purchase   \n",
       "3096852 2022-05-04 13:26:33.794648            -1  not_ad_purchase   \n",
       "3096856 2022-06-02 08:28:29.794648            -1  not_ad_purchase   \n",
       "\n",
       "        cluster_plus         Category  OriginalPrice  Inventory  year  month  \\\n",
       "112                0    Home & Garden          15360       2466  2022      3   \n",
       "182                0            Books          17780       4294  2022      4   \n",
       "188                0            Books           5860       5831  2022      6   \n",
       "231                0            Books           7800       2591  2022      4   \n",
       "299                0            Books          10890       7540  2022      6   \n",
       "...              ...              ...            ...        ...   ...    ...   \n",
       "3096797            0      Electronics          54950       8904  2022      6   \n",
       "3096827            0         Clothing          21030       9884  2022      4   \n",
       "3096839            0  Health & Beauty          18930       4788  2022      6   \n",
       "3096852            0         Clothing          15940       5278  2022      5   \n",
       "3096856            0            Books          11380       7506  2022      6   \n",
       "\n",
       "         day        date  YearMonth  \n",
       "112        2  2022-03-02     202203  \n",
       "182        9  2022-04-09     202204  \n",
       "188       12  2022-06-12     202206  \n",
       "231       24  2022-04-24     202204  \n",
       "299        6  2022-06-06     202206  \n",
       "...      ...         ...        ...  \n",
       "3096797    3  2022-06-03     202206  \n",
       "3096827    5  2022-04-05     202204  \n",
       "3096839   16  2022-06-16     202206  \n",
       "3096852    4  2022-05-04     202205  \n",
       "3096856    2  2022-06-02     202206  \n",
       "\n",
       "[122494 rows x 18 columns]"
      ]
     },
     "execution_count": 182,
     "metadata": {},
     "output_type": "execute_result"
    }
   ],
   "source": [
    "etal_purchase_ratio = df[df['ActionType']=='purchase']\n",
    "etal_purchase_ratio = etal_purchase_ratio[etal_purchase_ratio['cluster_plus']=='0']\n",
    "etal_purchase_ratio"
   ]
  },
  {
   "cell_type": "code",
   "execution_count": 183,
   "metadata": {},
   "outputs": [
    {
     "data": {
      "text/plain": [
       "eval_type\n",
       "not_ad_purchase      116990\n",
       "ad_purchase_other      3486\n",
       "ad_purchase            2018\n",
       "Name: count, dtype: int64"
      ]
     },
     "execution_count": 183,
     "metadata": {},
     "output_type": "execute_result"
    }
   ],
   "source": [
    "etal_purchase_ratio['eval_type'].value_counts()"
   ]
  },
  {
   "cell_type": "code",
   "execution_count": 199,
   "metadata": {},
   "outputs": [
    {
     "name": "stdout",
     "output_type": "stream",
     "text": [
      "유기적 구매 비율: 0.9550671869642595\n",
      "광고 기반 구매 비율: 0.016474276291083646\n",
      "광고 기여 구매 비율: 0.02845853674465688\n"
     ]
    }
   ],
   "source": [
    "# 유기적 구매 비율\n",
    "organic_purchase = etal_purchase_ratio[etal_purchase_ratio['eval_type']=='not_ad_purchase'].shape[0]\n",
    "# 광고 기여 구매 비율\n",
    "ad_con_purchase = etal_purchase_ratio[etal_purchase_ratio['eval_type']=='ad_purchase_other'].shape[0]\n",
    "# 광고 기반 구매 비율\n",
    "ad_based_purchase = etal_purchase_ratio[etal_purchase_ratio['eval_type']=='ad_purchase'].shape[0]\n",
    "\n",
    "# 비율 계산\n",
    "total_purchase = organic_purchase + ad_based_purchase + ad_con_purchase\n",
    "organic_purchase_ratio_etal = organic_purchase / total_purchase\n",
    "ad_based_purchase_ratio_etal = ad_based_purchase / total_purchase\n",
    "ad_con_purchase_ratio_etal = ad_con_purchase / total_purchase\n",
    "\n",
    "print('유기적 구매 비율:', organic_purchase_ratio_etal)\n",
    "print('광고 기반 구매 비율:', ad_based_purchase_ratio_etal)\n",
    "print('광고 기여 구매 비율:', ad_con_purchase_ratio_etal)\n"
   ]
  },
  {
   "cell_type": "code",
   "execution_count": 200,
   "metadata": {},
   "outputs": [
    {
     "data": {
      "text/plain": [
       "3486"
      ]
     },
     "execution_count": 200,
     "metadata": {},
     "output_type": "execute_result"
    }
   ],
   "source": [
    "ad_con_purchase"
   ]
  },
  {
   "cell_type": "markdown",
   "metadata": {},
   "source": [
    "### 우수고객"
   ]
  },
  {
   "cell_type": "code",
   "execution_count": 185,
   "metadata": {},
   "outputs": [
    {
     "data": {
      "text/html": [
       "<div>\n",
       "<style scoped>\n",
       "    .dataframe tbody tr th:only-of-type {\n",
       "        vertical-align: middle;\n",
       "    }\n",
       "\n",
       "    .dataframe tbody tr th {\n",
       "        vertical-align: top;\n",
       "    }\n",
       "\n",
       "    .dataframe thead th {\n",
       "        text-align: right;\n",
       "    }\n",
       "</style>\n",
       "<table border=\"1\" class=\"dataframe\">\n",
       "  <thead>\n",
       "    <tr style=\"text-align: right;\">\n",
       "      <th></th>\n",
       "      <th>CustomerID</th>\n",
       "      <th>ActionType</th>\n",
       "      <th>GoodsCode</th>\n",
       "      <th>Price</th>\n",
       "      <th>AdID</th>\n",
       "      <th>CPC</th>\n",
       "      <th>Timestamp</th>\n",
       "      <th>GoodsCode_ad</th>\n",
       "      <th>eval_type</th>\n",
       "      <th>cluster_plus</th>\n",
       "      <th>Category</th>\n",
       "      <th>OriginalPrice</th>\n",
       "      <th>Inventory</th>\n",
       "      <th>year</th>\n",
       "      <th>month</th>\n",
       "      <th>day</th>\n",
       "      <th>date</th>\n",
       "      <th>YearMonth</th>\n",
       "    </tr>\n",
       "  </thead>\n",
       "  <tbody>\n",
       "    <tr>\n",
       "      <th>74</th>\n",
       "      <td>17</td>\n",
       "      <td>purchase</td>\n",
       "      <td>1445</td>\n",
       "      <td>19950</td>\n",
       "      <td>NaN</td>\n",
       "      <td>NaN</td>\n",
       "      <td>2022-03-13 15:47:28.525882</td>\n",
       "      <td>-1</td>\n",
       "      <td>not_ad_purchase</td>\n",
       "      <td>1</td>\n",
       "      <td>Books</td>\n",
       "      <td>19950</td>\n",
       "      <td>9442</td>\n",
       "      <td>2022</td>\n",
       "      <td>3</td>\n",
       "      <td>13</td>\n",
       "      <td>2022-03-13</td>\n",
       "      <td>202203</td>\n",
       "    </tr>\n",
       "    <tr>\n",
       "      <th>78</th>\n",
       "      <td>17</td>\n",
       "      <td>purchase</td>\n",
       "      <td>1365</td>\n",
       "      <td>22540</td>\n",
       "      <td>NaN</td>\n",
       "      <td>NaN</td>\n",
       "      <td>2022-04-10 05:00:06.525882</td>\n",
       "      <td>-1</td>\n",
       "      <td>not_ad_purchase</td>\n",
       "      <td>1</td>\n",
       "      <td>Health &amp; Beauty</td>\n",
       "      <td>22540</td>\n",
       "      <td>7573</td>\n",
       "      <td>2022</td>\n",
       "      <td>4</td>\n",
       "      <td>10</td>\n",
       "      <td>2022-04-10</td>\n",
       "      <td>202204</td>\n",
       "    </tr>\n",
       "    <tr>\n",
       "      <th>82</th>\n",
       "      <td>17</td>\n",
       "      <td>purchase</td>\n",
       "      <td>1086</td>\n",
       "      <td>144050</td>\n",
       "      <td>NaN</td>\n",
       "      <td>NaN</td>\n",
       "      <td>2022-05-16 04:02:25.525882</td>\n",
       "      <td>-1</td>\n",
       "      <td>not_ad_purchase</td>\n",
       "      <td>1</td>\n",
       "      <td>Electronics</td>\n",
       "      <td>144050</td>\n",
       "      <td>8674</td>\n",
       "      <td>2022</td>\n",
       "      <td>5</td>\n",
       "      <td>16</td>\n",
       "      <td>2022-05-16</td>\n",
       "      <td>202205</td>\n",
       "    </tr>\n",
       "    <tr>\n",
       "      <th>87</th>\n",
       "      <td>17</td>\n",
       "      <td>purchase</td>\n",
       "      <td>1223</td>\n",
       "      <td>10530</td>\n",
       "      <td>NaN</td>\n",
       "      <td>NaN</td>\n",
       "      <td>2022-05-28 18:56:51.525882</td>\n",
       "      <td>-1</td>\n",
       "      <td>not_ad_purchase</td>\n",
       "      <td>1</td>\n",
       "      <td>Books</td>\n",
       "      <td>10530</td>\n",
       "      <td>1936</td>\n",
       "      <td>2022</td>\n",
       "      <td>5</td>\n",
       "      <td>28</td>\n",
       "      <td>2022-05-28</td>\n",
       "      <td>202205</td>\n",
       "    </tr>\n",
       "    <tr>\n",
       "      <th>93</th>\n",
       "      <td>17</td>\n",
       "      <td>purchase</td>\n",
       "      <td>1309</td>\n",
       "      <td>16910</td>\n",
       "      <td>NaN</td>\n",
       "      <td>NaN</td>\n",
       "      <td>2022-06-13 17:17:23.525882</td>\n",
       "      <td>-1</td>\n",
       "      <td>not_ad_purchase</td>\n",
       "      <td>1</td>\n",
       "      <td>Health &amp; Beauty</td>\n",
       "      <td>16910</td>\n",
       "      <td>2887</td>\n",
       "      <td>2022</td>\n",
       "      <td>6</td>\n",
       "      <td>13</td>\n",
       "      <td>2022-06-13</td>\n",
       "      <td>202206</td>\n",
       "    </tr>\n",
       "    <tr>\n",
       "      <th>...</th>\n",
       "      <td>...</td>\n",
       "      <td>...</td>\n",
       "      <td>...</td>\n",
       "      <td>...</td>\n",
       "      <td>...</td>\n",
       "      <td>...</td>\n",
       "      <td>...</td>\n",
       "      <td>...</td>\n",
       "      <td>...</td>\n",
       "      <td>...</td>\n",
       "      <td>...</td>\n",
       "      <td>...</td>\n",
       "      <td>...</td>\n",
       "      <td>...</td>\n",
       "      <td>...</td>\n",
       "      <td>...</td>\n",
       "      <td>...</td>\n",
       "      <td>...</td>\n",
       "    </tr>\n",
       "    <tr>\n",
       "      <th>3096800</th>\n",
       "      <td>899956</td>\n",
       "      <td>purchase</td>\n",
       "      <td>1385</td>\n",
       "      <td>78100</td>\n",
       "      <td>NaN</td>\n",
       "      <td>NaN</td>\n",
       "      <td>2022-03-01 23:59:55.368464</td>\n",
       "      <td>-1</td>\n",
       "      <td>not_ad_purchase</td>\n",
       "      <td>1</td>\n",
       "      <td>Electronics</td>\n",
       "      <td>78100</td>\n",
       "      <td>2763</td>\n",
       "      <td>2022</td>\n",
       "      <td>3</td>\n",
       "      <td>1</td>\n",
       "      <td>2022-03-01</td>\n",
       "      <td>202203</td>\n",
       "    </tr>\n",
       "    <tr>\n",
       "      <th>3096808</th>\n",
       "      <td>899956</td>\n",
       "      <td>purchase</td>\n",
       "      <td>1021</td>\n",
       "      <td>14890</td>\n",
       "      <td>NaN</td>\n",
       "      <td>NaN</td>\n",
       "      <td>2022-04-08 06:38:10.368464</td>\n",
       "      <td>-1</td>\n",
       "      <td>not_ad_purchase</td>\n",
       "      <td>1</td>\n",
       "      <td>Health &amp; Beauty</td>\n",
       "      <td>14890</td>\n",
       "      <td>5223</td>\n",
       "      <td>2022</td>\n",
       "      <td>4</td>\n",
       "      <td>8</td>\n",
       "      <td>2022-04-08</td>\n",
       "      <td>202204</td>\n",
       "    </tr>\n",
       "    <tr>\n",
       "      <th>3096816</th>\n",
       "      <td>899956</td>\n",
       "      <td>purchase</td>\n",
       "      <td>1118</td>\n",
       "      <td>101300</td>\n",
       "      <td>NaN</td>\n",
       "      <td>NaN</td>\n",
       "      <td>2022-05-20 23:43:13.368464</td>\n",
       "      <td>-1</td>\n",
       "      <td>not_ad_purchase</td>\n",
       "      <td>1</td>\n",
       "      <td>Electronics</td>\n",
       "      <td>101300</td>\n",
       "      <td>9407</td>\n",
       "      <td>2022</td>\n",
       "      <td>5</td>\n",
       "      <td>20</td>\n",
       "      <td>2022-05-20</td>\n",
       "      <td>202205</td>\n",
       "    </tr>\n",
       "    <tr>\n",
       "      <th>3096820</th>\n",
       "      <td>899956</td>\n",
       "      <td>purchase</td>\n",
       "      <td>1037</td>\n",
       "      <td>6630</td>\n",
       "      <td>NaN</td>\n",
       "      <td>NaN</td>\n",
       "      <td>2022-06-03 22:47:43.177535</td>\n",
       "      <td>-1</td>\n",
       "      <td>not_ad_purchase</td>\n",
       "      <td>1</td>\n",
       "      <td>Health &amp; Beauty</td>\n",
       "      <td>6630</td>\n",
       "      <td>9996</td>\n",
       "      <td>2022</td>\n",
       "      <td>6</td>\n",
       "      <td>3</td>\n",
       "      <td>2022-06-03</td>\n",
       "      <td>202206</td>\n",
       "    </tr>\n",
       "    <tr>\n",
       "      <th>3096822</th>\n",
       "      <td>899956</td>\n",
       "      <td>purchase</td>\n",
       "      <td>1118</td>\n",
       "      <td>101300</td>\n",
       "      <td>NaN</td>\n",
       "      <td>NaN</td>\n",
       "      <td>2022-06-11 03:18:35.368464</td>\n",
       "      <td>-1</td>\n",
       "      <td>not_ad_purchase</td>\n",
       "      <td>1</td>\n",
       "      <td>Electronics</td>\n",
       "      <td>101300</td>\n",
       "      <td>9407</td>\n",
       "      <td>2022</td>\n",
       "      <td>6</td>\n",
       "      <td>11</td>\n",
       "      <td>2022-06-11</td>\n",
       "      <td>202206</td>\n",
       "    </tr>\n",
       "  </tbody>\n",
       "</table>\n",
       "<p>84590 rows × 18 columns</p>\n",
       "</div>"
      ],
      "text/plain": [
       "         CustomerID ActionType  GoodsCode   Price AdID  CPC  \\\n",
       "74               17   purchase       1445   19950  NaN  NaN   \n",
       "78               17   purchase       1365   22540  NaN  NaN   \n",
       "82               17   purchase       1086  144050  NaN  NaN   \n",
       "87               17   purchase       1223   10530  NaN  NaN   \n",
       "93               17   purchase       1309   16910  NaN  NaN   \n",
       "...             ...        ...        ...     ...  ...  ...   \n",
       "3096800      899956   purchase       1385   78100  NaN  NaN   \n",
       "3096808      899956   purchase       1021   14890  NaN  NaN   \n",
       "3096816      899956   purchase       1118  101300  NaN  NaN   \n",
       "3096820      899956   purchase       1037    6630  NaN  NaN   \n",
       "3096822      899956   purchase       1118  101300  NaN  NaN   \n",
       "\n",
       "                         Timestamp  GoodsCode_ad        eval_type  \\\n",
       "74      2022-03-13 15:47:28.525882            -1  not_ad_purchase   \n",
       "78      2022-04-10 05:00:06.525882            -1  not_ad_purchase   \n",
       "82      2022-05-16 04:02:25.525882            -1  not_ad_purchase   \n",
       "87      2022-05-28 18:56:51.525882            -1  not_ad_purchase   \n",
       "93      2022-06-13 17:17:23.525882            -1  not_ad_purchase   \n",
       "...                            ...           ...              ...   \n",
       "3096800 2022-03-01 23:59:55.368464            -1  not_ad_purchase   \n",
       "3096808 2022-04-08 06:38:10.368464            -1  not_ad_purchase   \n",
       "3096816 2022-05-20 23:43:13.368464            -1  not_ad_purchase   \n",
       "3096820 2022-06-03 22:47:43.177535            -1  not_ad_purchase   \n",
       "3096822 2022-06-11 03:18:35.368464            -1  not_ad_purchase   \n",
       "\n",
       "        cluster_plus         Category  OriginalPrice  Inventory  year  month  \\\n",
       "74                 1            Books          19950       9442  2022      3   \n",
       "78                 1  Health & Beauty          22540       7573  2022      4   \n",
       "82                 1      Electronics         144050       8674  2022      5   \n",
       "87                 1            Books          10530       1936  2022      5   \n",
       "93                 1  Health & Beauty          16910       2887  2022      6   \n",
       "...              ...              ...            ...        ...   ...    ...   \n",
       "3096800            1      Electronics          78100       2763  2022      3   \n",
       "3096808            1  Health & Beauty          14890       5223  2022      4   \n",
       "3096816            1      Electronics         101300       9407  2022      5   \n",
       "3096820            1  Health & Beauty           6630       9996  2022      6   \n",
       "3096822            1      Electronics         101300       9407  2022      6   \n",
       "\n",
       "         day        date  YearMonth  \n",
       "74        13  2022-03-13     202203  \n",
       "78        10  2022-04-10     202204  \n",
       "82        16  2022-05-16     202205  \n",
       "87        28  2022-05-28     202205  \n",
       "93        13  2022-06-13     202206  \n",
       "...      ...         ...        ...  \n",
       "3096800    1  2022-03-01     202203  \n",
       "3096808    8  2022-04-08     202204  \n",
       "3096816   20  2022-05-20     202205  \n",
       "3096820    3  2022-06-03     202206  \n",
       "3096822   11  2022-06-11     202206  \n",
       "\n",
       "[84590 rows x 18 columns]"
      ]
     },
     "execution_count": 185,
     "metadata": {},
     "output_type": "execute_result"
    }
   ],
   "source": [
    "usu_purchase_ratio = df[df['ActionType']=='purchase']\n",
    "usu_purchase_ratio = usu_purchase_ratio[usu_purchase_ratio['cluster_plus']=='1']\n",
    "usu_purchase_ratio"
   ]
  },
  {
   "cell_type": "code",
   "execution_count": 201,
   "metadata": {},
   "outputs": [
    {
     "name": "stdout",
     "output_type": "stream",
     "text": [
      "유기적 구매 비율: 0.9131221184537179\n",
      "광고 기반 구매 비율: 0.016905071521456438\n",
      "광고 기여 구매 비율: 0.06997281002482562\n"
     ]
    }
   ],
   "source": [
    "# 유기적 구매 비율\n",
    "organic_purchase = usu_purchase_ratio[usu_purchase_ratio['eval_type']=='not_ad_purchase'].shape[0]\n",
    "\n",
    "# 광고 기반 구매 비율\n",
    "ad_based_purchase = usu_purchase_ratio[usu_purchase_ratio['eval_type']=='ad_purchase'].shape[0]\n",
    "# 광고 기여 구매 비율\n",
    "ad_con_purchase = usu_purchase_ratio[usu_purchase_ratio['eval_type']=='ad_purchase_other'].shape[0]\n",
    "\n",
    "# 비율 계산\n",
    "total_purchase = organic_purchase + ad_based_purchase+ ad_con_purchase\n",
    "organic_purchase_ratio_usu = organic_purchase / total_purchase\n",
    "ad_based_purchase_ratio_usu = ad_based_purchase / total_purchase\n",
    "ad_con_purchase_ratio_usu = ad_con_purchase / total_purchase\n",
    "\n",
    "print('유기적 구매 비율:', organic_purchase_ratio_usu)\n",
    "print('광고 기반 구매 비율:', ad_based_purchase_ratio_usu)\n",
    "print(\"광고 기여 구매 비율:\", ad_con_purchase_ratio_usu)"
   ]
  },
  {
   "cell_type": "markdown",
   "metadata": {},
   "source": [
    "### vip \n"
   ]
  },
  {
   "cell_type": "code",
   "execution_count": 187,
   "metadata": {},
   "outputs": [
    {
     "data": {
      "text/html": [
       "<div>\n",
       "<style scoped>\n",
       "    .dataframe tbody tr th:only-of-type {\n",
       "        vertical-align: middle;\n",
       "    }\n",
       "\n",
       "    .dataframe tbody tr th {\n",
       "        vertical-align: top;\n",
       "    }\n",
       "\n",
       "    .dataframe thead th {\n",
       "        text-align: right;\n",
       "    }\n",
       "</style>\n",
       "<table border=\"1\" class=\"dataframe\">\n",
       "  <thead>\n",
       "    <tr style=\"text-align: right;\">\n",
       "      <th></th>\n",
       "      <th>CustomerID</th>\n",
       "      <th>ActionType</th>\n",
       "      <th>GoodsCode</th>\n",
       "      <th>Price</th>\n",
       "      <th>AdID</th>\n",
       "      <th>CPC</th>\n",
       "      <th>Timestamp</th>\n",
       "      <th>GoodsCode_ad</th>\n",
       "      <th>eval_type</th>\n",
       "      <th>cluster_plus</th>\n",
       "      <th>Category</th>\n",
       "      <th>OriginalPrice</th>\n",
       "      <th>Inventory</th>\n",
       "      <th>year</th>\n",
       "      <th>month</th>\n",
       "      <th>day</th>\n",
       "      <th>date</th>\n",
       "      <th>YearMonth</th>\n",
       "    </tr>\n",
       "  </thead>\n",
       "  <tbody>\n",
       "    <tr>\n",
       "      <th>1667</th>\n",
       "      <td>444</td>\n",
       "      <td>purchase</td>\n",
       "      <td>1442</td>\n",
       "      <td>15950</td>\n",
       "      <td>NaN</td>\n",
       "      <td>NaN</td>\n",
       "      <td>2022-02-14 21:23:04.486139</td>\n",
       "      <td>-1</td>\n",
       "      <td>not_ad_purchase</td>\n",
       "      <td>vip</td>\n",
       "      <td>Home &amp; Garden</td>\n",
       "      <td>15950</td>\n",
       "      <td>6383</td>\n",
       "      <td>2022</td>\n",
       "      <td>2</td>\n",
       "      <td>14</td>\n",
       "      <td>2022-02-14</td>\n",
       "      <td>202202</td>\n",
       "    </tr>\n",
       "    <tr>\n",
       "      <th>1671</th>\n",
       "      <td>444</td>\n",
       "      <td>purchase</td>\n",
       "      <td>1241</td>\n",
       "      <td>69300</td>\n",
       "      <td>NaN</td>\n",
       "      <td>NaN</td>\n",
       "      <td>2022-03-22 16:17:58.794648</td>\n",
       "      <td>-1</td>\n",
       "      <td>not_ad_purchase</td>\n",
       "      <td>vip</td>\n",
       "      <td>Electronics</td>\n",
       "      <td>69300</td>\n",
       "      <td>2933</td>\n",
       "      <td>2022</td>\n",
       "      <td>3</td>\n",
       "      <td>22</td>\n",
       "      <td>2022-03-22</td>\n",
       "      <td>202203</td>\n",
       "    </tr>\n",
       "    <tr>\n",
       "      <th>1674</th>\n",
       "      <td>444</td>\n",
       "      <td>purchase</td>\n",
       "      <td>1103</td>\n",
       "      <td>9070</td>\n",
       "      <td>NaN</td>\n",
       "      <td>NaN</td>\n",
       "      <td>2022-04-02 13:06:25.794648</td>\n",
       "      <td>-1</td>\n",
       "      <td>not_ad_purchase</td>\n",
       "      <td>vip</td>\n",
       "      <td>Clothing</td>\n",
       "      <td>9070</td>\n",
       "      <td>9363</td>\n",
       "      <td>2022</td>\n",
       "      <td>4</td>\n",
       "      <td>2</td>\n",
       "      <td>2022-04-02</td>\n",
       "      <td>202204</td>\n",
       "    </tr>\n",
       "    <tr>\n",
       "      <th>1675</th>\n",
       "      <td>444</td>\n",
       "      <td>purchase</td>\n",
       "      <td>1087</td>\n",
       "      <td>136830</td>\n",
       "      <td>NaN</td>\n",
       "      <td>NaN</td>\n",
       "      <td>2022-04-04 06:39:24.486139</td>\n",
       "      <td>-1</td>\n",
       "      <td>not_ad_purchase</td>\n",
       "      <td>vip</td>\n",
       "      <td>Electronics</td>\n",
       "      <td>136830</td>\n",
       "      <td>7122</td>\n",
       "      <td>2022</td>\n",
       "      <td>4</td>\n",
       "      <td>4</td>\n",
       "      <td>2022-04-04</td>\n",
       "      <td>202204</td>\n",
       "    </tr>\n",
       "    <tr>\n",
       "      <th>1678</th>\n",
       "      <td>444</td>\n",
       "      <td>purchase</td>\n",
       "      <td>1494</td>\n",
       "      <td>10860</td>\n",
       "      <td>NaN</td>\n",
       "      <td>NaN</td>\n",
       "      <td>2022-04-17 17:33:02.794648</td>\n",
       "      <td>-1</td>\n",
       "      <td>not_ad_purchase</td>\n",
       "      <td>vip</td>\n",
       "      <td>Health &amp; Beauty</td>\n",
       "      <td>10860</td>\n",
       "      <td>5732</td>\n",
       "      <td>2022</td>\n",
       "      <td>4</td>\n",
       "      <td>17</td>\n",
       "      <td>2022-04-17</td>\n",
       "      <td>202204</td>\n",
       "    </tr>\n",
       "    <tr>\n",
       "      <th>...</th>\n",
       "      <td>...</td>\n",
       "      <td>...</td>\n",
       "      <td>...</td>\n",
       "      <td>...</td>\n",
       "      <td>...</td>\n",
       "      <td>...</td>\n",
       "      <td>...</td>\n",
       "      <td>...</td>\n",
       "      <td>...</td>\n",
       "      <td>...</td>\n",
       "      <td>...</td>\n",
       "      <td>...</td>\n",
       "      <td>...</td>\n",
       "      <td>...</td>\n",
       "      <td>...</td>\n",
       "      <td>...</td>\n",
       "      <td>...</td>\n",
       "      <td>...</td>\n",
       "    </tr>\n",
       "    <tr>\n",
       "      <th>3095473</th>\n",
       "      <td>899378</td>\n",
       "      <td>purchase</td>\n",
       "      <td>1092</td>\n",
       "      <td>28550</td>\n",
       "      <td>NaN</td>\n",
       "      <td>NaN</td>\n",
       "      <td>2022-04-04 11:33:15.039013</td>\n",
       "      <td>-1</td>\n",
       "      <td>not_ad_purchase</td>\n",
       "      <td>vip</td>\n",
       "      <td>Home &amp; Garden</td>\n",
       "      <td>28550</td>\n",
       "      <td>3120</td>\n",
       "      <td>2022</td>\n",
       "      <td>4</td>\n",
       "      <td>4</td>\n",
       "      <td>2022-04-04</td>\n",
       "      <td>202204</td>\n",
       "    </tr>\n",
       "    <tr>\n",
       "      <th>3095474</th>\n",
       "      <td>899378</td>\n",
       "      <td>purchase</td>\n",
       "      <td>1024</td>\n",
       "      <td>82980</td>\n",
       "      <td>NaN</td>\n",
       "      <td>NaN</td>\n",
       "      <td>2022-04-05 08:17:46.039013</td>\n",
       "      <td>-1</td>\n",
       "      <td>not_ad_purchase</td>\n",
       "      <td>vip</td>\n",
       "      <td>Electronics</td>\n",
       "      <td>82980</td>\n",
       "      <td>4186</td>\n",
       "      <td>2022</td>\n",
       "      <td>4</td>\n",
       "      <td>5</td>\n",
       "      <td>2022-04-05</td>\n",
       "      <td>202204</td>\n",
       "    </tr>\n",
       "    <tr>\n",
       "      <th>3095485</th>\n",
       "      <td>899378</td>\n",
       "      <td>purchase</td>\n",
       "      <td>1247</td>\n",
       "      <td>89810</td>\n",
       "      <td>NaN</td>\n",
       "      <td>NaN</td>\n",
       "      <td>2022-04-27 01:37:23.039013</td>\n",
       "      <td>1247</td>\n",
       "      <td>ad_purchase</td>\n",
       "      <td>vip</td>\n",
       "      <td>Electronics</td>\n",
       "      <td>89810</td>\n",
       "      <td>6016</td>\n",
       "      <td>2022</td>\n",
       "      <td>4</td>\n",
       "      <td>27</td>\n",
       "      <td>2022-04-27</td>\n",
       "      <td>202204</td>\n",
       "    </tr>\n",
       "    <tr>\n",
       "      <th>3095489</th>\n",
       "      <td>899378</td>\n",
       "      <td>purchase</td>\n",
       "      <td>1462</td>\n",
       "      <td>13020</td>\n",
       "      <td>NaN</td>\n",
       "      <td>NaN</td>\n",
       "      <td>2022-04-29 07:00:17.039013</td>\n",
       "      <td>1092</td>\n",
       "      <td>ad_purchase_other</td>\n",
       "      <td>vip</td>\n",
       "      <td>Health &amp; Beauty</td>\n",
       "      <td>13020</td>\n",
       "      <td>9941</td>\n",
       "      <td>2022</td>\n",
       "      <td>4</td>\n",
       "      <td>29</td>\n",
       "      <td>2022-04-29</td>\n",
       "      <td>202204</td>\n",
       "    </tr>\n",
       "    <tr>\n",
       "      <th>3095498</th>\n",
       "      <td>899378</td>\n",
       "      <td>purchase</td>\n",
       "      <td>1024</td>\n",
       "      <td>82980</td>\n",
       "      <td>NaN</td>\n",
       "      <td>NaN</td>\n",
       "      <td>2022-05-23 22:02:38.039013</td>\n",
       "      <td>-1</td>\n",
       "      <td>not_ad_purchase</td>\n",
       "      <td>vip</td>\n",
       "      <td>Electronics</td>\n",
       "      <td>82980</td>\n",
       "      <td>4186</td>\n",
       "      <td>2022</td>\n",
       "      <td>5</td>\n",
       "      <td>23</td>\n",
       "      <td>2022-05-23</td>\n",
       "      <td>202205</td>\n",
       "    </tr>\n",
       "  </tbody>\n",
       "</table>\n",
       "<p>9398 rows × 18 columns</p>\n",
       "</div>"
      ],
      "text/plain": [
       "         CustomerID ActionType  GoodsCode   Price AdID  CPC  \\\n",
       "1667            444   purchase       1442   15950  NaN  NaN   \n",
       "1671            444   purchase       1241   69300  NaN  NaN   \n",
       "1674            444   purchase       1103    9070  NaN  NaN   \n",
       "1675            444   purchase       1087  136830  NaN  NaN   \n",
       "1678            444   purchase       1494   10860  NaN  NaN   \n",
       "...             ...        ...        ...     ...  ...  ...   \n",
       "3095473      899378   purchase       1092   28550  NaN  NaN   \n",
       "3095474      899378   purchase       1024   82980  NaN  NaN   \n",
       "3095485      899378   purchase       1247   89810  NaN  NaN   \n",
       "3095489      899378   purchase       1462   13020  NaN  NaN   \n",
       "3095498      899378   purchase       1024   82980  NaN  NaN   \n",
       "\n",
       "                         Timestamp  GoodsCode_ad          eval_type  \\\n",
       "1667    2022-02-14 21:23:04.486139            -1    not_ad_purchase   \n",
       "1671    2022-03-22 16:17:58.794648            -1    not_ad_purchase   \n",
       "1674    2022-04-02 13:06:25.794648            -1    not_ad_purchase   \n",
       "1675    2022-04-04 06:39:24.486139            -1    not_ad_purchase   \n",
       "1678    2022-04-17 17:33:02.794648            -1    not_ad_purchase   \n",
       "...                            ...           ...                ...   \n",
       "3095473 2022-04-04 11:33:15.039013            -1    not_ad_purchase   \n",
       "3095474 2022-04-05 08:17:46.039013            -1    not_ad_purchase   \n",
       "3095485 2022-04-27 01:37:23.039013          1247        ad_purchase   \n",
       "3095489 2022-04-29 07:00:17.039013          1092  ad_purchase_other   \n",
       "3095498 2022-05-23 22:02:38.039013            -1    not_ad_purchase   \n",
       "\n",
       "        cluster_plus         Category  OriginalPrice  Inventory  year  month  \\\n",
       "1667             vip    Home & Garden          15950       6383  2022      2   \n",
       "1671             vip      Electronics          69300       2933  2022      3   \n",
       "1674             vip         Clothing           9070       9363  2022      4   \n",
       "1675             vip      Electronics         136830       7122  2022      4   \n",
       "1678             vip  Health & Beauty          10860       5732  2022      4   \n",
       "...              ...              ...            ...        ...   ...    ...   \n",
       "3095473          vip    Home & Garden          28550       3120  2022      4   \n",
       "3095474          vip      Electronics          82980       4186  2022      4   \n",
       "3095485          vip      Electronics          89810       6016  2022      4   \n",
       "3095489          vip  Health & Beauty          13020       9941  2022      4   \n",
       "3095498          vip      Electronics          82980       4186  2022      5   \n",
       "\n",
       "         day        date  YearMonth  \n",
       "1667      14  2022-02-14     202202  \n",
       "1671      22  2022-03-22     202203  \n",
       "1674       2  2022-04-02     202204  \n",
       "1675       4  2022-04-04     202204  \n",
       "1678      17  2022-04-17     202204  \n",
       "...      ...         ...        ...  \n",
       "3095473    4  2022-04-04     202204  \n",
       "3095474    5  2022-04-05     202204  \n",
       "3095485   27  2022-04-27     202204  \n",
       "3095489   29  2022-04-29     202204  \n",
       "3095498   23  2022-05-23     202205  \n",
       "\n",
       "[9398 rows x 18 columns]"
      ]
     },
     "execution_count": 187,
     "metadata": {},
     "output_type": "execute_result"
    }
   ],
   "source": [
    "vip_purchase_ratio = df[df['ActionType']=='purchase']\n",
    "vip_purchase_ratio = vip_purchase_ratio[vip_purchase_ratio['cluster_plus']=='vip']\n",
    "vip_purchase_ratio"
   ]
  },
  {
   "cell_type": "code",
   "execution_count": 208,
   "metadata": {},
   "outputs": [
    {
     "name": "stdout",
     "output_type": "stream",
     "text": [
      "유기적 구매 비율: 0.8923175143647585\n",
      "광고 기반 구매 비율: 0.02021706746116195\n",
      "광고 기여 구매 비율: 0.08746541817407959\n"
     ]
    }
   ],
   "source": [
    "# 유기적 구매 비율\n",
    "organic_purchase = vip_purchase_ratio[vip_purchase_ratio['eval_type']=='not_ad_purchase'].shape[0]\n",
    "\n",
    "# 광고 기반 구매 비율\n",
    "ad_based_purchase = vip_purchase_ratio[vip_purchase_ratio['eval_type']=='ad_purchase'].shape[0]\n",
    "# 광고 기여 구매 비율\n",
    "ad_con_purchase = vip_purchase_ratio[vip_purchase_ratio['eval_type']=='ad_purchase_other'].shape[0]\n",
    "\n",
    "# 비율 계산\n",
    "total_purchase = organic_purchase + ad_based_purchase + ad_con_purchase\n",
    "organic_purchase_ratio_vip = organic_purchase / total_purchase\n",
    "ad_based_purchase_ratio_vip = ad_based_purchase / total_purchase\n",
    "ad_con_purchase_ratio_vip = ad_con_purchase / total_purchase\n",
    "\n",
    "print('유기적 구매 비율:', organic_purchase_ratio_vip)\n",
    "print('광고 기반 구매 비율:', ad_based_purchase_ratio_vip)\n",
    "print('광고 기여 구매 비율:', ad_con_purchase_ratio_vip)"
   ]
  },
  {
   "cell_type": "markdown",
   "metadata": {},
   "source": [
    "### 중요고객"
   ]
  },
  {
   "cell_type": "code",
   "execution_count": 189,
   "metadata": {},
   "outputs": [
    {
     "data": {
      "text/html": [
       "<div>\n",
       "<style scoped>\n",
       "    .dataframe tbody tr th:only-of-type {\n",
       "        vertical-align: middle;\n",
       "    }\n",
       "\n",
       "    .dataframe tbody tr th {\n",
       "        vertical-align: top;\n",
       "    }\n",
       "\n",
       "    .dataframe thead th {\n",
       "        text-align: right;\n",
       "    }\n",
       "</style>\n",
       "<table border=\"1\" class=\"dataframe\">\n",
       "  <thead>\n",
       "    <tr style=\"text-align: right;\">\n",
       "      <th></th>\n",
       "      <th>CustomerID</th>\n",
       "      <th>ActionType</th>\n",
       "      <th>GoodsCode</th>\n",
       "      <th>Price</th>\n",
       "      <th>AdID</th>\n",
       "      <th>CPC</th>\n",
       "      <th>Timestamp</th>\n",
       "      <th>GoodsCode_ad</th>\n",
       "      <th>eval_type</th>\n",
       "      <th>cluster_plus</th>\n",
       "      <th>Category</th>\n",
       "      <th>OriginalPrice</th>\n",
       "      <th>Inventory</th>\n",
       "      <th>year</th>\n",
       "      <th>month</th>\n",
       "      <th>day</th>\n",
       "      <th>date</th>\n",
       "      <th>YearMonth</th>\n",
       "    </tr>\n",
       "  </thead>\n",
       "  <tbody>\n",
       "    <tr>\n",
       "      <th>17</th>\n",
       "      <td>8</td>\n",
       "      <td>purchase</td>\n",
       "      <td>1372</td>\n",
       "      <td>24930</td>\n",
       "      <td>NaN</td>\n",
       "      <td>NaN</td>\n",
       "      <td>2022-03-08 03:17:01.156038</td>\n",
       "      <td>-1</td>\n",
       "      <td>not_ad_purchase</td>\n",
       "      <td>2</td>\n",
       "      <td>Clothing</td>\n",
       "      <td>24930</td>\n",
       "      <td>2050</td>\n",
       "      <td>2022</td>\n",
       "      <td>3</td>\n",
       "      <td>8</td>\n",
       "      <td>2022-03-08</td>\n",
       "      <td>202203</td>\n",
       "    </tr>\n",
       "    <tr>\n",
       "      <th>22</th>\n",
       "      <td>8</td>\n",
       "      <td>purchase</td>\n",
       "      <td>1013</td>\n",
       "      <td>16210</td>\n",
       "      <td>NaN</td>\n",
       "      <td>NaN</td>\n",
       "      <td>2022-04-04 03:41:09.156038</td>\n",
       "      <td>-1</td>\n",
       "      <td>not_ad_purchase</td>\n",
       "      <td>2</td>\n",
       "      <td>Clothing</td>\n",
       "      <td>16210</td>\n",
       "      <td>2279</td>\n",
       "      <td>2022</td>\n",
       "      <td>4</td>\n",
       "      <td>4</td>\n",
       "      <td>2022-04-04</td>\n",
       "      <td>202204</td>\n",
       "    </tr>\n",
       "    <tr>\n",
       "      <th>29</th>\n",
       "      <td>8</td>\n",
       "      <td>purchase</td>\n",
       "      <td>1347</td>\n",
       "      <td>104910</td>\n",
       "      <td>NaN</td>\n",
       "      <td>NaN</td>\n",
       "      <td>2022-05-06 20:31:09.156038</td>\n",
       "      <td>-1</td>\n",
       "      <td>not_ad_purchase</td>\n",
       "      <td>2</td>\n",
       "      <td>Electronics</td>\n",
       "      <td>104910</td>\n",
       "      <td>5116</td>\n",
       "      <td>2022</td>\n",
       "      <td>5</td>\n",
       "      <td>6</td>\n",
       "      <td>2022-05-06</td>\n",
       "      <td>202205</td>\n",
       "    </tr>\n",
       "    <tr>\n",
       "      <th>144</th>\n",
       "      <td>32</td>\n",
       "      <td>purchase</td>\n",
       "      <td>1201</td>\n",
       "      <td>13550</td>\n",
       "      <td>NaN</td>\n",
       "      <td>NaN</td>\n",
       "      <td>2022-02-26 16:27:44.376860</td>\n",
       "      <td>-1</td>\n",
       "      <td>not_ad_purchase</td>\n",
       "      <td>2</td>\n",
       "      <td>Home &amp; Garden</td>\n",
       "      <td>13550</td>\n",
       "      <td>9623</td>\n",
       "      <td>2022</td>\n",
       "      <td>2</td>\n",
       "      <td>26</td>\n",
       "      <td>2022-02-26</td>\n",
       "      <td>202202</td>\n",
       "    </tr>\n",
       "    <tr>\n",
       "      <th>158</th>\n",
       "      <td>32</td>\n",
       "      <td>purchase</td>\n",
       "      <td>1499</td>\n",
       "      <td>33180</td>\n",
       "      <td>NaN</td>\n",
       "      <td>NaN</td>\n",
       "      <td>2022-03-31 10:56:52.376860</td>\n",
       "      <td>1499</td>\n",
       "      <td>ad_purchase</td>\n",
       "      <td>2</td>\n",
       "      <td>Electronics</td>\n",
       "      <td>33180</td>\n",
       "      <td>4591</td>\n",
       "      <td>2022</td>\n",
       "      <td>3</td>\n",
       "      <td>31</td>\n",
       "      <td>2022-03-31</td>\n",
       "      <td>202203</td>\n",
       "    </tr>\n",
       "    <tr>\n",
       "      <th>...</th>\n",
       "      <td>...</td>\n",
       "      <td>...</td>\n",
       "      <td>...</td>\n",
       "      <td>...</td>\n",
       "      <td>...</td>\n",
       "      <td>...</td>\n",
       "      <td>...</td>\n",
       "      <td>...</td>\n",
       "      <td>...</td>\n",
       "      <td>...</td>\n",
       "      <td>...</td>\n",
       "      <td>...</td>\n",
       "      <td>...</td>\n",
       "      <td>...</td>\n",
       "      <td>...</td>\n",
       "      <td>...</td>\n",
       "      <td>...</td>\n",
       "      <td>...</td>\n",
       "    </tr>\n",
       "    <tr>\n",
       "      <th>3096610</th>\n",
       "      <td>899908</td>\n",
       "      <td>purchase</td>\n",
       "      <td>1356</td>\n",
       "      <td>18410</td>\n",
       "      <td>NaN</td>\n",
       "      <td>NaN</td>\n",
       "      <td>2022-06-16 18:10:41.486139</td>\n",
       "      <td>-1</td>\n",
       "      <td>not_ad_purchase</td>\n",
       "      <td>2</td>\n",
       "      <td>Books</td>\n",
       "      <td>18410</td>\n",
       "      <td>4056</td>\n",
       "      <td>2022</td>\n",
       "      <td>6</td>\n",
       "      <td>16</td>\n",
       "      <td>2022-06-16</td>\n",
       "      <td>202206</td>\n",
       "    </tr>\n",
       "    <tr>\n",
       "      <th>3096729</th>\n",
       "      <td>899949</td>\n",
       "      <td>purchase</td>\n",
       "      <td>1323</td>\n",
       "      <td>131020</td>\n",
       "      <td>NaN</td>\n",
       "      <td>NaN</td>\n",
       "      <td>2022-04-07 01:54:05.486139</td>\n",
       "      <td>-1</td>\n",
       "      <td>not_ad_purchase</td>\n",
       "      <td>2</td>\n",
       "      <td>Electronics</td>\n",
       "      <td>131020</td>\n",
       "      <td>5811</td>\n",
       "      <td>2022</td>\n",
       "      <td>4</td>\n",
       "      <td>7</td>\n",
       "      <td>2022-04-07</td>\n",
       "      <td>202204</td>\n",
       "    </tr>\n",
       "    <tr>\n",
       "      <th>3096880</th>\n",
       "      <td>899993</td>\n",
       "      <td>purchase</td>\n",
       "      <td>1472</td>\n",
       "      <td>5630</td>\n",
       "      <td>NaN</td>\n",
       "      <td>NaN</td>\n",
       "      <td>2022-03-10 05:30:24.372529</td>\n",
       "      <td>-1</td>\n",
       "      <td>not_ad_purchase</td>\n",
       "      <td>2</td>\n",
       "      <td>Clothing</td>\n",
       "      <td>5630</td>\n",
       "      <td>1661</td>\n",
       "      <td>2022</td>\n",
       "      <td>3</td>\n",
       "      <td>10</td>\n",
       "      <td>2022-03-10</td>\n",
       "      <td>202203</td>\n",
       "    </tr>\n",
       "    <tr>\n",
       "      <th>3096881</th>\n",
       "      <td>899993</td>\n",
       "      <td>purchase</td>\n",
       "      <td>1019</td>\n",
       "      <td>16840</td>\n",
       "      <td>NaN</td>\n",
       "      <td>NaN</td>\n",
       "      <td>2022-03-10 21:51:15.372529</td>\n",
       "      <td>-1</td>\n",
       "      <td>not_ad_purchase</td>\n",
       "      <td>2</td>\n",
       "      <td>Books</td>\n",
       "      <td>16840</td>\n",
       "      <td>3106</td>\n",
       "      <td>2022</td>\n",
       "      <td>3</td>\n",
       "      <td>10</td>\n",
       "      <td>2022-03-10</td>\n",
       "      <td>202203</td>\n",
       "    </tr>\n",
       "    <tr>\n",
       "      <th>3096893</th>\n",
       "      <td>899993</td>\n",
       "      <td>purchase</td>\n",
       "      <td>1045</td>\n",
       "      <td>120410</td>\n",
       "      <td>NaN</td>\n",
       "      <td>NaN</td>\n",
       "      <td>2022-05-16 20:46:14.372529</td>\n",
       "      <td>-1</td>\n",
       "      <td>not_ad_purchase</td>\n",
       "      <td>2</td>\n",
       "      <td>Electronics</td>\n",
       "      <td>120410</td>\n",
       "      <td>2622</td>\n",
       "      <td>2022</td>\n",
       "      <td>5</td>\n",
       "      <td>16</td>\n",
       "      <td>2022-05-16</td>\n",
       "      <td>202205</td>\n",
       "    </tr>\n",
       "  </tbody>\n",
       "</table>\n",
       "<p>85923 rows × 18 columns</p>\n",
       "</div>"
      ],
      "text/plain": [
       "         CustomerID ActionType  GoodsCode   Price AdID  CPC  \\\n",
       "17                8   purchase       1372   24930  NaN  NaN   \n",
       "22                8   purchase       1013   16210  NaN  NaN   \n",
       "29                8   purchase       1347  104910  NaN  NaN   \n",
       "144              32   purchase       1201   13550  NaN  NaN   \n",
       "158              32   purchase       1499   33180  NaN  NaN   \n",
       "...             ...        ...        ...     ...  ...  ...   \n",
       "3096610      899908   purchase       1356   18410  NaN  NaN   \n",
       "3096729      899949   purchase       1323  131020  NaN  NaN   \n",
       "3096880      899993   purchase       1472    5630  NaN  NaN   \n",
       "3096881      899993   purchase       1019   16840  NaN  NaN   \n",
       "3096893      899993   purchase       1045  120410  NaN  NaN   \n",
       "\n",
       "                         Timestamp  GoodsCode_ad        eval_type  \\\n",
       "17      2022-03-08 03:17:01.156038            -1  not_ad_purchase   \n",
       "22      2022-04-04 03:41:09.156038            -1  not_ad_purchase   \n",
       "29      2022-05-06 20:31:09.156038            -1  not_ad_purchase   \n",
       "144     2022-02-26 16:27:44.376860            -1  not_ad_purchase   \n",
       "158     2022-03-31 10:56:52.376860          1499      ad_purchase   \n",
       "...                            ...           ...              ...   \n",
       "3096610 2022-06-16 18:10:41.486139            -1  not_ad_purchase   \n",
       "3096729 2022-04-07 01:54:05.486139            -1  not_ad_purchase   \n",
       "3096880 2022-03-10 05:30:24.372529            -1  not_ad_purchase   \n",
       "3096881 2022-03-10 21:51:15.372529            -1  not_ad_purchase   \n",
       "3096893 2022-05-16 20:46:14.372529            -1  not_ad_purchase   \n",
       "\n",
       "        cluster_plus       Category  OriginalPrice  Inventory  year  month  \\\n",
       "17                 2       Clothing          24930       2050  2022      3   \n",
       "22                 2       Clothing          16210       2279  2022      4   \n",
       "29                 2    Electronics         104910       5116  2022      5   \n",
       "144                2  Home & Garden          13550       9623  2022      2   \n",
       "158                2    Electronics          33180       4591  2022      3   \n",
       "...              ...            ...            ...        ...   ...    ...   \n",
       "3096610            2          Books          18410       4056  2022      6   \n",
       "3096729            2    Electronics         131020       5811  2022      4   \n",
       "3096880            2       Clothing           5630       1661  2022      3   \n",
       "3096881            2          Books          16840       3106  2022      3   \n",
       "3096893            2    Electronics         120410       2622  2022      5   \n",
       "\n",
       "         day        date  YearMonth  \n",
       "17         8  2022-03-08     202203  \n",
       "22         4  2022-04-04     202204  \n",
       "29         6  2022-05-06     202205  \n",
       "144       26  2022-02-26     202202  \n",
       "158       31  2022-03-31     202203  \n",
       "...      ...         ...        ...  \n",
       "3096610   16  2022-06-16     202206  \n",
       "3096729    7  2022-04-07     202204  \n",
       "3096880   10  2022-03-10     202203  \n",
       "3096881   10  2022-03-10     202203  \n",
       "3096893   16  2022-05-16     202205  \n",
       "\n",
       "[85923 rows x 18 columns]"
      ]
     },
     "execution_count": 189,
     "metadata": {},
     "output_type": "execute_result"
    }
   ],
   "source": [
    "jyungyo_purchase_ratio = df[df['ActionType']=='purchase']\n",
    "jyungyo_purchase_ratio = jyungyo_purchase_ratio[jyungyo_purchase_ratio['cluster_plus']=='2']\n",
    "jyungyo_purchase_ratio"
   ]
  },
  {
   "cell_type": "code",
   "execution_count": 207,
   "metadata": {},
   "outputs": [
    {
     "name": "stdout",
     "output_type": "stream",
     "text": [
      "유기적 구매 비율: 0.9431002176367212\n",
      "광고 기반 구매 비율: 0.017096702861864693\n",
      "광고 기반 구매 비율: 0.039803079501414054\n"
     ]
    }
   ],
   "source": [
    "# 유기적 구매 비율\n",
    "organic_purchase = jyungyo_purchase_ratio[jyungyo_purchase_ratio['eval_type']=='not_ad_purchase'].shape[0]\n",
    "\n",
    "# 광고 기반 구매 비율\n",
    "ad_based_purchase = jyungyo_purchase_ratio[jyungyo_purchase_ratio['eval_type']=='ad_purchase'].shape[0]\n",
    "# 광고 기여 구매 비율\n",
    "ad_con_purchase = jyungyo_purchase_ratio[jyungyo_purchase_ratio['eval_type']=='ad_purchase_other'].shape[0]\n",
    "\n",
    "# 비율 계산\n",
    "total_purchase = organic_purchase + ad_based_purchase + ad_con_purchase\n",
    "organic_purchase_ratio_jyungyo = organic_purchase / total_purchase\n",
    "ad_based_purchase_ratio_jyungyo = ad_based_purchase / total_purchase\n",
    "ad_con_purchase_ratio_jyungyo = ad_con_purchase / total_purchase\n",
    "\n",
    "print('유기적 구매 비율:', organic_purchase_ratio_jyungyo)\n",
    "print('광고 기반 구매 비율:', ad_based_purchase_ratio_jyungyo)\n",
    "print('광고 기반 구매 비율:',ad_con_purchase_ratio_jyungyo)"
   ]
  },
  {
   "cell_type": "markdown",
   "metadata": {},
   "source": [
    "### 신규고객"
   ]
  },
  {
   "cell_type": "code",
   "execution_count": 191,
   "metadata": {},
   "outputs": [
    {
     "data": {
      "text/html": [
       "<div>\n",
       "<style scoped>\n",
       "    .dataframe tbody tr th:only-of-type {\n",
       "        vertical-align: middle;\n",
       "    }\n",
       "\n",
       "    .dataframe tbody tr th {\n",
       "        vertical-align: top;\n",
       "    }\n",
       "\n",
       "    .dataframe thead th {\n",
       "        text-align: right;\n",
       "    }\n",
       "</style>\n",
       "<table border=\"1\" class=\"dataframe\">\n",
       "  <thead>\n",
       "    <tr style=\"text-align: right;\">\n",
       "      <th></th>\n",
       "      <th>CustomerID</th>\n",
       "      <th>ActionType</th>\n",
       "      <th>GoodsCode</th>\n",
       "      <th>Price</th>\n",
       "      <th>AdID</th>\n",
       "      <th>CPC</th>\n",
       "      <th>Timestamp</th>\n",
       "      <th>GoodsCode_ad</th>\n",
       "      <th>eval_type</th>\n",
       "      <th>cluster_plus</th>\n",
       "      <th>Category</th>\n",
       "      <th>OriginalPrice</th>\n",
       "      <th>Inventory</th>\n",
       "      <th>year</th>\n",
       "      <th>month</th>\n",
       "      <th>day</th>\n",
       "      <th>date</th>\n",
       "      <th>YearMonth</th>\n",
       "    </tr>\n",
       "  </thead>\n",
       "  <tbody>\n",
       "    <tr>\n",
       "      <th>1395</th>\n",
       "      <td>340</td>\n",
       "      <td>purchase</td>\n",
       "      <td>1248</td>\n",
       "      <td>6300</td>\n",
       "      <td>NaN</td>\n",
       "      <td>NaN</td>\n",
       "      <td>2022-03-26 21:06:32.502999</td>\n",
       "      <td>-1</td>\n",
       "      <td>not_ad_purchase</td>\n",
       "      <td>3</td>\n",
       "      <td>Books</td>\n",
       "      <td>6300</td>\n",
       "      <td>7881</td>\n",
       "      <td>2022</td>\n",
       "      <td>3</td>\n",
       "      <td>26</td>\n",
       "      <td>2022-03-26</td>\n",
       "      <td>202203</td>\n",
       "    </tr>\n",
       "    <tr>\n",
       "      <th>1400</th>\n",
       "      <td>340</td>\n",
       "      <td>purchase</td>\n",
       "      <td>1276</td>\n",
       "      <td>24390</td>\n",
       "      <td>NaN</td>\n",
       "      <td>NaN</td>\n",
       "      <td>2022-04-23 09:10:31.502999</td>\n",
       "      <td>-1</td>\n",
       "      <td>not_ad_purchase</td>\n",
       "      <td>3</td>\n",
       "      <td>Health &amp; Beauty</td>\n",
       "      <td>24390</td>\n",
       "      <td>7924</td>\n",
       "      <td>2022</td>\n",
       "      <td>4</td>\n",
       "      <td>23</td>\n",
       "      <td>2022-04-23</td>\n",
       "      <td>202204</td>\n",
       "    </tr>\n",
       "    <tr>\n",
       "      <th>1408</th>\n",
       "      <td>340</td>\n",
       "      <td>purchase</td>\n",
       "      <td>1244</td>\n",
       "      <td>33740</td>\n",
       "      <td>NaN</td>\n",
       "      <td>NaN</td>\n",
       "      <td>2022-05-18 14:05:48.502999</td>\n",
       "      <td>-1</td>\n",
       "      <td>not_ad_purchase</td>\n",
       "      <td>3</td>\n",
       "      <td>Home &amp; Garden</td>\n",
       "      <td>33740</td>\n",
       "      <td>2640</td>\n",
       "      <td>2022</td>\n",
       "      <td>5</td>\n",
       "      <td>18</td>\n",
       "      <td>2022-05-18</td>\n",
       "      <td>202205</td>\n",
       "    </tr>\n",
       "    <tr>\n",
       "      <th>1417</th>\n",
       "      <td>340</td>\n",
       "      <td>purchase</td>\n",
       "      <td>1451</td>\n",
       "      <td>18470</td>\n",
       "      <td>NaN</td>\n",
       "      <td>NaN</td>\n",
       "      <td>2022-06-10 00:15:13.502999</td>\n",
       "      <td>-1</td>\n",
       "      <td>not_ad_purchase</td>\n",
       "      <td>3</td>\n",
       "      <td>Books</td>\n",
       "      <td>18470</td>\n",
       "      <td>9601</td>\n",
       "      <td>2022</td>\n",
       "      <td>6</td>\n",
       "      <td>10</td>\n",
       "      <td>2022-06-10</td>\n",
       "      <td>202206</td>\n",
       "    </tr>\n",
       "    <tr>\n",
       "      <th>1422</th>\n",
       "      <td>340</td>\n",
       "      <td>purchase</td>\n",
       "      <td>1328</td>\n",
       "      <td>9110</td>\n",
       "      <td>NaN</td>\n",
       "      <td>NaN</td>\n",
       "      <td>2022-12-14 20:41:06.511967</td>\n",
       "      <td>-1</td>\n",
       "      <td>not_ad_purchase</td>\n",
       "      <td>3</td>\n",
       "      <td>Clothing</td>\n",
       "      <td>9110</td>\n",
       "      <td>6126</td>\n",
       "      <td>2022</td>\n",
       "      <td>12</td>\n",
       "      <td>14</td>\n",
       "      <td>2022-12-14</td>\n",
       "      <td>202212</td>\n",
       "    </tr>\n",
       "    <tr>\n",
       "      <th>...</th>\n",
       "      <td>...</td>\n",
       "      <td>...</td>\n",
       "      <td>...</td>\n",
       "      <td>...</td>\n",
       "      <td>...</td>\n",
       "      <td>...</td>\n",
       "      <td>...</td>\n",
       "      <td>...</td>\n",
       "      <td>...</td>\n",
       "      <td>...</td>\n",
       "      <td>...</td>\n",
       "      <td>...</td>\n",
       "      <td>...</td>\n",
       "      <td>...</td>\n",
       "      <td>...</td>\n",
       "      <td>...</td>\n",
       "      <td>...</td>\n",
       "      <td>...</td>\n",
       "    </tr>\n",
       "    <tr>\n",
       "      <th>3095079</th>\n",
       "      <td>899258</td>\n",
       "      <td>purchase</td>\n",
       "      <td>1308</td>\n",
       "      <td>20200</td>\n",
       "      <td>NaN</td>\n",
       "      <td>NaN</td>\n",
       "      <td>2022-03-27 07:58:16.181620</td>\n",
       "      <td>-1</td>\n",
       "      <td>not_ad_purchase</td>\n",
       "      <td>3</td>\n",
       "      <td>Health &amp; Beauty</td>\n",
       "      <td>20200</td>\n",
       "      <td>8059</td>\n",
       "      <td>2022</td>\n",
       "      <td>3</td>\n",
       "      <td>27</td>\n",
       "      <td>2022-03-27</td>\n",
       "      <td>202203</td>\n",
       "    </tr>\n",
       "    <tr>\n",
       "      <th>3095084</th>\n",
       "      <td>899258</td>\n",
       "      <td>purchase</td>\n",
       "      <td>1249</td>\n",
       "      <td>31480</td>\n",
       "      <td>NaN</td>\n",
       "      <td>NaN</td>\n",
       "      <td>2022-04-25 03:05:04.181620</td>\n",
       "      <td>-1</td>\n",
       "      <td>not_ad_purchase</td>\n",
       "      <td>3</td>\n",
       "      <td>Home &amp; Garden</td>\n",
       "      <td>31480</td>\n",
       "      <td>1954</td>\n",
       "      <td>2022</td>\n",
       "      <td>4</td>\n",
       "      <td>25</td>\n",
       "      <td>2022-04-25</td>\n",
       "      <td>202204</td>\n",
       "    </tr>\n",
       "    <tr>\n",
       "      <th>3095088</th>\n",
       "      <td>899258</td>\n",
       "      <td>purchase</td>\n",
       "      <td>1202</td>\n",
       "      <td>44480</td>\n",
       "      <td>NaN</td>\n",
       "      <td>NaN</td>\n",
       "      <td>2022-05-17 21:12:25.181620</td>\n",
       "      <td>-1</td>\n",
       "      <td>not_ad_purchase</td>\n",
       "      <td>3</td>\n",
       "      <td>Electronics</td>\n",
       "      <td>44480</td>\n",
       "      <td>9896</td>\n",
       "      <td>2022</td>\n",
       "      <td>5</td>\n",
       "      <td>17</td>\n",
       "      <td>2022-05-17</td>\n",
       "      <td>202205</td>\n",
       "    </tr>\n",
       "    <tr>\n",
       "      <th>3095093</th>\n",
       "      <td>899258</td>\n",
       "      <td>purchase</td>\n",
       "      <td>1043</td>\n",
       "      <td>28680</td>\n",
       "      <td>NaN</td>\n",
       "      <td>NaN</td>\n",
       "      <td>2022-06-13 19:23:31.181620</td>\n",
       "      <td>-1</td>\n",
       "      <td>not_ad_purchase</td>\n",
       "      <td>3</td>\n",
       "      <td>Clothing</td>\n",
       "      <td>28680</td>\n",
       "      <td>6796</td>\n",
       "      <td>2022</td>\n",
       "      <td>6</td>\n",
       "      <td>13</td>\n",
       "      <td>2022-06-13</td>\n",
       "      <td>202206</td>\n",
       "    </tr>\n",
       "    <tr>\n",
       "      <th>3095097</th>\n",
       "      <td>899258</td>\n",
       "      <td>purchase</td>\n",
       "      <td>1417</td>\n",
       "      <td>13380</td>\n",
       "      <td>NaN</td>\n",
       "      <td>NaN</td>\n",
       "      <td>2022-10-27 17:50:07.127184</td>\n",
       "      <td>-1</td>\n",
       "      <td>not_ad_purchase</td>\n",
       "      <td>3</td>\n",
       "      <td>Clothing</td>\n",
       "      <td>13380</td>\n",
       "      <td>9032</td>\n",
       "      <td>2022</td>\n",
       "      <td>10</td>\n",
       "      <td>27</td>\n",
       "      <td>2022-10-27</td>\n",
       "      <td>202210</td>\n",
       "    </tr>\n",
       "  </tbody>\n",
       "</table>\n",
       "<p>1016 rows × 18 columns</p>\n",
       "</div>"
      ],
      "text/plain": [
       "         CustomerID ActionType  GoodsCode  Price AdID  CPC  \\\n",
       "1395            340   purchase       1248   6300  NaN  NaN   \n",
       "1400            340   purchase       1276  24390  NaN  NaN   \n",
       "1408            340   purchase       1244  33740  NaN  NaN   \n",
       "1417            340   purchase       1451  18470  NaN  NaN   \n",
       "1422            340   purchase       1328   9110  NaN  NaN   \n",
       "...             ...        ...        ...    ...  ...  ...   \n",
       "3095079      899258   purchase       1308  20200  NaN  NaN   \n",
       "3095084      899258   purchase       1249  31480  NaN  NaN   \n",
       "3095088      899258   purchase       1202  44480  NaN  NaN   \n",
       "3095093      899258   purchase       1043  28680  NaN  NaN   \n",
       "3095097      899258   purchase       1417  13380  NaN  NaN   \n",
       "\n",
       "                         Timestamp  GoodsCode_ad        eval_type  \\\n",
       "1395    2022-03-26 21:06:32.502999            -1  not_ad_purchase   \n",
       "1400    2022-04-23 09:10:31.502999            -1  not_ad_purchase   \n",
       "1408    2022-05-18 14:05:48.502999            -1  not_ad_purchase   \n",
       "1417    2022-06-10 00:15:13.502999            -1  not_ad_purchase   \n",
       "1422    2022-12-14 20:41:06.511967            -1  not_ad_purchase   \n",
       "...                            ...           ...              ...   \n",
       "3095079 2022-03-27 07:58:16.181620            -1  not_ad_purchase   \n",
       "3095084 2022-04-25 03:05:04.181620            -1  not_ad_purchase   \n",
       "3095088 2022-05-17 21:12:25.181620            -1  not_ad_purchase   \n",
       "3095093 2022-06-13 19:23:31.181620            -1  not_ad_purchase   \n",
       "3095097 2022-10-27 17:50:07.127184            -1  not_ad_purchase   \n",
       "\n",
       "        cluster_plus         Category  OriginalPrice  Inventory  year  month  \\\n",
       "1395               3            Books           6300       7881  2022      3   \n",
       "1400               3  Health & Beauty          24390       7924  2022      4   \n",
       "1408               3    Home & Garden          33740       2640  2022      5   \n",
       "1417               3            Books          18470       9601  2022      6   \n",
       "1422               3         Clothing           9110       6126  2022     12   \n",
       "...              ...              ...            ...        ...   ...    ...   \n",
       "3095079            3  Health & Beauty          20200       8059  2022      3   \n",
       "3095084            3    Home & Garden          31480       1954  2022      4   \n",
       "3095088            3      Electronics          44480       9896  2022      5   \n",
       "3095093            3         Clothing          28680       6796  2022      6   \n",
       "3095097            3         Clothing          13380       9032  2022     10   \n",
       "\n",
       "         day        date  YearMonth  \n",
       "1395      26  2022-03-26     202203  \n",
       "1400      23  2022-04-23     202204  \n",
       "1408      18  2022-05-18     202205  \n",
       "1417      10  2022-06-10     202206  \n",
       "1422      14  2022-12-14     202212  \n",
       "...      ...         ...        ...  \n",
       "3095079   27  2022-03-27     202203  \n",
       "3095084   25  2022-04-25     202204  \n",
       "3095088   17  2022-05-17     202205  \n",
       "3095093   13  2022-06-13     202206  \n",
       "3095097   27  2022-10-27     202210  \n",
       "\n",
       "[1016 rows x 18 columns]"
      ]
     },
     "execution_count": 191,
     "metadata": {},
     "output_type": "execute_result"
    }
   ],
   "source": [
    "new_purchase_ratio = df[df['ActionType']=='purchase']\n",
    "new_purchase_ratio = new_purchase_ratio[new_purchase_ratio['cluster_plus']=='3']\n",
    "new_purchase_ratio"
   ]
  },
  {
   "cell_type": "code",
   "execution_count": 206,
   "metadata": {},
   "outputs": [
    {
     "name": "stdout",
     "output_type": "stream",
     "text": [
      "유기적 구매 비율: 0.9724409448818898\n",
      "광고 기반 구매 비율: 0.015748031496062992\n",
      "광고 기여 구매 비율: 0.011811023622047244\n"
     ]
    }
   ],
   "source": [
    "# 유기적 구매 비율\n",
    "organic_purchase = new_purchase_ratio[new_purchase_ratio['eval_type']=='not_ad_purchase'].shape[0]\n",
    "\n",
    "# 광고 기반 구매 비율\n",
    "ad_based_purchase = new_purchase_ratio[new_purchase_ratio['eval_type']=='ad_purchase'].shape[0]\n",
    "# 광고 기여 구매 비율\n",
    "ad_con_purchase = new_purchase_ratio[new_purchase_ratio['eval_type']=='ad_purchase_other'].shape[0]\n",
    "\n",
    "# 비율 계산\n",
    "total_purchase = organic_purchase + ad_based_purchase + ad_con_purchase\n",
    "organic_purchase_ratio_new = organic_purchase / total_purchase\n",
    "ad_based_purchase_ratio_new = ad_based_purchase / total_purchase\n",
    "ad_con_purchase_ratio_new = ad_con_purchase / total_purchase\n",
    "\n",
    "print('유기적 구매 비율:', organic_purchase_ratio_new)\n",
    "print('광고 기반 구매 비율:', ad_based_purchase_ratio_new)\n",
    "print(\"광고 기여 구매 비율:\",ad_con_purchase_ratio_new)\n"
   ]
  },
  {
   "cell_type": "markdown",
   "metadata": {},
   "source": [
    "### 일반고객"
   ]
  },
  {
   "cell_type": "code",
   "execution_count": 193,
   "metadata": {},
   "outputs": [
    {
     "data": {
      "text/html": [
       "<div>\n",
       "<style scoped>\n",
       "    .dataframe tbody tr th:only-of-type {\n",
       "        vertical-align: middle;\n",
       "    }\n",
       "\n",
       "    .dataframe tbody tr th {\n",
       "        vertical-align: top;\n",
       "    }\n",
       "\n",
       "    .dataframe thead th {\n",
       "        text-align: right;\n",
       "    }\n",
       "</style>\n",
       "<table border=\"1\" class=\"dataframe\">\n",
       "  <thead>\n",
       "    <tr style=\"text-align: right;\">\n",
       "      <th></th>\n",
       "      <th>CustomerID</th>\n",
       "      <th>ActionType</th>\n",
       "      <th>GoodsCode</th>\n",
       "      <th>Price</th>\n",
       "      <th>AdID</th>\n",
       "      <th>CPC</th>\n",
       "      <th>Timestamp</th>\n",
       "      <th>GoodsCode_ad</th>\n",
       "      <th>eval_type</th>\n",
       "      <th>cluster_plus</th>\n",
       "      <th>Category</th>\n",
       "      <th>OriginalPrice</th>\n",
       "      <th>Inventory</th>\n",
       "      <th>year</th>\n",
       "      <th>month</th>\n",
       "      <th>day</th>\n",
       "      <th>date</th>\n",
       "      <th>YearMonth</th>\n",
       "    </tr>\n",
       "  </thead>\n",
       "  <tbody>\n",
       "    <tr>\n",
       "      <th>3</th>\n",
       "      <td>6</td>\n",
       "      <td>purchase</td>\n",
       "      <td>1437</td>\n",
       "      <td>35290</td>\n",
       "      <td>NaN</td>\n",
       "      <td>NaN</td>\n",
       "      <td>2022-04-26 21:46:00.166991</td>\n",
       "      <td>-1</td>\n",
       "      <td>not_ad_purchase</td>\n",
       "      <td>4</td>\n",
       "      <td>Home &amp; Garden</td>\n",
       "      <td>35290</td>\n",
       "      <td>3056</td>\n",
       "      <td>2022</td>\n",
       "      <td>4</td>\n",
       "      <td>26</td>\n",
       "      <td>2022-04-26</td>\n",
       "      <td>202204</td>\n",
       "    </tr>\n",
       "    <tr>\n",
       "      <th>10</th>\n",
       "      <td>6</td>\n",
       "      <td>purchase</td>\n",
       "      <td>1047</td>\n",
       "      <td>6670</td>\n",
       "      <td>NaN</td>\n",
       "      <td>NaN</td>\n",
       "      <td>2022-06-02 08:53:44.166991</td>\n",
       "      <td>-1</td>\n",
       "      <td>not_ad_purchase</td>\n",
       "      <td>4</td>\n",
       "      <td>Health &amp; Beauty</td>\n",
       "      <td>6670</td>\n",
       "      <td>1341</td>\n",
       "      <td>2022</td>\n",
       "      <td>6</td>\n",
       "      <td>2</td>\n",
       "      <td>2022-06-02</td>\n",
       "      <td>202206</td>\n",
       "    </tr>\n",
       "    <tr>\n",
       "      <th>14</th>\n",
       "      <td>6</td>\n",
       "      <td>purchase</td>\n",
       "      <td>1486</td>\n",
       "      <td>41930</td>\n",
       "      <td>NaN</td>\n",
       "      <td>NaN</td>\n",
       "      <td>2022-07-05 04:40:30.166991</td>\n",
       "      <td>-1</td>\n",
       "      <td>not_ad_purchase</td>\n",
       "      <td>4</td>\n",
       "      <td>Electronics</td>\n",
       "      <td>41930</td>\n",
       "      <td>7675</td>\n",
       "      <td>2022</td>\n",
       "      <td>7</td>\n",
       "      <td>5</td>\n",
       "      <td>2022-07-05</td>\n",
       "      <td>202207</td>\n",
       "    </tr>\n",
       "    <tr>\n",
       "      <th>36</th>\n",
       "      <td>13</td>\n",
       "      <td>purchase</td>\n",
       "      <td>1367</td>\n",
       "      <td>42850</td>\n",
       "      <td>NaN</td>\n",
       "      <td>NaN</td>\n",
       "      <td>2022-02-27 08:38:57.855443</td>\n",
       "      <td>-1</td>\n",
       "      <td>not_ad_purchase</td>\n",
       "      <td>4</td>\n",
       "      <td>Home &amp; Garden</td>\n",
       "      <td>42850</td>\n",
       "      <td>6776</td>\n",
       "      <td>2022</td>\n",
       "      <td>2</td>\n",
       "      <td>27</td>\n",
       "      <td>2022-02-27</td>\n",
       "      <td>202202</td>\n",
       "    </tr>\n",
       "    <tr>\n",
       "      <th>44</th>\n",
       "      <td>13</td>\n",
       "      <td>purchase</td>\n",
       "      <td>1305</td>\n",
       "      <td>17150</td>\n",
       "      <td>NaN</td>\n",
       "      <td>NaN</td>\n",
       "      <td>2022-04-20 19:12:31.906371</td>\n",
       "      <td>-1</td>\n",
       "      <td>not_ad_purchase</td>\n",
       "      <td>4</td>\n",
       "      <td>Books</td>\n",
       "      <td>17150</td>\n",
       "      <td>3382</td>\n",
       "      <td>2022</td>\n",
       "      <td>4</td>\n",
       "      <td>20</td>\n",
       "      <td>2022-04-20</td>\n",
       "      <td>202204</td>\n",
       "    </tr>\n",
       "    <tr>\n",
       "      <th>...</th>\n",
       "      <td>...</td>\n",
       "      <td>...</td>\n",
       "      <td>...</td>\n",
       "      <td>...</td>\n",
       "      <td>...</td>\n",
       "      <td>...</td>\n",
       "      <td>...</td>\n",
       "      <td>...</td>\n",
       "      <td>...</td>\n",
       "      <td>...</td>\n",
       "      <td>...</td>\n",
       "      <td>...</td>\n",
       "      <td>...</td>\n",
       "      <td>...</td>\n",
       "      <td>...</td>\n",
       "      <td>...</td>\n",
       "      <td>...</td>\n",
       "      <td>...</td>\n",
       "    </tr>\n",
       "    <tr>\n",
       "      <th>3096910</th>\n",
       "      <td>899999</td>\n",
       "      <td>purchase</td>\n",
       "      <td>1368</td>\n",
       "      <td>6660</td>\n",
       "      <td>NaN</td>\n",
       "      <td>NaN</td>\n",
       "      <td>2022-03-18 23:44:47.722389</td>\n",
       "      <td>-1</td>\n",
       "      <td>not_ad_purchase</td>\n",
       "      <td>4</td>\n",
       "      <td>Books</td>\n",
       "      <td>6660</td>\n",
       "      <td>4676</td>\n",
       "      <td>2022</td>\n",
       "      <td>3</td>\n",
       "      <td>18</td>\n",
       "      <td>2022-03-18</td>\n",
       "      <td>202203</td>\n",
       "    </tr>\n",
       "    <tr>\n",
       "      <th>3096911</th>\n",
       "      <td>899999</td>\n",
       "      <td>purchase</td>\n",
       "      <td>1368</td>\n",
       "      <td>6660</td>\n",
       "      <td>NaN</td>\n",
       "      <td>NaN</td>\n",
       "      <td>2022-03-21 01:52:58.722389</td>\n",
       "      <td>-1</td>\n",
       "      <td>not_ad_purchase</td>\n",
       "      <td>4</td>\n",
       "      <td>Books</td>\n",
       "      <td>6660</td>\n",
       "      <td>4676</td>\n",
       "      <td>2022</td>\n",
       "      <td>3</td>\n",
       "      <td>21</td>\n",
       "      <td>2022-03-21</td>\n",
       "      <td>202203</td>\n",
       "    </tr>\n",
       "    <tr>\n",
       "      <th>3096914</th>\n",
       "      <td>899999</td>\n",
       "      <td>purchase</td>\n",
       "      <td>1059</td>\n",
       "      <td>21230</td>\n",
       "      <td>NaN</td>\n",
       "      <td>NaN</td>\n",
       "      <td>2022-04-04 08:26:03.722389</td>\n",
       "      <td>-1</td>\n",
       "      <td>not_ad_purchase</td>\n",
       "      <td>4</td>\n",
       "      <td>Clothing</td>\n",
       "      <td>21230</td>\n",
       "      <td>4629</td>\n",
       "      <td>2022</td>\n",
       "      <td>4</td>\n",
       "      <td>4</td>\n",
       "      <td>2022-04-04</td>\n",
       "      <td>202204</td>\n",
       "    </tr>\n",
       "    <tr>\n",
       "      <th>3096922</th>\n",
       "      <td>899999</td>\n",
       "      <td>purchase</td>\n",
       "      <td>1059</td>\n",
       "      <td>21230</td>\n",
       "      <td>NaN</td>\n",
       "      <td>NaN</td>\n",
       "      <td>2022-04-29 20:42:41.722389</td>\n",
       "      <td>-1</td>\n",
       "      <td>not_ad_purchase</td>\n",
       "      <td>4</td>\n",
       "      <td>Clothing</td>\n",
       "      <td>21230</td>\n",
       "      <td>4629</td>\n",
       "      <td>2022</td>\n",
       "      <td>4</td>\n",
       "      <td>29</td>\n",
       "      <td>2022-04-29</td>\n",
       "      <td>202204</td>\n",
       "    </tr>\n",
       "    <tr>\n",
       "      <th>3096929</th>\n",
       "      <td>899999</td>\n",
       "      <td>purchase</td>\n",
       "      <td>1034</td>\n",
       "      <td>12910</td>\n",
       "      <td>NaN</td>\n",
       "      <td>NaN</td>\n",
       "      <td>2022-06-20 03:40:43.722389</td>\n",
       "      <td>-1</td>\n",
       "      <td>not_ad_purchase</td>\n",
       "      <td>4</td>\n",
       "      <td>Home &amp; Garden</td>\n",
       "      <td>12910</td>\n",
       "      <td>3051</td>\n",
       "      <td>2022</td>\n",
       "      <td>6</td>\n",
       "      <td>20</td>\n",
       "      <td>2022-06-20</td>\n",
       "      <td>202206</td>\n",
       "    </tr>\n",
       "  </tbody>\n",
       "</table>\n",
       "<p>155351 rows × 18 columns</p>\n",
       "</div>"
      ],
      "text/plain": [
       "         CustomerID ActionType  GoodsCode  Price AdID  CPC  \\\n",
       "3                 6   purchase       1437  35290  NaN  NaN   \n",
       "10                6   purchase       1047   6670  NaN  NaN   \n",
       "14                6   purchase       1486  41930  NaN  NaN   \n",
       "36               13   purchase       1367  42850  NaN  NaN   \n",
       "44               13   purchase       1305  17150  NaN  NaN   \n",
       "...             ...        ...        ...    ...  ...  ...   \n",
       "3096910      899999   purchase       1368   6660  NaN  NaN   \n",
       "3096911      899999   purchase       1368   6660  NaN  NaN   \n",
       "3096914      899999   purchase       1059  21230  NaN  NaN   \n",
       "3096922      899999   purchase       1059  21230  NaN  NaN   \n",
       "3096929      899999   purchase       1034  12910  NaN  NaN   \n",
       "\n",
       "                         Timestamp  GoodsCode_ad        eval_type  \\\n",
       "3       2022-04-26 21:46:00.166991            -1  not_ad_purchase   \n",
       "10      2022-06-02 08:53:44.166991            -1  not_ad_purchase   \n",
       "14      2022-07-05 04:40:30.166991            -1  not_ad_purchase   \n",
       "36      2022-02-27 08:38:57.855443            -1  not_ad_purchase   \n",
       "44      2022-04-20 19:12:31.906371            -1  not_ad_purchase   \n",
       "...                            ...           ...              ...   \n",
       "3096910 2022-03-18 23:44:47.722389            -1  not_ad_purchase   \n",
       "3096911 2022-03-21 01:52:58.722389            -1  not_ad_purchase   \n",
       "3096914 2022-04-04 08:26:03.722389            -1  not_ad_purchase   \n",
       "3096922 2022-04-29 20:42:41.722389            -1  not_ad_purchase   \n",
       "3096929 2022-06-20 03:40:43.722389            -1  not_ad_purchase   \n",
       "\n",
       "        cluster_plus         Category  OriginalPrice  Inventory  year  month  \\\n",
       "3                  4    Home & Garden          35290       3056  2022      4   \n",
       "10                 4  Health & Beauty           6670       1341  2022      6   \n",
       "14                 4      Electronics          41930       7675  2022      7   \n",
       "36                 4    Home & Garden          42850       6776  2022      2   \n",
       "44                 4            Books          17150       3382  2022      4   \n",
       "...              ...              ...            ...        ...   ...    ...   \n",
       "3096910            4            Books           6660       4676  2022      3   \n",
       "3096911            4            Books           6660       4676  2022      3   \n",
       "3096914            4         Clothing          21230       4629  2022      4   \n",
       "3096922            4         Clothing          21230       4629  2022      4   \n",
       "3096929            4    Home & Garden          12910       3051  2022      6   \n",
       "\n",
       "         day        date  YearMonth  \n",
       "3         26  2022-04-26     202204  \n",
       "10         2  2022-06-02     202206  \n",
       "14         5  2022-07-05     202207  \n",
       "36        27  2022-02-27     202202  \n",
       "44        20  2022-04-20     202204  \n",
       "...      ...         ...        ...  \n",
       "3096910   18  2022-03-18     202203  \n",
       "3096911   21  2022-03-21     202203  \n",
       "3096914    4  2022-04-04     202204  \n",
       "3096922   29  2022-04-29     202204  \n",
       "3096929   20  2022-06-20     202206  \n",
       "\n",
       "[155351 rows x 18 columns]"
      ]
     },
     "execution_count": 193,
     "metadata": {},
     "output_type": "execute_result"
    }
   ],
   "source": [
    "normal_purchase_ratio = df[df['ActionType']=='purchase']\n",
    "normal_purchase_ratio = normal_purchase_ratio[normal_purchase_ratio['cluster_plus']=='4']\n",
    "normal_purchase_ratio"
   ]
  },
  {
   "cell_type": "code",
   "execution_count": 209,
   "metadata": {},
   "outputs": [
    {
     "name": "stdout",
     "output_type": "stream",
     "text": [
      "유기적 구매 비율: 0.9374126976974722\n",
      "광고 기반 구매 비율: 0.016968027241536905\n",
      "광고 기여 구매 비율: 0.045619275060990915\n"
     ]
    }
   ],
   "source": [
    "# 유기적 구매 비율\n",
    "organic_purchase = normal_purchase_ratio[normal_purchase_ratio['eval_type']=='not_ad_purchase'].shape[0]\n",
    "\n",
    "# 광고 기반 구매 비율\n",
    "ad_based_purchase = normal_purchase_ratio[normal_purchase_ratio['eval_type']=='ad_purchase'].shape[0]\n",
    "# 광고 기여 구매 비율\n",
    "ad_con_purchase = normal_purchase_ratio[normal_purchase_ratio['eval_type']=='ad_purchase_other'].shape[0]\n",
    "\n",
    "# 비율 계산\n",
    "total_purchase = organic_purchase + ad_based_purchase + ad_con_purchase\n",
    "organic_purchase_ratio_normal = organic_purchase / total_purchase\n",
    "ad_based_purchase_ratio_normal = ad_based_purchase / total_purchase\n",
    "ad_con_purchase_ratio_normal = ad_con_purchase / total_purchase\n",
    "\n",
    "print('유기적 구매 비율:', organic_purchase_ratio_normal)\n",
    "print('광고 기반 구매 비율:', ad_based_purchase_ratio_normal)\n",
    "print('광고 기여 구매 비율:',ad_con_purchase_ratio_normal)"
   ]
  },
  {
   "cell_type": "code",
   "execution_count": 212,
   "metadata": {},
   "outputs": [
    {
     "name": "stdout",
     "output_type": "stream",
     "text": [
      "이탈고객 organic과 광고 구매 비율\n",
      "Organic 구매 비율: 0.9550671869642595\n",
      "광고 기여 구매 비율: 0.02845853674465688\n",
      "광고 기반 구매 비율: 0.016474276291083646\n",
      "----------------------------------------\n",
      "우수고객 organic과 광고 구매 비율\n",
      "Organic 구매 비율: 0.9131221184537179\n",
      "광고 기여 구매 비율: 0.06997281002482562\n",
      "광고 기반 구매 비율: 0.016905071521456438\n",
      "----------------------------------------\n",
      "vip organic과 광고 구매 비율\n",
      "Organic 구매 비율: 0.8923175143647585\n",
      "광고 기여 구매 비율: 0.08746541817407959\n",
      "광고 기반 구매 비율: 0.02021706746116195\n",
      "----------------------------------------\n",
      "중요고객 organic과 광고 구매 비율\n",
      "Organic 구매 비율: 0.9431002176367212\n",
      "광고 기여 구매 비율: 0.039803079501414054\n",
      "광고 기반 구매 비율: 0.017096702861864693\n",
      "----------------------------------------\n",
      "신규고객 organic과 광고 구매 비율\n",
      "Organic 구매 비율: 0.9724409448818898\n",
      "광고 기여 구매 비율: 0.011811023622047244\n",
      "광고 기반 구매 비율: 0.015748031496062992\n",
      "----------------------------------------\n",
      "일반고객 organic과 광고 구매 비율\n",
      "Organic 구매 비율: 0.9374126976974722\n",
      "광고 기여 구매 비율: 0.045619275060990915\n",
      "광고 기반 구매 비율: 0.016968027241536905\n",
      "----------------------------------------\n"
     ]
    }
   ],
   "source": [
    "cluster = ['이탈고객', '우수고객', 'vip', '중요고객', '신규고객', '일반고객']\n",
    "cluster_en = ['etal', 'usu','vip','jyungyo','new','normal']\n",
    "\n",
    "for k in range(len(cluster)):\n",
    "    cluster_name = cluster[k]\n",
    "    cluster_code = cluster_en[k]\n",
    "    organic_purchase_ratio = globals()['organic_purchase_ratio_' + cluster_code]\n",
    "    ad_con_purchase_ratio = globals()['ad_con_purchase_ratio_' + cluster_code]\n",
    "    ad_based_purchase_ratio = globals()['ad_based_purchase_ratio_' + cluster_code]\n",
    "\n",
    "    print(f\"{cluster_name} organic과 광고 구매 비율\")\n",
    "    print('Organic 구매 비율:', organic_purchase_ratio)\n",
    "    print('광고 기여 구매 비율:', ad_con_purchase_ratio)\n",
    "    print('광고 기반 구매 비율:', ad_based_purchase_ratio)\n",
    "    print(\"-\"*40)\n"
   ]
  },
  {
   "cell_type": "code",
   "execution_count": 229,
   "metadata": {},
   "outputs": [
    {
     "data": {
      "text/plain": [
       "<Figure size 2000x600 with 0 Axes>"
      ]
     },
     "metadata": {},
     "output_type": "display_data"
    },
    {
     "data": {
      "image/png": "[encoded data removed]",
      "text/plain": [
       "<Figure size 640x480 with 1 Axes>"
      ]
     },
     "metadata": {},
     "output_type": "display_data"
    }
   ],
   "source": [
    "# 연도별 클러스터의 구매 비율 계산\n",
    "purchase_ratio = df[df['ActionType']=='purchase'].groupby(['year', 'cluster_plus']).size().unstack()\n",
    "purchase_ratio = purchase_ratio.div(purchase_ratio.sum(axis=1), axis=0)\n",
    "\n",
    "# 시각화\n",
    "plt.figure(figsize=(20,6))\n",
    "purchase_ratio.plot(kind='bar')\n",
    "plt.title('연도별 클러스터의 구매 비율 변화')\n",
    "plt.xlabel('연도')\n",
    "plt.ylabel('구매 비율')\n",
    "plt.legend(title='클러스터', bbox_to_anchor=(1.05, 1), loc='upper left')\n",
    "plt.show()"
   ]
  },
  {
   "cell_type": "code",
   "execution_count": 218,
   "metadata": {},
   "outputs": [
    {
     "data": {
      "text/html": [
       "<div>\n",
       "<style scoped>\n",
       "    .dataframe tbody tr th:only-of-type {\n",
       "        vertical-align: middle;\n",
       "    }\n",
       "\n",
       "    .dataframe tbody tr th {\n",
       "        vertical-align: top;\n",
       "    }\n",
       "\n",
       "    .dataframe thead th {\n",
       "        text-align: right;\n",
       "    }\n",
       "</style>\n",
       "<table border=\"1\" class=\"dataframe\">\n",
       "  <thead>\n",
       "    <tr style=\"text-align: right;\">\n",
       "      <th>cluster_plus</th>\n",
       "      <th>0</th>\n",
       "      <th>1</th>\n",
       "      <th>2</th>\n",
       "      <th>3</th>\n",
       "      <th>4</th>\n",
       "      <th>vip</th>\n",
       "    </tr>\n",
       "    <tr>\n",
       "      <th>year</th>\n",
       "      <th></th>\n",
       "      <th></th>\n",
       "      <th></th>\n",
       "      <th></th>\n",
       "      <th></th>\n",
       "      <th></th>\n",
       "    </tr>\n",
       "  </thead>\n",
       "  <tbody>\n",
       "    <tr>\n",
       "      <th>2022</th>\n",
       "      <td>0.267112</td>\n",
       "      <td>0.184458</td>\n",
       "      <td>0.187365</td>\n",
       "      <td>0.00181</td>\n",
       "      <td>0.338761</td>\n",
       "      <td>0.020493</td>\n",
       "    </tr>\n",
       "    <tr>\n",
       "      <th>2023</th>\n",
       "      <td>NaN</td>\n",
       "      <td>NaN</td>\n",
       "      <td>NaN</td>\n",
       "      <td>1.00000</td>\n",
       "      <td>NaN</td>\n",
       "      <td>NaN</td>\n",
       "    </tr>\n",
       "  </tbody>\n",
       "</table>\n",
       "</div>"
      ],
      "text/plain": [
       "cluster_plus         0         1         2        3         4       vip\n",
       "year                                                                   \n",
       "2022          0.267112  0.184458  0.187365  0.00181  0.338761  0.020493\n",
       "2023               NaN       NaN       NaN  1.00000       NaN       NaN"
      ]
     },
     "execution_count": 218,
     "metadata": {},
     "output_type": "execute_result"
    }
   ],
   "source": [
    "purchase_ratio"
   ]
  },
  {
   "cell_type": "code",
   "execution_count": 230,
   "metadata": {},
   "outputs": [
    {
     "data": {
      "text/html": [
       "<div>\n",
       "<style scoped>\n",
       "    .dataframe tbody tr th:only-of-type {\n",
       "        vertical-align: middle;\n",
       "    }\n",
       "\n",
       "    .dataframe tbody tr th {\n",
       "        vertical-align: top;\n",
       "    }\n",
       "\n",
       "    .dataframe thead th {\n",
       "        text-align: right;\n",
       "    }\n",
       "</style>\n",
       "<table border=\"1\" class=\"dataframe\">\n",
       "  <thead>\n",
       "    <tr style=\"text-align: right;\">\n",
       "      <th></th>\n",
       "      <th>Unnamed: 0</th>\n",
       "      <th>CustomerID</th>\n",
       "      <th>ActionType</th>\n",
       "      <th>GoodsCode</th>\n",
       "      <th>Price</th>\n",
       "      <th>AdID</th>\n",
       "      <th>CPC</th>\n",
       "      <th>Adjusted_Timestamp</th>\n",
       "    </tr>\n",
       "  </thead>\n",
       "  <tbody>\n",
       "    <tr>\n",
       "      <th>0</th>\n",
       "      <td>3</td>\n",
       "      <td>74377</td>\n",
       "      <td>view</td>\n",
       "      <td>1484</td>\n",
       "      <td>108329.532942</td>\n",
       "      <td>NaN</td>\n",
       "      <td>NaN</td>\n",
       "      <td>2022-02-17 19:07:19.511967</td>\n",
       "    </tr>\n",
       "    <tr>\n",
       "      <th>1</th>\n",
       "      <td>4</td>\n",
       "      <td>74377</td>\n",
       "      <td>purchase</td>\n",
       "      <td>1484</td>\n",
       "      <td>108329.532942</td>\n",
       "      <td>NaN</td>\n",
       "      <td>NaN</td>\n",
       "      <td>2022-03-20 04:26:25.511967</td>\n",
       "    </tr>\n",
       "    <tr>\n",
       "      <th>2</th>\n",
       "      <td>5</td>\n",
       "      <td>74377</td>\n",
       "      <td>view</td>\n",
       "      <td>1063</td>\n",
       "      <td>14371.764488</td>\n",
       "      <td>NaN</td>\n",
       "      <td>NaN</td>\n",
       "      <td>2022-03-02 04:43:47.511967</td>\n",
       "    </tr>\n",
       "    <tr>\n",
       "      <th>3</th>\n",
       "      <td>6</td>\n",
       "      <td>74377</td>\n",
       "      <td>purchase</td>\n",
       "      <td>1063</td>\n",
       "      <td>14371.764488</td>\n",
       "      <td>NaN</td>\n",
       "      <td>NaN</td>\n",
       "      <td>2022-03-22 00:42:08.511967</td>\n",
       "    </tr>\n",
       "    <tr>\n",
       "      <th>4</th>\n",
       "      <td>7</td>\n",
       "      <td>74377</td>\n",
       "      <td>ad_click</td>\n",
       "      <td>1203</td>\n",
       "      <td>85293.452164</td>\n",
       "      <td>ad_google</td>\n",
       "      <td>175.38</td>\n",
       "      <td>2022-04-16 22:19:28.511967</td>\n",
       "    </tr>\n",
       "    <tr>\n",
       "      <th>...</th>\n",
       "      <td>...</td>\n",
       "      <td>...</td>\n",
       "      <td>...</td>\n",
       "      <td>...</td>\n",
       "      <td>...</td>\n",
       "      <td>...</td>\n",
       "      <td>...</td>\n",
       "      <td>...</td>\n",
       "    </tr>\n",
       "    <tr>\n",
       "      <th>3096926</th>\n",
       "      <td>12</td>\n",
       "      <td>454879</td>\n",
       "      <td>view</td>\n",
       "      <td>1250</td>\n",
       "      <td>100420.934163</td>\n",
       "      <td>NaN</td>\n",
       "      <td>NaN</td>\n",
       "      <td>2022-05-27 08:18:40.554370</td>\n",
       "    </tr>\n",
       "    <tr>\n",
       "      <th>3096927</th>\n",
       "      <td>13</td>\n",
       "      <td>454879</td>\n",
       "      <td>view</td>\n",
       "      <td>1250</td>\n",
       "      <td>100420.934163</td>\n",
       "      <td>NaN</td>\n",
       "      <td>NaN</td>\n",
       "      <td>2022-04-25 00:41:09.554370</td>\n",
       "    </tr>\n",
       "    <tr>\n",
       "      <th>3096928</th>\n",
       "      <td>14</td>\n",
       "      <td>454879</td>\n",
       "      <td>share</td>\n",
       "      <td>1250</td>\n",
       "      <td>100420.934163</td>\n",
       "      <td>NaN</td>\n",
       "      <td>NaN</td>\n",
       "      <td>2022-06-14 03:44:21.554370</td>\n",
       "    </tr>\n",
       "    <tr>\n",
       "      <th>3096929</th>\n",
       "      <td>15</td>\n",
       "      <td>454879</td>\n",
       "      <td>basket</td>\n",
       "      <td>1250</td>\n",
       "      <td>100420.934163</td>\n",
       "      <td>NaN</td>\n",
       "      <td>NaN</td>\n",
       "      <td>2022-05-13 11:09:41.554370</td>\n",
       "    </tr>\n",
       "    <tr>\n",
       "      <th>3096930</th>\n",
       "      <td>16</td>\n",
       "      <td>454879</td>\n",
       "      <td>purchase</td>\n",
       "      <td>1250</td>\n",
       "      <td>100420.934163</td>\n",
       "      <td>NaN</td>\n",
       "      <td>NaN</td>\n",
       "      <td>2022-06-19 11:04:44.554370</td>\n",
       "    </tr>\n",
       "  </tbody>\n",
       "</table>\n",
       "<p>3096931 rows × 8 columns</p>\n",
       "</div>"
      ],
      "text/plain": [
       "         Unnamed: 0  CustomerID ActionType  GoodsCode          Price  \\\n",
       "0                 3       74377       view       1484  108329.532942   \n",
       "1                 4       74377   purchase       1484  108329.532942   \n",
       "2                 5       74377       view       1063   14371.764488   \n",
       "3                 6       74377   purchase       1063   14371.764488   \n",
       "4                 7       74377   ad_click       1203   85293.452164   \n",
       "...             ...         ...        ...        ...            ...   \n",
       "3096926          12      454879       view       1250  100420.934163   \n",
       "3096927          13      454879       view       1250  100420.934163   \n",
       "3096928          14      454879      share       1250  100420.934163   \n",
       "3096929          15      454879     basket       1250  100420.934163   \n",
       "3096930          16      454879   purchase       1250  100420.934163   \n",
       "\n",
       "              AdID     CPC          Adjusted_Timestamp  \n",
       "0              NaN     NaN  2022-02-17 19:07:19.511967  \n",
       "1              NaN     NaN  2022-03-20 04:26:25.511967  \n",
       "2              NaN     NaN  2022-03-02 04:43:47.511967  \n",
       "3              NaN     NaN  2022-03-22 00:42:08.511967  \n",
       "4        ad_google  175.38  2022-04-16 22:19:28.511967  \n",
       "...            ...     ...                         ...  \n",
       "3096926        NaN     NaN  2022-05-27 08:18:40.554370  \n",
       "3096927        NaN     NaN  2022-04-25 00:41:09.554370  \n",
       "3096928        NaN     NaN  2022-06-14 03:44:21.554370  \n",
       "3096929        NaN     NaN  2022-05-13 11:09:41.554370  \n",
       "3096930        NaN     NaN  2022-06-19 11:04:44.554370  \n",
       "\n",
       "[3096931 rows x 8 columns]"
      ]
     },
     "execution_count": 230,
     "metadata": {},
     "output_type": "execute_result"
    }
   ],
   "source": [
    "real_log = pd.read_csv('/Users/hj/Documents/Four-A/2nd dataset/khj/data/real_real_log.csv')\n",
    "real_log"
   ]
  },
  {
   "cell_type": "code",
   "execution_count": 235,
   "metadata": {},
   "outputs": [
    {
     "data": {
      "text/html": [
       "<div>\n",
       "<style scoped>\n",
       "    .dataframe tbody tr th:only-of-type {\n",
       "        vertical-align: middle;\n",
       "    }\n",
       "\n",
       "    .dataframe tbody tr th {\n",
       "        vertical-align: top;\n",
       "    }\n",
       "\n",
       "    .dataframe thead th {\n",
       "        text-align: right;\n",
       "    }\n",
       "</style>\n",
       "<table border=\"1\" class=\"dataframe\">\n",
       "  <thead>\n",
       "    <tr style=\"text-align: right;\">\n",
       "      <th></th>\n",
       "      <th>CustomerID</th>\n",
       "      <th>ActionType</th>\n",
       "      <th>GoodsCode</th>\n",
       "      <th>Price</th>\n",
       "      <th>AdID</th>\n",
       "      <th>CPC</th>\n",
       "      <th>Timestamp</th>\n",
       "      <th>GoodsCode_ad</th>\n",
       "      <th>eval_type</th>\n",
       "      <th>cluster_plus</th>\n",
       "      <th>Category</th>\n",
       "      <th>OriginalPrice</th>\n",
       "      <th>Inventory</th>\n",
       "      <th>year</th>\n",
       "      <th>month</th>\n",
       "      <th>day</th>\n",
       "      <th>date</th>\n",
       "      <th>YearMonth</th>\n",
       "    </tr>\n",
       "  </thead>\n",
       "  <tbody>\n",
       "    <tr>\n",
       "      <th>0</th>\n",
       "      <td>4</td>\n",
       "      <td>view</td>\n",
       "      <td>1492</td>\n",
       "      <td>15020</td>\n",
       "      <td>NaN</td>\n",
       "      <td>NaN</td>\n",
       "      <td>2022-07-04 15:11:42.511967</td>\n",
       "      <td>-1</td>\n",
       "      <td>not_ad_view</td>\n",
       "      <td>NaN</td>\n",
       "      <td>Books</td>\n",
       "      <td>15020</td>\n",
       "      <td>6631</td>\n",
       "      <td>2022</td>\n",
       "      <td>7</td>\n",
       "      <td>4</td>\n",
       "      <td>2022-07-04</td>\n",
       "      <td>202207</td>\n",
       "    </tr>\n",
       "    <tr>\n",
       "      <th>1</th>\n",
       "      <td>4</td>\n",
       "      <td>view</td>\n",
       "      <td>1492</td>\n",
       "      <td>15020</td>\n",
       "      <td>NaN</td>\n",
       "      <td>NaN</td>\n",
       "      <td>2022-07-24 14:44:40.511967</td>\n",
       "      <td>-1</td>\n",
       "      <td>not_ad_view</td>\n",
       "      <td>NaN</td>\n",
       "      <td>Books</td>\n",
       "      <td>15020</td>\n",
       "      <td>6631</td>\n",
       "      <td>2022</td>\n",
       "      <td>7</td>\n",
       "      <td>24</td>\n",
       "      <td>2022-07-24</td>\n",
       "      <td>202207</td>\n",
       "    </tr>\n",
       "    <tr>\n",
       "      <th>2</th>\n",
       "      <td>6</td>\n",
       "      <td>view</td>\n",
       "      <td>1415</td>\n",
       "      <td>12980</td>\n",
       "      <td>NaN</td>\n",
       "      <td>NaN</td>\n",
       "      <td>2022-04-22 15:49:44.166991</td>\n",
       "      <td>-1</td>\n",
       "      <td>not_ad_view</td>\n",
       "      <td>4</td>\n",
       "      <td>Health &amp; Beauty</td>\n",
       "      <td>12980</td>\n",
       "      <td>9905</td>\n",
       "      <td>2022</td>\n",
       "      <td>4</td>\n",
       "      <td>22</td>\n",
       "      <td>2022-04-22</td>\n",
       "      <td>202204</td>\n",
       "    </tr>\n",
       "    <tr>\n",
       "      <th>3</th>\n",
       "      <td>6</td>\n",
       "      <td>purchase</td>\n",
       "      <td>1437</td>\n",
       "      <td>35290</td>\n",
       "      <td>NaN</td>\n",
       "      <td>NaN</td>\n",
       "      <td>2022-04-26 21:46:00.166991</td>\n",
       "      <td>-1</td>\n",
       "      <td>not_ad_purchase</td>\n",
       "      <td>4</td>\n",
       "      <td>Home &amp; Garden</td>\n",
       "      <td>35290</td>\n",
       "      <td>3056</td>\n",
       "      <td>2022</td>\n",
       "      <td>4</td>\n",
       "      <td>26</td>\n",
       "      <td>2022-04-26</td>\n",
       "      <td>202204</td>\n",
       "    </tr>\n",
       "    <tr>\n",
       "      <th>4</th>\n",
       "      <td>6</td>\n",
       "      <td>view</td>\n",
       "      <td>1217</td>\n",
       "      <td>16220</td>\n",
       "      <td>NaN</td>\n",
       "      <td>NaN</td>\n",
       "      <td>2022-05-03 14:26:12.811783</td>\n",
       "      <td>-1</td>\n",
       "      <td>not_ad_view</td>\n",
       "      <td>4</td>\n",
       "      <td>Books</td>\n",
       "      <td>16220</td>\n",
       "      <td>6429</td>\n",
       "      <td>2022</td>\n",
       "      <td>5</td>\n",
       "      <td>3</td>\n",
       "      <td>2022-05-03</td>\n",
       "      <td>202205</td>\n",
       "    </tr>\n",
       "    <tr>\n",
       "      <th>5</th>\n",
       "      <td>6</td>\n",
       "      <td>view</td>\n",
       "      <td>1047</td>\n",
       "      <td>6670</td>\n",
       "      <td>NaN</td>\n",
       "      <td>NaN</td>\n",
       "      <td>2022-05-03 20:32:37.166991</td>\n",
       "      <td>-1</td>\n",
       "      <td>not_ad_view</td>\n",
       "      <td>4</td>\n",
       "      <td>Health &amp; Beauty</td>\n",
       "      <td>6670</td>\n",
       "      <td>1341</td>\n",
       "      <td>2022</td>\n",
       "      <td>5</td>\n",
       "      <td>3</td>\n",
       "      <td>2022-05-03</td>\n",
       "      <td>202205</td>\n",
       "    </tr>\n",
       "    <tr>\n",
       "      <th>6</th>\n",
       "      <td>6</td>\n",
       "      <td>view</td>\n",
       "      <td>1047</td>\n",
       "      <td>6670</td>\n",
       "      <td>NaN</td>\n",
       "      <td>NaN</td>\n",
       "      <td>2022-05-04 12:39:47.166991</td>\n",
       "      <td>-1</td>\n",
       "      <td>not_ad_view</td>\n",
       "      <td>4</td>\n",
       "      <td>Health &amp; Beauty</td>\n",
       "      <td>6670</td>\n",
       "      <td>1341</td>\n",
       "      <td>2022</td>\n",
       "      <td>5</td>\n",
       "      <td>4</td>\n",
       "      <td>2022-05-04</td>\n",
       "      <td>202205</td>\n",
       "    </tr>\n",
       "    <tr>\n",
       "      <th>7</th>\n",
       "      <td>6</td>\n",
       "      <td>ad_click</td>\n",
       "      <td>1437</td>\n",
       "      <td>35290</td>\n",
       "      <td>ad_google</td>\n",
       "      <td>182.31</td>\n",
       "      <td>2022-05-07 21:00:59.166991</td>\n",
       "      <td>1437</td>\n",
       "      <td>ad_click</td>\n",
       "      <td>4</td>\n",
       "      <td>Home &amp; Garden</td>\n",
       "      <td>35290</td>\n",
       "      <td>3056</td>\n",
       "      <td>2022</td>\n",
       "      <td>5</td>\n",
       "      <td>7</td>\n",
       "      <td>2022-05-07</td>\n",
       "      <td>202205</td>\n",
       "    </tr>\n",
       "    <tr>\n",
       "      <th>8</th>\n",
       "      <td>6</td>\n",
       "      <td>view</td>\n",
       "      <td>1437</td>\n",
       "      <td>35290</td>\n",
       "      <td>NaN</td>\n",
       "      <td>NaN</td>\n",
       "      <td>2022-05-12 10:25:41.166991</td>\n",
       "      <td>1437</td>\n",
       "      <td>ad_view</td>\n",
       "      <td>4</td>\n",
       "      <td>Home &amp; Garden</td>\n",
       "      <td>35290</td>\n",
       "      <td>3056</td>\n",
       "      <td>2022</td>\n",
       "      <td>5</td>\n",
       "      <td>12</td>\n",
       "      <td>2022-05-12</td>\n",
       "      <td>202205</td>\n",
       "    </tr>\n",
       "    <tr>\n",
       "      <th>9</th>\n",
       "      <td>6</td>\n",
       "      <td>basket</td>\n",
       "      <td>1217</td>\n",
       "      <td>16220</td>\n",
       "      <td>NaN</td>\n",
       "      <td>NaN</td>\n",
       "      <td>2022-05-18 03:08:13.811783</td>\n",
       "      <td>-1</td>\n",
       "      <td>not_ad_basket</td>\n",
       "      <td>4</td>\n",
       "      <td>Books</td>\n",
       "      <td>16220</td>\n",
       "      <td>6429</td>\n",
       "      <td>2022</td>\n",
       "      <td>5</td>\n",
       "      <td>18</td>\n",
       "      <td>2022-05-18</td>\n",
       "      <td>202205</td>\n",
       "    </tr>\n",
       "    <tr>\n",
       "      <th>10</th>\n",
       "      <td>6</td>\n",
       "      <td>purchase</td>\n",
       "      <td>1047</td>\n",
       "      <td>6670</td>\n",
       "      <td>NaN</td>\n",
       "      <td>NaN</td>\n",
       "      <td>2022-06-02 08:53:44.166991</td>\n",
       "      <td>-1</td>\n",
       "      <td>not_ad_purchase</td>\n",
       "      <td>4</td>\n",
       "      <td>Health &amp; Beauty</td>\n",
       "      <td>6670</td>\n",
       "      <td>1341</td>\n",
       "      <td>2022</td>\n",
       "      <td>6</td>\n",
       "      <td>2</td>\n",
       "      <td>2022-06-02</td>\n",
       "      <td>202206</td>\n",
       "    </tr>\n",
       "    <tr>\n",
       "      <th>11</th>\n",
       "      <td>6</td>\n",
       "      <td>view</td>\n",
       "      <td>1437</td>\n",
       "      <td>35290</td>\n",
       "      <td>NaN</td>\n",
       "      <td>NaN</td>\n",
       "      <td>2022-06-03 01:25:53.166991</td>\n",
       "      <td>-1</td>\n",
       "      <td>not_ad_view</td>\n",
       "      <td>4</td>\n",
       "      <td>Home &amp; Garden</td>\n",
       "      <td>35290</td>\n",
       "      <td>3056</td>\n",
       "      <td>2022</td>\n",
       "      <td>6</td>\n",
       "      <td>3</td>\n",
       "      <td>2022-06-03</td>\n",
       "      <td>202206</td>\n",
       "    </tr>\n",
       "    <tr>\n",
       "      <th>12</th>\n",
       "      <td>6</td>\n",
       "      <td>view</td>\n",
       "      <td>1486</td>\n",
       "      <td>41930</td>\n",
       "      <td>NaN</td>\n",
       "      <td>NaN</td>\n",
       "      <td>2022-06-28 06:00:23.166991</td>\n",
       "      <td>-1</td>\n",
       "      <td>not_ad_view</td>\n",
       "      <td>4</td>\n",
       "      <td>Electronics</td>\n",
       "      <td>41930</td>\n",
       "      <td>7675</td>\n",
       "      <td>2022</td>\n",
       "      <td>6</td>\n",
       "      <td>28</td>\n",
       "      <td>2022-06-28</td>\n",
       "      <td>202206</td>\n",
       "    </tr>\n",
       "    <tr>\n",
       "      <th>13</th>\n",
       "      <td>6</td>\n",
       "      <td>view</td>\n",
       "      <td>1486</td>\n",
       "      <td>41930</td>\n",
       "      <td>NaN</td>\n",
       "      <td>NaN</td>\n",
       "      <td>2022-07-04 11:46:45.166991</td>\n",
       "      <td>-1</td>\n",
       "      <td>not_ad_view</td>\n",
       "      <td>4</td>\n",
       "      <td>Electronics</td>\n",
       "      <td>41930</td>\n",
       "      <td>7675</td>\n",
       "      <td>2022</td>\n",
       "      <td>7</td>\n",
       "      <td>4</td>\n",
       "      <td>2022-07-04</td>\n",
       "      <td>202207</td>\n",
       "    </tr>\n",
       "    <tr>\n",
       "      <th>14</th>\n",
       "      <td>6</td>\n",
       "      <td>purchase</td>\n",
       "      <td>1486</td>\n",
       "      <td>41930</td>\n",
       "      <td>NaN</td>\n",
       "      <td>NaN</td>\n",
       "      <td>2022-07-05 04:40:30.166991</td>\n",
       "      <td>-1</td>\n",
       "      <td>not_ad_purchase</td>\n",
       "      <td>4</td>\n",
       "      <td>Electronics</td>\n",
       "      <td>41930</td>\n",
       "      <td>7675</td>\n",
       "      <td>2022</td>\n",
       "      <td>7</td>\n",
       "      <td>5</td>\n",
       "      <td>2022-07-05</td>\n",
       "      <td>202207</td>\n",
       "    </tr>\n",
       "    <tr>\n",
       "      <th>15</th>\n",
       "      <td>8</td>\n",
       "      <td>basket</td>\n",
       "      <td>1372</td>\n",
       "      <td>24930</td>\n",
       "      <td>NaN</td>\n",
       "      <td>NaN</td>\n",
       "      <td>2022-02-24 01:10:10.156038</td>\n",
       "      <td>-1</td>\n",
       "      <td>not_ad_basket</td>\n",
       "      <td>2</td>\n",
       "      <td>Clothing</td>\n",
       "      <td>24930</td>\n",
       "      <td>2050</td>\n",
       "      <td>2022</td>\n",
       "      <td>2</td>\n",
       "      <td>24</td>\n",
       "      <td>2022-02-24</td>\n",
       "      <td>202202</td>\n",
       "    </tr>\n",
       "    <tr>\n",
       "      <th>16</th>\n",
       "      <td>8</td>\n",
       "      <td>view</td>\n",
       "      <td>1372</td>\n",
       "      <td>24930</td>\n",
       "      <td>NaN</td>\n",
       "      <td>NaN</td>\n",
       "      <td>2022-03-08 02:02:34.156038</td>\n",
       "      <td>-1</td>\n",
       "      <td>not_ad_view</td>\n",
       "      <td>2</td>\n",
       "      <td>Clothing</td>\n",
       "      <td>24930</td>\n",
       "      <td>2050</td>\n",
       "      <td>2022</td>\n",
       "      <td>3</td>\n",
       "      <td>8</td>\n",
       "      <td>2022-03-08</td>\n",
       "      <td>202203</td>\n",
       "    </tr>\n",
       "    <tr>\n",
       "      <th>17</th>\n",
       "      <td>8</td>\n",
       "      <td>purchase</td>\n",
       "      <td>1372</td>\n",
       "      <td>24930</td>\n",
       "      <td>NaN</td>\n",
       "      <td>NaN</td>\n",
       "      <td>2022-03-08 03:17:01.156038</td>\n",
       "      <td>-1</td>\n",
       "      <td>not_ad_purchase</td>\n",
       "      <td>2</td>\n",
       "      <td>Clothing</td>\n",
       "      <td>24930</td>\n",
       "      <td>2050</td>\n",
       "      <td>2022</td>\n",
       "      <td>3</td>\n",
       "      <td>8</td>\n",
       "      <td>2022-03-08</td>\n",
       "      <td>202203</td>\n",
       "    </tr>\n",
       "    <tr>\n",
       "      <th>18</th>\n",
       "      <td>8</td>\n",
       "      <td>view</td>\n",
       "      <td>1013</td>\n",
       "      <td>16210</td>\n",
       "      <td>NaN</td>\n",
       "      <td>NaN</td>\n",
       "      <td>2022-03-14 21:28:34.156038</td>\n",
       "      <td>-1</td>\n",
       "      <td>not_ad_view</td>\n",
       "      <td>2</td>\n",
       "      <td>Clothing</td>\n",
       "      <td>16210</td>\n",
       "      <td>2279</td>\n",
       "      <td>2022</td>\n",
       "      <td>3</td>\n",
       "      <td>14</td>\n",
       "      <td>2022-03-14</td>\n",
       "      <td>202203</td>\n",
       "    </tr>\n",
       "    <tr>\n",
       "      <th>19</th>\n",
       "      <td>8</td>\n",
       "      <td>view</td>\n",
       "      <td>1372</td>\n",
       "      <td>24930</td>\n",
       "      <td>NaN</td>\n",
       "      <td>NaN</td>\n",
       "      <td>2022-03-16 07:44:28.156038</td>\n",
       "      <td>-1</td>\n",
       "      <td>not_ad_view</td>\n",
       "      <td>2</td>\n",
       "      <td>Clothing</td>\n",
       "      <td>24930</td>\n",
       "      <td>2050</td>\n",
       "      <td>2022</td>\n",
       "      <td>3</td>\n",
       "      <td>16</td>\n",
       "      <td>2022-03-16</td>\n",
       "      <td>202203</td>\n",
       "    </tr>\n",
       "  </tbody>\n",
       "</table>\n",
       "</div>"
      ],
      "text/plain": [
       "    CustomerID ActionType  GoodsCode  Price       AdID     CPC  \\\n",
       "0            4       view       1492  15020        NaN     NaN   \n",
       "1            4       view       1492  15020        NaN     NaN   \n",
       "2            6       view       1415  12980        NaN     NaN   \n",
       "3            6   purchase       1437  35290        NaN     NaN   \n",
       "4            6       view       1217  16220        NaN     NaN   \n",
       "5            6       view       1047   6670        NaN     NaN   \n",
       "6            6       view       1047   6670        NaN     NaN   \n",
       "7            6   ad_click       1437  35290  ad_google  182.31   \n",
       "8            6       view       1437  35290        NaN     NaN   \n",
       "9            6     basket       1217  16220        NaN     NaN   \n",
       "10           6   purchase       1047   6670        NaN     NaN   \n",
       "11           6       view       1437  35290        NaN     NaN   \n",
       "12           6       view       1486  41930        NaN     NaN   \n",
       "13           6       view       1486  41930        NaN     NaN   \n",
       "14           6   purchase       1486  41930        NaN     NaN   \n",
       "15           8     basket       1372  24930        NaN     NaN   \n",
       "16           8       view       1372  24930        NaN     NaN   \n",
       "17           8   purchase       1372  24930        NaN     NaN   \n",
       "18           8       view       1013  16210        NaN     NaN   \n",
       "19           8       view       1372  24930        NaN     NaN   \n",
       "\n",
       "                    Timestamp  GoodsCode_ad        eval_type cluster_plus  \\\n",
       "0  2022-07-04 15:11:42.511967            -1      not_ad_view          NaN   \n",
       "1  2022-07-24 14:44:40.511967            -1      not_ad_view          NaN   \n",
       "2  2022-04-22 15:49:44.166991            -1      not_ad_view            4   \n",
       "3  2022-04-26 21:46:00.166991            -1  not_ad_purchase            4   \n",
       "4  2022-05-03 14:26:12.811783            -1      not_ad_view            4   \n",
       "5  2022-05-03 20:32:37.166991            -1      not_ad_view            4   \n",
       "6  2022-05-04 12:39:47.166991            -1      not_ad_view            4   \n",
       "7  2022-05-07 21:00:59.166991          1437         ad_click            4   \n",
       "8  2022-05-12 10:25:41.166991          1437          ad_view            4   \n",
       "9  2022-05-18 03:08:13.811783            -1    not_ad_basket            4   \n",
       "10 2022-06-02 08:53:44.166991            -1  not_ad_purchase            4   \n",
       "11 2022-06-03 01:25:53.166991            -1      not_ad_view            4   \n",
       "12 2022-06-28 06:00:23.166991            -1      not_ad_view            4   \n",
       "13 2022-07-04 11:46:45.166991            -1      not_ad_view            4   \n",
       "14 2022-07-05 04:40:30.166991            -1  not_ad_purchase            4   \n",
       "15 2022-02-24 01:10:10.156038            -1    not_ad_basket            2   \n",
       "16 2022-03-08 02:02:34.156038            -1      not_ad_view            2   \n",
       "17 2022-03-08 03:17:01.156038            -1  not_ad_purchase            2   \n",
       "18 2022-03-14 21:28:34.156038            -1      not_ad_view            2   \n",
       "19 2022-03-16 07:44:28.156038            -1      not_ad_view            2   \n",
       "\n",
       "           Category  OriginalPrice  Inventory  year  month  day        date  \\\n",
       "0             Books          15020       6631  2022      7    4  2022-07-04   \n",
       "1             Books          15020       6631  2022      7   24  2022-07-24   \n",
       "2   Health & Beauty          12980       9905  2022      4   22  2022-04-22   \n",
       "3     Home & Garden          35290       3056  2022      4   26  2022-04-26   \n",
       "4             Books          16220       6429  2022      5    3  2022-05-03   \n",
       "5   Health & Beauty           6670       1341  2022      5    3  2022-05-03   \n",
       "6   Health & Beauty           6670       1341  2022      5    4  2022-05-04   \n",
       "7     Home & Garden          35290       3056  2022      5    7  2022-05-07   \n",
       "8     Home & Garden          35290       3056  2022      5   12  2022-05-12   \n",
       "9             Books          16220       6429  2022      5   18  2022-05-18   \n",
       "10  Health & Beauty           6670       1341  2022      6    2  2022-06-02   \n",
       "11    Home & Garden          35290       3056  2022      6    3  2022-06-03   \n",
       "12      Electronics          41930       7675  2022      6   28  2022-06-28   \n",
       "13      Electronics          41930       7675  2022      7    4  2022-07-04   \n",
       "14      Electronics          41930       7675  2022      7    5  2022-07-05   \n",
       "15         Clothing          24930       2050  2022      2   24  2022-02-24   \n",
       "16         Clothing          24930       2050  2022      3    8  2022-03-08   \n",
       "17         Clothing          24930       2050  2022      3    8  2022-03-08   \n",
       "18         Clothing          16210       2279  2022      3   14  2022-03-14   \n",
       "19         Clothing          24930       2050  2022      3   16  2022-03-16   \n",
       "\n",
       "    YearMonth  \n",
       "0      202207  \n",
       "1      202207  \n",
       "2      202204  \n",
       "3      202204  \n",
       "4      202205  \n",
       "5      202205  \n",
       "6      202205  \n",
       "7      202205  \n",
       "8      202205  \n",
       "9      202205  \n",
       "10     202206  \n",
       "11     202206  \n",
       "12     202206  \n",
       "13     202207  \n",
       "14     202207  \n",
       "15     202202  \n",
       "16     202203  \n",
       "17     202203  \n",
       "18     202203  \n",
       "19     202203  "
      ]
     },
     "execution_count": 235,
     "metadata": {},
     "output_type": "execute_result"
    }
   ],
   "source": [
    "df.head(20)"
   ]
  },
  {
   "cell_type": "code",
   "execution_count": null,
   "metadata": {},
   "outputs": [],
   "source": []
  }
 ],
 "metadata": {
  "kernelspec": {
   "display_name": ".venv",
   "language": "python",
   "name": "python3"
  },
  "language_info": {
   "codemirror_mode": {
    "name": "ipython",
    "version": 3
   },
   "file_extension": ".py",
   "mimetype": "text/x-python",
   "name": "python",
   "nbconvert_exporter": "python",
   "pygments_lexer": "ipython3",
   "version": "3.9.13"
  },
  "orig_nbformat": 4
 },
 "nbformat": 4,
 "nbformat_minor": 2
}
