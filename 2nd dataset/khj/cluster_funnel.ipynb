{
 "cells": [
  {
   "cell_type": "code",
   "execution_count": 50,
   "metadata": {},
   "outputs": [],
   "source": [
    "import datetime as dt\n",
    "import numpy as np\n",
    "import pandas as pd\n",
    "import matplotlib.pyplot as plt\n",
    "import seaborn as sns\n",
    "from sklearn.cluster import KMeans\n",
    "from sklearn.preprocessing import MinMaxScaler\n",
    "from sklearn.preprocessing import StandardScaler\n",
    "import plotly.express as px\n",
    "from matplotlib import rc\n",
    "rc('font', family='AppleGothic')\n",
    "plt.rcParams['axes.unicode_minus'] = False"
   ]
  },
  {
   "cell_type": "code",
   "execution_count": 51,
   "metadata": {},
   "outputs": [
    {
     "data": {
      "text/html": [
       "<div>\n",
       "<style scoped>\n",
       "    .dataframe tbody tr th:only-of-type {\n",
       "        vertical-align: middle;\n",
       "    }\n",
       "\n",
       "    .dataframe tbody tr th {\n",
       "        vertical-align: top;\n",
       "    }\n",
       "\n",
       "    .dataframe thead th {\n",
       "        text-align: right;\n",
       "    }\n",
       "</style>\n",
       "<table border=\"1\" class=\"dataframe\">\n",
       "  <thead>\n",
       "    <tr style=\"text-align: right;\">\n",
       "      <th></th>\n",
       "      <th>GoodsCode</th>\n",
       "      <th>Category</th>\n",
       "      <th>OriginalPrice</th>\n",
       "      <th>Inventory</th>\n",
       "    </tr>\n",
       "  </thead>\n",
       "  <tbody>\n",
       "    <tr>\n",
       "      <th>0</th>\n",
       "      <td>1000</td>\n",
       "      <td>Books</td>\n",
       "      <td>12580</td>\n",
       "      <td>4452</td>\n",
       "    </tr>\n",
       "    <tr>\n",
       "      <th>1</th>\n",
       "      <td>1001</td>\n",
       "      <td>Health &amp; Beauty</td>\n",
       "      <td>21530</td>\n",
       "      <td>2308</td>\n",
       "    </tr>\n",
       "    <tr>\n",
       "      <th>2</th>\n",
       "      <td>1002</td>\n",
       "      <td>Home &amp; Garden</td>\n",
       "      <td>22800</td>\n",
       "      <td>5177</td>\n",
       "    </tr>\n",
       "    <tr>\n",
       "      <th>3</th>\n",
       "      <td>1003</td>\n",
       "      <td>Health &amp; Beauty</td>\n",
       "      <td>22910</td>\n",
       "      <td>9705</td>\n",
       "    </tr>\n",
       "    <tr>\n",
       "      <th>4</th>\n",
       "      <td>1004</td>\n",
       "      <td>Health &amp; Beauty</td>\n",
       "      <td>12780</td>\n",
       "      <td>7852</td>\n",
       "    </tr>\n",
       "    <tr>\n",
       "      <th>...</th>\n",
       "      <td>...</td>\n",
       "      <td>...</td>\n",
       "      <td>...</td>\n",
       "      <td>...</td>\n",
       "    </tr>\n",
       "    <tr>\n",
       "      <th>495</th>\n",
       "      <td>1495</td>\n",
       "      <td>Electronics</td>\n",
       "      <td>137560</td>\n",
       "      <td>4714</td>\n",
       "    </tr>\n",
       "    <tr>\n",
       "      <th>496</th>\n",
       "      <td>1496</td>\n",
       "      <td>Home &amp; Garden</td>\n",
       "      <td>10520</td>\n",
       "      <td>1529</td>\n",
       "    </tr>\n",
       "    <tr>\n",
       "      <th>497</th>\n",
       "      <td>1497</td>\n",
       "      <td>Electronics</td>\n",
       "      <td>40260</td>\n",
       "      <td>3958</td>\n",
       "    </tr>\n",
       "    <tr>\n",
       "      <th>498</th>\n",
       "      <td>1498</td>\n",
       "      <td>Electronics</td>\n",
       "      <td>54950</td>\n",
       "      <td>8904</td>\n",
       "    </tr>\n",
       "    <tr>\n",
       "      <th>499</th>\n",
       "      <td>1499</td>\n",
       "      <td>Electronics</td>\n",
       "      <td>33180</td>\n",
       "      <td>4591</td>\n",
       "    </tr>\n",
       "  </tbody>\n",
       "</table>\n",
       "<p>500 rows × 4 columns</p>\n",
       "</div>"
      ],
      "text/plain": [
       "     GoodsCode         Category  OriginalPrice  Inventory\n",
       "0         1000            Books          12580       4452\n",
       "1         1001  Health & Beauty          21530       2308\n",
       "2         1002    Home & Garden          22800       5177\n",
       "3         1003  Health & Beauty          22910       9705\n",
       "4         1004  Health & Beauty          12780       7852\n",
       "..         ...              ...            ...        ...\n",
       "495       1495      Electronics         137560       4714\n",
       "496       1496    Home & Garden          10520       1529\n",
       "497       1497      Electronics          40260       3958\n",
       "498       1498      Electronics          54950       8904\n",
       "499       1499      Electronics          33180       4591\n",
       "\n",
       "[500 rows x 4 columns]"
      ]
     },
     "execution_count": 51,
     "metadata": {},
     "output_type": "execute_result"
    }
   ],
   "source": [
    "inventory = pd.read_parquet('/Users/hj/Documents/Four-A/2nd dataset/khj/data/inventory_optimized.parquet')\n",
    "inventory"
   ]
  },
  {
   "cell_type": "code",
   "execution_count": 52,
   "metadata": {},
   "outputs": [
    {
     "data": {
      "text/html": [
       "<div>\n",
       "<style scoped>\n",
       "    .dataframe tbody tr th:only-of-type {\n",
       "        vertical-align: middle;\n",
       "    }\n",
       "\n",
       "    .dataframe tbody tr th {\n",
       "        vertical-align: top;\n",
       "    }\n",
       "\n",
       "    .dataframe thead th {\n",
       "        text-align: right;\n",
       "    }\n",
       "</style>\n",
       "<table border=\"1\" class=\"dataframe\">\n",
       "  <thead>\n",
       "    <tr style=\"text-align: right;\">\n",
       "      <th></th>\n",
       "      <th>CustomerID</th>\n",
       "      <th>ActionType</th>\n",
       "      <th>GoodsCode</th>\n",
       "      <th>Price</th>\n",
       "      <th>AdID</th>\n",
       "      <th>CPC</th>\n",
       "      <th>Timestamp</th>\n",
       "      <th>GoodsCode_ad</th>\n",
       "      <th>eval_type</th>\n",
       "    </tr>\n",
       "  </thead>\n",
       "  <tbody>\n",
       "    <tr>\n",
       "      <th>0</th>\n",
       "      <td>4</td>\n",
       "      <td>view</td>\n",
       "      <td>1492</td>\n",
       "      <td>15020</td>\n",
       "      <td>NaN</td>\n",
       "      <td>NaN</td>\n",
       "      <td>2022-07-04 15:11:42.511967</td>\n",
       "      <td>-1</td>\n",
       "      <td>not_ad_view</td>\n",
       "    </tr>\n",
       "    <tr>\n",
       "      <th>1</th>\n",
       "      <td>4</td>\n",
       "      <td>view</td>\n",
       "      <td>1492</td>\n",
       "      <td>15020</td>\n",
       "      <td>NaN</td>\n",
       "      <td>NaN</td>\n",
       "      <td>2022-07-24 14:44:40.511967</td>\n",
       "      <td>-1</td>\n",
       "      <td>not_ad_view</td>\n",
       "    </tr>\n",
       "    <tr>\n",
       "      <th>0</th>\n",
       "      <td>6</td>\n",
       "      <td>view</td>\n",
       "      <td>1415</td>\n",
       "      <td>12980</td>\n",
       "      <td>NaN</td>\n",
       "      <td>NaN</td>\n",
       "      <td>2022-04-22 15:49:44.166991</td>\n",
       "      <td>-1</td>\n",
       "      <td>not_ad_view</td>\n",
       "    </tr>\n",
       "    <tr>\n",
       "      <th>1</th>\n",
       "      <td>6</td>\n",
       "      <td>purchase</td>\n",
       "      <td>1437</td>\n",
       "      <td>35290</td>\n",
       "      <td>NaN</td>\n",
       "      <td>NaN</td>\n",
       "      <td>2022-04-26 21:46:00.166991</td>\n",
       "      <td>-1</td>\n",
       "      <td>not_ad_purchase</td>\n",
       "    </tr>\n",
       "    <tr>\n",
       "      <th>2</th>\n",
       "      <td>6</td>\n",
       "      <td>view</td>\n",
       "      <td>1217</td>\n",
       "      <td>16220</td>\n",
       "      <td>NaN</td>\n",
       "      <td>NaN</td>\n",
       "      <td>2022-05-03 14:26:12.811783</td>\n",
       "      <td>-1</td>\n",
       "      <td>not_ad_view</td>\n",
       "    </tr>\n",
       "    <tr>\n",
       "      <th>...</th>\n",
       "      <td>...</td>\n",
       "      <td>...</td>\n",
       "      <td>...</td>\n",
       "      <td>...</td>\n",
       "      <td>...</td>\n",
       "      <td>...</td>\n",
       "      <td>...</td>\n",
       "      <td>...</td>\n",
       "      <td>...</td>\n",
       "    </tr>\n",
       "    <tr>\n",
       "      <th>28</th>\n",
       "      <td>899999</td>\n",
       "      <td>view</td>\n",
       "      <td>1059</td>\n",
       "      <td>21230</td>\n",
       "      <td>NaN</td>\n",
       "      <td>NaN</td>\n",
       "      <td>2022-05-22 12:51:15.722389</td>\n",
       "      <td>-1</td>\n",
       "      <td>not_ad_view</td>\n",
       "    </tr>\n",
       "    <tr>\n",
       "      <th>29</th>\n",
       "      <td>899999</td>\n",
       "      <td>basket</td>\n",
       "      <td>1059</td>\n",
       "      <td>21230</td>\n",
       "      <td>NaN</td>\n",
       "      <td>NaN</td>\n",
       "      <td>2022-05-23 01:28:11.722389</td>\n",
       "      <td>-1</td>\n",
       "      <td>not_ad_basket</td>\n",
       "    </tr>\n",
       "    <tr>\n",
       "      <th>30</th>\n",
       "      <td>899999</td>\n",
       "      <td>view</td>\n",
       "      <td>1059</td>\n",
       "      <td>21230</td>\n",
       "      <td>NaN</td>\n",
       "      <td>NaN</td>\n",
       "      <td>2022-05-24 04:40:26.722389</td>\n",
       "      <td>-1</td>\n",
       "      <td>not_ad_view</td>\n",
       "    </tr>\n",
       "    <tr>\n",
       "      <th>31</th>\n",
       "      <td>899999</td>\n",
       "      <td>purchase</td>\n",
       "      <td>1034</td>\n",
       "      <td>12910</td>\n",
       "      <td>NaN</td>\n",
       "      <td>NaN</td>\n",
       "      <td>2022-06-20 03:40:43.722389</td>\n",
       "      <td>-1</td>\n",
       "      <td>not_ad_purchase</td>\n",
       "    </tr>\n",
       "    <tr>\n",
       "      <th>32</th>\n",
       "      <td>899999</td>\n",
       "      <td>view</td>\n",
       "      <td>1168</td>\n",
       "      <td>91680</td>\n",
       "      <td>NaN</td>\n",
       "      <td>NaN</td>\n",
       "      <td>2022-06-23 08:16:44.304854</td>\n",
       "      <td>-1</td>\n",
       "      <td>not_ad_view</td>\n",
       "    </tr>\n",
       "  </tbody>\n",
       "</table>\n",
       "<p>3096931 rows × 9 columns</p>\n",
       "</div>"
      ],
      "text/plain": [
       "    CustomerID ActionType  GoodsCode  Price AdID  CPC  \\\n",
       "0            4       view       1492  15020  NaN  NaN   \n",
       "1            4       view       1492  15020  NaN  NaN   \n",
       "0            6       view       1415  12980  NaN  NaN   \n",
       "1            6   purchase       1437  35290  NaN  NaN   \n",
       "2            6       view       1217  16220  NaN  NaN   \n",
       "..         ...        ...        ...    ...  ...  ...   \n",
       "28      899999       view       1059  21230  NaN  NaN   \n",
       "29      899999     basket       1059  21230  NaN  NaN   \n",
       "30      899999       view       1059  21230  NaN  NaN   \n",
       "31      899999   purchase       1034  12910  NaN  NaN   \n",
       "32      899999       view       1168  91680  NaN  NaN   \n",
       "\n",
       "                    Timestamp  GoodsCode_ad        eval_type  \n",
       "0  2022-07-04 15:11:42.511967            -1      not_ad_view  \n",
       "1  2022-07-24 14:44:40.511967            -1      not_ad_view  \n",
       "0  2022-04-22 15:49:44.166991            -1      not_ad_view  \n",
       "1  2022-04-26 21:46:00.166991            -1  not_ad_purchase  \n",
       "2  2022-05-03 14:26:12.811783            -1      not_ad_view  \n",
       "..                        ...           ...              ...  \n",
       "28 2022-05-22 12:51:15.722389            -1      not_ad_view  \n",
       "29 2022-05-23 01:28:11.722389            -1    not_ad_basket  \n",
       "30 2022-05-24 04:40:26.722389            -1      not_ad_view  \n",
       "31 2022-06-20 03:40:43.722389            -1  not_ad_purchase  \n",
       "32 2022-06-23 08:16:44.304854            -1      not_ad_view  \n",
       "\n",
       "[3096931 rows x 9 columns]"
      ]
     },
     "execution_count": 52,
     "metadata": {},
     "output_type": "execute_result"
    }
   ],
   "source": [
    "log = pd.read_parquet('/Users/hj/Documents/Four-A/2nd dataset/khj/data/log_eval_df.parquet')  ## 승엽님이 뽑아준\n",
    "log\n"
   ]
  },
  {
   "cell_type": "code",
   "execution_count": 53,
   "metadata": {},
   "outputs": [
    {
     "data": {
      "text/html": [
       "<div>\n",
       "<style scoped>\n",
       "    .dataframe tbody tr th:only-of-type {\n",
       "        vertical-align: middle;\n",
       "    }\n",
       "\n",
       "    .dataframe tbody tr th {\n",
       "        vertical-align: top;\n",
       "    }\n",
       "\n",
       "    .dataframe thead th {\n",
       "        text-align: right;\n",
       "    }\n",
       "</style>\n",
       "<table border=\"1\" class=\"dataframe\">\n",
       "  <thead>\n",
       "    <tr style=\"text-align: right;\">\n",
       "      <th></th>\n",
       "      <th>CustomerID</th>\n",
       "      <th>cluster_plus</th>\n",
       "    </tr>\n",
       "  </thead>\n",
       "  <tbody>\n",
       "    <tr>\n",
       "      <th>0</th>\n",
       "      <td>6</td>\n",
       "      <td>4</td>\n",
       "    </tr>\n",
       "    <tr>\n",
       "      <th>3</th>\n",
       "      <td>8</td>\n",
       "      <td>2</td>\n",
       "    </tr>\n",
       "    <tr>\n",
       "      <th>6</th>\n",
       "      <td>13</td>\n",
       "      <td>4</td>\n",
       "    </tr>\n",
       "    <tr>\n",
       "      <th>9</th>\n",
       "      <td>14</td>\n",
       "      <td>4</td>\n",
       "    </tr>\n",
       "    <tr>\n",
       "      <th>14</th>\n",
       "      <td>17</td>\n",
       "      <td>1</td>\n",
       "    </tr>\n",
       "    <tr>\n",
       "      <th>...</th>\n",
       "      <td>...</td>\n",
       "      <td>...</td>\n",
       "    </tr>\n",
       "    <tr>\n",
       "      <th>458758</th>\n",
       "      <td>899973</td>\n",
       "      <td>0</td>\n",
       "    </tr>\n",
       "    <tr>\n",
       "      <th>458759</th>\n",
       "      <td>899987</td>\n",
       "      <td>0</td>\n",
       "    </tr>\n",
       "    <tr>\n",
       "      <th>458761</th>\n",
       "      <td>899992</td>\n",
       "      <td>4</td>\n",
       "    </tr>\n",
       "    <tr>\n",
       "      <th>458764</th>\n",
       "      <td>899993</td>\n",
       "      <td>2</td>\n",
       "    </tr>\n",
       "    <tr>\n",
       "      <th>458767</th>\n",
       "      <td>899999</td>\n",
       "      <td>4</td>\n",
       "    </tr>\n",
       "  </tbody>\n",
       "</table>\n",
       "<p>176448 rows × 2 columns</p>\n",
       "</div>"
      ],
      "text/plain": [
       "        CustomerID cluster_plus\n",
       "0                6            4\n",
       "3                8            2\n",
       "6               13            4\n",
       "9               14            4\n",
       "14              17            1\n",
       "...            ...          ...\n",
       "458758      899973            0\n",
       "458759      899987            0\n",
       "458761      899992            4\n",
       "458764      899993            2\n",
       "458767      899999            4\n",
       "\n",
       "[176448 rows x 2 columns]"
      ]
     },
     "execution_count": 53,
     "metadata": {},
     "output_type": "execute_result"
    }
   ],
   "source": [
    "customer_cluster = pd.read_parquet('/Users/hj/Documents/Four-A/2nd dataset/khj/data/customer_cluster_info (1).parquet')\n",
    "customer_cluster"
   ]
  },
  {
   "cell_type": "code",
   "execution_count": 54,
   "metadata": {},
   "outputs": [
    {
     "data": {
      "text/html": [
       "<div>\n",
       "<style scoped>\n",
       "    .dataframe tbody tr th:only-of-type {\n",
       "        vertical-align: middle;\n",
       "    }\n",
       "\n",
       "    .dataframe tbody tr th {\n",
       "        vertical-align: top;\n",
       "    }\n",
       "\n",
       "    .dataframe thead th {\n",
       "        text-align: right;\n",
       "    }\n",
       "</style>\n",
       "<table border=\"1\" class=\"dataframe\">\n",
       "  <thead>\n",
       "    <tr style=\"text-align: right;\">\n",
       "      <th></th>\n",
       "      <th>CustomerID</th>\n",
       "      <th>ActionType</th>\n",
       "      <th>GoodsCode</th>\n",
       "      <th>Price</th>\n",
       "      <th>AdID</th>\n",
       "      <th>CPC</th>\n",
       "      <th>Timestamp</th>\n",
       "      <th>GoodsCode_ad</th>\n",
       "      <th>eval_type</th>\n",
       "      <th>cluster_plus</th>\n",
       "      <th>Category</th>\n",
       "      <th>OriginalPrice</th>\n",
       "      <th>Inventory</th>\n",
       "    </tr>\n",
       "  </thead>\n",
       "  <tbody>\n",
       "    <tr>\n",
       "      <th>0</th>\n",
       "      <td>4</td>\n",
       "      <td>view</td>\n",
       "      <td>1492</td>\n",
       "      <td>15020</td>\n",
       "      <td>NaN</td>\n",
       "      <td>NaN</td>\n",
       "      <td>2022-07-04 15:11:42.511967</td>\n",
       "      <td>-1</td>\n",
       "      <td>not_ad_view</td>\n",
       "      <td>NaN</td>\n",
       "      <td>Books</td>\n",
       "      <td>15020</td>\n",
       "      <td>6631</td>\n",
       "    </tr>\n",
       "    <tr>\n",
       "      <th>1</th>\n",
       "      <td>4</td>\n",
       "      <td>view</td>\n",
       "      <td>1492</td>\n",
       "      <td>15020</td>\n",
       "      <td>NaN</td>\n",
       "      <td>NaN</td>\n",
       "      <td>2022-07-24 14:44:40.511967</td>\n",
       "      <td>-1</td>\n",
       "      <td>not_ad_view</td>\n",
       "      <td>NaN</td>\n",
       "      <td>Books</td>\n",
       "      <td>15020</td>\n",
       "      <td>6631</td>\n",
       "    </tr>\n",
       "    <tr>\n",
       "      <th>2</th>\n",
       "      <td>6</td>\n",
       "      <td>view</td>\n",
       "      <td>1415</td>\n",
       "      <td>12980</td>\n",
       "      <td>NaN</td>\n",
       "      <td>NaN</td>\n",
       "      <td>2022-04-22 15:49:44.166991</td>\n",
       "      <td>-1</td>\n",
       "      <td>not_ad_view</td>\n",
       "      <td>4</td>\n",
       "      <td>Health &amp; Beauty</td>\n",
       "      <td>12980</td>\n",
       "      <td>9905</td>\n",
       "    </tr>\n",
       "    <tr>\n",
       "      <th>3</th>\n",
       "      <td>6</td>\n",
       "      <td>purchase</td>\n",
       "      <td>1437</td>\n",
       "      <td>35290</td>\n",
       "      <td>NaN</td>\n",
       "      <td>NaN</td>\n",
       "      <td>2022-04-26 21:46:00.166991</td>\n",
       "      <td>-1</td>\n",
       "      <td>not_ad_purchase</td>\n",
       "      <td>4</td>\n",
       "      <td>Home &amp; Garden</td>\n",
       "      <td>35290</td>\n",
       "      <td>3056</td>\n",
       "    </tr>\n",
       "    <tr>\n",
       "      <th>4</th>\n",
       "      <td>6</td>\n",
       "      <td>view</td>\n",
       "      <td>1217</td>\n",
       "      <td>16220</td>\n",
       "      <td>NaN</td>\n",
       "      <td>NaN</td>\n",
       "      <td>2022-05-03 14:26:12.811783</td>\n",
       "      <td>-1</td>\n",
       "      <td>not_ad_view</td>\n",
       "      <td>4</td>\n",
       "      <td>Books</td>\n",
       "      <td>16220</td>\n",
       "      <td>6429</td>\n",
       "    </tr>\n",
       "    <tr>\n",
       "      <th>...</th>\n",
       "      <td>...</td>\n",
       "      <td>...</td>\n",
       "      <td>...</td>\n",
       "      <td>...</td>\n",
       "      <td>...</td>\n",
       "      <td>...</td>\n",
       "      <td>...</td>\n",
       "      <td>...</td>\n",
       "      <td>...</td>\n",
       "      <td>...</td>\n",
       "      <td>...</td>\n",
       "      <td>...</td>\n",
       "      <td>...</td>\n",
       "    </tr>\n",
       "    <tr>\n",
       "      <th>3096926</th>\n",
       "      <td>899999</td>\n",
       "      <td>view</td>\n",
       "      <td>1059</td>\n",
       "      <td>21230</td>\n",
       "      <td>NaN</td>\n",
       "      <td>NaN</td>\n",
       "      <td>2022-05-22 12:51:15.722389</td>\n",
       "      <td>-1</td>\n",
       "      <td>not_ad_view</td>\n",
       "      <td>4</td>\n",
       "      <td>Clothing</td>\n",
       "      <td>21230</td>\n",
       "      <td>4629</td>\n",
       "    </tr>\n",
       "    <tr>\n",
       "      <th>3096927</th>\n",
       "      <td>899999</td>\n",
       "      <td>basket</td>\n",
       "      <td>1059</td>\n",
       "      <td>21230</td>\n",
       "      <td>NaN</td>\n",
       "      <td>NaN</td>\n",
       "      <td>2022-05-23 01:28:11.722389</td>\n",
       "      <td>-1</td>\n",
       "      <td>not_ad_basket</td>\n",
       "      <td>4</td>\n",
       "      <td>Clothing</td>\n",
       "      <td>21230</td>\n",
       "      <td>4629</td>\n",
       "    </tr>\n",
       "    <tr>\n",
       "      <th>3096928</th>\n",
       "      <td>899999</td>\n",
       "      <td>view</td>\n",
       "      <td>1059</td>\n",
       "      <td>21230</td>\n",
       "      <td>NaN</td>\n",
       "      <td>NaN</td>\n",
       "      <td>2022-05-24 04:40:26.722389</td>\n",
       "      <td>-1</td>\n",
       "      <td>not_ad_view</td>\n",
       "      <td>4</td>\n",
       "      <td>Clothing</td>\n",
       "      <td>21230</td>\n",
       "      <td>4629</td>\n",
       "    </tr>\n",
       "    <tr>\n",
       "      <th>3096929</th>\n",
       "      <td>899999</td>\n",
       "      <td>purchase</td>\n",
       "      <td>1034</td>\n",
       "      <td>12910</td>\n",
       "      <td>NaN</td>\n",
       "      <td>NaN</td>\n",
       "      <td>2022-06-20 03:40:43.722389</td>\n",
       "      <td>-1</td>\n",
       "      <td>not_ad_purchase</td>\n",
       "      <td>4</td>\n",
       "      <td>Home &amp; Garden</td>\n",
       "      <td>12910</td>\n",
       "      <td>3051</td>\n",
       "    </tr>\n",
       "    <tr>\n",
       "      <th>3096930</th>\n",
       "      <td>899999</td>\n",
       "      <td>view</td>\n",
       "      <td>1168</td>\n",
       "      <td>91680</td>\n",
       "      <td>NaN</td>\n",
       "      <td>NaN</td>\n",
       "      <td>2022-06-23 08:16:44.304854</td>\n",
       "      <td>-1</td>\n",
       "      <td>not_ad_view</td>\n",
       "      <td>4</td>\n",
       "      <td>Electronics</td>\n",
       "      <td>91680</td>\n",
       "      <td>8694</td>\n",
       "    </tr>\n",
       "  </tbody>\n",
       "</table>\n",
       "<p>3096931 rows × 13 columns</p>\n",
       "</div>"
      ],
      "text/plain": [
       "         CustomerID ActionType  GoodsCode  Price AdID  CPC  \\\n",
       "0                 4       view       1492  15020  NaN  NaN   \n",
       "1                 4       view       1492  15020  NaN  NaN   \n",
       "2                 6       view       1415  12980  NaN  NaN   \n",
       "3                 6   purchase       1437  35290  NaN  NaN   \n",
       "4                 6       view       1217  16220  NaN  NaN   \n",
       "...             ...        ...        ...    ...  ...  ...   \n",
       "3096926      899999       view       1059  21230  NaN  NaN   \n",
       "3096927      899999     basket       1059  21230  NaN  NaN   \n",
       "3096928      899999       view       1059  21230  NaN  NaN   \n",
       "3096929      899999   purchase       1034  12910  NaN  NaN   \n",
       "3096930      899999       view       1168  91680  NaN  NaN   \n",
       "\n",
       "                         Timestamp  GoodsCode_ad        eval_type  \\\n",
       "0       2022-07-04 15:11:42.511967            -1      not_ad_view   \n",
       "1       2022-07-24 14:44:40.511967            -1      not_ad_view   \n",
       "2       2022-04-22 15:49:44.166991            -1      not_ad_view   \n",
       "3       2022-04-26 21:46:00.166991            -1  not_ad_purchase   \n",
       "4       2022-05-03 14:26:12.811783            -1      not_ad_view   \n",
       "...                            ...           ...              ...   \n",
       "3096926 2022-05-22 12:51:15.722389            -1      not_ad_view   \n",
       "3096927 2022-05-23 01:28:11.722389            -1    not_ad_basket   \n",
       "3096928 2022-05-24 04:40:26.722389            -1      not_ad_view   \n",
       "3096929 2022-06-20 03:40:43.722389            -1  not_ad_purchase   \n",
       "3096930 2022-06-23 08:16:44.304854            -1      not_ad_view   \n",
       "\n",
       "        cluster_plus         Category  OriginalPrice  Inventory  \n",
       "0                NaN            Books          15020       6631  \n",
       "1                NaN            Books          15020       6631  \n",
       "2                  4  Health & Beauty          12980       9905  \n",
       "3                  4    Home & Garden          35290       3056  \n",
       "4                  4            Books          16220       6429  \n",
       "...              ...              ...            ...        ...  \n",
       "3096926            4         Clothing          21230       4629  \n",
       "3096927            4         Clothing          21230       4629  \n",
       "3096928            4         Clothing          21230       4629  \n",
       "3096929            4    Home & Garden          12910       3051  \n",
       "3096930            4      Electronics          91680       8694  \n",
       "\n",
       "[3096931 rows x 13 columns]"
      ]
     },
     "execution_count": 54,
     "metadata": {},
     "output_type": "execute_result"
    }
   ],
   "source": [
    "df = log.merge(customer_cluster, on='CustomerID', how='left').merge(inventory, on='GoodsCode', how='inner')\n",
    "df"
   ]
  },
  {
   "cell_type": "code",
   "execution_count": 55,
   "metadata": {},
   "outputs": [
    {
     "name": "stderr",
     "output_type": "stream",
     "text": [
      "/var/folders/qv/tqmmyp0s5dj996k_tcvqmtqm0000gn/T/ipykernel_1348/4277241146.py:1: FutureWarning:\n",
      "\n",
      "The default of observed=False is deprecated and will be changed to True in a future version of pandas. Pass observed=False to retain current behavior or observed=True to adopt the future default and silence this warning.\n",
      "\n"
     ]
    },
    {
     "data": {
      "text/html": [
       "<div>\n",
       "<style scoped>\n",
       "    .dataframe tbody tr th:only-of-type {\n",
       "        vertical-align: middle;\n",
       "    }\n",
       "\n",
       "    .dataframe tbody tr th {\n",
       "        vertical-align: top;\n",
       "    }\n",
       "\n",
       "    .dataframe thead th {\n",
       "        text-align: right;\n",
       "    }\n",
       "</style>\n",
       "<table border=\"1\" class=\"dataframe\">\n",
       "  <thead>\n",
       "    <tr style=\"text-align: right;\">\n",
       "      <th></th>\n",
       "      <th>Category</th>\n",
       "      <th>GoodsCode</th>\n",
       "      <th>Count</th>\n",
       "    </tr>\n",
       "  </thead>\n",
       "  <tbody>\n",
       "    <tr>\n",
       "      <th>1912</th>\n",
       "      <td>Health &amp; Beauty</td>\n",
       "      <td>1412</td>\n",
       "      <td>6675</td>\n",
       "    </tr>\n",
       "    <tr>\n",
       "      <th>353</th>\n",
       "      <td>Books</td>\n",
       "      <td>1353</td>\n",
       "      <td>6660</td>\n",
       "    </tr>\n",
       "    <tr>\n",
       "      <th>1282</th>\n",
       "      <td>Electronics</td>\n",
       "      <td>1282</td>\n",
       "      <td>6658</td>\n",
       "    </tr>\n",
       "    <tr>\n",
       "      <th>1501</th>\n",
       "      <td>Health &amp; Beauty</td>\n",
       "      <td>1001</td>\n",
       "      <td>6605</td>\n",
       "    </tr>\n",
       "    <tr>\n",
       "      <th>398</th>\n",
       "      <td>Books</td>\n",
       "      <td>1398</td>\n",
       "      <td>6602</td>\n",
       "    </tr>\n",
       "    <tr>\n",
       "      <th>...</th>\n",
       "      <td>...</td>\n",
       "      <td>...</td>\n",
       "      <td>...</td>\n",
       "    </tr>\n",
       "    <tr>\n",
       "      <th>1495</th>\n",
       "      <td>Electronics</td>\n",
       "      <td>1495</td>\n",
       "      <td>5827</td>\n",
       "    </tr>\n",
       "    <tr>\n",
       "      <th>1352</th>\n",
       "      <td>Electronics</td>\n",
       "      <td>1352</td>\n",
       "      <td>5800</td>\n",
       "    </tr>\n",
       "    <tr>\n",
       "      <th>817</th>\n",
       "      <td>Clothing</td>\n",
       "      <td>1317</td>\n",
       "      <td>5792</td>\n",
       "    </tr>\n",
       "    <tr>\n",
       "      <th>2304</th>\n",
       "      <td>Home &amp; Garden</td>\n",
       "      <td>1304</td>\n",
       "      <td>5779</td>\n",
       "    </tr>\n",
       "    <tr>\n",
       "      <th>366</th>\n",
       "      <td>Books</td>\n",
       "      <td>1366</td>\n",
       "      <td>5730</td>\n",
       "    </tr>\n",
       "  </tbody>\n",
       "</table>\n",
       "<p>500 rows × 3 columns</p>\n",
       "</div>"
      ],
      "text/plain": [
       "             Category  GoodsCode  Count\n",
       "1912  Health & Beauty       1412   6675\n",
       "353             Books       1353   6660\n",
       "1282      Electronics       1282   6658\n",
       "1501  Health & Beauty       1001   6605\n",
       "398             Books       1398   6602\n",
       "...               ...        ...    ...\n",
       "1495      Electronics       1495   5827\n",
       "1352      Electronics       1352   5800\n",
       "817          Clothing       1317   5792\n",
       "2304    Home & Garden       1304   5779\n",
       "366             Books       1366   5730\n",
       "\n",
       "[500 rows x 3 columns]"
      ]
     },
     "execution_count": 55,
     "metadata": {},
     "output_type": "execute_result"
    }
   ],
   "source": [
    "category_code_size = df.groupby(['Category', 'GoodsCode']).size()\n",
    "category_code_df = category_code_size.reset_index(name='Count')\n",
    "filtered_df = category_code_df[category_code_df['Count']>0]\n",
    "filtered_df.sort_values('Count', ascending=False)"
   ]
  },
  {
   "cell_type": "code",
   "execution_count": 56,
   "metadata": {},
   "outputs": [
    {
     "data": {
      "text/plain": [
       "eval_type\n",
       "not_ad_view          1952574\n",
       "not_ad_purchase       430267\n",
       "not_ad_basket         356434\n",
       "ad_click              172028\n",
       "ad_view_other          92698\n",
       "ad_view                31670\n",
       "ad_purchase_other      20746\n",
       "ad_basket_other        17546\n",
       "ad_basket              15209\n",
       "ad_purchase             7759\n",
       "Name: count, dtype: int64"
      ]
     },
     "execution_count": 56,
     "metadata": {},
     "output_type": "execute_result"
    }
   ],
   "source": [
    "df['eval_type'].value_counts()"
   ]
  },
  {
   "cell_type": "code",
   "execution_count": 57,
   "metadata": {},
   "outputs": [
    {
     "data": {
      "text/html": [
       "<div>\n",
       "<style scoped>\n",
       "    .dataframe tbody tr th:only-of-type {\n",
       "        vertical-align: middle;\n",
       "    }\n",
       "\n",
       "    .dataframe tbody tr th {\n",
       "        vertical-align: top;\n",
       "    }\n",
       "\n",
       "    .dataframe thead th {\n",
       "        text-align: right;\n",
       "    }\n",
       "</style>\n",
       "<table border=\"1\" class=\"dataframe\">\n",
       "  <thead>\n",
       "    <tr style=\"text-align: right;\">\n",
       "      <th></th>\n",
       "      <th>CustomerID</th>\n",
       "      <th>ActionType</th>\n",
       "      <th>GoodsCode</th>\n",
       "      <th>Price</th>\n",
       "      <th>AdID</th>\n",
       "      <th>CPC</th>\n",
       "      <th>Timestamp</th>\n",
       "      <th>GoodsCode_ad</th>\n",
       "      <th>eval_type</th>\n",
       "      <th>cluster_plus</th>\n",
       "      <th>Category</th>\n",
       "      <th>OriginalPrice</th>\n",
       "      <th>Inventory</th>\n",
       "    </tr>\n",
       "  </thead>\n",
       "  <tbody>\n",
       "    <tr>\n",
       "      <th>7</th>\n",
       "      <td>6</td>\n",
       "      <td>ad_click</td>\n",
       "      <td>1437</td>\n",
       "      <td>35290</td>\n",
       "      <td>ad_google</td>\n",
       "      <td>182.31</td>\n",
       "      <td>2022-05-07 21:00:59.166991</td>\n",
       "      <td>1437</td>\n",
       "      <td>ad_click</td>\n",
       "      <td>4</td>\n",
       "      <td>Home &amp; Garden</td>\n",
       "      <td>35290</td>\n",
       "      <td>3056</td>\n",
       "    </tr>\n",
       "    <tr>\n",
       "      <th>8</th>\n",
       "      <td>6</td>\n",
       "      <td>view</td>\n",
       "      <td>1437</td>\n",
       "      <td>35290</td>\n",
       "      <td>NaN</td>\n",
       "      <td>NaN</td>\n",
       "      <td>2022-05-12 10:25:41.166991</td>\n",
       "      <td>1437</td>\n",
       "      <td>ad_view</td>\n",
       "      <td>4</td>\n",
       "      <td>Home &amp; Garden</td>\n",
       "      <td>35290</td>\n",
       "      <td>3056</td>\n",
       "    </tr>\n",
       "    <tr>\n",
       "      <th>37</th>\n",
       "      <td>13</td>\n",
       "      <td>ad_click</td>\n",
       "      <td>1090</td>\n",
       "      <td>21100</td>\n",
       "      <td>ad_google</td>\n",
       "      <td>158.68</td>\n",
       "      <td>2022-03-11 18:14:48.855443</td>\n",
       "      <td>1090</td>\n",
       "      <td>ad_click</td>\n",
       "      <td>4</td>\n",
       "      <td>Home &amp; Garden</td>\n",
       "      <td>21100</td>\n",
       "      <td>8617</td>\n",
       "    </tr>\n",
       "    <tr>\n",
       "      <th>38</th>\n",
       "      <td>13</td>\n",
       "      <td>view</td>\n",
       "      <td>1203</td>\n",
       "      <td>85290</td>\n",
       "      <td>NaN</td>\n",
       "      <td>NaN</td>\n",
       "      <td>2022-03-17 14:31:19.855443</td>\n",
       "      <td>1090</td>\n",
       "      <td>ad_view_other</td>\n",
       "      <td>4</td>\n",
       "      <td>Electronics</td>\n",
       "      <td>85290</td>\n",
       "      <td>9173</td>\n",
       "    </tr>\n",
       "    <tr>\n",
       "      <th>56</th>\n",
       "      <td>14</td>\n",
       "      <td>ad_click</td>\n",
       "      <td>1000</td>\n",
       "      <td>12580</td>\n",
       "      <td>ad_google</td>\n",
       "      <td>104.04</td>\n",
       "      <td>2022-03-07 10:33:24.548570</td>\n",
       "      <td>1000</td>\n",
       "      <td>ad_click</td>\n",
       "      <td>4</td>\n",
       "      <td>Books</td>\n",
       "      <td>12580</td>\n",
       "      <td>4452</td>\n",
       "    </tr>\n",
       "    <tr>\n",
       "      <th>...</th>\n",
       "      <td>...</td>\n",
       "      <td>...</td>\n",
       "      <td>...</td>\n",
       "      <td>...</td>\n",
       "      <td>...</td>\n",
       "      <td>...</td>\n",
       "      <td>...</td>\n",
       "      <td>...</td>\n",
       "      <td>...</td>\n",
       "      <td>...</td>\n",
       "      <td>...</td>\n",
       "      <td>...</td>\n",
       "      <td>...</td>\n",
       "    </tr>\n",
       "    <tr>\n",
       "      <th>3096892</th>\n",
       "      <td>899993</td>\n",
       "      <td>view</td>\n",
       "      <td>1045</td>\n",
       "      <td>120410</td>\n",
       "      <td>NaN</td>\n",
       "      <td>NaN</td>\n",
       "      <td>2022-05-11 03:04:39.372529</td>\n",
       "      <td>1019</td>\n",
       "      <td>ad_view_other</td>\n",
       "      <td>2</td>\n",
       "      <td>Electronics</td>\n",
       "      <td>120410</td>\n",
       "      <td>2622</td>\n",
       "    </tr>\n",
       "    <tr>\n",
       "      <th>3096916</th>\n",
       "      <td>899999</td>\n",
       "      <td>ad_click</td>\n",
       "      <td>1059</td>\n",
       "      <td>21230</td>\n",
       "      <td>ad_meta</td>\n",
       "      <td>71.35</td>\n",
       "      <td>2022-04-06 21:09:47.722389</td>\n",
       "      <td>1059</td>\n",
       "      <td>ad_click</td>\n",
       "      <td>4</td>\n",
       "      <td>Clothing</td>\n",
       "      <td>21230</td>\n",
       "      <td>4629</td>\n",
       "    </tr>\n",
       "    <tr>\n",
       "      <th>3096917</th>\n",
       "      <td>899999</td>\n",
       "      <td>view</td>\n",
       "      <td>1271</td>\n",
       "      <td>92940</td>\n",
       "      <td>NaN</td>\n",
       "      <td>NaN</td>\n",
       "      <td>2022-04-10 18:07:56.722389</td>\n",
       "      <td>1059</td>\n",
       "      <td>ad_view_other</td>\n",
       "      <td>4</td>\n",
       "      <td>Electronics</td>\n",
       "      <td>92940</td>\n",
       "      <td>8314</td>\n",
       "    </tr>\n",
       "    <tr>\n",
       "      <th>3096923</th>\n",
       "      <td>899999</td>\n",
       "      <td>ad_click</td>\n",
       "      <td>1059</td>\n",
       "      <td>21230</td>\n",
       "      <td>ad_google</td>\n",
       "      <td>94.14</td>\n",
       "      <td>2022-05-06 00:08:17.722389</td>\n",
       "      <td>1059</td>\n",
       "      <td>ad_click</td>\n",
       "      <td>4</td>\n",
       "      <td>Clothing</td>\n",
       "      <td>21230</td>\n",
       "      <td>4629</td>\n",
       "    </tr>\n",
       "    <tr>\n",
       "      <th>3096924</th>\n",
       "      <td>899999</td>\n",
       "      <td>basket</td>\n",
       "      <td>1059</td>\n",
       "      <td>21230</td>\n",
       "      <td>NaN</td>\n",
       "      <td>NaN</td>\n",
       "      <td>2022-05-11 10:09:46.722389</td>\n",
       "      <td>1059</td>\n",
       "      <td>ad_basket</td>\n",
       "      <td>4</td>\n",
       "      <td>Clothing</td>\n",
       "      <td>21230</td>\n",
       "      <td>4629</td>\n",
       "    </tr>\n",
       "  </tbody>\n",
       "</table>\n",
       "<p>357656 rows × 13 columns</p>\n",
       "</div>"
      ],
      "text/plain": [
       "         CustomerID ActionType  GoodsCode   Price       AdID     CPC  \\\n",
       "7                 6   ad_click       1437   35290  ad_google  182.31   \n",
       "8                 6       view       1437   35290        NaN     NaN   \n",
       "37               13   ad_click       1090   21100  ad_google  158.68   \n",
       "38               13       view       1203   85290        NaN     NaN   \n",
       "56               14   ad_click       1000   12580  ad_google  104.04   \n",
       "...             ...        ...        ...     ...        ...     ...   \n",
       "3096892      899993       view       1045  120410        NaN     NaN   \n",
       "3096916      899999   ad_click       1059   21230    ad_meta   71.35   \n",
       "3096917      899999       view       1271   92940        NaN     NaN   \n",
       "3096923      899999   ad_click       1059   21230  ad_google   94.14   \n",
       "3096924      899999     basket       1059   21230        NaN     NaN   \n",
       "\n",
       "                         Timestamp  GoodsCode_ad      eval_type cluster_plus  \\\n",
       "7       2022-05-07 21:00:59.166991          1437       ad_click            4   \n",
       "8       2022-05-12 10:25:41.166991          1437        ad_view            4   \n",
       "37      2022-03-11 18:14:48.855443          1090       ad_click            4   \n",
       "38      2022-03-17 14:31:19.855443          1090  ad_view_other            4   \n",
       "56      2022-03-07 10:33:24.548570          1000       ad_click            4   \n",
       "...                            ...           ...            ...          ...   \n",
       "3096892 2022-05-11 03:04:39.372529          1019  ad_view_other            2   \n",
       "3096916 2022-04-06 21:09:47.722389          1059       ad_click            4   \n",
       "3096917 2022-04-10 18:07:56.722389          1059  ad_view_other            4   \n",
       "3096923 2022-05-06 00:08:17.722389          1059       ad_click            4   \n",
       "3096924 2022-05-11 10:09:46.722389          1059      ad_basket            4   \n",
       "\n",
       "              Category  OriginalPrice  Inventory  \n",
       "7        Home & Garden          35290       3056  \n",
       "8        Home & Garden          35290       3056  \n",
       "37       Home & Garden          21100       8617  \n",
       "38         Electronics          85290       9173  \n",
       "56               Books          12580       4452  \n",
       "...                ...            ...        ...  \n",
       "3096892    Electronics         120410       2622  \n",
       "3096916       Clothing          21230       4629  \n",
       "3096917    Electronics          92940       8314  \n",
       "3096923       Clothing          21230       4629  \n",
       "3096924       Clothing          21230       4629  \n",
       "\n",
       "[357656 rows x 13 columns]"
      ]
     },
     "execution_count": 57,
     "metadata": {},
     "output_type": "execute_result"
    }
   ],
   "source": [
    "ad_funnel = df[df['GoodsCode_ad']!= -1]\n",
    "ad_funnel"
   ]
  },
  {
   "cell_type": "code",
   "execution_count": 58,
   "metadata": {},
   "outputs": [
    {
     "data": {
      "text/plain": [
       "cluster_plus\n",
       "0      104560\n",
       "4      100065\n",
       "1       59650\n",
       "2       57569\n",
       "vip      7369\n",
       "3         448\n",
       "Name: count, dtype: int64"
      ]
     },
     "execution_count": 58,
     "metadata": {},
     "output_type": "execute_result"
    }
   ],
   "source": [
    "ad_funnel['cluster_plus'].value_counts()"
   ]
  },
  {
   "cell_type": "markdown",
   "metadata": {},
   "source": [
    "## 고객 정보 요약\n",
    "### 클러스터별 요약\n",
    "- 평균치 : R 372.14, F 2.6 , M 83617.15\n",
    "- 중앙값 : R 370, F 2, M 60175\n",
    "- *R은 신규 고객인 3번을 제외하고는 평균이 모두 비슷. 덧붙여 신규 고객 제외하곤 최근 200일 이내 구매한 고객 없음\n",
    "------------------\n",
    "- VIP : 우수고객 중 상위 10%\n",
    "- 1번(15870명) : 우수고객 => R은 평균이나 M 두드러지게 높으며 F도 6회에 육박 => 상위 10%의 니즈를\n",
    "- 2번(30916명) : 중요고객 => R과 F 는 평균보다 약간 좋은 편. 돈을 평균보다 많이 씀.\n",
    "- 3번(653명) : 신규 고객 => F도 M도 낮지만, 비교적 최근에 구매함(전체 5개월 차이)\n",
    "- 4번(42885명) : 일반고객 => R과 F 는 평균보다 높으나 돈을 평균보다 적게 씀\n",
    "- 0번(86124명) :이탈고객 => R, F, M 모두 낮음 => R(381), F(1.59), M(37325)\n"
   ]
  },
  {
   "cell_type": "code",
   "execution_count": 59,
   "metadata": {},
   "outputs": [
    {
     "name": "stdout",
     "output_type": "stream",
     "text": [
      "<class 'pandas.core.frame.DataFrame'>\n",
      "Index: 357656 entries, 7 to 3096924\n",
      "Data columns (total 13 columns):\n",
      " #   Column         Non-Null Count   Dtype         \n",
      "---  ------         --------------   -----         \n",
      " 0   CustomerID     357656 non-null  int32         \n",
      " 1   ActionType     357656 non-null  category      \n",
      " 2   GoodsCode      357656 non-null  int16         \n",
      " 3   Price          357656 non-null  int32         \n",
      " 4   AdID           172028 non-null  category      \n",
      " 5   CPC            172028 non-null  float64       \n",
      " 6   Timestamp      357656 non-null  datetime64[ns]\n",
      " 7   GoodsCode_ad   357656 non-null  int16         \n",
      " 8   eval_type      357656 non-null  object        \n",
      " 9   cluster_plus   329661 non-null  object        \n",
      " 10  Category       357656 non-null  category      \n",
      " 11  OriginalPrice  357656 non-null  int32         \n",
      " 12  Inventory      357656 non-null  int32         \n",
      "dtypes: category(3), datetime64[ns](1), float64(1), int16(2), int32(4), object(2)\n",
      "memory usage: 21.5+ MB\n"
     ]
    }
   ],
   "source": [
    "ad_funnel.info()"
   ]
  },
  {
   "cell_type": "code",
   "execution_count": 60,
   "metadata": {},
   "outputs": [
    {
     "name": "stderr",
     "output_type": "stream",
     "text": [
      "/var/folders/qv/tqmmyp0s5dj996k_tcvqmtqm0000gn/T/ipykernel_1348/2480644312.py:2: SettingWithCopyWarning:\n",
      "\n",
      "\n",
      "A value is trying to be set on a copy of a slice from a DataFrame.\n",
      "Try using .loc[row_indexer,col_indexer] = value instead\n",
      "\n",
      "See the caveats in the documentation: https://pandas.pydata.org/pandas-docs/stable/user_guide/indexing.html#returning-a-view-versus-a-copy\n",
      "\n",
      "/var/folders/qv/tqmmyp0s5dj996k_tcvqmtqm0000gn/T/ipykernel_1348/2480644312.py:5: FutureWarning:\n",
      "\n",
      "A value is trying to be set on a copy of a DataFrame or Series through chained assignment using an inplace method.\n",
      "The behavior will change in pandas 3.0. This inplace method will never work because the intermediate object on which we are setting values always behaves as a copy.\n",
      "\n",
      "For example, when doing 'df[col].method(value, inplace=True)', try using 'df.method({col: value}, inplace=True)' or df[col] = df[col].method(value) instead, to perform the operation inplace on the original object.\n",
      "\n",
      "\n",
      "\n",
      "/var/folders/qv/tqmmyp0s5dj996k_tcvqmtqm0000gn/T/ipykernel_1348/2480644312.py:5: SettingWithCopyWarning:\n",
      "\n",
      "\n",
      "A value is trying to be set on a copy of a slice from a DataFrame\n",
      "\n",
      "See the caveats in the documentation: https://pandas.pydata.org/pandas-docs/stable/user_guide/indexing.html#returning-a-view-versus-a-copy\n",
      "\n"
     ]
    },
    {
     "data": {
      "text/html": [
       "<div>\n",
       "<style scoped>\n",
       "    .dataframe tbody tr th:only-of-type {\n",
       "        vertical-align: middle;\n",
       "    }\n",
       "\n",
       "    .dataframe tbody tr th {\n",
       "        vertical-align: top;\n",
       "    }\n",
       "\n",
       "    .dataframe thead th {\n",
       "        text-align: right;\n",
       "    }\n",
       "</style>\n",
       "<table border=\"1\" class=\"dataframe\">\n",
       "  <thead>\n",
       "    <tr style=\"text-align: right;\">\n",
       "      <th></th>\n",
       "      <th>CustomerID</th>\n",
       "      <th>ActionType</th>\n",
       "      <th>GoodsCode</th>\n",
       "      <th>Price</th>\n",
       "      <th>AdID</th>\n",
       "      <th>CPC</th>\n",
       "      <th>Timestamp</th>\n",
       "      <th>GoodsCode_ad</th>\n",
       "      <th>eval_type</th>\n",
       "      <th>cluster_plus</th>\n",
       "      <th>Category</th>\n",
       "      <th>OriginalPrice</th>\n",
       "      <th>Inventory</th>\n",
       "    </tr>\n",
       "  </thead>\n",
       "  <tbody>\n",
       "    <tr>\n",
       "      <th>7</th>\n",
       "      <td>6</td>\n",
       "      <td>ad_click</td>\n",
       "      <td>1437</td>\n",
       "      <td>35290</td>\n",
       "      <td>ad_google</td>\n",
       "      <td>182.31</td>\n",
       "      <td>2022-05-07 21:00:59.166991</td>\n",
       "      <td>1437</td>\n",
       "      <td>ad_click</td>\n",
       "      <td>일반고객</td>\n",
       "      <td>Home &amp; Garden</td>\n",
       "      <td>35290</td>\n",
       "      <td>3056</td>\n",
       "    </tr>\n",
       "    <tr>\n",
       "      <th>8</th>\n",
       "      <td>6</td>\n",
       "      <td>view</td>\n",
       "      <td>1437</td>\n",
       "      <td>35290</td>\n",
       "      <td>NaN</td>\n",
       "      <td>NaN</td>\n",
       "      <td>2022-05-12 10:25:41.166991</td>\n",
       "      <td>1437</td>\n",
       "      <td>ad_view</td>\n",
       "      <td>일반고객</td>\n",
       "      <td>Home &amp; Garden</td>\n",
       "      <td>35290</td>\n",
       "      <td>3056</td>\n",
       "    </tr>\n",
       "    <tr>\n",
       "      <th>37</th>\n",
       "      <td>13</td>\n",
       "      <td>ad_click</td>\n",
       "      <td>1090</td>\n",
       "      <td>21100</td>\n",
       "      <td>ad_google</td>\n",
       "      <td>158.68</td>\n",
       "      <td>2022-03-11 18:14:48.855443</td>\n",
       "      <td>1090</td>\n",
       "      <td>ad_click</td>\n",
       "      <td>일반고객</td>\n",
       "      <td>Home &amp; Garden</td>\n",
       "      <td>21100</td>\n",
       "      <td>8617</td>\n",
       "    </tr>\n",
       "    <tr>\n",
       "      <th>38</th>\n",
       "      <td>13</td>\n",
       "      <td>view</td>\n",
       "      <td>1203</td>\n",
       "      <td>85290</td>\n",
       "      <td>NaN</td>\n",
       "      <td>NaN</td>\n",
       "      <td>2022-03-17 14:31:19.855443</td>\n",
       "      <td>1090</td>\n",
       "      <td>ad_view_other</td>\n",
       "      <td>일반고객</td>\n",
       "      <td>Electronics</td>\n",
       "      <td>85290</td>\n",
       "      <td>9173</td>\n",
       "    </tr>\n",
       "    <tr>\n",
       "      <th>56</th>\n",
       "      <td>14</td>\n",
       "      <td>ad_click</td>\n",
       "      <td>1000</td>\n",
       "      <td>12580</td>\n",
       "      <td>ad_google</td>\n",
       "      <td>104.04</td>\n",
       "      <td>2022-03-07 10:33:24.548570</td>\n",
       "      <td>1000</td>\n",
       "      <td>ad_click</td>\n",
       "      <td>일반고객</td>\n",
       "      <td>Books</td>\n",
       "      <td>12580</td>\n",
       "      <td>4452</td>\n",
       "    </tr>\n",
       "    <tr>\n",
       "      <th>...</th>\n",
       "      <td>...</td>\n",
       "      <td>...</td>\n",
       "      <td>...</td>\n",
       "      <td>...</td>\n",
       "      <td>...</td>\n",
       "      <td>...</td>\n",
       "      <td>...</td>\n",
       "      <td>...</td>\n",
       "      <td>...</td>\n",
       "      <td>...</td>\n",
       "      <td>...</td>\n",
       "      <td>...</td>\n",
       "      <td>...</td>\n",
       "    </tr>\n",
       "    <tr>\n",
       "      <th>3096892</th>\n",
       "      <td>899993</td>\n",
       "      <td>view</td>\n",
       "      <td>1045</td>\n",
       "      <td>120410</td>\n",
       "      <td>NaN</td>\n",
       "      <td>NaN</td>\n",
       "      <td>2022-05-11 03:04:39.372529</td>\n",
       "      <td>1019</td>\n",
       "      <td>ad_view_other</td>\n",
       "      <td>중요고객</td>\n",
       "      <td>Electronics</td>\n",
       "      <td>120410</td>\n",
       "      <td>2622</td>\n",
       "    </tr>\n",
       "    <tr>\n",
       "      <th>3096916</th>\n",
       "      <td>899999</td>\n",
       "      <td>ad_click</td>\n",
       "      <td>1059</td>\n",
       "      <td>21230</td>\n",
       "      <td>ad_meta</td>\n",
       "      <td>71.35</td>\n",
       "      <td>2022-04-06 21:09:47.722389</td>\n",
       "      <td>1059</td>\n",
       "      <td>ad_click</td>\n",
       "      <td>일반고객</td>\n",
       "      <td>Clothing</td>\n",
       "      <td>21230</td>\n",
       "      <td>4629</td>\n",
       "    </tr>\n",
       "    <tr>\n",
       "      <th>3096917</th>\n",
       "      <td>899999</td>\n",
       "      <td>view</td>\n",
       "      <td>1271</td>\n",
       "      <td>92940</td>\n",
       "      <td>NaN</td>\n",
       "      <td>NaN</td>\n",
       "      <td>2022-04-10 18:07:56.722389</td>\n",
       "      <td>1059</td>\n",
       "      <td>ad_view_other</td>\n",
       "      <td>일반고객</td>\n",
       "      <td>Electronics</td>\n",
       "      <td>92940</td>\n",
       "      <td>8314</td>\n",
       "    </tr>\n",
       "    <tr>\n",
       "      <th>3096923</th>\n",
       "      <td>899999</td>\n",
       "      <td>ad_click</td>\n",
       "      <td>1059</td>\n",
       "      <td>21230</td>\n",
       "      <td>ad_google</td>\n",
       "      <td>94.14</td>\n",
       "      <td>2022-05-06 00:08:17.722389</td>\n",
       "      <td>1059</td>\n",
       "      <td>ad_click</td>\n",
       "      <td>일반고객</td>\n",
       "      <td>Clothing</td>\n",
       "      <td>21230</td>\n",
       "      <td>4629</td>\n",
       "    </tr>\n",
       "    <tr>\n",
       "      <th>3096924</th>\n",
       "      <td>899999</td>\n",
       "      <td>basket</td>\n",
       "      <td>1059</td>\n",
       "      <td>21230</td>\n",
       "      <td>NaN</td>\n",
       "      <td>NaN</td>\n",
       "      <td>2022-05-11 10:09:46.722389</td>\n",
       "      <td>1059</td>\n",
       "      <td>ad_basket</td>\n",
       "      <td>일반고객</td>\n",
       "      <td>Clothing</td>\n",
       "      <td>21230</td>\n",
       "      <td>4629</td>\n",
       "    </tr>\n",
       "  </tbody>\n",
       "</table>\n",
       "<p>357656 rows × 13 columns</p>\n",
       "</div>"
      ],
      "text/plain": [
       "         CustomerID ActionType  GoodsCode   Price       AdID     CPC  \\\n",
       "7                 6   ad_click       1437   35290  ad_google  182.31   \n",
       "8                 6       view       1437   35290        NaN     NaN   \n",
       "37               13   ad_click       1090   21100  ad_google  158.68   \n",
       "38               13       view       1203   85290        NaN     NaN   \n",
       "56               14   ad_click       1000   12580  ad_google  104.04   \n",
       "...             ...        ...        ...     ...        ...     ...   \n",
       "3096892      899993       view       1045  120410        NaN     NaN   \n",
       "3096916      899999   ad_click       1059   21230    ad_meta   71.35   \n",
       "3096917      899999       view       1271   92940        NaN     NaN   \n",
       "3096923      899999   ad_click       1059   21230  ad_google   94.14   \n",
       "3096924      899999     basket       1059   21230        NaN     NaN   \n",
       "\n",
       "                         Timestamp  GoodsCode_ad      eval_type cluster_plus  \\\n",
       "7       2022-05-07 21:00:59.166991          1437       ad_click         일반고객   \n",
       "8       2022-05-12 10:25:41.166991          1437        ad_view         일반고객   \n",
       "37      2022-03-11 18:14:48.855443          1090       ad_click         일반고객   \n",
       "38      2022-03-17 14:31:19.855443          1090  ad_view_other         일반고객   \n",
       "56      2022-03-07 10:33:24.548570          1000       ad_click         일반고객   \n",
       "...                            ...           ...            ...          ...   \n",
       "3096892 2022-05-11 03:04:39.372529          1019  ad_view_other         중요고객   \n",
       "3096916 2022-04-06 21:09:47.722389          1059       ad_click         일반고객   \n",
       "3096917 2022-04-10 18:07:56.722389          1059  ad_view_other         일반고객   \n",
       "3096923 2022-05-06 00:08:17.722389          1059       ad_click         일반고객   \n",
       "3096924 2022-05-11 10:09:46.722389          1059      ad_basket         일반고객   \n",
       "\n",
       "              Category  OriginalPrice  Inventory  \n",
       "7        Home & Garden          35290       3056  \n",
       "8        Home & Garden          35290       3056  \n",
       "37       Home & Garden          21100       8617  \n",
       "38         Electronics          85290       9173  \n",
       "56               Books          12580       4452  \n",
       "...                ...            ...        ...  \n",
       "3096892    Electronics         120410       2622  \n",
       "3096916       Clothing          21230       4629  \n",
       "3096917    Electronics          92940       8314  \n",
       "3096923       Clothing          21230       4629  \n",
       "3096924       Clothing          21230       4629  \n",
       "\n",
       "[357656 rows x 13 columns]"
      ]
     },
     "execution_count": 60,
     "metadata": {},
     "output_type": "execute_result"
    }
   ],
   "source": [
    "# 'cluster_plus' 열의 값을 문자열로 변경\n",
    "ad_funnel['cluster_plus'] = ad_funnel['cluster_plus'].astype(str)\n",
    "\n",
    "# 치환할 값들을 지정하여 치환\n",
    "ad_funnel['cluster_plus'].replace({'1': '우수고객', '2': '중요고객', 'vip': 'vip', '3':'신규고객','4':'일반고객','0':'이탈고객'}, inplace=True)\n",
    "ad_funnel\n"
   ]
  },
  {
   "cell_type": "code",
   "execution_count": 61,
   "metadata": {},
   "outputs": [
    {
     "data": {
      "text/plain": [
       "cluster_plus\n",
       "이탈고객    104560\n",
       "일반고객    100065\n",
       "우수고객     59650\n",
       "중요고객     57569\n",
       "nan      27995\n",
       "vip       7369\n",
       "신규고객       448\n",
       "Name: count, dtype: int64"
      ]
     },
     "execution_count": 61,
     "metadata": {},
     "output_type": "execute_result"
    }
   ],
   "source": [
    "ad_funnel['cluster_plus'].value_counts()"
   ]
  },
  {
   "cell_type": "code",
   "execution_count": 62,
   "metadata": {},
   "outputs": [
    {
     "data": {
      "text/plain": [
       "0"
      ]
     },
     "execution_count": 62,
     "metadata": {},
     "output_type": "execute_result"
    }
   ],
   "source": [
    "df['eval_type'].isnull().sum()"
   ]
  },
  {
   "cell_type": "code",
   "execution_count": 63,
   "metadata": {},
   "outputs": [
    {
     "data": {
      "text/html": [
       "<div>\n",
       "<style scoped>\n",
       "    .dataframe tbody tr th:only-of-type {\n",
       "        vertical-align: middle;\n",
       "    }\n",
       "\n",
       "    .dataframe tbody tr th {\n",
       "        vertical-align: top;\n",
       "    }\n",
       "\n",
       "    .dataframe thead th {\n",
       "        text-align: right;\n",
       "    }\n",
       "</style>\n",
       "<table border=\"1\" class=\"dataframe\">\n",
       "  <thead>\n",
       "    <tr style=\"text-align: right;\">\n",
       "      <th></th>\n",
       "      <th>ClusterPlus</th>\n",
       "      <th>Final</th>\n",
       "      <th>Net_Count</th>\n",
       "      <th>Adjusted_Count</th>\n",
       "      <th>Adjusted_Ratio</th>\n",
       "    </tr>\n",
       "  </thead>\n",
       "  <tbody>\n",
       "    <tr>\n",
       "      <th>0</th>\n",
       "      <td>0</td>\n",
       "      <td>ad_click</td>\n",
       "      <td>9616</td>\n",
       "      <td>11014</td>\n",
       "      <td>1.00</td>\n",
       "    </tr>\n",
       "    <tr>\n",
       "      <th>1</th>\n",
       "      <td>0</td>\n",
       "      <td>basket</td>\n",
       "      <td>1027</td>\n",
       "      <td>1398</td>\n",
       "      <td>0.13</td>\n",
       "    </tr>\n",
       "    <tr>\n",
       "      <th>2</th>\n",
       "      <td>0</td>\n",
       "      <td>purchase</td>\n",
       "      <td>371</td>\n",
       "      <td>371</td>\n",
       "      <td>0.03</td>\n",
       "    </tr>\n",
       "    <tr>\n",
       "      <th>3</th>\n",
       "      <td>1</td>\n",
       "      <td>ad_click</td>\n",
       "      <td>3993</td>\n",
       "      <td>5330</td>\n",
       "      <td>1.00</td>\n",
       "    </tr>\n",
       "    <tr>\n",
       "      <th>4</th>\n",
       "      <td>1</td>\n",
       "      <td>basket</td>\n",
       "      <td>617</td>\n",
       "      <td>1337</td>\n",
       "      <td>0.25</td>\n",
       "    </tr>\n",
       "    <tr>\n",
       "      <th>5</th>\n",
       "      <td>1</td>\n",
       "      <td>purchase</td>\n",
       "      <td>720</td>\n",
       "      <td>720</td>\n",
       "      <td>0.14</td>\n",
       "    </tr>\n",
       "    <tr>\n",
       "      <th>6</th>\n",
       "      <td>2</td>\n",
       "      <td>ad_click</td>\n",
       "      <td>7273</td>\n",
       "      <td>9288</td>\n",
       "      <td>1.00</td>\n",
       "    </tr>\n",
       "    <tr>\n",
       "      <th>7</th>\n",
       "      <td>2</td>\n",
       "      <td>basket</td>\n",
       "      <td>963</td>\n",
       "      <td>2015</td>\n",
       "      <td>0.22</td>\n",
       "    </tr>\n",
       "    <tr>\n",
       "      <th>8</th>\n",
       "      <td>2</td>\n",
       "      <td>purchase</td>\n",
       "      <td>1052</td>\n",
       "      <td>1052</td>\n",
       "      <td>0.11</td>\n",
       "    </tr>\n",
       "    <tr>\n",
       "      <th>9</th>\n",
       "      <td>3</td>\n",
       "      <td>ad_click</td>\n",
       "      <td>67</td>\n",
       "      <td>77</td>\n",
       "      <td>1.00</td>\n",
       "    </tr>\n",
       "    <tr>\n",
       "      <th>10</th>\n",
       "      <td>3</td>\n",
       "      <td>basket</td>\n",
       "      <td>6</td>\n",
       "      <td>10</td>\n",
       "      <td>0.13</td>\n",
       "    </tr>\n",
       "    <tr>\n",
       "      <th>11</th>\n",
       "      <td>3</td>\n",
       "      <td>purchase</td>\n",
       "      <td>4</td>\n",
       "      <td>4</td>\n",
       "      <td>0.05</td>\n",
       "    </tr>\n",
       "    <tr>\n",
       "      <th>12</th>\n",
       "      <td>4</td>\n",
       "      <td>ad_click</td>\n",
       "      <td>5394</td>\n",
       "      <td>6445</td>\n",
       "      <td>1.00</td>\n",
       "    </tr>\n",
       "    <tr>\n",
       "      <th>13</th>\n",
       "      <td>4</td>\n",
       "      <td>basket</td>\n",
       "      <td>726</td>\n",
       "      <td>1051</td>\n",
       "      <td>0.16</td>\n",
       "    </tr>\n",
       "    <tr>\n",
       "      <th>14</th>\n",
       "      <td>4</td>\n",
       "      <td>purchase</td>\n",
       "      <td>325</td>\n",
       "      <td>325</td>\n",
       "      <td>0.05</td>\n",
       "    </tr>\n",
       "    <tr>\n",
       "      <th>15</th>\n",
       "      <td>vip</td>\n",
       "      <td>ad_click</td>\n",
       "      <td>553</td>\n",
       "      <td>860</td>\n",
       "      <td>1.00</td>\n",
       "    </tr>\n",
       "    <tr>\n",
       "      <th>16</th>\n",
       "      <td>vip</td>\n",
       "      <td>basket</td>\n",
       "      <td>118</td>\n",
       "      <td>307</td>\n",
       "      <td>0.36</td>\n",
       "    </tr>\n",
       "    <tr>\n",
       "      <th>17</th>\n",
       "      <td>vip</td>\n",
       "      <td>purchase</td>\n",
       "      <td>189</td>\n",
       "      <td>189</td>\n",
       "      <td>0.22</td>\n",
       "    </tr>\n",
       "  </tbody>\n",
       "</table>\n",
       "</div>"
      ],
      "text/plain": [
       "   ClusterPlus     Final  Net_Count  Adjusted_Count  Adjusted_Ratio\n",
       "0            0  ad_click       9616           11014            1.00\n",
       "1            0    basket       1027            1398            0.13\n",
       "2            0  purchase        371             371            0.03\n",
       "3            1  ad_click       3993            5330            1.00\n",
       "4            1    basket        617            1337            0.25\n",
       "5            1  purchase        720             720            0.14\n",
       "6            2  ad_click       7273            9288            1.00\n",
       "7            2    basket        963            2015            0.22\n",
       "8            2  purchase       1052            1052            0.11\n",
       "9            3  ad_click         67              77            1.00\n",
       "10           3    basket          6              10            0.13\n",
       "11           3  purchase          4               4            0.05\n",
       "12           4  ad_click       5394            6445            1.00\n",
       "13           4    basket        726            1051            0.16\n",
       "14           4  purchase        325             325            0.05\n",
       "15         vip  ad_click        553             860            1.00\n",
       "16         vip    basket        118             307            0.36\n",
       "17         vip  purchase        189             189            0.22"
      ]
     },
     "execution_count": 63,
     "metadata": {},
     "output_type": "execute_result"
    }
   ],
   "source": [
    "sh = pd.read_parquet('/Users/hj/Documents/Four-A/2nd dataset/khj/data/클러스터별퍼널세그먼트동일노상관.parquet')\n",
    "sh"
   ]
  },
  {
   "cell_type": "code",
   "execution_count": 64,
   "metadata": {},
   "outputs": [
    {
     "data": {
      "text/html": [
       "<div>\n",
       "<style scoped>\n",
       "    .dataframe tbody tr th:only-of-type {\n",
       "        vertical-align: middle;\n",
       "    }\n",
       "\n",
       "    .dataframe tbody tr th {\n",
       "        vertical-align: top;\n",
       "    }\n",
       "\n",
       "    .dataframe thead th {\n",
       "        text-align: right;\n",
       "    }\n",
       "</style>\n",
       "<table border=\"1\" class=\"dataframe\">\n",
       "  <thead>\n",
       "    <tr style=\"text-align: right;\">\n",
       "      <th></th>\n",
       "      <th>index</th>\n",
       "      <th>ClusterPlus</th>\n",
       "      <th>SameSegment</th>\n",
       "      <th>Final</th>\n",
       "      <th>Net_Count</th>\n",
       "      <th>Adjusted_Count</th>\n",
       "      <th>Adjusted_Ratio</th>\n",
       "    </tr>\n",
       "  </thead>\n",
       "  <tbody>\n",
       "    <tr>\n",
       "      <th>0</th>\n",
       "      <td>0</td>\n",
       "      <td>0</td>\n",
       "      <td>O</td>\n",
       "      <td>ad_click</td>\n",
       "      <td>9616</td>\n",
       "      <td>10854</td>\n",
       "      <td>1.00</td>\n",
       "    </tr>\n",
       "    <tr>\n",
       "      <th>1</th>\n",
       "      <td>1</td>\n",
       "      <td>0</td>\n",
       "      <td>O</td>\n",
       "      <td>basket</td>\n",
       "      <td>937</td>\n",
       "      <td>1238</td>\n",
       "      <td>0.11</td>\n",
       "    </tr>\n",
       "    <tr>\n",
       "      <th>2</th>\n",
       "      <td>2</td>\n",
       "      <td>0</td>\n",
       "      <td>O</td>\n",
       "      <td>purchase</td>\n",
       "      <td>301</td>\n",
       "      <td>301</td>\n",
       "      <td>0.03</td>\n",
       "    </tr>\n",
       "    <tr>\n",
       "      <th>3</th>\n",
       "      <td>5</td>\n",
       "      <td>1</td>\n",
       "      <td>O</td>\n",
       "      <td>ad_click</td>\n",
       "      <td>3993</td>\n",
       "      <td>5006</td>\n",
       "      <td>1.00</td>\n",
       "    </tr>\n",
       "    <tr>\n",
       "      <th>4</th>\n",
       "      <td>6</td>\n",
       "      <td>1</td>\n",
       "      <td>O</td>\n",
       "      <td>basket</td>\n",
       "      <td>512</td>\n",
       "      <td>1013</td>\n",
       "      <td>0.20</td>\n",
       "    </tr>\n",
       "    <tr>\n",
       "      <th>5</th>\n",
       "      <td>7</td>\n",
       "      <td>1</td>\n",
       "      <td>O</td>\n",
       "      <td>purchase</td>\n",
       "      <td>501</td>\n",
       "      <td>501</td>\n",
       "      <td>0.10</td>\n",
       "    </tr>\n",
       "    <tr>\n",
       "      <th>6</th>\n",
       "      <td>10</td>\n",
       "      <td>2</td>\n",
       "      <td>O</td>\n",
       "      <td>ad_click</td>\n",
       "      <td>7273</td>\n",
       "      <td>8935</td>\n",
       "      <td>1.00</td>\n",
       "    </tr>\n",
       "    <tr>\n",
       "      <th>7</th>\n",
       "      <td>11</td>\n",
       "      <td>2</td>\n",
       "      <td>O</td>\n",
       "      <td>basket</td>\n",
       "      <td>831</td>\n",
       "      <td>1662</td>\n",
       "      <td>0.19</td>\n",
       "    </tr>\n",
       "    <tr>\n",
       "      <th>8</th>\n",
       "      <td>12</td>\n",
       "      <td>2</td>\n",
       "      <td>O</td>\n",
       "      <td>purchase</td>\n",
       "      <td>831</td>\n",
       "      <td>831</td>\n",
       "      <td>0.09</td>\n",
       "    </tr>\n",
       "    <tr>\n",
       "      <th>9</th>\n",
       "      <td>15</td>\n",
       "      <td>3</td>\n",
       "      <td>O</td>\n",
       "      <td>ad_click</td>\n",
       "      <td>67</td>\n",
       "      <td>77</td>\n",
       "      <td>1.00</td>\n",
       "    </tr>\n",
       "    <tr>\n",
       "      <th>10</th>\n",
       "      <td>16</td>\n",
       "      <td>3</td>\n",
       "      <td>O</td>\n",
       "      <td>basket</td>\n",
       "      <td>6</td>\n",
       "      <td>10</td>\n",
       "      <td>0.13</td>\n",
       "    </tr>\n",
       "    <tr>\n",
       "      <th>11</th>\n",
       "      <td>17</td>\n",
       "      <td>3</td>\n",
       "      <td>O</td>\n",
       "      <td>purchase</td>\n",
       "      <td>4</td>\n",
       "      <td>4</td>\n",
       "      <td>0.05</td>\n",
       "    </tr>\n",
       "    <tr>\n",
       "      <th>12</th>\n",
       "      <td>18</td>\n",
       "      <td>4</td>\n",
       "      <td>O</td>\n",
       "      <td>ad_click</td>\n",
       "      <td>5394</td>\n",
       "      <td>6321</td>\n",
       "      <td>1.00</td>\n",
       "    </tr>\n",
       "    <tr>\n",
       "      <th>13</th>\n",
       "      <td>19</td>\n",
       "      <td>4</td>\n",
       "      <td>O</td>\n",
       "      <td>basket</td>\n",
       "      <td>648</td>\n",
       "      <td>927</td>\n",
       "      <td>0.15</td>\n",
       "    </tr>\n",
       "    <tr>\n",
       "      <th>14</th>\n",
       "      <td>20</td>\n",
       "      <td>4</td>\n",
       "      <td>O</td>\n",
       "      <td>purchase</td>\n",
       "      <td>279</td>\n",
       "      <td>279</td>\n",
       "      <td>0.04</td>\n",
       "    </tr>\n",
       "    <tr>\n",
       "      <th>15</th>\n",
       "      <td>23</td>\n",
       "      <td>vip</td>\n",
       "      <td>O</td>\n",
       "      <td>ad_click</td>\n",
       "      <td>553</td>\n",
       "      <td>760</td>\n",
       "      <td>1.00</td>\n",
       "    </tr>\n",
       "    <tr>\n",
       "      <th>16</th>\n",
       "      <td>24</td>\n",
       "      <td>vip</td>\n",
       "      <td>O</td>\n",
       "      <td>basket</td>\n",
       "      <td>90</td>\n",
       "      <td>207</td>\n",
       "      <td>0.27</td>\n",
       "    </tr>\n",
       "    <tr>\n",
       "      <th>17</th>\n",
       "      <td>25</td>\n",
       "      <td>vip</td>\n",
       "      <td>O</td>\n",
       "      <td>purchase</td>\n",
       "      <td>117</td>\n",
       "      <td>117</td>\n",
       "      <td>0.15</td>\n",
       "    </tr>\n",
       "  </tbody>\n",
       "</table>\n",
       "</div>"
      ],
      "text/plain": [
       "    index ClusterPlus SameSegment     Final  Net_Count  Adjusted_Count  \\\n",
       "0       0           0           O  ad_click       9616           10854   \n",
       "1       1           0           O    basket        937            1238   \n",
       "2       2           0           O  purchase        301             301   \n",
       "3       5           1           O  ad_click       3993            5006   \n",
       "4       6           1           O    basket        512            1013   \n",
       "5       7           1           O  purchase        501             501   \n",
       "6      10           2           O  ad_click       7273            8935   \n",
       "7      11           2           O    basket        831            1662   \n",
       "8      12           2           O  purchase        831             831   \n",
       "9      15           3           O  ad_click         67              77   \n",
       "10     16           3           O    basket          6              10   \n",
       "11     17           3           O  purchase          4               4   \n",
       "12     18           4           O  ad_click       5394            6321   \n",
       "13     19           4           O    basket        648             927   \n",
       "14     20           4           O  purchase        279             279   \n",
       "15     23         vip           O  ad_click        553             760   \n",
       "16     24         vip           O    basket         90             207   \n",
       "17     25         vip           O  purchase        117             117   \n",
       "\n",
       "    Adjusted_Ratio  \n",
       "0             1.00  \n",
       "1             0.11  \n",
       "2             0.03  \n",
       "3             1.00  \n",
       "4             0.20  \n",
       "5             0.10  \n",
       "6             1.00  \n",
       "7             0.19  \n",
       "8             0.09  \n",
       "9             1.00  \n",
       "10            0.13  \n",
       "11            0.05  \n",
       "12            1.00  \n",
       "13            0.15  \n",
       "14            0.04  \n",
       "15            1.00  \n",
       "16            0.27  \n",
       "17            0.15  "
      ]
     },
     "execution_count": 64,
     "metadata": {},
     "output_type": "execute_result"
    }
   ],
   "source": [
    "sh1 = pd.read_parquet('/Users/hj/Documents/Four-A/2nd dataset/khj/data/클러스터별퍼널세그먼트동일.parquet')\n",
    "sh1"
   ]
  },
  {
   "cell_type": "markdown",
   "metadata": {},
   "source": [
    "## 전체 클러스터 대상"
   ]
  },
  {
   "cell_type": "code",
   "execution_count": 65,
   "metadata": {},
   "outputs": [
    {
     "data": {
      "text/html": [
       "<div>\n",
       "<style scoped>\n",
       "    .dataframe tbody tr th:only-of-type {\n",
       "        vertical-align: middle;\n",
       "    }\n",
       "\n",
       "    .dataframe tbody tr th {\n",
       "        vertical-align: top;\n",
       "    }\n",
       "\n",
       "    .dataframe thead th {\n",
       "        text-align: right;\n",
       "    }\n",
       "</style>\n",
       "<table border=\"1\" class=\"dataframe\">\n",
       "  <thead>\n",
       "    <tr style=\"text-align: right;\">\n",
       "      <th></th>\n",
       "      <th>CustomerID</th>\n",
       "      <th>ActionType</th>\n",
       "      <th>GoodsCode</th>\n",
       "      <th>Price</th>\n",
       "      <th>AdID</th>\n",
       "      <th>CPC</th>\n",
       "      <th>Timestamp</th>\n",
       "      <th>GoodsCode_ad</th>\n",
       "      <th>eval_type</th>\n",
       "      <th>cluster_plus</th>\n",
       "      <th>Category</th>\n",
       "      <th>OriginalPrice</th>\n",
       "      <th>Inventory</th>\n",
       "    </tr>\n",
       "  </thead>\n",
       "  <tbody>\n",
       "    <tr>\n",
       "      <th>38</th>\n",
       "      <td>13</td>\n",
       "      <td>view</td>\n",
       "      <td>1203</td>\n",
       "      <td>85290</td>\n",
       "      <td>NaN</td>\n",
       "      <td>NaN</td>\n",
       "      <td>2022-03-17 14:31:19.855443</td>\n",
       "      <td>1090</td>\n",
       "      <td>ad_view_other</td>\n",
       "      <td>일반고객</td>\n",
       "      <td>Electronics</td>\n",
       "      <td>85290</td>\n",
       "      <td>9173</td>\n",
       "    </tr>\n",
       "    <tr>\n",
       "      <th>150</th>\n",
       "      <td>32</td>\n",
       "      <td>view</td>\n",
       "      <td>1336</td>\n",
       "      <td>82700</td>\n",
       "      <td>NaN</td>\n",
       "      <td>NaN</td>\n",
       "      <td>2022-03-10 20:36:37.376860</td>\n",
       "      <td>1036</td>\n",
       "      <td>ad_view_other</td>\n",
       "      <td>중요고객</td>\n",
       "      <td>Electronics</td>\n",
       "      <td>82700</td>\n",
       "      <td>4342</td>\n",
       "    </tr>\n",
       "    <tr>\n",
       "      <th>151</th>\n",
       "      <td>32</td>\n",
       "      <td>view</td>\n",
       "      <td>1336</td>\n",
       "      <td>82700</td>\n",
       "      <td>NaN</td>\n",
       "      <td>NaN</td>\n",
       "      <td>2022-03-11 08:25:32.376860</td>\n",
       "      <td>1036</td>\n",
       "      <td>ad_view_other</td>\n",
       "      <td>중요고객</td>\n",
       "      <td>Electronics</td>\n",
       "      <td>82700</td>\n",
       "      <td>4342</td>\n",
       "    </tr>\n",
       "    <tr>\n",
       "      <th>157</th>\n",
       "      <td>32</td>\n",
       "      <td>ad_click</td>\n",
       "      <td>1499</td>\n",
       "      <td>33180</td>\n",
       "      <td>ad_google</td>\n",
       "      <td>76.56</td>\n",
       "      <td>2022-03-30 16:18:05.376860</td>\n",
       "      <td>1499</td>\n",
       "      <td>ad_click</td>\n",
       "      <td>중요고객</td>\n",
       "      <td>Electronics</td>\n",
       "      <td>33180</td>\n",
       "      <td>4591</td>\n",
       "    </tr>\n",
       "    <tr>\n",
       "      <th>158</th>\n",
       "      <td>32</td>\n",
       "      <td>purchase</td>\n",
       "      <td>1499</td>\n",
       "      <td>33180</td>\n",
       "      <td>NaN</td>\n",
       "      <td>NaN</td>\n",
       "      <td>2022-03-31 10:56:52.376860</td>\n",
       "      <td>1499</td>\n",
       "      <td>ad_purchase</td>\n",
       "      <td>중요고객</td>\n",
       "      <td>Electronics</td>\n",
       "      <td>33180</td>\n",
       "      <td>4591</td>\n",
       "    </tr>\n",
       "    <tr>\n",
       "      <th>...</th>\n",
       "      <td>...</td>\n",
       "      <td>...</td>\n",
       "      <td>...</td>\n",
       "      <td>...</td>\n",
       "      <td>...</td>\n",
       "      <td>...</td>\n",
       "      <td>...</td>\n",
       "      <td>...</td>\n",
       "      <td>...</td>\n",
       "      <td>...</td>\n",
       "      <td>...</td>\n",
       "      <td>...</td>\n",
       "      <td>...</td>\n",
       "    </tr>\n",
       "    <tr>\n",
       "      <th>3096786</th>\n",
       "      <td>899952</td>\n",
       "      <td>ad_click</td>\n",
       "      <td>1484</td>\n",
       "      <td>108330</td>\n",
       "      <td>ad_line</td>\n",
       "      <td>783.63</td>\n",
       "      <td>2022-03-28 11:20:18.440542</td>\n",
       "      <td>1484</td>\n",
       "      <td>ad_click</td>\n",
       "      <td>이탈고객</td>\n",
       "      <td>Electronics</td>\n",
       "      <td>108330</td>\n",
       "      <td>9595</td>\n",
       "    </tr>\n",
       "    <tr>\n",
       "      <th>3096788</th>\n",
       "      <td>899952</td>\n",
       "      <td>ad_click</td>\n",
       "      <td>1484</td>\n",
       "      <td>108330</td>\n",
       "      <td>ad_google</td>\n",
       "      <td>927.11</td>\n",
       "      <td>2022-03-30 04:19:09.440542</td>\n",
       "      <td>1484</td>\n",
       "      <td>ad_click</td>\n",
       "      <td>이탈고객</td>\n",
       "      <td>Electronics</td>\n",
       "      <td>108330</td>\n",
       "      <td>9595</td>\n",
       "    </tr>\n",
       "    <tr>\n",
       "      <th>3096789</th>\n",
       "      <td>899952</td>\n",
       "      <td>basket</td>\n",
       "      <td>1484</td>\n",
       "      <td>108330</td>\n",
       "      <td>NaN</td>\n",
       "      <td>NaN</td>\n",
       "      <td>2022-04-02 19:08:41.440542</td>\n",
       "      <td>1484</td>\n",
       "      <td>ad_basket</td>\n",
       "      <td>이탈고객</td>\n",
       "      <td>Electronics</td>\n",
       "      <td>108330</td>\n",
       "      <td>9595</td>\n",
       "    </tr>\n",
       "    <tr>\n",
       "      <th>3096892</th>\n",
       "      <td>899993</td>\n",
       "      <td>view</td>\n",
       "      <td>1045</td>\n",
       "      <td>120410</td>\n",
       "      <td>NaN</td>\n",
       "      <td>NaN</td>\n",
       "      <td>2022-05-11 03:04:39.372529</td>\n",
       "      <td>1019</td>\n",
       "      <td>ad_view_other</td>\n",
       "      <td>중요고객</td>\n",
       "      <td>Electronics</td>\n",
       "      <td>120410</td>\n",
       "      <td>2622</td>\n",
       "    </tr>\n",
       "    <tr>\n",
       "      <th>3096917</th>\n",
       "      <td>899999</td>\n",
       "      <td>view</td>\n",
       "      <td>1271</td>\n",
       "      <td>92940</td>\n",
       "      <td>NaN</td>\n",
       "      <td>NaN</td>\n",
       "      <td>2022-04-10 18:07:56.722389</td>\n",
       "      <td>1059</td>\n",
       "      <td>ad_view_other</td>\n",
       "      <td>일반고객</td>\n",
       "      <td>Electronics</td>\n",
       "      <td>92940</td>\n",
       "      <td>8314</td>\n",
       "    </tr>\n",
       "  </tbody>\n",
       "</table>\n",
       "<p>77773 rows × 13 columns</p>\n",
       "</div>"
      ],
      "text/plain": [
       "         CustomerID ActionType  GoodsCode   Price       AdID     CPC  \\\n",
       "38               13       view       1203   85290        NaN     NaN   \n",
       "150              32       view       1336   82700        NaN     NaN   \n",
       "151              32       view       1336   82700        NaN     NaN   \n",
       "157              32   ad_click       1499   33180  ad_google   76.56   \n",
       "158              32   purchase       1499   33180        NaN     NaN   \n",
       "...             ...        ...        ...     ...        ...     ...   \n",
       "3096786      899952   ad_click       1484  108330    ad_line  783.63   \n",
       "3096788      899952   ad_click       1484  108330  ad_google  927.11   \n",
       "3096789      899952     basket       1484  108330        NaN     NaN   \n",
       "3096892      899993       view       1045  120410        NaN     NaN   \n",
       "3096917      899999       view       1271   92940        NaN     NaN   \n",
       "\n",
       "                         Timestamp  GoodsCode_ad      eval_type cluster_plus  \\\n",
       "38      2022-03-17 14:31:19.855443          1090  ad_view_other         일반고객   \n",
       "150     2022-03-10 20:36:37.376860          1036  ad_view_other         중요고객   \n",
       "151     2022-03-11 08:25:32.376860          1036  ad_view_other         중요고객   \n",
       "157     2022-03-30 16:18:05.376860          1499       ad_click         중요고객   \n",
       "158     2022-03-31 10:56:52.376860          1499    ad_purchase         중요고객   \n",
       "...                            ...           ...            ...          ...   \n",
       "3096786 2022-03-28 11:20:18.440542          1484       ad_click         이탈고객   \n",
       "3096788 2022-03-30 04:19:09.440542          1484       ad_click         이탈고객   \n",
       "3096789 2022-04-02 19:08:41.440542          1484      ad_basket         이탈고객   \n",
       "3096892 2022-05-11 03:04:39.372529          1019  ad_view_other         중요고객   \n",
       "3096917 2022-04-10 18:07:56.722389          1059  ad_view_other         일반고객   \n",
       "\n",
       "            Category  OriginalPrice  Inventory  \n",
       "38       Electronics          85290       9173  \n",
       "150      Electronics          82700       4342  \n",
       "151      Electronics          82700       4342  \n",
       "157      Electronics          33180       4591  \n",
       "158      Electronics          33180       4591  \n",
       "...              ...            ...        ...  \n",
       "3096786  Electronics         108330       9595  \n",
       "3096788  Electronics         108330       9595  \n",
       "3096789  Electronics         108330       9595  \n",
       "3096892  Electronics         120410       2622  \n",
       "3096917  Electronics          92940       8314  \n",
       "\n",
       "[77773 rows x 13 columns]"
      ]
     },
     "execution_count": 65,
     "metadata": {},
     "output_type": "execute_result"
    }
   ],
   "source": [
    "elec = ad_funnel[ad_funnel['Category'] == 'Electronics']\n",
    "elec"
   ]
  },
  {
   "cell_type": "code",
   "execution_count": 97,
   "metadata": {},
   "outputs": [
    {
     "name": "stdout",
     "output_type": "stream",
     "text": [
      "퍼널 카운트: {'view': 49300, 'basket': 5018, 'purchase': 1699}\n"
     ]
    }
   ],
   "source": [
    "total_ad_funnel_adpurchase_counts1 = {'view': 0, 'basket': 0, 'purchase': 0}\n",
    "\n",
    "# 퍼널을 계산\n",
    "for idx, row in elec.iterrows():\n",
    "    if row['ActionType'] == 'ad_click':\n",
    "        total_ad_funnel_adpurchase_counts1['view'] += 1\n",
    "    elif row['eval_type'] == 'ad_view':\n",
    "        total_ad_funnel_adpurchase_counts1['view'] += 1\n",
    "    elif row['eval_type'] == 'ad_basket':\n",
    "        total_ad_funnel_adpurchase_counts1['basket'] += 1\n",
    "        total_ad_funnel_adpurchase_counts1['view'] += 1  \n",
    "    elif row['eval_type'] == 'ad_purchase':\n",
    "        total_ad_funnel_adpurchase_counts1['purchase'] += 1\n",
    "        total_ad_funnel_adpurchase_counts1['view'] += 1\n",
    "        total_ad_funnel_adpurchase_counts1['basket'] += 1\n",
    "\n",
    "print(\"퍼널 카운트:\", total_ad_funnel_adpurchase_counts1)\n"
   ]
  },
  {
   "cell_type": "code",
   "execution_count": 98,
   "metadata": {},
   "outputs": [
    {
     "name": "stdout",
     "output_type": "stream",
     "text": [
      "View Count: 49300\n",
      "Basket Count: 5018\n",
      "Purchase Count: 1699\n",
      "View to Basket Conversion Rate: 0.10178498985801217\n",
      "Basket to Purchase Conversion Rate: 0.3385811080111598\n",
      "View to Purchase Conversion Rate: 0.034462474645030425\n"
     ]
    }
   ],
   "source": [
    "view_count_total_elec = 49300\n",
    "basket_count_total_elec = 5018\n",
    "purchase_count_total_elec = 1699\n",
    "\n",
    "\n",
    "# 각 단계에서 다음 단계로의 전환율을 계산합니다.\n",
    "basket_to_purchase_rate_total_elec = purchase_count_total_elec / basket_count_total_elec\n",
    "view_to_basket_rate_ad_total_elec = basket_count_total_elec / view_count_total_elec\n",
    "view_to_purchase_rate_total_elec = purchase_count_total_elec / view_count_total_elec\n",
    "\n",
    "# 결과를 출력합니다.\n",
    "print(\"View Count:\", view_count_total_elec)\n",
    "print(\"Basket Count:\", basket_count_total_elec)\n",
    "print(\"Purchase Count:\", purchase_count_total_elec)\n",
    "print(\"View to Basket Conversion Rate:\", view_to_basket_rate_ad_total_elec)\n",
    "print(\"Basket to Purchase Conversion Rate:\", basket_to_purchase_rate_total_elec)\n",
    "print(\"View to Purchase Conversion Rate:\",view_to_purchase_rate_total_elec)\n"
   ]
  },
  {
   "cell_type": "code",
   "execution_count": 99,
   "metadata": {},
   "outputs": [
    {
     "data": {
      "application/vnd.plotly.v1+json": {
       "config": {
        "plotlyServerURL": "https://plot.ly"
       },
       "data": [
        {
         "hovertemplate": "rate=%{x}<br>stage=%{y}<extra></extra>",
         "legendgroup": "",
         "marker": {
          "color": "#636efa"
         },
         "name": "",
         "orientation": "h",
         "showlegend": false,
         "texttemplate": "%{value:,.2%}",
         "type": "funnel",
         "x": [
          1,
          0.10178498985801217,
          0.034462474645030425
         ],
         "xaxis": "x",
         "y": [
          "view",
          "basket",
          "purchase"
         ],
         "yaxis": "y"
        }
       ],
       "layout": {
        "legend": {
         "tracegroupgap": 0
        },
        "template": {
         "data": {
          "bar": [
           {
            "error_x": {
             "color": "#2a3f5f"
            },
            "error_y": {
             "color": "#2a3f5f"
            },
            "marker": {
             "line": {
              "color": "#E5ECF6",
              "width": 0.5
             },
             "pattern": {
              "fillmode": "overlay",
              "size": 10,
              "solidity": 0.2
             }
            },
            "type": "bar"
           }
          ],
          "barpolar": [
           {
            "marker": {
             "line": {
              "color": "#E5ECF6",
              "width": 0.5
             },
             "pattern": {
              "fillmode": "overlay",
              "size": 10,
              "solidity": 0.2
             }
            },
            "type": "barpolar"
           }
          ],
          "carpet": [
           {
            "aaxis": {
             "endlinecolor": "#2a3f5f",
             "gridcolor": "white",
             "linecolor": "white",
             "minorgridcolor": "white",
             "startlinecolor": "#2a3f5f"
            },
            "baxis": {
             "endlinecolor": "#2a3f5f",
             "gridcolor": "white",
             "linecolor": "white",
             "minorgridcolor": "white",
             "startlinecolor": "#2a3f5f"
            },
            "type": "carpet"
           }
          ],
          "choropleth": [
           {
            "colorbar": {
             "outlinewidth": 0,
             "ticks": ""
            },
            "type": "choropleth"
           }
          ],
          "contour": [
           {
            "colorbar": {
             "outlinewidth": 0,
             "ticks": ""
            },
            "colorscale": [
             [
              0,
              "#0d0887"
             ],
             [
              0.1111111111111111,
              "#46039f"
             ],
             [
              0.2222222222222222,
              "#7201a8"
             ],
             [
              0.3333333333333333,
              "#9c179e"
             ],
             [
              0.4444444444444444,
              "#bd3786"
             ],
             [
              0.5555555555555556,
              "#d8576b"
             ],
             [
              0.6666666666666666,
              "#ed7953"
             ],
             [
              0.7777777777777778,
              "#fb9f3a"
             ],
             [
              0.8888888888888888,
              "#fdca26"
             ],
             [
              1,
              "#f0f921"
             ]
            ],
            "type": "contour"
           }
          ],
          "contourcarpet": [
           {
            "colorbar": {
             "outlinewidth": 0,
             "ticks": ""
            },
            "type": "contourcarpet"
           }
          ],
          "heatmap": [
           {
            "colorbar": {
             "outlinewidth": 0,
             "ticks": ""
            },
            "colorscale": [
             [
              0,
              "#0d0887"
             ],
             [
              0.1111111111111111,
              "#46039f"
             ],
             [
              0.2222222222222222,
              "#7201a8"
             ],
             [
              0.3333333333333333,
              "#9c179e"
             ],
             [
              0.4444444444444444,
              "#bd3786"
             ],
             [
              0.5555555555555556,
              "#d8576b"
             ],
             [
              0.6666666666666666,
              "#ed7953"
             ],
             [
              0.7777777777777778,
              "#fb9f3a"
             ],
             [
              0.8888888888888888,
              "#fdca26"
             ],
             [
              1,
              "#f0f921"
             ]
            ],
            "type": "heatmap"
           }
          ],
          "heatmapgl": [
           {
            "colorbar": {
             "outlinewidth": 0,
             "ticks": ""
            },
            "colorscale": [
             [
              0,
              "#0d0887"
             ],
             [
              0.1111111111111111,
              "#46039f"
             ],
             [
              0.2222222222222222,
              "#7201a8"
             ],
             [
              0.3333333333333333,
              "#9c179e"
             ],
             [
              0.4444444444444444,
              "#bd3786"
             ],
             [
              0.5555555555555556,
              "#d8576b"
             ],
             [
              0.6666666666666666,
              "#ed7953"
             ],
             [
              0.7777777777777778,
              "#fb9f3a"
             ],
             [
              0.8888888888888888,
              "#fdca26"
             ],
             [
              1,
              "#f0f921"
             ]
            ],
            "type": "heatmapgl"
           }
          ],
          "histogram": [
           {
            "marker": {
             "pattern": {
              "fillmode": "overlay",
              "size": 10,
              "solidity": 0.2
             }
            },
            "type": "histogram"
           }
          ],
          "histogram2d": [
           {
            "colorbar": {
             "outlinewidth": 0,
             "ticks": ""
            },
            "colorscale": [
             [
              0,
              "#0d0887"
             ],
             [
              0.1111111111111111,
              "#46039f"
             ],
             [
              0.2222222222222222,
              "#7201a8"
             ],
             [
              0.3333333333333333,
              "#9c179e"
             ],
             [
              0.4444444444444444,
              "#bd3786"
             ],
             [
              0.5555555555555556,
              "#d8576b"
             ],
             [
              0.6666666666666666,
              "#ed7953"
             ],
             [
              0.7777777777777778,
              "#fb9f3a"
             ],
             [
              0.8888888888888888,
              "#fdca26"
             ],
             [
              1,
              "#f0f921"
             ]
            ],
            "type": "histogram2d"
           }
          ],
          "histogram2dcontour": [
           {
            "colorbar": {
             "outlinewidth": 0,
             "ticks": ""
            },
            "colorscale": [
             [
              0,
              "#0d0887"
             ],
             [
              0.1111111111111111,
              "#46039f"
             ],
             [
              0.2222222222222222,
              "#7201a8"
             ],
             [
              0.3333333333333333,
              "#9c179e"
             ],
             [
              0.4444444444444444,
              "#bd3786"
             ],
             [
              0.5555555555555556,
              "#d8576b"
             ],
             [
              0.6666666666666666,
              "#ed7953"
             ],
             [
              0.7777777777777778,
              "#fb9f3a"
             ],
             [
              0.8888888888888888,
              "#fdca26"
             ],
             [
              1,
              "#f0f921"
             ]
            ],
            "type": "histogram2dcontour"
           }
          ],
          "mesh3d": [
           {
            "colorbar": {
             "outlinewidth": 0,
             "ticks": ""
            },
            "type": "mesh3d"
           }
          ],
          "parcoords": [
           {
            "line": {
             "colorbar": {
              "outlinewidth": 0,
              "ticks": ""
             }
            },
            "type": "parcoords"
           }
          ],
          "pie": [
           {
            "automargin": true,
            "type": "pie"
           }
          ],
          "scatter": [
           {
            "fillpattern": {
             "fillmode": "overlay",
             "size": 10,
             "solidity": 0.2
            },
            "type": "scatter"
           }
          ],
          "scatter3d": [
           {
            "line": {
             "colorbar": {
              "outlinewidth": 0,
              "ticks": ""
             }
            },
            "marker": {
             "colorbar": {
              "outlinewidth": 0,
              "ticks": ""
             }
            },
            "type": "scatter3d"
           }
          ],
          "scattercarpet": [
           {
            "marker": {
             "colorbar": {
              "outlinewidth": 0,
              "ticks": ""
             }
            },
            "type": "scattercarpet"
           }
          ],
          "scattergeo": [
           {
            "marker": {
             "colorbar": {
              "outlinewidth": 0,
              "ticks": ""
             }
            },
            "type": "scattergeo"
           }
          ],
          "scattergl": [
           {
            "marker": {
             "colorbar": {
              "outlinewidth": 0,
              "ticks": ""
             }
            },
            "type": "scattergl"
           }
          ],
          "scattermapbox": [
           {
            "marker": {
             "colorbar": {
              "outlinewidth": 0,
              "ticks": ""
             }
            },
            "type": "scattermapbox"
           }
          ],
          "scatterpolar": [
           {
            "marker": {
             "colorbar": {
              "outlinewidth": 0,
              "ticks": ""
             }
            },
            "type": "scatterpolar"
           }
          ],
          "scatterpolargl": [
           {
            "marker": {
             "colorbar": {
              "outlinewidth": 0,
              "ticks": ""
             }
            },
            "type": "scatterpolargl"
           }
          ],
          "scatterternary": [
           {
            "marker": {
             "colorbar": {
              "outlinewidth": 0,
              "ticks": ""
             }
            },
            "type": "scatterternary"
           }
          ],
          "surface": [
           {
            "colorbar": {
             "outlinewidth": 0,
             "ticks": ""
            },
            "colorscale": [
             [
              0,
              "#0d0887"
             ],
             [
              0.1111111111111111,
              "#46039f"
             ],
             [
              0.2222222222222222,
              "#7201a8"
             ],
             [
              0.3333333333333333,
              "#9c179e"
             ],
             [
              0.4444444444444444,
              "#bd3786"
             ],
             [
              0.5555555555555556,
              "#d8576b"
             ],
             [
              0.6666666666666666,
              "#ed7953"
             ],
             [
              0.7777777777777778,
              "#fb9f3a"
             ],
             [
              0.8888888888888888,
              "#fdca26"
             ],
             [
              1,
              "#f0f921"
             ]
            ],
            "type": "surface"
           }
          ],
          "table": [
           {
            "cells": {
             "fill": {
              "color": "#EBF0F8"
             },
             "line": {
              "color": "white"
             }
            },
            "header": {
             "fill": {
              "color": "#C8D4E3"
             },
             "line": {
              "color": "white"
             }
            },
            "type": "table"
           }
          ]
         },
         "layout": {
          "annotationdefaults": {
           "arrowcolor": "#2a3f5f",
           "arrowhead": 0,
           "arrowwidth": 1
          },
          "autotypenumbers": "strict",
          "coloraxis": {
           "colorbar": {
            "outlinewidth": 0,
            "ticks": ""
           }
          },
          "colorscale": {
           "diverging": [
            [
             0,
             "#8e0152"
            ],
            [
             0.1,
             "#c51b7d"
            ],
            [
             0.2,
             "#de77ae"
            ],
            [
             0.3,
             "#f1b6da"
            ],
            [
             0.4,
             "#fde0ef"
            ],
            [
             0.5,
             "#f7f7f7"
            ],
            [
             0.6,
             "#e6f5d0"
            ],
            [
             0.7,
             "#b8e186"
            ],
            [
             0.8,
             "#7fbc41"
            ],
            [
             0.9,
             "#4d9221"
            ],
            [
             1,
             "#276419"
            ]
           ],
           "sequential": [
            [
             0,
             "#0d0887"
            ],
            [
             0.1111111111111111,
             "#46039f"
            ],
            [
             0.2222222222222222,
             "#7201a8"
            ],
            [
             0.3333333333333333,
             "#9c179e"
            ],
            [
             0.4444444444444444,
             "#bd3786"
            ],
            [
             0.5555555555555556,
             "#d8576b"
            ],
            [
             0.6666666666666666,
             "#ed7953"
            ],
            [
             0.7777777777777778,
             "#fb9f3a"
            ],
            [
             0.8888888888888888,
             "#fdca26"
            ],
            [
             1,
             "#f0f921"
            ]
           ],
           "sequentialminus": [
            [
             0,
             "#0d0887"
            ],
            [
             0.1111111111111111,
             "#46039f"
            ],
            [
             0.2222222222222222,
             "#7201a8"
            ],
            [
             0.3333333333333333,
             "#9c179e"
            ],
            [
             0.4444444444444444,
             "#bd3786"
            ],
            [
             0.5555555555555556,
             "#d8576b"
            ],
            [
             0.6666666666666666,
             "#ed7953"
            ],
            [
             0.7777777777777778,
             "#fb9f3a"
            ],
            [
             0.8888888888888888,
             "#fdca26"
            ],
            [
             1,
             "#f0f921"
            ]
           ]
          },
          "colorway": [
           "#636efa",
           "#EF553B",
           "#00cc96",
           "#ab63fa",
           "#FFA15A",
           "#19d3f3",
           "#FF6692",
           "#B6E880",
           "#FF97FF",
           "#FECB52"
          ],
          "font": {
           "color": "#2a3f5f"
          },
          "geo": {
           "bgcolor": "white",
           "lakecolor": "white",
           "landcolor": "#E5ECF6",
           "showlakes": true,
           "showland": true,
           "subunitcolor": "white"
          },
          "hoverlabel": {
           "align": "left"
          },
          "hovermode": "closest",
          "mapbox": {
           "style": "light"
          },
          "paper_bgcolor": "white",
          "plot_bgcolor": "#E5ECF6",
          "polar": {
           "angularaxis": {
            "gridcolor": "white",
            "linecolor": "white",
            "ticks": ""
           },
           "bgcolor": "#E5ECF6",
           "radialaxis": {
            "gridcolor": "white",
            "linecolor": "white",
            "ticks": ""
           }
          },
          "scene": {
           "xaxis": {
            "backgroundcolor": "#E5ECF6",
            "gridcolor": "white",
            "gridwidth": 2,
            "linecolor": "white",
            "showbackground": true,
            "ticks": "",
            "zerolinecolor": "white"
           },
           "yaxis": {
            "backgroundcolor": "#E5ECF6",
            "gridcolor": "white",
            "gridwidth": 2,
            "linecolor": "white",
            "showbackground": true,
            "ticks": "",
            "zerolinecolor": "white"
           },
           "zaxis": {
            "backgroundcolor": "#E5ECF6",
            "gridcolor": "white",
            "gridwidth": 2,
            "linecolor": "white",
            "showbackground": true,
            "ticks": "",
            "zerolinecolor": "white"
           }
          },
          "shapedefaults": {
           "line": {
            "color": "#2a3f5f"
           }
          },
          "ternary": {
           "aaxis": {
            "gridcolor": "white",
            "linecolor": "white",
            "ticks": ""
           },
           "baxis": {
            "gridcolor": "white",
            "linecolor": "white",
            "ticks": ""
           },
           "bgcolor": "#E5ECF6",
           "caxis": {
            "gridcolor": "white",
            "linecolor": "white",
            "ticks": ""
           }
          },
          "title": {
           "x": 0.05
          },
          "xaxis": {
           "automargin": true,
           "gridcolor": "white",
           "linecolor": "white",
           "ticks": "",
           "title": {
            "standoff": 15
           },
           "zerolinecolor": "white",
           "zerolinewidth": 2
          },
          "yaxis": {
           "automargin": true,
           "gridcolor": "white",
           "linecolor": "white",
           "ticks": "",
           "title": {
            "standoff": 15
           },
           "zerolinecolor": "white",
           "zerolinewidth": 2
          }
         }
        },
        "title": {
         "text": "전체고객 Funnel (Electronics)"
        },
        "xaxis": {
         "anchor": "y",
         "domain": [
          0,
          1
         ],
         "title": {
          "text": "rate"
         }
        },
        "yaxis": {
         "anchor": "x",
         "domain": [
          0,
          1
         ],
         "title": {
          "text": "stage"
         }
        }
       }
      }
     },
     "metadata": {},
     "output_type": "display_data"
    }
   ],
   "source": [
    "data = dict(\n",
    "    number=[49300,5018,1699],\n",
    "    stage=['view','basket','purchase'],\n",
    "    rate=[1,0.10178498985801217,0.034462474645030425]\n",
    ")\n",
    "fig = px.funnel(data, x='rate', y='stage', title='전체고객 Funnel (Electronics)')\n",
    "fig.update_traces(texttemplate=\"%{value:,.2%}\")\n",
    "fig.show()"
   ]
  },
  {
   "cell_type": "markdown",
   "metadata": {},
   "source": [
    "## 이탈고객 (0)"
   ]
  },
  {
   "cell_type": "code",
   "execution_count": 66,
   "metadata": {},
   "outputs": [
    {
     "data": {
      "text/html": [
       "<div>\n",
       "<style scoped>\n",
       "    .dataframe tbody tr th:only-of-type {\n",
       "        vertical-align: middle;\n",
       "    }\n",
       "\n",
       "    .dataframe tbody tr th {\n",
       "        vertical-align: top;\n",
       "    }\n",
       "\n",
       "    .dataframe thead th {\n",
       "        text-align: right;\n",
       "    }\n",
       "</style>\n",
       "<table border=\"1\" class=\"dataframe\">\n",
       "  <thead>\n",
       "    <tr style=\"text-align: right;\">\n",
       "      <th></th>\n",
       "      <th>CustomerID</th>\n",
       "      <th>ActionType</th>\n",
       "      <th>GoodsCode</th>\n",
       "      <th>Price</th>\n",
       "      <th>AdID</th>\n",
       "      <th>CPC</th>\n",
       "      <th>Timestamp</th>\n",
       "      <th>GoodsCode_ad</th>\n",
       "      <th>eval_type</th>\n",
       "      <th>cluster_plus</th>\n",
       "      <th>Category</th>\n",
       "      <th>OriginalPrice</th>\n",
       "      <th>Inventory</th>\n",
       "    </tr>\n",
       "  </thead>\n",
       "  <tbody>\n",
       "    <tr>\n",
       "      <th>183</th>\n",
       "      <td>33</td>\n",
       "      <td>ad_click</td>\n",
       "      <td>1149</td>\n",
       "      <td>17780</td>\n",
       "      <td>ad_line</td>\n",
       "      <td>131.84</td>\n",
       "      <td>2022-04-10 18:14:48.486139</td>\n",
       "      <td>1149</td>\n",
       "      <td>ad_click</td>\n",
       "      <td>이탈고객</td>\n",
       "      <td>Books</td>\n",
       "      <td>17780</td>\n",
       "      <td>4294</td>\n",
       "    </tr>\n",
       "    <tr>\n",
       "      <th>304</th>\n",
       "      <td>84</td>\n",
       "      <td>ad_click</td>\n",
       "      <td>1348</td>\n",
       "      <td>7920</td>\n",
       "      <td>ad_line</td>\n",
       "      <td>66.44</td>\n",
       "      <td>2022-04-24 13:06:24.760000</td>\n",
       "      <td>1348</td>\n",
       "      <td>ad_click</td>\n",
       "      <td>이탈고객</td>\n",
       "      <td>Clothing</td>\n",
       "      <td>7920</td>\n",
       "      <td>7446</td>\n",
       "    </tr>\n",
       "    <tr>\n",
       "      <th>305</th>\n",
       "      <td>84</td>\n",
       "      <td>view</td>\n",
       "      <td>1392</td>\n",
       "      <td>5360</td>\n",
       "      <td>NaN</td>\n",
       "      <td>NaN</td>\n",
       "      <td>2022-04-25 07:08:36.961569</td>\n",
       "      <td>1348</td>\n",
       "      <td>ad_view_other</td>\n",
       "      <td>이탈고객</td>\n",
       "      <td>Health &amp; Beauty</td>\n",
       "      <td>5360</td>\n",
       "      <td>3433</td>\n",
       "    </tr>\n",
       "    <tr>\n",
       "      <th>306</th>\n",
       "      <td>84</td>\n",
       "      <td>view</td>\n",
       "      <td>1076</td>\n",
       "      <td>146320</td>\n",
       "      <td>NaN</td>\n",
       "      <td>NaN</td>\n",
       "      <td>2022-04-26 01:59:16.961569</td>\n",
       "      <td>1348</td>\n",
       "      <td>ad_view_other</td>\n",
       "      <td>이탈고객</td>\n",
       "      <td>Electronics</td>\n",
       "      <td>146320</td>\n",
       "      <td>7766</td>\n",
       "    </tr>\n",
       "    <tr>\n",
       "      <th>307</th>\n",
       "      <td>84</td>\n",
       "      <td>view</td>\n",
       "      <td>1076</td>\n",
       "      <td>146320</td>\n",
       "      <td>NaN</td>\n",
       "      <td>NaN</td>\n",
       "      <td>2022-04-28 10:21:21.961569</td>\n",
       "      <td>1348</td>\n",
       "      <td>ad_view_other</td>\n",
       "      <td>이탈고객</td>\n",
       "      <td>Electronics</td>\n",
       "      <td>146320</td>\n",
       "      <td>7766</td>\n",
       "    </tr>\n",
       "    <tr>\n",
       "      <th>...</th>\n",
       "      <td>...</td>\n",
       "      <td>...</td>\n",
       "      <td>...</td>\n",
       "      <td>...</td>\n",
       "      <td>...</td>\n",
       "      <td>...</td>\n",
       "      <td>...</td>\n",
       "      <td>...</td>\n",
       "      <td>...</td>\n",
       "      <td>...</td>\n",
       "      <td>...</td>\n",
       "      <td>...</td>\n",
       "      <td>...</td>\n",
       "    </tr>\n",
       "    <tr>\n",
       "      <th>3096788</th>\n",
       "      <td>899952</td>\n",
       "      <td>ad_click</td>\n",
       "      <td>1484</td>\n",
       "      <td>108330</td>\n",
       "      <td>ad_google</td>\n",
       "      <td>927.11</td>\n",
       "      <td>2022-03-30 04:19:09.440542</td>\n",
       "      <td>1484</td>\n",
       "      <td>ad_click</td>\n",
       "      <td>이탈고객</td>\n",
       "      <td>Electronics</td>\n",
       "      <td>108330</td>\n",
       "      <td>9595</td>\n",
       "    </tr>\n",
       "    <tr>\n",
       "      <th>3096789</th>\n",
       "      <td>899952</td>\n",
       "      <td>basket</td>\n",
       "      <td>1484</td>\n",
       "      <td>108330</td>\n",
       "      <td>NaN</td>\n",
       "      <td>NaN</td>\n",
       "      <td>2022-04-02 19:08:41.440542</td>\n",
       "      <td>1484</td>\n",
       "      <td>ad_basket</td>\n",
       "      <td>이탈고객</td>\n",
       "      <td>Electronics</td>\n",
       "      <td>108330</td>\n",
       "      <td>9595</td>\n",
       "    </tr>\n",
       "    <tr>\n",
       "      <th>3096790</th>\n",
       "      <td>899952</td>\n",
       "      <td>view</td>\n",
       "      <td>1418</td>\n",
       "      <td>21060</td>\n",
       "      <td>NaN</td>\n",
       "      <td>NaN</td>\n",
       "      <td>2022-04-02 20:12:36.440542</td>\n",
       "      <td>1484</td>\n",
       "      <td>ad_view_other</td>\n",
       "      <td>이탈고객</td>\n",
       "      <td>Health &amp; Beauty</td>\n",
       "      <td>21060</td>\n",
       "      <td>1001</td>\n",
       "    </tr>\n",
       "    <tr>\n",
       "      <th>3096825</th>\n",
       "      <td>899965</td>\n",
       "      <td>ad_click</td>\n",
       "      <td>1196</td>\n",
       "      <td>17690</td>\n",
       "      <td>ad_line</td>\n",
       "      <td>45.31</td>\n",
       "      <td>2022-03-16 09:19:26.486139</td>\n",
       "      <td>1196</td>\n",
       "      <td>ad_click</td>\n",
       "      <td>이탈고객</td>\n",
       "      <td>Home &amp; Garden</td>\n",
       "      <td>17690</td>\n",
       "      <td>3033</td>\n",
       "    </tr>\n",
       "    <tr>\n",
       "      <th>3096826</th>\n",
       "      <td>899965</td>\n",
       "      <td>ad_click</td>\n",
       "      <td>1377</td>\n",
       "      <td>21030</td>\n",
       "      <td>ad_meta</td>\n",
       "      <td>131.82</td>\n",
       "      <td>2022-03-25 20:38:45.486139</td>\n",
       "      <td>1377</td>\n",
       "      <td>ad_click</td>\n",
       "      <td>이탈고객</td>\n",
       "      <td>Clothing</td>\n",
       "      <td>21030</td>\n",
       "      <td>9884</td>\n",
       "    </tr>\n",
       "  </tbody>\n",
       "</table>\n",
       "<p>104560 rows × 13 columns</p>\n",
       "</div>"
      ],
      "text/plain": [
       "         CustomerID ActionType  GoodsCode   Price       AdID     CPC  \\\n",
       "183              33   ad_click       1149   17780    ad_line  131.84   \n",
       "304              84   ad_click       1348    7920    ad_line   66.44   \n",
       "305              84       view       1392    5360        NaN     NaN   \n",
       "306              84       view       1076  146320        NaN     NaN   \n",
       "307              84       view       1076  146320        NaN     NaN   \n",
       "...             ...        ...        ...     ...        ...     ...   \n",
       "3096788      899952   ad_click       1484  108330  ad_google  927.11   \n",
       "3096789      899952     basket       1484  108330        NaN     NaN   \n",
       "3096790      899952       view       1418   21060        NaN     NaN   \n",
       "3096825      899965   ad_click       1196   17690    ad_line   45.31   \n",
       "3096826      899965   ad_click       1377   21030    ad_meta  131.82   \n",
       "\n",
       "                         Timestamp  GoodsCode_ad      eval_type cluster_plus  \\\n",
       "183     2022-04-10 18:14:48.486139          1149       ad_click         이탈고객   \n",
       "304     2022-04-24 13:06:24.760000          1348       ad_click         이탈고객   \n",
       "305     2022-04-25 07:08:36.961569          1348  ad_view_other         이탈고객   \n",
       "306     2022-04-26 01:59:16.961569          1348  ad_view_other         이탈고객   \n",
       "307     2022-04-28 10:21:21.961569          1348  ad_view_other         이탈고객   \n",
       "...                            ...           ...            ...          ...   \n",
       "3096788 2022-03-30 04:19:09.440542          1484       ad_click         이탈고객   \n",
       "3096789 2022-04-02 19:08:41.440542          1484      ad_basket         이탈고객   \n",
       "3096790 2022-04-02 20:12:36.440542          1484  ad_view_other         이탈고객   \n",
       "3096825 2022-03-16 09:19:26.486139          1196       ad_click         이탈고객   \n",
       "3096826 2022-03-25 20:38:45.486139          1377       ad_click         이탈고객   \n",
       "\n",
       "                Category  OriginalPrice  Inventory  \n",
       "183                Books          17780       4294  \n",
       "304             Clothing           7920       7446  \n",
       "305      Health & Beauty           5360       3433  \n",
       "306          Electronics         146320       7766  \n",
       "307          Electronics         146320       7766  \n",
       "...                  ...            ...        ...  \n",
       "3096788      Electronics         108330       9595  \n",
       "3096789      Electronics         108330       9595  \n",
       "3096790  Health & Beauty          21060       1001  \n",
       "3096825    Home & Garden          17690       3033  \n",
       "3096826         Clothing          21030       9884  \n",
       "\n",
       "[104560 rows x 13 columns]"
      ]
     },
     "execution_count": 66,
     "metadata": {},
     "output_type": "execute_result"
    }
   ],
   "source": [
    "etal = ad_funnel[ad_funnel['cluster_plus']=='이탈고객']\n",
    "etal"
   ]
  },
  {
   "cell_type": "code",
   "execution_count": 67,
   "metadata": {},
   "outputs": [
    {
     "data": {
      "text/html": [
       "<div>\n",
       "<style scoped>\n",
       "    .dataframe tbody tr th:only-of-type {\n",
       "        vertical-align: middle;\n",
       "    }\n",
       "\n",
       "    .dataframe tbody tr th {\n",
       "        vertical-align: top;\n",
       "    }\n",
       "\n",
       "    .dataframe thead th {\n",
       "        text-align: right;\n",
       "    }\n",
       "</style>\n",
       "<table border=\"1\" class=\"dataframe\">\n",
       "  <thead>\n",
       "    <tr style=\"text-align: right;\">\n",
       "      <th></th>\n",
       "      <th>CustomerID</th>\n",
       "      <th>ActionType</th>\n",
       "      <th>GoodsCode</th>\n",
       "      <th>Price</th>\n",
       "      <th>AdID</th>\n",
       "      <th>CPC</th>\n",
       "      <th>Timestamp</th>\n",
       "      <th>GoodsCode_ad</th>\n",
       "      <th>eval_type</th>\n",
       "      <th>cluster_plus</th>\n",
       "      <th>Category</th>\n",
       "      <th>OriginalPrice</th>\n",
       "      <th>Inventory</th>\n",
       "    </tr>\n",
       "  </thead>\n",
       "  <tbody>\n",
       "    <tr>\n",
       "      <th>306</th>\n",
       "      <td>84</td>\n",
       "      <td>view</td>\n",
       "      <td>1076</td>\n",
       "      <td>146320</td>\n",
       "      <td>NaN</td>\n",
       "      <td>NaN</td>\n",
       "      <td>2022-04-26 01:59:16.961569</td>\n",
       "      <td>1348</td>\n",
       "      <td>ad_view_other</td>\n",
       "      <td>이탈고객</td>\n",
       "      <td>Electronics</td>\n",
       "      <td>146320</td>\n",
       "      <td>7766</td>\n",
       "    </tr>\n",
       "    <tr>\n",
       "      <th>307</th>\n",
       "      <td>84</td>\n",
       "      <td>view</td>\n",
       "      <td>1076</td>\n",
       "      <td>146320</td>\n",
       "      <td>NaN</td>\n",
       "      <td>NaN</td>\n",
       "      <td>2022-04-28 10:21:21.961569</td>\n",
       "      <td>1348</td>\n",
       "      <td>ad_view_other</td>\n",
       "      <td>이탈고객</td>\n",
       "      <td>Electronics</td>\n",
       "      <td>146320</td>\n",
       "      <td>7766</td>\n",
       "    </tr>\n",
       "    <tr>\n",
       "      <th>375</th>\n",
       "      <td>102</td>\n",
       "      <td>view</td>\n",
       "      <td>1081</td>\n",
       "      <td>105310</td>\n",
       "      <td>NaN</td>\n",
       "      <td>NaN</td>\n",
       "      <td>2022-04-03 04:18:43.530419</td>\n",
       "      <td>1459</td>\n",
       "      <td>ad_view_other</td>\n",
       "      <td>이탈고객</td>\n",
       "      <td>Electronics</td>\n",
       "      <td>105310</td>\n",
       "      <td>6408</td>\n",
       "    </tr>\n",
       "    <tr>\n",
       "      <th>1093</th>\n",
       "      <td>256</td>\n",
       "      <td>ad_click</td>\n",
       "      <td>1265</td>\n",
       "      <td>49280</td>\n",
       "      <td>ad_line</td>\n",
       "      <td>132.12</td>\n",
       "      <td>2022-04-14 11:12:17.511967</td>\n",
       "      <td>1265</td>\n",
       "      <td>ad_click</td>\n",
       "      <td>이탈고객</td>\n",
       "      <td>Electronics</td>\n",
       "      <td>49280</td>\n",
       "      <td>3745</td>\n",
       "    </tr>\n",
       "    <tr>\n",
       "      <th>1658</th>\n",
       "      <td>432</td>\n",
       "      <td>ad_click</td>\n",
       "      <td>1385</td>\n",
       "      <td>78100</td>\n",
       "      <td>ad_google</td>\n",
       "      <td>486.17</td>\n",
       "      <td>2022-04-06 12:38:26.855443</td>\n",
       "      <td>1385</td>\n",
       "      <td>ad_click</td>\n",
       "      <td>이탈고객</td>\n",
       "      <td>Electronics</td>\n",
       "      <td>78100</td>\n",
       "      <td>2763</td>\n",
       "    </tr>\n",
       "    <tr>\n",
       "      <th>...</th>\n",
       "      <td>...</td>\n",
       "      <td>...</td>\n",
       "      <td>...</td>\n",
       "      <td>...</td>\n",
       "      <td>...</td>\n",
       "      <td>...</td>\n",
       "      <td>...</td>\n",
       "      <td>...</td>\n",
       "      <td>...</td>\n",
       "      <td>...</td>\n",
       "      <td>...</td>\n",
       "      <td>...</td>\n",
       "      <td>...</td>\n",
       "    </tr>\n",
       "    <tr>\n",
       "      <th>3096634</th>\n",
       "      <td>899919</td>\n",
       "      <td>ad_click</td>\n",
       "      <td>1486</td>\n",
       "      <td>41930</td>\n",
       "      <td>ad_meta</td>\n",
       "      <td>168.45</td>\n",
       "      <td>2022-05-12 22:46:13.794648</td>\n",
       "      <td>1486</td>\n",
       "      <td>ad_click</td>\n",
       "      <td>이탈고객</td>\n",
       "      <td>Electronics</td>\n",
       "      <td>41930</td>\n",
       "      <td>7675</td>\n",
       "    </tr>\n",
       "    <tr>\n",
       "      <th>3096635</th>\n",
       "      <td>899919</td>\n",
       "      <td>view</td>\n",
       "      <td>1486</td>\n",
       "      <td>41930</td>\n",
       "      <td>NaN</td>\n",
       "      <td>NaN</td>\n",
       "      <td>2022-05-18 13:06:55.794648</td>\n",
       "      <td>1486</td>\n",
       "      <td>ad_view</td>\n",
       "      <td>이탈고객</td>\n",
       "      <td>Electronics</td>\n",
       "      <td>41930</td>\n",
       "      <td>7675</td>\n",
       "    </tr>\n",
       "    <tr>\n",
       "      <th>3096786</th>\n",
       "      <td>899952</td>\n",
       "      <td>ad_click</td>\n",
       "      <td>1484</td>\n",
       "      <td>108330</td>\n",
       "      <td>ad_line</td>\n",
       "      <td>783.63</td>\n",
       "      <td>2022-03-28 11:20:18.440542</td>\n",
       "      <td>1484</td>\n",
       "      <td>ad_click</td>\n",
       "      <td>이탈고객</td>\n",
       "      <td>Electronics</td>\n",
       "      <td>108330</td>\n",
       "      <td>9595</td>\n",
       "    </tr>\n",
       "    <tr>\n",
       "      <th>3096788</th>\n",
       "      <td>899952</td>\n",
       "      <td>ad_click</td>\n",
       "      <td>1484</td>\n",
       "      <td>108330</td>\n",
       "      <td>ad_google</td>\n",
       "      <td>927.11</td>\n",
       "      <td>2022-03-30 04:19:09.440542</td>\n",
       "      <td>1484</td>\n",
       "      <td>ad_click</td>\n",
       "      <td>이탈고객</td>\n",
       "      <td>Electronics</td>\n",
       "      <td>108330</td>\n",
       "      <td>9595</td>\n",
       "    </tr>\n",
       "    <tr>\n",
       "      <th>3096789</th>\n",
       "      <td>899952</td>\n",
       "      <td>basket</td>\n",
       "      <td>1484</td>\n",
       "      <td>108330</td>\n",
       "      <td>NaN</td>\n",
       "      <td>NaN</td>\n",
       "      <td>2022-04-02 19:08:41.440542</td>\n",
       "      <td>1484</td>\n",
       "      <td>ad_basket</td>\n",
       "      <td>이탈고객</td>\n",
       "      <td>Electronics</td>\n",
       "      <td>108330</td>\n",
       "      <td>9595</td>\n",
       "    </tr>\n",
       "  </tbody>\n",
       "</table>\n",
       "<p>19828 rows × 13 columns</p>\n",
       "</div>"
      ],
      "text/plain": [
       "         CustomerID ActionType  GoodsCode   Price       AdID     CPC  \\\n",
       "306              84       view       1076  146320        NaN     NaN   \n",
       "307              84       view       1076  146320        NaN     NaN   \n",
       "375             102       view       1081  105310        NaN     NaN   \n",
       "1093            256   ad_click       1265   49280    ad_line  132.12   \n",
       "1658            432   ad_click       1385   78100  ad_google  486.17   \n",
       "...             ...        ...        ...     ...        ...     ...   \n",
       "3096634      899919   ad_click       1486   41930    ad_meta  168.45   \n",
       "3096635      899919       view       1486   41930        NaN     NaN   \n",
       "3096786      899952   ad_click       1484  108330    ad_line  783.63   \n",
       "3096788      899952   ad_click       1484  108330  ad_google  927.11   \n",
       "3096789      899952     basket       1484  108330        NaN     NaN   \n",
       "\n",
       "                         Timestamp  GoodsCode_ad      eval_type cluster_plus  \\\n",
       "306     2022-04-26 01:59:16.961569          1348  ad_view_other         이탈고객   \n",
       "307     2022-04-28 10:21:21.961569          1348  ad_view_other         이탈고객   \n",
       "375     2022-04-03 04:18:43.530419          1459  ad_view_other         이탈고객   \n",
       "1093    2022-04-14 11:12:17.511967          1265       ad_click         이탈고객   \n",
       "1658    2022-04-06 12:38:26.855443          1385       ad_click         이탈고객   \n",
       "...                            ...           ...            ...          ...   \n",
       "3096634 2022-05-12 22:46:13.794648          1486       ad_click         이탈고객   \n",
       "3096635 2022-05-18 13:06:55.794648          1486        ad_view         이탈고객   \n",
       "3096786 2022-03-28 11:20:18.440542          1484       ad_click         이탈고객   \n",
       "3096788 2022-03-30 04:19:09.440542          1484       ad_click         이탈고객   \n",
       "3096789 2022-04-02 19:08:41.440542          1484      ad_basket         이탈고객   \n",
       "\n",
       "            Category  OriginalPrice  Inventory  \n",
       "306      Electronics         146320       7766  \n",
       "307      Electronics         146320       7766  \n",
       "375      Electronics         105310       6408  \n",
       "1093     Electronics          49280       3745  \n",
       "1658     Electronics          78100       2763  \n",
       "...              ...            ...        ...  \n",
       "3096634  Electronics          41930       7675  \n",
       "3096635  Electronics          41930       7675  \n",
       "3096786  Electronics         108330       9595  \n",
       "3096788  Electronics         108330       9595  \n",
       "3096789  Electronics         108330       9595  \n",
       "\n",
       "[19828 rows x 13 columns]"
      ]
     },
     "execution_count": 67,
     "metadata": {},
     "output_type": "execute_result"
    }
   ],
   "source": [
    "etal = etal[etal['Category'] == 'Electronics']\n",
    "etal"
   ]
  },
  {
   "cell_type": "code",
   "execution_count": 68,
   "metadata": {},
   "outputs": [
    {
     "name": "stdout",
     "output_type": "stream",
     "text": [
      "퍼널 카운트: {'view': 14104, 'basket': 1208, 'purchase': 264}\n"
     ]
    }
   ],
   "source": [
    "etal_ad_funnel_adpurchase_counts = {'view': 0, 'basket': 0, 'purchase': 0}\n",
    "\n",
    "# 퍼널을 계산\n",
    "for idx, row in etal.iterrows():\n",
    "    if row['ActionType'] == 'ad_click':\n",
    "        etal_ad_funnel_adpurchase_counts['view'] += 1\n",
    "    elif row['ActionType'] == 'view' and row['GoodsCode'] == row['GoodsCode_ad']:\n",
    "        etal_ad_funnel_adpurchase_counts['view'] += 1\n",
    "    elif row['ActionType'] == 'basket' and row['GoodsCode'] == row['GoodsCode_ad']:\n",
    "        etal_ad_funnel_adpurchase_counts['basket'] += 1\n",
    "        etal_ad_funnel_adpurchase_counts['view'] += 1  \n",
    "    elif row['ActionType'] == 'purchase' and row['GoodsCode'] == row['GoodsCode_ad']:\n",
    "        etal_ad_funnel_adpurchase_counts['purchase'] += 1\n",
    "        etal_ad_funnel_adpurchase_counts['view'] += 1\n",
    "        etal_ad_funnel_adpurchase_counts['basket'] += 1\n",
    "\n",
    "print(\"퍼널 카운트:\", etal_ad_funnel_adpurchase_counts)\n"
   ]
  },
  {
   "cell_type": "code",
   "execution_count": 69,
   "metadata": {},
   "outputs": [
    {
     "name": "stdout",
     "output_type": "stream",
     "text": [
      "퍼널 카운트: {'view': 14104, 'basket': 1208, 'purchase': 264}\n"
     ]
    }
   ],
   "source": [
    "etal_ad_funnel_adpurchase_counts2 = {'view': 0, 'basket': 0, 'purchase': 0}\n",
    "\n",
    "# 퍼널을 계산\n",
    "for idx, row in etal.iterrows():\n",
    "    if row['ActionType'] == 'ad_click':\n",
    "        etal_ad_funnel_adpurchase_counts2['view'] += 1\n",
    "    elif row['eval_type'] == 'ad_view':\n",
    "        etal_ad_funnel_adpurchase_counts2['view'] += 1\n",
    "    elif row['eval_type'] == 'ad_basket':\n",
    "        etal_ad_funnel_adpurchase_counts2['basket'] += 1\n",
    "        etal_ad_funnel_adpurchase_counts2['view'] += 1  \n",
    "    elif row['eval_type'] == 'ad_purchase':\n",
    "        etal_ad_funnel_adpurchase_counts2['purchase'] += 1\n",
    "        etal_ad_funnel_adpurchase_counts2['view'] += 1\n",
    "        etal_ad_funnel_adpurchase_counts2['basket'] += 1\n",
    "\n",
    "print(\"퍼널 카운트:\", etal_ad_funnel_adpurchase_counts2)\n"
   ]
  },
  {
   "cell_type": "code",
   "execution_count": 70,
   "metadata": {},
   "outputs": [
    {
     "name": "stdout",
     "output_type": "stream",
     "text": [
      "View Count: 14104\n",
      "Basket Count: 1208\n",
      "Purchase Count: 264\n",
      "View to Basket Conversion Rate: 0.08564946114577425\n",
      "Basket to Purchase Conversion Rate: 0.2185430463576159\n",
      "View to Purchase Conversion Rate: 0.01871809415768576\n"
     ]
    }
   ],
   "source": [
    "view_count_etal_elec = 14104\n",
    "basket_count_etal_elec = 1208\n",
    "purchase_count_etal_elec = 264\n",
    "\n",
    "\n",
    "# 각 단계에서 다음 단계로의 전환율을 계산합니다.\n",
    "basket_to_purchase_rate_etal_elec = purchase_count_etal_elec / basket_count_etal_elec\n",
    "view_to_basket_rate_ad_etal_elec = basket_count_etal_elec / view_count_etal_elec\n",
    "view_to_purchase_rate_etal_elec = purchase_count_etal_elec / view_count_etal_elec\n",
    "\n",
    "# 결과를 출력합니다.\n",
    "print(\"View Count:\", view_count_etal_elec)\n",
    "print(\"Basket Count:\", basket_count_etal_elec)\n",
    "print(\"Purchase Count:\", purchase_count_etal_elec)\n",
    "print(\"View to Basket Conversion Rate:\", view_to_basket_rate_ad_etal_elec)\n",
    "print(\"Basket to Purchase Conversion Rate:\", basket_to_purchase_rate_etal_elec)\n",
    "print(\"View to Purchase Conversion Rate:\",view_to_purchase_rate_etal_elec)\n"
   ]
  },
  {
   "cell_type": "code",
   "execution_count": 71,
   "metadata": {},
   "outputs": [
    {
     "data": {
      "application/vnd.plotly.v1+json": {
       "config": {
        "plotlyServerURL": "https://plot.ly"
       },
       "data": [
        {
         "hovertemplate": "rate=%{x}<br>stage=%{y}<extra></extra>",
         "legendgroup": "",
         "marker": {
          "color": "#636efa"
         },
         "name": "",
         "orientation": "h",
         "showlegend": false,
         "texttemplate": "%{value:,.2%}",
         "type": "funnel",
         "x": [
          1,
          0.08564946114577425,
          0.01871809415768576
         ],
         "xaxis": "x",
         "y": [
          "view",
          "basket",
          "purchase"
         ],
         "yaxis": "y"
        }
       ],
       "layout": {
        "legend": {
         "tracegroupgap": 0
        },
        "template": {
         "data": {
          "bar": [
           {
            "error_x": {
             "color": "#2a3f5f"
            },
            "error_y": {
             "color": "#2a3f5f"
            },
            "marker": {
             "line": {
              "color": "#E5ECF6",
              "width": 0.5
             },
             "pattern": {
              "fillmode": "overlay",
              "size": 10,
              "solidity": 0.2
             }
            },
            "type": "bar"
           }
          ],
          "barpolar": [
           {
            "marker": {
             "line": {
              "color": "#E5ECF6",
              "width": 0.5
             },
             "pattern": {
              "fillmode": "overlay",
              "size": 10,
              "solidity": 0.2
             }
            },
            "type": "barpolar"
           }
          ],
          "carpet": [
           {
            "aaxis": {
             "endlinecolor": "#2a3f5f",
             "gridcolor": "white",
             "linecolor": "white",
             "minorgridcolor": "white",
             "startlinecolor": "#2a3f5f"
            },
            "baxis": {
             "endlinecolor": "#2a3f5f",
             "gridcolor": "white",
             "linecolor": "white",
             "minorgridcolor": "white",
             "startlinecolor": "#2a3f5f"
            },
            "type": "carpet"
           }
          ],
          "choropleth": [
           {
            "colorbar": {
             "outlinewidth": 0,
             "ticks": ""
            },
            "type": "choropleth"
           }
          ],
          "contour": [
           {
            "colorbar": {
             "outlinewidth": 0,
             "ticks": ""
            },
            "colorscale": [
             [
              0,
              "#0d0887"
             ],
             [
              0.1111111111111111,
              "#46039f"
             ],
             [
              0.2222222222222222,
              "#7201a8"
             ],
             [
              0.3333333333333333,
              "#9c179e"
             ],
             [
              0.4444444444444444,
              "#bd3786"
             ],
             [
              0.5555555555555556,
              "#d8576b"
             ],
             [
              0.6666666666666666,
              "#ed7953"
             ],
             [
              0.7777777777777778,
              "#fb9f3a"
             ],
             [
              0.8888888888888888,
              "#fdca26"
             ],
             [
              1,
              "#f0f921"
             ]
            ],
            "type": "contour"
           }
          ],
          "contourcarpet": [
           {
            "colorbar": {
             "outlinewidth": 0,
             "ticks": ""
            },
            "type": "contourcarpet"
           }
          ],
          "heatmap": [
           {
            "colorbar": {
             "outlinewidth": 0,
             "ticks": ""
            },
            "colorscale": [
             [
              0,
              "#0d0887"
             ],
             [
              0.1111111111111111,
              "#46039f"
             ],
             [
              0.2222222222222222,
              "#7201a8"
             ],
             [
              0.3333333333333333,
              "#9c179e"
             ],
             [
              0.4444444444444444,
              "#bd3786"
             ],
             [
              0.5555555555555556,
              "#d8576b"
             ],
             [
              0.6666666666666666,
              "#ed7953"
             ],
             [
              0.7777777777777778,
              "#fb9f3a"
             ],
             [
              0.8888888888888888,
              "#fdca26"
             ],
             [
              1,
              "#f0f921"
             ]
            ],
            "type": "heatmap"
           }
          ],
          "heatmapgl": [
           {
            "colorbar": {
             "outlinewidth": 0,
             "ticks": ""
            },
            "colorscale": [
             [
              0,
              "#0d0887"
             ],
             [
              0.1111111111111111,
              "#46039f"
             ],
             [
              0.2222222222222222,
              "#7201a8"
             ],
             [
              0.3333333333333333,
              "#9c179e"
             ],
             [
              0.4444444444444444,
              "#bd3786"
             ],
             [
              0.5555555555555556,
              "#d8576b"
             ],
             [
              0.6666666666666666,
              "#ed7953"
             ],
             [
              0.7777777777777778,
              "#fb9f3a"
             ],
             [
              0.8888888888888888,
              "#fdca26"
             ],
             [
              1,
              "#f0f921"
             ]
            ],
            "type": "heatmapgl"
           }
          ],
          "histogram": [
           {
            "marker": {
             "pattern": {
              "fillmode": "overlay",
              "size": 10,
              "solidity": 0.2
             }
            },
            "type": "histogram"
           }
          ],
          "histogram2d": [
           {
            "colorbar": {
             "outlinewidth": 0,
             "ticks": ""
            },
            "colorscale": [
             [
              0,
              "#0d0887"
             ],
             [
              0.1111111111111111,
              "#46039f"
             ],
             [
              0.2222222222222222,
              "#7201a8"
             ],
             [
              0.3333333333333333,
              "#9c179e"
             ],
             [
              0.4444444444444444,
              "#bd3786"
             ],
             [
              0.5555555555555556,
              "#d8576b"
             ],
             [
              0.6666666666666666,
              "#ed7953"
             ],
             [
              0.7777777777777778,
              "#fb9f3a"
             ],
             [
              0.8888888888888888,
              "#fdca26"
             ],
             [
              1,
              "#f0f921"
             ]
            ],
            "type": "histogram2d"
           }
          ],
          "histogram2dcontour": [
           {
            "colorbar": {
             "outlinewidth": 0,
             "ticks": ""
            },
            "colorscale": [
             [
              0,
              "#0d0887"
             ],
             [
              0.1111111111111111,
              "#46039f"
             ],
             [
              0.2222222222222222,
              "#7201a8"
             ],
             [
              0.3333333333333333,
              "#9c179e"
             ],
             [
              0.4444444444444444,
              "#bd3786"
             ],
             [
              0.5555555555555556,
              "#d8576b"
             ],
             [
              0.6666666666666666,
              "#ed7953"
             ],
             [
              0.7777777777777778,
              "#fb9f3a"
             ],
             [
              0.8888888888888888,
              "#fdca26"
             ],
             [
              1,
              "#f0f921"
             ]
            ],
            "type": "histogram2dcontour"
           }
          ],
          "mesh3d": [
           {
            "colorbar": {
             "outlinewidth": 0,
             "ticks": ""
            },
            "type": "mesh3d"
           }
          ],
          "parcoords": [
           {
            "line": {
             "colorbar": {
              "outlinewidth": 0,
              "ticks": ""
             }
            },
            "type": "parcoords"
           }
          ],
          "pie": [
           {
            "automargin": true,
            "type": "pie"
           }
          ],
          "scatter": [
           {
            "fillpattern": {
             "fillmode": "overlay",
             "size": 10,
             "solidity": 0.2
            },
            "type": "scatter"
           }
          ],
          "scatter3d": [
           {
            "line": {
             "colorbar": {
              "outlinewidth": 0,
              "ticks": ""
             }
            },
            "marker": {
             "colorbar": {
              "outlinewidth": 0,
              "ticks": ""
             }
            },
            "type": "scatter3d"
           }
          ],
          "scattercarpet": [
           {
            "marker": {
             "colorbar": {
              "outlinewidth": 0,
              "ticks": ""
             }
            },
            "type": "scattercarpet"
           }
          ],
          "scattergeo": [
           {
            "marker": {
             "colorbar": {
              "outlinewidth": 0,
              "ticks": ""
             }
            },
            "type": "scattergeo"
           }
          ],
          "scattergl": [
           {
            "marker": {
             "colorbar": {
              "outlinewidth": 0,
              "ticks": ""
             }
            },
            "type": "scattergl"
           }
          ],
          "scattermapbox": [
           {
            "marker": {
             "colorbar": {
              "outlinewidth": 0,
              "ticks": ""
             }
            },
            "type": "scattermapbox"
           }
          ],
          "scatterpolar": [
           {
            "marker": {
             "colorbar": {
              "outlinewidth": 0,
              "ticks": ""
             }
            },
            "type": "scatterpolar"
           }
          ],
          "scatterpolargl": [
           {
            "marker": {
             "colorbar": {
              "outlinewidth": 0,
              "ticks": ""
             }
            },
            "type": "scatterpolargl"
           }
          ],
          "scatterternary": [
           {
            "marker": {
             "colorbar": {
              "outlinewidth": 0,
              "ticks": ""
             }
            },
            "type": "scatterternary"
           }
          ],
          "surface": [
           {
            "colorbar": {
             "outlinewidth": 0,
             "ticks": ""
            },
            "colorscale": [
             [
              0,
              "#0d0887"
             ],
             [
              0.1111111111111111,
              "#46039f"
             ],
             [
              0.2222222222222222,
              "#7201a8"
             ],
             [
              0.3333333333333333,
              "#9c179e"
             ],
             [
              0.4444444444444444,
              "#bd3786"
             ],
             [
              0.5555555555555556,
              "#d8576b"
             ],
             [
              0.6666666666666666,
              "#ed7953"
             ],
             [
              0.7777777777777778,
              "#fb9f3a"
             ],
             [
              0.8888888888888888,
              "#fdca26"
             ],
             [
              1,
              "#f0f921"
             ]
            ],
            "type": "surface"
           }
          ],
          "table": [
           {
            "cells": {
             "fill": {
              "color": "#EBF0F8"
             },
             "line": {
              "color": "white"
             }
            },
            "header": {
             "fill": {
              "color": "#C8D4E3"
             },
             "line": {
              "color": "white"
             }
            },
            "type": "table"
           }
          ]
         },
         "layout": {
          "annotationdefaults": {
           "arrowcolor": "#2a3f5f",
           "arrowhead": 0,
           "arrowwidth": 1
          },
          "autotypenumbers": "strict",
          "coloraxis": {
           "colorbar": {
            "outlinewidth": 0,
            "ticks": ""
           }
          },
          "colorscale": {
           "diverging": [
            [
             0,
             "#8e0152"
            ],
            [
             0.1,
             "#c51b7d"
            ],
            [
             0.2,
             "#de77ae"
            ],
            [
             0.3,
             "#f1b6da"
            ],
            [
             0.4,
             "#fde0ef"
            ],
            [
             0.5,
             "#f7f7f7"
            ],
            [
             0.6,
             "#e6f5d0"
            ],
            [
             0.7,
             "#b8e186"
            ],
            [
             0.8,
             "#7fbc41"
            ],
            [
             0.9,
             "#4d9221"
            ],
            [
             1,
             "#276419"
            ]
           ],
           "sequential": [
            [
             0,
             "#0d0887"
            ],
            [
             0.1111111111111111,
             "#46039f"
            ],
            [
             0.2222222222222222,
             "#7201a8"
            ],
            [
             0.3333333333333333,
             "#9c179e"
            ],
            [
             0.4444444444444444,
             "#bd3786"
            ],
            [
             0.5555555555555556,
             "#d8576b"
            ],
            [
             0.6666666666666666,
             "#ed7953"
            ],
            [
             0.7777777777777778,
             "#fb9f3a"
            ],
            [
             0.8888888888888888,
             "#fdca26"
            ],
            [
             1,
             "#f0f921"
            ]
           ],
           "sequentialminus": [
            [
             0,
             "#0d0887"
            ],
            [
             0.1111111111111111,
             "#46039f"
            ],
            [
             0.2222222222222222,
             "#7201a8"
            ],
            [
             0.3333333333333333,
             "#9c179e"
            ],
            [
             0.4444444444444444,
             "#bd3786"
            ],
            [
             0.5555555555555556,
             "#d8576b"
            ],
            [
             0.6666666666666666,
             "#ed7953"
            ],
            [
             0.7777777777777778,
             "#fb9f3a"
            ],
            [
             0.8888888888888888,
             "#fdca26"
            ],
            [
             1,
             "#f0f921"
            ]
           ]
          },
          "colorway": [
           "#636efa",
           "#EF553B",
           "#00cc96",
           "#ab63fa",
           "#FFA15A",
           "#19d3f3",
           "#FF6692",
           "#B6E880",
           "#FF97FF",
           "#FECB52"
          ],
          "font": {
           "color": "#2a3f5f"
          },
          "geo": {
           "bgcolor": "white",
           "lakecolor": "white",
           "landcolor": "#E5ECF6",
           "showlakes": true,
           "showland": true,
           "subunitcolor": "white"
          },
          "hoverlabel": {
           "align": "left"
          },
          "hovermode": "closest",
          "mapbox": {
           "style": "light"
          },
          "paper_bgcolor": "white",
          "plot_bgcolor": "#E5ECF6",
          "polar": {
           "angularaxis": {
            "gridcolor": "white",
            "linecolor": "white",
            "ticks": ""
           },
           "bgcolor": "#E5ECF6",
           "radialaxis": {
            "gridcolor": "white",
            "linecolor": "white",
            "ticks": ""
           }
          },
          "scene": {
           "xaxis": {
            "backgroundcolor": "#E5ECF6",
            "gridcolor": "white",
            "gridwidth": 2,
            "linecolor": "white",
            "showbackground": true,
            "ticks": "",
            "zerolinecolor": "white"
           },
           "yaxis": {
            "backgroundcolor": "#E5ECF6",
            "gridcolor": "white",
            "gridwidth": 2,
            "linecolor": "white",
            "showbackground": true,
            "ticks": "",
            "zerolinecolor": "white"
           },
           "zaxis": {
            "backgroundcolor": "#E5ECF6",
            "gridcolor": "white",
            "gridwidth": 2,
            "linecolor": "white",
            "showbackground": true,
            "ticks": "",
            "zerolinecolor": "white"
           }
          },
          "shapedefaults": {
           "line": {
            "color": "#2a3f5f"
           }
          },
          "ternary": {
           "aaxis": {
            "gridcolor": "white",
            "linecolor": "white",
            "ticks": ""
           },
           "baxis": {
            "gridcolor": "white",
            "linecolor": "white",
            "ticks": ""
           },
           "bgcolor": "#E5ECF6",
           "caxis": {
            "gridcolor": "white",
            "linecolor": "white",
            "ticks": ""
           }
          },
          "title": {
           "x": 0.05
          },
          "xaxis": {
           "automargin": true,
           "gridcolor": "white",
           "linecolor": "white",
           "ticks": "",
           "title": {
            "standoff": 15
           },
           "zerolinecolor": "white",
           "zerolinewidth": 2
          },
          "yaxis": {
           "automargin": true,
           "gridcolor": "white",
           "linecolor": "white",
           "ticks": "",
           "title": {
            "standoff": 15
           },
           "zerolinecolor": "white",
           "zerolinewidth": 2
          }
         }
        },
        "title": {
         "text": "이탈고객 Funnel (Electronics)"
        },
        "xaxis": {
         "anchor": "y",
         "domain": [
          0,
          1
         ],
         "title": {
          "text": "rate"
         }
        },
        "yaxis": {
         "anchor": "x",
         "domain": [
          0,
          1
         ],
         "title": {
          "text": "stage"
         }
        }
       }
      }
     },
     "metadata": {},
     "output_type": "display_data"
    }
   ],
   "source": [
    "data = dict(\n",
    "    number=[14104,1208,264],\n",
    "    stage=['view','basket','purchase'],\n",
    "    rate=[1,0.08564946114577425,0.01871809415768576]\n",
    ")\n",
    "fig = px.funnel(data, x='rate', y='stage', title='이탈고객 Funnel (Electronics)')\n",
    "fig.update_traces(texttemplate=\"%{value:,.2%}\")\n",
    "fig.show()"
   ]
  },
  {
   "cell_type": "markdown",
   "metadata": {},
   "source": [
    "## 우수고객 (1)"
   ]
  },
  {
   "cell_type": "code",
   "execution_count": 72,
   "metadata": {},
   "outputs": [
    {
     "data": {
      "text/html": [
       "<div>\n",
       "<style scoped>\n",
       "    .dataframe tbody tr th:only-of-type {\n",
       "        vertical-align: middle;\n",
       "    }\n",
       "\n",
       "    .dataframe tbody tr th {\n",
       "        vertical-align: top;\n",
       "    }\n",
       "\n",
       "    .dataframe thead th {\n",
       "        text-align: right;\n",
       "    }\n",
       "</style>\n",
       "<table border=\"1\" class=\"dataframe\">\n",
       "  <thead>\n",
       "    <tr style=\"text-align: right;\">\n",
       "      <th></th>\n",
       "      <th>CustomerID</th>\n",
       "      <th>ActionType</th>\n",
       "      <th>GoodsCode</th>\n",
       "      <th>Price</th>\n",
       "      <th>AdID</th>\n",
       "      <th>CPC</th>\n",
       "      <th>Timestamp</th>\n",
       "      <th>GoodsCode_ad</th>\n",
       "      <th>eval_type</th>\n",
       "      <th>cluster_plus</th>\n",
       "      <th>Category</th>\n",
       "      <th>OriginalPrice</th>\n",
       "      <th>Inventory</th>\n",
       "    </tr>\n",
       "  </thead>\n",
       "  <tbody>\n",
       "    <tr>\n",
       "      <th>443</th>\n",
       "      <td>119</td>\n",
       "      <td>ad_click</td>\n",
       "      <td>1484</td>\n",
       "      <td>108330</td>\n",
       "      <td>ad_meta</td>\n",
       "      <td>1049.62</td>\n",
       "      <td>2022-04-06 02:56:08.855443</td>\n",
       "      <td>1484</td>\n",
       "      <td>ad_click</td>\n",
       "      <td>우수고객</td>\n",
       "      <td>Electronics</td>\n",
       "      <td>108330</td>\n",
       "      <td>9595</td>\n",
       "    </tr>\n",
       "    <tr>\n",
       "      <th>444</th>\n",
       "      <td>119</td>\n",
       "      <td>view</td>\n",
       "      <td>1129</td>\n",
       "      <td>24990</td>\n",
       "      <td>NaN</td>\n",
       "      <td>NaN</td>\n",
       "      <td>2022-04-06 07:51:29.961569</td>\n",
       "      <td>1484</td>\n",
       "      <td>ad_view_other</td>\n",
       "      <td>우수고객</td>\n",
       "      <td>Health &amp; Beauty</td>\n",
       "      <td>24990</td>\n",
       "      <td>6387</td>\n",
       "    </tr>\n",
       "    <tr>\n",
       "      <th>445</th>\n",
       "      <td>119</td>\n",
       "      <td>view</td>\n",
       "      <td>1129</td>\n",
       "      <td>24990</td>\n",
       "      <td>NaN</td>\n",
       "      <td>NaN</td>\n",
       "      <td>2022-04-10 20:56:20.961569</td>\n",
       "      <td>1484</td>\n",
       "      <td>ad_view_other</td>\n",
       "      <td>우수고객</td>\n",
       "      <td>Health &amp; Beauty</td>\n",
       "      <td>24990</td>\n",
       "      <td>6387</td>\n",
       "    </tr>\n",
       "    <tr>\n",
       "      <th>446</th>\n",
       "      <td>119</td>\n",
       "      <td>view</td>\n",
       "      <td>1337</td>\n",
       "      <td>10650</td>\n",
       "      <td>NaN</td>\n",
       "      <td>NaN</td>\n",
       "      <td>2022-04-11 21:09:57.961569</td>\n",
       "      <td>1484</td>\n",
       "      <td>ad_view_other</td>\n",
       "      <td>우수고객</td>\n",
       "      <td>Books</td>\n",
       "      <td>10650</td>\n",
       "      <td>3844</td>\n",
       "    </tr>\n",
       "    <tr>\n",
       "      <th>447</th>\n",
       "      <td>119</td>\n",
       "      <td>view</td>\n",
       "      <td>1129</td>\n",
       "      <td>24990</td>\n",
       "      <td>NaN</td>\n",
       "      <td>NaN</td>\n",
       "      <td>2022-04-13 00:44:28.961569</td>\n",
       "      <td>1484</td>\n",
       "      <td>ad_view_other</td>\n",
       "      <td>우수고객</td>\n",
       "      <td>Health &amp; Beauty</td>\n",
       "      <td>24990</td>\n",
       "      <td>6387</td>\n",
       "    </tr>\n",
       "    <tr>\n",
       "      <th>...</th>\n",
       "      <td>...</td>\n",
       "      <td>...</td>\n",
       "      <td>...</td>\n",
       "      <td>...</td>\n",
       "      <td>...</td>\n",
       "      <td>...</td>\n",
       "      <td>...</td>\n",
       "      <td>...</td>\n",
       "      <td>...</td>\n",
       "      <td>...</td>\n",
       "      <td>...</td>\n",
       "      <td>...</td>\n",
       "      <td>...</td>\n",
       "    </tr>\n",
       "    <tr>\n",
       "      <th>3096711</th>\n",
       "      <td>899940</td>\n",
       "      <td>purchase</td>\n",
       "      <td>1459</td>\n",
       "      <td>28130</td>\n",
       "      <td>NaN</td>\n",
       "      <td>NaN</td>\n",
       "      <td>2022-04-24 11:21:31.160778</td>\n",
       "      <td>1439</td>\n",
       "      <td>ad_purchase_other</td>\n",
       "      <td>우수고객</td>\n",
       "      <td>Home &amp; Garden</td>\n",
       "      <td>28130</td>\n",
       "      <td>2560</td>\n",
       "    </tr>\n",
       "    <tr>\n",
       "      <th>3096712</th>\n",
       "      <td>899940</td>\n",
       "      <td>view</td>\n",
       "      <td>1347</td>\n",
       "      <td>104910</td>\n",
       "      <td>NaN</td>\n",
       "      <td>NaN</td>\n",
       "      <td>2022-04-24 20:30:26.160778</td>\n",
       "      <td>1439</td>\n",
       "      <td>ad_view_other</td>\n",
       "      <td>우수고객</td>\n",
       "      <td>Electronics</td>\n",
       "      <td>104910</td>\n",
       "      <td>5116</td>\n",
       "    </tr>\n",
       "    <tr>\n",
       "      <th>3096713</th>\n",
       "      <td>899940</td>\n",
       "      <td>purchase</td>\n",
       "      <td>1439</td>\n",
       "      <td>109620</td>\n",
       "      <td>NaN</td>\n",
       "      <td>NaN</td>\n",
       "      <td>2022-04-25 14:51:30.160778</td>\n",
       "      <td>1439</td>\n",
       "      <td>ad_purchase</td>\n",
       "      <td>우수고객</td>\n",
       "      <td>Electronics</td>\n",
       "      <td>109620</td>\n",
       "      <td>4144</td>\n",
       "    </tr>\n",
       "    <tr>\n",
       "      <th>3096714</th>\n",
       "      <td>899940</td>\n",
       "      <td>view</td>\n",
       "      <td>1459</td>\n",
       "      <td>28130</td>\n",
       "      <td>NaN</td>\n",
       "      <td>NaN</td>\n",
       "      <td>2022-04-28 13:47:29.160778</td>\n",
       "      <td>1439</td>\n",
       "      <td>ad_view_other</td>\n",
       "      <td>우수고객</td>\n",
       "      <td>Home &amp; Garden</td>\n",
       "      <td>28130</td>\n",
       "      <td>2560</td>\n",
       "    </tr>\n",
       "    <tr>\n",
       "      <th>3096715</th>\n",
       "      <td>899940</td>\n",
       "      <td>view</td>\n",
       "      <td>1439</td>\n",
       "      <td>109620</td>\n",
       "      <td>NaN</td>\n",
       "      <td>NaN</td>\n",
       "      <td>2022-04-28 19:39:05.160778</td>\n",
       "      <td>1439</td>\n",
       "      <td>ad_view</td>\n",
       "      <td>우수고객</td>\n",
       "      <td>Electronics</td>\n",
       "      <td>109620</td>\n",
       "      <td>4144</td>\n",
       "    </tr>\n",
       "  </tbody>\n",
       "</table>\n",
       "<p>59650 rows × 13 columns</p>\n",
       "</div>"
      ],
      "text/plain": [
       "         CustomerID ActionType  GoodsCode   Price     AdID      CPC  \\\n",
       "443             119   ad_click       1484  108330  ad_meta  1049.62   \n",
       "444             119       view       1129   24990      NaN      NaN   \n",
       "445             119       view       1129   24990      NaN      NaN   \n",
       "446             119       view       1337   10650      NaN      NaN   \n",
       "447             119       view       1129   24990      NaN      NaN   \n",
       "...             ...        ...        ...     ...      ...      ...   \n",
       "3096711      899940   purchase       1459   28130      NaN      NaN   \n",
       "3096712      899940       view       1347  104910      NaN      NaN   \n",
       "3096713      899940   purchase       1439  109620      NaN      NaN   \n",
       "3096714      899940       view       1459   28130      NaN      NaN   \n",
       "3096715      899940       view       1439  109620      NaN      NaN   \n",
       "\n",
       "                         Timestamp  GoodsCode_ad          eval_type  \\\n",
       "443     2022-04-06 02:56:08.855443          1484           ad_click   \n",
       "444     2022-04-06 07:51:29.961569          1484      ad_view_other   \n",
       "445     2022-04-10 20:56:20.961569          1484      ad_view_other   \n",
       "446     2022-04-11 21:09:57.961569          1484      ad_view_other   \n",
       "447     2022-04-13 00:44:28.961569          1484      ad_view_other   \n",
       "...                            ...           ...                ...   \n",
       "3096711 2022-04-24 11:21:31.160778          1439  ad_purchase_other   \n",
       "3096712 2022-04-24 20:30:26.160778          1439      ad_view_other   \n",
       "3096713 2022-04-25 14:51:30.160778          1439        ad_purchase   \n",
       "3096714 2022-04-28 13:47:29.160778          1439      ad_view_other   \n",
       "3096715 2022-04-28 19:39:05.160778          1439            ad_view   \n",
       "\n",
       "        cluster_plus         Category  OriginalPrice  Inventory  \n",
       "443             우수고객      Electronics         108330       9595  \n",
       "444             우수고객  Health & Beauty          24990       6387  \n",
       "445             우수고객  Health & Beauty          24990       6387  \n",
       "446             우수고객            Books          10650       3844  \n",
       "447             우수고객  Health & Beauty          24990       6387  \n",
       "...              ...              ...            ...        ...  \n",
       "3096711         우수고객    Home & Garden          28130       2560  \n",
       "3096712         우수고객      Electronics         104910       5116  \n",
       "3096713         우수고객      Electronics         109620       4144  \n",
       "3096714         우수고객    Home & Garden          28130       2560  \n",
       "3096715         우수고객      Electronics         109620       4144  \n",
       "\n",
       "[59650 rows x 13 columns]"
      ]
     },
     "execution_count": 72,
     "metadata": {},
     "output_type": "execute_result"
    }
   ],
   "source": [
    "usu = ad_funnel[ad_funnel['cluster_plus']=='우수고객']\n",
    "usu"
   ]
  },
  {
   "cell_type": "code",
   "execution_count": 73,
   "metadata": {},
   "outputs": [
    {
     "data": {
      "text/html": [
       "<div>\n",
       "<style scoped>\n",
       "    .dataframe tbody tr th:only-of-type {\n",
       "        vertical-align: middle;\n",
       "    }\n",
       "\n",
       "    .dataframe tbody tr th {\n",
       "        vertical-align: top;\n",
       "    }\n",
       "\n",
       "    .dataframe thead th {\n",
       "        text-align: right;\n",
       "    }\n",
       "</style>\n",
       "<table border=\"1\" class=\"dataframe\">\n",
       "  <thead>\n",
       "    <tr style=\"text-align: right;\">\n",
       "      <th></th>\n",
       "      <th>CustomerID</th>\n",
       "      <th>ActionType</th>\n",
       "      <th>GoodsCode</th>\n",
       "      <th>Price</th>\n",
       "      <th>AdID</th>\n",
       "      <th>CPC</th>\n",
       "      <th>Timestamp</th>\n",
       "      <th>GoodsCode_ad</th>\n",
       "      <th>eval_type</th>\n",
       "      <th>cluster_plus</th>\n",
       "      <th>Category</th>\n",
       "      <th>OriginalPrice</th>\n",
       "      <th>Inventory</th>\n",
       "    </tr>\n",
       "  </thead>\n",
       "  <tbody>\n",
       "    <tr>\n",
       "      <th>443</th>\n",
       "      <td>119</td>\n",
       "      <td>ad_click</td>\n",
       "      <td>1484</td>\n",
       "      <td>108330</td>\n",
       "      <td>ad_meta</td>\n",
       "      <td>1049.62</td>\n",
       "      <td>2022-04-06 02:56:08.855443</td>\n",
       "      <td>1484</td>\n",
       "      <td>ad_click</td>\n",
       "      <td>우수고객</td>\n",
       "      <td>Electronics</td>\n",
       "      <td>108330</td>\n",
       "      <td>9595</td>\n",
       "    </tr>\n",
       "    <tr>\n",
       "      <th>452</th>\n",
       "      <td>119</td>\n",
       "      <td>ad_click</td>\n",
       "      <td>1484</td>\n",
       "      <td>108330</td>\n",
       "      <td>ad_line</td>\n",
       "      <td>783.63</td>\n",
       "      <td>2022-05-05 04:46:46.855443</td>\n",
       "      <td>1484</td>\n",
       "      <td>ad_click</td>\n",
       "      <td>우수고객</td>\n",
       "      <td>Electronics</td>\n",
       "      <td>108330</td>\n",
       "      <td>9595</td>\n",
       "    </tr>\n",
       "    <tr>\n",
       "      <th>466</th>\n",
       "      <td>122</td>\n",
       "      <td>view</td>\n",
       "      <td>1197</td>\n",
       "      <td>34900</td>\n",
       "      <td>NaN</td>\n",
       "      <td>NaN</td>\n",
       "      <td>2022-03-25 00:03:40.961569</td>\n",
       "      <td>1191</td>\n",
       "      <td>ad_view_other</td>\n",
       "      <td>우수고객</td>\n",
       "      <td>Electronics</td>\n",
       "      <td>34900</td>\n",
       "      <td>7467</td>\n",
       "    </tr>\n",
       "    <tr>\n",
       "      <th>470</th>\n",
       "      <td>122</td>\n",
       "      <td>view</td>\n",
       "      <td>1197</td>\n",
       "      <td>34900</td>\n",
       "      <td>NaN</td>\n",
       "      <td>NaN</td>\n",
       "      <td>2022-04-10 07:40:19.961569</td>\n",
       "      <td>1095</td>\n",
       "      <td>ad_view_other</td>\n",
       "      <td>우수고객</td>\n",
       "      <td>Electronics</td>\n",
       "      <td>34900</td>\n",
       "      <td>7467</td>\n",
       "    </tr>\n",
       "    <tr>\n",
       "      <th>724</th>\n",
       "      <td>163</td>\n",
       "      <td>ad_click</td>\n",
       "      <td>1347</td>\n",
       "      <td>104910</td>\n",
       "      <td>ad_line</td>\n",
       "      <td>682.59</td>\n",
       "      <td>2022-03-08 15:00:52.322370</td>\n",
       "      <td>1347</td>\n",
       "      <td>ad_click</td>\n",
       "      <td>우수고객</td>\n",
       "      <td>Electronics</td>\n",
       "      <td>104910</td>\n",
       "      <td>5116</td>\n",
       "    </tr>\n",
       "    <tr>\n",
       "      <th>...</th>\n",
       "      <td>...</td>\n",
       "      <td>...</td>\n",
       "      <td>...</td>\n",
       "      <td>...</td>\n",
       "      <td>...</td>\n",
       "      <td>...</td>\n",
       "      <td>...</td>\n",
       "      <td>...</td>\n",
       "      <td>...</td>\n",
       "      <td>...</td>\n",
       "      <td>...</td>\n",
       "      <td>...</td>\n",
       "      <td>...</td>\n",
       "    </tr>\n",
       "    <tr>\n",
       "      <th>3096686</th>\n",
       "      <td>899928</td>\n",
       "      <td>view</td>\n",
       "      <td>1085</td>\n",
       "      <td>63720</td>\n",
       "      <td>NaN</td>\n",
       "      <td>NaN</td>\n",
       "      <td>2022-05-22 17:49:42.127184</td>\n",
       "      <td>1465</td>\n",
       "      <td>ad_view_other</td>\n",
       "      <td>우수고객</td>\n",
       "      <td>Electronics</td>\n",
       "      <td>63720</td>\n",
       "      <td>8101</td>\n",
       "    </tr>\n",
       "    <tr>\n",
       "      <th>3096710</th>\n",
       "      <td>899940</td>\n",
       "      <td>ad_click</td>\n",
       "      <td>1439</td>\n",
       "      <td>109620</td>\n",
       "      <td>ad_meta</td>\n",
       "      <td>534.15</td>\n",
       "      <td>2022-04-22 20:50:37.160778</td>\n",
       "      <td>1439</td>\n",
       "      <td>ad_click</td>\n",
       "      <td>우수고객</td>\n",
       "      <td>Electronics</td>\n",
       "      <td>109620</td>\n",
       "      <td>4144</td>\n",
       "    </tr>\n",
       "    <tr>\n",
       "      <th>3096712</th>\n",
       "      <td>899940</td>\n",
       "      <td>view</td>\n",
       "      <td>1347</td>\n",
       "      <td>104910</td>\n",
       "      <td>NaN</td>\n",
       "      <td>NaN</td>\n",
       "      <td>2022-04-24 20:30:26.160778</td>\n",
       "      <td>1439</td>\n",
       "      <td>ad_view_other</td>\n",
       "      <td>우수고객</td>\n",
       "      <td>Electronics</td>\n",
       "      <td>104910</td>\n",
       "      <td>5116</td>\n",
       "    </tr>\n",
       "    <tr>\n",
       "      <th>3096713</th>\n",
       "      <td>899940</td>\n",
       "      <td>purchase</td>\n",
       "      <td>1439</td>\n",
       "      <td>109620</td>\n",
       "      <td>NaN</td>\n",
       "      <td>NaN</td>\n",
       "      <td>2022-04-25 14:51:30.160778</td>\n",
       "      <td>1439</td>\n",
       "      <td>ad_purchase</td>\n",
       "      <td>우수고객</td>\n",
       "      <td>Electronics</td>\n",
       "      <td>109620</td>\n",
       "      <td>4144</td>\n",
       "    </tr>\n",
       "    <tr>\n",
       "      <th>3096715</th>\n",
       "      <td>899940</td>\n",
       "      <td>view</td>\n",
       "      <td>1439</td>\n",
       "      <td>109620</td>\n",
       "      <td>NaN</td>\n",
       "      <td>NaN</td>\n",
       "      <td>2022-04-28 19:39:05.160778</td>\n",
       "      <td>1439</td>\n",
       "      <td>ad_view</td>\n",
       "      <td>우수고객</td>\n",
       "      <td>Electronics</td>\n",
       "      <td>109620</td>\n",
       "      <td>4144</td>\n",
       "    </tr>\n",
       "  </tbody>\n",
       "</table>\n",
       "<p>14996 rows × 13 columns</p>\n",
       "</div>"
      ],
      "text/plain": [
       "         CustomerID ActionType  GoodsCode   Price     AdID      CPC  \\\n",
       "443             119   ad_click       1484  108330  ad_meta  1049.62   \n",
       "452             119   ad_click       1484  108330  ad_line   783.63   \n",
       "466             122       view       1197   34900      NaN      NaN   \n",
       "470             122       view       1197   34900      NaN      NaN   \n",
       "724             163   ad_click       1347  104910  ad_line   682.59   \n",
       "...             ...        ...        ...     ...      ...      ...   \n",
       "3096686      899928       view       1085   63720      NaN      NaN   \n",
       "3096710      899940   ad_click       1439  109620  ad_meta   534.15   \n",
       "3096712      899940       view       1347  104910      NaN      NaN   \n",
       "3096713      899940   purchase       1439  109620      NaN      NaN   \n",
       "3096715      899940       view       1439  109620      NaN      NaN   \n",
       "\n",
       "                         Timestamp  GoodsCode_ad      eval_type cluster_plus  \\\n",
       "443     2022-04-06 02:56:08.855443          1484       ad_click         우수고객   \n",
       "452     2022-05-05 04:46:46.855443          1484       ad_click         우수고객   \n",
       "466     2022-03-25 00:03:40.961569          1191  ad_view_other         우수고객   \n",
       "470     2022-04-10 07:40:19.961569          1095  ad_view_other         우수고객   \n",
       "724     2022-03-08 15:00:52.322370          1347       ad_click         우수고객   \n",
       "...                            ...           ...            ...          ...   \n",
       "3096686 2022-05-22 17:49:42.127184          1465  ad_view_other         우수고객   \n",
       "3096710 2022-04-22 20:50:37.160778          1439       ad_click         우수고객   \n",
       "3096712 2022-04-24 20:30:26.160778          1439  ad_view_other         우수고객   \n",
       "3096713 2022-04-25 14:51:30.160778          1439    ad_purchase         우수고객   \n",
       "3096715 2022-04-28 19:39:05.160778          1439        ad_view         우수고객   \n",
       "\n",
       "            Category  OriginalPrice  Inventory  \n",
       "443      Electronics         108330       9595  \n",
       "452      Electronics         108330       9595  \n",
       "466      Electronics          34900       7467  \n",
       "470      Electronics          34900       7467  \n",
       "724      Electronics         104910       5116  \n",
       "...              ...            ...        ...  \n",
       "3096686  Electronics          63720       8101  \n",
       "3096710  Electronics         109620       4144  \n",
       "3096712  Electronics         104910       5116  \n",
       "3096713  Electronics         109620       4144  \n",
       "3096715  Electronics         109620       4144  \n",
       "\n",
       "[14996 rows x 13 columns]"
      ]
     },
     "execution_count": 73,
     "metadata": {},
     "output_type": "execute_result"
    }
   ],
   "source": [
    "usu = usu[usu['Category']=='Electronics']\n",
    "usu"
   ]
  },
  {
   "cell_type": "code",
   "execution_count": 74,
   "metadata": {},
   "outputs": [
    {
     "name": "stdout",
     "output_type": "stream",
     "text": [
      "퍼널 카운트: {'view': 7447, 'basket': 943, 'purchase': 407}\n"
     ]
    }
   ],
   "source": [
    "usu_ad_funnel_adpurchase_counts1 = {'view': 0, 'basket': 0, 'purchase': 0}\n",
    "\n",
    "# 퍼널을 계산\n",
    "for idx, row in usu.iterrows():\n",
    "    if row['ActionType'] == 'ad_click':\n",
    "        usu_ad_funnel_adpurchase_counts1['view'] += 1\n",
    "    elif row['eval_type'] == 'ad_view':\n",
    "        usu_ad_funnel_adpurchase_counts1['view'] += 1\n",
    "    elif row['eval_type'] == 'ad_basket':\n",
    "        usu_ad_funnel_adpurchase_counts1['basket'] += 1\n",
    "        usu_ad_funnel_adpurchase_counts1['view'] += 1  \n",
    "    elif row['eval_type'] == 'ad_purchase':\n",
    "        usu_ad_funnel_adpurchase_counts1['purchase'] += 1\n",
    "        usu_ad_funnel_adpurchase_counts1['view'] += 1\n",
    "        usu_ad_funnel_adpurchase_counts1['basket'] += 1\n",
    "\n",
    "print(\"퍼널 카운트:\", usu_ad_funnel_adpurchase_counts1)\n"
   ]
  },
  {
   "cell_type": "code",
   "execution_count": 75,
   "metadata": {},
   "outputs": [
    {
     "name": "stdout",
     "output_type": "stream",
     "text": [
      "View Count: 7447\n",
      "Basket Count: 943\n",
      "Purchase Count: 407\n",
      "View to Basket Conversion Rate: 0.12662817241842353\n",
      "Basket to Purchase Conversion Rate: 0.43160127253446445\n",
      "View to Purchase Conversion Rate: 0.05465288035450517\n"
     ]
    }
   ],
   "source": [
    "view_count_usu_elec = 7447\n",
    "basket_count_usu_elec = 943\n",
    "purchase_count_usu_elec = 407\n",
    "\n",
    "\n",
    "# 각 단계에서 다음 단계로의 전환율을 계산합니다.\n",
    "basket_to_purchase_rate_usu_elec = purchase_count_usu_elec / basket_count_usu_elec\n",
    "view_to_basket_rate_ad_usu_elec = basket_count_usu_elec / view_count_usu_elec\n",
    "view_to_purchase_rate_usu_elec = purchase_count_usu_elec / view_count_usu_elec\n",
    "\n",
    "# 결과를 출력합니다.\n",
    "print(\"View Count:\", view_count_usu_elec)\n",
    "print(\"Basket Count:\", basket_count_usu_elec)\n",
    "print(\"Purchase Count:\", purchase_count_usu_elec)\n",
    "print(\"View to Basket Conversion Rate:\", view_to_basket_rate_ad_usu_elec)\n",
    "print(\"Basket to Purchase Conversion Rate:\", basket_to_purchase_rate_usu_elec)\n",
    "print(\"View to Purchase Conversion Rate:\",view_to_purchase_rate_usu_elec)\n"
   ]
  },
  {
   "cell_type": "code",
   "execution_count": 76,
   "metadata": {},
   "outputs": [
    {
     "data": {
      "application/vnd.plotly.v1+json": {
       "config": {
        "plotlyServerURL": "https://plot.ly"
       },
       "data": [
        {
         "hovertemplate": "rate=%{x}<br>stage=%{y}<extra></extra>",
         "legendgroup": "",
         "marker": {
          "color": "#636efa"
         },
         "name": "",
         "orientation": "h",
         "showlegend": false,
         "texttemplate": "%{value:,.2%}",
         "type": "funnel",
         "x": [
          1,
          0.12662817241842353,
          0.05465288035450517
         ],
         "xaxis": "x",
         "y": [
          "view",
          "basket",
          "purchase"
         ],
         "yaxis": "y"
        }
       ],
       "layout": {
        "legend": {
         "tracegroupgap": 0
        },
        "template": {
         "data": {
          "bar": [
           {
            "error_x": {
             "color": "#2a3f5f"
            },
            "error_y": {
             "color": "#2a3f5f"
            },
            "marker": {
             "line": {
              "color": "#E5ECF6",
              "width": 0.5
             },
             "pattern": {
              "fillmode": "overlay",
              "size": 10,
              "solidity": 0.2
             }
            },
            "type": "bar"
           }
          ],
          "barpolar": [
           {
            "marker": {
             "line": {
              "color": "#E5ECF6",
              "width": 0.5
             },
             "pattern": {
              "fillmode": "overlay",
              "size": 10,
              "solidity": 0.2
             }
            },
            "type": "barpolar"
           }
          ],
          "carpet": [
           {
            "aaxis": {
             "endlinecolor": "#2a3f5f",
             "gridcolor": "white",
             "linecolor": "white",
             "minorgridcolor": "white",
             "startlinecolor": "#2a3f5f"
            },
            "baxis": {
             "endlinecolor": "#2a3f5f",
             "gridcolor": "white",
             "linecolor": "white",
             "minorgridcolor": "white",
             "startlinecolor": "#2a3f5f"
            },
            "type": "carpet"
           }
          ],
          "choropleth": [
           {
            "colorbar": {
             "outlinewidth": 0,
             "ticks": ""
            },
            "type": "choropleth"
           }
          ],
          "contour": [
           {
            "colorbar": {
             "outlinewidth": 0,
             "ticks": ""
            },
            "colorscale": [
             [
              0,
              "#0d0887"
             ],
             [
              0.1111111111111111,
              "#46039f"
             ],
             [
              0.2222222222222222,
              "#7201a8"
             ],
             [
              0.3333333333333333,
              "#9c179e"
             ],
             [
              0.4444444444444444,
              "#bd3786"
             ],
             [
              0.5555555555555556,
              "#d8576b"
             ],
             [
              0.6666666666666666,
              "#ed7953"
             ],
             [
              0.7777777777777778,
              "#fb9f3a"
             ],
             [
              0.8888888888888888,
              "#fdca26"
             ],
             [
              1,
              "#f0f921"
             ]
            ],
            "type": "contour"
           }
          ],
          "contourcarpet": [
           {
            "colorbar": {
             "outlinewidth": 0,
             "ticks": ""
            },
            "type": "contourcarpet"
           }
          ],
          "heatmap": [
           {
            "colorbar": {
             "outlinewidth": 0,
             "ticks": ""
            },
            "colorscale": [
             [
              0,
              "#0d0887"
             ],
             [
              0.1111111111111111,
              "#46039f"
             ],
             [
              0.2222222222222222,
              "#7201a8"
             ],
             [
              0.3333333333333333,
              "#9c179e"
             ],
             [
              0.4444444444444444,
              "#bd3786"
             ],
             [
              0.5555555555555556,
              "#d8576b"
             ],
             [
              0.6666666666666666,
              "#ed7953"
             ],
             [
              0.7777777777777778,
              "#fb9f3a"
             ],
             [
              0.8888888888888888,
              "#fdca26"
             ],
             [
              1,
              "#f0f921"
             ]
            ],
            "type": "heatmap"
           }
          ],
          "heatmapgl": [
           {
            "colorbar": {
             "outlinewidth": 0,
             "ticks": ""
            },
            "colorscale": [
             [
              0,
              "#0d0887"
             ],
             [
              0.1111111111111111,
              "#46039f"
             ],
             [
              0.2222222222222222,
              "#7201a8"
             ],
             [
              0.3333333333333333,
              "#9c179e"
             ],
             [
              0.4444444444444444,
              "#bd3786"
             ],
             [
              0.5555555555555556,
              "#d8576b"
             ],
             [
              0.6666666666666666,
              "#ed7953"
             ],
             [
              0.7777777777777778,
              "#fb9f3a"
             ],
             [
              0.8888888888888888,
              "#fdca26"
             ],
             [
              1,
              "#f0f921"
             ]
            ],
            "type": "heatmapgl"
           }
          ],
          "histogram": [
           {
            "marker": {
             "pattern": {
              "fillmode": "overlay",
              "size": 10,
              "solidity": 0.2
             }
            },
            "type": "histogram"
           }
          ],
          "histogram2d": [
           {
            "colorbar": {
             "outlinewidth": 0,
             "ticks": ""
            },
            "colorscale": [
             [
              0,
              "#0d0887"
             ],
             [
              0.1111111111111111,
              "#46039f"
             ],
             [
              0.2222222222222222,
              "#7201a8"
             ],
             [
              0.3333333333333333,
              "#9c179e"
             ],
             [
              0.4444444444444444,
              "#bd3786"
             ],
             [
              0.5555555555555556,
              "#d8576b"
             ],
             [
              0.6666666666666666,
              "#ed7953"
             ],
             [
              0.7777777777777778,
              "#fb9f3a"
             ],
             [
              0.8888888888888888,
              "#fdca26"
             ],
             [
              1,
              "#f0f921"
             ]
            ],
            "type": "histogram2d"
           }
          ],
          "histogram2dcontour": [
           {
            "colorbar": {
             "outlinewidth": 0,
             "ticks": ""
            },
            "colorscale": [
             [
              0,
              "#0d0887"
             ],
             [
              0.1111111111111111,
              "#46039f"
             ],
             [
              0.2222222222222222,
              "#7201a8"
             ],
             [
              0.3333333333333333,
              "#9c179e"
             ],
             [
              0.4444444444444444,
              "#bd3786"
             ],
             [
              0.5555555555555556,
              "#d8576b"
             ],
             [
              0.6666666666666666,
              "#ed7953"
             ],
             [
              0.7777777777777778,
              "#fb9f3a"
             ],
             [
              0.8888888888888888,
              "#fdca26"
             ],
             [
              1,
              "#f0f921"
             ]
            ],
            "type": "histogram2dcontour"
           }
          ],
          "mesh3d": [
           {
            "colorbar": {
             "outlinewidth": 0,
             "ticks": ""
            },
            "type": "mesh3d"
           }
          ],
          "parcoords": [
           {
            "line": {
             "colorbar": {
              "outlinewidth": 0,
              "ticks": ""
             }
            },
            "type": "parcoords"
           }
          ],
          "pie": [
           {
            "automargin": true,
            "type": "pie"
           }
          ],
          "scatter": [
           {
            "fillpattern": {
             "fillmode": "overlay",
             "size": 10,
             "solidity": 0.2
            },
            "type": "scatter"
           }
          ],
          "scatter3d": [
           {
            "line": {
             "colorbar": {
              "outlinewidth": 0,
              "ticks": ""
             }
            },
            "marker": {
             "colorbar": {
              "outlinewidth": 0,
              "ticks": ""
             }
            },
            "type": "scatter3d"
           }
          ],
          "scattercarpet": [
           {
            "marker": {
             "colorbar": {
              "outlinewidth": 0,
              "ticks": ""
             }
            },
            "type": "scattercarpet"
           }
          ],
          "scattergeo": [
           {
            "marker": {
             "colorbar": {
              "outlinewidth": 0,
              "ticks": ""
             }
            },
            "type": "scattergeo"
           }
          ],
          "scattergl": [
           {
            "marker": {
             "colorbar": {
              "outlinewidth": 0,
              "ticks": ""
             }
            },
            "type": "scattergl"
           }
          ],
          "scattermapbox": [
           {
            "marker": {
             "colorbar": {
              "outlinewidth": 0,
              "ticks": ""
             }
            },
            "type": "scattermapbox"
           }
          ],
          "scatterpolar": [
           {
            "marker": {
             "colorbar": {
              "outlinewidth": 0,
              "ticks": ""
             }
            },
            "type": "scatterpolar"
           }
          ],
          "scatterpolargl": [
           {
            "marker": {
             "colorbar": {
              "outlinewidth": 0,
              "ticks": ""
             }
            },
            "type": "scatterpolargl"
           }
          ],
          "scatterternary": [
           {
            "marker": {
             "colorbar": {
              "outlinewidth": 0,
              "ticks": ""
             }
            },
            "type": "scatterternary"
           }
          ],
          "surface": [
           {
            "colorbar": {
             "outlinewidth": 0,
             "ticks": ""
            },
            "colorscale": [
             [
              0,
              "#0d0887"
             ],
             [
              0.1111111111111111,
              "#46039f"
             ],
             [
              0.2222222222222222,
              "#7201a8"
             ],
             [
              0.3333333333333333,
              "#9c179e"
             ],
             [
              0.4444444444444444,
              "#bd3786"
             ],
             [
              0.5555555555555556,
              "#d8576b"
             ],
             [
              0.6666666666666666,
              "#ed7953"
             ],
             [
              0.7777777777777778,
              "#fb9f3a"
             ],
             [
              0.8888888888888888,
              "#fdca26"
             ],
             [
              1,
              "#f0f921"
             ]
            ],
            "type": "surface"
           }
          ],
          "table": [
           {
            "cells": {
             "fill": {
              "color": "#EBF0F8"
             },
             "line": {
              "color": "white"
             }
            },
            "header": {
             "fill": {
              "color": "#C8D4E3"
             },
             "line": {
              "color": "white"
             }
            },
            "type": "table"
           }
          ]
         },
         "layout": {
          "annotationdefaults": {
           "arrowcolor": "#2a3f5f",
           "arrowhead": 0,
           "arrowwidth": 1
          },
          "autotypenumbers": "strict",
          "coloraxis": {
           "colorbar": {
            "outlinewidth": 0,
            "ticks": ""
           }
          },
          "colorscale": {
           "diverging": [
            [
             0,
             "#8e0152"
            ],
            [
             0.1,
             "#c51b7d"
            ],
            [
             0.2,
             "#de77ae"
            ],
            [
             0.3,
             "#f1b6da"
            ],
            [
             0.4,
             "#fde0ef"
            ],
            [
             0.5,
             "#f7f7f7"
            ],
            [
             0.6,
             "#e6f5d0"
            ],
            [
             0.7,
             "#b8e186"
            ],
            [
             0.8,
             "#7fbc41"
            ],
            [
             0.9,
             "#4d9221"
            ],
            [
             1,
             "#276419"
            ]
           ],
           "sequential": [
            [
             0,
             "#0d0887"
            ],
            [
             0.1111111111111111,
             "#46039f"
            ],
            [
             0.2222222222222222,
             "#7201a8"
            ],
            [
             0.3333333333333333,
             "#9c179e"
            ],
            [
             0.4444444444444444,
             "#bd3786"
            ],
            [
             0.5555555555555556,
             "#d8576b"
            ],
            [
             0.6666666666666666,
             "#ed7953"
            ],
            [
             0.7777777777777778,
             "#fb9f3a"
            ],
            [
             0.8888888888888888,
             "#fdca26"
            ],
            [
             1,
             "#f0f921"
            ]
           ],
           "sequentialminus": [
            [
             0,
             "#0d0887"
            ],
            [
             0.1111111111111111,
             "#46039f"
            ],
            [
             0.2222222222222222,
             "#7201a8"
            ],
            [
             0.3333333333333333,
             "#9c179e"
            ],
            [
             0.4444444444444444,
             "#bd3786"
            ],
            [
             0.5555555555555556,
             "#d8576b"
            ],
            [
             0.6666666666666666,
             "#ed7953"
            ],
            [
             0.7777777777777778,
             "#fb9f3a"
            ],
            [
             0.8888888888888888,
             "#fdca26"
            ],
            [
             1,
             "#f0f921"
            ]
           ]
          },
          "colorway": [
           "#636efa",
           "#EF553B",
           "#00cc96",
           "#ab63fa",
           "#FFA15A",
           "#19d3f3",
           "#FF6692",
           "#B6E880",
           "#FF97FF",
           "#FECB52"
          ],
          "font": {
           "color": "#2a3f5f"
          },
          "geo": {
           "bgcolor": "white",
           "lakecolor": "white",
           "landcolor": "#E5ECF6",
           "showlakes": true,
           "showland": true,
           "subunitcolor": "white"
          },
          "hoverlabel": {
           "align": "left"
          },
          "hovermode": "closest",
          "mapbox": {
           "style": "light"
          },
          "paper_bgcolor": "white",
          "plot_bgcolor": "#E5ECF6",
          "polar": {
           "angularaxis": {
            "gridcolor": "white",
            "linecolor": "white",
            "ticks": ""
           },
           "bgcolor": "#E5ECF6",
           "radialaxis": {
            "gridcolor": "white",
            "linecolor": "white",
            "ticks": ""
           }
          },
          "scene": {
           "xaxis": {
            "backgroundcolor": "#E5ECF6",
            "gridcolor": "white",
            "gridwidth": 2,
            "linecolor": "white",
            "showbackground": true,
            "ticks": "",
            "zerolinecolor": "white"
           },
           "yaxis": {
            "backgroundcolor": "#E5ECF6",
            "gridcolor": "white",
            "gridwidth": 2,
            "linecolor": "white",
            "showbackground": true,
            "ticks": "",
            "zerolinecolor": "white"
           },
           "zaxis": {
            "backgroundcolor": "#E5ECF6",
            "gridcolor": "white",
            "gridwidth": 2,
            "linecolor": "white",
            "showbackground": true,
            "ticks": "",
            "zerolinecolor": "white"
           }
          },
          "shapedefaults": {
           "line": {
            "color": "#2a3f5f"
           }
          },
          "ternary": {
           "aaxis": {
            "gridcolor": "white",
            "linecolor": "white",
            "ticks": ""
           },
           "baxis": {
            "gridcolor": "white",
            "linecolor": "white",
            "ticks": ""
           },
           "bgcolor": "#E5ECF6",
           "caxis": {
            "gridcolor": "white",
            "linecolor": "white",
            "ticks": ""
           }
          },
          "title": {
           "x": 0.05
          },
          "xaxis": {
           "automargin": true,
           "gridcolor": "white",
           "linecolor": "white",
           "ticks": "",
           "title": {
            "standoff": 15
           },
           "zerolinecolor": "white",
           "zerolinewidth": 2
          },
          "yaxis": {
           "automargin": true,
           "gridcolor": "white",
           "linecolor": "white",
           "ticks": "",
           "title": {
            "standoff": 15
           },
           "zerolinecolor": "white",
           "zerolinewidth": 2
          }
         }
        },
        "title": {
         "text": "우수고객 Funnel (Electronics)"
        },
        "xaxis": {
         "anchor": "y",
         "domain": [
          0,
          1
         ],
         "title": {
          "text": "rate"
         }
        },
        "yaxis": {
         "anchor": "x",
         "domain": [
          0,
          1
         ],
         "title": {
          "text": "stage"
         }
        }
       }
      }
     },
     "metadata": {},
     "output_type": "display_data"
    }
   ],
   "source": [
    "data = dict(\n",
    "    number=[7447,943,407],\n",
    "    stage=['view','basket','purchase'],\n",
    "    rate=[1,0.12662817241842353,0.05465288035450517]\n",
    ")\n",
    "fig = px.funnel(data, x='rate', y='stage', title='우수고객 Funnel (Electronics)')\n",
    "fig.update_traces(texttemplate=\"%{value:,.2%}\")\n",
    "fig.show()"
   ]
  },
  {
   "cell_type": "markdown",
   "metadata": {},
   "source": [
    "## VIP"
   ]
  },
  {
   "cell_type": "code",
   "execution_count": 77,
   "metadata": {},
   "outputs": [
    {
     "data": {
      "text/html": [
       "<div>\n",
       "<style scoped>\n",
       "    .dataframe tbody tr th:only-of-type {\n",
       "        vertical-align: middle;\n",
       "    }\n",
       "\n",
       "    .dataframe tbody tr th {\n",
       "        vertical-align: top;\n",
       "    }\n",
       "\n",
       "    .dataframe thead th {\n",
       "        text-align: right;\n",
       "    }\n",
       "</style>\n",
       "<table border=\"1\" class=\"dataframe\">\n",
       "  <thead>\n",
       "    <tr style=\"text-align: right;\">\n",
       "      <th></th>\n",
       "      <th>CustomerID</th>\n",
       "      <th>ActionType</th>\n",
       "      <th>GoodsCode</th>\n",
       "      <th>Price</th>\n",
       "      <th>AdID</th>\n",
       "      <th>CPC</th>\n",
       "      <th>Timestamp</th>\n",
       "      <th>GoodsCode_ad</th>\n",
       "      <th>eval_type</th>\n",
       "      <th>cluster_plus</th>\n",
       "      <th>Category</th>\n",
       "      <th>OriginalPrice</th>\n",
       "      <th>Inventory</th>\n",
       "    </tr>\n",
       "  </thead>\n",
       "  <tbody>\n",
       "    <tr>\n",
       "      <th>1687</th>\n",
       "      <td>444</td>\n",
       "      <td>ad_click</td>\n",
       "      <td>1241</td>\n",
       "      <td>69300</td>\n",
       "      <td>ad_line</td>\n",
       "      <td>290.20</td>\n",
       "      <td>2022-04-27 16:17:49.794648</td>\n",
       "      <td>1241</td>\n",
       "      <td>ad_click</td>\n",
       "      <td>vip</td>\n",
       "      <td>Electronics</td>\n",
       "      <td>69300</td>\n",
       "      <td>2933</td>\n",
       "    </tr>\n",
       "    <tr>\n",
       "      <th>1688</th>\n",
       "      <td>444</td>\n",
       "      <td>view</td>\n",
       "      <td>1170</td>\n",
       "      <td>77590</td>\n",
       "      <td>NaN</td>\n",
       "      <td>NaN</td>\n",
       "      <td>2022-04-28 12:41:14.486139</td>\n",
       "      <td>1241</td>\n",
       "      <td>ad_view_other</td>\n",
       "      <td>vip</td>\n",
       "      <td>Electronics</td>\n",
       "      <td>77590</td>\n",
       "      <td>6468</td>\n",
       "    </tr>\n",
       "    <tr>\n",
       "      <th>1689</th>\n",
       "      <td>444</td>\n",
       "      <td>view</td>\n",
       "      <td>1210</td>\n",
       "      <td>35120</td>\n",
       "      <td>NaN</td>\n",
       "      <td>NaN</td>\n",
       "      <td>2022-04-30 14:51:28.794648</td>\n",
       "      <td>1241</td>\n",
       "      <td>ad_view_other</td>\n",
       "      <td>vip</td>\n",
       "      <td>Home &amp; Garden</td>\n",
       "      <td>35120</td>\n",
       "      <td>1806</td>\n",
       "    </tr>\n",
       "    <tr>\n",
       "      <th>1690</th>\n",
       "      <td>444</td>\n",
       "      <td>view</td>\n",
       "      <td>1487</td>\n",
       "      <td>19730</td>\n",
       "      <td>NaN</td>\n",
       "      <td>NaN</td>\n",
       "      <td>2022-05-01 01:28:21.486139</td>\n",
       "      <td>1241</td>\n",
       "      <td>ad_view_other</td>\n",
       "      <td>vip</td>\n",
       "      <td>Home &amp; Garden</td>\n",
       "      <td>19730</td>\n",
       "      <td>1955</td>\n",
       "    </tr>\n",
       "    <tr>\n",
       "      <th>2001</th>\n",
       "      <td>520</td>\n",
       "      <td>ad_click</td>\n",
       "      <td>1270</td>\n",
       "      <td>13210</td>\n",
       "      <td>ad_meta</td>\n",
       "      <td>86.00</td>\n",
       "      <td>2022-04-01 15:23:29.637583</td>\n",
       "      <td>1270</td>\n",
       "      <td>ad_click</td>\n",
       "      <td>vip</td>\n",
       "      <td>Home &amp; Garden</td>\n",
       "      <td>13210</td>\n",
       "      <td>5311</td>\n",
       "    </tr>\n",
       "    <tr>\n",
       "      <th>...</th>\n",
       "      <td>...</td>\n",
       "      <td>...</td>\n",
       "      <td>...</td>\n",
       "      <td>...</td>\n",
       "      <td>...</td>\n",
       "      <td>...</td>\n",
       "      <td>...</td>\n",
       "      <td>...</td>\n",
       "      <td>...</td>\n",
       "      <td>...</td>\n",
       "      <td>...</td>\n",
       "      <td>...</td>\n",
       "      <td>...</td>\n",
       "    </tr>\n",
       "    <tr>\n",
       "      <th>3095491</th>\n",
       "      <td>899378</td>\n",
       "      <td>view</td>\n",
       "      <td>1024</td>\n",
       "      <td>82980</td>\n",
       "      <td>NaN</td>\n",
       "      <td>NaN</td>\n",
       "      <td>2022-05-04 06:30:44.039013</td>\n",
       "      <td>1092</td>\n",
       "      <td>ad_view_other</td>\n",
       "      <td>vip</td>\n",
       "      <td>Electronics</td>\n",
       "      <td>82980</td>\n",
       "      <td>4186</td>\n",
       "    </tr>\n",
       "    <tr>\n",
       "      <th>3095492</th>\n",
       "      <td>899378</td>\n",
       "      <td>ad_click</td>\n",
       "      <td>1474</td>\n",
       "      <td>38640</td>\n",
       "      <td>ad_meta</td>\n",
       "      <td>210.22</td>\n",
       "      <td>2022-05-06 08:31:26.039013</td>\n",
       "      <td>1474</td>\n",
       "      <td>ad_click</td>\n",
       "      <td>vip</td>\n",
       "      <td>Home &amp; Garden</td>\n",
       "      <td>38640</td>\n",
       "      <td>9503</td>\n",
       "    </tr>\n",
       "    <tr>\n",
       "      <th>3095493</th>\n",
       "      <td>899378</td>\n",
       "      <td>view</td>\n",
       "      <td>1474</td>\n",
       "      <td>38640</td>\n",
       "      <td>NaN</td>\n",
       "      <td>NaN</td>\n",
       "      <td>2022-05-08 19:54:24.039013</td>\n",
       "      <td>1474</td>\n",
       "      <td>ad_view</td>\n",
       "      <td>vip</td>\n",
       "      <td>Home &amp; Garden</td>\n",
       "      <td>38640</td>\n",
       "      <td>9503</td>\n",
       "    </tr>\n",
       "    <tr>\n",
       "      <th>3095494</th>\n",
       "      <td>899378</td>\n",
       "      <td>view</td>\n",
       "      <td>1462</td>\n",
       "      <td>13020</td>\n",
       "      <td>NaN</td>\n",
       "      <td>NaN</td>\n",
       "      <td>2022-05-09 23:00:47.039013</td>\n",
       "      <td>1474</td>\n",
       "      <td>ad_view_other</td>\n",
       "      <td>vip</td>\n",
       "      <td>Health &amp; Beauty</td>\n",
       "      <td>13020</td>\n",
       "      <td>9941</td>\n",
       "    </tr>\n",
       "    <tr>\n",
       "      <th>3095495</th>\n",
       "      <td>899378</td>\n",
       "      <td>view</td>\n",
       "      <td>1474</td>\n",
       "      <td>38640</td>\n",
       "      <td>NaN</td>\n",
       "      <td>NaN</td>\n",
       "      <td>2022-05-11 10:03:14.039013</td>\n",
       "      <td>1474</td>\n",
       "      <td>ad_view</td>\n",
       "      <td>vip</td>\n",
       "      <td>Home &amp; Garden</td>\n",
       "      <td>38640</td>\n",
       "      <td>9503</td>\n",
       "    </tr>\n",
       "  </tbody>\n",
       "</table>\n",
       "<p>7369 rows × 13 columns</p>\n",
       "</div>"
      ],
      "text/plain": [
       "         CustomerID ActionType  GoodsCode  Price     AdID     CPC  \\\n",
       "1687            444   ad_click       1241  69300  ad_line  290.20   \n",
       "1688            444       view       1170  77590      NaN     NaN   \n",
       "1689            444       view       1210  35120      NaN     NaN   \n",
       "1690            444       view       1487  19730      NaN     NaN   \n",
       "2001            520   ad_click       1270  13210  ad_meta   86.00   \n",
       "...             ...        ...        ...    ...      ...     ...   \n",
       "3095491      899378       view       1024  82980      NaN     NaN   \n",
       "3095492      899378   ad_click       1474  38640  ad_meta  210.22   \n",
       "3095493      899378       view       1474  38640      NaN     NaN   \n",
       "3095494      899378       view       1462  13020      NaN     NaN   \n",
       "3095495      899378       view       1474  38640      NaN     NaN   \n",
       "\n",
       "                         Timestamp  GoodsCode_ad      eval_type cluster_plus  \\\n",
       "1687    2022-04-27 16:17:49.794648          1241       ad_click          vip   \n",
       "1688    2022-04-28 12:41:14.486139          1241  ad_view_other          vip   \n",
       "1689    2022-04-30 14:51:28.794648          1241  ad_view_other          vip   \n",
       "1690    2022-05-01 01:28:21.486139          1241  ad_view_other          vip   \n",
       "2001    2022-04-01 15:23:29.637583          1270       ad_click          vip   \n",
       "...                            ...           ...            ...          ...   \n",
       "3095491 2022-05-04 06:30:44.039013          1092  ad_view_other          vip   \n",
       "3095492 2022-05-06 08:31:26.039013          1474       ad_click          vip   \n",
       "3095493 2022-05-08 19:54:24.039013          1474        ad_view          vip   \n",
       "3095494 2022-05-09 23:00:47.039013          1474  ad_view_other          vip   \n",
       "3095495 2022-05-11 10:03:14.039013          1474        ad_view          vip   \n",
       "\n",
       "                Category  OriginalPrice  Inventory  \n",
       "1687         Electronics          69300       2933  \n",
       "1688         Electronics          77590       6468  \n",
       "1689       Home & Garden          35120       1806  \n",
       "1690       Home & Garden          19730       1955  \n",
       "2001       Home & Garden          13210       5311  \n",
       "...                  ...            ...        ...  \n",
       "3095491      Electronics          82980       4186  \n",
       "3095492    Home & Garden          38640       9503  \n",
       "3095493    Home & Garden          38640       9503  \n",
       "3095494  Health & Beauty          13020       9941  \n",
       "3095495    Home & Garden          38640       9503  \n",
       "\n",
       "[7369 rows x 13 columns]"
      ]
     },
     "execution_count": 77,
     "metadata": {},
     "output_type": "execute_result"
    }
   ],
   "source": [
    "vip = ad_funnel[ad_funnel['cluster_plus']=='vip']\n",
    "vip"
   ]
  },
  {
   "cell_type": "code",
   "execution_count": 78,
   "metadata": {},
   "outputs": [
    {
     "data": {
      "text/html": [
       "<div>\n",
       "<style scoped>\n",
       "    .dataframe tbody tr th:only-of-type {\n",
       "        vertical-align: middle;\n",
       "    }\n",
       "\n",
       "    .dataframe tbody tr th {\n",
       "        vertical-align: top;\n",
       "    }\n",
       "\n",
       "    .dataframe thead th {\n",
       "        text-align: right;\n",
       "    }\n",
       "</style>\n",
       "<table border=\"1\" class=\"dataframe\">\n",
       "  <thead>\n",
       "    <tr style=\"text-align: right;\">\n",
       "      <th></th>\n",
       "      <th>CustomerID</th>\n",
       "      <th>ActionType</th>\n",
       "      <th>GoodsCode</th>\n",
       "      <th>Price</th>\n",
       "      <th>AdID</th>\n",
       "      <th>CPC</th>\n",
       "      <th>Timestamp</th>\n",
       "      <th>GoodsCode_ad</th>\n",
       "      <th>eval_type</th>\n",
       "      <th>cluster_plus</th>\n",
       "      <th>Category</th>\n",
       "      <th>OriginalPrice</th>\n",
       "      <th>Inventory</th>\n",
       "    </tr>\n",
       "  </thead>\n",
       "  <tbody>\n",
       "    <tr>\n",
       "      <th>1687</th>\n",
       "      <td>444</td>\n",
       "      <td>ad_click</td>\n",
       "      <td>1241</td>\n",
       "      <td>69300</td>\n",
       "      <td>ad_line</td>\n",
       "      <td>290.20</td>\n",
       "      <td>2022-04-27 16:17:49.794648</td>\n",
       "      <td>1241</td>\n",
       "      <td>ad_click</td>\n",
       "      <td>vip</td>\n",
       "      <td>Electronics</td>\n",
       "      <td>69300</td>\n",
       "      <td>2933</td>\n",
       "    </tr>\n",
       "    <tr>\n",
       "      <th>1688</th>\n",
       "      <td>444</td>\n",
       "      <td>view</td>\n",
       "      <td>1170</td>\n",
       "      <td>77590</td>\n",
       "      <td>NaN</td>\n",
       "      <td>NaN</td>\n",
       "      <td>2022-04-28 12:41:14.486139</td>\n",
       "      <td>1241</td>\n",
       "      <td>ad_view_other</td>\n",
       "      <td>vip</td>\n",
       "      <td>Electronics</td>\n",
       "      <td>77590</td>\n",
       "      <td>6468</td>\n",
       "    </tr>\n",
       "    <tr>\n",
       "      <th>2007</th>\n",
       "      <td>520</td>\n",
       "      <td>purchase</td>\n",
       "      <td>1267</td>\n",
       "      <td>64210</td>\n",
       "      <td>NaN</td>\n",
       "      <td>NaN</td>\n",
       "      <td>2022-04-11 17:58:16.008345</td>\n",
       "      <td>1248</td>\n",
       "      <td>ad_purchase_other</td>\n",
       "      <td>vip</td>\n",
       "      <td>Electronics</td>\n",
       "      <td>64210</td>\n",
       "      <td>7183</td>\n",
       "    </tr>\n",
       "    <tr>\n",
       "      <th>2008</th>\n",
       "      <td>520</td>\n",
       "      <td>view</td>\n",
       "      <td>1267</td>\n",
       "      <td>64210</td>\n",
       "      <td>NaN</td>\n",
       "      <td>NaN</td>\n",
       "      <td>2022-04-17 10:53:00.008345</td>\n",
       "      <td>1248</td>\n",
       "      <td>ad_view_other</td>\n",
       "      <td>vip</td>\n",
       "      <td>Electronics</td>\n",
       "      <td>64210</td>\n",
       "      <td>7183</td>\n",
       "    </tr>\n",
       "    <tr>\n",
       "      <th>2860</th>\n",
       "      <td>741</td>\n",
       "      <td>view</td>\n",
       "      <td>1202</td>\n",
       "      <td>44480</td>\n",
       "      <td>NaN</td>\n",
       "      <td>NaN</td>\n",
       "      <td>2022-03-25 00:24:58.008345</td>\n",
       "      <td>1288</td>\n",
       "      <td>ad_view_other</td>\n",
       "      <td>vip</td>\n",
       "      <td>Electronics</td>\n",
       "      <td>44480</td>\n",
       "      <td>9896</td>\n",
       "    </tr>\n",
       "    <tr>\n",
       "      <th>...</th>\n",
       "      <td>...</td>\n",
       "      <td>...</td>\n",
       "      <td>...</td>\n",
       "      <td>...</td>\n",
       "      <td>...</td>\n",
       "      <td>...</td>\n",
       "      <td>...</td>\n",
       "      <td>...</td>\n",
       "      <td>...</td>\n",
       "      <td>...</td>\n",
       "      <td>...</td>\n",
       "      <td>...</td>\n",
       "      <td>...</td>\n",
       "    </tr>\n",
       "    <tr>\n",
       "      <th>3095483</th>\n",
       "      <td>899378</td>\n",
       "      <td>ad_click</td>\n",
       "      <td>1247</td>\n",
       "      <td>89810</td>\n",
       "      <td>ad_line</td>\n",
       "      <td>203.04</td>\n",
       "      <td>2022-04-24 10:40:27.039013</td>\n",
       "      <td>1247</td>\n",
       "      <td>ad_click</td>\n",
       "      <td>vip</td>\n",
       "      <td>Electronics</td>\n",
       "      <td>89810</td>\n",
       "      <td>6016</td>\n",
       "    </tr>\n",
       "    <tr>\n",
       "      <th>3095484</th>\n",
       "      <td>899378</td>\n",
       "      <td>view</td>\n",
       "      <td>1024</td>\n",
       "      <td>82980</td>\n",
       "      <td>NaN</td>\n",
       "      <td>NaN</td>\n",
       "      <td>2022-04-26 07:36:43.039013</td>\n",
       "      <td>1247</td>\n",
       "      <td>ad_view_other</td>\n",
       "      <td>vip</td>\n",
       "      <td>Electronics</td>\n",
       "      <td>82980</td>\n",
       "      <td>4186</td>\n",
       "    </tr>\n",
       "    <tr>\n",
       "      <th>3095485</th>\n",
       "      <td>899378</td>\n",
       "      <td>purchase</td>\n",
       "      <td>1247</td>\n",
       "      <td>89810</td>\n",
       "      <td>NaN</td>\n",
       "      <td>NaN</td>\n",
       "      <td>2022-04-27 01:37:23.039013</td>\n",
       "      <td>1247</td>\n",
       "      <td>ad_purchase</td>\n",
       "      <td>vip</td>\n",
       "      <td>Electronics</td>\n",
       "      <td>89810</td>\n",
       "      <td>6016</td>\n",
       "    </tr>\n",
       "    <tr>\n",
       "      <th>3095490</th>\n",
       "      <td>899378</td>\n",
       "      <td>basket</td>\n",
       "      <td>1024</td>\n",
       "      <td>82980</td>\n",
       "      <td>NaN</td>\n",
       "      <td>NaN</td>\n",
       "      <td>2022-04-30 09:17:36.039013</td>\n",
       "      <td>1092</td>\n",
       "      <td>ad_basket_other</td>\n",
       "      <td>vip</td>\n",
       "      <td>Electronics</td>\n",
       "      <td>82980</td>\n",
       "      <td>4186</td>\n",
       "    </tr>\n",
       "    <tr>\n",
       "      <th>3095491</th>\n",
       "      <td>899378</td>\n",
       "      <td>view</td>\n",
       "      <td>1024</td>\n",
       "      <td>82980</td>\n",
       "      <td>NaN</td>\n",
       "      <td>NaN</td>\n",
       "      <td>2022-05-04 06:30:44.039013</td>\n",
       "      <td>1092</td>\n",
       "      <td>ad_view_other</td>\n",
       "      <td>vip</td>\n",
       "      <td>Electronics</td>\n",
       "      <td>82980</td>\n",
       "      <td>4186</td>\n",
       "    </tr>\n",
       "  </tbody>\n",
       "</table>\n",
       "<p>2715 rows × 13 columns</p>\n",
       "</div>"
      ],
      "text/plain": [
       "         CustomerID ActionType  GoodsCode  Price     AdID     CPC  \\\n",
       "1687            444   ad_click       1241  69300  ad_line  290.20   \n",
       "1688            444       view       1170  77590      NaN     NaN   \n",
       "2007            520   purchase       1267  64210      NaN     NaN   \n",
       "2008            520       view       1267  64210      NaN     NaN   \n",
       "2860            741       view       1202  44480      NaN     NaN   \n",
       "...             ...        ...        ...    ...      ...     ...   \n",
       "3095483      899378   ad_click       1247  89810  ad_line  203.04   \n",
       "3095484      899378       view       1024  82980      NaN     NaN   \n",
       "3095485      899378   purchase       1247  89810      NaN     NaN   \n",
       "3095490      899378     basket       1024  82980      NaN     NaN   \n",
       "3095491      899378       view       1024  82980      NaN     NaN   \n",
       "\n",
       "                         Timestamp  GoodsCode_ad          eval_type  \\\n",
       "1687    2022-04-27 16:17:49.794648          1241           ad_click   \n",
       "1688    2022-04-28 12:41:14.486139          1241      ad_view_other   \n",
       "2007    2022-04-11 17:58:16.008345          1248  ad_purchase_other   \n",
       "2008    2022-04-17 10:53:00.008345          1248      ad_view_other   \n",
       "2860    2022-03-25 00:24:58.008345          1288      ad_view_other   \n",
       "...                            ...           ...                ...   \n",
       "3095483 2022-04-24 10:40:27.039013          1247           ad_click   \n",
       "3095484 2022-04-26 07:36:43.039013          1247      ad_view_other   \n",
       "3095485 2022-04-27 01:37:23.039013          1247        ad_purchase   \n",
       "3095490 2022-04-30 09:17:36.039013          1092    ad_basket_other   \n",
       "3095491 2022-05-04 06:30:44.039013          1092      ad_view_other   \n",
       "\n",
       "        cluster_plus     Category  OriginalPrice  Inventory  \n",
       "1687             vip  Electronics          69300       2933  \n",
       "1688             vip  Electronics          77590       6468  \n",
       "2007             vip  Electronics          64210       7183  \n",
       "2008             vip  Electronics          64210       7183  \n",
       "2860             vip  Electronics          44480       9896  \n",
       "...              ...          ...            ...        ...  \n",
       "3095483          vip  Electronics          89810       6016  \n",
       "3095484          vip  Electronics          82980       4186  \n",
       "3095485          vip  Electronics          89810       6016  \n",
       "3095490          vip  Electronics          82980       4186  \n",
       "3095491          vip  Electronics          82980       4186  \n",
       "\n",
       "[2715 rows x 13 columns]"
      ]
     },
     "execution_count": 78,
     "metadata": {},
     "output_type": "execute_result"
    }
   ],
   "source": [
    "vip = vip[vip['Category']=='Electronics']\n",
    "vip"
   ]
  },
  {
   "cell_type": "code",
   "execution_count": 79,
   "metadata": {},
   "outputs": [
    {
     "name": "stdout",
     "output_type": "stream",
     "text": [
      "퍼널 카운트: {'view': 1222, 'basket': 178, 'purchase': 80}\n"
     ]
    }
   ],
   "source": [
    "vip_ad_funnel_adpurchase_counts1 = {'view': 0, 'basket': 0, 'purchase': 0}\n",
    "\n",
    "# 퍼널을 계산\n",
    "for idx, row in vip.iterrows():\n",
    "    if row['ActionType'] == 'ad_click':\n",
    "        vip_ad_funnel_adpurchase_counts1['view'] += 1\n",
    "    elif row['eval_type'] == 'ad_view':\n",
    "        vip_ad_funnel_adpurchase_counts1['view'] += 1\n",
    "    elif row['eval_type'] == 'ad_basket':\n",
    "        vip_ad_funnel_adpurchase_counts1['basket'] += 1\n",
    "        vip_ad_funnel_adpurchase_counts1['view'] += 1  \n",
    "    elif row['eval_type'] == 'ad_purchase':\n",
    "        vip_ad_funnel_adpurchase_counts1['purchase'] += 1\n",
    "        vip_ad_funnel_adpurchase_counts1['view'] += 1\n",
    "        vip_ad_funnel_adpurchase_counts1['basket'] += 1\n",
    "\n",
    "print(\"퍼널 카운트:\", vip_ad_funnel_adpurchase_counts1)\n"
   ]
  },
  {
   "cell_type": "code",
   "execution_count": 80,
   "metadata": {},
   "outputs": [
    {
     "name": "stdout",
     "output_type": "stream",
     "text": [
      "View Count: 1222\n",
      "Basket Count: 178\n",
      "Purchase Count: 80\n",
      "View to Basket Conversion Rate: 0.14566284779050737\n",
      "Basket to Purchase Conversion Rate: 0.449438202247191\n",
      "View to Purchase Conversion Rate: 0.06546644844517185\n"
     ]
    }
   ],
   "source": [
    "view_count_vip_elec = 1222\n",
    "basket_count_vip_elec = 178\n",
    "purchase_count_vip_elec = 80\n",
    "\n",
    "\n",
    "# 각 단계에서 다음 단계로의 전환율을 계산합니다.\n",
    "basket_to_purchase_rate_vip_elec = purchase_count_vip_elec / basket_count_vip_elec\n",
    "view_to_basket_rate_ad_vip_elec = basket_count_vip_elec / view_count_vip_elec\n",
    "view_to_purchase_rate_vip_elec = purchase_count_vip_elec / view_count_vip_elec\n",
    "\n",
    "# 결과를 출력합니다.\n",
    "print(\"View Count:\", view_count_vip_elec)\n",
    "print(\"Basket Count:\", basket_count_vip_elec)\n",
    "print(\"Purchase Count:\", purchase_count_vip_elec)\n",
    "print(\"View to Basket Conversion Rate:\", view_to_basket_rate_ad_vip_elec)\n",
    "print(\"Basket to Purchase Conversion Rate:\", basket_to_purchase_rate_vip_elec)\n",
    "print(\"View to Purchase Conversion Rate:\",view_to_purchase_rate_vip_elec)\n"
   ]
  },
  {
   "cell_type": "code",
   "execution_count": 81,
   "metadata": {},
   "outputs": [
    {
     "data": {
      "application/vnd.plotly.v1+json": {
       "config": {
        "plotlyServerURL": "https://plot.ly"
       },
       "data": [
        {
         "hovertemplate": "rate=%{x}<br>stage=%{y}<extra></extra>",
         "legendgroup": "",
         "marker": {
          "color": "#636efa"
         },
         "name": "",
         "orientation": "h",
         "showlegend": false,
         "texttemplate": "%{value:,.2%}",
         "type": "funnel",
         "x": [
          1,
          0.14566284779050737,
          0.06546644844517185
         ],
         "xaxis": "x",
         "y": [
          "view",
          "basket",
          "purchase"
         ],
         "yaxis": "y"
        }
       ],
       "layout": {
        "legend": {
         "tracegroupgap": 0
        },
        "template": {
         "data": {
          "bar": [
           {
            "error_x": {
             "color": "#2a3f5f"
            },
            "error_y": {
             "color": "#2a3f5f"
            },
            "marker": {
             "line": {
              "color": "#E5ECF6",
              "width": 0.5
             },
             "pattern": {
              "fillmode": "overlay",
              "size": 10,
              "solidity": 0.2
             }
            },
            "type": "bar"
           }
          ],
          "barpolar": [
           {
            "marker": {
             "line": {
              "color": "#E5ECF6",
              "width": 0.5
             },
             "pattern": {
              "fillmode": "overlay",
              "size": 10,
              "solidity": 0.2
             }
            },
            "type": "barpolar"
           }
          ],
          "carpet": [
           {
            "aaxis": {
             "endlinecolor": "#2a3f5f",
             "gridcolor": "white",
             "linecolor": "white",
             "minorgridcolor": "white",
             "startlinecolor": "#2a3f5f"
            },
            "baxis": {
             "endlinecolor": "#2a3f5f",
             "gridcolor": "white",
             "linecolor": "white",
             "minorgridcolor": "white",
             "startlinecolor": "#2a3f5f"
            },
            "type": "carpet"
           }
          ],
          "choropleth": [
           {
            "colorbar": {
             "outlinewidth": 0,
             "ticks": ""
            },
            "type": "choropleth"
           }
          ],
          "contour": [
           {
            "colorbar": {
             "outlinewidth": 0,
             "ticks": ""
            },
            "colorscale": [
             [
              0,
              "#0d0887"
             ],
             [
              0.1111111111111111,
              "#46039f"
             ],
             [
              0.2222222222222222,
              "#7201a8"
             ],
             [
              0.3333333333333333,
              "#9c179e"
             ],
             [
              0.4444444444444444,
              "#bd3786"
             ],
             [
              0.5555555555555556,
              "#d8576b"
             ],
             [
              0.6666666666666666,
              "#ed7953"
             ],
             [
              0.7777777777777778,
              "#fb9f3a"
             ],
             [
              0.8888888888888888,
              "#fdca26"
             ],
             [
              1,
              "#f0f921"
             ]
            ],
            "type": "contour"
           }
          ],
          "contourcarpet": [
           {
            "colorbar": {
             "outlinewidth": 0,
             "ticks": ""
            },
            "type": "contourcarpet"
           }
          ],
          "heatmap": [
           {
            "colorbar": {
             "outlinewidth": 0,
             "ticks": ""
            },
            "colorscale": [
             [
              0,
              "#0d0887"
             ],
             [
              0.1111111111111111,
              "#46039f"
             ],
             [
              0.2222222222222222,
              "#7201a8"
             ],
             [
              0.3333333333333333,
              "#9c179e"
             ],
             [
              0.4444444444444444,
              "#bd3786"
             ],
             [
              0.5555555555555556,
              "#d8576b"
             ],
             [
              0.6666666666666666,
              "#ed7953"
             ],
             [
              0.7777777777777778,
              "#fb9f3a"
             ],
             [
              0.8888888888888888,
              "#fdca26"
             ],
             [
              1,
              "#f0f921"
             ]
            ],
            "type": "heatmap"
           }
          ],
          "heatmapgl": [
           {
            "colorbar": {
             "outlinewidth": 0,
             "ticks": ""
            },
            "colorscale": [
             [
              0,
              "#0d0887"
             ],
             [
              0.1111111111111111,
              "#46039f"
             ],
             [
              0.2222222222222222,
              "#7201a8"
             ],
             [
              0.3333333333333333,
              "#9c179e"
             ],
             [
              0.4444444444444444,
              "#bd3786"
             ],
             [
              0.5555555555555556,
              "#d8576b"
             ],
             [
              0.6666666666666666,
              "#ed7953"
             ],
             [
              0.7777777777777778,
              "#fb9f3a"
             ],
             [
              0.8888888888888888,
              "#fdca26"
             ],
             [
              1,
              "#f0f921"
             ]
            ],
            "type": "heatmapgl"
           }
          ],
          "histogram": [
           {
            "marker": {
             "pattern": {
              "fillmode": "overlay",
              "size": 10,
              "solidity": 0.2
             }
            },
            "type": "histogram"
           }
          ],
          "histogram2d": [
           {
            "colorbar": {
             "outlinewidth": 0,
             "ticks": ""
            },
            "colorscale": [
             [
              0,
              "#0d0887"
             ],
             [
              0.1111111111111111,
              "#46039f"
             ],
             [
              0.2222222222222222,
              "#7201a8"
             ],
             [
              0.3333333333333333,
              "#9c179e"
             ],
             [
              0.4444444444444444,
              "#bd3786"
             ],
             [
              0.5555555555555556,
              "#d8576b"
             ],
             [
              0.6666666666666666,
              "#ed7953"
             ],
             [
              0.7777777777777778,
              "#fb9f3a"
             ],
             [
              0.8888888888888888,
              "#fdca26"
             ],
             [
              1,
              "#f0f921"
             ]
            ],
            "type": "histogram2d"
           }
          ],
          "histogram2dcontour": [
           {
            "colorbar": {
             "outlinewidth": 0,
             "ticks": ""
            },
            "colorscale": [
             [
              0,
              "#0d0887"
             ],
             [
              0.1111111111111111,
              "#46039f"
             ],
             [
              0.2222222222222222,
              "#7201a8"
             ],
             [
              0.3333333333333333,
              "#9c179e"
             ],
             [
              0.4444444444444444,
              "#bd3786"
             ],
             [
              0.5555555555555556,
              "#d8576b"
             ],
             [
              0.6666666666666666,
              "#ed7953"
             ],
             [
              0.7777777777777778,
              "#fb9f3a"
             ],
             [
              0.8888888888888888,
              "#fdca26"
             ],
             [
              1,
              "#f0f921"
             ]
            ],
            "type": "histogram2dcontour"
           }
          ],
          "mesh3d": [
           {
            "colorbar": {
             "outlinewidth": 0,
             "ticks": ""
            },
            "type": "mesh3d"
           }
          ],
          "parcoords": [
           {
            "line": {
             "colorbar": {
              "outlinewidth": 0,
              "ticks": ""
             }
            },
            "type": "parcoords"
           }
          ],
          "pie": [
           {
            "automargin": true,
            "type": "pie"
           }
          ],
          "scatter": [
           {
            "fillpattern": {
             "fillmode": "overlay",
             "size": 10,
             "solidity": 0.2
            },
            "type": "scatter"
           }
          ],
          "scatter3d": [
           {
            "line": {
             "colorbar": {
              "outlinewidth": 0,
              "ticks": ""
             }
            },
            "marker": {
             "colorbar": {
              "outlinewidth": 0,
              "ticks": ""
             }
            },
            "type": "scatter3d"
           }
          ],
          "scattercarpet": [
           {
            "marker": {
             "colorbar": {
              "outlinewidth": 0,
              "ticks": ""
             }
            },
            "type": "scattercarpet"
           }
          ],
          "scattergeo": [
           {
            "marker": {
             "colorbar": {
              "outlinewidth": 0,
              "ticks": ""
             }
            },
            "type": "scattergeo"
           }
          ],
          "scattergl": [
           {
            "marker": {
             "colorbar": {
              "outlinewidth": 0,
              "ticks": ""
             }
            },
            "type": "scattergl"
           }
          ],
          "scattermapbox": [
           {
            "marker": {
             "colorbar": {
              "outlinewidth": 0,
              "ticks": ""
             }
            },
            "type": "scattermapbox"
           }
          ],
          "scatterpolar": [
           {
            "marker": {
             "colorbar": {
              "outlinewidth": 0,
              "ticks": ""
             }
            },
            "type": "scatterpolar"
           }
          ],
          "scatterpolargl": [
           {
            "marker": {
             "colorbar": {
              "outlinewidth": 0,
              "ticks": ""
             }
            },
            "type": "scatterpolargl"
           }
          ],
          "scatterternary": [
           {
            "marker": {
             "colorbar": {
              "outlinewidth": 0,
              "ticks": ""
             }
            },
            "type": "scatterternary"
           }
          ],
          "surface": [
           {
            "colorbar": {
             "outlinewidth": 0,
             "ticks": ""
            },
            "colorscale": [
             [
              0,
              "#0d0887"
             ],
             [
              0.1111111111111111,
              "#46039f"
             ],
             [
              0.2222222222222222,
              "#7201a8"
             ],
             [
              0.3333333333333333,
              "#9c179e"
             ],
             [
              0.4444444444444444,
              "#bd3786"
             ],
             [
              0.5555555555555556,
              "#d8576b"
             ],
             [
              0.6666666666666666,
              "#ed7953"
             ],
             [
              0.7777777777777778,
              "#fb9f3a"
             ],
             [
              0.8888888888888888,
              "#fdca26"
             ],
             [
              1,
              "#f0f921"
             ]
            ],
            "type": "surface"
           }
          ],
          "table": [
           {
            "cells": {
             "fill": {
              "color": "#EBF0F8"
             },
             "line": {
              "color": "white"
             }
            },
            "header": {
             "fill": {
              "color": "#C8D4E3"
             },
             "line": {
              "color": "white"
             }
            },
            "type": "table"
           }
          ]
         },
         "layout": {
          "annotationdefaults": {
           "arrowcolor": "#2a3f5f",
           "arrowhead": 0,
           "arrowwidth": 1
          },
          "autotypenumbers": "strict",
          "coloraxis": {
           "colorbar": {
            "outlinewidth": 0,
            "ticks": ""
           }
          },
          "colorscale": {
           "diverging": [
            [
             0,
             "#8e0152"
            ],
            [
             0.1,
             "#c51b7d"
            ],
            [
             0.2,
             "#de77ae"
            ],
            [
             0.3,
             "#f1b6da"
            ],
            [
             0.4,
             "#fde0ef"
            ],
            [
             0.5,
             "#f7f7f7"
            ],
            [
             0.6,
             "#e6f5d0"
            ],
            [
             0.7,
             "#b8e186"
            ],
            [
             0.8,
             "#7fbc41"
            ],
            [
             0.9,
             "#4d9221"
            ],
            [
             1,
             "#276419"
            ]
           ],
           "sequential": [
            [
             0,
             "#0d0887"
            ],
            [
             0.1111111111111111,
             "#46039f"
            ],
            [
             0.2222222222222222,
             "#7201a8"
            ],
            [
             0.3333333333333333,
             "#9c179e"
            ],
            [
             0.4444444444444444,
             "#bd3786"
            ],
            [
             0.5555555555555556,
             "#d8576b"
            ],
            [
             0.6666666666666666,
             "#ed7953"
            ],
            [
             0.7777777777777778,
             "#fb9f3a"
            ],
            [
             0.8888888888888888,
             "#fdca26"
            ],
            [
             1,
             "#f0f921"
            ]
           ],
           "sequentialminus": [
            [
             0,
             "#0d0887"
            ],
            [
             0.1111111111111111,
             "#46039f"
            ],
            [
             0.2222222222222222,
             "#7201a8"
            ],
            [
             0.3333333333333333,
             "#9c179e"
            ],
            [
             0.4444444444444444,
             "#bd3786"
            ],
            [
             0.5555555555555556,
             "#d8576b"
            ],
            [
             0.6666666666666666,
             "#ed7953"
            ],
            [
             0.7777777777777778,
             "#fb9f3a"
            ],
            [
             0.8888888888888888,
             "#fdca26"
            ],
            [
             1,
             "#f0f921"
            ]
           ]
          },
          "colorway": [
           "#636efa",
           "#EF553B",
           "#00cc96",
           "#ab63fa",
           "#FFA15A",
           "#19d3f3",
           "#FF6692",
           "#B6E880",
           "#FF97FF",
           "#FECB52"
          ],
          "font": {
           "color": "#2a3f5f"
          },
          "geo": {
           "bgcolor": "white",
           "lakecolor": "white",
           "landcolor": "#E5ECF6",
           "showlakes": true,
           "showland": true,
           "subunitcolor": "white"
          },
          "hoverlabel": {
           "align": "left"
          },
          "hovermode": "closest",
          "mapbox": {
           "style": "light"
          },
          "paper_bgcolor": "white",
          "plot_bgcolor": "#E5ECF6",
          "polar": {
           "angularaxis": {
            "gridcolor": "white",
            "linecolor": "white",
            "ticks": ""
           },
           "bgcolor": "#E5ECF6",
           "radialaxis": {
            "gridcolor": "white",
            "linecolor": "white",
            "ticks": ""
           }
          },
          "scene": {
           "xaxis": {
            "backgroundcolor": "#E5ECF6",
            "gridcolor": "white",
            "gridwidth": 2,
            "linecolor": "white",
            "showbackground": true,
            "ticks": "",
            "zerolinecolor": "white"
           },
           "yaxis": {
            "backgroundcolor": "#E5ECF6",
            "gridcolor": "white",
            "gridwidth": 2,
            "linecolor": "white",
            "showbackground": true,
            "ticks": "",
            "zerolinecolor": "white"
           },
           "zaxis": {
            "backgroundcolor": "#E5ECF6",
            "gridcolor": "white",
            "gridwidth": 2,
            "linecolor": "white",
            "showbackground": true,
            "ticks": "",
            "zerolinecolor": "white"
           }
          },
          "shapedefaults": {
           "line": {
            "color": "#2a3f5f"
           }
          },
          "ternary": {
           "aaxis": {
            "gridcolor": "white",
            "linecolor": "white",
            "ticks": ""
           },
           "baxis": {
            "gridcolor": "white",
            "linecolor": "white",
            "ticks": ""
           },
           "bgcolor": "#E5ECF6",
           "caxis": {
            "gridcolor": "white",
            "linecolor": "white",
            "ticks": ""
           }
          },
          "title": {
           "x": 0.05
          },
          "xaxis": {
           "automargin": true,
           "gridcolor": "white",
           "linecolor": "white",
           "ticks": "",
           "title": {
            "standoff": 15
           },
           "zerolinecolor": "white",
           "zerolinewidth": 2
          },
          "yaxis": {
           "automargin": true,
           "gridcolor": "white",
           "linecolor": "white",
           "ticks": "",
           "title": {
            "standoff": 15
           },
           "zerolinecolor": "white",
           "zerolinewidth": 2
          }
         }
        },
        "title": {
         "text": "VIP Funnel (Electronics)"
        },
        "xaxis": {
         "anchor": "y",
         "domain": [
          0,
          1
         ],
         "title": {
          "text": "rate"
         }
        },
        "yaxis": {
         "anchor": "x",
         "domain": [
          0,
          1
         ],
         "title": {
          "text": "stage"
         }
        }
       }
      }
     },
     "metadata": {},
     "output_type": "display_data"
    }
   ],
   "source": [
    "data = dict(\n",
    "    number=[1222,178,80],\n",
    "    stage=['view','basket','purchase'],\n",
    "    rate=[1,0.14566284779050737,0.06546644844517185]\n",
    ")\n",
    "fig = px.funnel(data, x='rate', y='stage', title='VIP Funnel (Electronics)')\n",
    "fig.update_traces(texttemplate=\"%{value:,.2%}\")\n",
    "fig.show()"
   ]
  },
  {
   "cell_type": "markdown",
   "metadata": {},
   "source": [
    "## 중요고객 (2)"
   ]
  },
  {
   "cell_type": "code",
   "execution_count": 82,
   "metadata": {},
   "outputs": [
    {
     "data": {
      "text/html": [
       "<div>\n",
       "<style scoped>\n",
       "    .dataframe tbody tr th:only-of-type {\n",
       "        vertical-align: middle;\n",
       "    }\n",
       "\n",
       "    .dataframe tbody tr th {\n",
       "        vertical-align: top;\n",
       "    }\n",
       "\n",
       "    .dataframe thead th {\n",
       "        text-align: right;\n",
       "    }\n",
       "</style>\n",
       "<table border=\"1\" class=\"dataframe\">\n",
       "  <thead>\n",
       "    <tr style=\"text-align: right;\">\n",
       "      <th></th>\n",
       "      <th>CustomerID</th>\n",
       "      <th>ActionType</th>\n",
       "      <th>GoodsCode</th>\n",
       "      <th>Price</th>\n",
       "      <th>AdID</th>\n",
       "      <th>CPC</th>\n",
       "      <th>Timestamp</th>\n",
       "      <th>GoodsCode_ad</th>\n",
       "      <th>eval_type</th>\n",
       "      <th>cluster_plus</th>\n",
       "      <th>Category</th>\n",
       "      <th>OriginalPrice</th>\n",
       "      <th>Inventory</th>\n",
       "    </tr>\n",
       "  </thead>\n",
       "  <tbody>\n",
       "    <tr>\n",
       "      <th>148</th>\n",
       "      <td>32</td>\n",
       "      <td>ad_click</td>\n",
       "      <td>1036</td>\n",
       "      <td>38250</td>\n",
       "      <td>ad_line</td>\n",
       "      <td>195.52</td>\n",
       "      <td>2022-03-06 19:05:33.376860</td>\n",
       "      <td>1036</td>\n",
       "      <td>ad_click</td>\n",
       "      <td>중요고객</td>\n",
       "      <td>Home &amp; Garden</td>\n",
       "      <td>38250</td>\n",
       "      <td>9633</td>\n",
       "    </tr>\n",
       "    <tr>\n",
       "      <th>149</th>\n",
       "      <td>32</td>\n",
       "      <td>view</td>\n",
       "      <td>1434</td>\n",
       "      <td>18720</td>\n",
       "      <td>NaN</td>\n",
       "      <td>NaN</td>\n",
       "      <td>2022-03-10 09:08:40.376860</td>\n",
       "      <td>1036</td>\n",
       "      <td>ad_view_other</td>\n",
       "      <td>중요고객</td>\n",
       "      <td>Books</td>\n",
       "      <td>18720</td>\n",
       "      <td>7082</td>\n",
       "    </tr>\n",
       "    <tr>\n",
       "      <th>150</th>\n",
       "      <td>32</td>\n",
       "      <td>view</td>\n",
       "      <td>1336</td>\n",
       "      <td>82700</td>\n",
       "      <td>NaN</td>\n",
       "      <td>NaN</td>\n",
       "      <td>2022-03-10 20:36:37.376860</td>\n",
       "      <td>1036</td>\n",
       "      <td>ad_view_other</td>\n",
       "      <td>중요고객</td>\n",
       "      <td>Electronics</td>\n",
       "      <td>82700</td>\n",
       "      <td>4342</td>\n",
       "    </tr>\n",
       "    <tr>\n",
       "      <th>151</th>\n",
       "      <td>32</td>\n",
       "      <td>view</td>\n",
       "      <td>1336</td>\n",
       "      <td>82700</td>\n",
       "      <td>NaN</td>\n",
       "      <td>NaN</td>\n",
       "      <td>2022-03-11 08:25:32.376860</td>\n",
       "      <td>1036</td>\n",
       "      <td>ad_view_other</td>\n",
       "      <td>중요고객</td>\n",
       "      <td>Electronics</td>\n",
       "      <td>82700</td>\n",
       "      <td>4342</td>\n",
       "    </tr>\n",
       "    <tr>\n",
       "      <th>157</th>\n",
       "      <td>32</td>\n",
       "      <td>ad_click</td>\n",
       "      <td>1499</td>\n",
       "      <td>33180</td>\n",
       "      <td>ad_google</td>\n",
       "      <td>76.56</td>\n",
       "      <td>2022-03-30 16:18:05.376860</td>\n",
       "      <td>1499</td>\n",
       "      <td>ad_click</td>\n",
       "      <td>중요고객</td>\n",
       "      <td>Electronics</td>\n",
       "      <td>33180</td>\n",
       "      <td>4591</td>\n",
       "    </tr>\n",
       "    <tr>\n",
       "      <th>...</th>\n",
       "      <td>...</td>\n",
       "      <td>...</td>\n",
       "      <td>...</td>\n",
       "      <td>...</td>\n",
       "      <td>...</td>\n",
       "      <td>...</td>\n",
       "      <td>...</td>\n",
       "      <td>...</td>\n",
       "      <td>...</td>\n",
       "      <td>...</td>\n",
       "      <td>...</td>\n",
       "      <td>...</td>\n",
       "      <td>...</td>\n",
       "    </tr>\n",
       "    <tr>\n",
       "      <th>3096877</th>\n",
       "      <td>899993</td>\n",
       "      <td>ad_click</td>\n",
       "      <td>1174</td>\n",
       "      <td>7210</td>\n",
       "      <td>ad_line</td>\n",
       "      <td>19.07</td>\n",
       "      <td>2022-02-28 05:16:16.372529</td>\n",
       "      <td>1174</td>\n",
       "      <td>ad_click</td>\n",
       "      <td>중요고객</td>\n",
       "      <td>Books</td>\n",
       "      <td>7210</td>\n",
       "      <td>9502</td>\n",
       "    </tr>\n",
       "    <tr>\n",
       "      <th>3096878</th>\n",
       "      <td>899993</td>\n",
       "      <td>basket</td>\n",
       "      <td>1019</td>\n",
       "      <td>16840</td>\n",
       "      <td>NaN</td>\n",
       "      <td>NaN</td>\n",
       "      <td>2022-02-28 23:16:48.372529</td>\n",
       "      <td>1174</td>\n",
       "      <td>ad_basket_other</td>\n",
       "      <td>중요고객</td>\n",
       "      <td>Books</td>\n",
       "      <td>16840</td>\n",
       "      <td>3106</td>\n",
       "    </tr>\n",
       "    <tr>\n",
       "      <th>3096879</th>\n",
       "      <td>899993</td>\n",
       "      <td>view</td>\n",
       "      <td>1019</td>\n",
       "      <td>16840</td>\n",
       "      <td>NaN</td>\n",
       "      <td>NaN</td>\n",
       "      <td>2022-03-04 08:11:43.372529</td>\n",
       "      <td>1174</td>\n",
       "      <td>ad_view_other</td>\n",
       "      <td>중요고객</td>\n",
       "      <td>Books</td>\n",
       "      <td>16840</td>\n",
       "      <td>3106</td>\n",
       "    </tr>\n",
       "    <tr>\n",
       "      <th>3096891</th>\n",
       "      <td>899993</td>\n",
       "      <td>ad_click</td>\n",
       "      <td>1019</td>\n",
       "      <td>16840</td>\n",
       "      <td>ad_meta</td>\n",
       "      <td>88.20</td>\n",
       "      <td>2022-05-09 09:32:29.372529</td>\n",
       "      <td>1019</td>\n",
       "      <td>ad_click</td>\n",
       "      <td>중요고객</td>\n",
       "      <td>Books</td>\n",
       "      <td>16840</td>\n",
       "      <td>3106</td>\n",
       "    </tr>\n",
       "    <tr>\n",
       "      <th>3096892</th>\n",
       "      <td>899993</td>\n",
       "      <td>view</td>\n",
       "      <td>1045</td>\n",
       "      <td>120410</td>\n",
       "      <td>NaN</td>\n",
       "      <td>NaN</td>\n",
       "      <td>2022-05-11 03:04:39.372529</td>\n",
       "      <td>1019</td>\n",
       "      <td>ad_view_other</td>\n",
       "      <td>중요고객</td>\n",
       "      <td>Electronics</td>\n",
       "      <td>120410</td>\n",
       "      <td>2622</td>\n",
       "    </tr>\n",
       "  </tbody>\n",
       "</table>\n",
       "<p>57569 rows × 13 columns</p>\n",
       "</div>"
      ],
      "text/plain": [
       "         CustomerID ActionType  GoodsCode   Price       AdID     CPC  \\\n",
       "148              32   ad_click       1036   38250    ad_line  195.52   \n",
       "149              32       view       1434   18720        NaN     NaN   \n",
       "150              32       view       1336   82700        NaN     NaN   \n",
       "151              32       view       1336   82700        NaN     NaN   \n",
       "157              32   ad_click       1499   33180  ad_google   76.56   \n",
       "...             ...        ...        ...     ...        ...     ...   \n",
       "3096877      899993   ad_click       1174    7210    ad_line   19.07   \n",
       "3096878      899993     basket       1019   16840        NaN     NaN   \n",
       "3096879      899993       view       1019   16840        NaN     NaN   \n",
       "3096891      899993   ad_click       1019   16840    ad_meta   88.20   \n",
       "3096892      899993       view       1045  120410        NaN     NaN   \n",
       "\n",
       "                         Timestamp  GoodsCode_ad        eval_type  \\\n",
       "148     2022-03-06 19:05:33.376860          1036         ad_click   \n",
       "149     2022-03-10 09:08:40.376860          1036    ad_view_other   \n",
       "150     2022-03-10 20:36:37.376860          1036    ad_view_other   \n",
       "151     2022-03-11 08:25:32.376860          1036    ad_view_other   \n",
       "157     2022-03-30 16:18:05.376860          1499         ad_click   \n",
       "...                            ...           ...              ...   \n",
       "3096877 2022-02-28 05:16:16.372529          1174         ad_click   \n",
       "3096878 2022-02-28 23:16:48.372529          1174  ad_basket_other   \n",
       "3096879 2022-03-04 08:11:43.372529          1174    ad_view_other   \n",
       "3096891 2022-05-09 09:32:29.372529          1019         ad_click   \n",
       "3096892 2022-05-11 03:04:39.372529          1019    ad_view_other   \n",
       "\n",
       "        cluster_plus       Category  OriginalPrice  Inventory  \n",
       "148             중요고객  Home & Garden          38250       9633  \n",
       "149             중요고객          Books          18720       7082  \n",
       "150             중요고객    Electronics          82700       4342  \n",
       "151             중요고객    Electronics          82700       4342  \n",
       "157             중요고객    Electronics          33180       4591  \n",
       "...              ...            ...            ...        ...  \n",
       "3096877         중요고객          Books           7210       9502  \n",
       "3096878         중요고객          Books          16840       3106  \n",
       "3096879         중요고객          Books          16840       3106  \n",
       "3096891         중요고객          Books          16840       3106  \n",
       "3096892         중요고객    Electronics         120410       2622  \n",
       "\n",
       "[57569 rows x 13 columns]"
      ]
     },
     "execution_count": 82,
     "metadata": {},
     "output_type": "execute_result"
    }
   ],
   "source": [
    "jyungyo = ad_funnel[ad_funnel['cluster_plus']=='중요고객']\n",
    "jyungyo"
   ]
  },
  {
   "cell_type": "code",
   "execution_count": 83,
   "metadata": {},
   "outputs": [
    {
     "data": {
      "text/html": [
       "<div>\n",
       "<style scoped>\n",
       "    .dataframe tbody tr th:only-of-type {\n",
       "        vertical-align: middle;\n",
       "    }\n",
       "\n",
       "    .dataframe tbody tr th {\n",
       "        vertical-align: top;\n",
       "    }\n",
       "\n",
       "    .dataframe thead th {\n",
       "        text-align: right;\n",
       "    }\n",
       "</style>\n",
       "<table border=\"1\" class=\"dataframe\">\n",
       "  <thead>\n",
       "    <tr style=\"text-align: right;\">\n",
       "      <th></th>\n",
       "      <th>CustomerID</th>\n",
       "      <th>ActionType</th>\n",
       "      <th>GoodsCode</th>\n",
       "      <th>Price</th>\n",
       "      <th>AdID</th>\n",
       "      <th>CPC</th>\n",
       "      <th>Timestamp</th>\n",
       "      <th>GoodsCode_ad</th>\n",
       "      <th>eval_type</th>\n",
       "      <th>cluster_plus</th>\n",
       "      <th>Category</th>\n",
       "      <th>OriginalPrice</th>\n",
       "      <th>Inventory</th>\n",
       "    </tr>\n",
       "  </thead>\n",
       "  <tbody>\n",
       "    <tr>\n",
       "      <th>150</th>\n",
       "      <td>32</td>\n",
       "      <td>view</td>\n",
       "      <td>1336</td>\n",
       "      <td>82700</td>\n",
       "      <td>NaN</td>\n",
       "      <td>NaN</td>\n",
       "      <td>2022-03-10 20:36:37.376860</td>\n",
       "      <td>1036</td>\n",
       "      <td>ad_view_other</td>\n",
       "      <td>중요고객</td>\n",
       "      <td>Electronics</td>\n",
       "      <td>82700</td>\n",
       "      <td>4342</td>\n",
       "    </tr>\n",
       "    <tr>\n",
       "      <th>151</th>\n",
       "      <td>32</td>\n",
       "      <td>view</td>\n",
       "      <td>1336</td>\n",
       "      <td>82700</td>\n",
       "      <td>NaN</td>\n",
       "      <td>NaN</td>\n",
       "      <td>2022-03-11 08:25:32.376860</td>\n",
       "      <td>1036</td>\n",
       "      <td>ad_view_other</td>\n",
       "      <td>중요고객</td>\n",
       "      <td>Electronics</td>\n",
       "      <td>82700</td>\n",
       "      <td>4342</td>\n",
       "    </tr>\n",
       "    <tr>\n",
       "      <th>157</th>\n",
       "      <td>32</td>\n",
       "      <td>ad_click</td>\n",
       "      <td>1499</td>\n",
       "      <td>33180</td>\n",
       "      <td>ad_google</td>\n",
       "      <td>76.56</td>\n",
       "      <td>2022-03-30 16:18:05.376860</td>\n",
       "      <td>1499</td>\n",
       "      <td>ad_click</td>\n",
       "      <td>중요고객</td>\n",
       "      <td>Electronics</td>\n",
       "      <td>33180</td>\n",
       "      <td>4591</td>\n",
       "    </tr>\n",
       "    <tr>\n",
       "      <th>158</th>\n",
       "      <td>32</td>\n",
       "      <td>purchase</td>\n",
       "      <td>1499</td>\n",
       "      <td>33180</td>\n",
       "      <td>NaN</td>\n",
       "      <td>NaN</td>\n",
       "      <td>2022-03-31 10:56:52.376860</td>\n",
       "      <td>1499</td>\n",
       "      <td>ad_purchase</td>\n",
       "      <td>중요고객</td>\n",
       "      <td>Electronics</td>\n",
       "      <td>33180</td>\n",
       "      <td>4591</td>\n",
       "    </tr>\n",
       "    <tr>\n",
       "      <th>160</th>\n",
       "      <td>32</td>\n",
       "      <td>purchase</td>\n",
       "      <td>1336</td>\n",
       "      <td>82700</td>\n",
       "      <td>NaN</td>\n",
       "      <td>NaN</td>\n",
       "      <td>2022-04-04 20:49:21.376860</td>\n",
       "      <td>1499</td>\n",
       "      <td>ad_purchase_other</td>\n",
       "      <td>중요고객</td>\n",
       "      <td>Electronics</td>\n",
       "      <td>82700</td>\n",
       "      <td>4342</td>\n",
       "    </tr>\n",
       "    <tr>\n",
       "      <th>...</th>\n",
       "      <td>...</td>\n",
       "      <td>...</td>\n",
       "      <td>...</td>\n",
       "      <td>...</td>\n",
       "      <td>...</td>\n",
       "      <td>...</td>\n",
       "      <td>...</td>\n",
       "      <td>...</td>\n",
       "      <td>...</td>\n",
       "      <td>...</td>\n",
       "      <td>...</td>\n",
       "      <td>...</td>\n",
       "      <td>...</td>\n",
       "    </tr>\n",
       "    <tr>\n",
       "      <th>3095604</th>\n",
       "      <td>899446</td>\n",
       "      <td>view</td>\n",
       "      <td>1313</td>\n",
       "      <td>141540</td>\n",
       "      <td>NaN</td>\n",
       "      <td>NaN</td>\n",
       "      <td>2022-04-23 15:46:07.340987</td>\n",
       "      <td>1313</td>\n",
       "      <td>ad_view</td>\n",
       "      <td>중요고객</td>\n",
       "      <td>Electronics</td>\n",
       "      <td>141540</td>\n",
       "      <td>9073</td>\n",
       "    </tr>\n",
       "    <tr>\n",
       "      <th>3096329</th>\n",
       "      <td>899759</td>\n",
       "      <td>ad_click</td>\n",
       "      <td>1224</td>\n",
       "      <td>85500</td>\n",
       "      <td>ad_line</td>\n",
       "      <td>803.11</td>\n",
       "      <td>2022-02-22 18:26:59.961569</td>\n",
       "      <td>1224</td>\n",
       "      <td>ad_click</td>\n",
       "      <td>중요고객</td>\n",
       "      <td>Electronics</td>\n",
       "      <td>85500</td>\n",
       "      <td>7402</td>\n",
       "    </tr>\n",
       "    <tr>\n",
       "      <th>3096545</th>\n",
       "      <td>899842</td>\n",
       "      <td>ad_click</td>\n",
       "      <td>1388</td>\n",
       "      <td>48400</td>\n",
       "      <td>ad_google</td>\n",
       "      <td>193.26</td>\n",
       "      <td>2022-05-25 23:14:27.187373</td>\n",
       "      <td>1388</td>\n",
       "      <td>ad_click</td>\n",
       "      <td>중요고객</td>\n",
       "      <td>Electronics</td>\n",
       "      <td>48400</td>\n",
       "      <td>8099</td>\n",
       "    </tr>\n",
       "    <tr>\n",
       "      <th>3096546</th>\n",
       "      <td>899842</td>\n",
       "      <td>purchase</td>\n",
       "      <td>1388</td>\n",
       "      <td>48400</td>\n",
       "      <td>NaN</td>\n",
       "      <td>NaN</td>\n",
       "      <td>2022-05-30 06:20:44.187373</td>\n",
       "      <td>1388</td>\n",
       "      <td>ad_purchase</td>\n",
       "      <td>중요고객</td>\n",
       "      <td>Electronics</td>\n",
       "      <td>48400</td>\n",
       "      <td>8099</td>\n",
       "    </tr>\n",
       "    <tr>\n",
       "      <th>3096892</th>\n",
       "      <td>899993</td>\n",
       "      <td>view</td>\n",
       "      <td>1045</td>\n",
       "      <td>120410</td>\n",
       "      <td>NaN</td>\n",
       "      <td>NaN</td>\n",
       "      <td>2022-05-11 03:04:39.372529</td>\n",
       "      <td>1019</td>\n",
       "      <td>ad_view_other</td>\n",
       "      <td>중요고객</td>\n",
       "      <td>Electronics</td>\n",
       "      <td>120410</td>\n",
       "      <td>2622</td>\n",
       "    </tr>\n",
       "  </tbody>\n",
       "</table>\n",
       "<p>19726 rows × 13 columns</p>\n",
       "</div>"
      ],
      "text/plain": [
       "         CustomerID ActionType  GoodsCode   Price       AdID     CPC  \\\n",
       "150              32       view       1336   82700        NaN     NaN   \n",
       "151              32       view       1336   82700        NaN     NaN   \n",
       "157              32   ad_click       1499   33180  ad_google   76.56   \n",
       "158              32   purchase       1499   33180        NaN     NaN   \n",
       "160              32   purchase       1336   82700        NaN     NaN   \n",
       "...             ...        ...        ...     ...        ...     ...   \n",
       "3095604      899446       view       1313  141540        NaN     NaN   \n",
       "3096329      899759   ad_click       1224   85500    ad_line  803.11   \n",
       "3096545      899842   ad_click       1388   48400  ad_google  193.26   \n",
       "3096546      899842   purchase       1388   48400        NaN     NaN   \n",
       "3096892      899993       view       1045  120410        NaN     NaN   \n",
       "\n",
       "                         Timestamp  GoodsCode_ad          eval_type  \\\n",
       "150     2022-03-10 20:36:37.376860          1036      ad_view_other   \n",
       "151     2022-03-11 08:25:32.376860          1036      ad_view_other   \n",
       "157     2022-03-30 16:18:05.376860          1499           ad_click   \n",
       "158     2022-03-31 10:56:52.376860          1499        ad_purchase   \n",
       "160     2022-04-04 20:49:21.376860          1499  ad_purchase_other   \n",
       "...                            ...           ...                ...   \n",
       "3095604 2022-04-23 15:46:07.340987          1313            ad_view   \n",
       "3096329 2022-02-22 18:26:59.961569          1224           ad_click   \n",
       "3096545 2022-05-25 23:14:27.187373          1388           ad_click   \n",
       "3096546 2022-05-30 06:20:44.187373          1388        ad_purchase   \n",
       "3096892 2022-05-11 03:04:39.372529          1019      ad_view_other   \n",
       "\n",
       "        cluster_plus     Category  OriginalPrice  Inventory  \n",
       "150             중요고객  Electronics          82700       4342  \n",
       "151             중요고객  Electronics          82700       4342  \n",
       "157             중요고객  Electronics          33180       4591  \n",
       "158             중요고객  Electronics          33180       4591  \n",
       "160             중요고객  Electronics          82700       4342  \n",
       "...              ...          ...            ...        ...  \n",
       "3095604         중요고객  Electronics         141540       9073  \n",
       "3096329         중요고객  Electronics          85500       7402  \n",
       "3096545         중요고객  Electronics          48400       8099  \n",
       "3096546         중요고객  Electronics          48400       8099  \n",
       "3096892         중요고객  Electronics         120410       2622  \n",
       "\n",
       "[19726 rows x 13 columns]"
      ]
     },
     "execution_count": 83,
     "metadata": {},
     "output_type": "execute_result"
    }
   ],
   "source": [
    "jyungyo = jyungyo[jyungyo['Category']=='Electronics']\n",
    "jyungyo"
   ]
  },
  {
   "cell_type": "code",
   "execution_count": 84,
   "metadata": {},
   "outputs": [
    {
     "name": "stdout",
     "output_type": "stream",
     "text": [
      "퍼널 카운트: {'view': 12688, 'basket': 1597, 'purchase': 710}\n"
     ]
    }
   ],
   "source": [
    "jyungyo_ad_funnel_adpurchase_counts1 = {'view': 0, 'basket': 0, 'purchase': 0}\n",
    "\n",
    "# 퍼널을 계산\n",
    "for idx, row in jyungyo.iterrows():\n",
    "    if row['ActionType'] == 'ad_click':\n",
    "        jyungyo_ad_funnel_adpurchase_counts1['view'] += 1\n",
    "    elif row['eval_type'] == 'ad_view':\n",
    "        jyungyo_ad_funnel_adpurchase_counts1['view'] += 1\n",
    "    elif row['eval_type'] == 'ad_basket':\n",
    "        jyungyo_ad_funnel_adpurchase_counts1['basket'] += 1\n",
    "        jyungyo_ad_funnel_adpurchase_counts1['view'] += 1  \n",
    "    elif row['eval_type'] == 'ad_purchase':\n",
    "        jyungyo_ad_funnel_adpurchase_counts1['purchase'] += 1\n",
    "        jyungyo_ad_funnel_adpurchase_counts1['view'] += 1\n",
    "        jyungyo_ad_funnel_adpurchase_counts1['basket'] += 1\n",
    "\n",
    "print(\"퍼널 카운트:\", jyungyo_ad_funnel_adpurchase_counts1)\n"
   ]
  },
  {
   "cell_type": "code",
   "execution_count": 85,
   "metadata": {},
   "outputs": [
    {
     "name": "stdout",
     "output_type": "stream",
     "text": [
      "View Count: 12688\n",
      "Basket Count: 1597\n",
      "Purchase Count: 710\n",
      "View to Basket Conversion Rate: 0.12586696090794453\n",
      "Basket to Purchase Conversion Rate: 0.4445835942391985\n",
      "View to Purchase Conversion Rate: 0.055958385876418666\n"
     ]
    }
   ],
   "source": [
    "view_count_jyungyo_elec = 12688\n",
    "basket_count_jyungyo_elec = 1597\n",
    "purchase_count_jyungyo_elec = 710\n",
    "\n",
    "\n",
    "# 각 단계에서 다음 단계로의 전환율을 계산합니다.\n",
    "basket_to_purchase_rate_jyungyo_elec = purchase_count_jyungyo_elec / basket_count_jyungyo_elec\n",
    "view_to_basket_rate_ad_jyungyo_elec = basket_count_jyungyo_elec / view_count_jyungyo_elec\n",
    "view_to_purchase_rate_jyungyo_elec = purchase_count_jyungyo_elec / view_count_jyungyo_elec\n",
    "\n",
    "# 결과를 출력합니다.\n",
    "print(\"View Count:\", view_count_jyungyo_elec)\n",
    "print(\"Basket Count:\", basket_count_jyungyo_elec)\n",
    "print(\"Purchase Count:\", purchase_count_jyungyo_elec)\n",
    "print(\"View to Basket Conversion Rate:\", view_to_basket_rate_ad_jyungyo_elec)\n",
    "print(\"Basket to Purchase Conversion Rate:\", basket_to_purchase_rate_jyungyo_elec)\n",
    "print(\"View to Purchase Conversion Rate:\",view_to_purchase_rate_jyungyo_elec)\n"
   ]
  },
  {
   "cell_type": "code",
   "execution_count": 86,
   "metadata": {},
   "outputs": [
    {
     "data": {
      "application/vnd.plotly.v1+json": {
       "config": {
        "plotlyServerURL": "https://plot.ly"
       },
       "data": [
        {
         "hovertemplate": "rate=%{x}<br>stage=%{y}<extra></extra>",
         "legendgroup": "",
         "marker": {
          "color": "#636efa"
         },
         "name": "",
         "orientation": "h",
         "showlegend": false,
         "texttemplate": "%{value:,.2%}",
         "type": "funnel",
         "x": [
          1,
          0.12586696090794453,
          0.055958385876418666
         ],
         "xaxis": "x",
         "y": [
          "view",
          "basket",
          "purchase"
         ],
         "yaxis": "y"
        }
       ],
       "layout": {
        "legend": {
         "tracegroupgap": 0
        },
        "template": {
         "data": {
          "bar": [
           {
            "error_x": {
             "color": "#2a3f5f"
            },
            "error_y": {
             "color": "#2a3f5f"
            },
            "marker": {
             "line": {
              "color": "#E5ECF6",
              "width": 0.5
             },
             "pattern": {
              "fillmode": "overlay",
              "size": 10,
              "solidity": 0.2
             }
            },
            "type": "bar"
           }
          ],
          "barpolar": [
           {
            "marker": {
             "line": {
              "color": "#E5ECF6",
              "width": 0.5
             },
             "pattern": {
              "fillmode": "overlay",
              "size": 10,
              "solidity": 0.2
             }
            },
            "type": "barpolar"
           }
          ],
          "carpet": [
           {
            "aaxis": {
             "endlinecolor": "#2a3f5f",
             "gridcolor": "white",
             "linecolor": "white",
             "minorgridcolor": "white",
             "startlinecolor": "#2a3f5f"
            },
            "baxis": {
             "endlinecolor": "#2a3f5f",
             "gridcolor": "white",
             "linecolor": "white",
             "minorgridcolor": "white",
             "startlinecolor": "#2a3f5f"
            },
            "type": "carpet"
           }
          ],
          "choropleth": [
           {
            "colorbar": {
             "outlinewidth": 0,
             "ticks": ""
            },
            "type": "choropleth"
           }
          ],
          "contour": [
           {
            "colorbar": {
             "outlinewidth": 0,
             "ticks": ""
            },
            "colorscale": [
             [
              0,
              "#0d0887"
             ],
             [
              0.1111111111111111,
              "#46039f"
             ],
             [
              0.2222222222222222,
              "#7201a8"
             ],
             [
              0.3333333333333333,
              "#9c179e"
             ],
             [
              0.4444444444444444,
              "#bd3786"
             ],
             [
              0.5555555555555556,
              "#d8576b"
             ],
             [
              0.6666666666666666,
              "#ed7953"
             ],
             [
              0.7777777777777778,
              "#fb9f3a"
             ],
             [
              0.8888888888888888,
              "#fdca26"
             ],
             [
              1,
              "#f0f921"
             ]
            ],
            "type": "contour"
           }
          ],
          "contourcarpet": [
           {
            "colorbar": {
             "outlinewidth": 0,
             "ticks": ""
            },
            "type": "contourcarpet"
           }
          ],
          "heatmap": [
           {
            "colorbar": {
             "outlinewidth": 0,
             "ticks": ""
            },
            "colorscale": [
             [
              0,
              "#0d0887"
             ],
             [
              0.1111111111111111,
              "#46039f"
             ],
             [
              0.2222222222222222,
              "#7201a8"
             ],
             [
              0.3333333333333333,
              "#9c179e"
             ],
             [
              0.4444444444444444,
              "#bd3786"
             ],
             [
              0.5555555555555556,
              "#d8576b"
             ],
             [
              0.6666666666666666,
              "#ed7953"
             ],
             [
              0.7777777777777778,
              "#fb9f3a"
             ],
             [
              0.8888888888888888,
              "#fdca26"
             ],
             [
              1,
              "#f0f921"
             ]
            ],
            "type": "heatmap"
           }
          ],
          "heatmapgl": [
           {
            "colorbar": {
             "outlinewidth": 0,
             "ticks": ""
            },
            "colorscale": [
             [
              0,
              "#0d0887"
             ],
             [
              0.1111111111111111,
              "#46039f"
             ],
             [
              0.2222222222222222,
              "#7201a8"
             ],
             [
              0.3333333333333333,
              "#9c179e"
             ],
             [
              0.4444444444444444,
              "#bd3786"
             ],
             [
              0.5555555555555556,
              "#d8576b"
             ],
             [
              0.6666666666666666,
              "#ed7953"
             ],
             [
              0.7777777777777778,
              "#fb9f3a"
             ],
             [
              0.8888888888888888,
              "#fdca26"
             ],
             [
              1,
              "#f0f921"
             ]
            ],
            "type": "heatmapgl"
           }
          ],
          "histogram": [
           {
            "marker": {
             "pattern": {
              "fillmode": "overlay",
              "size": 10,
              "solidity": 0.2
             }
            },
            "type": "histogram"
           }
          ],
          "histogram2d": [
           {
            "colorbar": {
             "outlinewidth": 0,
             "ticks": ""
            },
            "colorscale": [
             [
              0,
              "#0d0887"
             ],
             [
              0.1111111111111111,
              "#46039f"
             ],
             [
              0.2222222222222222,
              "#7201a8"
             ],
             [
              0.3333333333333333,
              "#9c179e"
             ],
             [
              0.4444444444444444,
              "#bd3786"
             ],
             [
              0.5555555555555556,
              "#d8576b"
             ],
             [
              0.6666666666666666,
              "#ed7953"
             ],
             [
              0.7777777777777778,
              "#fb9f3a"
             ],
             [
              0.8888888888888888,
              "#fdca26"
             ],
             [
              1,
              "#f0f921"
             ]
            ],
            "type": "histogram2d"
           }
          ],
          "histogram2dcontour": [
           {
            "colorbar": {
             "outlinewidth": 0,
             "ticks": ""
            },
            "colorscale": [
             [
              0,
              "#0d0887"
             ],
             [
              0.1111111111111111,
              "#46039f"
             ],
             [
              0.2222222222222222,
              "#7201a8"
             ],
             [
              0.3333333333333333,
              "#9c179e"
             ],
             [
              0.4444444444444444,
              "#bd3786"
             ],
             [
              0.5555555555555556,
              "#d8576b"
             ],
             [
              0.6666666666666666,
              "#ed7953"
             ],
             [
              0.7777777777777778,
              "#fb9f3a"
             ],
             [
              0.8888888888888888,
              "#fdca26"
             ],
             [
              1,
              "#f0f921"
             ]
            ],
            "type": "histogram2dcontour"
           }
          ],
          "mesh3d": [
           {
            "colorbar": {
             "outlinewidth": 0,
             "ticks": ""
            },
            "type": "mesh3d"
           }
          ],
          "parcoords": [
           {
            "line": {
             "colorbar": {
              "outlinewidth": 0,
              "ticks": ""
             }
            },
            "type": "parcoords"
           }
          ],
          "pie": [
           {
            "automargin": true,
            "type": "pie"
           }
          ],
          "scatter": [
           {
            "fillpattern": {
             "fillmode": "overlay",
             "size": 10,
             "solidity": 0.2
            },
            "type": "scatter"
           }
          ],
          "scatter3d": [
           {
            "line": {
             "colorbar": {
              "outlinewidth": 0,
              "ticks": ""
             }
            },
            "marker": {
             "colorbar": {
              "outlinewidth": 0,
              "ticks": ""
             }
            },
            "type": "scatter3d"
           }
          ],
          "scattercarpet": [
           {
            "marker": {
             "colorbar": {
              "outlinewidth": 0,
              "ticks": ""
             }
            },
            "type": "scattercarpet"
           }
          ],
          "scattergeo": [
           {
            "marker": {
             "colorbar": {
              "outlinewidth": 0,
              "ticks": ""
             }
            },
            "type": "scattergeo"
           }
          ],
          "scattergl": [
           {
            "marker": {
             "colorbar": {
              "outlinewidth": 0,
              "ticks": ""
             }
            },
            "type": "scattergl"
           }
          ],
          "scattermapbox": [
           {
            "marker": {
             "colorbar": {
              "outlinewidth": 0,
              "ticks": ""
             }
            },
            "type": "scattermapbox"
           }
          ],
          "scatterpolar": [
           {
            "marker": {
             "colorbar": {
              "outlinewidth": 0,
              "ticks": ""
             }
            },
            "type": "scatterpolar"
           }
          ],
          "scatterpolargl": [
           {
            "marker": {
             "colorbar": {
              "outlinewidth": 0,
              "ticks": ""
             }
            },
            "type": "scatterpolargl"
           }
          ],
          "scatterternary": [
           {
            "marker": {
             "colorbar": {
              "outlinewidth": 0,
              "ticks": ""
             }
            },
            "type": "scatterternary"
           }
          ],
          "surface": [
           {
            "colorbar": {
             "outlinewidth": 0,
             "ticks": ""
            },
            "colorscale": [
             [
              0,
              "#0d0887"
             ],
             [
              0.1111111111111111,
              "#46039f"
             ],
             [
              0.2222222222222222,
              "#7201a8"
             ],
             [
              0.3333333333333333,
              "#9c179e"
             ],
             [
              0.4444444444444444,
              "#bd3786"
             ],
             [
              0.5555555555555556,
              "#d8576b"
             ],
             [
              0.6666666666666666,
              "#ed7953"
             ],
             [
              0.7777777777777778,
              "#fb9f3a"
             ],
             [
              0.8888888888888888,
              "#fdca26"
             ],
             [
              1,
              "#f0f921"
             ]
            ],
            "type": "surface"
           }
          ],
          "table": [
           {
            "cells": {
             "fill": {
              "color": "#EBF0F8"
             },
             "line": {
              "color": "white"
             }
            },
            "header": {
             "fill": {
              "color": "#C8D4E3"
             },
             "line": {
              "color": "white"
             }
            },
            "type": "table"
           }
          ]
         },
         "layout": {
          "annotationdefaults": {
           "arrowcolor": "#2a3f5f",
           "arrowhead": 0,
           "arrowwidth": 1
          },
          "autotypenumbers": "strict",
          "coloraxis": {
           "colorbar": {
            "outlinewidth": 0,
            "ticks": ""
           }
          },
          "colorscale": {
           "diverging": [
            [
             0,
             "#8e0152"
            ],
            [
             0.1,
             "#c51b7d"
            ],
            [
             0.2,
             "#de77ae"
            ],
            [
             0.3,
             "#f1b6da"
            ],
            [
             0.4,
             "#fde0ef"
            ],
            [
             0.5,
             "#f7f7f7"
            ],
            [
             0.6,
             "#e6f5d0"
            ],
            [
             0.7,
             "#b8e186"
            ],
            [
             0.8,
             "#7fbc41"
            ],
            [
             0.9,
             "#4d9221"
            ],
            [
             1,
             "#276419"
            ]
           ],
           "sequential": [
            [
             0,
             "#0d0887"
            ],
            [
             0.1111111111111111,
             "#46039f"
            ],
            [
             0.2222222222222222,
             "#7201a8"
            ],
            [
             0.3333333333333333,
             "#9c179e"
            ],
            [
             0.4444444444444444,
             "#bd3786"
            ],
            [
             0.5555555555555556,
             "#d8576b"
            ],
            [
             0.6666666666666666,
             "#ed7953"
            ],
            [
             0.7777777777777778,
             "#fb9f3a"
            ],
            [
             0.8888888888888888,
             "#fdca26"
            ],
            [
             1,
             "#f0f921"
            ]
           ],
           "sequentialminus": [
            [
             0,
             "#0d0887"
            ],
            [
             0.1111111111111111,
             "#46039f"
            ],
            [
             0.2222222222222222,
             "#7201a8"
            ],
            [
             0.3333333333333333,
             "#9c179e"
            ],
            [
             0.4444444444444444,
             "#bd3786"
            ],
            [
             0.5555555555555556,
             "#d8576b"
            ],
            [
             0.6666666666666666,
             "#ed7953"
            ],
            [
             0.7777777777777778,
             "#fb9f3a"
            ],
            [
             0.8888888888888888,
             "#fdca26"
            ],
            [
             1,
             "#f0f921"
            ]
           ]
          },
          "colorway": [
           "#636efa",
           "#EF553B",
           "#00cc96",
           "#ab63fa",
           "#FFA15A",
           "#19d3f3",
           "#FF6692",
           "#B6E880",
           "#FF97FF",
           "#FECB52"
          ],
          "font": {
           "color": "#2a3f5f"
          },
          "geo": {
           "bgcolor": "white",
           "lakecolor": "white",
           "landcolor": "#E5ECF6",
           "showlakes": true,
           "showland": true,
           "subunitcolor": "white"
          },
          "hoverlabel": {
           "align": "left"
          },
          "hovermode": "closest",
          "mapbox": {
           "style": "light"
          },
          "paper_bgcolor": "white",
          "plot_bgcolor": "#E5ECF6",
          "polar": {
           "angularaxis": {
            "gridcolor": "white",
            "linecolor": "white",
            "ticks": ""
           },
           "bgcolor": "#E5ECF6",
           "radialaxis": {
            "gridcolor": "white",
            "linecolor": "white",
            "ticks": ""
           }
          },
          "scene": {
           "xaxis": {
            "backgroundcolor": "#E5ECF6",
            "gridcolor": "white",
            "gridwidth": 2,
            "linecolor": "white",
            "showbackground": true,
            "ticks": "",
            "zerolinecolor": "white"
           },
           "yaxis": {
            "backgroundcolor": "#E5ECF6",
            "gridcolor": "white",
            "gridwidth": 2,
            "linecolor": "white",
            "showbackground": true,
            "ticks": "",
            "zerolinecolor": "white"
           },
           "zaxis": {
            "backgroundcolor": "#E5ECF6",
            "gridcolor": "white",
            "gridwidth": 2,
            "linecolor": "white",
            "showbackground": true,
            "ticks": "",
            "zerolinecolor": "white"
           }
          },
          "shapedefaults": {
           "line": {
            "color": "#2a3f5f"
           }
          },
          "ternary": {
           "aaxis": {
            "gridcolor": "white",
            "linecolor": "white",
            "ticks": ""
           },
           "baxis": {
            "gridcolor": "white",
            "linecolor": "white",
            "ticks": ""
           },
           "bgcolor": "#E5ECF6",
           "caxis": {
            "gridcolor": "white",
            "linecolor": "white",
            "ticks": ""
           }
          },
          "title": {
           "x": 0.05
          },
          "xaxis": {
           "automargin": true,
           "gridcolor": "white",
           "linecolor": "white",
           "ticks": "",
           "title": {
            "standoff": 15
           },
           "zerolinecolor": "white",
           "zerolinewidth": 2
          },
          "yaxis": {
           "automargin": true,
           "gridcolor": "white",
           "linecolor": "white",
           "ticks": "",
           "title": {
            "standoff": 15
           },
           "zerolinecolor": "white",
           "zerolinewidth": 2
          }
         }
        },
        "title": {
         "text": "중요고객 Funnel (Electronics)"
        },
        "xaxis": {
         "anchor": "y",
         "domain": [
          0,
          1
         ],
         "title": {
          "text": "rate"
         }
        },
        "yaxis": {
         "anchor": "x",
         "domain": [
          0,
          1
         ],
         "title": {
          "text": "stage"
         }
        }
       }
      }
     },
     "metadata": {},
     "output_type": "display_data"
    }
   ],
   "source": [
    "data = dict(\n",
    "    number=[12688,1597,710],\n",
    "    stage=['view','basket','purchase'],\n",
    "    rate=[1,0.12586696090794453,0.055958385876418666]\n",
    ")\n",
    "fig = px.funnel(data, x='rate', y='stage', title='중요고객 Funnel (Electronics)')\n",
    "fig.update_traces(texttemplate=\"%{value:,.2%}\")\n",
    "fig.show()"
   ]
  },
  {
   "cell_type": "markdown",
   "metadata": {},
   "source": [
    "## 신규고객 (3)"
   ]
  },
  {
   "cell_type": "code",
   "execution_count": 87,
   "metadata": {},
   "outputs": [
    {
     "data": {
      "text/html": [
       "<div>\n",
       "<style scoped>\n",
       "    .dataframe tbody tr th:only-of-type {\n",
       "        vertical-align: middle;\n",
       "    }\n",
       "\n",
       "    .dataframe tbody tr th {\n",
       "        vertical-align: top;\n",
       "    }\n",
       "\n",
       "    .dataframe thead th {\n",
       "        text-align: right;\n",
       "    }\n",
       "</style>\n",
       "<table border=\"1\" class=\"dataframe\">\n",
       "  <thead>\n",
       "    <tr style=\"text-align: right;\">\n",
       "      <th></th>\n",
       "      <th>CustomerID</th>\n",
       "      <th>ActionType</th>\n",
       "      <th>GoodsCode</th>\n",
       "      <th>Price</th>\n",
       "      <th>AdID</th>\n",
       "      <th>CPC</th>\n",
       "      <th>Timestamp</th>\n",
       "      <th>GoodsCode_ad</th>\n",
       "      <th>eval_type</th>\n",
       "      <th>cluster_plus</th>\n",
       "      <th>Category</th>\n",
       "      <th>OriginalPrice</th>\n",
       "      <th>Inventory</th>\n",
       "    </tr>\n",
       "  </thead>\n",
       "  <tbody>\n",
       "    <tr>\n",
       "      <th>1419</th>\n",
       "      <td>340</td>\n",
       "      <td>ad_click</td>\n",
       "      <td>1451</td>\n",
       "      <td>18470</td>\n",
       "      <td>ad_google</td>\n",
       "      <td>75.42</td>\n",
       "      <td>2022-06-13 23:20:07.502999</td>\n",
       "      <td>1451</td>\n",
       "      <td>ad_click</td>\n",
       "      <td>신규고객</td>\n",
       "      <td>Books</td>\n",
       "      <td>18470</td>\n",
       "      <td>9601</td>\n",
       "    </tr>\n",
       "    <tr>\n",
       "      <th>2081</th>\n",
       "      <td>539</td>\n",
       "      <td>ad_click</td>\n",
       "      <td>1010</td>\n",
       "      <td>19260</td>\n",
       "      <td>ad_meta</td>\n",
       "      <td>117.33</td>\n",
       "      <td>2022-05-19 09:04:11.008345</td>\n",
       "      <td>1010</td>\n",
       "      <td>ad_click</td>\n",
       "      <td>신규고객</td>\n",
       "      <td>Books</td>\n",
       "      <td>19260</td>\n",
       "      <td>5491</td>\n",
       "    </tr>\n",
       "    <tr>\n",
       "      <th>2082</th>\n",
       "      <td>539</td>\n",
       "      <td>view</td>\n",
       "      <td>1081</td>\n",
       "      <td>105310</td>\n",
       "      <td>NaN</td>\n",
       "      <td>NaN</td>\n",
       "      <td>2022-05-21 05:54:05.008345</td>\n",
       "      <td>1010</td>\n",
       "      <td>ad_view_other</td>\n",
       "      <td>신규고객</td>\n",
       "      <td>Electronics</td>\n",
       "      <td>105310</td>\n",
       "      <td>6408</td>\n",
       "    </tr>\n",
       "    <tr>\n",
       "      <th>2087</th>\n",
       "      <td>539</td>\n",
       "      <td>ad_click</td>\n",
       "      <td>1108</td>\n",
       "      <td>34540</td>\n",
       "      <td>ad_meta</td>\n",
       "      <td>280.72</td>\n",
       "      <td>2022-12-24 20:04:37.127184</td>\n",
       "      <td>1108</td>\n",
       "      <td>ad_click</td>\n",
       "      <td>신규고객</td>\n",
       "      <td>Home &amp; Garden</td>\n",
       "      <td>34540</td>\n",
       "      <td>3322</td>\n",
       "    </tr>\n",
       "    <tr>\n",
       "      <th>2088</th>\n",
       "      <td>539</td>\n",
       "      <td>ad_click</td>\n",
       "      <td>1108</td>\n",
       "      <td>34540</td>\n",
       "      <td>ad_google</td>\n",
       "      <td>201.92</td>\n",
       "      <td>2023-01-10 21:35:42.127184</td>\n",
       "      <td>1108</td>\n",
       "      <td>ad_click</td>\n",
       "      <td>신규고객</td>\n",
       "      <td>Home &amp; Garden</td>\n",
       "      <td>34540</td>\n",
       "      <td>3322</td>\n",
       "    </tr>\n",
       "    <tr>\n",
       "      <th>...</th>\n",
       "      <td>...</td>\n",
       "      <td>...</td>\n",
       "      <td>...</td>\n",
       "      <td>...</td>\n",
       "      <td>...</td>\n",
       "      <td>...</td>\n",
       "      <td>...</td>\n",
       "      <td>...</td>\n",
       "      <td>...</td>\n",
       "      <td>...</td>\n",
       "      <td>...</td>\n",
       "      <td>...</td>\n",
       "      <td>...</td>\n",
       "    </tr>\n",
       "    <tr>\n",
       "      <th>3047661</th>\n",
       "      <td>882211</td>\n",
       "      <td>view</td>\n",
       "      <td>1246</td>\n",
       "      <td>16840</td>\n",
       "      <td>NaN</td>\n",
       "      <td>NaN</td>\n",
       "      <td>2022-05-12 00:37:32.047280</td>\n",
       "      <td>1407</td>\n",
       "      <td>ad_view_other</td>\n",
       "      <td>신규고객</td>\n",
       "      <td>Books</td>\n",
       "      <td>16840</td>\n",
       "      <td>2218</td>\n",
       "    </tr>\n",
       "    <tr>\n",
       "      <th>3054439</th>\n",
       "      <td>884714</td>\n",
       "      <td>ad_click</td>\n",
       "      <td>1454</td>\n",
       "      <td>5550</td>\n",
       "      <td>ad_meta</td>\n",
       "      <td>21.28</td>\n",
       "      <td>2022-09-15 17:10:20.127184</td>\n",
       "      <td>1454</td>\n",
       "      <td>ad_click</td>\n",
       "      <td>신규고객</td>\n",
       "      <td>Books</td>\n",
       "      <td>5550</td>\n",
       "      <td>8294</td>\n",
       "    </tr>\n",
       "    <tr>\n",
       "      <th>3054440</th>\n",
       "      <td>884714</td>\n",
       "      <td>purchase</td>\n",
       "      <td>1454</td>\n",
       "      <td>5550</td>\n",
       "      <td>NaN</td>\n",
       "      <td>NaN</td>\n",
       "      <td>2022-09-19 14:23:58.127184</td>\n",
       "      <td>1454</td>\n",
       "      <td>ad_purchase</td>\n",
       "      <td>신규고객</td>\n",
       "      <td>Books</td>\n",
       "      <td>5550</td>\n",
       "      <td>8294</td>\n",
       "    </tr>\n",
       "    <tr>\n",
       "      <th>3082715</th>\n",
       "      <td>894731</td>\n",
       "      <td>ad_click</td>\n",
       "      <td>1114</td>\n",
       "      <td>75180</td>\n",
       "      <td>ad_google</td>\n",
       "      <td>160.99</td>\n",
       "      <td>2023-01-05 17:49:11.127184</td>\n",
       "      <td>1114</td>\n",
       "      <td>ad_click</td>\n",
       "      <td>신규고객</td>\n",
       "      <td>Electronics</td>\n",
       "      <td>75180</td>\n",
       "      <td>4640</td>\n",
       "    </tr>\n",
       "    <tr>\n",
       "      <th>3095089</th>\n",
       "      <td>899258</td>\n",
       "      <td>ad_click</td>\n",
       "      <td>1043</td>\n",
       "      <td>28680</td>\n",
       "      <td>ad_google</td>\n",
       "      <td>137.86</td>\n",
       "      <td>2022-05-23 04:52:54.181620</td>\n",
       "      <td>1043</td>\n",
       "      <td>ad_click</td>\n",
       "      <td>신규고객</td>\n",
       "      <td>Clothing</td>\n",
       "      <td>28680</td>\n",
       "      <td>6796</td>\n",
       "    </tr>\n",
       "  </tbody>\n",
       "</table>\n",
       "<p>448 rows × 13 columns</p>\n",
       "</div>"
      ],
      "text/plain": [
       "         CustomerID ActionType  GoodsCode   Price       AdID     CPC  \\\n",
       "1419            340   ad_click       1451   18470  ad_google   75.42   \n",
       "2081            539   ad_click       1010   19260    ad_meta  117.33   \n",
       "2082            539       view       1081  105310        NaN     NaN   \n",
       "2087            539   ad_click       1108   34540    ad_meta  280.72   \n",
       "2088            539   ad_click       1108   34540  ad_google  201.92   \n",
       "...             ...        ...        ...     ...        ...     ...   \n",
       "3047661      882211       view       1246   16840        NaN     NaN   \n",
       "3054439      884714   ad_click       1454    5550    ad_meta   21.28   \n",
       "3054440      884714   purchase       1454    5550        NaN     NaN   \n",
       "3082715      894731   ad_click       1114   75180  ad_google  160.99   \n",
       "3095089      899258   ad_click       1043   28680  ad_google  137.86   \n",
       "\n",
       "                         Timestamp  GoodsCode_ad      eval_type cluster_plus  \\\n",
       "1419    2022-06-13 23:20:07.502999          1451       ad_click         신규고객   \n",
       "2081    2022-05-19 09:04:11.008345          1010       ad_click         신규고객   \n",
       "2082    2022-05-21 05:54:05.008345          1010  ad_view_other         신규고객   \n",
       "2087    2022-12-24 20:04:37.127184          1108       ad_click         신규고객   \n",
       "2088    2023-01-10 21:35:42.127184          1108       ad_click         신규고객   \n",
       "...                            ...           ...            ...          ...   \n",
       "3047661 2022-05-12 00:37:32.047280          1407  ad_view_other         신규고객   \n",
       "3054439 2022-09-15 17:10:20.127184          1454       ad_click         신규고객   \n",
       "3054440 2022-09-19 14:23:58.127184          1454    ad_purchase         신규고객   \n",
       "3082715 2023-01-05 17:49:11.127184          1114       ad_click         신규고객   \n",
       "3095089 2022-05-23 04:52:54.181620          1043       ad_click         신규고객   \n",
       "\n",
       "              Category  OriginalPrice  Inventory  \n",
       "1419             Books          18470       9601  \n",
       "2081             Books          19260       5491  \n",
       "2082       Electronics         105310       6408  \n",
       "2087     Home & Garden          34540       3322  \n",
       "2088     Home & Garden          34540       3322  \n",
       "...                ...            ...        ...  \n",
       "3047661          Books          16840       2218  \n",
       "3054439          Books           5550       8294  \n",
       "3054440          Books           5550       8294  \n",
       "3082715    Electronics          75180       4640  \n",
       "3095089       Clothing          28680       6796  \n",
       "\n",
       "[448 rows x 13 columns]"
      ]
     },
     "execution_count": 87,
     "metadata": {},
     "output_type": "execute_result"
    }
   ],
   "source": [
    "new = ad_funnel[ad_funnel['cluster_plus']=='신규고객']\n",
    "new"
   ]
  },
  {
   "cell_type": "code",
   "execution_count": 88,
   "metadata": {},
   "outputs": [
    {
     "data": {
      "text/html": [
       "<div>\n",
       "<style scoped>\n",
       "    .dataframe tbody tr th:only-of-type {\n",
       "        vertical-align: middle;\n",
       "    }\n",
       "\n",
       "    .dataframe tbody tr th {\n",
       "        vertical-align: top;\n",
       "    }\n",
       "\n",
       "    .dataframe thead th {\n",
       "        text-align: right;\n",
       "    }\n",
       "</style>\n",
       "<table border=\"1\" class=\"dataframe\">\n",
       "  <thead>\n",
       "    <tr style=\"text-align: right;\">\n",
       "      <th></th>\n",
       "      <th>CustomerID</th>\n",
       "      <th>ActionType</th>\n",
       "      <th>GoodsCode</th>\n",
       "      <th>Price</th>\n",
       "      <th>AdID</th>\n",
       "      <th>CPC</th>\n",
       "      <th>Timestamp</th>\n",
       "      <th>GoodsCode_ad</th>\n",
       "      <th>eval_type</th>\n",
       "      <th>cluster_plus</th>\n",
       "      <th>Category</th>\n",
       "      <th>OriginalPrice</th>\n",
       "      <th>Inventory</th>\n",
       "    </tr>\n",
       "  </thead>\n",
       "  <tbody>\n",
       "    <tr>\n",
       "      <th>2082</th>\n",
       "      <td>539</td>\n",
       "      <td>view</td>\n",
       "      <td>1081</td>\n",
       "      <td>105310</td>\n",
       "      <td>NaN</td>\n",
       "      <td>NaN</td>\n",
       "      <td>2022-05-21 05:54:05.008345</td>\n",
       "      <td>1010</td>\n",
       "      <td>ad_view_other</td>\n",
       "      <td>신규고객</td>\n",
       "      <td>Electronics</td>\n",
       "      <td>105310</td>\n",
       "      <td>6408</td>\n",
       "    </tr>\n",
       "    <tr>\n",
       "      <th>5551</th>\n",
       "      <td>1456</td>\n",
       "      <td>ad_click</td>\n",
       "      <td>1256</td>\n",
       "      <td>107510</td>\n",
       "      <td>ad_google</td>\n",
       "      <td>882.44</td>\n",
       "      <td>2022-03-06 21:57:09.555126</td>\n",
       "      <td>1256</td>\n",
       "      <td>ad_click</td>\n",
       "      <td>신규고객</td>\n",
       "      <td>Electronics</td>\n",
       "      <td>107510</td>\n",
       "      <td>9228</td>\n",
       "    </tr>\n",
       "    <tr>\n",
       "      <th>5552</th>\n",
       "      <td>1456</td>\n",
       "      <td>view</td>\n",
       "      <td>1197</td>\n",
       "      <td>34900</td>\n",
       "      <td>NaN</td>\n",
       "      <td>NaN</td>\n",
       "      <td>2022-03-09 02:57:29.555126</td>\n",
       "      <td>1256</td>\n",
       "      <td>ad_view_other</td>\n",
       "      <td>신규고객</td>\n",
       "      <td>Electronics</td>\n",
       "      <td>34900</td>\n",
       "      <td>7467</td>\n",
       "    </tr>\n",
       "    <tr>\n",
       "      <th>83708</th>\n",
       "      <td>21679</td>\n",
       "      <td>ad_click</td>\n",
       "      <td>1182</td>\n",
       "      <td>106010</td>\n",
       "      <td>ad_line</td>\n",
       "      <td>514.20</td>\n",
       "      <td>2022-05-13 23:06:15.052427</td>\n",
       "      <td>1182</td>\n",
       "      <td>ad_click</td>\n",
       "      <td>신규고객</td>\n",
       "      <td>Electronics</td>\n",
       "      <td>106010</td>\n",
       "      <td>9436</td>\n",
       "    </tr>\n",
       "    <tr>\n",
       "      <th>91484</th>\n",
       "      <td>23554</td>\n",
       "      <td>ad_click</td>\n",
       "      <td>1171</td>\n",
       "      <td>104650</td>\n",
       "      <td>ad_meta</td>\n",
       "      <td>379.62</td>\n",
       "      <td>2022-10-10 02:29:09.511967</td>\n",
       "      <td>1171</td>\n",
       "      <td>ad_click</td>\n",
       "      <td>신규고객</td>\n",
       "      <td>Electronics</td>\n",
       "      <td>104650</td>\n",
       "      <td>1920</td>\n",
       "    </tr>\n",
       "    <tr>\n",
       "      <th>...</th>\n",
       "      <td>...</td>\n",
       "      <td>...</td>\n",
       "      <td>...</td>\n",
       "      <td>...</td>\n",
       "      <td>...</td>\n",
       "      <td>...</td>\n",
       "      <td>...</td>\n",
       "      <td>...</td>\n",
       "      <td>...</td>\n",
       "      <td>...</td>\n",
       "      <td>...</td>\n",
       "      <td>...</td>\n",
       "      <td>...</td>\n",
       "    </tr>\n",
       "    <tr>\n",
       "      <th>2968048</th>\n",
       "      <td>852930</td>\n",
       "      <td>ad_click</td>\n",
       "      <td>1018</td>\n",
       "      <td>124990</td>\n",
       "      <td>ad_google</td>\n",
       "      <td>973.96</td>\n",
       "      <td>2022-03-24 03:44:59.127184</td>\n",
       "      <td>1018</td>\n",
       "      <td>ad_click</td>\n",
       "      <td>신규고객</td>\n",
       "      <td>Electronics</td>\n",
       "      <td>124990</td>\n",
       "      <td>3679</td>\n",
       "    </tr>\n",
       "    <tr>\n",
       "      <th>2988403</th>\n",
       "      <td>860743</td>\n",
       "      <td>ad_click</td>\n",
       "      <td>1358</td>\n",
       "      <td>48200</td>\n",
       "      <td>ad_google</td>\n",
       "      <td>147.38</td>\n",
       "      <td>2022-12-20 16:22:19.127184</td>\n",
       "      <td>1358</td>\n",
       "      <td>ad_click</td>\n",
       "      <td>신규고객</td>\n",
       "      <td>Electronics</td>\n",
       "      <td>48200</td>\n",
       "      <td>1791</td>\n",
       "    </tr>\n",
       "    <tr>\n",
       "      <th>3009455</th>\n",
       "      <td>868283</td>\n",
       "      <td>ad_click</td>\n",
       "      <td>1221</td>\n",
       "      <td>88140</td>\n",
       "      <td>ad_google</td>\n",
       "      <td>453.33</td>\n",
       "      <td>2022-12-08 06:52:53.127184</td>\n",
       "      <td>1221</td>\n",
       "      <td>ad_click</td>\n",
       "      <td>신규고객</td>\n",
       "      <td>Electronics</td>\n",
       "      <td>88140</td>\n",
       "      <td>1824</td>\n",
       "    </tr>\n",
       "    <tr>\n",
       "      <th>3047640</th>\n",
       "      <td>882211</td>\n",
       "      <td>ad_click</td>\n",
       "      <td>1234</td>\n",
       "      <td>93910</td>\n",
       "      <td>ad_meta</td>\n",
       "      <td>855.93</td>\n",
       "      <td>2022-03-13 19:31:42.047280</td>\n",
       "      <td>1234</td>\n",
       "      <td>ad_click</td>\n",
       "      <td>신규고객</td>\n",
       "      <td>Electronics</td>\n",
       "      <td>93910</td>\n",
       "      <td>8312</td>\n",
       "    </tr>\n",
       "    <tr>\n",
       "      <th>3082715</th>\n",
       "      <td>894731</td>\n",
       "      <td>ad_click</td>\n",
       "      <td>1114</td>\n",
       "      <td>75180</td>\n",
       "      <td>ad_google</td>\n",
       "      <td>160.99</td>\n",
       "      <td>2023-01-05 17:49:11.127184</td>\n",
       "      <td>1114</td>\n",
       "      <td>ad_click</td>\n",
       "      <td>신규고객</td>\n",
       "      <td>Electronics</td>\n",
       "      <td>75180</td>\n",
       "      <td>4640</td>\n",
       "    </tr>\n",
       "  </tbody>\n",
       "</table>\n",
       "<p>116 rows × 13 columns</p>\n",
       "</div>"
      ],
      "text/plain": [
       "         CustomerID ActionType  GoodsCode   Price       AdID     CPC  \\\n",
       "2082            539       view       1081  105310        NaN     NaN   \n",
       "5551           1456   ad_click       1256  107510  ad_google  882.44   \n",
       "5552           1456       view       1197   34900        NaN     NaN   \n",
       "83708         21679   ad_click       1182  106010    ad_line  514.20   \n",
       "91484         23554   ad_click       1171  104650    ad_meta  379.62   \n",
       "...             ...        ...        ...     ...        ...     ...   \n",
       "2968048      852930   ad_click       1018  124990  ad_google  973.96   \n",
       "2988403      860743   ad_click       1358   48200  ad_google  147.38   \n",
       "3009455      868283   ad_click       1221   88140  ad_google  453.33   \n",
       "3047640      882211   ad_click       1234   93910    ad_meta  855.93   \n",
       "3082715      894731   ad_click       1114   75180  ad_google  160.99   \n",
       "\n",
       "                         Timestamp  GoodsCode_ad      eval_type cluster_plus  \\\n",
       "2082    2022-05-21 05:54:05.008345          1010  ad_view_other         신규고객   \n",
       "5551    2022-03-06 21:57:09.555126          1256       ad_click         신규고객   \n",
       "5552    2022-03-09 02:57:29.555126          1256  ad_view_other         신규고객   \n",
       "83708   2022-05-13 23:06:15.052427          1182       ad_click         신규고객   \n",
       "91484   2022-10-10 02:29:09.511967          1171       ad_click         신규고객   \n",
       "...                            ...           ...            ...          ...   \n",
       "2968048 2022-03-24 03:44:59.127184          1018       ad_click         신규고객   \n",
       "2988403 2022-12-20 16:22:19.127184          1358       ad_click         신규고객   \n",
       "3009455 2022-12-08 06:52:53.127184          1221       ad_click         신규고객   \n",
       "3047640 2022-03-13 19:31:42.047280          1234       ad_click         신규고객   \n",
       "3082715 2023-01-05 17:49:11.127184          1114       ad_click         신규고객   \n",
       "\n",
       "            Category  OriginalPrice  Inventory  \n",
       "2082     Electronics         105310       6408  \n",
       "5551     Electronics         107510       9228  \n",
       "5552     Electronics          34900       7467  \n",
       "83708    Electronics         106010       9436  \n",
       "91484    Electronics         104650       1920  \n",
       "...              ...            ...        ...  \n",
       "2968048  Electronics         124990       3679  \n",
       "2988403  Electronics          48200       1791  \n",
       "3009455  Electronics          88140       1824  \n",
       "3047640  Electronics          93910       8312  \n",
       "3082715  Electronics          75180       4640  \n",
       "\n",
       "[116 rows x 13 columns]"
      ]
     },
     "execution_count": 88,
     "metadata": {},
     "output_type": "execute_result"
    }
   ],
   "source": [
    "new = new[new['Category']=='Electronics']\n",
    "new"
   ]
  },
  {
   "cell_type": "code",
   "execution_count": 89,
   "metadata": {},
   "outputs": [
    {
     "name": "stdout",
     "output_type": "stream",
     "text": [
      "퍼널 카운트: {'view': 99, 'basket': 11, 'purchase': 4}\n"
     ]
    }
   ],
   "source": [
    "new_ad_funnel_adpurchase_counts1 = {'view': 0, 'basket': 0, 'purchase': 0}\n",
    "\n",
    "# 퍼널을 계산\n",
    "for idx, row in new.iterrows():\n",
    "    if row['ActionType'] == 'ad_click':\n",
    "        new_ad_funnel_adpurchase_counts1['view'] += 1\n",
    "    elif row['eval_type'] == 'ad_view':\n",
    "        new_ad_funnel_adpurchase_counts1['view'] += 1\n",
    "    elif row['eval_type'] == 'ad_basket':\n",
    "        new_ad_funnel_adpurchase_counts1['basket'] += 1\n",
    "        new_ad_funnel_adpurchase_counts1['view'] += 1  \n",
    "    elif row['eval_type'] == 'ad_purchase':\n",
    "        new_ad_funnel_adpurchase_counts1['purchase'] += 1\n",
    "        new_ad_funnel_adpurchase_counts1['view'] += 1\n",
    "        new_ad_funnel_adpurchase_counts1['basket'] += 1\n",
    "\n",
    "print(\"퍼널 카운트:\", new_ad_funnel_adpurchase_counts1)\n"
   ]
  },
  {
   "cell_type": "code",
   "execution_count": 90,
   "metadata": {},
   "outputs": [
    {
     "name": "stdout",
     "output_type": "stream",
     "text": [
      "View Count: 99\n",
      "Basket Count: 11\n",
      "Purchase Count: 4\n",
      "View to Basket Conversion Rate: 0.1111111111111111\n",
      "Basket to Purchase Conversion Rate: 0.36363636363636365\n",
      "View to Purchase Conversion Rate: 0.04040404040404041\n"
     ]
    }
   ],
   "source": [
    "view_count_new_elec = 99\n",
    "basket_count_new_elec = 11\n",
    "purchase_count_new_elec = 4\n",
    "\n",
    "\n",
    "# 각 단계에서 다음 단계로의 전환율을 계산합니다.\n",
    "basket_to_purchase_rate_new_elec = purchase_count_new_elec / basket_count_new_elec\n",
    "view_to_basket_rate_ad_new_elec = basket_count_new_elec / view_count_new_elec\n",
    "view_to_purchase_rate_new_elec = purchase_count_new_elec / view_count_new_elec\n",
    "\n",
    "# 결과를 출력합니다.\n",
    "print(\"View Count:\", view_count_new_elec)\n",
    "print(\"Basket Count:\", basket_count_new_elec)\n",
    "print(\"Purchase Count:\", purchase_count_new_elec)\n",
    "print(\"View to Basket Conversion Rate:\", view_to_basket_rate_ad_new_elec)\n",
    "print(\"Basket to Purchase Conversion Rate:\", basket_to_purchase_rate_new_elec)\n",
    "print(\"View to Purchase Conversion Rate:\",view_to_purchase_rate_new_elec)\n"
   ]
  },
  {
   "cell_type": "code",
   "execution_count": 91,
   "metadata": {},
   "outputs": [
    {
     "data": {
      "application/vnd.plotly.v1+json": {
       "config": {
        "plotlyServerURL": "https://plot.ly"
       },
       "data": [
        {
         "hovertemplate": "rate=%{x}<br>stage=%{y}<extra></extra>",
         "legendgroup": "",
         "marker": {
          "color": "#636efa"
         },
         "name": "",
         "orientation": "h",
         "showlegend": false,
         "texttemplate": "%{value:,.2%}",
         "type": "funnel",
         "x": [
          1,
          0.1111111111111111,
          0.04040404040404041
         ],
         "xaxis": "x",
         "y": [
          "view",
          "basket",
          "purchase"
         ],
         "yaxis": "y"
        }
       ],
       "layout": {
        "legend": {
         "tracegroupgap": 0
        },
        "template": {
         "data": {
          "bar": [
           {
            "error_x": {
             "color": "#2a3f5f"
            },
            "error_y": {
             "color": "#2a3f5f"
            },
            "marker": {
             "line": {
              "color": "#E5ECF6",
              "width": 0.5
             },
             "pattern": {
              "fillmode": "overlay",
              "size": 10,
              "solidity": 0.2
             }
            },
            "type": "bar"
           }
          ],
          "barpolar": [
           {
            "marker": {
             "line": {
              "color": "#E5ECF6",
              "width": 0.5
             },
             "pattern": {
              "fillmode": "overlay",
              "size": 10,
              "solidity": 0.2
             }
            },
            "type": "barpolar"
           }
          ],
          "carpet": [
           {
            "aaxis": {
             "endlinecolor": "#2a3f5f",
             "gridcolor": "white",
             "linecolor": "white",
             "minorgridcolor": "white",
             "startlinecolor": "#2a3f5f"
            },
            "baxis": {
             "endlinecolor": "#2a3f5f",
             "gridcolor": "white",
             "linecolor": "white",
             "minorgridcolor": "white",
             "startlinecolor": "#2a3f5f"
            },
            "type": "carpet"
           }
          ],
          "choropleth": [
           {
            "colorbar": {
             "outlinewidth": 0,
             "ticks": ""
            },
            "type": "choropleth"
           }
          ],
          "contour": [
           {
            "colorbar": {
             "outlinewidth": 0,
             "ticks": ""
            },
            "colorscale": [
             [
              0,
              "#0d0887"
             ],
             [
              0.1111111111111111,
              "#46039f"
             ],
             [
              0.2222222222222222,
              "#7201a8"
             ],
             [
              0.3333333333333333,
              "#9c179e"
             ],
             [
              0.4444444444444444,
              "#bd3786"
             ],
             [
              0.5555555555555556,
              "#d8576b"
             ],
             [
              0.6666666666666666,
              "#ed7953"
             ],
             [
              0.7777777777777778,
              "#fb9f3a"
             ],
             [
              0.8888888888888888,
              "#fdca26"
             ],
             [
              1,
              "#f0f921"
             ]
            ],
            "type": "contour"
           }
          ],
          "contourcarpet": [
           {
            "colorbar": {
             "outlinewidth": 0,
             "ticks": ""
            },
            "type": "contourcarpet"
           }
          ],
          "heatmap": [
           {
            "colorbar": {
             "outlinewidth": 0,
             "ticks": ""
            },
            "colorscale": [
             [
              0,
              "#0d0887"
             ],
             [
              0.1111111111111111,
              "#46039f"
             ],
             [
              0.2222222222222222,
              "#7201a8"
             ],
             [
              0.3333333333333333,
              "#9c179e"
             ],
             [
              0.4444444444444444,
              "#bd3786"
             ],
             [
              0.5555555555555556,
              "#d8576b"
             ],
             [
              0.6666666666666666,
              "#ed7953"
             ],
             [
              0.7777777777777778,
              "#fb9f3a"
             ],
             [
              0.8888888888888888,
              "#fdca26"
             ],
             [
              1,
              "#f0f921"
             ]
            ],
            "type": "heatmap"
           }
          ],
          "heatmapgl": [
           {
            "colorbar": {
             "outlinewidth": 0,
             "ticks": ""
            },
            "colorscale": [
             [
              0,
              "#0d0887"
             ],
             [
              0.1111111111111111,
              "#46039f"
             ],
             [
              0.2222222222222222,
              "#7201a8"
             ],
             [
              0.3333333333333333,
              "#9c179e"
             ],
             [
              0.4444444444444444,
              "#bd3786"
             ],
             [
              0.5555555555555556,
              "#d8576b"
             ],
             [
              0.6666666666666666,
              "#ed7953"
             ],
             [
              0.7777777777777778,
              "#fb9f3a"
             ],
             [
              0.8888888888888888,
              "#fdca26"
             ],
             [
              1,
              "#f0f921"
             ]
            ],
            "type": "heatmapgl"
           }
          ],
          "histogram": [
           {
            "marker": {
             "pattern": {
              "fillmode": "overlay",
              "size": 10,
              "solidity": 0.2
             }
            },
            "type": "histogram"
           }
          ],
          "histogram2d": [
           {
            "colorbar": {
             "outlinewidth": 0,
             "ticks": ""
            },
            "colorscale": [
             [
              0,
              "#0d0887"
             ],
             [
              0.1111111111111111,
              "#46039f"
             ],
             [
              0.2222222222222222,
              "#7201a8"
             ],
             [
              0.3333333333333333,
              "#9c179e"
             ],
             [
              0.4444444444444444,
              "#bd3786"
             ],
             [
              0.5555555555555556,
              "#d8576b"
             ],
             [
              0.6666666666666666,
              "#ed7953"
             ],
             [
              0.7777777777777778,
              "#fb9f3a"
             ],
             [
              0.8888888888888888,
              "#fdca26"
             ],
             [
              1,
              "#f0f921"
             ]
            ],
            "type": "histogram2d"
           }
          ],
          "histogram2dcontour": [
           {
            "colorbar": {
             "outlinewidth": 0,
             "ticks": ""
            },
            "colorscale": [
             [
              0,
              "#0d0887"
             ],
             [
              0.1111111111111111,
              "#46039f"
             ],
             [
              0.2222222222222222,
              "#7201a8"
             ],
             [
              0.3333333333333333,
              "#9c179e"
             ],
             [
              0.4444444444444444,
              "#bd3786"
             ],
             [
              0.5555555555555556,
              "#d8576b"
             ],
             [
              0.6666666666666666,
              "#ed7953"
             ],
             [
              0.7777777777777778,
              "#fb9f3a"
             ],
             [
              0.8888888888888888,
              "#fdca26"
             ],
             [
              1,
              "#f0f921"
             ]
            ],
            "type": "histogram2dcontour"
           }
          ],
          "mesh3d": [
           {
            "colorbar": {
             "outlinewidth": 0,
             "ticks": ""
            },
            "type": "mesh3d"
           }
          ],
          "parcoords": [
           {
            "line": {
             "colorbar": {
              "outlinewidth": 0,
              "ticks": ""
             }
            },
            "type": "parcoords"
           }
          ],
          "pie": [
           {
            "automargin": true,
            "type": "pie"
           }
          ],
          "scatter": [
           {
            "fillpattern": {
             "fillmode": "overlay",
             "size": 10,
             "solidity": 0.2
            },
            "type": "scatter"
           }
          ],
          "scatter3d": [
           {
            "line": {
             "colorbar": {
              "outlinewidth": 0,
              "ticks": ""
             }
            },
            "marker": {
             "colorbar": {
              "outlinewidth": 0,
              "ticks": ""
             }
            },
            "type": "scatter3d"
           }
          ],
          "scattercarpet": [
           {
            "marker": {
             "colorbar": {
              "outlinewidth": 0,
              "ticks": ""
             }
            },
            "type": "scattercarpet"
           }
          ],
          "scattergeo": [
           {
            "marker": {
             "colorbar": {
              "outlinewidth": 0,
              "ticks": ""
             }
            },
            "type": "scattergeo"
           }
          ],
          "scattergl": [
           {
            "marker": {
             "colorbar": {
              "outlinewidth": 0,
              "ticks": ""
             }
            },
            "type": "scattergl"
           }
          ],
          "scattermapbox": [
           {
            "marker": {
             "colorbar": {
              "outlinewidth": 0,
              "ticks": ""
             }
            },
            "type": "scattermapbox"
           }
          ],
          "scatterpolar": [
           {
            "marker": {
             "colorbar": {
              "outlinewidth": 0,
              "ticks": ""
             }
            },
            "type": "scatterpolar"
           }
          ],
          "scatterpolargl": [
           {
            "marker": {
             "colorbar": {
              "outlinewidth": 0,
              "ticks": ""
             }
            },
            "type": "scatterpolargl"
           }
          ],
          "scatterternary": [
           {
            "marker": {
             "colorbar": {
              "outlinewidth": 0,
              "ticks": ""
             }
            },
            "type": "scatterternary"
           }
          ],
          "surface": [
           {
            "colorbar": {
             "outlinewidth": 0,
             "ticks": ""
            },
            "colorscale": [
             [
              0,
              "#0d0887"
             ],
             [
              0.1111111111111111,
              "#46039f"
             ],
             [
              0.2222222222222222,
              "#7201a8"
             ],
             [
              0.3333333333333333,
              "#9c179e"
             ],
             [
              0.4444444444444444,
              "#bd3786"
             ],
             [
              0.5555555555555556,
              "#d8576b"
             ],
             [
              0.6666666666666666,
              "#ed7953"
             ],
             [
              0.7777777777777778,
              "#fb9f3a"
             ],
             [
              0.8888888888888888,
              "#fdca26"
             ],
             [
              1,
              "#f0f921"
             ]
            ],
            "type": "surface"
           }
          ],
          "table": [
           {
            "cells": {
             "fill": {
              "color": "#EBF0F8"
             },
             "line": {
              "color": "white"
             }
            },
            "header": {
             "fill": {
              "color": "#C8D4E3"
             },
             "line": {
              "color": "white"
             }
            },
            "type": "table"
           }
          ]
         },
         "layout": {
          "annotationdefaults": {
           "arrowcolor": "#2a3f5f",
           "arrowhead": 0,
           "arrowwidth": 1
          },
          "autotypenumbers": "strict",
          "coloraxis": {
           "colorbar": {
            "outlinewidth": 0,
            "ticks": ""
           }
          },
          "colorscale": {
           "diverging": [
            [
             0,
             "#8e0152"
            ],
            [
             0.1,
             "#c51b7d"
            ],
            [
             0.2,
             "#de77ae"
            ],
            [
             0.3,
             "#f1b6da"
            ],
            [
             0.4,
             "#fde0ef"
            ],
            [
             0.5,
             "#f7f7f7"
            ],
            [
             0.6,
             "#e6f5d0"
            ],
            [
             0.7,
             "#b8e186"
            ],
            [
             0.8,
             "#7fbc41"
            ],
            [
             0.9,
             "#4d9221"
            ],
            [
             1,
             "#276419"
            ]
           ],
           "sequential": [
            [
             0,
             "#0d0887"
            ],
            [
             0.1111111111111111,
             "#46039f"
            ],
            [
             0.2222222222222222,
             "#7201a8"
            ],
            [
             0.3333333333333333,
             "#9c179e"
            ],
            [
             0.4444444444444444,
             "#bd3786"
            ],
            [
             0.5555555555555556,
             "#d8576b"
            ],
            [
             0.6666666666666666,
             "#ed7953"
            ],
            [
             0.7777777777777778,
             "#fb9f3a"
            ],
            [
             0.8888888888888888,
             "#fdca26"
            ],
            [
             1,
             "#f0f921"
            ]
           ],
           "sequentialminus": [
            [
             0,
             "#0d0887"
            ],
            [
             0.1111111111111111,
             "#46039f"
            ],
            [
             0.2222222222222222,
             "#7201a8"
            ],
            [
             0.3333333333333333,
             "#9c179e"
            ],
            [
             0.4444444444444444,
             "#bd3786"
            ],
            [
             0.5555555555555556,
             "#d8576b"
            ],
            [
             0.6666666666666666,
             "#ed7953"
            ],
            [
             0.7777777777777778,
             "#fb9f3a"
            ],
            [
             0.8888888888888888,
             "#fdca26"
            ],
            [
             1,
             "#f0f921"
            ]
           ]
          },
          "colorway": [
           "#636efa",
           "#EF553B",
           "#00cc96",
           "#ab63fa",
           "#FFA15A",
           "#19d3f3",
           "#FF6692",
           "#B6E880",
           "#FF97FF",
           "#FECB52"
          ],
          "font": {
           "color": "#2a3f5f"
          },
          "geo": {
           "bgcolor": "white",
           "lakecolor": "white",
           "landcolor": "#E5ECF6",
           "showlakes": true,
           "showland": true,
           "subunitcolor": "white"
          },
          "hoverlabel": {
           "align": "left"
          },
          "hovermode": "closest",
          "mapbox": {
           "style": "light"
          },
          "paper_bgcolor": "white",
          "plot_bgcolor": "#E5ECF6",
          "polar": {
           "angularaxis": {
            "gridcolor": "white",
            "linecolor": "white",
            "ticks": ""
           },
           "bgcolor": "#E5ECF6",
           "radialaxis": {
            "gridcolor": "white",
            "linecolor": "white",
            "ticks": ""
           }
          },
          "scene": {
           "xaxis": {
            "backgroundcolor": "#E5ECF6",
            "gridcolor": "white",
            "gridwidth": 2,
            "linecolor": "white",
            "showbackground": true,
            "ticks": "",
            "zerolinecolor": "white"
           },
           "yaxis": {
            "backgroundcolor": "#E5ECF6",
            "gridcolor": "white",
            "gridwidth": 2,
            "linecolor": "white",
            "showbackground": true,
            "ticks": "",
            "zerolinecolor": "white"
           },
           "zaxis": {
            "backgroundcolor": "#E5ECF6",
            "gridcolor": "white",
            "gridwidth": 2,
            "linecolor": "white",
            "showbackground": true,
            "ticks": "",
            "zerolinecolor": "white"
           }
          },
          "shapedefaults": {
           "line": {
            "color": "#2a3f5f"
           }
          },
          "ternary": {
           "aaxis": {
            "gridcolor": "white",
            "linecolor": "white",
            "ticks": ""
           },
           "baxis": {
            "gridcolor": "white",
            "linecolor": "white",
            "ticks": ""
           },
           "bgcolor": "#E5ECF6",
           "caxis": {
            "gridcolor": "white",
            "linecolor": "white",
            "ticks": ""
           }
          },
          "title": {
           "x": 0.05
          },
          "xaxis": {
           "automargin": true,
           "gridcolor": "white",
           "linecolor": "white",
           "ticks": "",
           "title": {
            "standoff": 15
           },
           "zerolinecolor": "white",
           "zerolinewidth": 2
          },
          "yaxis": {
           "automargin": true,
           "gridcolor": "white",
           "linecolor": "white",
           "ticks": "",
           "title": {
            "standoff": 15
           },
           "zerolinecolor": "white",
           "zerolinewidth": 2
          }
         }
        },
        "title": {
         "text": "신규고객 Funnel (Electronics)"
        },
        "xaxis": {
         "anchor": "y",
         "domain": [
          0,
          1
         ],
         "title": {
          "text": "rate"
         }
        },
        "yaxis": {
         "anchor": "x",
         "domain": [
          0,
          1
         ],
         "title": {
          "text": "stage"
         }
        }
       }
      }
     },
     "metadata": {},
     "output_type": "display_data"
    }
   ],
   "source": [
    "data = dict(\n",
    "    number=[99,11,4],\n",
    "    stage=['view','basket','purchase'],\n",
    "    rate=[1,0.1111111111111111,0.04040404040404041]\n",
    ")\n",
    "fig = px.funnel(data, x='rate', y='stage', title='신규고객 Funnel (Electronics)')\n",
    "fig.update_traces(texttemplate=\"%{value:,.2%}\")\n",
    "fig.show()"
   ]
  },
  {
   "cell_type": "markdown",
   "metadata": {},
   "source": [
    "## 일반고객 (4)"
   ]
  },
  {
   "cell_type": "code",
   "execution_count": 92,
   "metadata": {},
   "outputs": [
    {
     "data": {
      "text/html": [
       "<div>\n",
       "<style scoped>\n",
       "    .dataframe tbody tr th:only-of-type {\n",
       "        vertical-align: middle;\n",
       "    }\n",
       "\n",
       "    .dataframe tbody tr th {\n",
       "        vertical-align: top;\n",
       "    }\n",
       "\n",
       "    .dataframe thead th {\n",
       "        text-align: right;\n",
       "    }\n",
       "</style>\n",
       "<table border=\"1\" class=\"dataframe\">\n",
       "  <thead>\n",
       "    <tr style=\"text-align: right;\">\n",
       "      <th></th>\n",
       "      <th>CustomerID</th>\n",
       "      <th>ActionType</th>\n",
       "      <th>GoodsCode</th>\n",
       "      <th>Price</th>\n",
       "      <th>AdID</th>\n",
       "      <th>CPC</th>\n",
       "      <th>Timestamp</th>\n",
       "      <th>GoodsCode_ad</th>\n",
       "      <th>eval_type</th>\n",
       "      <th>cluster_plus</th>\n",
       "      <th>Category</th>\n",
       "      <th>OriginalPrice</th>\n",
       "      <th>Inventory</th>\n",
       "    </tr>\n",
       "  </thead>\n",
       "  <tbody>\n",
       "    <tr>\n",
       "      <th>7</th>\n",
       "      <td>6</td>\n",
       "      <td>ad_click</td>\n",
       "      <td>1437</td>\n",
       "      <td>35290</td>\n",
       "      <td>ad_google</td>\n",
       "      <td>182.31</td>\n",
       "      <td>2022-05-07 21:00:59.166991</td>\n",
       "      <td>1437</td>\n",
       "      <td>ad_click</td>\n",
       "      <td>일반고객</td>\n",
       "      <td>Home &amp; Garden</td>\n",
       "      <td>35290</td>\n",
       "      <td>3056</td>\n",
       "    </tr>\n",
       "    <tr>\n",
       "      <th>8</th>\n",
       "      <td>6</td>\n",
       "      <td>view</td>\n",
       "      <td>1437</td>\n",
       "      <td>35290</td>\n",
       "      <td>NaN</td>\n",
       "      <td>NaN</td>\n",
       "      <td>2022-05-12 10:25:41.166991</td>\n",
       "      <td>1437</td>\n",
       "      <td>ad_view</td>\n",
       "      <td>일반고객</td>\n",
       "      <td>Home &amp; Garden</td>\n",
       "      <td>35290</td>\n",
       "      <td>3056</td>\n",
       "    </tr>\n",
       "    <tr>\n",
       "      <th>37</th>\n",
       "      <td>13</td>\n",
       "      <td>ad_click</td>\n",
       "      <td>1090</td>\n",
       "      <td>21100</td>\n",
       "      <td>ad_google</td>\n",
       "      <td>158.68</td>\n",
       "      <td>2022-03-11 18:14:48.855443</td>\n",
       "      <td>1090</td>\n",
       "      <td>ad_click</td>\n",
       "      <td>일반고객</td>\n",
       "      <td>Home &amp; Garden</td>\n",
       "      <td>21100</td>\n",
       "      <td>8617</td>\n",
       "    </tr>\n",
       "    <tr>\n",
       "      <th>38</th>\n",
       "      <td>13</td>\n",
       "      <td>view</td>\n",
       "      <td>1203</td>\n",
       "      <td>85290</td>\n",
       "      <td>NaN</td>\n",
       "      <td>NaN</td>\n",
       "      <td>2022-03-17 14:31:19.855443</td>\n",
       "      <td>1090</td>\n",
       "      <td>ad_view_other</td>\n",
       "      <td>일반고객</td>\n",
       "      <td>Electronics</td>\n",
       "      <td>85290</td>\n",
       "      <td>9173</td>\n",
       "    </tr>\n",
       "    <tr>\n",
       "      <th>56</th>\n",
       "      <td>14</td>\n",
       "      <td>ad_click</td>\n",
       "      <td>1000</td>\n",
       "      <td>12580</td>\n",
       "      <td>ad_google</td>\n",
       "      <td>104.04</td>\n",
       "      <td>2022-03-07 10:33:24.548570</td>\n",
       "      <td>1000</td>\n",
       "      <td>ad_click</td>\n",
       "      <td>일반고객</td>\n",
       "      <td>Books</td>\n",
       "      <td>12580</td>\n",
       "      <td>4452</td>\n",
       "    </tr>\n",
       "    <tr>\n",
       "      <th>...</th>\n",
       "      <td>...</td>\n",
       "      <td>...</td>\n",
       "      <td>...</td>\n",
       "      <td>...</td>\n",
       "      <td>...</td>\n",
       "      <td>...</td>\n",
       "      <td>...</td>\n",
       "      <td>...</td>\n",
       "      <td>...</td>\n",
       "      <td>...</td>\n",
       "      <td>...</td>\n",
       "      <td>...</td>\n",
       "      <td>...</td>\n",
       "    </tr>\n",
       "    <tr>\n",
       "      <th>3096780</th>\n",
       "      <td>899950</td>\n",
       "      <td>view</td>\n",
       "      <td>1278</td>\n",
       "      <td>42680</td>\n",
       "      <td>NaN</td>\n",
       "      <td>NaN</td>\n",
       "      <td>2022-06-14 06:06:39.122857</td>\n",
       "      <td>1467</td>\n",
       "      <td>ad_view_other</td>\n",
       "      <td>일반고객</td>\n",
       "      <td>Home &amp; Garden</td>\n",
       "      <td>42680</td>\n",
       "      <td>3604</td>\n",
       "    </tr>\n",
       "    <tr>\n",
       "      <th>3096916</th>\n",
       "      <td>899999</td>\n",
       "      <td>ad_click</td>\n",
       "      <td>1059</td>\n",
       "      <td>21230</td>\n",
       "      <td>ad_meta</td>\n",
       "      <td>71.35</td>\n",
       "      <td>2022-04-06 21:09:47.722389</td>\n",
       "      <td>1059</td>\n",
       "      <td>ad_click</td>\n",
       "      <td>일반고객</td>\n",
       "      <td>Clothing</td>\n",
       "      <td>21230</td>\n",
       "      <td>4629</td>\n",
       "    </tr>\n",
       "    <tr>\n",
       "      <th>3096917</th>\n",
       "      <td>899999</td>\n",
       "      <td>view</td>\n",
       "      <td>1271</td>\n",
       "      <td>92940</td>\n",
       "      <td>NaN</td>\n",
       "      <td>NaN</td>\n",
       "      <td>2022-04-10 18:07:56.722389</td>\n",
       "      <td>1059</td>\n",
       "      <td>ad_view_other</td>\n",
       "      <td>일반고객</td>\n",
       "      <td>Electronics</td>\n",
       "      <td>92940</td>\n",
       "      <td>8314</td>\n",
       "    </tr>\n",
       "    <tr>\n",
       "      <th>3096923</th>\n",
       "      <td>899999</td>\n",
       "      <td>ad_click</td>\n",
       "      <td>1059</td>\n",
       "      <td>21230</td>\n",
       "      <td>ad_google</td>\n",
       "      <td>94.14</td>\n",
       "      <td>2022-05-06 00:08:17.722389</td>\n",
       "      <td>1059</td>\n",
       "      <td>ad_click</td>\n",
       "      <td>일반고객</td>\n",
       "      <td>Clothing</td>\n",
       "      <td>21230</td>\n",
       "      <td>4629</td>\n",
       "    </tr>\n",
       "    <tr>\n",
       "      <th>3096924</th>\n",
       "      <td>899999</td>\n",
       "      <td>basket</td>\n",
       "      <td>1059</td>\n",
       "      <td>21230</td>\n",
       "      <td>NaN</td>\n",
       "      <td>NaN</td>\n",
       "      <td>2022-05-11 10:09:46.722389</td>\n",
       "      <td>1059</td>\n",
       "      <td>ad_basket</td>\n",
       "      <td>일반고객</td>\n",
       "      <td>Clothing</td>\n",
       "      <td>21230</td>\n",
       "      <td>4629</td>\n",
       "    </tr>\n",
       "  </tbody>\n",
       "</table>\n",
       "<p>100065 rows × 13 columns</p>\n",
       "</div>"
      ],
      "text/plain": [
       "         CustomerID ActionType  GoodsCode  Price       AdID     CPC  \\\n",
       "7                 6   ad_click       1437  35290  ad_google  182.31   \n",
       "8                 6       view       1437  35290        NaN     NaN   \n",
       "37               13   ad_click       1090  21100  ad_google  158.68   \n",
       "38               13       view       1203  85290        NaN     NaN   \n",
       "56               14   ad_click       1000  12580  ad_google  104.04   \n",
       "...             ...        ...        ...    ...        ...     ...   \n",
       "3096780      899950       view       1278  42680        NaN     NaN   \n",
       "3096916      899999   ad_click       1059  21230    ad_meta   71.35   \n",
       "3096917      899999       view       1271  92940        NaN     NaN   \n",
       "3096923      899999   ad_click       1059  21230  ad_google   94.14   \n",
       "3096924      899999     basket       1059  21230        NaN     NaN   \n",
       "\n",
       "                         Timestamp  GoodsCode_ad      eval_type cluster_plus  \\\n",
       "7       2022-05-07 21:00:59.166991          1437       ad_click         일반고객   \n",
       "8       2022-05-12 10:25:41.166991          1437        ad_view         일반고객   \n",
       "37      2022-03-11 18:14:48.855443          1090       ad_click         일반고객   \n",
       "38      2022-03-17 14:31:19.855443          1090  ad_view_other         일반고객   \n",
       "56      2022-03-07 10:33:24.548570          1000       ad_click         일반고객   \n",
       "...                            ...           ...            ...          ...   \n",
       "3096780 2022-06-14 06:06:39.122857          1467  ad_view_other         일반고객   \n",
       "3096916 2022-04-06 21:09:47.722389          1059       ad_click         일반고객   \n",
       "3096917 2022-04-10 18:07:56.722389          1059  ad_view_other         일반고객   \n",
       "3096923 2022-05-06 00:08:17.722389          1059       ad_click         일반고객   \n",
       "3096924 2022-05-11 10:09:46.722389          1059      ad_basket         일반고객   \n",
       "\n",
       "              Category  OriginalPrice  Inventory  \n",
       "7        Home & Garden          35290       3056  \n",
       "8        Home & Garden          35290       3056  \n",
       "37       Home & Garden          21100       8617  \n",
       "38         Electronics          85290       9173  \n",
       "56               Books          12580       4452  \n",
       "...                ...            ...        ...  \n",
       "3096780  Home & Garden          42680       3604  \n",
       "3096916       Clothing          21230       4629  \n",
       "3096917    Electronics          92940       8314  \n",
       "3096923       Clothing          21230       4629  \n",
       "3096924       Clothing          21230       4629  \n",
       "\n",
       "[100065 rows x 13 columns]"
      ]
     },
     "execution_count": 92,
     "metadata": {},
     "output_type": "execute_result"
    }
   ],
   "source": [
    "normal = ad_funnel[ad_funnel['cluster_plus']=='일반고객']\n",
    "normal"
   ]
  },
  {
   "cell_type": "code",
   "execution_count": 93,
   "metadata": {},
   "outputs": [
    {
     "data": {
      "text/html": [
       "<div>\n",
       "<style scoped>\n",
       "    .dataframe tbody tr th:only-of-type {\n",
       "        vertical-align: middle;\n",
       "    }\n",
       "\n",
       "    .dataframe tbody tr th {\n",
       "        vertical-align: top;\n",
       "    }\n",
       "\n",
       "    .dataframe thead th {\n",
       "        text-align: right;\n",
       "    }\n",
       "</style>\n",
       "<table border=\"1\" class=\"dataframe\">\n",
       "  <thead>\n",
       "    <tr style=\"text-align: right;\">\n",
       "      <th></th>\n",
       "      <th>CustomerID</th>\n",
       "      <th>ActionType</th>\n",
       "      <th>GoodsCode</th>\n",
       "      <th>Price</th>\n",
       "      <th>AdID</th>\n",
       "      <th>CPC</th>\n",
       "      <th>Timestamp</th>\n",
       "      <th>GoodsCode_ad</th>\n",
       "      <th>eval_type</th>\n",
       "      <th>cluster_plus</th>\n",
       "      <th>Category</th>\n",
       "      <th>OriginalPrice</th>\n",
       "      <th>Inventory</th>\n",
       "    </tr>\n",
       "  </thead>\n",
       "  <tbody>\n",
       "    <tr>\n",
       "      <th>38</th>\n",
       "      <td>13</td>\n",
       "      <td>view</td>\n",
       "      <td>1203</td>\n",
       "      <td>85290</td>\n",
       "      <td>NaN</td>\n",
       "      <td>NaN</td>\n",
       "      <td>2022-03-17 14:31:19.855443</td>\n",
       "      <td>1090</td>\n",
       "      <td>ad_view_other</td>\n",
       "      <td>일반고객</td>\n",
       "      <td>Electronics</td>\n",
       "      <td>85290</td>\n",
       "      <td>9173</td>\n",
       "    </tr>\n",
       "    <tr>\n",
       "      <th>340</th>\n",
       "      <td>88</td>\n",
       "      <td>view</td>\n",
       "      <td>1161</td>\n",
       "      <td>31750</td>\n",
       "      <td>NaN</td>\n",
       "      <td>NaN</td>\n",
       "      <td>2022-05-14 19:47:05.336522</td>\n",
       "      <td>1144</td>\n",
       "      <td>ad_view_other</td>\n",
       "      <td>일반고객</td>\n",
       "      <td>Electronics</td>\n",
       "      <td>31750</td>\n",
       "      <td>3667</td>\n",
       "    </tr>\n",
       "    <tr>\n",
       "      <th>1029</th>\n",
       "      <td>241</td>\n",
       "      <td>view</td>\n",
       "      <td>1272</td>\n",
       "      <td>79250</td>\n",
       "      <td>NaN</td>\n",
       "      <td>NaN</td>\n",
       "      <td>2022-05-18 14:33:12.478779</td>\n",
       "      <td>1162</td>\n",
       "      <td>ad_view_other</td>\n",
       "      <td>일반고객</td>\n",
       "      <td>Electronics</td>\n",
       "      <td>79250</td>\n",
       "      <td>3383</td>\n",
       "    </tr>\n",
       "    <tr>\n",
       "      <th>1030</th>\n",
       "      <td>241</td>\n",
       "      <td>ad_click</td>\n",
       "      <td>1272</td>\n",
       "      <td>79250</td>\n",
       "      <td>ad_google</td>\n",
       "      <td>652.70</td>\n",
       "      <td>2022-05-20 15:31:35.478779</td>\n",
       "      <td>1272</td>\n",
       "      <td>ad_click</td>\n",
       "      <td>일반고객</td>\n",
       "      <td>Electronics</td>\n",
       "      <td>79250</td>\n",
       "      <td>3383</td>\n",
       "    </tr>\n",
       "    <tr>\n",
       "      <th>1031</th>\n",
       "      <td>241</td>\n",
       "      <td>view</td>\n",
       "      <td>1272</td>\n",
       "      <td>79250</td>\n",
       "      <td>NaN</td>\n",
       "      <td>NaN</td>\n",
       "      <td>2022-05-20 19:40:01.478779</td>\n",
       "      <td>1272</td>\n",
       "      <td>ad_view</td>\n",
       "      <td>일반고객</td>\n",
       "      <td>Electronics</td>\n",
       "      <td>79250</td>\n",
       "      <td>3383</td>\n",
       "    </tr>\n",
       "    <tr>\n",
       "      <th>...</th>\n",
       "      <td>...</td>\n",
       "      <td>...</td>\n",
       "      <td>...</td>\n",
       "      <td>...</td>\n",
       "      <td>...</td>\n",
       "      <td>...</td>\n",
       "      <td>...</td>\n",
       "      <td>...</td>\n",
       "      <td>...</td>\n",
       "      <td>...</td>\n",
       "      <td>...</td>\n",
       "      <td>...</td>\n",
       "      <td>...</td>\n",
       "    </tr>\n",
       "    <tr>\n",
       "      <th>3096189</th>\n",
       "      <td>899704</td>\n",
       "      <td>purchase</td>\n",
       "      <td>1038</td>\n",
       "      <td>40180</td>\n",
       "      <td>NaN</td>\n",
       "      <td>NaN</td>\n",
       "      <td>2022-05-08 11:08:22.794648</td>\n",
       "      <td>1188</td>\n",
       "      <td>ad_purchase_other</td>\n",
       "      <td>일반고객</td>\n",
       "      <td>Electronics</td>\n",
       "      <td>40180</td>\n",
       "      <td>1074</td>\n",
       "    </tr>\n",
       "    <tr>\n",
       "      <th>3096190</th>\n",
       "      <td>899704</td>\n",
       "      <td>purchase</td>\n",
       "      <td>1188</td>\n",
       "      <td>46660</td>\n",
       "      <td>NaN</td>\n",
       "      <td>NaN</td>\n",
       "      <td>2022-05-11 07:37:56.794648</td>\n",
       "      <td>1188</td>\n",
       "      <td>ad_purchase</td>\n",
       "      <td>일반고객</td>\n",
       "      <td>Electronics</td>\n",
       "      <td>46660</td>\n",
       "      <td>1920</td>\n",
       "    </tr>\n",
       "    <tr>\n",
       "      <th>3096191</th>\n",
       "      <td>899704</td>\n",
       "      <td>basket</td>\n",
       "      <td>1038</td>\n",
       "      <td>40180</td>\n",
       "      <td>NaN</td>\n",
       "      <td>NaN</td>\n",
       "      <td>2022-05-11 14:04:53.794648</td>\n",
       "      <td>1188</td>\n",
       "      <td>ad_basket_other</td>\n",
       "      <td>일반고객</td>\n",
       "      <td>Electronics</td>\n",
       "      <td>40180</td>\n",
       "      <td>1074</td>\n",
       "    </tr>\n",
       "    <tr>\n",
       "      <th>3096253</th>\n",
       "      <td>899729</td>\n",
       "      <td>ad_click</td>\n",
       "      <td>1110</td>\n",
       "      <td>141930</td>\n",
       "      <td>ad_google</td>\n",
       "      <td>761.34</td>\n",
       "      <td>2022-04-24 16:47:48.020726</td>\n",
       "      <td>1110</td>\n",
       "      <td>ad_click</td>\n",
       "      <td>일반고객</td>\n",
       "      <td>Electronics</td>\n",
       "      <td>141930</td>\n",
       "      <td>7960</td>\n",
       "    </tr>\n",
       "    <tr>\n",
       "      <th>3096917</th>\n",
       "      <td>899999</td>\n",
       "      <td>view</td>\n",
       "      <td>1271</td>\n",
       "      <td>92940</td>\n",
       "      <td>NaN</td>\n",
       "      <td>NaN</td>\n",
       "      <td>2022-04-10 18:07:56.722389</td>\n",
       "      <td>1059</td>\n",
       "      <td>ad_view_other</td>\n",
       "      <td>일반고객</td>\n",
       "      <td>Electronics</td>\n",
       "      <td>92940</td>\n",
       "      <td>8314</td>\n",
       "    </tr>\n",
       "  </tbody>\n",
       "</table>\n",
       "<p>14363 rows × 13 columns</p>\n",
       "</div>"
      ],
      "text/plain": [
       "         CustomerID ActionType  GoodsCode   Price       AdID     CPC  \\\n",
       "38               13       view       1203   85290        NaN     NaN   \n",
       "340              88       view       1161   31750        NaN     NaN   \n",
       "1029            241       view       1272   79250        NaN     NaN   \n",
       "1030            241   ad_click       1272   79250  ad_google  652.70   \n",
       "1031            241       view       1272   79250        NaN     NaN   \n",
       "...             ...        ...        ...     ...        ...     ...   \n",
       "3096189      899704   purchase       1038   40180        NaN     NaN   \n",
       "3096190      899704   purchase       1188   46660        NaN     NaN   \n",
       "3096191      899704     basket       1038   40180        NaN     NaN   \n",
       "3096253      899729   ad_click       1110  141930  ad_google  761.34   \n",
       "3096917      899999       view       1271   92940        NaN     NaN   \n",
       "\n",
       "                         Timestamp  GoodsCode_ad          eval_type  \\\n",
       "38      2022-03-17 14:31:19.855443          1090      ad_view_other   \n",
       "340     2022-05-14 19:47:05.336522          1144      ad_view_other   \n",
       "1029    2022-05-18 14:33:12.478779          1162      ad_view_other   \n",
       "1030    2022-05-20 15:31:35.478779          1272           ad_click   \n",
       "1031    2022-05-20 19:40:01.478779          1272            ad_view   \n",
       "...                            ...           ...                ...   \n",
       "3096189 2022-05-08 11:08:22.794648          1188  ad_purchase_other   \n",
       "3096190 2022-05-11 07:37:56.794648          1188        ad_purchase   \n",
       "3096191 2022-05-11 14:04:53.794648          1188    ad_basket_other   \n",
       "3096253 2022-04-24 16:47:48.020726          1110           ad_click   \n",
       "3096917 2022-04-10 18:07:56.722389          1059      ad_view_other   \n",
       "\n",
       "        cluster_plus     Category  OriginalPrice  Inventory  \n",
       "38              일반고객  Electronics          85290       9173  \n",
       "340             일반고객  Electronics          31750       3667  \n",
       "1029            일반고객  Electronics          79250       3383  \n",
       "1030            일반고객  Electronics          79250       3383  \n",
       "1031            일반고객  Electronics          79250       3383  \n",
       "...              ...          ...            ...        ...  \n",
       "3096189         일반고객  Electronics          40180       1074  \n",
       "3096190         일반고객  Electronics          46660       1920  \n",
       "3096191         일반고객  Electronics          40180       1074  \n",
       "3096253         일반고객  Electronics         141930       7960  \n",
       "3096917         일반고객  Electronics          92940       8314  \n",
       "\n",
       "[14363 rows x 13 columns]"
      ]
     },
     "execution_count": 93,
     "metadata": {},
     "output_type": "execute_result"
    }
   ],
   "source": [
    "normal = normal[normal['Category']=='Electronics']\n",
    "normal"
   ]
  },
  {
   "cell_type": "code",
   "execution_count": 94,
   "metadata": {},
   "outputs": [
    {
     "name": "stdout",
     "output_type": "stream",
     "text": [
      "퍼널 카운트: {'view': 8680, 'basket': 878, 'purchase': 234}\n"
     ]
    }
   ],
   "source": [
    "normal_ad_funnel_adpurchase_counts1 = {'view': 0, 'basket': 0, 'purchase': 0}\n",
    "\n",
    "# 퍼널을 계산\n",
    "for idx, row in normal.iterrows():\n",
    "    if row['ActionType'] == 'ad_click':\n",
    "        normal_ad_funnel_adpurchase_counts1['view'] += 1\n",
    "    elif row['eval_type'] == 'ad_view':\n",
    "        normal_ad_funnel_adpurchase_counts1['view'] += 1\n",
    "    elif row['eval_type'] == 'ad_basket':\n",
    "        normal_ad_funnel_adpurchase_counts1['basket'] += 1\n",
    "        normal_ad_funnel_adpurchase_counts1['view'] += 1  \n",
    "    elif row['eval_type'] == 'ad_purchase':\n",
    "        normal_ad_funnel_adpurchase_counts1['purchase'] += 1\n",
    "        normal_ad_funnel_adpurchase_counts1['view'] += 1\n",
    "        normal_ad_funnel_adpurchase_counts1['basket'] += 1\n",
    "\n",
    "print(\"퍼널 카운트:\", normal_ad_funnel_adpurchase_counts1)\n"
   ]
  },
  {
   "cell_type": "code",
   "execution_count": 95,
   "metadata": {},
   "outputs": [
    {
     "name": "stdout",
     "output_type": "stream",
     "text": [
      "View Count: 8680\n",
      "Basket Count: 878\n",
      "Purchase Count: 234\n",
      "View to Basket Conversion Rate: 0.1011520737327189\n",
      "Basket to Purchase Conversion Rate: 0.26651480637813213\n",
      "View to Purchase Conversion Rate: 0.02695852534562212\n"
     ]
    }
   ],
   "source": [
    "view_count_normal_elec = 8680\n",
    "basket_count_normal_elec = 878\n",
    "purchase_count_normal_elec = 234\n",
    "\n",
    "\n",
    "# 각 단계에서 다음 단계로의 전환율을 계산합니다.\n",
    "basket_to_purchase_rate_normal_elec = purchase_count_normal_elec / basket_count_normal_elec\n",
    "view_to_basket_rate_ad_normal_elec = basket_count_normal_elec / view_count_normal_elec\n",
    "view_to_purchase_rate_normal_elec = purchase_count_normal_elec / view_count_normal_elec\n",
    "\n",
    "# 결과를 출력합니다.\n",
    "print(\"View Count:\", view_count_normal_elec)\n",
    "print(\"Basket Count:\", basket_count_normal_elec)\n",
    "print(\"Purchase Count:\", purchase_count_normal_elec)\n",
    "print(\"View to Basket Conversion Rate:\", view_to_basket_rate_ad_normal_elec)\n",
    "print(\"Basket to Purchase Conversion Rate:\", basket_to_purchase_rate_normal_elec)\n",
    "print(\"View to Purchase Conversion Rate:\",view_to_purchase_rate_normal_elec)\n"
   ]
  },
  {
   "cell_type": "code",
   "execution_count": 96,
   "metadata": {},
   "outputs": [
    {
     "data": {
      "application/vnd.plotly.v1+json": {
       "config": {
        "plotlyServerURL": "https://plot.ly"
       },
       "data": [
        {
         "hovertemplate": "rate=%{x}<br>stage=%{y}<extra></extra>",
         "legendgroup": "",
         "marker": {
          "color": "#636efa"
         },
         "name": "",
         "orientation": "h",
         "showlegend": false,
         "texttemplate": "%{value:,.2%}",
         "type": "funnel",
         "x": [
          1,
          0.1011520737327189,
          0.02695852534562212
         ],
         "xaxis": "x",
         "y": [
          "view",
          "basket",
          "purchase"
         ],
         "yaxis": "y"
        }
       ],
       "layout": {
        "legend": {
         "tracegroupgap": 0
        },
        "template": {
         "data": {
          "bar": [
           {
            "error_x": {
             "color": "#2a3f5f"
            },
            "error_y": {
             "color": "#2a3f5f"
            },
            "marker": {
             "line": {
              "color": "#E5ECF6",
              "width": 0.5
             },
             "pattern": {
              "fillmode": "overlay",
              "size": 10,
              "solidity": 0.2
             }
            },
            "type": "bar"
           }
          ],
          "barpolar": [
           {
            "marker": {
             "line": {
              "color": "#E5ECF6",
              "width": 0.5
             },
             "pattern": {
              "fillmode": "overlay",
              "size": 10,
              "solidity": 0.2
             }
            },
            "type": "barpolar"
           }
          ],
          "carpet": [
           {
            "aaxis": {
             "endlinecolor": "#2a3f5f",
             "gridcolor": "white",
             "linecolor": "white",
             "minorgridcolor": "white",
             "startlinecolor": "#2a3f5f"
            },
            "baxis": {
             "endlinecolor": "#2a3f5f",
             "gridcolor": "white",
             "linecolor": "white",
             "minorgridcolor": "white",
             "startlinecolor": "#2a3f5f"
            },
            "type": "carpet"
           }
          ],
          "choropleth": [
           {
            "colorbar": {
             "outlinewidth": 0,
             "ticks": ""
            },
            "type": "choropleth"
           }
          ],
          "contour": [
           {
            "colorbar": {
             "outlinewidth": 0,
             "ticks": ""
            },
            "colorscale": [
             [
              0,
              "#0d0887"
             ],
             [
              0.1111111111111111,
              "#46039f"
             ],
             [
              0.2222222222222222,
              "#7201a8"
             ],
             [
              0.3333333333333333,
              "#9c179e"
             ],
             [
              0.4444444444444444,
              "#bd3786"
             ],
             [
              0.5555555555555556,
              "#d8576b"
             ],
             [
              0.6666666666666666,
              "#ed7953"
             ],
             [
              0.7777777777777778,
              "#fb9f3a"
             ],
             [
              0.8888888888888888,
              "#fdca26"
             ],
             [
              1,
              "#f0f921"
             ]
            ],
            "type": "contour"
           }
          ],
          "contourcarpet": [
           {
            "colorbar": {
             "outlinewidth": 0,
             "ticks": ""
            },
            "type": "contourcarpet"
           }
          ],
          "heatmap": [
           {
            "colorbar": {
             "outlinewidth": 0,
             "ticks": ""
            },
            "colorscale": [
             [
              0,
              "#0d0887"
             ],
             [
              0.1111111111111111,
              "#46039f"
             ],
             [
              0.2222222222222222,
              "#7201a8"
             ],
             [
              0.3333333333333333,
              "#9c179e"
             ],
             [
              0.4444444444444444,
              "#bd3786"
             ],
             [
              0.5555555555555556,
              "#d8576b"
             ],
             [
              0.6666666666666666,
              "#ed7953"
             ],
             [
              0.7777777777777778,
              "#fb9f3a"
             ],
             [
              0.8888888888888888,
              "#fdca26"
             ],
             [
              1,
              "#f0f921"
             ]
            ],
            "type": "heatmap"
           }
          ],
          "heatmapgl": [
           {
            "colorbar": {
             "outlinewidth": 0,
             "ticks": ""
            },
            "colorscale": [
             [
              0,
              "#0d0887"
             ],
             [
              0.1111111111111111,
              "#46039f"
             ],
             [
              0.2222222222222222,
              "#7201a8"
             ],
             [
              0.3333333333333333,
              "#9c179e"
             ],
             [
              0.4444444444444444,
              "#bd3786"
             ],
             [
              0.5555555555555556,
              "#d8576b"
             ],
             [
              0.6666666666666666,
              "#ed7953"
             ],
             [
              0.7777777777777778,
              "#fb9f3a"
             ],
             [
              0.8888888888888888,
              "#fdca26"
             ],
             [
              1,
              "#f0f921"
             ]
            ],
            "type": "heatmapgl"
           }
          ],
          "histogram": [
           {
            "marker": {
             "pattern": {
              "fillmode": "overlay",
              "size": 10,
              "solidity": 0.2
             }
            },
            "type": "histogram"
           }
          ],
          "histogram2d": [
           {
            "colorbar": {
             "outlinewidth": 0,
             "ticks": ""
            },
            "colorscale": [
             [
              0,
              "#0d0887"
             ],
             [
              0.1111111111111111,
              "#46039f"
             ],
             [
              0.2222222222222222,
              "#7201a8"
             ],
             [
              0.3333333333333333,
              "#9c179e"
             ],
             [
              0.4444444444444444,
              "#bd3786"
             ],
             [
              0.5555555555555556,
              "#d8576b"
             ],
             [
              0.6666666666666666,
              "#ed7953"
             ],
             [
              0.7777777777777778,
              "#fb9f3a"
             ],
             [
              0.8888888888888888,
              "#fdca26"
             ],
             [
              1,
              "#f0f921"
             ]
            ],
            "type": "histogram2d"
           }
          ],
          "histogram2dcontour": [
           {
            "colorbar": {
             "outlinewidth": 0,
             "ticks": ""
            },
            "colorscale": [
             [
              0,
              "#0d0887"
             ],
             [
              0.1111111111111111,
              "#46039f"
             ],
             [
              0.2222222222222222,
              "#7201a8"
             ],
             [
              0.3333333333333333,
              "#9c179e"
             ],
             [
              0.4444444444444444,
              "#bd3786"
             ],
             [
              0.5555555555555556,
              "#d8576b"
             ],
             [
              0.6666666666666666,
              "#ed7953"
             ],
             [
              0.7777777777777778,
              "#fb9f3a"
             ],
             [
              0.8888888888888888,
              "#fdca26"
             ],
             [
              1,
              "#f0f921"
             ]
            ],
            "type": "histogram2dcontour"
           }
          ],
          "mesh3d": [
           {
            "colorbar": {
             "outlinewidth": 0,
             "ticks": ""
            },
            "type": "mesh3d"
           }
          ],
          "parcoords": [
           {
            "line": {
             "colorbar": {
              "outlinewidth": 0,
              "ticks": ""
             }
            },
            "type": "parcoords"
           }
          ],
          "pie": [
           {
            "automargin": true,
            "type": "pie"
           }
          ],
          "scatter": [
           {
            "fillpattern": {
             "fillmode": "overlay",
             "size": 10,
             "solidity": 0.2
            },
            "type": "scatter"
           }
          ],
          "scatter3d": [
           {
            "line": {
             "colorbar": {
              "outlinewidth": 0,
              "ticks": ""
             }
            },
            "marker": {
             "colorbar": {
              "outlinewidth": 0,
              "ticks": ""
             }
            },
            "type": "scatter3d"
           }
          ],
          "scattercarpet": [
           {
            "marker": {
             "colorbar": {
              "outlinewidth": 0,
              "ticks": ""
             }
            },
            "type": "scattercarpet"
           }
          ],
          "scattergeo": [
           {
            "marker": {
             "colorbar": {
              "outlinewidth": 0,
              "ticks": ""
             }
            },
            "type": "scattergeo"
           }
          ],
          "scattergl": [
           {
            "marker": {
             "colorbar": {
              "outlinewidth": 0,
              "ticks": ""
             }
            },
            "type": "scattergl"
           }
          ],
          "scattermapbox": [
           {
            "marker": {
             "colorbar": {
              "outlinewidth": 0,
              "ticks": ""
             }
            },
            "type": "scattermapbox"
           }
          ],
          "scatterpolar": [
           {
            "marker": {
             "colorbar": {
              "outlinewidth": 0,
              "ticks": ""
             }
            },
            "type": "scatterpolar"
           }
          ],
          "scatterpolargl": [
           {
            "marker": {
             "colorbar": {
              "outlinewidth": 0,
              "ticks": ""
             }
            },
            "type": "scatterpolargl"
           }
          ],
          "scatterternary": [
           {
            "marker": {
             "colorbar": {
              "outlinewidth": 0,
              "ticks": ""
             }
            },
            "type": "scatterternary"
           }
          ],
          "surface": [
           {
            "colorbar": {
             "outlinewidth": 0,
             "ticks": ""
            },
            "colorscale": [
             [
              0,
              "#0d0887"
             ],
             [
              0.1111111111111111,
              "#46039f"
             ],
             [
              0.2222222222222222,
              "#7201a8"
             ],
             [
              0.3333333333333333,
              "#9c179e"
             ],
             [
              0.4444444444444444,
              "#bd3786"
             ],
             [
              0.5555555555555556,
              "#d8576b"
             ],
             [
              0.6666666666666666,
              "#ed7953"
             ],
             [
              0.7777777777777778,
              "#fb9f3a"
             ],
             [
              0.8888888888888888,
              "#fdca26"
             ],
             [
              1,
              "#f0f921"
             ]
            ],
            "type": "surface"
           }
          ],
          "table": [
           {
            "cells": {
             "fill": {
              "color": "#EBF0F8"
             },
             "line": {
              "color": "white"
             }
            },
            "header": {
             "fill": {
              "color": "#C8D4E3"
             },
             "line": {
              "color": "white"
             }
            },
            "type": "table"
           }
          ]
         },
         "layout": {
          "annotationdefaults": {
           "arrowcolor": "#2a3f5f",
           "arrowhead": 0,
           "arrowwidth": 1
          },
          "autotypenumbers": "strict",
          "coloraxis": {
           "colorbar": {
            "outlinewidth": 0,
            "ticks": ""
           }
          },
          "colorscale": {
           "diverging": [
            [
             0,
             "#8e0152"
            ],
            [
             0.1,
             "#c51b7d"
            ],
            [
             0.2,
             "#de77ae"
            ],
            [
             0.3,
             "#f1b6da"
            ],
            [
             0.4,
             "#fde0ef"
            ],
            [
             0.5,
             "#f7f7f7"
            ],
            [
             0.6,
             "#e6f5d0"
            ],
            [
             0.7,
             "#b8e186"
            ],
            [
             0.8,
             "#7fbc41"
            ],
            [
             0.9,
             "#4d9221"
            ],
            [
             1,
             "#276419"
            ]
           ],
           "sequential": [
            [
             0,
             "#0d0887"
            ],
            [
             0.1111111111111111,
             "#46039f"
            ],
            [
             0.2222222222222222,
             "#7201a8"
            ],
            [
             0.3333333333333333,
             "#9c179e"
            ],
            [
             0.4444444444444444,
             "#bd3786"
            ],
            [
             0.5555555555555556,
             "#d8576b"
            ],
            [
             0.6666666666666666,
             "#ed7953"
            ],
            [
             0.7777777777777778,
             "#fb9f3a"
            ],
            [
             0.8888888888888888,
             "#fdca26"
            ],
            [
             1,
             "#f0f921"
            ]
           ],
           "sequentialminus": [
            [
             0,
             "#0d0887"
            ],
            [
             0.1111111111111111,
             "#46039f"
            ],
            [
             0.2222222222222222,
             "#7201a8"
            ],
            [
             0.3333333333333333,
             "#9c179e"
            ],
            [
             0.4444444444444444,
             "#bd3786"
            ],
            [
             0.5555555555555556,
             "#d8576b"
            ],
            [
             0.6666666666666666,
             "#ed7953"
            ],
            [
             0.7777777777777778,
             "#fb9f3a"
            ],
            [
             0.8888888888888888,
             "#fdca26"
            ],
            [
             1,
             "#f0f921"
            ]
           ]
          },
          "colorway": [
           "#636efa",
           "#EF553B",
           "#00cc96",
           "#ab63fa",
           "#FFA15A",
           "#19d3f3",
           "#FF6692",
           "#B6E880",
           "#FF97FF",
           "#FECB52"
          ],
          "font": {
           "color": "#2a3f5f"
          },
          "geo": {
           "bgcolor": "white",
           "lakecolor": "white",
           "landcolor": "#E5ECF6",
           "showlakes": true,
           "showland": true,
           "subunitcolor": "white"
          },
          "hoverlabel": {
           "align": "left"
          },
          "hovermode": "closest",
          "mapbox": {
           "style": "light"
          },
          "paper_bgcolor": "white",
          "plot_bgcolor": "#E5ECF6",
          "polar": {
           "angularaxis": {
            "gridcolor": "white",
            "linecolor": "white",
            "ticks": ""
           },
           "bgcolor": "#E5ECF6",
           "radialaxis": {
            "gridcolor": "white",
            "linecolor": "white",
            "ticks": ""
           }
          },
          "scene": {
           "xaxis": {
            "backgroundcolor": "#E5ECF6",
            "gridcolor": "white",
            "gridwidth": 2,
            "linecolor": "white",
            "showbackground": true,
            "ticks": "",
            "zerolinecolor": "white"
           },
           "yaxis": {
            "backgroundcolor": "#E5ECF6",
            "gridcolor": "white",
            "gridwidth": 2,
            "linecolor": "white",
            "showbackground": true,
            "ticks": "",
            "zerolinecolor": "white"
           },
           "zaxis": {
            "backgroundcolor": "#E5ECF6",
            "gridcolor": "white",
            "gridwidth": 2,
            "linecolor": "white",
            "showbackground": true,
            "ticks": "",
            "zerolinecolor": "white"
           }
          },
          "shapedefaults": {
           "line": {
            "color": "#2a3f5f"
           }
          },
          "ternary": {
           "aaxis": {
            "gridcolor": "white",
            "linecolor": "white",
            "ticks": ""
           },
           "baxis": {
            "gridcolor": "white",
            "linecolor": "white",
            "ticks": ""
           },
           "bgcolor": "#E5ECF6",
           "caxis": {
            "gridcolor": "white",
            "linecolor": "white",
            "ticks": ""
           }
          },
          "title": {
           "x": 0.05
          },
          "xaxis": {
           "automargin": true,
           "gridcolor": "white",
           "linecolor": "white",
           "ticks": "",
           "title": {
            "standoff": 15
           },
           "zerolinecolor": "white",
           "zerolinewidth": 2
          },
          "yaxis": {
           "automargin": true,
           "gridcolor": "white",
           "linecolor": "white",
           "ticks": "",
           "title": {
            "standoff": 15
           },
           "zerolinecolor": "white",
           "zerolinewidth": 2
          }
         }
        },
        "title": {
         "text": "일반고객 Funnel (Electronics)"
        },
        "xaxis": {
         "anchor": "y",
         "domain": [
          0,
          1
         ],
         "title": {
          "text": "rate"
         }
        },
        "yaxis": {
         "anchor": "x",
         "domain": [
          0,
          1
         ],
         "title": {
          "text": "stage"
         }
        }
       }
      }
     },
     "metadata": {},
     "output_type": "display_data"
    }
   ],
   "source": [
    "data = dict(\n",
    "    number=[8680,878,234],\n",
    "    stage=['view','basket','purchase'],\n",
    "    rate=[1,0.1011520737327189,0.02695852534562212]\n",
    ")\n",
    "fig = px.funnel(data, x='rate', y='stage', title='일반고객 Funnel (Electronics)')\n",
    "fig.update_traces(texttemplate=\"%{value:,.2%}\")\n",
    "fig.show()"
   ]
  },
  {
   "cell_type": "code",
   "execution_count": null,
   "metadata": {},
   "outputs": [],
   "source": []
  }
 ],
 "metadata": {
  "kernelspec": {
   "display_name": ".venv",
   "language": "python",
   "name": "python3"
  },
  "language_info": {
   "codemirror_mode": {
    "name": "ipython",
    "version": 3
   },
   "file_extension": ".py",
   "mimetype": "text/x-python",
   "name": "python",
   "nbconvert_exporter": "python",
   "pygments_lexer": "ipython3",
   "version": "3.9.13"
  },
  "orig_nbformat": 4
 },
 "nbformat": 4,
 "nbformat_minor": 2
}
