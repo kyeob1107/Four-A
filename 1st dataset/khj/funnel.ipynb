{
 "cells": [
  {
   "cell_type": "code",
   "execution_count": 3,
   "metadata": {},
   "outputs": [],
   "source": [
    "import datetime as dt\n",
    "import numpy as np\n",
    "import pandas as pd\n",
    "import matplotlib.pyplot as plt\n",
    "import seaborn as sns\n",
    "from sklearn.cluster import KMeans\n",
    "from sklearn.preprocessing import MinMaxScaler\n",
    "from sklearn.preprocessing import StandardScaler\n",
    "import plotly.express as px\n",
    "from matplotlib import rc\n",
    "rc('font', family='AppleGothic')\n",
    "plt.rcParams['axes.unicode_minus'] = False\n",
    "\n",
    "pd.options.display.max_columns = None  # 길어서 생략된 열 다 보이게 하기\n",
    "# pd.options.display.max_rows = None"
   ]
  },
  {
   "cell_type": "code",
   "execution_count": 4,
   "metadata": {},
   "outputs": [
    {
     "ename": "FileNotFoundError",
     "evalue": "[Errno 2] No such file or directory: '/Users/hj/Documents/Four-A/dataset/Looker Ecommerce BigQuery Dataset/Optimization/events_optimized_divided1.parquet'",
     "output_type": "error",
     "traceback": [
      "\u001b[0;31m---------------------------------------------------------------------------\u001b[0m",
      "\u001b[0;31mFileNotFoundError\u001b[0m                         Traceback (most recent call last)",
      "\u001b[1;32m/Users/hj/Documents/Four-A/1st dataset/khj/funnel.ipynb Cell 2\u001b[0m line \u001b[0;36m1\n\u001b[0;32m----> <a href='vscode-notebook-cell:/Users/hj/Documents/Four-A/1st%20dataset/khj/funnel.ipynb#W1sZmlsZQ%3D%3D?line=0'>1</a>\u001b[0m events1\u001b[39m=\u001b[39m pd\u001b[39m.\u001b[39;49mread_parquet(\u001b[39m'\u001b[39;49m\u001b[39m/Users/hj/Documents/Four-A/dataset/Looker Ecommerce BigQuery Dataset/Optimization/events_optimized_divided1.parquet\u001b[39;49m\u001b[39m'\u001b[39;49m)\n\u001b[1;32m      <a href='vscode-notebook-cell:/Users/hj/Documents/Four-A/1st%20dataset/khj/funnel.ipynb#W1sZmlsZQ%3D%3D?line=1'>2</a>\u001b[0m events2\u001b[39m=\u001b[39m pd\u001b[39m.\u001b[39mread_parquet(\u001b[39m'\u001b[39m\u001b[39m/Users/hj/Documents/Four-A/dataset/Looker Ecommerce BigQuery Dataset/Optimization/events_optimized_divided2.parquet\u001b[39m\u001b[39m'\u001b[39m)\n\u001b[1;32m      <a href='vscode-notebook-cell:/Users/hj/Documents/Four-A/1st%20dataset/khj/funnel.ipynb#W1sZmlsZQ%3D%3D?line=2'>3</a>\u001b[0m events \u001b[39m=\u001b[39m pd\u001b[39m.\u001b[39mconcat([events1, events2])\u001b[39m.\u001b[39msort_index()\n",
      "File \u001b[0;32m~/Documents/무제/.venv/lib/python3.9/site-packages/pandas/io/parquet.py:667\u001b[0m, in \u001b[0;36mread_parquet\u001b[0;34m(path, engine, columns, storage_options, use_nullable_dtypes, dtype_backend, filesystem, filters, **kwargs)\u001b[0m\n\u001b[1;32m    664\u001b[0m     use_nullable_dtypes \u001b[39m=\u001b[39m \u001b[39mFalse\u001b[39;00m\n\u001b[1;32m    665\u001b[0m check_dtype_backend(dtype_backend)\n\u001b[0;32m--> 667\u001b[0m \u001b[39mreturn\u001b[39;00m impl\u001b[39m.\u001b[39;49mread(\n\u001b[1;32m    668\u001b[0m     path,\n\u001b[1;32m    669\u001b[0m     columns\u001b[39m=\u001b[39;49mcolumns,\n\u001b[1;32m    670\u001b[0m     filters\u001b[39m=\u001b[39;49mfilters,\n\u001b[1;32m    671\u001b[0m     storage_options\u001b[39m=\u001b[39;49mstorage_options,\n\u001b[1;32m    672\u001b[0m     use_nullable_dtypes\u001b[39m=\u001b[39;49muse_nullable_dtypes,\n\u001b[1;32m    673\u001b[0m     dtype_backend\u001b[39m=\u001b[39;49mdtype_backend,\n\u001b[1;32m    674\u001b[0m     filesystem\u001b[39m=\u001b[39;49mfilesystem,\n\u001b[1;32m    675\u001b[0m     \u001b[39m*\u001b[39;49m\u001b[39m*\u001b[39;49mkwargs,\n\u001b[1;32m    676\u001b[0m )\n",
      "File \u001b[0;32m~/Documents/무제/.venv/lib/python3.9/site-packages/pandas/io/parquet.py:267\u001b[0m, in \u001b[0;36mPyArrowImpl.read\u001b[0;34m(self, path, columns, filters, use_nullable_dtypes, dtype_backend, storage_options, filesystem, **kwargs)\u001b[0m\n\u001b[1;32m    264\u001b[0m \u001b[39mif\u001b[39;00m manager \u001b[39m==\u001b[39m \u001b[39m\"\u001b[39m\u001b[39marray\u001b[39m\u001b[39m\"\u001b[39m:\n\u001b[1;32m    265\u001b[0m     to_pandas_kwargs[\u001b[39m\"\u001b[39m\u001b[39msplit_blocks\u001b[39m\u001b[39m\"\u001b[39m] \u001b[39m=\u001b[39m \u001b[39mTrue\u001b[39;00m  \u001b[39m# type: ignore[assignment]\u001b[39;00m\n\u001b[0;32m--> 267\u001b[0m path_or_handle, handles, filesystem \u001b[39m=\u001b[39m _get_path_or_handle(\n\u001b[1;32m    268\u001b[0m     path,\n\u001b[1;32m    269\u001b[0m     filesystem,\n\u001b[1;32m    270\u001b[0m     storage_options\u001b[39m=\u001b[39;49mstorage_options,\n\u001b[1;32m    271\u001b[0m     mode\u001b[39m=\u001b[39;49m\u001b[39m\"\u001b[39;49m\u001b[39mrb\u001b[39;49m\u001b[39m\"\u001b[39;49m,\n\u001b[1;32m    272\u001b[0m )\n\u001b[1;32m    273\u001b[0m \u001b[39mtry\u001b[39;00m:\n\u001b[1;32m    274\u001b[0m     pa_table \u001b[39m=\u001b[39m \u001b[39mself\u001b[39m\u001b[39m.\u001b[39mapi\u001b[39m.\u001b[39mparquet\u001b[39m.\u001b[39mread_table(\n\u001b[1;32m    275\u001b[0m         path_or_handle,\n\u001b[1;32m    276\u001b[0m         columns\u001b[39m=\u001b[39mcolumns,\n\u001b[0;32m   (...)\u001b[0m\n\u001b[1;32m    279\u001b[0m         \u001b[39m*\u001b[39m\u001b[39m*\u001b[39mkwargs,\n\u001b[1;32m    280\u001b[0m     )\n",
      "File \u001b[0;32m~/Documents/무제/.venv/lib/python3.9/site-packages/pandas/io/parquet.py:140\u001b[0m, in \u001b[0;36m_get_path_or_handle\u001b[0;34m(path, fs, storage_options, mode, is_dir)\u001b[0m\n\u001b[1;32m    130\u001b[0m handles \u001b[39m=\u001b[39m \u001b[39mNone\u001b[39;00m\n\u001b[1;32m    131\u001b[0m \u001b[39mif\u001b[39;00m (\n\u001b[1;32m    132\u001b[0m     \u001b[39mnot\u001b[39;00m fs\n\u001b[1;32m    133\u001b[0m     \u001b[39mand\u001b[39;00m \u001b[39mnot\u001b[39;00m is_dir\n\u001b[0;32m   (...)\u001b[0m\n\u001b[1;32m    138\u001b[0m     \u001b[39m# fsspec resources can also point to directories\u001b[39;00m\n\u001b[1;32m    139\u001b[0m     \u001b[39m# this branch is used for example when reading from non-fsspec URLs\u001b[39;00m\n\u001b[0;32m--> 140\u001b[0m     handles \u001b[39m=\u001b[39m get_handle(\n\u001b[1;32m    141\u001b[0m         path_or_handle, mode, is_text\u001b[39m=\u001b[39;49m\u001b[39mFalse\u001b[39;49;00m, storage_options\u001b[39m=\u001b[39;49mstorage_options\n\u001b[1;32m    142\u001b[0m     )\n\u001b[1;32m    143\u001b[0m     fs \u001b[39m=\u001b[39m \u001b[39mNone\u001b[39;00m\n\u001b[1;32m    144\u001b[0m     path_or_handle \u001b[39m=\u001b[39m handles\u001b[39m.\u001b[39mhandle\n",
      "File \u001b[0;32m~/Documents/무제/.venv/lib/python3.9/site-packages/pandas/io/common.py:882\u001b[0m, in \u001b[0;36mget_handle\u001b[0;34m(path_or_buf, mode, encoding, compression, memory_map, is_text, errors, storage_options)\u001b[0m\n\u001b[1;32m    873\u001b[0m         handle \u001b[39m=\u001b[39m \u001b[39mopen\u001b[39m(\n\u001b[1;32m    874\u001b[0m             handle,\n\u001b[1;32m    875\u001b[0m             ioargs\u001b[39m.\u001b[39mmode,\n\u001b[0;32m   (...)\u001b[0m\n\u001b[1;32m    878\u001b[0m             newline\u001b[39m=\u001b[39m\u001b[39m\"\u001b[39m\u001b[39m\"\u001b[39m,\n\u001b[1;32m    879\u001b[0m         )\n\u001b[1;32m    880\u001b[0m     \u001b[39melse\u001b[39;00m:\n\u001b[1;32m    881\u001b[0m         \u001b[39m# Binary mode\u001b[39;00m\n\u001b[0;32m--> 882\u001b[0m         handle \u001b[39m=\u001b[39m \u001b[39mopen\u001b[39;49m(handle, ioargs\u001b[39m.\u001b[39;49mmode)\n\u001b[1;32m    883\u001b[0m     handles\u001b[39m.\u001b[39mappend(handle)\n\u001b[1;32m    885\u001b[0m \u001b[39m# Convert BytesIO or file objects passed with an encoding\u001b[39;00m\n",
      "\u001b[0;31mFileNotFoundError\u001b[0m: [Errno 2] No such file or directory: '/Users/hj/Documents/Four-A/dataset/Looker Ecommerce BigQuery Dataset/Optimization/events_optimized_divided1.parquet'"
     ]
    }
   ],
   "source": [
    "events1= pd.read_parquet('/Users/hj/Documents/Four-A/dataset/Looker Ecommerce BigQuery Dataset/Optimization/events_optimized_divided1.parquet')\n",
    "events2= pd.read_parquet('/Users/hj/Documents/Four-A/dataset/Looker Ecommerce BigQuery Dataset/Optimization/events_optimized_divided2.parquet')\n",
    "events = pd.concat([events1, events2]).sort_index()\n",
    "events.head()"
   ]
  },
  {
   "cell_type": "code",
   "execution_count": null,
   "metadata": {},
   "outputs": [
    {
     "data": {
      "text/html": [
       "<div>\n",
       "<style scoped>\n",
       "    .dataframe tbody tr th:only-of-type {\n",
       "        vertical-align: middle;\n",
       "    }\n",
       "\n",
       "    .dataframe tbody tr th {\n",
       "        vertical-align: top;\n",
       "    }\n",
       "\n",
       "    .dataframe thead th {\n",
       "        text-align: right;\n",
       "    }\n",
       "</style>\n",
       "<table border=\"1\" class=\"dataframe\">\n",
       "  <thead>\n",
       "    <tr style=\"text-align: right;\">\n",
       "      <th></th>\n",
       "      <th>event_id</th>\n",
       "      <th>user_id</th>\n",
       "      <th>sequence_number</th>\n",
       "      <th>session_id</th>\n",
       "      <th>event_created_at</th>\n",
       "      <th>ip_address</th>\n",
       "      <th>city</th>\n",
       "      <th>state</th>\n",
       "      <th>postal_code</th>\n",
       "      <th>browser</th>\n",
       "      <th>event_traffic_source</th>\n",
       "      <th>uri</th>\n",
       "      <th>event_type</th>\n",
       "    </tr>\n",
       "  </thead>\n",
       "  <tbody>\n",
       "    <tr>\n",
       "      <th>0</th>\n",
       "      <td>2198523</td>\n",
       "      <td>&lt;NA&gt;</td>\n",
       "      <td>3</td>\n",
       "      <td>83889ed2-2adc-4b9a-af5d-154f6998e778</td>\n",
       "      <td>2021-06-17 17:30:00+00:00</td>\n",
       "      <td>138.143.9.202</td>\n",
       "      <td>São Paulo</td>\n",
       "      <td>São Paulo</td>\n",
       "      <td>02675-031</td>\n",
       "      <td>Chrome</td>\n",
       "      <td>Adwords</td>\n",
       "      <td>/cancel</td>\n",
       "      <td>cancel</td>\n",
       "    </tr>\n",
       "    <tr>\n",
       "      <th>1</th>\n",
       "      <td>1773216</td>\n",
       "      <td>&lt;NA&gt;</td>\n",
       "      <td>3</td>\n",
       "      <td>7a3fc3f2-e84f-44fe-8876-eff76741f7a3</td>\n",
       "      <td>2020-08-07 08:41:00+00:00</td>\n",
       "      <td>85.114.141.79</td>\n",
       "      <td>Santa Isabel</td>\n",
       "      <td>São Paulo</td>\n",
       "      <td>07500-000</td>\n",
       "      <td>Safari</td>\n",
       "      <td>Adwords</td>\n",
       "      <td>/cancel</td>\n",
       "      <td>cancel</td>\n",
       "    </tr>\n",
       "    <tr>\n",
       "      <th>2</th>\n",
       "      <td>2380515</td>\n",
       "      <td>&lt;NA&gt;</td>\n",
       "      <td>3</td>\n",
       "      <td>13d9b2fb-eee1-43fd-965c-267b38dd7125</td>\n",
       "      <td>2021-02-15 18:48:00+00:00</td>\n",
       "      <td>169.250.255.132</td>\n",
       "      <td>Mairiporã</td>\n",
       "      <td>São Paulo</td>\n",
       "      <td>07600-000</td>\n",
       "      <td>IE</td>\n",
       "      <td>Adwords</td>\n",
       "      <td>/cancel</td>\n",
       "      <td>cancel</td>\n",
       "    </tr>\n",
       "    <tr>\n",
       "      <th>3</th>\n",
       "      <td>2250597</td>\n",
       "      <td>&lt;NA&gt;</td>\n",
       "      <td>3</td>\n",
       "      <td>96f1d44e-9621-463c-954c-d8deb7fffe7f</td>\n",
       "      <td>2022-03-30 10:56:00+00:00</td>\n",
       "      <td>137.25.222.160</td>\n",
       "      <td>Cajamar</td>\n",
       "      <td>São Paulo</td>\n",
       "      <td>07750-000</td>\n",
       "      <td>Chrome</td>\n",
       "      <td>Adwords</td>\n",
       "      <td>/cancel</td>\n",
       "      <td>cancel</td>\n",
       "    </tr>\n",
       "    <tr>\n",
       "      <th>4</th>\n",
       "      <td>1834446</td>\n",
       "      <td>&lt;NA&gt;</td>\n",
       "      <td>3</td>\n",
       "      <td>d09dce10-a7cb-47d3-a9af-44975566fa03</td>\n",
       "      <td>2019-09-05 01:18:00+00:00</td>\n",
       "      <td>161.114.4.174</td>\n",
       "      <td>São Paulo</td>\n",
       "      <td>São Paulo</td>\n",
       "      <td>09581-680</td>\n",
       "      <td>Chrome</td>\n",
       "      <td>Email</td>\n",
       "      <td>/cancel</td>\n",
       "      <td>cancel</td>\n",
       "    </tr>\n",
       "  </tbody>\n",
       "</table>\n",
       "</div>"
      ],
      "text/plain": [
       "   event_id  user_id  sequence_number                            session_id  \\\n",
       "0   2198523     <NA>                3  83889ed2-2adc-4b9a-af5d-154f6998e778   \n",
       "1   1773216     <NA>                3  7a3fc3f2-e84f-44fe-8876-eff76741f7a3   \n",
       "2   2380515     <NA>                3  13d9b2fb-eee1-43fd-965c-267b38dd7125   \n",
       "3   2250597     <NA>                3  96f1d44e-9621-463c-954c-d8deb7fffe7f   \n",
       "4   1834446     <NA>                3  d09dce10-a7cb-47d3-a9af-44975566fa03   \n",
       "\n",
       "           event_created_at       ip_address          city      state  \\\n",
       "0 2021-06-17 17:30:00+00:00    138.143.9.202     São Paulo  São Paulo   \n",
       "1 2020-08-07 08:41:00+00:00    85.114.141.79  Santa Isabel  São Paulo   \n",
       "2 2021-02-15 18:48:00+00:00  169.250.255.132     Mairiporã  São Paulo   \n",
       "3 2022-03-30 10:56:00+00:00   137.25.222.160       Cajamar  São Paulo   \n",
       "4 2019-09-05 01:18:00+00:00    161.114.4.174     São Paulo  São Paulo   \n",
       "\n",
       "  postal_code browser event_traffic_source      uri event_type  \n",
       "0   02675-031  Chrome              Adwords  /cancel     cancel  \n",
       "1   07500-000  Safari              Adwords  /cancel     cancel  \n",
       "2   07600-000      IE              Adwords  /cancel     cancel  \n",
       "3   07750-000  Chrome              Adwords  /cancel     cancel  \n",
       "4   09581-680  Chrome                Email  /cancel     cancel  "
      ]
     },
     "execution_count": 60,
     "metadata": {},
     "output_type": "execute_result"
    }
   ],
   "source": [
    "events = events[events['event_created_at']<\"2023-12-01\"]\n",
    "events.head()"
   ]
  },
  {
   "cell_type": "code",
   "execution_count": null,
   "metadata": {},
   "outputs": [
    {
     "name": "stdout",
     "output_type": "stream",
     "text": [
      "<class 'pandas.core.frame.DataFrame'>\n",
      "Index: 2220767 entries, 0 to 2431962\n",
      "Data columns (total 13 columns):\n",
      " #   Column                Dtype              \n",
      "---  ------                -----              \n",
      " 0   event_id              Int32              \n",
      " 1   user_id               Int32              \n",
      " 2   sequence_number       Int8               \n",
      " 3   session_id            object             \n",
      " 4   event_created_at      datetime64[ns, UTC]\n",
      " 5   ip_address            object             \n",
      " 6   city                  category           \n",
      " 7   state                 category           \n",
      " 8   postal_code           object             \n",
      " 9   browser               category           \n",
      " 10  event_traffic_source  category           \n",
      " 11  uri                   object             \n",
      " 12  event_type            category           \n",
      "dtypes: Int32(2), Int8(1), category(5), datetime64[ns, UTC](1), object(4)\n",
      "memory usage: 142.2+ MB\n"
     ]
    }
   ],
   "source": [
    "events.info()"
   ]
  },
  {
   "cell_type": "code",
   "execution_count": null,
   "metadata": {},
   "outputs": [
    {
     "data": {
      "text/plain": [
       "event_id                      0\n",
       "user_id                 1096789\n",
       "sequence_number               0\n",
       "session_id                    0\n",
       "event_created_at              0\n",
       "ip_address                    0\n",
       "city                      20733\n",
       "state                         0\n",
       "postal_code                   0\n",
       "browser                       0\n",
       "event_traffic_source          0\n",
       "uri                           0\n",
       "event_type                    0\n",
       "dtype: int64"
      ]
     },
     "execution_count": 62,
     "metadata": {},
     "output_type": "execute_result"
    }
   ],
   "source": [
    "events.isnull().sum()"
   ]
  },
  {
   "cell_type": "code",
   "execution_count": null,
   "metadata": {},
   "outputs": [
    {
     "data": {
      "text/html": [
       "<div>\n",
       "<style scoped>\n",
       "    .dataframe tbody tr th:only-of-type {\n",
       "        vertical-align: middle;\n",
       "    }\n",
       "\n",
       "    .dataframe tbody tr th {\n",
       "        vertical-align: top;\n",
       "    }\n",
       "\n",
       "    .dataframe thead th {\n",
       "        text-align: right;\n",
       "    }\n",
       "</style>\n",
       "<table border=\"1\" class=\"dataframe\">\n",
       "  <thead>\n",
       "    <tr style=\"text-align: right;\">\n",
       "      <th></th>\n",
       "      <th>event_id</th>\n",
       "      <th>user_id</th>\n",
       "      <th>sequence_number</th>\n",
       "      <th>session_id</th>\n",
       "      <th>event_created_at</th>\n",
       "      <th>ip_address</th>\n",
       "      <th>city</th>\n",
       "      <th>state</th>\n",
       "      <th>postal_code</th>\n",
       "      <th>browser</th>\n",
       "      <th>event_traffic_source</th>\n",
       "      <th>uri</th>\n",
       "      <th>event_type</th>\n",
       "      <th>year</th>\n",
       "      <th>month</th>\n",
       "      <th>day</th>\n",
       "      <th>date</th>\n",
       "    </tr>\n",
       "  </thead>\n",
       "  <tbody>\n",
       "    <tr>\n",
       "      <th>0</th>\n",
       "      <td>2198523</td>\n",
       "      <td>&lt;NA&gt;</td>\n",
       "      <td>3</td>\n",
       "      <td>83889ed2-2adc-4b9a-af5d-154f6998e778</td>\n",
       "      <td>2021-06-17 17:30:00+00:00</td>\n",
       "      <td>138.143.9.202</td>\n",
       "      <td>São Paulo</td>\n",
       "      <td>São Paulo</td>\n",
       "      <td>02675-031</td>\n",
       "      <td>Chrome</td>\n",
       "      <td>Adwords</td>\n",
       "      <td>/cancel</td>\n",
       "      <td>cancel</td>\n",
       "      <td>2021</td>\n",
       "      <td>6</td>\n",
       "      <td>17</td>\n",
       "      <td>2021-06-17</td>\n",
       "    </tr>\n",
       "    <tr>\n",
       "      <th>1</th>\n",
       "      <td>1773216</td>\n",
       "      <td>&lt;NA&gt;</td>\n",
       "      <td>3</td>\n",
       "      <td>7a3fc3f2-e84f-44fe-8876-eff76741f7a3</td>\n",
       "      <td>2020-08-07 08:41:00+00:00</td>\n",
       "      <td>85.114.141.79</td>\n",
       "      <td>Santa Isabel</td>\n",
       "      <td>São Paulo</td>\n",
       "      <td>07500-000</td>\n",
       "      <td>Safari</td>\n",
       "      <td>Adwords</td>\n",
       "      <td>/cancel</td>\n",
       "      <td>cancel</td>\n",
       "      <td>2020</td>\n",
       "      <td>8</td>\n",
       "      <td>7</td>\n",
       "      <td>2020-08-07</td>\n",
       "    </tr>\n",
       "    <tr>\n",
       "      <th>2</th>\n",
       "      <td>2380515</td>\n",
       "      <td>&lt;NA&gt;</td>\n",
       "      <td>3</td>\n",
       "      <td>13d9b2fb-eee1-43fd-965c-267b38dd7125</td>\n",
       "      <td>2021-02-15 18:48:00+00:00</td>\n",
       "      <td>169.250.255.132</td>\n",
       "      <td>Mairiporã</td>\n",
       "      <td>São Paulo</td>\n",
       "      <td>07600-000</td>\n",
       "      <td>IE</td>\n",
       "      <td>Adwords</td>\n",
       "      <td>/cancel</td>\n",
       "      <td>cancel</td>\n",
       "      <td>2021</td>\n",
       "      <td>2</td>\n",
       "      <td>15</td>\n",
       "      <td>2021-02-15</td>\n",
       "    </tr>\n",
       "    <tr>\n",
       "      <th>3</th>\n",
       "      <td>2250597</td>\n",
       "      <td>&lt;NA&gt;</td>\n",
       "      <td>3</td>\n",
       "      <td>96f1d44e-9621-463c-954c-d8deb7fffe7f</td>\n",
       "      <td>2022-03-30 10:56:00+00:00</td>\n",
       "      <td>137.25.222.160</td>\n",
       "      <td>Cajamar</td>\n",
       "      <td>São Paulo</td>\n",
       "      <td>07750-000</td>\n",
       "      <td>Chrome</td>\n",
       "      <td>Adwords</td>\n",
       "      <td>/cancel</td>\n",
       "      <td>cancel</td>\n",
       "      <td>2022</td>\n",
       "      <td>3</td>\n",
       "      <td>30</td>\n",
       "      <td>2022-03-30</td>\n",
       "    </tr>\n",
       "    <tr>\n",
       "      <th>4</th>\n",
       "      <td>1834446</td>\n",
       "      <td>&lt;NA&gt;</td>\n",
       "      <td>3</td>\n",
       "      <td>d09dce10-a7cb-47d3-a9af-44975566fa03</td>\n",
       "      <td>2019-09-05 01:18:00+00:00</td>\n",
       "      <td>161.114.4.174</td>\n",
       "      <td>São Paulo</td>\n",
       "      <td>São Paulo</td>\n",
       "      <td>09581-680</td>\n",
       "      <td>Chrome</td>\n",
       "      <td>Email</td>\n",
       "      <td>/cancel</td>\n",
       "      <td>cancel</td>\n",
       "      <td>2019</td>\n",
       "      <td>9</td>\n",
       "      <td>5</td>\n",
       "      <td>2019-09-05</td>\n",
       "    </tr>\n",
       "  </tbody>\n",
       "</table>\n",
       "</div>"
      ],
      "text/plain": [
       "   event_id  user_id  sequence_number                            session_id  \\\n",
       "0   2198523     <NA>                3  83889ed2-2adc-4b9a-af5d-154f6998e778   \n",
       "1   1773216     <NA>                3  7a3fc3f2-e84f-44fe-8876-eff76741f7a3   \n",
       "2   2380515     <NA>                3  13d9b2fb-eee1-43fd-965c-267b38dd7125   \n",
       "3   2250597     <NA>                3  96f1d44e-9621-463c-954c-d8deb7fffe7f   \n",
       "4   1834446     <NA>                3  d09dce10-a7cb-47d3-a9af-44975566fa03   \n",
       "\n",
       "           event_created_at       ip_address          city      state  \\\n",
       "0 2021-06-17 17:30:00+00:00    138.143.9.202     São Paulo  São Paulo   \n",
       "1 2020-08-07 08:41:00+00:00    85.114.141.79  Santa Isabel  São Paulo   \n",
       "2 2021-02-15 18:48:00+00:00  169.250.255.132     Mairiporã  São Paulo   \n",
       "3 2022-03-30 10:56:00+00:00   137.25.222.160       Cajamar  São Paulo   \n",
       "4 2019-09-05 01:18:00+00:00    161.114.4.174     São Paulo  São Paulo   \n",
       "\n",
       "  postal_code browser event_traffic_source      uri event_type  year  month  \\\n",
       "0   02675-031  Chrome              Adwords  /cancel     cancel  2021      6   \n",
       "1   07500-000  Safari              Adwords  /cancel     cancel  2020      8   \n",
       "2   07600-000      IE              Adwords  /cancel     cancel  2021      2   \n",
       "3   07750-000  Chrome              Adwords  /cancel     cancel  2022      3   \n",
       "4   09581-680  Chrome                Email  /cancel     cancel  2019      9   \n",
       "\n",
       "   day        date  \n",
       "0   17  2021-06-17  \n",
       "1    7  2020-08-07  \n",
       "2   15  2021-02-15  \n",
       "3   30  2022-03-30  \n",
       "4    5  2019-09-05  "
      ]
     },
     "execution_count": 63,
     "metadata": {},
     "output_type": "execute_result"
    }
   ],
   "source": [
    "events['year'] = events['event_created_at'].dt.year\n",
    "events['month'] = events['event_created_at'].dt.month\n",
    "events['day'] = events['event_created_at'].dt.day\n",
    "events['date'] = pd.to_datetime(events['event_created_at']).dt.date\n",
    "events.head()"
   ]
  },
  {
   "cell_type": "code",
   "execution_count": null,
   "metadata": {},
   "outputs": [
    {
     "data": {
      "text/html": [
       "<div>\n",
       "<style scoped>\n",
       "    .dataframe tbody tr th:only-of-type {\n",
       "        vertical-align: middle;\n",
       "    }\n",
       "\n",
       "    .dataframe tbody tr th {\n",
       "        vertical-align: top;\n",
       "    }\n",
       "\n",
       "    .dataframe thead th {\n",
       "        text-align: right;\n",
       "    }\n",
       "</style>\n",
       "<table border=\"1\" class=\"dataframe\">\n",
       "  <thead>\n",
       "    <tr style=\"text-align: right;\">\n",
       "      <th></th>\n",
       "      <th>count</th>\n",
       "    </tr>\n",
       "    <tr>\n",
       "      <th>month</th>\n",
       "      <th></th>\n",
       "    </tr>\n",
       "  </thead>\n",
       "  <tbody>\n",
       "    <tr>\n",
       "      <th>11</th>\n",
       "      <td>223860</td>\n",
       "    </tr>\n",
       "    <tr>\n",
       "      <th>10</th>\n",
       "      <td>220725</td>\n",
       "    </tr>\n",
       "    <tr>\n",
       "      <th>9</th>\n",
       "      <td>202876</td>\n",
       "    </tr>\n",
       "    <tr>\n",
       "      <th>8</th>\n",
       "      <td>201212</td>\n",
       "    </tr>\n",
       "    <tr>\n",
       "      <th>7</th>\n",
       "      <td>196633</td>\n",
       "    </tr>\n",
       "    <tr>\n",
       "      <th>5</th>\n",
       "      <td>185615</td>\n",
       "    </tr>\n",
       "    <tr>\n",
       "      <th>6</th>\n",
       "      <td>182695</td>\n",
       "    </tr>\n",
       "    <tr>\n",
       "      <th>3</th>\n",
       "      <td>173776</td>\n",
       "    </tr>\n",
       "    <tr>\n",
       "      <th>4</th>\n",
       "      <td>171811</td>\n",
       "    </tr>\n",
       "    <tr>\n",
       "      <th>1</th>\n",
       "      <td>166088</td>\n",
       "    </tr>\n",
       "    <tr>\n",
       "      <th>2</th>\n",
       "      <td>152654</td>\n",
       "    </tr>\n",
       "    <tr>\n",
       "      <th>12</th>\n",
       "      <td>142822</td>\n",
       "    </tr>\n",
       "  </tbody>\n",
       "</table>\n",
       "</div>"
      ],
      "text/plain": [
       "        count\n",
       "month        \n",
       "11     223860\n",
       "10     220725\n",
       "9      202876\n",
       "8      201212\n",
       "7      196633\n",
       "5      185615\n",
       "6      182695\n",
       "3      173776\n",
       "4      171811\n",
       "1      166088\n",
       "2      152654\n",
       "12     142822"
      ]
     },
     "execution_count": 64,
     "metadata": {},
     "output_type": "execute_result"
    }
   ],
   "source": [
    "# 월별 유저 행동 카운트 \n",
    "\"\"\"\n",
    "-> 보기만 하고 안산 유저\n",
    "-> 고객 구매까지의 여정이 짧음 \n",
    "\"\"\"\n",
    "\n",
    "pd.DataFrame(events['month'].value_counts())"
   ]
  },
  {
   "cell_type": "code",
   "execution_count": null,
   "metadata": {},
   "outputs": [
    {
     "data": {
      "text/plain": [
       "month\n",
       "12     6340\n",
       "2      6353\n",
       "1      6837\n",
       "3      7513\n",
       "4      7666\n",
       "5      8393\n",
       "6      8674\n",
       "7      9459\n",
       "8     10007\n",
       "9     10409\n",
       "10    11559\n",
       "11    12356\n",
       "Name: user_id, dtype: int64"
      ]
     },
     "execution_count": 65,
     "metadata": {},
     "output_type": "execute_result"
    }
   ],
   "source": [
    "# 월별 사용자 이용수  (유니크 id)\n",
    "\n",
    "unique_user_counts = events.groupby('month')['user_id'].nunique()\n",
    "unique_user_counts.sort_values()"
   ]
  },
  {
   "cell_type": "markdown",
   "metadata": {},
   "source": [
    "## DAU (일간 활성 사용자수) 추이"
   ]
  },
  {
   "cell_type": "code",
   "execution_count": null,
   "metadata": {},
   "outputs": [
    {
     "data": {
      "text/html": [
       "<div>\n",
       "<style scoped>\n",
       "    .dataframe tbody tr th:only-of-type {\n",
       "        vertical-align: middle;\n",
       "    }\n",
       "\n",
       "    .dataframe tbody tr th {\n",
       "        vertical-align: top;\n",
       "    }\n",
       "\n",
       "    .dataframe thead th {\n",
       "        text-align: right;\n",
       "    }\n",
       "</style>\n",
       "<table border=\"1\" class=\"dataframe\">\n",
       "  <thead>\n",
       "    <tr style=\"text-align: right;\">\n",
       "      <th></th>\n",
       "      <th>date</th>\n",
       "      <th>dau</th>\n",
       "    </tr>\n",
       "  </thead>\n",
       "  <tbody>\n",
       "    <tr>\n",
       "      <th>0</th>\n",
       "      <td>2019-01-02</td>\n",
       "      <td>0</td>\n",
       "    </tr>\n",
       "    <tr>\n",
       "      <th>1</th>\n",
       "      <td>2019-01-03</td>\n",
       "      <td>0</td>\n",
       "    </tr>\n",
       "    <tr>\n",
       "      <th>2</th>\n",
       "      <td>2019-01-04</td>\n",
       "      <td>0</td>\n",
       "    </tr>\n",
       "    <tr>\n",
       "      <th>3</th>\n",
       "      <td>2019-01-05</td>\n",
       "      <td>0</td>\n",
       "    </tr>\n",
       "    <tr>\n",
       "      <th>4</th>\n",
       "      <td>2019-01-06</td>\n",
       "      <td>1</td>\n",
       "    </tr>\n",
       "    <tr>\n",
       "      <th>...</th>\n",
       "      <td>...</td>\n",
       "      <td>...</td>\n",
       "    </tr>\n",
       "    <tr>\n",
       "      <th>1789</th>\n",
       "      <td>2023-11-26</td>\n",
       "      <td>388</td>\n",
       "    </tr>\n",
       "    <tr>\n",
       "      <th>1790</th>\n",
       "      <td>2023-11-27</td>\n",
       "      <td>361</td>\n",
       "    </tr>\n",
       "    <tr>\n",
       "      <th>1791</th>\n",
       "      <td>2023-11-28</td>\n",
       "      <td>357</td>\n",
       "    </tr>\n",
       "    <tr>\n",
       "      <th>1792</th>\n",
       "      <td>2023-11-29</td>\n",
       "      <td>364</td>\n",
       "    </tr>\n",
       "    <tr>\n",
       "      <th>1793</th>\n",
       "      <td>2023-11-30</td>\n",
       "      <td>349</td>\n",
       "    </tr>\n",
       "  </tbody>\n",
       "</table>\n",
       "<p>1794 rows × 2 columns</p>\n",
       "</div>"
      ],
      "text/plain": [
       "            date  dau\n",
       "0     2019-01-02    0\n",
       "1     2019-01-03    0\n",
       "2     2019-01-04    0\n",
       "3     2019-01-05    0\n",
       "4     2019-01-06    1\n",
       "...          ...  ...\n",
       "1789  2023-11-26  388\n",
       "1790  2023-11-27  361\n",
       "1791  2023-11-28  357\n",
       "1792  2023-11-29  364\n",
       "1793  2023-11-30  349\n",
       "\n",
       "[1794 rows x 2 columns]"
      ]
     },
     "execution_count": 66,
     "metadata": {},
     "output_type": "execute_result"
    }
   ],
   "source": [
    "dau = events.groupby('date')[['user_id']].nunique().reset_index().rename({'user_id':'dau'}, axis=1)\n",
    "dau"
   ]
  },
  {
   "cell_type": "code",
   "execution_count": null,
   "metadata": {},
   "outputs": [
    {
     "data": {
      "application/vnd.plotly.v1+json": {
       "config": {
        "plotlyServerURL": "https://plot.ly"
       },
       "data": [
        {
         "hovertemplate": "date=%{x}<br>dau=%{y}<extra></extra>",
         "legendgroup": "",
         "line": {
          "color": "#636efa",
          "dash": "solid"
         },
         "marker": {
          "symbol": "circle"
         },
         "mode": "lines",
         "name": "",
         "showlegend": false,
         "type": "scattergl",
         "x": [
          "2019-01-02",
          "2019-01-03",
          "2019-01-04",
          "2019-01-05",
          "2019-01-06",
          "2019-01-07",
          "2019-01-08",
          "2019-01-09",
          "2019-01-10",
          "2019-01-11",
          "2019-01-12",
          "2019-01-13",
          "2019-01-14",
          "2019-01-15",
          "2019-01-16",
          "2019-01-17",
          "2019-01-18",
          "2019-01-19",
          "2019-01-20",
          "2019-01-21",
          "2019-01-22",
          "2019-01-23",
          "2019-01-24",
          "2019-01-25",
          "2019-01-26",
          "2019-01-27",
          "2019-01-28",
          "2019-01-29",
          "2019-01-30",
          "2019-01-31",
          "2019-02-01",
          "2019-02-02",
          "2019-02-03",
          "2019-02-04",
          "2019-02-05",
          "2019-02-06",
          "2019-02-07",
          "2019-02-08",
          "2019-02-09",
          "2019-02-10",
          "2019-02-11",
          "2019-02-12",
          "2019-02-13",
          "2019-02-14",
          "2019-02-15",
          "2019-02-16",
          "2019-02-17",
          "2019-02-18",
          "2019-02-19",
          "2019-02-20",
          "2019-02-21",
          "2019-02-22",
          "2019-02-23",
          "2019-02-24",
          "2019-02-25",
          "2019-02-26",
          "2019-02-27",
          "2019-02-28",
          "2019-03-01",
          "2019-03-02",
          "2019-03-03",
          "2019-03-04",
          "2019-03-05",
          "2019-03-06",
          "2019-03-07",
          "2019-03-08",
          "2019-03-09",
          "2019-03-10",
          "2019-03-11",
          "2019-03-12",
          "2019-03-13",
          "2019-03-14",
          "2019-03-15",
          "2019-03-16",
          "2019-03-17",
          "2019-03-18",
          "2019-03-19",
          "2019-03-20",
          "2019-03-21",
          "2019-03-22",
          "2019-03-23",
          "2019-03-24",
          "2019-03-25",
          "2019-03-26",
          "2019-03-27",
          "2019-03-28",
          "2019-03-29",
          "2019-03-30",
          "2019-03-31",
          "2019-04-01",
          "2019-04-02",
          "2019-04-03",
          "2019-04-04",
          "2019-04-05",
          "2019-04-06",
          "2019-04-07",
          "2019-04-08",
          "2019-04-09",
          "2019-04-10",
          "2019-04-11",
          "2019-04-12",
          "2019-04-13",
          "2019-04-14",
          "2019-04-15",
          "2019-04-16",
          "2019-04-17",
          "2019-04-18",
          "2019-04-19",
          "2019-04-20",
          "2019-04-21",
          "2019-04-22",
          "2019-04-23",
          "2019-04-24",
          "2019-04-25",
          "2019-04-26",
          "2019-04-27",
          "2019-04-28",
          "2019-04-29",
          "2019-04-30",
          "2019-05-01",
          "2019-05-02",
          "2019-05-03",
          "2019-05-04",
          "2019-05-05",
          "2019-05-06",
          "2019-05-07",
          "2019-05-08",
          "2019-05-09",
          "2019-05-10",
          "2019-05-11",
          "2019-05-12",
          "2019-05-13",
          "2019-05-14",
          "2019-05-15",
          "2019-05-16",
          "2019-05-17",
          "2019-05-18",
          "2019-05-19",
          "2019-05-20",
          "2019-05-21",
          "2019-05-22",
          "2019-05-23",
          "2019-05-24",
          "2019-05-25",
          "2019-05-26",
          "2019-05-27",
          "2019-05-28",
          "2019-05-29",
          "2019-05-30",
          "2019-05-31",
          "2019-06-01",
          "2019-06-02",
          "2019-06-03",
          "2019-06-04",
          "2019-06-05",
          "2019-06-06",
          "2019-06-07",
          "2019-06-08",
          "2019-06-09",
          "2019-06-10",
          "2019-06-11",
          "2019-06-12",
          "2019-06-13",
          "2019-06-14",
          "2019-06-15",
          "2019-06-16",
          "2019-06-17",
          "2019-06-18",
          "2019-06-19",
          "2019-06-20",
          "2019-06-21",
          "2019-06-22",
          "2019-06-23",
          "2019-06-24",
          "2019-06-25",
          "2019-06-26",
          "2019-06-27",
          "2019-06-28",
          "2019-06-29",
          "2019-06-30",
          "2019-07-01",
          "2019-07-02",
          "2019-07-03",
          "2019-07-04",
          "2019-07-05",
          "2019-07-06",
          "2019-07-07",
          "2019-07-08",
          "2019-07-09",
          "2019-07-10",
          "2019-07-11",
          "2019-07-12",
          "2019-07-13",
          "2019-07-14",
          "2019-07-15",
          "2019-07-16",
          "2019-07-17",
          "2019-07-18",
          "2019-07-19",
          "2019-07-20",
          "2019-07-21",
          "2019-07-22",
          "2019-07-23",
          "2019-07-24",
          "2019-07-25",
          "2019-07-26",
          "2019-07-27",
          "2019-07-28",
          "2019-07-29",
          "2019-07-30",
          "2019-07-31",
          "2019-08-01",
          "2019-08-02",
          "2019-08-03",
          "2019-08-04",
          "2019-08-05",
          "2019-08-06",
          "2019-08-07",
          "2019-08-08",
          "2019-08-09",
          "2019-08-10",
          "2019-08-11",
          "2019-08-12",
          "2019-08-13",
          "2019-08-14",
          "2019-08-15",
          "2019-08-16",
          "2019-08-17",
          "2019-08-18",
          "2019-08-19",
          "2019-08-20",
          "2019-08-21",
          "2019-08-22",
          "2019-08-23",
          "2019-08-24",
          "2019-08-25",
          "2019-08-26",
          "2019-08-27",
          "2019-08-28",
          "2019-08-29",
          "2019-08-30",
          "2019-08-31",
          "2019-09-01",
          "2019-09-02",
          "2019-09-03",
          "2019-09-04",
          "2019-09-05",
          "2019-09-06",
          "2019-09-07",
          "2019-09-08",
          "2019-09-09",
          "2019-09-10",
          "2019-09-11",
          "2019-09-12",
          "2019-09-13",
          "2019-09-14",
          "2019-09-15",
          "2019-09-16",
          "2019-09-17",
          "2019-09-18",
          "2019-09-19",
          "2019-09-20",
          "2019-09-21",
          "2019-09-22",
          "2019-09-23",
          "2019-09-24",
          "2019-09-25",
          "2019-09-26",
          "2019-09-27",
          "2019-09-28",
          "2019-09-29",
          "2019-09-30",
          "2019-10-01",
          "2019-10-02",
          "2019-10-03",
          "2019-10-04",
          "2019-10-05",
          "2019-10-06",
          "2019-10-07",
          "2019-10-08",
          "2019-10-09",
          "2019-10-10",
          "2019-10-11",
          "2019-10-12",
          "2019-10-13",
          "2019-10-14",
          "2019-10-15",
          "2019-10-16",
          "2019-10-17",
          "2019-10-18",
          "2019-10-19",
          "2019-10-20",
          "2019-10-21",
          "2019-10-22",
          "2019-10-23",
          "2019-10-24",
          "2019-10-25",
          "2019-10-26",
          "2019-10-27",
          "2019-10-28",
          "2019-10-29",
          "2019-10-30",
          "2019-10-31",
          "2019-11-01",
          "2019-11-02",
          "2019-11-03",
          "2019-11-04",
          "2019-11-05",
          "2019-11-06",
          "2019-11-07",
          "2019-11-08",
          "2019-11-09",
          "2019-11-10",
          "2019-11-11",
          "2019-11-12",
          "2019-11-13",
          "2019-11-14",
          "2019-11-15",
          "2019-11-16",
          "2019-11-17",
          "2019-11-18",
          "2019-11-19",
          "2019-11-20",
          "2019-11-21",
          "2019-11-22",
          "2019-11-23",
          "2019-11-24",
          "2019-11-25",
          "2019-11-26",
          "2019-11-27",
          "2019-11-28",
          "2019-11-29",
          "2019-11-30",
          "2019-12-01",
          "2019-12-02",
          "2019-12-03",
          "2019-12-04",
          "2019-12-05",
          "2019-12-06",
          "2019-12-07",
          "2019-12-08",
          "2019-12-09",
          "2019-12-10",
          "2019-12-11",
          "2019-12-12",
          "2019-12-13",
          "2019-12-14",
          "2019-12-15",
          "2019-12-16",
          "2019-12-17",
          "2019-12-18",
          "2019-12-19",
          "2019-12-20",
          "2019-12-21",
          "2019-12-22",
          "2019-12-23",
          "2019-12-24",
          "2019-12-25",
          "2019-12-26",
          "2019-12-27",
          "2019-12-28",
          "2019-12-29",
          "2019-12-30",
          "2019-12-31",
          "2020-01-01",
          "2020-01-02",
          "2020-01-03",
          "2020-01-04",
          "2020-01-05",
          "2020-01-06",
          "2020-01-07",
          "2020-01-08",
          "2020-01-09",
          "2020-01-10",
          "2020-01-11",
          "2020-01-12",
          "2020-01-13",
          "2020-01-14",
          "2020-01-15",
          "2020-01-16",
          "2020-01-17",
          "2020-01-18",
          "2020-01-19",
          "2020-01-20",
          "2020-01-21",
          "2020-01-22",
          "2020-01-23",
          "2020-01-24",
          "2020-01-25",
          "2020-01-26",
          "2020-01-27",
          "2020-01-28",
          "2020-01-29",
          "2020-01-30",
          "2020-01-31",
          "2020-02-01",
          "2020-02-02",
          "2020-02-03",
          "2020-02-04",
          "2020-02-05",
          "2020-02-06",
          "2020-02-07",
          "2020-02-08",
          "2020-02-09",
          "2020-02-10",
          "2020-02-11",
          "2020-02-12",
          "2020-02-13",
          "2020-02-14",
          "2020-02-15",
          "2020-02-16",
          "2020-02-17",
          "2020-02-18",
          "2020-02-19",
          "2020-02-20",
          "2020-02-21",
          "2020-02-22",
          "2020-02-23",
          "2020-02-24",
          "2020-02-25",
          "2020-02-26",
          "2020-02-27",
          "2020-02-28",
          "2020-02-29",
          "2020-03-01",
          "2020-03-02",
          "2020-03-03",
          "2020-03-04",
          "2020-03-05",
          "2020-03-06",
          "2020-03-07",
          "2020-03-08",
          "2020-03-09",
          "2020-03-10",
          "2020-03-11",
          "2020-03-12",
          "2020-03-13",
          "2020-03-14",
          "2020-03-15",
          "2020-03-16",
          "2020-03-17",
          "2020-03-18",
          "2020-03-19",
          "2020-03-20",
          "2020-03-21",
          "2020-03-22",
          "2020-03-23",
          "2020-03-24",
          "2020-03-25",
          "2020-03-26",
          "2020-03-27",
          "2020-03-28",
          "2020-03-29",
          "2020-03-30",
          "2020-03-31",
          "2020-04-01",
          "2020-04-02",
          "2020-04-03",
          "2020-04-04",
          "2020-04-05",
          "2020-04-06",
          "2020-04-07",
          "2020-04-08",
          "2020-04-09",
          "2020-04-10",
          "2020-04-11",
          "2020-04-12",
          "2020-04-13",
          "2020-04-14",
          "2020-04-15",
          "2020-04-16",
          "2020-04-17",
          "2020-04-18",
          "2020-04-19",
          "2020-04-20",
          "2020-04-21",
          "2020-04-22",
          "2020-04-23",
          "2020-04-24",
          "2020-04-25",
          "2020-04-26",
          "2020-04-27",
          "2020-04-28",
          "2020-04-29",
          "2020-04-30",
          "2020-05-01",
          "2020-05-02",
          "2020-05-03",
          "2020-05-04",
          "2020-05-05",
          "2020-05-06",
          "2020-05-07",
          "2020-05-08",
          "2020-05-09",
          "2020-05-10",
          "2020-05-11",
          "2020-05-12",
          "2020-05-13",
          "2020-05-14",
          "2020-05-15",
          "2020-05-16",
          "2020-05-17",
          "2020-05-18",
          "2020-05-19",
          "2020-05-20",
          "2020-05-21",
          "2020-05-22",
          "2020-05-23",
          "2020-05-24",
          "2020-05-25",
          "2020-05-26",
          "2020-05-27",
          "2020-05-28",
          "2020-05-29",
          "2020-05-30",
          "2020-05-31",
          "2020-06-01",
          "2020-06-02",
          "2020-06-03",
          "2020-06-04",
          "2020-06-05",
          "2020-06-06",
          "2020-06-07",
          "2020-06-08",
          "2020-06-09",
          "2020-06-10",
          "2020-06-11",
          "2020-06-12",
          "2020-06-13",
          "2020-06-14",
          "2020-06-15",
          "2020-06-16",
          "2020-06-17",
          "2020-06-18",
          "2020-06-19",
          "2020-06-20",
          "2020-06-21",
          "2020-06-22",
          "2020-06-23",
          "2020-06-24",
          "2020-06-25",
          "2020-06-26",
          "2020-06-27",
          "2020-06-28",
          "2020-06-29",
          "2020-06-30",
          "2020-07-01",
          "2020-07-02",
          "2020-07-03",
          "2020-07-04",
          "2020-07-05",
          "2020-07-06",
          "2020-07-07",
          "2020-07-08",
          "2020-07-09",
          "2020-07-10",
          "2020-07-11",
          "2020-07-12",
          "2020-07-13",
          "2020-07-14",
          "2020-07-15",
          "2020-07-16",
          "2020-07-17",
          "2020-07-18",
          "2020-07-19",
          "2020-07-20",
          "2020-07-21",
          "2020-07-22",
          "2020-07-23",
          "2020-07-24",
          "2020-07-25",
          "2020-07-26",
          "2020-07-27",
          "2020-07-28",
          "2020-07-29",
          "2020-07-30",
          "2020-07-31",
          "2020-08-01",
          "2020-08-02",
          "2020-08-03",
          "2020-08-04",
          "2020-08-05",
          "2020-08-06",
          "2020-08-07",
          "2020-08-08",
          "2020-08-09",
          "2020-08-10",
          "2020-08-11",
          "2020-08-12",
          "2020-08-13",
          "2020-08-14",
          "2020-08-15",
          "2020-08-16",
          "2020-08-17",
          "2020-08-18",
          "2020-08-19",
          "2020-08-20",
          "2020-08-21",
          "2020-08-22",
          "2020-08-23",
          "2020-08-24",
          "2020-08-25",
          "2020-08-26",
          "2020-08-27",
          "2020-08-28",
          "2020-08-29",
          "2020-08-30",
          "2020-08-31",
          "2020-09-01",
          "2020-09-02",
          "2020-09-03",
          "2020-09-04",
          "2020-09-05",
          "2020-09-06",
          "2020-09-07",
          "2020-09-08",
          "2020-09-09",
          "2020-09-10",
          "2020-09-11",
          "2020-09-12",
          "2020-09-13",
          "2020-09-14",
          "2020-09-15",
          "2020-09-16",
          "2020-09-17",
          "2020-09-18",
          "2020-09-19",
          "2020-09-20",
          "2020-09-21",
          "2020-09-22",
          "2020-09-23",
          "2020-09-24",
          "2020-09-25",
          "2020-09-26",
          "2020-09-27",
          "2020-09-28",
          "2020-09-29",
          "2020-09-30",
          "2020-10-01",
          "2020-10-02",
          "2020-10-03",
          "2020-10-04",
          "2020-10-05",
          "2020-10-06",
          "2020-10-07",
          "2020-10-08",
          "2020-10-09",
          "2020-10-10",
          "2020-10-11",
          "2020-10-12",
          "2020-10-13",
          "2020-10-14",
          "2020-10-15",
          "2020-10-16",
          "2020-10-17",
          "2020-10-18",
          "2020-10-19",
          "2020-10-20",
          "2020-10-21",
          "2020-10-22",
          "2020-10-23",
          "2020-10-24",
          "2020-10-25",
          "2020-10-26",
          "2020-10-27",
          "2020-10-28",
          "2020-10-29",
          "2020-10-30",
          "2020-10-31",
          "2020-11-01",
          "2020-11-02",
          "2020-11-03",
          "2020-11-04",
          "2020-11-05",
          "2020-11-06",
          "2020-11-07",
          "2020-11-08",
          "2020-11-09",
          "2020-11-10",
          "2020-11-11",
          "2020-11-12",
          "2020-11-13",
          "2020-11-14",
          "2020-11-15",
          "2020-11-16",
          "2020-11-17",
          "2020-11-18",
          "2020-11-19",
          "2020-11-20",
          "2020-11-21",
          "2020-11-22",
          "2020-11-23",
          "2020-11-24",
          "2020-11-25",
          "2020-11-26",
          "2020-11-27",
          "2020-11-28",
          "2020-11-29",
          "2020-11-30",
          "2020-12-01",
          "2020-12-02",
          "2020-12-03",
          "2020-12-04",
          "2020-12-05",
          "2020-12-06",
          "2020-12-07",
          "2020-12-08",
          "2020-12-09",
          "2020-12-10",
          "2020-12-11",
          "2020-12-12",
          "2020-12-13",
          "2020-12-14",
          "2020-12-15",
          "2020-12-16",
          "2020-12-17",
          "2020-12-18",
          "2020-12-19",
          "2020-12-20",
          "2020-12-21",
          "2020-12-22",
          "2020-12-23",
          "2020-12-24",
          "2020-12-25",
          "2020-12-26",
          "2020-12-27",
          "2020-12-28",
          "2020-12-29",
          "2020-12-30",
          "2020-12-31",
          "2021-01-01",
          "2021-01-02",
          "2021-01-03",
          "2021-01-04",
          "2021-01-05",
          "2021-01-06",
          "2021-01-07",
          "2021-01-08",
          "2021-01-09",
          "2021-01-10",
          "2021-01-11",
          "2021-01-12",
          "2021-01-13",
          "2021-01-14",
          "2021-01-15",
          "2021-01-16",
          "2021-01-17",
          "2021-01-18",
          "2021-01-19",
          "2021-01-20",
          "2021-01-21",
          "2021-01-22",
          "2021-01-23",
          "2021-01-24",
          "2021-01-25",
          "2021-01-26",
          "2021-01-27",
          "2021-01-28",
          "2021-01-29",
          "2021-01-30",
          "2021-01-31",
          "2021-02-01",
          "2021-02-02",
          "2021-02-03",
          "2021-02-04",
          "2021-02-05",
          "2021-02-06",
          "2021-02-07",
          "2021-02-08",
          "2021-02-09",
          "2021-02-10",
          "2021-02-11",
          "2021-02-12",
          "2021-02-13",
          "2021-02-14",
          "2021-02-15",
          "2021-02-16",
          "2021-02-17",
          "2021-02-18",
          "2021-02-19",
          "2021-02-20",
          "2021-02-21",
          "2021-02-22",
          "2021-02-23",
          "2021-02-24",
          "2021-02-25",
          "2021-02-26",
          "2021-02-27",
          "2021-02-28",
          "2021-03-01",
          "2021-03-02",
          "2021-03-03",
          "2021-03-04",
          "2021-03-05",
          "2021-03-06",
          "2021-03-07",
          "2021-03-08",
          "2021-03-09",
          "2021-03-10",
          "2021-03-11",
          "2021-03-12",
          "2021-03-13",
          "2021-03-14",
          "2021-03-15",
          "2021-03-16",
          "2021-03-17",
          "2021-03-18",
          "2021-03-19",
          "2021-03-20",
          "2021-03-21",
          "2021-03-22",
          "2021-03-23",
          "2021-03-24",
          "2021-03-25",
          "2021-03-26",
          "2021-03-27",
          "2021-03-28",
          "2021-03-29",
          "2021-03-30",
          "2021-03-31",
          "2021-04-01",
          "2021-04-02",
          "2021-04-03",
          "2021-04-04",
          "2021-04-05",
          "2021-04-06",
          "2021-04-07",
          "2021-04-08",
          "2021-04-09",
          "2021-04-10",
          "2021-04-11",
          "2021-04-12",
          "2021-04-13",
          "2021-04-14",
          "2021-04-15",
          "2021-04-16",
          "2021-04-17",
          "2021-04-18",
          "2021-04-19",
          "2021-04-20",
          "2021-04-21",
          "2021-04-22",
          "2021-04-23",
          "2021-04-24",
          "2021-04-25",
          "2021-04-26",
          "2021-04-27",
          "2021-04-28",
          "2021-04-29",
          "2021-04-30",
          "2021-05-01",
          "2021-05-02",
          "2021-05-03",
          "2021-05-04",
          "2021-05-05",
          "2021-05-06",
          "2021-05-07",
          "2021-05-08",
          "2021-05-09",
          "2021-05-10",
          "2021-05-11",
          "2021-05-12",
          "2021-05-13",
          "2021-05-14",
          "2021-05-15",
          "2021-05-16",
          "2021-05-17",
          "2021-05-18",
          "2021-05-19",
          "2021-05-20",
          "2021-05-21",
          "2021-05-22",
          "2021-05-23",
          "2021-05-24",
          "2021-05-25",
          "2021-05-26",
          "2021-05-27",
          "2021-05-28",
          "2021-05-29",
          "2021-05-30",
          "2021-05-31",
          "2021-06-01",
          "2021-06-02",
          "2021-06-03",
          "2021-06-04",
          "2021-06-05",
          "2021-06-06",
          "2021-06-07",
          "2021-06-08",
          "2021-06-09",
          "2021-06-10",
          "2021-06-11",
          "2021-06-12",
          "2021-06-13",
          "2021-06-14",
          "2021-06-15",
          "2021-06-16",
          "2021-06-17",
          "2021-06-18",
          "2021-06-19",
          "2021-06-20",
          "2021-06-21",
          "2021-06-22",
          "2021-06-23",
          "2021-06-24",
          "2021-06-25",
          "2021-06-26",
          "2021-06-27",
          "2021-06-28",
          "2021-06-29",
          "2021-06-30",
          "2021-07-01",
          "2021-07-02",
          "2021-07-03",
          "2021-07-04",
          "2021-07-05",
          "2021-07-06",
          "2021-07-07",
          "2021-07-08",
          "2021-07-09",
          "2021-07-10",
          "2021-07-11",
          "2021-07-12",
          "2021-07-13",
          "2021-07-14",
          "2021-07-15",
          "2021-07-16",
          "2021-07-17",
          "2021-07-18",
          "2021-07-19",
          "2021-07-20",
          "2021-07-21",
          "2021-07-22",
          "2021-07-23",
          "2021-07-24",
          "2021-07-25",
          "2021-07-26",
          "2021-07-27",
          "2021-07-28",
          "2021-07-29",
          "2021-07-30",
          "2021-07-31",
          "2021-08-01",
          "2021-08-02",
          "2021-08-03",
          "2021-08-04",
          "2021-08-05",
          "2021-08-06",
          "2021-08-07",
          "2021-08-08",
          "2021-08-09",
          "2021-08-10",
          "2021-08-11",
          "2021-08-12",
          "2021-08-13",
          "2021-08-14",
          "2021-08-15",
          "2021-08-16",
          "2021-08-17",
          "2021-08-18",
          "2021-08-19",
          "2021-08-20",
          "2021-08-21",
          "2021-08-22",
          "2021-08-23",
          "2021-08-24",
          "2021-08-25",
          "2021-08-26",
          "2021-08-27",
          "2021-08-28",
          "2021-08-29",
          "2021-08-30",
          "2021-08-31",
          "2021-09-01",
          "2021-09-02",
          "2021-09-03",
          "2021-09-04",
          "2021-09-05",
          "2021-09-06",
          "2021-09-07",
          "2021-09-08",
          "2021-09-09",
          "2021-09-10",
          "2021-09-11",
          "2021-09-12",
          "2021-09-13",
          "2021-09-14",
          "2021-09-15",
          "2021-09-16",
          "2021-09-17",
          "2021-09-18",
          "2021-09-19",
          "2021-09-20",
          "2021-09-21",
          "2021-09-22",
          "2021-09-23",
          "2021-09-24",
          "2021-09-25",
          "2021-09-26",
          "2021-09-27",
          "2021-09-28",
          "2021-09-29",
          "2021-09-30",
          "2021-10-01",
          "2021-10-02",
          "2021-10-03",
          "2021-10-04",
          "2021-10-05",
          "2021-10-06",
          "2021-10-07",
          "2021-10-08",
          "2021-10-09",
          "2021-10-10",
          "2021-10-11",
          "2021-10-12",
          "2021-10-13",
          "2021-10-14",
          "2021-10-15",
          "2021-10-16",
          "2021-10-17",
          "2021-10-18",
          "2021-10-19",
          "2021-10-20",
          "2021-10-21",
          "2021-10-22",
          "2021-10-23",
          "2021-10-24",
          "2021-10-25",
          "2021-10-26",
          "2021-10-27",
          "2021-10-28",
          "2021-10-29",
          "2021-10-30",
          "2021-10-31",
          "2021-11-01",
          "2021-11-02",
          "2021-11-03",
          "2021-11-04",
          "2021-11-05",
          "2021-11-06",
          "2021-11-07",
          "2021-11-08",
          "2021-11-09",
          "2021-11-10",
          "2021-11-11",
          "2021-11-12",
          "2021-11-13",
          "2021-11-14",
          "2021-11-15",
          "2021-11-16",
          "2021-11-17",
          "2021-11-18",
          "2021-11-19",
          "2021-11-20",
          "2021-11-21",
          "2021-11-22",
          "2021-11-23",
          "2021-11-24",
          "2021-11-25",
          "2021-11-26",
          "2021-11-27",
          "2021-11-28",
          "2021-11-29",
          "2021-11-30",
          "2021-12-01",
          "2021-12-02",
          "2021-12-03",
          "2021-12-04",
          "2021-12-05",
          "2021-12-06",
          "2021-12-07",
          "2021-12-08",
          "2021-12-09",
          "2021-12-10",
          "2021-12-11",
          "2021-12-12",
          "2021-12-13",
          "2021-12-14",
          "2021-12-15",
          "2021-12-16",
          "2021-12-17",
          "2021-12-18",
          "2021-12-19",
          "2021-12-20",
          "2021-12-21",
          "2021-12-22",
          "2021-12-23",
          "2021-12-24",
          "2021-12-25",
          "2021-12-26",
          "2021-12-27",
          "2021-12-28",
          "2021-12-29",
          "2021-12-30",
          "2021-12-31",
          "2022-01-01",
          "2022-01-02",
          "2022-01-03",
          "2022-01-04",
          "2022-01-05",
          "2022-01-06",
          "2022-01-07",
          "2022-01-08",
          "2022-01-09",
          "2022-01-10",
          "2022-01-11",
          "2022-01-12",
          "2022-01-13",
          "2022-01-14",
          "2022-01-15",
          "2022-01-16",
          "2022-01-17",
          "2022-01-18",
          "2022-01-19",
          "2022-01-20",
          "2022-01-21",
          "2022-01-22",
          "2022-01-23",
          "2022-01-24",
          "2022-01-25",
          "2022-01-26",
          "2022-01-27",
          "2022-01-28",
          "2022-01-29",
          "2022-01-30",
          "2022-01-31",
          "2022-02-01",
          "2022-02-02",
          "2022-02-03",
          "2022-02-04",
          "2022-02-05",
          "2022-02-06",
          "2022-02-07",
          "2022-02-08",
          "2022-02-09",
          "2022-02-10",
          "2022-02-11",
          "2022-02-12",
          "2022-02-13",
          "2022-02-14",
          "2022-02-15",
          "2022-02-16",
          "2022-02-17",
          "2022-02-18",
          "2022-02-19",
          "2022-02-20",
          "2022-02-21",
          "2022-02-22",
          "2022-02-23",
          "2022-02-24",
          "2022-02-25",
          "2022-02-26",
          "2022-02-27",
          "2022-02-28",
          "2022-03-01",
          "2022-03-02",
          "2022-03-03",
          "2022-03-04",
          "2022-03-05",
          "2022-03-06",
          "2022-03-07",
          "2022-03-08",
          "2022-03-09",
          "2022-03-10",
          "2022-03-11",
          "2022-03-12",
          "2022-03-13",
          "2022-03-14",
          "2022-03-15",
          "2022-03-16",
          "2022-03-17",
          "2022-03-18",
          "2022-03-19",
          "2022-03-20",
          "2022-03-21",
          "2022-03-22",
          "2022-03-23",
          "2022-03-24",
          "2022-03-25",
          "2022-03-26",
          "2022-03-27",
          "2022-03-28",
          "2022-03-29",
          "2022-03-30",
          "2022-03-31",
          "2022-04-01",
          "2022-04-02",
          "2022-04-03",
          "2022-04-04",
          "2022-04-05",
          "2022-04-06",
          "2022-04-07",
          "2022-04-08",
          "2022-04-09",
          "2022-04-10",
          "2022-04-11",
          "2022-04-12",
          "2022-04-13",
          "2022-04-14",
          "2022-04-15",
          "2022-04-16",
          "2022-04-17",
          "2022-04-18",
          "2022-04-19",
          "2022-04-20",
          "2022-04-21",
          "2022-04-22",
          "2022-04-23",
          "2022-04-24",
          "2022-04-25",
          "2022-04-26",
          "2022-04-27",
          "2022-04-28",
          "2022-04-29",
          "2022-04-30",
          "2022-05-01",
          "2022-05-02",
          "2022-05-03",
          "2022-05-04",
          "2022-05-05",
          "2022-05-06",
          "2022-05-07",
          "2022-05-08",
          "2022-05-09",
          "2022-05-10",
          "2022-05-11",
          "2022-05-12",
          "2022-05-13",
          "2022-05-14",
          "2022-05-15",
          "2022-05-16",
          "2022-05-17",
          "2022-05-18",
          "2022-05-19",
          "2022-05-20",
          "2022-05-21",
          "2022-05-22",
          "2022-05-23",
          "2022-05-24",
          "2022-05-25",
          "2022-05-26",
          "2022-05-27",
          "2022-05-28",
          "2022-05-29",
          "2022-05-30",
          "2022-05-31",
          "2022-06-01",
          "2022-06-02",
          "2022-06-03",
          "2022-06-04",
          "2022-06-05",
          "2022-06-06",
          "2022-06-07",
          "2022-06-08",
          "2022-06-09",
          "2022-06-10",
          "2022-06-11",
          "2022-06-12",
          "2022-06-13",
          "2022-06-14",
          "2022-06-15",
          "2022-06-16",
          "2022-06-17",
          "2022-06-18",
          "2022-06-19",
          "2022-06-20",
          "2022-06-21",
          "2022-06-22",
          "2022-06-23",
          "2022-06-24",
          "2022-06-25",
          "2022-06-26",
          "2022-06-27",
          "2022-06-28",
          "2022-06-29",
          "2022-06-30",
          "2022-07-01",
          "2022-07-02",
          "2022-07-03",
          "2022-07-04",
          "2022-07-05",
          "2022-07-06",
          "2022-07-07",
          "2022-07-08",
          "2022-07-09",
          "2022-07-10",
          "2022-07-11",
          "2022-07-12",
          "2022-07-13",
          "2022-07-14",
          "2022-07-15",
          "2022-07-16",
          "2022-07-17",
          "2022-07-18",
          "2022-07-19",
          "2022-07-20",
          "2022-07-21",
          "2022-07-22",
          "2022-07-23",
          "2022-07-24",
          "2022-07-25",
          "2022-07-26",
          "2022-07-27",
          "2022-07-28",
          "2022-07-29",
          "2022-07-30",
          "2022-07-31",
          "2022-08-01",
          "2022-08-02",
          "2022-08-03",
          "2022-08-04",
          "2022-08-05",
          "2022-08-06",
          "2022-08-07",
          "2022-08-08",
          "2022-08-09",
          "2022-08-10",
          "2022-08-11",
          "2022-08-12",
          "2022-08-13",
          "2022-08-14",
          "2022-08-15",
          "2022-08-16",
          "2022-08-17",
          "2022-08-18",
          "2022-08-19",
          "2022-08-20",
          "2022-08-21",
          "2022-08-22",
          "2022-08-23",
          "2022-08-24",
          "2022-08-25",
          "2022-08-26",
          "2022-08-27",
          "2022-08-28",
          "2022-08-29",
          "2022-08-30",
          "2022-08-31",
          "2022-09-01",
          "2022-09-02",
          "2022-09-03",
          "2022-09-04",
          "2022-09-05",
          "2022-09-06",
          "2022-09-07",
          "2022-09-08",
          "2022-09-09",
          "2022-09-10",
          "2022-09-11",
          "2022-09-12",
          "2022-09-13",
          "2022-09-14",
          "2022-09-15",
          "2022-09-16",
          "2022-09-17",
          "2022-09-18",
          "2022-09-19",
          "2022-09-20",
          "2022-09-21",
          "2022-09-22",
          "2022-09-23",
          "2022-09-24",
          "2022-09-25",
          "2022-09-26",
          "2022-09-27",
          "2022-09-28",
          "2022-09-29",
          "2022-09-30",
          "2022-10-01",
          "2022-10-02",
          "2022-10-03",
          "2022-10-04",
          "2022-10-05",
          "2022-10-06",
          "2022-10-07",
          "2022-10-08",
          "2022-10-09",
          "2022-10-10",
          "2022-10-11",
          "2022-10-12",
          "2022-10-13",
          "2022-10-14",
          "2022-10-15",
          "2022-10-16",
          "2022-10-17",
          "2022-10-18",
          "2022-10-19",
          "2022-10-20",
          "2022-10-21",
          "2022-10-22",
          "2022-10-23",
          "2022-10-24",
          "2022-10-25",
          "2022-10-26",
          "2022-10-27",
          "2022-10-28",
          "2022-10-29",
          "2022-10-30",
          "2022-10-31",
          "2022-11-01",
          "2022-11-02",
          "2022-11-03",
          "2022-11-04",
          "2022-11-05",
          "2022-11-06",
          "2022-11-07",
          "2022-11-08",
          "2022-11-09",
          "2022-11-10",
          "2022-11-11",
          "2022-11-12",
          "2022-11-13",
          "2022-11-14",
          "2022-11-15",
          "2022-11-16",
          "2022-11-17",
          "2022-11-18",
          "2022-11-19",
          "2022-11-20",
          "2022-11-21",
          "2022-11-22",
          "2022-11-23",
          "2022-11-24",
          "2022-11-25",
          "2022-11-26",
          "2022-11-27",
          "2022-11-28",
          "2022-11-29",
          "2022-11-30",
          "2022-12-01",
          "2022-12-02",
          "2022-12-03",
          "2022-12-04",
          "2022-12-05",
          "2022-12-06",
          "2022-12-07",
          "2022-12-08",
          "2022-12-09",
          "2022-12-10",
          "2022-12-11",
          "2022-12-12",
          "2022-12-13",
          "2022-12-14",
          "2022-12-15",
          "2022-12-16",
          "2022-12-17",
          "2022-12-18",
          "2022-12-19",
          "2022-12-20",
          "2022-12-21",
          "2022-12-22",
          "2022-12-23",
          "2022-12-24",
          "2022-12-25",
          "2022-12-26",
          "2022-12-27",
          "2022-12-28",
          "2022-12-29",
          "2022-12-30",
          "2022-12-31",
          "2023-01-01",
          "2023-01-02",
          "2023-01-03",
          "2023-01-04",
          "2023-01-05",
          "2023-01-06",
          "2023-01-07",
          "2023-01-08",
          "2023-01-09",
          "2023-01-10",
          "2023-01-11",
          "2023-01-12",
          "2023-01-13",
          "2023-01-14",
          "2023-01-15",
          "2023-01-16",
          "2023-01-17",
          "2023-01-18",
          "2023-01-19",
          "2023-01-20",
          "2023-01-21",
          "2023-01-22",
          "2023-01-23",
          "2023-01-24",
          "2023-01-25",
          "2023-01-26",
          "2023-01-27",
          "2023-01-28",
          "2023-01-29",
          "2023-01-30",
          "2023-01-31",
          "2023-02-01",
          "2023-02-02",
          "2023-02-03",
          "2023-02-04",
          "2023-02-05",
          "2023-02-06",
          "2023-02-07",
          "2023-02-08",
          "2023-02-09",
          "2023-02-10",
          "2023-02-11",
          "2023-02-12",
          "2023-02-13",
          "2023-02-14",
          "2023-02-15",
          "2023-02-16",
          "2023-02-17",
          "2023-02-18",
          "2023-02-19",
          "2023-02-20",
          "2023-02-21",
          "2023-02-22",
          "2023-02-23",
          "2023-02-24",
          "2023-02-25",
          "2023-02-26",
          "2023-02-27",
          "2023-02-28",
          "2023-03-01",
          "2023-03-02",
          "2023-03-03",
          "2023-03-04",
          "2023-03-05",
          "2023-03-06",
          "2023-03-07",
          "2023-03-08",
          "2023-03-09",
          "2023-03-10",
          "2023-03-11",
          "2023-03-12",
          "2023-03-13",
          "2023-03-14",
          "2023-03-15",
          "2023-03-16",
          "2023-03-17",
          "2023-03-18",
          "2023-03-19",
          "2023-03-20",
          "2023-03-21",
          "2023-03-22",
          "2023-03-23",
          "2023-03-24",
          "2023-03-25",
          "2023-03-26",
          "2023-03-27",
          "2023-03-28",
          "2023-03-29",
          "2023-03-30",
          "2023-03-31",
          "2023-04-01",
          "2023-04-02",
          "2023-04-03",
          "2023-04-04",
          "2023-04-05",
          "2023-04-06",
          "2023-04-07",
          "2023-04-08",
          "2023-04-09",
          "2023-04-10",
          "2023-04-11",
          "2023-04-12",
          "2023-04-13",
          "2023-04-14",
          "2023-04-15",
          "2023-04-16",
          "2023-04-17",
          "2023-04-18",
          "2023-04-19",
          "2023-04-20",
          "2023-04-21",
          "2023-04-22",
          "2023-04-23",
          "2023-04-24",
          "2023-04-25",
          "2023-04-26",
          "2023-04-27",
          "2023-04-28",
          "2023-04-29",
          "2023-04-30",
          "2023-05-01",
          "2023-05-02",
          "2023-05-03",
          "2023-05-04",
          "2023-05-05",
          "2023-05-06",
          "2023-05-07",
          "2023-05-08",
          "2023-05-09",
          "2023-05-10",
          "2023-05-11",
          "2023-05-12",
          "2023-05-13",
          "2023-05-14",
          "2023-05-15",
          "2023-05-16",
          "2023-05-17",
          "2023-05-18",
          "2023-05-19",
          "2023-05-20",
          "2023-05-21",
          "2023-05-22",
          "2023-05-23",
          "2023-05-24",
          "2023-05-25",
          "2023-05-26",
          "2023-05-27",
          "2023-05-28",
          "2023-05-29",
          "2023-05-30",
          "2023-05-31",
          "2023-06-01",
          "2023-06-02",
          "2023-06-03",
          "2023-06-04",
          "2023-06-05",
          "2023-06-06",
          "2023-06-07",
          "2023-06-08",
          "2023-06-09",
          "2023-06-10",
          "2023-06-11",
          "2023-06-12",
          "2023-06-13",
          "2023-06-14",
          "2023-06-15",
          "2023-06-16",
          "2023-06-17",
          "2023-06-18",
          "2023-06-19",
          "2023-06-20",
          "2023-06-21",
          "2023-06-22",
          "2023-06-23",
          "2023-06-24",
          "2023-06-25",
          "2023-06-26",
          "2023-06-27",
          "2023-06-28",
          "2023-06-29",
          "2023-06-30",
          "2023-07-01",
          "2023-07-02",
          "2023-07-03",
          "2023-07-04",
          "2023-07-05",
          "2023-07-06",
          "2023-07-07",
          "2023-07-08",
          "2023-07-09",
          "2023-07-10",
          "2023-07-11",
          "2023-07-12",
          "2023-07-13",
          "2023-07-14",
          "2023-07-15",
          "2023-07-16",
          "2023-07-17",
          "2023-07-18",
          "2023-07-19",
          "2023-07-20",
          "2023-07-21",
          "2023-07-22",
          "2023-07-23",
          "2023-07-24",
          "2023-07-25",
          "2023-07-26",
          "2023-07-27",
          "2023-07-28",
          "2023-07-29",
          "2023-07-30",
          "2023-07-31",
          "2023-08-01",
          "2023-08-02",
          "2023-08-03",
          "2023-08-04",
          "2023-08-05",
          "2023-08-06",
          "2023-08-07",
          "2023-08-08",
          "2023-08-09",
          "2023-08-10",
          "2023-08-11",
          "2023-08-12",
          "2023-08-13",
          "2023-08-14",
          "2023-08-15",
          "2023-08-16",
          "2023-08-17",
          "2023-08-18",
          "2023-08-19",
          "2023-08-20",
          "2023-08-21",
          "2023-08-22",
          "2023-08-23",
          "2023-08-24",
          "2023-08-25",
          "2023-08-26",
          "2023-08-27",
          "2023-08-28",
          "2023-08-29",
          "2023-08-30",
          "2023-08-31",
          "2023-09-01",
          "2023-09-02",
          "2023-09-03",
          "2023-09-04",
          "2023-09-05",
          "2023-09-06",
          "2023-09-07",
          "2023-09-08",
          "2023-09-09",
          "2023-09-10",
          "2023-09-11",
          "2023-09-12",
          "2023-09-13",
          "2023-09-14",
          "2023-09-15",
          "2023-09-16",
          "2023-09-17",
          "2023-09-18",
          "2023-09-19",
          "2023-09-20",
          "2023-09-21",
          "2023-09-22",
          "2023-09-23",
          "2023-09-24",
          "2023-09-25",
          "2023-09-26",
          "2023-09-27",
          "2023-09-28",
          "2023-09-29",
          "2023-09-30",
          "2023-10-01",
          "2023-10-02",
          "2023-10-03",
          "2023-10-04",
          "2023-10-05",
          "2023-10-06",
          "2023-10-07",
          "2023-10-08",
          "2023-10-09",
          "2023-10-10",
          "2023-10-11",
          "2023-10-12",
          "2023-10-13",
          "2023-10-14",
          "2023-10-15",
          "2023-10-16",
          "2023-10-17",
          "2023-10-18",
          "2023-10-19",
          "2023-10-20",
          "2023-10-21",
          "2023-10-22",
          "2023-10-23",
          "2023-10-24",
          "2023-10-25",
          "2023-10-26",
          "2023-10-27",
          "2023-10-28",
          "2023-10-29",
          "2023-10-30",
          "2023-10-31",
          "2023-11-01",
          "2023-11-02",
          "2023-11-03",
          "2023-11-04",
          "2023-11-05",
          "2023-11-06",
          "2023-11-07",
          "2023-11-08",
          "2023-11-09",
          "2023-11-10",
          "2023-11-11",
          "2023-11-12",
          "2023-11-13",
          "2023-11-14",
          "2023-11-15",
          "2023-11-16",
          "2023-11-17",
          "2023-11-18",
          "2023-11-19",
          "2023-11-20",
          "2023-11-21",
          "2023-11-22",
          "2023-11-23",
          "2023-11-24",
          "2023-11-25",
          "2023-11-26",
          "2023-11-27",
          "2023-11-28",
          "2023-11-29",
          "2023-11-30"
         ],
         "xaxis": "x",
         "y": [
          0,
          0,
          0,
          0,
          1,
          2,
          0,
          0,
          0,
          1,
          0,
          2,
          3,
          1,
          1,
          1,
          1,
          2,
          0,
          1,
          1,
          3,
          2,
          1,
          1,
          3,
          2,
          1,
          0,
          1,
          0,
          1,
          3,
          1,
          1,
          1,
          1,
          1,
          2,
          1,
          2,
          1,
          2,
          6,
          1,
          0,
          1,
          3,
          0,
          3,
          2,
          3,
          4,
          2,
          4,
          3,
          3,
          2,
          3,
          2,
          4,
          2,
          3,
          3,
          6,
          5,
          4,
          6,
          4,
          4,
          5,
          2,
          4,
          4,
          3,
          3,
          4,
          4,
          4,
          6,
          5,
          10,
          5,
          5,
          2,
          8,
          6,
          3,
          3,
          3,
          5,
          9,
          6,
          6,
          2,
          6,
          6,
          6,
          4,
          5,
          6,
          2,
          3,
          0,
          5,
          5,
          6,
          5,
          5,
          7,
          6,
          3,
          4,
          6,
          5,
          6,
          9,
          9,
          9,
          10,
          11,
          15,
          10,
          7,
          11,
          9,
          9,
          14,
          6,
          11,
          8,
          4,
          6,
          5,
          5,
          5,
          3,
          5,
          9,
          6,
          7,
          8,
          8,
          7,
          7,
          15,
          8,
          9,
          12,
          11,
          8,
          9,
          10,
          10,
          12,
          5,
          9,
          9,
          10,
          6,
          12,
          12,
          16,
          17,
          11,
          17,
          11,
          14,
          8,
          13,
          7,
          7,
          16,
          7,
          9,
          14,
          9,
          14,
          11,
          11,
          11,
          6,
          14,
          16,
          13,
          10,
          10,
          9,
          15,
          11,
          13,
          10,
          9,
          7,
          15,
          6,
          10,
          5,
          14,
          13,
          14,
          14,
          14,
          12,
          16,
          9,
          13,
          10,
          17,
          9,
          11,
          10,
          6,
          14,
          12,
          13,
          15,
          7,
          15,
          12,
          8,
          9,
          15,
          12,
          17,
          8,
          16,
          10,
          7,
          11,
          15,
          12,
          6,
          14,
          14,
          14,
          13,
          9,
          17,
          12,
          9,
          9,
          6,
          15,
          21,
          16,
          13,
          13,
          19,
          8,
          15,
          20,
          14,
          11,
          15,
          22,
          12,
          18,
          15,
          13,
          19,
          13,
          20,
          17,
          16,
          15,
          24,
          13,
          17,
          19,
          23,
          16,
          15,
          19,
          18,
          12,
          26,
          20,
          12,
          16,
          21,
          15,
          18,
          13,
          13,
          17,
          17,
          12,
          15,
          16,
          17,
          14,
          19,
          13,
          19,
          17,
          17,
          16,
          15,
          20,
          17,
          17,
          15,
          20,
          14,
          14,
          12,
          17,
          18,
          19,
          14,
          15,
          12,
          13,
          13,
          16,
          18,
          22,
          19,
          11,
          19,
          20,
          21,
          21,
          13,
          19,
          17,
          15,
          25,
          18,
          21,
          14,
          21,
          25,
          18,
          16,
          19,
          27,
          16,
          23,
          23,
          18,
          19,
          27,
          19,
          23,
          23,
          26,
          25,
          16,
          30,
          13,
          15,
          13,
          20,
          22,
          18,
          26,
          33,
          26,
          27,
          25,
          27,
          21,
          22,
          25,
          17,
          23,
          19,
          19,
          18,
          24,
          21,
          24,
          32,
          33,
          32,
          27,
          21,
          28,
          12,
          25,
          33,
          27,
          16,
          24,
          32,
          20,
          26,
          23,
          20,
          26,
          26,
          20,
          27,
          24,
          30,
          24,
          31,
          28,
          29,
          28,
          32,
          26,
          26,
          36,
          33,
          26,
          27,
          25,
          19,
          19,
          21,
          22,
          29,
          26,
          29,
          29,
          29,
          28,
          29,
          23,
          24,
          25,
          21,
          23,
          18,
          28,
          28,
          22,
          27,
          20,
          29,
          22,
          15,
          22,
          32,
          27,
          28,
          24,
          25,
          31,
          33,
          34,
          31,
          37,
          40,
          32,
          30,
          33,
          26,
          33,
          33,
          23,
          19,
          34,
          19,
          28,
          26,
          23,
          21,
          23,
          32,
          28,
          26,
          23,
          30,
          37,
          27,
          25,
          33,
          33,
          26,
          25,
          31,
          35,
          21,
          35,
          38,
          31,
          25,
          28,
          36,
          31,
          37,
          40,
          30,
          39,
          37,
          30,
          37,
          34,
          30,
          24,
          27,
          25,
          31,
          26,
          32,
          24,
          30,
          44,
          32,
          31,
          28,
          37,
          32,
          35,
          31,
          35,
          35,
          33,
          31,
          41,
          34,
          33,
          30,
          38,
          39,
          42,
          41,
          43,
          52,
          36,
          39,
          42,
          42,
          31,
          36,
          25,
          41,
          27,
          33,
          27,
          41,
          31,
          43,
          39,
          38,
          42,
          38,
          37,
          32,
          32,
          40,
          36,
          32,
          41,
          37,
          39,
          43,
          35,
          38,
          35,
          29,
          37,
          38,
          56,
          29,
          39,
          40,
          32,
          36,
          38,
          34,
          39,
          51,
          43,
          41,
          42,
          34,
          45,
          43,
          38,
          33,
          40,
          39,
          39,
          42,
          28,
          38,
          40,
          28,
          32,
          39,
          38,
          31,
          39,
          34,
          38,
          35,
          40,
          34,
          35,
          36,
          32,
          48,
          40,
          30,
          29,
          44,
          37,
          33,
          30,
          54,
          39,
          37,
          41,
          49,
          34,
          40,
          46,
          42,
          35,
          50,
          38,
          35,
          47,
          39,
          43,
          36,
          39,
          41,
          47,
          41,
          43,
          49,
          44,
          42,
          42,
          51,
          27,
          40,
          46,
          33,
          35,
          39,
          51,
          42,
          43,
          38,
          39,
          48,
          42,
          38,
          47,
          44,
          32,
          44,
          37,
          40,
          45,
          54,
          52,
          45,
          43,
          43,
          47,
          36,
          42,
          56,
          62,
          56,
          46,
          58,
          53,
          51,
          55,
          40,
          46,
          46,
          42,
          42,
          52,
          56,
          50,
          54,
          42,
          47,
          53,
          51,
          52,
          44,
          54,
          41,
          43,
          38,
          39,
          47,
          43,
          46,
          50,
          52,
          49,
          49,
          55,
          49,
          44,
          55,
          44,
          36,
          51,
          61,
          57,
          45,
          56,
          54,
          42,
          49,
          40,
          56,
          60,
          47,
          37,
          50,
          68,
          60,
          43,
          63,
          53,
          61,
          59,
          68,
          57,
          62,
          56,
          52,
          49,
          58,
          60,
          54,
          48,
          58,
          48,
          64,
          46,
          61,
          66,
          62,
          53,
          67,
          70,
          76,
          60,
          58,
          69,
          56,
          58,
          65,
          56,
          58,
          61,
          59,
          72,
          53,
          51,
          54,
          55,
          50,
          62,
          62,
          60,
          58,
          72,
          55,
          53,
          50,
          36,
          47,
          64,
          50,
          45,
          46,
          53,
          53,
          60,
          54,
          42,
          54,
          43,
          59,
          48,
          57,
          61,
          57,
          62,
          46,
          53,
          69,
          57,
          60,
          60,
          71,
          55,
          62,
          56,
          55,
          65,
          62,
          68,
          63,
          53,
          59,
          63,
          58,
          56,
          52,
          55,
          53,
          56,
          48,
          50,
          55,
          58,
          37,
          63,
          70,
          55,
          61,
          62,
          52,
          47,
          55,
          61,
          53,
          62,
          67,
          66,
          61,
          59,
          76,
          56,
          56,
          60,
          67,
          57,
          73,
          69,
          60,
          65,
          55,
          46,
          62,
          61,
          59,
          64,
          62,
          60,
          53,
          62,
          61,
          55,
          58,
          74,
          85,
          80,
          79,
          66,
          69,
          73,
          77,
          62,
          79,
          57,
          58,
          65,
          57,
          56,
          71,
          52,
          69,
          60,
          56,
          61,
          73,
          64,
          72,
          72,
          70,
          65,
          58,
          58,
          63,
          56,
          46,
          56,
          75,
          71,
          58,
          68,
          57,
          66,
          69,
          71,
          65,
          64,
          72,
          79,
          68,
          66,
          67,
          74,
          74,
          65,
          80,
          73,
          77,
          68,
          76,
          65,
          69,
          71,
          68,
          60,
          73,
          55,
          62,
          61,
          65,
          48,
          48,
          72,
          81,
          62,
          52,
          71,
          59,
          64,
          76,
          76,
          83,
          75,
          76,
          67,
          74,
          64,
          80,
          70,
          68,
          68,
          74,
          68,
          76,
          74,
          75,
          76,
          74,
          81,
          88,
          84,
          62,
          77,
          77,
          71,
          78,
          63,
          71,
          88,
          72,
          69,
          73,
          72,
          97,
          75,
          73,
          75,
          88,
          68,
          65,
          58,
          86,
          68,
          79,
          75,
          74,
          58,
          85,
          80,
          76,
          95,
          72,
          79,
          86,
          82,
          88,
          97,
          89,
          70,
          75,
          82,
          88,
          76,
          65,
          66,
          83,
          83,
          72,
          65,
          80,
          69,
          75,
          54,
          73,
          84,
          90,
          90,
          97,
          78,
          86,
          99,
          90,
          86,
          88,
          103,
          85,
          81,
          95,
          83,
          75,
          84,
          85,
          75,
          82,
          88,
          88,
          90,
          74,
          87,
          77,
          72,
          68,
          55,
          80,
          76,
          74,
          78,
          81,
          80,
          90,
          86,
          103,
          87,
          92,
          88,
          93,
          97,
          76,
          96,
          66,
          91,
          80,
          92,
          88,
          86,
          89,
          82,
          79,
          77,
          75,
          90,
          87,
          83,
          87,
          103,
          79,
          100,
          87,
          87,
          89,
          92,
          83,
          102,
          81,
          95,
          90,
          90,
          72,
          94,
          76,
          86,
          116,
          85,
          75,
          87,
          90,
          86,
          84,
          103,
          101,
          102,
          90,
          92,
          82,
          91,
          70,
          88,
          87,
          82,
          104,
          102,
          106,
          98,
          94,
          106,
          88,
          100,
          93,
          95,
          106,
          92,
          86,
          85,
          81,
          91,
          97,
          96,
          83,
          91,
          115,
          81,
          89,
          98,
          97,
          99,
          87,
          83,
          91,
          80,
          90,
          93,
          89,
          87,
          96,
          90,
          102,
          97,
          97,
          97,
          98,
          98,
          93,
          97,
          99,
          75,
          93,
          95,
          96,
          91,
          94,
          105,
          104,
          103,
          103,
          102,
          90,
          117,
          96,
          88,
          106,
          102,
          99,
          97,
          106,
          93,
          96,
          90,
          99,
          113,
          86,
          110,
          106,
          97,
          100,
          107,
          122,
          120,
          106,
          90,
          117,
          105,
          96,
          99,
          84,
          90,
          102,
          109,
          100,
          97,
          108,
          92,
          109,
          94,
          107,
          98,
          97,
          101,
          108,
          108,
          112,
          101,
          108,
          92,
          113,
          96,
          105,
          110,
          108,
          111,
          117,
          97,
          107,
          98,
          99,
          121,
          110,
          109,
          119,
          121,
          105,
          129,
          108,
          113,
          105,
          135,
          108,
          113,
          111,
          106,
          93,
          105,
          117,
          113,
          113,
          114,
          106,
          107,
          112,
          100,
          126,
          105,
          138,
          122,
          126,
          118,
          116,
          119,
          125,
          119,
          121,
          137,
          143,
          148,
          141,
          143,
          114,
          121,
          110,
          100,
          117,
          111,
          113,
          103,
          110,
          103,
          108,
          121,
          118,
          122,
          117,
          115,
          112,
          117,
          95,
          93,
          115,
          103,
          117,
          103,
          121,
          135,
          117,
          135,
          128,
          137,
          117,
          129,
          140,
          132,
          122,
          132,
          135,
          118,
          120,
          118,
          107,
          130,
          117,
          134,
          118,
          135,
          115,
          123,
          114,
          117,
          122,
          133,
          139,
          153,
          126,
          117,
          123,
          136,
          143,
          124,
          126,
          163,
          118,
          118,
          121,
          126,
          125,
          130,
          130,
          135,
          118,
          112,
          144,
          127,
          145,
          143,
          149,
          147,
          132,
          132,
          134,
          117,
          130,
          154,
          131,
          121,
          136,
          138,
          127,
          148,
          128,
          122,
          143,
          141,
          124,
          130,
          117,
          125,
          132,
          135,
          109,
          131,
          138,
          155,
          147,
          120,
          143,
          132,
          130,
          108,
          147,
          139,
          143,
          115,
          151,
          148,
          123,
          144,
          143,
          146,
          149,
          149,
          147,
          154,
          134,
          154,
          139,
          157,
          132,
          169,
          154,
          156,
          151,
          166,
          132,
          156,
          132,
          137,
          152,
          144,
          126,
          148,
          150,
          140,
          143,
          134,
          149,
          144,
          160,
          171,
          157,
          153,
          140,
          135,
          151,
          139,
          147,
          158,
          148,
          166,
          155,
          149,
          160,
          168,
          173,
          172,
          163,
          160,
          169,
          153,
          145,
          150,
          142,
          120,
          154,
          120,
          144,
          165,
          148,
          154,
          160,
          152,
          135,
          140,
          152,
          160,
          141,
          148,
          174,
          162,
          143,
          134,
          131,
          166,
          146,
          159,
          160,
          163,
          146,
          160,
          164,
          161,
          168,
          161,
          149,
          160,
          147,
          172,
          153,
          150,
          183,
          177,
          156,
          181,
          159,
          167,
          152,
          161,
          158,
          158,
          154,
          145,
          156,
          174,
          162,
          172,
          140,
          172,
          171,
          156,
          169,
          193,
          149,
          161,
          175,
          167,
          177,
          167,
          162,
          159,
          160,
          170,
          158,
          171,
          146,
          156,
          170,
          177,
          179,
          182,
          182,
          177,
          183,
          187,
          160,
          163,
          148,
          168,
          203,
          165,
          159,
          184,
          188,
          182,
          178,
          186,
          198,
          185,
          216,
          194,
          197,
          189,
          188,
          200,
          168,
          173,
          172,
          164,
          177,
          157,
          188,
          188,
          216,
          193,
          205,
          202,
          190,
          191,
          171,
          156,
          182,
          186,
          183,
          212,
          169,
          196,
          191,
          206,
          183,
          199,
          205,
          200,
          197,
          187,
          207,
          207,
          193,
          213,
          201,
          198,
          205,
          179,
          177,
          192,
          189,
          176,
          185,
          178,
          168,
          189,
          194,
          212,
          184,
          183,
          202,
          192,
          171,
          174,
          213,
          210,
          192,
          202,
          202,
          176,
          166,
          184,
          182,
          195,
          211,
          213,
          191,
          204,
          185,
          204,
          218,
          200,
          205,
          222,
          230,
          210,
          204,
          214,
          210,
          200,
          218,
          211,
          235,
          220,
          249,
          231,
          238,
          213,
          231,
          198,
          228,
          210,
          219,
          209,
          193,
          202,
          177,
          225,
          183,
          217,
          183,
          219,
          205,
          227,
          221,
          231,
          205,
          216,
          229,
          230,
          214,
          225,
          206,
          237,
          238,
          228,
          246,
          244,
          241,
          252,
          225,
          217,
          215,
          237,
          223,
          219,
          245,
          244,
          268,
          267,
          219,
          222,
          217,
          238,
          215,
          225,
          211,
          207,
          234,
          217,
          227,
          218,
          247,
          258,
          268,
          229,
          250,
          249,
          251,
          224,
          244,
          223,
          229,
          210,
          238,
          233,
          224,
          261,
          259,
          240,
          245,
          234,
          238,
          257,
          268,
          259,
          263,
          262,
          277,
          267,
          282,
          265,
          234,
          265,
          273,
          282,
          295,
          257,
          286,
          295,
          300,
          286,
          260,
          286,
          275,
          272,
          274,
          275,
          291,
          275,
          259,
          259,
          261,
          274,
          259,
          297,
          268,
          294,
          262,
          259,
          270,
          276,
          286,
          278,
          274,
          288,
          253,
          302,
          300,
          307,
          316,
          290,
          302,
          277,
          286,
          280,
          300,
          312,
          298,
          330,
          321,
          323,
          330,
          312,
          313,
          290,
          302,
          306,
          312,
          319,
          305,
          275,
          290,
          314,
          321,
          307,
          319,
          333,
          321,
          311,
          329,
          314,
          342,
          318,
          326,
          343,
          350,
          348,
          361,
          363,
          313,
          366,
          344,
          372,
          345,
          384,
          351,
          366,
          340,
          363,
          368,
          388,
          361,
          357,
          364,
          349
         ],
         "yaxis": "y"
        }
       ],
       "layout": {
        "legend": {
         "tracegroupgap": 0
        },
        "template": {
         "data": {
          "bar": [
           {
            "error_x": {
             "color": "#2a3f5f"
            },
            "error_y": {
             "color": "#2a3f5f"
            },
            "marker": {
             "line": {
              "color": "#E5ECF6",
              "width": 0.5
             },
             "pattern": {
              "fillmode": "overlay",
              "size": 10,
              "solidity": 0.2
             }
            },
            "type": "bar"
           }
          ],
          "barpolar": [
           {
            "marker": {
             "line": {
              "color": "#E5ECF6",
              "width": 0.5
             },
             "pattern": {
              "fillmode": "overlay",
              "size": 10,
              "solidity": 0.2
             }
            },
            "type": "barpolar"
           }
          ],
          "carpet": [
           {
            "aaxis": {
             "endlinecolor": "#2a3f5f",
             "gridcolor": "white",
             "linecolor": "white",
             "minorgridcolor": "white",
             "startlinecolor": "#2a3f5f"
            },
            "baxis": {
             "endlinecolor": "#2a3f5f",
             "gridcolor": "white",
             "linecolor": "white",
             "minorgridcolor": "white",
             "startlinecolor": "#2a3f5f"
            },
            "type": "carpet"
           }
          ],
          "choropleth": [
           {
            "colorbar": {
             "outlinewidth": 0,
             "ticks": ""
            },
            "type": "choropleth"
           }
          ],
          "contour": [
           {
            "colorbar": {
             "outlinewidth": 0,
             "ticks": ""
            },
            "colorscale": [
             [
              0,
              "#0d0887"
             ],
             [
              0.1111111111111111,
              "#46039f"
             ],
             [
              0.2222222222222222,
              "#7201a8"
             ],
             [
              0.3333333333333333,
              "#9c179e"
             ],
             [
              0.4444444444444444,
              "#bd3786"
             ],
             [
              0.5555555555555556,
              "#d8576b"
             ],
             [
              0.6666666666666666,
              "#ed7953"
             ],
             [
              0.7777777777777778,
              "#fb9f3a"
             ],
             [
              0.8888888888888888,
              "#fdca26"
             ],
             [
              1,
              "#f0f921"
             ]
            ],
            "type": "contour"
           }
          ],
          "contourcarpet": [
           {
            "colorbar": {
             "outlinewidth": 0,
             "ticks": ""
            },
            "type": "contourcarpet"
           }
          ],
          "heatmap": [
           {
            "colorbar": {
             "outlinewidth": 0,
             "ticks": ""
            },
            "colorscale": [
             [
              0,
              "#0d0887"
             ],
             [
              0.1111111111111111,
              "#46039f"
             ],
             [
              0.2222222222222222,
              "#7201a8"
             ],
             [
              0.3333333333333333,
              "#9c179e"
             ],
             [
              0.4444444444444444,
              "#bd3786"
             ],
             [
              0.5555555555555556,
              "#d8576b"
             ],
             [
              0.6666666666666666,
              "#ed7953"
             ],
             [
              0.7777777777777778,
              "#fb9f3a"
             ],
             [
              0.8888888888888888,
              "#fdca26"
             ],
             [
              1,
              "#f0f921"
             ]
            ],
            "type": "heatmap"
           }
          ],
          "heatmapgl": [
           {
            "colorbar": {
             "outlinewidth": 0,
             "ticks": ""
            },
            "colorscale": [
             [
              0,
              "#0d0887"
             ],
             [
              0.1111111111111111,
              "#46039f"
             ],
             [
              0.2222222222222222,
              "#7201a8"
             ],
             [
              0.3333333333333333,
              "#9c179e"
             ],
             [
              0.4444444444444444,
              "#bd3786"
             ],
             [
              0.5555555555555556,
              "#d8576b"
             ],
             [
              0.6666666666666666,
              "#ed7953"
             ],
             [
              0.7777777777777778,
              "#fb9f3a"
             ],
             [
              0.8888888888888888,
              "#fdca26"
             ],
             [
              1,
              "#f0f921"
             ]
            ],
            "type": "heatmapgl"
           }
          ],
          "histogram": [
           {
            "marker": {
             "pattern": {
              "fillmode": "overlay",
              "size": 10,
              "solidity": 0.2
             }
            },
            "type": "histogram"
           }
          ],
          "histogram2d": [
           {
            "colorbar": {
             "outlinewidth": 0,
             "ticks": ""
            },
            "colorscale": [
             [
              0,
              "#0d0887"
             ],
             [
              0.1111111111111111,
              "#46039f"
             ],
             [
              0.2222222222222222,
              "#7201a8"
             ],
             [
              0.3333333333333333,
              "#9c179e"
             ],
             [
              0.4444444444444444,
              "#bd3786"
             ],
             [
              0.5555555555555556,
              "#d8576b"
             ],
             [
              0.6666666666666666,
              "#ed7953"
             ],
             [
              0.7777777777777778,
              "#fb9f3a"
             ],
             [
              0.8888888888888888,
              "#fdca26"
             ],
             [
              1,
              "#f0f921"
             ]
            ],
            "type": "histogram2d"
           }
          ],
          "histogram2dcontour": [
           {
            "colorbar": {
             "outlinewidth": 0,
             "ticks": ""
            },
            "colorscale": [
             [
              0,
              "#0d0887"
             ],
             [
              0.1111111111111111,
              "#46039f"
             ],
             [
              0.2222222222222222,
              "#7201a8"
             ],
             [
              0.3333333333333333,
              "#9c179e"
             ],
             [
              0.4444444444444444,
              "#bd3786"
             ],
             [
              0.5555555555555556,
              "#d8576b"
             ],
             [
              0.6666666666666666,
              "#ed7953"
             ],
             [
              0.7777777777777778,
              "#fb9f3a"
             ],
             [
              0.8888888888888888,
              "#fdca26"
             ],
             [
              1,
              "#f0f921"
             ]
            ],
            "type": "histogram2dcontour"
           }
          ],
          "mesh3d": [
           {
            "colorbar": {
             "outlinewidth": 0,
             "ticks": ""
            },
            "type": "mesh3d"
           }
          ],
          "parcoords": [
           {
            "line": {
             "colorbar": {
              "outlinewidth": 0,
              "ticks": ""
             }
            },
            "type": "parcoords"
           }
          ],
          "pie": [
           {
            "automargin": true,
            "type": "pie"
           }
          ],
          "scatter": [
           {
            "fillpattern": {
             "fillmode": "overlay",
             "size": 10,
             "solidity": 0.2
            },
            "type": "scatter"
           }
          ],
          "scatter3d": [
           {
            "line": {
             "colorbar": {
              "outlinewidth": 0,
              "ticks": ""
             }
            },
            "marker": {
             "colorbar": {
              "outlinewidth": 0,
              "ticks": ""
             }
            },
            "type": "scatter3d"
           }
          ],
          "scattercarpet": [
           {
            "marker": {
             "colorbar": {
              "outlinewidth": 0,
              "ticks": ""
             }
            },
            "type": "scattercarpet"
           }
          ],
          "scattergeo": [
           {
            "marker": {
             "colorbar": {
              "outlinewidth": 0,
              "ticks": ""
             }
            },
            "type": "scattergeo"
           }
          ],
          "scattergl": [
           {
            "marker": {
             "colorbar": {
              "outlinewidth": 0,
              "ticks": ""
             }
            },
            "type": "scattergl"
           }
          ],
          "scattermapbox": [
           {
            "marker": {
             "colorbar": {
              "outlinewidth": 0,
              "ticks": ""
             }
            },
            "type": "scattermapbox"
           }
          ],
          "scatterpolar": [
           {
            "marker": {
             "colorbar": {
              "outlinewidth": 0,
              "ticks": ""
             }
            },
            "type": "scatterpolar"
           }
          ],
          "scatterpolargl": [
           {
            "marker": {
             "colorbar": {
              "outlinewidth": 0,
              "ticks": ""
             }
            },
            "type": "scatterpolargl"
           }
          ],
          "scatterternary": [
           {
            "marker": {
             "colorbar": {
              "outlinewidth": 0,
              "ticks": ""
             }
            },
            "type": "scatterternary"
           }
          ],
          "surface": [
           {
            "colorbar": {
             "outlinewidth": 0,
             "ticks": ""
            },
            "colorscale": [
             [
              0,
              "#0d0887"
             ],
             [
              0.1111111111111111,
              "#46039f"
             ],
             [
              0.2222222222222222,
              "#7201a8"
             ],
             [
              0.3333333333333333,
              "#9c179e"
             ],
             [
              0.4444444444444444,
              "#bd3786"
             ],
             [
              0.5555555555555556,
              "#d8576b"
             ],
             [
              0.6666666666666666,
              "#ed7953"
             ],
             [
              0.7777777777777778,
              "#fb9f3a"
             ],
             [
              0.8888888888888888,
              "#fdca26"
             ],
             [
              1,
              "#f0f921"
             ]
            ],
            "type": "surface"
           }
          ],
          "table": [
           {
            "cells": {
             "fill": {
              "color": "#EBF0F8"
             },
             "line": {
              "color": "white"
             }
            },
            "header": {
             "fill": {
              "color": "#C8D4E3"
             },
             "line": {
              "color": "white"
             }
            },
            "type": "table"
           }
          ]
         },
         "layout": {
          "annotationdefaults": {
           "arrowcolor": "#2a3f5f",
           "arrowhead": 0,
           "arrowwidth": 1
          },
          "autotypenumbers": "strict",
          "coloraxis": {
           "colorbar": {
            "outlinewidth": 0,
            "ticks": ""
           }
          },
          "colorscale": {
           "diverging": [
            [
             0,
             "#8e0152"
            ],
            [
             0.1,
             "#c51b7d"
            ],
            [
             0.2,
             "#de77ae"
            ],
            [
             0.3,
             "#f1b6da"
            ],
            [
             0.4,
             "#fde0ef"
            ],
            [
             0.5,
             "#f7f7f7"
            ],
            [
             0.6,
             "#e6f5d0"
            ],
            [
             0.7,
             "#b8e186"
            ],
            [
             0.8,
             "#7fbc41"
            ],
            [
             0.9,
             "#4d9221"
            ],
            [
             1,
             "#276419"
            ]
           ],
           "sequential": [
            [
             0,
             "#0d0887"
            ],
            [
             0.1111111111111111,
             "#46039f"
            ],
            [
             0.2222222222222222,
             "#7201a8"
            ],
            [
             0.3333333333333333,
             "#9c179e"
            ],
            [
             0.4444444444444444,
             "#bd3786"
            ],
            [
             0.5555555555555556,
             "#d8576b"
            ],
            [
             0.6666666666666666,
             "#ed7953"
            ],
            [
             0.7777777777777778,
             "#fb9f3a"
            ],
            [
             0.8888888888888888,
             "#fdca26"
            ],
            [
             1,
             "#f0f921"
            ]
           ],
           "sequentialminus": [
            [
             0,
             "#0d0887"
            ],
            [
             0.1111111111111111,
             "#46039f"
            ],
            [
             0.2222222222222222,
             "#7201a8"
            ],
            [
             0.3333333333333333,
             "#9c179e"
            ],
            [
             0.4444444444444444,
             "#bd3786"
            ],
            [
             0.5555555555555556,
             "#d8576b"
            ],
            [
             0.6666666666666666,
             "#ed7953"
            ],
            [
             0.7777777777777778,
             "#fb9f3a"
            ],
            [
             0.8888888888888888,
             "#fdca26"
            ],
            [
             1,
             "#f0f921"
            ]
           ]
          },
          "colorway": [
           "#636efa",
           "#EF553B",
           "#00cc96",
           "#ab63fa",
           "#FFA15A",
           "#19d3f3",
           "#FF6692",
           "#B6E880",
           "#FF97FF",
           "#FECB52"
          ],
          "font": {
           "color": "#2a3f5f"
          },
          "geo": {
           "bgcolor": "white",
           "lakecolor": "white",
           "landcolor": "#E5ECF6",
           "showlakes": true,
           "showland": true,
           "subunitcolor": "white"
          },
          "hoverlabel": {
           "align": "left"
          },
          "hovermode": "closest",
          "mapbox": {
           "style": "light"
          },
          "paper_bgcolor": "white",
          "plot_bgcolor": "#E5ECF6",
          "polar": {
           "angularaxis": {
            "gridcolor": "white",
            "linecolor": "white",
            "ticks": ""
           },
           "bgcolor": "#E5ECF6",
           "radialaxis": {
            "gridcolor": "white",
            "linecolor": "white",
            "ticks": ""
           }
          },
          "scene": {
           "xaxis": {
            "backgroundcolor": "#E5ECF6",
            "gridcolor": "white",
            "gridwidth": 2,
            "linecolor": "white",
            "showbackground": true,
            "ticks": "",
            "zerolinecolor": "white"
           },
           "yaxis": {
            "backgroundcolor": "#E5ECF6",
            "gridcolor": "white",
            "gridwidth": 2,
            "linecolor": "white",
            "showbackground": true,
            "ticks": "",
            "zerolinecolor": "white"
           },
           "zaxis": {
            "backgroundcolor": "#E5ECF6",
            "gridcolor": "white",
            "gridwidth": 2,
            "linecolor": "white",
            "showbackground": true,
            "ticks": "",
            "zerolinecolor": "white"
           }
          },
          "shapedefaults": {
           "line": {
            "color": "#2a3f5f"
           }
          },
          "ternary": {
           "aaxis": {
            "gridcolor": "white",
            "linecolor": "white",
            "ticks": ""
           },
           "baxis": {
            "gridcolor": "white",
            "linecolor": "white",
            "ticks": ""
           },
           "bgcolor": "#E5ECF6",
           "caxis": {
            "gridcolor": "white",
            "linecolor": "white",
            "ticks": ""
           }
          },
          "title": {
           "x": 0.05
          },
          "xaxis": {
           "automargin": true,
           "gridcolor": "white",
           "linecolor": "white",
           "ticks": "",
           "title": {
            "standoff": 15
           },
           "zerolinecolor": "white",
           "zerolinewidth": 2
          },
          "yaxis": {
           "automargin": true,
           "gridcolor": "white",
           "linecolor": "white",
           "ticks": "",
           "title": {
            "standoff": 15
           },
           "zerolinecolor": "white",
           "zerolinewidth": 2
          }
         }
        },
        "title": {
         "text": "DAU 추이"
        },
        "xaxis": {
         "anchor": "y",
         "domain": [
          0,
          1
         ],
         "title": {
          "text": "date"
         }
        },
        "yaxis": {
         "anchor": "x",
         "domain": [
          0,
          1
         ],
         "title": {
          "text": "dau"
         }
        }
       }
      }
     },
     "metadata": {},
     "output_type": "display_data"
    }
   ],
   "source": [
    "fig = px.line(data_frame = dau, x='date', y='dau', title='DAU 추이')\n",
    "fig.show()"
   ]
  },
  {
   "cell_type": "code",
   "execution_count": null,
   "metadata": {},
   "outputs": [
    {
     "name": "stdout",
     "output_type": "stream",
     "text": [
      "<class 'pandas.core.frame.DataFrame'>\n",
      "RangeIndex: 1794 entries, 0 to 1793\n",
      "Data columns (total 2 columns):\n",
      " #   Column  Non-Null Count  Dtype \n",
      "---  ------  --------------  ----- \n",
      " 0   date    1794 non-null   object\n",
      " 1   dau     1794 non-null   int64 \n",
      "dtypes: int64(1), object(1)\n",
      "memory usage: 28.2+ KB\n"
     ]
    }
   ],
   "source": [
    "dau.info()"
   ]
  },
  {
   "cell_type": "code",
   "execution_count": null,
   "metadata": {},
   "outputs": [
    {
     "data": {
      "text/html": [
       "<div>\n",
       "<style scoped>\n",
       "    .dataframe tbody tr th:only-of-type {\n",
       "        vertical-align: middle;\n",
       "    }\n",
       "\n",
       "    .dataframe tbody tr th {\n",
       "        vertical-align: top;\n",
       "    }\n",
       "\n",
       "    .dataframe thead th {\n",
       "        text-align: right;\n",
       "    }\n",
       "</style>\n",
       "<table border=\"1\" class=\"dataframe\">\n",
       "  <thead>\n",
       "    <tr style=\"text-align: right;\">\n",
       "      <th></th>\n",
       "      <th>date</th>\n",
       "      <th>dau</th>\n",
       "      <th>day_of_week</th>\n",
       "      <th>day_of_week1</th>\n",
       "    </tr>\n",
       "  </thead>\n",
       "  <tbody>\n",
       "    <tr>\n",
       "      <th>0</th>\n",
       "      <td>2019-01-02</td>\n",
       "      <td>0</td>\n",
       "      <td>Wednesday</td>\n",
       "      <td>2</td>\n",
       "    </tr>\n",
       "    <tr>\n",
       "      <th>1</th>\n",
       "      <td>2019-01-03</td>\n",
       "      <td>0</td>\n",
       "      <td>Thursday</td>\n",
       "      <td>3</td>\n",
       "    </tr>\n",
       "    <tr>\n",
       "      <th>2</th>\n",
       "      <td>2019-01-04</td>\n",
       "      <td>0</td>\n",
       "      <td>Friday</td>\n",
       "      <td>4</td>\n",
       "    </tr>\n",
       "    <tr>\n",
       "      <th>3</th>\n",
       "      <td>2019-01-05</td>\n",
       "      <td>0</td>\n",
       "      <td>Saturday</td>\n",
       "      <td>5</td>\n",
       "    </tr>\n",
       "    <tr>\n",
       "      <th>4</th>\n",
       "      <td>2019-01-06</td>\n",
       "      <td>1</td>\n",
       "      <td>Sunday</td>\n",
       "      <td>6</td>\n",
       "    </tr>\n",
       "    <tr>\n",
       "      <th>...</th>\n",
       "      <td>...</td>\n",
       "      <td>...</td>\n",
       "      <td>...</td>\n",
       "      <td>...</td>\n",
       "    </tr>\n",
       "    <tr>\n",
       "      <th>1789</th>\n",
       "      <td>2023-11-26</td>\n",
       "      <td>388</td>\n",
       "      <td>Sunday</td>\n",
       "      <td>6</td>\n",
       "    </tr>\n",
       "    <tr>\n",
       "      <th>1790</th>\n",
       "      <td>2023-11-27</td>\n",
       "      <td>361</td>\n",
       "      <td>Monday</td>\n",
       "      <td>0</td>\n",
       "    </tr>\n",
       "    <tr>\n",
       "      <th>1791</th>\n",
       "      <td>2023-11-28</td>\n",
       "      <td>357</td>\n",
       "      <td>Tuesday</td>\n",
       "      <td>1</td>\n",
       "    </tr>\n",
       "    <tr>\n",
       "      <th>1792</th>\n",
       "      <td>2023-11-29</td>\n",
       "      <td>364</td>\n",
       "      <td>Wednesday</td>\n",
       "      <td>2</td>\n",
       "    </tr>\n",
       "    <tr>\n",
       "      <th>1793</th>\n",
       "      <td>2023-11-30</td>\n",
       "      <td>349</td>\n",
       "      <td>Thursday</td>\n",
       "      <td>3</td>\n",
       "    </tr>\n",
       "  </tbody>\n",
       "</table>\n",
       "<p>1794 rows × 4 columns</p>\n",
       "</div>"
      ],
      "text/plain": [
       "           date  dau day_of_week  day_of_week1\n",
       "0    2019-01-02    0   Wednesday             2\n",
       "1    2019-01-03    0    Thursday             3\n",
       "2    2019-01-04    0      Friday             4\n",
       "3    2019-01-05    0    Saturday             5\n",
       "4    2019-01-06    1      Sunday             6\n",
       "...         ...  ...         ...           ...\n",
       "1789 2023-11-26  388      Sunday             6\n",
       "1790 2023-11-27  361      Monday             0\n",
       "1791 2023-11-28  357     Tuesday             1\n",
       "1792 2023-11-29  364   Wednesday             2\n",
       "1793 2023-11-30  349    Thursday             3\n",
       "\n",
       "[1794 rows x 4 columns]"
      ]
     },
     "execution_count": 69,
     "metadata": {},
     "output_type": "execute_result"
    }
   ],
   "source": [
    "dau['date'] = pd.to_datetime(dau['date'])\n",
    "\n",
    "dau['day_of_week'] = dau['date'].dt.day_name()\n",
    "dau['day_of_week1'] = dau['date'].dt.day_of_week\n",
    "dau"
   ]
  },
  {
   "cell_type": "code",
   "execution_count": null,
   "metadata": {},
   "outputs": [
    {
     "data": {
      "text/html": [
       "<div>\n",
       "<style scoped>\n",
       "    .dataframe tbody tr th:only-of-type {\n",
       "        vertical-align: middle;\n",
       "    }\n",
       "\n",
       "    .dataframe tbody tr th {\n",
       "        vertical-align: top;\n",
       "    }\n",
       "\n",
       "    .dataframe thead th {\n",
       "        text-align: right;\n",
       "    }\n",
       "</style>\n",
       "<table border=\"1\" class=\"dataframe\">\n",
       "  <thead>\n",
       "    <tr style=\"text-align: right;\">\n",
       "      <th></th>\n",
       "      <th>day_of_week</th>\n",
       "      <th>day_of_week1</th>\n",
       "      <th>dau</th>\n",
       "    </tr>\n",
       "  </thead>\n",
       "  <tbody>\n",
       "    <tr>\n",
       "      <th>1</th>\n",
       "      <td>Monday</td>\n",
       "      <td>0</td>\n",
       "      <td>91.718750</td>\n",
       "    </tr>\n",
       "    <tr>\n",
       "      <th>5</th>\n",
       "      <td>Tuesday</td>\n",
       "      <td>1</td>\n",
       "      <td>92.070312</td>\n",
       "    </tr>\n",
       "    <tr>\n",
       "      <th>6</th>\n",
       "      <td>Wednesday</td>\n",
       "      <td>2</td>\n",
       "      <td>91.964981</td>\n",
       "    </tr>\n",
       "    <tr>\n",
       "      <th>4</th>\n",
       "      <td>Thursday</td>\n",
       "      <td>3</td>\n",
       "      <td>92.509728</td>\n",
       "    </tr>\n",
       "    <tr>\n",
       "      <th>0</th>\n",
       "      <td>Friday</td>\n",
       "      <td>4</td>\n",
       "      <td>91.066406</td>\n",
       "    </tr>\n",
       "    <tr>\n",
       "      <th>2</th>\n",
       "      <td>Saturday</td>\n",
       "      <td>5</td>\n",
       "      <td>91.187500</td>\n",
       "    </tr>\n",
       "    <tr>\n",
       "      <th>3</th>\n",
       "      <td>Sunday</td>\n",
       "      <td>6</td>\n",
       "      <td>92.191406</td>\n",
       "    </tr>\n",
       "  </tbody>\n",
       "</table>\n",
       "</div>"
      ],
      "text/plain": [
       "  day_of_week  day_of_week1        dau\n",
       "1      Monday             0  91.718750\n",
       "5     Tuesday             1  92.070312\n",
       "6   Wednesday             2  91.964981\n",
       "4    Thursday             3  92.509728\n",
       "0      Friday             4  91.066406\n",
       "2    Saturday             5  91.187500\n",
       "3      Sunday             6  92.191406"
      ]
     },
     "execution_count": 70,
     "metadata": {},
     "output_type": "execute_result"
    }
   ],
   "source": [
    "## 요일별 DAU \n",
    "\n",
    "avg_dau_by_dow = dau.groupby(['day_of_week', 'day_of_week1'])[['dau']].mean().reset_index()\n",
    "avg_dau_by_dow.sort_values('day_of_week1', inplace=True)\n",
    "avg_dau_by_dow"
   ]
  },
  {
   "cell_type": "code",
   "execution_count": null,
   "metadata": {},
   "outputs": [
    {
     "data": {
      "application/vnd.plotly.v1+json": {
       "config": {
        "plotlyServerURL": "https://plot.ly"
       },
       "data": [
        {
         "alignmentgroup": "True",
         "hovertemplate": "day_of_week=%{x}<br>dau=%{y}<extra></extra>",
         "legendgroup": "",
         "marker": {
          "color": "#636efa",
          "pattern": {
           "shape": ""
          }
         },
         "name": "",
         "offsetgroup": "",
         "orientation": "v",
         "showlegend": false,
         "textposition": "auto",
         "type": "bar",
         "x": [
          "Monday",
          "Tuesday",
          "Wednesday",
          "Thursday",
          "Friday",
          "Saturday",
          "Sunday"
         ],
         "xaxis": "x",
         "y": [
          91.71875,
          92.0703125,
          91.96498054474708,
          92.50972762645914,
          91.06640625,
          91.1875,
          92.19140625
         ],
         "yaxis": "y"
        }
       ],
       "layout": {
        "barmode": "relative",
        "height": 500,
        "legend": {
         "tracegroupgap": 0
        },
        "template": {
         "data": {
          "bar": [
           {
            "error_x": {
             "color": "#2a3f5f"
            },
            "error_y": {
             "color": "#2a3f5f"
            },
            "marker": {
             "line": {
              "color": "#E5ECF6",
              "width": 0.5
             },
             "pattern": {
              "fillmode": "overlay",
              "size": 10,
              "solidity": 0.2
             }
            },
            "type": "bar"
           }
          ],
          "barpolar": [
           {
            "marker": {
             "line": {
              "color": "#E5ECF6",
              "width": 0.5
             },
             "pattern": {
              "fillmode": "overlay",
              "size": 10,
              "solidity": 0.2
             }
            },
            "type": "barpolar"
           }
          ],
          "carpet": [
           {
            "aaxis": {
             "endlinecolor": "#2a3f5f",
             "gridcolor": "white",
             "linecolor": "white",
             "minorgridcolor": "white",
             "startlinecolor": "#2a3f5f"
            },
            "baxis": {
             "endlinecolor": "#2a3f5f",
             "gridcolor": "white",
             "linecolor": "white",
             "minorgridcolor": "white",
             "startlinecolor": "#2a3f5f"
            },
            "type": "carpet"
           }
          ],
          "choropleth": [
           {
            "colorbar": {
             "outlinewidth": 0,
             "ticks": ""
            },
            "type": "choropleth"
           }
          ],
          "contour": [
           {
            "colorbar": {
             "outlinewidth": 0,
             "ticks": ""
            },
            "colorscale": [
             [
              0,
              "#0d0887"
             ],
             [
              0.1111111111111111,
              "#46039f"
             ],
             [
              0.2222222222222222,
              "#7201a8"
             ],
             [
              0.3333333333333333,
              "#9c179e"
             ],
             [
              0.4444444444444444,
              "#bd3786"
             ],
             [
              0.5555555555555556,
              "#d8576b"
             ],
             [
              0.6666666666666666,
              "#ed7953"
             ],
             [
              0.7777777777777778,
              "#fb9f3a"
             ],
             [
              0.8888888888888888,
              "#fdca26"
             ],
             [
              1,
              "#f0f921"
             ]
            ],
            "type": "contour"
           }
          ],
          "contourcarpet": [
           {
            "colorbar": {
             "outlinewidth": 0,
             "ticks": ""
            },
            "type": "contourcarpet"
           }
          ],
          "heatmap": [
           {
            "colorbar": {
             "outlinewidth": 0,
             "ticks": ""
            },
            "colorscale": [
             [
              0,
              "#0d0887"
             ],
             [
              0.1111111111111111,
              "#46039f"
             ],
             [
              0.2222222222222222,
              "#7201a8"
             ],
             [
              0.3333333333333333,
              "#9c179e"
             ],
             [
              0.4444444444444444,
              "#bd3786"
             ],
             [
              0.5555555555555556,
              "#d8576b"
             ],
             [
              0.6666666666666666,
              "#ed7953"
             ],
             [
              0.7777777777777778,
              "#fb9f3a"
             ],
             [
              0.8888888888888888,
              "#fdca26"
             ],
             [
              1,
              "#f0f921"
             ]
            ],
            "type": "heatmap"
           }
          ],
          "heatmapgl": [
           {
            "colorbar": {
             "outlinewidth": 0,
             "ticks": ""
            },
            "colorscale": [
             [
              0,
              "#0d0887"
             ],
             [
              0.1111111111111111,
              "#46039f"
             ],
             [
              0.2222222222222222,
              "#7201a8"
             ],
             [
              0.3333333333333333,
              "#9c179e"
             ],
             [
              0.4444444444444444,
              "#bd3786"
             ],
             [
              0.5555555555555556,
              "#d8576b"
             ],
             [
              0.6666666666666666,
              "#ed7953"
             ],
             [
              0.7777777777777778,
              "#fb9f3a"
             ],
             [
              0.8888888888888888,
              "#fdca26"
             ],
             [
              1,
              "#f0f921"
             ]
            ],
            "type": "heatmapgl"
           }
          ],
          "histogram": [
           {
            "marker": {
             "pattern": {
              "fillmode": "overlay",
              "size": 10,
              "solidity": 0.2
             }
            },
            "type": "histogram"
           }
          ],
          "histogram2d": [
           {
            "colorbar": {
             "outlinewidth": 0,
             "ticks": ""
            },
            "colorscale": [
             [
              0,
              "#0d0887"
             ],
             [
              0.1111111111111111,
              "#46039f"
             ],
             [
              0.2222222222222222,
              "#7201a8"
             ],
             [
              0.3333333333333333,
              "#9c179e"
             ],
             [
              0.4444444444444444,
              "#bd3786"
             ],
             [
              0.5555555555555556,
              "#d8576b"
             ],
             [
              0.6666666666666666,
              "#ed7953"
             ],
             [
              0.7777777777777778,
              "#fb9f3a"
             ],
             [
              0.8888888888888888,
              "#fdca26"
             ],
             [
              1,
              "#f0f921"
             ]
            ],
            "type": "histogram2d"
           }
          ],
          "histogram2dcontour": [
           {
            "colorbar": {
             "outlinewidth": 0,
             "ticks": ""
            },
            "colorscale": [
             [
              0,
              "#0d0887"
             ],
             [
              0.1111111111111111,
              "#46039f"
             ],
             [
              0.2222222222222222,
              "#7201a8"
             ],
             [
              0.3333333333333333,
              "#9c179e"
             ],
             [
              0.4444444444444444,
              "#bd3786"
             ],
             [
              0.5555555555555556,
              "#d8576b"
             ],
             [
              0.6666666666666666,
              "#ed7953"
             ],
             [
              0.7777777777777778,
              "#fb9f3a"
             ],
             [
              0.8888888888888888,
              "#fdca26"
             ],
             [
              1,
              "#f0f921"
             ]
            ],
            "type": "histogram2dcontour"
           }
          ],
          "mesh3d": [
           {
            "colorbar": {
             "outlinewidth": 0,
             "ticks": ""
            },
            "type": "mesh3d"
           }
          ],
          "parcoords": [
           {
            "line": {
             "colorbar": {
              "outlinewidth": 0,
              "ticks": ""
             }
            },
            "type": "parcoords"
           }
          ],
          "pie": [
           {
            "automargin": true,
            "type": "pie"
           }
          ],
          "scatter": [
           {
            "fillpattern": {
             "fillmode": "overlay",
             "size": 10,
             "solidity": 0.2
            },
            "type": "scatter"
           }
          ],
          "scatter3d": [
           {
            "line": {
             "colorbar": {
              "outlinewidth": 0,
              "ticks": ""
             }
            },
            "marker": {
             "colorbar": {
              "outlinewidth": 0,
              "ticks": ""
             }
            },
            "type": "scatter3d"
           }
          ],
          "scattercarpet": [
           {
            "marker": {
             "colorbar": {
              "outlinewidth": 0,
              "ticks": ""
             }
            },
            "type": "scattercarpet"
           }
          ],
          "scattergeo": [
           {
            "marker": {
             "colorbar": {
              "outlinewidth": 0,
              "ticks": ""
             }
            },
            "type": "scattergeo"
           }
          ],
          "scattergl": [
           {
            "marker": {
             "colorbar": {
              "outlinewidth": 0,
              "ticks": ""
             }
            },
            "type": "scattergl"
           }
          ],
          "scattermapbox": [
           {
            "marker": {
             "colorbar": {
              "outlinewidth": 0,
              "ticks": ""
             }
            },
            "type": "scattermapbox"
           }
          ],
          "scatterpolar": [
           {
            "marker": {
             "colorbar": {
              "outlinewidth": 0,
              "ticks": ""
             }
            },
            "type": "scatterpolar"
           }
          ],
          "scatterpolargl": [
           {
            "marker": {
             "colorbar": {
              "outlinewidth": 0,
              "ticks": ""
             }
            },
            "type": "scatterpolargl"
           }
          ],
          "scatterternary": [
           {
            "marker": {
             "colorbar": {
              "outlinewidth": 0,
              "ticks": ""
             }
            },
            "type": "scatterternary"
           }
          ],
          "surface": [
           {
            "colorbar": {
             "outlinewidth": 0,
             "ticks": ""
            },
            "colorscale": [
             [
              0,
              "#0d0887"
             ],
             [
              0.1111111111111111,
              "#46039f"
             ],
             [
              0.2222222222222222,
              "#7201a8"
             ],
             [
              0.3333333333333333,
              "#9c179e"
             ],
             [
              0.4444444444444444,
              "#bd3786"
             ],
             [
              0.5555555555555556,
              "#d8576b"
             ],
             [
              0.6666666666666666,
              "#ed7953"
             ],
             [
              0.7777777777777778,
              "#fb9f3a"
             ],
             [
              0.8888888888888888,
              "#fdca26"
             ],
             [
              1,
              "#f0f921"
             ]
            ],
            "type": "surface"
           }
          ],
          "table": [
           {
            "cells": {
             "fill": {
              "color": "#EBF0F8"
             },
             "line": {
              "color": "white"
             }
            },
            "header": {
             "fill": {
              "color": "#C8D4E3"
             },
             "line": {
              "color": "white"
             }
            },
            "type": "table"
           }
          ]
         },
         "layout": {
          "annotationdefaults": {
           "arrowcolor": "#2a3f5f",
           "arrowhead": 0,
           "arrowwidth": 1
          },
          "autotypenumbers": "strict",
          "coloraxis": {
           "colorbar": {
            "outlinewidth": 0,
            "ticks": ""
           }
          },
          "colorscale": {
           "diverging": [
            [
             0,
             "#8e0152"
            ],
            [
             0.1,
             "#c51b7d"
            ],
            [
             0.2,
             "#de77ae"
            ],
            [
             0.3,
             "#f1b6da"
            ],
            [
             0.4,
             "#fde0ef"
            ],
            [
             0.5,
             "#f7f7f7"
            ],
            [
             0.6,
             "#e6f5d0"
            ],
            [
             0.7,
             "#b8e186"
            ],
            [
             0.8,
             "#7fbc41"
            ],
            [
             0.9,
             "#4d9221"
            ],
            [
             1,
             "#276419"
            ]
           ],
           "sequential": [
            [
             0,
             "#0d0887"
            ],
            [
             0.1111111111111111,
             "#46039f"
            ],
            [
             0.2222222222222222,
             "#7201a8"
            ],
            [
             0.3333333333333333,
             "#9c179e"
            ],
            [
             0.4444444444444444,
             "#bd3786"
            ],
            [
             0.5555555555555556,
             "#d8576b"
            ],
            [
             0.6666666666666666,
             "#ed7953"
            ],
            [
             0.7777777777777778,
             "#fb9f3a"
            ],
            [
             0.8888888888888888,
             "#fdca26"
            ],
            [
             1,
             "#f0f921"
            ]
           ],
           "sequentialminus": [
            [
             0,
             "#0d0887"
            ],
            [
             0.1111111111111111,
             "#46039f"
            ],
            [
             0.2222222222222222,
             "#7201a8"
            ],
            [
             0.3333333333333333,
             "#9c179e"
            ],
            [
             0.4444444444444444,
             "#bd3786"
            ],
            [
             0.5555555555555556,
             "#d8576b"
            ],
            [
             0.6666666666666666,
             "#ed7953"
            ],
            [
             0.7777777777777778,
             "#fb9f3a"
            ],
            [
             0.8888888888888888,
             "#fdca26"
            ],
            [
             1,
             "#f0f921"
            ]
           ]
          },
          "colorway": [
           "#636efa",
           "#EF553B",
           "#00cc96",
           "#ab63fa",
           "#FFA15A",
           "#19d3f3",
           "#FF6692",
           "#B6E880",
           "#FF97FF",
           "#FECB52"
          ],
          "font": {
           "color": "#2a3f5f"
          },
          "geo": {
           "bgcolor": "white",
           "lakecolor": "white",
           "landcolor": "#E5ECF6",
           "showlakes": true,
           "showland": true,
           "subunitcolor": "white"
          },
          "hoverlabel": {
           "align": "left"
          },
          "hovermode": "closest",
          "mapbox": {
           "style": "light"
          },
          "paper_bgcolor": "white",
          "plot_bgcolor": "#E5ECF6",
          "polar": {
           "angularaxis": {
            "gridcolor": "white",
            "linecolor": "white",
            "ticks": ""
           },
           "bgcolor": "#E5ECF6",
           "radialaxis": {
            "gridcolor": "white",
            "linecolor": "white",
            "ticks": ""
           }
          },
          "scene": {
           "xaxis": {
            "backgroundcolor": "#E5ECF6",
            "gridcolor": "white",
            "gridwidth": 2,
            "linecolor": "white",
            "showbackground": true,
            "ticks": "",
            "zerolinecolor": "white"
           },
           "yaxis": {
            "backgroundcolor": "#E5ECF6",
            "gridcolor": "white",
            "gridwidth": 2,
            "linecolor": "white",
            "showbackground": true,
            "ticks": "",
            "zerolinecolor": "white"
           },
           "zaxis": {
            "backgroundcolor": "#E5ECF6",
            "gridcolor": "white",
            "gridwidth": 2,
            "linecolor": "white",
            "showbackground": true,
            "ticks": "",
            "zerolinecolor": "white"
           }
          },
          "shapedefaults": {
           "line": {
            "color": "#2a3f5f"
           }
          },
          "ternary": {
           "aaxis": {
            "gridcolor": "white",
            "linecolor": "white",
            "ticks": ""
           },
           "baxis": {
            "gridcolor": "white",
            "linecolor": "white",
            "ticks": ""
           },
           "bgcolor": "#E5ECF6",
           "caxis": {
            "gridcolor": "white",
            "linecolor": "white",
            "ticks": ""
           }
          },
          "title": {
           "x": 0.05
          },
          "xaxis": {
           "automargin": true,
           "gridcolor": "white",
           "linecolor": "white",
           "ticks": "",
           "title": {
            "standoff": 15
           },
           "zerolinecolor": "white",
           "zerolinewidth": 2
          },
          "yaxis": {
           "automargin": true,
           "gridcolor": "white",
           "linecolor": "white",
           "ticks": "",
           "title": {
            "standoff": 15
           },
           "zerolinecolor": "white",
           "zerolinewidth": 2
          }
         }
        },
        "title": {
         "text": "요일별 DAU 평균"
        },
        "width": 700,
        "xaxis": {
         "anchor": "y",
         "domain": [
          0,
          1
         ],
         "title": {
          "text": "day_of_week"
         }
        },
        "yaxis": {
         "anchor": "x",
         "domain": [
          0,
          1
         ],
         "title": {
          "text": "dau"
         }
        }
       }
      }
     },
     "metadata": {},
     "output_type": "display_data"
    }
   ],
   "source": [
    "fig = px.bar(data_frame=avg_dau_by_dow, x='day_of_week', y='dau', title='요일별 DAU 평균', width=700, height=500)\n",
    "fig.show()"
   ]
  },
  {
   "cell_type": "markdown",
   "metadata": {},
   "source": [
    "## 사이트 체류시간 평균"
   ]
  },
  {
   "cell_type": "code",
   "execution_count": null,
   "metadata": {},
   "outputs": [
    {
     "data": {
      "text/html": [
       "<div>\n",
       "<style scoped>\n",
       "    .dataframe tbody tr th:only-of-type {\n",
       "        vertical-align: middle;\n",
       "    }\n",
       "\n",
       "    .dataframe tbody tr th {\n",
       "        vertical-align: top;\n",
       "    }\n",
       "\n",
       "    .dataframe thead th {\n",
       "        text-align: right;\n",
       "    }\n",
       "</style>\n",
       "<table border=\"1\" class=\"dataframe\">\n",
       "  <thead>\n",
       "    <tr style=\"text-align: right;\">\n",
       "      <th></th>\n",
       "      <th>event_id</th>\n",
       "      <th>user_id</th>\n",
       "      <th>sequence_number</th>\n",
       "      <th>session_id</th>\n",
       "      <th>event_created_at</th>\n",
       "      <th>ip_address</th>\n",
       "      <th>city</th>\n",
       "      <th>state</th>\n",
       "      <th>postal_code</th>\n",
       "      <th>browser</th>\n",
       "      <th>event_traffic_source</th>\n",
       "      <th>uri</th>\n",
       "      <th>event_type</th>\n",
       "      <th>year</th>\n",
       "      <th>month</th>\n",
       "      <th>day</th>\n",
       "      <th>date</th>\n",
       "    </tr>\n",
       "  </thead>\n",
       "  <tbody>\n",
       "    <tr>\n",
       "      <th>0</th>\n",
       "      <td>2198523</td>\n",
       "      <td>&lt;NA&gt;</td>\n",
       "      <td>3</td>\n",
       "      <td>83889ed2-2adc-4b9a-af5d-154f6998e778</td>\n",
       "      <td>2021-06-17 17:30:00+00:00</td>\n",
       "      <td>138.143.9.202</td>\n",
       "      <td>São Paulo</td>\n",
       "      <td>São Paulo</td>\n",
       "      <td>02675-031</td>\n",
       "      <td>Chrome</td>\n",
       "      <td>Adwords</td>\n",
       "      <td>/cancel</td>\n",
       "      <td>cancel</td>\n",
       "      <td>2021</td>\n",
       "      <td>6</td>\n",
       "      <td>17</td>\n",
       "      <td>2021-06-17</td>\n",
       "    </tr>\n",
       "    <tr>\n",
       "      <th>1</th>\n",
       "      <td>1773216</td>\n",
       "      <td>&lt;NA&gt;</td>\n",
       "      <td>3</td>\n",
       "      <td>7a3fc3f2-e84f-44fe-8876-eff76741f7a3</td>\n",
       "      <td>2020-08-07 08:41:00+00:00</td>\n",
       "      <td>85.114.141.79</td>\n",
       "      <td>Santa Isabel</td>\n",
       "      <td>São Paulo</td>\n",
       "      <td>07500-000</td>\n",
       "      <td>Safari</td>\n",
       "      <td>Adwords</td>\n",
       "      <td>/cancel</td>\n",
       "      <td>cancel</td>\n",
       "      <td>2020</td>\n",
       "      <td>8</td>\n",
       "      <td>7</td>\n",
       "      <td>2020-08-07</td>\n",
       "    </tr>\n",
       "    <tr>\n",
       "      <th>2</th>\n",
       "      <td>2380515</td>\n",
       "      <td>&lt;NA&gt;</td>\n",
       "      <td>3</td>\n",
       "      <td>13d9b2fb-eee1-43fd-965c-267b38dd7125</td>\n",
       "      <td>2021-02-15 18:48:00+00:00</td>\n",
       "      <td>169.250.255.132</td>\n",
       "      <td>Mairiporã</td>\n",
       "      <td>São Paulo</td>\n",
       "      <td>07600-000</td>\n",
       "      <td>IE</td>\n",
       "      <td>Adwords</td>\n",
       "      <td>/cancel</td>\n",
       "      <td>cancel</td>\n",
       "      <td>2021</td>\n",
       "      <td>2</td>\n",
       "      <td>15</td>\n",
       "      <td>2021-02-15</td>\n",
       "    </tr>\n",
       "    <tr>\n",
       "      <th>3</th>\n",
       "      <td>2250597</td>\n",
       "      <td>&lt;NA&gt;</td>\n",
       "      <td>3</td>\n",
       "      <td>96f1d44e-9621-463c-954c-d8deb7fffe7f</td>\n",
       "      <td>2022-03-30 10:56:00+00:00</td>\n",
       "      <td>137.25.222.160</td>\n",
       "      <td>Cajamar</td>\n",
       "      <td>São Paulo</td>\n",
       "      <td>07750-000</td>\n",
       "      <td>Chrome</td>\n",
       "      <td>Adwords</td>\n",
       "      <td>/cancel</td>\n",
       "      <td>cancel</td>\n",
       "      <td>2022</td>\n",
       "      <td>3</td>\n",
       "      <td>30</td>\n",
       "      <td>2022-03-30</td>\n",
       "    </tr>\n",
       "    <tr>\n",
       "      <th>4</th>\n",
       "      <td>1834446</td>\n",
       "      <td>&lt;NA&gt;</td>\n",
       "      <td>3</td>\n",
       "      <td>d09dce10-a7cb-47d3-a9af-44975566fa03</td>\n",
       "      <td>2019-09-05 01:18:00+00:00</td>\n",
       "      <td>161.114.4.174</td>\n",
       "      <td>São Paulo</td>\n",
       "      <td>São Paulo</td>\n",
       "      <td>09581-680</td>\n",
       "      <td>Chrome</td>\n",
       "      <td>Email</td>\n",
       "      <td>/cancel</td>\n",
       "      <td>cancel</td>\n",
       "      <td>2019</td>\n",
       "      <td>9</td>\n",
       "      <td>5</td>\n",
       "      <td>2019-09-05</td>\n",
       "    </tr>\n",
       "  </tbody>\n",
       "</table>\n",
       "</div>"
      ],
      "text/plain": [
       "   event_id  user_id  sequence_number                            session_id  \\\n",
       "0   2198523     <NA>                3  83889ed2-2adc-4b9a-af5d-154f6998e778   \n",
       "1   1773216     <NA>                3  7a3fc3f2-e84f-44fe-8876-eff76741f7a3   \n",
       "2   2380515     <NA>                3  13d9b2fb-eee1-43fd-965c-267b38dd7125   \n",
       "3   2250597     <NA>                3  96f1d44e-9621-463c-954c-d8deb7fffe7f   \n",
       "4   1834446     <NA>                3  d09dce10-a7cb-47d3-a9af-44975566fa03   \n",
       "\n",
       "           event_created_at       ip_address          city      state  \\\n",
       "0 2021-06-17 17:30:00+00:00    138.143.9.202     São Paulo  São Paulo   \n",
       "1 2020-08-07 08:41:00+00:00    85.114.141.79  Santa Isabel  São Paulo   \n",
       "2 2021-02-15 18:48:00+00:00  169.250.255.132     Mairiporã  São Paulo   \n",
       "3 2022-03-30 10:56:00+00:00   137.25.222.160       Cajamar  São Paulo   \n",
       "4 2019-09-05 01:18:00+00:00    161.114.4.174     São Paulo  São Paulo   \n",
       "\n",
       "  postal_code browser event_traffic_source      uri event_type  year  month  \\\n",
       "0   02675-031  Chrome              Adwords  /cancel     cancel  2021      6   \n",
       "1   07500-000  Safari              Adwords  /cancel     cancel  2020      8   \n",
       "2   07600-000      IE              Adwords  /cancel     cancel  2021      2   \n",
       "3   07750-000  Chrome              Adwords  /cancel     cancel  2022      3   \n",
       "4   09581-680  Chrome                Email  /cancel     cancel  2019      9   \n",
       "\n",
       "   day        date  \n",
       "0   17  2021-06-17  \n",
       "1    7  2020-08-07  \n",
       "2   15  2021-02-15  \n",
       "3   30  2022-03-30  \n",
       "4    5  2019-09-05  "
      ]
     },
     "execution_count": 72,
     "metadata": {},
     "output_type": "execute_result"
    }
   ],
   "source": [
    "events.head()"
   ]
  },
  {
   "cell_type": "code",
   "execution_count": null,
   "metadata": {},
   "outputs": [
    {
     "data": {
      "text/html": [
       "<div>\n",
       "<style scoped>\n",
       "    .dataframe tbody tr th:only-of-type {\n",
       "        vertical-align: middle;\n",
       "    }\n",
       "\n",
       "    .dataframe tbody tr th {\n",
       "        vertical-align: top;\n",
       "    }\n",
       "\n",
       "    .dataframe thead th {\n",
       "        text-align: right;\n",
       "    }\n",
       "</style>\n",
       "<table border=\"1\" class=\"dataframe\">\n",
       "  <thead>\n",
       "    <tr style=\"text-align: right;\">\n",
       "      <th></th>\n",
       "      <th>event_id</th>\n",
       "      <th>user_id</th>\n",
       "      <th>sequence_number</th>\n",
       "      <th>session_id</th>\n",
       "      <th>event_created_at</th>\n",
       "      <th>ip_address</th>\n",
       "      <th>city</th>\n",
       "      <th>state</th>\n",
       "      <th>postal_code</th>\n",
       "      <th>browser</th>\n",
       "      <th>event_traffic_source</th>\n",
       "      <th>uri</th>\n",
       "      <th>event_type</th>\n",
       "      <th>year</th>\n",
       "      <th>month</th>\n",
       "      <th>day</th>\n",
       "      <th>date</th>\n",
       "    </tr>\n",
       "  </thead>\n",
       "  <tbody>\n",
       "    <tr>\n",
       "      <th>1380245</th>\n",
       "      <td>2198521</td>\n",
       "      <td>&lt;NA&gt;</td>\n",
       "      <td>1</td>\n",
       "      <td>83889ed2-2adc-4b9a-af5d-154f6998e778</td>\n",
       "      <td>2021-06-17 17:10:00+00:00</td>\n",
       "      <td>138.143.9.202</td>\n",
       "      <td>São Paulo</td>\n",
       "      <td>São Paulo</td>\n",
       "      <td>02675-031</td>\n",
       "      <td>Chrome</td>\n",
       "      <td>Adwords</td>\n",
       "      <td>/product/16375</td>\n",
       "      <td>product</td>\n",
       "      <td>2021</td>\n",
       "      <td>6</td>\n",
       "      <td>17</td>\n",
       "      <td>2021-06-17</td>\n",
       "    </tr>\n",
       "    <tr>\n",
       "      <th>2259680</th>\n",
       "      <td>2198522</td>\n",
       "      <td>&lt;NA&gt;</td>\n",
       "      <td>2</td>\n",
       "      <td>83889ed2-2adc-4b9a-af5d-154f6998e778</td>\n",
       "      <td>2021-06-17 17:24:00+00:00</td>\n",
       "      <td>138.143.9.202</td>\n",
       "      <td>São Paulo</td>\n",
       "      <td>São Paulo</td>\n",
       "      <td>02675-031</td>\n",
       "      <td>Chrome</td>\n",
       "      <td>Adwords</td>\n",
       "      <td>/cart</td>\n",
       "      <td>cart</td>\n",
       "      <td>2021</td>\n",
       "      <td>6</td>\n",
       "      <td>17</td>\n",
       "      <td>2021-06-17</td>\n",
       "    </tr>\n",
       "    <tr>\n",
       "      <th>0</th>\n",
       "      <td>2198523</td>\n",
       "      <td>&lt;NA&gt;</td>\n",
       "      <td>3</td>\n",
       "      <td>83889ed2-2adc-4b9a-af5d-154f6998e778</td>\n",
       "      <td>2021-06-17 17:30:00+00:00</td>\n",
       "      <td>138.143.9.202</td>\n",
       "      <td>São Paulo</td>\n",
       "      <td>São Paulo</td>\n",
       "      <td>02675-031</td>\n",
       "      <td>Chrome</td>\n",
       "      <td>Adwords</td>\n",
       "      <td>/cancel</td>\n",
       "      <td>cancel</td>\n",
       "      <td>2021</td>\n",
       "      <td>6</td>\n",
       "      <td>17</td>\n",
       "      <td>2021-06-17</td>\n",
       "    </tr>\n",
       "  </tbody>\n",
       "</table>\n",
       "</div>"
      ],
      "text/plain": [
       "         event_id  user_id  sequence_number  \\\n",
       "1380245   2198521     <NA>                1   \n",
       "2259680   2198522     <NA>                2   \n",
       "0         2198523     <NA>                3   \n",
       "\n",
       "                                   session_id          event_created_at  \\\n",
       "1380245  83889ed2-2adc-4b9a-af5d-154f6998e778 2021-06-17 17:10:00+00:00   \n",
       "2259680  83889ed2-2adc-4b9a-af5d-154f6998e778 2021-06-17 17:24:00+00:00   \n",
       "0        83889ed2-2adc-4b9a-af5d-154f6998e778 2021-06-17 17:30:00+00:00   \n",
       "\n",
       "            ip_address       city      state postal_code browser  \\\n",
       "1380245  138.143.9.202  São Paulo  São Paulo   02675-031  Chrome   \n",
       "2259680  138.143.9.202  São Paulo  São Paulo   02675-031  Chrome   \n",
       "0        138.143.9.202  São Paulo  São Paulo   02675-031  Chrome   \n",
       "\n",
       "        event_traffic_source             uri event_type  year  month  day  \\\n",
       "1380245              Adwords  /product/16375    product  2021      6   17   \n",
       "2259680              Adwords           /cart       cart  2021      6   17   \n",
       "0                    Adwords         /cancel     cancel  2021      6   17   \n",
       "\n",
       "               date  \n",
       "1380245  2021-06-17  \n",
       "2259680  2021-06-17  \n",
       "0        2021-06-17  "
      ]
     },
     "execution_count": 73,
     "metadata": {},
     "output_type": "execute_result"
    }
   ],
   "source": [
    "events.query('session_id == \"83889ed2-2adc-4b9a-af5d-154f6998e778\"').sort_values('event_created_at')"
   ]
  },
  {
   "cell_type": "code",
   "execution_count": null,
   "metadata": {},
   "outputs": [
    {
     "data": {
      "text/html": [
       "<div>\n",
       "<style scoped>\n",
       "    .dataframe tbody tr th:only-of-type {\n",
       "        vertical-align: middle;\n",
       "    }\n",
       "\n",
       "    .dataframe tbody tr th {\n",
       "        vertical-align: top;\n",
       "    }\n",
       "\n",
       "    .dataframe thead th {\n",
       "        text-align: right;\n",
       "    }\n",
       "</style>\n",
       "<table border=\"1\" class=\"dataframe\">\n",
       "  <thead>\n",
       "    <tr style=\"text-align: right;\">\n",
       "      <th></th>\n",
       "      <th>event_id</th>\n",
       "      <th>user_id</th>\n",
       "      <th>sequence_number</th>\n",
       "      <th>session_id</th>\n",
       "      <th>event_created_at</th>\n",
       "      <th>ip_address</th>\n",
       "      <th>city</th>\n",
       "      <th>state</th>\n",
       "      <th>postal_code</th>\n",
       "      <th>browser</th>\n",
       "      <th>event_traffic_source</th>\n",
       "      <th>uri</th>\n",
       "      <th>event_type</th>\n",
       "      <th>year</th>\n",
       "      <th>month</th>\n",
       "      <th>day</th>\n",
       "      <th>date</th>\n",
       "    </tr>\n",
       "  </thead>\n",
       "  <tbody>\n",
       "    <tr>\n",
       "      <th>1135697</th>\n",
       "      <td>2198524</td>\n",
       "      <td>&lt;NA&gt;</td>\n",
       "      <td>1</td>\n",
       "      <td>8ecb870d-9f42-4967-a2be-27bb91d1b90f</td>\n",
       "      <td>2023-11-09 11:24:00+00:00</td>\n",
       "      <td>177.193.218.240</td>\n",
       "      <td>Osterode am Harz</td>\n",
       "      <td>Niedersachsen</td>\n",
       "      <td>37520</td>\n",
       "      <td>Chrome</td>\n",
       "      <td>YouTube</td>\n",
       "      <td>/product/3411</td>\n",
       "      <td>product</td>\n",
       "      <td>2023</td>\n",
       "      <td>11</td>\n",
       "      <td>9</td>\n",
       "      <td>2023-11-09</td>\n",
       "    </tr>\n",
       "    <tr>\n",
       "      <th>1121431</th>\n",
       "      <td>2198525</td>\n",
       "      <td>&lt;NA&gt;</td>\n",
       "      <td>2</td>\n",
       "      <td>8ecb870d-9f42-4967-a2be-27bb91d1b90f</td>\n",
       "      <td>2023-11-09 11:38:00+00:00</td>\n",
       "      <td>177.193.218.240</td>\n",
       "      <td>Osterode am Harz</td>\n",
       "      <td>Niedersachsen</td>\n",
       "      <td>37520</td>\n",
       "      <td>Chrome</td>\n",
       "      <td>YouTube</td>\n",
       "      <td>/cart</td>\n",
       "      <td>cart</td>\n",
       "      <td>2023</td>\n",
       "      <td>11</td>\n",
       "      <td>9</td>\n",
       "      <td>2023-11-09</td>\n",
       "    </tr>\n",
       "    <tr>\n",
       "      <th>1663869</th>\n",
       "      <td>2198526</td>\n",
       "      <td>&lt;NA&gt;</td>\n",
       "      <td>3</td>\n",
       "      <td>8ecb870d-9f42-4967-a2be-27bb91d1b90f</td>\n",
       "      <td>2023-11-09 12:06:00+00:00</td>\n",
       "      <td>177.193.218.240</td>\n",
       "      <td>Osterode am Harz</td>\n",
       "      <td>Niedersachsen</td>\n",
       "      <td>37520</td>\n",
       "      <td>Chrome</td>\n",
       "      <td>YouTube</td>\n",
       "      <td>/cancel</td>\n",
       "      <td>cancel</td>\n",
       "      <td>2023</td>\n",
       "      <td>11</td>\n",
       "      <td>9</td>\n",
       "      <td>2023-11-09</td>\n",
       "    </tr>\n",
       "    <tr>\n",
       "      <th>1948667</th>\n",
       "      <td>2198527</td>\n",
       "      <td>&lt;NA&gt;</td>\n",
       "      <td>1</td>\n",
       "      <td>f4e27ea2-9d78-41ed-a12d-b671324efbec</td>\n",
       "      <td>2021-10-28 14:43:00+00:00</td>\n",
       "      <td>111.193.61.121</td>\n",
       "      <td>San Tan Valley</td>\n",
       "      <td>Arizona</td>\n",
       "      <td>85140</td>\n",
       "      <td>Firefox</td>\n",
       "      <td>Organic</td>\n",
       "      <td>/department/women/category/leggings/brand/luxu...</td>\n",
       "      <td>department</td>\n",
       "      <td>2021</td>\n",
       "      <td>10</td>\n",
       "      <td>28</td>\n",
       "      <td>2021-10-28</td>\n",
       "    </tr>\n",
       "    <tr>\n",
       "      <th>1015576</th>\n",
       "      <td>2198528</td>\n",
       "      <td>&lt;NA&gt;</td>\n",
       "      <td>2</td>\n",
       "      <td>f4e27ea2-9d78-41ed-a12d-b671324efbec</td>\n",
       "      <td>2021-10-28 14:43:00+00:00</td>\n",
       "      <td>111.193.61.121</td>\n",
       "      <td>San Tan Valley</td>\n",
       "      <td>Arizona</td>\n",
       "      <td>85140</td>\n",
       "      <td>Firefox</td>\n",
       "      <td>Organic</td>\n",
       "      <td>/product/5793</td>\n",
       "      <td>product</td>\n",
       "      <td>2021</td>\n",
       "      <td>10</td>\n",
       "      <td>28</td>\n",
       "      <td>2021-10-28</td>\n",
       "    </tr>\n",
       "    <tr>\n",
       "      <th>2249001</th>\n",
       "      <td>2198529</td>\n",
       "      <td>&lt;NA&gt;</td>\n",
       "      <td>1</td>\n",
       "      <td>9fd8f1f7-caae-4e48-945e-848cffc30735</td>\n",
       "      <td>2019-10-07 16:07:00+00:00</td>\n",
       "      <td>72.76.190.217</td>\n",
       "      <td>National city</td>\n",
       "      <td>Tokyo</td>\n",
       "      <td>186-0004</td>\n",
       "      <td>Other</td>\n",
       "      <td>Adwords</td>\n",
       "      <td>/product/18065</td>\n",
       "      <td>product</td>\n",
       "      <td>2019</td>\n",
       "      <td>10</td>\n",
       "      <td>7</td>\n",
       "      <td>2019-10-07</td>\n",
       "    </tr>\n",
       "    <tr>\n",
       "      <th>662528</th>\n",
       "      <td>2198530</td>\n",
       "      <td>&lt;NA&gt;</td>\n",
       "      <td>1</td>\n",
       "      <td>f5911105-38c1-404a-a8ba-f1697eb21eac</td>\n",
       "      <td>2021-01-12 15:57:00+00:00</td>\n",
       "      <td>81.213.8.124</td>\n",
       "      <td>Decatur</td>\n",
       "      <td>Georgia</td>\n",
       "      <td>30030</td>\n",
       "      <td>Firefox</td>\n",
       "      <td>Email</td>\n",
       "      <td>/product/26836</td>\n",
       "      <td>product</td>\n",
       "      <td>2021</td>\n",
       "      <td>1</td>\n",
       "      <td>12</td>\n",
       "      <td>2021-01-12</td>\n",
       "    </tr>\n",
       "    <tr>\n",
       "      <th>633922</th>\n",
       "      <td>2198531</td>\n",
       "      <td>&lt;NA&gt;</td>\n",
       "      <td>1</td>\n",
       "      <td>f823b8c9-7e79-4249-a5fe-2666e9433b81</td>\n",
       "      <td>2021-11-28 07:58:00+00:00</td>\n",
       "      <td>34.139.123.246</td>\n",
       "      <td>Chula Vista</td>\n",
       "      <td>California</td>\n",
       "      <td>91913</td>\n",
       "      <td>Safari</td>\n",
       "      <td>Facebook</td>\n",
       "      <td>/department/men/category/suits&amp;sportcoats/bran...</td>\n",
       "      <td>department</td>\n",
       "      <td>2021</td>\n",
       "      <td>11</td>\n",
       "      <td>28</td>\n",
       "      <td>2021-11-28</td>\n",
       "    </tr>\n",
       "    <tr>\n",
       "      <th>244674</th>\n",
       "      <td>2198532</td>\n",
       "      <td>&lt;NA&gt;</td>\n",
       "      <td>2</td>\n",
       "      <td>f823b8c9-7e79-4249-a5fe-2666e9433b81</td>\n",
       "      <td>2021-11-28 08:22:00+00:00</td>\n",
       "      <td>34.139.123.246</td>\n",
       "      <td>Chula Vista</td>\n",
       "      <td>California</td>\n",
       "      <td>91913</td>\n",
       "      <td>Safari</td>\n",
       "      <td>Facebook</td>\n",
       "      <td>/product/20453</td>\n",
       "      <td>product</td>\n",
       "      <td>2021</td>\n",
       "      <td>11</td>\n",
       "      <td>28</td>\n",
       "      <td>2021-11-28</td>\n",
       "    </tr>\n",
       "    <tr>\n",
       "      <th>876574</th>\n",
       "      <td>2198533</td>\n",
       "      <td>&lt;NA&gt;</td>\n",
       "      <td>3</td>\n",
       "      <td>f823b8c9-7e79-4249-a5fe-2666e9433b81</td>\n",
       "      <td>2021-11-28 08:50:00+00:00</td>\n",
       "      <td>34.139.123.246</td>\n",
       "      <td>Chula Vista</td>\n",
       "      <td>California</td>\n",
       "      <td>91913</td>\n",
       "      <td>Safari</td>\n",
       "      <td>Facebook</td>\n",
       "      <td>/cart</td>\n",
       "      <td>cart</td>\n",
       "      <td>2021</td>\n",
       "      <td>11</td>\n",
       "      <td>28</td>\n",
       "      <td>2021-11-28</td>\n",
       "    </tr>\n",
       "    <tr>\n",
       "      <th>1772264</th>\n",
       "      <td>2198534</td>\n",
       "      <td>&lt;NA&gt;</td>\n",
       "      <td>1</td>\n",
       "      <td>debf5862-ba79-4f42-969a-75121662db8d</td>\n",
       "      <td>2021-02-25 03:53:00+00:00</td>\n",
       "      <td>125.4.213.43</td>\n",
       "      <td>Aventura</td>\n",
       "      <td>Florida</td>\n",
       "      <td>33180</td>\n",
       "      <td>Chrome</td>\n",
       "      <td>Email</td>\n",
       "      <td>/department/men/category/socks/brand/universal...</td>\n",
       "      <td>department</td>\n",
       "      <td>2021</td>\n",
       "      <td>2</td>\n",
       "      <td>25</td>\n",
       "      <td>2021-02-25</td>\n",
       "    </tr>\n",
       "  </tbody>\n",
       "</table>\n",
       "</div>"
      ],
      "text/plain": [
       "         event_id  user_id  sequence_number  \\\n",
       "1135697   2198524     <NA>                1   \n",
       "1121431   2198525     <NA>                2   \n",
       "1663869   2198526     <NA>                3   \n",
       "1948667   2198527     <NA>                1   \n",
       "1015576   2198528     <NA>                2   \n",
       "2249001   2198529     <NA>                1   \n",
       "662528    2198530     <NA>                1   \n",
       "633922    2198531     <NA>                1   \n",
       "244674    2198532     <NA>                2   \n",
       "876574    2198533     <NA>                3   \n",
       "1772264   2198534     <NA>                1   \n",
       "\n",
       "                                   session_id          event_created_at  \\\n",
       "1135697  8ecb870d-9f42-4967-a2be-27bb91d1b90f 2023-11-09 11:24:00+00:00   \n",
       "1121431  8ecb870d-9f42-4967-a2be-27bb91d1b90f 2023-11-09 11:38:00+00:00   \n",
       "1663869  8ecb870d-9f42-4967-a2be-27bb91d1b90f 2023-11-09 12:06:00+00:00   \n",
       "1948667  f4e27ea2-9d78-41ed-a12d-b671324efbec 2021-10-28 14:43:00+00:00   \n",
       "1015576  f4e27ea2-9d78-41ed-a12d-b671324efbec 2021-10-28 14:43:00+00:00   \n",
       "2249001  9fd8f1f7-caae-4e48-945e-848cffc30735 2019-10-07 16:07:00+00:00   \n",
       "662528   f5911105-38c1-404a-a8ba-f1697eb21eac 2021-01-12 15:57:00+00:00   \n",
       "633922   f823b8c9-7e79-4249-a5fe-2666e9433b81 2021-11-28 07:58:00+00:00   \n",
       "244674   f823b8c9-7e79-4249-a5fe-2666e9433b81 2021-11-28 08:22:00+00:00   \n",
       "876574   f823b8c9-7e79-4249-a5fe-2666e9433b81 2021-11-28 08:50:00+00:00   \n",
       "1772264  debf5862-ba79-4f42-969a-75121662db8d 2021-02-25 03:53:00+00:00   \n",
       "\n",
       "              ip_address              city          state postal_code  \\\n",
       "1135697  177.193.218.240  Osterode am Harz  Niedersachsen       37520   \n",
       "1121431  177.193.218.240  Osterode am Harz  Niedersachsen       37520   \n",
       "1663869  177.193.218.240  Osterode am Harz  Niedersachsen       37520   \n",
       "1948667   111.193.61.121    San Tan Valley        Arizona       85140   \n",
       "1015576   111.193.61.121    San Tan Valley        Arizona       85140   \n",
       "2249001    72.76.190.217     National city          Tokyo    186-0004   \n",
       "662528      81.213.8.124           Decatur        Georgia       30030   \n",
       "633922    34.139.123.246       Chula Vista     California       91913   \n",
       "244674    34.139.123.246       Chula Vista     California       91913   \n",
       "876574    34.139.123.246       Chula Vista     California       91913   \n",
       "1772264     125.4.213.43          Aventura        Florida       33180   \n",
       "\n",
       "         browser event_traffic_source  \\\n",
       "1135697   Chrome              YouTube   \n",
       "1121431   Chrome              YouTube   \n",
       "1663869   Chrome              YouTube   \n",
       "1948667  Firefox              Organic   \n",
       "1015576  Firefox              Organic   \n",
       "2249001    Other              Adwords   \n",
       "662528   Firefox                Email   \n",
       "633922    Safari             Facebook   \n",
       "244674    Safari             Facebook   \n",
       "876574    Safari             Facebook   \n",
       "1772264   Chrome                Email   \n",
       "\n",
       "                                                       uri  event_type  year  \\\n",
       "1135697                                      /product/3411     product  2023   \n",
       "1121431                                              /cart        cart  2023   \n",
       "1663869                                            /cancel      cancel  2023   \n",
       "1948667  /department/women/category/leggings/brand/luxu...  department  2021   \n",
       "1015576                                      /product/5793     product  2021   \n",
       "2249001                                     /product/18065     product  2019   \n",
       "662528                                      /product/26836     product  2021   \n",
       "633922   /department/men/category/suits&sportcoats/bran...  department  2021   \n",
       "244674                                      /product/20453     product  2021   \n",
       "876574                                               /cart        cart  2021   \n",
       "1772264  /department/men/category/socks/brand/universal...  department  2021   \n",
       "\n",
       "         month  day        date  \n",
       "1135697     11    9  2023-11-09  \n",
       "1121431     11    9  2023-11-09  \n",
       "1663869     11    9  2023-11-09  \n",
       "1948667     10   28  2021-10-28  \n",
       "1015576     10   28  2021-10-28  \n",
       "2249001     10    7  2019-10-07  \n",
       "662528       1   12  2021-01-12  \n",
       "633922      11   28  2021-11-28  \n",
       "244674      11   28  2021-11-28  \n",
       "876574      11   28  2021-11-28  \n",
       "1772264      2   25  2021-02-25  "
      ]
     },
     "execution_count": 74,
     "metadata": {},
     "output_type": "execute_result"
    }
   ],
   "source": [
    "events[(events['event_id'] >= 2198524) & (events['event_id'] < 2198535)].sort_values('event_id')"
   ]
  },
  {
   "cell_type": "code",
   "execution_count": null,
   "metadata": {},
   "outputs": [
    {
     "name": "stdout",
     "output_type": "stream",
     "text": [
      "2022-04-07 05:50:49+00:00\n",
      "2022-04-07 05:45:12+00:00\n",
      "0 days 00:05:37\n"
     ]
    }
   ],
   "source": [
    "print(events.query('session_id == \"959d7ba8-e279-4581-97ce-bc8ef6d754db\"')['event_created_at'].max())\n",
    "print(events.query('session_id == \"959d7ba8-e279-4581-97ce-bc8ef6d754db\"')['event_created_at'].min())\n",
    "print(events.query('session_id == \"959d7ba8-e279-4581-97ce-bc8ef6d754db\"')['event_created_at'].max() - events.query('session_id == \"959d7ba8-e279-4581-97ce-bc8ef6d754db\"')['event_created_at'].min())\n"
   ]
  },
  {
   "cell_type": "code",
   "execution_count": null,
   "metadata": {},
   "outputs": [],
   "source": [
    "duration = events.groupby('session_id')[['event_created_at']].agg(['max', 'min']).reset_index()\n",
    "duration['duration'] = duration['event_created_at']['max'] - duration['event_created_at']['min']"
   ]
  },
  {
   "cell_type": "code",
   "execution_count": null,
   "metadata": {},
   "outputs": [
    {
     "data": {
      "text/html": [
       "<div>\n",
       "<style scoped>\n",
       "    .dataframe tbody tr th:only-of-type {\n",
       "        vertical-align: middle;\n",
       "    }\n",
       "\n",
       "    .dataframe tbody tr th {\n",
       "        vertical-align: top;\n",
       "    }\n",
       "\n",
       "    .dataframe thead th {\n",
       "        text-align: right;\n",
       "    }\n",
       "</style>\n",
       "<table border=\"1\" class=\"dataframe\">\n",
       "  <thead>\n",
       "    <tr style=\"text-align: right;\">\n",
       "      <th></th>\n",
       "      <th>session_id</th>\n",
       "      <th>max</th>\n",
       "      <th>min</th>\n",
       "      <th>duration</th>\n",
       "    </tr>\n",
       "  </thead>\n",
       "  <tbody>\n",
       "    <tr>\n",
       "      <th>0</th>\n",
       "      <td>00000763-a855-4ad0-a95c-b160e749b272</td>\n",
       "      <td>2021-10-01 03:52:00+00:00</td>\n",
       "      <td>2021-10-01 03:26:00+00:00</td>\n",
       "      <td>0 days 00:26:00</td>\n",
       "    </tr>\n",
       "    <tr>\n",
       "      <th>1</th>\n",
       "      <td>0000364a-ce41-46f1-89d6-3f8704af77db</td>\n",
       "      <td>2022-08-22 10:52:42+00:00</td>\n",
       "      <td>2022-08-22 10:46:40+00:00</td>\n",
       "      <td>0 days 00:06:02</td>\n",
       "    </tr>\n",
       "    <tr>\n",
       "      <th>2</th>\n",
       "      <td>00004b15-f2d4-4687-b4c1-fc9ce336d39a</td>\n",
       "      <td>2022-06-11 01:54:00+00:00</td>\n",
       "      <td>2022-06-11 01:28:00+00:00</td>\n",
       "      <td>0 days 00:26:00</td>\n",
       "    </tr>\n",
       "    <tr>\n",
       "      <th>3</th>\n",
       "      <td>00004cf0-0d54-4347-8b0c-dccc700a2c96</td>\n",
       "      <td>2021-12-28 03:32:00+00:00</td>\n",
       "      <td>2021-12-28 03:11:00+00:00</td>\n",
       "      <td>0 days 00:21:00</td>\n",
       "    </tr>\n",
       "    <tr>\n",
       "      <th>4</th>\n",
       "      <td>00005f74-03cb-40ed-b254-364c38c79104</td>\n",
       "      <td>2019-08-02 14:49:00+00:00</td>\n",
       "      <td>2019-08-02 14:40:00+00:00</td>\n",
       "      <td>0 days 00:09:00</td>\n",
       "    </tr>\n",
       "    <tr>\n",
       "      <th>...</th>\n",
       "      <td>...</td>\n",
       "      <td>...</td>\n",
       "      <td>...</td>\n",
       "      <td>...</td>\n",
       "    </tr>\n",
       "    <tr>\n",
       "      <th>643588</th>\n",
       "      <td>ffff7645-26f7-410f-8498-0c601d74c67a</td>\n",
       "      <td>2019-11-05 15:39:00+00:00</td>\n",
       "      <td>2019-11-05 15:00:00+00:00</td>\n",
       "      <td>0 days 00:39:00</td>\n",
       "    </tr>\n",
       "    <tr>\n",
       "      <th>643589</th>\n",
       "      <td>ffff8086-da2c-4045-94ba-453437cd3289</td>\n",
       "      <td>2020-03-20 06:06:00+00:00</td>\n",
       "      <td>2020-03-20 06:06:00+00:00</td>\n",
       "      <td>0 days 00:00:00</td>\n",
       "    </tr>\n",
       "    <tr>\n",
       "      <th>643590</th>\n",
       "      <td>ffffa9aa-4345-4c2a-b389-8fd58844472e</td>\n",
       "      <td>2021-07-26 15:49:00+00:00</td>\n",
       "      <td>2021-07-26 15:45:00+00:00</td>\n",
       "      <td>0 days 00:04:00</td>\n",
       "    </tr>\n",
       "    <tr>\n",
       "      <th>643591</th>\n",
       "      <td>ffffc3b7-9bc3-44d0-935e-cfaf11c91a0e</td>\n",
       "      <td>2019-07-10 07:21:00+00:00</td>\n",
       "      <td>2019-07-10 07:02:00+00:00</td>\n",
       "      <td>0 days 00:19:00</td>\n",
       "    </tr>\n",
       "    <tr>\n",
       "      <th>643592</th>\n",
       "      <td>ffffc96a-b665-41a1-8a9a-1101c46e6620</td>\n",
       "      <td>2022-08-27 00:47:16+00:00</td>\n",
       "      <td>2022-08-25 00:34:05+00:00</td>\n",
       "      <td>2 days 00:13:11</td>\n",
       "    </tr>\n",
       "  </tbody>\n",
       "</table>\n",
       "<p>643593 rows × 4 columns</p>\n",
       "</div>"
      ],
      "text/plain": [
       "                                  session_id                       max  \\\n",
       "0       00000763-a855-4ad0-a95c-b160e749b272 2021-10-01 03:52:00+00:00   \n",
       "1       0000364a-ce41-46f1-89d6-3f8704af77db 2022-08-22 10:52:42+00:00   \n",
       "2       00004b15-f2d4-4687-b4c1-fc9ce336d39a 2022-06-11 01:54:00+00:00   \n",
       "3       00004cf0-0d54-4347-8b0c-dccc700a2c96 2021-12-28 03:32:00+00:00   \n",
       "4       00005f74-03cb-40ed-b254-364c38c79104 2019-08-02 14:49:00+00:00   \n",
       "...                                      ...                       ...   \n",
       "643588  ffff7645-26f7-410f-8498-0c601d74c67a 2019-11-05 15:39:00+00:00   \n",
       "643589  ffff8086-da2c-4045-94ba-453437cd3289 2020-03-20 06:06:00+00:00   \n",
       "643590  ffffa9aa-4345-4c2a-b389-8fd58844472e 2021-07-26 15:49:00+00:00   \n",
       "643591  ffffc3b7-9bc3-44d0-935e-cfaf11c91a0e 2019-07-10 07:21:00+00:00   \n",
       "643592  ffffc96a-b665-41a1-8a9a-1101c46e6620 2022-08-27 00:47:16+00:00   \n",
       "\n",
       "                             min        duration  \n",
       "0      2021-10-01 03:26:00+00:00 0 days 00:26:00  \n",
       "1      2022-08-22 10:46:40+00:00 0 days 00:06:02  \n",
       "2      2022-06-11 01:28:00+00:00 0 days 00:26:00  \n",
       "3      2021-12-28 03:11:00+00:00 0 days 00:21:00  \n",
       "4      2019-08-02 14:40:00+00:00 0 days 00:09:00  \n",
       "...                          ...             ...  \n",
       "643588 2019-11-05 15:00:00+00:00 0 days 00:39:00  \n",
       "643589 2020-03-20 06:06:00+00:00 0 days 00:00:00  \n",
       "643590 2021-07-26 15:45:00+00:00 0 days 00:04:00  \n",
       "643591 2019-07-10 07:02:00+00:00 0 days 00:19:00  \n",
       "643592 2022-08-25 00:34:05+00:00 2 days 00:13:11  \n",
       "\n",
       "[643593 rows x 4 columns]"
      ]
     },
     "execution_count": 77,
     "metadata": {},
     "output_type": "execute_result"
    }
   ],
   "source": [
    "duration.columns = ['session_id', 'max', 'min', 'duration']\n",
    "duration"
   ]
  },
  {
   "cell_type": "markdown",
   "metadata": {},
   "source": [
    "- 각 세션의 최대 sequence_number 계산"
   ]
  },
  {
   "cell_type": "code",
   "execution_count": null,
   "metadata": {},
   "outputs": [
    {
     "data": {
      "text/html": [
       "<div>\n",
       "<style scoped>\n",
       "    .dataframe tbody tr th:only-of-type {\n",
       "        vertical-align: middle;\n",
       "    }\n",
       "\n",
       "    .dataframe tbody tr th {\n",
       "        vertical-align: top;\n",
       "    }\n",
       "\n",
       "    .dataframe thead th {\n",
       "        text-align: right;\n",
       "    }\n",
       "</style>\n",
       "<table border=\"1\" class=\"dataframe\">\n",
       "  <thead>\n",
       "    <tr style=\"text-align: right;\">\n",
       "      <th></th>\n",
       "      <th>session_id</th>\n",
       "      <th>max</th>\n",
       "      <th>min</th>\n",
       "      <th>duration</th>\n",
       "      <th>max_sequence_number</th>\n",
       "    </tr>\n",
       "  </thead>\n",
       "  <tbody>\n",
       "    <tr>\n",
       "      <th>0</th>\n",
       "      <td>00000763-a855-4ad0-a95c-b160e749b272</td>\n",
       "      <td>2021-10-01 03:52:00+00:00</td>\n",
       "      <td>2021-10-01 03:26:00+00:00</td>\n",
       "      <td>0 days 00:26:00</td>\n",
       "      <td>3</td>\n",
       "    </tr>\n",
       "    <tr>\n",
       "      <th>1</th>\n",
       "      <td>0000364a-ce41-46f1-89d6-3f8704af77db</td>\n",
       "      <td>2022-08-22 10:52:42+00:00</td>\n",
       "      <td>2022-08-22 10:46:40+00:00</td>\n",
       "      <td>0 days 00:06:02</td>\n",
       "      <td>5</td>\n",
       "    </tr>\n",
       "    <tr>\n",
       "      <th>2</th>\n",
       "      <td>00004b15-f2d4-4687-b4c1-fc9ce336d39a</td>\n",
       "      <td>2022-06-11 01:54:00+00:00</td>\n",
       "      <td>2022-06-11 01:28:00+00:00</td>\n",
       "      <td>0 days 00:26:00</td>\n",
       "      <td>3</td>\n",
       "    </tr>\n",
       "    <tr>\n",
       "      <th>3</th>\n",
       "      <td>00004cf0-0d54-4347-8b0c-dccc700a2c96</td>\n",
       "      <td>2021-12-28 03:32:00+00:00</td>\n",
       "      <td>2021-12-28 03:11:00+00:00</td>\n",
       "      <td>0 days 00:21:00</td>\n",
       "      <td>3</td>\n",
       "    </tr>\n",
       "    <tr>\n",
       "      <th>4</th>\n",
       "      <td>00005f74-03cb-40ed-b254-364c38c79104</td>\n",
       "      <td>2019-08-02 14:49:00+00:00</td>\n",
       "      <td>2019-08-02 14:40:00+00:00</td>\n",
       "      <td>0 days 00:09:00</td>\n",
       "      <td>2</td>\n",
       "    </tr>\n",
       "    <tr>\n",
       "      <th>...</th>\n",
       "      <td>...</td>\n",
       "      <td>...</td>\n",
       "      <td>...</td>\n",
       "      <td>...</td>\n",
       "      <td>...</td>\n",
       "    </tr>\n",
       "    <tr>\n",
       "      <th>643588</th>\n",
       "      <td>ffff7645-26f7-410f-8498-0c601d74c67a</td>\n",
       "      <td>2019-11-05 15:39:00+00:00</td>\n",
       "      <td>2019-11-05 15:00:00+00:00</td>\n",
       "      <td>0 days 00:39:00</td>\n",
       "      <td>3</td>\n",
       "    </tr>\n",
       "    <tr>\n",
       "      <th>643589</th>\n",
       "      <td>ffff8086-da2c-4045-94ba-453437cd3289</td>\n",
       "      <td>2020-03-20 06:06:00+00:00</td>\n",
       "      <td>2020-03-20 06:06:00+00:00</td>\n",
       "      <td>0 days 00:00:00</td>\n",
       "      <td>1</td>\n",
       "    </tr>\n",
       "    <tr>\n",
       "      <th>643590</th>\n",
       "      <td>ffffa9aa-4345-4c2a-b389-8fd58844472e</td>\n",
       "      <td>2021-07-26 15:49:00+00:00</td>\n",
       "      <td>2021-07-26 15:45:00+00:00</td>\n",
       "      <td>0 days 00:04:00</td>\n",
       "      <td>2</td>\n",
       "    </tr>\n",
       "    <tr>\n",
       "      <th>643591</th>\n",
       "      <td>ffffc3b7-9bc3-44d0-935e-cfaf11c91a0e</td>\n",
       "      <td>2019-07-10 07:21:00+00:00</td>\n",
       "      <td>2019-07-10 07:02:00+00:00</td>\n",
       "      <td>0 days 00:19:00</td>\n",
       "      <td>3</td>\n",
       "    </tr>\n",
       "    <tr>\n",
       "      <th>643592</th>\n",
       "      <td>ffffc96a-b665-41a1-8a9a-1101c46e6620</td>\n",
       "      <td>2022-08-27 00:47:16+00:00</td>\n",
       "      <td>2022-08-25 00:34:05+00:00</td>\n",
       "      <td>2 days 00:13:11</td>\n",
       "      <td>13</td>\n",
       "    </tr>\n",
       "  </tbody>\n",
       "</table>\n",
       "<p>643593 rows × 5 columns</p>\n",
       "</div>"
      ],
      "text/plain": [
       "                                  session_id                       max  \\\n",
       "0       00000763-a855-4ad0-a95c-b160e749b272 2021-10-01 03:52:00+00:00   \n",
       "1       0000364a-ce41-46f1-89d6-3f8704af77db 2022-08-22 10:52:42+00:00   \n",
       "2       00004b15-f2d4-4687-b4c1-fc9ce336d39a 2022-06-11 01:54:00+00:00   \n",
       "3       00004cf0-0d54-4347-8b0c-dccc700a2c96 2021-12-28 03:32:00+00:00   \n",
       "4       00005f74-03cb-40ed-b254-364c38c79104 2019-08-02 14:49:00+00:00   \n",
       "...                                      ...                       ...   \n",
       "643588  ffff7645-26f7-410f-8498-0c601d74c67a 2019-11-05 15:39:00+00:00   \n",
       "643589  ffff8086-da2c-4045-94ba-453437cd3289 2020-03-20 06:06:00+00:00   \n",
       "643590  ffffa9aa-4345-4c2a-b389-8fd58844472e 2021-07-26 15:49:00+00:00   \n",
       "643591  ffffc3b7-9bc3-44d0-935e-cfaf11c91a0e 2019-07-10 07:21:00+00:00   \n",
       "643592  ffffc96a-b665-41a1-8a9a-1101c46e6620 2022-08-27 00:47:16+00:00   \n",
       "\n",
       "                             min        duration  max_sequence_number  \n",
       "0      2021-10-01 03:26:00+00:00 0 days 00:26:00                    3  \n",
       "1      2022-08-22 10:46:40+00:00 0 days 00:06:02                    5  \n",
       "2      2022-06-11 01:28:00+00:00 0 days 00:26:00                    3  \n",
       "3      2021-12-28 03:11:00+00:00 0 days 00:21:00                    3  \n",
       "4      2019-08-02 14:40:00+00:00 0 days 00:09:00                    2  \n",
       "...                          ...             ...                  ...  \n",
       "643588 2019-11-05 15:00:00+00:00 0 days 00:39:00                    3  \n",
       "643589 2020-03-20 06:06:00+00:00 0 days 00:00:00                    1  \n",
       "643590 2021-07-26 15:45:00+00:00 0 days 00:04:00                    2  \n",
       "643591 2019-07-10 07:02:00+00:00 0 days 00:19:00                    3  \n",
       "643592 2022-08-25 00:34:05+00:00 2 days 00:13:11                   13  \n",
       "\n",
       "[643593 rows x 5 columns]"
      ]
     },
     "execution_count": 78,
     "metadata": {},
     "output_type": "execute_result"
    }
   ],
   "source": [
    "max_sequence = events.groupby('session_id')['sequence_number'].max().reset_index()\n",
    "\n",
    "duration = pd.merge(duration, max_sequence, on='session_id', how='left')\n",
    "duration.rename(columns={'sequence_number': 'max_sequence_number'}, inplace=True)\n",
    "duration"
   ]
  },
  {
   "cell_type": "code",
   "execution_count": null,
   "metadata": {},
   "outputs": [],
   "source": []
  },
  {
   "cell_type": "markdown",
   "metadata": {},
   "source": [
    "- 체류시간 평균"
   ]
  },
  {
   "cell_type": "code",
   "execution_count": null,
   "metadata": {},
   "outputs": [
    {
     "data": {
      "text/plain": [
       "Timedelta('0 days 06:16:15.696093649')"
      ]
     },
     "execution_count": 79,
     "metadata": {},
     "output_type": "execute_result"
    }
   ],
   "source": [
    "duration['duration'].mean()"
   ]
  },
  {
   "cell_type": "markdown",
   "metadata": {},
   "source": [
    "- session_number 평균"
   ]
  },
  {
   "cell_type": "code",
   "execution_count": null,
   "metadata": {},
   "outputs": [
    {
     "data": {
      "text/plain": [
       "3.450576684333111"
      ]
     },
     "execution_count": 80,
     "metadata": {},
     "output_type": "execute_result"
    }
   ],
   "source": [
    "duration['max_sequence_number'].mean()"
   ]
  },
  {
   "cell_type": "markdown",
   "metadata": {},
   "source": [
    "- sequence number max값의 event_type 확인"
   ]
  },
  {
   "cell_type": "code",
   "execution_count": null,
   "metadata": {},
   "outputs": [
    {
     "name": "stdout",
     "output_type": "stream",
     "text": [
      "                                   session_id event_type\n",
      "1298355  00000763-a855-4ad0-a95c-b160e749b272       cart\n",
      "2108537  0000364a-ce41-46f1-89d6-3f8704af77db   purchase\n",
      "1642387  00004b15-f2d4-4687-b4c1-fc9ce336d39a       cart\n",
      "1790395  00004cf0-0d54-4347-8b0c-dccc700a2c96       cart\n",
      "46442    00005f74-03cb-40ed-b254-364c38c79104    product\n",
      "...                                       ...        ...\n",
      "2061241  ffff7645-26f7-410f-8498-0c601d74c67a     cancel\n",
      "1685629  ffff8086-da2c-4045-94ba-453437cd3289    product\n",
      "840803   ffffa9aa-4345-4c2a-b389-8fd58844472e    product\n",
      "125555   ffffc3b7-9bc3-44d0-935e-cfaf11c91a0e       cart\n",
      "769437   ffffc96a-b665-41a1-8a9a-1101c46e6620   purchase\n",
      "\n",
      "[643593 rows x 2 columns]\n"
     ]
    },
    {
     "data": {
      "text/plain": [
       "event_type\n",
       "product       243117\n",
       "purchase      156083\n",
       "cancel        122387\n",
       "cart          122004\n",
       "department         1\n",
       "home               1\n",
       "Name: count, dtype: int64"
      ]
     },
     "execution_count": 81,
     "metadata": {},
     "output_type": "execute_result"
    }
   ],
   "source": [
    "max_sequence_events = events.loc[events.groupby('session_id')['sequence_number'].idxmax()]\n",
    "\n",
    "print(max_sequence_events[['session_id', 'event_type']])\n",
    "\n",
    "max_sequence_events['event_type'].value_counts()"
   ]
  },
  {
   "cell_type": "markdown",
   "metadata": {},
   "source": [
    "### 조회만 한 유저, 카트에 담은 유저, 구매까지 한 유저 별 체류 시간 비교"
   ]
  },
  {
   "cell_type": "code",
   "execution_count": null,
   "metadata": {},
   "outputs": [
    {
     "name": "stderr",
     "output_type": "stream",
     "text": [
      "/var/folders/qv/tqmmyp0s5dj996k_tcvqmtqm0000gn/T/ipykernel_3187/745961524.py:1: FutureWarning:\n",
      "\n",
      "The default value of observed=False is deprecated and will change to observed=True in a future version of pandas. Specify observed=False to silence this warning and retain the current behavior\n",
      "\n"
     ]
    },
    {
     "data": {
      "text/html": [
       "<div>\n",
       "<style scoped>\n",
       "    .dataframe tbody tr th:only-of-type {\n",
       "        vertical-align: middle;\n",
       "    }\n",
       "\n",
       "    .dataframe tbody tr th {\n",
       "        vertical-align: top;\n",
       "    }\n",
       "\n",
       "    .dataframe thead th {\n",
       "        text-align: right;\n",
       "    }\n",
       "</style>\n",
       "<table border=\"1\" class=\"dataframe\">\n",
       "  <thead>\n",
       "    <tr style=\"text-align: right;\">\n",
       "      <th>event_type</th>\n",
       "      <th>session_id</th>\n",
       "      <th>cancel</th>\n",
       "      <th>cart</th>\n",
       "      <th>department</th>\n",
       "      <th>home</th>\n",
       "      <th>product</th>\n",
       "      <th>purchase</th>\n",
       "    </tr>\n",
       "  </thead>\n",
       "  <tbody>\n",
       "    <tr>\n",
       "      <th>0</th>\n",
       "      <td>00000763-a855-4ad0-a95c-b160e749b272</td>\n",
       "      <td>0</td>\n",
       "      <td>1</td>\n",
       "      <td>1</td>\n",
       "      <td>0</td>\n",
       "      <td>1</td>\n",
       "      <td>0</td>\n",
       "    </tr>\n",
       "    <tr>\n",
       "      <th>1</th>\n",
       "      <td>0000364a-ce41-46f1-89d6-3f8704af77db</td>\n",
       "      <td>0</td>\n",
       "      <td>1</td>\n",
       "      <td>1</td>\n",
       "      <td>1</td>\n",
       "      <td>1</td>\n",
       "      <td>1</td>\n",
       "    </tr>\n",
       "    <tr>\n",
       "      <th>2</th>\n",
       "      <td>00004b15-f2d4-4687-b4c1-fc9ce336d39a</td>\n",
       "      <td>0</td>\n",
       "      <td>1</td>\n",
       "      <td>1</td>\n",
       "      <td>0</td>\n",
       "      <td>1</td>\n",
       "      <td>0</td>\n",
       "    </tr>\n",
       "    <tr>\n",
       "      <th>3</th>\n",
       "      <td>00004cf0-0d54-4347-8b0c-dccc700a2c96</td>\n",
       "      <td>0</td>\n",
       "      <td>1</td>\n",
       "      <td>1</td>\n",
       "      <td>0</td>\n",
       "      <td>1</td>\n",
       "      <td>0</td>\n",
       "    </tr>\n",
       "    <tr>\n",
       "      <th>4</th>\n",
       "      <td>00005f74-03cb-40ed-b254-364c38c79104</td>\n",
       "      <td>0</td>\n",
       "      <td>0</td>\n",
       "      <td>1</td>\n",
       "      <td>0</td>\n",
       "      <td>1</td>\n",
       "      <td>0</td>\n",
       "    </tr>\n",
       "    <tr>\n",
       "      <th>...</th>\n",
       "      <td>...</td>\n",
       "      <td>...</td>\n",
       "      <td>...</td>\n",
       "      <td>...</td>\n",
       "      <td>...</td>\n",
       "      <td>...</td>\n",
       "      <td>...</td>\n",
       "    </tr>\n",
       "    <tr>\n",
       "      <th>643588</th>\n",
       "      <td>ffff7645-26f7-410f-8498-0c601d74c67a</td>\n",
       "      <td>1</td>\n",
       "      <td>1</td>\n",
       "      <td>0</td>\n",
       "      <td>0</td>\n",
       "      <td>1</td>\n",
       "      <td>0</td>\n",
       "    </tr>\n",
       "    <tr>\n",
       "      <th>643589</th>\n",
       "      <td>ffff8086-da2c-4045-94ba-453437cd3289</td>\n",
       "      <td>0</td>\n",
       "      <td>0</td>\n",
       "      <td>0</td>\n",
       "      <td>0</td>\n",
       "      <td>1</td>\n",
       "      <td>0</td>\n",
       "    </tr>\n",
       "    <tr>\n",
       "      <th>643590</th>\n",
       "      <td>ffffa9aa-4345-4c2a-b389-8fd58844472e</td>\n",
       "      <td>0</td>\n",
       "      <td>0</td>\n",
       "      <td>1</td>\n",
       "      <td>0</td>\n",
       "      <td>1</td>\n",
       "      <td>0</td>\n",
       "    </tr>\n",
       "    <tr>\n",
       "      <th>643591</th>\n",
       "      <td>ffffc3b7-9bc3-44d0-935e-cfaf11c91a0e</td>\n",
       "      <td>0</td>\n",
       "      <td>1</td>\n",
       "      <td>1</td>\n",
       "      <td>0</td>\n",
       "      <td>1</td>\n",
       "      <td>0</td>\n",
       "    </tr>\n",
       "    <tr>\n",
       "      <th>643592</th>\n",
       "      <td>ffffc96a-b665-41a1-8a9a-1101c46e6620</td>\n",
       "      <td>0</td>\n",
       "      <td>4</td>\n",
       "      <td>4</td>\n",
       "      <td>0</td>\n",
       "      <td>4</td>\n",
       "      <td>1</td>\n",
       "    </tr>\n",
       "  </tbody>\n",
       "</table>\n",
       "<p>643593 rows × 7 columns</p>\n",
       "</div>"
      ],
      "text/plain": [
       "event_type                            session_id  cancel  cart  department  \\\n",
       "0           00000763-a855-4ad0-a95c-b160e749b272       0     1           1   \n",
       "1           0000364a-ce41-46f1-89d6-3f8704af77db       0     1           1   \n",
       "2           00004b15-f2d4-4687-b4c1-fc9ce336d39a       0     1           1   \n",
       "3           00004cf0-0d54-4347-8b0c-dccc700a2c96       0     1           1   \n",
       "4           00005f74-03cb-40ed-b254-364c38c79104       0     0           1   \n",
       "...                                          ...     ...   ...         ...   \n",
       "643588      ffff7645-26f7-410f-8498-0c601d74c67a       1     1           0   \n",
       "643589      ffff8086-da2c-4045-94ba-453437cd3289       0     0           0   \n",
       "643590      ffffa9aa-4345-4c2a-b389-8fd58844472e       0     0           1   \n",
       "643591      ffffc3b7-9bc3-44d0-935e-cfaf11c91a0e       0     1           1   \n",
       "643592      ffffc96a-b665-41a1-8a9a-1101c46e6620       0     4           4   \n",
       "\n",
       "event_type  home  product  purchase  \n",
       "0              0        1         0  \n",
       "1              1        1         1  \n",
       "2              0        1         0  \n",
       "3              0        1         0  \n",
       "4              0        1         0  \n",
       "...          ...      ...       ...  \n",
       "643588         0        1         0  \n",
       "643589         0        1         0  \n",
       "643590         0        1         0  \n",
       "643591         0        1         0  \n",
       "643592         0        4         1  \n",
       "\n",
       "[643593 rows x 7 columns]"
      ]
     },
     "execution_count": 82,
     "metadata": {},
     "output_type": "execute_result"
    }
   ],
   "source": [
    "session_pivot = pd.pivot_table(data=events, index='session_id', columns='event_type', values='event_created_at', aggfunc='count').reset_index().fillna(0)\n",
    "session_pivot"
   ]
  },
  {
   "cell_type": "code",
   "execution_count": null,
   "metadata": {},
   "outputs": [
    {
     "name": "stdout",
     "output_type": "stream",
     "text": [
      "purchase 열의 최대값: 1\n",
      "department 열의 최대값 4\n",
      "max_product 열의 최대값 4\n",
      "max_cart 열의 최대값 4\n"
     ]
    }
   ],
   "source": [
    "max_purchase = session_pivot['purchase'].max()\n",
    "max_department = session_pivot['department'].max()\n",
    "max_product = session_pivot['product'].max()\n",
    "max_cart = session_pivot['cart'].max()\n",
    "\n",
    "print(\"purchase 열의 최대값:\", max_purchase)\n",
    "print(\"department 열의 최대값\", max_department)\n",
    "print(\"max_product 열의 최대값\", max_product)\n",
    "print(\"max_cart 열의 최대값\", max_cart)"
   ]
  },
  {
   "cell_type": "code",
   "execution_count": null,
   "metadata": {},
   "outputs": [],
   "source": [
    "cart_session = list(session_pivot.query('cart > 0')['session_id'])\n",
    "purchased_session = list(session_pivot.query('purchase > 0')['session_id'])"
   ]
  },
  {
   "cell_type": "code",
   "execution_count": null,
   "metadata": {},
   "outputs": [
    {
     "name": "stdout",
     "output_type": "stream",
     "text": [
      "조회만 한 유저의 평균 체류시간 : 0 days 00:07:15.212859599\n",
      "카트에 담은 유저의 평균 체류시간 : 0 days 10:00:16.610015606\n",
      "구매까지 한 유저의 평균 체류시간 : 1 days 00:54:43.280229108\n"
     ]
    }
   ],
   "source": [
    "view_session_avg_duration = duration.query('session_id not in @cart_session and session_id not in @purchased_session')['duration'].mean()\n",
    "cart_session_avg_duration = duration.query('session_id in @cart_session')['duration'].mean()\n",
    "purchased_session_avg_duration = duration.query('session_id in @purchased_session')['duration'].mean()\n",
    "\n",
    "print(f\"조회만 한 유저의 평균 체류시간 : {view_session_avg_duration}\")\n",
    "print(f\"카트에 담은 유저의 평균 체류시간 : {cart_session_avg_duration}\")\n",
    "print(f\"구매까지 한 유저의 평균 체류시간 : {purchased_session_avg_duration}\")"
   ]
  },
  {
   "cell_type": "markdown",
   "metadata": {},
   "source": [
    "### duration 이 높을수록 구매할 확률이 높아지는가?"
   ]
  },
  {
   "cell_type": "code",
   "execution_count": null,
   "metadata": {},
   "outputs": [
    {
     "data": {
      "image/png": "[encoded data removed]",
      "text/plain": [
       "<Figure size 640x480 with 1 Axes>"
      ]
     },
     "metadata": {},
     "output_type": "display_data"
    }
   ],
   "source": [
    "# 시간 간격을 초로 변환\n",
    "duration['duration_seconds'] = duration['duration'].dt.total_seconds()\n",
    "\n",
    "plt.hist(duration['duration_seconds'], bins=30, edgecolor='black')\n",
    "plt.xlabel('Duration')\n",
    "plt.ylabel('Frequency')\n",
    "plt.title('Distribution of Durations')\n",
    "plt.xticks(rotation=45)\n",
    "plt.show()"
   ]
  },
  {
   "cell_type": "code",
   "execution_count": null,
   "metadata": {},
   "outputs": [
    {
     "data": {
      "text/html": [
       "<div>\n",
       "<style scoped>\n",
       "    .dataframe tbody tr th:only-of-type {\n",
       "        vertical-align: middle;\n",
       "    }\n",
       "\n",
       "    .dataframe tbody tr th {\n",
       "        vertical-align: top;\n",
       "    }\n",
       "\n",
       "    .dataframe thead th {\n",
       "        text-align: right;\n",
       "    }\n",
       "</style>\n",
       "<table border=\"1\" class=\"dataframe\">\n",
       "  <thead>\n",
       "    <tr style=\"text-align: right;\">\n",
       "      <th></th>\n",
       "      <th>session_id</th>\n",
       "      <th>max</th>\n",
       "      <th>min</th>\n",
       "      <th>duration</th>\n",
       "      <th>max_sequence_number</th>\n",
       "      <th>duration_category</th>\n",
       "      <th>duration_seconds</th>\n",
       "    </tr>\n",
       "  </thead>\n",
       "  <tbody>\n",
       "    <tr>\n",
       "      <th>0</th>\n",
       "      <td>00000763-a855-4ad0-a95c-b160e749b272</td>\n",
       "      <td>2021-10-01 03:52:00+00:00</td>\n",
       "      <td>2021-10-01 03:26:00+00:00</td>\n",
       "      <td>0 days 00:26:00</td>\n",
       "      <td>3</td>\n",
       "      <td>Medium</td>\n",
       "      <td>1560.0</td>\n",
       "    </tr>\n",
       "    <tr>\n",
       "      <th>1</th>\n",
       "      <td>0000364a-ce41-46f1-89d6-3f8704af77db</td>\n",
       "      <td>2022-08-22 10:52:42+00:00</td>\n",
       "      <td>2022-08-22 10:46:40+00:00</td>\n",
       "      <td>0 days 00:06:02</td>\n",
       "      <td>5</td>\n",
       "      <td>Short</td>\n",
       "      <td>362.0</td>\n",
       "    </tr>\n",
       "    <tr>\n",
       "      <th>2</th>\n",
       "      <td>00004b15-f2d4-4687-b4c1-fc9ce336d39a</td>\n",
       "      <td>2022-06-11 01:54:00+00:00</td>\n",
       "      <td>2022-06-11 01:28:00+00:00</td>\n",
       "      <td>0 days 00:26:00</td>\n",
       "      <td>3</td>\n",
       "      <td>Medium</td>\n",
       "      <td>1560.0</td>\n",
       "    </tr>\n",
       "    <tr>\n",
       "      <th>3</th>\n",
       "      <td>00004cf0-0d54-4347-8b0c-dccc700a2c96</td>\n",
       "      <td>2021-12-28 03:32:00+00:00</td>\n",
       "      <td>2021-12-28 03:11:00+00:00</td>\n",
       "      <td>0 days 00:21:00</td>\n",
       "      <td>3</td>\n",
       "      <td>Medium</td>\n",
       "      <td>1260.0</td>\n",
       "    </tr>\n",
       "    <tr>\n",
       "      <th>4</th>\n",
       "      <td>00005f74-03cb-40ed-b254-364c38c79104</td>\n",
       "      <td>2019-08-02 14:49:00+00:00</td>\n",
       "      <td>2019-08-02 14:40:00+00:00</td>\n",
       "      <td>0 days 00:09:00</td>\n",
       "      <td>2</td>\n",
       "      <td>Short</td>\n",
       "      <td>540.0</td>\n",
       "    </tr>\n",
       "    <tr>\n",
       "      <th>...</th>\n",
       "      <td>...</td>\n",
       "      <td>...</td>\n",
       "      <td>...</td>\n",
       "      <td>...</td>\n",
       "      <td>...</td>\n",
       "      <td>...</td>\n",
       "      <td>...</td>\n",
       "    </tr>\n",
       "    <tr>\n",
       "      <th>643587</th>\n",
       "      <td>ffff532c-4e82-41fd-8c7d-ddefa871b5eb</td>\n",
       "      <td>2023-08-07 05:38:00+00:00</td>\n",
       "      <td>2023-08-07 05:25:00+00:00</td>\n",
       "      <td>0 days 00:13:00</td>\n",
       "      <td>2</td>\n",
       "      <td>Short</td>\n",
       "      <td>780.0</td>\n",
       "    </tr>\n",
       "    <tr>\n",
       "      <th>643588</th>\n",
       "      <td>ffff7645-26f7-410f-8498-0c601d74c67a</td>\n",
       "      <td>2019-11-05 15:39:00+00:00</td>\n",
       "      <td>2019-11-05 15:00:00+00:00</td>\n",
       "      <td>0 days 00:39:00</td>\n",
       "      <td>3</td>\n",
       "      <td>Medium</td>\n",
       "      <td>2340.0</td>\n",
       "    </tr>\n",
       "    <tr>\n",
       "      <th>643589</th>\n",
       "      <td>ffff8086-da2c-4045-94ba-453437cd3289</td>\n",
       "      <td>2020-03-20 06:06:00+00:00</td>\n",
       "      <td>2020-03-20 06:06:00+00:00</td>\n",
       "      <td>0 days 00:00:00</td>\n",
       "      <td>1</td>\n",
       "      <td>Short</td>\n",
       "      <td>0.0</td>\n",
       "    </tr>\n",
       "    <tr>\n",
       "      <th>643590</th>\n",
       "      <td>ffffa9aa-4345-4c2a-b389-8fd58844472e</td>\n",
       "      <td>2021-07-26 15:49:00+00:00</td>\n",
       "      <td>2021-07-26 15:45:00+00:00</td>\n",
       "      <td>0 days 00:04:00</td>\n",
       "      <td>2</td>\n",
       "      <td>Short</td>\n",
       "      <td>240.0</td>\n",
       "    </tr>\n",
       "    <tr>\n",
       "      <th>643591</th>\n",
       "      <td>ffffc3b7-9bc3-44d0-935e-cfaf11c91a0e</td>\n",
       "      <td>2019-07-10 07:21:00+00:00</td>\n",
       "      <td>2019-07-10 07:02:00+00:00</td>\n",
       "      <td>0 days 00:19:00</td>\n",
       "      <td>3</td>\n",
       "      <td>Medium</td>\n",
       "      <td>1140.0</td>\n",
       "    </tr>\n",
       "  </tbody>\n",
       "</table>\n",
       "<p>579056 rows × 7 columns</p>\n",
       "</div>"
      ],
      "text/plain": [
       "                                  session_id                       max  \\\n",
       "0       00000763-a855-4ad0-a95c-b160e749b272 2021-10-01 03:52:00+00:00   \n",
       "1       0000364a-ce41-46f1-89d6-3f8704af77db 2022-08-22 10:52:42+00:00   \n",
       "2       00004b15-f2d4-4687-b4c1-fc9ce336d39a 2022-06-11 01:54:00+00:00   \n",
       "3       00004cf0-0d54-4347-8b0c-dccc700a2c96 2021-12-28 03:32:00+00:00   \n",
       "4       00005f74-03cb-40ed-b254-364c38c79104 2019-08-02 14:49:00+00:00   \n",
       "...                                      ...                       ...   \n",
       "643587  ffff532c-4e82-41fd-8c7d-ddefa871b5eb 2023-08-07 05:38:00+00:00   \n",
       "643588  ffff7645-26f7-410f-8498-0c601d74c67a 2019-11-05 15:39:00+00:00   \n",
       "643589  ffff8086-da2c-4045-94ba-453437cd3289 2020-03-20 06:06:00+00:00   \n",
       "643590  ffffa9aa-4345-4c2a-b389-8fd58844472e 2021-07-26 15:49:00+00:00   \n",
       "643591  ffffc3b7-9bc3-44d0-935e-cfaf11c91a0e 2019-07-10 07:21:00+00:00   \n",
       "\n",
       "                             min        duration  max_sequence_number  \\\n",
       "0      2021-10-01 03:26:00+00:00 0 days 00:26:00                    3   \n",
       "1      2022-08-22 10:46:40+00:00 0 days 00:06:02                    5   \n",
       "2      2022-06-11 01:28:00+00:00 0 days 00:26:00                    3   \n",
       "3      2021-12-28 03:11:00+00:00 0 days 00:21:00                    3   \n",
       "4      2019-08-02 14:40:00+00:00 0 days 00:09:00                    2   \n",
       "...                          ...             ...                  ...   \n",
       "643587 2023-08-07 05:25:00+00:00 0 days 00:13:00                    2   \n",
       "643588 2019-11-05 15:00:00+00:00 0 days 00:39:00                    3   \n",
       "643589 2020-03-20 06:06:00+00:00 0 days 00:00:00                    1   \n",
       "643590 2021-07-26 15:45:00+00:00 0 days 00:04:00                    2   \n",
       "643591 2019-07-10 07:02:00+00:00 0 days 00:19:00                    3   \n",
       "\n",
       "       duration_category  duration_seconds  \n",
       "0                 Medium            1560.0  \n",
       "1                  Short             362.0  \n",
       "2                 Medium            1560.0  \n",
       "3                 Medium            1260.0  \n",
       "4                  Short             540.0  \n",
       "...                  ...               ...  \n",
       "643587             Short             780.0  \n",
       "643588            Medium            2340.0  \n",
       "643589             Short               0.0  \n",
       "643590             Short             240.0  \n",
       "643591            Medium            1140.0  \n",
       "\n",
       "[579056 rows x 7 columns]"
      ]
     },
     "execution_count": 215,
     "metadata": {},
     "output_type": "execute_result"
    }
   ],
   "source": [
    "duration_row = duration[duration['duration_seconds']<50000] # 13시간 \n",
    "# duration_row = duration[(duration['duration_seconds']>50000) & (duration['duration_seconds']<100000)]\n",
    "duration_row"
   ]
  },
  {
   "cell_type": "code",
   "execution_count": null,
   "metadata": {},
   "outputs": [
    {
     "data": {
      "text/plain": [
       "3480.0"
      ]
     },
     "execution_count": 216,
     "metadata": {},
     "output_type": "execute_result"
    }
   ],
   "source": [
    "duration_row['duration_seconds'].max()"
   ]
  },
  {
   "cell_type": "code",
   "execution_count": null,
   "metadata": {},
   "outputs": [
    {
     "data": {
      "text/plain": [
       "(array([131017.,  18395.,  37686.,  42234.,  27573.,  18278.,  17337.,\n",
       "         18133.,  19205.,  19673.,  20764.,  21169.,  22176.,  23137.,\n",
       "         11788.,  19816.,  14877.,  13952.,  12719.,  11796.,  10597.,\n",
       "          9448.,   8486.,   7347.,   6400.,   5256.,   4039.,   2957.,\n",
       "          1978.,    823.]),\n",
       " array([   0.,  116.,  232.,  348.,  464.,  580.,  696.,  812.,  928.,\n",
       "        1044., 1160., 1276., 1392., 1508., 1624., 1740., 1856., 1972.,\n",
       "        2088., 2204., 2320., 2436., 2552., 2668., 2784., 2900., 3016.,\n",
       "        3132., 3248., 3364., 3480.]),\n",
       " <BarContainer object of 30 artists>)"
      ]
     },
     "execution_count": 200,
     "metadata": {},
     "output_type": "execute_result"
    },
    {
     "data": {
      "image/png": "[encoded data removed]",
      "text/plain": [
       "<Figure size 640x480 with 1 Axes>"
      ]
     },
     "metadata": {},
     "output_type": "display_data"
    }
   ],
   "source": [
    "plt.hist(duration_row['duration_seconds'], bins=30)"
   ]
  },
  {
   "cell_type": "code",
   "execution_count": null,
   "metadata": {},
   "outputs": [
    {
     "data": {
      "text/plain": [
       "780.0"
      ]
     },
     "execution_count": 205,
     "metadata": {},
     "output_type": "execute_result"
    }
   ],
   "source": [
    "a1= np.percentile(duration_row['duration_seconds'], 50)\n",
    "a1"
   ]
  },
  {
   "cell_type": "code",
   "execution_count": null,
   "metadata": {},
   "outputs": [
    {
     "data": {
      "text/html": [
       "<div>\n",
       "<style scoped>\n",
       "    .dataframe tbody tr th:only-of-type {\n",
       "        vertical-align: middle;\n",
       "    }\n",
       "\n",
       "    .dataframe tbody tr th {\n",
       "        vertical-align: top;\n",
       "    }\n",
       "\n",
       "    .dataframe thead th {\n",
       "        text-align: right;\n",
       "    }\n",
       "</style>\n",
       "<table border=\"1\" class=\"dataframe\">\n",
       "  <thead>\n",
       "    <tr style=\"text-align: right;\">\n",
       "      <th></th>\n",
       "      <th>session_id</th>\n",
       "      <th>max</th>\n",
       "      <th>min</th>\n",
       "      <th>duration</th>\n",
       "      <th>max_sequence_number</th>\n",
       "      <th>duration_category</th>\n",
       "      <th>duration_seconds</th>\n",
       "    </tr>\n",
       "  </thead>\n",
       "  <tbody>\n",
       "    <tr>\n",
       "      <th>0</th>\n",
       "      <td>00000763-a855-4ad0-a95c-b160e749b272</td>\n",
       "      <td>2021-10-01 03:52:00+00:00</td>\n",
       "      <td>2021-10-01 03:26:00+00:00</td>\n",
       "      <td>0 days 00:26:00</td>\n",
       "      <td>3</td>\n",
       "      <td>Medium</td>\n",
       "      <td>1560.0</td>\n",
       "    </tr>\n",
       "    <tr>\n",
       "      <th>1</th>\n",
       "      <td>0000364a-ce41-46f1-89d6-3f8704af77db</td>\n",
       "      <td>2022-08-22 10:52:42+00:00</td>\n",
       "      <td>2022-08-22 10:46:40+00:00</td>\n",
       "      <td>0 days 00:06:02</td>\n",
       "      <td>5</td>\n",
       "      <td>Short</td>\n",
       "      <td>362.0</td>\n",
       "    </tr>\n",
       "    <tr>\n",
       "      <th>2</th>\n",
       "      <td>00004b15-f2d4-4687-b4c1-fc9ce336d39a</td>\n",
       "      <td>2022-06-11 01:54:00+00:00</td>\n",
       "      <td>2022-06-11 01:28:00+00:00</td>\n",
       "      <td>0 days 00:26:00</td>\n",
       "      <td>3</td>\n",
       "      <td>Medium</td>\n",
       "      <td>1560.0</td>\n",
       "    </tr>\n",
       "    <tr>\n",
       "      <th>3</th>\n",
       "      <td>00004cf0-0d54-4347-8b0c-dccc700a2c96</td>\n",
       "      <td>2021-12-28 03:32:00+00:00</td>\n",
       "      <td>2021-12-28 03:11:00+00:00</td>\n",
       "      <td>0 days 00:21:00</td>\n",
       "      <td>3</td>\n",
       "      <td>Medium</td>\n",
       "      <td>1260.0</td>\n",
       "    </tr>\n",
       "    <tr>\n",
       "      <th>4</th>\n",
       "      <td>00005f74-03cb-40ed-b254-364c38c79104</td>\n",
       "      <td>2019-08-02 14:49:00+00:00</td>\n",
       "      <td>2019-08-02 14:40:00+00:00</td>\n",
       "      <td>0 days 00:09:00</td>\n",
       "      <td>2</td>\n",
       "      <td>Short</td>\n",
       "      <td>540.0</td>\n",
       "    </tr>\n",
       "    <tr>\n",
       "      <th>...</th>\n",
       "      <td>...</td>\n",
       "      <td>...</td>\n",
       "      <td>...</td>\n",
       "      <td>...</td>\n",
       "      <td>...</td>\n",
       "      <td>...</td>\n",
       "      <td>...</td>\n",
       "    </tr>\n",
       "    <tr>\n",
       "      <th>643588</th>\n",
       "      <td>ffff7645-26f7-410f-8498-0c601d74c67a</td>\n",
       "      <td>2019-11-05 15:39:00+00:00</td>\n",
       "      <td>2019-11-05 15:00:00+00:00</td>\n",
       "      <td>0 days 00:39:00</td>\n",
       "      <td>3</td>\n",
       "      <td>Medium</td>\n",
       "      <td>2340.0</td>\n",
       "    </tr>\n",
       "    <tr>\n",
       "      <th>643589</th>\n",
       "      <td>ffff8086-da2c-4045-94ba-453437cd3289</td>\n",
       "      <td>2020-03-20 06:06:00+00:00</td>\n",
       "      <td>2020-03-20 06:06:00+00:00</td>\n",
       "      <td>0 days 00:00:00</td>\n",
       "      <td>1</td>\n",
       "      <td>Short</td>\n",
       "      <td>0.0</td>\n",
       "    </tr>\n",
       "    <tr>\n",
       "      <th>643590</th>\n",
       "      <td>ffffa9aa-4345-4c2a-b389-8fd58844472e</td>\n",
       "      <td>2021-07-26 15:49:00+00:00</td>\n",
       "      <td>2021-07-26 15:45:00+00:00</td>\n",
       "      <td>0 days 00:04:00</td>\n",
       "      <td>2</td>\n",
       "      <td>Short</td>\n",
       "      <td>240.0</td>\n",
       "    </tr>\n",
       "    <tr>\n",
       "      <th>643591</th>\n",
       "      <td>ffffc3b7-9bc3-44d0-935e-cfaf11c91a0e</td>\n",
       "      <td>2019-07-10 07:21:00+00:00</td>\n",
       "      <td>2019-07-10 07:02:00+00:00</td>\n",
       "      <td>0 days 00:19:00</td>\n",
       "      <td>3</td>\n",
       "      <td>Medium</td>\n",
       "      <td>1140.0</td>\n",
       "    </tr>\n",
       "    <tr>\n",
       "      <th>643592</th>\n",
       "      <td>ffffc96a-b665-41a1-8a9a-1101c46e6620</td>\n",
       "      <td>2022-08-27 00:47:16+00:00</td>\n",
       "      <td>2022-08-25 00:34:05+00:00</td>\n",
       "      <td>2 days 00:13:11</td>\n",
       "      <td>13</td>\n",
       "      <td>Long</td>\n",
       "      <td>173591.0</td>\n",
       "    </tr>\n",
       "  </tbody>\n",
       "</table>\n",
       "<p>643593 rows × 7 columns</p>\n",
       "</div>"
      ],
      "text/plain": [
       "                                  session_id                       max  \\\n",
       "0       00000763-a855-4ad0-a95c-b160e749b272 2021-10-01 03:52:00+00:00   \n",
       "1       0000364a-ce41-46f1-89d6-3f8704af77db 2022-08-22 10:52:42+00:00   \n",
       "2       00004b15-f2d4-4687-b4c1-fc9ce336d39a 2022-06-11 01:54:00+00:00   \n",
       "3       00004cf0-0d54-4347-8b0c-dccc700a2c96 2021-12-28 03:32:00+00:00   \n",
       "4       00005f74-03cb-40ed-b254-364c38c79104 2019-08-02 14:49:00+00:00   \n",
       "...                                      ...                       ...   \n",
       "643588  ffff7645-26f7-410f-8498-0c601d74c67a 2019-11-05 15:39:00+00:00   \n",
       "643589  ffff8086-da2c-4045-94ba-453437cd3289 2020-03-20 06:06:00+00:00   \n",
       "643590  ffffa9aa-4345-4c2a-b389-8fd58844472e 2021-07-26 15:49:00+00:00   \n",
       "643591  ffffc3b7-9bc3-44d0-935e-cfaf11c91a0e 2019-07-10 07:21:00+00:00   \n",
       "643592  ffffc96a-b665-41a1-8a9a-1101c46e6620 2022-08-27 00:47:16+00:00   \n",
       "\n",
       "                             min        duration  max_sequence_number  \\\n",
       "0      2021-10-01 03:26:00+00:00 0 days 00:26:00                    3   \n",
       "1      2022-08-22 10:46:40+00:00 0 days 00:06:02                    5   \n",
       "2      2022-06-11 01:28:00+00:00 0 days 00:26:00                    3   \n",
       "3      2021-12-28 03:11:00+00:00 0 days 00:21:00                    3   \n",
       "4      2019-08-02 14:40:00+00:00 0 days 00:09:00                    2   \n",
       "...                          ...             ...                  ...   \n",
       "643588 2019-11-05 15:00:00+00:00 0 days 00:39:00                    3   \n",
       "643589 2020-03-20 06:06:00+00:00 0 days 00:00:00                    1   \n",
       "643590 2021-07-26 15:45:00+00:00 0 days 00:04:00                    2   \n",
       "643591 2019-07-10 07:02:00+00:00 0 days 00:19:00                    3   \n",
       "643592 2022-08-25 00:34:05+00:00 2 days 00:13:11                   13   \n",
       "\n",
       "       duration_category  duration_seconds  \n",
       "0                 Medium            1560.0  \n",
       "1                  Short             362.0  \n",
       "2                 Medium            1560.0  \n",
       "3                 Medium            1260.0  \n",
       "4                  Short             540.0  \n",
       "...                  ...               ...  \n",
       "643588            Medium            2340.0  \n",
       "643589             Short               0.0  \n",
       "643590             Short             240.0  \n",
       "643591            Medium            1140.0  \n",
       "643592              Long          173591.0  \n",
       "\n",
       "[643593 rows x 7 columns]"
      ]
     },
     "execution_count": 207,
     "metadata": {},
     "output_type": "execute_result"
    }
   ],
   "source": [
    "def categorize_duration(duration_seconds):\n",
    "    if duration_seconds <= 780:  ## 13분\n",
    "        return 'Short'\n",
    "    elif duration_seconds <= 3480:  ## 58분\n",
    "        return 'Medium'\n",
    "    else:\n",
    "        return 'Long'\n",
    "\n",
    "# duration을 범주화하여 새로운 컬럼 추가\n",
    "duration['duration_category'] = duration['duration_seconds'].apply(categorize_duration)\n",
    "\n",
    "duration"
   ]
  },
  {
   "cell_type": "code",
   "execution_count": null,
   "metadata": {},
   "outputs": [
    {
     "data": {
      "text/plain": [
       "duration_category\n",
       "Short     292079\n",
       "Medium    286977\n",
       "Long       64537\n",
       "Name: count, dtype: int64"
      ]
     },
     "execution_count": 208,
     "metadata": {},
     "output_type": "execute_result"
    }
   ],
   "source": [
    "duration['duration_category'].value_counts()"
   ]
  },
  {
   "cell_type": "code",
   "execution_count": null,
   "metadata": {},
   "outputs": [
    {
     "name": "stdout",
     "output_type": "stream",
     "text": [
      "duration_category\n",
      "Long      1.000000\n",
      "Medium    0.021671\n",
      "Short     0.292137\n",
      "Name: purchase, dtype: float64\n"
     ]
    },
    {
     "name": "stderr",
     "output_type": "stream",
     "text": [
      "/var/folders/qv/tqmmyp0s5dj996k_tcvqmtqm0000gn/T/ipykernel_3187/2894684365.py:10: FutureWarning:\n",
      "\n",
      "A value is trying to be set on a copy of a DataFrame or Series through chained assignment using an inplace method.\n",
      "The behavior will change in pandas 3.0. This inplace method will never work because the intermediate object on which we are setting values always behaves as a copy.\n",
      "\n",
      "For example, when doing 'df[col].method(value, inplace=True)', try using 'df.method({col: value}, inplace=True)' or df[col] = df[col].method(value) instead, to perform the operation inplace on the original object.\n",
      "\n",
      "\n",
      "\n"
     ]
    }
   ],
   "source": [
    "# session_id를 기준으로 각 session의 최대 sequence_number를 찾습니다.\n",
    "max_sequence_number = duration.groupby('session_id')['max_sequence_number'].max()\n",
    "\n",
    "# 구매한 session의 session_id와 해당 session의 구매 여부를 찾습니다.\n",
    "purchase_session_ids = events[events['event_type'] == 'purchase']['session_id'].unique()\n",
    "session_purchase = pd.DataFrame({'session_id': purchase_session_ids, 'purchase': 1})\n",
    "\n",
    "# duration과 구매 여부를 merge합니다.\n",
    "merged_data = duration.merge(max_sequence_number, on='session_id').merge(session_purchase, on='session_id', how='left')\n",
    "merged_data['purchase'].fillna(0, inplace=True)\n",
    "\n",
    "# duration_category별로 구매 확률을 계산합니다.\n",
    "purchase_probability_by_duration = merged_data.groupby('duration_category')['purchase'].mean()\n",
    "print(purchase_probability_by_duration)"
   ]
  },
  {
   "cell_type": "markdown",
   "metadata": {},
   "source": [
    "1. 구매여정이 짧은 집단 (<=13min)\n",
    "- 사이트를 빠르게 탐색하거나 특정 상품을 찾아보는 세션이었을 것임\n",
    "- 사용자가 사이트에 더 오래 머무를 수 있도록 유도해야함\n",
    "    - 시각적 요소 강화\n",
    "    - 개인화된 추천(사용자의 관심사나 이전 구매 이력을 바탕으로 관심을 가질만한 상품 노출시키기)\n",
    "    - 할인 및 프로모션 제공 (오늘 밤 12시까지 구매시 00% 할인 과 같은 문구)\n",
    "    - 고객이 빠르게 구매 결정을 내릴 수 있도록 유도 전략 (실시간 채팅 지원, FAQ 확장)\n",
    "\n",
    "2. 구매여정이 보통인 집단 (14min~58min)\n",
    "- 이것 저것 카테고리를 탐색하고 어쩌면 장바구니까지 담겼을지도 모르나, 우리 상품과 연관된 다른 플랫폼과의 가격 비교, 리뷰 등을 비교하다가 다른 플랫폼으로 구매를 빼앗긴 집단(구매전환율이 2%)\n",
    "- 우리 플랫폼에서 구매해야하는 이유를 만들어 줄 필요가 있어보임\n",
    "    - 자세한 상품정보 제공 (제품설명, 사양, 리뷰 등)\n",
    "    - 사용자 경험 개선 (사용자가 원하는 정보를 빠르게 찾을 수 있도록함. 검색, 필터링 옵션, 관련 상품 추천 등)\n",
    "    - 할인 및 프로모션\n",
    "    - 장바구니 유도\n",
    "\n",
    "3. 구매여정이 긴 집단 (1일 41분 이상)\n",
    "- 구매여정이 긴 집단의 session_id의 min<->max 값이 하루 이상인걸 보았을때, 해당 고객들은 우리 이커머스 뿐만 아니라 다른 정보까지 탐색하다 고민끝에 우리 커머스로 구매를 결정한 집단\n",
    "- 코로나19 팬데믹 이후 소비자들의 온라인 쇼핑 행동이 더 복잡해지고 길어졌으며 구매 여정이 길어짐에 따라 구매전환율이 높아진 것이라 볼 수 있음\n",
    "- 고객 충성도가 높음 (우리 회사에 대한 신뢰도와 만족도가 높아 구매 결정을 내렸을 수도 있음)\n",
    "- 혹은 구매하려던 아이템의 단가가 고가의 제품인 경우에도 신중하게 구매하려는 마음 반영\n",
    "\n",
    "> 리타게팅 및 리마케팅 전략\n",
    "- medium / long 집단 대상\n",
    "- 방문자가 사이트를 떠난 후에도 특정 제품과 서비스에 대한 광고를 볼 수 있도록 함\n",
    "- 고객이 관심을 보였더 제품이나 카테고리에 대한 맞춤형 푸시/이메일을 보내 구매 유도"
   ]
  },
  {
   "cell_type": "markdown",
   "metadata": {},
   "source": [
    "### sequence number 가 높을 수록 구매할 확률이 높은가?"
   ]
  },
  {
   "cell_type": "code",
   "execution_count": null,
   "metadata": {},
   "outputs": [
    {
     "data": {
      "text/html": [
       "<div>\n",
       "<style scoped>\n",
       "    .dataframe tbody tr th:only-of-type {\n",
       "        vertical-align: middle;\n",
       "    }\n",
       "\n",
       "    .dataframe tbody tr th {\n",
       "        vertical-align: top;\n",
       "    }\n",
       "\n",
       "    .dataframe thead th {\n",
       "        text-align: right;\n",
       "    }\n",
       "</style>\n",
       "<table border=\"1\" class=\"dataframe\">\n",
       "  <thead>\n",
       "    <tr style=\"text-align: right;\">\n",
       "      <th></th>\n",
       "      <th>session_id</th>\n",
       "      <th>max</th>\n",
       "      <th>min</th>\n",
       "      <th>duration</th>\n",
       "      <th>max_sequence_number</th>\n",
       "      <th>duration_category</th>\n",
       "      <th>duration_seconds</th>\n",
       "    </tr>\n",
       "  </thead>\n",
       "  <tbody>\n",
       "    <tr>\n",
       "      <th>0</th>\n",
       "      <td>00000763-a855-4ad0-a95c-b160e749b272</td>\n",
       "      <td>2021-10-01 03:52:00+00:00</td>\n",
       "      <td>2021-10-01 03:26:00+00:00</td>\n",
       "      <td>0 days 00:26:00</td>\n",
       "      <td>3</td>\n",
       "      <td>Medium</td>\n",
       "      <td>1560.0</td>\n",
       "    </tr>\n",
       "    <tr>\n",
       "      <th>1</th>\n",
       "      <td>0000364a-ce41-46f1-89d6-3f8704af77db</td>\n",
       "      <td>2022-08-22 10:52:42+00:00</td>\n",
       "      <td>2022-08-22 10:46:40+00:00</td>\n",
       "      <td>0 days 00:06:02</td>\n",
       "      <td>5</td>\n",
       "      <td>Short</td>\n",
       "      <td>362.0</td>\n",
       "    </tr>\n",
       "    <tr>\n",
       "      <th>2</th>\n",
       "      <td>00004b15-f2d4-4687-b4c1-fc9ce336d39a</td>\n",
       "      <td>2022-06-11 01:54:00+00:00</td>\n",
       "      <td>2022-06-11 01:28:00+00:00</td>\n",
       "      <td>0 days 00:26:00</td>\n",
       "      <td>3</td>\n",
       "      <td>Medium</td>\n",
       "      <td>1560.0</td>\n",
       "    </tr>\n",
       "    <tr>\n",
       "      <th>3</th>\n",
       "      <td>00004cf0-0d54-4347-8b0c-dccc700a2c96</td>\n",
       "      <td>2021-12-28 03:32:00+00:00</td>\n",
       "      <td>2021-12-28 03:11:00+00:00</td>\n",
       "      <td>0 days 00:21:00</td>\n",
       "      <td>3</td>\n",
       "      <td>Medium</td>\n",
       "      <td>1260.0</td>\n",
       "    </tr>\n",
       "    <tr>\n",
       "      <th>4</th>\n",
       "      <td>00005f74-03cb-40ed-b254-364c38c79104</td>\n",
       "      <td>2019-08-02 14:49:00+00:00</td>\n",
       "      <td>2019-08-02 14:40:00+00:00</td>\n",
       "      <td>0 days 00:09:00</td>\n",
       "      <td>2</td>\n",
       "      <td>Short</td>\n",
       "      <td>540.0</td>\n",
       "    </tr>\n",
       "    <tr>\n",
       "      <th>...</th>\n",
       "      <td>...</td>\n",
       "      <td>...</td>\n",
       "      <td>...</td>\n",
       "      <td>...</td>\n",
       "      <td>...</td>\n",
       "      <td>...</td>\n",
       "      <td>...</td>\n",
       "    </tr>\n",
       "    <tr>\n",
       "      <th>643588</th>\n",
       "      <td>ffff7645-26f7-410f-8498-0c601d74c67a</td>\n",
       "      <td>2019-11-05 15:39:00+00:00</td>\n",
       "      <td>2019-11-05 15:00:00+00:00</td>\n",
       "      <td>0 days 00:39:00</td>\n",
       "      <td>3</td>\n",
       "      <td>Medium</td>\n",
       "      <td>2340.0</td>\n",
       "    </tr>\n",
       "    <tr>\n",
       "      <th>643589</th>\n",
       "      <td>ffff8086-da2c-4045-94ba-453437cd3289</td>\n",
       "      <td>2020-03-20 06:06:00+00:00</td>\n",
       "      <td>2020-03-20 06:06:00+00:00</td>\n",
       "      <td>0 days 00:00:00</td>\n",
       "      <td>1</td>\n",
       "      <td>Short</td>\n",
       "      <td>0.0</td>\n",
       "    </tr>\n",
       "    <tr>\n",
       "      <th>643590</th>\n",
       "      <td>ffffa9aa-4345-4c2a-b389-8fd58844472e</td>\n",
       "      <td>2021-07-26 15:49:00+00:00</td>\n",
       "      <td>2021-07-26 15:45:00+00:00</td>\n",
       "      <td>0 days 00:04:00</td>\n",
       "      <td>2</td>\n",
       "      <td>Short</td>\n",
       "      <td>240.0</td>\n",
       "    </tr>\n",
       "    <tr>\n",
       "      <th>643591</th>\n",
       "      <td>ffffc3b7-9bc3-44d0-935e-cfaf11c91a0e</td>\n",
       "      <td>2019-07-10 07:21:00+00:00</td>\n",
       "      <td>2019-07-10 07:02:00+00:00</td>\n",
       "      <td>0 days 00:19:00</td>\n",
       "      <td>3</td>\n",
       "      <td>Medium</td>\n",
       "      <td>1140.0</td>\n",
       "    </tr>\n",
       "    <tr>\n",
       "      <th>643592</th>\n",
       "      <td>ffffc96a-b665-41a1-8a9a-1101c46e6620</td>\n",
       "      <td>2022-08-27 00:47:16+00:00</td>\n",
       "      <td>2022-08-25 00:34:05+00:00</td>\n",
       "      <td>2 days 00:13:11</td>\n",
       "      <td>13</td>\n",
       "      <td>Long</td>\n",
       "      <td>173591.0</td>\n",
       "    </tr>\n",
       "  </tbody>\n",
       "</table>\n",
       "<p>643593 rows × 7 columns</p>\n",
       "</div>"
      ],
      "text/plain": [
       "                                  session_id                       max  \\\n",
       "0       00000763-a855-4ad0-a95c-b160e749b272 2021-10-01 03:52:00+00:00   \n",
       "1       0000364a-ce41-46f1-89d6-3f8704af77db 2022-08-22 10:52:42+00:00   \n",
       "2       00004b15-f2d4-4687-b4c1-fc9ce336d39a 2022-06-11 01:54:00+00:00   \n",
       "3       00004cf0-0d54-4347-8b0c-dccc700a2c96 2021-12-28 03:32:00+00:00   \n",
       "4       00005f74-03cb-40ed-b254-364c38c79104 2019-08-02 14:49:00+00:00   \n",
       "...                                      ...                       ...   \n",
       "643588  ffff7645-26f7-410f-8498-0c601d74c67a 2019-11-05 15:39:00+00:00   \n",
       "643589  ffff8086-da2c-4045-94ba-453437cd3289 2020-03-20 06:06:00+00:00   \n",
       "643590  ffffa9aa-4345-4c2a-b389-8fd58844472e 2021-07-26 15:49:00+00:00   \n",
       "643591  ffffc3b7-9bc3-44d0-935e-cfaf11c91a0e 2019-07-10 07:21:00+00:00   \n",
       "643592  ffffc96a-b665-41a1-8a9a-1101c46e6620 2022-08-27 00:47:16+00:00   \n",
       "\n",
       "                             min        duration  max_sequence_number  \\\n",
       "0      2021-10-01 03:26:00+00:00 0 days 00:26:00                    3   \n",
       "1      2022-08-22 10:46:40+00:00 0 days 00:06:02                    5   \n",
       "2      2022-06-11 01:28:00+00:00 0 days 00:26:00                    3   \n",
       "3      2021-12-28 03:11:00+00:00 0 days 00:21:00                    3   \n",
       "4      2019-08-02 14:40:00+00:00 0 days 00:09:00                    2   \n",
       "...                          ...             ...                  ...   \n",
       "643588 2019-11-05 15:00:00+00:00 0 days 00:39:00                    3   \n",
       "643589 2020-03-20 06:06:00+00:00 0 days 00:00:00                    1   \n",
       "643590 2021-07-26 15:45:00+00:00 0 days 00:04:00                    2   \n",
       "643591 2019-07-10 07:02:00+00:00 0 days 00:19:00                    3   \n",
       "643592 2022-08-25 00:34:05+00:00 2 days 00:13:11                   13   \n",
       "\n",
       "       duration_category  duration_seconds  \n",
       "0                 Medium            1560.0  \n",
       "1                  Short             362.0  \n",
       "2                 Medium            1560.0  \n",
       "3                 Medium            1260.0  \n",
       "4                  Short             540.0  \n",
       "...                  ...               ...  \n",
       "643588            Medium            2340.0  \n",
       "643589             Short               0.0  \n",
       "643590             Short             240.0  \n",
       "643591            Medium            1140.0  \n",
       "643592              Long          173591.0  \n",
       "\n",
       "[643593 rows x 7 columns]"
      ]
     },
     "execution_count": 217,
     "metadata": {},
     "output_type": "execute_result"
    }
   ],
   "source": [
    "duration"
   ]
  },
  {
   "cell_type": "code",
   "execution_count": null,
   "metadata": {},
   "outputs": [
    {
     "data": {
      "text/plain": [
       "(array([1.21506e+05, 1.21612e+05, 0.00000e+00, 2.44021e+05, 0.00000e+00,\n",
       "        0.00000e+00, 7.54410e+04, 0.00000e+00, 1.85000e+02, 0.00000e+00,\n",
       "        4.27090e+04, 0.00000e+00, 0.00000e+00, 7.70000e+01, 0.00000e+00,\n",
       "        1.61450e+04, 0.00000e+00, 0.00000e+00, 1.08000e+02, 2.17890e+04]),\n",
       " array([ 1. ,  1.6,  2.2,  2.8,  3.4,  4. ,  4.6,  5.2,  5.8,  6.4,  7. ,\n",
       "         7.6,  8.2,  8.8,  9.4, 10. , 10.6, 11.2, 11.8, 12.4, 13. ]),\n",
       " <BarContainer object of 20 artists>)"
      ]
     },
     "execution_count": 220,
     "metadata": {},
     "output_type": "execute_result"
    },
    {
     "data": {
      "image/png": "[encoded data removed]",
      "text/plain": [
       "<Figure size 640x480 with 1 Axes>"
      ]
     },
     "metadata": {},
     "output_type": "display_data"
    }
   ],
   "source": [
    "plt.hist(duration['max_sequence_number'],bins=20)"
   ]
  },
  {
   "cell_type": "code",
   "execution_count": null,
   "metadata": {},
   "outputs": [
    {
     "data": {
      "text/plain": [
       "(3.0, 7.0)"
      ]
     },
     "execution_count": 233,
     "metadata": {},
     "output_type": "execute_result"
    }
   ],
   "source": [
    "b1, b2= np.percentile(duration['max_sequence_number'], [50,90])\n",
    "b1, b2"
   ]
  },
  {
   "cell_type": "code",
   "execution_count": null,
   "metadata": {},
   "outputs": [
    {
     "data": {
      "text/html": [
       "<div>\n",
       "<style scoped>\n",
       "    .dataframe tbody tr th:only-of-type {\n",
       "        vertical-align: middle;\n",
       "    }\n",
       "\n",
       "    .dataframe tbody tr th {\n",
       "        vertical-align: top;\n",
       "    }\n",
       "\n",
       "    .dataframe thead th {\n",
       "        text-align: right;\n",
       "    }\n",
       "</style>\n",
       "<table border=\"1\" class=\"dataframe\">\n",
       "  <thead>\n",
       "    <tr style=\"text-align: right;\">\n",
       "      <th></th>\n",
       "      <th>session_id</th>\n",
       "      <th>max</th>\n",
       "      <th>min</th>\n",
       "      <th>duration</th>\n",
       "      <th>max_sequence_number</th>\n",
       "      <th>duration_category</th>\n",
       "      <th>duration_seconds</th>\n",
       "      <th>sequence_category</th>\n",
       "    </tr>\n",
       "  </thead>\n",
       "  <tbody>\n",
       "    <tr>\n",
       "      <th>0</th>\n",
       "      <td>00000763-a855-4ad0-a95c-b160e749b272</td>\n",
       "      <td>2021-10-01 03:52:00+00:00</td>\n",
       "      <td>2021-10-01 03:26:00+00:00</td>\n",
       "      <td>0 days 00:26:00</td>\n",
       "      <td>3</td>\n",
       "      <td>Medium</td>\n",
       "      <td>1560.0</td>\n",
       "      <td>light</td>\n",
       "    </tr>\n",
       "    <tr>\n",
       "      <th>1</th>\n",
       "      <td>0000364a-ce41-46f1-89d6-3f8704af77db</td>\n",
       "      <td>2022-08-22 10:52:42+00:00</td>\n",
       "      <td>2022-08-22 10:46:40+00:00</td>\n",
       "      <td>0 days 00:06:02</td>\n",
       "      <td>5</td>\n",
       "      <td>Short</td>\n",
       "      <td>362.0</td>\n",
       "      <td>middle</td>\n",
       "    </tr>\n",
       "    <tr>\n",
       "      <th>2</th>\n",
       "      <td>00004b15-f2d4-4687-b4c1-fc9ce336d39a</td>\n",
       "      <td>2022-06-11 01:54:00+00:00</td>\n",
       "      <td>2022-06-11 01:28:00+00:00</td>\n",
       "      <td>0 days 00:26:00</td>\n",
       "      <td>3</td>\n",
       "      <td>Medium</td>\n",
       "      <td>1560.0</td>\n",
       "      <td>light</td>\n",
       "    </tr>\n",
       "    <tr>\n",
       "      <th>3</th>\n",
       "      <td>00004cf0-0d54-4347-8b0c-dccc700a2c96</td>\n",
       "      <td>2021-12-28 03:32:00+00:00</td>\n",
       "      <td>2021-12-28 03:11:00+00:00</td>\n",
       "      <td>0 days 00:21:00</td>\n",
       "      <td>3</td>\n",
       "      <td>Medium</td>\n",
       "      <td>1260.0</td>\n",
       "      <td>light</td>\n",
       "    </tr>\n",
       "    <tr>\n",
       "      <th>4</th>\n",
       "      <td>00005f74-03cb-40ed-b254-364c38c79104</td>\n",
       "      <td>2019-08-02 14:49:00+00:00</td>\n",
       "      <td>2019-08-02 14:40:00+00:00</td>\n",
       "      <td>0 days 00:09:00</td>\n",
       "      <td>2</td>\n",
       "      <td>Short</td>\n",
       "      <td>540.0</td>\n",
       "      <td>light</td>\n",
       "    </tr>\n",
       "    <tr>\n",
       "      <th>...</th>\n",
       "      <td>...</td>\n",
       "      <td>...</td>\n",
       "      <td>...</td>\n",
       "      <td>...</td>\n",
       "      <td>...</td>\n",
       "      <td>...</td>\n",
       "      <td>...</td>\n",
       "      <td>...</td>\n",
       "    </tr>\n",
       "    <tr>\n",
       "      <th>643588</th>\n",
       "      <td>ffff7645-26f7-410f-8498-0c601d74c67a</td>\n",
       "      <td>2019-11-05 15:39:00+00:00</td>\n",
       "      <td>2019-11-05 15:00:00+00:00</td>\n",
       "      <td>0 days 00:39:00</td>\n",
       "      <td>3</td>\n",
       "      <td>Medium</td>\n",
       "      <td>2340.0</td>\n",
       "      <td>light</td>\n",
       "    </tr>\n",
       "    <tr>\n",
       "      <th>643589</th>\n",
       "      <td>ffff8086-da2c-4045-94ba-453437cd3289</td>\n",
       "      <td>2020-03-20 06:06:00+00:00</td>\n",
       "      <td>2020-03-20 06:06:00+00:00</td>\n",
       "      <td>0 days 00:00:00</td>\n",
       "      <td>1</td>\n",
       "      <td>Short</td>\n",
       "      <td>0.0</td>\n",
       "      <td>light</td>\n",
       "    </tr>\n",
       "    <tr>\n",
       "      <th>643590</th>\n",
       "      <td>ffffa9aa-4345-4c2a-b389-8fd58844472e</td>\n",
       "      <td>2021-07-26 15:49:00+00:00</td>\n",
       "      <td>2021-07-26 15:45:00+00:00</td>\n",
       "      <td>0 days 00:04:00</td>\n",
       "      <td>2</td>\n",
       "      <td>Short</td>\n",
       "      <td>240.0</td>\n",
       "      <td>light</td>\n",
       "    </tr>\n",
       "    <tr>\n",
       "      <th>643591</th>\n",
       "      <td>ffffc3b7-9bc3-44d0-935e-cfaf11c91a0e</td>\n",
       "      <td>2019-07-10 07:21:00+00:00</td>\n",
       "      <td>2019-07-10 07:02:00+00:00</td>\n",
       "      <td>0 days 00:19:00</td>\n",
       "      <td>3</td>\n",
       "      <td>Medium</td>\n",
       "      <td>1140.0</td>\n",
       "      <td>light</td>\n",
       "    </tr>\n",
       "    <tr>\n",
       "      <th>643592</th>\n",
       "      <td>ffffc96a-b665-41a1-8a9a-1101c46e6620</td>\n",
       "      <td>2022-08-27 00:47:16+00:00</td>\n",
       "      <td>2022-08-25 00:34:05+00:00</td>\n",
       "      <td>2 days 00:13:11</td>\n",
       "      <td>13</td>\n",
       "      <td>Long</td>\n",
       "      <td>173591.0</td>\n",
       "      <td>heavy</td>\n",
       "    </tr>\n",
       "  </tbody>\n",
       "</table>\n",
       "<p>643593 rows × 8 columns</p>\n",
       "</div>"
      ],
      "text/plain": [
       "                                  session_id                       max  \\\n",
       "0       00000763-a855-4ad0-a95c-b160e749b272 2021-10-01 03:52:00+00:00   \n",
       "1       0000364a-ce41-46f1-89d6-3f8704af77db 2022-08-22 10:52:42+00:00   \n",
       "2       00004b15-f2d4-4687-b4c1-fc9ce336d39a 2022-06-11 01:54:00+00:00   \n",
       "3       00004cf0-0d54-4347-8b0c-dccc700a2c96 2021-12-28 03:32:00+00:00   \n",
       "4       00005f74-03cb-40ed-b254-364c38c79104 2019-08-02 14:49:00+00:00   \n",
       "...                                      ...                       ...   \n",
       "643588  ffff7645-26f7-410f-8498-0c601d74c67a 2019-11-05 15:39:00+00:00   \n",
       "643589  ffff8086-da2c-4045-94ba-453437cd3289 2020-03-20 06:06:00+00:00   \n",
       "643590  ffffa9aa-4345-4c2a-b389-8fd58844472e 2021-07-26 15:49:00+00:00   \n",
       "643591  ffffc3b7-9bc3-44d0-935e-cfaf11c91a0e 2019-07-10 07:21:00+00:00   \n",
       "643592  ffffc96a-b665-41a1-8a9a-1101c46e6620 2022-08-27 00:47:16+00:00   \n",
       "\n",
       "                             min        duration  max_sequence_number  \\\n",
       "0      2021-10-01 03:26:00+00:00 0 days 00:26:00                    3   \n",
       "1      2022-08-22 10:46:40+00:00 0 days 00:06:02                    5   \n",
       "2      2022-06-11 01:28:00+00:00 0 days 00:26:00                    3   \n",
       "3      2021-12-28 03:11:00+00:00 0 days 00:21:00                    3   \n",
       "4      2019-08-02 14:40:00+00:00 0 days 00:09:00                    2   \n",
       "...                          ...             ...                  ...   \n",
       "643588 2019-11-05 15:00:00+00:00 0 days 00:39:00                    3   \n",
       "643589 2020-03-20 06:06:00+00:00 0 days 00:00:00                    1   \n",
       "643590 2021-07-26 15:45:00+00:00 0 days 00:04:00                    2   \n",
       "643591 2019-07-10 07:02:00+00:00 0 days 00:19:00                    3   \n",
       "643592 2022-08-25 00:34:05+00:00 2 days 00:13:11                   13   \n",
       "\n",
       "       duration_category  duration_seconds sequence_category  \n",
       "0                 Medium            1560.0             light  \n",
       "1                  Short             362.0            middle  \n",
       "2                 Medium            1560.0             light  \n",
       "3                 Medium            1260.0             light  \n",
       "4                  Short             540.0             light  \n",
       "...                  ...               ...               ...  \n",
       "643588            Medium            2340.0             light  \n",
       "643589             Short               0.0             light  \n",
       "643590             Short             240.0             light  \n",
       "643591            Medium            1140.0             light  \n",
       "643592              Long          173591.0             heavy  \n",
       "\n",
       "[643593 rows x 8 columns]"
      ]
     },
     "execution_count": 234,
     "metadata": {},
     "output_type": "execute_result"
    }
   ],
   "source": [
    "def categorize_maxsequence(max_sequence_number):\n",
    "    if max_sequence_number <= 3:  ## \n",
    "        return 'light'\n",
    "    elif max_sequence_number <= 7:  ## \n",
    "        return 'middle'\n",
    "    else:\n",
    "        return 'heavy'\n",
    "\n",
    "# duration을 범주화하여 새로운 컬럼 추가\n",
    "duration['sequence_category'] = duration['max_sequence_number'].apply(categorize_maxsequence)\n",
    "\n",
    "duration"
   ]
  },
  {
   "cell_type": "code",
   "execution_count": null,
   "metadata": {},
   "outputs": [
    {
     "data": {
      "text/plain": [
       "sequence_category\n",
       "light     487139\n",
       "middle    118335\n",
       "heavy      38119\n",
       "Name: count, dtype: int64"
      ]
     },
     "execution_count": 235,
     "metadata": {},
     "output_type": "execute_result"
    }
   ],
   "source": [
    "duration['sequence_category'].value_counts()"
   ]
  },
  {
   "cell_type": "code",
   "execution_count": null,
   "metadata": {},
   "outputs": [],
   "source": [
    "# # session_id를 기준으로 각 session의 최대 sequence_number를 찾습니다.\n",
    "# max_sequence_number = duration.groupby('session_id')['max_sequence_number'].max()\n",
    "\n",
    "# # 구매한 session의 session_id와 해당 session의 구매 여부를 찾습니다.\n",
    "# purchase_session_ids = events[events['event_type'] == 'purchase']['session_id'].unique()\n",
    "# session_purchase = pd.DataFrame({'session_id': purchase_session_ids, 'purchase': 1})\n",
    "\n",
    "# # duration과 구매 여부를 merge합니다.\n",
    "# merged_data = duration.merge(max_sequence_number, on='session_id').merge(session_purchase, on='session_id', how='left')\n",
    "# merged_data['purchase'].fillna(0, inplace=True)\n",
    "\n",
    "# # duration_category별로 구매 확률을 계산합니다.\n",
    "# purchase_probability_by_duration = merged_data.groupby('duration_category')['purchase'].mean()\n",
    "# print(purchase_probability_by_duration)"
   ]
  },
  {
   "cell_type": "code",
   "execution_count": null,
   "metadata": {},
   "outputs": [
    {
     "data": {
      "text/html": [
       "<div>\n",
       "<style scoped>\n",
       "    .dataframe tbody tr th:only-of-type {\n",
       "        vertical-align: middle;\n",
       "    }\n",
       "\n",
       "    .dataframe tbody tr th {\n",
       "        vertical-align: top;\n",
       "    }\n",
       "\n",
       "    .dataframe thead th {\n",
       "        text-align: right;\n",
       "    }\n",
       "</style>\n",
       "<table border=\"1\" class=\"dataframe\">\n",
       "  <thead>\n",
       "    <tr style=\"text-align: right;\">\n",
       "      <th></th>\n",
       "      <th>session_id</th>\n",
       "      <th>max</th>\n",
       "      <th>min</th>\n",
       "      <th>duration</th>\n",
       "      <th>max_sequence_number_x</th>\n",
       "      <th>duration_category</th>\n",
       "      <th>duration_seconds</th>\n",
       "      <th>max_sequence_number_y</th>\n",
       "      <th>purchase</th>\n",
       "      <th>sequence_category</th>\n",
       "    </tr>\n",
       "  </thead>\n",
       "  <tbody>\n",
       "    <tr>\n",
       "      <th>0</th>\n",
       "      <td>00000763-a855-4ad0-a95c-b160e749b272</td>\n",
       "      <td>2021-10-01 03:52:00+00:00</td>\n",
       "      <td>2021-10-01 03:26:00+00:00</td>\n",
       "      <td>0 days 00:26:00</td>\n",
       "      <td>3</td>\n",
       "      <td>Medium</td>\n",
       "      <td>1560.0</td>\n",
       "      <td>3</td>\n",
       "      <td>0.0</td>\n",
       "      <td>light</td>\n",
       "    </tr>\n",
       "    <tr>\n",
       "      <th>1</th>\n",
       "      <td>0000364a-ce41-46f1-89d6-3f8704af77db</td>\n",
       "      <td>2022-08-22 10:52:42+00:00</td>\n",
       "      <td>2022-08-22 10:46:40+00:00</td>\n",
       "      <td>0 days 00:06:02</td>\n",
       "      <td>5</td>\n",
       "      <td>Short</td>\n",
       "      <td>362.0</td>\n",
       "      <td>5</td>\n",
       "      <td>1.0</td>\n",
       "      <td>middle</td>\n",
       "    </tr>\n",
       "    <tr>\n",
       "      <th>2</th>\n",
       "      <td>00004b15-f2d4-4687-b4c1-fc9ce336d39a</td>\n",
       "      <td>2022-06-11 01:54:00+00:00</td>\n",
       "      <td>2022-06-11 01:28:00+00:00</td>\n",
       "      <td>0 days 00:26:00</td>\n",
       "      <td>3</td>\n",
       "      <td>Medium</td>\n",
       "      <td>1560.0</td>\n",
       "      <td>3</td>\n",
       "      <td>0.0</td>\n",
       "      <td>light</td>\n",
       "    </tr>\n",
       "    <tr>\n",
       "      <th>3</th>\n",
       "      <td>00004cf0-0d54-4347-8b0c-dccc700a2c96</td>\n",
       "      <td>2021-12-28 03:32:00+00:00</td>\n",
       "      <td>2021-12-28 03:11:00+00:00</td>\n",
       "      <td>0 days 00:21:00</td>\n",
       "      <td>3</td>\n",
       "      <td>Medium</td>\n",
       "      <td>1260.0</td>\n",
       "      <td>3</td>\n",
       "      <td>0.0</td>\n",
       "      <td>light</td>\n",
       "    </tr>\n",
       "    <tr>\n",
       "      <th>4</th>\n",
       "      <td>00005f74-03cb-40ed-b254-364c38c79104</td>\n",
       "      <td>2019-08-02 14:49:00+00:00</td>\n",
       "      <td>2019-08-02 14:40:00+00:00</td>\n",
       "      <td>0 days 00:09:00</td>\n",
       "      <td>2</td>\n",
       "      <td>Short</td>\n",
       "      <td>540.0</td>\n",
       "      <td>2</td>\n",
       "      <td>0.0</td>\n",
       "      <td>light</td>\n",
       "    </tr>\n",
       "  </tbody>\n",
       "</table>\n",
       "</div>"
      ],
      "text/plain": [
       "                             session_id                       max  \\\n",
       "0  00000763-a855-4ad0-a95c-b160e749b272 2021-10-01 03:52:00+00:00   \n",
       "1  0000364a-ce41-46f1-89d6-3f8704af77db 2022-08-22 10:52:42+00:00   \n",
       "2  00004b15-f2d4-4687-b4c1-fc9ce336d39a 2022-06-11 01:54:00+00:00   \n",
       "3  00004cf0-0d54-4347-8b0c-dccc700a2c96 2021-12-28 03:32:00+00:00   \n",
       "4  00005f74-03cb-40ed-b254-364c38c79104 2019-08-02 14:49:00+00:00   \n",
       "\n",
       "                        min        duration  max_sequence_number_x  \\\n",
       "0 2021-10-01 03:26:00+00:00 0 days 00:26:00                      3   \n",
       "1 2022-08-22 10:46:40+00:00 0 days 00:06:02                      5   \n",
       "2 2022-06-11 01:28:00+00:00 0 days 00:26:00                      3   \n",
       "3 2021-12-28 03:11:00+00:00 0 days 00:21:00                      3   \n",
       "4 2019-08-02 14:40:00+00:00 0 days 00:09:00                      2   \n",
       "\n",
       "  duration_category  duration_seconds  max_sequence_number_y  purchase  \\\n",
       "0            Medium            1560.0                      3       0.0   \n",
       "1             Short             362.0                      5       1.0   \n",
       "2            Medium            1560.0                      3       0.0   \n",
       "3            Medium            1260.0                      3       0.0   \n",
       "4             Short             540.0                      2       0.0   \n",
       "\n",
       "  sequence_category  \n",
       "0             light  \n",
       "1            middle  \n",
       "2             light  \n",
       "3             light  \n",
       "4             light  "
      ]
     },
     "execution_count": 236,
     "metadata": {},
     "output_type": "execute_result"
    }
   ],
   "source": [
    "merged_data.head()"
   ]
  },
  {
   "cell_type": "code",
   "execution_count": null,
   "metadata": {},
   "outputs": [
    {
     "data": {
      "text/html": [
       "<div>\n",
       "<style scoped>\n",
       "    .dataframe tbody tr th:only-of-type {\n",
       "        vertical-align: middle;\n",
       "    }\n",
       "\n",
       "    .dataframe tbody tr th {\n",
       "        vertical-align: top;\n",
       "    }\n",
       "\n",
       "    .dataframe thead th {\n",
       "        text-align: right;\n",
       "    }\n",
       "</style>\n",
       "<table border=\"1\" class=\"dataframe\">\n",
       "  <thead>\n",
       "    <tr style=\"text-align: right;\">\n",
       "      <th></th>\n",
       "      <th>session_id</th>\n",
       "      <th>max</th>\n",
       "      <th>min</th>\n",
       "      <th>duration</th>\n",
       "      <th>max_sequence_number_x</th>\n",
       "      <th>duration_category</th>\n",
       "      <th>duration_seconds</th>\n",
       "      <th>max_sequence_number_y</th>\n",
       "      <th>purchase</th>\n",
       "      <th>sequence_category</th>\n",
       "    </tr>\n",
       "  </thead>\n",
       "  <tbody>\n",
       "    <tr>\n",
       "      <th>0</th>\n",
       "      <td>00000763-a855-4ad0-a95c-b160e749b272</td>\n",
       "      <td>2021-10-01 03:52:00+00:00</td>\n",
       "      <td>2021-10-01 03:26:00+00:00</td>\n",
       "      <td>0 days 00:26:00</td>\n",
       "      <td>3</td>\n",
       "      <td>Medium</td>\n",
       "      <td>1560.0</td>\n",
       "      <td>3</td>\n",
       "      <td>0.0</td>\n",
       "      <td>light</td>\n",
       "    </tr>\n",
       "    <tr>\n",
       "      <th>1</th>\n",
       "      <td>0000364a-ce41-46f1-89d6-3f8704af77db</td>\n",
       "      <td>2022-08-22 10:52:42+00:00</td>\n",
       "      <td>2022-08-22 10:46:40+00:00</td>\n",
       "      <td>0 days 00:06:02</td>\n",
       "      <td>5</td>\n",
       "      <td>Short</td>\n",
       "      <td>362.0</td>\n",
       "      <td>5</td>\n",
       "      <td>1.0</td>\n",
       "      <td>middle</td>\n",
       "    </tr>\n",
       "    <tr>\n",
       "      <th>2</th>\n",
       "      <td>00004b15-f2d4-4687-b4c1-fc9ce336d39a</td>\n",
       "      <td>2022-06-11 01:54:00+00:00</td>\n",
       "      <td>2022-06-11 01:28:00+00:00</td>\n",
       "      <td>0 days 00:26:00</td>\n",
       "      <td>3</td>\n",
       "      <td>Medium</td>\n",
       "      <td>1560.0</td>\n",
       "      <td>3</td>\n",
       "      <td>0.0</td>\n",
       "      <td>light</td>\n",
       "    </tr>\n",
       "    <tr>\n",
       "      <th>3</th>\n",
       "      <td>00004cf0-0d54-4347-8b0c-dccc700a2c96</td>\n",
       "      <td>2021-12-28 03:32:00+00:00</td>\n",
       "      <td>2021-12-28 03:11:00+00:00</td>\n",
       "      <td>0 days 00:21:00</td>\n",
       "      <td>3</td>\n",
       "      <td>Medium</td>\n",
       "      <td>1260.0</td>\n",
       "      <td>3</td>\n",
       "      <td>0.0</td>\n",
       "      <td>light</td>\n",
       "    </tr>\n",
       "    <tr>\n",
       "      <th>4</th>\n",
       "      <td>00005f74-03cb-40ed-b254-364c38c79104</td>\n",
       "      <td>2019-08-02 14:49:00+00:00</td>\n",
       "      <td>2019-08-02 14:40:00+00:00</td>\n",
       "      <td>0 days 00:09:00</td>\n",
       "      <td>2</td>\n",
       "      <td>Short</td>\n",
       "      <td>540.0</td>\n",
       "      <td>2</td>\n",
       "      <td>0.0</td>\n",
       "      <td>light</td>\n",
       "    </tr>\n",
       "  </tbody>\n",
       "</table>\n",
       "</div>"
      ],
      "text/plain": [
       "                             session_id                       max  \\\n",
       "0  00000763-a855-4ad0-a95c-b160e749b272 2021-10-01 03:52:00+00:00   \n",
       "1  0000364a-ce41-46f1-89d6-3f8704af77db 2022-08-22 10:52:42+00:00   \n",
       "2  00004b15-f2d4-4687-b4c1-fc9ce336d39a 2022-06-11 01:54:00+00:00   \n",
       "3  00004cf0-0d54-4347-8b0c-dccc700a2c96 2021-12-28 03:32:00+00:00   \n",
       "4  00005f74-03cb-40ed-b254-364c38c79104 2019-08-02 14:49:00+00:00   \n",
       "\n",
       "                        min        duration  max_sequence_number_x  \\\n",
       "0 2021-10-01 03:26:00+00:00 0 days 00:26:00                      3   \n",
       "1 2022-08-22 10:46:40+00:00 0 days 00:06:02                      5   \n",
       "2 2022-06-11 01:28:00+00:00 0 days 00:26:00                      3   \n",
       "3 2021-12-28 03:11:00+00:00 0 days 00:21:00                      3   \n",
       "4 2019-08-02 14:40:00+00:00 0 days 00:09:00                      2   \n",
       "\n",
       "  duration_category  duration_seconds  max_sequence_number_y  purchase  \\\n",
       "0            Medium            1560.0                      3       0.0   \n",
       "1             Short             362.0                      5       1.0   \n",
       "2            Medium            1560.0                      3       0.0   \n",
       "3            Medium            1260.0                      3       0.0   \n",
       "4             Short             540.0                      2       0.0   \n",
       "\n",
       "  sequence_category  \n",
       "0             light  \n",
       "1            middle  \n",
       "2             light  \n",
       "3             light  \n",
       "4             light  "
      ]
     },
     "execution_count": 237,
     "metadata": {},
     "output_type": "execute_result"
    }
   ],
   "source": [
    "merged_data['sequence_category'] = merged_data['max_sequence_number_x'].apply(categorize_maxsequence)\n",
    "\n",
    "merged_data.head()"
   ]
  },
  {
   "cell_type": "code",
   "execution_count": null,
   "metadata": {},
   "outputs": [
    {
     "name": "stdout",
     "output_type": "stream",
     "text": [
      "sequence_category\n",
      "heavy     0.995121\n",
      "light     0.000000\n",
      "middle    0.998437\n",
      "Name: purchase, dtype: float64\n"
     ]
    }
   ],
   "source": [
    "purchase_probability_by_sequence = merged_data.groupby('sequence_category')['purchase'].mean()\n",
    "print(purchase_probability_by_sequence)"
   ]
  },
  {
   "cell_type": "markdown",
   "metadata": {},
   "source": [
    "- sequence number <= 3 인 그룹은 구매율이 0%\n",
    "- sequence number >= 4 인 그룹 구매율 99%"
   ]
  },
  {
   "cell_type": "markdown",
   "metadata": {},
   "source": [
    "## 어느 단계에서 유저들이 가장 많이 이탈하나?"
   ]
  },
  {
   "cell_type": "code",
   "execution_count": null,
   "metadata": {},
   "outputs": [
    {
     "data": {
      "text/html": [
       "<div>\n",
       "<style scoped>\n",
       "    .dataframe tbody tr th:only-of-type {\n",
       "        vertical-align: middle;\n",
       "    }\n",
       "\n",
       "    .dataframe tbody tr th {\n",
       "        vertical-align: top;\n",
       "    }\n",
       "\n",
       "    .dataframe thead th {\n",
       "        text-align: right;\n",
       "    }\n",
       "</style>\n",
       "<table border=\"1\" class=\"dataframe\">\n",
       "  <thead>\n",
       "    <tr style=\"text-align: right;\">\n",
       "      <th></th>\n",
       "      <th>event_type</th>\n",
       "      <th>count</th>\n",
       "    </tr>\n",
       "  </thead>\n",
       "  <tbody>\n",
       "    <tr>\n",
       "      <th>0</th>\n",
       "      <td>home</td>\n",
       "      <td>75442</td>\n",
       "    </tr>\n",
       "    <tr>\n",
       "      <th>1</th>\n",
       "      <td>department</td>\n",
       "      <td>540730</td>\n",
       "    </tr>\n",
       "    <tr>\n",
       "      <th>2</th>\n",
       "      <td>product</td>\n",
       "      <td>784621</td>\n",
       "    </tr>\n",
       "    <tr>\n",
       "      <th>3</th>\n",
       "      <td>cart</td>\n",
       "      <td>541504</td>\n",
       "    </tr>\n",
       "    <tr>\n",
       "      <th>5</th>\n",
       "      <td>purchase</td>\n",
       "      <td>156083</td>\n",
       "    </tr>\n",
       "  </tbody>\n",
       "</table>\n",
       "</div>"
      ],
      "text/plain": [
       "   event_type   count\n",
       "0        home   75442\n",
       "1  department  540730\n",
       "2     product  784621\n",
       "3        cart  541504\n",
       "5    purchase  156083"
      ]
     },
     "execution_count": 86,
     "metadata": {},
     "output_type": "execute_result"
    }
   ],
   "source": [
    "funnel = session_pivot[['home', 'department', 'product','cart', 'cancel', 'purchase']].sum().to_frame().reset_index()\n",
    "funnel.columns = ['event_type', 'count']\n",
    "funnel = funnel.query('event_type != \"cancel\"')\n",
    "funnel"
   ]
  },
  {
   "cell_type": "code",
   "execution_count": null,
   "metadata": {},
   "outputs": [
    {
     "data": {
      "application/vnd.plotly.v1+json": {
       "config": {
        "plotlyServerURL": "https://plot.ly"
       },
       "data": [
        {
         "hovertemplate": "event_type=%{x}<br>count=%{y}<extra></extra>",
         "legendgroup": "",
         "marker": {
          "color": "#636efa"
         },
         "name": "",
         "orientation": "v",
         "showlegend": false,
         "texttemplate": "%{value:,.0f}",
         "type": "funnel",
         "x": [
          "home",
          "department",
          "product",
          "cart",
          "purchase"
         ],
         "xaxis": "x",
         "y": [
          75442,
          540730,
          784621,
          541504,
          156083
         ],
         "yaxis": "y"
        }
       ],
       "layout": {
        "legend": {
         "tracegroupgap": 0
        },
        "template": {
         "data": {
          "bar": [
           {
            "error_x": {
             "color": "#2a3f5f"
            },
            "error_y": {
             "color": "#2a3f5f"
            },
            "marker": {
             "line": {
              "color": "#E5ECF6",
              "width": 0.5
             },
             "pattern": {
              "fillmode": "overlay",
              "size": 10,
              "solidity": 0.2
             }
            },
            "type": "bar"
           }
          ],
          "barpolar": [
           {
            "marker": {
             "line": {
              "color": "#E5ECF6",
              "width": 0.5
             },
             "pattern": {
              "fillmode": "overlay",
              "size": 10,
              "solidity": 0.2
             }
            },
            "type": "barpolar"
           }
          ],
          "carpet": [
           {
            "aaxis": {
             "endlinecolor": "#2a3f5f",
             "gridcolor": "white",
             "linecolor": "white",
             "minorgridcolor": "white",
             "startlinecolor": "#2a3f5f"
            },
            "baxis": {
             "endlinecolor": "#2a3f5f",
             "gridcolor": "white",
             "linecolor": "white",
             "minorgridcolor": "white",
             "startlinecolor": "#2a3f5f"
            },
            "type": "carpet"
           }
          ],
          "choropleth": [
           {
            "colorbar": {
             "outlinewidth": 0,
             "ticks": ""
            },
            "type": "choropleth"
           }
          ],
          "contour": [
           {
            "colorbar": {
             "outlinewidth": 0,
             "ticks": ""
            },
            "colorscale": [
             [
              0,
              "#0d0887"
             ],
             [
              0.1111111111111111,
              "#46039f"
             ],
             [
              0.2222222222222222,
              "#7201a8"
             ],
             [
              0.3333333333333333,
              "#9c179e"
             ],
             [
              0.4444444444444444,
              "#bd3786"
             ],
             [
              0.5555555555555556,
              "#d8576b"
             ],
             [
              0.6666666666666666,
              "#ed7953"
             ],
             [
              0.7777777777777778,
              "#fb9f3a"
             ],
             [
              0.8888888888888888,
              "#fdca26"
             ],
             [
              1,
              "#f0f921"
             ]
            ],
            "type": "contour"
           }
          ],
          "contourcarpet": [
           {
            "colorbar": {
             "outlinewidth": 0,
             "ticks": ""
            },
            "type": "contourcarpet"
           }
          ],
          "heatmap": [
           {
            "colorbar": {
             "outlinewidth": 0,
             "ticks": ""
            },
            "colorscale": [
             [
              0,
              "#0d0887"
             ],
             [
              0.1111111111111111,
              "#46039f"
             ],
             [
              0.2222222222222222,
              "#7201a8"
             ],
             [
              0.3333333333333333,
              "#9c179e"
             ],
             [
              0.4444444444444444,
              "#bd3786"
             ],
             [
              0.5555555555555556,
              "#d8576b"
             ],
             [
              0.6666666666666666,
              "#ed7953"
             ],
             [
              0.7777777777777778,
              "#fb9f3a"
             ],
             [
              0.8888888888888888,
              "#fdca26"
             ],
             [
              1,
              "#f0f921"
             ]
            ],
            "type": "heatmap"
           }
          ],
          "heatmapgl": [
           {
            "colorbar": {
             "outlinewidth": 0,
             "ticks": ""
            },
            "colorscale": [
             [
              0,
              "#0d0887"
             ],
             [
              0.1111111111111111,
              "#46039f"
             ],
             [
              0.2222222222222222,
              "#7201a8"
             ],
             [
              0.3333333333333333,
              "#9c179e"
             ],
             [
              0.4444444444444444,
              "#bd3786"
             ],
             [
              0.5555555555555556,
              "#d8576b"
             ],
             [
              0.6666666666666666,
              "#ed7953"
             ],
             [
              0.7777777777777778,
              "#fb9f3a"
             ],
             [
              0.8888888888888888,
              "#fdca26"
             ],
             [
              1,
              "#f0f921"
             ]
            ],
            "type": "heatmapgl"
           }
          ],
          "histogram": [
           {
            "marker": {
             "pattern": {
              "fillmode": "overlay",
              "size": 10,
              "solidity": 0.2
             }
            },
            "type": "histogram"
           }
          ],
          "histogram2d": [
           {
            "colorbar": {
             "outlinewidth": 0,
             "ticks": ""
            },
            "colorscale": [
             [
              0,
              "#0d0887"
             ],
             [
              0.1111111111111111,
              "#46039f"
             ],
             [
              0.2222222222222222,
              "#7201a8"
             ],
             [
              0.3333333333333333,
              "#9c179e"
             ],
             [
              0.4444444444444444,
              "#bd3786"
             ],
             [
              0.5555555555555556,
              "#d8576b"
             ],
             [
              0.6666666666666666,
              "#ed7953"
             ],
             [
              0.7777777777777778,
              "#fb9f3a"
             ],
             [
              0.8888888888888888,
              "#fdca26"
             ],
             [
              1,
              "#f0f921"
             ]
            ],
            "type": "histogram2d"
           }
          ],
          "histogram2dcontour": [
           {
            "colorbar": {
             "outlinewidth": 0,
             "ticks": ""
            },
            "colorscale": [
             [
              0,
              "#0d0887"
             ],
             [
              0.1111111111111111,
              "#46039f"
             ],
             [
              0.2222222222222222,
              "#7201a8"
             ],
             [
              0.3333333333333333,
              "#9c179e"
             ],
             [
              0.4444444444444444,
              "#bd3786"
             ],
             [
              0.5555555555555556,
              "#d8576b"
             ],
             [
              0.6666666666666666,
              "#ed7953"
             ],
             [
              0.7777777777777778,
              "#fb9f3a"
             ],
             [
              0.8888888888888888,
              "#fdca26"
             ],
             [
              1,
              "#f0f921"
             ]
            ],
            "type": "histogram2dcontour"
           }
          ],
          "mesh3d": [
           {
            "colorbar": {
             "outlinewidth": 0,
             "ticks": ""
            },
            "type": "mesh3d"
           }
          ],
          "parcoords": [
           {
            "line": {
             "colorbar": {
              "outlinewidth": 0,
              "ticks": ""
             }
            },
            "type": "parcoords"
           }
          ],
          "pie": [
           {
            "automargin": true,
            "type": "pie"
           }
          ],
          "scatter": [
           {
            "fillpattern": {
             "fillmode": "overlay",
             "size": 10,
             "solidity": 0.2
            },
            "type": "scatter"
           }
          ],
          "scatter3d": [
           {
            "line": {
             "colorbar": {
              "outlinewidth": 0,
              "ticks": ""
             }
            },
            "marker": {
             "colorbar": {
              "outlinewidth": 0,
              "ticks": ""
             }
            },
            "type": "scatter3d"
           }
          ],
          "scattercarpet": [
           {
            "marker": {
             "colorbar": {
              "outlinewidth": 0,
              "ticks": ""
             }
            },
            "type": "scattercarpet"
           }
          ],
          "scattergeo": [
           {
            "marker": {
             "colorbar": {
              "outlinewidth": 0,
              "ticks": ""
             }
            },
            "type": "scattergeo"
           }
          ],
          "scattergl": [
           {
            "marker": {
             "colorbar": {
              "outlinewidth": 0,
              "ticks": ""
             }
            },
            "type": "scattergl"
           }
          ],
          "scattermapbox": [
           {
            "marker": {
             "colorbar": {
              "outlinewidth": 0,
              "ticks": ""
             }
            },
            "type": "scattermapbox"
           }
          ],
          "scatterpolar": [
           {
            "marker": {
             "colorbar": {
              "outlinewidth": 0,
              "ticks": ""
             }
            },
            "type": "scatterpolar"
           }
          ],
          "scatterpolargl": [
           {
            "marker": {
             "colorbar": {
              "outlinewidth": 0,
              "ticks": ""
             }
            },
            "type": "scatterpolargl"
           }
          ],
          "scatterternary": [
           {
            "marker": {
             "colorbar": {
              "outlinewidth": 0,
              "ticks": ""
             }
            },
            "type": "scatterternary"
           }
          ],
          "surface": [
           {
            "colorbar": {
             "outlinewidth": 0,
             "ticks": ""
            },
            "colorscale": [
             [
              0,
              "#0d0887"
             ],
             [
              0.1111111111111111,
              "#46039f"
             ],
             [
              0.2222222222222222,
              "#7201a8"
             ],
             [
              0.3333333333333333,
              "#9c179e"
             ],
             [
              0.4444444444444444,
              "#bd3786"
             ],
             [
              0.5555555555555556,
              "#d8576b"
             ],
             [
              0.6666666666666666,
              "#ed7953"
             ],
             [
              0.7777777777777778,
              "#fb9f3a"
             ],
             [
              0.8888888888888888,
              "#fdca26"
             ],
             [
              1,
              "#f0f921"
             ]
            ],
            "type": "surface"
           }
          ],
          "table": [
           {
            "cells": {
             "fill": {
              "color": "#EBF0F8"
             },
             "line": {
              "color": "white"
             }
            },
            "header": {
             "fill": {
              "color": "#C8D4E3"
             },
             "line": {
              "color": "white"
             }
            },
            "type": "table"
           }
          ]
         },
         "layout": {
          "annotationdefaults": {
           "arrowcolor": "#2a3f5f",
           "arrowhead": 0,
           "arrowwidth": 1
          },
          "autotypenumbers": "strict",
          "coloraxis": {
           "colorbar": {
            "outlinewidth": 0,
            "ticks": ""
           }
          },
          "colorscale": {
           "diverging": [
            [
             0,
             "#8e0152"
            ],
            [
             0.1,
             "#c51b7d"
            ],
            [
             0.2,
             "#de77ae"
            ],
            [
             0.3,
             "#f1b6da"
            ],
            [
             0.4,
             "#fde0ef"
            ],
            [
             0.5,
             "#f7f7f7"
            ],
            [
             0.6,
             "#e6f5d0"
            ],
            [
             0.7,
             "#b8e186"
            ],
            [
             0.8,
             "#7fbc41"
            ],
            [
             0.9,
             "#4d9221"
            ],
            [
             1,
             "#276419"
            ]
           ],
           "sequential": [
            [
             0,
             "#0d0887"
            ],
            [
             0.1111111111111111,
             "#46039f"
            ],
            [
             0.2222222222222222,
             "#7201a8"
            ],
            [
             0.3333333333333333,
             "#9c179e"
            ],
            [
             0.4444444444444444,
             "#bd3786"
            ],
            [
             0.5555555555555556,
             "#d8576b"
            ],
            [
             0.6666666666666666,
             "#ed7953"
            ],
            [
             0.7777777777777778,
             "#fb9f3a"
            ],
            [
             0.8888888888888888,
             "#fdca26"
            ],
            [
             1,
             "#f0f921"
            ]
           ],
           "sequentialminus": [
            [
             0,
             "#0d0887"
            ],
            [
             0.1111111111111111,
             "#46039f"
            ],
            [
             0.2222222222222222,
             "#7201a8"
            ],
            [
             0.3333333333333333,
             "#9c179e"
            ],
            [
             0.4444444444444444,
             "#bd3786"
            ],
            [
             0.5555555555555556,
             "#d8576b"
            ],
            [
             0.6666666666666666,
             "#ed7953"
            ],
            [
             0.7777777777777778,
             "#fb9f3a"
            ],
            [
             0.8888888888888888,
             "#fdca26"
            ],
            [
             1,
             "#f0f921"
            ]
           ]
          },
          "colorway": [
           "#636efa",
           "#EF553B",
           "#00cc96",
           "#ab63fa",
           "#FFA15A",
           "#19d3f3",
           "#FF6692",
           "#B6E880",
           "#FF97FF",
           "#FECB52"
          ],
          "font": {
           "color": "#2a3f5f"
          },
          "geo": {
           "bgcolor": "white",
           "lakecolor": "white",
           "landcolor": "#E5ECF6",
           "showlakes": true,
           "showland": true,
           "subunitcolor": "white"
          },
          "hoverlabel": {
           "align": "left"
          },
          "hovermode": "closest",
          "mapbox": {
           "style": "light"
          },
          "paper_bgcolor": "white",
          "plot_bgcolor": "#E5ECF6",
          "polar": {
           "angularaxis": {
            "gridcolor": "white",
            "linecolor": "white",
            "ticks": ""
           },
           "bgcolor": "#E5ECF6",
           "radialaxis": {
            "gridcolor": "white",
            "linecolor": "white",
            "ticks": ""
           }
          },
          "scene": {
           "xaxis": {
            "backgroundcolor": "#E5ECF6",
            "gridcolor": "white",
            "gridwidth": 2,
            "linecolor": "white",
            "showbackground": true,
            "ticks": "",
            "zerolinecolor": "white"
           },
           "yaxis": {
            "backgroundcolor": "#E5ECF6",
            "gridcolor": "white",
            "gridwidth": 2,
            "linecolor": "white",
            "showbackground": true,
            "ticks": "",
            "zerolinecolor": "white"
           },
           "zaxis": {
            "backgroundcolor": "#E5ECF6",
            "gridcolor": "white",
            "gridwidth": 2,
            "linecolor": "white",
            "showbackground": true,
            "ticks": "",
            "zerolinecolor": "white"
           }
          },
          "shapedefaults": {
           "line": {
            "color": "#2a3f5f"
           }
          },
          "ternary": {
           "aaxis": {
            "gridcolor": "white",
            "linecolor": "white",
            "ticks": ""
           },
           "baxis": {
            "gridcolor": "white",
            "linecolor": "white",
            "ticks": ""
           },
           "bgcolor": "#E5ECF6",
           "caxis": {
            "gridcolor": "white",
            "linecolor": "white",
            "ticks": ""
           }
          },
          "title": {
           "x": 0.05
          },
          "xaxis": {
           "automargin": true,
           "gridcolor": "white",
           "linecolor": "white",
           "ticks": "",
           "title": {
            "standoff": 15
           },
           "zerolinecolor": "white",
           "zerolinewidth": 2
          },
          "yaxis": {
           "automargin": true,
           "gridcolor": "white",
           "linecolor": "white",
           "ticks": "",
           "title": {
            "standoff": 15
           },
           "zerolinecolor": "white",
           "zerolinewidth": 2
          }
         }
        },
        "title": {
         "text": "Funnel aka 운동기구"
        },
        "xaxis": {
         "anchor": "y",
         "domain": [
          0,
          1
         ],
         "title": {
          "text": "event_type"
         }
        },
        "yaxis": {
         "anchor": "x",
         "domain": [
          0,
          1
         ],
         "title": {
          "text": "count"
         }
        }
       }
      }
     },
     "metadata": {},
     "output_type": "display_data"
    }
   ],
   "source": [
    "fig = px.funnel(data_frame=funnel, x='event_type', y='count', title='Funnel aka 운동기구')\n",
    "fig.update_traces(texttemplate=\"%{value:,.0f}\")\n",
    "fig.show()\n"
   ]
  },
  {
   "cell_type": "code",
   "execution_count": null,
   "metadata": {},
   "outputs": [
    {
     "name": "stderr",
     "output_type": "stream",
     "text": [
      "/var/folders/qv/tqmmyp0s5dj996k_tcvqmtqm0000gn/T/ipykernel_3187/3536280727.py:2: FutureWarning:\n",
      "\n",
      "The default of observed=False is deprecated and will be changed to True in a future version of pandas. Pass observed=False to retain current behavior or observed=True to adopt the future default and silence this warning.\n",
      "\n"
     ]
    },
    {
     "data": {
      "text/plain": [
       "event_type\n",
       "department    324259\n",
       "product       243892\n",
       "home           75442\n",
       "cancel             0\n",
       "cart               0\n",
       "purchase           0\n",
       "dtype: int64"
      ]
     },
     "execution_count": 88,
     "metadata": {},
     "output_type": "execute_result"
    }
   ],
   "source": [
    "sequence_1 = events[events['sequence_number'] == 1]\n",
    "sequence_1_type = sequence_1.groupby('event_type').size().sort_values(ascending=False)\n",
    "# events[events['sequence_number'] == 1].groupby('event_type').size().sort_values(ascending=False)\n",
    "sequence_1_type"
   ]
  },
  {
   "cell_type": "markdown",
   "metadata": {},
   "source": [
    "- department와 product는 광고 캠페인에 사용된 랜딩페이지 일 가능성 높음\n",
    "- 랜딩페이지(온라인 광고를 클릭하면 바로 연결되는 페이지)"
   ]
  },
  {
   "cell_type": "code",
   "execution_count": null,
   "metadata": {},
   "outputs": [
    {
     "data": {
      "text/html": [
       "<div>\n",
       "<style scoped>\n",
       "    .dataframe tbody tr th:only-of-type {\n",
       "        vertical-align: middle;\n",
       "    }\n",
       "\n",
       "    .dataframe tbody tr th {\n",
       "        vertical-align: top;\n",
       "    }\n",
       "\n",
       "    .dataframe thead th {\n",
       "        text-align: right;\n",
       "    }\n",
       "</style>\n",
       "<table border=\"1\" class=\"dataframe\">\n",
       "  <thead>\n",
       "    <tr style=\"text-align: right;\">\n",
       "      <th></th>\n",
       "      <th>event_id</th>\n",
       "      <th>user_id</th>\n",
       "      <th>sequence_number</th>\n",
       "      <th>session_id</th>\n",
       "      <th>event_created_at</th>\n",
       "      <th>ip_address</th>\n",
       "      <th>city</th>\n",
       "      <th>state</th>\n",
       "      <th>postal_code</th>\n",
       "      <th>browser</th>\n",
       "      <th>event_traffic_source</th>\n",
       "      <th>uri</th>\n",
       "      <th>event_type</th>\n",
       "      <th>year</th>\n",
       "      <th>month</th>\n",
       "      <th>day</th>\n",
       "      <th>date</th>\n",
       "    </tr>\n",
       "  </thead>\n",
       "  <tbody>\n",
       "    <tr>\n",
       "      <th>0</th>\n",
       "      <td>2198523</td>\n",
       "      <td>&lt;NA&gt;</td>\n",
       "      <td>3</td>\n",
       "      <td>83889ed2-2adc-4b9a-af5d-154f6998e778</td>\n",
       "      <td>2021-06-17 17:30:00+00:00</td>\n",
       "      <td>138.143.9.202</td>\n",
       "      <td>São Paulo</td>\n",
       "      <td>São Paulo</td>\n",
       "      <td>02675-031</td>\n",
       "      <td>Chrome</td>\n",
       "      <td>Adwords</td>\n",
       "      <td>/cancel</td>\n",
       "      <td>cancel</td>\n",
       "      <td>2021</td>\n",
       "      <td>6</td>\n",
       "      <td>17</td>\n",
       "      <td>2021-06-17</td>\n",
       "    </tr>\n",
       "    <tr>\n",
       "      <th>1</th>\n",
       "      <td>1773216</td>\n",
       "      <td>&lt;NA&gt;</td>\n",
       "      <td>3</td>\n",
       "      <td>7a3fc3f2-e84f-44fe-8876-eff76741f7a3</td>\n",
       "      <td>2020-08-07 08:41:00+00:00</td>\n",
       "      <td>85.114.141.79</td>\n",
       "      <td>Santa Isabel</td>\n",
       "      <td>São Paulo</td>\n",
       "      <td>07500-000</td>\n",
       "      <td>Safari</td>\n",
       "      <td>Adwords</td>\n",
       "      <td>/cancel</td>\n",
       "      <td>cancel</td>\n",
       "      <td>2020</td>\n",
       "      <td>8</td>\n",
       "      <td>7</td>\n",
       "      <td>2020-08-07</td>\n",
       "    </tr>\n",
       "    <tr>\n",
       "      <th>2</th>\n",
       "      <td>2380515</td>\n",
       "      <td>&lt;NA&gt;</td>\n",
       "      <td>3</td>\n",
       "      <td>13d9b2fb-eee1-43fd-965c-267b38dd7125</td>\n",
       "      <td>2021-02-15 18:48:00+00:00</td>\n",
       "      <td>169.250.255.132</td>\n",
       "      <td>Mairiporã</td>\n",
       "      <td>São Paulo</td>\n",
       "      <td>07600-000</td>\n",
       "      <td>IE</td>\n",
       "      <td>Adwords</td>\n",
       "      <td>/cancel</td>\n",
       "      <td>cancel</td>\n",
       "      <td>2021</td>\n",
       "      <td>2</td>\n",
       "      <td>15</td>\n",
       "      <td>2021-02-15</td>\n",
       "    </tr>\n",
       "    <tr>\n",
       "      <th>3</th>\n",
       "      <td>2250597</td>\n",
       "      <td>&lt;NA&gt;</td>\n",
       "      <td>3</td>\n",
       "      <td>96f1d44e-9621-463c-954c-d8deb7fffe7f</td>\n",
       "      <td>2022-03-30 10:56:00+00:00</td>\n",
       "      <td>137.25.222.160</td>\n",
       "      <td>Cajamar</td>\n",
       "      <td>São Paulo</td>\n",
       "      <td>07750-000</td>\n",
       "      <td>Chrome</td>\n",
       "      <td>Adwords</td>\n",
       "      <td>/cancel</td>\n",
       "      <td>cancel</td>\n",
       "      <td>2022</td>\n",
       "      <td>3</td>\n",
       "      <td>30</td>\n",
       "      <td>2022-03-30</td>\n",
       "    </tr>\n",
       "    <tr>\n",
       "      <th>4</th>\n",
       "      <td>1834446</td>\n",
       "      <td>&lt;NA&gt;</td>\n",
       "      <td>3</td>\n",
       "      <td>d09dce10-a7cb-47d3-a9af-44975566fa03</td>\n",
       "      <td>2019-09-05 01:18:00+00:00</td>\n",
       "      <td>161.114.4.174</td>\n",
       "      <td>São Paulo</td>\n",
       "      <td>São Paulo</td>\n",
       "      <td>09581-680</td>\n",
       "      <td>Chrome</td>\n",
       "      <td>Email</td>\n",
       "      <td>/cancel</td>\n",
       "      <td>cancel</td>\n",
       "      <td>2019</td>\n",
       "      <td>9</td>\n",
       "      <td>5</td>\n",
       "      <td>2019-09-05</td>\n",
       "    </tr>\n",
       "    <tr>\n",
       "      <th>...</th>\n",
       "      <td>...</td>\n",
       "      <td>...</td>\n",
       "      <td>...</td>\n",
       "      <td>...</td>\n",
       "      <td>...</td>\n",
       "      <td>...</td>\n",
       "      <td>...</td>\n",
       "      <td>...</td>\n",
       "      <td>...</td>\n",
       "      <td>...</td>\n",
       "      <td>...</td>\n",
       "      <td>...</td>\n",
       "      <td>...</td>\n",
       "      <td>...</td>\n",
       "      <td>...</td>\n",
       "      <td>...</td>\n",
       "      <td>...</td>\n",
       "    </tr>\n",
       "    <tr>\n",
       "      <th>2408413</th>\n",
       "      <td>1773586</td>\n",
       "      <td>&lt;NA&gt;</td>\n",
       "      <td>3</td>\n",
       "      <td>6573bb67-f346-4448-b98f-167fbed8bf52</td>\n",
       "      <td>2023-07-07 12:00:00+00:00</td>\n",
       "      <td>10.29.170.67</td>\n",
       "      <td>London</td>\n",
       "      <td>England</td>\n",
       "      <td>W3</td>\n",
       "      <td>Chrome</td>\n",
       "      <td>Adwords</td>\n",
       "      <td>/cancel</td>\n",
       "      <td>cancel</td>\n",
       "      <td>2023</td>\n",
       "      <td>7</td>\n",
       "      <td>7</td>\n",
       "      <td>2023-07-07</td>\n",
       "    </tr>\n",
       "    <tr>\n",
       "      <th>2408415</th>\n",
       "      <td>2219661</td>\n",
       "      <td>&lt;NA&gt;</td>\n",
       "      <td>3</td>\n",
       "      <td>244b19b9-3570-4b0c-bd4d-ca923c157f7f</td>\n",
       "      <td>2020-10-04 17:23:00+00:00</td>\n",
       "      <td>96.30.193.225</td>\n",
       "      <td>Wakefield</td>\n",
       "      <td>England</td>\n",
       "      <td>WF2</td>\n",
       "      <td>Firefox</td>\n",
       "      <td>Email</td>\n",
       "      <td>/cancel</td>\n",
       "      <td>cancel</td>\n",
       "      <td>2020</td>\n",
       "      <td>10</td>\n",
       "      <td>4</td>\n",
       "      <td>2020-10-04</td>\n",
       "    </tr>\n",
       "    <tr>\n",
       "      <th>2408416</th>\n",
       "      <td>1521021</td>\n",
       "      <td>&lt;NA&gt;</td>\n",
       "      <td>3</td>\n",
       "      <td>b1d4e0ed-685b-4365-8933-84817ad9730f</td>\n",
       "      <td>2023-03-17 11:18:00+00:00</td>\n",
       "      <td>113.98.116.93</td>\n",
       "      <td>Droitwich Spa</td>\n",
       "      <td>England</td>\n",
       "      <td>WR9</td>\n",
       "      <td>Safari</td>\n",
       "      <td>YouTube</td>\n",
       "      <td>/cancel</td>\n",
       "      <td>cancel</td>\n",
       "      <td>2023</td>\n",
       "      <td>3</td>\n",
       "      <td>17</td>\n",
       "      <td>2023-03-17</td>\n",
       "    </tr>\n",
       "    <tr>\n",
       "      <th>2408417</th>\n",
       "      <td>1628856</td>\n",
       "      <td>&lt;NA&gt;</td>\n",
       "      <td>3</td>\n",
       "      <td>0ce673da-fad8-4f2e-b5e1-e9dc4b8c40a4</td>\n",
       "      <td>2021-12-25 17:57:00+00:00</td>\n",
       "      <td>41.128.250.236</td>\n",
       "      <td>Wednesbury</td>\n",
       "      <td>England</td>\n",
       "      <td>WS10</td>\n",
       "      <td>Chrome</td>\n",
       "      <td>Email</td>\n",
       "      <td>/cancel</td>\n",
       "      <td>cancel</td>\n",
       "      <td>2021</td>\n",
       "      <td>12</td>\n",
       "      <td>25</td>\n",
       "      <td>2021-12-25</td>\n",
       "    </tr>\n",
       "    <tr>\n",
       "      <th>2408418</th>\n",
       "      <td>2194520</td>\n",
       "      <td>&lt;NA&gt;</td>\n",
       "      <td>3</td>\n",
       "      <td>70ba1963-7e05-4efb-81b8-4093d75c3178</td>\n",
       "      <td>2019-10-28 13:09:00+00:00</td>\n",
       "      <td>129.131.192.2</td>\n",
       "      <td>York</td>\n",
       "      <td>England</td>\n",
       "      <td>YO24</td>\n",
       "      <td>Chrome</td>\n",
       "      <td>Email</td>\n",
       "      <td>/cancel</td>\n",
       "      <td>cancel</td>\n",
       "      <td>2019</td>\n",
       "      <td>10</td>\n",
       "      <td>28</td>\n",
       "      <td>2019-10-28</td>\n",
       "    </tr>\n",
       "  </tbody>\n",
       "</table>\n",
       "<p>122387 rows × 17 columns</p>\n",
       "</div>"
      ],
      "text/plain": [
       "         event_id  user_id  sequence_number  \\\n",
       "0         2198523     <NA>                3   \n",
       "1         1773216     <NA>                3   \n",
       "2         2380515     <NA>                3   \n",
       "3         2250597     <NA>                3   \n",
       "4         1834446     <NA>                3   \n",
       "...           ...      ...              ...   \n",
       "2408413   1773586     <NA>                3   \n",
       "2408415   2219661     <NA>                3   \n",
       "2408416   1521021     <NA>                3   \n",
       "2408417   1628856     <NA>                3   \n",
       "2408418   2194520     <NA>                3   \n",
       "\n",
       "                                   session_id          event_created_at  \\\n",
       "0        83889ed2-2adc-4b9a-af5d-154f6998e778 2021-06-17 17:30:00+00:00   \n",
       "1        7a3fc3f2-e84f-44fe-8876-eff76741f7a3 2020-08-07 08:41:00+00:00   \n",
       "2        13d9b2fb-eee1-43fd-965c-267b38dd7125 2021-02-15 18:48:00+00:00   \n",
       "3        96f1d44e-9621-463c-954c-d8deb7fffe7f 2022-03-30 10:56:00+00:00   \n",
       "4        d09dce10-a7cb-47d3-a9af-44975566fa03 2019-09-05 01:18:00+00:00   \n",
       "...                                       ...                       ...   \n",
       "2408413  6573bb67-f346-4448-b98f-167fbed8bf52 2023-07-07 12:00:00+00:00   \n",
       "2408415  244b19b9-3570-4b0c-bd4d-ca923c157f7f 2020-10-04 17:23:00+00:00   \n",
       "2408416  b1d4e0ed-685b-4365-8933-84817ad9730f 2023-03-17 11:18:00+00:00   \n",
       "2408417  0ce673da-fad8-4f2e-b5e1-e9dc4b8c40a4 2021-12-25 17:57:00+00:00   \n",
       "2408418  70ba1963-7e05-4efb-81b8-4093d75c3178 2019-10-28 13:09:00+00:00   \n",
       "\n",
       "              ip_address           city      state postal_code  browser  \\\n",
       "0          138.143.9.202      São Paulo  São Paulo   02675-031   Chrome   \n",
       "1          85.114.141.79   Santa Isabel  São Paulo   07500-000   Safari   \n",
       "2        169.250.255.132      Mairiporã  São Paulo   07600-000       IE   \n",
       "3         137.25.222.160        Cajamar  São Paulo   07750-000   Chrome   \n",
       "4          161.114.4.174      São Paulo  São Paulo   09581-680   Chrome   \n",
       "...                  ...            ...        ...         ...      ...   \n",
       "2408413     10.29.170.67         London    England          W3   Chrome   \n",
       "2408415    96.30.193.225      Wakefield    England         WF2  Firefox   \n",
       "2408416    113.98.116.93  Droitwich Spa    England         WR9   Safari   \n",
       "2408417   41.128.250.236     Wednesbury    England        WS10   Chrome   \n",
       "2408418    129.131.192.2           York    England        YO24   Chrome   \n",
       "\n",
       "        event_traffic_source      uri event_type  year  month  day        date  \n",
       "0                    Adwords  /cancel     cancel  2021      6   17  2021-06-17  \n",
       "1                    Adwords  /cancel     cancel  2020      8    7  2020-08-07  \n",
       "2                    Adwords  /cancel     cancel  2021      2   15  2021-02-15  \n",
       "3                    Adwords  /cancel     cancel  2022      3   30  2022-03-30  \n",
       "4                      Email  /cancel     cancel  2019      9    5  2019-09-05  \n",
       "...                      ...      ...        ...   ...    ...  ...         ...  \n",
       "2408413              Adwords  /cancel     cancel  2023      7    7  2023-07-07  \n",
       "2408415                Email  /cancel     cancel  2020     10    4  2020-10-04  \n",
       "2408416              YouTube  /cancel     cancel  2023      3   17  2023-03-17  \n",
       "2408417                Email  /cancel     cancel  2021     12   25  2021-12-25  \n",
       "2408418                Email  /cancel     cancel  2019     10   28  2019-10-28  \n",
       "\n",
       "[122387 rows x 17 columns]"
      ]
     },
     "execution_count": 89,
     "metadata": {},
     "output_type": "execute_result"
    }
   ],
   "source": [
    "canceled_data= events[events['event_type']=='cancel']\n",
    "canceled_data"
   ]
  },
  {
   "cell_type": "code",
   "execution_count": null,
   "metadata": {},
   "outputs": [
    {
     "data": {
      "text/plain": [
       "event_id                     0\n",
       "user_id                 122387\n",
       "sequence_number              0\n",
       "session_id                   0\n",
       "event_created_at             0\n",
       "ip_address                   0\n",
       "city                      1141\n",
       "state                        0\n",
       "postal_code                  0\n",
       "browser                      0\n",
       "event_traffic_source         0\n",
       "uri                          0\n",
       "event_type                   0\n",
       "year                         0\n",
       "month                        0\n",
       "day                          0\n",
       "date                         0\n",
       "dtype: int64"
      ]
     },
     "execution_count": 90,
     "metadata": {},
     "output_type": "execute_result"
    }
   ],
   "source": [
    "canceled_data.isnull().sum()"
   ]
  },
  {
   "cell_type": "code",
   "execution_count": null,
   "metadata": {},
   "outputs": [
    {
     "data": {
      "text/html": [
       "<div>\n",
       "<style scoped>\n",
       "    .dataframe tbody tr th:only-of-type {\n",
       "        vertical-align: middle;\n",
       "    }\n",
       "\n",
       "    .dataframe tbody tr th {\n",
       "        vertical-align: top;\n",
       "    }\n",
       "\n",
       "    .dataframe thead th {\n",
       "        text-align: right;\n",
       "    }\n",
       "</style>\n",
       "<table border=\"1\" class=\"dataframe\">\n",
       "  <thead>\n",
       "    <tr style=\"text-align: right;\">\n",
       "      <th></th>\n",
       "      <th>event_id</th>\n",
       "      <th>user_id</th>\n",
       "      <th>sequence_number</th>\n",
       "      <th>session_id</th>\n",
       "      <th>event_created_at</th>\n",
       "      <th>ip_address</th>\n",
       "      <th>city</th>\n",
       "      <th>state</th>\n",
       "      <th>postal_code</th>\n",
       "      <th>browser</th>\n",
       "      <th>event_traffic_source</th>\n",
       "      <th>uri</th>\n",
       "      <th>event_type</th>\n",
       "      <th>year</th>\n",
       "      <th>month</th>\n",
       "      <th>day</th>\n",
       "      <th>date</th>\n",
       "    </tr>\n",
       "  </thead>\n",
       "  <tbody>\n",
       "  </tbody>\n",
       "</table>\n",
       "</div>"
      ],
      "text/plain": [
       "Empty DataFrame\n",
       "Columns: [event_id, user_id, sequence_number, session_id, event_created_at, ip_address, city, state, postal_code, browser, event_traffic_source, uri, event_type, year, month, day, date]\n",
       "Index: []"
      ]
     },
     "execution_count": 91,
     "metadata": {},
     "output_type": "execute_result"
    }
   ],
   "source": [
    "canceled_data[canceled_data['user_id'].notnull()]"
   ]
  },
  {
   "cell_type": "markdown",
   "metadata": {},
   "source": [
    "- cancel되면 id 널값으로 바뀜"
   ]
  },
  {
   "cell_type": "code",
   "execution_count": null,
   "metadata": {},
   "outputs": [
    {
     "data": {
      "text/html": [
       "<div>\n",
       "<style scoped>\n",
       "    .dataframe tbody tr th:only-of-type {\n",
       "        vertical-align: middle;\n",
       "    }\n",
       "\n",
       "    .dataframe tbody tr th {\n",
       "        vertical-align: top;\n",
       "    }\n",
       "\n",
       "    .dataframe thead th {\n",
       "        text-align: right;\n",
       "    }\n",
       "</style>\n",
       "<table border=\"1\" class=\"dataframe\">\n",
       "  <thead>\n",
       "    <tr style=\"text-align: right;\">\n",
       "      <th></th>\n",
       "      <th>event_id</th>\n",
       "      <th>user_id</th>\n",
       "      <th>sequence_number</th>\n",
       "      <th>session_id</th>\n",
       "      <th>event_created_at</th>\n",
       "      <th>ip_address</th>\n",
       "      <th>city</th>\n",
       "      <th>state</th>\n",
       "      <th>postal_code</th>\n",
       "      <th>browser</th>\n",
       "      <th>event_traffic_source</th>\n",
       "      <th>uri</th>\n",
       "      <th>event_type</th>\n",
       "      <th>year</th>\n",
       "      <th>month</th>\n",
       "      <th>day</th>\n",
       "      <th>date</th>\n",
       "    </tr>\n",
       "  </thead>\n",
       "  <tbody>\n",
       "    <tr>\n",
       "      <th>34285</th>\n",
       "      <td>796443</td>\n",
       "      <td>60965</td>\n",
       "      <td>1</td>\n",
       "      <td>6f04e9b8-eb39-4e45-945f-9a3e4c450de3</td>\n",
       "      <td>2021-07-22 01:38:19+00:00</td>\n",
       "      <td>153.110.10.253</td>\n",
       "      <td>Haines City</td>\n",
       "      <td>Florida</td>\n",
       "      <td>33844</td>\n",
       "      <td>Chrome</td>\n",
       "      <td>Adwords</td>\n",
       "      <td>/department/men/category/fashionhoodies&amp;sweats...</td>\n",
       "      <td>department</td>\n",
       "      <td>2021</td>\n",
       "      <td>7</td>\n",
       "      <td>22</td>\n",
       "      <td>2021-07-22</td>\n",
       "    </tr>\n",
       "    <tr>\n",
       "      <th>1333648</th>\n",
       "      <td>796444</td>\n",
       "      <td>60965</td>\n",
       "      <td>2</td>\n",
       "      <td>6f04e9b8-eb39-4e45-945f-9a3e4c450de3</td>\n",
       "      <td>2021-07-22 01:38:48+00:00</td>\n",
       "      <td>153.110.10.253</td>\n",
       "      <td>Haines City</td>\n",
       "      <td>Florida</td>\n",
       "      <td>33844</td>\n",
       "      <td>Chrome</td>\n",
       "      <td>Adwords</td>\n",
       "      <td>/product/17268</td>\n",
       "      <td>product</td>\n",
       "      <td>2021</td>\n",
       "      <td>7</td>\n",
       "      <td>22</td>\n",
       "      <td>2021-07-22</td>\n",
       "    </tr>\n",
       "    <tr>\n",
       "      <th>1369301</th>\n",
       "      <td>796445</td>\n",
       "      <td>60965</td>\n",
       "      <td>3</td>\n",
       "      <td>6f04e9b8-eb39-4e45-945f-9a3e4c450de3</td>\n",
       "      <td>2021-07-22 01:41:01+00:00</td>\n",
       "      <td>153.110.10.253</td>\n",
       "      <td>Haines City</td>\n",
       "      <td>Florida</td>\n",
       "      <td>33844</td>\n",
       "      <td>Chrome</td>\n",
       "      <td>Adwords</td>\n",
       "      <td>/cart</td>\n",
       "      <td>cart</td>\n",
       "      <td>2021</td>\n",
       "      <td>7</td>\n",
       "      <td>22</td>\n",
       "      <td>2021-07-22</td>\n",
       "    </tr>\n",
       "    <tr>\n",
       "      <th>2292668</th>\n",
       "      <td>796446</td>\n",
       "      <td>60965</td>\n",
       "      <td>4</td>\n",
       "      <td>6f04e9b8-eb39-4e45-945f-9a3e4c450de3</td>\n",
       "      <td>2021-07-22 01:41:07+00:00</td>\n",
       "      <td>153.110.10.253</td>\n",
       "      <td>Haines City</td>\n",
       "      <td>Florida</td>\n",
       "      <td>33844</td>\n",
       "      <td>Chrome</td>\n",
       "      <td>Adwords</td>\n",
       "      <td>/department/men/category/fashionhoodies&amp;sweats...</td>\n",
       "      <td>department</td>\n",
       "      <td>2021</td>\n",
       "      <td>7</td>\n",
       "      <td>22</td>\n",
       "      <td>2021-07-22</td>\n",
       "    </tr>\n",
       "    <tr>\n",
       "      <th>464370</th>\n",
       "      <td>796447</td>\n",
       "      <td>60965</td>\n",
       "      <td>5</td>\n",
       "      <td>6f04e9b8-eb39-4e45-945f-9a3e4c450de3</td>\n",
       "      <td>2021-07-22 01:41:38+00:00</td>\n",
       "      <td>153.110.10.253</td>\n",
       "      <td>Haines City</td>\n",
       "      <td>Florida</td>\n",
       "      <td>33844</td>\n",
       "      <td>Chrome</td>\n",
       "      <td>Adwords</td>\n",
       "      <td>/product/17268</td>\n",
       "      <td>product</td>\n",
       "      <td>2021</td>\n",
       "      <td>7</td>\n",
       "      <td>22</td>\n",
       "      <td>2021-07-22</td>\n",
       "    </tr>\n",
       "  </tbody>\n",
       "</table>\n",
       "</div>"
      ],
      "text/plain": [
       "         event_id  user_id  sequence_number  \\\n",
       "34285      796443    60965                1   \n",
       "1333648    796444    60965                2   \n",
       "1369301    796445    60965                3   \n",
       "2292668    796446    60965                4   \n",
       "464370     796447    60965                5   \n",
       "\n",
       "                                   session_id          event_created_at  \\\n",
       "34285    6f04e9b8-eb39-4e45-945f-9a3e4c450de3 2021-07-22 01:38:19+00:00   \n",
       "1333648  6f04e9b8-eb39-4e45-945f-9a3e4c450de3 2021-07-22 01:38:48+00:00   \n",
       "1369301  6f04e9b8-eb39-4e45-945f-9a3e4c450de3 2021-07-22 01:41:01+00:00   \n",
       "2292668  6f04e9b8-eb39-4e45-945f-9a3e4c450de3 2021-07-22 01:41:07+00:00   \n",
       "464370   6f04e9b8-eb39-4e45-945f-9a3e4c450de3 2021-07-22 01:41:38+00:00   \n",
       "\n",
       "             ip_address         city    state postal_code browser  \\\n",
       "34285    153.110.10.253  Haines City  Florida       33844  Chrome   \n",
       "1333648  153.110.10.253  Haines City  Florida       33844  Chrome   \n",
       "1369301  153.110.10.253  Haines City  Florida       33844  Chrome   \n",
       "2292668  153.110.10.253  Haines City  Florida       33844  Chrome   \n",
       "464370   153.110.10.253  Haines City  Florida       33844  Chrome   \n",
       "\n",
       "        event_traffic_source  \\\n",
       "34285                Adwords   \n",
       "1333648              Adwords   \n",
       "1369301              Adwords   \n",
       "2292668              Adwords   \n",
       "464370               Adwords   \n",
       "\n",
       "                                                       uri  event_type  year  \\\n",
       "34285    /department/men/category/fashionhoodies&sweats...  department  2021   \n",
       "1333648                                     /product/17268     product  2021   \n",
       "1369301                                              /cart        cart  2021   \n",
       "2292668  /department/men/category/fashionhoodies&sweats...  department  2021   \n",
       "464370                                      /product/17268     product  2021   \n",
       "\n",
       "         month  day        date  \n",
       "34285        7   22  2021-07-22  \n",
       "1333648      7   22  2021-07-22  \n",
       "1369301      7   22  2021-07-22  \n",
       "2292668      7   22  2021-07-22  \n",
       "464370       7   22  2021-07-22  "
      ]
     },
     "execution_count": 92,
     "metadata": {},
     "output_type": "execute_result"
    }
   ],
   "source": [
    "events[events['user_id']==60965].sort_values('event_created_at').head()"
   ]
  },
  {
   "cell_type": "code",
   "execution_count": null,
   "metadata": {},
   "outputs": [
    {
     "data": {
      "text/plain": [
       "event_id                      0\n",
       "user_id                 1096789\n",
       "sequence_number               0\n",
       "session_id                    0\n",
       "event_created_at              0\n",
       "ip_address                    0\n",
       "city                      20733\n",
       "state                         0\n",
       "postal_code                   0\n",
       "browser                       0\n",
       "event_traffic_source          0\n",
       "uri                           0\n",
       "event_type                    0\n",
       "year                          0\n",
       "month                         0\n",
       "day                           0\n",
       "date                          0\n",
       "dtype: int64"
      ]
     },
     "execution_count": 93,
     "metadata": {},
     "output_type": "execute_result"
    }
   ],
   "source": [
    "events.isnull().sum()"
   ]
  },
  {
   "cell_type": "code",
   "execution_count": null,
   "metadata": {},
   "outputs": [
    {
     "data": {
      "text/plain": [
       "event_traffic_source\n",
       "Email       996535\n",
       "Adwords     668175\n",
       "Facebook    222658\n",
       "YouTube     221923\n",
       "Organic     111476\n",
       "Name: count, dtype: int64"
      ]
     },
     "execution_count": 94,
     "metadata": {},
     "output_type": "execute_result"
    }
   ],
   "source": [
    "events['event_traffic_source'].value_counts()"
   ]
  },
  {
   "cell_type": "code",
   "execution_count": null,
   "metadata": {},
   "outputs": [
    {
     "data": {
      "text/plain": [
       "event_traffic_source\n",
       "Email       289097\n",
       "Adwords     193591\n",
       "YouTube      64379\n",
       "Facebook     64121\n",
       "Organic      32405\n",
       "Name: count, dtype: int64"
      ]
     },
     "execution_count": 95,
     "metadata": {},
     "output_type": "execute_result"
    }
   ],
   "source": [
    "sequence_1['event_traffic_source'].value_counts()"
   ]
  },
  {
   "cell_type": "code",
   "execution_count": null,
   "metadata": {},
   "outputs": [
    {
     "data": {
      "text/plain": [
       "event_type\n",
       "department    324259\n",
       "product       243892\n",
       "home           75442\n",
       "cancel             0\n",
       "cart               0\n",
       "purchase           0\n",
       "Name: count, dtype: int64"
      ]
     },
     "execution_count": 96,
     "metadata": {},
     "output_type": "execute_result"
    }
   ],
   "source": [
    "sequence_1['event_type'].value_counts()"
   ]
  },
  {
   "cell_type": "code",
   "execution_count": null,
   "metadata": {},
   "outputs": [
    {
     "data": {
      "text/html": [
       "<div>\n",
       "<style scoped>\n",
       "    .dataframe tbody tr th:only-of-type {\n",
       "        vertical-align: middle;\n",
       "    }\n",
       "\n",
       "    .dataframe tbody tr th {\n",
       "        vertical-align: top;\n",
       "    }\n",
       "\n",
       "    .dataframe thead th {\n",
       "        text-align: right;\n",
       "    }\n",
       "</style>\n",
       "<table border=\"1\" class=\"dataframe\">\n",
       "  <thead>\n",
       "    <tr style=\"text-align: right;\">\n",
       "      <th></th>\n",
       "      <th>event_id</th>\n",
       "      <th>user_id</th>\n",
       "      <th>sequence_number</th>\n",
       "      <th>session_id</th>\n",
       "      <th>event_created_at</th>\n",
       "      <th>ip_address</th>\n",
       "      <th>city</th>\n",
       "      <th>state</th>\n",
       "      <th>postal_code</th>\n",
       "      <th>browser</th>\n",
       "      <th>event_traffic_source</th>\n",
       "      <th>uri</th>\n",
       "      <th>event_type</th>\n",
       "      <th>year</th>\n",
       "      <th>month</th>\n",
       "      <th>day</th>\n",
       "      <th>date</th>\n",
       "    </tr>\n",
       "  </thead>\n",
       "  <tbody>\n",
       "    <tr>\n",
       "      <th>7313</th>\n",
       "      <td>1936024</td>\n",
       "      <td>&lt;NA&gt;</td>\n",
       "      <td>1</td>\n",
       "      <td>9bf5eb71-fb00-4df2-b6ef-e7b0e8b5850c</td>\n",
       "      <td>2021-03-23 12:27:00+00:00</td>\n",
       "      <td>16.185.74.32</td>\n",
       "      <td>Sapporo</td>\n",
       "      <td>Hokkaido</td>\n",
       "      <td>002-8054</td>\n",
       "      <td>Chrome</td>\n",
       "      <td>Adwords</td>\n",
       "      <td>/department/men/category/socks/brand/adidas</td>\n",
       "      <td>department</td>\n",
       "      <td>2021</td>\n",
       "      <td>3</td>\n",
       "      <td>23</td>\n",
       "      <td>2021-03-23</td>\n",
       "    </tr>\n",
       "    <tr>\n",
       "      <th>7314</th>\n",
       "      <td>1444961</td>\n",
       "      <td>&lt;NA&gt;</td>\n",
       "      <td>1</td>\n",
       "      <td>d90e644c-9678-41f0-b097-ac5f20247f99</td>\n",
       "      <td>2020-07-16 15:00:00+00:00</td>\n",
       "      <td>64.183.191.162</td>\n",
       "      <td>Sapporo</td>\n",
       "      <td>Hokkaido</td>\n",
       "      <td>005-0041</td>\n",
       "      <td>Safari</td>\n",
       "      <td>Adwords</td>\n",
       "      <td>/department/men/category/sweaters/brand/retrofit</td>\n",
       "      <td>department</td>\n",
       "      <td>2020</td>\n",
       "      <td>7</td>\n",
       "      <td>16</td>\n",
       "      <td>2020-07-16</td>\n",
       "    </tr>\n",
       "    <tr>\n",
       "      <th>7315</th>\n",
       "      <td>1342526</td>\n",
       "      <td>&lt;NA&gt;</td>\n",
       "      <td>1</td>\n",
       "      <td>c9b3093d-0fed-4d5b-9db1-b99723b3a27d</td>\n",
       "      <td>2022-03-14 15:40:00+00:00</td>\n",
       "      <td>204.107.71.223</td>\n",
       "      <td>Sapporo</td>\n",
       "      <td>Hokkaido</td>\n",
       "      <td>007-0890</td>\n",
       "      <td>IE</td>\n",
       "      <td>Email</td>\n",
       "      <td>/department/women/category/jumpsuits&amp;rompers/b...</td>\n",
       "      <td>department</td>\n",
       "      <td>2022</td>\n",
       "      <td>3</td>\n",
       "      <td>14</td>\n",
       "      <td>2022-03-14</td>\n",
       "    </tr>\n",
       "    <tr>\n",
       "      <th>7319</th>\n",
       "      <td>2178706</td>\n",
       "      <td>&lt;NA&gt;</td>\n",
       "      <td>1</td>\n",
       "      <td>206bc20c-a07f-4940-ae07-63111ff1daae</td>\n",
       "      <td>2020-11-22 07:56:00+00:00</td>\n",
       "      <td>92.169.83.198</td>\n",
       "      <td>São Paulo</td>\n",
       "      <td>São Paulo</td>\n",
       "      <td>02675-031</td>\n",
       "      <td>Chrome</td>\n",
       "      <td>Adwords</td>\n",
       "      <td>/department/women/category/shorts/brand/whatgo...</td>\n",
       "      <td>department</td>\n",
       "      <td>2020</td>\n",
       "      <td>11</td>\n",
       "      <td>22</td>\n",
       "      <td>2020-11-22</td>\n",
       "    </tr>\n",
       "    <tr>\n",
       "      <th>7320</th>\n",
       "      <td>1911089</td>\n",
       "      <td>&lt;NA&gt;</td>\n",
       "      <td>1</td>\n",
       "      <td>a2ea8374-ba91-418e-b652-2422e4b8d9e5</td>\n",
       "      <td>2021-05-22 13:04:00+00:00</td>\n",
       "      <td>6.115.121.104</td>\n",
       "      <td>São Paulo</td>\n",
       "      <td>São Paulo</td>\n",
       "      <td>02675-031</td>\n",
       "      <td>Other</td>\n",
       "      <td>Email</td>\n",
       "      <td>/department/men/category/jeans/brand/buffaloby...</td>\n",
       "      <td>department</td>\n",
       "      <td>2021</td>\n",
       "      <td>5</td>\n",
       "      <td>22</td>\n",
       "      <td>2021-05-22</td>\n",
       "    </tr>\n",
       "    <tr>\n",
       "      <th>...</th>\n",
       "      <td>...</td>\n",
       "      <td>...</td>\n",
       "      <td>...</td>\n",
       "      <td>...</td>\n",
       "      <td>...</td>\n",
       "      <td>...</td>\n",
       "      <td>...</td>\n",
       "      <td>...</td>\n",
       "      <td>...</td>\n",
       "      <td>...</td>\n",
       "      <td>...</td>\n",
       "      <td>...</td>\n",
       "      <td>...</td>\n",
       "      <td>...</td>\n",
       "      <td>...</td>\n",
       "      <td>...</td>\n",
       "      <td>...</td>\n",
       "    </tr>\n",
       "    <tr>\n",
       "      <th>2430026</th>\n",
       "      <td>2115918</td>\n",
       "      <td>&lt;NA&gt;</td>\n",
       "      <td>1</td>\n",
       "      <td>1e94ef15-222b-43bb-bfdc-11325c6f540a</td>\n",
       "      <td>2023-08-26 18:15:00+00:00</td>\n",
       "      <td>216.11.127.57</td>\n",
       "      <td>Lichfield</td>\n",
       "      <td>England</td>\n",
       "      <td>WS13</td>\n",
       "      <td>Safari</td>\n",
       "      <td>Email</td>\n",
       "      <td>/product/25578</td>\n",
       "      <td>product</td>\n",
       "      <td>2023</td>\n",
       "      <td>8</td>\n",
       "      <td>26</td>\n",
       "      <td>2023-08-26</td>\n",
       "    </tr>\n",
       "    <tr>\n",
       "      <th>2430030</th>\n",
       "      <td>1596503</td>\n",
       "      <td>&lt;NA&gt;</td>\n",
       "      <td>1</td>\n",
       "      <td>d0180eff-9980-4081-b482-29e113d53ca0</td>\n",
       "      <td>2019-06-21 13:43:00+00:00</td>\n",
       "      <td>137.226.210.230</td>\n",
       "      <td>Burntwood</td>\n",
       "      <td>England</td>\n",
       "      <td>WS7</td>\n",
       "      <td>Chrome</td>\n",
       "      <td>Email</td>\n",
       "      <td>/product/22617</td>\n",
       "      <td>product</td>\n",
       "      <td>2019</td>\n",
       "      <td>6</td>\n",
       "      <td>21</td>\n",
       "      <td>2019-06-21</td>\n",
       "    </tr>\n",
       "    <tr>\n",
       "      <th>2430032</th>\n",
       "      <td>2161867</td>\n",
       "      <td>&lt;NA&gt;</td>\n",
       "      <td>1</td>\n",
       "      <td>bfb0274e-ceff-458f-a4d6-f9453a4fc72c</td>\n",
       "      <td>2020-07-16 16:13:00+00:00</td>\n",
       "      <td>46.142.185.233</td>\n",
       "      <td>Walsall</td>\n",
       "      <td>England</td>\n",
       "      <td>WS9</td>\n",
       "      <td>Chrome</td>\n",
       "      <td>Email</td>\n",
       "      <td>/product/13702</td>\n",
       "      <td>product</td>\n",
       "      <td>2020</td>\n",
       "      <td>7</td>\n",
       "      <td>16</td>\n",
       "      <td>2020-07-16</td>\n",
       "    </tr>\n",
       "    <tr>\n",
       "      <th>2430033</th>\n",
       "      <td>1396534</td>\n",
       "      <td>&lt;NA&gt;</td>\n",
       "      <td>1</td>\n",
       "      <td>bffdad64-b636-4f66-a574-0df70f87d790</td>\n",
       "      <td>2023-03-18 13:49:00+00:00</td>\n",
       "      <td>215.184.4.247</td>\n",
       "      <td>Wolverhampton</td>\n",
       "      <td>England</td>\n",
       "      <td>WV3</td>\n",
       "      <td>Chrome</td>\n",
       "      <td>Email</td>\n",
       "      <td>/product/12953</td>\n",
       "      <td>product</td>\n",
       "      <td>2023</td>\n",
       "      <td>3</td>\n",
       "      <td>18</td>\n",
       "      <td>2023-03-18</td>\n",
       "    </tr>\n",
       "    <tr>\n",
       "      <th>2430034</th>\n",
       "      <td>1704557</td>\n",
       "      <td>&lt;NA&gt;</td>\n",
       "      <td>1</td>\n",
       "      <td>81b92fca-427b-4d2d-a7d1-de6a73c116d4</td>\n",
       "      <td>2023-08-24 04:01:00+00:00</td>\n",
       "      <td>213.147.240.3</td>\n",
       "      <td>Wolverhampton</td>\n",
       "      <td>England</td>\n",
       "      <td>WV4</td>\n",
       "      <td>Chrome</td>\n",
       "      <td>Adwords</td>\n",
       "      <td>/product/25985</td>\n",
       "      <td>product</td>\n",
       "      <td>2023</td>\n",
       "      <td>8</td>\n",
       "      <td>24</td>\n",
       "      <td>2023-08-24</td>\n",
       "    </tr>\n",
       "  </tbody>\n",
       "</table>\n",
       "<p>643593 rows × 17 columns</p>\n",
       "</div>"
      ],
      "text/plain": [
       "         event_id  user_id  sequence_number  \\\n",
       "7313      1936024     <NA>                1   \n",
       "7314      1444961     <NA>                1   \n",
       "7315      1342526     <NA>                1   \n",
       "7319      2178706     <NA>                1   \n",
       "7320      1911089     <NA>                1   \n",
       "...           ...      ...              ...   \n",
       "2430026   2115918     <NA>                1   \n",
       "2430030   1596503     <NA>                1   \n",
       "2430032   2161867     <NA>                1   \n",
       "2430033   1396534     <NA>                1   \n",
       "2430034   1704557     <NA>                1   \n",
       "\n",
       "                                   session_id          event_created_at  \\\n",
       "7313     9bf5eb71-fb00-4df2-b6ef-e7b0e8b5850c 2021-03-23 12:27:00+00:00   \n",
       "7314     d90e644c-9678-41f0-b097-ac5f20247f99 2020-07-16 15:00:00+00:00   \n",
       "7315     c9b3093d-0fed-4d5b-9db1-b99723b3a27d 2022-03-14 15:40:00+00:00   \n",
       "7319     206bc20c-a07f-4940-ae07-63111ff1daae 2020-11-22 07:56:00+00:00   \n",
       "7320     a2ea8374-ba91-418e-b652-2422e4b8d9e5 2021-05-22 13:04:00+00:00   \n",
       "...                                       ...                       ...   \n",
       "2430026  1e94ef15-222b-43bb-bfdc-11325c6f540a 2023-08-26 18:15:00+00:00   \n",
       "2430030  d0180eff-9980-4081-b482-29e113d53ca0 2019-06-21 13:43:00+00:00   \n",
       "2430032  bfb0274e-ceff-458f-a4d6-f9453a4fc72c 2020-07-16 16:13:00+00:00   \n",
       "2430033  bffdad64-b636-4f66-a574-0df70f87d790 2023-03-18 13:49:00+00:00   \n",
       "2430034  81b92fca-427b-4d2d-a7d1-de6a73c116d4 2023-08-24 04:01:00+00:00   \n",
       "\n",
       "              ip_address           city      state postal_code browser  \\\n",
       "7313        16.185.74.32        Sapporo   Hokkaido    002-8054  Chrome   \n",
       "7314      64.183.191.162        Sapporo   Hokkaido    005-0041  Safari   \n",
       "7315      204.107.71.223        Sapporo   Hokkaido    007-0890      IE   \n",
       "7319       92.169.83.198      São Paulo  São Paulo   02675-031  Chrome   \n",
       "7320       6.115.121.104      São Paulo  São Paulo   02675-031   Other   \n",
       "...                  ...            ...        ...         ...     ...   \n",
       "2430026    216.11.127.57      Lichfield    England        WS13  Safari   \n",
       "2430030  137.226.210.230      Burntwood    England         WS7  Chrome   \n",
       "2430032   46.142.185.233        Walsall    England         WS9  Chrome   \n",
       "2430033    215.184.4.247  Wolverhampton    England         WV3  Chrome   \n",
       "2430034    213.147.240.3  Wolverhampton    England         WV4  Chrome   \n",
       "\n",
       "        event_traffic_source  \\\n",
       "7313                 Adwords   \n",
       "7314                 Adwords   \n",
       "7315                   Email   \n",
       "7319                 Adwords   \n",
       "7320                   Email   \n",
       "...                      ...   \n",
       "2430026                Email   \n",
       "2430030                Email   \n",
       "2430032                Email   \n",
       "2430033                Email   \n",
       "2430034              Adwords   \n",
       "\n",
       "                                                       uri  event_type  year  \\\n",
       "7313           /department/men/category/socks/brand/adidas  department  2021   \n",
       "7314      /department/men/category/sweaters/brand/retrofit  department  2020   \n",
       "7315     /department/women/category/jumpsuits&rompers/b...  department  2022   \n",
       "7319     /department/women/category/shorts/brand/whatgo...  department  2020   \n",
       "7320     /department/men/category/jeans/brand/buffaloby...  department  2021   \n",
       "...                                                    ...         ...   ...   \n",
       "2430026                                     /product/25578     product  2023   \n",
       "2430030                                     /product/22617     product  2019   \n",
       "2430032                                     /product/13702     product  2020   \n",
       "2430033                                     /product/12953     product  2023   \n",
       "2430034                                     /product/25985     product  2023   \n",
       "\n",
       "         month  day        date  \n",
       "7313         3   23  2021-03-23  \n",
       "7314         7   16  2020-07-16  \n",
       "7315         3   14  2022-03-14  \n",
       "7319        11   22  2020-11-22  \n",
       "7320         5   22  2021-05-22  \n",
       "...        ...  ...         ...  \n",
       "2430026      8   26  2023-08-26  \n",
       "2430030      6   21  2019-06-21  \n",
       "2430032      7   16  2020-07-16  \n",
       "2430033      3   18  2023-03-18  \n",
       "2430034      8   24  2023-08-24  \n",
       "\n",
       "[643593 rows x 17 columns]"
      ]
     },
     "execution_count": 97,
     "metadata": {},
     "output_type": "execute_result"
    }
   ],
   "source": [
    "sequence_1"
   ]
  },
  {
   "cell_type": "code",
   "execution_count": null,
   "metadata": {},
   "outputs": [
    {
     "name": "stderr",
     "output_type": "stream",
     "text": [
      "/var/folders/qv/tqmmyp0s5dj996k_tcvqmtqm0000gn/T/ipykernel_3187/862927183.py:1: FutureWarning:\n",
      "\n",
      "The default of observed=False is deprecated and will be changed to True in a future version of pandas. Pass observed=False to retain current behavior or observed=True to adopt the future default and silence this warning.\n",
      "\n"
     ]
    },
    {
     "data": {
      "text/plain": [
       "event_traffic_source  event_type\n",
       "Adwords               cancel             0\n",
       "                      cart               0\n",
       "                      department     97462\n",
       "                      home           22643\n",
       "                      product        73486\n",
       "                      purchase           0\n",
       "Email                 cancel             0\n",
       "                      cart               0\n",
       "                      department    145733\n",
       "                      home           33986\n",
       "                      product       109378\n",
       "                      purchase           0\n",
       "Facebook              cancel             0\n",
       "                      cart               0\n",
       "                      department     32199\n",
       "                      home            7594\n",
       "                      product        24328\n",
       "                      purchase           0\n",
       "Organic               cancel             0\n",
       "                      cart               0\n",
       "                      department     16376\n",
       "                      home            3775\n",
       "                      product        12254\n",
       "                      purchase           0\n",
       "YouTube               cancel             0\n",
       "                      cart               0\n",
       "                      department     32489\n",
       "                      home            7444\n",
       "                      product        24446\n",
       "                      purchase           0\n",
       "dtype: int64"
      ]
     },
     "execution_count": 98,
     "metadata": {},
     "output_type": "execute_result"
    }
   ],
   "source": [
    "event_counts = sequence_1.groupby(['event_traffic_source', 'event_type']).size()\n",
    "event_counts"
   ]
  },
  {
   "cell_type": "markdown",
   "metadata": {},
   "source": [
    "## 트래픽 별 퍼널 분석\n",
    "\n",
    "### Organic"
   ]
  },
  {
   "cell_type": "code",
   "execution_count": null,
   "metadata": {},
   "outputs": [
    {
     "data": {
      "text/html": [
       "<div>\n",
       "<style scoped>\n",
       "    .dataframe tbody tr th:only-of-type {\n",
       "        vertical-align: middle;\n",
       "    }\n",
       "\n",
       "    .dataframe tbody tr th {\n",
       "        vertical-align: top;\n",
       "    }\n",
       "\n",
       "    .dataframe thead th {\n",
       "        text-align: right;\n",
       "    }\n",
       "</style>\n",
       "<table border=\"1\" class=\"dataframe\">\n",
       "  <thead>\n",
       "    <tr style=\"text-align: right;\">\n",
       "      <th></th>\n",
       "      <th>event_id</th>\n",
       "      <th>user_id</th>\n",
       "      <th>sequence_number</th>\n",
       "      <th>session_id</th>\n",
       "      <th>event_created_at</th>\n",
       "      <th>ip_address</th>\n",
       "      <th>city</th>\n",
       "      <th>state</th>\n",
       "      <th>postal_code</th>\n",
       "      <th>browser</th>\n",
       "      <th>event_traffic_source</th>\n",
       "      <th>uri</th>\n",
       "      <th>event_type</th>\n",
       "      <th>year</th>\n",
       "      <th>month</th>\n",
       "      <th>day</th>\n",
       "      <th>date</th>\n",
       "    </tr>\n",
       "  </thead>\n",
       "  <tbody>\n",
       "    <tr>\n",
       "      <th>40</th>\n",
       "      <td>1714580</td>\n",
       "      <td>&lt;NA&gt;</td>\n",
       "      <td>3</td>\n",
       "      <td>d0269c4a-21ef-487c-abab-e8f8499fed67</td>\n",
       "      <td>2019-10-23 03:27:00+00:00</td>\n",
       "      <td>48.216.35.167</td>\n",
       "      <td>Handan</td>\n",
       "      <td>Liaoning</td>\n",
       "      <td>110055</td>\n",
       "      <td>Safari</td>\n",
       "      <td>Organic</td>\n",
       "      <td>/cancel</td>\n",
       "      <td>cancel</td>\n",
       "      <td>2019</td>\n",
       "      <td>10</td>\n",
       "      <td>23</td>\n",
       "      <td>2019-10-23</td>\n",
       "    </tr>\n",
       "    <tr>\n",
       "      <th>73</th>\n",
       "      <td>2159136</td>\n",
       "      <td>&lt;NA&gt;</td>\n",
       "      <td>3</td>\n",
       "      <td>de1bb5f6-e079-4331-ab73-e1264ac8083c</td>\n",
       "      <td>2022-01-30 17:36:00+00:00</td>\n",
       "      <td>197.219.61.81</td>\n",
       "      <td>Colonie</td>\n",
       "      <td>New York</td>\n",
       "      <td>12205</td>\n",
       "      <td>Firefox</td>\n",
       "      <td>Organic</td>\n",
       "      <td>/cancel</td>\n",
       "      <td>cancel</td>\n",
       "      <td>2022</td>\n",
       "      <td>1</td>\n",
       "      <td>30</td>\n",
       "      <td>2022-01-30</td>\n",
       "    </tr>\n",
       "    <tr>\n",
       "      <th>102</th>\n",
       "      <td>1966412</td>\n",
       "      <td>&lt;NA&gt;</td>\n",
       "      <td>3</td>\n",
       "      <td>87ab6204-0282-47cc-baf6-8a7d845450fc</td>\n",
       "      <td>2023-05-06 05:46:00+00:00</td>\n",
       "      <td>45.101.82.69</td>\n",
       "      <td>Wuhan</td>\n",
       "      <td>Inner Mongolia Autonomous Region</td>\n",
       "      <td>14031</td>\n",
       "      <td>Chrome</td>\n",
       "      <td>Organic</td>\n",
       "      <td>/cancel</td>\n",
       "      <td>cancel</td>\n",
       "      <td>2023</td>\n",
       "      <td>5</td>\n",
       "      <td>6</td>\n",
       "      <td>2023-05-06</td>\n",
       "    </tr>\n",
       "    <tr>\n",
       "      <th>126</th>\n",
       "      <td>2377749</td>\n",
       "      <td>&lt;NA&gt;</td>\n",
       "      <td>3</td>\n",
       "      <td>062cb038-fab0-4bc9-a691-cc906857fdac</td>\n",
       "      <td>2021-07-07 04:12:00+00:00</td>\n",
       "      <td>150.85.175.222</td>\n",
       "      <td>Zhoukou</td>\n",
       "      <td>Heilongjiang</td>\n",
       "      <td>157199</td>\n",
       "      <td>Chrome</td>\n",
       "      <td>Organic</td>\n",
       "      <td>/cancel</td>\n",
       "      <td>cancel</td>\n",
       "      <td>2021</td>\n",
       "      <td>7</td>\n",
       "      <td>7</td>\n",
       "      <td>2021-07-07</td>\n",
       "    </tr>\n",
       "    <tr>\n",
       "      <th>139</th>\n",
       "      <td>1629377</td>\n",
       "      <td>&lt;NA&gt;</td>\n",
       "      <td>3</td>\n",
       "      <td>27662e07-2021-4a4d-8533-369619902ef1</td>\n",
       "      <td>2019-10-11 01:04:00+00:00</td>\n",
       "      <td>36.250.44.28</td>\n",
       "      <td>Boituva</td>\n",
       "      <td>São Paulo</td>\n",
       "      <td>18550-000</td>\n",
       "      <td>Safari</td>\n",
       "      <td>Organic</td>\n",
       "      <td>/cancel</td>\n",
       "      <td>cancel</td>\n",
       "      <td>2019</td>\n",
       "      <td>10</td>\n",
       "      <td>11</td>\n",
       "      <td>2019-10-11</td>\n",
       "    </tr>\n",
       "  </tbody>\n",
       "</table>\n",
       "</div>"
      ],
      "text/plain": [
       "     event_id  user_id  sequence_number                            session_id  \\\n",
       "40    1714580     <NA>                3  d0269c4a-21ef-487c-abab-e8f8499fed67   \n",
       "73    2159136     <NA>                3  de1bb5f6-e079-4331-ab73-e1264ac8083c   \n",
       "102   1966412     <NA>                3  87ab6204-0282-47cc-baf6-8a7d845450fc   \n",
       "126   2377749     <NA>                3  062cb038-fab0-4bc9-a691-cc906857fdac   \n",
       "139   1629377     <NA>                3  27662e07-2021-4a4d-8533-369619902ef1   \n",
       "\n",
       "             event_created_at      ip_address     city  \\\n",
       "40  2019-10-23 03:27:00+00:00   48.216.35.167   Handan   \n",
       "73  2022-01-30 17:36:00+00:00   197.219.61.81  Colonie   \n",
       "102 2023-05-06 05:46:00+00:00    45.101.82.69    Wuhan   \n",
       "126 2021-07-07 04:12:00+00:00  150.85.175.222  Zhoukou   \n",
       "139 2019-10-11 01:04:00+00:00    36.250.44.28  Boituva   \n",
       "\n",
       "                                state postal_code  browser  \\\n",
       "40                           Liaoning      110055   Safari   \n",
       "73                           New York       12205  Firefox   \n",
       "102  Inner Mongolia Autonomous Region       14031   Chrome   \n",
       "126                      Heilongjiang      157199   Chrome   \n",
       "139                         São Paulo   18550-000   Safari   \n",
       "\n",
       "    event_traffic_source      uri event_type  year  month  day        date  \n",
       "40               Organic  /cancel     cancel  2019     10   23  2019-10-23  \n",
       "73               Organic  /cancel     cancel  2022      1   30  2022-01-30  \n",
       "102              Organic  /cancel     cancel  2023      5    6  2023-05-06  \n",
       "126              Organic  /cancel     cancel  2021      7    7  2021-07-07  \n",
       "139              Organic  /cancel     cancel  2019     10   11  2019-10-11  "
      ]
     },
     "execution_count": 111,
     "metadata": {},
     "output_type": "execute_result"
    }
   ],
   "source": [
    "events_organic = events[events['event_traffic_source']=='Organic']\n",
    "events_organic.head()"
   ]
  },
  {
   "cell_type": "code",
   "execution_count": null,
   "metadata": {},
   "outputs": [
    {
     "data": {
      "text/html": [
       "<div>\n",
       "<style scoped>\n",
       "    .dataframe tbody tr th:only-of-type {\n",
       "        vertical-align: middle;\n",
       "    }\n",
       "\n",
       "    .dataframe tbody tr th {\n",
       "        vertical-align: top;\n",
       "    }\n",
       "\n",
       "    .dataframe thead th {\n",
       "        text-align: right;\n",
       "    }\n",
       "</style>\n",
       "<table border=\"1\" class=\"dataframe\">\n",
       "  <thead>\n",
       "    <tr style=\"text-align: right;\">\n",
       "      <th></th>\n",
       "      <th>event_id</th>\n",
       "      <th>user_id</th>\n",
       "      <th>sequence_number</th>\n",
       "      <th>session_id</th>\n",
       "      <th>event_created_at</th>\n",
       "      <th>ip_address</th>\n",
       "      <th>city</th>\n",
       "      <th>state</th>\n",
       "      <th>postal_code</th>\n",
       "      <th>browser</th>\n",
       "      <th>event_traffic_source</th>\n",
       "      <th>uri</th>\n",
       "      <th>event_type</th>\n",
       "      <th>year</th>\n",
       "      <th>month</th>\n",
       "      <th>day</th>\n",
       "      <th>date</th>\n",
       "    </tr>\n",
       "  </thead>\n",
       "  <tbody>\n",
       "    <tr>\n",
       "      <th>7373</th>\n",
       "      <td>1792213</td>\n",
       "      <td>&lt;NA&gt;</td>\n",
       "      <td>1</td>\n",
       "      <td>53ffd09d-20ed-47ff-b771-c7248b8a0dc7</td>\n",
       "      <td>2019-09-09 02:44:00+00:00</td>\n",
       "      <td>21.135.138.244</td>\n",
       "      <td>Changzhi</td>\n",
       "      <td>Beijing</td>\n",
       "      <td>100016</td>\n",
       "      <td>Safari</td>\n",
       "      <td>Organic</td>\n",
       "      <td>/department/women/category/skirts/brand/sutton...</td>\n",
       "      <td>department</td>\n",
       "      <td>2019</td>\n",
       "      <td>9</td>\n",
       "      <td>9</td>\n",
       "      <td>2019-09-09</td>\n",
       "    </tr>\n",
       "    <tr>\n",
       "      <th>7375</th>\n",
       "      <td>1528327</td>\n",
       "      <td>&lt;NA&gt;</td>\n",
       "      <td>1</td>\n",
       "      <td>fbb1576c-7276-420a-b34a-64c043971e36</td>\n",
       "      <td>2023-07-08 05:02:00+00:00</td>\n",
       "      <td>119.1.151.170</td>\n",
       "      <td>Chizhou</td>\n",
       "      <td>Beijing</td>\n",
       "      <td>100017</td>\n",
       "      <td>Firefox</td>\n",
       "      <td>Organic</td>\n",
       "      <td>/department/women/category/plus/brand/ultrafin...</td>\n",
       "      <td>department</td>\n",
       "      <td>2023</td>\n",
       "      <td>7</td>\n",
       "      <td>8</td>\n",
       "      <td>2023-07-08</td>\n",
       "    </tr>\n",
       "    <tr>\n",
       "      <th>7396</th>\n",
       "      <td>2203859</td>\n",
       "      <td>&lt;NA&gt;</td>\n",
       "      <td>1</td>\n",
       "      <td>9c40471e-4fcd-4fe6-88fa-810cedad83e6</td>\n",
       "      <td>2021-04-10 18:06:00+00:00</td>\n",
       "      <td>217.123.243.203</td>\n",
       "      <td>Pingxiang</td>\n",
       "      <td>Beijing</td>\n",
       "      <td>100053</td>\n",
       "      <td>Chrome</td>\n",
       "      <td>Organic</td>\n",
       "      <td>/department/men/category/swim/brand/tyr</td>\n",
       "      <td>department</td>\n",
       "      <td>2021</td>\n",
       "      <td>4</td>\n",
       "      <td>10</td>\n",
       "      <td>2021-04-10</td>\n",
       "    </tr>\n",
       "    <tr>\n",
       "      <th>7414</th>\n",
       "      <td>2139448</td>\n",
       "      <td>&lt;NA&gt;</td>\n",
       "      <td>1</td>\n",
       "      <td>a02e2201-7651-4067-9099-7a55d154fc06</td>\n",
       "      <td>2020-09-19 13:16:00+00:00</td>\n",
       "      <td>217.76.10.110</td>\n",
       "      <td>Shanghai</td>\n",
       "      <td>Beijing</td>\n",
       "      <td>100074</td>\n",
       "      <td>Chrome</td>\n",
       "      <td>Organic</td>\n",
       "      <td>/department/men/category/shorts/brand/tommyhil...</td>\n",
       "      <td>department</td>\n",
       "      <td>2020</td>\n",
       "      <td>9</td>\n",
       "      <td>19</td>\n",
       "      <td>2020-09-19</td>\n",
       "    </tr>\n",
       "    <tr>\n",
       "      <th>7581</th>\n",
       "      <td>1979655</td>\n",
       "      <td>&lt;NA&gt;</td>\n",
       "      <td>1</td>\n",
       "      <td>28deaffe-cf04-43e3-b2d6-d86e3584b5c7</td>\n",
       "      <td>2020-12-01 13:28:00+00:00</td>\n",
       "      <td>35.208.14.164</td>\n",
       "      <td>Springfield</td>\n",
       "      <td>Massachusetts</td>\n",
       "      <td>1104</td>\n",
       "      <td>Chrome</td>\n",
       "      <td>Organic</td>\n",
       "      <td>/department/women/category/dresses/brand/jax</td>\n",
       "      <td>department</td>\n",
       "      <td>2020</td>\n",
       "      <td>12</td>\n",
       "      <td>1</td>\n",
       "      <td>2020-12-01</td>\n",
       "    </tr>\n",
       "  </tbody>\n",
       "</table>\n",
       "</div>"
      ],
      "text/plain": [
       "      event_id  user_id  sequence_number  \\\n",
       "7373   1792213     <NA>                1   \n",
       "7375   1528327     <NA>                1   \n",
       "7396   2203859     <NA>                1   \n",
       "7414   2139448     <NA>                1   \n",
       "7581   1979655     <NA>                1   \n",
       "\n",
       "                                session_id          event_created_at  \\\n",
       "7373  53ffd09d-20ed-47ff-b771-c7248b8a0dc7 2019-09-09 02:44:00+00:00   \n",
       "7375  fbb1576c-7276-420a-b34a-64c043971e36 2023-07-08 05:02:00+00:00   \n",
       "7396  9c40471e-4fcd-4fe6-88fa-810cedad83e6 2021-04-10 18:06:00+00:00   \n",
       "7414  a02e2201-7651-4067-9099-7a55d154fc06 2020-09-19 13:16:00+00:00   \n",
       "7581  28deaffe-cf04-43e3-b2d6-d86e3584b5c7 2020-12-01 13:28:00+00:00   \n",
       "\n",
       "           ip_address         city          state postal_code  browser  \\\n",
       "7373   21.135.138.244     Changzhi        Beijing      100016   Safari   \n",
       "7375    119.1.151.170      Chizhou        Beijing      100017  Firefox   \n",
       "7396  217.123.243.203    Pingxiang        Beijing      100053   Chrome   \n",
       "7414    217.76.10.110     Shanghai        Beijing      100074   Chrome   \n",
       "7581    35.208.14.164  Springfield  Massachusetts        1104   Chrome   \n",
       "\n",
       "     event_traffic_source                                                uri  \\\n",
       "7373              Organic  /department/women/category/skirts/brand/sutton...   \n",
       "7375              Organic  /department/women/category/plus/brand/ultrafin...   \n",
       "7396              Organic            /department/men/category/swim/brand/tyr   \n",
       "7414              Organic  /department/men/category/shorts/brand/tommyhil...   \n",
       "7581              Organic       /department/women/category/dresses/brand/jax   \n",
       "\n",
       "      event_type  year  month  day        date  \n",
       "7373  department  2019      9    9  2019-09-09  \n",
       "7375  department  2023      7    8  2023-07-08  \n",
       "7396  department  2021      4   10  2021-04-10  \n",
       "7414  department  2020      9   19  2020-09-19  \n",
       "7581  department  2020     12    1  2020-12-01  "
      ]
     },
     "execution_count": 109,
     "metadata": {},
     "output_type": "execute_result"
    }
   ],
   "source": [
    "sequence_1_organic = sequence_1[sequence_1['event_traffic_source']=='Organic']\n",
    "sequence_1_organic.head()"
   ]
  },
  {
   "cell_type": "code",
   "execution_count": null,
   "metadata": {},
   "outputs": [
    {
     "data": {
      "text/plain": [
       "event_type\n",
       "department    16376\n",
       "product       12254\n",
       "home           3775\n",
       "cancel            0\n",
       "cart              0\n",
       "purchase          0\n",
       "Name: count, dtype: int64"
      ]
     },
     "execution_count": 110,
     "metadata": {},
     "output_type": "execute_result"
    }
   ],
   "source": [
    "sequence_1_organic['event_type'].value_counts()"
   ]
  },
  {
   "cell_type": "markdown",
   "metadata": {},
   "source": [
    "#### organic - department로 유입"
   ]
  },
  {
   "cell_type": "code",
   "execution_count": null,
   "metadata": {},
   "outputs": [
    {
     "data": {
      "text/html": [
       "<div>\n",
       "<style scoped>\n",
       "    .dataframe tbody tr th:only-of-type {\n",
       "        vertical-align: middle;\n",
       "    }\n",
       "\n",
       "    .dataframe tbody tr th {\n",
       "        vertical-align: top;\n",
       "    }\n",
       "\n",
       "    .dataframe thead th {\n",
       "        text-align: right;\n",
       "    }\n",
       "</style>\n",
       "<table border=\"1\" class=\"dataframe\">\n",
       "  <thead>\n",
       "    <tr style=\"text-align: right;\">\n",
       "      <th></th>\n",
       "      <th>event_id</th>\n",
       "      <th>user_id</th>\n",
       "      <th>sequence_number</th>\n",
       "      <th>session_id</th>\n",
       "      <th>event_created_at</th>\n",
       "      <th>ip_address</th>\n",
       "      <th>city</th>\n",
       "      <th>state</th>\n",
       "      <th>postal_code</th>\n",
       "      <th>browser</th>\n",
       "      <th>event_traffic_source</th>\n",
       "      <th>uri</th>\n",
       "      <th>event_type</th>\n",
       "      <th>year</th>\n",
       "      <th>month</th>\n",
       "      <th>day</th>\n",
       "      <th>date</th>\n",
       "    </tr>\n",
       "  </thead>\n",
       "  <tbody>\n",
       "    <tr>\n",
       "      <th>1341</th>\n",
       "      <td>852839</td>\n",
       "      <td>65204</td>\n",
       "      <td>9</td>\n",
       "      <td>62c482e3-ab2a-4b3f-9825-15efe6a06719</td>\n",
       "      <td>2021-04-23 07:39:46+00:00</td>\n",
       "      <td>42.213.102.26</td>\n",
       "      <td>Shanghai</td>\n",
       "      <td>Beijing</td>\n",
       "      <td>100070</td>\n",
       "      <td>Chrome</td>\n",
       "      <td>Organic</td>\n",
       "      <td>/cart</td>\n",
       "      <td>cart</td>\n",
       "      <td>2021</td>\n",
       "      <td>4</td>\n",
       "      <td>23</td>\n",
       "      <td>2021-04-23</td>\n",
       "    </tr>\n",
       "    <tr>\n",
       "      <th>1383</th>\n",
       "      <td>640237</td>\n",
       "      <td>48933</td>\n",
       "      <td>6</td>\n",
       "      <td>f98808c7-ada1-4251-912c-6f637cd56acb</td>\n",
       "      <td>2023-04-08 14:47:00+00:00</td>\n",
       "      <td>89.119.139.81</td>\n",
       "      <td>Linxia Hui Autonomous Prefecture</td>\n",
       "      <td>Beijing</td>\n",
       "      <td>100162</td>\n",
       "      <td>Other</td>\n",
       "      <td>Organic</td>\n",
       "      <td>/cart</td>\n",
       "      <td>cart</td>\n",
       "      <td>2023</td>\n",
       "      <td>4</td>\n",
       "      <td>8</td>\n",
       "      <td>2023-04-08</td>\n",
       "    </tr>\n",
       "    <tr>\n",
       "      <th>1388</th>\n",
       "      <td>276399</td>\n",
       "      <td>21151</td>\n",
       "      <td>3</td>\n",
       "      <td>85e7f3c4-c2d3-4797-913c-dcd13d7d9357</td>\n",
       "      <td>2022-02-16 07:08:27+00:00</td>\n",
       "      <td>199.11.146.90</td>\n",
       "      <td>Huaian</td>\n",
       "      <td>Beijing</td>\n",
       "      <td>100165</td>\n",
       "      <td>IE</td>\n",
       "      <td>Organic</td>\n",
       "      <td>/cart</td>\n",
       "      <td>cart</td>\n",
       "      <td>2022</td>\n",
       "      <td>2</td>\n",
       "      <td>16</td>\n",
       "      <td>2022-02-16</td>\n",
       "    </tr>\n",
       "    <tr>\n",
       "      <th>1390</th>\n",
       "      <td>54868</td>\n",
       "      <td>4237</td>\n",
       "      <td>3</td>\n",
       "      <td>fbdb549d-3342-4f2e-aa5f-a27d0e5571e4</td>\n",
       "      <td>2020-09-26 14:15:58+00:00</td>\n",
       "      <td>147.210.164.33</td>\n",
       "      <td>Urumqi</td>\n",
       "      <td>Beijing</td>\n",
       "      <td>100190</td>\n",
       "      <td>Safari</td>\n",
       "      <td>Organic</td>\n",
       "      <td>/cart</td>\n",
       "      <td>cart</td>\n",
       "      <td>2020</td>\n",
       "      <td>9</td>\n",
       "      <td>26</td>\n",
       "      <td>2020-09-26</td>\n",
       "    </tr>\n",
       "    <tr>\n",
       "      <th>1470</th>\n",
       "      <td>1267388</td>\n",
       "      <td>96900</td>\n",
       "      <td>3</td>\n",
       "      <td>6f376e3f-9d6f-456d-bf21-f18984705da0</td>\n",
       "      <td>2023-11-16 06:59:36+00:00</td>\n",
       "      <td>34.84.142.36</td>\n",
       "      <td>Tokyo</td>\n",
       "      <td>Tokyo</td>\n",
       "      <td>108-0072</td>\n",
       "      <td>Chrome</td>\n",
       "      <td>Organic</td>\n",
       "      <td>/cart</td>\n",
       "      <td>cart</td>\n",
       "      <td>2023</td>\n",
       "      <td>11</td>\n",
       "      <td>16</td>\n",
       "      <td>2023-11-16</td>\n",
       "    </tr>\n",
       "    <tr>\n",
       "      <th>...</th>\n",
       "      <td>...</td>\n",
       "      <td>...</td>\n",
       "      <td>...</td>\n",
       "      <td>...</td>\n",
       "      <td>...</td>\n",
       "      <td>...</td>\n",
       "      <td>...</td>\n",
       "      <td>...</td>\n",
       "      <td>...</td>\n",
       "      <td>...</td>\n",
       "      <td>...</td>\n",
       "      <td>...</td>\n",
       "      <td>...</td>\n",
       "      <td>...</td>\n",
       "      <td>...</td>\n",
       "      <td>...</td>\n",
       "      <td>...</td>\n",
       "    </tr>\n",
       "    <tr>\n",
       "      <th>2431839</th>\n",
       "      <td>190674</td>\n",
       "      <td>14691</td>\n",
       "      <td>7</td>\n",
       "      <td>66489ed7-0e23-4346-b0be-57fad89772a4</td>\n",
       "      <td>2021-11-14 11:31:59+00:00</td>\n",
       "      <td>68.37.136.25</td>\n",
       "      <td>Elk Grove</td>\n",
       "      <td>California</td>\n",
       "      <td>95624</td>\n",
       "      <td>Chrome</td>\n",
       "      <td>Organic</td>\n",
       "      <td>/purchase</td>\n",
       "      <td>purchase</td>\n",
       "      <td>2021</td>\n",
       "      <td>11</td>\n",
       "      <td>14</td>\n",
       "      <td>2021-11-14</td>\n",
       "    </tr>\n",
       "    <tr>\n",
       "      <th>2431861</th>\n",
       "      <td>1027049</td>\n",
       "      <td>78482</td>\n",
       "      <td>10</td>\n",
       "      <td>ca0b8aac-1d15-4666-b114-ff820b0e2a41</td>\n",
       "      <td>2023-10-15 05:13:51+00:00</td>\n",
       "      <td>77.250.19.179</td>\n",
       "      <td>São Gabriel</td>\n",
       "      <td>Rio Grande do Sul</td>\n",
       "      <td>97300-000</td>\n",
       "      <td>Safari</td>\n",
       "      <td>Organic</td>\n",
       "      <td>/purchase</td>\n",
       "      <td>purchase</td>\n",
       "      <td>2023</td>\n",
       "      <td>10</td>\n",
       "      <td>15</td>\n",
       "      <td>2023-10-15</td>\n",
       "    </tr>\n",
       "    <tr>\n",
       "      <th>2431910</th>\n",
       "      <td>1138193</td>\n",
       "      <td>87117</td>\n",
       "      <td>13</td>\n",
       "      <td>cac5eb36-b319-4f1e-af20-f7a2f5539916</td>\n",
       "      <td>2023-09-16 07:00:56+00:00</td>\n",
       "      <td>134.40.33.177</td>\n",
       "      <td>Whissendine</td>\n",
       "      <td>England</td>\n",
       "      <td>LE15</td>\n",
       "      <td>Safari</td>\n",
       "      <td>Organic</td>\n",
       "      <td>/purchase</td>\n",
       "      <td>purchase</td>\n",
       "      <td>2023</td>\n",
       "      <td>9</td>\n",
       "      <td>16</td>\n",
       "      <td>2023-09-16</td>\n",
       "    </tr>\n",
       "    <tr>\n",
       "      <th>2431922</th>\n",
       "      <td>430327</td>\n",
       "      <td>32985</td>\n",
       "      <td>7</td>\n",
       "      <td>5deb48c7-60d2-41b9-a4a1-60c27ae5d929</td>\n",
       "      <td>2020-09-28 08:27:00+00:00</td>\n",
       "      <td>141.50.188.45</td>\n",
       "      <td>Tollerton</td>\n",
       "      <td>England</td>\n",
       "      <td>NG12</td>\n",
       "      <td>Chrome</td>\n",
       "      <td>Organic</td>\n",
       "      <td>/purchase</td>\n",
       "      <td>purchase</td>\n",
       "      <td>2020</td>\n",
       "      <td>9</td>\n",
       "      <td>28</td>\n",
       "      <td>2020-09-28</td>\n",
       "    </tr>\n",
       "    <tr>\n",
       "      <th>2431933</th>\n",
       "      <td>1252015</td>\n",
       "      <td>95719</td>\n",
       "      <td>7</td>\n",
       "      <td>ae5b8b9a-a97b-4526-b9ac-cae42f7062d4</td>\n",
       "      <td>2019-05-30 23:37:48+00:00</td>\n",
       "      <td>212.40.12.3</td>\n",
       "      <td>Ashton-under-Lyne</td>\n",
       "      <td>England</td>\n",
       "      <td>OL6</td>\n",
       "      <td>Safari</td>\n",
       "      <td>Organic</td>\n",
       "      <td>/purchase</td>\n",
       "      <td>purchase</td>\n",
       "      <td>2019</td>\n",
       "      <td>5</td>\n",
       "      <td>30</td>\n",
       "      <td>2019-05-30</td>\n",
       "    </tr>\n",
       "  </tbody>\n",
       "</table>\n",
       "<p>68133 rows × 17 columns</p>\n",
       "</div>"
      ],
      "text/plain": [
       "         event_id  user_id  sequence_number  \\\n",
       "1341       852839    65204                9   \n",
       "1383       640237    48933                6   \n",
       "1388       276399    21151                3   \n",
       "1390        54868     4237                3   \n",
       "1470      1267388    96900                3   \n",
       "...           ...      ...              ...   \n",
       "2431839    190674    14691                7   \n",
       "2431861   1027049    78482               10   \n",
       "2431910   1138193    87117               13   \n",
       "2431922    430327    32985                7   \n",
       "2431933   1252015    95719                7   \n",
       "\n",
       "                                   session_id          event_created_at  \\\n",
       "1341     62c482e3-ab2a-4b3f-9825-15efe6a06719 2021-04-23 07:39:46+00:00   \n",
       "1383     f98808c7-ada1-4251-912c-6f637cd56acb 2023-04-08 14:47:00+00:00   \n",
       "1388     85e7f3c4-c2d3-4797-913c-dcd13d7d9357 2022-02-16 07:08:27+00:00   \n",
       "1390     fbdb549d-3342-4f2e-aa5f-a27d0e5571e4 2020-09-26 14:15:58+00:00   \n",
       "1470     6f376e3f-9d6f-456d-bf21-f18984705da0 2023-11-16 06:59:36+00:00   \n",
       "...                                       ...                       ...   \n",
       "2431839  66489ed7-0e23-4346-b0be-57fad89772a4 2021-11-14 11:31:59+00:00   \n",
       "2431861  ca0b8aac-1d15-4666-b114-ff820b0e2a41 2023-10-15 05:13:51+00:00   \n",
       "2431910  cac5eb36-b319-4f1e-af20-f7a2f5539916 2023-09-16 07:00:56+00:00   \n",
       "2431922  5deb48c7-60d2-41b9-a4a1-60c27ae5d929 2020-09-28 08:27:00+00:00   \n",
       "2431933  ae5b8b9a-a97b-4526-b9ac-cae42f7062d4 2019-05-30 23:37:48+00:00   \n",
       "\n",
       "             ip_address                              city              state  \\\n",
       "1341      42.213.102.26                          Shanghai            Beijing   \n",
       "1383      89.119.139.81  Linxia Hui Autonomous Prefecture            Beijing   \n",
       "1388      199.11.146.90                            Huaian            Beijing   \n",
       "1390     147.210.164.33                            Urumqi            Beijing   \n",
       "1470       34.84.142.36                             Tokyo              Tokyo   \n",
       "...                 ...                               ...                ...   \n",
       "2431839    68.37.136.25                         Elk Grove         California   \n",
       "2431861   77.250.19.179                       São Gabriel  Rio Grande do Sul   \n",
       "2431910   134.40.33.177                       Whissendine            England   \n",
       "2431922   141.50.188.45                         Tollerton            England   \n",
       "2431933     212.40.12.3                 Ashton-under-Lyne            England   \n",
       "\n",
       "        postal_code browser event_traffic_source        uri event_type  year  \\\n",
       "1341         100070  Chrome              Organic      /cart       cart  2021   \n",
       "1383         100162   Other              Organic      /cart       cart  2023   \n",
       "1388         100165      IE              Organic      /cart       cart  2022   \n",
       "1390         100190  Safari              Organic      /cart       cart  2020   \n",
       "1470       108-0072  Chrome              Organic      /cart       cart  2023   \n",
       "...             ...     ...                  ...        ...        ...   ...   \n",
       "2431839       95624  Chrome              Organic  /purchase   purchase  2021   \n",
       "2431861   97300-000  Safari              Organic  /purchase   purchase  2023   \n",
       "2431910        LE15  Safari              Organic  /purchase   purchase  2023   \n",
       "2431922        NG12  Chrome              Organic  /purchase   purchase  2020   \n",
       "2431933         OL6  Safari              Organic  /purchase   purchase  2019   \n",
       "\n",
       "         month  day        date  \n",
       "1341         4   23  2021-04-23  \n",
       "1383         4    8  2023-04-08  \n",
       "1388         2   16  2022-02-16  \n",
       "1390         9   26  2020-09-26  \n",
       "1470        11   16  2023-11-16  \n",
       "...        ...  ...         ...  \n",
       "2431839     11   14  2021-11-14  \n",
       "2431861     10   15  2023-10-15  \n",
       "2431910      9   16  2023-09-16  \n",
       "2431922      9   28  2020-09-28  \n",
       "2431933      5   30  2019-05-30  \n",
       "\n",
       "[68133 rows x 17 columns]"
      ]
     },
     "execution_count": 113,
     "metadata": {},
     "output_type": "execute_result"
    }
   ],
   "source": [
    "# 세션별로 첫 번째 이벤트를 식별합니다.\n",
    "first_event_per_session = events_organic[events_organic['sequence_number'] == 1]\n",
    "\n",
    "# sequence_number가 1이고 event_type이 department인 세션을 필터링합니다.\n",
    "filtered_sessions = first_event_per_session[first_event_per_session['event_type'] == 'department']\n",
    "\n",
    "# 필터링된 세션의 session_id를 가져옵니다.\n",
    "filtered_session_ids = filtered_sessions['session_id'].tolist()\n",
    "\n",
    "# 필터링된 session_id를 사용하여 원본 데이터를 필터링합니다.\n",
    "organic_department = events_organic[events_organic['session_id'].isin(filtered_session_ids)]\n",
    "\n",
    "organic_department\n"
   ]
  },
  {
   "cell_type": "code",
   "execution_count": null,
   "metadata": {},
   "outputs": [
    {
     "name": "stderr",
     "output_type": "stream",
     "text": [
      "/var/folders/qv/tqmmyp0s5dj996k_tcvqmtqm0000gn/T/ipykernel_3187/4119572361.py:1: FutureWarning:\n",
      "\n",
      "The default value of observed=False is deprecated and will change to observed=True in a future version of pandas. Specify observed=False to silence this warning and retain the current behavior\n",
      "\n"
     ]
    },
    {
     "data": {
      "text/html": [
       "<div>\n",
       "<style scoped>\n",
       "    .dataframe tbody tr th:only-of-type {\n",
       "        vertical-align: middle;\n",
       "    }\n",
       "\n",
       "    .dataframe tbody tr th {\n",
       "        vertical-align: top;\n",
       "    }\n",
       "\n",
       "    .dataframe thead th {\n",
       "        text-align: right;\n",
       "    }\n",
       "</style>\n",
       "<table border=\"1\" class=\"dataframe\">\n",
       "  <thead>\n",
       "    <tr style=\"text-align: right;\">\n",
       "      <th>event_type</th>\n",
       "      <th>session_id</th>\n",
       "      <th>cancel</th>\n",
       "      <th>cart</th>\n",
       "      <th>department</th>\n",
       "      <th>home</th>\n",
       "      <th>product</th>\n",
       "      <th>purchase</th>\n",
       "    </tr>\n",
       "  </thead>\n",
       "  <tbody>\n",
       "    <tr>\n",
       "      <th>0</th>\n",
       "      <td>00028f3e-eda5-4377-8126-92bed5fd87a1</td>\n",
       "      <td>0</td>\n",
       "      <td>0</td>\n",
       "      <td>1</td>\n",
       "      <td>0</td>\n",
       "      <td>1</td>\n",
       "      <td>0</td>\n",
       "    </tr>\n",
       "    <tr>\n",
       "      <th>1</th>\n",
       "      <td>00077e09-09fa-4fec-9d71-f19ea8fe052c</td>\n",
       "      <td>0</td>\n",
       "      <td>1</td>\n",
       "      <td>1</td>\n",
       "      <td>0</td>\n",
       "      <td>1</td>\n",
       "      <td>0</td>\n",
       "    </tr>\n",
       "    <tr>\n",
       "      <th>2</th>\n",
       "      <td>00093d6e-baa0-40fe-a8b4-1218cbe35117</td>\n",
       "      <td>0</td>\n",
       "      <td>0</td>\n",
       "      <td>1</td>\n",
       "      <td>0</td>\n",
       "      <td>1</td>\n",
       "      <td>0</td>\n",
       "    </tr>\n",
       "    <tr>\n",
       "      <th>3</th>\n",
       "      <td>0015a9b9-2f21-42d0-8300-6d85c8b2068e</td>\n",
       "      <td>0</td>\n",
       "      <td>1</td>\n",
       "      <td>1</td>\n",
       "      <td>0</td>\n",
       "      <td>1</td>\n",
       "      <td>0</td>\n",
       "    </tr>\n",
       "    <tr>\n",
       "      <th>4</th>\n",
       "      <td>0015ba2c-6fa3-466f-b094-ef6e9e3166da</td>\n",
       "      <td>0</td>\n",
       "      <td>1</td>\n",
       "      <td>1</td>\n",
       "      <td>0</td>\n",
       "      <td>1</td>\n",
       "      <td>0</td>\n",
       "    </tr>\n",
       "    <tr>\n",
       "      <th>...</th>\n",
       "      <td>...</td>\n",
       "      <td>...</td>\n",
       "      <td>...</td>\n",
       "      <td>...</td>\n",
       "      <td>...</td>\n",
       "      <td>...</td>\n",
       "      <td>...</td>\n",
       "    </tr>\n",
       "    <tr>\n",
       "      <th>16371</th>\n",
       "      <td>ffed0d4e-c47a-4cf5-ac01-2b7b74e63e00</td>\n",
       "      <td>0</td>\n",
       "      <td>2</td>\n",
       "      <td>2</td>\n",
       "      <td>0</td>\n",
       "      <td>2</td>\n",
       "      <td>1</td>\n",
       "    </tr>\n",
       "    <tr>\n",
       "      <th>16372</th>\n",
       "      <td>ffed5200-1cc9-4c47-b283-c4120e48b9f3</td>\n",
       "      <td>0</td>\n",
       "      <td>1</td>\n",
       "      <td>1</td>\n",
       "      <td>0</td>\n",
       "      <td>1</td>\n",
       "      <td>0</td>\n",
       "    </tr>\n",
       "    <tr>\n",
       "      <th>16373</th>\n",
       "      <td>fff50b03-6f12-4e3d-bec5-c23c2c427a41</td>\n",
       "      <td>0</td>\n",
       "      <td>4</td>\n",
       "      <td>4</td>\n",
       "      <td>0</td>\n",
       "      <td>4</td>\n",
       "      <td>1</td>\n",
       "    </tr>\n",
       "    <tr>\n",
       "      <th>16374</th>\n",
       "      <td>fff6f063-15ab-4c5b-9635-5cb2401e65d4</td>\n",
       "      <td>0</td>\n",
       "      <td>0</td>\n",
       "      <td>1</td>\n",
       "      <td>0</td>\n",
       "      <td>1</td>\n",
       "      <td>0</td>\n",
       "    </tr>\n",
       "    <tr>\n",
       "      <th>16375</th>\n",
       "      <td>fffd7e6f-2b73-4d01-ba9e-c5cd83fbd578</td>\n",
       "      <td>0</td>\n",
       "      <td>0</td>\n",
       "      <td>1</td>\n",
       "      <td>0</td>\n",
       "      <td>1</td>\n",
       "      <td>0</td>\n",
       "    </tr>\n",
       "  </tbody>\n",
       "</table>\n",
       "<p>16376 rows × 7 columns</p>\n",
       "</div>"
      ],
      "text/plain": [
       "event_type                            session_id  cancel  cart  department  \\\n",
       "0           00028f3e-eda5-4377-8126-92bed5fd87a1       0     0           1   \n",
       "1           00077e09-09fa-4fec-9d71-f19ea8fe052c       0     1           1   \n",
       "2           00093d6e-baa0-40fe-a8b4-1218cbe35117       0     0           1   \n",
       "3           0015a9b9-2f21-42d0-8300-6d85c8b2068e       0     1           1   \n",
       "4           0015ba2c-6fa3-466f-b094-ef6e9e3166da       0     1           1   \n",
       "...                                          ...     ...   ...         ...   \n",
       "16371       ffed0d4e-c47a-4cf5-ac01-2b7b74e63e00       0     2           2   \n",
       "16372       ffed5200-1cc9-4c47-b283-c4120e48b9f3       0     1           1   \n",
       "16373       fff50b03-6f12-4e3d-bec5-c23c2c427a41       0     4           4   \n",
       "16374       fff6f063-15ab-4c5b-9635-5cb2401e65d4       0     0           1   \n",
       "16375       fffd7e6f-2b73-4d01-ba9e-c5cd83fbd578       0     0           1   \n",
       "\n",
       "event_type  home  product  purchase  \n",
       "0              0        1         0  \n",
       "1              0        1         0  \n",
       "2              0        1         0  \n",
       "3              0        1         0  \n",
       "4              0        1         0  \n",
       "...          ...      ...       ...  \n",
       "16371          0        2         1  \n",
       "16372          0        1         0  \n",
       "16373          0        4         1  \n",
       "16374          0        1         0  \n",
       "16375          0        1         0  \n",
       "\n",
       "[16376 rows x 7 columns]"
      ]
     },
     "execution_count": 114,
     "metadata": {},
     "output_type": "execute_result"
    }
   ],
   "source": [
    "session_pivot_organic_department = pd.pivot_table(data=organic_department, index='session_id', columns='event_type', values='event_created_at', aggfunc='count').reset_index().fillna(0)\n",
    "session_pivot_organic_department"
   ]
  },
  {
   "cell_type": "code",
   "execution_count": null,
   "metadata": {},
   "outputs": [
    {
     "name": "stdout",
     "output_type": "stream",
     "text": [
      "purchase 열의 최대값: 1\n",
      "department 열의 최대값 4\n",
      "max_product 열의 최대값 4\n",
      "max_cart 열의 최대값 4\n"
     ]
    }
   ],
   "source": [
    "max_purchase = session_pivot_organic_department['purchase'].max()\n",
    "max_department = session_pivot_organic_department['department'].max()\n",
    "max_product = session_pivot_organic_department['product'].max()\n",
    "max_cart = session_pivot_organic_department['cart'].max()\n",
    "\n",
    "print(\"purchase 열의 최대값:\", max_purchase)\n",
    "print(\"department 열의 최대값\", max_department)\n",
    "print(\"max_product 열의 최대값\", max_product)\n",
    "print(\"max_cart 열의 최대값\", max_cart)"
   ]
  },
  {
   "cell_type": "code",
   "execution_count": null,
   "metadata": {},
   "outputs": [],
   "source": [
    "cart_session_organic = list(session_pivot_organic_department.query('cart > 0')['session_id'])\n",
    "purchased_session_organic = list(session_pivot_organic_department.query('purchase > 0')['session_id'])"
   ]
  },
  {
   "cell_type": "code",
   "execution_count": null,
   "metadata": {},
   "outputs": [
    {
     "data": {
      "text/html": [
       "<div>\n",
       "<style scoped>\n",
       "    .dataframe tbody tr th:only-of-type {\n",
       "        vertical-align: middle;\n",
       "    }\n",
       "\n",
       "    .dataframe tbody tr th {\n",
       "        vertical-align: top;\n",
       "    }\n",
       "\n",
       "    .dataframe thead th {\n",
       "        text-align: right;\n",
       "    }\n",
       "</style>\n",
       "<table border=\"1\" class=\"dataframe\">\n",
       "  <thead>\n",
       "    <tr style=\"text-align: right;\">\n",
       "      <th></th>\n",
       "      <th>session_id</th>\n",
       "      <th>max</th>\n",
       "      <th>min</th>\n",
       "      <th>duration</th>\n",
       "      <th>max_sequence_number</th>\n",
       "    </tr>\n",
       "  </thead>\n",
       "  <tbody>\n",
       "    <tr>\n",
       "      <th>19</th>\n",
       "      <td>00028f3e-eda5-4377-8126-92bed5fd87a1</td>\n",
       "      <td>2020-05-29 04:02:00+00:00</td>\n",
       "      <td>2020-05-29 03:48:00+00:00</td>\n",
       "      <td>0 days 00:14:00</td>\n",
       "      <td>2</td>\n",
       "    </tr>\n",
       "    <tr>\n",
       "      <th>73</th>\n",
       "      <td>00077e09-09fa-4fec-9d71-f19ea8fe052c</td>\n",
       "      <td>2019-04-06 19:18:00+00:00</td>\n",
       "      <td>2019-04-06 19:07:00+00:00</td>\n",
       "      <td>0 days 00:11:00</td>\n",
       "      <td>3</td>\n",
       "    </tr>\n",
       "    <tr>\n",
       "      <th>103</th>\n",
       "      <td>00093d6e-baa0-40fe-a8b4-1218cbe35117</td>\n",
       "      <td>2020-02-22 02:12:00+00:00</td>\n",
       "      <td>2020-02-22 02:12:00+00:00</td>\n",
       "      <td>0 days 00:00:00</td>\n",
       "      <td>2</td>\n",
       "    </tr>\n",
       "    <tr>\n",
       "      <th>225</th>\n",
       "      <td>0015a9b9-2f21-42d0-8300-6d85c8b2068e</td>\n",
       "      <td>2019-07-03 17:56:00+00:00</td>\n",
       "      <td>2019-07-03 17:13:00+00:00</td>\n",
       "      <td>0 days 00:43:00</td>\n",
       "      <td>3</td>\n",
       "    </tr>\n",
       "    <tr>\n",
       "      <th>226</th>\n",
       "      <td>0015ba2c-6fa3-466f-b094-ef6e9e3166da</td>\n",
       "      <td>2023-06-08 15:10:00+00:00</td>\n",
       "      <td>2023-06-08 14:36:00+00:00</td>\n",
       "      <td>0 days 00:34:00</td>\n",
       "      <td>3</td>\n",
       "    </tr>\n",
       "    <tr>\n",
       "      <th>...</th>\n",
       "      <td>...</td>\n",
       "      <td>...</td>\n",
       "      <td>...</td>\n",
       "      <td>...</td>\n",
       "      <td>...</td>\n",
       "    </tr>\n",
       "    <tr>\n",
       "      <th>643405</th>\n",
       "      <td>ffed0d4e-c47a-4cf5-ac01-2b7b74e63e00</td>\n",
       "      <td>2023-02-02 13:42:16+00:00</td>\n",
       "      <td>2023-01-30 13:29:34+00:00</td>\n",
       "      <td>3 days 00:12:42</td>\n",
       "      <td>7</td>\n",
       "    </tr>\n",
       "    <tr>\n",
       "      <th>643411</th>\n",
       "      <td>ffed5200-1cc9-4c47-b283-c4120e48b9f3</td>\n",
       "      <td>2019-01-27 04:22:00+00:00</td>\n",
       "      <td>2019-01-27 03:53:00+00:00</td>\n",
       "      <td>0 days 00:29:00</td>\n",
       "      <td>3</td>\n",
       "    </tr>\n",
       "    <tr>\n",
       "      <th>643483</th>\n",
       "      <td>fff50b03-6f12-4e3d-bec5-c23c2c427a41</td>\n",
       "      <td>2023-09-26 17:19:43+00:00</td>\n",
       "      <td>2023-09-24 17:04:49+00:00</td>\n",
       "      <td>2 days 00:14:54</td>\n",
       "      <td>13</td>\n",
       "    </tr>\n",
       "    <tr>\n",
       "      <th>643501</th>\n",
       "      <td>fff6f063-15ab-4c5b-9635-5cb2401e65d4</td>\n",
       "      <td>2021-11-02 12:38:00+00:00</td>\n",
       "      <td>2021-11-02 12:33:00+00:00</td>\n",
       "      <td>0 days 00:05:00</td>\n",
       "      <td>2</td>\n",
       "    </tr>\n",
       "    <tr>\n",
       "      <th>643567</th>\n",
       "      <td>fffd7e6f-2b73-4d01-ba9e-c5cd83fbd578</td>\n",
       "      <td>2022-01-05 09:04:00+00:00</td>\n",
       "      <td>2022-01-05 08:53:00+00:00</td>\n",
       "      <td>0 days 00:11:00</td>\n",
       "      <td>2</td>\n",
       "    </tr>\n",
       "  </tbody>\n",
       "</table>\n",
       "<p>16376 rows × 5 columns</p>\n",
       "</div>"
      ],
      "text/plain": [
       "                                  session_id                       max  \\\n",
       "19      00028f3e-eda5-4377-8126-92bed5fd87a1 2020-05-29 04:02:00+00:00   \n",
       "73      00077e09-09fa-4fec-9d71-f19ea8fe052c 2019-04-06 19:18:00+00:00   \n",
       "103     00093d6e-baa0-40fe-a8b4-1218cbe35117 2020-02-22 02:12:00+00:00   \n",
       "225     0015a9b9-2f21-42d0-8300-6d85c8b2068e 2019-07-03 17:56:00+00:00   \n",
       "226     0015ba2c-6fa3-466f-b094-ef6e9e3166da 2023-06-08 15:10:00+00:00   \n",
       "...                                      ...                       ...   \n",
       "643405  ffed0d4e-c47a-4cf5-ac01-2b7b74e63e00 2023-02-02 13:42:16+00:00   \n",
       "643411  ffed5200-1cc9-4c47-b283-c4120e48b9f3 2019-01-27 04:22:00+00:00   \n",
       "643483  fff50b03-6f12-4e3d-bec5-c23c2c427a41 2023-09-26 17:19:43+00:00   \n",
       "643501  fff6f063-15ab-4c5b-9635-5cb2401e65d4 2021-11-02 12:38:00+00:00   \n",
       "643567  fffd7e6f-2b73-4d01-ba9e-c5cd83fbd578 2022-01-05 09:04:00+00:00   \n",
       "\n",
       "                             min        duration  max_sequence_number  \n",
       "19     2020-05-29 03:48:00+00:00 0 days 00:14:00                    2  \n",
       "73     2019-04-06 19:07:00+00:00 0 days 00:11:00                    3  \n",
       "103    2020-02-22 02:12:00+00:00 0 days 00:00:00                    2  \n",
       "225    2019-07-03 17:13:00+00:00 0 days 00:43:00                    3  \n",
       "226    2023-06-08 14:36:00+00:00 0 days 00:34:00                    3  \n",
       "...                          ...             ...                  ...  \n",
       "643405 2023-01-30 13:29:34+00:00 3 days 00:12:42                    7  \n",
       "643411 2019-01-27 03:53:00+00:00 0 days 00:29:00                    3  \n",
       "643483 2023-09-24 17:04:49+00:00 2 days 00:14:54                   13  \n",
       "643501 2021-11-02 12:33:00+00:00 0 days 00:05:00                    2  \n",
       "643567 2022-01-05 08:53:00+00:00 0 days 00:11:00                    2  \n",
       "\n",
       "[16376 rows x 5 columns]"
      ]
     },
     "execution_count": 117,
     "metadata": {},
     "output_type": "execute_result"
    }
   ],
   "source": [
    "# pivot 테이블에 있는 session_id 추출\n",
    "pivot_session_ids = session_pivot_organic_department['session_id']\n",
    "\n",
    "# pivot 테이블에 있는 session_id만 필터링하여 출력\n",
    "duration_organic_department = duration[duration['session_id'].isin(pivot_session_ids)]\n",
    "duration_organic_department\n"
   ]
  },
  {
   "cell_type": "code",
   "execution_count": null,
   "metadata": {},
   "outputs": [
    {
     "name": "stdout",
     "output_type": "stream",
     "text": [
      "조회만 한 유저의 평균 체류시간 : 0 days 00:14:34.258250560\n",
      "카트에 담은 유저의 평균 체류시간 : 0 days 19:37:37.517465956\n",
      "구매까지 한 유저의 평균 체류시간 : 2 days 00:06:52.855389148\n"
     ]
    }
   ],
   "source": [
    "view_session_avg_duration_organic_depart = duration_organic_department.query('session_id not in @cart_session and session_id not in @purchased_session')['duration'].mean()\n",
    "cart_session_avg_duration_organic_depart = duration_organic_department.query('session_id in @cart_session')['duration'].mean()\n",
    "purchased_session_avg_duration_organic_depart = duration_organic_department.query('session_id in @purchased_session')['duration'].mean()\n",
    "\n",
    "print(f\"조회만 한 유저의 평균 체류시간 : {view_session_avg_duration_organic_depart}\")\n",
    "print(f\"카트에 담은 유저의 평균 체류시간 : {cart_session_avg_duration_organic_depart}\")\n",
    "print(f\"구매까지 한 유저의 평균 체류시간 : {purchased_session_avg_duration_organic_depart}\")"
   ]
  },
  {
   "cell_type": "markdown",
   "metadata": {},
   "source": [
    "- department = product 카운트 같음\n",
    "- 퍼널에서 product 뺌"
   ]
  },
  {
   "cell_type": "code",
   "execution_count": null,
   "metadata": {},
   "outputs": [
    {
     "data": {
      "text/html": [
       "<div>\n",
       "<style scoped>\n",
       "    .dataframe tbody tr th:only-of-type {\n",
       "        vertical-align: middle;\n",
       "    }\n",
       "\n",
       "    .dataframe tbody tr th {\n",
       "        vertical-align: top;\n",
       "    }\n",
       "\n",
       "    .dataframe thead th {\n",
       "        text-align: right;\n",
       "    }\n",
       "</style>\n",
       "<table border=\"1\" class=\"dataframe\">\n",
       "  <thead>\n",
       "    <tr style=\"text-align: right;\">\n",
       "      <th></th>\n",
       "      <th>event_type</th>\n",
       "      <th>count</th>\n",
       "    </tr>\n",
       "  </thead>\n",
       "  <tbody>\n",
       "    <tr>\n",
       "      <th>0</th>\n",
       "      <td>department</td>\n",
       "      <td>23434</td>\n",
       "    </tr>\n",
       "    <tr>\n",
       "      <th>1</th>\n",
       "      <td>cart</td>\n",
       "      <td>17192</td>\n",
       "    </tr>\n",
       "    <tr>\n",
       "      <th>3</th>\n",
       "      <td>purchase</td>\n",
       "      <td>4073</td>\n",
       "    </tr>\n",
       "  </tbody>\n",
       "</table>\n",
       "</div>"
      ],
      "text/plain": [
       "   event_type  count\n",
       "0  department  23434\n",
       "1        cart  17192\n",
       "3    purchase   4073"
      ]
     },
     "execution_count": 170,
     "metadata": {},
     "output_type": "execute_result"
    }
   ],
   "source": [
    "funnel_organic_department = session_pivot_organic_department[['department','cart', 'cancel', 'purchase']].sum().to_frame().reset_index()\n",
    "funnel_organic_department.columns = ['event_type', 'count']\n",
    "funnel_organic_department = funnel_organic_department.query('event_type != \"cancel\"')\n",
    "funnel_organic_department"
   ]
  },
  {
   "cell_type": "code",
   "execution_count": null,
   "metadata": {},
   "outputs": [
    {
     "data": {
      "text/html": [
       "<div>\n",
       "<style scoped>\n",
       "    .dataframe tbody tr th:only-of-type {\n",
       "        vertical-align: middle;\n",
       "    }\n",
       "\n",
       "    .dataframe tbody tr th {\n",
       "        vertical-align: top;\n",
       "    }\n",
       "\n",
       "    .dataframe thead th {\n",
       "        text-align: right;\n",
       "    }\n",
       "</style>\n",
       "<table border=\"1\" class=\"dataframe\">\n",
       "  <thead>\n",
       "    <tr style=\"text-align: right;\">\n",
       "      <th></th>\n",
       "      <th>event_id</th>\n",
       "      <th>user_id</th>\n",
       "      <th>sequence_number</th>\n",
       "      <th>session_id</th>\n",
       "      <th>event_created_at</th>\n",
       "      <th>ip_address</th>\n",
       "      <th>city</th>\n",
       "      <th>state</th>\n",
       "      <th>postal_code</th>\n",
       "      <th>browser</th>\n",
       "      <th>event_traffic_source</th>\n",
       "      <th>uri</th>\n",
       "      <th>event_type</th>\n",
       "      <th>year</th>\n",
       "      <th>month</th>\n",
       "      <th>day</th>\n",
       "      <th>date</th>\n",
       "    </tr>\n",
       "  </thead>\n",
       "  <tbody>\n",
       "    <tr>\n",
       "      <th>1447650</th>\n",
       "      <td>852831</td>\n",
       "      <td>65204</td>\n",
       "      <td>1</td>\n",
       "      <td>62c482e3-ab2a-4b3f-9825-15efe6a06719</td>\n",
       "      <td>2021-04-23 07:25:59+00:00</td>\n",
       "      <td>42.213.102.26</td>\n",
       "      <td>Shanghai</td>\n",
       "      <td>Beijing</td>\n",
       "      <td>100070</td>\n",
       "      <td>Chrome</td>\n",
       "      <td>Organic</td>\n",
       "      <td>/department/women/category/plus/brand/natori</td>\n",
       "      <td>department</td>\n",
       "      <td>2021</td>\n",
       "      <td>4</td>\n",
       "      <td>23</td>\n",
       "      <td>2021-04-23</td>\n",
       "    </tr>\n",
       "    <tr>\n",
       "      <th>1405108</th>\n",
       "      <td>852832</td>\n",
       "      <td>65204</td>\n",
       "      <td>2</td>\n",
       "      <td>62c482e3-ab2a-4b3f-9825-15efe6a06719</td>\n",
       "      <td>2021-04-23 07:27:01+00:00</td>\n",
       "      <td>42.213.102.26</td>\n",
       "      <td>Shanghai</td>\n",
       "      <td>Beijing</td>\n",
       "      <td>100070</td>\n",
       "      <td>Chrome</td>\n",
       "      <td>Organic</td>\n",
       "      <td>/product/15325</td>\n",
       "      <td>product</td>\n",
       "      <td>2021</td>\n",
       "      <td>4</td>\n",
       "      <td>23</td>\n",
       "      <td>2021-04-23</td>\n",
       "    </tr>\n",
       "    <tr>\n",
       "      <th>2012223</th>\n",
       "      <td>852833</td>\n",
       "      <td>65204</td>\n",
       "      <td>3</td>\n",
       "      <td>62c482e3-ab2a-4b3f-9825-15efe6a06719</td>\n",
       "      <td>2021-04-23 07:28:52+00:00</td>\n",
       "      <td>42.213.102.26</td>\n",
       "      <td>Shanghai</td>\n",
       "      <td>Beijing</td>\n",
       "      <td>100070</td>\n",
       "      <td>Chrome</td>\n",
       "      <td>Organic</td>\n",
       "      <td>/cart</td>\n",
       "      <td>cart</td>\n",
       "      <td>2021</td>\n",
       "      <td>4</td>\n",
       "      <td>23</td>\n",
       "      <td>2021-04-23</td>\n",
       "    </tr>\n",
       "    <tr>\n",
       "      <th>279684</th>\n",
       "      <td>852834</td>\n",
       "      <td>65204</td>\n",
       "      <td>4</td>\n",
       "      <td>62c482e3-ab2a-4b3f-9825-15efe6a06719</td>\n",
       "      <td>2021-04-23 07:31:48+00:00</td>\n",
       "      <td>42.213.102.26</td>\n",
       "      <td>Shanghai</td>\n",
       "      <td>Beijing</td>\n",
       "      <td>100070</td>\n",
       "      <td>Chrome</td>\n",
       "      <td>Organic</td>\n",
       "      <td>/department/women/category/plus/brand/natori</td>\n",
       "      <td>department</td>\n",
       "      <td>2021</td>\n",
       "      <td>4</td>\n",
       "      <td>23</td>\n",
       "      <td>2021-04-23</td>\n",
       "    </tr>\n",
       "    <tr>\n",
       "      <th>1157195</th>\n",
       "      <td>852835</td>\n",
       "      <td>65204</td>\n",
       "      <td>5</td>\n",
       "      <td>62c482e3-ab2a-4b3f-9825-15efe6a06719</td>\n",
       "      <td>2021-04-23 07:32:16+00:00</td>\n",
       "      <td>42.213.102.26</td>\n",
       "      <td>Shanghai</td>\n",
       "      <td>Beijing</td>\n",
       "      <td>100070</td>\n",
       "      <td>Chrome</td>\n",
       "      <td>Organic</td>\n",
       "      <td>/product/15325</td>\n",
       "      <td>product</td>\n",
       "      <td>2021</td>\n",
       "      <td>4</td>\n",
       "      <td>23</td>\n",
       "      <td>2021-04-23</td>\n",
       "    </tr>\n",
       "    <tr>\n",
       "      <th>721706</th>\n",
       "      <td>852836</td>\n",
       "      <td>65204</td>\n",
       "      <td>6</td>\n",
       "      <td>62c482e3-ab2a-4b3f-9825-15efe6a06719</td>\n",
       "      <td>2021-04-23 07:32:48+00:00</td>\n",
       "      <td>42.213.102.26</td>\n",
       "      <td>Shanghai</td>\n",
       "      <td>Beijing</td>\n",
       "      <td>100070</td>\n",
       "      <td>Chrome</td>\n",
       "      <td>Organic</td>\n",
       "      <td>/cart</td>\n",
       "      <td>cart</td>\n",
       "      <td>2021</td>\n",
       "      <td>4</td>\n",
       "      <td>23</td>\n",
       "      <td>2021-04-23</td>\n",
       "    </tr>\n",
       "    <tr>\n",
       "      <th>802268</th>\n",
       "      <td>852837</td>\n",
       "      <td>65204</td>\n",
       "      <td>7</td>\n",
       "      <td>62c482e3-ab2a-4b3f-9825-15efe6a06719</td>\n",
       "      <td>2021-04-23 07:35:38+00:00</td>\n",
       "      <td>42.213.102.26</td>\n",
       "      <td>Shanghai</td>\n",
       "      <td>Beijing</td>\n",
       "      <td>100070</td>\n",
       "      <td>Chrome</td>\n",
       "      <td>Organic</td>\n",
       "      <td>/department/women/category/plus/brand/natori</td>\n",
       "      <td>department</td>\n",
       "      <td>2021</td>\n",
       "      <td>4</td>\n",
       "      <td>23</td>\n",
       "      <td>2021-04-23</td>\n",
       "    </tr>\n",
       "    <tr>\n",
       "      <th>163395</th>\n",
       "      <td>852838</td>\n",
       "      <td>65204</td>\n",
       "      <td>8</td>\n",
       "      <td>62c482e3-ab2a-4b3f-9825-15efe6a06719</td>\n",
       "      <td>2021-04-23 07:37:42+00:00</td>\n",
       "      <td>42.213.102.26</td>\n",
       "      <td>Shanghai</td>\n",
       "      <td>Beijing</td>\n",
       "      <td>100070</td>\n",
       "      <td>Chrome</td>\n",
       "      <td>Organic</td>\n",
       "      <td>/product/15325</td>\n",
       "      <td>product</td>\n",
       "      <td>2021</td>\n",
       "      <td>4</td>\n",
       "      <td>23</td>\n",
       "      <td>2021-04-23</td>\n",
       "    </tr>\n",
       "    <tr>\n",
       "      <th>1341</th>\n",
       "      <td>852839</td>\n",
       "      <td>65204</td>\n",
       "      <td>9</td>\n",
       "      <td>62c482e3-ab2a-4b3f-9825-15efe6a06719</td>\n",
       "      <td>2021-04-23 07:39:46+00:00</td>\n",
       "      <td>42.213.102.26</td>\n",
       "      <td>Shanghai</td>\n",
       "      <td>Beijing</td>\n",
       "      <td>100070</td>\n",
       "      <td>Chrome</td>\n",
       "      <td>Organic</td>\n",
       "      <td>/cart</td>\n",
       "      <td>cart</td>\n",
       "      <td>2021</td>\n",
       "      <td>4</td>\n",
       "      <td>23</td>\n",
       "      <td>2021-04-23</td>\n",
       "    </tr>\n",
       "    <tr>\n",
       "      <th>2290564</th>\n",
       "      <td>852840</td>\n",
       "      <td>65204</td>\n",
       "      <td>10</td>\n",
       "      <td>62c482e3-ab2a-4b3f-9825-15efe6a06719</td>\n",
       "      <td>2021-04-23 07:41:44+00:00</td>\n",
       "      <td>42.213.102.26</td>\n",
       "      <td>Shanghai</td>\n",
       "      <td>Beijing</td>\n",
       "      <td>100070</td>\n",
       "      <td>Chrome</td>\n",
       "      <td>Organic</td>\n",
       "      <td>/department/women/category/plus/brand/natori</td>\n",
       "      <td>department</td>\n",
       "      <td>2021</td>\n",
       "      <td>4</td>\n",
       "      <td>23</td>\n",
       "      <td>2021-04-23</td>\n",
       "    </tr>\n",
       "    <tr>\n",
       "      <th>411554</th>\n",
       "      <td>852841</td>\n",
       "      <td>65204</td>\n",
       "      <td>11</td>\n",
       "      <td>62c482e3-ab2a-4b3f-9825-15efe6a06719</td>\n",
       "      <td>2021-04-23 07:42:42+00:00</td>\n",
       "      <td>42.213.102.26</td>\n",
       "      <td>Shanghai</td>\n",
       "      <td>Beijing</td>\n",
       "      <td>100070</td>\n",
       "      <td>Chrome</td>\n",
       "      <td>Organic</td>\n",
       "      <td>/product/15325</td>\n",
       "      <td>product</td>\n",
       "      <td>2021</td>\n",
       "      <td>4</td>\n",
       "      <td>23</td>\n",
       "      <td>2021-04-23</td>\n",
       "    </tr>\n",
       "    <tr>\n",
       "      <th>448133</th>\n",
       "      <td>852842</td>\n",
       "      <td>65204</td>\n",
       "      <td>12</td>\n",
       "      <td>62c482e3-ab2a-4b3f-9825-15efe6a06719</td>\n",
       "      <td>2021-04-23 07:44:12+00:00</td>\n",
       "      <td>42.213.102.26</td>\n",
       "      <td>Shanghai</td>\n",
       "      <td>Beijing</td>\n",
       "      <td>100070</td>\n",
       "      <td>Chrome</td>\n",
       "      <td>Organic</td>\n",
       "      <td>/cart</td>\n",
       "      <td>cart</td>\n",
       "      <td>2021</td>\n",
       "      <td>4</td>\n",
       "      <td>23</td>\n",
       "      <td>2021-04-23</td>\n",
       "    </tr>\n",
       "    <tr>\n",
       "      <th>1636762</th>\n",
       "      <td>852843</td>\n",
       "      <td>65204</td>\n",
       "      <td>13</td>\n",
       "      <td>62c482e3-ab2a-4b3f-9825-15efe6a06719</td>\n",
       "      <td>2021-04-27 07:46:08+00:00</td>\n",
       "      <td>42.213.102.26</td>\n",
       "      <td>Shanghai</td>\n",
       "      <td>Beijing</td>\n",
       "      <td>100070</td>\n",
       "      <td>Chrome</td>\n",
       "      <td>Organic</td>\n",
       "      <td>/purchase</td>\n",
       "      <td>purchase</td>\n",
       "      <td>2021</td>\n",
       "      <td>4</td>\n",
       "      <td>27</td>\n",
       "      <td>2021-04-27</td>\n",
       "    </tr>\n",
       "  </tbody>\n",
       "</table>\n",
       "</div>"
      ],
      "text/plain": [
       "         event_id  user_id  sequence_number  \\\n",
       "1447650    852831    65204                1   \n",
       "1405108    852832    65204                2   \n",
       "2012223    852833    65204                3   \n",
       "279684     852834    65204                4   \n",
       "1157195    852835    65204                5   \n",
       "721706     852836    65204                6   \n",
       "802268     852837    65204                7   \n",
       "163395     852838    65204                8   \n",
       "1341       852839    65204                9   \n",
       "2290564    852840    65204               10   \n",
       "411554     852841    65204               11   \n",
       "448133     852842    65204               12   \n",
       "1636762    852843    65204               13   \n",
       "\n",
       "                                   session_id          event_created_at  \\\n",
       "1447650  62c482e3-ab2a-4b3f-9825-15efe6a06719 2021-04-23 07:25:59+00:00   \n",
       "1405108  62c482e3-ab2a-4b3f-9825-15efe6a06719 2021-04-23 07:27:01+00:00   \n",
       "2012223  62c482e3-ab2a-4b3f-9825-15efe6a06719 2021-04-23 07:28:52+00:00   \n",
       "279684   62c482e3-ab2a-4b3f-9825-15efe6a06719 2021-04-23 07:31:48+00:00   \n",
       "1157195  62c482e3-ab2a-4b3f-9825-15efe6a06719 2021-04-23 07:32:16+00:00   \n",
       "721706   62c482e3-ab2a-4b3f-9825-15efe6a06719 2021-04-23 07:32:48+00:00   \n",
       "802268   62c482e3-ab2a-4b3f-9825-15efe6a06719 2021-04-23 07:35:38+00:00   \n",
       "163395   62c482e3-ab2a-4b3f-9825-15efe6a06719 2021-04-23 07:37:42+00:00   \n",
       "1341     62c482e3-ab2a-4b3f-9825-15efe6a06719 2021-04-23 07:39:46+00:00   \n",
       "2290564  62c482e3-ab2a-4b3f-9825-15efe6a06719 2021-04-23 07:41:44+00:00   \n",
       "411554   62c482e3-ab2a-4b3f-9825-15efe6a06719 2021-04-23 07:42:42+00:00   \n",
       "448133   62c482e3-ab2a-4b3f-9825-15efe6a06719 2021-04-23 07:44:12+00:00   \n",
       "1636762  62c482e3-ab2a-4b3f-9825-15efe6a06719 2021-04-27 07:46:08+00:00   \n",
       "\n",
       "            ip_address      city    state postal_code browser  \\\n",
       "1447650  42.213.102.26  Shanghai  Beijing      100070  Chrome   \n",
       "1405108  42.213.102.26  Shanghai  Beijing      100070  Chrome   \n",
       "2012223  42.213.102.26  Shanghai  Beijing      100070  Chrome   \n",
       "279684   42.213.102.26  Shanghai  Beijing      100070  Chrome   \n",
       "1157195  42.213.102.26  Shanghai  Beijing      100070  Chrome   \n",
       "721706   42.213.102.26  Shanghai  Beijing      100070  Chrome   \n",
       "802268   42.213.102.26  Shanghai  Beijing      100070  Chrome   \n",
       "163395   42.213.102.26  Shanghai  Beijing      100070  Chrome   \n",
       "1341     42.213.102.26  Shanghai  Beijing      100070  Chrome   \n",
       "2290564  42.213.102.26  Shanghai  Beijing      100070  Chrome   \n",
       "411554   42.213.102.26  Shanghai  Beijing      100070  Chrome   \n",
       "448133   42.213.102.26  Shanghai  Beijing      100070  Chrome   \n",
       "1636762  42.213.102.26  Shanghai  Beijing      100070  Chrome   \n",
       "\n",
       "        event_traffic_source                                           uri  \\\n",
       "1447650              Organic  /department/women/category/plus/brand/natori   \n",
       "1405108              Organic                                /product/15325   \n",
       "2012223              Organic                                         /cart   \n",
       "279684               Organic  /department/women/category/plus/brand/natori   \n",
       "1157195              Organic                                /product/15325   \n",
       "721706               Organic                                         /cart   \n",
       "802268               Organic  /department/women/category/plus/brand/natori   \n",
       "163395               Organic                                /product/15325   \n",
       "1341                 Organic                                         /cart   \n",
       "2290564              Organic  /department/women/category/plus/brand/natori   \n",
       "411554               Organic                                /product/15325   \n",
       "448133               Organic                                         /cart   \n",
       "1636762              Organic                                     /purchase   \n",
       "\n",
       "         event_type  year  month  day        date  \n",
       "1447650  department  2021      4   23  2021-04-23  \n",
       "1405108     product  2021      4   23  2021-04-23  \n",
       "2012223        cart  2021      4   23  2021-04-23  \n",
       "279684   department  2021      4   23  2021-04-23  \n",
       "1157195     product  2021      4   23  2021-04-23  \n",
       "721706         cart  2021      4   23  2021-04-23  \n",
       "802268   department  2021      4   23  2021-04-23  \n",
       "163395      product  2021      4   23  2021-04-23  \n",
       "1341           cart  2021      4   23  2021-04-23  \n",
       "2290564  department  2021      4   23  2021-04-23  \n",
       "411554      product  2021      4   23  2021-04-23  \n",
       "448133         cart  2021      4   23  2021-04-23  \n",
       "1636762    purchase  2021      4   27  2021-04-27  "
      ]
     },
     "execution_count": 125,
     "metadata": {},
     "output_type": "execute_result"
    }
   ],
   "source": [
    "organic_department[organic_department['session_id']=='62c482e3-ab2a-4b3f-9825-15efe6a06719'].sort_values('event_created_at')"
   ]
  },
  {
   "cell_type": "code",
   "execution_count": null,
   "metadata": {},
   "outputs": [
    {
     "data": {
      "application/vnd.plotly.v1+json": {
       "config": {
        "plotlyServerURL": "https://plot.ly"
       },
       "data": [
        {
         "hovertemplate": "event_type=%{x}<br>count=%{y}<extra></extra>",
         "legendgroup": "",
         "marker": {
          "color": "#636efa"
         },
         "name": "",
         "orientation": "v",
         "showlegend": false,
         "texttemplate": "%{value:,.0f}",
         "type": "funnel",
         "x": [
          "department",
          "cart",
          "purchase"
         ],
         "xaxis": "x",
         "y": [
          23434,
          17192,
          4073
         ],
         "yaxis": "y"
        }
       ],
       "layout": {
        "legend": {
         "tracegroupgap": 0
        },
        "template": {
         "data": {
          "bar": [
           {
            "error_x": {
             "color": "#2a3f5f"
            },
            "error_y": {
             "color": "#2a3f5f"
            },
            "marker": {
             "line": {
              "color": "#E5ECF6",
              "width": 0.5
             },
             "pattern": {
              "fillmode": "overlay",
              "size": 10,
              "solidity": 0.2
             }
            },
            "type": "bar"
           }
          ],
          "barpolar": [
           {
            "marker": {
             "line": {
              "color": "#E5ECF6",
              "width": 0.5
             },
             "pattern": {
              "fillmode": "overlay",
              "size": 10,
              "solidity": 0.2
             }
            },
            "type": "barpolar"
           }
          ],
          "carpet": [
           {
            "aaxis": {
             "endlinecolor": "#2a3f5f",
             "gridcolor": "white",
             "linecolor": "white",
             "minorgridcolor": "white",
             "startlinecolor": "#2a3f5f"
            },
            "baxis": {
             "endlinecolor": "#2a3f5f",
             "gridcolor": "white",
             "linecolor": "white",
             "minorgridcolor": "white",
             "startlinecolor": "#2a3f5f"
            },
            "type": "carpet"
           }
          ],
          "choropleth": [
           {
            "colorbar": {
             "outlinewidth": 0,
             "ticks": ""
            },
            "type": "choropleth"
           }
          ],
          "contour": [
           {
            "colorbar": {
             "outlinewidth": 0,
             "ticks": ""
            },
            "colorscale": [
             [
              0,
              "#0d0887"
             ],
             [
              0.1111111111111111,
              "#46039f"
             ],
             [
              0.2222222222222222,
              "#7201a8"
             ],
             [
              0.3333333333333333,
              "#9c179e"
             ],
             [
              0.4444444444444444,
              "#bd3786"
             ],
             [
              0.5555555555555556,
              "#d8576b"
             ],
             [
              0.6666666666666666,
              "#ed7953"
             ],
             [
              0.7777777777777778,
              "#fb9f3a"
             ],
             [
              0.8888888888888888,
              "#fdca26"
             ],
             [
              1,
              "#f0f921"
             ]
            ],
            "type": "contour"
           }
          ],
          "contourcarpet": [
           {
            "colorbar": {
             "outlinewidth": 0,
             "ticks": ""
            },
            "type": "contourcarpet"
           }
          ],
          "heatmap": [
           {
            "colorbar": {
             "outlinewidth": 0,
             "ticks": ""
            },
            "colorscale": [
             [
              0,
              "#0d0887"
             ],
             [
              0.1111111111111111,
              "#46039f"
             ],
             [
              0.2222222222222222,
              "#7201a8"
             ],
             [
              0.3333333333333333,
              "#9c179e"
             ],
             [
              0.4444444444444444,
              "#bd3786"
             ],
             [
              0.5555555555555556,
              "#d8576b"
             ],
             [
              0.6666666666666666,
              "#ed7953"
             ],
             [
              0.7777777777777778,
              "#fb9f3a"
             ],
             [
              0.8888888888888888,
              "#fdca26"
             ],
             [
              1,
              "#f0f921"
             ]
            ],
            "type": "heatmap"
           }
          ],
          "heatmapgl": [
           {
            "colorbar": {
             "outlinewidth": 0,
             "ticks": ""
            },
            "colorscale": [
             [
              0,
              "#0d0887"
             ],
             [
              0.1111111111111111,
              "#46039f"
             ],
             [
              0.2222222222222222,
              "#7201a8"
             ],
             [
              0.3333333333333333,
              "#9c179e"
             ],
             [
              0.4444444444444444,
              "#bd3786"
             ],
             [
              0.5555555555555556,
              "#d8576b"
             ],
             [
              0.6666666666666666,
              "#ed7953"
             ],
             [
              0.7777777777777778,
              "#fb9f3a"
             ],
             [
              0.8888888888888888,
              "#fdca26"
             ],
             [
              1,
              "#f0f921"
             ]
            ],
            "type": "heatmapgl"
           }
          ],
          "histogram": [
           {
            "marker": {
             "pattern": {
              "fillmode": "overlay",
              "size": 10,
              "solidity": 0.2
             }
            },
            "type": "histogram"
           }
          ],
          "histogram2d": [
           {
            "colorbar": {
             "outlinewidth": 0,
             "ticks": ""
            },
            "colorscale": [
             [
              0,
              "#0d0887"
             ],
             [
              0.1111111111111111,
              "#46039f"
             ],
             [
              0.2222222222222222,
              "#7201a8"
             ],
             [
              0.3333333333333333,
              "#9c179e"
             ],
             [
              0.4444444444444444,
              "#bd3786"
             ],
             [
              0.5555555555555556,
              "#d8576b"
             ],
             [
              0.6666666666666666,
              "#ed7953"
             ],
             [
              0.7777777777777778,
              "#fb9f3a"
             ],
             [
              0.8888888888888888,
              "#fdca26"
             ],
             [
              1,
              "#f0f921"
             ]
            ],
            "type": "histogram2d"
           }
          ],
          "histogram2dcontour": [
           {
            "colorbar": {
             "outlinewidth": 0,
             "ticks": ""
            },
            "colorscale": [
             [
              0,
              "#0d0887"
             ],
             [
              0.1111111111111111,
              "#46039f"
             ],
             [
              0.2222222222222222,
              "#7201a8"
             ],
             [
              0.3333333333333333,
              "#9c179e"
             ],
             [
              0.4444444444444444,
              "#bd3786"
             ],
             [
              0.5555555555555556,
              "#d8576b"
             ],
             [
              0.6666666666666666,
              "#ed7953"
             ],
             [
              0.7777777777777778,
              "#fb9f3a"
             ],
             [
              0.8888888888888888,
              "#fdca26"
             ],
             [
              1,
              "#f0f921"
             ]
            ],
            "type": "histogram2dcontour"
           }
          ],
          "mesh3d": [
           {
            "colorbar": {
             "outlinewidth": 0,
             "ticks": ""
            },
            "type": "mesh3d"
           }
          ],
          "parcoords": [
           {
            "line": {
             "colorbar": {
              "outlinewidth": 0,
              "ticks": ""
             }
            },
            "type": "parcoords"
           }
          ],
          "pie": [
           {
            "automargin": true,
            "type": "pie"
           }
          ],
          "scatter": [
           {
            "fillpattern": {
             "fillmode": "overlay",
             "size": 10,
             "solidity": 0.2
            },
            "type": "scatter"
           }
          ],
          "scatter3d": [
           {
            "line": {
             "colorbar": {
              "outlinewidth": 0,
              "ticks": ""
             }
            },
            "marker": {
             "colorbar": {
              "outlinewidth": 0,
              "ticks": ""
             }
            },
            "type": "scatter3d"
           }
          ],
          "scattercarpet": [
           {
            "marker": {
             "colorbar": {
              "outlinewidth": 0,
              "ticks": ""
             }
            },
            "type": "scattercarpet"
           }
          ],
          "scattergeo": [
           {
            "marker": {
             "colorbar": {
              "outlinewidth": 0,
              "ticks": ""
             }
            },
            "type": "scattergeo"
           }
          ],
          "scattergl": [
           {
            "marker": {
             "colorbar": {
              "outlinewidth": 0,
              "ticks": ""
             }
            },
            "type": "scattergl"
           }
          ],
          "scattermapbox": [
           {
            "marker": {
             "colorbar": {
              "outlinewidth": 0,
              "ticks": ""
             }
            },
            "type": "scattermapbox"
           }
          ],
          "scatterpolar": [
           {
            "marker": {
             "colorbar": {
              "outlinewidth": 0,
              "ticks": ""
             }
            },
            "type": "scatterpolar"
           }
          ],
          "scatterpolargl": [
           {
            "marker": {
             "colorbar": {
              "outlinewidth": 0,
              "ticks": ""
             }
            },
            "type": "scatterpolargl"
           }
          ],
          "scatterternary": [
           {
            "marker": {
             "colorbar": {
              "outlinewidth": 0,
              "ticks": ""
             }
            },
            "type": "scatterternary"
           }
          ],
          "surface": [
           {
            "colorbar": {
             "outlinewidth": 0,
             "ticks": ""
            },
            "colorscale": [
             [
              0,
              "#0d0887"
             ],
             [
              0.1111111111111111,
              "#46039f"
             ],
             [
              0.2222222222222222,
              "#7201a8"
             ],
             [
              0.3333333333333333,
              "#9c179e"
             ],
             [
              0.4444444444444444,
              "#bd3786"
             ],
             [
              0.5555555555555556,
              "#d8576b"
             ],
             [
              0.6666666666666666,
              "#ed7953"
             ],
             [
              0.7777777777777778,
              "#fb9f3a"
             ],
             [
              0.8888888888888888,
              "#fdca26"
             ],
             [
              1,
              "#f0f921"
             ]
            ],
            "type": "surface"
           }
          ],
          "table": [
           {
            "cells": {
             "fill": {
              "color": "#EBF0F8"
             },
             "line": {
              "color": "white"
             }
            },
            "header": {
             "fill": {
              "color": "#C8D4E3"
             },
             "line": {
              "color": "white"
             }
            },
            "type": "table"
           }
          ]
         },
         "layout": {
          "annotationdefaults": {
           "arrowcolor": "#2a3f5f",
           "arrowhead": 0,
           "arrowwidth": 1
          },
          "autotypenumbers": "strict",
          "coloraxis": {
           "colorbar": {
            "outlinewidth": 0,
            "ticks": ""
           }
          },
          "colorscale": {
           "diverging": [
            [
             0,
             "#8e0152"
            ],
            [
             0.1,
             "#c51b7d"
            ],
            [
             0.2,
             "#de77ae"
            ],
            [
             0.3,
             "#f1b6da"
            ],
            [
             0.4,
             "#fde0ef"
            ],
            [
             0.5,
             "#f7f7f7"
            ],
            [
             0.6,
             "#e6f5d0"
            ],
            [
             0.7,
             "#b8e186"
            ],
            [
             0.8,
             "#7fbc41"
            ],
            [
             0.9,
             "#4d9221"
            ],
            [
             1,
             "#276419"
            ]
           ],
           "sequential": [
            [
             0,
             "#0d0887"
            ],
            [
             0.1111111111111111,
             "#46039f"
            ],
            [
             0.2222222222222222,
             "#7201a8"
            ],
            [
             0.3333333333333333,
             "#9c179e"
            ],
            [
             0.4444444444444444,
             "#bd3786"
            ],
            [
             0.5555555555555556,
             "#d8576b"
            ],
            [
             0.6666666666666666,
             "#ed7953"
            ],
            [
             0.7777777777777778,
             "#fb9f3a"
            ],
            [
             0.8888888888888888,
             "#fdca26"
            ],
            [
             1,
             "#f0f921"
            ]
           ],
           "sequentialminus": [
            [
             0,
             "#0d0887"
            ],
            [
             0.1111111111111111,
             "#46039f"
            ],
            [
             0.2222222222222222,
             "#7201a8"
            ],
            [
             0.3333333333333333,
             "#9c179e"
            ],
            [
             0.4444444444444444,
             "#bd3786"
            ],
            [
             0.5555555555555556,
             "#d8576b"
            ],
            [
             0.6666666666666666,
             "#ed7953"
            ],
            [
             0.7777777777777778,
             "#fb9f3a"
            ],
            [
             0.8888888888888888,
             "#fdca26"
            ],
            [
             1,
             "#f0f921"
            ]
           ]
          },
          "colorway": [
           "#636efa",
           "#EF553B",
           "#00cc96",
           "#ab63fa",
           "#FFA15A",
           "#19d3f3",
           "#FF6692",
           "#B6E880",
           "#FF97FF",
           "#FECB52"
          ],
          "font": {
           "color": "#2a3f5f"
          },
          "geo": {
           "bgcolor": "white",
           "lakecolor": "white",
           "landcolor": "#E5ECF6",
           "showlakes": true,
           "showland": true,
           "subunitcolor": "white"
          },
          "hoverlabel": {
           "align": "left"
          },
          "hovermode": "closest",
          "mapbox": {
           "style": "light"
          },
          "paper_bgcolor": "white",
          "plot_bgcolor": "#E5ECF6",
          "polar": {
           "angularaxis": {
            "gridcolor": "white",
            "linecolor": "white",
            "ticks": ""
           },
           "bgcolor": "#E5ECF6",
           "radialaxis": {
            "gridcolor": "white",
            "linecolor": "white",
            "ticks": ""
           }
          },
          "scene": {
           "xaxis": {
            "backgroundcolor": "#E5ECF6",
            "gridcolor": "white",
            "gridwidth": 2,
            "linecolor": "white",
            "showbackground": true,
            "ticks": "",
            "zerolinecolor": "white"
           },
           "yaxis": {
            "backgroundcolor": "#E5ECF6",
            "gridcolor": "white",
            "gridwidth": 2,
            "linecolor": "white",
            "showbackground": true,
            "ticks": "",
            "zerolinecolor": "white"
           },
           "zaxis": {
            "backgroundcolor": "#E5ECF6",
            "gridcolor": "white",
            "gridwidth": 2,
            "linecolor": "white",
            "showbackground": true,
            "ticks": "",
            "zerolinecolor": "white"
           }
          },
          "shapedefaults": {
           "line": {
            "color": "#2a3f5f"
           }
          },
          "ternary": {
           "aaxis": {
            "gridcolor": "white",
            "linecolor": "white",
            "ticks": ""
           },
           "baxis": {
            "gridcolor": "white",
            "linecolor": "white",
            "ticks": ""
           },
           "bgcolor": "#E5ECF6",
           "caxis": {
            "gridcolor": "white",
            "linecolor": "white",
            "ticks": ""
           }
          },
          "title": {
           "x": 0.05
          },
          "xaxis": {
           "automargin": true,
           "gridcolor": "white",
           "linecolor": "white",
           "ticks": "",
           "title": {
            "standoff": 15
           },
           "zerolinecolor": "white",
           "zerolinewidth": 2
          },
          "yaxis": {
           "automargin": true,
           "gridcolor": "white",
           "linecolor": "white",
           "ticks": "",
           "title": {
            "standoff": 15
           },
           "zerolinecolor": "white",
           "zerolinewidth": 2
          }
         }
        },
        "title": {
         "text": "Organic_department 유입 Funnel count"
        },
        "xaxis": {
         "anchor": "y",
         "domain": [
          0,
          1
         ],
         "title": {
          "text": "event_type"
         }
        },
        "yaxis": {
         "anchor": "x",
         "domain": [
          0,
          1
         ],
         "title": {
          "text": "count"
         }
        }
       }
      }
     },
     "metadata": {},
     "output_type": "display_data"
    }
   ],
   "source": [
    "fig = px.funnel(data_frame=funnel_organic_department, x='event_type', y='count', title='Organic_department 유입 Funnel count')\n",
    "fig.update_traces(texttemplate=\"%{value:,.0f}\")\n",
    "fig.show()\n"
   ]
  },
  {
   "cell_type": "code",
   "execution_count": null,
   "metadata": {},
   "outputs": [],
   "source": [
    "view_to_cart_rate = list(funnel_organic_department['count'])[1] / list(funnel_organic_department['count'])[0]\n",
    "view_to_purchase_rate = list(funnel_organic_department['count'])[2] / list(funnel_organic_department['count'])[0]"
   ]
  },
  {
   "cell_type": "code",
   "execution_count": null,
   "metadata": {},
   "outputs": [
    {
     "data": {
      "text/html": [
       "<div>\n",
       "<style scoped>\n",
       "    .dataframe tbody tr th:only-of-type {\n",
       "        vertical-align: middle;\n",
       "    }\n",
       "\n",
       "    .dataframe tbody tr th {\n",
       "        vertical-align: top;\n",
       "    }\n",
       "\n",
       "    .dataframe thead th {\n",
       "        text-align: right;\n",
       "    }\n",
       "</style>\n",
       "<table border=\"1\" class=\"dataframe\">\n",
       "  <thead>\n",
       "    <tr style=\"text-align: right;\">\n",
       "      <th></th>\n",
       "      <th>event_type</th>\n",
       "      <th>count</th>\n",
       "      <th>retain_rate</th>\n",
       "    </tr>\n",
       "  </thead>\n",
       "  <tbody>\n",
       "    <tr>\n",
       "      <th>0</th>\n",
       "      <td>department</td>\n",
       "      <td>23434</td>\n",
       "      <td>1.000000</td>\n",
       "    </tr>\n",
       "    <tr>\n",
       "      <th>1</th>\n",
       "      <td>cart</td>\n",
       "      <td>17192</td>\n",
       "      <td>0.733635</td>\n",
       "    </tr>\n",
       "    <tr>\n",
       "      <th>3</th>\n",
       "      <td>purchase</td>\n",
       "      <td>4073</td>\n",
       "      <td>0.173807</td>\n",
       "    </tr>\n",
       "  </tbody>\n",
       "</table>\n",
       "</div>"
      ],
      "text/plain": [
       "   event_type  count  retain_rate\n",
       "0  department  23434     1.000000\n",
       "1        cart  17192     0.733635\n",
       "3    purchase   4073     0.173807"
      ]
     },
     "execution_count": 134,
     "metadata": {},
     "output_type": "execute_result"
    }
   ],
   "source": [
    "funnel_organic_department['retain_rate'] = [1, view_to_cart_rate, view_to_purchase_rate]\n",
    "funnel_organic_department"
   ]
  },
  {
   "cell_type": "code",
   "execution_count": null,
   "metadata": {},
   "outputs": [
    {
     "data": {
      "application/vnd.plotly.v1+json": {
       "config": {
        "plotlyServerURL": "https://plot.ly"
       },
       "data": [
        {
         "hovertemplate": "event_type=%{x}<br>retain_rate=%{y}<extra></extra>",
         "legendgroup": "",
         "marker": {
          "color": "#636efa"
         },
         "name": "",
         "orientation": "v",
         "showlegend": false,
         "texttemplate": "%{value:,.2%}",
         "type": "funnel",
         "x": [
          "department",
          "cart",
          "purchase"
         ],
         "xaxis": "x",
         "y": [
          1,
          0.7336348894768285,
          0.1738072885550909
         ],
         "yaxis": "y"
        }
       ],
       "layout": {
        "legend": {
         "tracegroupgap": 0
        },
        "template": {
         "data": {
          "bar": [
           {
            "error_x": {
             "color": "#2a3f5f"
            },
            "error_y": {
             "color": "#2a3f5f"
            },
            "marker": {
             "line": {
              "color": "#E5ECF6",
              "width": 0.5
             },
             "pattern": {
              "fillmode": "overlay",
              "size": 10,
              "solidity": 0.2
             }
            },
            "type": "bar"
           }
          ],
          "barpolar": [
           {
            "marker": {
             "line": {
              "color": "#E5ECF6",
              "width": 0.5
             },
             "pattern": {
              "fillmode": "overlay",
              "size": 10,
              "solidity": 0.2
             }
            },
            "type": "barpolar"
           }
          ],
          "carpet": [
           {
            "aaxis": {
             "endlinecolor": "#2a3f5f",
             "gridcolor": "white",
             "linecolor": "white",
             "minorgridcolor": "white",
             "startlinecolor": "#2a3f5f"
            },
            "baxis": {
             "endlinecolor": "#2a3f5f",
             "gridcolor": "white",
             "linecolor": "white",
             "minorgridcolor": "white",
             "startlinecolor": "#2a3f5f"
            },
            "type": "carpet"
           }
          ],
          "choropleth": [
           {
            "colorbar": {
             "outlinewidth": 0,
             "ticks": ""
            },
            "type": "choropleth"
           }
          ],
          "contour": [
           {
            "colorbar": {
             "outlinewidth": 0,
             "ticks": ""
            },
            "colorscale": [
             [
              0,
              "#0d0887"
             ],
             [
              0.1111111111111111,
              "#46039f"
             ],
             [
              0.2222222222222222,
              "#7201a8"
             ],
             [
              0.3333333333333333,
              "#9c179e"
             ],
             [
              0.4444444444444444,
              "#bd3786"
             ],
             [
              0.5555555555555556,
              "#d8576b"
             ],
             [
              0.6666666666666666,
              "#ed7953"
             ],
             [
              0.7777777777777778,
              "#fb9f3a"
             ],
             [
              0.8888888888888888,
              "#fdca26"
             ],
             [
              1,
              "#f0f921"
             ]
            ],
            "type": "contour"
           }
          ],
          "contourcarpet": [
           {
            "colorbar": {
             "outlinewidth": 0,
             "ticks": ""
            },
            "type": "contourcarpet"
           }
          ],
          "heatmap": [
           {
            "colorbar": {
             "outlinewidth": 0,
             "ticks": ""
            },
            "colorscale": [
             [
              0,
              "#0d0887"
             ],
             [
              0.1111111111111111,
              "#46039f"
             ],
             [
              0.2222222222222222,
              "#7201a8"
             ],
             [
              0.3333333333333333,
              "#9c179e"
             ],
             [
              0.4444444444444444,
              "#bd3786"
             ],
             [
              0.5555555555555556,
              "#d8576b"
             ],
             [
              0.6666666666666666,
              "#ed7953"
             ],
             [
              0.7777777777777778,
              "#fb9f3a"
             ],
             [
              0.8888888888888888,
              "#fdca26"
             ],
             [
              1,
              "#f0f921"
             ]
            ],
            "type": "heatmap"
           }
          ],
          "heatmapgl": [
           {
            "colorbar": {
             "outlinewidth": 0,
             "ticks": ""
            },
            "colorscale": [
             [
              0,
              "#0d0887"
             ],
             [
              0.1111111111111111,
              "#46039f"
             ],
             [
              0.2222222222222222,
              "#7201a8"
             ],
             [
              0.3333333333333333,
              "#9c179e"
             ],
             [
              0.4444444444444444,
              "#bd3786"
             ],
             [
              0.5555555555555556,
              "#d8576b"
             ],
             [
              0.6666666666666666,
              "#ed7953"
             ],
             [
              0.7777777777777778,
              "#fb9f3a"
             ],
             [
              0.8888888888888888,
              "#fdca26"
             ],
             [
              1,
              "#f0f921"
             ]
            ],
            "type": "heatmapgl"
           }
          ],
          "histogram": [
           {
            "marker": {
             "pattern": {
              "fillmode": "overlay",
              "size": 10,
              "solidity": 0.2
             }
            },
            "type": "histogram"
           }
          ],
          "histogram2d": [
           {
            "colorbar": {
             "outlinewidth": 0,
             "ticks": ""
            },
            "colorscale": [
             [
              0,
              "#0d0887"
             ],
             [
              0.1111111111111111,
              "#46039f"
             ],
             [
              0.2222222222222222,
              "#7201a8"
             ],
             [
              0.3333333333333333,
              "#9c179e"
             ],
             [
              0.4444444444444444,
              "#bd3786"
             ],
             [
              0.5555555555555556,
              "#d8576b"
             ],
             [
              0.6666666666666666,
              "#ed7953"
             ],
             [
              0.7777777777777778,
              "#fb9f3a"
             ],
             [
              0.8888888888888888,
              "#fdca26"
             ],
             [
              1,
              "#f0f921"
             ]
            ],
            "type": "histogram2d"
           }
          ],
          "histogram2dcontour": [
           {
            "colorbar": {
             "outlinewidth": 0,
             "ticks": ""
            },
            "colorscale": [
             [
              0,
              "#0d0887"
             ],
             [
              0.1111111111111111,
              "#46039f"
             ],
             [
              0.2222222222222222,
              "#7201a8"
             ],
             [
              0.3333333333333333,
              "#9c179e"
             ],
             [
              0.4444444444444444,
              "#bd3786"
             ],
             [
              0.5555555555555556,
              "#d8576b"
             ],
             [
              0.6666666666666666,
              "#ed7953"
             ],
             [
              0.7777777777777778,
              "#fb9f3a"
             ],
             [
              0.8888888888888888,
              "#fdca26"
             ],
             [
              1,
              "#f0f921"
             ]
            ],
            "type": "histogram2dcontour"
           }
          ],
          "mesh3d": [
           {
            "colorbar": {
             "outlinewidth": 0,
             "ticks": ""
            },
            "type": "mesh3d"
           }
          ],
          "parcoords": [
           {
            "line": {
             "colorbar": {
              "outlinewidth": 0,
              "ticks": ""
             }
            },
            "type": "parcoords"
           }
          ],
          "pie": [
           {
            "automargin": true,
            "type": "pie"
           }
          ],
          "scatter": [
           {
            "fillpattern": {
             "fillmode": "overlay",
             "size": 10,
             "solidity": 0.2
            },
            "type": "scatter"
           }
          ],
          "scatter3d": [
           {
            "line": {
             "colorbar": {
              "outlinewidth": 0,
              "ticks": ""
             }
            },
            "marker": {
             "colorbar": {
              "outlinewidth": 0,
              "ticks": ""
             }
            },
            "type": "scatter3d"
           }
          ],
          "scattercarpet": [
           {
            "marker": {
             "colorbar": {
              "outlinewidth": 0,
              "ticks": ""
             }
            },
            "type": "scattercarpet"
           }
          ],
          "scattergeo": [
           {
            "marker": {
             "colorbar": {
              "outlinewidth": 0,
              "ticks": ""
             }
            },
            "type": "scattergeo"
           }
          ],
          "scattergl": [
           {
            "marker": {
             "colorbar": {
              "outlinewidth": 0,
              "ticks": ""
             }
            },
            "type": "scattergl"
           }
          ],
          "scattermapbox": [
           {
            "marker": {
             "colorbar": {
              "outlinewidth": 0,
              "ticks": ""
             }
            },
            "type": "scattermapbox"
           }
          ],
          "scatterpolar": [
           {
            "marker": {
             "colorbar": {
              "outlinewidth": 0,
              "ticks": ""
             }
            },
            "type": "scatterpolar"
           }
          ],
          "scatterpolargl": [
           {
            "marker": {
             "colorbar": {
              "outlinewidth": 0,
              "ticks": ""
             }
            },
            "type": "scatterpolargl"
           }
          ],
          "scatterternary": [
           {
            "marker": {
             "colorbar": {
              "outlinewidth": 0,
              "ticks": ""
             }
            },
            "type": "scatterternary"
           }
          ],
          "surface": [
           {
            "colorbar": {
             "outlinewidth": 0,
             "ticks": ""
            },
            "colorscale": [
             [
              0,
              "#0d0887"
             ],
             [
              0.1111111111111111,
              "#46039f"
             ],
             [
              0.2222222222222222,
              "#7201a8"
             ],
             [
              0.3333333333333333,
              "#9c179e"
             ],
             [
              0.4444444444444444,
              "#bd3786"
             ],
             [
              0.5555555555555556,
              "#d8576b"
             ],
             [
              0.6666666666666666,
              "#ed7953"
             ],
             [
              0.7777777777777778,
              "#fb9f3a"
             ],
             [
              0.8888888888888888,
              "#fdca26"
             ],
             [
              1,
              "#f0f921"
             ]
            ],
            "type": "surface"
           }
          ],
          "table": [
           {
            "cells": {
             "fill": {
              "color": "#EBF0F8"
             },
             "line": {
              "color": "white"
             }
            },
            "header": {
             "fill": {
              "color": "#C8D4E3"
             },
             "line": {
              "color": "white"
             }
            },
            "type": "table"
           }
          ]
         },
         "layout": {
          "annotationdefaults": {
           "arrowcolor": "#2a3f5f",
           "arrowhead": 0,
           "arrowwidth": 1
          },
          "autotypenumbers": "strict",
          "coloraxis": {
           "colorbar": {
            "outlinewidth": 0,
            "ticks": ""
           }
          },
          "colorscale": {
           "diverging": [
            [
             0,
             "#8e0152"
            ],
            [
             0.1,
             "#c51b7d"
            ],
            [
             0.2,
             "#de77ae"
            ],
            [
             0.3,
             "#f1b6da"
            ],
            [
             0.4,
             "#fde0ef"
            ],
            [
             0.5,
             "#f7f7f7"
            ],
            [
             0.6,
             "#e6f5d0"
            ],
            [
             0.7,
             "#b8e186"
            ],
            [
             0.8,
             "#7fbc41"
            ],
            [
             0.9,
             "#4d9221"
            ],
            [
             1,
             "#276419"
            ]
           ],
           "sequential": [
            [
             0,
             "#0d0887"
            ],
            [
             0.1111111111111111,
             "#46039f"
            ],
            [
             0.2222222222222222,
             "#7201a8"
            ],
            [
             0.3333333333333333,
             "#9c179e"
            ],
            [
             0.4444444444444444,
             "#bd3786"
            ],
            [
             0.5555555555555556,
             "#d8576b"
            ],
            [
             0.6666666666666666,
             "#ed7953"
            ],
            [
             0.7777777777777778,
             "#fb9f3a"
            ],
            [
             0.8888888888888888,
             "#fdca26"
            ],
            [
             1,
             "#f0f921"
            ]
           ],
           "sequentialminus": [
            [
             0,
             "#0d0887"
            ],
            [
             0.1111111111111111,
             "#46039f"
            ],
            [
             0.2222222222222222,
             "#7201a8"
            ],
            [
             0.3333333333333333,
             "#9c179e"
            ],
            [
             0.4444444444444444,
             "#bd3786"
            ],
            [
             0.5555555555555556,
             "#d8576b"
            ],
            [
             0.6666666666666666,
             "#ed7953"
            ],
            [
             0.7777777777777778,
             "#fb9f3a"
            ],
            [
             0.8888888888888888,
             "#fdca26"
            ],
            [
             1,
             "#f0f921"
            ]
           ]
          },
          "colorway": [
           "#636efa",
           "#EF553B",
           "#00cc96",
           "#ab63fa",
           "#FFA15A",
           "#19d3f3",
           "#FF6692",
           "#B6E880",
           "#FF97FF",
           "#FECB52"
          ],
          "font": {
           "color": "#2a3f5f"
          },
          "geo": {
           "bgcolor": "white",
           "lakecolor": "white",
           "landcolor": "#E5ECF6",
           "showlakes": true,
           "showland": true,
           "subunitcolor": "white"
          },
          "hoverlabel": {
           "align": "left"
          },
          "hovermode": "closest",
          "mapbox": {
           "style": "light"
          },
          "paper_bgcolor": "white",
          "plot_bgcolor": "#E5ECF6",
          "polar": {
           "angularaxis": {
            "gridcolor": "white",
            "linecolor": "white",
            "ticks": ""
           },
           "bgcolor": "#E5ECF6",
           "radialaxis": {
            "gridcolor": "white",
            "linecolor": "white",
            "ticks": ""
           }
          },
          "scene": {
           "xaxis": {
            "backgroundcolor": "#E5ECF6",
            "gridcolor": "white",
            "gridwidth": 2,
            "linecolor": "white",
            "showbackground": true,
            "ticks": "",
            "zerolinecolor": "white"
           },
           "yaxis": {
            "backgroundcolor": "#E5ECF6",
            "gridcolor": "white",
            "gridwidth": 2,
            "linecolor": "white",
            "showbackground": true,
            "ticks": "",
            "zerolinecolor": "white"
           },
           "zaxis": {
            "backgroundcolor": "#E5ECF6",
            "gridcolor": "white",
            "gridwidth": 2,
            "linecolor": "white",
            "showbackground": true,
            "ticks": "",
            "zerolinecolor": "white"
           }
          },
          "shapedefaults": {
           "line": {
            "color": "#2a3f5f"
           }
          },
          "ternary": {
           "aaxis": {
            "gridcolor": "white",
            "linecolor": "white",
            "ticks": ""
           },
           "baxis": {
            "gridcolor": "white",
            "linecolor": "white",
            "ticks": ""
           },
           "bgcolor": "#E5ECF6",
           "caxis": {
            "gridcolor": "white",
            "linecolor": "white",
            "ticks": ""
           }
          },
          "title": {
           "x": 0.05
          },
          "xaxis": {
           "automargin": true,
           "gridcolor": "white",
           "linecolor": "white",
           "ticks": "",
           "title": {
            "standoff": 15
           },
           "zerolinecolor": "white",
           "zerolinewidth": 2
          },
          "yaxis": {
           "automargin": true,
           "gridcolor": "white",
           "linecolor": "white",
           "ticks": "",
           "title": {
            "standoff": 15
           },
           "zerolinecolor": "white",
           "zerolinewidth": 2
          }
         }
        },
        "title": {
         "text": "Organic_department 유입 Funnel Conversion rate"
        },
        "xaxis": {
         "anchor": "y",
         "domain": [
          0,
          1
         ],
         "title": {
          "text": "event_type"
         }
        },
        "yaxis": {
         "anchor": "x",
         "domain": [
          0,
          1
         ],
         "title": {
          "text": "retain_rate"
         }
        }
       }
      }
     },
     "metadata": {},
     "output_type": "display_data"
    }
   ],
   "source": [
    "fig = px.funnel(data_frame=funnel_organic_department, x='event_type', y='retain_rate', title='Organic_department 유입 Funnel Conversion rate')\n",
    "fig.update_traces(texttemplate=\"%{value:,.2%}\")\n",
    "fig.show()"
   ]
  },
  {
   "cell_type": "markdown",
   "metadata": {},
   "source": [
    "#### organic - product로 유입"
   ]
  },
  {
   "cell_type": "code",
   "execution_count": null,
   "metadata": {},
   "outputs": [
    {
     "data": {
      "text/html": [
       "<div>\n",
       "<style scoped>\n",
       "    .dataframe tbody tr th:only-of-type {\n",
       "        vertical-align: middle;\n",
       "    }\n",
       "\n",
       "    .dataframe tbody tr th {\n",
       "        vertical-align: top;\n",
       "    }\n",
       "\n",
       "    .dataframe thead th {\n",
       "        text-align: right;\n",
       "    }\n",
       "</style>\n",
       "<table border=\"1\" class=\"dataframe\">\n",
       "  <thead>\n",
       "    <tr style=\"text-align: right;\">\n",
       "      <th></th>\n",
       "      <th>event_id</th>\n",
       "      <th>user_id</th>\n",
       "      <th>sequence_number</th>\n",
       "      <th>session_id</th>\n",
       "      <th>event_created_at</th>\n",
       "      <th>ip_address</th>\n",
       "      <th>city</th>\n",
       "      <th>state</th>\n",
       "      <th>postal_code</th>\n",
       "      <th>browser</th>\n",
       "      <th>event_traffic_source</th>\n",
       "      <th>uri</th>\n",
       "      <th>event_type</th>\n",
       "      <th>year</th>\n",
       "      <th>month</th>\n",
       "      <th>day</th>\n",
       "      <th>date</th>\n",
       "    </tr>\n",
       "  </thead>\n",
       "  <tbody>\n",
       "    <tr>\n",
       "      <th>40</th>\n",
       "      <td>1714580</td>\n",
       "      <td>&lt;NA&gt;</td>\n",
       "      <td>3</td>\n",
       "      <td>d0269c4a-21ef-487c-abab-e8f8499fed67</td>\n",
       "      <td>2019-10-23 03:27:00+00:00</td>\n",
       "      <td>48.216.35.167</td>\n",
       "      <td>Handan</td>\n",
       "      <td>Liaoning</td>\n",
       "      <td>110055</td>\n",
       "      <td>Safari</td>\n",
       "      <td>Organic</td>\n",
       "      <td>/cancel</td>\n",
       "      <td>cancel</td>\n",
       "      <td>2019</td>\n",
       "      <td>10</td>\n",
       "      <td>23</td>\n",
       "      <td>2019-10-23</td>\n",
       "    </tr>\n",
       "    <tr>\n",
       "      <th>73</th>\n",
       "      <td>2159136</td>\n",
       "      <td>&lt;NA&gt;</td>\n",
       "      <td>3</td>\n",
       "      <td>de1bb5f6-e079-4331-ab73-e1264ac8083c</td>\n",
       "      <td>2022-01-30 17:36:00+00:00</td>\n",
       "      <td>197.219.61.81</td>\n",
       "      <td>Colonie</td>\n",
       "      <td>New York</td>\n",
       "      <td>12205</td>\n",
       "      <td>Firefox</td>\n",
       "      <td>Organic</td>\n",
       "      <td>/cancel</td>\n",
       "      <td>cancel</td>\n",
       "      <td>2022</td>\n",
       "      <td>1</td>\n",
       "      <td>30</td>\n",
       "      <td>2022-01-30</td>\n",
       "    </tr>\n",
       "    <tr>\n",
       "      <th>102</th>\n",
       "      <td>1966412</td>\n",
       "      <td>&lt;NA&gt;</td>\n",
       "      <td>3</td>\n",
       "      <td>87ab6204-0282-47cc-baf6-8a7d845450fc</td>\n",
       "      <td>2023-05-06 05:46:00+00:00</td>\n",
       "      <td>45.101.82.69</td>\n",
       "      <td>Wuhan</td>\n",
       "      <td>Inner Mongolia Autonomous Region</td>\n",
       "      <td>14031</td>\n",
       "      <td>Chrome</td>\n",
       "      <td>Organic</td>\n",
       "      <td>/cancel</td>\n",
       "      <td>cancel</td>\n",
       "      <td>2023</td>\n",
       "      <td>5</td>\n",
       "      <td>6</td>\n",
       "      <td>2023-05-06</td>\n",
       "    </tr>\n",
       "    <tr>\n",
       "      <th>126</th>\n",
       "      <td>2377749</td>\n",
       "      <td>&lt;NA&gt;</td>\n",
       "      <td>3</td>\n",
       "      <td>062cb038-fab0-4bc9-a691-cc906857fdac</td>\n",
       "      <td>2021-07-07 04:12:00+00:00</td>\n",
       "      <td>150.85.175.222</td>\n",
       "      <td>Zhoukou</td>\n",
       "      <td>Heilongjiang</td>\n",
       "      <td>157199</td>\n",
       "      <td>Chrome</td>\n",
       "      <td>Organic</td>\n",
       "      <td>/cancel</td>\n",
       "      <td>cancel</td>\n",
       "      <td>2021</td>\n",
       "      <td>7</td>\n",
       "      <td>7</td>\n",
       "      <td>2021-07-07</td>\n",
       "    </tr>\n",
       "    <tr>\n",
       "      <th>139</th>\n",
       "      <td>1629377</td>\n",
       "      <td>&lt;NA&gt;</td>\n",
       "      <td>3</td>\n",
       "      <td>27662e07-2021-4a4d-8533-369619902ef1</td>\n",
       "      <td>2019-10-11 01:04:00+00:00</td>\n",
       "      <td>36.250.44.28</td>\n",
       "      <td>Boituva</td>\n",
       "      <td>São Paulo</td>\n",
       "      <td>18550-000</td>\n",
       "      <td>Safari</td>\n",
       "      <td>Organic</td>\n",
       "      <td>/cancel</td>\n",
       "      <td>cancel</td>\n",
       "      <td>2019</td>\n",
       "      <td>10</td>\n",
       "      <td>11</td>\n",
       "      <td>2019-10-11</td>\n",
       "    </tr>\n",
       "  </tbody>\n",
       "</table>\n",
       "</div>"
      ],
      "text/plain": [
       "     event_id  user_id  sequence_number                            session_id  \\\n",
       "40    1714580     <NA>                3  d0269c4a-21ef-487c-abab-e8f8499fed67   \n",
       "73    2159136     <NA>                3  de1bb5f6-e079-4331-ab73-e1264ac8083c   \n",
       "102   1966412     <NA>                3  87ab6204-0282-47cc-baf6-8a7d845450fc   \n",
       "126   2377749     <NA>                3  062cb038-fab0-4bc9-a691-cc906857fdac   \n",
       "139   1629377     <NA>                3  27662e07-2021-4a4d-8533-369619902ef1   \n",
       "\n",
       "             event_created_at      ip_address     city  \\\n",
       "40  2019-10-23 03:27:00+00:00   48.216.35.167   Handan   \n",
       "73  2022-01-30 17:36:00+00:00   197.219.61.81  Colonie   \n",
       "102 2023-05-06 05:46:00+00:00    45.101.82.69    Wuhan   \n",
       "126 2021-07-07 04:12:00+00:00  150.85.175.222  Zhoukou   \n",
       "139 2019-10-11 01:04:00+00:00    36.250.44.28  Boituva   \n",
       "\n",
       "                                state postal_code  browser  \\\n",
       "40                           Liaoning      110055   Safari   \n",
       "73                           New York       12205  Firefox   \n",
       "102  Inner Mongolia Autonomous Region       14031   Chrome   \n",
       "126                      Heilongjiang      157199   Chrome   \n",
       "139                         São Paulo   18550-000   Safari   \n",
       "\n",
       "    event_traffic_source      uri event_type  year  month  day        date  \n",
       "40               Organic  /cancel     cancel  2019     10   23  2019-10-23  \n",
       "73               Organic  /cancel     cancel  2022      1   30  2022-01-30  \n",
       "102              Organic  /cancel     cancel  2023      5    6  2023-05-06  \n",
       "126              Organic  /cancel     cancel  2021      7    7  2021-07-07  \n",
       "139              Organic  /cancel     cancel  2019     10   11  2019-10-11  "
      ]
     },
     "execution_count": 141,
     "metadata": {},
     "output_type": "execute_result"
    }
   ],
   "source": [
    "# sequence_number가 1이고 event_type이 department인 세션을 필터링합니다.\n",
    "filtered_sessions_product = first_event_per_session[first_event_per_session['event_type'] == 'product']\n",
    "\n",
    "# 필터링된 세션의 session_id를 가져옵니다.\n",
    "filtered_session_ids_product = filtered_sessions_product['session_id'].tolist()\n",
    "\n",
    "# 필터링된 session_id를 사용하여 원본 데이터를 필터링합니다.\n",
    "organic_product = events_organic[events_organic['session_id'].isin(filtered_session_ids_product)]\n",
    "\n",
    "organic_product.head()"
   ]
  },
  {
   "cell_type": "code",
   "execution_count": null,
   "metadata": {},
   "outputs": [
    {
     "name": "stderr",
     "output_type": "stream",
     "text": [
      "/var/folders/qv/tqmmyp0s5dj996k_tcvqmtqm0000gn/T/ipykernel_3187/2805788697.py:1: FutureWarning:\n",
      "\n",
      "The default value of observed=False is deprecated and will change to observed=True in a future version of pandas. Specify observed=False to silence this warning and retain the current behavior\n",
      "\n"
     ]
    },
    {
     "data": {
      "text/html": [
       "<div>\n",
       "<style scoped>\n",
       "    .dataframe tbody tr th:only-of-type {\n",
       "        vertical-align: middle;\n",
       "    }\n",
       "\n",
       "    .dataframe tbody tr th {\n",
       "        vertical-align: top;\n",
       "    }\n",
       "\n",
       "    .dataframe thead th {\n",
       "        text-align: right;\n",
       "    }\n",
       "</style>\n",
       "<table border=\"1\" class=\"dataframe\">\n",
       "  <thead>\n",
       "    <tr style=\"text-align: right;\">\n",
       "      <th>event_type</th>\n",
       "      <th>session_id</th>\n",
       "      <th>cancel</th>\n",
       "      <th>cart</th>\n",
       "      <th>department</th>\n",
       "      <th>home</th>\n",
       "      <th>product</th>\n",
       "      <th>purchase</th>\n",
       "    </tr>\n",
       "  </thead>\n",
       "  <tbody>\n",
       "    <tr>\n",
       "      <th>0</th>\n",
       "      <td>00044046-4052-41dd-99da-2729079537e8</td>\n",
       "      <td>0</td>\n",
       "      <td>0</td>\n",
       "      <td>0</td>\n",
       "      <td>0</td>\n",
       "      <td>1</td>\n",
       "      <td>0</td>\n",
       "    </tr>\n",
       "    <tr>\n",
       "      <th>1</th>\n",
       "      <td>00070102-611b-4d1c-a04e-26d48fc223d1</td>\n",
       "      <td>1</td>\n",
       "      <td>1</td>\n",
       "      <td>0</td>\n",
       "      <td>0</td>\n",
       "      <td>1</td>\n",
       "      <td>0</td>\n",
       "    </tr>\n",
       "    <tr>\n",
       "      <th>2</th>\n",
       "      <td>0018cce4-c4dd-43f5-9c5b-4a234f24f4d3</td>\n",
       "      <td>1</td>\n",
       "      <td>1</td>\n",
       "      <td>0</td>\n",
       "      <td>0</td>\n",
       "      <td>1</td>\n",
       "      <td>0</td>\n",
       "    </tr>\n",
       "    <tr>\n",
       "      <th>3</th>\n",
       "      <td>002d5645-3fbc-4451-93a0-497fd5f5494d</td>\n",
       "      <td>1</td>\n",
       "      <td>1</td>\n",
       "      <td>0</td>\n",
       "      <td>0</td>\n",
       "      <td>1</td>\n",
       "      <td>0</td>\n",
       "    </tr>\n",
       "    <tr>\n",
       "      <th>4</th>\n",
       "      <td>0038e897-3880-4472-a743-0a02194f8f75</td>\n",
       "      <td>1</td>\n",
       "      <td>1</td>\n",
       "      <td>0</td>\n",
       "      <td>0</td>\n",
       "      <td>1</td>\n",
       "      <td>0</td>\n",
       "    </tr>\n",
       "    <tr>\n",
       "      <th>...</th>\n",
       "      <td>...</td>\n",
       "      <td>...</td>\n",
       "      <td>...</td>\n",
       "      <td>...</td>\n",
       "      <td>...</td>\n",
       "      <td>...</td>\n",
       "      <td>...</td>\n",
       "    </tr>\n",
       "    <tr>\n",
       "      <th>12249</th>\n",
       "      <td>ffeea53d-9fd7-4d81-b30d-081c06fc77ab</td>\n",
       "      <td>1</td>\n",
       "      <td>1</td>\n",
       "      <td>0</td>\n",
       "      <td>0</td>\n",
       "      <td>1</td>\n",
       "      <td>0</td>\n",
       "    </tr>\n",
       "    <tr>\n",
       "      <th>12250</th>\n",
       "      <td>fff1631a-ea96-4ccb-93f8-c431ab7c9e51</td>\n",
       "      <td>0</td>\n",
       "      <td>0</td>\n",
       "      <td>0</td>\n",
       "      <td>0</td>\n",
       "      <td>1</td>\n",
       "      <td>0</td>\n",
       "    </tr>\n",
       "    <tr>\n",
       "      <th>12251</th>\n",
       "      <td>fff2831c-6dd4-4df6-b0d2-9bc6c9b35c22</td>\n",
       "      <td>0</td>\n",
       "      <td>0</td>\n",
       "      <td>0</td>\n",
       "      <td>0</td>\n",
       "      <td>1</td>\n",
       "      <td>0</td>\n",
       "    </tr>\n",
       "    <tr>\n",
       "      <th>12252</th>\n",
       "      <td>fff66917-ea37-411b-98b9-7d17d4373a52</td>\n",
       "      <td>0</td>\n",
       "      <td>0</td>\n",
       "      <td>0</td>\n",
       "      <td>0</td>\n",
       "      <td>1</td>\n",
       "      <td>0</td>\n",
       "    </tr>\n",
       "    <tr>\n",
       "      <th>12253</th>\n",
       "      <td>fff7979e-cfd4-4e90-92f4-c0c07cca178d</td>\n",
       "      <td>1</td>\n",
       "      <td>1</td>\n",
       "      <td>0</td>\n",
       "      <td>0</td>\n",
       "      <td>1</td>\n",
       "      <td>0</td>\n",
       "    </tr>\n",
       "  </tbody>\n",
       "</table>\n",
       "<p>12254 rows × 7 columns</p>\n",
       "</div>"
      ],
      "text/plain": [
       "event_type                            session_id  cancel  cart  department  \\\n",
       "0           00044046-4052-41dd-99da-2729079537e8       0     0           0   \n",
       "1           00070102-611b-4d1c-a04e-26d48fc223d1       1     1           0   \n",
       "2           0018cce4-c4dd-43f5-9c5b-4a234f24f4d3       1     1           0   \n",
       "3           002d5645-3fbc-4451-93a0-497fd5f5494d       1     1           0   \n",
       "4           0038e897-3880-4472-a743-0a02194f8f75       1     1           0   \n",
       "...                                          ...     ...   ...         ...   \n",
       "12249       ffeea53d-9fd7-4d81-b30d-081c06fc77ab       1     1           0   \n",
       "12250       fff1631a-ea96-4ccb-93f8-c431ab7c9e51       0     0           0   \n",
       "12251       fff2831c-6dd4-4df6-b0d2-9bc6c9b35c22       0     0           0   \n",
       "12252       fff66917-ea37-411b-98b9-7d17d4373a52       0     0           0   \n",
       "12253       fff7979e-cfd4-4e90-92f4-c0c07cca178d       1     1           0   \n",
       "\n",
       "event_type  home  product  purchase  \n",
       "0              0        1         0  \n",
       "1              0        1         0  \n",
       "2              0        1         0  \n",
       "3              0        1         0  \n",
       "4              0        1         0  \n",
       "...          ...      ...       ...  \n",
       "12249          0        1         0  \n",
       "12250          0        1         0  \n",
       "12251          0        1         0  \n",
       "12252          0        1         0  \n",
       "12253          0        1         0  \n",
       "\n",
       "[12254 rows x 7 columns]"
      ]
     },
     "execution_count": 142,
     "metadata": {},
     "output_type": "execute_result"
    }
   ],
   "source": [
    "session_pivot_organic_product = pd.pivot_table(data=organic_product, index='session_id', columns='event_type', values='event_created_at', aggfunc='count').reset_index().fillna(0)\n",
    "session_pivot_organic_product"
   ]
  },
  {
   "cell_type": "code",
   "execution_count": null,
   "metadata": {},
   "outputs": [
    {
     "name": "stdout",
     "output_type": "stream",
     "text": [
      "purchase 열의 최대값: 0\n",
      "department 열의 최대값 0\n",
      "product 열의 최대값 1\n",
      "cart 열의 최대값 1\n"
     ]
    }
   ],
   "source": [
    "max_purchase = session_pivot_organic_product['purchase'].max()\n",
    "max_department = session_pivot_organic_product['department'].max()\n",
    "max_product = session_pivot_organic_product['product'].max()\n",
    "max_cart = session_pivot_organic_product['cart'].max()\n",
    "\n",
    "print(\"purchase 열의 최대값:\", max_purchase)\n",
    "print(\"department 열의 최대값\", max_department)\n",
    "print(\"product 열의 최대값\", max_product)\n",
    "print(\"cart 열의 최대값\", max_cart)"
   ]
  },
  {
   "cell_type": "code",
   "execution_count": null,
   "metadata": {},
   "outputs": [],
   "source": [
    "cart_session_organic_product = list(session_pivot_organic_product.query('cart > 0')['session_id'])\n",
    "purchased_session_organic_product = list(session_pivot_organic_product.query('purchase > 0')['session_id'])"
   ]
  },
  {
   "cell_type": "code",
   "execution_count": null,
   "metadata": {},
   "outputs": [
    {
     "data": {
      "text/html": [
       "<div>\n",
       "<style scoped>\n",
       "    .dataframe tbody tr th:only-of-type {\n",
       "        vertical-align: middle;\n",
       "    }\n",
       "\n",
       "    .dataframe tbody tr th {\n",
       "        vertical-align: top;\n",
       "    }\n",
       "\n",
       "    .dataframe thead th {\n",
       "        text-align: right;\n",
       "    }\n",
       "</style>\n",
       "<table border=\"1\" class=\"dataframe\">\n",
       "  <thead>\n",
       "    <tr style=\"text-align: right;\">\n",
       "      <th></th>\n",
       "      <th>session_id</th>\n",
       "      <th>max</th>\n",
       "      <th>min</th>\n",
       "      <th>duration</th>\n",
       "      <th>max_sequence_number</th>\n",
       "    </tr>\n",
       "  </thead>\n",
       "  <tbody>\n",
       "    <tr>\n",
       "      <th>36</th>\n",
       "      <td>00044046-4052-41dd-99da-2729079537e8</td>\n",
       "      <td>2020-12-03 02:41:00+00:00</td>\n",
       "      <td>2020-12-03 02:41:00+00:00</td>\n",
       "      <td>0 days 00:00:00</td>\n",
       "      <td>1</td>\n",
       "    </tr>\n",
       "    <tr>\n",
       "      <th>64</th>\n",
       "      <td>00070102-611b-4d1c-a04e-26d48fc223d1</td>\n",
       "      <td>2019-02-17 19:17:00+00:00</td>\n",
       "      <td>2019-02-17 18:31:00+00:00</td>\n",
       "      <td>0 days 00:46:00</td>\n",
       "      <td>3</td>\n",
       "    </tr>\n",
       "    <tr>\n",
       "      <th>253</th>\n",
       "      <td>0018cce4-c4dd-43f5-9c5b-4a234f24f4d3</td>\n",
       "      <td>2022-08-01 02:15:00+00:00</td>\n",
       "      <td>2022-08-01 01:59:00+00:00</td>\n",
       "      <td>0 days 00:16:00</td>\n",
       "      <td>3</td>\n",
       "    </tr>\n",
       "    <tr>\n",
       "      <th>476</th>\n",
       "      <td>002d5645-3fbc-4451-93a0-497fd5f5494d</td>\n",
       "      <td>2023-05-02 03:43:00+00:00</td>\n",
       "      <td>2023-05-02 03:11:00+00:00</td>\n",
       "      <td>0 days 00:32:00</td>\n",
       "      <td>3</td>\n",
       "    </tr>\n",
       "    <tr>\n",
       "      <th>585</th>\n",
       "      <td>0038e897-3880-4472-a743-0a02194f8f75</td>\n",
       "      <td>2021-10-29 14:36:00+00:00</td>\n",
       "      <td>2021-10-29 14:26:00+00:00</td>\n",
       "      <td>0 days 00:10:00</td>\n",
       "      <td>3</td>\n",
       "    </tr>\n",
       "    <tr>\n",
       "      <th>...</th>\n",
       "      <td>...</td>\n",
       "      <td>...</td>\n",
       "      <td>...</td>\n",
       "      <td>...</td>\n",
       "      <td>...</td>\n",
       "    </tr>\n",
       "    <tr>\n",
       "      <th>643423</th>\n",
       "      <td>ffeea53d-9fd7-4d81-b30d-081c06fc77ab</td>\n",
       "      <td>2023-10-14 05:00:00+00:00</td>\n",
       "      <td>2023-10-14 04:30:00+00:00</td>\n",
       "      <td>0 days 00:30:00</td>\n",
       "      <td>3</td>\n",
       "    </tr>\n",
       "    <tr>\n",
       "      <th>643453</th>\n",
       "      <td>fff1631a-ea96-4ccb-93f8-c431ab7c9e51</td>\n",
       "      <td>2023-07-08 15:28:00+00:00</td>\n",
       "      <td>2023-07-08 15:28:00+00:00</td>\n",
       "      <td>0 days 00:00:00</td>\n",
       "      <td>1</td>\n",
       "    </tr>\n",
       "    <tr>\n",
       "      <th>643457</th>\n",
       "      <td>fff2831c-6dd4-4df6-b0d2-9bc6c9b35c22</td>\n",
       "      <td>2020-02-19 12:44:00+00:00</td>\n",
       "      <td>2020-02-19 12:44:00+00:00</td>\n",
       "      <td>0 days 00:00:00</td>\n",
       "      <td>1</td>\n",
       "    </tr>\n",
       "    <tr>\n",
       "      <th>643494</th>\n",
       "      <td>fff66917-ea37-411b-98b9-7d17d4373a52</td>\n",
       "      <td>2019-05-04 10:03:00+00:00</td>\n",
       "      <td>2019-05-04 10:03:00+00:00</td>\n",
       "      <td>0 days 00:00:00</td>\n",
       "      <td>1</td>\n",
       "    </tr>\n",
       "    <tr>\n",
       "      <th>643503</th>\n",
       "      <td>fff7979e-cfd4-4e90-92f4-c0c07cca178d</td>\n",
       "      <td>2023-05-13 09:13:00+00:00</td>\n",
       "      <td>2023-05-13 08:32:00+00:00</td>\n",
       "      <td>0 days 00:41:00</td>\n",
       "      <td>3</td>\n",
       "    </tr>\n",
       "  </tbody>\n",
       "</table>\n",
       "<p>12254 rows × 5 columns</p>\n",
       "</div>"
      ],
      "text/plain": [
       "                                  session_id                       max  \\\n",
       "36      00044046-4052-41dd-99da-2729079537e8 2020-12-03 02:41:00+00:00   \n",
       "64      00070102-611b-4d1c-a04e-26d48fc223d1 2019-02-17 19:17:00+00:00   \n",
       "253     0018cce4-c4dd-43f5-9c5b-4a234f24f4d3 2022-08-01 02:15:00+00:00   \n",
       "476     002d5645-3fbc-4451-93a0-497fd5f5494d 2023-05-02 03:43:00+00:00   \n",
       "585     0038e897-3880-4472-a743-0a02194f8f75 2021-10-29 14:36:00+00:00   \n",
       "...                                      ...                       ...   \n",
       "643423  ffeea53d-9fd7-4d81-b30d-081c06fc77ab 2023-10-14 05:00:00+00:00   \n",
       "643453  fff1631a-ea96-4ccb-93f8-c431ab7c9e51 2023-07-08 15:28:00+00:00   \n",
       "643457  fff2831c-6dd4-4df6-b0d2-9bc6c9b35c22 2020-02-19 12:44:00+00:00   \n",
       "643494  fff66917-ea37-411b-98b9-7d17d4373a52 2019-05-04 10:03:00+00:00   \n",
       "643503  fff7979e-cfd4-4e90-92f4-c0c07cca178d 2023-05-13 09:13:00+00:00   \n",
       "\n",
       "                             min        duration  max_sequence_number  \n",
       "36     2020-12-03 02:41:00+00:00 0 days 00:00:00                    1  \n",
       "64     2019-02-17 18:31:00+00:00 0 days 00:46:00                    3  \n",
       "253    2022-08-01 01:59:00+00:00 0 days 00:16:00                    3  \n",
       "476    2023-05-02 03:11:00+00:00 0 days 00:32:00                    3  \n",
       "585    2021-10-29 14:26:00+00:00 0 days 00:10:00                    3  \n",
       "...                          ...             ...                  ...  \n",
       "643423 2023-10-14 04:30:00+00:00 0 days 00:30:00                    3  \n",
       "643453 2023-07-08 15:28:00+00:00 0 days 00:00:00                    1  \n",
       "643457 2020-02-19 12:44:00+00:00 0 days 00:00:00                    1  \n",
       "643494 2019-05-04 10:03:00+00:00 0 days 00:00:00                    1  \n",
       "643503 2023-05-13 08:32:00+00:00 0 days 00:41:00                    3  \n",
       "\n",
       "[12254 rows x 5 columns]"
      ]
     },
     "execution_count": 146,
     "metadata": {},
     "output_type": "execute_result"
    }
   ],
   "source": [
    "# pivot 테이블에 있는 session_id 추출\n",
    "pivot_session_ids = session_pivot_organic_product['session_id']\n",
    "\n",
    "# pivot 테이블에 있는 session_id만 필터링하여 출력\n",
    "duration_organic_product = duration[duration['session_id'].isin(pivot_session_ids)]\n",
    "duration_organic_product\n"
   ]
  },
  {
   "cell_type": "markdown",
   "metadata": {},
   "source": [
    "- product 유입 유저 -> 구매 없음"
   ]
  },
  {
   "cell_type": "code",
   "execution_count": null,
   "metadata": {},
   "outputs": [
    {
     "name": "stdout",
     "output_type": "stream",
     "text": [
      "조회만 한 유저의 평균 체류시간 : 0 days 00:00:00\n",
      "카트에 담은 유저의 평균 체류시간 : 0 days 00:28:59.459636482\n",
      "구매까지 한 유저의 평균 체류시간 : NaT\n"
     ]
    }
   ],
   "source": [
    "view_session_avg_duration_organic_product = duration_organic_product.query('session_id not in @cart_session and session_id not in @purchased_session')['duration'].mean()\n",
    "cart_session_avg_duration_organic_product = duration_organic_product.query('session_id in @cart_session')['duration'].mean()\n",
    "purchased_session_avg_duration_organic_product = duration_organic_product.query('session_id in @purchased_session')['duration'].mean()\n",
    "\n",
    "print(f\"조회만 한 유저의 평균 체류시간 : {view_session_avg_duration_organic_product}\")\n",
    "print(f\"카트에 담은 유저의 평균 체류시간 : {cart_session_avg_duration_organic_product}\")\n",
    "print(f\"구매까지 한 유저의 평균 체류시간 : {purchased_session_avg_duration_organic_product}\")"
   ]
  },
  {
   "cell_type": "code",
   "execution_count": null,
   "metadata": {},
   "outputs": [
    {
     "data": {
      "text/html": [
       "<div>\n",
       "<style scoped>\n",
       "    .dataframe tbody tr th:only-of-type {\n",
       "        vertical-align: middle;\n",
       "    }\n",
       "\n",
       "    .dataframe tbody tr th {\n",
       "        vertical-align: top;\n",
       "    }\n",
       "\n",
       "    .dataframe thead th {\n",
       "        text-align: right;\n",
       "    }\n",
       "</style>\n",
       "<table border=\"1\" class=\"dataframe\">\n",
       "  <thead>\n",
       "    <tr style=\"text-align: right;\">\n",
       "      <th></th>\n",
       "      <th>event_type</th>\n",
       "      <th>count</th>\n",
       "    </tr>\n",
       "  </thead>\n",
       "  <tbody>\n",
       "    <tr>\n",
       "      <th>0</th>\n",
       "      <td>product</td>\n",
       "      <td>12254</td>\n",
       "    </tr>\n",
       "    <tr>\n",
       "      <th>1</th>\n",
       "      <td>cart</td>\n",
       "      <td>6107</td>\n",
       "    </tr>\n",
       "    <tr>\n",
       "      <th>3</th>\n",
       "      <td>purchase</td>\n",
       "      <td>0</td>\n",
       "    </tr>\n",
       "  </tbody>\n",
       "</table>\n",
       "</div>"
      ],
      "text/plain": [
       "  event_type  count\n",
       "0    product  12254\n",
       "1       cart   6107\n",
       "3   purchase      0"
      ]
     },
     "execution_count": 149,
     "metadata": {},
     "output_type": "execute_result"
    }
   ],
   "source": [
    "funnel_organic_product = session_pivot_organic_product[['product','cart', 'cancel', 'purchase']].sum().to_frame().reset_index()\n",
    "funnel_organic_product.columns = ['event_type', 'count']\n",
    "funnel_organic_product = funnel_organic_product.query('event_type != \"cancel\"')\n",
    "funnel_organic_product"
   ]
  },
  {
   "cell_type": "code",
   "execution_count": null,
   "metadata": {},
   "outputs": [
    {
     "data": {
      "application/vnd.plotly.v1+json": {
       "config": {
        "plotlyServerURL": "https://plot.ly"
       },
       "data": [
        {
         "hovertemplate": "event_type=%{x}<br>count=%{y}<extra></extra>",
         "legendgroup": "",
         "marker": {
          "color": "#636efa"
         },
         "name": "",
         "orientation": "v",
         "showlegend": false,
         "texttemplate": "%{value:,.0f}",
         "type": "funnel",
         "x": [
          "product",
          "cart",
          "purchase"
         ],
         "xaxis": "x",
         "y": [
          12254,
          6107,
          0
         ],
         "yaxis": "y"
        }
       ],
       "layout": {
        "legend": {
         "tracegroupgap": 0
        },
        "template": {
         "data": {
          "bar": [
           {
            "error_x": {
             "color": "#2a3f5f"
            },
            "error_y": {
             "color": "#2a3f5f"
            },
            "marker": {
             "line": {
              "color": "#E5ECF6",
              "width": 0.5
             },
             "pattern": {
              "fillmode": "overlay",
              "size": 10,
              "solidity": 0.2
             }
            },
            "type": "bar"
           }
          ],
          "barpolar": [
           {
            "marker": {
             "line": {
              "color": "#E5ECF6",
              "width": 0.5
             },
             "pattern": {
              "fillmode": "overlay",
              "size": 10,
              "solidity": 0.2
             }
            },
            "type": "barpolar"
           }
          ],
          "carpet": [
           {
            "aaxis": {
             "endlinecolor": "#2a3f5f",
             "gridcolor": "white",
             "linecolor": "white",
             "minorgridcolor": "white",
             "startlinecolor": "#2a3f5f"
            },
            "baxis": {
             "endlinecolor": "#2a3f5f",
             "gridcolor": "white",
             "linecolor": "white",
             "minorgridcolor": "white",
             "startlinecolor": "#2a3f5f"
            },
            "type": "carpet"
           }
          ],
          "choropleth": [
           {
            "colorbar": {
             "outlinewidth": 0,
             "ticks": ""
            },
            "type": "choropleth"
           }
          ],
          "contour": [
           {
            "colorbar": {
             "outlinewidth": 0,
             "ticks": ""
            },
            "colorscale": [
             [
              0,
              "#0d0887"
             ],
             [
              0.1111111111111111,
              "#46039f"
             ],
             [
              0.2222222222222222,
              "#7201a8"
             ],
             [
              0.3333333333333333,
              "#9c179e"
             ],
             [
              0.4444444444444444,
              "#bd3786"
             ],
             [
              0.5555555555555556,
              "#d8576b"
             ],
             [
              0.6666666666666666,
              "#ed7953"
             ],
             [
              0.7777777777777778,
              "#fb9f3a"
             ],
             [
              0.8888888888888888,
              "#fdca26"
             ],
             [
              1,
              "#f0f921"
             ]
            ],
            "type": "contour"
           }
          ],
          "contourcarpet": [
           {
            "colorbar": {
             "outlinewidth": 0,
             "ticks": ""
            },
            "type": "contourcarpet"
           }
          ],
          "heatmap": [
           {
            "colorbar": {
             "outlinewidth": 0,
             "ticks": ""
            },
            "colorscale": [
             [
              0,
              "#0d0887"
             ],
             [
              0.1111111111111111,
              "#46039f"
             ],
             [
              0.2222222222222222,
              "#7201a8"
             ],
             [
              0.3333333333333333,
              "#9c179e"
             ],
             [
              0.4444444444444444,
              "#bd3786"
             ],
             [
              0.5555555555555556,
              "#d8576b"
             ],
             [
              0.6666666666666666,
              "#ed7953"
             ],
             [
              0.7777777777777778,
              "#fb9f3a"
             ],
             [
              0.8888888888888888,
              "#fdca26"
             ],
             [
              1,
              "#f0f921"
             ]
            ],
            "type": "heatmap"
           }
          ],
          "heatmapgl": [
           {
            "colorbar": {
             "outlinewidth": 0,
             "ticks": ""
            },
            "colorscale": [
             [
              0,
              "#0d0887"
             ],
             [
              0.1111111111111111,
              "#46039f"
             ],
             [
              0.2222222222222222,
              "#7201a8"
             ],
             [
              0.3333333333333333,
              "#9c179e"
             ],
             [
              0.4444444444444444,
              "#bd3786"
             ],
             [
              0.5555555555555556,
              "#d8576b"
             ],
             [
              0.6666666666666666,
              "#ed7953"
             ],
             [
              0.7777777777777778,
              "#fb9f3a"
             ],
             [
              0.8888888888888888,
              "#fdca26"
             ],
             [
              1,
              "#f0f921"
             ]
            ],
            "type": "heatmapgl"
           }
          ],
          "histogram": [
           {
            "marker": {
             "pattern": {
              "fillmode": "overlay",
              "size": 10,
              "solidity": 0.2
             }
            },
            "type": "histogram"
           }
          ],
          "histogram2d": [
           {
            "colorbar": {
             "outlinewidth": 0,
             "ticks": ""
            },
            "colorscale": [
             [
              0,
              "#0d0887"
             ],
             [
              0.1111111111111111,
              "#46039f"
             ],
             [
              0.2222222222222222,
              "#7201a8"
             ],
             [
              0.3333333333333333,
              "#9c179e"
             ],
             [
              0.4444444444444444,
              "#bd3786"
             ],
             [
              0.5555555555555556,
              "#d8576b"
             ],
             [
              0.6666666666666666,
              "#ed7953"
             ],
             [
              0.7777777777777778,
              "#fb9f3a"
             ],
             [
              0.8888888888888888,
              "#fdca26"
             ],
             [
              1,
              "#f0f921"
             ]
            ],
            "type": "histogram2d"
           }
          ],
          "histogram2dcontour": [
           {
            "colorbar": {
             "outlinewidth": 0,
             "ticks": ""
            },
            "colorscale": [
             [
              0,
              "#0d0887"
             ],
             [
              0.1111111111111111,
              "#46039f"
             ],
             [
              0.2222222222222222,
              "#7201a8"
             ],
             [
              0.3333333333333333,
              "#9c179e"
             ],
             [
              0.4444444444444444,
              "#bd3786"
             ],
             [
              0.5555555555555556,
              "#d8576b"
             ],
             [
              0.6666666666666666,
              "#ed7953"
             ],
             [
              0.7777777777777778,
              "#fb9f3a"
             ],
             [
              0.8888888888888888,
              "#fdca26"
             ],
             [
              1,
              "#f0f921"
             ]
            ],
            "type": "histogram2dcontour"
           }
          ],
          "mesh3d": [
           {
            "colorbar": {
             "outlinewidth": 0,
             "ticks": ""
            },
            "type": "mesh3d"
           }
          ],
          "parcoords": [
           {
            "line": {
             "colorbar": {
              "outlinewidth": 0,
              "ticks": ""
             }
            },
            "type": "parcoords"
           }
          ],
          "pie": [
           {
            "automargin": true,
            "type": "pie"
           }
          ],
          "scatter": [
           {
            "fillpattern": {
             "fillmode": "overlay",
             "size": 10,
             "solidity": 0.2
            },
            "type": "scatter"
           }
          ],
          "scatter3d": [
           {
            "line": {
             "colorbar": {
              "outlinewidth": 0,
              "ticks": ""
             }
            },
            "marker": {
             "colorbar": {
              "outlinewidth": 0,
              "ticks": ""
             }
            },
            "type": "scatter3d"
           }
          ],
          "scattercarpet": [
           {
            "marker": {
             "colorbar": {
              "outlinewidth": 0,
              "ticks": ""
             }
            },
            "type": "scattercarpet"
           }
          ],
          "scattergeo": [
           {
            "marker": {
             "colorbar": {
              "outlinewidth": 0,
              "ticks": ""
             }
            },
            "type": "scattergeo"
           }
          ],
          "scattergl": [
           {
            "marker": {
             "colorbar": {
              "outlinewidth": 0,
              "ticks": ""
             }
            },
            "type": "scattergl"
           }
          ],
          "scattermapbox": [
           {
            "marker": {
             "colorbar": {
              "outlinewidth": 0,
              "ticks": ""
             }
            },
            "type": "scattermapbox"
           }
          ],
          "scatterpolar": [
           {
            "marker": {
             "colorbar": {
              "outlinewidth": 0,
              "ticks": ""
             }
            },
            "type": "scatterpolar"
           }
          ],
          "scatterpolargl": [
           {
            "marker": {
             "colorbar": {
              "outlinewidth": 0,
              "ticks": ""
             }
            },
            "type": "scatterpolargl"
           }
          ],
          "scatterternary": [
           {
            "marker": {
             "colorbar": {
              "outlinewidth": 0,
              "ticks": ""
             }
            },
            "type": "scatterternary"
           }
          ],
          "surface": [
           {
            "colorbar": {
             "outlinewidth": 0,
             "ticks": ""
            },
            "colorscale": [
             [
              0,
              "#0d0887"
             ],
             [
              0.1111111111111111,
              "#46039f"
             ],
             [
              0.2222222222222222,
              "#7201a8"
             ],
             [
              0.3333333333333333,
              "#9c179e"
             ],
             [
              0.4444444444444444,
              "#bd3786"
             ],
             [
              0.5555555555555556,
              "#d8576b"
             ],
             [
              0.6666666666666666,
              "#ed7953"
             ],
             [
              0.7777777777777778,
              "#fb9f3a"
             ],
             [
              0.8888888888888888,
              "#fdca26"
             ],
             [
              1,
              "#f0f921"
             ]
            ],
            "type": "surface"
           }
          ],
          "table": [
           {
            "cells": {
             "fill": {
              "color": "#EBF0F8"
             },
             "line": {
              "color": "white"
             }
            },
            "header": {
             "fill": {
              "color": "#C8D4E3"
             },
             "line": {
              "color": "white"
             }
            },
            "type": "table"
           }
          ]
         },
         "layout": {
          "annotationdefaults": {
           "arrowcolor": "#2a3f5f",
           "arrowhead": 0,
           "arrowwidth": 1
          },
          "autotypenumbers": "strict",
          "coloraxis": {
           "colorbar": {
            "outlinewidth": 0,
            "ticks": ""
           }
          },
          "colorscale": {
           "diverging": [
            [
             0,
             "#8e0152"
            ],
            [
             0.1,
             "#c51b7d"
            ],
            [
             0.2,
             "#de77ae"
            ],
            [
             0.3,
             "#f1b6da"
            ],
            [
             0.4,
             "#fde0ef"
            ],
            [
             0.5,
             "#f7f7f7"
            ],
            [
             0.6,
             "#e6f5d0"
            ],
            [
             0.7,
             "#b8e186"
            ],
            [
             0.8,
             "#7fbc41"
            ],
            [
             0.9,
             "#4d9221"
            ],
            [
             1,
             "#276419"
            ]
           ],
           "sequential": [
            [
             0,
             "#0d0887"
            ],
            [
             0.1111111111111111,
             "#46039f"
            ],
            [
             0.2222222222222222,
             "#7201a8"
            ],
            [
             0.3333333333333333,
             "#9c179e"
            ],
            [
             0.4444444444444444,
             "#bd3786"
            ],
            [
             0.5555555555555556,
             "#d8576b"
            ],
            [
             0.6666666666666666,
             "#ed7953"
            ],
            [
             0.7777777777777778,
             "#fb9f3a"
            ],
            [
             0.8888888888888888,
             "#fdca26"
            ],
            [
             1,
             "#f0f921"
            ]
           ],
           "sequentialminus": [
            [
             0,
             "#0d0887"
            ],
            [
             0.1111111111111111,
             "#46039f"
            ],
            [
             0.2222222222222222,
             "#7201a8"
            ],
            [
             0.3333333333333333,
             "#9c179e"
            ],
            [
             0.4444444444444444,
             "#bd3786"
            ],
            [
             0.5555555555555556,
             "#d8576b"
            ],
            [
             0.6666666666666666,
             "#ed7953"
            ],
            [
             0.7777777777777778,
             "#fb9f3a"
            ],
            [
             0.8888888888888888,
             "#fdca26"
            ],
            [
             1,
             "#f0f921"
            ]
           ]
          },
          "colorway": [
           "#636efa",
           "#EF553B",
           "#00cc96",
           "#ab63fa",
           "#FFA15A",
           "#19d3f3",
           "#FF6692",
           "#B6E880",
           "#FF97FF",
           "#FECB52"
          ],
          "font": {
           "color": "#2a3f5f"
          },
          "geo": {
           "bgcolor": "white",
           "lakecolor": "white",
           "landcolor": "#E5ECF6",
           "showlakes": true,
           "showland": true,
           "subunitcolor": "white"
          },
          "hoverlabel": {
           "align": "left"
          },
          "hovermode": "closest",
          "mapbox": {
           "style": "light"
          },
          "paper_bgcolor": "white",
          "plot_bgcolor": "#E5ECF6",
          "polar": {
           "angularaxis": {
            "gridcolor": "white",
            "linecolor": "white",
            "ticks": ""
           },
           "bgcolor": "#E5ECF6",
           "radialaxis": {
            "gridcolor": "white",
            "linecolor": "white",
            "ticks": ""
           }
          },
          "scene": {
           "xaxis": {
            "backgroundcolor": "#E5ECF6",
            "gridcolor": "white",
            "gridwidth": 2,
            "linecolor": "white",
            "showbackground": true,
            "ticks": "",
            "zerolinecolor": "white"
           },
           "yaxis": {
            "backgroundcolor": "#E5ECF6",
            "gridcolor": "white",
            "gridwidth": 2,
            "linecolor": "white",
            "showbackground": true,
            "ticks": "",
            "zerolinecolor": "white"
           },
           "zaxis": {
            "backgroundcolor": "#E5ECF6",
            "gridcolor": "white",
            "gridwidth": 2,
            "linecolor": "white",
            "showbackground": true,
            "ticks": "",
            "zerolinecolor": "white"
           }
          },
          "shapedefaults": {
           "line": {
            "color": "#2a3f5f"
           }
          },
          "ternary": {
           "aaxis": {
            "gridcolor": "white",
            "linecolor": "white",
            "ticks": ""
           },
           "baxis": {
            "gridcolor": "white",
            "linecolor": "white",
            "ticks": ""
           },
           "bgcolor": "#E5ECF6",
           "caxis": {
            "gridcolor": "white",
            "linecolor": "white",
            "ticks": ""
           }
          },
          "title": {
           "x": 0.05
          },
          "xaxis": {
           "automargin": true,
           "gridcolor": "white",
           "linecolor": "white",
           "ticks": "",
           "title": {
            "standoff": 15
           },
           "zerolinecolor": "white",
           "zerolinewidth": 2
          },
          "yaxis": {
           "automargin": true,
           "gridcolor": "white",
           "linecolor": "white",
           "ticks": "",
           "title": {
            "standoff": 15
           },
           "zerolinecolor": "white",
           "zerolinewidth": 2
          }
         }
        },
        "title": {
         "text": "Organic_department 유입 Funnel count"
        },
        "xaxis": {
         "anchor": "y",
         "domain": [
          0,
          1
         ],
         "title": {
          "text": "event_type"
         }
        },
        "yaxis": {
         "anchor": "x",
         "domain": [
          0,
          1
         ],
         "title": {
          "text": "count"
         }
        }
       }
      }
     },
     "metadata": {},
     "output_type": "display_data"
    }
   ],
   "source": [
    "fig = px.funnel(data_frame=funnel_organic_product, x='event_type', y='count', title='Organic_department 유입 Funnel count')\n",
    "fig.update_traces(texttemplate=\"%{value:,.0f}\")\n",
    "fig.show()"
   ]
  },
  {
   "cell_type": "code",
   "execution_count": null,
   "metadata": {},
   "outputs": [],
   "source": [
    "view_to_cart_rate = list(funnel_organic_product['count'])[1] / list(funnel_organic_product['count'])[0]\n",
    "view_to_purchase_rate = list(funnel_organic_product['count'])[2] / list(funnel_organic_product['count'])[0]"
   ]
  },
  {
   "cell_type": "code",
   "execution_count": null,
   "metadata": {},
   "outputs": [
    {
     "data": {
      "text/html": [
       "<div>\n",
       "<style scoped>\n",
       "    .dataframe tbody tr th:only-of-type {\n",
       "        vertical-align: middle;\n",
       "    }\n",
       "\n",
       "    .dataframe tbody tr th {\n",
       "        vertical-align: top;\n",
       "    }\n",
       "\n",
       "    .dataframe thead th {\n",
       "        text-align: right;\n",
       "    }\n",
       "</style>\n",
       "<table border=\"1\" class=\"dataframe\">\n",
       "  <thead>\n",
       "    <tr style=\"text-align: right;\">\n",
       "      <th></th>\n",
       "      <th>event_type</th>\n",
       "      <th>count</th>\n",
       "      <th>retain_rate</th>\n",
       "    </tr>\n",
       "  </thead>\n",
       "  <tbody>\n",
       "    <tr>\n",
       "      <th>0</th>\n",
       "      <td>product</td>\n",
       "      <td>12254</td>\n",
       "      <td>1.000000</td>\n",
       "    </tr>\n",
       "    <tr>\n",
       "      <th>1</th>\n",
       "      <td>cart</td>\n",
       "      <td>6107</td>\n",
       "      <td>0.498368</td>\n",
       "    </tr>\n",
       "    <tr>\n",
       "      <th>3</th>\n",
       "      <td>purchase</td>\n",
       "      <td>0</td>\n",
       "      <td>0.000000</td>\n",
       "    </tr>\n",
       "  </tbody>\n",
       "</table>\n",
       "</div>"
      ],
      "text/plain": [
       "  event_type  count  retain_rate\n",
       "0    product  12254     1.000000\n",
       "1       cart   6107     0.498368\n",
       "3   purchase      0     0.000000"
      ]
     },
     "execution_count": 154,
     "metadata": {},
     "output_type": "execute_result"
    }
   ],
   "source": [
    "funnel_organic_product['retain_rate'] = [1, view_to_cart_rate, view_to_purchase_rate]\n",
    "funnel_organic_product"
   ]
  },
  {
   "cell_type": "code",
   "execution_count": null,
   "metadata": {},
   "outputs": [
    {
     "data": {
      "application/vnd.plotly.v1+json": {
       "config": {
        "plotlyServerURL": "https://plot.ly"
       },
       "data": [
        {
         "hovertemplate": "event_type=%{x}<br>retain_rate=%{y}<extra></extra>",
         "legendgroup": "",
         "marker": {
          "color": "#636efa"
         },
         "name": "",
         "orientation": "v",
         "showlegend": false,
         "texttemplate": "%{value:,.2%}",
         "type": "funnel",
         "x": [
          "product",
          "cart",
          "purchase"
         ],
         "xaxis": "x",
         "y": [
          1,
          0.4983678798759589,
          0
         ],
         "yaxis": "y"
        }
       ],
       "layout": {
        "legend": {
         "tracegroupgap": 0
        },
        "template": {
         "data": {
          "bar": [
           {
            "error_x": {
             "color": "#2a3f5f"
            },
            "error_y": {
             "color": "#2a3f5f"
            },
            "marker": {
             "line": {
              "color": "#E5ECF6",
              "width": 0.5
             },
             "pattern": {
              "fillmode": "overlay",
              "size": 10,
              "solidity": 0.2
             }
            },
            "type": "bar"
           }
          ],
          "barpolar": [
           {
            "marker": {
             "line": {
              "color": "#E5ECF6",
              "width": 0.5
             },
             "pattern": {
              "fillmode": "overlay",
              "size": 10,
              "solidity": 0.2
             }
            },
            "type": "barpolar"
           }
          ],
          "carpet": [
           {
            "aaxis": {
             "endlinecolor": "#2a3f5f",
             "gridcolor": "white",
             "linecolor": "white",
             "minorgridcolor": "white",
             "startlinecolor": "#2a3f5f"
            },
            "baxis": {
             "endlinecolor": "#2a3f5f",
             "gridcolor": "white",
             "linecolor": "white",
             "minorgridcolor": "white",
             "startlinecolor": "#2a3f5f"
            },
            "type": "carpet"
           }
          ],
          "choropleth": [
           {
            "colorbar": {
             "outlinewidth": 0,
             "ticks": ""
            },
            "type": "choropleth"
           }
          ],
          "contour": [
           {
            "colorbar": {
             "outlinewidth": 0,
             "ticks": ""
            },
            "colorscale": [
             [
              0,
              "#0d0887"
             ],
             [
              0.1111111111111111,
              "#46039f"
             ],
             [
              0.2222222222222222,
              "#7201a8"
             ],
             [
              0.3333333333333333,
              "#9c179e"
             ],
             [
              0.4444444444444444,
              "#bd3786"
             ],
             [
              0.5555555555555556,
              "#d8576b"
             ],
             [
              0.6666666666666666,
              "#ed7953"
             ],
             [
              0.7777777777777778,
              "#fb9f3a"
             ],
             [
              0.8888888888888888,
              "#fdca26"
             ],
             [
              1,
              "#f0f921"
             ]
            ],
            "type": "contour"
           }
          ],
          "contourcarpet": [
           {
            "colorbar": {
             "outlinewidth": 0,
             "ticks": ""
            },
            "type": "contourcarpet"
           }
          ],
          "heatmap": [
           {
            "colorbar": {
             "outlinewidth": 0,
             "ticks": ""
            },
            "colorscale": [
             [
              0,
              "#0d0887"
             ],
             [
              0.1111111111111111,
              "#46039f"
             ],
             [
              0.2222222222222222,
              "#7201a8"
             ],
             [
              0.3333333333333333,
              "#9c179e"
             ],
             [
              0.4444444444444444,
              "#bd3786"
             ],
             [
              0.5555555555555556,
              "#d8576b"
             ],
             [
              0.6666666666666666,
              "#ed7953"
             ],
             [
              0.7777777777777778,
              "#fb9f3a"
             ],
             [
              0.8888888888888888,
              "#fdca26"
             ],
             [
              1,
              "#f0f921"
             ]
            ],
            "type": "heatmap"
           }
          ],
          "heatmapgl": [
           {
            "colorbar": {
             "outlinewidth": 0,
             "ticks": ""
            },
            "colorscale": [
             [
              0,
              "#0d0887"
             ],
             [
              0.1111111111111111,
              "#46039f"
             ],
             [
              0.2222222222222222,
              "#7201a8"
             ],
             [
              0.3333333333333333,
              "#9c179e"
             ],
             [
              0.4444444444444444,
              "#bd3786"
             ],
             [
              0.5555555555555556,
              "#d8576b"
             ],
             [
              0.6666666666666666,
              "#ed7953"
             ],
             [
              0.7777777777777778,
              "#fb9f3a"
             ],
             [
              0.8888888888888888,
              "#fdca26"
             ],
             [
              1,
              "#f0f921"
             ]
            ],
            "type": "heatmapgl"
           }
          ],
          "histogram": [
           {
            "marker": {
             "pattern": {
              "fillmode": "overlay",
              "size": 10,
              "solidity": 0.2
             }
            },
            "type": "histogram"
           }
          ],
          "histogram2d": [
           {
            "colorbar": {
             "outlinewidth": 0,
             "ticks": ""
            },
            "colorscale": [
             [
              0,
              "#0d0887"
             ],
             [
              0.1111111111111111,
              "#46039f"
             ],
             [
              0.2222222222222222,
              "#7201a8"
             ],
             [
              0.3333333333333333,
              "#9c179e"
             ],
             [
              0.4444444444444444,
              "#bd3786"
             ],
             [
              0.5555555555555556,
              "#d8576b"
             ],
             [
              0.6666666666666666,
              "#ed7953"
             ],
             [
              0.7777777777777778,
              "#fb9f3a"
             ],
             [
              0.8888888888888888,
              "#fdca26"
             ],
             [
              1,
              "#f0f921"
             ]
            ],
            "type": "histogram2d"
           }
          ],
          "histogram2dcontour": [
           {
            "colorbar": {
             "outlinewidth": 0,
             "ticks": ""
            },
            "colorscale": [
             [
              0,
              "#0d0887"
             ],
             [
              0.1111111111111111,
              "#46039f"
             ],
             [
              0.2222222222222222,
              "#7201a8"
             ],
             [
              0.3333333333333333,
              "#9c179e"
             ],
             [
              0.4444444444444444,
              "#bd3786"
             ],
             [
              0.5555555555555556,
              "#d8576b"
             ],
             [
              0.6666666666666666,
              "#ed7953"
             ],
             [
              0.7777777777777778,
              "#fb9f3a"
             ],
             [
              0.8888888888888888,
              "#fdca26"
             ],
             [
              1,
              "#f0f921"
             ]
            ],
            "type": "histogram2dcontour"
           }
          ],
          "mesh3d": [
           {
            "colorbar": {
             "outlinewidth": 0,
             "ticks": ""
            },
            "type": "mesh3d"
           }
          ],
          "parcoords": [
           {
            "line": {
             "colorbar": {
              "outlinewidth": 0,
              "ticks": ""
             }
            },
            "type": "parcoords"
           }
          ],
          "pie": [
           {
            "automargin": true,
            "type": "pie"
           }
          ],
          "scatter": [
           {
            "fillpattern": {
             "fillmode": "overlay",
             "size": 10,
             "solidity": 0.2
            },
            "type": "scatter"
           }
          ],
          "scatter3d": [
           {
            "line": {
             "colorbar": {
              "outlinewidth": 0,
              "ticks": ""
             }
            },
            "marker": {
             "colorbar": {
              "outlinewidth": 0,
              "ticks": ""
             }
            },
            "type": "scatter3d"
           }
          ],
          "scattercarpet": [
           {
            "marker": {
             "colorbar": {
              "outlinewidth": 0,
              "ticks": ""
             }
            },
            "type": "scattercarpet"
           }
          ],
          "scattergeo": [
           {
            "marker": {
             "colorbar": {
              "outlinewidth": 0,
              "ticks": ""
             }
            },
            "type": "scattergeo"
           }
          ],
          "scattergl": [
           {
            "marker": {
             "colorbar": {
              "outlinewidth": 0,
              "ticks": ""
             }
            },
            "type": "scattergl"
           }
          ],
          "scattermapbox": [
           {
            "marker": {
             "colorbar": {
              "outlinewidth": 0,
              "ticks": ""
             }
            },
            "type": "scattermapbox"
           }
          ],
          "scatterpolar": [
           {
            "marker": {
             "colorbar": {
              "outlinewidth": 0,
              "ticks": ""
             }
            },
            "type": "scatterpolar"
           }
          ],
          "scatterpolargl": [
           {
            "marker": {
             "colorbar": {
              "outlinewidth": 0,
              "ticks": ""
             }
            },
            "type": "scatterpolargl"
           }
          ],
          "scatterternary": [
           {
            "marker": {
             "colorbar": {
              "outlinewidth": 0,
              "ticks": ""
             }
            },
            "type": "scatterternary"
           }
          ],
          "surface": [
           {
            "colorbar": {
             "outlinewidth": 0,
             "ticks": ""
            },
            "colorscale": [
             [
              0,
              "#0d0887"
             ],
             [
              0.1111111111111111,
              "#46039f"
             ],
             [
              0.2222222222222222,
              "#7201a8"
             ],
             [
              0.3333333333333333,
              "#9c179e"
             ],
             [
              0.4444444444444444,
              "#bd3786"
             ],
             [
              0.5555555555555556,
              "#d8576b"
             ],
             [
              0.6666666666666666,
              "#ed7953"
             ],
             [
              0.7777777777777778,
              "#fb9f3a"
             ],
             [
              0.8888888888888888,
              "#fdca26"
             ],
             [
              1,
              "#f0f921"
             ]
            ],
            "type": "surface"
           }
          ],
          "table": [
           {
            "cells": {
             "fill": {
              "color": "#EBF0F8"
             },
             "line": {
              "color": "white"
             }
            },
            "header": {
             "fill": {
              "color": "#C8D4E3"
             },
             "line": {
              "color": "white"
             }
            },
            "type": "table"
           }
          ]
         },
         "layout": {
          "annotationdefaults": {
           "arrowcolor": "#2a3f5f",
           "arrowhead": 0,
           "arrowwidth": 1
          },
          "autotypenumbers": "strict",
          "coloraxis": {
           "colorbar": {
            "outlinewidth": 0,
            "ticks": ""
           }
          },
          "colorscale": {
           "diverging": [
            [
             0,
             "#8e0152"
            ],
            [
             0.1,
             "#c51b7d"
            ],
            [
             0.2,
             "#de77ae"
            ],
            [
             0.3,
             "#f1b6da"
            ],
            [
             0.4,
             "#fde0ef"
            ],
            [
             0.5,
             "#f7f7f7"
            ],
            [
             0.6,
             "#e6f5d0"
            ],
            [
             0.7,
             "#b8e186"
            ],
            [
             0.8,
             "#7fbc41"
            ],
            [
             0.9,
             "#4d9221"
            ],
            [
             1,
             "#276419"
            ]
           ],
           "sequential": [
            [
             0,
             "#0d0887"
            ],
            [
             0.1111111111111111,
             "#46039f"
            ],
            [
             0.2222222222222222,
             "#7201a8"
            ],
            [
             0.3333333333333333,
             "#9c179e"
            ],
            [
             0.4444444444444444,
             "#bd3786"
            ],
            [
             0.5555555555555556,
             "#d8576b"
            ],
            [
             0.6666666666666666,
             "#ed7953"
            ],
            [
             0.7777777777777778,
             "#fb9f3a"
            ],
            [
             0.8888888888888888,
             "#fdca26"
            ],
            [
             1,
             "#f0f921"
            ]
           ],
           "sequentialminus": [
            [
             0,
             "#0d0887"
            ],
            [
             0.1111111111111111,
             "#46039f"
            ],
            [
             0.2222222222222222,
             "#7201a8"
            ],
            [
             0.3333333333333333,
             "#9c179e"
            ],
            [
             0.4444444444444444,
             "#bd3786"
            ],
            [
             0.5555555555555556,
             "#d8576b"
            ],
            [
             0.6666666666666666,
             "#ed7953"
            ],
            [
             0.7777777777777778,
             "#fb9f3a"
            ],
            [
             0.8888888888888888,
             "#fdca26"
            ],
            [
             1,
             "#f0f921"
            ]
           ]
          },
          "colorway": [
           "#636efa",
           "#EF553B",
           "#00cc96",
           "#ab63fa",
           "#FFA15A",
           "#19d3f3",
           "#FF6692",
           "#B6E880",
           "#FF97FF",
           "#FECB52"
          ],
          "font": {
           "color": "#2a3f5f"
          },
          "geo": {
           "bgcolor": "white",
           "lakecolor": "white",
           "landcolor": "#E5ECF6",
           "showlakes": true,
           "showland": true,
           "subunitcolor": "white"
          },
          "hoverlabel": {
           "align": "left"
          },
          "hovermode": "closest",
          "mapbox": {
           "style": "light"
          },
          "paper_bgcolor": "white",
          "plot_bgcolor": "#E5ECF6",
          "polar": {
           "angularaxis": {
            "gridcolor": "white",
            "linecolor": "white",
            "ticks": ""
           },
           "bgcolor": "#E5ECF6",
           "radialaxis": {
            "gridcolor": "white",
            "linecolor": "white",
            "ticks": ""
           }
          },
          "scene": {
           "xaxis": {
            "backgroundcolor": "#E5ECF6",
            "gridcolor": "white",
            "gridwidth": 2,
            "linecolor": "white",
            "showbackground": true,
            "ticks": "",
            "zerolinecolor": "white"
           },
           "yaxis": {
            "backgroundcolor": "#E5ECF6",
            "gridcolor": "white",
            "gridwidth": 2,
            "linecolor": "white",
            "showbackground": true,
            "ticks": "",
            "zerolinecolor": "white"
           },
           "zaxis": {
            "backgroundcolor": "#E5ECF6",
            "gridcolor": "white",
            "gridwidth": 2,
            "linecolor": "white",
            "showbackground": true,
            "ticks": "",
            "zerolinecolor": "white"
           }
          },
          "shapedefaults": {
           "line": {
            "color": "#2a3f5f"
           }
          },
          "ternary": {
           "aaxis": {
            "gridcolor": "white",
            "linecolor": "white",
            "ticks": ""
           },
           "baxis": {
            "gridcolor": "white",
            "linecolor": "white",
            "ticks": ""
           },
           "bgcolor": "#E5ECF6",
           "caxis": {
            "gridcolor": "white",
            "linecolor": "white",
            "ticks": ""
           }
          },
          "title": {
           "x": 0.05
          },
          "xaxis": {
           "automargin": true,
           "gridcolor": "white",
           "linecolor": "white",
           "ticks": "",
           "title": {
            "standoff": 15
           },
           "zerolinecolor": "white",
           "zerolinewidth": 2
          },
          "yaxis": {
           "automargin": true,
           "gridcolor": "white",
           "linecolor": "white",
           "ticks": "",
           "title": {
            "standoff": 15
           },
           "zerolinecolor": "white",
           "zerolinewidth": 2
          }
         }
        },
        "title": {
         "text": "Organic_product 유입 Funnel Conversion rate"
        },
        "xaxis": {
         "anchor": "y",
         "domain": [
          0,
          1
         ],
         "title": {
          "text": "event_type"
         }
        },
        "yaxis": {
         "anchor": "x",
         "domain": [
          0,
          1
         ],
         "title": {
          "text": "retain_rate"
         }
        }
       }
      }
     },
     "metadata": {},
     "output_type": "display_data"
    }
   ],
   "source": [
    "fig = px.funnel(data_frame=funnel_organic_product, x='event_type', y='retain_rate', title='Organic_product 유입 Funnel Conversion rate')\n",
    "fig.update_traces(texttemplate=\"%{value:,.2%}\")\n",
    "fig.show()"
   ]
  },
  {
   "cell_type": "markdown",
   "metadata": {},
   "source": [
    "#### organic - home으로 유입"
   ]
  },
  {
   "cell_type": "code",
   "execution_count": null,
   "metadata": {},
   "outputs": [
    {
     "data": {
      "text/html": [
       "<div>\n",
       "<style scoped>\n",
       "    .dataframe tbody tr th:only-of-type {\n",
       "        vertical-align: middle;\n",
       "    }\n",
       "\n",
       "    .dataframe tbody tr th {\n",
       "        vertical-align: top;\n",
       "    }\n",
       "\n",
       "    .dataframe thead th {\n",
       "        text-align: right;\n",
       "    }\n",
       "</style>\n",
       "<table border=\"1\" class=\"dataframe\">\n",
       "  <thead>\n",
       "    <tr style=\"text-align: right;\">\n",
       "      <th></th>\n",
       "      <th>event_id</th>\n",
       "      <th>user_id</th>\n",
       "      <th>sequence_number</th>\n",
       "      <th>session_id</th>\n",
       "      <th>event_created_at</th>\n",
       "      <th>ip_address</th>\n",
       "      <th>city</th>\n",
       "      <th>state</th>\n",
       "      <th>postal_code</th>\n",
       "      <th>browser</th>\n",
       "      <th>event_traffic_source</th>\n",
       "      <th>uri</th>\n",
       "      <th>event_type</th>\n",
       "      <th>year</th>\n",
       "      <th>month</th>\n",
       "      <th>day</th>\n",
       "      <th>date</th>\n",
       "    </tr>\n",
       "  </thead>\n",
       "  <tbody>\n",
       "    <tr>\n",
       "      <th>1273</th>\n",
       "      <td>724802</td>\n",
       "      <td>55452</td>\n",
       "      <td>4</td>\n",
       "      <td>c30563a7-9eda-47ae-89d0-0fee4db7b21a</td>\n",
       "      <td>2022-12-28 03:10:32+00:00</td>\n",
       "      <td>200.183.157.130</td>\n",
       "      <td>São Paulo</td>\n",
       "      <td>São Paulo</td>\n",
       "      <td>04941-175</td>\n",
       "      <td>Firefox</td>\n",
       "      <td>Organic</td>\n",
       "      <td>/cart</td>\n",
       "      <td>cart</td>\n",
       "      <td>2022</td>\n",
       "      <td>12</td>\n",
       "      <td>28</td>\n",
       "      <td>2022-12-28</td>\n",
       "    </tr>\n",
       "    <tr>\n",
       "      <th>1309</th>\n",
       "      <td>1019152</td>\n",
       "      <td>77853</td>\n",
       "      <td>4</td>\n",
       "      <td>9760acfc-e956-4737-9344-952cce25d422</td>\n",
       "      <td>2021-12-27 03:38:23+00:00</td>\n",
       "      <td>69.252.218.47</td>\n",
       "      <td>Chizhou</td>\n",
       "      <td>Beijing</td>\n",
       "      <td>100017</td>\n",
       "      <td>Chrome</td>\n",
       "      <td>Organic</td>\n",
       "      <td>/cart</td>\n",
       "      <td>cart</td>\n",
       "      <td>2021</td>\n",
       "      <td>12</td>\n",
       "      <td>27</td>\n",
       "      <td>2021-12-27</td>\n",
       "    </tr>\n",
       "    <tr>\n",
       "      <th>1775</th>\n",
       "      <td>1073799</td>\n",
       "      <td>82122</td>\n",
       "      <td>4</td>\n",
       "      <td>de0e8223-0bde-40f8-aba2-c91785ca75d5</td>\n",
       "      <td>2023-01-09 01:12:54+00:00</td>\n",
       "      <td>175.228.239.219</td>\n",
       "      <td>Seoul</td>\n",
       "      <td>Seoul</td>\n",
       "      <td>137-070</td>\n",
       "      <td>Safari</td>\n",
       "      <td>Organic</td>\n",
       "      <td>/cart</td>\n",
       "      <td>cart</td>\n",
       "      <td>2023</td>\n",
       "      <td>1</td>\n",
       "      <td>9</td>\n",
       "      <td>2023-01-09</td>\n",
       "    </tr>\n",
       "    <tr>\n",
       "      <th>1924</th>\n",
       "      <td>1221966</td>\n",
       "      <td>93538</td>\n",
       "      <td>4</td>\n",
       "      <td>21712f62-27f3-41a5-93c7-7c6bf7344383</td>\n",
       "      <td>2023-08-19 01:29:30+00:00</td>\n",
       "      <td>85.149.136.47</td>\n",
       "      <td>Guiyang</td>\n",
       "      <td>Heilongjiang</td>\n",
       "      <td>154603</td>\n",
       "      <td>Chrome</td>\n",
       "      <td>Organic</td>\n",
       "      <td>/cart</td>\n",
       "      <td>cart</td>\n",
       "      <td>2023</td>\n",
       "      <td>8</td>\n",
       "      <td>19</td>\n",
       "      <td>2023-08-19</td>\n",
       "    </tr>\n",
       "    <tr>\n",
       "      <th>2007</th>\n",
       "      <td>1053151</td>\n",
       "      <td>80539</td>\n",
       "      <td>4</td>\n",
       "      <td>cfe79009-dba2-4209-ac84-0b14c308f836</td>\n",
       "      <td>2021-05-21 04:22:15+00:00</td>\n",
       "      <td>57.121.17.103</td>\n",
       "      <td>Mitaka City</td>\n",
       "      <td>Tokyo</td>\n",
       "      <td>181-0001</td>\n",
       "      <td>Safari</td>\n",
       "      <td>Organic</td>\n",
       "      <td>/cart</td>\n",
       "      <td>cart</td>\n",
       "      <td>2021</td>\n",
       "      <td>5</td>\n",
       "      <td>21</td>\n",
       "      <td>2021-05-21</td>\n",
       "    </tr>\n",
       "  </tbody>\n",
       "</table>\n",
       "</div>"
      ],
      "text/plain": [
       "      event_id  user_id  sequence_number  \\\n",
       "1273    724802    55452                4   \n",
       "1309   1019152    77853                4   \n",
       "1775   1073799    82122                4   \n",
       "1924   1221966    93538                4   \n",
       "2007   1053151    80539                4   \n",
       "\n",
       "                                session_id          event_created_at  \\\n",
       "1273  c30563a7-9eda-47ae-89d0-0fee4db7b21a 2022-12-28 03:10:32+00:00   \n",
       "1309  9760acfc-e956-4737-9344-952cce25d422 2021-12-27 03:38:23+00:00   \n",
       "1775  de0e8223-0bde-40f8-aba2-c91785ca75d5 2023-01-09 01:12:54+00:00   \n",
       "1924  21712f62-27f3-41a5-93c7-7c6bf7344383 2023-08-19 01:29:30+00:00   \n",
       "2007  cfe79009-dba2-4209-ac84-0b14c308f836 2021-05-21 04:22:15+00:00   \n",
       "\n",
       "           ip_address         city         state postal_code  browser  \\\n",
       "1273  200.183.157.130    São Paulo     São Paulo   04941-175  Firefox   \n",
       "1309    69.252.218.47      Chizhou       Beijing      100017   Chrome   \n",
       "1775  175.228.239.219        Seoul         Seoul     137-070   Safari   \n",
       "1924    85.149.136.47      Guiyang  Heilongjiang      154603   Chrome   \n",
       "2007    57.121.17.103  Mitaka City         Tokyo    181-0001   Safari   \n",
       "\n",
       "     event_traffic_source    uri event_type  year  month  day        date  \n",
       "1273              Organic  /cart       cart  2022     12   28  2022-12-28  \n",
       "1309              Organic  /cart       cart  2021     12   27  2021-12-27  \n",
       "1775              Organic  /cart       cart  2023      1    9  2023-01-09  \n",
       "1924              Organic  /cart       cart  2023      8   19  2023-08-19  \n",
       "2007              Organic  /cart       cart  2021      5   21  2021-05-21  "
      ]
     },
     "execution_count": 156,
     "metadata": {},
     "output_type": "execute_result"
    }
   ],
   "source": [
    "# sequence_number가 1이고 event_type이 department인 세션을 필터링합니다.\n",
    "filtered_sessions_home = first_event_per_session[first_event_per_session['event_type'] == 'home']\n",
    "\n",
    "# 필터링된 세션의 session_id를 가져옵니다.\n",
    "filtered_session_ids_home = filtered_sessions_home['session_id'].tolist()\n",
    "\n",
    "# 필터링된 session_id를 사용하여 원본 데이터를 필터링합니다.\n",
    "organic_home = events_organic[events_organic['session_id'].isin(filtered_session_ids_home)]\n",
    "\n",
    "organic_home.head()"
   ]
  },
  {
   "cell_type": "code",
   "execution_count": null,
   "metadata": {},
   "outputs": [
    {
     "name": "stderr",
     "output_type": "stream",
     "text": [
      "/var/folders/qv/tqmmyp0s5dj996k_tcvqmtqm0000gn/T/ipykernel_3187/1336333964.py:1: FutureWarning:\n",
      "\n",
      "The default value of observed=False is deprecated and will change to observed=True in a future version of pandas. Specify observed=False to silence this warning and retain the current behavior\n",
      "\n"
     ]
    },
    {
     "data": {
      "text/html": [
       "<div>\n",
       "<style scoped>\n",
       "    .dataframe tbody tr th:only-of-type {\n",
       "        vertical-align: middle;\n",
       "    }\n",
       "\n",
       "    .dataframe tbody tr th {\n",
       "        vertical-align: top;\n",
       "    }\n",
       "\n",
       "    .dataframe thead th {\n",
       "        text-align: right;\n",
       "    }\n",
       "</style>\n",
       "<table border=\"1\" class=\"dataframe\">\n",
       "  <thead>\n",
       "    <tr style=\"text-align: right;\">\n",
       "      <th>event_type</th>\n",
       "      <th>session_id</th>\n",
       "      <th>cancel</th>\n",
       "      <th>cart</th>\n",
       "      <th>department</th>\n",
       "      <th>home</th>\n",
       "      <th>product</th>\n",
       "      <th>purchase</th>\n",
       "    </tr>\n",
       "  </thead>\n",
       "  <tbody>\n",
       "    <tr>\n",
       "      <th>0</th>\n",
       "      <td>0000ffb8-8226-45e5-b4a7-a36872cf32c0</td>\n",
       "      <td>0</td>\n",
       "      <td>1</td>\n",
       "      <td>1</td>\n",
       "      <td>1</td>\n",
       "      <td>1</td>\n",
       "      <td>1</td>\n",
       "    </tr>\n",
       "    <tr>\n",
       "      <th>1</th>\n",
       "      <td>0003149f-7379-4832-b95c-602ad9dd3664</td>\n",
       "      <td>0</td>\n",
       "      <td>1</td>\n",
       "      <td>1</td>\n",
       "      <td>1</td>\n",
       "      <td>1</td>\n",
       "      <td>1</td>\n",
       "    </tr>\n",
       "    <tr>\n",
       "      <th>2</th>\n",
       "      <td>0014e6d5-b812-4cdf-99b7-6efe2e1e0eb6</td>\n",
       "      <td>0</td>\n",
       "      <td>1</td>\n",
       "      <td>1</td>\n",
       "      <td>1</td>\n",
       "      <td>1</td>\n",
       "      <td>1</td>\n",
       "    </tr>\n",
       "    <tr>\n",
       "      <th>3</th>\n",
       "      <td>00232d62-7ba3-4997-ba1f-ffa892d559e2</td>\n",
       "      <td>0</td>\n",
       "      <td>1</td>\n",
       "      <td>1</td>\n",
       "      <td>1</td>\n",
       "      <td>1</td>\n",
       "      <td>1</td>\n",
       "    </tr>\n",
       "    <tr>\n",
       "      <th>4</th>\n",
       "      <td>002a4226-f098-4da2-8102-45012f9993e6</td>\n",
       "      <td>0</td>\n",
       "      <td>1</td>\n",
       "      <td>1</td>\n",
       "      <td>1</td>\n",
       "      <td>1</td>\n",
       "      <td>1</td>\n",
       "    </tr>\n",
       "    <tr>\n",
       "      <th>...</th>\n",
       "      <td>...</td>\n",
       "      <td>...</td>\n",
       "      <td>...</td>\n",
       "      <td>...</td>\n",
       "      <td>...</td>\n",
       "      <td>...</td>\n",
       "      <td>...</td>\n",
       "    </tr>\n",
       "    <tr>\n",
       "      <th>3770</th>\n",
       "      <td>ffc52cc8-593d-4f3f-8f02-457b7400d330</td>\n",
       "      <td>0</td>\n",
       "      <td>1</td>\n",
       "      <td>1</td>\n",
       "      <td>1</td>\n",
       "      <td>1</td>\n",
       "      <td>1</td>\n",
       "    </tr>\n",
       "    <tr>\n",
       "      <th>3771</th>\n",
       "      <td>ffc5de45-5168-4c8e-9c27-4cc00e5ffef6</td>\n",
       "      <td>0</td>\n",
       "      <td>1</td>\n",
       "      <td>1</td>\n",
       "      <td>1</td>\n",
       "      <td>1</td>\n",
       "      <td>1</td>\n",
       "    </tr>\n",
       "    <tr>\n",
       "      <th>3772</th>\n",
       "      <td>ffe0142c-53a8-439e-a630-547027b48216</td>\n",
       "      <td>0</td>\n",
       "      <td>1</td>\n",
       "      <td>1</td>\n",
       "      <td>1</td>\n",
       "      <td>1</td>\n",
       "      <td>1</td>\n",
       "    </tr>\n",
       "    <tr>\n",
       "      <th>3773</th>\n",
       "      <td>ffe35145-b7e8-40bf-96d0-db71c8530c3a</td>\n",
       "      <td>0</td>\n",
       "      <td>1</td>\n",
       "      <td>1</td>\n",
       "      <td>1</td>\n",
       "      <td>1</td>\n",
       "      <td>1</td>\n",
       "    </tr>\n",
       "    <tr>\n",
       "      <th>3774</th>\n",
       "      <td>fffdb6a0-af63-464a-8d7a-a0e19d2705ef</td>\n",
       "      <td>0</td>\n",
       "      <td>1</td>\n",
       "      <td>1</td>\n",
       "      <td>1</td>\n",
       "      <td>1</td>\n",
       "      <td>1</td>\n",
       "    </tr>\n",
       "  </tbody>\n",
       "</table>\n",
       "<p>3775 rows × 7 columns</p>\n",
       "</div>"
      ],
      "text/plain": [
       "event_type                            session_id  cancel  cart  department  \\\n",
       "0           0000ffb8-8226-45e5-b4a7-a36872cf32c0       0     1           1   \n",
       "1           0003149f-7379-4832-b95c-602ad9dd3664       0     1           1   \n",
       "2           0014e6d5-b812-4cdf-99b7-6efe2e1e0eb6       0     1           1   \n",
       "3           00232d62-7ba3-4997-ba1f-ffa892d559e2       0     1           1   \n",
       "4           002a4226-f098-4da2-8102-45012f9993e6       0     1           1   \n",
       "...                                          ...     ...   ...         ...   \n",
       "3770        ffc52cc8-593d-4f3f-8f02-457b7400d330       0     1           1   \n",
       "3771        ffc5de45-5168-4c8e-9c27-4cc00e5ffef6       0     1           1   \n",
       "3772        ffe0142c-53a8-439e-a630-547027b48216       0     1           1   \n",
       "3773        ffe35145-b7e8-40bf-96d0-db71c8530c3a       0     1           1   \n",
       "3774        fffdb6a0-af63-464a-8d7a-a0e19d2705ef       0     1           1   \n",
       "\n",
       "event_type  home  product  purchase  \n",
       "0              1        1         1  \n",
       "1              1        1         1  \n",
       "2              1        1         1  \n",
       "3              1        1         1  \n",
       "4              1        1         1  \n",
       "...          ...      ...       ...  \n",
       "3770           1        1         1  \n",
       "3771           1        1         1  \n",
       "3772           1        1         1  \n",
       "3773           1        1         1  \n",
       "3774           1        1         1  \n",
       "\n",
       "[3775 rows x 7 columns]"
      ]
     },
     "execution_count": 157,
     "metadata": {},
     "output_type": "execute_result"
    }
   ],
   "source": [
    "session_pivot_organic_home = pd.pivot_table(data=organic_home, index='session_id', columns='event_type', values='event_created_at', aggfunc='count').reset_index().fillna(0)\n",
    "session_pivot_organic_home"
   ]
  },
  {
   "cell_type": "code",
   "execution_count": null,
   "metadata": {},
   "outputs": [
    {
     "name": "stdout",
     "output_type": "stream",
     "text": [
      "purchase 열의 최대값: 1\n",
      "department 열의 최대값 1\n",
      "max_product 열의 최대값 1\n",
      "max_cart 열의 최대값 1\n"
     ]
    }
   ],
   "source": [
    "max_purchase = session_pivot_organic_home['purchase'].max()\n",
    "max_department = session_pivot_organic_home['department'].max()\n",
    "max_product = session_pivot_organic_home['product'].max()\n",
    "max_cart = session_pivot_organic_home['cart'].max()\n",
    "\n",
    "print(\"purchase 열의 최대값:\", max_purchase)\n",
    "print(\"department 열의 최대값\", max_department)\n",
    "print(\"max_product 열의 최대값\", max_product)\n",
    "print(\"max_cart 열의 최대값\", max_cart)"
   ]
  },
  {
   "cell_type": "code",
   "execution_count": null,
   "metadata": {},
   "outputs": [],
   "source": [
    "cart_session_home = list(session_pivot_organic_home.query('cart > 0')['session_id'])\n",
    "purchased_session_home = list(session_pivot_organic_home.query('purchase > 0')['session_id'])"
   ]
  },
  {
   "cell_type": "code",
   "execution_count": null,
   "metadata": {},
   "outputs": [
    {
     "data": {
      "text/html": [
       "<div>\n",
       "<style scoped>\n",
       "    .dataframe tbody tr th:only-of-type {\n",
       "        vertical-align: middle;\n",
       "    }\n",
       "\n",
       "    .dataframe tbody tr th {\n",
       "        vertical-align: top;\n",
       "    }\n",
       "\n",
       "    .dataframe thead th {\n",
       "        text-align: right;\n",
       "    }\n",
       "</style>\n",
       "<table border=\"1\" class=\"dataframe\">\n",
       "  <thead>\n",
       "    <tr style=\"text-align: right;\">\n",
       "      <th></th>\n",
       "      <th>session_id</th>\n",
       "      <th>max</th>\n",
       "      <th>min</th>\n",
       "      <th>duration</th>\n",
       "      <th>max_sequence_number</th>\n",
       "    </tr>\n",
       "  </thead>\n",
       "  <tbody>\n",
       "    <tr>\n",
       "      <th>7</th>\n",
       "      <td>0000ffb8-8226-45e5-b4a7-a36872cf32c0</td>\n",
       "      <td>2023-09-27 00:41:01+00:00</td>\n",
       "      <td>2023-09-27 00:36:47+00:00</td>\n",
       "      <td>0 days 00:04:14</td>\n",
       "      <td>5</td>\n",
       "    </tr>\n",
       "    <tr>\n",
       "      <th>26</th>\n",
       "      <td>0003149f-7379-4832-b95c-602ad9dd3664</td>\n",
       "      <td>2023-11-01 22:48:37+00:00</td>\n",
       "      <td>2023-11-01 22:41:28+00:00</td>\n",
       "      <td>0 days 00:07:09</td>\n",
       "      <td>5</td>\n",
       "    </tr>\n",
       "    <tr>\n",
       "      <th>221</th>\n",
       "      <td>0014e6d5-b812-4cdf-99b7-6efe2e1e0eb6</td>\n",
       "      <td>2020-07-14 13:49:09+00:00</td>\n",
       "      <td>2020-07-14 13:42:34+00:00</td>\n",
       "      <td>0 days 00:06:35</td>\n",
       "      <td>5</td>\n",
       "    </tr>\n",
       "    <tr>\n",
       "      <th>364</th>\n",
       "      <td>00232d62-7ba3-4997-ba1f-ffa892d559e2</td>\n",
       "      <td>2020-04-13 13:09:43+00:00</td>\n",
       "      <td>2020-04-13 13:03:21+00:00</td>\n",
       "      <td>0 days 00:06:22</td>\n",
       "      <td>5</td>\n",
       "    </tr>\n",
       "    <tr>\n",
       "      <th>435</th>\n",
       "      <td>002a4226-f098-4da2-8102-45012f9993e6</td>\n",
       "      <td>2023-07-29 03:00:39+00:00</td>\n",
       "      <td>2023-07-29 02:55:42+00:00</td>\n",
       "      <td>0 days 00:04:57</td>\n",
       "      <td>5</td>\n",
       "    </tr>\n",
       "    <tr>\n",
       "      <th>...</th>\n",
       "      <td>...</td>\n",
       "      <td>...</td>\n",
       "      <td>...</td>\n",
       "      <td>...</td>\n",
       "      <td>...</td>\n",
       "    </tr>\n",
       "    <tr>\n",
       "      <th>643030</th>\n",
       "      <td>ffc52cc8-593d-4f3f-8f02-457b7400d330</td>\n",
       "      <td>2023-10-15 13:46:10+00:00</td>\n",
       "      <td>2023-10-15 13:35:37+00:00</td>\n",
       "      <td>0 days 00:10:33</td>\n",
       "      <td>5</td>\n",
       "    </tr>\n",
       "    <tr>\n",
       "      <th>643034</th>\n",
       "      <td>ffc5de45-5168-4c8e-9c27-4cc00e5ffef6</td>\n",
       "      <td>2022-07-28 05:51:08+00:00</td>\n",
       "      <td>2022-07-28 05:45:38+00:00</td>\n",
       "      <td>0 days 00:05:30</td>\n",
       "      <td>5</td>\n",
       "    </tr>\n",
       "    <tr>\n",
       "      <th>643283</th>\n",
       "      <td>ffe0142c-53a8-439e-a630-547027b48216</td>\n",
       "      <td>2023-08-17 00:01:31+00:00</td>\n",
       "      <td>2023-08-16 23:59:56+00:00</td>\n",
       "      <td>0 days 00:01:35</td>\n",
       "      <td>5</td>\n",
       "    </tr>\n",
       "    <tr>\n",
       "      <th>643309</th>\n",
       "      <td>ffe35145-b7e8-40bf-96d0-db71c8530c3a</td>\n",
       "      <td>2020-06-30 14:05:16+00:00</td>\n",
       "      <td>2020-06-30 13:58:17+00:00</td>\n",
       "      <td>0 days 00:06:59</td>\n",
       "      <td>5</td>\n",
       "    </tr>\n",
       "    <tr>\n",
       "      <th>643570</th>\n",
       "      <td>fffdb6a0-af63-464a-8d7a-a0e19d2705ef</td>\n",
       "      <td>2022-10-14 08:43:30+00:00</td>\n",
       "      <td>2022-10-14 08:39:41+00:00</td>\n",
       "      <td>0 days 00:03:49</td>\n",
       "      <td>5</td>\n",
       "    </tr>\n",
       "  </tbody>\n",
       "</table>\n",
       "<p>3775 rows × 5 columns</p>\n",
       "</div>"
      ],
      "text/plain": [
       "                                  session_id                       max  \\\n",
       "7       0000ffb8-8226-45e5-b4a7-a36872cf32c0 2023-09-27 00:41:01+00:00   \n",
       "26      0003149f-7379-4832-b95c-602ad9dd3664 2023-11-01 22:48:37+00:00   \n",
       "221     0014e6d5-b812-4cdf-99b7-6efe2e1e0eb6 2020-07-14 13:49:09+00:00   \n",
       "364     00232d62-7ba3-4997-ba1f-ffa892d559e2 2020-04-13 13:09:43+00:00   \n",
       "435     002a4226-f098-4da2-8102-45012f9993e6 2023-07-29 03:00:39+00:00   \n",
       "...                                      ...                       ...   \n",
       "643030  ffc52cc8-593d-4f3f-8f02-457b7400d330 2023-10-15 13:46:10+00:00   \n",
       "643034  ffc5de45-5168-4c8e-9c27-4cc00e5ffef6 2022-07-28 05:51:08+00:00   \n",
       "643283  ffe0142c-53a8-439e-a630-547027b48216 2023-08-17 00:01:31+00:00   \n",
       "643309  ffe35145-b7e8-40bf-96d0-db71c8530c3a 2020-06-30 14:05:16+00:00   \n",
       "643570  fffdb6a0-af63-464a-8d7a-a0e19d2705ef 2022-10-14 08:43:30+00:00   \n",
       "\n",
       "                             min        duration  max_sequence_number  \n",
       "7      2023-09-27 00:36:47+00:00 0 days 00:04:14                    5  \n",
       "26     2023-11-01 22:41:28+00:00 0 days 00:07:09                    5  \n",
       "221    2020-07-14 13:42:34+00:00 0 days 00:06:35                    5  \n",
       "364    2020-04-13 13:03:21+00:00 0 days 00:06:22                    5  \n",
       "435    2023-07-29 02:55:42+00:00 0 days 00:04:57                    5  \n",
       "...                          ...             ...                  ...  \n",
       "643030 2023-10-15 13:35:37+00:00 0 days 00:10:33                    5  \n",
       "643034 2022-07-28 05:45:38+00:00 0 days 00:05:30                    5  \n",
       "643283 2023-08-16 23:59:56+00:00 0 days 00:01:35                    5  \n",
       "643309 2020-06-30 13:58:17+00:00 0 days 00:06:59                    5  \n",
       "643570 2022-10-14 08:39:41+00:00 0 days 00:03:49                    5  \n",
       "\n",
       "[3775 rows x 5 columns]"
      ]
     },
     "execution_count": 160,
     "metadata": {},
     "output_type": "execute_result"
    }
   ],
   "source": [
    "# pivot 테이블에 있는 session_id 추출\n",
    "pivot_session_ids = session_pivot_organic_home['session_id']\n",
    "\n",
    "# pivot 테이블에 있는 session_id만 필터링하여 출력\n",
    "duration_organic_home = duration[duration['session_id'].isin(pivot_session_ids)]\n",
    "duration_organic_home"
   ]
  },
  {
   "cell_type": "code",
   "execution_count": null,
   "metadata": {},
   "outputs": [
    {
     "data": {
      "text/plain": [
       "max_sequence_number\n",
       "5    3775\n",
       "Name: count, dtype: Int64"
      ]
     },
     "execution_count": 161,
     "metadata": {},
     "output_type": "execute_result"
    }
   ],
   "source": [
    "duration_organic_home['max_sequence_number'].value_counts()"
   ]
  },
  {
   "cell_type": "code",
   "execution_count": null,
   "metadata": {},
   "outputs": [
    {
     "name": "stdout",
     "output_type": "stream",
     "text": [
      "조회만 한 유저의 평균 체류시간 : NaT\n",
      "카트에 담은 유저의 평균 체류시간 : 0 days 00:05:59.330331125\n",
      "구매까지 한 유저의 평균 체류시간 : 0 days 00:05:59.330331125\n"
     ]
    }
   ],
   "source": [
    "view_session_avg_duration_organic_home = duration_organic_home.query('session_id not in @cart_session and session_id not in @purchased_session')['duration'].mean()\n",
    "cart_session_avg_duration_organic_home = duration_organic_home.query('session_id in @cart_session')['duration'].mean()\n",
    "purchased_session_avg_duration_organic_home = duration_organic_home.query('session_id in @purchased_session')['duration'].mean()\n",
    "\n",
    "print(f\"조회만 한 유저의 평균 체류시간 : {view_session_avg_duration_organic_home}\")\n",
    "print(f\"카트에 담은 유저의 평균 체류시간 : {cart_session_avg_duration_organic_home}\")\n",
    "print(f\"구매까지 한 유저의 평균 체류시간 : {purchased_session_avg_duration_organic_home}\")"
   ]
  },
  {
   "cell_type": "code",
   "execution_count": null,
   "metadata": {},
   "outputs": [
    {
     "data": {
      "text/html": [
       "<div>\n",
       "<style scoped>\n",
       "    .dataframe tbody tr th:only-of-type {\n",
       "        vertical-align: middle;\n",
       "    }\n",
       "\n",
       "    .dataframe tbody tr th {\n",
       "        vertical-align: top;\n",
       "    }\n",
       "\n",
       "    .dataframe thead th {\n",
       "        text-align: right;\n",
       "    }\n",
       "</style>\n",
       "<table border=\"1\" class=\"dataframe\">\n",
       "  <thead>\n",
       "    <tr style=\"text-align: right;\">\n",
       "      <th></th>\n",
       "      <th>event_type</th>\n",
       "      <th>count</th>\n",
       "    </tr>\n",
       "  </thead>\n",
       "  <tbody>\n",
       "    <tr>\n",
       "      <th>0</th>\n",
       "      <td>home</td>\n",
       "      <td>3775</td>\n",
       "    </tr>\n",
       "    <tr>\n",
       "      <th>1</th>\n",
       "      <td>department</td>\n",
       "      <td>3775</td>\n",
       "    </tr>\n",
       "    <tr>\n",
       "      <th>2</th>\n",
       "      <td>product</td>\n",
       "      <td>3775</td>\n",
       "    </tr>\n",
       "    <tr>\n",
       "      <th>3</th>\n",
       "      <td>cart</td>\n",
       "      <td>3775</td>\n",
       "    </tr>\n",
       "    <tr>\n",
       "      <th>5</th>\n",
       "      <td>purchase</td>\n",
       "      <td>3775</td>\n",
       "    </tr>\n",
       "  </tbody>\n",
       "</table>\n",
       "</div>"
      ],
      "text/plain": [
       "   event_type  count\n",
       "0        home   3775\n",
       "1  department   3775\n",
       "2     product   3775\n",
       "3        cart   3775\n",
       "5    purchase   3775"
      ]
     },
     "execution_count": 163,
     "metadata": {},
     "output_type": "execute_result"
    }
   ],
   "source": [
    "funnel_organic_home = session_pivot_organic_home[['home', 'department', 'product','cart', 'cancel', 'purchase']].sum().to_frame().reset_index()\n",
    "funnel_organic_home.columns = ['event_type', 'count']\n",
    "funnel_organic_home = funnel_organic_home.query('event_type != \"cancel\"')\n",
    "funnel_organic_home"
   ]
  },
  {
   "cell_type": "markdown",
   "metadata": {},
   "source": [
    "### Non-Organic"
   ]
  },
  {
   "cell_type": "code",
   "execution_count": null,
   "metadata": {},
   "outputs": [
    {
     "data": {
      "text/html": [
       "<div>\n",
       "<style scoped>\n",
       "    .dataframe tbody tr th:only-of-type {\n",
       "        vertical-align: middle;\n",
       "    }\n",
       "\n",
       "    .dataframe tbody tr th {\n",
       "        vertical-align: top;\n",
       "    }\n",
       "\n",
       "    .dataframe thead th {\n",
       "        text-align: right;\n",
       "    }\n",
       "</style>\n",
       "<table border=\"1\" class=\"dataframe\">\n",
       "  <thead>\n",
       "    <tr style=\"text-align: right;\">\n",
       "      <th></th>\n",
       "      <th>event_id</th>\n",
       "      <th>user_id</th>\n",
       "      <th>sequence_number</th>\n",
       "      <th>session_id</th>\n",
       "      <th>event_created_at</th>\n",
       "      <th>ip_address</th>\n",
       "      <th>city</th>\n",
       "      <th>state</th>\n",
       "      <th>postal_code</th>\n",
       "      <th>browser</th>\n",
       "      <th>event_traffic_source</th>\n",
       "      <th>uri</th>\n",
       "      <th>event_type</th>\n",
       "      <th>year</th>\n",
       "      <th>month</th>\n",
       "      <th>day</th>\n",
       "      <th>date</th>\n",
       "    </tr>\n",
       "  </thead>\n",
       "  <tbody>\n",
       "    <tr>\n",
       "      <th>0</th>\n",
       "      <td>2198523</td>\n",
       "      <td>&lt;NA&gt;</td>\n",
       "      <td>3</td>\n",
       "      <td>83889ed2-2adc-4b9a-af5d-154f6998e778</td>\n",
       "      <td>2021-06-17 17:30:00+00:00</td>\n",
       "      <td>138.143.9.202</td>\n",
       "      <td>São Paulo</td>\n",
       "      <td>São Paulo</td>\n",
       "      <td>02675-031</td>\n",
       "      <td>Chrome</td>\n",
       "      <td>Adwords</td>\n",
       "      <td>/cancel</td>\n",
       "      <td>cancel</td>\n",
       "      <td>2021</td>\n",
       "      <td>6</td>\n",
       "      <td>17</td>\n",
       "      <td>2021-06-17</td>\n",
       "    </tr>\n",
       "    <tr>\n",
       "      <th>1</th>\n",
       "      <td>1773216</td>\n",
       "      <td>&lt;NA&gt;</td>\n",
       "      <td>3</td>\n",
       "      <td>7a3fc3f2-e84f-44fe-8876-eff76741f7a3</td>\n",
       "      <td>2020-08-07 08:41:00+00:00</td>\n",
       "      <td>85.114.141.79</td>\n",
       "      <td>Santa Isabel</td>\n",
       "      <td>São Paulo</td>\n",
       "      <td>07500-000</td>\n",
       "      <td>Safari</td>\n",
       "      <td>Adwords</td>\n",
       "      <td>/cancel</td>\n",
       "      <td>cancel</td>\n",
       "      <td>2020</td>\n",
       "      <td>8</td>\n",
       "      <td>7</td>\n",
       "      <td>2020-08-07</td>\n",
       "    </tr>\n",
       "    <tr>\n",
       "      <th>2</th>\n",
       "      <td>2380515</td>\n",
       "      <td>&lt;NA&gt;</td>\n",
       "      <td>3</td>\n",
       "      <td>13d9b2fb-eee1-43fd-965c-267b38dd7125</td>\n",
       "      <td>2021-02-15 18:48:00+00:00</td>\n",
       "      <td>169.250.255.132</td>\n",
       "      <td>Mairiporã</td>\n",
       "      <td>São Paulo</td>\n",
       "      <td>07600-000</td>\n",
       "      <td>IE</td>\n",
       "      <td>Adwords</td>\n",
       "      <td>/cancel</td>\n",
       "      <td>cancel</td>\n",
       "      <td>2021</td>\n",
       "      <td>2</td>\n",
       "      <td>15</td>\n",
       "      <td>2021-02-15</td>\n",
       "    </tr>\n",
       "    <tr>\n",
       "      <th>3</th>\n",
       "      <td>2250597</td>\n",
       "      <td>&lt;NA&gt;</td>\n",
       "      <td>3</td>\n",
       "      <td>96f1d44e-9621-463c-954c-d8deb7fffe7f</td>\n",
       "      <td>2022-03-30 10:56:00+00:00</td>\n",
       "      <td>137.25.222.160</td>\n",
       "      <td>Cajamar</td>\n",
       "      <td>São Paulo</td>\n",
       "      <td>07750-000</td>\n",
       "      <td>Chrome</td>\n",
       "      <td>Adwords</td>\n",
       "      <td>/cancel</td>\n",
       "      <td>cancel</td>\n",
       "      <td>2022</td>\n",
       "      <td>3</td>\n",
       "      <td>30</td>\n",
       "      <td>2022-03-30</td>\n",
       "    </tr>\n",
       "    <tr>\n",
       "      <th>4</th>\n",
       "      <td>1834446</td>\n",
       "      <td>&lt;NA&gt;</td>\n",
       "      <td>3</td>\n",
       "      <td>d09dce10-a7cb-47d3-a9af-44975566fa03</td>\n",
       "      <td>2019-09-05 01:18:00+00:00</td>\n",
       "      <td>161.114.4.174</td>\n",
       "      <td>São Paulo</td>\n",
       "      <td>São Paulo</td>\n",
       "      <td>09581-680</td>\n",
       "      <td>Chrome</td>\n",
       "      <td>Email</td>\n",
       "      <td>/cancel</td>\n",
       "      <td>cancel</td>\n",
       "      <td>2019</td>\n",
       "      <td>9</td>\n",
       "      <td>5</td>\n",
       "      <td>2019-09-05</td>\n",
       "    </tr>\n",
       "  </tbody>\n",
       "</table>\n",
       "</div>"
      ],
      "text/plain": [
       "   event_id  user_id  sequence_number                            session_id  \\\n",
       "0   2198523     <NA>                3  83889ed2-2adc-4b9a-af5d-154f6998e778   \n",
       "1   1773216     <NA>                3  7a3fc3f2-e84f-44fe-8876-eff76741f7a3   \n",
       "2   2380515     <NA>                3  13d9b2fb-eee1-43fd-965c-267b38dd7125   \n",
       "3   2250597     <NA>                3  96f1d44e-9621-463c-954c-d8deb7fffe7f   \n",
       "4   1834446     <NA>                3  d09dce10-a7cb-47d3-a9af-44975566fa03   \n",
       "\n",
       "           event_created_at       ip_address          city      state  \\\n",
       "0 2021-06-17 17:30:00+00:00    138.143.9.202     São Paulo  São Paulo   \n",
       "1 2020-08-07 08:41:00+00:00    85.114.141.79  Santa Isabel  São Paulo   \n",
       "2 2021-02-15 18:48:00+00:00  169.250.255.132     Mairiporã  São Paulo   \n",
       "3 2022-03-30 10:56:00+00:00   137.25.222.160       Cajamar  São Paulo   \n",
       "4 2019-09-05 01:18:00+00:00    161.114.4.174     São Paulo  São Paulo   \n",
       "\n",
       "  postal_code browser event_traffic_source      uri event_type  year  month  \\\n",
       "0   02675-031  Chrome              Adwords  /cancel     cancel  2021      6   \n",
       "1   07500-000  Safari              Adwords  /cancel     cancel  2020      8   \n",
       "2   07600-000      IE              Adwords  /cancel     cancel  2021      2   \n",
       "3   07750-000  Chrome              Adwords  /cancel     cancel  2022      3   \n",
       "4   09581-680  Chrome                Email  /cancel     cancel  2019      9   \n",
       "\n",
       "   day        date  \n",
       "0   17  2021-06-17  \n",
       "1    7  2020-08-07  \n",
       "2   15  2021-02-15  \n",
       "3   30  2022-03-30  \n",
       "4    5  2019-09-05  "
      ]
     },
     "execution_count": 164,
     "metadata": {},
     "output_type": "execute_result"
    }
   ],
   "source": [
    "events_non_organic = events[events['event_traffic_source']!='Organic']\n",
    "events_non_organic.head()"
   ]
  },
  {
   "cell_type": "code",
   "execution_count": null,
   "metadata": {},
   "outputs": [
    {
     "data": {
      "text/html": [
       "<div>\n",
       "<style scoped>\n",
       "    .dataframe tbody tr th:only-of-type {\n",
       "        vertical-align: middle;\n",
       "    }\n",
       "\n",
       "    .dataframe tbody tr th {\n",
       "        vertical-align: top;\n",
       "    }\n",
       "\n",
       "    .dataframe thead th {\n",
       "        text-align: right;\n",
       "    }\n",
       "</style>\n",
       "<table border=\"1\" class=\"dataframe\">\n",
       "  <thead>\n",
       "    <tr style=\"text-align: right;\">\n",
       "      <th></th>\n",
       "      <th>event_id</th>\n",
       "      <th>user_id</th>\n",
       "      <th>sequence_number</th>\n",
       "      <th>session_id</th>\n",
       "      <th>event_created_at</th>\n",
       "      <th>ip_address</th>\n",
       "      <th>city</th>\n",
       "      <th>state</th>\n",
       "      <th>postal_code</th>\n",
       "      <th>browser</th>\n",
       "      <th>event_traffic_source</th>\n",
       "      <th>uri</th>\n",
       "      <th>event_type</th>\n",
       "      <th>year</th>\n",
       "      <th>month</th>\n",
       "      <th>day</th>\n",
       "      <th>date</th>\n",
       "    </tr>\n",
       "  </thead>\n",
       "  <tbody>\n",
       "    <tr>\n",
       "      <th>7313</th>\n",
       "      <td>1936024</td>\n",
       "      <td>&lt;NA&gt;</td>\n",
       "      <td>1</td>\n",
       "      <td>9bf5eb71-fb00-4df2-b6ef-e7b0e8b5850c</td>\n",
       "      <td>2021-03-23 12:27:00+00:00</td>\n",
       "      <td>16.185.74.32</td>\n",
       "      <td>Sapporo</td>\n",
       "      <td>Hokkaido</td>\n",
       "      <td>002-8054</td>\n",
       "      <td>Chrome</td>\n",
       "      <td>Adwords</td>\n",
       "      <td>/department/men/category/socks/brand/adidas</td>\n",
       "      <td>department</td>\n",
       "      <td>2021</td>\n",
       "      <td>3</td>\n",
       "      <td>23</td>\n",
       "      <td>2021-03-23</td>\n",
       "    </tr>\n",
       "    <tr>\n",
       "      <th>7314</th>\n",
       "      <td>1444961</td>\n",
       "      <td>&lt;NA&gt;</td>\n",
       "      <td>1</td>\n",
       "      <td>d90e644c-9678-41f0-b097-ac5f20247f99</td>\n",
       "      <td>2020-07-16 15:00:00+00:00</td>\n",
       "      <td>64.183.191.162</td>\n",
       "      <td>Sapporo</td>\n",
       "      <td>Hokkaido</td>\n",
       "      <td>005-0041</td>\n",
       "      <td>Safari</td>\n",
       "      <td>Adwords</td>\n",
       "      <td>/department/men/category/sweaters/brand/retrofit</td>\n",
       "      <td>department</td>\n",
       "      <td>2020</td>\n",
       "      <td>7</td>\n",
       "      <td>16</td>\n",
       "      <td>2020-07-16</td>\n",
       "    </tr>\n",
       "    <tr>\n",
       "      <th>7315</th>\n",
       "      <td>1342526</td>\n",
       "      <td>&lt;NA&gt;</td>\n",
       "      <td>1</td>\n",
       "      <td>c9b3093d-0fed-4d5b-9db1-b99723b3a27d</td>\n",
       "      <td>2022-03-14 15:40:00+00:00</td>\n",
       "      <td>204.107.71.223</td>\n",
       "      <td>Sapporo</td>\n",
       "      <td>Hokkaido</td>\n",
       "      <td>007-0890</td>\n",
       "      <td>IE</td>\n",
       "      <td>Email</td>\n",
       "      <td>/department/women/category/jumpsuits&amp;rompers/b...</td>\n",
       "      <td>department</td>\n",
       "      <td>2022</td>\n",
       "      <td>3</td>\n",
       "      <td>14</td>\n",
       "      <td>2022-03-14</td>\n",
       "    </tr>\n",
       "    <tr>\n",
       "      <th>7319</th>\n",
       "      <td>2178706</td>\n",
       "      <td>&lt;NA&gt;</td>\n",
       "      <td>1</td>\n",
       "      <td>206bc20c-a07f-4940-ae07-63111ff1daae</td>\n",
       "      <td>2020-11-22 07:56:00+00:00</td>\n",
       "      <td>92.169.83.198</td>\n",
       "      <td>São Paulo</td>\n",
       "      <td>São Paulo</td>\n",
       "      <td>02675-031</td>\n",
       "      <td>Chrome</td>\n",
       "      <td>Adwords</td>\n",
       "      <td>/department/women/category/shorts/brand/whatgo...</td>\n",
       "      <td>department</td>\n",
       "      <td>2020</td>\n",
       "      <td>11</td>\n",
       "      <td>22</td>\n",
       "      <td>2020-11-22</td>\n",
       "    </tr>\n",
       "    <tr>\n",
       "      <th>7320</th>\n",
       "      <td>1911089</td>\n",
       "      <td>&lt;NA&gt;</td>\n",
       "      <td>1</td>\n",
       "      <td>a2ea8374-ba91-418e-b652-2422e4b8d9e5</td>\n",
       "      <td>2021-05-22 13:04:00+00:00</td>\n",
       "      <td>6.115.121.104</td>\n",
       "      <td>São Paulo</td>\n",
       "      <td>São Paulo</td>\n",
       "      <td>02675-031</td>\n",
       "      <td>Other</td>\n",
       "      <td>Email</td>\n",
       "      <td>/department/men/category/jeans/brand/buffaloby...</td>\n",
       "      <td>department</td>\n",
       "      <td>2021</td>\n",
       "      <td>5</td>\n",
       "      <td>22</td>\n",
       "      <td>2021-05-22</td>\n",
       "    </tr>\n",
       "  </tbody>\n",
       "</table>\n",
       "</div>"
      ],
      "text/plain": [
       "      event_id  user_id  sequence_number  \\\n",
       "7313   1936024     <NA>                1   \n",
       "7314   1444961     <NA>                1   \n",
       "7315   1342526     <NA>                1   \n",
       "7319   2178706     <NA>                1   \n",
       "7320   1911089     <NA>                1   \n",
       "\n",
       "                                session_id          event_created_at  \\\n",
       "7313  9bf5eb71-fb00-4df2-b6ef-e7b0e8b5850c 2021-03-23 12:27:00+00:00   \n",
       "7314  d90e644c-9678-41f0-b097-ac5f20247f99 2020-07-16 15:00:00+00:00   \n",
       "7315  c9b3093d-0fed-4d5b-9db1-b99723b3a27d 2022-03-14 15:40:00+00:00   \n",
       "7319  206bc20c-a07f-4940-ae07-63111ff1daae 2020-11-22 07:56:00+00:00   \n",
       "7320  a2ea8374-ba91-418e-b652-2422e4b8d9e5 2021-05-22 13:04:00+00:00   \n",
       "\n",
       "          ip_address       city      state postal_code browser  \\\n",
       "7313    16.185.74.32    Sapporo   Hokkaido    002-8054  Chrome   \n",
       "7314  64.183.191.162    Sapporo   Hokkaido    005-0041  Safari   \n",
       "7315  204.107.71.223    Sapporo   Hokkaido    007-0890      IE   \n",
       "7319   92.169.83.198  São Paulo  São Paulo   02675-031  Chrome   \n",
       "7320   6.115.121.104  São Paulo  São Paulo   02675-031   Other   \n",
       "\n",
       "     event_traffic_source                                                uri  \\\n",
       "7313              Adwords        /department/men/category/socks/brand/adidas   \n",
       "7314              Adwords   /department/men/category/sweaters/brand/retrofit   \n",
       "7315                Email  /department/women/category/jumpsuits&rompers/b...   \n",
       "7319              Adwords  /department/women/category/shorts/brand/whatgo...   \n",
       "7320                Email  /department/men/category/jeans/brand/buffaloby...   \n",
       "\n",
       "      event_type  year  month  day        date  \n",
       "7313  department  2021      3   23  2021-03-23  \n",
       "7314  department  2020      7   16  2020-07-16  \n",
       "7315  department  2022      3   14  2022-03-14  \n",
       "7319  department  2020     11   22  2020-11-22  \n",
       "7320  department  2021      5   22  2021-05-22  "
      ]
     },
     "execution_count": 165,
     "metadata": {},
     "output_type": "execute_result"
    }
   ],
   "source": [
    "sequence_1_non_organic = sequence_1[sequence_1['event_traffic_source']!='Organic']\n",
    "sequence_1_non_organic.head()"
   ]
  },
  {
   "cell_type": "code",
   "execution_count": null,
   "metadata": {},
   "outputs": [
    {
     "data": {
      "text/plain": [
       "event_type\n",
       "department    307883\n",
       "product       231638\n",
       "home           71667\n",
       "cancel             0\n",
       "cart               0\n",
       "purchase           0\n",
       "Name: count, dtype: int64"
      ]
     },
     "execution_count": 166,
     "metadata": {},
     "output_type": "execute_result"
    }
   ],
   "source": [
    "sequence_1_non_organic['event_type'].value_counts()"
   ]
  },
  {
   "cell_type": "markdown",
   "metadata": {},
   "source": [
    "#### Non_organic - department로 유입"
   ]
  },
  {
   "cell_type": "code",
   "execution_count": null,
   "metadata": {},
   "outputs": [
    {
     "data": {
      "text/html": [
       "<div>\n",
       "<style scoped>\n",
       "    .dataframe tbody tr th:only-of-type {\n",
       "        vertical-align: middle;\n",
       "    }\n",
       "\n",
       "    .dataframe tbody tr th {\n",
       "        vertical-align: top;\n",
       "    }\n",
       "\n",
       "    .dataframe thead th {\n",
       "        text-align: right;\n",
       "    }\n",
       "</style>\n",
       "<table border=\"1\" class=\"dataframe\">\n",
       "  <thead>\n",
       "    <tr style=\"text-align: right;\">\n",
       "      <th></th>\n",
       "      <th>event_id</th>\n",
       "      <th>user_id</th>\n",
       "      <th>sequence_number</th>\n",
       "      <th>session_id</th>\n",
       "      <th>event_created_at</th>\n",
       "      <th>ip_address</th>\n",
       "      <th>city</th>\n",
       "      <th>state</th>\n",
       "      <th>postal_code</th>\n",
       "      <th>browser</th>\n",
       "      <th>event_traffic_source</th>\n",
       "      <th>uri</th>\n",
       "      <th>event_type</th>\n",
       "      <th>year</th>\n",
       "      <th>month</th>\n",
       "      <th>day</th>\n",
       "      <th>date</th>\n",
       "    </tr>\n",
       "  </thead>\n",
       "  <tbody>\n",
       "    <tr>\n",
       "      <th>1251</th>\n",
       "      <td>458138</td>\n",
       "      <td>35092</td>\n",
       "      <td>3</td>\n",
       "      <td>e24636ad-3949-4174-bd09-4e2ae7a95aa3</td>\n",
       "      <td>2022-08-01 01:10:20+00:00</td>\n",
       "      <td>92.212.103.243</td>\n",
       "      <td>Sapporo</td>\n",
       "      <td>Hokkaido</td>\n",
       "      <td>003-0030</td>\n",
       "      <td>Chrome</td>\n",
       "      <td>Facebook</td>\n",
       "      <td>/cart</td>\n",
       "      <td>cart</td>\n",
       "      <td>2022</td>\n",
       "      <td>8</td>\n",
       "      <td>1</td>\n",
       "      <td>2022-08-01</td>\n",
       "    </tr>\n",
       "    <tr>\n",
       "      <th>1252</th>\n",
       "      <td>444176</td>\n",
       "      <td>34028</td>\n",
       "      <td>6</td>\n",
       "      <td>b334f6d8-a1fd-42e9-90e4-8e8d2af7a663</td>\n",
       "      <td>2021-07-13 23:14:04+00:00</td>\n",
       "      <td>176.14.231.160</td>\n",
       "      <td>Sapporo</td>\n",
       "      <td>Hokkaido</td>\n",
       "      <td>007-0890</td>\n",
       "      <td>Safari</td>\n",
       "      <td>Email</td>\n",
       "      <td>/cart</td>\n",
       "      <td>cart</td>\n",
       "      <td>2021</td>\n",
       "      <td>7</td>\n",
       "      <td>13</td>\n",
       "      <td>2021-07-13</td>\n",
       "    </tr>\n",
       "    <tr>\n",
       "      <th>1254</th>\n",
       "      <td>1737625</td>\n",
       "      <td>&lt;NA&gt;</td>\n",
       "      <td>3</td>\n",
       "      <td>7878a1ba-e473-4c7d-ac7d-fa0f702641df</td>\n",
       "      <td>2022-08-09 07:39:00+00:00</td>\n",
       "      <td>77.95.14.101</td>\n",
       "      <td>São Paulo</td>\n",
       "      <td>São Paulo</td>\n",
       "      <td>02675-031</td>\n",
       "      <td>Chrome</td>\n",
       "      <td>Adwords</td>\n",
       "      <td>/cart</td>\n",
       "      <td>cart</td>\n",
       "      <td>2022</td>\n",
       "      <td>8</td>\n",
       "      <td>9</td>\n",
       "      <td>2022-08-09</td>\n",
       "    </tr>\n",
       "    <tr>\n",
       "      <th>1257</th>\n",
       "      <td>1147243</td>\n",
       "      <td>87818</td>\n",
       "      <td>3</td>\n",
       "      <td>e99fd570-3c66-4475-ab68-41c4a0da4bbc</td>\n",
       "      <td>2021-01-01 06:55:11+00:00</td>\n",
       "      <td>138.36.176.82</td>\n",
       "      <td>São Paulo</td>\n",
       "      <td>São Paulo</td>\n",
       "      <td>02675-031</td>\n",
       "      <td>Chrome</td>\n",
       "      <td>Email</td>\n",
       "      <td>/cart</td>\n",
       "      <td>cart</td>\n",
       "      <td>2021</td>\n",
       "      <td>1</td>\n",
       "      <td>1</td>\n",
       "      <td>2021-01-01</td>\n",
       "    </tr>\n",
       "    <tr>\n",
       "      <th>1261</th>\n",
       "      <td>2256076</td>\n",
       "      <td>&lt;NA&gt;</td>\n",
       "      <td>3</td>\n",
       "      <td>929729ee-08fb-4861-b951-3c782646e578</td>\n",
       "      <td>2023-01-28 13:29:00+00:00</td>\n",
       "      <td>146.93.18.3</td>\n",
       "      <td>São Paulo</td>\n",
       "      <td>São Paulo</td>\n",
       "      <td>02675-031</td>\n",
       "      <td>Chrome</td>\n",
       "      <td>YouTube</td>\n",
       "      <td>/cart</td>\n",
       "      <td>cart</td>\n",
       "      <td>2023</td>\n",
       "      <td>1</td>\n",
       "      <td>28</td>\n",
       "      <td>2023-01-28</td>\n",
       "    </tr>\n",
       "    <tr>\n",
       "      <th>...</th>\n",
       "      <td>...</td>\n",
       "      <td>...</td>\n",
       "      <td>...</td>\n",
       "      <td>...</td>\n",
       "      <td>...</td>\n",
       "      <td>...</td>\n",
       "      <td>...</td>\n",
       "      <td>...</td>\n",
       "      <td>...</td>\n",
       "      <td>...</td>\n",
       "      <td>...</td>\n",
       "      <td>...</td>\n",
       "      <td>...</td>\n",
       "      <td>...</td>\n",
       "      <td>...</td>\n",
       "      <td>...</td>\n",
       "      <td>...</td>\n",
       "    </tr>\n",
       "    <tr>\n",
       "      <th>2431951</th>\n",
       "      <td>720309</td>\n",
       "      <td>55096</td>\n",
       "      <td>13</td>\n",
       "      <td>15d01bc0-f710-4086-8f3d-e025e3337fcf</td>\n",
       "      <td>2023-11-14 02:15:36+00:00</td>\n",
       "      <td>18.3.94.1</td>\n",
       "      <td>Hartlepool</td>\n",
       "      <td>England</td>\n",
       "      <td>TS25</td>\n",
       "      <td>Chrome</td>\n",
       "      <td>Email</td>\n",
       "      <td>/purchase</td>\n",
       "      <td>purchase</td>\n",
       "      <td>2023</td>\n",
       "      <td>11</td>\n",
       "      <td>14</td>\n",
       "      <td>2023-11-14</td>\n",
       "    </tr>\n",
       "    <tr>\n",
       "      <th>2431952</th>\n",
       "      <td>1227046</td>\n",
       "      <td>93890</td>\n",
       "      <td>13</td>\n",
       "      <td>9132d8b4-1f92-4939-8cf9-ad4f8c348fab</td>\n",
       "      <td>2022-04-01 11:00:25+00:00</td>\n",
       "      <td>27.12.96.182</td>\n",
       "      <td>Uxbridge</td>\n",
       "      <td>England</td>\n",
       "      <td>UB8</td>\n",
       "      <td>Chrome</td>\n",
       "      <td>Email</td>\n",
       "      <td>/purchase</td>\n",
       "      <td>purchase</td>\n",
       "      <td>2022</td>\n",
       "      <td>4</td>\n",
       "      <td>1</td>\n",
       "      <td>2022-04-01</td>\n",
       "    </tr>\n",
       "    <tr>\n",
       "      <th>2431954</th>\n",
       "      <td>257180</td>\n",
       "      <td>19628</td>\n",
       "      <td>10</td>\n",
       "      <td>b5a32755-c7a3-49d5-983e-d65ef1d2fbcc</td>\n",
       "      <td>2023-10-18 04:09:50+00:00</td>\n",
       "      <td>75.36.158.25</td>\n",
       "      <td>St Helens</td>\n",
       "      <td>England</td>\n",
       "      <td>WA11</td>\n",
       "      <td>Other</td>\n",
       "      <td>Email</td>\n",
       "      <td>/purchase</td>\n",
       "      <td>purchase</td>\n",
       "      <td>2023</td>\n",
       "      <td>10</td>\n",
       "      <td>18</td>\n",
       "      <td>2023-10-18</td>\n",
       "    </tr>\n",
       "    <tr>\n",
       "      <th>2431960</th>\n",
       "      <td>553230</td>\n",
       "      <td>42386</td>\n",
       "      <td>10</td>\n",
       "      <td>6a7ba027-2af2-46a3-ae05-294a264840cf</td>\n",
       "      <td>2023-07-31 15:11:10+00:00</td>\n",
       "      <td>147.252.137.75</td>\n",
       "      <td>Orrell</td>\n",
       "      <td>England</td>\n",
       "      <td>WN5</td>\n",
       "      <td>Chrome</td>\n",
       "      <td>Facebook</td>\n",
       "      <td>/purchase</td>\n",
       "      <td>purchase</td>\n",
       "      <td>2023</td>\n",
       "      <td>7</td>\n",
       "      <td>31</td>\n",
       "      <td>2023-07-31</td>\n",
       "    </tr>\n",
       "    <tr>\n",
       "      <th>2431962</th>\n",
       "      <td>844526</td>\n",
       "      <td>64551</td>\n",
       "      <td>13</td>\n",
       "      <td>9f633088-d2a8-4db2-8a5e-ebd946abce26</td>\n",
       "      <td>2022-09-15 09:55:32+00:00</td>\n",
       "      <td>190.227.140.196</td>\n",
       "      <td>York</td>\n",
       "      <td>England</td>\n",
       "      <td>YO10</td>\n",
       "      <td>Firefox</td>\n",
       "      <td>Email</td>\n",
       "      <td>/purchase</td>\n",
       "      <td>purchase</td>\n",
       "      <td>2022</td>\n",
       "      <td>9</td>\n",
       "      <td>15</td>\n",
       "      <td>2022-09-15</td>\n",
       "    </tr>\n",
       "  </tbody>\n",
       "</table>\n",
       "<p>1286762 rows × 17 columns</p>\n",
       "</div>"
      ],
      "text/plain": [
       "         event_id  user_id  sequence_number  \\\n",
       "1251       458138    35092                3   \n",
       "1252       444176    34028                6   \n",
       "1254      1737625     <NA>                3   \n",
       "1257      1147243    87818                3   \n",
       "1261      2256076     <NA>                3   \n",
       "...           ...      ...              ...   \n",
       "2431951    720309    55096               13   \n",
       "2431952   1227046    93890               13   \n",
       "2431954    257180    19628               10   \n",
       "2431960    553230    42386               10   \n",
       "2431962    844526    64551               13   \n",
       "\n",
       "                                   session_id          event_created_at  \\\n",
       "1251     e24636ad-3949-4174-bd09-4e2ae7a95aa3 2022-08-01 01:10:20+00:00   \n",
       "1252     b334f6d8-a1fd-42e9-90e4-8e8d2af7a663 2021-07-13 23:14:04+00:00   \n",
       "1254     7878a1ba-e473-4c7d-ac7d-fa0f702641df 2022-08-09 07:39:00+00:00   \n",
       "1257     e99fd570-3c66-4475-ab68-41c4a0da4bbc 2021-01-01 06:55:11+00:00   \n",
       "1261     929729ee-08fb-4861-b951-3c782646e578 2023-01-28 13:29:00+00:00   \n",
       "...                                       ...                       ...   \n",
       "2431951  15d01bc0-f710-4086-8f3d-e025e3337fcf 2023-11-14 02:15:36+00:00   \n",
       "2431952  9132d8b4-1f92-4939-8cf9-ad4f8c348fab 2022-04-01 11:00:25+00:00   \n",
       "2431954  b5a32755-c7a3-49d5-983e-d65ef1d2fbcc 2023-10-18 04:09:50+00:00   \n",
       "2431960  6a7ba027-2af2-46a3-ae05-294a264840cf 2023-07-31 15:11:10+00:00   \n",
       "2431962  9f633088-d2a8-4db2-8a5e-ebd946abce26 2022-09-15 09:55:32+00:00   \n",
       "\n",
       "              ip_address        city      state postal_code  browser  \\\n",
       "1251      92.212.103.243     Sapporo   Hokkaido    003-0030   Chrome   \n",
       "1252      176.14.231.160     Sapporo   Hokkaido    007-0890   Safari   \n",
       "1254        77.95.14.101   São Paulo  São Paulo   02675-031   Chrome   \n",
       "1257       138.36.176.82   São Paulo  São Paulo   02675-031   Chrome   \n",
       "1261         146.93.18.3   São Paulo  São Paulo   02675-031   Chrome   \n",
       "...                  ...         ...        ...         ...      ...   \n",
       "2431951        18.3.94.1  Hartlepool    England        TS25   Chrome   \n",
       "2431952     27.12.96.182    Uxbridge    England         UB8   Chrome   \n",
       "2431954     75.36.158.25   St Helens    England        WA11    Other   \n",
       "2431960   147.252.137.75      Orrell    England         WN5   Chrome   \n",
       "2431962  190.227.140.196        York    England        YO10  Firefox   \n",
       "\n",
       "        event_traffic_source        uri event_type  year  month  day  \\\n",
       "1251                Facebook      /cart       cart  2022      8    1   \n",
       "1252                   Email      /cart       cart  2021      7   13   \n",
       "1254                 Adwords      /cart       cart  2022      8    9   \n",
       "1257                   Email      /cart       cart  2021      1    1   \n",
       "1261                 YouTube      /cart       cart  2023      1   28   \n",
       "...                      ...        ...        ...   ...    ...  ...   \n",
       "2431951                Email  /purchase   purchase  2023     11   14   \n",
       "2431952                Email  /purchase   purchase  2022      4    1   \n",
       "2431954                Email  /purchase   purchase  2023     10   18   \n",
       "2431960             Facebook  /purchase   purchase  2023      7   31   \n",
       "2431962                Email  /purchase   purchase  2022      9   15   \n",
       "\n",
       "               date  \n",
       "1251     2022-08-01  \n",
       "1252     2021-07-13  \n",
       "1254     2022-08-09  \n",
       "1257     2021-01-01  \n",
       "1261     2023-01-28  \n",
       "...             ...  \n",
       "2431951  2023-11-14  \n",
       "2431952  2022-04-01  \n",
       "2431954  2023-10-18  \n",
       "2431960  2023-07-31  \n",
       "2431962  2022-09-15  \n",
       "\n",
       "[1286762 rows x 17 columns]"
      ]
     },
     "execution_count": 167,
     "metadata": {},
     "output_type": "execute_result"
    }
   ],
   "source": [
    "# 세션별로 첫 번째 이벤트를 식별합니다.\n",
    "first_event_per_session_non = events_non_organic[events_non_organic['sequence_number'] == 1]\n",
    "\n",
    "# sequence_number가 1이고 event_type이 department인 세션을 필터링합니다.\n",
    "filtered_sessions_non = first_event_per_session_non[first_event_per_session_non['event_type'] == 'department']\n",
    "\n",
    "# 필터링된 세션의 session_id를 가져옵니다.\n",
    "filtered_session_ids_non = filtered_sessions_non['session_id'].tolist()\n",
    "\n",
    "# 필터링된 session_id를 사용하여 원본 데이터를 필터링합니다.\n",
    "non_organic_department = events_non_organic[events_non_organic['session_id'].isin(filtered_session_ids_non)]\n",
    "\n",
    "non_organic_department"
   ]
  },
  {
   "cell_type": "code",
   "execution_count": null,
   "metadata": {},
   "outputs": [
    {
     "name": "stderr",
     "output_type": "stream",
     "text": [
      "/var/folders/qv/tqmmyp0s5dj996k_tcvqmtqm0000gn/T/ipykernel_3187/3436583234.py:1: FutureWarning:\n",
      "\n",
      "The default value of observed=False is deprecated and will change to observed=True in a future version of pandas. Specify observed=False to silence this warning and retain the current behavior\n",
      "\n"
     ]
    },
    {
     "data": {
      "text/html": [
       "<div>\n",
       "<style scoped>\n",
       "    .dataframe tbody tr th:only-of-type {\n",
       "        vertical-align: middle;\n",
       "    }\n",
       "\n",
       "    .dataframe tbody tr th {\n",
       "        vertical-align: top;\n",
       "    }\n",
       "\n",
       "    .dataframe thead th {\n",
       "        text-align: right;\n",
       "    }\n",
       "</style>\n",
       "<table border=\"1\" class=\"dataframe\">\n",
       "  <thead>\n",
       "    <tr style=\"text-align: right;\">\n",
       "      <th>event_type</th>\n",
       "      <th>session_id</th>\n",
       "      <th>cancel</th>\n",
       "      <th>cart</th>\n",
       "      <th>department</th>\n",
       "      <th>home</th>\n",
       "      <th>product</th>\n",
       "      <th>purchase</th>\n",
       "    </tr>\n",
       "  </thead>\n",
       "  <tbody>\n",
       "    <tr>\n",
       "      <th>0</th>\n",
       "      <td>00000763-a855-4ad0-a95c-b160e749b272</td>\n",
       "      <td>0</td>\n",
       "      <td>1</td>\n",
       "      <td>1</td>\n",
       "      <td>0</td>\n",
       "      <td>1</td>\n",
       "      <td>0</td>\n",
       "    </tr>\n",
       "    <tr>\n",
       "      <th>1</th>\n",
       "      <td>00004b15-f2d4-4687-b4c1-fc9ce336d39a</td>\n",
       "      <td>0</td>\n",
       "      <td>1</td>\n",
       "      <td>1</td>\n",
       "      <td>0</td>\n",
       "      <td>1</td>\n",
       "      <td>0</td>\n",
       "    </tr>\n",
       "    <tr>\n",
       "      <th>2</th>\n",
       "      <td>00004cf0-0d54-4347-8b0c-dccc700a2c96</td>\n",
       "      <td>0</td>\n",
       "      <td>1</td>\n",
       "      <td>1</td>\n",
       "      <td>0</td>\n",
       "      <td>1</td>\n",
       "      <td>0</td>\n",
       "    </tr>\n",
       "    <tr>\n",
       "      <th>3</th>\n",
       "      <td>00005f74-03cb-40ed-b254-364c38c79104</td>\n",
       "      <td>0</td>\n",
       "      <td>0</td>\n",
       "      <td>1</td>\n",
       "      <td>0</td>\n",
       "      <td>1</td>\n",
       "      <td>0</td>\n",
       "    </tr>\n",
       "    <tr>\n",
       "      <th>4</th>\n",
       "      <td>00009506-319b-4bd7-be78-b0d820c976eb</td>\n",
       "      <td>0</td>\n",
       "      <td>0</td>\n",
       "      <td>1</td>\n",
       "      <td>0</td>\n",
       "      <td>1</td>\n",
       "      <td>0</td>\n",
       "    </tr>\n",
       "    <tr>\n",
       "      <th>...</th>\n",
       "      <td>...</td>\n",
       "      <td>...</td>\n",
       "      <td>...</td>\n",
       "      <td>...</td>\n",
       "      <td>...</td>\n",
       "      <td>...</td>\n",
       "      <td>...</td>\n",
       "    </tr>\n",
       "    <tr>\n",
       "      <th>307878</th>\n",
       "      <td>ffff2f98-e543-4b6c-ba9a-4000443e0d55</td>\n",
       "      <td>0</td>\n",
       "      <td>3</td>\n",
       "      <td>3</td>\n",
       "      <td>0</td>\n",
       "      <td>3</td>\n",
       "      <td>1</td>\n",
       "    </tr>\n",
       "    <tr>\n",
       "      <th>307879</th>\n",
       "      <td>ffff532c-4e82-41fd-8c7d-ddefa871b5eb</td>\n",
       "      <td>0</td>\n",
       "      <td>0</td>\n",
       "      <td>1</td>\n",
       "      <td>0</td>\n",
       "      <td>1</td>\n",
       "      <td>0</td>\n",
       "    </tr>\n",
       "    <tr>\n",
       "      <th>307880</th>\n",
       "      <td>ffffa9aa-4345-4c2a-b389-8fd58844472e</td>\n",
       "      <td>0</td>\n",
       "      <td>0</td>\n",
       "      <td>1</td>\n",
       "      <td>0</td>\n",
       "      <td>1</td>\n",
       "      <td>0</td>\n",
       "    </tr>\n",
       "    <tr>\n",
       "      <th>307881</th>\n",
       "      <td>ffffc3b7-9bc3-44d0-935e-cfaf11c91a0e</td>\n",
       "      <td>0</td>\n",
       "      <td>1</td>\n",
       "      <td>1</td>\n",
       "      <td>0</td>\n",
       "      <td>1</td>\n",
       "      <td>0</td>\n",
       "    </tr>\n",
       "    <tr>\n",
       "      <th>307882</th>\n",
       "      <td>ffffc96a-b665-41a1-8a9a-1101c46e6620</td>\n",
       "      <td>0</td>\n",
       "      <td>4</td>\n",
       "      <td>4</td>\n",
       "      <td>0</td>\n",
       "      <td>4</td>\n",
       "      <td>1</td>\n",
       "    </tr>\n",
       "  </tbody>\n",
       "</table>\n",
       "<p>307883 rows × 7 columns</p>\n",
       "</div>"
      ],
      "text/plain": [
       "event_type                            session_id  cancel  cart  department  \\\n",
       "0           00000763-a855-4ad0-a95c-b160e749b272       0     1           1   \n",
       "1           00004b15-f2d4-4687-b4c1-fc9ce336d39a       0     1           1   \n",
       "2           00004cf0-0d54-4347-8b0c-dccc700a2c96       0     1           1   \n",
       "3           00005f74-03cb-40ed-b254-364c38c79104       0     0           1   \n",
       "4           00009506-319b-4bd7-be78-b0d820c976eb       0     0           1   \n",
       "...                                          ...     ...   ...         ...   \n",
       "307878      ffff2f98-e543-4b6c-ba9a-4000443e0d55       0     3           3   \n",
       "307879      ffff532c-4e82-41fd-8c7d-ddefa871b5eb       0     0           1   \n",
       "307880      ffffa9aa-4345-4c2a-b389-8fd58844472e       0     0           1   \n",
       "307881      ffffc3b7-9bc3-44d0-935e-cfaf11c91a0e       0     1           1   \n",
       "307882      ffffc96a-b665-41a1-8a9a-1101c46e6620       0     4           4   \n",
       "\n",
       "event_type  home  product  purchase  \n",
       "0              0        1         0  \n",
       "1              0        1         0  \n",
       "2              0        1         0  \n",
       "3              0        1         0  \n",
       "4              0        1         0  \n",
       "...          ...      ...       ...  \n",
       "307878         0        3         1  \n",
       "307879         0        1         0  \n",
       "307880         0        1         0  \n",
       "307881         0        1         0  \n",
       "307882         0        4         1  \n",
       "\n",
       "[307883 rows x 7 columns]"
      ]
     },
     "execution_count": 168,
     "metadata": {},
     "output_type": "execute_result"
    }
   ],
   "source": [
    "session_pivot_non_organic_department = pd.pivot_table(data=non_organic_department, index='session_id', columns='event_type', values='event_created_at', aggfunc='count').reset_index().fillna(0)\n",
    "session_pivot_non_organic_department"
   ]
  },
  {
   "cell_type": "code",
   "execution_count": null,
   "metadata": {},
   "outputs": [],
   "source": []
  }
 ],
 "metadata": {
  "kernelspec": {
   "display_name": ".venv",
   "language": "python",
   "name": "python3"
  },
  "language_info": {
   "codemirror_mode": {
    "name": "ipython",
    "version": 3
   },
   "file_extension": ".py",
   "mimetype": "text/x-python",
   "name": "python",
   "nbconvert_exporter": "python",
   "pygments_lexer": "ipython3",
   "version": "3.9.13"
  },
  "orig_nbformat": 4
 },
 "nbformat": 4,
 "nbformat_minor": 2
}
