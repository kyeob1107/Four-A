{
 "cells": [
  {
   "cell_type": "code",
   "execution_count": 1,
   "metadata": {},
   "outputs": [],
   "source": [
    "def type_size(x):\n",
    "    if x < 2**8 :\n",
    "        print(\"---8\")\n",
    "    elif x < 2**16:\n",
    "        print(\"---16\")\n",
    "    elif x < 2**32:\n",
    "        print(\"---32\")\n",
    "    elif x < 2**64:\n",
    "        print(\"---64\")\n",
    "    else:\n",
    "        print(\"그외\")"
   ]
  },
  {
   "cell_type": "code",
   "execution_count": 2,
   "metadata": {},
   "outputs": [
    {
     "name": "stdout",
     "output_type": "stream",
     "text": [
      "---16\n"
     ]
    }
   ],
   "source": [
    "type_size(50000)"
   ]
  },
  {
   "cell_type": "code",
   "execution_count": null,
   "metadata": {},
   "outputs": [],
   "source": [
    "# 실수 부분 날라가서 값 몇으로 했는지 기억안남 게다가 실수는 바꿔도 값 다시 float64로 돌아오는 듯 했음"
   ]
  }
 ],
 "metadata": {
  "kernelspec": {
   "display_name": "Python 3",
   "language": "python",
   "name": "python3"
  },
  "language_info": {
   "codemirror_mode": {
    "name": "ipython",
    "version": 3
   },
   "file_extension": ".py",
   "mimetype": "text/x-python",
   "name": "python",
   "nbconvert_exporter": "python",
   "pygments_lexer": "ipython3",
   "version": "3.8.6"
  }
 },
 "nbformat": 4,
 "nbformat_minor": 2
}
