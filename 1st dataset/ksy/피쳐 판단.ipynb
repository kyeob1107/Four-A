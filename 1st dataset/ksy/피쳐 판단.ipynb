{
 "cells": [
  {
   "cell_type": "markdown",
   "metadata": {},
   "source": [
    "# 데이터 불러오기 및 간단한 전처리"
   ]
  },
  {
   "cell_type": "code",
   "execution_count": 1,
   "metadata": {},
   "outputs": [],
   "source": [
    "import pandas as pd\n",
    "\n",
    "distribution_centers = pd.read_parquet('../dataset/Looker Ecommerce BigQuery Dataset/Optimization/distribution_centers_optimized.parquet')\n",
    "# events_file = pd.read_parquet('../dataset/Looker Ecommerce BigQuery Dataset/Optimization/events_optimized.parquet')\n",
    "inventory_items = pd.read_parquet('../dataset/Looker Ecommerce BigQuery Dataset/Optimization/inventory_items_optimized.parquet')\n",
    "orders = pd.read_parquet('../dataset/Looker Ecommerce BigQuery Dataset/Optimization/orders_optimized.parquet')\n",
    "order_items = pd.read_parquet('../dataset/Looker Ecommerce BigQuery Dataset/Optimization/order_items_optimized.parquet')\n",
    "products = pd.read_parquet('../dataset/Looker Ecommerce BigQuery Dataset/Optimization/products_optimized.parquet')\n",
    "users = pd.read_parquet('../dataset/Looker Ecommerce BigQuery Dataset/Optimization/users_optimized.parquet')\n",
    "def events_read():    \n",
    "    events1 = pd.read_parquet(\"../dataset/Looker Ecommerce BigQuery Dataset/Optimization/events_optimized_divided1.parquet\")\n",
    "    events2 = pd.read_parquet(\"../dataset/Looker Ecommerce BigQuery Dataset/Optimization/events_optimized_divided2.parquet\")\n",
    "    events = pd.concat([events1, events2]).sort_index()\n",
    "    return events\n",
    "events = events_read()"
   ]
  },
  {
   "cell_type": "code",
   "execution_count": 4,
   "metadata": {},
   "outputs": [],
   "source": [
    "# 예측확인용으로 날짜 필터링해서 일부 남겨두기 용\n",
    "use_standard_date = pd.to_datetime('2023-12-01 00:00:00.000000')\n",
    "use_standard_date = use_standard_date.tz_localize('UTC')\n",
    "order_items_extracted = order_items[order_items['created_at'] < use_standard_date]\n",
    "\n",
    "# 구매건만 남기기\n",
    "order_items_extracted = order_items_extracted[(order_items_extracted['status']!=\"Returned\") & (order_items_extracted['status'] != \"Cancelled\")]"
   ]
  },
  {
   "cell_type": "code",
   "execution_count": 6,
   "metadata": {},
   "outputs": [],
   "source": [
    "full_df= order_items_extracted.merge(products.drop(['cost', 'retail_price', 'sku', 'distribution_center_id'], axis=1), on='product_id')"
   ]
  },
  {
   "cell_type": "code",
   "execution_count": 7,
   "metadata": {},
   "outputs": [],
   "source": [
    "full_df = full_df.merge(users[['user_id', 'age', 'gender', 'user_traffic_source', 'user_created_at']], on='user_id')"
   ]
  },
  {
   "cell_type": "code",
   "execution_count": 8,
   "metadata": {},
   "outputs": [],
   "source": [
    "# 나이를 10살 단위로 구간화\n",
    "bins = [10, 20, 30, 40, 50, 60, 70, 80]\n",
    "labels = ['10대', '20대', '30대', '40대', '50대', '60대', '70대']\n",
    "full_df = full_df.assign(age_range=pd.cut(full_df['age'], bins=bins, labels=labels, right=False))\n"
   ]
  },
  {
   "cell_type": "code",
   "execution_count": 32,
   "metadata": {},
   "outputs": [
    {
     "data": {
      "text/plain": [
       "category\n",
       "Intimates                        8623\n",
       "Jeans                            8206\n",
       "Tops & Tees                      7699\n",
       "Fashion Hoodies & Sweatshirts    7626\n",
       "Swim                             7381\n",
       "Name: order_item_id, dtype: int64"
      ]
     },
     "execution_count": 32,
     "metadata": {},
     "output_type": "execute_result"
    }
   ],
   "source": [
    "full_df.groupby('category')['order_item_id'].count().nlargest(5)"
   ]
  },
  {
   "cell_type": "code",
   "execution_count": 10,
   "metadata": {},
   "outputs": [
    {
     "data": {
      "text/plain": [
       "category\n",
       "Intimates                        8623\n",
       "Jeans                            8206\n",
       "Tops & Tees                      7699\n",
       "Fashion Hoodies & Sweatshirts    7626\n",
       "Swim                             7381\n",
       "Sweaters                         7189\n",
       "Sleep & Lounge                   7186\n",
       "Shorts                           7109\n",
       "Accessories                      6320\n",
       "Active                           5829\n",
       "Outerwear & Coats                5748\n",
       "Underwear                        4834\n",
       "Pants                            4712\n",
       "Socks                            4096\n",
       "Dresses                          3530\n",
       "Maternity                        3326\n",
       "Suits & Sport Coats              3309\n",
       "Plus                             2800\n",
       "Socks & Hosiery                  2442\n",
       "Pants & Capris                   2171\n",
       "Leggings                         2072\n",
       "Blazers & Jackets                2071\n",
       "Skirts                           1382\n",
       "Suits                             648\n",
       "Jumpsuits & Rompers               592\n",
       "Clothing Sets                     138\n",
       "Name: order_item_id, dtype: int64"
      ]
     },
     "execution_count": 10,
     "metadata": {},
     "output_type": "execute_result"
    }
   ],
   "source": [
    "full_df.groupby('category')['order_item_id'].count().sort_values(ascending=False)"
   ]
  },
  {
   "cell_type": "markdown",
   "metadata": {},
   "source": [
    "# 그래프"
   ]
  },
  {
   "cell_type": "code",
   "execution_count": 17,
   "metadata": {},
   "outputs": [
    {
     "data": {
      "application/vnd.plotly.v1+json": {
       "config": {
        "plotlyServerURL": "https://plot.ly"
       },
       "data": [
        {
         "alignmentgroup": "True",
         "hovertemplate": "variable=order_item_id<br>category=%{x}<br>value=%{y}<extra></extra>",
         "legendgroup": "order_item_id",
         "marker": {
          "color": "#636efa",
          "pattern": {
           "shape": ""
          }
         },
         "name": "order_item_id",
         "offsetgroup": "order_item_id",
         "orientation": "v",
         "showlegend": true,
         "textposition": "auto",
         "type": "bar",
         "x": [
          "Intimates",
          "Jeans",
          "Tops & Tees",
          "Fashion Hoodies & Sweatshirts",
          "Swim",
          "Sweaters",
          "Sleep & Lounge",
          "Shorts",
          "Accessories",
          "Active",
          "Outerwear & Coats",
          "Underwear",
          "Pants",
          "Socks",
          "Dresses",
          "Maternity",
          "Suits & Sport Coats",
          "Plus",
          "Socks & Hosiery",
          "Pants & Capris",
          "Leggings",
          "Blazers & Jackets",
          "Skirts",
          "Suits",
          "Jumpsuits & Rompers",
          "Clothing Sets"
         ],
         "xaxis": "x",
         "y": [
          8623,
          8206,
          7699,
          7626,
          7381,
          7189,
          7186,
          7109,
          6320,
          5829,
          5748,
          4834,
          4712,
          4096,
          3530,
          3326,
          3309,
          2800,
          2442,
          2171,
          2072,
          2071,
          1382,
          648,
          592,
          138
         ],
         "yaxis": "y"
        }
       ],
       "layout": {
        "barmode": "relative",
        "legend": {
         "title": {
          "text": "variable"
         },
         "tracegroupgap": 0
        },
        "margin": {
         "t": 60
        },
        "template": {
         "data": {
          "bar": [
           {
            "error_x": {
             "color": "#2a3f5f"
            },
            "error_y": {
             "color": "#2a3f5f"
            },
            "marker": {
             "line": {
              "color": "#E5ECF6",
              "width": 0.5
             },
             "pattern": {
              "fillmode": "overlay",
              "size": 10,
              "solidity": 0.2
             }
            },
            "type": "bar"
           }
          ],
          "barpolar": [
           {
            "marker": {
             "line": {
              "color": "#E5ECF6",
              "width": 0.5
             },
             "pattern": {
              "fillmode": "overlay",
              "size": 10,
              "solidity": 0.2
             }
            },
            "type": "barpolar"
           }
          ],
          "carpet": [
           {
            "aaxis": {
             "endlinecolor": "#2a3f5f",
             "gridcolor": "white",
             "linecolor": "white",
             "minorgridcolor": "white",
             "startlinecolor": "#2a3f5f"
            },
            "baxis": {
             "endlinecolor": "#2a3f5f",
             "gridcolor": "white",
             "linecolor": "white",
             "minorgridcolor": "white",
             "startlinecolor": "#2a3f5f"
            },
            "type": "carpet"
           }
          ],
          "choropleth": [
           {
            "colorbar": {
             "outlinewidth": 0,
             "ticks": ""
            },
            "type": "choropleth"
           }
          ],
          "contour": [
           {
            "colorbar": {
             "outlinewidth": 0,
             "ticks": ""
            },
            "colorscale": [
             [
              0,
              "#0d0887"
             ],
             [
              0.1111111111111111,
              "#46039f"
             ],
             [
              0.2222222222222222,
              "#7201a8"
             ],
             [
              0.3333333333333333,
              "#9c179e"
             ],
             [
              0.4444444444444444,
              "#bd3786"
             ],
             [
              0.5555555555555556,
              "#d8576b"
             ],
             [
              0.6666666666666666,
              "#ed7953"
             ],
             [
              0.7777777777777778,
              "#fb9f3a"
             ],
             [
              0.8888888888888888,
              "#fdca26"
             ],
             [
              1,
              "#f0f921"
             ]
            ],
            "type": "contour"
           }
          ],
          "contourcarpet": [
           {
            "colorbar": {
             "outlinewidth": 0,
             "ticks": ""
            },
            "type": "contourcarpet"
           }
          ],
          "heatmap": [
           {
            "colorbar": {
             "outlinewidth": 0,
             "ticks": ""
            },
            "colorscale": [
             [
              0,
              "#0d0887"
             ],
             [
              0.1111111111111111,
              "#46039f"
             ],
             [
              0.2222222222222222,
              "#7201a8"
             ],
             [
              0.3333333333333333,
              "#9c179e"
             ],
             [
              0.4444444444444444,
              "#bd3786"
             ],
             [
              0.5555555555555556,
              "#d8576b"
             ],
             [
              0.6666666666666666,
              "#ed7953"
             ],
             [
              0.7777777777777778,
              "#fb9f3a"
             ],
             [
              0.8888888888888888,
              "#fdca26"
             ],
             [
              1,
              "#f0f921"
             ]
            ],
            "type": "heatmap"
           }
          ],
          "heatmapgl": [
           {
            "colorbar": {
             "outlinewidth": 0,
             "ticks": ""
            },
            "colorscale": [
             [
              0,
              "#0d0887"
             ],
             [
              0.1111111111111111,
              "#46039f"
             ],
             [
              0.2222222222222222,
              "#7201a8"
             ],
             [
              0.3333333333333333,
              "#9c179e"
             ],
             [
              0.4444444444444444,
              "#bd3786"
             ],
             [
              0.5555555555555556,
              "#d8576b"
             ],
             [
              0.6666666666666666,
              "#ed7953"
             ],
             [
              0.7777777777777778,
              "#fb9f3a"
             ],
             [
              0.8888888888888888,
              "#fdca26"
             ],
             [
              1,
              "#f0f921"
             ]
            ],
            "type": "heatmapgl"
           }
          ],
          "histogram": [
           {
            "marker": {
             "pattern": {
              "fillmode": "overlay",
              "size": 10,
              "solidity": 0.2
             }
            },
            "type": "histogram"
           }
          ],
          "histogram2d": [
           {
            "colorbar": {
             "outlinewidth": 0,
             "ticks": ""
            },
            "colorscale": [
             [
              0,
              "#0d0887"
             ],
             [
              0.1111111111111111,
              "#46039f"
             ],
             [
              0.2222222222222222,
              "#7201a8"
             ],
             [
              0.3333333333333333,
              "#9c179e"
             ],
             [
              0.4444444444444444,
              "#bd3786"
             ],
             [
              0.5555555555555556,
              "#d8576b"
             ],
             [
              0.6666666666666666,
              "#ed7953"
             ],
             [
              0.7777777777777778,
              "#fb9f3a"
             ],
             [
              0.8888888888888888,
              "#fdca26"
             ],
             [
              1,
              "#f0f921"
             ]
            ],
            "type": "histogram2d"
           }
          ],
          "histogram2dcontour": [
           {
            "colorbar": {
             "outlinewidth": 0,
             "ticks": ""
            },
            "colorscale": [
             [
              0,
              "#0d0887"
             ],
             [
              0.1111111111111111,
              "#46039f"
             ],
             [
              0.2222222222222222,
              "#7201a8"
             ],
             [
              0.3333333333333333,
              "#9c179e"
             ],
             [
              0.4444444444444444,
              "#bd3786"
             ],
             [
              0.5555555555555556,
              "#d8576b"
             ],
             [
              0.6666666666666666,
              "#ed7953"
             ],
             [
              0.7777777777777778,
              "#fb9f3a"
             ],
             [
              0.8888888888888888,
              "#fdca26"
             ],
             [
              1,
              "#f0f921"
             ]
            ],
            "type": "histogram2dcontour"
           }
          ],
          "mesh3d": [
           {
            "colorbar": {
             "outlinewidth": 0,
             "ticks": ""
            },
            "type": "mesh3d"
           }
          ],
          "parcoords": [
           {
            "line": {
             "colorbar": {
              "outlinewidth": 0,
              "ticks": ""
             }
            },
            "type": "parcoords"
           }
          ],
          "pie": [
           {
            "automargin": true,
            "type": "pie"
           }
          ],
          "scatter": [
           {
            "fillpattern": {
             "fillmode": "overlay",
             "size": 10,
             "solidity": 0.2
            },
            "type": "scatter"
           }
          ],
          "scatter3d": [
           {
            "line": {
             "colorbar": {
              "outlinewidth": 0,
              "ticks": ""
             }
            },
            "marker": {
             "colorbar": {
              "outlinewidth": 0,
              "ticks": ""
             }
            },
            "type": "scatter3d"
           }
          ],
          "scattercarpet": [
           {
            "marker": {
             "colorbar": {
              "outlinewidth": 0,
              "ticks": ""
             }
            },
            "type": "scattercarpet"
           }
          ],
          "scattergeo": [
           {
            "marker": {
             "colorbar": {
              "outlinewidth": 0,
              "ticks": ""
             }
            },
            "type": "scattergeo"
           }
          ],
          "scattergl": [
           {
            "marker": {
             "colorbar": {
              "outlinewidth": 0,
              "ticks": ""
             }
            },
            "type": "scattergl"
           }
          ],
          "scattermapbox": [
           {
            "marker": {
             "colorbar": {
              "outlinewidth": 0,
              "ticks": ""
             }
            },
            "type": "scattermapbox"
           }
          ],
          "scatterpolar": [
           {
            "marker": {
             "colorbar": {
              "outlinewidth": 0,
              "ticks": ""
             }
            },
            "type": "scatterpolar"
           }
          ],
          "scatterpolargl": [
           {
            "marker": {
             "colorbar": {
              "outlinewidth": 0,
              "ticks": ""
             }
            },
            "type": "scatterpolargl"
           }
          ],
          "scatterternary": [
           {
            "marker": {
             "colorbar": {
              "outlinewidth": 0,
              "ticks": ""
             }
            },
            "type": "scatterternary"
           }
          ],
          "surface": [
           {
            "colorbar": {
             "outlinewidth": 0,
             "ticks": ""
            },
            "colorscale": [
             [
              0,
              "#0d0887"
             ],
             [
              0.1111111111111111,
              "#46039f"
             ],
             [
              0.2222222222222222,
              "#7201a8"
             ],
             [
              0.3333333333333333,
              "#9c179e"
             ],
             [
              0.4444444444444444,
              "#bd3786"
             ],
             [
              0.5555555555555556,
              "#d8576b"
             ],
             [
              0.6666666666666666,
              "#ed7953"
             ],
             [
              0.7777777777777778,
              "#fb9f3a"
             ],
             [
              0.8888888888888888,
              "#fdca26"
             ],
             [
              1,
              "#f0f921"
             ]
            ],
            "type": "surface"
           }
          ],
          "table": [
           {
            "cells": {
             "fill": {
              "color": "#EBF0F8"
             },
             "line": {
              "color": "white"
             }
            },
            "header": {
             "fill": {
              "color": "#C8D4E3"
             },
             "line": {
              "color": "white"
             }
            },
            "type": "table"
           }
          ]
         },
         "layout": {
          "annotationdefaults": {
           "arrowcolor": "#2a3f5f",
           "arrowhead": 0,
           "arrowwidth": 1
          },
          "autotypenumbers": "strict",
          "coloraxis": {
           "colorbar": {
            "outlinewidth": 0,
            "ticks": ""
           }
          },
          "colorscale": {
           "diverging": [
            [
             0,
             "#8e0152"
            ],
            [
             0.1,
             "#c51b7d"
            ],
            [
             0.2,
             "#de77ae"
            ],
            [
             0.3,
             "#f1b6da"
            ],
            [
             0.4,
             "#fde0ef"
            ],
            [
             0.5,
             "#f7f7f7"
            ],
            [
             0.6,
             "#e6f5d0"
            ],
            [
             0.7,
             "#b8e186"
            ],
            [
             0.8,
             "#7fbc41"
            ],
            [
             0.9,
             "#4d9221"
            ],
            [
             1,
             "#276419"
            ]
           ],
           "sequential": [
            [
             0,
             "#0d0887"
            ],
            [
             0.1111111111111111,
             "#46039f"
            ],
            [
             0.2222222222222222,
             "#7201a8"
            ],
            [
             0.3333333333333333,
             "#9c179e"
            ],
            [
             0.4444444444444444,
             "#bd3786"
            ],
            [
             0.5555555555555556,
             "#d8576b"
            ],
            [
             0.6666666666666666,
             "#ed7953"
            ],
            [
             0.7777777777777778,
             "#fb9f3a"
            ],
            [
             0.8888888888888888,
             "#fdca26"
            ],
            [
             1,
             "#f0f921"
            ]
           ],
           "sequentialminus": [
            [
             0,
             "#0d0887"
            ],
            [
             0.1111111111111111,
             "#46039f"
            ],
            [
             0.2222222222222222,
             "#7201a8"
            ],
            [
             0.3333333333333333,
             "#9c179e"
            ],
            [
             0.4444444444444444,
             "#bd3786"
            ],
            [
             0.5555555555555556,
             "#d8576b"
            ],
            [
             0.6666666666666666,
             "#ed7953"
            ],
            [
             0.7777777777777778,
             "#fb9f3a"
            ],
            [
             0.8888888888888888,
             "#fdca26"
            ],
            [
             1,
             "#f0f921"
            ]
           ]
          },
          "colorway": [
           "#636efa",
           "#EF553B",
           "#00cc96",
           "#ab63fa",
           "#FFA15A",
           "#19d3f3",
           "#FF6692",
           "#B6E880",
           "#FF97FF",
           "#FECB52"
          ],
          "font": {
           "color": "#2a3f5f"
          },
          "geo": {
           "bgcolor": "white",
           "lakecolor": "white",
           "landcolor": "#E5ECF6",
           "showlakes": true,
           "showland": true,
           "subunitcolor": "white"
          },
          "hoverlabel": {
           "align": "left"
          },
          "hovermode": "closest",
          "mapbox": {
           "style": "light"
          },
          "paper_bgcolor": "white",
          "plot_bgcolor": "#E5ECF6",
          "polar": {
           "angularaxis": {
            "gridcolor": "white",
            "linecolor": "white",
            "ticks": ""
           },
           "bgcolor": "#E5ECF6",
           "radialaxis": {
            "gridcolor": "white",
            "linecolor": "white",
            "ticks": ""
           }
          },
          "scene": {
           "xaxis": {
            "backgroundcolor": "#E5ECF6",
            "gridcolor": "white",
            "gridwidth": 2,
            "linecolor": "white",
            "showbackground": true,
            "ticks": "",
            "zerolinecolor": "white"
           },
           "yaxis": {
            "backgroundcolor": "#E5ECF6",
            "gridcolor": "white",
            "gridwidth": 2,
            "linecolor": "white",
            "showbackground": true,
            "ticks": "",
            "zerolinecolor": "white"
           },
           "zaxis": {
            "backgroundcolor": "#E5ECF6",
            "gridcolor": "white",
            "gridwidth": 2,
            "linecolor": "white",
            "showbackground": true,
            "ticks": "",
            "zerolinecolor": "white"
           }
          },
          "shapedefaults": {
           "line": {
            "color": "#2a3f5f"
           }
          },
          "ternary": {
           "aaxis": {
            "gridcolor": "white",
            "linecolor": "white",
            "ticks": ""
           },
           "baxis": {
            "gridcolor": "white",
            "linecolor": "white",
            "ticks": ""
           },
           "bgcolor": "#E5ECF6",
           "caxis": {
            "gridcolor": "white",
            "linecolor": "white",
            "ticks": ""
           }
          },
          "title": {
           "x": 0.05
          },
          "xaxis": {
           "automargin": true,
           "gridcolor": "white",
           "linecolor": "white",
           "ticks": "",
           "title": {
            "standoff": 15
           },
           "zerolinecolor": "white",
           "zerolinewidth": 2
          },
          "yaxis": {
           "automargin": true,
           "gridcolor": "white",
           "linecolor": "white",
           "ticks": "",
           "title": {
            "standoff": 15
           },
           "zerolinecolor": "white",
           "zerolinewidth": 2
          }
         }
        },
        "xaxis": {
         "anchor": "y",
         "domain": [
          0,
          1
         ],
         "title": {
          "text": "category"
         }
        },
        "yaxis": {
         "anchor": "x",
         "domain": [
          0,
          1
         ],
         "title": {
          "text": "value"
         }
        }
       }
      }
     },
     "metadata": {},
     "output_type": "display_data"
    }
   ],
   "source": [
    "import plotly.express as px\n",
    "fig = px.bar(full_df.groupby('category')['order_item_id'].count().sort_values(ascending=False))\n",
    "fig.show()"
   ]
  },
  {
   "cell_type": "code",
   "execution_count": 30,
   "metadata": {},
   "outputs": [
    {
     "data": {
      "text/html": [
       "<div>\n",
       "<style scoped>\n",
       "    .dataframe tbody tr th:only-of-type {\n",
       "        vertical-align: middle;\n",
       "    }\n",
       "\n",
       "    .dataframe tbody tr th {\n",
       "        vertical-align: top;\n",
       "    }\n",
       "\n",
       "    .dataframe thead th {\n",
       "        text-align: right;\n",
       "    }\n",
       "</style>\n",
       "<table border=\"1\" class=\"dataframe\">\n",
       "  <thead>\n",
       "    <tr style=\"text-align: right;\">\n",
       "      <th></th>\n",
       "      <th></th>\n",
       "      <th>order_item_id</th>\n",
       "    </tr>\n",
       "    <tr>\n",
       "      <th>gender</th>\n",
       "      <th>category</th>\n",
       "      <th></th>\n",
       "    </tr>\n",
       "  </thead>\n",
       "  <tbody>\n",
       "    <tr>\n",
       "      <th rowspan=\"26\" valign=\"top\">M</th>\n",
       "      <th>Jeans</th>\n",
       "      <td>4981</td>\n",
       "    </tr>\n",
       "    <tr>\n",
       "      <th>Tops &amp; Tees</th>\n",
       "      <td>4859</td>\n",
       "    </tr>\n",
       "    <tr>\n",
       "      <th>Underwear</th>\n",
       "      <td>4834</td>\n",
       "    </tr>\n",
       "    <tr>\n",
       "      <th>Pants</th>\n",
       "      <td>4712</td>\n",
       "    </tr>\n",
       "    <tr>\n",
       "      <th>Sweaters</th>\n",
       "      <td>4417</td>\n",
       "    </tr>\n",
       "    <tr>\n",
       "      <th>Fashion Hoodies &amp; Sweatshirts</th>\n",
       "      <td>4397</td>\n",
       "    </tr>\n",
       "    <tr>\n",
       "      <th>Swim</th>\n",
       "      <td>4137</td>\n",
       "    </tr>\n",
       "    <tr>\n",
       "      <th>Shorts</th>\n",
       "      <td>4132</td>\n",
       "    </tr>\n",
       "    <tr>\n",
       "      <th>Sleep &amp; Lounge</th>\n",
       "      <td>4110</td>\n",
       "    </tr>\n",
       "    <tr>\n",
       "      <th>Socks</th>\n",
       "      <td>4096</td>\n",
       "    </tr>\n",
       "    <tr>\n",
       "      <th>Accessories</th>\n",
       "      <td>3572</td>\n",
       "    </tr>\n",
       "    <tr>\n",
       "      <th>Outerwear &amp; Coats</th>\n",
       "      <td>3525</td>\n",
       "    </tr>\n",
       "    <tr>\n",
       "      <th>Suits &amp; Sport Coats</th>\n",
       "      <td>3309</td>\n",
       "    </tr>\n",
       "    <tr>\n",
       "      <th>Active</th>\n",
       "      <td>3307</td>\n",
       "    </tr>\n",
       "    <tr>\n",
       "      <th>Blazers &amp; Jackets</th>\n",
       "      <td>0</td>\n",
       "    </tr>\n",
       "    <tr>\n",
       "      <th>Clothing Sets</th>\n",
       "      <td>0</td>\n",
       "    </tr>\n",
       "    <tr>\n",
       "      <th>Dresses</th>\n",
       "      <td>0</td>\n",
       "    </tr>\n",
       "    <tr>\n",
       "      <th>Intimates</th>\n",
       "      <td>0</td>\n",
       "    </tr>\n",
       "    <tr>\n",
       "      <th>Jumpsuits &amp; Rompers</th>\n",
       "      <td>0</td>\n",
       "    </tr>\n",
       "    <tr>\n",
       "      <th>Leggings</th>\n",
       "      <td>0</td>\n",
       "    </tr>\n",
       "    <tr>\n",
       "      <th>Maternity</th>\n",
       "      <td>0</td>\n",
       "    </tr>\n",
       "    <tr>\n",
       "      <th>Pants &amp; Capris</th>\n",
       "      <td>0</td>\n",
       "    </tr>\n",
       "    <tr>\n",
       "      <th>Plus</th>\n",
       "      <td>0</td>\n",
       "    </tr>\n",
       "    <tr>\n",
       "      <th>Skirts</th>\n",
       "      <td>0</td>\n",
       "    </tr>\n",
       "    <tr>\n",
       "      <th>Socks &amp; Hosiery</th>\n",
       "      <td>0</td>\n",
       "    </tr>\n",
       "    <tr>\n",
       "      <th>Suits</th>\n",
       "      <td>0</td>\n",
       "    </tr>\n",
       "    <tr>\n",
       "      <th rowspan=\"26\" valign=\"top\">F</th>\n",
       "      <th>Intimates</th>\n",
       "      <td>8623</td>\n",
       "    </tr>\n",
       "    <tr>\n",
       "      <th>Dresses</th>\n",
       "      <td>3530</td>\n",
       "    </tr>\n",
       "    <tr>\n",
       "      <th>Maternity</th>\n",
       "      <td>3326</td>\n",
       "    </tr>\n",
       "    <tr>\n",
       "      <th>Swim</th>\n",
       "      <td>3244</td>\n",
       "    </tr>\n",
       "    <tr>\n",
       "      <th>Fashion Hoodies &amp; Sweatshirts</th>\n",
       "      <td>3229</td>\n",
       "    </tr>\n",
       "    <tr>\n",
       "      <th>Jeans</th>\n",
       "      <td>3225</td>\n",
       "    </tr>\n",
       "    <tr>\n",
       "      <th>Sleep &amp; Lounge</th>\n",
       "      <td>3076</td>\n",
       "    </tr>\n",
       "    <tr>\n",
       "      <th>Shorts</th>\n",
       "      <td>2977</td>\n",
       "    </tr>\n",
       "    <tr>\n",
       "      <th>Tops &amp; Tees</th>\n",
       "      <td>2840</td>\n",
       "    </tr>\n",
       "    <tr>\n",
       "      <th>Plus</th>\n",
       "      <td>2800</td>\n",
       "    </tr>\n",
       "    <tr>\n",
       "      <th>Sweaters</th>\n",
       "      <td>2772</td>\n",
       "    </tr>\n",
       "    <tr>\n",
       "      <th>Accessories</th>\n",
       "      <td>2748</td>\n",
       "    </tr>\n",
       "    <tr>\n",
       "      <th>Active</th>\n",
       "      <td>2522</td>\n",
       "    </tr>\n",
       "    <tr>\n",
       "      <th>Socks &amp; Hosiery</th>\n",
       "      <td>2442</td>\n",
       "    </tr>\n",
       "    <tr>\n",
       "      <th>Outerwear &amp; Coats</th>\n",
       "      <td>2223</td>\n",
       "    </tr>\n",
       "    <tr>\n",
       "      <th>Pants &amp; Capris</th>\n",
       "      <td>2171</td>\n",
       "    </tr>\n",
       "    <tr>\n",
       "      <th>Leggings</th>\n",
       "      <td>2072</td>\n",
       "    </tr>\n",
       "    <tr>\n",
       "      <th>Blazers &amp; Jackets</th>\n",
       "      <td>2071</td>\n",
       "    </tr>\n",
       "    <tr>\n",
       "      <th>Skirts</th>\n",
       "      <td>1382</td>\n",
       "    </tr>\n",
       "    <tr>\n",
       "      <th>Suits</th>\n",
       "      <td>648</td>\n",
       "    </tr>\n",
       "    <tr>\n",
       "      <th>Jumpsuits &amp; Rompers</th>\n",
       "      <td>592</td>\n",
       "    </tr>\n",
       "    <tr>\n",
       "      <th>Clothing Sets</th>\n",
       "      <td>138</td>\n",
       "    </tr>\n",
       "    <tr>\n",
       "      <th>Pants</th>\n",
       "      <td>0</td>\n",
       "    </tr>\n",
       "    <tr>\n",
       "      <th>Socks</th>\n",
       "      <td>0</td>\n",
       "    </tr>\n",
       "    <tr>\n",
       "      <th>Suits &amp; Sport Coats</th>\n",
       "      <td>0</td>\n",
       "    </tr>\n",
       "    <tr>\n",
       "      <th>Underwear</th>\n",
       "      <td>0</td>\n",
       "    </tr>\n",
       "  </tbody>\n",
       "</table>\n",
       "</div>"
      ],
      "text/plain": [
       "                                      order_item_id\n",
       "gender category                                    \n",
       "M      Jeans                                   4981\n",
       "       Tops & Tees                             4859\n",
       "       Underwear                               4834\n",
       "       Pants                                   4712\n",
       "       Sweaters                                4417\n",
       "       Fashion Hoodies & Sweatshirts           4397\n",
       "       Swim                                    4137\n",
       "       Shorts                                  4132\n",
       "       Sleep & Lounge                          4110\n",
       "       Socks                                   4096\n",
       "       Accessories                             3572\n",
       "       Outerwear & Coats                       3525\n",
       "       Suits & Sport Coats                     3309\n",
       "       Active                                  3307\n",
       "       Blazers & Jackets                          0\n",
       "       Clothing Sets                              0\n",
       "       Dresses                                    0\n",
       "       Intimates                                  0\n",
       "       Jumpsuits & Rompers                        0\n",
       "       Leggings                                   0\n",
       "       Maternity                                  0\n",
       "       Pants & Capris                             0\n",
       "       Plus                                       0\n",
       "       Skirts                                     0\n",
       "       Socks & Hosiery                            0\n",
       "       Suits                                      0\n",
       "F      Intimates                               8623\n",
       "       Dresses                                 3530\n",
       "       Maternity                               3326\n",
       "       Swim                                    3244\n",
       "       Fashion Hoodies & Sweatshirts           3229\n",
       "       Jeans                                   3225\n",
       "       Sleep & Lounge                          3076\n",
       "       Shorts                                  2977\n",
       "       Tops & Tees                             2840\n",
       "       Plus                                    2800\n",
       "       Sweaters                                2772\n",
       "       Accessories                             2748\n",
       "       Active                                  2522\n",
       "       Socks & Hosiery                         2442\n",
       "       Outerwear & Coats                       2223\n",
       "       Pants & Capris                          2171\n",
       "       Leggings                                2072\n",
       "       Blazers & Jackets                       2071\n",
       "       Skirts                                  1382\n",
       "       Suits                                    648\n",
       "       Jumpsuits & Rompers                      592\n",
       "       Clothing Sets                            138\n",
       "       Pants                                      0\n",
       "       Socks                                      0\n",
       "       Suits & Sport Coats                        0\n",
       "       Underwear                                  0"
      ]
     },
     "execution_count": 30,
     "metadata": {},
     "output_type": "execute_result"
    }
   ],
   "source": [
    "pd.DataFrame(full_df.groupby(['gender', 'category'])['order_item_id'].count()).sort_values(['gender', 'order_item_id'], ascending=False)"
   ]
  },
  {
   "cell_type": "code",
   "execution_count": 36,
   "metadata": {},
   "outputs": [
    {
     "data": {
      "text/html": [
       "<div>\n",
       "<style scoped>\n",
       "    .dataframe tbody tr th:only-of-type {\n",
       "        vertical-align: middle;\n",
       "    }\n",
       "\n",
       "    .dataframe tbody tr th {\n",
       "        vertical-align: top;\n",
       "    }\n",
       "\n",
       "    .dataframe thead th {\n",
       "        text-align: right;\n",
       "    }\n",
       "</style>\n",
       "<table border=\"1\" class=\"dataframe\">\n",
       "  <thead>\n",
       "    <tr style=\"text-align: right;\">\n",
       "      <th></th>\n",
       "      <th>gender</th>\n",
       "      <th>category</th>\n",
       "      <th>order_item_id</th>\n",
       "    </tr>\n",
       "  </thead>\n",
       "  <tbody>\n",
       "    <tr>\n",
       "      <th>33</th>\n",
       "      <td>M</td>\n",
       "      <td>Jeans</td>\n",
       "      <td>4981</td>\n",
       "    </tr>\n",
       "    <tr>\n",
       "      <th>50</th>\n",
       "      <td>M</td>\n",
       "      <td>Tops &amp; Tees</td>\n",
       "      <td>4859</td>\n",
       "    </tr>\n",
       "    <tr>\n",
       "      <th>51</th>\n",
       "      <td>M</td>\n",
       "      <td>Underwear</td>\n",
       "      <td>4834</td>\n",
       "    </tr>\n",
       "    <tr>\n",
       "      <th>38</th>\n",
       "      <td>M</td>\n",
       "      <td>Pants</td>\n",
       "      <td>4712</td>\n",
       "    </tr>\n",
       "    <tr>\n",
       "      <th>48</th>\n",
       "      <td>M</td>\n",
       "      <td>Sweaters</td>\n",
       "      <td>4417</td>\n",
       "    </tr>\n",
       "    <tr>\n",
       "      <th>31</th>\n",
       "      <td>M</td>\n",
       "      <td>Fashion Hoodies &amp; Sweatshirts</td>\n",
       "      <td>4397</td>\n",
       "    </tr>\n",
       "    <tr>\n",
       "      <th>49</th>\n",
       "      <td>M</td>\n",
       "      <td>Swim</td>\n",
       "      <td>4137</td>\n",
       "    </tr>\n",
       "    <tr>\n",
       "      <th>41</th>\n",
       "      <td>M</td>\n",
       "      <td>Shorts</td>\n",
       "      <td>4132</td>\n",
       "    </tr>\n",
       "    <tr>\n",
       "      <th>43</th>\n",
       "      <td>M</td>\n",
       "      <td>Sleep &amp; Lounge</td>\n",
       "      <td>4110</td>\n",
       "    </tr>\n",
       "    <tr>\n",
       "      <th>44</th>\n",
       "      <td>M</td>\n",
       "      <td>Socks</td>\n",
       "      <td>4096</td>\n",
       "    </tr>\n",
       "    <tr>\n",
       "      <th>26</th>\n",
       "      <td>M</td>\n",
       "      <td>Accessories</td>\n",
       "      <td>3572</td>\n",
       "    </tr>\n",
       "    <tr>\n",
       "      <th>37</th>\n",
       "      <td>M</td>\n",
       "      <td>Outerwear &amp; Coats</td>\n",
       "      <td>3525</td>\n",
       "    </tr>\n",
       "    <tr>\n",
       "      <th>47</th>\n",
       "      <td>M</td>\n",
       "      <td>Suits &amp; Sport Coats</td>\n",
       "      <td>3309</td>\n",
       "    </tr>\n",
       "    <tr>\n",
       "      <th>27</th>\n",
       "      <td>M</td>\n",
       "      <td>Active</td>\n",
       "      <td>3307</td>\n",
       "    </tr>\n",
       "    <tr>\n",
       "      <th>28</th>\n",
       "      <td>M</td>\n",
       "      <td>Blazers &amp; Jackets</td>\n",
       "      <td>0</td>\n",
       "    </tr>\n",
       "    <tr>\n",
       "      <th>29</th>\n",
       "      <td>M</td>\n",
       "      <td>Clothing Sets</td>\n",
       "      <td>0</td>\n",
       "    </tr>\n",
       "    <tr>\n",
       "      <th>30</th>\n",
       "      <td>M</td>\n",
       "      <td>Dresses</td>\n",
       "      <td>0</td>\n",
       "    </tr>\n",
       "    <tr>\n",
       "      <th>32</th>\n",
       "      <td>M</td>\n",
       "      <td>Intimates</td>\n",
       "      <td>0</td>\n",
       "    </tr>\n",
       "    <tr>\n",
       "      <th>34</th>\n",
       "      <td>M</td>\n",
       "      <td>Jumpsuits &amp; Rompers</td>\n",
       "      <td>0</td>\n",
       "    </tr>\n",
       "    <tr>\n",
       "      <th>35</th>\n",
       "      <td>M</td>\n",
       "      <td>Leggings</td>\n",
       "      <td>0</td>\n",
       "    </tr>\n",
       "    <tr>\n",
       "      <th>36</th>\n",
       "      <td>M</td>\n",
       "      <td>Maternity</td>\n",
       "      <td>0</td>\n",
       "    </tr>\n",
       "    <tr>\n",
       "      <th>39</th>\n",
       "      <td>M</td>\n",
       "      <td>Pants &amp; Capris</td>\n",
       "      <td>0</td>\n",
       "    </tr>\n",
       "    <tr>\n",
       "      <th>40</th>\n",
       "      <td>M</td>\n",
       "      <td>Plus</td>\n",
       "      <td>0</td>\n",
       "    </tr>\n",
       "    <tr>\n",
       "      <th>42</th>\n",
       "      <td>M</td>\n",
       "      <td>Skirts</td>\n",
       "      <td>0</td>\n",
       "    </tr>\n",
       "    <tr>\n",
       "      <th>45</th>\n",
       "      <td>M</td>\n",
       "      <td>Socks &amp; Hosiery</td>\n",
       "      <td>0</td>\n",
       "    </tr>\n",
       "    <tr>\n",
       "      <th>46</th>\n",
       "      <td>M</td>\n",
       "      <td>Suits</td>\n",
       "      <td>0</td>\n",
       "    </tr>\n",
       "    <tr>\n",
       "      <th>6</th>\n",
       "      <td>F</td>\n",
       "      <td>Intimates</td>\n",
       "      <td>8623</td>\n",
       "    </tr>\n",
       "    <tr>\n",
       "      <th>4</th>\n",
       "      <td>F</td>\n",
       "      <td>Dresses</td>\n",
       "      <td>3530</td>\n",
       "    </tr>\n",
       "    <tr>\n",
       "      <th>10</th>\n",
       "      <td>F</td>\n",
       "      <td>Maternity</td>\n",
       "      <td>3326</td>\n",
       "    </tr>\n",
       "    <tr>\n",
       "      <th>23</th>\n",
       "      <td>F</td>\n",
       "      <td>Swim</td>\n",
       "      <td>3244</td>\n",
       "    </tr>\n",
       "    <tr>\n",
       "      <th>5</th>\n",
       "      <td>F</td>\n",
       "      <td>Fashion Hoodies &amp; Sweatshirts</td>\n",
       "      <td>3229</td>\n",
       "    </tr>\n",
       "    <tr>\n",
       "      <th>7</th>\n",
       "      <td>F</td>\n",
       "      <td>Jeans</td>\n",
       "      <td>3225</td>\n",
       "    </tr>\n",
       "    <tr>\n",
       "      <th>17</th>\n",
       "      <td>F</td>\n",
       "      <td>Sleep &amp; Lounge</td>\n",
       "      <td>3076</td>\n",
       "    </tr>\n",
       "    <tr>\n",
       "      <th>15</th>\n",
       "      <td>F</td>\n",
       "      <td>Shorts</td>\n",
       "      <td>2977</td>\n",
       "    </tr>\n",
       "    <tr>\n",
       "      <th>24</th>\n",
       "      <td>F</td>\n",
       "      <td>Tops &amp; Tees</td>\n",
       "      <td>2840</td>\n",
       "    </tr>\n",
       "    <tr>\n",
       "      <th>14</th>\n",
       "      <td>F</td>\n",
       "      <td>Plus</td>\n",
       "      <td>2800</td>\n",
       "    </tr>\n",
       "    <tr>\n",
       "      <th>22</th>\n",
       "      <td>F</td>\n",
       "      <td>Sweaters</td>\n",
       "      <td>2772</td>\n",
       "    </tr>\n",
       "    <tr>\n",
       "      <th>0</th>\n",
       "      <td>F</td>\n",
       "      <td>Accessories</td>\n",
       "      <td>2748</td>\n",
       "    </tr>\n",
       "    <tr>\n",
       "      <th>1</th>\n",
       "      <td>F</td>\n",
       "      <td>Active</td>\n",
       "      <td>2522</td>\n",
       "    </tr>\n",
       "    <tr>\n",
       "      <th>19</th>\n",
       "      <td>F</td>\n",
       "      <td>Socks &amp; Hosiery</td>\n",
       "      <td>2442</td>\n",
       "    </tr>\n",
       "    <tr>\n",
       "      <th>11</th>\n",
       "      <td>F</td>\n",
       "      <td>Outerwear &amp; Coats</td>\n",
       "      <td>2223</td>\n",
       "    </tr>\n",
       "    <tr>\n",
       "      <th>13</th>\n",
       "      <td>F</td>\n",
       "      <td>Pants &amp; Capris</td>\n",
       "      <td>2171</td>\n",
       "    </tr>\n",
       "    <tr>\n",
       "      <th>9</th>\n",
       "      <td>F</td>\n",
       "      <td>Leggings</td>\n",
       "      <td>2072</td>\n",
       "    </tr>\n",
       "    <tr>\n",
       "      <th>2</th>\n",
       "      <td>F</td>\n",
       "      <td>Blazers &amp; Jackets</td>\n",
       "      <td>2071</td>\n",
       "    </tr>\n",
       "    <tr>\n",
       "      <th>16</th>\n",
       "      <td>F</td>\n",
       "      <td>Skirts</td>\n",
       "      <td>1382</td>\n",
       "    </tr>\n",
       "    <tr>\n",
       "      <th>20</th>\n",
       "      <td>F</td>\n",
       "      <td>Suits</td>\n",
       "      <td>648</td>\n",
       "    </tr>\n",
       "    <tr>\n",
       "      <th>8</th>\n",
       "      <td>F</td>\n",
       "      <td>Jumpsuits &amp; Rompers</td>\n",
       "      <td>592</td>\n",
       "    </tr>\n",
       "    <tr>\n",
       "      <th>3</th>\n",
       "      <td>F</td>\n",
       "      <td>Clothing Sets</td>\n",
       "      <td>138</td>\n",
       "    </tr>\n",
       "    <tr>\n",
       "      <th>12</th>\n",
       "      <td>F</td>\n",
       "      <td>Pants</td>\n",
       "      <td>0</td>\n",
       "    </tr>\n",
       "    <tr>\n",
       "      <th>18</th>\n",
       "      <td>F</td>\n",
       "      <td>Socks</td>\n",
       "      <td>0</td>\n",
       "    </tr>\n",
       "    <tr>\n",
       "      <th>21</th>\n",
       "      <td>F</td>\n",
       "      <td>Suits &amp; Sport Coats</td>\n",
       "      <td>0</td>\n",
       "    </tr>\n",
       "    <tr>\n",
       "      <th>25</th>\n",
       "      <td>F</td>\n",
       "      <td>Underwear</td>\n",
       "      <td>0</td>\n",
       "    </tr>\n",
       "  </tbody>\n",
       "</table>\n",
       "</div>"
      ],
      "text/plain": [
       "   gender                       category  order_item_id\n",
       "33      M                          Jeans           4981\n",
       "50      M                    Tops & Tees           4859\n",
       "51      M                      Underwear           4834\n",
       "38      M                          Pants           4712\n",
       "48      M                       Sweaters           4417\n",
       "31      M  Fashion Hoodies & Sweatshirts           4397\n",
       "49      M                           Swim           4137\n",
       "41      M                         Shorts           4132\n",
       "43      M                 Sleep & Lounge           4110\n",
       "44      M                          Socks           4096\n",
       "26      M                    Accessories           3572\n",
       "37      M              Outerwear & Coats           3525\n",
       "47      M            Suits & Sport Coats           3309\n",
       "27      M                         Active           3307\n",
       "28      M              Blazers & Jackets              0\n",
       "29      M                  Clothing Sets              0\n",
       "30      M                        Dresses              0\n",
       "32      M                      Intimates              0\n",
       "34      M            Jumpsuits & Rompers              0\n",
       "35      M                       Leggings              0\n",
       "36      M                      Maternity              0\n",
       "39      M                 Pants & Capris              0\n",
       "40      M                           Plus              0\n",
       "42      M                         Skirts              0\n",
       "45      M                Socks & Hosiery              0\n",
       "46      M                          Suits              0\n",
       "6       F                      Intimates           8623\n",
       "4       F                        Dresses           3530\n",
       "10      F                      Maternity           3326\n",
       "23      F                           Swim           3244\n",
       "5       F  Fashion Hoodies & Sweatshirts           3229\n",
       "7       F                          Jeans           3225\n",
       "17      F                 Sleep & Lounge           3076\n",
       "15      F                         Shorts           2977\n",
       "24      F                    Tops & Tees           2840\n",
       "14      F                           Plus           2800\n",
       "22      F                       Sweaters           2772\n",
       "0       F                    Accessories           2748\n",
       "1       F                         Active           2522\n",
       "19      F                Socks & Hosiery           2442\n",
       "11      F              Outerwear & Coats           2223\n",
       "13      F                 Pants & Capris           2171\n",
       "9       F                       Leggings           2072\n",
       "2       F              Blazers & Jackets           2071\n",
       "16      F                         Skirts           1382\n",
       "20      F                          Suits            648\n",
       "8       F            Jumpsuits & Rompers            592\n",
       "3       F                  Clothing Sets            138\n",
       "12      F                          Pants              0\n",
       "18      F                          Socks              0\n",
       "21      F            Suits & Sport Coats              0\n",
       "25      F                      Underwear              0"
      ]
     },
     "execution_count": 36,
     "metadata": {},
     "output_type": "execute_result"
    }
   ],
   "source": [
    "full_df.groupby(['gender', 'category'])['order_item_id'].count().reset_index().sort_values(['gender', 'order_item_id'], ascending=False)"
   ]
  },
  {
   "cell_type": "code",
   "execution_count": null,
   "metadata": {},
   "outputs": [],
   "source": [
    "# import plotly.express as px\n",
    "# fig = px.bar(pd.DataFrame(full_df.groupby(['gender', 'category'])['order_item_id'].count()).sort_values(['gender', 'order_item_id'], ascending=False))\n",
    "# fig.show()"
   ]
  },
  {
   "cell_type": "code",
   "execution_count": 40,
   "metadata": {},
   "outputs": [
    {
     "data": {
      "text/plain": [
       "<Axes: xlabel='gender', ylabel='order_item_id'>"
      ]
     },
     "execution_count": 40,
     "metadata": {},
     "output_type": "execute_result"
    },
    {
     "data": {
      "image/png": "[encoded data removed]",
      "text/plain": [
       "<Figure size 640x480 with 1 Axes>"
      ]
     },
     "metadata": {},
     "output_type": "display_data"
    }
   ],
   "source": [
    "import seaborn as sns\n",
    "sns.barplot(\n",
    "    x='gender', y='order_item_id', hue='category',\n",
    "    data=full_df.groupby(['gender', 'category'])['order_item_id'].count().reset_index().sort_values(['gender', 'order_item_id'], ascending=False))"
   ]
  },
  {
   "cell_type": "code",
   "execution_count": 57,
   "metadata": {},
   "outputs": [
    {
     "name": "stdout",
     "output_type": "stream",
     "text": [
      "[15.  5.]\n"
     ]
    },
    {
     "data": {
      "image/png": "[encoded data removed]",
      "text/plain": [
       "<Figure size 1500x500 with 1 Axes>"
      ]
     },
     "metadata": {},
     "output_type": "display_data"
    }
   ],
   "source": [
    "import seaborn as sns\n",
    "import matplotlib.pyplot as plt\n",
    "\n",
    "plt.figure(figsize=(15, 5))  # 가로 10, 세로 6인치로 그래프 크기 설정\n",
    "# 바 그래프 그리기\n",
    "sns.barplot(\n",
    "    x='category', y='order_item_id', hue='gender', \n",
    "    data=full_df.groupby(['gender', 'category'])['order_item_id'].count().reset_index().sort_values(['gender', 'order_item_id'], ascending=False))\n",
    "plt.xticks(rotation=90)  # x축 레이블 회전\n",
    "print(plt.gcf().get_size_inches())\n",
    "plt.show()"
   ]
  },
  {
   "cell_type": "code",
   "execution_count": 59,
   "metadata": {},
   "outputs": [
    {
     "name": "stdout",
     "output_type": "stream",
     "text": [
      "[15.  5.]\n"
     ]
    },
    {
     "data": {
      "image/png": "[encoded data removed]",
      "text/plain": [
       "<Figure size 1500x500 with 1 Axes>"
      ]
     },
     "metadata": {},
     "output_type": "display_data"
    }
   ],
   "source": [
    "import seaborn as sns\n",
    "import matplotlib.pyplot as plt\n",
    "\n",
    "plt.figure(figsize=(15, 5))  # 가로 10, 세로 6인치로 그래프 크기 설정\n",
    "# 바 그래프 그리기\n",
    "sns.barplot(\n",
    "    x='category', y='order_item_id', hue='', \n",
    "    data=full_df.groupby(['', 'category'])['order_item_id'].count().reset_index().sort_values(['', 'order_item_id'], ascending=False))\n",
    "plt.xticks(rotation=90)  # x축 레이블 회전\n",
    "print(plt.gcf().get_size_inches())\n",
    "plt.show()"
   ]
  },
  {
   "cell_type": "markdown",
   "metadata": {},
   "source": [
    "# 중간 테스트"
   ]
  },
  {
   "cell_type": "code",
   "execution_count": 67,
   "metadata": {},
   "outputs": [
    {
     "data": {
      "text/plain": [
       "gender  category                     \n",
       "F       Accessories                      2748\n",
       "        Active                           2522\n",
       "        Blazers & Jackets                2071\n",
       "        Clothing Sets                     138\n",
       "        Dresses                          3530\n",
       "        Fashion Hoodies & Sweatshirts    3229\n",
       "        Intimates                        8623\n",
       "        Jeans                            3225\n",
       "        Jumpsuits & Rompers               592\n",
       "        Leggings                         2072\n",
       "        Maternity                        3326\n",
       "        Outerwear & Coats                2223\n",
       "        Pants                               0\n",
       "        Pants & Capris                   2171\n",
       "        Plus                             2800\n",
       "        Shorts                           2977\n",
       "        Skirts                           1382\n",
       "        Sleep & Lounge                   3076\n",
       "        Socks                               0\n",
       "        Socks & Hosiery                  2442\n",
       "        Suits                             648\n",
       "        Suits & Sport Coats                 0\n",
       "        Sweaters                         2772\n",
       "        Swim                             3244\n",
       "        Tops & Tees                      2840\n",
       "        Underwear                           0\n",
       "M       Accessories                      3572\n",
       "        Active                           3307\n",
       "        Blazers & Jackets                   0\n",
       "        Clothing Sets                       0\n",
       "        Dresses                             0\n",
       "        Fashion Hoodies & Sweatshirts    4397\n",
       "        Intimates                           0\n",
       "        Jeans                            4981\n",
       "        Jumpsuits & Rompers                 0\n",
       "        Leggings                            0\n",
       "        Maternity                           0\n",
       "        Outerwear & Coats                3525\n",
       "        Pants                            4712\n",
       "        Pants & Capris                      0\n",
       "        Plus                                0\n",
       "        Shorts                           4132\n",
       "        Skirts                              0\n",
       "        Sleep & Lounge                   4110\n",
       "        Socks                            4096\n",
       "        Socks & Hosiery                     0\n",
       "        Suits                               0\n",
       "        Suits & Sport Coats              3309\n",
       "        Sweaters                         4417\n",
       "        Swim                             4137\n",
       "        Tops & Tees                      4859\n",
       "        Underwear                        4834\n",
       "Name: order_item_id, dtype: int64"
      ]
     },
     "execution_count": 67,
     "metadata": {},
     "output_type": "execute_result"
    }
   ],
   "source": [
    "full_df.groupby(['gender', 'category'])['order_item_id'].count()"
   ]
  },
  {
   "cell_type": "code",
   "execution_count": 68,
   "metadata": {},
   "outputs": [
    {
     "data": {
      "text/plain": [
       "gender\n",
       "F    58651\n",
       "M    58388\n",
       "Name: order_item_id, dtype: int64"
      ]
     },
     "execution_count": 68,
     "metadata": {},
     "output_type": "execute_result"
    }
   ],
   "source": [
    "full_df.groupby(['gender'])['order_item_id'].count()"
   ]
  },
  {
   "cell_type": "code",
   "execution_count": 73,
   "metadata": {},
   "outputs": [
    {
     "data": {
      "text/html": [
       "<div>\n",
       "<style scoped>\n",
       "    .dataframe tbody tr th:only-of-type {\n",
       "        vertical-align: middle;\n",
       "    }\n",
       "\n",
       "    .dataframe tbody tr th {\n",
       "        vertical-align: top;\n",
       "    }\n",
       "\n",
       "    .dataframe thead th {\n",
       "        text-align: right;\n",
       "    }\n",
       "</style>\n",
       "<table border=\"1\" class=\"dataframe\">\n",
       "  <thead>\n",
       "    <tr style=\"text-align: right;\">\n",
       "      <th></th>\n",
       "      <th>gender</th>\n",
       "      <th>category</th>\n",
       "      <th>order_item_id</th>\n",
       "    </tr>\n",
       "  </thead>\n",
       "  <tbody>\n",
       "    <tr>\n",
       "      <th>33</th>\n",
       "      <td>M</td>\n",
       "      <td>Jeans</td>\n",
       "      <td>8.530863</td>\n",
       "    </tr>\n",
       "    <tr>\n",
       "      <th>50</th>\n",
       "      <td>M</td>\n",
       "      <td>Tops &amp; Tees</td>\n",
       "      <td>8.321915</td>\n",
       "    </tr>\n",
       "    <tr>\n",
       "      <th>51</th>\n",
       "      <td>M</td>\n",
       "      <td>Underwear</td>\n",
       "      <td>8.279098</td>\n",
       "    </tr>\n",
       "    <tr>\n",
       "      <th>38</th>\n",
       "      <td>M</td>\n",
       "      <td>Pants</td>\n",
       "      <td>8.070151</td>\n",
       "    </tr>\n",
       "    <tr>\n",
       "      <th>48</th>\n",
       "      <td>M</td>\n",
       "      <td>Sweaters</td>\n",
       "      <td>7.564911</td>\n",
       "    </tr>\n",
       "    <tr>\n",
       "      <th>31</th>\n",
       "      <td>M</td>\n",
       "      <td>Fashion Hoodies &amp; Sweatshirts</td>\n",
       "      <td>7.530657</td>\n",
       "    </tr>\n",
       "    <tr>\n",
       "      <th>49</th>\n",
       "      <td>M</td>\n",
       "      <td>Swim</td>\n",
       "      <td>7.085360</td>\n",
       "    </tr>\n",
       "    <tr>\n",
       "      <th>41</th>\n",
       "      <td>M</td>\n",
       "      <td>Shorts</td>\n",
       "      <td>7.076797</td>\n",
       "    </tr>\n",
       "    <tr>\n",
       "      <th>43</th>\n",
       "      <td>M</td>\n",
       "      <td>Sleep &amp; Lounge</td>\n",
       "      <td>7.039118</td>\n",
       "    </tr>\n",
       "    <tr>\n",
       "      <th>44</th>\n",
       "      <td>M</td>\n",
       "      <td>Socks</td>\n",
       "      <td>7.015140</td>\n",
       "    </tr>\n",
       "    <tr>\n",
       "      <th>26</th>\n",
       "      <td>M</td>\n",
       "      <td>Accessories</td>\n",
       "      <td>6.117695</td>\n",
       "    </tr>\n",
       "    <tr>\n",
       "      <th>37</th>\n",
       "      <td>M</td>\n",
       "      <td>Outerwear &amp; Coats</td>\n",
       "      <td>6.037199</td>\n",
       "    </tr>\n",
       "    <tr>\n",
       "      <th>47</th>\n",
       "      <td>M</td>\n",
       "      <td>Suits &amp; Sport Coats</td>\n",
       "      <td>5.667260</td>\n",
       "    </tr>\n",
       "    <tr>\n",
       "      <th>27</th>\n",
       "      <td>M</td>\n",
       "      <td>Active</td>\n",
       "      <td>5.663835</td>\n",
       "    </tr>\n",
       "    <tr>\n",
       "      <th>28</th>\n",
       "      <td>M</td>\n",
       "      <td>Blazers &amp; Jackets</td>\n",
       "      <td>0.000000</td>\n",
       "    </tr>\n",
       "    <tr>\n",
       "      <th>29</th>\n",
       "      <td>M</td>\n",
       "      <td>Clothing Sets</td>\n",
       "      <td>0.000000</td>\n",
       "    </tr>\n",
       "    <tr>\n",
       "      <th>30</th>\n",
       "      <td>M</td>\n",
       "      <td>Dresses</td>\n",
       "      <td>0.000000</td>\n",
       "    </tr>\n",
       "    <tr>\n",
       "      <th>32</th>\n",
       "      <td>M</td>\n",
       "      <td>Intimates</td>\n",
       "      <td>0.000000</td>\n",
       "    </tr>\n",
       "    <tr>\n",
       "      <th>34</th>\n",
       "      <td>M</td>\n",
       "      <td>Jumpsuits &amp; Rompers</td>\n",
       "      <td>0.000000</td>\n",
       "    </tr>\n",
       "    <tr>\n",
       "      <th>35</th>\n",
       "      <td>M</td>\n",
       "      <td>Leggings</td>\n",
       "      <td>0.000000</td>\n",
       "    </tr>\n",
       "    <tr>\n",
       "      <th>36</th>\n",
       "      <td>M</td>\n",
       "      <td>Maternity</td>\n",
       "      <td>0.000000</td>\n",
       "    </tr>\n",
       "    <tr>\n",
       "      <th>39</th>\n",
       "      <td>M</td>\n",
       "      <td>Pants &amp; Capris</td>\n",
       "      <td>0.000000</td>\n",
       "    </tr>\n",
       "    <tr>\n",
       "      <th>40</th>\n",
       "      <td>M</td>\n",
       "      <td>Plus</td>\n",
       "      <td>0.000000</td>\n",
       "    </tr>\n",
       "    <tr>\n",
       "      <th>42</th>\n",
       "      <td>M</td>\n",
       "      <td>Skirts</td>\n",
       "      <td>0.000000</td>\n",
       "    </tr>\n",
       "    <tr>\n",
       "      <th>45</th>\n",
       "      <td>M</td>\n",
       "      <td>Socks &amp; Hosiery</td>\n",
       "      <td>0.000000</td>\n",
       "    </tr>\n",
       "    <tr>\n",
       "      <th>46</th>\n",
       "      <td>M</td>\n",
       "      <td>Suits</td>\n",
       "      <td>0.000000</td>\n",
       "    </tr>\n",
       "    <tr>\n",
       "      <th>6</th>\n",
       "      <td>F</td>\n",
       "      <td>Intimates</td>\n",
       "      <td>14.702222</td>\n",
       "    </tr>\n",
       "    <tr>\n",
       "      <th>4</th>\n",
       "      <td>F</td>\n",
       "      <td>Dresses</td>\n",
       "      <td>6.018653</td>\n",
       "    </tr>\n",
       "    <tr>\n",
       "      <th>10</th>\n",
       "      <td>F</td>\n",
       "      <td>Maternity</td>\n",
       "      <td>5.670833</td>\n",
       "    </tr>\n",
       "    <tr>\n",
       "      <th>23</th>\n",
       "      <td>F</td>\n",
       "      <td>Swim</td>\n",
       "      <td>5.531022</td>\n",
       "    </tr>\n",
       "    <tr>\n",
       "      <th>5</th>\n",
       "      <td>F</td>\n",
       "      <td>Fashion Hoodies &amp; Sweatshirts</td>\n",
       "      <td>5.505447</td>\n",
       "    </tr>\n",
       "    <tr>\n",
       "      <th>7</th>\n",
       "      <td>F</td>\n",
       "      <td>Jeans</td>\n",
       "      <td>5.498627</td>\n",
       "    </tr>\n",
       "    <tr>\n",
       "      <th>17</th>\n",
       "      <td>F</td>\n",
       "      <td>Sleep &amp; Lounge</td>\n",
       "      <td>5.244582</td>\n",
       "    </tr>\n",
       "    <tr>\n",
       "      <th>15</th>\n",
       "      <td>F</td>\n",
       "      <td>Shorts</td>\n",
       "      <td>5.075787</td>\n",
       "    </tr>\n",
       "    <tr>\n",
       "      <th>24</th>\n",
       "      <td>F</td>\n",
       "      <td>Tops &amp; Tees</td>\n",
       "      <td>4.842202</td>\n",
       "    </tr>\n",
       "    <tr>\n",
       "      <th>14</th>\n",
       "      <td>F</td>\n",
       "      <td>Plus</td>\n",
       "      <td>4.774002</td>\n",
       "    </tr>\n",
       "    <tr>\n",
       "      <th>22</th>\n",
       "      <td>F</td>\n",
       "      <td>Sweaters</td>\n",
       "      <td>4.726262</td>\n",
       "    </tr>\n",
       "    <tr>\n",
       "      <th>0</th>\n",
       "      <td>F</td>\n",
       "      <td>Accessories</td>\n",
       "      <td>4.685342</td>\n",
       "    </tr>\n",
       "    <tr>\n",
       "      <th>1</th>\n",
       "      <td>F</td>\n",
       "      <td>Active</td>\n",
       "      <td>4.300012</td>\n",
       "    </tr>\n",
       "    <tr>\n",
       "      <th>19</th>\n",
       "      <td>F</td>\n",
       "      <td>Socks &amp; Hosiery</td>\n",
       "      <td>4.163612</td>\n",
       "    </tr>\n",
       "    <tr>\n",
       "      <th>11</th>\n",
       "      <td>F</td>\n",
       "      <td>Outerwear &amp; Coats</td>\n",
       "      <td>3.790217</td>\n",
       "    </tr>\n",
       "    <tr>\n",
       "      <th>13</th>\n",
       "      <td>F</td>\n",
       "      <td>Pants &amp; Capris</td>\n",
       "      <td>3.701557</td>\n",
       "    </tr>\n",
       "    <tr>\n",
       "      <th>9</th>\n",
       "      <td>F</td>\n",
       "      <td>Leggings</td>\n",
       "      <td>3.532762</td>\n",
       "    </tr>\n",
       "    <tr>\n",
       "      <th>2</th>\n",
       "      <td>F</td>\n",
       "      <td>Blazers &amp; Jackets</td>\n",
       "      <td>3.531057</td>\n",
       "    </tr>\n",
       "    <tr>\n",
       "      <th>16</th>\n",
       "      <td>F</td>\n",
       "      <td>Skirts</td>\n",
       "      <td>2.356311</td>\n",
       "    </tr>\n",
       "    <tr>\n",
       "      <th>20</th>\n",
       "      <td>F</td>\n",
       "      <td>Suits</td>\n",
       "      <td>1.104840</td>\n",
       "    </tr>\n",
       "    <tr>\n",
       "      <th>8</th>\n",
       "      <td>F</td>\n",
       "      <td>Jumpsuits &amp; Rompers</td>\n",
       "      <td>1.009360</td>\n",
       "    </tr>\n",
       "    <tr>\n",
       "      <th>3</th>\n",
       "      <td>F</td>\n",
       "      <td>Clothing Sets</td>\n",
       "      <td>0.235290</td>\n",
       "    </tr>\n",
       "    <tr>\n",
       "      <th>12</th>\n",
       "      <td>F</td>\n",
       "      <td>Pants</td>\n",
       "      <td>0.000000</td>\n",
       "    </tr>\n",
       "    <tr>\n",
       "      <th>18</th>\n",
       "      <td>F</td>\n",
       "      <td>Socks</td>\n",
       "      <td>0.000000</td>\n",
       "    </tr>\n",
       "    <tr>\n",
       "      <th>21</th>\n",
       "      <td>F</td>\n",
       "      <td>Suits &amp; Sport Coats</td>\n",
       "      <td>0.000000</td>\n",
       "    </tr>\n",
       "    <tr>\n",
       "      <th>25</th>\n",
       "      <td>F</td>\n",
       "      <td>Underwear</td>\n",
       "      <td>0.000000</td>\n",
       "    </tr>\n",
       "  </tbody>\n",
       "</table>\n",
       "</div>"
      ],
      "text/plain": [
       "   gender                       category  order_item_id\n",
       "33      M                          Jeans       8.530863\n",
       "50      M                    Tops & Tees       8.321915\n",
       "51      M                      Underwear       8.279098\n",
       "38      M                          Pants       8.070151\n",
       "48      M                       Sweaters       7.564911\n",
       "31      M  Fashion Hoodies & Sweatshirts       7.530657\n",
       "49      M                           Swim       7.085360\n",
       "41      M                         Shorts       7.076797\n",
       "43      M                 Sleep & Lounge       7.039118\n",
       "44      M                          Socks       7.015140\n",
       "26      M                    Accessories       6.117695\n",
       "37      M              Outerwear & Coats       6.037199\n",
       "47      M            Suits & Sport Coats       5.667260\n",
       "27      M                         Active       5.663835\n",
       "28      M              Blazers & Jackets       0.000000\n",
       "29      M                  Clothing Sets       0.000000\n",
       "30      M                        Dresses       0.000000\n",
       "32      M                      Intimates       0.000000\n",
       "34      M            Jumpsuits & Rompers       0.000000\n",
       "35      M                       Leggings       0.000000\n",
       "36      M                      Maternity       0.000000\n",
       "39      M                 Pants & Capris       0.000000\n",
       "40      M                           Plus       0.000000\n",
       "42      M                         Skirts       0.000000\n",
       "45      M                Socks & Hosiery       0.000000\n",
       "46      M                          Suits       0.000000\n",
       "6       F                      Intimates      14.702222\n",
       "4       F                        Dresses       6.018653\n",
       "10      F                      Maternity       5.670833\n",
       "23      F                           Swim       5.531022\n",
       "5       F  Fashion Hoodies & Sweatshirts       5.505447\n",
       "7       F                          Jeans       5.498627\n",
       "17      F                 Sleep & Lounge       5.244582\n",
       "15      F                         Shorts       5.075787\n",
       "24      F                    Tops & Tees       4.842202\n",
       "14      F                           Plus       4.774002\n",
       "22      F                       Sweaters       4.726262\n",
       "0       F                    Accessories       4.685342\n",
       "1       F                         Active       4.300012\n",
       "19      F                Socks & Hosiery       4.163612\n",
       "11      F              Outerwear & Coats       3.790217\n",
       "13      F                 Pants & Capris       3.701557\n",
       "9       F                       Leggings       3.532762\n",
       "2       F              Blazers & Jackets       3.531057\n",
       "16      F                         Skirts       2.356311\n",
       "20      F                          Suits       1.104840\n",
       "8       F            Jumpsuits & Rompers       1.009360\n",
       "3       F                  Clothing Sets       0.235290\n",
       "12      F                          Pants       0.000000\n",
       "18      F                          Socks       0.000000\n",
       "21      F            Suits & Sport Coats       0.000000\n",
       "25      F                      Underwear       0.000000"
      ]
     },
     "execution_count": 73,
     "metadata": {},
     "output_type": "execute_result"
    }
   ],
   "source": [
    "(full_df.groupby(['gender', 'category'])['order_item_id'].count()/\n",
    " full_df.groupby(['gender'])['order_item_id'].count() *100).reset_index().sort_values(['gender', 'order_item_id'], ascending=False)"
   ]
  },
  {
   "cell_type": "code",
   "execution_count": 75,
   "metadata": {},
   "outputs": [
    {
     "data": {
      "text/html": [
       "<div>\n",
       "<style scoped>\n",
       "    .dataframe tbody tr th:only-of-type {\n",
       "        vertical-align: middle;\n",
       "    }\n",
       "\n",
       "    .dataframe tbody tr th {\n",
       "        vertical-align: top;\n",
       "    }\n",
       "\n",
       "    .dataframe thead th {\n",
       "        text-align: right;\n",
       "    }\n",
       "</style>\n",
       "<table border=\"1\" class=\"dataframe\">\n",
       "  <thead>\n",
       "    <tr style=\"text-align: right;\">\n",
       "      <th></th>\n",
       "      <th>110</th>\n",
       "      <th>111</th>\n",
       "      <th>128</th>\n",
       "      <th>109</th>\n",
       "      <th>127</th>\n",
       "      <th>126</th>\n",
       "      <th>119</th>\n",
       "      <th>121</th>\n",
       "      <th>104</th>\n",
       "      <th>105</th>\n",
       "      <th>...</th>\n",
       "      <th>21</th>\n",
       "      <th>14</th>\n",
       "      <th>13</th>\n",
       "      <th>2</th>\n",
       "      <th>19</th>\n",
       "      <th>9</th>\n",
       "      <th>16</th>\n",
       "      <th>20</th>\n",
       "      <th>8</th>\n",
       "      <th>3</th>\n",
       "    </tr>\n",
       "  </thead>\n",
       "  <tbody>\n",
       "    <tr>\n",
       "      <th>user_traffic_source</th>\n",
       "      <td>Search</td>\n",
       "      <td>Search</td>\n",
       "      <td>Search</td>\n",
       "      <td>Search</td>\n",
       "      <td>Search</td>\n",
       "      <td>Search</td>\n",
       "      <td>Search</td>\n",
       "      <td>Search</td>\n",
       "      <td>Search</td>\n",
       "      <td>Search</td>\n",
       "      <td>...</td>\n",
       "      <td>Display</td>\n",
       "      <td>Display</td>\n",
       "      <td>Display</td>\n",
       "      <td>Display</td>\n",
       "      <td>Display</td>\n",
       "      <td>Display</td>\n",
       "      <td>Display</td>\n",
       "      <td>Display</td>\n",
       "      <td>Display</td>\n",
       "      <td>Display</td>\n",
       "    </tr>\n",
       "    <tr>\n",
       "      <th>category</th>\n",
       "      <td>Intimates</td>\n",
       "      <td>Jeans</td>\n",
       "      <td>Tops &amp; Tees</td>\n",
       "      <td>Fashion Hoodies &amp; Sweatshirts</td>\n",
       "      <td>Swim</td>\n",
       "      <td>Sweaters</td>\n",
       "      <td>Shorts</td>\n",
       "      <td>Sleep &amp; Lounge</td>\n",
       "      <td>Accessories</td>\n",
       "      <td>Active</td>\n",
       "      <td>...</td>\n",
       "      <td>Suits &amp; Sport Coats</td>\n",
       "      <td>Plus</td>\n",
       "      <td>Pants &amp; Capris</td>\n",
       "      <td>Blazers &amp; Jackets</td>\n",
       "      <td>Socks &amp; Hosiery</td>\n",
       "      <td>Leggings</td>\n",
       "      <td>Skirts</td>\n",
       "      <td>Suits</td>\n",
       "      <td>Jumpsuits &amp; Rompers</td>\n",
       "      <td>Clothing Sets</td>\n",
       "    </tr>\n",
       "    <tr>\n",
       "      <th>order_item_id</th>\n",
       "      <td>7.489547</td>\n",
       "      <td>7.009072</td>\n",
       "      <td>6.560383</td>\n",
       "      <td>6.535932</td>\n",
       "      <td>6.296305</td>\n",
       "      <td>6.145928</td>\n",
       "      <td>6.127589</td>\n",
       "      <td>6.125144</td>\n",
       "      <td>5.407487</td>\n",
       "      <td>4.962467</td>\n",
       "      <td>...</td>\n",
       "      <td>2.542551</td>\n",
       "      <td>2.416474</td>\n",
       "      <td>2.248372</td>\n",
       "      <td>1.975205</td>\n",
       "      <td>1.807102</td>\n",
       "      <td>1.723051</td>\n",
       "      <td>0.987602</td>\n",
       "      <td>0.546333</td>\n",
       "      <td>0.357218</td>\n",
       "      <td>0.14709</td>\n",
       "    </tr>\n",
       "  </tbody>\n",
       "</table>\n",
       "<p>3 rows × 130 columns</p>\n",
       "</div>"
      ],
      "text/plain": [
       "                           110       111          128  \\\n",
       "user_traffic_source     Search    Search       Search   \n",
       "category             Intimates     Jeans  Tops & Tees   \n",
       "order_item_id         7.489547  7.009072     6.560383   \n",
       "\n",
       "                                               109       127       126  \\\n",
       "user_traffic_source                         Search    Search    Search   \n",
       "category             Fashion Hoodies & Sweatshirts      Swim  Sweaters   \n",
       "order_item_id                             6.535932  6.296305  6.145928   \n",
       "\n",
       "                          119             121          104       105  ...  \\\n",
       "user_traffic_source    Search          Search       Search    Search  ...   \n",
       "category               Shorts  Sleep & Lounge  Accessories    Active  ...   \n",
       "order_item_id        6.127589        6.125144     5.407487  4.962467  ...   \n",
       "\n",
       "                                     21        14              13   \\\n",
       "user_traffic_source              Display   Display         Display   \n",
       "category             Suits & Sport Coats      Plus  Pants & Capris   \n",
       "order_item_id                   2.542551  2.416474        2.248372   \n",
       "\n",
       "                                   2                19        9         16   \\\n",
       "user_traffic_source            Display          Display   Display   Display   \n",
       "category             Blazers & Jackets  Socks & Hosiery  Leggings    Skirts   \n",
       "order_item_id                 1.975205         1.807102  1.723051  0.987602   \n",
       "\n",
       "                          20                   8              3    \n",
       "user_traffic_source   Display              Display        Display  \n",
       "category                Suits  Jumpsuits & Rompers  Clothing Sets  \n",
       "order_item_id        0.546333             0.357218        0.14709  \n",
       "\n",
       "[3 rows x 130 columns]"
      ]
     },
     "execution_count": 75,
     "metadata": {},
     "output_type": "execute_result"
    }
   ],
   "source": [
    "(full_df.groupby(['user_traffic_source', 'category'])['order_item_id'].count()/\n",
    " full_df.groupby(['user_traffic_source'])['order_item_id'].count() *100).reset_index().sort_values(['user_traffic_source', 'order_item_id'], ascending=False).T"
   ]
  },
  {
   "cell_type": "markdown",
   "metadata": {},
   "source": [
    "# 함수"
   ]
  },
  {
   "cell_type": "code",
   "execution_count": 12,
   "metadata": {},
   "outputs": [],
   "source": [
    "# def feature_compare(col:str, df:pd.DataFrame=full_df, large_n=5):\n",
    "#     df2 = df.copy()\n",
    "#     col_category_count = df2.groupby([col, 'category'])['order_item_id'].count()\n",
    "#     category_total = df2.groupby([col])['order_item_id'].count()\n",
    "#     result = (col_category_count/category_total * 100).groupby(col).nlargest(large_n)\n",
    "    \n",
    "#     return result.reset_index(level=0, drop=True)\n",
    "\n",
    "#뤼튼 추천 방식\n",
    "def feature_compare(col:str, df:pd.DataFrame=full_df, large_n=5):\n",
    "    df2 = df.copy()\n",
    "    col_category_count = df2.groupby([col, 'category'])['order_item_id'].count()\n",
    "    category_total = df2.groupby([col])['order_item_id'].count()\n",
    "    result = (col_category_count/category_total * 100).groupby(level=0).nlargest(large_n).reset_index(level=0, drop=True)\n",
    "    \n",
    "    return result"
   ]
  },
  {
   "cell_type": "code",
   "execution_count": 28,
   "metadata": {},
   "outputs": [],
   "source": [
    "def featrue_compare2(col:str, df:pd.DataFrame=full_df, large_n=5):\n",
    "    result_series = feature_compare(col=col, df=df, large_n=large_n)\n",
    "    top_cat_list = result_series.reset_index(level=0, drop=True).index.tolist()\n",
    "    chunks = [top_cat_list[i:i + 5] for i in range(0, len(top_cat_list), 5)]\n",
    "    for chunk in chunks:\n",
    "        print(chunk)"
   ]
  },
  {
   "cell_type": "code",
   "execution_count": 36,
   "metadata": {},
   "outputs": [
    {
     "data": {
      "text/plain": [
       "gender  category                     \n",
       "F       Intimates                        14.702222\n",
       "        Dresses                           6.018653\n",
       "        Maternity                         5.670833\n",
       "        Swim                              5.531022\n",
       "        Fashion Hoodies & Sweatshirts     5.505447\n",
       "        Jeans                             5.498627\n",
       "        Sleep & Lounge                    5.244582\n",
       "        Shorts                            5.075787\n",
       "        Tops & Tees                       4.842202\n",
       "        Plus                              4.774002\n",
       "M       Jeans                             8.530863\n",
       "        Tops & Tees                       8.321915\n",
       "        Underwear                         8.279098\n",
       "        Pants                             8.070151\n",
       "        Sweaters                          7.564911\n",
       "        Fashion Hoodies & Sweatshirts     7.530657\n",
       "        Swim                              7.085360\n",
       "        Shorts                            7.076797\n",
       "        Sleep & Lounge                    7.039118\n",
       "        Socks                             7.015140\n",
       "Name: order_item_id, dtype: float64"
      ]
     },
     "execution_count": 36,
     "metadata": {},
     "output_type": "execute_result"
    }
   ],
   "source": [
    "feature_compare('gender', large_n=10)"
   ]
  },
  {
   "cell_type": "code",
   "execution_count": 116,
   "metadata": {},
   "outputs": [
    {
     "data": {
      "text/plain": [
       "user_traffic_source  category                     \n",
       "Display              Intimates                        8.047909\n",
       "                     Jeans                            7.018281\n",
       "                     Tops & Tees                      6.976256\n",
       "                     Sweaters                         6.345871\n",
       "                     Sleep & Lounge                   6.324858\n",
       "Email                Jeans                            7.351952\n",
       "                     Intimates                        7.082773\n",
       "                     Swim                             6.813594\n",
       "                     Tops & Tees                      6.662180\n",
       "                     Fashion Hoodies & Sweatshirts    6.275236\n",
       "Facebook             Jeans                            7.017024\n",
       "                     Fashion Hoodies & Sweatshirts    6.854182\n",
       "                     Sleep & Lounge                   6.824574\n",
       "                     Tops & Tees                      6.750555\n",
       "                     Intimates                        6.513694\n",
       "Organic              Intimates                        7.044471\n",
       "                     Jeans                            6.903919\n",
       "                     Fashion Hoodies & Sweatshirts    6.577838\n",
       "                     Tops & Tees                      6.459774\n",
       "                     Swim                             6.414797\n",
       "Search               Intimates                        7.489547\n",
       "                     Jeans                            7.009072\n",
       "                     Tops & Tees                      6.560383\n",
       "                     Fashion Hoodies & Sweatshirts    6.535932\n",
       "                     Swim                             6.296305\n",
       "Name: order_item_id, dtype: float64"
      ]
     },
     "execution_count": 116,
     "metadata": {},
     "output_type": "execute_result"
    }
   ],
   "source": [
    "feature_compare('user_traffic_source')"
   ]
  },
  {
   "cell_type": "code",
   "execution_count": 30,
   "metadata": {},
   "outputs": [
    {
     "data": {
      "text/plain": [
       "age_range  category                     \n",
       "10대        Intimates                        7.323120\n",
       "           Jeans                            6.960778\n",
       "           Fashion Hoodies & Sweatshirts    6.693789\n",
       "           Tops & Tees                      6.229737\n",
       "           Swim                             6.210667\n",
       "20대        Intimates                        7.385960\n",
       "           Jeans                            7.157371\n",
       "           Fashion Hoodies & Sweatshirts    6.547800\n",
       "           Swim                             6.542721\n",
       "           Tops & Tees                      6.441126\n",
       "30대        Intimates                        7.232863\n",
       "           Jeans                            7.121976\n",
       "           Tops & Tees                      6.552419\n",
       "           Fashion Hoodies & Sweatshirts    6.522177\n",
       "           Swim                             6.471774\n",
       "40대        Intimates                        7.498999\n",
       "           Jeans                            6.728074\n",
       "           Tops & Tees                      6.407689\n",
       "           Fashion Hoodies & Sweatshirts    6.367641\n",
       "           Swim                             6.297557\n",
       "50대        Intimates                        7.414649\n",
       "           Jeans                            6.893267\n",
       "           Tops & Tees                      6.782975\n",
       "           Fashion Hoodies & Sweatshirts    6.472151\n",
       "           Sleep & Lounge                   6.156314\n",
       "60대        Intimates                        7.346259\n",
       "           Jeans                            7.154398\n",
       "           Tops & Tees                      6.917096\n",
       "           Fashion Hoodies & Sweatshirts    6.578815\n",
       "           Sleep & Lounge                   6.245582\n",
       "70대        Jeans                            7.452509\n",
       "           Sweaters                         7.452509\n",
       "           Intimates                        7.306381\n",
       "           Tops & Tees                      7.208962\n",
       "           Swim                             6.867998\n",
       "Name: order_item_id, dtype: float64"
      ]
     },
     "execution_count": 30,
     "metadata": {},
     "output_type": "execute_result"
    }
   ],
   "source": [
    "feature_compare('age_range')"
   ]
  },
  {
   "cell_type": "code",
   "execution_count": 29,
   "metadata": {},
   "outputs": [
    {
     "name": "stdout",
     "output_type": "stream",
     "text": [
      "['Intimates', 'Jeans', 'Tops & Tees', 'Sweaters', 'Sleep & Lounge']\n",
      "['Jeans', 'Intimates', 'Swim', 'Tops & Tees', 'Fashion Hoodies & Sweatshirts']\n",
      "['Jeans', 'Fashion Hoodies & Sweatshirts', 'Sleep & Lounge', 'Tops & Tees', 'Intimates']\n",
      "['Intimates', 'Jeans', 'Fashion Hoodies & Sweatshirts', 'Tops & Tees', 'Swim']\n",
      "['Intimates', 'Jeans', 'Tops & Tees', 'Fashion Hoodies & Sweatshirts', 'Swim']\n"
     ]
    }
   ],
   "source": [
    "featrue_compare2('user_traffic_source')"
   ]
  },
  {
   "cell_type": "code",
   "execution_count": 31,
   "metadata": {},
   "outputs": [
    {
     "name": "stdout",
     "output_type": "stream",
     "text": [
      "['Intimates', 'Jeans', 'Fashion Hoodies & Sweatshirts', 'Tops & Tees', 'Swim']\n",
      "['Intimates', 'Jeans', 'Fashion Hoodies & Sweatshirts', 'Swim', 'Tops & Tees']\n",
      "['Intimates', 'Jeans', 'Tops & Tees', 'Fashion Hoodies & Sweatshirts', 'Swim']\n",
      "['Intimates', 'Jeans', 'Tops & Tees', 'Fashion Hoodies & Sweatshirts', 'Swim']\n",
      "['Intimates', 'Jeans', 'Tops & Tees', 'Fashion Hoodies & Sweatshirts', 'Sleep & Lounge']\n",
      "['Intimates', 'Jeans', 'Tops & Tees', 'Fashion Hoodies & Sweatshirts', 'Sleep & Lounge']\n",
      "['Jeans', 'Sweaters', 'Intimates', 'Tops & Tees', 'Swim']\n"
     ]
    }
   ],
   "source": [
    "featrue_compare2('age_range')"
   ]
  },
  {
   "cell_type": "code",
   "execution_count": 33,
   "metadata": {},
   "outputs": [
    {
     "data": {
      "text/plain": [
       "gender  category                     \n",
       "F       Intimates                        14.702222\n",
       "        Dresses                           6.018653\n",
       "        Maternity                         5.670833\n",
       "        Swim                              5.531022\n",
       "        Fashion Hoodies & Sweatshirts     5.505447\n",
       "        Jeans                             5.498627\n",
       "        Sleep & Lounge                    5.244582\n",
       "        Shorts                            5.075787\n",
       "        Tops & Tees                       4.842202\n",
       "        Plus                              4.774002\n",
       "M       Jeans                             8.530863\n",
       "        Tops & Tees                       8.321915\n",
       "        Underwear                         8.279098\n",
       "        Pants                             8.070151\n",
       "        Sweaters                          7.564911\n",
       "        Fashion Hoodies & Sweatshirts     7.530657\n",
       "        Swim                              7.085360\n",
       "        Shorts                            7.076797\n",
       "        Sleep & Lounge                    7.039118\n",
       "        Socks                             7.015140\n",
       "Name: order_item_id, dtype: float64"
      ]
     },
     "execution_count": 33,
     "metadata": {},
     "output_type": "execute_result"
    }
   ],
   "source": [
    "feature_compare('gender', large_n=10)"
   ]
  }
 ],
 "metadata": {
  "kernelspec": {
   "display_name": "Python 3",
   "language": "python",
   "name": "python3"
  },
  "language_info": {
   "codemirror_mode": {
    "name": "ipython",
    "version": 3
   },
   "file_extension": ".py",
   "mimetype": "text/x-python",
   "name": "python",
   "nbconvert_exporter": "python",
   "pygments_lexer": "ipython3",
   "version": "3.8.6"
  }
 },
 "nbformat": 4,
 "nbformat_minor": 2
}
