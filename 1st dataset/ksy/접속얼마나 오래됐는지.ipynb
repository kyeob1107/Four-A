{
 "cells": [
  {
   "cell_type": "code",
   "execution_count": 1,
   "metadata": {},
   "outputs": [],
   "source": [
    "import pandas as pd\n",
    "\n",
    "distribution_centers = pd.read_parquet('../dataset/Looker Ecommerce BigQuery Dataset/Optimization/distribution_centers_optimized.parquet')\n",
    "inventory_items = pd.read_parquet('../dataset/Looker Ecommerce BigQuery Dataset/Optimization/inventory_items_optimized.parquet')\n",
    "orders = pd.read_parquet('../dataset/Looker Ecommerce BigQuery Dataset/Optimization/orders_optimized.parquet')\n",
    "order_items = pd.read_parquet('../dataset/Looker Ecommerce BigQuery Dataset/Optimization/order_items_optimized.parquet')\n",
    "products = pd.read_parquet('../dataset/Looker Ecommerce BigQuery Dataset/Optimization/products_optimized.parquet')\n",
    "users = pd.read_parquet('../dataset/Looker Ecommerce BigQuery Dataset/Optimization/users_optimized.parquet')\n",
    "# events1 = pd.read_parquet(\"../dataset/Looker Ecommerce BigQuery Dataset/Optimization/events_optimized_divided1.parquet\")\n",
    "# events2 = pd.read_parquet(\"../dataset/Looker Ecommerce BigQuery Dataset/Optimization/events_optimized_divided2.parquet\")\n",
    "# events = pd.concat([events1, events2]).sort_index()\n",
    "def events_read():    \n",
    "    events1 = pd.read_parquet(\"../dataset/Looker Ecommerce BigQuery Dataset/Optimization/events_optimized_divided1.parquet\")\n",
    "    events2 = pd.read_parquet(\"../dataset/Looker Ecommerce BigQuery Dataset/Optimization/events_optimized_divided2.parquet\")\n",
    "    events = pd.concat([events1, events2]).sort_index()\n",
    "    return events\n",
    "events = events_read()"
   ]
  },
  {
   "cell_type": "markdown",
   "metadata": {},
   "source": [
    "# 1"
   ]
  },
  {
   "cell_type": "code",
   "execution_count": 19,
   "metadata": {},
   "outputs": [
    {
     "data": {
      "text/plain": [
       "Timestamp('2023-11-30 23:59:32+0000', tz='UTC')"
      ]
     },
     "execution_count": 19,
     "metadata": {},
     "output_type": "execute_result"
    }
   ],
   "source": [
    "events[events['event_created_at'] < \"2023-12-01\"]['event_created_at'].max()"
   ]
  },
  {
   "cell_type": "code",
   "execution_count": 18,
   "metadata": {},
   "outputs": [
    {
     "data": {
      "text/plain": [
       "Timestamp('2023-11-30 23:58:54+0000', tz='UTC')"
      ]
     },
     "execution_count": 18,
     "metadata": {},
     "output_type": "execute_result"
    }
   ],
   "source": [
    "order_items[(order_items['status']!=\"Returned\") & (order_items['status'] != \"Cancelled\") & (order_items['created_at'] < \"2023-12-01\")]['created_at'].max()"
   ]
  },
  {
   "cell_type": "code",
   "execution_count": 5,
   "metadata": {},
   "outputs": [
    {
     "data": {
      "text/plain": [
       "2431963"
      ]
     },
     "execution_count": 5,
     "metadata": {},
     "output_type": "execute_result"
    }
   ],
   "source": [
    "len(events)"
   ]
  },
  {
   "cell_type": "code",
   "execution_count": 14,
   "metadata": {},
   "outputs": [
    {
     "data": {
      "text/plain": [
       "['cancel', 'cart', 'department', 'home', 'product', 'purchase']\n",
       "Categories (6, object): ['cancel', 'cart', 'department', 'home', 'product', 'purchase']"
      ]
     },
     "execution_count": 14,
     "metadata": {},
     "output_type": "execute_result"
    }
   ],
   "source": [
    "events['event_type'].unique()"
   ]
  },
  {
   "cell_type": "code",
   "execution_count": 15,
   "metadata": {},
   "outputs": [
    {
     "data": {
      "text/plain": [
       "<IntegerArray>\n",
       "[13199, 46234, 65826,   676, 93722, 98402,  9787, 11679,  7681, 79605,\n",
       " ...\n",
       " 81639, 47458,  8514, 43595, 26739, 10798, 49358,  1303, 76896, 82709]\n",
       "Length: 40977, dtype: Int32"
      ]
     },
     "execution_count": 15,
     "metadata": {},
     "output_type": "execute_result"
    }
   ],
   "source": [
    "(events[(events['event_created_at'] > (events['event_created_at'].max() - pd.Timedelta(days=270)))]\n",
    " .dropna(subset='user_id')['user_id'].unique())"
   ]
  },
  {
   "cell_type": "code",
   "execution_count": 9,
   "metadata": {},
   "outputs": [
    {
     "data": {
      "text/plain": [
       "<IntegerArray>\n",
       "[  457,  6578, 36280, 60193, 64231, 72187, 22528, 34417, 50098, 63352,\n",
       " ...\n",
       " 82576, 97115, 17254, 92296, 96127, 93247, 59110, 57045, 73312, 77764]\n",
       "Length: 100000, dtype: Int32"
      ]
     },
     "execution_count": 9,
     "metadata": {},
     "output_type": "execute_result"
    }
   ],
   "source": [
    "users['user_id'].unique()"
   ]
  },
  {
   "cell_type": "code",
   "execution_count": 13,
   "metadata": {},
   "outputs": [
    {
     "data": {
      "text/plain": [
       "<IntegerArray>\n",
       "[22551, 28215, 20165, 71954, 84693, 37023, 63821, 15553, 38312, 30232,\n",
       " ...\n",
       " 35802, 44829, 47334, 47747, 47864, 48532, 59868, 60511, 62277, 20434]\n",
       "Length: 66254, dtype: Int32"
      ]
     },
     "execution_count": 13,
     "metadata": {},
     "output_type": "execute_result"
    }
   ],
   "source": [
    "order_items[~order_items['status'].isin([\"Returned\", \"Cancelled\"])]['user_id'].unique()"
   ]
  },
  {
   "cell_type": "code",
   "execution_count": 12,
   "metadata": {},
   "outputs": [
    {
     "data": {
      "text/plain": [
       "<IntegerArray>\n",
       "[22551, 71954, 84693, 37023, 63821, 15553, 30232, 53552, 64053, 41873,\n",
       " ...\n",
       " 19187, 26113, 35802, 44829, 47334, 47747, 47864, 60511, 62277, 20434]\n",
       "Length: 58464, dtype: Int32"
      ]
     },
     "execution_count": 12,
     "metadata": {},
     "output_type": "execute_result"
    }
   ],
   "source": [
    "order_items[(order_items['created_at'] < '2023-12-01')&(~order_items['status'].isin([\"Returned\", \"Cancelled\"]))]['user_id'].unique()"
   ]
  },
  {
   "cell_type": "code",
   "execution_count": 16,
   "metadata": {},
   "outputs": [
    {
     "data": {
      "text/plain": [
       "<IntegerArray>\n",
       "[46234, 65826,   676, 98402,  9787, 11679,  7681, 79605, 15771, 92473,\n",
       " ...\n",
       " 61691, 67996, 28195, 47458, 43595, 26739, 10798,  1303, 76896, 82709]\n",
       "Length: 26798, dtype: Int32"
      ]
     },
     "execution_count": 16,
     "metadata": {},
     "output_type": "execute_result"
    }
   ],
   "source": [
    "(events[(events['event_created_at'] > (events['event_created_at'].max() - pd.Timedelta(days=270)))].dropna(subset='user_id')\n",
    " .merge(order_items[(order_items['created_at'] < '2023-12-01')&(~order_items['status'].isin([\"Returned\", \"Cancelled\"]))], \n",
    "        on='user_id', how='inner'))['user_id'].unique()"
   ]
  },
  {
   "cell_type": "code",
   "execution_count": null,
   "metadata": {},
   "outputs": [],
   "source": [
    "#1~270: recent\n",
    "#271~ : e^recent"
   ]
  },
  {
   "cell_type": "code",
   "execution_count": 23,
   "metadata": {},
   "outputs": [
    {
     "name": "stdout",
     "output_type": "stream",
     "text": [
      "True\n",
      "4.940883294133372e+117\n"
     ]
    }
   ],
   "source": [
    "import numpy as np\n",
    "print(271 < np.exp(271))\n",
    "print(np.exp(271))"
   ]
  },
  {
   "cell_type": "code",
   "execution_count": 28,
   "metadata": {},
   "outputs": [
    {
     "name": "stdout",
     "output_type": "stream",
     "text": [
      "2710\n"
     ]
    }
   ],
   "source": [
    "print(10*271)"
   ]
  },
  {
   "cell_type": "code",
   "execution_count": 30,
   "metadata": {},
   "outputs": [
    {
     "name": "stdout",
     "output_type": "stream",
     "text": [
      "280.10594104398507\n",
      "358.5059771724814\n"
     ]
    }
   ],
   "source": [
    "print(50*np.log(271))\n",
    "print(50*np.log(1300))"
   ]
  },
  {
   "cell_type": "code",
   "execution_count": 47,
   "metadata": {},
   "outputs": [
    {
     "name": "stdout",
     "output_type": "stream",
     "text": [
      "277.38905609893067\n",
      "1598.5690798827952\n"
     ]
    }
   ],
   "source": [
    "print(270 + np.exp(1+1))\n",
    "print(270 + (1.007)**(1+(1300-270)))"
   ]
  },
  {
   "cell_type": "markdown",
   "metadata": {},
   "source": [
    "frequency 1~4 + (1~7) = 2~11  X/(Max-min)  2/9~11/9     \n",
    "recentry 1~1300         1~10        \n",
    "momentary 1_000~500_000 2500000 /100000"
   ]
  },
  {
   "cell_type": "code",
   "execution_count": 51,
   "metadata": {},
   "outputs": [
    {
     "data": {
      "text/plain": [
       "14"
      ]
     },
     "execution_count": 51,
     "metadata": {},
     "output_type": "execute_result"
    }
   ],
   "source": [
    "order_items.groupby('user_id')['product_id'].count().max()"
   ]
  },
  {
   "cell_type": "code",
   "execution_count": null,
   "metadata": {},
   "outputs": [],
   "source": [
    "import numpy as np\n",
    "\n",
    "# 이부분 상의 앞에 RFM한 부분만 따로 보관해둘지?\n",
    "\n",
    "# GKSMS QJQ 방법론을 이용하여 각 고객의 CLV 계산\n",
    "rfm = rfm.assign(G=rfm['monetary'])  # 과거 고객 가치 (Monetary를 사용)\n",
    "# rfm_data = rfm[['user_id', 'monetary']].copy().rename(columns={'monetary': 'G'})  # 과거 고객 가치 (Monetary를 사용)\n",
    "rfm = rfm.assign(K=rfm['monetary'] * rfm['frequency'])  # 현재 고객 가치\n",
    "rfm = rfm.assign(S=rfm['monetary'] * rfm['frequency'] / rfm['recency'])  # 잔존 고객 가치\n",
    "rfm = rfm.assign(M=np.log(rfm['frequency']) * rfm['monetary'])  # 모멘텀 고객 가치\n",
    "# rfm = rfm.assign(S=rfm['monetary'] * rfm['frequency'] / rfm['recency'])  # 소셜 고객 가치\n",
    "rfm = rfm.assign(Q=rfm['monetary'] / rfm['frequency'])  # 품질 고객 가치\n",
    "rfm = rfm.assign(J=rfm['monetary'] * np.log(rfm['recency']))  # 행동 고객 가치\n",
    "# rfm = rfm.assign(J=rfm['monetary'] / np.log(rfm['recency']))  # 행동 고객 가치"
   ]
  },
  {
   "cell_type": "markdown",
   "metadata": {},
   "source": [
    "# 2"
   ]
  },
  {
   "cell_type": "code",
   "execution_count": 4,
   "metadata": {},
   "outputs": [
    {
     "data": {
      "text/html": [
       "<div>\n",
       "<style scoped>\n",
       "    .dataframe tbody tr th:only-of-type {\n",
       "        vertical-align: middle;\n",
       "    }\n",
       "\n",
       "    .dataframe tbody tr th {\n",
       "        vertical-align: top;\n",
       "    }\n",
       "\n",
       "    .dataframe thead th {\n",
       "        text-align: right;\n",
       "    }\n",
       "</style>\n",
       "<table border=\"1\" class=\"dataframe\">\n",
       "  <thead>\n",
       "    <tr style=\"text-align: right;\">\n",
       "      <th></th>\n",
       "      <th>event_id</th>\n",
       "      <th>user_id</th>\n",
       "      <th>sequence_number</th>\n",
       "      <th>session_id</th>\n",
       "      <th>event_created_at</th>\n",
       "      <th>ip_address</th>\n",
       "      <th>city</th>\n",
       "      <th>state</th>\n",
       "      <th>postal_code</th>\n",
       "      <th>browser</th>\n",
       "      <th>event_traffic_source</th>\n",
       "      <th>uri</th>\n",
       "      <th>event_type</th>\n",
       "    </tr>\n",
       "  </thead>\n",
       "  <tbody>\n",
       "    <tr>\n",
       "      <th>2231787</th>\n",
       "      <td>35</td>\n",
       "      <td>2</td>\n",
       "      <td>5</td>\n",
       "      <td>0f79ab42-3110-471e-a6ff-268a08205ddd</td>\n",
       "      <td>2022-02-20 10:27:48+00:00</td>\n",
       "      <td>55.99.143.141</td>\n",
       "      <td>Franca</td>\n",
       "      <td>São Paulo</td>\n",
       "      <td>14404</td>\n",
       "      <td>Firefox</td>\n",
       "      <td>Email</td>\n",
       "      <td>/purchase</td>\n",
       "      <td>purchase</td>\n",
       "    </tr>\n",
       "  </tbody>\n",
       "</table>\n",
       "</div>"
      ],
      "text/plain": [
       "         event_id  user_id  sequence_number  \\\n",
       "2231787        35        2                5   \n",
       "\n",
       "                                   session_id          event_created_at  \\\n",
       "2231787  0f79ab42-3110-471e-a6ff-268a08205ddd 2022-02-20 10:27:48+00:00   \n",
       "\n",
       "            ip_address    city      state postal_code  browser  \\\n",
       "2231787  55.99.143.141  Franca  São Paulo       14404  Firefox   \n",
       "\n",
       "        event_traffic_source        uri event_type  \n",
       "2231787                Email  /purchase   purchase  "
      ]
     },
     "execution_count": 4,
     "metadata": {},
     "output_type": "execute_result"
    }
   ],
   "source": [
    "events[(events['user_id']==2)&(events['event_type']=='purchase')]"
   ]
  }
 ],
 "metadata": {
  "kernelspec": {
   "display_name": "Python 3",
   "language": "python",
   "name": "python3"
  },
  "language_info": {
   "codemirror_mode": {
    "name": "ipython",
    "version": 3
   },
   "file_extension": ".py",
   "mimetype": "text/x-python",
   "name": "python",
   "nbconvert_exporter": "python",
   "pygments_lexer": "ipython3",
   "version": "3.8.6"
  }
 },
 "nbformat": 4,
 "nbformat_minor": 2
}
